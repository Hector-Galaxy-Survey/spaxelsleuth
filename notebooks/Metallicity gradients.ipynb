{
 "cells": [
  {
   "cell_type": "markdown",
   "metadata": {},
   "source": [
    "# Metallicity gradients\n",
    "---\n",
    "- What we want:\n",
    "    - comparison of different binning techniques\n",
    "    - For each galaxy:\n",
    "        - plot showing metallicity as a function of radius \n",
    "            - how to determine x-axis errors? Henry doesn’t mention it in his 2021 paper…\n",
    "        - plot showing metallicity maps for all diagnostics \n",
    "        - comparison of all diagnostics"
   ]
  },
  {
   "cell_type": "code",
   "execution_count": 1,
   "metadata": {},
   "outputs": [],
   "source": [
    "%matplotlib widget"
   ]
  },
  {
   "cell_type": "code",
   "execution_count": 55,
   "metadata": {},
   "outputs": [],
   "source": [
    "# Imports\n",
    "import sys\n",
    "import os \n",
    "import numpy as np\n",
    "import pandas as pd\n",
    "\n",
    "from spaxelsleuth.loaddata.sami import load_sami_df\n",
    "from spaxelsleuth.plotting.sdssimg import plot_sdss_image\n",
    "from spaxelsleuth.plotting.plot2dmap import plot2dmap\n",
    "from spaxelsleuth.plotting.plotgalaxies import plot2dscatter\n",
    "\n",
    "import matplotlib.pyplot as plt\n",
    "plt.ion()\n",
    "plt.close(\"all\")"
   ]
  },
  {
   "cell_type": "code",
   "execution_count": 3,
   "metadata": {},
   "outputs": [],
   "source": [
    "# Parameters \n",
    "ncomponents = \"recom\"\n",
    "eline_SNR_min = 5\n",
    "DEBUG = False"
   ]
  },
  {
   "cell_type": "code",
   "execution_count": 4,
   "metadata": {},
   "outputs": [
    {
     "name": "stdout",
     "output_type": "stream",
     "text": [
      "In load_sami_df(): Loading DataFrame...\n",
      "In load_sami_df(): Finished!\n",
      "In load_sami_df(): Loading DataFrame...\n",
      "In load_sami_df(): Finished!\n",
      "In load_sami_df(): Loading DataFrame...\n",
      "In load_sami_df(): Finished!\n"
     ]
    }
   ],
   "source": [
    "# Load DataFrames corresponding to all 3 binning schemes \n",
    "df_default = load_sami_df(ncomponents=ncomponents, bin_type=\"default\", eline_SNR_min=eline_SNR_min, correct_extinction=True, debug=DEBUG)\n",
    "df_adaptive = load_sami_df(ncomponents=ncomponents, bin_type=\"adaptive\", eline_SNR_min=eline_SNR_min, correct_extinction=True, debug=DEBUG)\n",
    "df_sectors = load_sami_df(ncomponents=ncomponents, bin_type=\"sectors\", eline_SNR_min=eline_SNR_min, correct_extinction=True, debug=DEBUG)\n"
   ]
  },
  {
   "cell_type": "markdown",
   "metadata": {},
   "source": [
    "#### Inspect the metallicity profiles of individual galaxies"
   ]
  },
  {
   "cell_type": "code",
   "execution_count": null,
   "metadata": {},
   "outputs": [],
   "source": [
    "plt.close(\"all\")"
   ]
  },
  {
   "cell_type": "code",
   "execution_count": 8,
   "metadata": {
    "scrolled": false
   },
   "outputs": [
    {
     "data": {
      "application/vnd.jupyter.widget-view+json": {
       "model_id": "3442971623d54eb5a624154c0c013b14",
       "version_major": 2,
       "version_minor": 0
      },
      "text/plain": [
       "Canvas(toolbar=Toolbar(toolitems=[('Home', 'Reset original view', 'home', 'home'), ('Back', 'Back to previous …"
      ]
     },
     "metadata": {},
     "output_type": "display_data"
    },
    {
     "data": {
      "application/vnd.jupyter.widget-view+json": {
       "model_id": "84d0fc1ddda147aca25f2a67b0eb91f5",
       "version_major": 2,
       "version_minor": 0
      },
      "text/plain": [
       "Canvas(toolbar=Toolbar(toolitems=[('Home', 'Reset original view', 'home', 'home'), ('Back', 'Back to previous …"
      ]
     },
     "metadata": {},
     "output_type": "display_data"
    },
    {
     "data": {
      "application/vnd.jupyter.widget-view+json": {
       "model_id": "bcd6ccd64d98449fba302601cde98a14",
       "version_major": 2,
       "version_minor": 0
      },
      "text/plain": [
       "Canvas(toolbar=Toolbar(toolitems=[('Home', 'Reset original view', 'home', 'home'), ('Back', 'Back to previous …"
      ]
     },
     "metadata": {},
     "output_type": "display_data"
    },
    {
     "data": {
      "application/vnd.jupyter.widget-view+json": {
       "model_id": "e80fb8e96ac74e0e9319442e4f7029bf",
       "version_major": 2,
       "version_minor": 0
      },
      "text/plain": [
       "Canvas(toolbar=Toolbar(toolitems=[('Home', 'Reset original view', 'home', 'home'), ('Back', 'Back to previous …"
      ]
     },
     "metadata": {},
     "output_type": "display_data"
    },
    {
     "data": {
      "application/vnd.jupyter.widget-view+json": {
       "model_id": "f77573206d5741dca3df4792fa49a4c7",
       "version_major": 2,
       "version_minor": 0
      },
      "text/plain": [
       "Canvas(toolbar=Toolbar(toolitems=[('Home', 'Reset original view', 'home', 'home'), ('Back', 'Back to previous …"
      ]
     },
     "metadata": {},
     "output_type": "display_data"
    },
    {
     "data": {
      "application/vnd.jupyter.widget-view+json": {
       "model_id": "ee76989a20154aedbf9ec882111463be",
       "version_major": 2,
       "version_minor": 0
      },
      "text/plain": [
       "Canvas(toolbar=Toolbar(toolitems=[('Home', 'Reset original view', 'home', 'home'), ('Back', 'Back to previous …"
      ]
     },
     "metadata": {},
     "output_type": "display_data"
    },
    {
     "data": {
      "application/vnd.jupyter.widget-view+json": {
       "model_id": "1ae269845fa847a9bc11e691d1164d14",
       "version_major": 2,
       "version_minor": 0
      },
      "text/plain": [
       "Canvas(toolbar=Toolbar(toolitems=[('Home', 'Reset original view', 'home', 'home'), ('Back', 'Back to previous …"
      ]
     },
     "metadata": {},
     "output_type": "display_data"
    },
    {
     "data": {
      "application/vnd.jupyter.widget-view+json": {
       "model_id": "683faea3132946088ed881d777cad22e",
       "version_major": 2,
       "version_minor": 0
      },
      "text/plain": [
       "Canvas(toolbar=Toolbar(toolitems=[('Home', 'Reset original view', 'home', 'home'), ('Back', 'Back to previous …"
      ]
     },
     "metadata": {},
     "output_type": "display_data"
    },
    {
     "data": {
      "application/vnd.jupyter.widget-view+json": {
       "model_id": "798d5a2e6d4343f788eb546255c8f37c",
       "version_major": 2,
       "version_minor": 0
      },
      "text/plain": [
       "Canvas(toolbar=Toolbar(toolitems=[('Home', 'Reset original view', 'home', 'home'), ('Back', 'Back to previous …"
      ]
     },
     "metadata": {},
     "output_type": "display_data"
    },
    {
     "data": {
      "application/vnd.jupyter.widget-view+json": {
       "model_id": "f131c83c76124f88886feb724c931648",
       "version_major": 2,
       "version_minor": 0
      },
      "text/plain": [
       "Canvas(toolbar=Toolbar(toolitems=[('Home', 'Reset original view', 'home', 'home'), ('Back', 'Back to previous …"
      ]
     },
     "metadata": {},
     "output_type": "display_data"
    }
   ],
   "source": [
    "# Picking a galaxy that has a good number of SF spaxels\n",
    "gals = df_default.catid.unique()[:10]\n",
    "for gal in gals:\n",
    "    fig, axs = plt.subplots(nrows=1, ncols=3, figsize=(12, 5))\n",
    "    fig.subplots_adjust(wspace=0)\n",
    "    for cc, (df, bin_type) in enumerate(zip([df_default, df_adaptive, df_sectors], [\"default\", \"adaptive\", \"sectors\"])):\n",
    "        df_gal = df[df.catid == gal].copy()\n",
    "        plot2dmap(df_gal, \"BPT (numeric) (total)\", bin_type=bin_type, survey=\"sami\", ax=axs[cc],\n",
    "                  show_title=False, plot_colorbar=True if cc == 2 else False)\n",
    "    axs = fig.get_axes()\n",
    "    for cc, label in enumerate([\"Default\", \"Adaptive\", \"Sectors\"]):\n",
    "        axs[cc].set_title(label)\n",
    "        axs[cc].coords[1].set_ticks_visible(False) if cc > 0 else None\n",
    "        axs[cc].coords[1].set_ticklabel_visible(False) if cc > 0 else None\n",
    "    fig.suptitle(f\"GAMA{gal}\")"
   ]
  },
  {
   "cell_type": "code",
   "execution_count": 43,
   "metadata": {},
   "outputs": [],
   "source": [
    "# Choose a galaxy\n",
    "gal = 288364"
   ]
  },
  {
   "cell_type": "code",
   "execution_count": 56,
   "metadata": {
    "scrolled": false
   },
   "outputs": [
    {
     "data": {
      "application/vnd.jupyter.widget-view+json": {
       "model_id": "10973eca080a4d819f684b2b53dcdc95",
       "version_major": 2,
       "version_minor": 0
      },
      "text/plain": [
       "Canvas(toolbar=Toolbar(toolitems=[('Home', 'Reset original view', 'home', 'home'), ('Back', 'Back to previous …"
      ]
     },
     "metadata": {},
     "output_type": "display_data"
    },
    {
     "data": {
      "text/plain": [
       "<matplotlib.axes._subplots.WCSAxesSubplot at 0x7f0a5b270a90>"
      ]
     },
     "execution_count": 56,
     "metadata": {},
     "output_type": "execute_result"
    }
   ],
   "source": [
    "plot_sdss_image(df_default[df_default.catid == gal].copy())"
   ]
  },
  {
   "cell_type": "code",
   "execution_count": 57,
   "metadata": {
    "scrolled": false
   },
   "outputs": [
    {
     "data": {
      "application/vnd.jupyter.widget-view+json": {
       "model_id": "84988dd50b4343688b5cf56ff7ea9a5e",
       "version_major": 2,
       "version_minor": 0
      },
      "text/plain": [
       "Canvas(toolbar=Toolbar(toolitems=[('Home', 'Reset original view', 'home', 'home'), ('Back', 'Back to previous …"
      ]
     },
     "metadata": {},
     "output_type": "display_data"
    },
    {
     "data": {
      "application/vnd.jupyter.widget-view+json": {
       "model_id": "a58aa48bb32c4701ba72e0085505737e",
       "version_major": 2,
       "version_minor": 0
      },
      "text/plain": [
       "Canvas(toolbar=Toolbar(toolitems=[('Home', 'Reset original view', 'home', 'home'), ('Back', 'Back to previous …"
      ]
     },
     "metadata": {},
     "output_type": "display_data"
    },
    {
     "data": {
      "application/vnd.jupyter.widget-view+json": {
       "model_id": "742638eeb1094d7d88af62bbb069ce48",
       "version_major": 2,
       "version_minor": 0
      },
      "text/plain": [
       "Canvas(toolbar=Toolbar(toolitems=[('Home', 'Reset original view', 'home', 'home'), ('Back', 'Back to previous …"
      ]
     },
     "metadata": {},
     "output_type": "display_data"
    },
    {
     "data": {
      "application/vnd.jupyter.widget-view+json": {
       "model_id": "515625dc6d77491a956181b2d8a2e537",
       "version_major": 2,
       "version_minor": 0
      },
      "text/plain": [
       "Canvas(toolbar=Toolbar(toolitems=[('Home', 'Reset original view', 'home', 'home'), ('Back', 'Back to previous …"
      ]
     },
     "metadata": {},
     "output_type": "display_data"
    },
    {
     "data": {
      "application/vnd.jupyter.widget-view+json": {
       "model_id": "5d76a40e63424dd28376e8c6bdb4efc7",
       "version_major": 2,
       "version_minor": 0
      },
      "text/plain": [
       "Canvas(toolbar=Toolbar(toolitems=[('Home', 'Reset original view', 'home', 'home'), ('Back', 'Back to previous …"
      ]
     },
     "metadata": {},
     "output_type": "display_data"
    },
    {
     "data": {
      "application/vnd.jupyter.widget-view+json": {
       "model_id": "661937d51f62474db7e4377724201df2",
       "version_major": 2,
       "version_minor": 0
      },
      "text/plain": [
       "Canvas(toolbar=Toolbar(toolitems=[('Home', 'Reset original view', 'home', 'home'), ('Back', 'Back to previous …"
      ]
     },
     "metadata": {},
     "output_type": "display_data"
    }
   ],
   "source": [
    "# Metallicity\n",
    "plt.close(\"all\")\n",
    "for met_diagnostic in [\"N2O2\", \"Dopita+2016\", \"N2O2/O3O2\", \"Dopita+2016/O3O2\"]:\n",
    "    fig, axs = plt.subplots(nrows=1, ncols=3, figsize=(12, 5))\n",
    "    fig.subplots_adjust(wspace=0)\n",
    "    for cc, (df, bin_type) in enumerate(zip([df_default, df_adaptive, df_sectors], [\"default\", \"adaptive\", \"sectors\"])):\n",
    "        df_gal = df[df.catid == gal].copy()\n",
    "        plot2dmap(df_gal, f\"log(O/H) + 12 ({met_diagnostic}) (total)\", bin_type=bin_type, survey=\"sami\", ax=axs[cc],\n",
    "                  vmin=8.5, vmax=9,\n",
    "                  show_title=False, plot_colorbar=True if cc == 2 else False)\n",
    "    axs = fig.get_axes()\n",
    "    for cc, label in enumerate([\"Default\", \"Adaptive\", \"Sectors\"]):\n",
    "        axs[cc].set_title(label)\n",
    "        axs[cc].coords[1].set_ticks_visible(False) if cc > 0 else None\n",
    "        axs[cc].coords[1].set_ticklabel_visible(False) if cc > 0 else None\n",
    "    fig.suptitle(f\"GAMA{gal} ({met_diagnostic})\")\n",
    "\n",
    "# Ionisation parameter\n",
    "for met_diagnostic in [\"N2O2/O3O2\", \"Dopita+2016/O3O2\"]:\n",
    "    fig, axs = plt.subplots(nrows=1, ncols=3, figsize=(12, 5))\n",
    "    fig.subplots_adjust(wspace=0)\n",
    "    for cc, (df, bin_type) in enumerate(zip([df_default, df_adaptive, df_sectors], [\"default\", \"adaptive\", \"sectors\"])):\n",
    "        df_gal = df[df.catid == gal].copy()\n",
    "        plot2dmap(df_gal, f\"log(U) ({met_diagnostic}) (total)\", bin_type=bin_type, survey=\"sami\", ax=axs[cc],\n",
    "                  show_title=False, plot_colorbar=True if cc == 2 else False)\n",
    "    axs = fig.get_axes()\n",
    "    for cc, label in enumerate([\"Default\", \"Adaptive\", \"Sectors\"]):\n",
    "        axs[cc].set_title(label)\n",
    "        axs[cc].coords[1].set_ticks_visible(False) if cc > 0 else None\n",
    "        axs[cc].coords[1].set_ticklabel_visible(False) if cc > 0 else None\n",
    "    fig.suptitle(f\"GAMA{gal} ({met_diagnostic})\")"
   ]
  },
  {
   "cell_type": "code",
   "execution_count": 59,
   "metadata": {},
   "outputs": [
    {
     "data": {
      "application/vnd.jupyter.widget-view+json": {
       "model_id": "07759139e63f498cbd150fd2fa542541",
       "version_major": 2,
       "version_minor": 0
      },
      "text/plain": [
       "Canvas(toolbar=Toolbar(toolitems=[('Home', 'Reset original view', 'home', 'home'), ('Back', 'Back to previous …"
      ]
     },
     "metadata": {},
     "output_type": "display_data"
    },
    {
     "data": {
      "text/plain": [
       "Text(0.5, 0.98, 'GAMA288364')"
      ]
     },
     "execution_count": 59,
     "metadata": {},
     "output_type": "execute_result"
    }
   ],
   "source": [
    "# Metallicity gradient \n",
    "fig, axs = plt.subplots(nrows=3, ncols=2, figsize=(10, 15))\n",
    "for cc, met_diagnostic in enumerate([\"N2O2\", \"Dopita+2016\"]):\n",
    "    for rr, (df, label, m) in enumerate(zip([df_default, df_adaptive, df_sectors], [\"Default\", \"Adaptive\", \"Sectors\"], [\"o\", \"^\", \"s\"])):\n",
    "        df_gal = df[df.catid == gal].copy()\n",
    "        plot2dscatter(df_gal, \n",
    "                      col_x=\"r/R_e\", \n",
    "                      col_y=f\"log(O/H) + 12 ({met_diagnostic}/O3O2) (total)\", \n",
    "                      col_z=f\"log(U) ({met_diagnostic}/O3O2) (total)\", \n",
    "                      xmax=df_gal[\"r/R_e\"].max(),\n",
    "                      marker=m, markersize=40,\n",
    "                      ax=axs[rr][cc], plot_colorbar=True if cc == 1 else False)\n",
    "        axs[rr][cc].grid()\n",
    "        axs[rr][cc].set_title(f\"{label} ({met_diagnostic})\")\n",
    "        axs[rr][cc].autoscale(tight=True, enable=True)\n",
    "fig.suptitle(f\"GAMA{gal}\")"
   ]
  },
  {
   "cell_type": "code",
   "execution_count": null,
   "metadata": {},
   "outputs": [],
   "source": [
    "plt.close(\"all\")"
   ]
  }
 ],
 "metadata": {
  "kernelspec": {
   "display_name": "Python 3",
   "language": "python",
   "name": "python3"
  },
  "language_info": {
   "codemirror_mode": {
    "name": "ipython",
    "version": 3
   },
   "file_extension": ".py",
   "mimetype": "text/x-python",
   "name": "python",
   "nbconvert_exporter": "python",
   "pygments_lexer": "ipython3",
   "version": "3.7.4"
  }
 },
 "nbformat": 4,
 "nbformat_minor": 2
}
