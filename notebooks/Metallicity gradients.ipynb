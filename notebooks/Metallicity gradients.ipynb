{
 "cells": [
  {
   "cell_type": "markdown",
   "metadata": {},
   "source": [
    "# Metallicity gradients\n",
    "---\n",
    "- What we want:\n",
    "    - comparison of different binning techniques\n",
    "    - For each galaxy:\n",
    "        - plot showing metallicity as a function of radius \n",
    "            - how to determine x-axis errors? Henry doesn’t mention it in his 2021 paper…\n",
    "        - plot showing metallicity maps for all diagnostics \n",
    "        - comparison of all diagnostics"
   ]
  },
  {
   "cell_type": "code",
   "execution_count": 15,
   "metadata": {},
   "outputs": [],
   "source": [
    "%matplotlib widget"
   ]
  },
  {
   "cell_type": "code",
   "execution_count": 16,
   "metadata": {},
   "outputs": [],
   "source": [
    "# Imports\n",
    "import sys\n",
    "import os \n",
    "import numpy as np\n",
    "import pandas as pd\n",
    "\n",
    "from spaxelsleuth.loaddata.sami import load_sami_df\n",
    "from spaxelsleuth.plotting.sdssimg import plot_sdss_image\n",
    "from spaxelsleuth.plotting.plot2dmap import plot2dmap\n",
    "from spaxelsleuth.plotting.plotgalaxies import plot2dscatter\n",
    "\n",
    "import matplotlib.pyplot as plt\n",
    "plt.ion()\n",
    "plt.close(\"all\")"
   ]
  },
  {
   "cell_type": "code",
   "execution_count": 17,
   "metadata": {},
   "outputs": [],
   "source": [
    "# Parameters \n",
    "ncomponents = \"recom\"\n",
    "eline_SNR_min = 5\n",
    "DEBUG = False"
   ]
  },
  {
   "cell_type": "code",
   "execution_count": 18,
   "metadata": {},
   "outputs": [
    {
     "name": "stdout",
     "output_type": "stream",
     "text": [
      "In load_sami_df(): Loading DataFrame...\n",
      "In load_sami_df(): Finished!\n",
      "In load_sami_df(): Loading DataFrame...\n",
      "In load_sami_df(): Finished!\n",
      "In load_sami_df(): Loading DataFrame...\n",
      "In load_sami_df(): Finished!\n"
     ]
    }
   ],
   "source": [
    "# Load DataFrames corresponding to all 3 binning schemes \n",
    "df_default = load_sami_df(ncomponents=ncomponents, bin_type=\"default\", eline_SNR_min=eline_SNR_min, correct_extinction=True, debug=DEBUG)\n",
    "df_adaptive = load_sami_df(ncomponents=ncomponents, bin_type=\"adaptive\", eline_SNR_min=eline_SNR_min, correct_extinction=True, debug=DEBUG)\n",
    "df_sectors = load_sami_df(ncomponents=ncomponents, bin_type=\"sectors\", eline_SNR_min=eline_SNR_min, correct_extinction=True, debug=DEBUG)\n"
   ]
  },
  {
   "cell_type": "markdown",
   "metadata": {},
   "source": [
    "### Inspect the metallicity profiles of individual galaxies"
   ]
  },
  {
   "cell_type": "code",
   "execution_count": 19,
   "metadata": {},
   "outputs": [],
   "source": [
    "plt.close(\"all\")"
   ]
  },
  {
   "cell_type": "code",
   "execution_count": 20,
   "metadata": {
    "scrolled": false
   },
   "outputs": [
    {
     "data": {
      "application/vnd.jupyter.widget-view+json": {
       "model_id": "a7209ee63eba49fa95d70ac6d61a9c9b",
       "version_major": 2,
       "version_minor": 0
      },
      "text/plain": [
       "Canvas(toolbar=Toolbar(toolitems=[('Home', 'Reset original view', 'home', 'home'), ('Back', 'Back to previous …"
      ]
     },
     "metadata": {},
     "output_type": "display_data"
    },
    {
     "data": {
      "application/vnd.jupyter.widget-view+json": {
       "model_id": "685156b237734dd28b40036513595ba1",
       "version_major": 2,
       "version_minor": 0
      },
      "text/plain": [
       "Canvas(toolbar=Toolbar(toolitems=[('Home', 'Reset original view', 'home', 'home'), ('Back', 'Back to previous …"
      ]
     },
     "metadata": {},
     "output_type": "display_data"
    },
    {
     "data": {
      "application/vnd.jupyter.widget-view+json": {
       "model_id": "3869307bf6444ed69437abdfe8cd6060",
       "version_major": 2,
       "version_minor": 0
      },
      "text/plain": [
       "Canvas(toolbar=Toolbar(toolitems=[('Home', 'Reset original view', 'home', 'home'), ('Back', 'Back to previous …"
      ]
     },
     "metadata": {},
     "output_type": "display_data"
    },
    {
     "data": {
      "application/vnd.jupyter.widget-view+json": {
       "model_id": "d1ef7c3dbf47473882f2ae8e4f75cddf",
       "version_major": 2,
       "version_minor": 0
      },
      "text/plain": [
       "Canvas(toolbar=Toolbar(toolitems=[('Home', 'Reset original view', 'home', 'home'), ('Back', 'Back to previous …"
      ]
     },
     "metadata": {},
     "output_type": "display_data"
    },
    {
     "data": {
      "application/vnd.jupyter.widget-view+json": {
       "model_id": "0cad18d438c14af7b8e5dbd95ad17d8a",
       "version_major": 2,
       "version_minor": 0
      },
      "text/plain": [
       "Canvas(toolbar=Toolbar(toolitems=[('Home', 'Reset original view', 'home', 'home'), ('Back', 'Back to previous …"
      ]
     },
     "metadata": {},
     "output_type": "display_data"
    },
    {
     "data": {
      "application/vnd.jupyter.widget-view+json": {
       "model_id": "81300d8b5253412294d52655e28022c0",
       "version_major": 2,
       "version_minor": 0
      },
      "text/plain": [
       "Canvas(toolbar=Toolbar(toolitems=[('Home', 'Reset original view', 'home', 'home'), ('Back', 'Back to previous …"
      ]
     },
     "metadata": {},
     "output_type": "display_data"
    },
    {
     "data": {
      "application/vnd.jupyter.widget-view+json": {
       "model_id": "30097bd3a3aa46e594422f797b72194d",
       "version_major": 2,
       "version_minor": 0
      },
      "text/plain": [
       "Canvas(toolbar=Toolbar(toolitems=[('Home', 'Reset original view', 'home', 'home'), ('Back', 'Back to previous …"
      ]
     },
     "metadata": {},
     "output_type": "display_data"
    },
    {
     "data": {
      "application/vnd.jupyter.widget-view+json": {
       "model_id": "db5cc67d1ec04b88ac819ff3ed85dbe4",
       "version_major": 2,
       "version_minor": 0
      },
      "text/plain": [
       "Canvas(toolbar=Toolbar(toolitems=[('Home', 'Reset original view', 'home', 'home'), ('Back', 'Back to previous …"
      ]
     },
     "metadata": {},
     "output_type": "display_data"
    },
    {
     "data": {
      "application/vnd.jupyter.widget-view+json": {
       "model_id": "42260d9484bf4882944ab01ac2baab5b",
       "version_major": 2,
       "version_minor": 0
      },
      "text/plain": [
       "Canvas(toolbar=Toolbar(toolitems=[('Home', 'Reset original view', 'home', 'home'), ('Back', 'Back to previous …"
      ]
     },
     "metadata": {},
     "output_type": "display_data"
    },
    {
     "data": {
      "application/vnd.jupyter.widget-view+json": {
       "model_id": "b36a3567a35845a9bc09f7a852213c03",
       "version_major": 2,
       "version_minor": 0
      },
      "text/plain": [
       "Canvas(toolbar=Toolbar(toolitems=[('Home', 'Reset original view', 'home', 'home'), ('Back', 'Back to previous …"
      ]
     },
     "metadata": {},
     "output_type": "display_data"
    }
   ],
   "source": [
    "# Picking a galaxy that has a good number of SF spaxels\n",
    "gals = df_default[\"ID\"].unique()[:10]\n",
    "for gal in gals:\n",
    "    fig, axs = plt.subplots(nrows=1, ncols=3, figsize=(12, 5))\n",
    "    fig.subplots_adjust(wspace=0)\n",
    "    for cc, (df, bin_type) in enumerate(zip([df_default, df_adaptive, df_sectors], [\"default\", \"adaptive\", \"sectors\"])):\n",
    "        df_gal = df[df[\"ID\"] == gal].copy()\n",
    "        plot2dmap(df_gal, \"BPT (numeric) (total)\", bin_type=bin_type, survey=\"sami\", ax=axs[cc],\n",
    "                  show_title=False, plot_colorbar=True if cc == 2 else False)\n",
    "    axs = fig.get_axes()\n",
    "    for cc, label in enumerate([\"Default\", \"Adaptive\", \"Sectors\"]):\n",
    "        axs[cc].set_title(label)\n",
    "        axs[cc].coords[1].set_ticks_visible(False) if cc > 0 else None\n",
    "        axs[cc].coords[1].set_ticklabel_visible(False) if cc > 0 else None\n",
    "    fig.suptitle(f\"GAMA{gal}\")"
   ]
  },
  {
   "cell_type": "code",
   "execution_count": 21,
   "metadata": {},
   "outputs": [],
   "source": [
    "# Choose a galaxy\n",
    "gal = 288364"
   ]
  },
  {
   "cell_type": "code",
   "execution_count": 22,
   "metadata": {
    "scrolled": false
   },
   "outputs": [
    {
     "data": {
      "application/vnd.jupyter.widget-view+json": {
       "model_id": "88d5b070911b4016bcb583b731076429",
       "version_major": 2,
       "version_minor": 0
      },
      "text/plain": [
       "Canvas(toolbar=Toolbar(toolitems=[('Home', 'Reset original view', 'home', 'home'), ('Back', 'Back to previous …"
      ]
     },
     "metadata": {},
     "output_type": "display_data"
    },
    {
     "data": {
      "text/plain": [
       "<matplotlib.axes._subplots.WCSAxesSubplot at 0x7faba6efbf10>"
      ]
     },
     "execution_count": 22,
     "metadata": {},
     "output_type": "execute_result"
    }
   ],
   "source": [
    "plot_sdss_image(df_default[df_default[\"ID\"] == gal].copy())"
   ]
  },
  {
   "cell_type": "code",
   "execution_count": 23,
   "metadata": {
    "scrolled": false
   },
   "outputs": [
    {
     "data": {
      "application/vnd.jupyter.widget-view+json": {
       "model_id": "87cfd3f8002e4bdda0033f71be8878f8",
       "version_major": 2,
       "version_minor": 0
      },
      "text/plain": [
       "Canvas(toolbar=Toolbar(toolitems=[('Home', 'Reset original view', 'home', 'home'), ('Back', 'Back to previous …"
      ]
     },
     "metadata": {},
     "output_type": "display_data"
    },
    {
     "data": {
      "application/vnd.jupyter.widget-view+json": {
       "model_id": "73fb1c9f39744ca78ec1a25f1ea67f30",
       "version_major": 2,
       "version_minor": 0
      },
      "text/plain": [
       "Canvas(toolbar=Toolbar(toolitems=[('Home', 'Reset original view', 'home', 'home'), ('Back', 'Back to previous …"
      ]
     },
     "metadata": {},
     "output_type": "display_data"
    },
    {
     "data": {
      "application/vnd.jupyter.widget-view+json": {
       "model_id": "7c77cd1bc5ef4989a9ce20a6c019955d",
       "version_major": 2,
       "version_minor": 0
      },
      "text/plain": [
       "Canvas(toolbar=Toolbar(toolitems=[('Home', 'Reset original view', 'home', 'home'), ('Back', 'Back to previous …"
      ]
     },
     "metadata": {},
     "output_type": "display_data"
    },
    {
     "data": {
      "application/vnd.jupyter.widget-view+json": {
       "model_id": "e2f74c1736334c159ef4ebc87ed6cb93",
       "version_major": 2,
       "version_minor": 0
      },
      "text/plain": [
       "Canvas(toolbar=Toolbar(toolitems=[('Home', 'Reset original view', 'home', 'home'), ('Back', 'Back to previous …"
      ]
     },
     "metadata": {},
     "output_type": "display_data"
    }
   ],
   "source": [
    "# Metallicity\n",
    "plt.close(\"all\")\n",
    "for met_diagnostic in [\"N2O2_KD02\", \"N2S2Ha_D16\", \"N2O2_K19/O3O2_K19\"]:\n",
    "    fig, axs = plt.subplots(nrows=1, ncols=3, figsize=(12, 5))\n",
    "    fig.subplots_adjust(wspace=0)\n",
    "    for cc, (df, bin_type) in enumerate(zip([df_default, df_adaptive, df_sectors], [\"default\", \"adaptive\", \"sectors\"])):\n",
    "        df_gal = df[df[\"ID\"] == gal].copy()\n",
    "        plot2dmap(df_gal, f\"log(O/H) + 12 ({met_diagnostic}) (total)\", bin_type=bin_type, survey=\"sami\", ax=axs[cc],\n",
    "                  vmin=8.5, vmax=9,\n",
    "                  show_title=False, plot_colorbar=True if cc == 2 else False)\n",
    "    axs = fig.get_axes()\n",
    "    for cc, label in enumerate([\"Default\", \"Adaptive\", \"Sectors\"]):\n",
    "        axs[cc].set_title(label)\n",
    "        axs[cc].coords[1].set_ticks_visible(False) if cc > 0 else None\n",
    "        axs[cc].coords[1].set_ticklabel_visible(False) if cc > 0 else None\n",
    "    fig.suptitle(f\"GAMA{gal} ({met_diagnostic})\")\n",
    "\n",
    "# Ionisation parameter\n",
    "for met_diagnostic in [\"N2O2_K19/O3O2_K19\"]:\n",
    "    fig, axs = plt.subplots(nrows=1, ncols=3, figsize=(12, 5))\n",
    "    fig.subplots_adjust(wspace=0)\n",
    "    for cc, (df, bin_type) in enumerate(zip([df_default, df_adaptive, df_sectors], [\"default\", \"adaptive\", \"sectors\"])):\n",
    "        df_gal = df[df[\"ID\"] == gal].copy()\n",
    "        plot2dmap(df_gal, f\"log(U) ({met_diagnostic}) (total)\", bin_type=bin_type, survey=\"sami\", ax=axs[cc],\n",
    "                  show_title=False, plot_colorbar=True if cc == 2 else False)\n",
    "    axs = fig.get_axes()\n",
    "    for cc, label in enumerate([\"Default\", \"Adaptive\", \"Sectors\"]):\n",
    "        axs[cc].set_title(label)\n",
    "        axs[cc].coords[1].set_ticks_visible(False) if cc > 0 else None\n",
    "        axs[cc].coords[1].set_ticklabel_visible(False) if cc > 0 else None\n",
    "    fig.suptitle(f\"GAMA{gal} ({met_diagnostic})\")"
   ]
  },
  {
   "cell_type": "code",
   "execution_count": 28,
   "metadata": {},
   "outputs": [
    {
     "data": {
      "application/vnd.jupyter.widget-view+json": {
       "model_id": "dda06a67b38d481db440b494d42ebd09",
       "version_major": 2,
       "version_minor": 0
      },
      "text/plain": [
       "Canvas(toolbar=Toolbar(toolitems=[('Home', 'Reset original view', 'home', 'home'), ('Back', 'Back to previous …"
      ]
     },
     "metadata": {},
     "output_type": "display_data"
    },
    {
     "data": {
      "text/plain": [
       "Text(0.5, 0.98, 'GAMA288364')"
      ]
     },
     "execution_count": 28,
     "metadata": {},
     "output_type": "execute_result"
    }
   ],
   "source": [
    "# Metallicity gradient \n",
    "fig, axs = plt.subplots(nrows=3, ncols=4, figsize=(20, 15))\n",
    "for cc, met_diagnostic in enumerate([\"N2O2_K19/O3O2_K19\", \"N2Ha_K19/O3O2_K19\", \"O3N2_K19/O3O2_K19\", \"R23_KK04/O3O2_KK04\"]):\n",
    "    for rr, (df, label, m) in enumerate(zip([df_default, df_adaptive, df_sectors], [\"Default\", \"Adaptive\", \"Sectors\"], [\"o\", \"^\", \"s\"])):\n",
    "        df_gal = df[df[\"ID\"] == gal].copy()\n",
    "        plot2dscatter(df_gal, \n",
    "                      col_x=\"r/R_e\", \n",
    "                      col_y=f\"log(O/H) + 12 ({met_diagnostic}) (total)\", \n",
    "                      col_z=f\"log(U) ({met_diagnostic}) (total)\", \n",
    "                      xmax=df_gal[\"r/R_e\"].max(),\n",
    "                      marker=m, markersize=40,\n",
    "                      ax=axs[rr][cc], plot_colorbar=True if cc == 3 else False)\n",
    "        axs[rr][cc].grid()\n",
    "        axs[rr][cc].set_title(f\"{label} ({met_diagnostic})\")\n",
    "        axs[rr][cc].autoscale(tight=True, enable=True)\n",
    "fig.suptitle(f\"GAMA{gal}\")"
   ]
  },
  {
   "cell_type": "markdown",
   "metadata": {},
   "source": [
    "# Load the stellar metallicities\n",
    "---\n",
    "\n",
    "### SAMI stellar pops table- 23/06/22\n",
    "\n",
    "The table \"SAMI_StellarPopGradients_260622.fits\" has 81519 rows. Each row corresponds to a Voronoi bin (which has a S/N of 20) extracted from a SAMI cube. For each bin you get a mass-weighted and a light-weighted metallicity, age and alpha/Fe. There are also uncertainties for each of these quantities- I'd trust the uncertainties in [Z/H] the most as they're the ones I've tested most thoroughly! The uncertainties come from bootstrapping around 10k spectra and then making a model to predict the uncertainties for the remaining spectra. Details of this are in my upcoming paper (which will hopefully be published soon...)\n",
    "\n",
    "There are bins from 2900 unique galaxies (around 100 or so didn’t have enough S/N to make a single bin) but some galaxies have were observed more than once. I’ve also fit each of the repeat cubes- so, for example galaxy 9016800014 has spectra from bin numbers 0-46 and also 0-54 corresponding to two different cubes. I think I saved the cube filename for all of the repeats in the ‘obs_name’ column, but the \"first\" observation for each galaxy doesn't have the cube filename. \n",
    "\n",
    "Details of the columns are below:\n",
    "\n",
    "* CATID: SAMI CATID\n",
    "* bin_number: Number of the voronoi bin. Matches the bin number from Jesse's Voronoi-binned cubes (which you can use to make 2D maps, if you'd like- get in touch for more details)\n",
    "* r_pixels: Radius of bin from centre in pixels\n",
    "* r_arcsec: Radius of bin from centre in arcsec\n",
    "* r_values_Re: Radius of bin from centre scaled by galaxy r-band Re\n",
    "* bin_width_pixels: Width of the bin in the radial direction (I think) in pixels\n",
    "* bin_width_arcsec: Width of the bin in the radial direction in arcsec\n",
    "* bin_widths_Re: Width of the bin in the radial direction as a fraction of Re\n",
    "* x_pixels: x position of bin centre in pixels\n",
    "* y_pixels: y position of bin centre in pixels\n",
    "* x_arcsec: x position of bin centre in arcsec\n",
    "* y_arcsec: y position of bin centre in arcsec\n",
    "* bin_widths_x_pixels: width of bin in x direction in pixels\n",
    "* bin_widths_y_pixels: width of bin in y direction in pixels\n",
    "* n_repeats: Number of repeats this galaxy has\n",
    "* obs_name: name of the cube *if this cube is a repeat*, otherwise blank\n",
    "* LogAge_LW: Log Age (in years) of spectrum, light-weighted. Age in Gyrs is 10^(value - 9)\n",
    "* metallicity_LW: [Z/H] of spectrum (light weighted)\n",
    "* alpha_fe_LW: [alpha/Fe] of spectrim (light weighted)\n",
    "* LogAge_MW: Log Age (in years) of spectrum, mass-weighted. Age in Gyrs is 10^(value - 9)\n",
    "* metallicity_MW: [Z/H] of spectrum (mass weighted)\n",
    "* alpha_fe_MW: [alpha/Fe] of spectrim (mass weighted)\n",
    "* ppxf_chi2: Chi^2 of the fit from ppxf\n",
    "* ppxf_vel: Derived velocity of the fit\n",
    "* ppxf_sigma: Derived velocity dispersion of the fit\n",
    "* SN_residuals: S/N of the spectrum (derived from the standard deviation of the residuals)\n",
    "* metallicity_MW_error: Error in mass-weighted [Z/H]\n",
    "* LogAge_MW_error: Error in mass-weighted Log Age\n",
    "* alpha_fe_MW_error: Error in mass-weighted [alpha/Fe]\n",
    "* metallicity_LW_error: Error in light-weighted [Z/H]\n",
    "* LogAge_LW_error: Error in light-weighted Log Age\n",
    "* alpha_fe_LW_error: Error in light-weighted [Alpha/Fe]\n",
    "\n"
   ]
  },
  {
   "cell_type": "code",
   "execution_count": 29,
   "metadata": {
    "scrolled": true
   },
   "outputs": [],
   "source": [
    "# Load the DataFrame\n",
    "from astropy.io import fits\n",
    "tab = fits.open(\"../data/SAMI_StellarPopGradients_260622.fits\")[1].data\n",
    "df_zstar = pd.DataFrame()\n",
    "for col in [c for c in tab.columns if c.name != \"obs_name\"]:\n",
    "    df_zstar[col.name] = tab[col.name]\n",
    "    \n",
    "df_zstar = df_zstar.rename(columns={\n",
    "    \"CATID\": \"ID\", \n",
    "    \"bin_number\": \"Bin number\",\n",
    "    \"r_values_Re\": \"r/R_e\",\n",
    "})"
   ]
  },
  {
   "cell_type": "code",
   "execution_count": 30,
   "metadata": {},
   "outputs": [
    {
     "data": {
      "application/vnd.jupyter.widget-view+json": {
       "model_id": "2b32a37e8501458cb681db62208335b8",
       "version_major": 2,
       "version_minor": 0
      },
      "text/plain": [
       "Canvas(toolbar=Toolbar(toolitems=[('Home', 'Reset original view', 'home', 'home'), ('Back', 'Back to previous …"
      ]
     },
     "metadata": {},
     "output_type": "display_data"
    }
   ],
   "source": [
    "# Extract the DataFrame for an individual galaxy\n",
    "gal = 227970\n",
    "df_zstar_gal = df_zstar[df_zstar[\"ID\"] == gal]\n",
    "df_adaptive_gal = df_adaptive[df_adaptive[\"ID\"] == gal]\n",
    "\n",
    "# Scatter plot showing the metallicity distribution in x, y (in pixels for now)\n",
    "fig, axs = plt.subplots(ncols=2, figsize=(12, 6))\n",
    "bbox = axs[1].get_position()\n",
    "cax = fig.add_axes([bbox.x0, bbox.y0 + bbox.height, bbox.width, 0.05])\n",
    "\n",
    "# My measurements\n",
    "plot2dmap(df_adaptive_gal, bin_type=\"adaptive\", survey=\"sami\", col_z=\"v_gas (component 1)\", ax=axs[0], vmin=\"auto\", vmax=\"auto\", cax_orientation=\"horizontal\")\n",
    "\n",
    "# Sam's measurements \n",
    "m = axs[1].scatter(df_zstar_gal[\"x_arcsec\"], df_zstar_gal[\"y_arcsec\"], c=df_zstar_gal[\"ppxf_vel\"], cmap=\"coolwarm\")\n",
    "plt.colorbar(mappable=m, cax=cax, orientation=\"horizontal\")\n",
    "axs[1].axis(\"equal\")\n",
    "axs[1].grid()"
   ]
  },
  {
   "cell_type": "code",
   "execution_count": 31,
   "metadata": {},
   "outputs": [],
   "source": [
    "plt.close(\"all\")"
   ]
  },
  {
   "cell_type": "code",
   "execution_count": 32,
   "metadata": {},
   "outputs": [
    {
     "data": {
      "application/vnd.jupyter.widget-view+json": {
       "model_id": "fb1955a9502e42028b7ca9d9f94afca3",
       "version_major": 2,
       "version_minor": 0
      },
      "text/plain": [
       "Canvas(toolbar=Toolbar(toolitems=[('Home', 'Reset original view', 'home', 'home'), ('Back', 'Back to previous …"
      ]
     },
     "metadata": {},
     "output_type": "display_data"
    },
    {
     "data": {
      "application/vnd.jupyter.widget-view+json": {
       "model_id": "4e8640999f804d3e969df038223482aa",
       "version_major": 2,
       "version_minor": 0
      },
      "text/plain": [
       "Canvas(toolbar=Toolbar(toolitems=[('Home', 'Reset original view', 'home', 'home'), ('Back', 'Back to previous …"
      ]
     },
     "metadata": {},
     "output_type": "display_data"
    },
    {
     "data": {
      "text/plain": [
       "Text(0.5, 1.0, 'GAMA106717')"
      ]
     },
     "execution_count": 32,
     "metadata": {},
     "output_type": "execute_result"
    }
   ],
   "source": [
    "# Extract the DataFrame for an individual galaxy\n",
    "gal = 106717\n",
    "df_zstar_gal = df_zstar[df_zstar[\"ID\"] == gal]\n",
    "df_adaptive_gal = df_adaptive[df_adaptive[\"ID\"] == gal]\n",
    "\n",
    "# Plot the gas + stellar metallicity as a function of radius \n",
    "fig, axs = plt.subplots(nrows=4, figsize=(6, 8), sharex=True)\n",
    "fig.subplots_adjust(hspace=0)\n",
    "\n",
    "# Gas-phase \n",
    "met_diagnostic = \"N2O2_K19/O3O2_K19\"\n",
    "axs[0].errorbar(x=df_adaptive_gal[\"r/R_e\"], y=df_adaptive_gal[f\"log(O/H) + 12 ({met_diagnostic}) (total)\"],\n",
    "                yerr=[df_adaptive_gal[f\"log(O/H) + 12 ({met_diagnostic}) error (lower) (total)\"],\n",
    "                      df_adaptive_gal[f\"log(O/H) + 12 ({met_diagnostic}) error (upper) (total)\"]],\n",
    "                fmt=\"none\", ecolor=\"k\", elinewidth=0.5)\n",
    "axs[0].scatter(df_adaptive_gal[\"r/R_e\"], df_adaptive_gal[f\"log(O/H) + 12 ({met_diagnostic}) (total)\"], zorder=999, s=7, color=\"black\")\n",
    "\n",
    "# Stellar: metallicity\n",
    "axs[1].errorbar(x=df_zstar_gal[\"r/R_e\"], y=df_zstar_gal[\"metallicity_LW\"],\n",
    "                yerr=df_zstar_gal[\"metallicity_LW_error\"],\n",
    "                fmt=\"none\", ecolor=\"k\", elinewidth=0.5)\n",
    "axs[1].scatter(df_zstar_gal[\"r/R_e\"], df_zstar_gal[\"metallicity_LW\"], zorder=999, s=7, color=\"black\")\n",
    "\n",
    "# Stellar: age\n",
    "axs[2].errorbar(x=df_zstar_gal[\"r/R_e\"], y=df_zstar_gal[\"LogAge_LW\"],\n",
    "                yerr=df_zstar_gal[\"LogAge_LW_error\"],\n",
    "                fmt=\"none\", ecolor=\"k\", elinewidth=0.5)\n",
    "axs[2].scatter(df_zstar_gal[\"r/R_e\"], df_zstar_gal[\"LogAge_LW\"], zorder=999, s=7, color=\"black\")\n",
    "\n",
    "# Stellar: alpha/Fe\n",
    "axs[3].errorbar(x=df_zstar_gal[\"r/R_e\"], y=df_zstar_gal[\"alpha_fe_LW\"],\n",
    "                yerr=df_zstar_gal[\"alpha_fe_LW_error\"],\n",
    "                fmt=\"none\", ecolor=\"k\", elinewidth=0.5)\n",
    "axs[3].scatter(df_zstar_gal[\"r/R_e\"], df_zstar_gal[\"alpha_fe_LW\"], zorder=999, s=7, color=\"black\")\n",
    "\n",
    "# Decorations \n",
    "axs[0].set_title(f\"GAMA{gal}\")\n",
    "axs[-1].set_xlabel(r\"$r/R_e$\")\n",
    "axs[0].set_ylabel(f\"log(O/H) + 12 ({met_diagnostic})\")\n",
    "axs[1].set_ylabel(f\"LW [Z/H]\")\n",
    "axs[2].set_ylabel(f\"LW age (log yr)\")\n",
    "axs[3].set_ylabel(r\"$[\\alpha/Fe]$\")\n",
    "[ax.grid() for ax in axs]\n",
    "\n",
    "# SDSS image for presentation\n",
    "ax = plot_sdss_image(df_adaptive_gal)\n",
    "ax.set_title(f\"GAMA{df_adaptive_gal[\"ID\"].unique()[0]}\")"
   ]
  },
  {
   "cell_type": "markdown",
   "metadata": {},
   "source": [
    "gals with significant metallicity gradients\n",
    "* 545903"
   ]
  }
 ],
 "metadata": {
  "kernelspec": {
   "display_name": "Python 3",
   "language": "python",
   "name": "python3"
  },
  "language_info": {
   "codemirror_mode": {
    "name": "ipython",
    "version": 3
   },
   "file_extension": ".py",
   "mimetype": "text/x-python",
   "name": "python",
   "nbconvert_exporter": "python",
   "pygments_lexer": "ipython3",
   "version": "3.7.4"
  }
 },
 "nbformat": 4,
 "nbformat_minor": 2
}
