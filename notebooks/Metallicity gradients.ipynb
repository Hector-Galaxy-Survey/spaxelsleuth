{
 "cells": [
  {
   "cell_type": "markdown",
   "metadata": {},
   "source": [
    "# Metallicity gradients\n",
    "---\n",
    "- What we want:\n",
    "    - comparison of different binning techniques\n",
    "    - For each galaxy:\n",
    "        - plot showing metallicity as a function of radius \n",
    "            - how to determine x-axis errors? Henry doesn’t mention it in his 2021 paper…\n",
    "        - plot showing metallicity maps for all diagnostics \n",
    "        - comparison of all diagnostics"
   ]
  },
  {
   "cell_type": "code",
   "execution_count": 1,
   "metadata": {},
   "outputs": [],
   "source": [
    "%matplotlib widget"
   ]
  },
  {
   "cell_type": "code",
   "execution_count": 2,
   "metadata": {},
   "outputs": [],
   "source": [
    "# Imports\n",
    "import sys\n",
    "import os \n",
    "import numpy as np\n",
    "import pandas as pd\n",
    "\n",
    "from spaxelsleuth.loaddata.sami import load_sami_df\n",
    "from spaxelsleuth.plotting.sdssimg import plot_sdss_image\n",
    "from spaxelsleuth.plotting.plot2dmap import plot2dmap\n",
    "from spaxelsleuth.plotting.plotgalaxies import plot2dscatter\n",
    "\n",
    "import matplotlib.pyplot as plt\n",
    "plt.ion()\n",
    "plt.close(\"all\")"
   ]
  },
  {
   "cell_type": "code",
   "execution_count": 3,
   "metadata": {},
   "outputs": [],
   "source": [
    "# Parameters \n",
    "ncomponents = \"recom\"\n",
    "eline_SNR_min = 5\n",
    "DEBUG = False"
   ]
  },
  {
   "cell_type": "code",
   "execution_count": 4,
   "metadata": {},
   "outputs": [
    {
     "name": "stdout",
     "output_type": "stream",
     "text": [
      "In load_sami_df(): Loading DataFrame...\n",
      "In load_sami_df(): Finished!\n",
      "In load_sami_df(): Loading DataFrame...\n",
      "In load_sami_df(): Finished!\n",
      "In load_sami_df(): Loading DataFrame...\n",
      "In load_sami_df(): Finished!\n"
     ]
    }
   ],
   "source": [
    "# Load DataFrames corresponding to all 3 binning schemes \n",
    "df_default = load_sami_df(ncomponents=ncomponents, bin_type=\"default\", eline_SNR_min=eline_SNR_min, correct_extinction=True, debug=DEBUG)\n",
    "df_adaptive = load_sami_df(ncomponents=ncomponents, bin_type=\"adaptive\", eline_SNR_min=eline_SNR_min, correct_extinction=True, debug=DEBUG)\n",
    "df_sectors = load_sami_df(ncomponents=ncomponents, bin_type=\"sectors\", eline_SNR_min=eline_SNR_min, correct_extinction=True, debug=DEBUG)\n"
   ]
  },
  {
   "cell_type": "markdown",
   "metadata": {},
   "source": [
    "#### Inspect the metallicity profiles of individual galaxies"
   ]
  },
  {
   "cell_type": "code",
   "execution_count": 5,
   "metadata": {},
   "outputs": [],
   "source": [
    "plt.close(\"all\")"
   ]
  },
  {
   "cell_type": "code",
   "execution_count": 6,
   "metadata": {
    "scrolled": false
   },
   "outputs": [
    {
     "data": {
      "application/vnd.jupyter.widget-view+json": {
       "model_id": "a0387a67ece14cb4889dd94d54436ce6",
       "version_major": 2,
       "version_minor": 0
      },
      "text/plain": [
       "Canvas(toolbar=Toolbar(toolitems=[('Home', 'Reset original view', 'home', 'home'), ('Back', 'Back to previous …"
      ]
     },
     "metadata": {},
     "output_type": "display_data"
    },
    {
     "data": {
      "application/vnd.jupyter.widget-view+json": {
       "model_id": "c4cc1a56647e4ab39af5d94a6c169e6b",
       "version_major": 2,
       "version_minor": 0
      },
      "text/plain": [
       "Canvas(toolbar=Toolbar(toolitems=[('Home', 'Reset original view', 'home', 'home'), ('Back', 'Back to previous …"
      ]
     },
     "metadata": {},
     "output_type": "display_data"
    },
    {
     "data": {
      "application/vnd.jupyter.widget-view+json": {
       "model_id": "8c6492857013450c8c9eb3133783b62c",
       "version_major": 2,
       "version_minor": 0
      },
      "text/plain": [
       "Canvas(toolbar=Toolbar(toolitems=[('Home', 'Reset original view', 'home', 'home'), ('Back', 'Back to previous …"
      ]
     },
     "metadata": {},
     "output_type": "display_data"
    },
    {
     "data": {
      "application/vnd.jupyter.widget-view+json": {
       "model_id": "f8edaa2542cf46d4bc2c0757f0189b70",
       "version_major": 2,
       "version_minor": 0
      },
      "text/plain": [
       "Canvas(toolbar=Toolbar(toolitems=[('Home', 'Reset original view', 'home', 'home'), ('Back', 'Back to previous …"
      ]
     },
     "metadata": {},
     "output_type": "display_data"
    },
    {
     "data": {
      "application/vnd.jupyter.widget-view+json": {
       "model_id": "78897a8ad5bf4fa5a04b2a9567655b32",
       "version_major": 2,
       "version_minor": 0
      },
      "text/plain": [
       "Canvas(toolbar=Toolbar(toolitems=[('Home', 'Reset original view', 'home', 'home'), ('Back', 'Back to previous …"
      ]
     },
     "metadata": {},
     "output_type": "display_data"
    },
    {
     "data": {
      "application/vnd.jupyter.widget-view+json": {
       "model_id": "14b79df00b0c49d0b354c27521a7eeab",
       "version_major": 2,
       "version_minor": 0
      },
      "text/plain": [
       "Canvas(toolbar=Toolbar(toolitems=[('Home', 'Reset original view', 'home', 'home'), ('Back', 'Back to previous …"
      ]
     },
     "metadata": {},
     "output_type": "display_data"
    },
    {
     "data": {
      "application/vnd.jupyter.widget-view+json": {
       "model_id": "0f6220fbd80b48b89d1f52985cad78b6",
       "version_major": 2,
       "version_minor": 0
      },
      "text/plain": [
       "Canvas(toolbar=Toolbar(toolitems=[('Home', 'Reset original view', 'home', 'home'), ('Back', 'Back to previous …"
      ]
     },
     "metadata": {},
     "output_type": "display_data"
    },
    {
     "data": {
      "application/vnd.jupyter.widget-view+json": {
       "model_id": "9fa2de2aff5f47fdb97061636d91a9e4",
       "version_major": 2,
       "version_minor": 0
      },
      "text/plain": [
       "Canvas(toolbar=Toolbar(toolitems=[('Home', 'Reset original view', 'home', 'home'), ('Back', 'Back to previous …"
      ]
     },
     "metadata": {},
     "output_type": "display_data"
    },
    {
     "data": {
      "application/vnd.jupyter.widget-view+json": {
       "model_id": "826cc6b8b54b4e448a78c7c079825b6d",
       "version_major": 2,
       "version_minor": 0
      },
      "text/plain": [
       "Canvas(toolbar=Toolbar(toolitems=[('Home', 'Reset original view', 'home', 'home'), ('Back', 'Back to previous …"
      ]
     },
     "metadata": {},
     "output_type": "display_data"
    },
    {
     "data": {
      "application/vnd.jupyter.widget-view+json": {
       "model_id": "73668ac742c54c398868b2de03e559e6",
       "version_major": 2,
       "version_minor": 0
      },
      "text/plain": [
       "Canvas(toolbar=Toolbar(toolitems=[('Home', 'Reset original view', 'home', 'home'), ('Back', 'Back to previous …"
      ]
     },
     "metadata": {},
     "output_type": "display_data"
    }
   ],
   "source": [
    "# Picking a galaxy that has a good number of SF spaxels\n",
    "gals = df_default.catid.unique()[:10]\n",
    "for gal in gals:\n",
    "    fig, axs = plt.subplots(nrows=1, ncols=3, figsize=(12, 5))\n",
    "    fig.subplots_adjust(wspace=0)\n",
    "    for cc, (df, bin_type) in enumerate(zip([df_default, df_adaptive, df_sectors], [\"default\", \"adaptive\", \"sectors\"])):\n",
    "        df_gal = df[df.catid == gal].copy()\n",
    "        plot2dmap(df_gal, \"BPT (numeric) (total)\", bin_type=bin_type, survey=\"sami\", ax=axs[cc],\n",
    "                  show_title=False, plot_colorbar=True if cc == 2 else False)\n",
    "    axs = fig.get_axes()\n",
    "    for cc, label in enumerate([\"Default\", \"Adaptive\", \"Sectors\"]):\n",
    "        axs[cc].set_title(label)\n",
    "        axs[cc].coords[1].set_ticks_visible(False) if cc > 0 else None\n",
    "        axs[cc].coords[1].set_ticklabel_visible(False) if cc > 0 else None\n",
    "    fig.suptitle(f\"GAMA{gal}\")"
   ]
  },
  {
   "cell_type": "code",
   "execution_count": 43,
   "metadata": {},
   "outputs": [],
   "source": [
    "# Choose a galaxy\n",
    "gal = 288364"
   ]
  },
  {
   "cell_type": "code",
   "execution_count": 146,
   "metadata": {
    "scrolled": false
   },
   "outputs": [
    {
     "name": "stderr",
     "output_type": "stream",
     "text": [
      "/home/u5708159/python/Modules/spaxelsleuth/plotting/sdssimg.py:164: RuntimeWarning: More than 20 figures have been opened. Figures created through the pyplot interface (`matplotlib.pyplot.figure`) are retained until explicitly closed and may consume too much memory. (To control this warning, see the rcParam `figure.max_open_warning`).\n",
      "  fig, ax = plt.subplots(nrows=1, ncols=1, figsize=figsize, subplot_kw={\"projection\": wcs})\n"
     ]
    },
    {
     "data": {
      "application/vnd.jupyter.widget-view+json": {
       "model_id": "c41d5e9c82e448e084201ac019aa6e07",
       "version_major": 2,
       "version_minor": 0
      },
      "text/plain": [
       "Canvas(toolbar=Toolbar(toolitems=[('Home', 'Reset original view', 'home', 'home'), ('Back', 'Back to previous …"
      ]
     },
     "metadata": {},
     "output_type": "display_data"
    },
    {
     "data": {
      "text/plain": [
       "<matplotlib.axes._subplots.WCSAxesSubplot at 0x7f612ac5bc50>"
      ]
     },
     "execution_count": 146,
     "metadata": {},
     "output_type": "execute_result"
    }
   ],
   "source": [
    "plot_sdss_image(df_default[df_default.catid == gal].copy())"
   ]
  },
  {
   "cell_type": "code",
   "execution_count": 147,
   "metadata": {
    "scrolled": false
   },
   "outputs": [
    {
     "data": {
      "application/vnd.jupyter.widget-view+json": {
       "model_id": "93c38bd712cd4c12ad9bdcb8d3650e6f",
       "version_major": 2,
       "version_minor": 0
      },
      "text/plain": [
       "Canvas(toolbar=Toolbar(toolitems=[('Home', 'Reset original view', 'home', 'home'), ('Back', 'Back to previous …"
      ]
     },
     "metadata": {},
     "output_type": "display_data"
    },
    {
     "data": {
      "application/vnd.jupyter.widget-view+json": {
       "model_id": "13383ae8c9814b949ae623d2f18e6cb5",
       "version_major": 2,
       "version_minor": 0
      },
      "text/plain": [
       "Canvas(toolbar=Toolbar(toolitems=[('Home', 'Reset original view', 'home', 'home'), ('Back', 'Back to previous …"
      ]
     },
     "metadata": {},
     "output_type": "display_data"
    },
    {
     "data": {
      "application/vnd.jupyter.widget-view+json": {
       "model_id": "42698bb72c0548578ab2c61112189b47",
       "version_major": 2,
       "version_minor": 0
      },
      "text/plain": [
       "Canvas(toolbar=Toolbar(toolitems=[('Home', 'Reset original view', 'home', 'home'), ('Back', 'Back to previous …"
      ]
     },
     "metadata": {},
     "output_type": "display_data"
    },
    {
     "data": {
      "application/vnd.jupyter.widget-view+json": {
       "model_id": "54994ec09582482d97636650b7a18b25",
       "version_major": 2,
       "version_minor": 0
      },
      "text/plain": [
       "Canvas(toolbar=Toolbar(toolitems=[('Home', 'Reset original view', 'home', 'home'), ('Back', 'Back to previous …"
      ]
     },
     "metadata": {},
     "output_type": "display_data"
    },
    {
     "data": {
      "application/vnd.jupyter.widget-view+json": {
       "model_id": "ca9ad578a4be4720800403cc5fdf01d0",
       "version_major": 2,
       "version_minor": 0
      },
      "text/plain": [
       "Canvas(toolbar=Toolbar(toolitems=[('Home', 'Reset original view', 'home', 'home'), ('Back', 'Back to previous …"
      ]
     },
     "metadata": {},
     "output_type": "display_data"
    },
    {
     "data": {
      "application/vnd.jupyter.widget-view+json": {
       "model_id": "6ed3ce0445b1460d8419d794f0124e36",
       "version_major": 2,
       "version_minor": 0
      },
      "text/plain": [
       "Canvas(toolbar=Toolbar(toolitems=[('Home', 'Reset original view', 'home', 'home'), ('Back', 'Back to previous …"
      ]
     },
     "metadata": {},
     "output_type": "display_data"
    }
   ],
   "source": [
    "# Metallicity\n",
    "plt.close(\"all\")\n",
    "for met_diagnostic in [\"N2O2\", \"Dopita+2016\", \"N2O2/O3O2\", \"Dopita+2016/O3O2\"]:\n",
    "    fig, axs = plt.subplots(nrows=1, ncols=3, figsize=(12, 5))\n",
    "    fig.subplots_adjust(wspace=0)\n",
    "    for cc, (df, bin_type) in enumerate(zip([df_default, df_adaptive, df_sectors], [\"default\", \"adaptive\", \"sectors\"])):\n",
    "        df_gal = df[df.catid == gal].copy()\n",
    "        plot2dmap(df_gal, f\"log(O/H) + 12 ({met_diagnostic}) (total)\", bin_type=bin_type, survey=\"sami\", ax=axs[cc],\n",
    "                  vmin=8.5, vmax=9,\n",
    "                  show_title=False, plot_colorbar=True if cc == 2 else False)\n",
    "    axs = fig.get_axes()\n",
    "    for cc, label in enumerate([\"Default\", \"Adaptive\", \"Sectors\"]):\n",
    "        axs[cc].set_title(label)\n",
    "        axs[cc].coords[1].set_ticks_visible(False) if cc > 0 else None\n",
    "        axs[cc].coords[1].set_ticklabel_visible(False) if cc > 0 else None\n",
    "    fig.suptitle(f\"GAMA{gal} ({met_diagnostic})\")\n",
    "\n",
    "# Ionisation parameter\n",
    "for met_diagnostic in [\"N2O2/O3O2\", \"Dopita+2016/O3O2\"]:\n",
    "    fig, axs = plt.subplots(nrows=1, ncols=3, figsize=(12, 5))\n",
    "    fig.subplots_adjust(wspace=0)\n",
    "    for cc, (df, bin_type) in enumerate(zip([df_default, df_adaptive, df_sectors], [\"default\", \"adaptive\", \"sectors\"])):\n",
    "        df_gal = df[df.catid == gal].copy()\n",
    "        plot2dmap(df_gal, f\"log(U) ({met_diagnostic}) (total)\", bin_type=bin_type, survey=\"sami\", ax=axs[cc],\n",
    "                  show_title=False, plot_colorbar=True if cc == 2 else False)\n",
    "    axs = fig.get_axes()\n",
    "    for cc, label in enumerate([\"Default\", \"Adaptive\", \"Sectors\"]):\n",
    "        axs[cc].set_title(label)\n",
    "        axs[cc].coords[1].set_ticks_visible(False) if cc > 0 else None\n",
    "        axs[cc].coords[1].set_ticklabel_visible(False) if cc > 0 else None\n",
    "    fig.suptitle(f\"GAMA{gal} ({met_diagnostic})\")"
   ]
  },
  {
   "cell_type": "code",
   "execution_count": 148,
   "metadata": {},
   "outputs": [
    {
     "data": {
      "application/vnd.jupyter.widget-view+json": {
       "model_id": "29c615fce0c84428b541026fb0bdc7e0",
       "version_major": 2,
       "version_minor": 0
      },
      "text/plain": [
       "Canvas(toolbar=Toolbar(toolitems=[('Home', 'Reset original view', 'home', 'home'), ('Back', 'Back to previous …"
      ]
     },
     "metadata": {},
     "output_type": "display_data"
    },
    {
     "data": {
      "text/plain": [
       "Text(0.5, 0.98, 'GAMA572402')"
      ]
     },
     "execution_count": 148,
     "metadata": {},
     "output_type": "execute_result"
    }
   ],
   "source": [
    "# Metallicity gradient \n",
    "fig, axs = plt.subplots(nrows=3, ncols=2, figsize=(10, 15))\n",
    "for cc, met_diagnostic in enumerate([\"N2O2\", \"Dopita+2016\"]):\n",
    "    for rr, (df, label, m) in enumerate(zip([df_default, df_adaptive, df_sectors], [\"Default\", \"Adaptive\", \"Sectors\"], [\"o\", \"^\", \"s\"])):\n",
    "        df_gal = df[df.catid == gal].copy()\n",
    "        plot2dscatter(df_gal, \n",
    "                      col_x=\"r/R_e\", \n",
    "                      col_y=f\"log(O/H) + 12 ({met_diagnostic}/O3O2) (total)\", \n",
    "                      col_z=f\"log(U) ({met_diagnostic}/O3O2) (total)\", \n",
    "                      xmax=df_gal[\"r/R_e\"].max(),\n",
    "                      marker=m, markersize=40,\n",
    "                      ax=axs[rr][cc], plot_colorbar=True if cc == 1 else False)\n",
    "        axs[rr][cc].grid()\n",
    "        axs[rr][cc].set_title(f\"{label} ({met_diagnostic})\")\n",
    "        axs[rr][cc].autoscale(tight=True, enable=True)\n",
    "fig.suptitle(f\"GAMA{gal}\")"
   ]
  },
  {
   "cell_type": "markdown",
   "metadata": {},
   "source": [
    "# Load the stellar metallicities\n",
    "---\n",
    "\n",
    "### SAMI stellar pops table- 23/06/22\n",
    "\n",
    "The table \"SAMI_StellarPopGradients_260622.fits\" has 81519 rows. Each row corresponds to a Voronoi bin (which has a S/N of 20) extracted from a SAMI cube. For each bin you get a mass-weighted and a light-weighted metallicity, age and alpha/Fe. There are also uncertainties for each of these quantities- I'd trust the uncertainties in [Z/H] the most as they're the ones I've tested most thoroughly! The uncertainties come from bootstrapping around 10k spectra and then making a model to predict the uncertainties for the remaining spectra. Details of this are in my upcoming paper (which will hopefully be published soon...)\n",
    "\n",
    "There are bins from 2900 unique galaxies (around 100 or so didn’t have enough S/N to make a single bin) but some galaxies have were observed more than once. I’ve also fit each of the repeat cubes- so, for example galaxy 9016800014 has spectra from bin numbers 0-46 and also 0-54 corresponding to two different cubes. I think I saved the cube filename for all of the repeats in the ‘obs_name’ column, but the \"first\" observation for each galaxy doesn't have the cube filename. \n",
    "\n",
    "Details of the columns are below:\n",
    "\n",
    "* CATID: SAMI CATID\n",
    "* bin_number: Number of the voronoi bin. Matches the bin number from Jesse's Voronoi-binned cubes (which you can use to make 2D maps, if you'd like- get in touch for more details)\n",
    "* r_pixels: Radius of bin from centre in pixels\n",
    "* r_arcsec: Radius of bin from centre in arcsec\n",
    "* r_values_Re: Radius of bin from centre scaled by galaxy r-band Re\n",
    "* bin_width_pixels: Width of the bin in the radial direction (I think) in pixels\n",
    "* bin_width_arcsec: Width of the bin in the radial direction in arcsec\n",
    "* bin_widths_Re: Width of the bin in the radial direction as a fraction of Re\n",
    "* x_pixels: x position of bin centre in pixels\n",
    "* y_pixels: y position of bin centre in pixels\n",
    "* x_arcsec: x position of bin centre in arcsec\n",
    "* y_arcsec: y position of bin centre in arcsec\n",
    "* bin_widths_x_pixels: width of bin in x direction in pixels\n",
    "* bin_widths_y_pixels: width of bin in y direction in pixels\n",
    "* n_repeats: Number of repeats this galaxy has\n",
    "* obs_name: name of the cube *if this cube is a repeat*, otherwise blank\n",
    "* LogAge_LW: Log Age (in years) of spectrum, light-weighted. Age in Gyrs is 10^(value - 9)\n",
    "* metallicity_LW: [Z/H] of spectrum (light weighted)\n",
    "* alpha_fe_LW: [alpha/Fe] of spectrim (light weighted)\n",
    "* LogAge_MW: Log Age (in years) of spectrum, mass-weighted. Age in Gyrs is 10^(value - 9)\n",
    "* metallicity_MW: [Z/H] of spectrum (mass weighted)\n",
    "* alpha_fe_MW: [alpha/Fe] of spectrim (mass weighted)\n",
    "* ppxf_chi2: Chi^2 of the fit from ppxf\n",
    "* ppxf_vel: Derived velocity of the fit\n",
    "* ppxf_sigma: Derived velocity dispersion of the fit\n",
    "* SN_residuals: S/N of the spectrum (derived from the standard deviation of the residuals)\n",
    "* metallicity_MW_error: Error in mass-weighted [Z/H]\n",
    "* LogAge_MW_error: Error in mass-weighted Log Age\n",
    "* alpha_fe_MW_error: Error in mass-weighted [alpha/Fe]\n",
    "* metallicity_LW_error: Error in light-weighted [Z/H]\n",
    "* LogAge_LW_error: Error in light-weighted Log Age\n",
    "* alpha_fe_LW_error: Error in light-weighted [Alpha/Fe]\n",
    "\n"
   ]
  },
  {
   "cell_type": "code",
   "execution_count": 187,
   "metadata": {
    "scrolled": true
   },
   "outputs": [],
   "source": [
    "# Load the DataFrame\n",
    "from astropy.io import fits\n",
    "tab = fits.open(\"../data/SAMI_StellarPopGradients_260622.fits\")[1].data\n",
    "df_zstar = pd.DataFrame()\n",
    "for col in [c for c in tab.columns if c.name != \"obs_name\"]:\n",
    "    df_zstar[col.name] = tab[col.name]\n",
    "    \n",
    "df_zstar = df_zstar.rename(columns={\n",
    "    \"CATID\": \"catid\", \n",
    "    \"bin_number\": \"Bin number\",\n",
    "    \"r_values_Re\": \"r/R_e\",\n",
    "})"
   ]
  },
  {
   "cell_type": "code",
   "execution_count": 210,
   "metadata": {},
   "outputs": [
    {
     "data": {
      "application/vnd.jupyter.widget-view+json": {
       "model_id": "ba39d87286e44d6a825f7886350786aa",
       "version_major": 2,
       "version_minor": 0
      },
      "text/plain": [
       "Canvas(toolbar=Toolbar(toolitems=[('Home', 'Reset original view', 'home', 'home'), ('Back', 'Back to previous …"
      ]
     },
     "metadata": {},
     "output_type": "display_data"
    },
    {
     "data": {
      "text/plain": [
       "[None, None]"
      ]
     },
     "execution_count": 210,
     "metadata": {},
     "output_type": "execute_result"
    }
   ],
   "source": [
    "# Extract the DataFrame for an individual galaxy\n",
    "gal = 227970\n",
    "df_zstar_gal = df_zstar[df_zstar[\"catid\"] == gal]\n",
    "df_adaptive_gal = df_adaptive[df_adaptive[\"catid\"] == gal]\n",
    "\n",
    "# Scatter plot showing the metallicity distribution in x, y (in pixels for now)\n",
    "fig, axs = plt.subplots(ncols=2, figsize=(12, 6))\n",
    "bbox = axs[1].get_position()\n",
    "cax = fig.add_axes([bbox.x0, bbox.y0 + bbox.height, bbox.width, 0.05])\n",
    "\n",
    "# My measurements\n",
    "plot2dmap(df_adaptive_gal, bin_type=\"adaptive\", survey=\"sami\", col_z=\"v_gas (component 1)\", ax=axs[0], vmin=\"auto\", vmax=\"auto\", cax_orientation=\"horizontal\")\n",
    "\n",
    "# Sam's measurements \n",
    "m = axs[1].scatter(df_zstar_gal[\"x_arcsec\"], df_zstar_gal[\"y_arcsec\"], c=df_zstar_gal[\"ppxf_vel\"], cmap=\"coolwarm\")\n",
    "plt.colorbar(mappable=m, cax=cax, orientation=\"horizontal\")\n",
    "axs[1].axis(\"equal\")\n",
    "axs[1].grid()"
   ]
  },
  {
   "cell_type": "code",
   "execution_count": 209,
   "metadata": {},
   "outputs": [],
   "source": [
    "plt.close(\"all\")"
   ]
  },
  {
   "cell_type": "code",
   "execution_count": 256,
   "metadata": {},
   "outputs": [
    {
     "name": "stderr",
     "output_type": "stream",
     "text": [
      "/pkg/linux/anaconda-20191122/anaconda3/lib/python3.7/site-packages/ipykernel_launcher.py:7: RuntimeWarning: More than 20 figures have been opened. Figures created through the pyplot interface (`matplotlib.pyplot.figure`) are retained until explicitly closed and may consume too much memory. (To control this warning, see the rcParam `figure.max_open_warning`).\n",
      "  import sys\n"
     ]
    },
    {
     "data": {
      "application/vnd.jupyter.widget-view+json": {
       "model_id": "540b23e17809433ab9f5767beb5d04ed",
       "version_major": 2,
       "version_minor": 0
      },
      "text/plain": [
       "Canvas(toolbar=Toolbar(toolitems=[('Home', 'Reset original view', 'home', 'home'), ('Back', 'Back to previous …"
      ]
     },
     "metadata": {},
     "output_type": "display_data"
    },
    {
     "name": "stderr",
     "output_type": "stream",
     "text": [
      "/home/u5708159/python/Modules/spaxelsleuth/plotting/sdssimg.py:164: RuntimeWarning: More than 20 figures have been opened. Figures created through the pyplot interface (`matplotlib.pyplot.figure`) are retained until explicitly closed and may consume too much memory. (To control this warning, see the rcParam `figure.max_open_warning`).\n",
      "  fig, ax = plt.subplots(nrows=1, ncols=1, figsize=figsize, subplot_kw={\"projection\": wcs})\n"
     ]
    },
    {
     "data": {
      "application/vnd.jupyter.widget-view+json": {
       "model_id": "09829c90f3c949f19a400d42fba203a4",
       "version_major": 2,
       "version_minor": 0
      },
      "text/plain": [
       "Canvas(toolbar=Toolbar(toolitems=[('Home', 'Reset original view', 'home', 'home'), ('Back', 'Back to previous …"
      ]
     },
     "metadata": {},
     "output_type": "display_data"
    },
    {
     "data": {
      "text/plain": [
       "Text(0.5, 1.0, 'GAMA106717')"
      ]
     },
     "execution_count": 256,
     "metadata": {},
     "output_type": "execute_result"
    }
   ],
   "source": [
    "# Extract the DataFrame for an individual galaxy\n",
    "gal = 106717\n",
    "df_zstar_gal = df_zstar[df_zstar[\"catid\"] == gal]\n",
    "df_adaptive_gal = df_adaptive[df_adaptive[\"catid\"] == gal]\n",
    "\n",
    "# Plot the gas + stellar metallicity as a function of radius \n",
    "fig, axs = plt.subplots(nrows=4, figsize=(6, 8), sharex=True)\n",
    "fig.subplots_adjust(hspace=0)\n",
    "\n",
    "# Gas-phase \n",
    "met = \"N2O2\"\n",
    "axs[0].errorbar(x=df_adaptive_gal[\"r/R_e\"], y=df_adaptive_gal[f\"log(O/H) + 12 ({met}/O3O2) (total)\"],\n",
    "                yerr=[df_adaptive_gal[f\"log(O/H) + 12 ({met}/O3O2) error (lower) (total)\"],\n",
    "                      df_adaptive_gal[f\"log(O/H) + 12 ({met}/O3O2) error (upper) (total)\"]],\n",
    "                fmt=\"none\", ecolor=\"k\", elinewidth=0.5)\n",
    "axs[0].scatter(df_adaptive_gal[\"r/R_e\"], df_adaptive_gal[f\"log(O/H) + 12 ({met}/O3O2) (total)\"], zorder=999, s=7, color=\"black\")\n",
    "\n",
    "# Stellar: metallicity\n",
    "axs[1].errorbar(x=df_zstar_gal[\"r/R_e\"], y=df_zstar_gal[\"metallicity_LW\"],\n",
    "                yerr=df_zstar_gal[\"metallicity_LW_error\"],\n",
    "                fmt=\"none\", ecolor=\"k\", elinewidth=0.5)\n",
    "axs[1].scatter(df_zstar_gal[\"r/R_e\"], df_zstar_gal[\"metallicity_LW\"], zorder=999, s=7, color=\"black\")\n",
    "\n",
    "# Stellar: age\n",
    "axs[2].errorbar(x=df_zstar_gal[\"r/R_e\"], y=df_zstar_gal[\"LogAge_LW\"],\n",
    "                yerr=df_zstar_gal[\"LogAge_LW_error\"],\n",
    "                fmt=\"none\", ecolor=\"k\", elinewidth=0.5)\n",
    "axs[2].scatter(df_zstar_gal[\"r/R_e\"], df_zstar_gal[\"LogAge_LW\"], zorder=999, s=7, color=\"black\")\n",
    "\n",
    "# Stellar: alpha/Fe\n",
    "axs[3].errorbar(x=df_zstar_gal[\"r/R_e\"], y=df_zstar_gal[\"alpha_fe_LW\"],\n",
    "                yerr=df_zstar_gal[\"alpha_fe_LW_error\"],\n",
    "                fmt=\"none\", ecolor=\"k\", elinewidth=0.5)\n",
    "axs[3].scatter(df_zstar_gal[\"r/R_e\"], df_zstar_gal[\"alpha_fe_LW\"], zorder=999, s=7, color=\"black\")\n",
    "\n",
    "# Decorations \n",
    "axs[0].set_title(f\"GAMA{gal}\")\n",
    "axs[-1].set_xlabel(r\"$r/R_e$\")\n",
    "axs[0].set_ylabel(f\"log(O/H) + 12 ({met}/O3O2)\")\n",
    "axs[1].set_ylabel(f\"LW [Z/H]\")\n",
    "axs[2].set_ylabel(f\"LW age (log yr)\")\n",
    "axs[3].set_ylabel(r\"$[\\alpha/Fe]$\")\n",
    "[ax.grid() for ax in axs]\n",
    "\n",
    "# SDSS image for presentation\n",
    "ax = plot_sdss_image(df_adaptive_gal)\n",
    "ax.set_title(f\"GAMA{df_adaptive_gal.catid.unique()[0]}\")"
   ]
  },
  {
   "cell_type": "markdown",
   "metadata": {},
   "source": [
    "gals with significant metallicity gradients\n",
    "* 545903"
   ]
  }
 ],
 "metadata": {
  "kernelspec": {
   "display_name": "Python 3",
   "language": "python",
   "name": "python3"
  },
  "language_info": {
   "codemirror_mode": {
    "name": "ipython",
    "version": 3
   },
   "file_extension": ".py",
   "mimetype": "text/x-python",
   "name": "python",
   "nbconvert_exporter": "python",
   "pygments_lexer": "ipython3",
   "version": "3.7.4"
  }
 },
 "nbformat": 4,
 "nbformat_minor": 2
}
