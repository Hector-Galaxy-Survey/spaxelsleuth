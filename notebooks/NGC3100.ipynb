{
 "cells": [
  {
   "cell_type": "markdown",
   "metadata": {},
   "source": [
    "# NGC3100\n",
    "---\n",
    "Things to investigate:\n",
    "* Ionised gas density: do the dense regions track with the CO data?\n",
    "* \n",
    "\n",
    "Plots to make:\n",
    "* BPT \n",
    "* WHAN\n",
    "* WHAV*\n"
   ]
  },
  {
   "cell_type": "code",
   "execution_count": 1,
   "metadata": {},
   "outputs": [],
   "source": [
    "%matplotlib widget"
   ]
  },
  {
   "cell_type": "code",
   "execution_count": 74,
   "metadata": {},
   "outputs": [],
   "source": [
    "# Imports\n",
    "import sys\n",
    "import os \n",
    "import numpy as np\n",
    "import pandas as pd\n",
    "from astropy.visualization import hist\n",
    "\n",
    "from spaxelsleuth.loaddata.s7 import load_s7_galaxies\n",
    "from spaxelsleuth.loaddata.sami import load_sami_galaxies\n",
    "from spaxelsleuth.plotting.plot2dmap import plot2dmap\n",
    "from spaxelsleuth.plotting.sdssimg import plot_sdss_image\n",
    "from spaxelsleuth.plotting.plottools import plot_empty_BPT_diagram, plot_BPT_lines\n",
    "from spaxelsleuth.plotting.plottools import vmin_fn, vmax_fn, label_fn, cmap_fn, fname_fn\n",
    "from spaxelsleuth.plotting.plottools import bpt_labels, bpt_colours\n",
    "from spaxelsleuth.plotting.plottools import ncomponents_labels, ncomponents_colours\n",
    "from spaxelsleuth.plotting.plottools import component_labels, component_colours\n",
    "from spaxelsleuth.plotting.plotgalaxies import plot2dscatter, plot2dhistcontours\n",
    "\n",
    "import matplotlib\n",
    "from matplotlib import rc, rcParams\n",
    "import matplotlib.pyplot as plt\n",
    "component_markers = [\"o\", \">\", \"D\"]\n",
    "rc(\"text\", usetex=False)\n",
    "rc(\"font\",**{\"family\": \"serif\", \"size\": 14})\n",
    "rcParams[\"savefig.bbox\"] = \"tight\"\n",
    "rcParams[\"savefig.format\"] = \"pdf\"\n",
    "plt.ion()\n",
    "plt.close(\"all\")\n"
   ]
  },
  {
   "cell_type": "code",
   "execution_count": 55,
   "metadata": {},
   "outputs": [],
   "source": [
    "# Options\n",
    "fig_path = \"/priv/meggs3/u5708159/S7/figs/NGC3100/\"\n",
    "savefigs = True\n",
    "eline_SNR_min = 3       # Minimum S/N of emission lines to accept\n"
   ]
  },
  {
   "cell_type": "code",
   "execution_count": 4,
   "metadata": {},
   "outputs": [
    {
     "name": "stdout",
     "output_type": "stream",
     "text": [
      "WARNING: in load_s7_galaxies: estimating instrumental dispersion from my own WiFeS observations - may not be consistent with assumed value in LZIFU!\n"
     ]
    },
    {
     "name": "stderr",
     "output_type": "stream",
     "text": [
      "/pkg/linux/anaconda-20191122/anaconda3/lib/python3.7/site-packages/pandas/core/series.py:853: RuntimeWarning: invalid value encountered in log10\n",
      "  result = getattr(ufunc, method)(*inputs, **kwargs)\n",
      "/pkg/linux/anaconda-20191122/anaconda3/lib/python3.7/site-packages/pandas/core/indexing.py:376: SettingWithCopyWarning: \n",
      "A value is trying to be set on a copy of a slice from a DataFrame.\n",
      "Try using .loc[row_indexer,col_indexer] = value instead\n",
      "\n",
      "See the caveats in the documentation: http://pandas.pydata.org/pandas-docs/stable/user_guide/indexing.html#returning-a-view-versus-a-copy\n",
      "  self.obj[key] = _infer_fill_value(value)\n",
      "/pkg/linux/anaconda-20191122/anaconda3/lib/python3.7/site-packages/pandas/core/indexing.py:494: SettingWithCopyWarning: \n",
      "A value is trying to be set on a copy of a slice from a DataFrame.\n",
      "Try using .loc[row_indexer,col_indexer] = value instead\n",
      "\n",
      "See the caveats in the documentation: http://pandas.pydata.org/pandas-docs/stable/user_guide/indexing.html#returning-a-view-versus-a-copy\n",
      "  self.obj[item] = s\n",
      "/pkg/linux/anaconda-20191122/anaconda3/lib/python3.7/site-packages/pandas/core/frame.py:7123: FutureWarning: Sorting because non-concatenation axis is not aligned. A future version\n",
      "of pandas will change to not sort by default.\n",
      "\n",
      "To accept the future behavior, pass 'sort=False'.\n",
      "\n",
      "To retain the current behavior and silence the warning, pass 'sort=True'.\n",
      "\n",
      "  sort=sort,\n"
     ]
    },
    {
     "name": "stdout",
     "output_type": "stream",
     "text": [
      "WARNING: in load_s7_galaxies: NOT correcting for extinction!\n"
     ]
    }
   ],
   "source": [
    "# Load the S7 sample\n",
    "df = load_s7_galaxies(eline_SNR_min=eline_SNR_min,\n",
    "                      sigma_gas_SNR_cut=True,\n",
    "                      stekin_cut=True,\n",
    "                      vgrad_cut=False)\n"
   ]
  },
  {
   "cell_type": "code",
   "execution_count": 5,
   "metadata": {},
   "outputs": [
    {
     "name": "stdout",
     "output_type": "stream",
     "text": [
      "WARNING: in load_sami_galaxies: NOT correcting Halpha and HALPHA EW for extinction!\n"
     ]
    }
   ],
   "source": [
    "# Load the SAMI sample\n",
    "df_sami = load_sami_galaxies(ncomponents=\"recom\",\n",
    "                             bin_type=\"default\",\n",
    "                             eline_SNR_min=5, \n",
    "                             vgrad_cut=False,\n",
    "                             correct_extinction=False,\n",
    "                             sigma_gas_SNR_cut=True)"
   ]
  },
  {
   "cell_type": "code",
   "execution_count": 6,
   "metadata": {},
   "outputs": [],
   "source": [
    "gal = \"NGC3100\"\n",
    "df_gal = df[df[\"catid\"] == gal]"
   ]
  },
  {
   "cell_type": "markdown",
   "metadata": {},
   "source": [
    "## BPT diagrams\n",
    "---"
   ]
  },
  {
   "cell_type": "code",
   "execution_count": 56,
   "metadata": {},
   "outputs": [
    {
     "data": {
      "application/vnd.jupyter.widget-view+json": {
       "model_id": "91d1df7332ec4422891fcb491a151cbf",
       "version_major": 2,
       "version_minor": 0
      },
      "text/plain": [
       "Canvas(toolbar=Toolbar(toolitems=[('Home', 'Reset original view', 'home', 'home'), ('Back', 'Back to previous …"
      ]
     },
     "metadata": {},
     "output_type": "display_data"
    },
    {
     "data": {
      "application/vnd.jupyter.widget-view+json": {
       "model_id": "df30f166fe5047d6b89bdc6b418b6828",
       "version_major": 2,
       "version_minor": 0
      },
      "text/plain": [
       "Canvas(toolbar=Toolbar(toolitems=[('Home', 'Reset original view', 'home', 'home'), ('Back', 'Back to previous …"
      ]
     },
     "metadata": {},
     "output_type": "display_data"
    },
    {
     "data": {
      "application/vnd.jupyter.widget-view+json": {
       "model_id": "5901f0744e4f4b569063bddb6b4e132a",
       "version_major": 2,
       "version_minor": 0
      },
      "text/plain": [
       "Canvas(toolbar=Toolbar(toolitems=[('Home', 'Reset original view', 'home', 'home'), ('Back', 'Back to previous …"
      ]
     },
     "metadata": {},
     "output_type": "display_data"
    }
   ],
   "source": [
    "# Plot each component individually\n",
    "col_y = \"log O3\"\n",
    "col_x_list = [\"log N2\", \"log S2\", \"log O1\"]\n",
    "col_z_list = [\"BPT (numeric)\", \"sigma_gas\", \"r/R_e\"]\n",
    "\n",
    "for col_z in col_z_list:\n",
    "    fig, axs, cax = plot_empty_BPT_diagram(nrows=1, colorbar=True)\n",
    "    for cc, col_x in enumerate(col_x_list):\n",
    "        for ii in range(3):\n",
    "            plot2dscatter(df=df_gal, \n",
    "                          col_x=f\"{col_x} (component {ii})\",\n",
    "                          col_y=f\"{col_y} (component {ii})\",\n",
    "                          col_z=f\"{col_z} (component {ii})\" if f\"{col_z} (component {ii})\" in df_gal else col_z,\n",
    "                          ax=axs[cc], marker=component_markers[ii], markersize=50,\n",
    "                          ymax=2.0, alpha=1.0,\n",
    "                          plot_colorbar=True if cc == 2 else False,\n",
    "                          cax=cax)\n",
    "        # Decorations\n",
    "        axs[cc].grid()\n",
    "        axs[cc].set_ylabel(\"\") if cc > 0 else None\n",
    "        \n",
    "    # Save \n",
    "    if savefigs:\n",
    "        fig.savefig(os.path.join(fig_path, f\"whan_whav_{fname_fn(col_z)}.pdf\"), bbox_inches=\"tight\", format=\"pdf\")\n",
    "\n"
   ]
  },
  {
   "cell_type": "markdown",
   "metadata": {},
   "source": [
    "## WHAN/WHAS/WHAV* diagrams\n",
    "---"
   ]
  },
  {
   "cell_type": "code",
   "execution_count": 61,
   "metadata": {},
   "outputs": [
    {
     "name": "stderr",
     "output_type": "stream",
     "text": [
      "/pkg/linux/anaconda-20191122/anaconda3/lib/python3.7/site-packages/ipykernel_launcher.py:7: RuntimeWarning: More than 20 figures have been opened. Figures created through the pyplot interface (`matplotlib.pyplot.figure`) are retained until explicitly closed and may consume too much memory. (To control this warning, see the rcParam `figure.max_open_warning`).\n",
      "  import sys\n"
     ]
    },
    {
     "data": {
      "application/vnd.jupyter.widget-view+json": {
       "model_id": "80ae72f85b8542638f4696e6d3eb3b57",
       "version_major": 2,
       "version_minor": 0
      },
      "text/plain": [
       "Canvas(toolbar=Toolbar(toolitems=[('Home', 'Reset original view', 'home', 'home'), ('Back', 'Back to previous …"
      ]
     },
     "metadata": {},
     "output_type": "display_data"
    },
    {
     "name": "stderr",
     "output_type": "stream",
     "text": [
      "/pkg/linux/anaconda-20191122/anaconda3/lib/python3.7/site-packages/matplotlib/colors.py:1110: RuntimeWarning: invalid value encountered in less_equal\n",
      "  mask |= resdat <= 0\n",
      "/pkg/linux/anaconda-20191122/anaconda3/lib/python3.7/site-packages/ipykernel_launcher.py:7: RuntimeWarning: More than 20 figures have been opened. Figures created through the pyplot interface (`matplotlib.pyplot.figure`) are retained until explicitly closed and may consume too much memory. (To control this warning, see the rcParam `figure.max_open_warning`).\n",
      "  import sys\n"
     ]
    },
    {
     "data": {
      "application/vnd.jupyter.widget-view+json": {
       "model_id": "66798d56a1b747119882326fbe90963f",
       "version_major": 2,
       "version_minor": 0
      },
      "text/plain": [
       "Canvas(toolbar=Toolbar(toolitems=[('Home', 'Reset original view', 'home', 'home'), ('Back', 'Back to previous …"
      ]
     },
     "metadata": {},
     "output_type": "display_data"
    },
    {
     "name": "stderr",
     "output_type": "stream",
     "text": [
      "/pkg/linux/anaconda-20191122/anaconda3/lib/python3.7/site-packages/matplotlib/colors.py:1110: RuntimeWarning: invalid value encountered in less_equal\n",
      "  mask |= resdat <= 0\n"
     ]
    }
   ],
   "source": [
    "col_x = \"sigma_gas - sigma_*\"\n",
    "col_y = \"log HALPHA EW\"\n",
    "col_z_list = [\"BPT (numeric)\", \"r/R_e\"]\n",
    "\n",
    "for col_z in col_z_list:\n",
    "    # Plot LZIFU measurements\n",
    "    fig, axs = plt.subplots(nrows=1, ncols=3, figsize=(13.7, 4))\n",
    "    fig.subplots_adjust(wspace=0)\n",
    "    bbox = axs[-1].get_position()\n",
    "    cax = fig.add_axes([bbox.x0 + bbox.width, bbox.y0, 0.03, bbox.height])\n",
    "    for cc, col_x in enumerate([\"log N2\", \"sigma_gas - sigma_*\", \"v_gas - v_*\"]):\n",
    "        # Plot full SAMI sample\n",
    "        plot2dhistcontours(df=df_sami, col_x=f\"{col_x} (total)\" if col_x == \"log N2\" else f\"{col_x}\",\n",
    "                           col_y=f\"{col_y} (total)\" if col_x == \"log N2\" else f\"{col_y}\",\n",
    "                           col_z=\"count\", log_z=True,\n",
    "                           alpha=0.5, cmap=\"gray_r\", ax=axs[cc],\n",
    "                           plot_colorbar=False)\n",
    "        # Plot the S7 data\n",
    "        for ii in range(3):\n",
    "            plot2dscatter(df=df_gal,\n",
    "                          col_x=f\"{col_x} (component {ii})\",\n",
    "                          col_y=f\"{col_y} (component {ii})\",\n",
    "                          col_z=f\"{col_z} (component {ii})\" if f\"{col_z} (component {ii})\"  in df_gal else col_z,\n",
    "                          marker=markers[ii], ax=axs[cc], cax=cax,\n",
    "                          alpha=1.0,\n",
    "                          plot_colorbar=True if ii == 1 else False)\n",
    "\n",
    "    # Decorations\n",
    "    [ax.grid() for ax in axs]\n",
    "    [ax.set_ylabel(\"\") for ax in axs[1:]]\n",
    "    [ax.set_yticklabels([]) for ax in axs[1:]]\n",
    "    [ax.set_xticks(ax.get_xticks()[:-1]) for ax in axs[:-1]]\n",
    "    [ax.axvline(0, ls=\"--\", color=\"k\") for ax in axs[1:]]\n",
    "\n",
    "    # Save \n",
    "    if savefigs:\n",
    "        fig.savefig(os.path.join(fig_path, f\"whan_whav_{fname_fn(col_z)}.pdf\"), bbox_inches=\"tight\", format=\"pdf\")\n"
   ]
  },
  {
   "cell_type": "markdown",
   "metadata": {},
   "source": [
    "## 2D map plots\n",
    "---"
   ]
  },
  {
   "cell_type": "code",
   "execution_count": 80,
   "metadata": {
    "scrolled": false
   },
   "outputs": [
    {
     "data": {
      "application/vnd.jupyter.widget-view+json": {
       "model_id": "7e2175c09a874aaab03559b48bde518c",
       "version_major": 2,
       "version_minor": 0
      },
      "text/plain": [
       "Canvas(toolbar=Toolbar(toolitems=[('Home', 'Reset original view', 'home', 'home'), ('Back', 'Back to previous …"
      ]
     },
     "metadata": {},
     "output_type": "display_data"
    },
    {
     "name": "stderr",
     "output_type": "stream",
     "text": [
      "WARNING: FITSFixedWarning: 'cdfix' made the change 'Success'. [astropy.wcs.wcs]\n",
      "/home/u5708159/python/Modules/spaxelsleuth/plotting/plot2dmap.py:96: SettingWithCopyWarning: \n",
      "A value is trying to be set on a copy of a slice from a DataFrame.\n",
      "Try using .loc[row_indexer,col_indexer] = value instead\n",
      "\n",
      "See the caveats in the documentation: http://pandas.pydata.org/pandas-docs/stable/user_guide/indexing.html#returning-a-view-versus-a-copy\n",
      "  df_gal.loc[:, \"x, y (pixels)\"] = list(zip(df_gal[\"x (projected, arcsec)\"] / as_per_px, df_gal[\"y (projected, arcsec)\"] / as_per_px))\n",
      "/home/u5708159/python/Modules/spaxelsleuth/plotting/plot2dmap.py:128: RuntimeWarning: invalid value encountered in log10\n",
      "  ax.contour(np.log10(im_B) + 15, linewidths=linewidths, colors=colors, levels=10 if levels is None else levels)\n"
     ]
    },
    {
     "data": {
      "application/vnd.jupyter.widget-view+json": {
       "model_id": "2952a615b121477aaa8c1a64ce336585",
       "version_major": 2,
       "version_minor": 0
      },
      "text/plain": [
       "Canvas(toolbar=Toolbar(toolitems=[('Home', 'Reset original view', 'home', 'home'), ('Back', 'Back to previous …"
      ]
     },
     "metadata": {},
     "output_type": "display_data"
    },
    {
     "name": "stderr",
     "output_type": "stream",
     "text": [
      "WARNING: FITSFixedWarning: 'cdfix' made the change 'Success'. [astropy.wcs.wcs]\n",
      "/home/u5708159/python/Modules/spaxelsleuth/plotting/plot2dmap.py:96: SettingWithCopyWarning: \n",
      "A value is trying to be set on a copy of a slice from a DataFrame.\n",
      "Try using .loc[row_indexer,col_indexer] = value instead\n",
      "\n",
      "See the caveats in the documentation: http://pandas.pydata.org/pandas-docs/stable/user_guide/indexing.html#returning-a-view-versus-a-copy\n",
      "  df_gal.loc[:, \"x, y (pixels)\"] = list(zip(df_gal[\"x (projected, arcsec)\"] / as_per_px, df_gal[\"y (projected, arcsec)\"] / as_per_px))\n",
      "/home/u5708159/python/Modules/spaxelsleuth/plotting/plot2dmap.py:128: RuntimeWarning: invalid value encountered in log10\n",
      "  ax.contour(np.log10(im_B) + 15, linewidths=linewidths, colors=colors, levels=10 if levels is None else levels)\n"
     ]
    },
    {
     "data": {
      "application/vnd.jupyter.widget-view+json": {
       "model_id": "185829f057f5432da5b25573e4020e7a",
       "version_major": 2,
       "version_minor": 0
      },
      "text/plain": [
       "Canvas(toolbar=Toolbar(toolitems=[('Home', 'Reset original view', 'home', 'home'), ('Back', 'Back to previous …"
      ]
     },
     "metadata": {},
     "output_type": "display_data"
    },
    {
     "name": "stderr",
     "output_type": "stream",
     "text": [
      "WARNING: FITSFixedWarning: 'cdfix' made the change 'Success'. [astropy.wcs.wcs]\n",
      "/home/u5708159/python/Modules/spaxelsleuth/plotting/plot2dmap.py:96: SettingWithCopyWarning: \n",
      "A value is trying to be set on a copy of a slice from a DataFrame.\n",
      "Try using .loc[row_indexer,col_indexer] = value instead\n",
      "\n",
      "See the caveats in the documentation: http://pandas.pydata.org/pandas-docs/stable/user_guide/indexing.html#returning-a-view-versus-a-copy\n",
      "  df_gal.loc[:, \"x, y (pixels)\"] = list(zip(df_gal[\"x (projected, arcsec)\"] / as_per_px, df_gal[\"y (projected, arcsec)\"] / as_per_px))\n",
      "/home/u5708159/python/Modules/spaxelsleuth/plotting/plot2dmap.py:128: RuntimeWarning: invalid value encountered in log10\n",
      "  ax.contour(np.log10(im_B) + 15, linewidths=linewidths, colors=colors, levels=10 if levels is None else levels)\n"
     ]
    },
    {
     "data": {
      "application/vnd.jupyter.widget-view+json": {
       "model_id": "c05243b345a4468ba3ba08802ee2640b",
       "version_major": 2,
       "version_minor": 0
      },
      "text/plain": [
       "Canvas(toolbar=Toolbar(toolitems=[('Home', 'Reset original view', 'home', 'home'), ('Back', 'Back to previous …"
      ]
     },
     "metadata": {},
     "output_type": "display_data"
    },
    {
     "name": "stderr",
     "output_type": "stream",
     "text": [
      "WARNING: FITSFixedWarning: 'cdfix' made the change 'Success'. [astropy.wcs.wcs]\n",
      "/home/u5708159/python/Modules/spaxelsleuth/plotting/plot2dmap.py:96: SettingWithCopyWarning: \n",
      "A value is trying to be set on a copy of a slice from a DataFrame.\n",
      "Try using .loc[row_indexer,col_indexer] = value instead\n",
      "\n",
      "See the caveats in the documentation: http://pandas.pydata.org/pandas-docs/stable/user_guide/indexing.html#returning-a-view-versus-a-copy\n",
      "  df_gal.loc[:, \"x, y (pixels)\"] = list(zip(df_gal[\"x (projected, arcsec)\"] / as_per_px, df_gal[\"y (projected, arcsec)\"] / as_per_px))\n",
      "/home/u5708159/python/Modules/spaxelsleuth/plotting/plot2dmap.py:128: RuntimeWarning: invalid value encountered in log10\n",
      "  ax.contour(np.log10(im_B) + 15, linewidths=linewidths, colors=colors, levels=10 if levels is None else levels)\n"
     ]
    }
   ],
   "source": [
    "# Stellar properties & others only defined for a single component\n",
    "col_z_list = [\"v_*\", \"sigma_*\", \"D4000\", \"A_V (total)\"]\n",
    "\n",
    "for col_z, fname in zip(col_z_list, fname_list):\n",
    "    fig, ax = plt.subplots(nrows=1, ncols=1, figsize=(4.6, 7))\n",
    "    bbox = ax.get_position()\n",
    "    cax = fig.add_axes([bbox.x0 + bbox.width, bbox.y0, 0.15, bbox.height])\n",
    "    \n",
    "    plot2dmap(df_gal=df_gal, bin_type=\"default\", survey=\"s7\", col_z=col_z, ax=ax,\n",
    "              show_title=False, plot_colorbar=True, cax=cax,\n",
    "              PA_deg=float(df_gal[\"WiFeS PA\"].unique()[0]))\n",
    "        \n",
    "    # Save \n",
    "    if savefigs:\n",
    "        fig.savefig(os.path.join(fig_path, f\"2dmap_{fname_fn(col_z)}.pdf\"), bbox_inches=\"tight\", format=\"pdf\")\n"
   ]
  },
  {
   "cell_type": "code",
   "execution_count": 88,
   "metadata": {
    "scrolled": false
   },
   "outputs": [
    {
     "data": {
      "application/vnd.jupyter.widget-view+json": {
       "model_id": "6cce7600c4ba45dca013f9c79dae7a3b",
       "version_major": 2,
       "version_minor": 0
      },
      "text/plain": [
       "Canvas(toolbar=Toolbar(toolitems=[('Home', 'Reset original view', 'home', 'home'), ('Back', 'Back to previous …"
      ]
     },
     "metadata": {},
     "output_type": "display_data"
    },
    {
     "name": "stderr",
     "output_type": "stream",
     "text": [
      "WARNING: FITSFixedWarning: 'cdfix' made the change 'Success'. [astropy.wcs.wcs]\n",
      "/home/u5708159/python/Modules/spaxelsleuth/plotting/plot2dmap.py:96: SettingWithCopyWarning: \n",
      "A value is trying to be set on a copy of a slice from a DataFrame.\n",
      "Try using .loc[row_indexer,col_indexer] = value instead\n",
      "\n",
      "See the caveats in the documentation: http://pandas.pydata.org/pandas-docs/stable/user_guide/indexing.html#returning-a-view-versus-a-copy\n",
      "  df_gal.loc[:, \"x, y (pixels)\"] = list(zip(df_gal[\"x (projected, arcsec)\"] / as_per_px, df_gal[\"y (projected, arcsec)\"] / as_per_px))\n",
      "/home/u5708159/python/Modules/spaxelsleuth/plotting/plot2dmap.py:128: RuntimeWarning: invalid value encountered in log10\n",
      "  ax.contour(np.log10(im_B) + 15, linewidths=linewidths, colors=colors, levels=10 if levels is None else levels)\n"
     ]
    },
    {
     "data": {
      "application/vnd.jupyter.widget-view+json": {
       "model_id": "2eff9e86923a4168a40ba5bf26ed7f17",
       "version_major": 2,
       "version_minor": 0
      },
      "text/plain": [
       "Canvas(toolbar=Toolbar(toolitems=[('Home', 'Reset original view', 'home', 'home'), ('Back', 'Back to previous …"
      ]
     },
     "metadata": {},
     "output_type": "display_data"
    },
    {
     "name": "stderr",
     "output_type": "stream",
     "text": [
      "WARNING: FITSFixedWarning: 'cdfix' made the change 'Success'. [astropy.wcs.wcs]\n",
      "/home/u5708159/python/Modules/spaxelsleuth/plotting/plot2dmap.py:96: SettingWithCopyWarning: \n",
      "A value is trying to be set on a copy of a slice from a DataFrame.\n",
      "Try using .loc[row_indexer,col_indexer] = value instead\n",
      "\n",
      "See the caveats in the documentation: http://pandas.pydata.org/pandas-docs/stable/user_guide/indexing.html#returning-a-view-versus-a-copy\n",
      "  df_gal.loc[:, \"x, y (pixels)\"] = list(zip(df_gal[\"x (projected, arcsec)\"] / as_per_px, df_gal[\"y (projected, arcsec)\"] / as_per_px))\n",
      "/home/u5708159/python/Modules/spaxelsleuth/plotting/plot2dmap.py:128: RuntimeWarning: invalid value encountered in log10\n",
      "  ax.contour(np.log10(im_B) + 15, linewidths=linewidths, colors=colors, levels=10 if levels is None else levels)\n"
     ]
    },
    {
     "data": {
      "application/vnd.jupyter.widget-view+json": {
       "model_id": "d629e5f19e5c4372b5b388de0fa64026",
       "version_major": 2,
       "version_minor": 0
      },
      "text/plain": [
       "Canvas(toolbar=Toolbar(toolitems=[('Home', 'Reset original view', 'home', 'home'), ('Back', 'Back to previous …"
      ]
     },
     "metadata": {},
     "output_type": "display_data"
    },
    {
     "name": "stderr",
     "output_type": "stream",
     "text": [
      "WARNING: FITSFixedWarning: 'cdfix' made the change 'Success'. [astropy.wcs.wcs]\n",
      "/home/u5708159/python/Modules/spaxelsleuth/plotting/plot2dmap.py:96: SettingWithCopyWarning: \n",
      "A value is trying to be set on a copy of a slice from a DataFrame.\n",
      "Try using .loc[row_indexer,col_indexer] = value instead\n",
      "\n",
      "See the caveats in the documentation: http://pandas.pydata.org/pandas-docs/stable/user_guide/indexing.html#returning-a-view-versus-a-copy\n",
      "  df_gal.loc[:, \"x, y (pixels)\"] = list(zip(df_gal[\"x (projected, arcsec)\"] / as_per_px, df_gal[\"y (projected, arcsec)\"] / as_per_px))\n",
      "/home/u5708159/python/Modules/spaxelsleuth/plotting/plot2dmap.py:128: RuntimeWarning: invalid value encountered in log10\n",
      "  ax.contour(np.log10(im_B) + 15, linewidths=linewidths, colors=colors, levels=10 if levels is None else levels)\n"
     ]
    },
    {
     "data": {
      "application/vnd.jupyter.widget-view+json": {
       "model_id": "78c65887ddd84b23b309b0cadb24289c",
       "version_major": 2,
       "version_minor": 0
      },
      "text/plain": [
       "Canvas(toolbar=Toolbar(toolitems=[('Home', 'Reset original view', 'home', 'home'), ('Back', 'Back to previous …"
      ]
     },
     "metadata": {},
     "output_type": "display_data"
    },
    {
     "name": "stderr",
     "output_type": "stream",
     "text": [
      "WARNING: FITSFixedWarning: 'cdfix' made the change 'Success'. [astropy.wcs.wcs]\n",
      "/home/u5708159/python/Modules/spaxelsleuth/plotting/plot2dmap.py:96: SettingWithCopyWarning: \n",
      "A value is trying to be set on a copy of a slice from a DataFrame.\n",
      "Try using .loc[row_indexer,col_indexer] = value instead\n",
      "\n",
      "See the caveats in the documentation: http://pandas.pydata.org/pandas-docs/stable/user_guide/indexing.html#returning-a-view-versus-a-copy\n",
      "  df_gal.loc[:, \"x, y (pixels)\"] = list(zip(df_gal[\"x (projected, arcsec)\"] / as_per_px, df_gal[\"y (projected, arcsec)\"] / as_per_px))\n",
      "/home/u5708159/python/Modules/spaxelsleuth/plotting/plot2dmap.py:128: RuntimeWarning: invalid value encountered in log10\n",
      "  ax.contour(np.log10(im_B) + 15, linewidths=linewidths, colors=colors, levels=10 if levels is None else levels)\n"
     ]
    },
    {
     "data": {
      "application/vnd.jupyter.widget-view+json": {
       "model_id": "3fed7845c7e34c91aadcfe3cd3d5eeab",
       "version_major": 2,
       "version_minor": 0
      },
      "text/plain": [
       "Canvas(toolbar=Toolbar(toolitems=[('Home', 'Reset original view', 'home', 'home'), ('Back', 'Back to previous …"
      ]
     },
     "metadata": {},
     "output_type": "display_data"
    },
    {
     "name": "stderr",
     "output_type": "stream",
     "text": [
      "WARNING: FITSFixedWarning: 'cdfix' made the change 'Success'. [astropy.wcs.wcs]\n",
      "/home/u5708159/python/Modules/spaxelsleuth/plotting/plot2dmap.py:96: SettingWithCopyWarning: \n",
      "A value is trying to be set on a copy of a slice from a DataFrame.\n",
      "Try using .loc[row_indexer,col_indexer] = value instead\n",
      "\n",
      "See the caveats in the documentation: http://pandas.pydata.org/pandas-docs/stable/user_guide/indexing.html#returning-a-view-versus-a-copy\n",
      "  df_gal.loc[:, \"x, y (pixels)\"] = list(zip(df_gal[\"x (projected, arcsec)\"] / as_per_px, df_gal[\"y (projected, arcsec)\"] / as_per_px))\n",
      "/home/u5708159/python/Modules/spaxelsleuth/plotting/plot2dmap.py:128: RuntimeWarning: invalid value encountered in log10\n",
      "  ax.contour(np.log10(im_B) + 15, linewidths=linewidths, colors=colors, levels=10 if levels is None else levels)\n"
     ]
    },
    {
     "data": {
      "application/vnd.jupyter.widget-view+json": {
       "model_id": "e2eaf332eda247a0b41d755a2bb5a11b",
       "version_major": 2,
       "version_minor": 0
      },
      "text/plain": [
       "Canvas(toolbar=Toolbar(toolitems=[('Home', 'Reset original view', 'home', 'home'), ('Back', 'Back to previous …"
      ]
     },
     "metadata": {},
     "output_type": "display_data"
    },
    {
     "name": "stderr",
     "output_type": "stream",
     "text": [
      "WARNING: FITSFixedWarning: 'cdfix' made the change 'Success'. [astropy.wcs.wcs]\n",
      "/home/u5708159/python/Modules/spaxelsleuth/plotting/plot2dmap.py:96: SettingWithCopyWarning: \n",
      "A value is trying to be set on a copy of a slice from a DataFrame.\n",
      "Try using .loc[row_indexer,col_indexer] = value instead\n",
      "\n",
      "See the caveats in the documentation: http://pandas.pydata.org/pandas-docs/stable/user_guide/indexing.html#returning-a-view-versus-a-copy\n",
      "  df_gal.loc[:, \"x, y (pixels)\"] = list(zip(df_gal[\"x (projected, arcsec)\"] / as_per_px, df_gal[\"y (projected, arcsec)\"] / as_per_px))\n",
      "/home/u5708159/python/Modules/spaxelsleuth/plotting/plot2dmap.py:128: RuntimeWarning: invalid value encountered in log10\n",
      "  ax.contour(np.log10(im_B) + 15, linewidths=linewidths, colors=colors, levels=10 if levels is None else levels)\n"
     ]
    }
   ],
   "source": [
    "# Ionised gas properties\n",
    "col_z_list = [\"HALPHA\", \"HALPHA EW\", \"v_gas\", \"log sigma_gas\", \"sigma_gas - sigma_*\", \"BPT (numeric)\", \"S2 ratio\"]\n",
    "vmax_ha = np.nanmax(df_gal[\"HALPHA (component 0)\"])  #\n",
    "\n",
    "for col_z, fname in zip(col_z_list, fname_list):\n",
    "    fig, axs = plt.subplots(nrows=1, ncols=3, figsize=(13.7, 7))\n",
    "    fig.subplots_adjust(wspace=0)\n",
    "    bbox = axs[-1].get_position()\n",
    "    cax = fig.add_axes([bbox.x0 + bbox.width, bbox.y0, 0.05, bbox.height])\n",
    "    \n",
    "    for ii in range(3):\n",
    "        plot2dmap(df_gal=df_gal, bin_type=\"default\", survey=\"s7\", col_z=f\"{col_z} (component {ii})\", ax=axs[ii],\n",
    "                  show_title=False, plot_colorbar=True if ii == 2 else False, cax=cax,\n",
    "                  vmax=vmax_ha if col_z == f\"HALPHA\" else None,\n",
    "                  PA_deg=float(df_gal[\"WiFeS PA\"].unique()[0]))\n",
    "        \n",
    "    # Decorations\n",
    "    axs = fig.get_axes()\n",
    "    for ax in axs[2:]:\n",
    "        ra = ax.coords[0]\n",
    "        dec = ax.coords[1]\n",
    "        dec.set_ticks_visible(False)\n",
    "        dec.set_ticklabel_visible(False)\n",
    "        \n",
    "    # Save \n",
    "    if savefigs:\n",
    "        fig.savefig(os.path.join(fig_path, f\"2dmap_{fname_fn(col_z)}.pdf\"), bbox_inches=\"tight\", format=\"pdf\")\n"
   ]
  },
  {
   "cell_type": "markdown",
   "metadata": {},
   "source": [
    "## Extinction\n",
    "---"
   ]
  },
  {
   "cell_type": "code",
   "execution_count": 87,
   "metadata": {},
   "outputs": [
    {
     "name": "stderr",
     "output_type": "stream",
     "text": [
      "/pkg/linux/anaconda-20191122/anaconda3/lib/python3.7/site-packages/ipykernel_launcher.py:3: SettingWithCopyWarning: \n",
      "A value is trying to be set on a copy of a slice from a DataFrame.\n",
      "Try using .loc[row_indexer,col_indexer] = value instead\n",
      "\n",
      "See the caveats in the documentation: http://pandas.pydata.org/pandas-docs/stable/user_guide/indexing.html#returning-a-view-versus-a-copy\n",
      "  This is separate from the ipykernel package so we can avoid doing imports until\n"
     ]
    },
    {
     "data": {
      "application/vnd.jupyter.widget-view+json": {
       "model_id": "8909162f358745c8ae27b60b984c0036",
       "version_major": 2,
       "version_minor": 0
      },
      "text/plain": [
       "Canvas(toolbar=Toolbar(toolitems=[('Home', 'Reset original view', 'home', 'home'), ('Back', 'Back to previous …"
      ]
     },
     "metadata": {},
     "output_type": "display_data"
    },
    {
     "name": "stderr",
     "output_type": "stream",
     "text": [
      "WARNING: FITSFixedWarning: 'cdfix' made the change 'Success'. [astropy.wcs.wcs]\n",
      "/home/u5708159/python/Modules/spaxelsleuth/plotting/plot2dmap.py:96: SettingWithCopyWarning: \n",
      "A value is trying to be set on a copy of a slice from a DataFrame.\n",
      "Try using .loc[row_indexer,col_indexer] = value instead\n",
      "\n",
      "See the caveats in the documentation: http://pandas.pydata.org/pandas-docs/stable/user_guide/indexing.html#returning-a-view-versus-a-copy\n",
      "  df_gal.loc[:, \"x, y (pixels)\"] = list(zip(df_gal[\"x (projected, arcsec)\"] / as_per_px, df_gal[\"y (projected, arcsec)\"] / as_per_px))\n"
     ]
    },
    {
     "name": "stdout",
     "output_type": "stream",
     "text": [
      "WARNING: in cmap_fn(): undefined column\n"
     ]
    },
    {
     "name": "stderr",
     "output_type": "stream",
     "text": [
      "/home/u5708159/python/Modules/spaxelsleuth/plotting/plot2dmap.py:128: RuntimeWarning: invalid value encountered in log10\n",
      "  ax.contour(np.log10(im_B) + 15, linewidths=linewidths, colors=colors, levels=10 if levels is None else levels)\n"
     ]
    },
    {
     "name": "stdout",
     "output_type": "stream",
     "text": [
      "WARNING: in cmap_fn(): undefined column\n",
      "WARNING: in cmap_fn(): undefined column\n",
      "WARNING: in label_fn(): undefined column\n",
      "WARNING: in fname_fn(): undefined column\n"
     ]
    }
   ],
   "source": [
    "# Halpha/Hbeta ratio\n",
    "for ii in range(3):\n",
    "    df_gal[f\"HaHbratio (component {ii})\"] = df_gal[f\"HALPHA (component {ii})\"] / df_gal[f\"HBETA (component {ii})\"]\n",
    "col_z_list = [\"HaHbratio\"]\n",
    "vmax = 2.86 + 1\n",
    "vmin = 2.86 - 1\n",
    "\n",
    "for col_z, fname in zip(col_z_list, fname_list):\n",
    "    fig, axs = plt.subplots(nrows=1, ncols=3, figsize=(13.7, 7))\n",
    "    fig.subplots_adjust(wspace=0)\n",
    "    bbox = axs[-1].get_position()\n",
    "    cax = fig.add_axes([bbox.x0 + bbox.width, bbox.y0, 0.05, bbox.height])\n",
    "    \n",
    "    for ii in range(3):\n",
    "        plot2dmap(df_gal=df_gal, bin_type=\"default\", survey=\"s7\", col_z=f\"{col_z} (component {ii})\", ax=axs[ii],\n",
    "                  show_title=False, plot_colorbar=True if ii == 2 else False, cax=cax,\n",
    "                  vmax=vmax, vmin=vmin,\n",
    "                  PA_deg=float(df_gal[\"WiFeS PA\"].unique()[0]))\n",
    "        \n",
    "    # Decorations\n",
    "    axs = fig.get_axes()\n",
    "    for ax in axs[2:]:\n",
    "        ra = ax.coords[0]\n",
    "        dec = ax.coords[1]\n",
    "        dec.set_ticks_visible(False)\n",
    "        dec.set_ticklabel_visible(False)\n",
    "        \n",
    "    # Save \n",
    "    if savefigs:\n",
    "        fig.savefig(os.path.join(fig_path, f\"2dmap_{fname_fn(col_z)}.pdf\"), bbox_inches=\"tight\", format=\"pdf\")\n"
   ]
  },
  {
   "cell_type": "code",
   "execution_count": 79,
   "metadata": {},
   "outputs": [
    {
     "data": {
      "text/plain": [
       "Index(['A_V (total)', 'A_V error (total)', 'BPT (component 2)',\n",
       "       'BPT (component 0)', 'BPT (component 1)', 'BPT (global)',\n",
       "       'BPT (numeric) (component 2)', 'BPT (numeric) (component 0)',\n",
       "       'BPT (numeric) (component 1)', 'BPT (numeric) (total)',\n",
       "       ...\n",
       "       'v_gas error (component 2)', 'v_gas error (component 0)',\n",
       "       'v_gas error (component 1)', 'v_gas error (total)',\n",
       "       'x (projected, arcsec)', 'x0 (pixels)', 'y (projected, arcsec)',\n",
       "       'y0 (pixels)', 'z_spec', 'x, y (pixels)'],\n",
       "      dtype='object', length=412)"
      ]
     },
     "execution_count": 79,
     "metadata": {},
     "output_type": "execute_result"
    }
   ],
   "source": [
    "df_gal.columns\n"
   ]
  },
  {
   "cell_type": "code",
   "execution_count": null,
   "metadata": {},
   "outputs": [],
   "source": []
  }
 ],
 "metadata": {
  "kernelspec": {
   "display_name": "Python 3",
   "language": "python",
   "name": "python3"
  },
  "language_info": {
   "codemirror_mode": {
    "name": "ipython",
    "version": 3
   },
   "file_extension": ".py",
   "mimetype": "text/x-python",
   "name": "python",
   "nbconvert_exporter": "python",
   "pygments_lexer": "ipython3",
   "version": "3.7.4"
  }
 },
 "nbformat": 4,
 "nbformat_minor": 2
}
