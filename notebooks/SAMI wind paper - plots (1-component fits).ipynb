{
 "cells": [
  {
   "cell_type": "markdown",
   "metadata": {},
   "source": [
    "# SAMI wind paper plots: 1-component fits\n",
    "---"
   ]
  },
  {
   "cell_type": "code",
   "execution_count": 1,
   "metadata": {},
   "outputs": [],
   "source": [
    "%matplotlib widget"
   ]
  },
  {
   "cell_type": "code",
   "execution_count": 2,
   "metadata": {},
   "outputs": [],
   "source": [
    "# Imports\n",
    "import sys\n",
    "import os \n",
    "import numpy as np\n",
    "import pandas as pd\n",
    "from astropy.visualization import hist\n",
    "from tqdm import tqdm\n",
    "\n",
    "from spaxelsleuth.loaddata.lzifu import load_lzifu_galaxies\n",
    "from spaxelsleuth.loaddata.sami import load_sami_galaxies\n",
    "from spaxelsleuth.plotting.plottools import plot_empty_BPT_diagram\n",
    "from spaxelsleuth.plotting.plottools import vmin_fn, vmax_fn, label_fn, cmap_fn, fname_fn\n",
    "from spaxelsleuth.plotting.plottools import bpt_colours, bpt_labels, whav_colors, whav_labels\n",
    "from spaxelsleuth.plotting.plottools import morph_labels, morph_ticks\n",
    "from spaxelsleuth.plotting.plottools import ncomponents_labels, ncomponents_colours\n",
    "from spaxelsleuth.plotting.plottools import component_labels, component_colours\n",
    "from spaxelsleuth.plotting.plotgalaxies import plot2dhistcontours, plot2dscatter, plot2dcontours\n",
    "from spaxelsleuth.plotting.plot2dmap import plot2dmap\n",
    "from spaxelsleuth.plotting.sdssimg import plot_sdss_image\n",
    "\n",
    "import matplotlib\n",
    "from matplotlib import rc, rcParams\n",
    "import matplotlib.pyplot as plt\n",
    "from matplotlib.lines import Line2D\n",
    "\n",
    "from IPython.core.debugger import Tracer\n",
    "\n",
    "rc(\"text\", usetex=False)\n",
    "rc(\"font\",**{\"family\": \"serif\", \"size\": 14})\n",
    "rcParams[\"savefig.bbox\"] = \"tight\"\n",
    "rcParams[\"savefig.format\"] = \"pdf\"\n",
    "plt.ion()\n",
    "plt.close(\"all\")\n"
   ]
  },
  {
   "cell_type": "code",
   "execution_count": 3,
   "metadata": {},
   "outputs": [],
   "source": [
    "# Options\n",
    "fig_path = \"/priv/meggs3/u5708159/SAMI/figs/paper/1-component/\"\n",
    "savefigs = True\n",
    "bin_type = \"default\"    # Options: \"default\" or \"adaptive\" for Voronoi binning\n",
    "ncomponents = \"1\"       # Options: \"1\" or \"recom\"\n",
    "eline_SNR_min = 5       # Minimum S/N of emission lines to accept\n",
    "plt.close(\"all\")\n"
   ]
  },
  {
   "cell_type": "code",
   "execution_count": 53,
   "metadata": {},
   "outputs": [
    {
     "name": "stdout",
     "output_type": "stream",
     "text": [
      "> \u001b[0;32m/home/u5708159/python/Modules/spaxelsleuth/loaddata/sami.py\u001b[0m(64)\u001b[0;36mload_sami_galaxies\u001b[0;34m()\u001b[0m\n",
      "\u001b[0;32m     62 \u001b[0;31m    \u001b[0;31m# EVALUATE LINE RATIOS & SPECTRAL CLASSIFICATIONS\u001b[0m\u001b[0;34m\u001b[0m\u001b[0;34m\u001b[0m\u001b[0;34m\u001b[0m\u001b[0m\n",
      "\u001b[0m\u001b[0;32m     63 \u001b[0;31m    \u001b[0;31m######################################################################\u001b[0m\u001b[0;34m\u001b[0m\u001b[0;34m\u001b[0m\u001b[0;34m\u001b[0m\u001b[0m\n",
      "\u001b[0m\u001b[0;32m---> 64 \u001b[0;31m    \u001b[0mdf\u001b[0m \u001b[0;34m=\u001b[0m \u001b[0mlinefns\u001b[0m\u001b[0;34m.\u001b[0m\u001b[0mratio_fn\u001b[0m\u001b[0;34m(\u001b[0m\u001b[0mdf\u001b[0m\u001b[0;34m,\u001b[0m \u001b[0ms\u001b[0m\u001b[0;34m=\u001b[0m\u001b[0;34mf\" (total)\"\u001b[0m\u001b[0;34m)\u001b[0m\u001b[0;34m\u001b[0m\u001b[0;34m\u001b[0m\u001b[0m\n",
      "\u001b[0m\u001b[0;32m     65 \u001b[0;31m    \u001b[0mdf\u001b[0m \u001b[0;34m=\u001b[0m \u001b[0mlinefns\u001b[0m\u001b[0;34m.\u001b[0m\u001b[0mbpt_fn\u001b[0m\u001b[0;34m(\u001b[0m\u001b[0mdf\u001b[0m\u001b[0;34m,\u001b[0m \u001b[0ms\u001b[0m\u001b[0;34m=\u001b[0m\u001b[0;34mf\" (total)\"\u001b[0m\u001b[0;34m)\u001b[0m\u001b[0;34m\u001b[0m\u001b[0;34m\u001b[0m\u001b[0m\n",
      "\u001b[0m\u001b[0;32m     66 \u001b[0;31m    \u001b[0mdf\u001b[0m \u001b[0;34m=\u001b[0m \u001b[0mlinefns\u001b[0m\u001b[0;34m.\u001b[0m\u001b[0mlaw2021_fn\u001b[0m\u001b[0;34m(\u001b[0m\u001b[0mdf\u001b[0m\u001b[0;34m,\u001b[0m \u001b[0ms\u001b[0m\u001b[0;34m=\u001b[0m\u001b[0;34mf\" (total)\"\u001b[0m\u001b[0;34m)\u001b[0m\u001b[0;34m\u001b[0m\u001b[0;34m\u001b[0m\u001b[0m\n",
      "\u001b[0m\n",
      "ipdb> df[\"SFR (total)\"]\n",
      "*** KeyError: 'SFR (total)'\n",
      "ipdb> df[\"SFR (component 0)\"]\n",
      "*** KeyError: 'SFR (component 0)'\n",
      "ipdb> df[\"SFR\"]\n",
      "0         NaN\n",
      "1         NaN\n",
      "2         NaN\n",
      "3         NaN\n",
      "4         NaN\n",
      "           ..\n",
      "2829279   NaN\n",
      "2829280   NaN\n",
      "2829282   NaN\n",
      "2829283   NaN\n",
      "2829284   NaN\n",
      "Name: SFR, Length: 1592065, dtype: float64\n",
      "ipdb> df[\"SFR surface density\"]\n",
      "0         NaN\n",
      "1         NaN\n",
      "2         NaN\n",
      "3         NaN\n",
      "4         NaN\n",
      "           ..\n",
      "2829279   NaN\n",
      "2829280   NaN\n",
      "2829282   NaN\n",
      "2829283   NaN\n",
      "2829284   NaN\n",
      "Name: SFR surface density, Length: 1592065, dtype: float64\n",
      "ipdb> q\n",
      "Exiting Debugger.\n"
     ]
    }
   ],
   "source": [
    "# Load the sample\n",
    "df = load_sami_galaxies(ncomponents=\"1\",\n",
    "                        bin_type=bin_type,\n",
    "                        eline_SNR_min=eline_SNR_min, \n",
    "                        vgrad_cut=False,\n",
    "                        correct_extinction=False,\n",
    "                        sigma_gas_SNR_cut=True)"
   ]
  },
  {
   "cell_type": "code",
   "execution_count": 5,
   "metadata": {},
   "outputs": [],
   "source": [
    "plt.close(\"all\")"
   ]
  },
  {
   "cell_type": "markdown",
   "metadata": {},
   "source": [
    "## PLOT: BPT diagram coloured by count, median number of components, BPT classification\n",
    "---"
   ]
  },
  {
   "cell_type": "code",
   "execution_count": 6,
   "metadata": {},
   "outputs": [
    {
     "data": {
      "application/vnd.jupyter.widget-view+json": {
       "model_id": "21c69d3e2e5d44adbe7f2f011aea5ff5",
       "version_major": 2,
       "version_minor": 0
      },
      "text/plain": [
       "Canvas(toolbar=Toolbar(toolitems=[('Home', 'Reset original view', 'home', 'home'), ('Back', 'Back to previous …"
      ]
     },
     "metadata": {},
     "output_type": "display_data"
    },
    {
     "name": "stderr",
     "output_type": "stream",
     "text": [
      "/pkg/linux/anaconda-20191122/anaconda3/lib/python3.7/site-packages/matplotlib/colors.py:1110: RuntimeWarning: invalid value encountered in less_equal\n",
      "  mask |= resdat <= 0\n"
     ]
    },
    {
     "name": "stdout",
     "output_type": "stream",
     "text": [
      "File saved at: /priv/meggs3/u5708159/SAMI/figs/paper/1-component/BPT_SAMI_count.pdf\n"
     ]
    },
    {
     "data": {
      "application/vnd.jupyter.widget-view+json": {
       "model_id": "21f52f63eee847728092f01089003e9f",
       "version_major": 2,
       "version_minor": 0
      },
      "text/plain": [
       "Canvas(toolbar=Toolbar(toolitems=[('Home', 'Reset original view', 'home', 'home'), ('Back', 'Back to previous …"
      ]
     },
     "metadata": {},
     "output_type": "display_data"
    },
    {
     "name": "stdout",
     "output_type": "stream",
     "text": [
      "File saved at: /priv/meggs3/u5708159/SAMI/figs/paper/1-component/BPT_SAMI_BPT.pdf\n"
     ]
    }
   ],
   "source": [
    "for col_z in [\"count\", \"BPT (numeric) (total)\"]:\n",
    "    fig, axs, cax = plot_empty_BPT_diagram(colorbar=True, nrows=1, include_Law2021=True)\n",
    "    \n",
    "    # Plot 2D histograms of the subset\n",
    "    plot2dhistcontours(df, col_x=\"log N2 (total)\", col_y=\"log O3 (total)\", col_z=col_z, log_z=True if col_z == \"count\" else False, vmin=1 if col_z == \"count\" else None, vmax=1e3 if col_z == \"count\" else None, ax=axs[0], nbins=100, contours=True, colors=\"white\", plot_colorbar=False)\n",
    "    plot2dhistcontours(df, col_x=\"log S2 (total)\", col_y=\"log O3 (total)\", col_z=col_z, log_z=True if col_z == \"count\" else False, vmin=1 if col_z == \"count\" else None, vmax=1e3 if col_z == \"count\" else None, ax=axs[1], nbins=100, contours=True, colors=\"white\", plot_colorbar=False)\n",
    "    plot2dhistcontours(df, col_x=\"log O1 (total)\", col_y=\"log O3 (total)\", col_z=col_z, log_z=True if col_z == \"count\" else False, vmin=1 if col_z == \"count\" else None, vmax=1e3 if col_z == \"count\" else None, ax=axs[2], nbins=100, contours=True, colors=\"white\", cax=cax, plot_colorbar=True)\n",
    "\n",
    "    # Decorations\n",
    "    [ax.set_ylabel(\"\") for ax in axs[1:]]\n",
    "\n",
    "    # Grid on\n",
    "    [ax.grid() for ax in axs]\n",
    "    \n",
    "    # Save\n",
    "    if savefigs:\n",
    "        fname = os.path.join(fig_path, f\"BPT_SAMI_{fname_fn(col_z)}.pdf\")\n",
    "        fig.savefig(fname, bbox_inches=\"tight\", format=\"pdf\")\n",
    "        print(f\"File saved at: {fname}\")\n"
   ]
  },
  {
   "cell_type": "markdown",
   "metadata": {},
   "source": [
    "## PLOT: bar chart showing the fraction of spaxels w/ KD components in each spectral category\n",
    "---"
   ]
  },
  {
   "cell_type": "code",
   "execution_count": 7,
   "metadata": {},
   "outputs": [
    {
     "data": {
      "application/vnd.jupyter.widget-view+json": {
       "model_id": "05bfc909ada94e898edfa8730ed515c2",
       "version_major": 2,
       "version_minor": 0
      },
      "text/plain": [
       "Canvas(toolbar=Toolbar(toolitems=[('Home', 'Reset original view', 'home', 'home'), ('Back', 'Back to previous …"
      ]
     },
     "metadata": {},
     "output_type": "display_data"
    },
    {
     "name": "stdout",
     "output_type": "stream",
     "text": [
      "File saved at: /priv/meggs3/u5708159/SAMI/figs/paper/1-component/bar_ncomponents_by_spectral_class.pdf\n"
     ]
    }
   ],
   "source": [
    "###############################################################################\n",
    "# Stacked bar chart: # of fitted components by spectral classification\n",
    "###############################################################################\n",
    "counts_0 = []\n",
    "counts_1 = []\n",
    "for bpt in bpt_labels:\n",
    "    cond = df[\"BPT (total)\"] == bpt\n",
    "    cond_0 = cond & (df[\"Number of kinematically disturbed components\"] == 0)\n",
    "    cond_1 = cond & (df[\"Number of kinematically disturbed components\"] == 1)\n",
    "    counts_0.append(df[cond_0].shape[0] / df[cond].shape[0] * 100)\n",
    "    counts_1.append(df[cond_1].shape[0] / df[cond].shape[0] * 100)\n",
    "\n",
    "fig, ax = plt.subplots(nrows=1, ncols=1, figsize=(7, 5))\n",
    "ax.bar(bpt_labels, counts_0, width=0.6, label=ncomponents_labels[0] + \" components\", color=ncomponents_colours[0])\n",
    "ax.bar(bpt_labels, counts_1, width=0.6, bottom=counts_0, label=ncomponents_labels[1] + \" component\", color=ncomponents_colours[1])\n",
    "ax.grid()\n",
    "ax.set_ylim([0, 105])\n",
    "ax.set_ylabel(\"Percentage\")\n",
    "ax.set_xlabel(\"Spectral classification\")\n",
    "ax.legend(loc=\"lower center\", bbox_to_anchor=(0.5, 1.02), ncol=2, fontsize=\"small\")\n",
    "plt.xticks(rotation=90)\n",
    "\n",
    "if savefigs:\n",
    "    fname = os.path.join(fig_path, f\"bar_ncomponents_by_spectral_class.pdf\")\n",
    "    fig.savefig(fname, bbox_inches=\"tight\", format=\"pdf\")\n",
    "    print(f\"File saved at: {fname}\")"
   ]
  },
  {
   "cell_type": "markdown",
   "metadata": {},
   "source": [
    "## PLOT: WHAV* diagram for the whole sample coloured by count, BPT category\n",
    "---"
   ]
  },
  {
   "cell_type": "code",
   "execution_count": 8,
   "metadata": {},
   "outputs": [
    {
     "data": {
      "application/vnd.jupyter.widget-view+json": {
       "model_id": "18a16cfeafa34eb28e62d51b1b756276",
       "version_major": 2,
       "version_minor": 0
      },
      "text/plain": [
       "Canvas(toolbar=Toolbar(toolitems=[('Home', 'Reset original view', 'home', 'home'), ('Back', 'Back to previous …"
      ]
     },
     "metadata": {},
     "output_type": "display_data"
    },
    {
     "name": "stderr",
     "output_type": "stream",
     "text": [
      "/pkg/linux/anaconda-20191122/anaconda3/lib/python3.7/site-packages/matplotlib/colors.py:1110: RuntimeWarning: invalid value encountered in less_equal\n",
      "  mask |= resdat <= 0\n"
     ]
    },
    {
     "name": "stdout",
     "output_type": "stream",
     "text": [
      "File saved at: /priv/meggs3/u5708159/SAMI/figs/paper/1-component/WHAV_SAMI_count.pdf\n"
     ]
    },
    {
     "data": {
      "application/vnd.jupyter.widget-view+json": {
       "model_id": "87f2471d88fa4888a5937b6bb409ecf4",
       "version_major": 2,
       "version_minor": 0
      },
      "text/plain": [
       "Canvas(toolbar=Toolbar(toolitems=[('Home', 'Reset original view', 'home', 'home'), ('Back', 'Back to previous …"
      ]
     },
     "metadata": {},
     "output_type": "display_data"
    },
    {
     "name": "stdout",
     "output_type": "stream",
     "text": [
      "File saved at: /priv/meggs3/u5708159/SAMI/figs/paper/1-component/WHAV_SAMI_BPT.pdf\n"
     ]
    }
   ],
   "source": [
    "col_z_list = [\"count\", \"BPT (numeric) (total)\"]\n",
    "for col_z in col_z_list:\n",
    "    fig, ax = plt.subplots(nrows=1, ncols=1, figsize=(5, 5))\n",
    "    fig.subplots_adjust(wspace=0)\n",
    "    bbox = ax.get_position()\n",
    "    cax = fig.add_axes([bbox.x0 + bbox.width, bbox.y0, bbox.width * 0.1, bbox.height])\n",
    "\n",
    "    plot2dhistcontours(df, col_x=f\"sigma_gas - sigma_* (component 0)\",\n",
    "                       col_y=f\"log HALPHA EW (component 0)\",\n",
    "                       col_z=f\"{col_z} (component 0)\" if f\"{col_z} (component 0)\" in df else col_z, \n",
    "                       log_z=True if col_z == \"count\" else False,\n",
    "                       alpha=1.0, ax=ax, cax=cax, nbins=100,\n",
    "                       linewidths=0.5,\n",
    "                       contours=True, hist=True, colors=\"white\",\n",
    "                       vmin=1 if col_z == \"count\" else None, \n",
    "                       vmax=1e3 if col_z == \"count\" else None,\n",
    "                       plot_colorbar=True)\n",
    "    # Decorations\n",
    "    ax.grid()\n",
    "\n",
    "    # Save\n",
    "    if savefigs:\n",
    "        fname = os.path.join(fig_path, f\"WHAV_SAMI_{fname_fn(col_z)}.pdf\")\n",
    "        fig.savefig(fname, bbox_inches=\"tight\", format=\"pdf\")\n",
    "        print(f\"File saved at: {fname}\")        \n",
    "        "
   ]
  },
  {
   "cell_type": "markdown",
   "metadata": {},
   "source": [
    "## PLOT: BPT, WHAN, WHAV* for individual galaxies\n",
    "---"
   ]
  },
  {
   "cell_type": "code",
   "execution_count": 9,
   "metadata": {},
   "outputs": [],
   "source": [
    "plt.close(\"all\")"
   ]
  },
  {
   "cell_type": "code",
   "execution_count": 37,
   "metadata": {},
   "outputs": [],
   "source": [
    "# gal = 9011900521  # cool barred galaxy\n",
    "gal = 136842\n",
    "df_gal = df[df.catid == gal]\n",
    "savefigs = True"
   ]
  },
  {
   "cell_type": "code",
   "execution_count": 38,
   "metadata": {},
   "outputs": [],
   "source": [
    "# layout:\n",
    "# SDSS image | number of components | BT classifications\n",
    "# delta sigma: 1 | 2 | 3\n",
    "# EW: 1 | 2 | 3\n",
    "# BPT\n",
    "# WHAN | WHAV"
   ]
  },
  {
   "cell_type": "code",
   "execution_count": 39,
   "metadata": {
    "scrolled": false
   },
   "outputs": [
    {
     "data": {
      "application/vnd.jupyter.widget-view+json": {
       "model_id": "de370dc8e9a3457086190efc7ca019eb",
       "version_major": 2,
       "version_minor": 0
      },
      "text/plain": [
       "Canvas(toolbar=Toolbar(toolitems=[('Home', 'Reset original view', 'home', 'home'), ('Back', 'Back to previous …"
      ]
     },
     "metadata": {},
     "output_type": "display_data"
    },
    {
     "name": "stderr",
     "output_type": "stream",
     "text": [
      "/home/u5708159/python/Modules/spaxelsleuth/plotting/plot2dmap.py:98: SettingWithCopyWarning: \n",
      "A value is trying to be set on a copy of a slice from a DataFrame.\n",
      "Try using .loc[row_indexer,col_indexer] = value instead\n",
      "\n",
      "See the caveats in the documentation: http://pandas.pydata.org/pandas-docs/stable/user_guide/indexing.html#returning-a-view-versus-a-copy\n",
      "  df_gal[\"x, y (pixels)\"] = list(zip(df_gal[\"x (projected, arcsec)\"] / as_per_px, df_gal[\"y (projected, arcsec)\"] / as_per_px))\n"
     ]
    },
    {
     "name": "stdout",
     "output_type": "stream",
     "text": [
      "Saving to /priv/meggs3/u5708159/SAMI/figs/paper/1-component/GAMA136842_maps.pdf\n"
     ]
    }
   ],
   "source": [
    "fig, axs = plt.subplots(nrows=2, ncols=3, figsize=(13, 10))\n",
    "fig.subplots_adjust(wspace=0.05, hspace=0.4)\n",
    "\n",
    "# SDSS image \n",
    "ax = plot_sdss_image(df_gal, ax=axs[0][0])\n",
    "if ax is not None:\n",
    "    ax.set_title(f\"GAMA{gal}\")\n",
    "    lon = ax.coords[0]\n",
    "    lon.set_ticklabel_visible(False)\n",
    "\n",
    "# Number of components\n",
    "_, ax = plot2dmap(df_gal=df_gal, bin_type=\"default\", survey=\"sami\",\n",
    "          PA_deg=0,\n",
    "          col_z=\"Number of components\",\n",
    "          ax=axs[0][1], \n",
    "          plot_colorbar=True, cax=None, cax_orientation=\"horizontal\", \n",
    "          show_title=False)\n",
    "lon = ax.coords[0]\n",
    "lon.set_ticklabel_visible(False)\n",
    "lat = ax.coords[1]\n",
    "lat.set_ticklabel_visible(False)\n",
    "\n",
    "\n",
    "# BPT classifications \n",
    "_, ax = plot2dmap(df_gal=df_gal, bin_type=\"default\", survey=\"sami\",\n",
    "          PA_deg=0,\n",
    "          col_z=\"BPT (numeric) (total)\",\n",
    "          ax=axs[0][2], \n",
    "          plot_colorbar=True, cax=None, cax_orientation=\"vertical\", \n",
    "          show_title=False)\n",
    "lon = ax.coords[0]\n",
    "lon.set_ticklabel_visible(False)\n",
    "lat = ax.coords[1]\n",
    "lat.set_ticklabel_visible(False)\n",
    "\n",
    "# v_gas\n",
    "_, ax = plot2dmap(df_gal=df_gal, bin_type=\"default\", survey=\"sami\",\n",
    "          PA_deg=0,\n",
    "          col_z=f\"v_gas (component 0)\",\n",
    "          ax=axs[1][0], \n",
    "          plot_colorbar=True, cax=None, cax_orientation=\"horizontal\", \n",
    "          vmin=-200, vmax=+200,\n",
    "          show_title=False)\n",
    "\n",
    "# delta sigma \n",
    "_, ax = plot2dmap(df_gal=df_gal, bin_type=\"default\", survey=\"sami\",\n",
    "          PA_deg=0,\n",
    "          col_z=f\"sigma_gas - sigma_* (component 0)\",\n",
    "          ax=axs[1][1], \n",
    "          plot_colorbar=True, cax=None, cax_orientation=\"horizontal\", \n",
    "          vmin=-200, vmax=+200,\n",
    "          show_title=False)\n",
    "lat = ax.coords[1]\n",
    "lat.set_ticklabel_visible(False)\n",
    "\n",
    "# EW \n",
    "_, ax = plot2dmap(df_gal=df_gal, bin_type=\"default\", survey=\"sami\",\n",
    "          PA_deg=0,\n",
    "          col_z=f\"HALPHA EW (component 0)\",\n",
    "          ax=axs[1][2], \n",
    "          plot_colorbar=True, cax=None, cax_orientation=\"horizontal\", \n",
    "          show_title=False)\n",
    "lat = ax.coords[1]\n",
    "lat.set_ticklabel_visible(False)\n",
    "        \n",
    "# Save\n",
    "if savefigs:\n",
    "    fname = os.path.join(fig_path, f\"GAMA{gal}_maps.pdf\")\n",
    "    fig.savefig(fname, bbox_inches=\"tight\", format=\"pdf\")\n",
    "    print(f\"Saving to {fname}\")"
   ]
  },
  {
   "cell_type": "code",
   "execution_count": 40,
   "metadata": {
    "scrolled": true
   },
   "outputs": [
    {
     "data": {
      "application/vnd.jupyter.widget-view+json": {
       "model_id": "3eea8ce8eeda43b99df30a31c558bca4",
       "version_major": 2,
       "version_minor": 0
      },
      "text/plain": [
       "Canvas(toolbar=Toolbar(toolitems=[('Home', 'Reset original view', 'home', 'home'), ('Back', 'Back to previous …"
      ]
     },
     "metadata": {},
     "output_type": "display_data"
    },
    {
     "name": "stderr",
     "output_type": "stream",
     "text": [
      "/pkg/linux/anaconda-20191122/anaconda3/lib/python3.7/site-packages/matplotlib/colors.py:1110: RuntimeWarning: invalid value encountered in less_equal\n",
      "  mask |= resdat <= 0\n"
     ]
    },
    {
     "name": "stdout",
     "output_type": "stream",
     "text": [
      "Saving to /priv/meggs3/u5708159/SAMI/figs/paper/1-component/GAMA136842_BPT.pdf\n"
     ]
    }
   ],
   "source": [
    "fig, axs, cax = plot_empty_BPT_diagram(colorbar=True, nrows=1, include_Law2021=True, figsize=(12, 4))\n",
    "markers = [\"o\", \">\", \"D\"]\n",
    "col_z = \"r/R_e\"\n",
    "for cc, col_x in enumerate([\"log N2\", \"log S2\", \"log O1\"]):\n",
    "    # Plot full SAMI sample\n",
    "    plot2dhistcontours(df=df, \n",
    "                       col_x=f\"{col_x} (total)\",\n",
    "                       col_y=f\"log O3 (total)\", col_z=\"count\", log_z=True,\n",
    "                       alpha=0.5, cmap=\"gray_r\",\n",
    "                       ax=axs[cc], plot_colorbar=False)\n",
    "\n",
    "    # Plot measurements for this galaxy\n",
    "    plot2dscatter(df=df_gal,\n",
    "                  col_x=f\"{col_x} (total)\",\n",
    "                  col_y=f\"log O3 (total)\",\n",
    "                  col_z=col_z,\n",
    "                  cax=cax,\n",
    "                  marker=\"o\", ax=axs[cc], \n",
    "                  markersize=20, \n",
    "                  markerfacecolor=component_colours[0],\n",
    "                  markeredgecolor=\"black\",\n",
    "                  plot_colorbar=True if cc == 2 else False)\n",
    "\n",
    "    # axis limits\n",
    "    axs[cc].set_xlim([np.nanmin([vmin_fn(col_x), df_gal[f\"{col_x} (total)\"].min() - 0.1]),\n",
    "                      np.nanmax([vmax_fn(col_x), df_gal[f\"{col_x} (total)\"].max() + 0.1])])\n",
    "    # axis limits\n",
    "    axs[cc].set_ylim([np.nanmin([vmin_fn(\"log O3\"), df_gal[f\"log O3 (total)\"].min() - 0.1]),\n",
    "                      np.nanmax([vmax_fn(\"log O3\"), df_gal[f\"log O3 (total)\"].max() + 0.1])])\n",
    "\n",
    "# Decorations\n",
    "[ax.grid() for ax in axs]\n",
    "[ax.set_ylabel(\"\") for ax in axs[1:]]\n",
    "[ax.set_yticklabels([]) for ax in axs[1:]]\n",
    "[ax.set_xticks(ax.get_xticks()[:-1]) for ax in axs[:-1]]\n",
    "[ax.collections[0].set_rasterized(True) for ax in axs]\n",
    "\n",
    "# Save\n",
    "if savefigs:\n",
    "    fname = os.path.join(fig_path, f\"GAMA{gal}_BPT.pdf\")\n",
    "    fig.savefig(fname, bbox_inches=\"tight\", format=\"pdf\")\n",
    "    print(f\"Saving to {fname}\")"
   ]
  },
  {
   "cell_type": "code",
   "execution_count": 41,
   "metadata": {
    "scrolled": false
   },
   "outputs": [
    {
     "name": "stderr",
     "output_type": "stream",
     "text": [
      "/pkg/linux/anaconda-20191122/anaconda3/lib/python3.7/site-packages/ipykernel_launcher.py:1: RuntimeWarning: More than 20 figures have been opened. Figures created through the pyplot interface (`matplotlib.pyplot.figure`) are retained until explicitly closed and may consume too much memory. (To control this warning, see the rcParam `figure.max_open_warning`).\n",
      "  \"\"\"Entry point for launching an IPython kernel.\n"
     ]
    },
    {
     "data": {
      "application/vnd.jupyter.widget-view+json": {
       "model_id": "e440944d1dd5483da859981bd26c193f",
       "version_major": 2,
       "version_minor": 0
      },
      "text/plain": [
       "Canvas(toolbar=Toolbar(toolitems=[('Home', 'Reset original view', 'home', 'home'), ('Back', 'Back to previous …"
      ]
     },
     "metadata": {},
     "output_type": "display_data"
    },
    {
     "name": "stderr",
     "output_type": "stream",
     "text": [
      "/pkg/linux/anaconda-20191122/anaconda3/lib/python3.7/site-packages/matplotlib/colors.py:1110: RuntimeWarning: invalid value encountered in less_equal\n",
      "  mask |= resdat <= 0\n"
     ]
    },
    {
     "name": "stdout",
     "output_type": "stream",
     "text": [
      "Saving to /priv/meggs3/u5708159/SAMI/figs/paper/1-component/GAMA136842_WHAN_WHAV.pdf\n"
     ]
    }
   ],
   "source": [
    "fig, axs = plt.subplots(nrows=1, ncols=2, figsize=(10, 4))\n",
    "fig.subplots_adjust(wspace=0.3)\n",
    "col_z = \"r/R_e\"\n",
    "col_y = \"log HALPHA EW\"\n",
    "\n",
    "\n",
    "# WHAN diagram\n",
    "ax = axs[0]\n",
    "\n",
    "# Plot full SAMI sample\n",
    "plot2dhistcontours(df=df, col_x=f\"log N2 (total)\",\n",
    "                   col_y=f\"log HALPHA EW (total)\",\n",
    "                   col_z=\"count\", log_z=True,\n",
    "                   alpha=0.5, cmap=\"gray_r\", ax=ax,\n",
    "                   plot_colorbar=False)\n",
    "\n",
    "# Plot measurements for this galaxy\n",
    "plot2dscatter(df=df_gal,\n",
    "              col_x=f\"log N2 (total)\",\n",
    "              col_y=f\"log HALPHA EW (total)\",\n",
    "              col_z=col_z,\n",
    "              cax=cax,\n",
    "              marker=\"o\", ax=ax, \n",
    "              markersize=20, \n",
    "              markeredgecolor=\"black\",\n",
    "              plot_colorbar=True, )\n",
    "\n",
    "# axis limits\n",
    "ax.set_xlim([np.nanmin([vmin_fn(f\"log N2 (total)\"), df_gal[f\"log N2 (total)\"].min() - 0.1]),\n",
    "             np.nanmax([vmax_fn(f\"log N2 (total)\"), df_gal[f\"log N2 (total)\"].max() + 0.1])])\n",
    "# axis limits\n",
    "ax.set_ylim([np.nanmin([vmin_fn(\"log HALPHA EW\"), df_gal[f\"log HALPHA EW (total)\"].min() - 0.1]),\n",
    "             np.nanmax([vmax_fn(\"log HALPHA EW\"), df_gal[f\"log HALPHA EW (total)\"].max() + 0.1])])\n",
    "\n",
    "# Decorations\n",
    "ax.grid()\n",
    "\n",
    "# WHAV* diagram\n",
    "ax = axs[1]\n",
    "\n",
    "# Plot full SAMI sample\n",
    "plot2dhistcontours(df=df, col_x=f\"sigma_gas - sigma_*\",\n",
    "                   col_y=f\"log HALPHA EW\",\n",
    "                   col_z=\"count\", log_z=True,\n",
    "                   alpha=0.5, cmap=\"gray_r\", ax=ax,\n",
    "                   plot_colorbar=False)\n",
    "\n",
    "# Plot measurements for this galaxy\n",
    "markers = [\"o\", \">\", \"D\"]\n",
    "plot2dscatter(df=df_gal,\n",
    "              col_x=f\"sigma_gas - sigma_* (component 0)\",\n",
    "              col_y=f\"log HALPHA EW (component 0)\",\n",
    "              col_z=col_z,\n",
    "              marker=markers[0], ax=ax, \n",
    "              cax=None,\n",
    "              markersize=20, \n",
    "              markeredgecolor=\"black\",\n",
    "              plot_colorbar=False)\n",
    "\n",
    "ax.set_xlim(\n",
    "    [\n",
    "        np.nanmin([vmin_fn(\"sigma_gas - sigma_*\"), df_gal[\"sigma_gas - sigma_* (component 0)\"].min() - 50]),\n",
    "        np.nanmax([vmax_fn(\"sigma_gas - sigma_*\"), df_gal[\"sigma_gas - sigma_* (component 0)\"].max() + 50])\n",
    "    ]\n",
    ")\n",
    "\n",
    "# Decorations\n",
    "ax.grid()\n",
    "\n",
    "# Save\n",
    "if savefigs:\n",
    "    fname = os.path.join(fig_path, f\"GAMA{gal}_WHAN_WHAV.pdf\")\n",
    "    fig.savefig(fname, bbox_inches=\"tight\", format=\"pdf\")\n",
    "    print(f\"Saving to {fname}\")"
   ]
  },
  {
   "cell_type": "markdown",
   "metadata": {},
   "source": [
    "# **Analysis of star-forming spaxels**\n",
    "---\n",
    "---"
   ]
  },
  {
   "cell_type": "code",
   "execution_count": null,
   "metadata": {},
   "outputs": [],
   "source": [
    "plt.close(\"all\")"
   ]
  },
  {
   "cell_type": "code",
   "execution_count": 58,
   "metadata": {},
   "outputs": [],
   "source": [
    "df[\"log SFR\"] = np.log10(df[\"SFR\"])\n",
    "df[\"log SFR surface density\"] = np.log10(df[\"SFR surface density\"])\n",
    "\n",
    "# Make a separate DataFrame only containing star-forming spaxels\n",
    "df_SF = df.copy()\n",
    "df_SF = df_SF[df_SF[\"BPT (total)\"] == \"SF\"]\n",
    "\n",
    "# Inclination cut?\n",
    "# df_SF = df_SF[df_SF[\"Inclination i (degrees)\"] < 30]\n",
    "\n",
    "# Remove spaxels at small radii?\n",
    "\n",
    "# # Remove spaxels with v_grad > some cutoff?\n",
    "# df_SF = df_SF[(df_SF[\"v_grad (component 0)\"] < 10) &\n",
    "#               ((df_SF[\"v_grad (component 1)\"] < 10) | (df_SF[\"v_grad (component 1)\"].isna())) & \n",
    "#               ((df_SF[\"v_grad (component 2)\"] < 10) | (df_SF[\"v_grad (component 2)\"].isna()))]\n",
    "\n",
    "# df_SF = df_SF[df_SF[\"log N2 (total)\"] <= -0.35]\n",
    "savefigs = False "
   ]
  },
  {
   "cell_type": "markdown",
   "metadata": {},
   "source": [
    "### PLOT: histograms showing local/global/systematic quantities for spaxels with and without at least 1 kinematically disturbed copmonent: what determines the presence of kinematic components with $\\Delta \\sigma >> 0$?\n",
    "---"
   ]
  },
  {
   "cell_type": "code",
   "execution_count": 60,
   "metadata": {
    "scrolled": false
   },
   "outputs": [
    {
     "name": "stderr",
     "output_type": "stream",
     "text": [
      "/pkg/linux/anaconda-20191122/anaconda3/lib/python3.7/site-packages/ipykernel_launcher.py:2: RuntimeWarning: More than 20 figures have been opened. Figures created through the pyplot interface (`matplotlib.pyplot.figure`) are retained until explicitly closed and may consume too much memory. (To control this warning, see the rcParam `figure.max_open_warning`).\n",
      "  \n"
     ]
    },
    {
     "data": {
      "application/vnd.jupyter.widget-view+json": {
       "model_id": "e05aebe6187342c2a649830aca010bae",
       "version_major": 2,
       "version_minor": 0
      },
      "text/plain": [
       "Canvas(toolbar=Toolbar(toolitems=[('Home', 'Reset original view', 'home', 'home'), ('Back', 'Back to previous …"
      ]
     },
     "metadata": {},
     "output_type": "display_data"
    }
   ],
   "source": [
    "# Halpha EW, SFR, SFR surface density\n",
    "fig, axs = plt.subplots(nrows=1, ncols=3, figsize=(15, 4))\n",
    "fig.subplots_adjust(wspace=0)\n",
    "for cc, col_x in enumerate([\"log HALPHA EW (total)\", \"log SFR\", \"log SFR surface density\"]):\n",
    "    for ii in range(2):\n",
    "        cond = df_SF[\"Number of kinematically disturbed components\"] == ii\n",
    "        hist(df_SF.loc[cond, col_x], density=True, histtype=\"step\",\n",
    "             ax=axs[cc], range=(vmin_fn(col_x), 100 if col_x.startswith(\"sigma\") else vmax_fn(col_x)),\n",
    "             bins=\"scott\",\n",
    "             label=f\"{ncomponents_labels[ii]} KD component{'s' if ii  > 1 else ''}\" + r\" ($N = %d$)\" % (df_SF.loc[cond, col_x].shape[0]),\n",
    "             color=ncomponents_colours[ii + 1])\n",
    "    axs[cc].set_xlabel(label_fn(col_x))\n",
    "    axs[cc].set_yticklabels([]) if ii > 0 else None\n",
    "axs[0].axvline(np.log10(3), linestyle=\"--\", color=\"k\")\n",
    "axs[0].legend(fontsize=\"x-small\", loc=\"upper left\")\n",
    "axs[0].set_ylabel(r\"$N$ (normalised)\")\n",
    "fig.suptitle(r\"H$\\alpha$-derived quantities (SF spaxels only)\", y=0.94)\n",
    "\n",
    "if savefigs:\n",
    "    fname = os.path.join(fig_path, f\"hist_KDcomponents_HaEW_and_sigma_and_SFR_SF_only\")\n",
    "    print(f\"Saving to {fname}\")\n",
    "    fig.savefig(fname, bbox_inches=\"tight\")"
   ]
  },
  {
   "cell_type": "code",
   "execution_count": 63,
   "metadata": {
    "scrolled": true
   },
   "outputs": [
    {
     "name": "stderr",
     "output_type": "stream",
     "text": [
      "/pkg/linux/anaconda-20191122/anaconda3/lib/python3.7/site-packages/ipykernel_launcher.py:2: RuntimeWarning: More than 20 figures have been opened. Figures created through the pyplot interface (`matplotlib.pyplot.figure`) are retained until explicitly closed and may consume too much memory. (To control this warning, see the rcParam `figure.max_open_warning`).\n",
      "  \n"
     ]
    },
    {
     "data": {
      "application/vnd.jupyter.widget-view+json": {
       "model_id": "a309b60cab28454eb36c65438045265d",
       "version_major": 2,
       "version_minor": 0
      },
      "text/plain": [
       "Canvas(toolbar=Toolbar(toolitems=[('Home', 'Reset original view', 'home', 'home'), ('Back', 'Back to previous …"
      ]
     },
     "metadata": {},
     "output_type": "display_data"
    },
    {
     "name": "stderr",
     "output_type": "stream",
     "text": [
      "/pkg/linux/anaconda-20191122/anaconda3/lib/python3.7/site-packages/ipykernel_launcher.py:25: RuntimeWarning: More than 20 figures have been opened. Figures created through the pyplot interface (`matplotlib.pyplot.figure`) are retained until explicitly closed and may consume too much memory. (To control this warning, see the rcParam `figure.max_open_warning`).\n"
     ]
    },
    {
     "data": {
      "application/vnd.jupyter.widget-view+json": {
       "model_id": "dee6e9dbb2fb4eb2ba15863d0c17f85f",
       "version_major": 2,
       "version_minor": 0
      },
      "text/plain": [
       "Canvas(toolbar=Toolbar(toolitems=[('Home', 'Reset original view', 'home', 'home'), ('Back', 'Back to previous …"
      ]
     },
     "metadata": {},
     "output_type": "display_data"
    },
    {
     "name": "stderr",
     "output_type": "stream",
     "text": [
      "/pkg/linux/anaconda-20191122/anaconda3/lib/python3.7/site-packages/ipykernel_launcher.py:51: RuntimeWarning: More than 20 figures have been opened. Figures created through the pyplot interface (`matplotlib.pyplot.figure`) are retained until explicitly closed and may consume too much memory. (To control this warning, see the rcParam `figure.max_open_warning`).\n"
     ]
    },
    {
     "data": {
      "application/vnd.jupyter.widget-view+json": {
       "model_id": "76387cdd905d49e4880e465f065f027a",
       "version_major": 2,
       "version_minor": 0
      },
      "text/plain": [
       "Canvas(toolbar=Toolbar(toolitems=[('Home', 'Reset original view', 'home', 'home'), ('Back', 'Back to previous …"
      ]
     },
     "metadata": {},
     "output_type": "display_data"
    },
    {
     "name": "stderr",
     "output_type": "stream",
     "text": [
      "/pkg/linux/anaconda-20191122/anaconda3/lib/python3.7/site-packages/ipykernel_launcher.py:75: RuntimeWarning: More than 20 figures have been opened. Figures created through the pyplot interface (`matplotlib.pyplot.figure`) are retained until explicitly closed and may consume too much memory. (To control this warning, see the rcParam `figure.max_open_warning`).\n"
     ]
    },
    {
     "data": {
      "application/vnd.jupyter.widget-view+json": {
       "model_id": "763e7261c04f4acda520f0d6c269095f",
       "version_major": 2,
       "version_minor": 0
      },
      "text/plain": [
       "Canvas(toolbar=Toolbar(toolitems=[('Home', 'Reset original view', 'home', 'home'), ('Back', 'Back to previous …"
      ]
     },
     "metadata": {},
     "output_type": "display_data"
    }
   ],
   "source": [
    "# Systematic quantities\n",
    "fig, axs = plt.subplots(nrows=1, ncols=3, figsize=(15, 4))\n",
    "fig.subplots_adjust(wspace=0)\n",
    "for cc, col_x in enumerate([\"Bin size (square kpc)\", \"z_spec\", \"Inclination i (degrees)\"]):\n",
    "    for ii in range(2):\n",
    "        cond = df_SF[\"Number of kinematically disturbed components\"] == ii\n",
    "        hist(df_SF.loc[cond, col_x], density=True, histtype=\"step\",\n",
    "             ax=axs[cc],\n",
    "             bins=\"scott\", \n",
    "             range=(0, 90) if col_x == \"Inclination i (degrees)\" else None,\n",
    "             label=f\"{ncomponents_labels[ii]} KD component{'s' if ii > 1 else ''}\" + r\" ($N = %d$)\" % (df_SF.loc[cond].shape[0]),\n",
    "             color=ncomponents_colours[ii + 1])\n",
    "    axs[cc].set_xlabel(label_fn(col_x))\n",
    "    axs[cc].set_yticklabels([]) if cc > 0 else None\n",
    "# axs[0].legend(fontsize=\"x-small\", loc=\"upper right\")\n",
    "axs[0].set_ylabel(r\"$N$ (normalised)\")\n",
    "fig.suptitle(\"Systematics (SF spaxels only)\", y=0.94)\n",
    "\n",
    "if savefigs:\n",
    "    fname = os.path.join(fig_path, f\"hist_KDcomponents_systematic_SF_only.pdf\")\n",
    "    print(f\"Saving to {fname}\")\n",
    "    fig.savefig(fname, bbox_inches=\"tight\", format=\"pdf\")\n",
    "    \n",
    "# Specifically looking at v_grad\n",
    "fig, axs = plt.subplots(nrows=1, ncols=1, figsize=(5, 4))\n",
    "fig.subplots_adjust(wspace=0)\n",
    "axs = [axs]\n",
    "for cc, col_x in enumerate([\"v_grad (component 0)\"]):\n",
    "    for ii in range(2):\n",
    "        cond = df_SF[\"Number of kinematically disturbed components\"] == ii\n",
    "        if all(df_SF.loc[cond, col_x].isna()):\n",
    "            continue\n",
    "        hist(df_SF.loc[cond, col_x], density=True, histtype=\"step\",\n",
    "             ax=axs[cc],\n",
    "             bins=\"scott\", range=(0, 150),\n",
    "             label=f\"{ncomponents_labels[ii]} KD component{'s' if ii > 1 else ''}\" + r\" ($N = %d$)\" % (df_SF.loc[cond].shape[0]),\n",
    "             color=ncomponents_colours[ii + 1])\n",
    "    axs[cc].set_xlabel(label_fn(col_x) + f\" (component {cc + 1})\")\n",
    "    axs[cc].set_yticklabels([]) if cc > 0 else None\n",
    "    axs[cc].autoscale(enable=True, axis=\"x\", tight=True)\n",
    "# axs[0].legend(fontsize=\"x-small\", loc=\"upper left\")\n",
    "axs[0].set_ylabel(r\"$N$ (normalised)\")\n",
    "fig.suptitle(r\"$v_{\\rm grad}$ (SF spaxels only)\", y=0.94)\n",
    "\n",
    "if savefigs:\n",
    "    fname = os.path.join(fig_path, f\"hist_KDcomponents_vgrad_SF_only.pdf\")\n",
    "    print(f\"Saving to {fname}\")\n",
    "    fig.savefig(fname, bbox_inches=\"tight\", format=\"pdf\")\n",
    "\n",
    "# Local quantities\n",
    "fig, axs = plt.subplots(nrows=1, ncols=3, figsize=(15, 4))\n",
    "fig.subplots_adjust(wspace=0)\n",
    "for cc, col_x in enumerate([\"D4000\", \"r/R_e\", \"sigma_*\"]):\n",
    "    for ii in range(2):\n",
    "        cond = df_SF[\"Number of kinematically disturbed components\"] == ii\n",
    "        hist(df_SF.loc[cond, col_x], density=True, histtype=\"step\",\n",
    "             ax=axs[cc], \n",
    "             range=(vmin_fn(col_x), 100 if col_x.startswith(\"sigma_gas\") else vmax_fn(col_x)),\n",
    "             bins=\"scott\",\n",
    "             label=f\"{ncomponents_labels[ii]} KD component{'s' if ii > 1 else ''}\" + r\" ($N = %d$)\" % (df_SF.loc[cond].shape[0]),\n",
    "             color=ncomponents_colours[ii + 1])\n",
    "    axs[cc].set_xlabel(label_fn(col_x))\n",
    "    axs[cc].set_yticklabels([]) if cc > 0 else None\n",
    "    axs[cc].autoscale(enable=True, axis=\"x\", tight=True)\n",
    "# axs[-1].legend(fontsize=\"x-small\", loc=\"upper right\")\n",
    "axs[0].set_ylabel(r\"$N$ (normalised)\")\n",
    "fig.suptitle(\"Local properties (SF spaxels only)\", y=0.94)\n",
    "\n",
    "if savefigs:\n",
    "    fname = os.path.join(fig_path, f\"hist_KDcomponents_local_SF_only.pdf\")\n",
    "    print(f\"Saving to {fname}\")\n",
    "    fig.savefig(fname, bbox_inches=\"tight\", format=\"pdf\")\n",
    "\n",
    "# Global quantities\n",
    "fig, axs = plt.subplots(nrows=1, ncols=3, figsize=(15, 4))\n",
    "fig.subplots_adjust(wspace=0)\n",
    "\n",
    "for cc, col_x in enumerate([\"R_e (kpc)\", \"mstar\", \"log(M/R_e)\"]):\n",
    "    for ii in range(2):\n",
    "        cond = df_SF[\"Number of kinematically disturbed components\"] == ii\n",
    "        hist(df_SF.loc[cond, col_x], density=True, histtype=\"step\",\n",
    "             ax=axs[cc], range=(vmin_fn(col_x), 100 if col_x.startswith(\"sigma\") else vmax_fn(col_x)),\n",
    "             bins=\"scott\",\n",
    "             label=f\"{ncomponents_labels[ii]} KD component{'s' if ii  > 1 else ''}\" + r\" ($N = %d$)\" % (df_SF.loc[cond].shape[0]),\n",
    "             color=ncomponents_colours[ii + 1])\n",
    "    axs[cc].set_xlabel(label_fn(col_x))\n",
    "    axs[cc].set_yticklabels([]) if cc > 0 else None\n",
    "    axs[cc].autoscale(enable=True, axis=\"x\", tight=True)\n",
    "# axs[0].legend(fontsize=\"x-small\", loc=\"upper left\")\n",
    "axs[0].set_ylabel(r\"$N$ (normalised)\")\n",
    "fig.suptitle(\"Global properties (SF spaxels only)\", y=0.94)\n",
    "\n",
    "if savefigs:\n",
    "    fname = os.path.join(fig_path, f\"hist_KDcomponents_global_SF_only.pdf\")\n",
    "    print(f\"Saving to {fname}\")\n",
    "    fig.savefig(fname, bbox_inches=\"tight\", format=\"pdf\")"
   ]
  },
  {
   "cell_type": "code",
   "execution_count": null,
   "metadata": {},
   "outputs": [],
   "source": []
  },
  {
   "cell_type": "code",
   "execution_count": null,
   "metadata": {},
   "outputs": [],
   "source": [
    "# Compute how many spaxels w/ KD components there are in bins of SFR surface density (and SFR)\n",
    "\n",
    "for col_x in [\"log SFR\", \"log SFR surface density\"]:\n",
    "    sfr_vals = np.linspace(vmin_fn(col_x), vmax_fn(col_x), 11)\n",
    "    counts_1 = np.zeros(len(sfr_vals) - 1)\n",
    "    counts_2 = np.zeros(len(sfr_vals) - 1)\n",
    "    counts_3 = np.zeros(len(sfr_vals) - 1)\n",
    "    counts_tot = np.zeros(len(sfr_vals) - 1)\n",
    "\n",
    "    for ll in range(len(sfr_vals) - 1):\n",
    "        cond = df_SF[f\"{col_x} (component 0)\"] > sfr_vals[ll]\n",
    "        cond &= df_SF[f\"{col_x} (component 0)\"] <= sfr_vals[ll + 1]\n",
    "        df_subset = df_SF[cond]\n",
    "        counts_tot[ll] = df_subset.shape[0]\n",
    "        counts_1[ll] = df_subset[df_subset[\"Number of kinematically disturbed components\"] == 0].shape[0]\n",
    "        counts_2[ll] = df_subset[df_subset[\"Number of kinematically disturbed components\"] == 1].shape[0]\n",
    "        counts_3[ll] = df_subset[df_subset[\"Number of kinematically disturbed components\"] == 2].shape[0]\n",
    "\n",
    "    # Plot\n",
    "    fig, axs = plt.subplots(nrows=2, ncols=1, sharex=True, figsize=(7, 8))\n",
    "    fig.subplots_adjust(hspace=0)\n",
    "\n",
    "    # Plot\n",
    "    axs[0].bar(sfr_vals[:-1], counts_1,\n",
    "               align=\"edge\", width=np.diff(sfr_vals)[0], color=ncomponents_colours[1],\n",
    "               label=\"0 KD components\")\n",
    "    axs[0].bar(sfr_vals[:-1], counts_2, bottom=counts_1,\n",
    "               align=\"edge\", width=np.diff(sfr_vals)[0], color=ncomponents_colours[2],\n",
    "               label=\"1 KD component\")\n",
    "    axs[0].bar(sfr_vals[:-1], counts_3, bottom=counts_1 + counts_2,\n",
    "               align=\"edge\", width=np.diff(sfr_vals)[0], color=ncomponents_colours[3],\n",
    "               label=\"2 KD components\")\n",
    "    axs[0].grid()\n",
    "    axs[0].set_ylabel(r\"$N$\")\n",
    "    axs[0].set_yscale(\"log\")\n",
    "    axs[0].autoscale(axis=\"x\", enable=True, tight=True)\n",
    "    axs[0].legend(loc=\"upper right\", fontsize=\"small\")\n",
    "    axs[0].set_ylim([0.5, None])\n",
    "    \n",
    "    axs[1].bar(sfr_vals[:-1], counts_1 / counts_tot  * 100,\n",
    "           align=\"edge\", width=np.diff(sfr_vals)[0], color=ncomponents_colours[1])\n",
    "    axs[1].bar(sfr_vals[:-1], counts_2 / counts_tot  * 100, bottom=counts_1 / counts_tot * 100,\n",
    "           align=\"edge\", width=np.diff(sfr_vals)[0], color=ncomponents_colours[2])\n",
    "    axs[1].bar(sfr_vals[:-1], counts_3 / counts_tot * 100, bottom=counts_1 / counts_tot * 100 + counts_2 / counts_tot * 100,\n",
    "           align=\"edge\", width=np.diff(sfr_vals)[0], color=ncomponents_colours[3])\n",
    "    axs[1].grid()\n",
    "    axs[1].set_ylabel(\"Percentage\")\n",
    "    axs[1].autoscale(axis=\"x\", enable=True, tight=True)\n",
    "    axs[1].autoscale(axis=\"y\", enable=True, tight=True)\n",
    "    axs[1].set_xlabel(label_fn(col_x))\n",
    "\n",
    "    # Heckman+2002 line\n",
    "    if col_x == \"log SFR surface density\":\n",
    "        axs[0].axvline(-1, color=\"k\", linestyle=\"--\")\n",
    "        axs[1].axvline(-1, color=\"k\", linestyle=\"--\")\n",
    "        \n",
    "    if savefigs:\n",
    "        fname = os.path.join(fig_path, f\"hist_SF_only_{col_x.replace(' ', '_')}_KDcomponents.pdf\")\n",
    "        print(f\"Saving to {fname}\")\n",
    "        fig.savefig(fname, bbox_inches=\"tight\")\n"
   ]
  },
  {
   "cell_type": "markdown",
   "metadata": {},
   "source": [
    "### ~PLOT: WHAV* diagrams for SF spaxels in slices of SFR surface density and SFR~\n",
    "---"
   ]
  },
  {
   "cell_type": "code",
   "execution_count": null,
   "metadata": {},
   "outputs": [],
   "source": [
    "col_z = \"count\"\n",
    "sfr_bounds = [\n",
    "    (-4, -3),\n",
    "    (-3, -2),\n",
    "    (-2, -1),\n",
    "    (-1, 0)\n",
    "]\n",
    "for sfr_min, sfr_max in sfr_bounds:\n",
    "    fig, axs = plt.subplots(nrows=1, ncols=3, figsize=(5 * 3, 5))\n",
    "    fig.subplots_adjust(wspace=0)\n",
    "    bbox = axs[-1].get_position()\n",
    "    cax = fig.add_axes([bbox.x0 + bbox.width, bbox.y0, bbox.width * 0.1, bbox.height])\n",
    "\n",
    "    df_slice = df[(df[\"log SFR surface density (component 0)\"] > sfr_min) & (df[\"log SFR surface density (component 0)\"] <= sfr_max)]\n",
    "    \n",
    "    for ii in range(3):\n",
    "        plot2dhistcontours(df_slice, col_x=f\"sigma_gas - sigma_* (component {ii})\",\n",
    "                           col_y=f\"log HALPHA EW (component {ii})\",\n",
    "                           col_z=f\"{col_z} (component {ii})\" if f\"{col_z} (component {ii})\" in df else col_z, \n",
    "                           log_z=True if col_z == \"count\" else False,\n",
    "                           alpha=1.0, ax=axs[ii], cax=cax, nbins=100,\n",
    "                           linewidths=0.5,\n",
    "                           contours=True, hist=True, colors=\"white\",\n",
    "                           vmin=1 if col_z == \"count\" else None, \n",
    "                           vmax=1e3 if col_z == \"count\" else None,\n",
    "                           plot_colorbar=True if ii == 3 - 1 else False)\n",
    "        # Decorations\n",
    "        axs[ii].grid()\n",
    "        axs[ii].set_ylabel(\"\") if ii > 0 else None\n",
    "        axs[ii].set_yticklabels([]) if ii > 0 else None\n",
    "        axs[ii].text(s=f\"Component {ii + 1}\", x=0.05, y=0.95, transform=axs[ii].transAxes, verticalalignment=\"top\")\n",
    "        axs[1].set_title(r\"$%.1f < \\log_{10} \\Sigma_{\\rm SFR} \\leq %.1f$\" % (sfr_min, sfr_max))\n",
    "\n",
    "    # Save\n",
    "#     if savefigs:\n",
    "#         fname = os.path.join(fig_path, f\"WHAV_SAMI_{fname_fn(col_z)}.pdf\")\n",
    "#         fig.savefig(fname, bbox_inches=\"tight\", format=\"pdf\")\n",
    "#         print(f\"File saved at: {fname}\")      \n"
   ]
  },
  {
   "cell_type": "markdown",
   "metadata": {},
   "source": [
    "### PLOT: WHAV* diagrams for SF spaxels in slices of *total* galaxy SFR\n",
    "---"
   ]
  },
  {
   "cell_type": "code",
   "execution_count": null,
   "metadata": {},
   "outputs": [],
   "source": [
    "# Compute total galaxy SFR \n",
    "for gal in df.catid.unique():\n",
    "    df_gal = df[df.catid == gal]\n",
    "    SFR_tot_comp0 = df_gal[\"SFR (component 0)\"].sum()\n",
    "    SFR_tot = df_gal[\"SFR (total)\"].sum()\n",
    "    mstar = df_gal[\"mstar\"].unique()[0]\n",
    "    df.loc[df.catid == gal, \"SFR (whole galaxy, component 0)\"] = SFR_tot_comp0\n",
    "    df.loc[df.catid == gal, \"SFR (whole galaxy, total)\"] = SFR_tot\n",
    "    df.loc[df.catid == gal, \"sSFR (whole galaxy, component 0)\"] = SFR_tot_comp0 / 10**mstar\n",
    "    df.loc[df.catid == gal, \"sSFR (whole galaxy, total)\"] = SFR_tot / 10**mstar\n",
    "    \n",
    "df[\"log SFR (whole galaxy, component 0)\"] = np.log10(df[\"SFR (whole galaxy, component 0)\"])\n",
    "df[\"log SFR (whole galaxy, total)\"] = np.log10(df[\"SFR (whole galaxy, total)\"])\n",
    "df[\"log sSFR (whole galaxy, component 0)\"] = np.log10(df[\"sSFR (whole galaxy, component 0)\"])\n",
    "df[\"log sSFR (whole galaxy, total)\"] = np.log10(df[\"sSFR (whole galaxy, total)\"])"
   ]
  },
  {
   "cell_type": "code",
   "execution_count": null,
   "metadata": {},
   "outputs": [],
   "source": [
    "plt.figure(); plt.hist(df[\"log sSFR (whole galaxy, total)\"].values, range=(-18, -7))"
   ]
  },
  {
   "cell_type": "code",
   "execution_count": null,
   "metadata": {},
   "outputs": [],
   "source": [
    "# Slices of overall SFR \n",
    "col_z = \"count\"\n",
    "sfr_bounds = [\n",
    "    (-5, -4),\n",
    "    (-4, -3),\n",
    "    (-3, -2),\n",
    "    (-2, -1),\n",
    "    (-1, 0),\n",
    "    (0, 1)\n",
    "]\n",
    "for sfr_min, sfr_max in sfr_bounds:\n",
    "    fig, axs = plt.subplots(nrows=1, ncols=3, figsize=(5 * 3, 5))\n",
    "    fig.subplots_adjust(wspace=0)\n",
    "    bbox = axs[-1].get_position()\n",
    "    cax = fig.add_axes([bbox.x0 + bbox.width, bbox.y0, bbox.width * 0.1, bbox.height])\n",
    "\n",
    "    df_slice = df[(df[\"log SFR (whole galaxy, component 0)\"] > sfr_min) & (df[\"log SFR (whole galaxy, component 0)\"] <= sfr_max)]\n",
    "    \n",
    "    for ii in range(3):\n",
    "        plot2dhistcontours(df_slice, col_x=f\"sigma_gas - sigma_* (component {ii})\",\n",
    "                           col_y=f\"log HALPHA EW (component {ii})\",\n",
    "                           col_z=f\"{col_z} (component {ii})\" if f\"{col_z} (component {ii})\" in df else col_z, \n",
    "                           log_z=True if col_z == \"count\" else False,\n",
    "                           alpha=1.0, ax=axs[ii], cax=cax, nbins=100,\n",
    "                           linewidths=0.5,\n",
    "                           contours=True, hist=True, colors=\"white\",\n",
    "                           vmin=1 if col_z == \"count\" else None, \n",
    "                           vmax=1e3 if col_z == \"count\" else None,\n",
    "                           plot_colorbar=True if ii == 3 - 1 else False)\n",
    "        # Decorations\n",
    "        axs[ii].grid()\n",
    "        axs[ii].set_ylabel(\"\") if ii > 0 else None\n",
    "        axs[ii].set_yticklabels([]) if ii > 0 else None\n",
    "        axs[ii].text(s=f\"Component {ii + 1}\", x=0.05, y=0.95, transform=axs[ii].transAxes, verticalalignment=\"top\")\n",
    "        axs[1].set_title(r\"$%.1f < \\log_{10} {\\rm SFR_{tot}} \\leq %.1f$\" % (sfr_min, sfr_max))\n",
    "\n",
    "    # Save\n",
    "#     if savefigs:\n",
    "#         fname = os.path.join(fig_path, f\"WHAV_SAMI_{fname_fn(col_z)}.pdf\")\n",
    "#         fig.savefig(fname, bbox_inches=\"tight\", format=\"pdf\")\n",
    "#         print(f\"File saved at: {fname}\")      \n"
   ]
  },
  {
   "cell_type": "code",
   "execution_count": null,
   "metadata": {},
   "outputs": [],
   "source": [
    "# Slices of specific SFR \n",
    "col_z = \"count\"\n",
    "ssfr_bounds = [\n",
    "    (-16, -14),\n",
    "    (-14, -12),\n",
    "    (-12, -10),\n",
    "    (-10, -8),\n",
    "]\n",
    "for ssfr_min, ssfr_max in ssfr_bounds:\n",
    "    fig, axs = plt.subplots(nrows=1, ncols=3, figsize=(5 * 3, 5))\n",
    "    fig.subplots_adjust(wspace=0)\n",
    "    bbox = axs[-1].get_position()\n",
    "    cax = fig.add_axes([bbox.x0 + bbox.width, bbox.y0, bbox.width * 0.1, bbox.height])\n",
    "\n",
    "    df_slice = df[(df[\"log sSFR (whole galaxy, component 0)\"] > ssfr_min) & (df[\"log sSFR (whole galaxy, component 0)\"] <= ssfr_max)]\n",
    "    \n",
    "    for ii in range(3):\n",
    "        plot2dhistcontours(df_slice, col_x=f\"sigma_gas - sigma_* (component {ii})\",\n",
    "                           col_y=f\"log HALPHA EW (component {ii})\",\n",
    "                           col_z=f\"{col_z} (component {ii})\" if f\"{col_z} (component {ii})\" in df else col_z, \n",
    "                           log_z=True if col_z == \"count\" else False,\n",
    "                           alpha=1.0, ax=axs[ii], cax=cax, nbins=100,\n",
    "                           linewidths=0.5,\n",
    "                           contours=True, hist=True, colors=\"white\",\n",
    "                           vmin=1 if col_z == \"count\" else None, \n",
    "                           vmax=1e3 if col_z == \"count\" else None,\n",
    "                           plot_colorbar=True if ii == 3 - 1 else False)\n",
    "        # Decorations\n",
    "        axs[ii].grid()\n",
    "        axs[ii].set_ylabel(\"\") if ii > 0 else None\n",
    "        axs[ii].set_yticklabels([]) if ii > 0 else None\n",
    "        axs[ii].text(s=f\"Component {ii + 1}\", x=0.05, y=0.95, transform=axs[ii].transAxes, verticalalignment=\"top\")\n",
    "        axs[1].set_title(r\"$%.1f < \\log_{10} {\\rm sSFR_{tot}} \\leq %.1f$\" % (ssfr_min, ssfr_max))\n",
    "\n",
    "    # Save\n",
    "#     if savefigs:\n",
    "#         fname = os.path.join(fig_path, f\"WHAV_SAMI_{fname_fn(col_z)}.pdf\")\n",
    "#         fig.savefig(fname, bbox_inches=\"tight\", format=\"pdf\")\n",
    "#         print(f\"File saved at: {fname}\")      \n"
   ]
  },
  {
   "cell_type": "markdown",
   "metadata": {},
   "source": [
    "### PLOT: WHAV* diagrams for SF spaxels coloured by SFR and SFR surface density\n",
    "---"
   ]
  },
  {
   "cell_type": "code",
   "execution_count": null,
   "metadata": {},
   "outputs": [],
   "source": [
    "col_z_list = [\"log SFR surface density (component 0)\"]\n",
    "for col_z in col_z_list:\n",
    "    fig, axs = plt.subplots(nrows=1, ncols=3, figsize=(5 * 3, 5))\n",
    "    fig.subplots_adjust(wspace=0)\n",
    "    bbox = axs[-1].get_position()\n",
    "    cax = fig.add_axes([bbox.x0 + bbox.width, bbox.y0, bbox.width * 0.1, bbox.height])\n",
    "\n",
    "    for ii in range(3):\n",
    "        plot2dhistcontours(df_SF, col_x=f\"sigma_gas - sigma_* (component {ii})\",\n",
    "                           col_y=f\"log HALPHA EW (component {ii})\",\n",
    "                           col_z=f\"{col_z} (component {ii})\" if f\"{col_z} (component {ii})\" in df_SF else col_z, \n",
    "                           log_z=True if col_z == \"count\" else False,\n",
    "                           alpha=1.0, ax=axs[ii], cax=cax, nbins=100,\n",
    "                           linewidths=0.5,\n",
    "                           contours=True, hist=True, colors=\"white\",\n",
    "                           cmap=\"coolwarm_r\", vmin=-3, vmax=-1,\n",
    "                           plot_colorbar=True if ii == 3 - 1 else False)\n",
    "        # Decorations\n",
    "        axs[ii].grid()\n",
    "        axs[ii].set_ylabel(\"\") if ii > 0 else None\n",
    "        axs[ii].set_yticklabels([]) if ii > 0 else None\n",
    "        axs[ii].text(s=f\"Component {ii + 1}\", x=0.05, y=0.95, transform=axs[ii].transAxes, verticalalignment=\"top\")\n",
    "        axs[1].set_title(\"SF spaxels only\")\n",
    "\n",
    "    # Save\n",
    "    if savefigs:\n",
    "        fname = os.path.join(fig_path, f\"WHAV_SAMI_SF_only_{fname_fn(col_z)}.pdf\")\n",
    "        print(f\"Saving to {fname}\")\n",
    "        fig.savefig(fname, bbox_inches=\"tight\", format=\"pdf\")\n",
    "        \n",
    "col_z_list = [\"log SFR (component 0)\"]\n",
    "for col_z in col_z_list:\n",
    "    fig, axs = plt.subplots(nrows=1, ncols=3, figsize=(5 * 3, 5))\n",
    "    fig.subplots_adjust(wspace=0)\n",
    "    bbox = axs[-1].get_position()\n",
    "    cax = fig.add_axes([bbox.x0 + bbox.width, bbox.y0, bbox.width * 0.1, bbox.height])\n",
    "\n",
    "    for ii in range(3):\n",
    "        plot2dhistcontours(df_SF, col_x=f\"sigma_gas - sigma_* (component {ii})\",\n",
    "                           col_y=f\"log HALPHA EW (component {ii})\",\n",
    "                           col_z=f\"{col_z} (component {ii})\" if f\"{col_z} (component {ii})\" in df_SF else col_z, \n",
    "                           log_z=True if col_z == \"count\" else False,\n",
    "                           alpha=1.0, ax=axs[ii], cax=cax, nbins=100,\n",
    "                           linewidths=0.5,\n",
    "                           contours=True, hist=True, colors=\"white\",\n",
    "                           vmin=-4, vmax=-2,\n",
    "                           plot_colorbar=True if ii == 3 - 1 else False)\n",
    "        # Decorations\n",
    "        axs[ii].grid()\n",
    "        axs[ii].set_ylabel(\"\") if ii > 0 else None\n",
    "        axs[ii].set_yticklabels([]) if ii > 0 else None\n",
    "        axs[ii].text(s=f\"Component {ii + 1}\", x=0.05, y=0.95, transform=axs[ii].transAxes, verticalalignment=\"top\")\n",
    "        axs[1].set_title(\"SF spaxels only\")\n",
    "\n",
    "    # Save\n",
    "    if savefigs:\n",
    "        fname = os.path.join(fig_path, f\"WHAV_SAMI_SF_only_{fname_fn(col_z)}.pdf\")\n",
    "        print(f\"Saving to {fname}\")\n",
    "        fig.savefig(fname, bbox_inches=\"tight\", format=\"pdf\")"
   ]
  },
  {
   "cell_type": "markdown",
   "metadata": {},
   "source": [
    "### ~PLOT: histograms of $\\Delta \\sigma$ in slices of SFR surface density to see if there is a correlation~\n",
    "---"
   ]
  },
  {
   "cell_type": "code",
   "execution_count": null,
   "metadata": {},
   "outputs": [],
   "source": [
    "fig, axs = plt.subplots(nrows=1, ncols=3, figsize=(5 * 3, 5))\n",
    "fig.subplots_adjust(wspace=0)\n",
    "\n",
    "sfr_bounds = [\n",
    "    (-5, -3),\n",
    "    (-3, -1),\n",
    "    (-1, 1)\n",
    "]\n",
    "sfr_colours = [\n",
    "    \"darkred\", \"red\", \"orange\"\n",
    "]\n",
    "for (sfr_min, sfr_max), colour in zip(sfr_bounds, sfr_colours):\n",
    "    df_slice = df[(df[\"log SFR surface density (component 0)\"] > sfr_min) & (df[\"log SFR surface density (component 0)\"] <= sfr_max)]\n",
    "    \n",
    "    for ii in range(3):\n",
    "        hist(df_slice[f\"sigma_gas - sigma_* (component {ii})\"], ax=axs[ii], \n",
    "             color=colour,\n",
    "             range=(vmin_fn(\"sigma_gas - sigma_*\"), vmax_fn(\"sigma_gas - sigma_*\")), \n",
    "             bins=\"scott\", histtype=\"step\", normed=True)\n",
    "        "
   ]
  },
  {
   "cell_type": "markdown",
   "metadata": {},
   "source": [
    "### PLOT: WHAV* diagrams for SF-only spaxels coloured by various properties to see what drives the spread in the diagram\n",
    "---"
   ]
  },
  {
   "cell_type": "code",
   "execution_count": null,
   "metadata": {},
   "outputs": [],
   "source": [
    "plt.close(\"all\")"
   ]
  },
  {
   "cell_type": "code",
   "execution_count": null,
   "metadata": {
    "scrolled": false
   },
   "outputs": [],
   "source": [
    "col_z_list = [\"mstar\", \"r/R_e\", \"sigma_*\", \"log HALPHA continuum luminosity\", \"log HALPHA luminosity\"]\n",
    "for col_z in col_z_list:\n",
    "    fig, axs = plt.subplots(nrows=1, ncols=3, figsize=(5 * 3, 5))\n",
    "    fig.subplots_adjust(wspace=0)\n",
    "    bbox = axs[-1].get_position()\n",
    "    cax = fig.add_axes([bbox.x0 + bbox.width, bbox.y0, bbox.width * 0.1, bbox.height])\n",
    "\n",
    "    for ii in range(3):\n",
    "        plot2dhistcontours(df_SF, col_x=f\"sigma_gas - sigma_* (component {ii})\",\n",
    "                           col_y=f\"log HALPHA EW (component {ii})\",\n",
    "                           col_z=f\"{col_z} (component {ii})\" if f\"{col_z} (component {ii})\" in df_SF else col_z, \n",
    "                           log_z=True if col_z == \"count\" else False,\n",
    "                           alpha=1.0, ax=axs[ii], cax=cax, nbins=100,\n",
    "                           linewidths=0.5,\n",
    "                           contours=True, hist=True, colors=\"white\",\n",
    "                           plot_colorbar=True if ii == 3 - 1 else False)\n",
    "        # Decorations\n",
    "        axs[ii].grid()\n",
    "        axs[ii].set_ylabel(\"\") if ii > 0 else None\n",
    "        axs[ii].set_yticklabels([]) if ii > 0 else None\n",
    "        axs[ii].text(s=f\"Component {ii + 1}\", x=0.05, y=0.95, transform=axs[ii].transAxes, verticalalignment=\"top\")\n",
    "        axs[1].set_title(\"SF spaxels only\")\n",
    "\n",
    "    # Save\n",
    "    if savefigs:\n",
    "        fname = os.path.join(fig_path, f\"WHAV_SAMI_SF_only_{fname_fn(col_z)}.pdf\")\n",
    "        print(f\"Saving to {fname}\")\n",
    "        fig.savefig(fname, bbox_inches=\"tight\", format=\"pdf\")"
   ]
  },
  {
   "cell_type": "markdown",
   "metadata": {},
   "source": [
    "# **Analysis of AGN-like spaxels**\n",
    "---\n",
    "---"
   ]
  },
  {
   "cell_type": "code",
   "execution_count": null,
   "metadata": {},
   "outputs": [],
   "source": [
    "# Need to correct [OIII] for extinction because it's such a blue line\n",
    "import extinction\n",
    "\n",
    "def get_A_V(ratio):\n",
    "    \n",
    "    # Calculate A(Ha), A(Hb) from emission lines\n",
    "    intrinsic_ratio = 2.85\n",
    "    E_ba = 2.5 * (np.log10(ratio)) - 2.5 * np.log10(intrinsic_ratio)\n",
    "\n",
    "    # Calculate ( A(Ha) - A(Hb) ) / E(B-V) from extinction curve\n",
    "    R_V = 3.1\n",
    "    wave_1_A = np.array([6562.800])\n",
    "    wave_2_A = np.array([4861.325])\n",
    "\n",
    "    # A_V is a multiplicative scale factor for the extinction curve. So the below calculation is the same regardless of A_V because we normalise by it.\n",
    "    E_ba_over_E_BV = (extinction.fm07(wave_2_A,a_v=1.0)[0] - extinction.fm07(wave_1_A,a_v=1.0)[0] ) /  1.0 * R_V\n",
    "\n",
    "    # Calculate E(B-V)\n",
    "    E_BV = 1 / E_ba_over_E_BV * E_ba\n",
    "\n",
    "    # Calculate A(V)\n",
    "    A_V = R_V * E_BV\n",
    "\n",
    "    return A_V\n",
    "\n",
    "def ext_corr_factors(A_V_vals, lambda_A):\n",
    "    A_line_vals = []\n",
    "    for A_V in A_V_vals:\n",
    "        A_line = extinction.fm07(np.array([lambda_A]), a_v=A_V)[0]\n",
    "        A_line_vals.append(A_line)\n",
    "    return 10**(0.4 * np.array(A_line_vals))\n"
   ]
  },
  {
   "cell_type": "code",
   "execution_count": null,
   "metadata": {
    "scrolled": false
   },
   "outputs": [],
   "source": [
    "# Compute the total [OIII] luminosity for each galaxy\n",
    "gals = df.catid.unique()\n",
    "for gal in tqdm(gals):\n",
    "\n",
    "    df_gal = df[df.catid == gal]\n",
    "    agn_cond = ((df_gal[\"BPT (total)\"] == \"Seyfert\") | (df_gal[\"BPT (total)\"] == \"LINER\")) & (df_gal[\"HALPHA EW (total)\"] > 3)\n",
    "    if any(agn_cond):\n",
    "        \n",
    "        # Determine the extinction correction factor for [OIII] for these spaxels only\n",
    "        LOIII_vals = df_gal.loc[agn_cond, \"OIII5007 (total)\"].values * 1e-16 * 4 * np.pi * (df_gal[\"D_L (Mpc)\"].unique()[0] * 1e6 * 3.086e18)**2  # erg s^-1\n",
    "        Ha_Hb_ratio_vals = df_gal.loc[agn_cond, \"HALPHA (total)\"].values / df_gal.loc[agn_cond, \"HBETA (total)\"].values\n",
    "        Ha_Hb_ratio_err_vals = Ha_Hb_ratio_vals * np.sqrt((df_gal.loc[agn_cond, \"HALPHA error (total)\"].values / df_gal.loc[agn_cond, \"HALPHA (total)\"].values)**2 +\\\n",
    "                                                          (df_gal.loc[agn_cond, \"HBETA error (total)\"].values / df_gal.loc[agn_cond, \"HBETA (total)\"].values)**2)\n",
    "        Ha_Hb_SNR_vals = Ha_Hb_ratio_vals / Ha_Hb_ratio_err_vals\n",
    "        Ha_Hb_ratio_vals[Ha_Hb_SNR_vals < 3] = 2.85  # Do not perform extinction correction if the S/N in the ratio is poor\n",
    "        A_V_vals = get_A_V(Ha_Hb_ratio_vals)\n",
    "        OIII_ext_corr_vals = ext_corr_factors(A_V_vals, 5007)\n",
    "        LOIII_ext_corr_vals = LOIII_vals * OIII_ext_corr_vals\n",
    "        LOIII_ext_corr_tot = np.nansum(LOIII_ext_corr_vals)\n",
    "        LOIII_tot = np.nansum(LOIII_vals)\n",
    "        \n",
    "        # Store in DataFrame\n",
    "        df.loc[df.catid == gal, \"log [OIII] luminosity (AGN, total)\"] = np.log10(LOIII_tot)\n",
    "        df.loc[df.catid == gal, \"log [OIII] luminosity (AGN, ext. corr., total)\"] = np.log10(LOIII_ext_corr_tot)\n"
   ]
  },
  {
   "cell_type": "code",
   "execution_count": null,
   "metadata": {},
   "outputs": [],
   "source": [
    "LOIII_vals"
   ]
  },
  {
   "cell_type": "code",
   "execution_count": null,
   "metadata": {
    "scrolled": true
   },
   "outputs": [],
   "source": [
    "Ha_Hb_SNR_vals"
   ]
  },
  {
   "cell_type": "code",
   "execution_count": null,
   "metadata": {},
   "outputs": [],
   "source": [
    "Ha_Hb_ratio_err_vals"
   ]
  },
  {
   "cell_type": "code",
   "execution_count": null,
   "metadata": {},
   "outputs": [],
   "source": [
    "A_V_vals"
   ]
  },
  {
   "cell_type": "code",
   "execution_count": null,
   "metadata": {},
   "outputs": [],
   "source": [
    "OIII_ext_corr_vals"
   ]
  },
  {
   "cell_type": "code",
   "execution_count": null,
   "metadata": {},
   "outputs": [],
   "source": [
    "LOIII_vals"
   ]
  },
  {
   "cell_type": "code",
   "execution_count": null,
   "metadata": {
    "scrolled": true
   },
   "outputs": [],
   "source": [
    "df.loc[df.catid == gal, \"log [OIII] luminosity (AGN, total)\"]"
   ]
  },
  {
   "cell_type": "code",
   "execution_count": null,
   "metadata": {},
   "outputs": [],
   "source": [
    "plt.figure()\n",
    "plt.hist(df[\"log [OIII] luminosity (AGN, total)\"], range=(38, 42), histtype=\"step\", bins=25)\n",
    "plt.hist(df[\"log [OIII] luminosity (AGN, ext. corr., total)\"], range=(38, 42), histtype=\"step\", bins=25)"
   ]
  },
  {
   "cell_type": "code",
   "execution_count": null,
   "metadata": {},
   "outputs": [],
   "source": [
    "# Make a separate DataFrame only containing star-forming spaxels\n",
    "df_AGN = df.copy()\n",
    "df_AGN = df_AGN[((df_AGN[\"BPT (total)\"] == \"Seyfert\") | (df_AGN[\"BPT (total)\"] == \"LINER\")) & (df_AGN[\"HALPHA EW (total)\"] > 3)]\n"
   ]
  },
  {
   "cell_type": "code",
   "execution_count": null,
   "metadata": {},
   "outputs": [],
   "source": [
    "df_AGN[\"log [OIII] luminosity (AGN, ext. corr., total)\"].values"
   ]
  },
  {
   "cell_type": "markdown",
   "metadata": {},
   "source": [
    "### PLOT: histogram for AGN-only spaxels showing % of 1,2,3 component spaxels as a function of local, global and systematic properties\n",
    "---"
   ]
  },
  {
   "cell_type": "code",
   "execution_count": null,
   "metadata": {
    "scrolled": false
   },
   "outputs": [],
   "source": [
    "# Halpha EW, SFR, SFR surface density\n",
    "fig, axs = plt.subplots(nrows=1, ncols=2, figsize=(10, 4))\n",
    "fig.subplots_adjust(wspace=0)\n",
    "\n",
    "for cc, col_x in enumerate([\"log HALPHA EW (total)\", \"log HALPHA luminosity (total)\"]):\n",
    "    for ii in range(3):\n",
    "        cond = df_AGN[\"Number of components\"] == ii + 1\n",
    "        hist(df_AGN.loc[cond, col_x], density=True, histtype=\"step\",\n",
    "             ax=axs[cc], range=(vmin_fn(col_x), vmax_fn(col_x)),\n",
    "             bins=\"scott\",\n",
    "             label=f\"{ncomponents_labels[ii + 1]} component{'s' if ii > 1 else ''}\" + r\" ($N = %d$)\" % (df_AGN.loc[cond, col_x].shape[0]),\n",
    "             color=ncomponents_colours[ii + 1])\n",
    "    axs[cc].set_xlabel(label_fn(col_x))\n",
    "    axs[cc].set_yticklabels([]) if ii > 0 else None\n",
    "axs[0].axvline(np.log10(3), linestyle=\"--\", color=\"k\")\n",
    "axs[0].legend(fontsize=\"x-small\", loc=\"upper left\")\n",
    "axs[0].set_ylabel(r\"$N$ (normalised)\")\n",
    "fig.suptitle(r\"H$\\alpha$-derived quantities (AGN spaxels only)\", y=0.94)\n",
    "\n",
    "if savefigs:\n",
    "    fname = os.path.join(fig_path, f\"hist_1vs2vs3components_HaEW_and_sigma_and_SFR_AGN_only\")\n",
    "    print(f\"Saving to {fname}\")\n",
    "    fig.savefig(fname, bbox_inches=\"tight\")\n",
    "\n",
    "fig, axs = plt.subplots(nrows=1, ncols=3, figsize=(15, 4))\n",
    "fig.subplots_adjust(wspace=0)\n",
    "\n",
    "# Systematic quantities\n",
    "for cc, col_x in enumerate([\"Bin size (square kpc)\", \"z_spec\", \"Inclination i (degrees)\"]):\n",
    "    for ii in range(3):\n",
    "        cond = df_AGN[\"Number of components\"] == ii + 1\n",
    "        hist(df_AGN.loc[cond, col_x], density=True, histtype=\"step\",\n",
    "             ax=axs[cc],\n",
    "             bins=\"scott\", \n",
    "             range=(0, 90) if col_x == \"Inclination i (degrees)\" else None,\n",
    "             label=f\"{ncomponents_labels[ii + 1]} component{'s' if ii > 1 else ''}\" + r\" ($N = %d$)\" % (df_AGN.loc[cond].shape[0]),\n",
    "             color=ncomponents_colours[ii + 1])\n",
    "    axs[cc].set_xlabel(label_fn(col_x))\n",
    "    axs[cc].set_yticklabels([]) if cc > 0 else None\n",
    "axs[0].legend(fontsize=\"x-small\", loc=\"upper right\")\n",
    "axs[0].set_ylabel(r\"$N$ (normalised)\")\n",
    "fig.suptitle(\"Systematics (AGN spaxels only)\", y=0.94)\n",
    "\n",
    "if savefigs:\n",
    "    fname = os.path.join(fig_path, f\"hist_1vs2vs3components_systematic_AGN_only.pdf\")\n",
    "    print(f\"Saving to {fname}\")\n",
    "    fig.savefig(fname, bbox_inches=\"tight\", format=\"pdf\")\n",
    "    \n",
    "# Specifically looking at v_grad\n",
    "fig, axs = plt.subplots(nrows=1, ncols=3, figsize=(15, 4))\n",
    "fig.subplots_adjust(wspace=0)\n",
    "\n",
    "for cc, col_x in enumerate([\"v_grad (component 0)\", \"v_grad (component 1)\", \"v_grad (component 2)\"]):\n",
    "    for ii in range(3):\n",
    "        cond = df_AGN[\"Number of components\"] == ii + 1\n",
    "        if all(df_AGN.loc[cond, col_x].isna()):\n",
    "            continue\n",
    "        hist(df_AGN.loc[cond, col_x], density=True, histtype=\"step\",\n",
    "             ax=axs[cc],\n",
    "             bins=\"scott\", range=(0, 150),\n",
    "             label=f\"{ncomponents_labels[ii + 1]} component{'s' if ii > 1 else ''}\" + r\" ($N = %d$)\" % (df_AGN.loc[cond].shape[0]),\n",
    "             color=ncomponents_colours[ii + 1])\n",
    "    axs[cc].set_xlabel(label_fn(col_x) + f\" (component {cc + 1})\")\n",
    "    axs[cc].set_yticklabels([]) if cc > 0 else None\n",
    "    axs[cc].autoscale(enable=True, axis=\"x\", tight=True)\n",
    "# axs[0].legend(fontsize=\"x-small\", loc=\"upper left\")\n",
    "axs[0].set_ylabel(r\"$N$ (normalised)\")\n",
    "fig.suptitle(r\"$v_{\\rm grad}$ (AGN spaxels only)\", y=0.94)\n",
    "\n",
    "if savefigs:\n",
    "    fname = os.path.join(fig_path, f\"hist_1vs2vs3components_vgrad_AGN_only.pdf\")\n",
    "    print(f\"Saving to {fname}\")\n",
    "    fig.savefig(fname, bbox_inches=\"tight\", format=\"pdf\")\n",
    "\n",
    "# Local quantities\n",
    "fig, axs = plt.subplots(nrows=1, ncols=3, figsize=(15, 4))\n",
    "fig.subplots_adjust(wspace=0)\n",
    "\n",
    "for cc, col_x in enumerate([\"D4000\", \"r/R_e\", \"sigma_*\"]):\n",
    "    for ii in range(3):\n",
    "        cond = df_AGN[\"Number of components\"] == ii + 1\n",
    "        hist(df_AGN.loc[cond, col_x], density=True, histtype=\"step\",\n",
    "             ax=axs[cc], \n",
    "             range=(vmin_fn(col_x), vmax_fn(col_x)),\n",
    "             bins=\"scott\",\n",
    "             label=f\"{ncomponents_labels[ii + 1]} component{'s' if ii > 1 else ''}\" + r\" ($N = %d$)\" % (df_AGN.loc[cond].shape[0]),\n",
    "             color=ncomponents_colours[ii + 1])\n",
    "    axs[cc].set_xlabel(label_fn(col_x))\n",
    "    axs[cc].set_yticklabels([]) if cc > 0 else None\n",
    "    axs[cc].autoscale(enable=True, axis=\"x\", tight=True)\n",
    "# axs[-1].legend(fontsize=\"x-small\", loc=\"upper right\")\n",
    "axs[0].set_ylabel(r\"$N$ (normalised)\")\n",
    "fig.suptitle(\"Local properties (AGN spaxels only)\", y=0.94)\n",
    "\n",
    "if savefigs:\n",
    "    fname = os.path.join(fig_path, f\"hist_1vs2vs3components_local_AGN_only.pdf\")\n",
    "    print(f\"Saving to {fname}\")\n",
    "    fig.savefig(fname, bbox_inches=\"tight\", format=\"pdf\")\n",
    "\n",
    "# Global quantities\n",
    "fig, axs = plt.subplots(nrows=1, ncols=3, figsize=(15, 4))\n",
    "fig.subplots_adjust(wspace=0)\n",
    "\n",
    "for cc, col_x in enumerate([\"R_e (kpc)\", \"mstar\", \"log(M/R_e)\"]):\n",
    "    for ii in range(3):\n",
    "        cond = df_AGN[\"Number of components\"] == ii + 1\n",
    "        hist(df_AGN.loc[cond, col_x], density=True, histtype=\"step\",\n",
    "             ax=axs[cc],\n",
    "             range=(vmin_fn(col_x), vmax_fn(col_x)),\n",
    "             bins=\"scott\",\n",
    "             label=f\"{ncomponents_labels[ii + 1]} component{'s' if ii > 1 else ''}\" + r\" ($N = %d$)\" % (df_AGN.loc[cond].shape[0]),\n",
    "             color=ncomponents_colours[ii + 1])\n",
    "    axs[cc].set_xlabel(label_fn(col_x))\n",
    "    axs[cc].set_yticklabels([]) if cc > 0 else None\n",
    "    axs[cc].autoscale(enable=True, axis=\"x\", tight=True)\n",
    "# axs[0].legend(fontsize=\"x-small\", loc=\"upper left\")\n",
    "axs[0].set_ylabel(r\"$N$ (normalised)\")\n",
    "fig.suptitle(\"Global properties (AGN spaxels only)\", y=0.94)\n",
    "\n",
    "if savefigs:\n",
    "    fname = os.path.join(fig_path, f\"hist_1vs2vs3components_global_AGN_only.pdf\")\n",
    "    print(f\"Saving to {fname}\")\n",
    "    fig.savefig(fname, bbox_inches=\"tight\", format=\"pdf\")\n",
    "    \n",
    "# Total OIII luminosity\n",
    "fig, ax = plt.subplots(nrows=1, ncols=1, figsize=(5, 4))\n",
    "fig.subplots_adjust(wspace=0)\n",
    "axs = [ax]\n",
    "for cc, col_x in enumerate([\"log [OIII] luminosity (AGN, ext. corr., total)\"]):\n",
    "    for ii in range(3):\n",
    "        cond = df_AGN[\"Number of components\"] == ii + 1\n",
    "        hist(df_AGN.loc[cond, col_x] + np.log10(3500), density=True, histtype=\"step\",\n",
    "             ax=axs[cc],\n",
    "             bins=\"scott\",\n",
    "             label=f\"{ncomponents_labels[ii + 1]} component{'s' if ii > 1 else ''}\" + r\" ($N = %d$)\" % (df_AGN.loc[cond].shape[0]),\n",
    "             color=ncomponents_colours[ii + 1])\n",
    "    axs[cc].set_xlabel(r\"$\\log_{10} (3500 L(\\rm [O\\,III]) \\, [\\rm erg\\,s{^-1}])$\")\n",
    "    axs[cc].set_yticklabels([]) if cc > 0 else None\n",
    "    axs[cc].autoscale(enable=True, axis=\"x\", tight=True)\n",
    "# axs[0].legend(fontsize=\"x-small\", loc=\"upper left\")\n",
    "axs[0].set_ylabel(r\"$N$ (normalised)\")\n",
    "fig.suptitle(r\"$L_{\\rm Edd}$ (AGN spaxels only)\", y=0.94)\n",
    "\n",
    "if savefigs:\n",
    "    fname = os.path.join(fig_path, f\"hist_1vs2vs3components_LOIII_AGN_only.pdf\")\n",
    "    print(f\"Saving to {fname}\")\n",
    "    fig.savefig(fname, bbox_inches=\"tight\", format=\"pdf\")"
   ]
  },
  {
   "cell_type": "markdown",
   "metadata": {},
   "source": [
    "### PLOT: histograms showing local/global/systematic quantities for spaxels with and without at least 1 kinematically disturbed copmonent: what determines the presence of kinematic components with $\\Delta \\sigma >> 0$?\n",
    "---"
   ]
  },
  {
   "cell_type": "code",
   "execution_count": null,
   "metadata": {},
   "outputs": [],
   "source": [
    "# New columns: total number of kinematically disturbed components\n",
    "df_AGN[\"Number of kinematically disturbed components\"] = df_AGN[\"Kinematically disturbed (component 0)\"].astype(int) + df_AGN[\"Kinematically disturbed (component 1)\"].astype(int) + df_AGN[\"Kinematically disturbed (component 2)\"].astype(int)\n"
   ]
  },
  {
   "cell_type": "code",
   "execution_count": null,
   "metadata": {
    "scrolled": false
   },
   "outputs": [],
   "source": [
    "# Halpha EW, SFR, SFR surface density\n",
    "fig, axs = plt.subplots(nrows=1, ncols=2, figsize=(10, 4))\n",
    "fig.subplots_adjust(wspace=0)\n",
    "\n",
    "for cc, col_x in enumerate([\"log HALPHA EW (total)\", \"log HALPHA luminosity (total)\"]):\n",
    "    for ii in range(3):\n",
    "        cond = df_AGN[\"Number of kinematically disturbed components\"] == ii\n",
    "        hist(df_AGN.loc[cond, col_x], density=True, histtype=\"step\",\n",
    "             ax=axs[cc], range=(vmin_fn(col_x), 100 if col_x.startswith(\"sigma\") else vmax_fn(col_x)),\n",
    "             bins=\"scott\",\n",
    "             label=f\"{ncomponents_labels[ii]} KD component{'s' if ii  > 1 else ''}\" + r\" ($N = %d$)\" % (df_AGN.loc[cond, col_x].shape[0]),\n",
    "             color=ncomponents_colours[ii + 1])\n",
    "    axs[cc].set_xlabel(label_fn(col_x))\n",
    "    axs[cc].set_yticklabels([]) if ii > 0 else None\n",
    "axs[0].axvline(np.log10(3), linestyle=\"--\", color=\"k\")\n",
    "axs[0].legend(fontsize=\"x-small\", loc=\"upper left\")\n",
    "axs[0].set_ylabel(r\"$N$ (normalised)\")\n",
    "fig.suptitle(r\"H$\\alpha$-derived quantities (AGN spaxels only)\", y=0.94)\n",
    "\n",
    "if savefigs:\n",
    "    fname = os.path.join(fig_path, f\"hist_KDcomponents_HaEW_and_sigma_and_SFR_AGN_only\")\n",
    "    print(f\"Saving to {fname}\")\n",
    "    fig.savefig(fname, bbox_inches=\"tight\")\n",
    "\n",
    "fig, axs = plt.subplots(nrows=1, ncols=3, figsize=(15, 4))\n",
    "fig.subplots_adjust(wspace=0)\n",
    "\n",
    "# Systematic quantities\n",
    "for cc, col_x in enumerate([\"Bin size (square kpc)\", \"z_spec\", \"Inclination i (degrees)\"]):\n",
    "    for ii in range(3):\n",
    "        cond = df_AGN[\"Number of kinematically disturbed components\"] == ii\n",
    "        hist(df_AGN.loc[cond, col_x], density=True, histtype=\"step\",\n",
    "             ax=axs[cc],\n",
    "             bins=\"scott\", \n",
    "             range=(0, 90) if col_x == \"Inclination i (degrees)\" else None,\n",
    "             label=f\"{ncomponents_labels[ii]} KD component{'s' if ii > 1 else ''}\" + r\" ($N = %d$)\" % (df_AGN.loc[cond].shape[0]),\n",
    "             color=ncomponents_colours[ii + 1])\n",
    "    axs[cc].set_xlabel(label_fn(col_x))\n",
    "    axs[cc].set_yticklabels([]) if cc > 0 else None\n",
    "# axs[0].legend(fontsize=\"x-small\", loc=\"upper right\")\n",
    "axs[0].set_ylabel(r\"$N$ (normalised)\")\n",
    "fig.suptitle(\"Systematics (AGN spaxels only)\", y=0.94)\n",
    "\n",
    "if savefigs:\n",
    "    fname = os.path.join(fig_path, f\"hist_KDcomponents_systematic_AGN_only.pdf\")\n",
    "    print(f\"Saving to {fname}\")\n",
    "    fig.savefig(fname, bbox_inches=\"tight\", format=\"pdf\")\n",
    "    \n",
    "# Specifically looking at v_grad\n",
    "fig, axs = plt.subplots(nrows=1, ncols=3, figsize=(15, 4))\n",
    "fig.subplots_adjust(wspace=0)\n",
    "\n",
    "for cc, col_x in enumerate([\"v_grad (component 0)\", \"v_grad (component 1)\", \"v_grad (component 2)\"]):\n",
    "    for ii in range(3):\n",
    "        cond = df_AGN[\"Number of kinematically disturbed components\"] == ii\n",
    "        if all(df_AGN.loc[cond, col_x].isna()):\n",
    "            continue\n",
    "        hist(df_AGN.loc[cond, col_x], density=True, histtype=\"step\",\n",
    "             ax=axs[cc],\n",
    "             bins=\"scott\", range=(0, 150),\n",
    "             label=f\"{ncomponents_labels[ii]} KD component{'s' if ii > 1 else ''}\" + r\" ($N = %d$)\" % (df_AGN.loc[cond].shape[0]),\n",
    "             color=ncomponents_colours[ii + 1])\n",
    "    axs[cc].set_xlabel(label_fn(col_x) + f\" (component {cc + 1})\")\n",
    "    axs[cc].set_yticklabels([]) if cc > 0 else None\n",
    "    axs[cc].autoscale(enable=True, axis=\"x\", tight=True)\n",
    "# axs[0].legend(fontsize=\"x-small\", loc=\"upper left\")\n",
    "axs[0].set_ylabel(r\"$N$ (normalised)\")\n",
    "fig.suptitle(r\"$v_{\\rm grad}$ (AGN spaxels only)\", y=0.94)\n",
    "\n",
    "if savefigs:\n",
    "    fname = os.path.join(fig_path, f\"hist_KDcomponents_vgrad_AGN_only.pdf\")\n",
    "    print(f\"Saving to {fname}\")\n",
    "    fig.savefig(fname, bbox_inches=\"tight\", format=\"pdf\")\n",
    "\n",
    "# Local quantities\n",
    "fig, axs = plt.subplots(nrows=1, ncols=3, figsize=(15, 4))\n",
    "fig.subplots_adjust(wspace=0)\n",
    "\n",
    "for cc, col_x in enumerate([\"D4000\", \"r/R_e\", \"sigma_*\"]):\n",
    "    for ii in range(3):\n",
    "        cond = df_AGN[\"Number of kinematically disturbed components\"] == ii\n",
    "        hist(df_AGN.loc[cond, col_x], density=True, histtype=\"step\",\n",
    "             ax=axs[cc], \n",
    "             range=(vmin_fn(col_x), 100 if col_x.startswith(\"sigma_gas\") else vmax_fn(col_x)),\n",
    "             bins=\"scott\",\n",
    "             label=f\"{ncomponents_labels[ii]} KD component{'s' if ii > 1 else ''}\" + r\" ($N = %d$)\" % (df_AGN.loc[cond].shape[0]),\n",
    "             color=ncomponents_colours[ii + 1])\n",
    "    axs[cc].set_xlabel(label_fn(col_x))\n",
    "    axs[cc].set_yticklabels([]) if cc > 0 else None\n",
    "    axs[cc].autoscale(enable=True, axis=\"x\", tight=True)\n",
    "# axs[-1].legend(fontsize=\"x-small\", loc=\"upper right\")\n",
    "axs[0].set_ylabel(r\"$N$ (normalised)\")\n",
    "fig.suptitle(\"Local properties (AGN spaxels only)\", y=0.94)\n",
    "\n",
    "if savefigs:\n",
    "    fname = os.path.join(fig_path, f\"hist_KDcomponents_local_AGN_only.pdf\")\n",
    "    print(f\"Saving to {fname}\")\n",
    "    fig.savefig(fname, bbox_inches=\"tight\", format=\"pdf\")\n",
    "\n",
    "# Global quantities\n",
    "fig, axs = plt.subplots(nrows=1, ncols=3, figsize=(15, 4))\n",
    "fig.subplots_adjust(wspace=0)\n",
    "\n",
    "for cc, col_x in enumerate([\"R_e (kpc)\", \"mstar\", \"log(M/R_e)\"]):\n",
    "    for ii in range(3):\n",
    "        cond = df_AGN[\"Number of kinematically disturbed components\"] == ii\n",
    "        hist(df_AGN.loc[cond, col_x], density=True, histtype=\"step\",\n",
    "             ax=axs[cc], range=(vmin_fn(col_x), 100 if col_x.startswith(\"sigma\") else vmax_fn(col_x)),\n",
    "             bins=\"scott\",\n",
    "             label=f\"{ncomponents_labels[ii]} KD component{'s' if ii  > 1 else ''}\" + r\" ($N = %d$)\" % (df_AGN.loc[cond].shape[0]),\n",
    "             color=ncomponents_colours[ii + 1])\n",
    "    axs[cc].set_xlabel(label_fn(col_x))\n",
    "    axs[cc].set_yticklabels([]) if cc > 0 else None\n",
    "    axs[cc].autoscale(enable=True, axis=\"x\", tight=True)\n",
    "# axs[0].legend(fontsize=\"x-small\", loc=\"upper left\")\n",
    "axs[0].set_ylabel(r\"$N$ (normalised)\")\n",
    "fig.suptitle(\"Global properties (AGN spaxels only)\", y=0.94)\n",
    "\n",
    "if savefigs:\n",
    "    fname = os.path.join(fig_path, f\"hist_KDcomponents_global_AGN_only.pdf\")\n",
    "    print(f\"Saving to {fname}\")\n",
    "    fig.savefig(fname, bbox_inches=\"tight\", format=\"pdf\")\n",
    "    \n",
    "# Total OIII luminosity\n",
    "fig, ax = plt.subplots(nrows=1, ncols=1, figsize=(5, 4))\n",
    "fig.subplots_adjust(wspace=0)\n",
    "axs = [ax]\n",
    "for cc, col_x in enumerate([\"log [OIII] luminosity (AGN, ext. corr., total)\"]):\n",
    "    for ii in range(3):\n",
    "        cond = df_AGN[\"Number of kinematically disturbed components\"] == ii\n",
    "        hist(df_AGN.loc[cond, col_x] + np.log10(3500), density=True, histtype=\"step\",\n",
    "             ax=axs[cc],\n",
    "             bins=\"scott\",\n",
    "             label=f\"{ncomponents_labels[ii + 1]} component{'s' if ii > 1 else ''}\" + r\" ($N = %d$)\" % (df_AGN.loc[cond].shape[0]),\n",
    "             color=ncomponents_colours[ii + 1])\n",
    "    axs[cc].set_xlabel(r\"$\\log_{10} (3500 L(\\rm [O\\,III]) \\, [\\rm erg\\,s{^-1}])$\")\n",
    "    axs[cc].set_yticklabels([]) if cc > 0 else None\n",
    "    axs[cc].autoscale(enable=True, axis=\"x\", tight=True)\n",
    "# axs[0].legend(fontsize=\"x-small\", loc=\"upper left\")\n",
    "axs[0].set_ylabel(r\"$N$ (normalised)\")\n",
    "fig.suptitle(r\"$L_{\\rm Edd}$ (AGN spaxels only)\", y=0.94)\n",
    "\n",
    "if savefigs:\n",
    "    fname = os.path.join(fig_path, f\"hist_KD_LOIII_AGN_only.pdf\")\n",
    "    print(f\"Saving to {fname}\")\n",
    "    fig.savefig(fname, bbox_inches=\"tight\", format=\"pdf\")\n"
   ]
  },
  {
   "cell_type": "markdown",
   "metadata": {},
   "source": [
    "### PLOT: WHAV* diagrams for AGN spaxels in slices of total galaxy [O III] luminosity\n",
    "---"
   ]
  },
  {
   "cell_type": "code",
   "execution_count": null,
   "metadata": {},
   "outputs": [],
   "source": [
    "# What are these galaxies that have multiple AGN-like kinematic components but low [OIII] luminosities?\n",
    "cond = df_AGN[\"log [OIII] luminosity (AGN, ext. corr., total)\"] <= 40\n",
    "cond &= df_AGN[\"sigma_gas - sigma_* (component 1)\"] > 0\n",
    "cond &= df_AGN[\"log HALPHA EW (component 1)\"] > 0.5\n",
    "df_AGN[cond].catid"
   ]
  },
  {
   "cell_type": "code",
   "execution_count": null,
   "metadata": {},
   "outputs": [],
   "source": [
    "col_z = \"BPT (numeric) (total)\"\n",
    "LOIII_bounds = [\n",
    "    (39, 40),\n",
    "    (40, 41),\n",
    "    (41, 42),\n",
    "    (42, np.inf)\n",
    "]\n",
    "for LOIII_min, LOIII_max in LOIII_bounds:\n",
    "    fig, axs = plt.subplots(nrows=1, ncols=3, figsize=(5 * 3, 5))\n",
    "    fig.subplots_adjust(wspace=0)\n",
    "    bbox = axs[-1].get_position()\n",
    "    cax = fig.add_axes([bbox.x0 + bbox.width, bbox.y0, bbox.width * 0.1, bbox.height])\n",
    "\n",
    "    df_slice = df_AGN[(df_AGN[\"log [OIII] luminosity (AGN, ext. corr., total)\"] > LOIII_min) & (df_AGN[\"log [OIII] luminosity (AGN, ext. corr., total)\"] <= LOIII_max)]\n",
    "    \n",
    "    for ii in range(3):\n",
    "        plot2dhistcontours(df_slice, col_x=f\"sigma_gas - sigma_* (component {ii})\",\n",
    "                           col_y=f\"log HALPHA EW (component {ii})\",\n",
    "                           col_z=f\"{col_z} (component {ii})\" if f\"{col_z} (component {ii})\" in df_AGN else col_z, \n",
    "                           log_z=True if col_z == \"count\" else False,\n",
    "                           alpha=1.0, ax=axs[ii], cax=cax, nbins=100,\n",
    "                           linewidths=0.5,\n",
    "                           contours=True, hist=True, colors=\"white\",\n",
    "                           vmin=1 if col_z == \"count\" else None, \n",
    "                           vmax=1e3 if col_z == \"count\" else None,\n",
    "                           plot_colorbar=True if ii == 3 - 1 else False)\n",
    "        # Decorations\n",
    "        axs[ii].grid()\n",
    "        axs[ii].set_ylabel(\"\") if ii > 0 else None\n",
    "        axs[ii].set_yticklabels([]) if ii > 0 else None\n",
    "        axs[ii].text(s=f\"Component {ii + 1}\", x=0.05, y=0.95, transform=axs[ii].transAxes, verticalalignment=\"top\")\n",
    "        axs[1].set_title(r\"$%.1f < \\log_{10} L(\\rm [O\\,III]) \\leq %.1f$\" % (LOIII_min, LOIII_max))\n",
    "\n",
    "    # Save\n",
    "#     if savefigs:\n",
    "#         fname = os.path.join(fig_path, f\"WHAV_SAMI_{fname_fn(col_z)}.pdf\")\n",
    "#         fig.savefig(fname, bbox_inches=\"tight\", format=\"pdf\")\n",
    "#         print(f\"File saved at: {fname}\")      \n"
   ]
  },
  {
   "cell_type": "markdown",
   "metadata": {},
   "source": [
    "### PLOT: WHAV* diagrams for AGN-only spaxels coloured by various properties to see what drives the spread in the diagram\n",
    "---"
   ]
  },
  {
   "cell_type": "code",
   "execution_count": null,
   "metadata": {},
   "outputs": [],
   "source": [
    "col_z_list = [\"log [OIII] luminosity (AGN, ext. corr., total)\"]\n",
    "for col_z in col_z_list:\n",
    "    fig, axs = plt.subplots(nrows=1, ncols=3, figsize=(5 * 3, 5))\n",
    "    fig.subplots_adjust(wspace=0)\n",
    "    bbox = axs[-1].get_position()\n",
    "    cax = fig.add_axes([bbox.x0 + bbox.width, bbox.y0, bbox.width * 0.1, bbox.height])\n",
    "\n",
    "    for ii in range(3):\n",
    "        plot2dhistcontours(df_AGN, col_x=f\"sigma_gas - sigma_* (component {ii})\",\n",
    "                           col_y=f\"log HALPHA EW (component {ii})\",\n",
    "                           col_z=f\"{col_z} (component {ii})\" if f\"{col_z} (component {ii})\" in df_AGN else col_z, \n",
    "                           log_z=True if col_z == \"count\" else False,\n",
    "                           alpha=1.0, ax=axs[ii], cax=cax, nbins=100,\n",
    "                           linewidths=0.5,\n",
    "                           vmin=39, vmax=42, cmap=\"inferno\",\n",
    "                           contours=True, hist=True, colors=\"white\",\n",
    "                           plot_colorbar=True if ii == 3 - 1 else False)\n",
    "        # Decorations\n",
    "        axs[ii].grid()\n",
    "        axs[ii].set_ylabel(\"\") if ii > 0 else None\n",
    "        axs[ii].set_yticklabels([]) if ii > 0 else None\n",
    "        axs[ii].text(s=f\"Component {ii + 1}\", x=0.05, y=0.95, transform=axs[ii].transAxes, verticalalignment=\"top\")\n",
    "        axs[1].set_title(\"SF spaxels only\")\n",
    "\n",
    "    # Save\n",
    "    if savefigs:\n",
    "        fname = os.path.join(fig_path, f\"WHAV_SAMI_AGN_only_LOIII.pdf\")\n",
    "        print(f\"Saving to {fname}\")\n",
    "        fig.savefig(fname, bbox_inches=\"tight\", format=\"pdf\")\n",
    "        \n"
   ]
  },
  {
   "cell_type": "code",
   "execution_count": null,
   "metadata": {},
   "outputs": [],
   "source": []
  }
 ],
 "metadata": {
  "kernelspec": {
   "display_name": "Python 3",
   "language": "python",
   "name": "python3"
  },
  "language_info": {
   "codemirror_mode": {
    "name": "ipython",
    "version": 3
   },
   "file_extension": ".py",
   "mimetype": "text/x-python",
   "name": "python",
   "nbconvert_exporter": "python",
   "pygments_lexer": "ipython3",
   "version": "3.7.4"
  }
 },
 "nbformat": 4,
 "nbformat_minor": 2
}
