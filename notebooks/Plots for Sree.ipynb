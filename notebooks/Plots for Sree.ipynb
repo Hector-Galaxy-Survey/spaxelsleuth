{
 "cells": [
  {
   "cell_type": "markdown",
   "metadata": {},
   "source": [
    "# To do\n",
    "---\n",
    "* Measure the flux-weighted quadrature sum of the velocity dispersion\n",
    "* Plot $M_*$ against this for the narrow and broad components within $1R_e$\n",
    "* Compute the stellar mass surface density \n",
    "* Plot this against the narrow and broad velocity dispersion\n"
   ]
  },
  {
   "cell_type": "code",
   "execution_count": null,
   "metadata": {},
   "outputs": [],
   "source": [
    "# Plot a 2D histogram showing the distribution of SAMI spaxels in the WHAN diagram\n",
    "_ = plot2dhistcontours(df=df,\n",
    "              col_x=f\"log sigma_gas (component 1)\",\n",
    "              col_y=f\"mstar\",\n",
    "              col_z=\"count\", log_z=True,\n",
    "              plot_colorbar=True)"
   ]
  },
  {
   "cell_type": "code",
   "execution_count": null,
   "metadata": {},
   "outputs": [],
   "source": [
    "# Plot a 2D histogram showing the distribution of SAMI spaxels in the WHAN diagram\n",
    "_ = plot2dhistcontours(df=df,\n",
    "              col_x=f\"log sigma_gas (component 2)\",\n",
    "              col_y=f\"mstar\",\n",
    "              col_z=\"count\", log_z=True,\n",
    "              plot_colorbar=True)"
   ]
  }
 ],
 "metadata": {
  "kernelspec": {
   "display_name": "Python 3",
   "language": "python",
   "name": "python3"
  },
  "language_info": {
   "codemirror_mode": {
    "name": "ipython",
    "version": 3
   },
   "file_extension": ".py",
   "mimetype": "text/x-python",
   "name": "python",
   "nbconvert_exporter": "python",
   "pygments_lexer": "ipython3",
   "version": "3.7.4"
  }
 },
 "nbformat": 4,
 "nbformat_minor": 2
}
