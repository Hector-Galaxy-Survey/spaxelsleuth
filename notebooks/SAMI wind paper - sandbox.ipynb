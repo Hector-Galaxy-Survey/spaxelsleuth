{
 "cells": [
  {
   "cell_type": "code",
   "execution_count": 1,
   "metadata": {},
   "outputs": [],
   "source": [
    "%matplotlib widget"
   ]
  },
  {
   "cell_type": "code",
   "execution_count": 2,
   "metadata": {},
   "outputs": [],
   "source": [
    "# Imports\n",
    "import sys\n",
    "import os \n",
    "import numpy as np\n",
    "import pandas as pd\n",
    "from astropy.visualization import hist\n",
    "from tqdm import tqdm\n",
    "\n",
    "from spaxelsleuth.loaddata.lzifu import load_lzifu_galaxies\n",
    "from spaxelsleuth.loaddata.sami import load_sami_galaxies\n",
    "from spaxelsleuth.plotting.plottools import plot_empty_BPT_diagram\n",
    "from spaxelsleuth.plotting.plottools import vmin_fn, vmax_fn, label_fn, cmap_fn, fname_fn\n",
    "from spaxelsleuth.plotting.plottools import bpt_colours, bpt_labels, whav_colors, whav_labels\n",
    "from spaxelsleuth.plotting.plottools import morph_labels, morph_ticks\n",
    "from spaxelsleuth.plotting.plottools import ncomponents_labels, ncomponents_colours\n",
    "from spaxelsleuth.plotting.plottools import component_labels, component_colours\n",
    "from spaxelsleuth.plotting.plotgalaxies import plot2dhistcontours, plot2dscatter, plot2dcontours\n",
    "from spaxelsleuth.plotting.plot2dmap import plot2dmap\n",
    "from spaxelsleuth.plotting.sdssimg import plot_sdss_image\n",
    "\n",
    "import matplotlib\n",
    "from matplotlib import rc, rcParams\n",
    "import matplotlib.pyplot as plt\n",
    "from matplotlib.lines import Line2D\n",
    "\n",
    "from IPython.core.debugger import Tracer\n",
    "\n",
    "rc(\"text\", usetex=False)\n",
    "rc(\"font\",**{\"family\": \"serif\", \"size\": 14})\n",
    "rcParams[\"savefig.bbox\"] = \"tight\"\n",
    "rcParams[\"savefig.format\"] = \"pdf\"\n",
    "plt.ion()\n",
    "plt.close(\"all\")\n"
   ]
  },
  {
   "cell_type": "code",
   "execution_count": 3,
   "metadata": {},
   "outputs": [],
   "source": [
    "# Options\n",
    "fig_path = \"/priv/meggs3/u5708159/SAMI/figs/paper/\"\n",
    "savefigs = False\n",
    "bin_type = \"default\"    # Options: \"default\" or \"adaptive\" for Voronoi binning\n",
    "ncomponents = \"recom\"   # Options: \"1\" or \"recom\"\n",
    "eline_SNR_min = 3       # Minimum S/N of emission lines to accept\n",
    "plt.close(\"all\")\n"
   ]
  },
  {
   "cell_type": "markdown",
   "metadata": {},
   "source": [
    "# TEST: S/N in emission line fits \n",
    "---\n",
    "* 3 emission line components w/ fixed S/N ratio each\n",
    "* use mpfit to fit the lines \n",
    "* what is the formal S/N on the fitted emission lines?\n"
   ]
  },
  {
   "cell_type": "code",
   "execution_count": 13,
   "metadata": {},
   "outputs": [],
   "source": [
    "from mpfit import mpfit"
   ]
  },
  {
   "cell_type": "code",
   "execution_count": 14,
   "metadata": {},
   "outputs": [],
   "source": [
    "def gaussian(x, A, mu, sigma):\n",
    "    return A * np.exp(-(x - mu)**2 / (2 * sigma**2))\n",
    "\n"
   ]
  },
  {
   "cell_type": "code",
   "execution_count": 110,
   "metadata": {},
   "outputs": [],
   "source": [
    "# Create our emission lines \n",
    "x_vals = np.linspace(-500, 500, 200)\n",
    "\n",
    "# Component 1\n",
    "A_1 = 10\n",
    "mu_1 = 0\n",
    "sigma_1 = 40\n",
    "f_1 = gaussian(x_vals, A_1, mu_1, sigma_1)\n",
    "\n",
    "# Component 2\n",
    "A_2 = 5\n",
    "mu_2 = -10\n",
    "sigma_2 = 100\n",
    "f_2 = gaussian(x_vals, A_2, mu_2, sigma_2)\n",
    "\n",
    "# Component 3\n",
    "A_3 = 3 \n",
    "mu_3 = -20\n",
    "sigma_3 = 150\n",
    "f_3 = gaussian(x_vals, A_3, mu_3, sigma_3)\n",
    "\n",
    "spec_1comp_no_noise = f_1\n",
    "spec_2comp_no_noise = f_1 + f_2 \n",
    "spec_3comp_no_noise = f_1 + f_2 + f_3\n",
    "\n",
    "# # Inspect result\n",
    "# fig, ax = plt.subplots(1, 1)\n",
    "# ax.plot(x_vals, f_1, label=\"Component 1\", linestyle=\":\")\n",
    "# ax.plot(x_vals, f_2, label=\"Component 2\", linestyle=\":\")\n",
    "# ax.plot(x_vals, f_3, label=\"Component 3\", linestyle=\":\")\n",
    "# ax.plot(x_vals, spec_1comp_no_noise, label=\"1 components\", linestyle=\"-\", linewidth=0.5)\n",
    "# ax.plot(x_vals, spec_2comp_no_noise, label=\"2 components\", linestyle=\"-\", linewidth=0.5)\n",
    "# ax.plot(x_vals, spec_3comp_no_noise, label=\"3 components\", linestyle=\"-\", linewidth=0.5)\n",
    "# ax.plot(x_vals, spec_1comp, label=\"1 components (noise)\", linestyle=\"-\")\n",
    "# ax.plot(x_vals, spec_2comp, label=\"2 components (noise)\", linestyle=\"-\")\n",
    "# ax.plot(x_vals, spec_3comp, label=\"3 components (noise)\", linestyle=\"-\")\n",
    "# ax.legend()\n"
   ]
  },
  {
   "cell_type": "code",
   "execution_count": 103,
   "metadata": {},
   "outputs": [],
   "source": [
    "################################################################################\n",
    "# Fit using mpfit \n",
    "################################################################################\n",
    "# The model we fit to the data\n",
    "def F(x, p):\n",
    "    A_1, mu_1, sigma_1, A_2, mu_2, sigma_2, A_3, mu_3, sigma_3 = p\n",
    "    return gaussian(x, A_1, mu_1, sigma_1) + gaussian(x, A_2, mu_2, sigma_2) + gaussian(x, A_3, mu_3, sigma_3)\n",
    "\n",
    "############################################################################\n",
    "# Function to be passed into mpfit\n",
    "def minfunc(p, fjac=None, x=None, y=None, err=None):\n",
    "    # The model evaluated at the provided x values with parameters stored in p\n",
    "    model = F(x, p)\n",
    "    # The deviates are the differences between the measurements y and the model\n",
    "    # evaluated at each point x normalised by the standard deviation in the\n",
    "    # measurement.\n",
    "    deviates = np.array((y - model) / err, dtype=float)\n",
    "    # We return p status flag and the deviates.\n",
    "    return 0, deviates\n",
    "\n",
    "############################################################################\n",
    "# Parameters to be passed into the fitting function\n",
    "parinfo = [{\n",
    "    'value': 0,\n",
    "    'fixed': False,\n",
    "    'limited': [False, False],\n",
    "    'limits':[0, 0],\n",
    "    'parname':'',\n",
    "    'mpside':2,\n",
    "    'mpprint':0\n",
    "} for ii in range(3 * 3)]\n",
    "parinfo[0]['parname'] = 'A_1'\n",
    "parinfo[1]['parname'] = 'mu_1'\n",
    "parinfo[2]['parname'] = 'sigma_1'\n",
    "parinfo[3]['parname'] = 'A_2'\n",
    "parinfo[4]['parname'] = 'mu_2'\n",
    "parinfo[5]['parname'] = 'sigma_2'\n",
    "parinfo[6]['parname'] = 'A_3'\n",
    "parinfo[7]['parname'] = 'mu_3'\n",
    "parinfo[8]['parname'] = 'sigma_3'\n",
    "\n",
    "############################################################################\n",
    "# Parameter constraints\n",
    "# Amplitude: must be positive\n",
    "for ii in [0, 3, 6]:\n",
    "    parinfo[ii]['limited'] = [True, True]\n",
    "    parinfo[ii]['limits'] = [0, 100.]\n",
    "\n",
    "# Mean: constrained to be inside the wavelength window\n",
    "for ii in [1, 4, 7]:\n",
    "    parinfo[3]['limited'] = [True, True]\n",
    "    parinfo[4]['limits'] = [-500., +500.]\n",
    "\n",
    "# Sigma\n",
    "for ii in [2, 5, 8]:\n",
    "    parinfo[ii]['limited'] = [True, True]\n",
    "parinfo[2]['limits'] = [0, 80.]\n",
    "parinfo[5]['limits'] = [80, 200.]\n",
    "parinfo[8]['limits'] = [200, 250.]"
   ]
  },
  {
   "cell_type": "code",
   "execution_count": 117,
   "metadata": {
    "scrolled": true
   },
   "outputs": [
    {
     "name": "stderr",
     "output_type": "stream",
     "text": [
      "  0%|          | 0/1000 [00:00<?, ?it/s]/pkg/linux/anaconda-20191122/anaconda3/lib/python3.7/site-packages/ipykernel_launcher.py:28: RuntimeWarning: More than 20 figures have been opened. Figures created through the pyplot interface (`matplotlib.pyplot.figure`) are retained until explicitly closed and may consume too much memory. (To control this warning, see the rcParam `figure.max_open_warning`).\n"
     ]
    },
    {
     "data": {
      "application/vnd.jupyter.widget-view+json": {
       "model_id": "8e6dcb73016a48bf92ee66546d7b226e",
       "version_major": 2,
       "version_minor": 0
      },
      "text/plain": [
       "Canvas(toolbar=Toolbar(toolitems=[('Home', 'Reset original view', 'home', 'home'), ('Back', 'Back to previous …"
      ]
     },
     "metadata": {},
     "output_type": "display_data"
    },
    {
     "name": "stderr",
     "output_type": "stream",
     "text": [
      "  0%|          | 1/1000 [00:00<01:52,  8.86it/s]/pkg/linux/anaconda-20191122/anaconda3/lib/python3.7/site-packages/ipykernel_launcher.py:48: RuntimeWarning: invalid value encountered in double_scalars\n",
      "/pkg/linux/anaconda-20191122/anaconda3/lib/python3.7/site-packages/ipykernel_launcher.py:49: RuntimeWarning: invalid value encountered in double_scalars\n",
      " 12%|█▏        | 117/1000 [00:07<00:53, 16.64it/s]/pkg/linux/anaconda-20191122/anaconda3/lib/python3.7/site-packages/ipykernel_launcher.py:49: RuntimeWarning: divide by zero encountered in double_scalars\n",
      "100%|██████████| 1000/1000 [01:07<00:00, 14.81it/s]\n"
     ]
    }
   ],
   "source": [
    "################################################################################\n",
    "# Run the fit: 1 component\n",
    "################################################################################\n",
    "SN_comp_1_vals_1comp = []\n",
    "SN_comp_2_vals_1comp = []\n",
    "SN_comp_3_vals_1comp = []\n",
    "niters = 1000\n",
    "for nn in tqdm(range(niters)):\n",
    "    # Add random noise\n",
    "    noise_stdv = 0.1\n",
    "    spec_err = np.full_like(x_vals, noise_stdv)\n",
    "    spec_1comp = spec_1comp_no_noise + np.random.normal(loc=0, scale=spec_err)\n",
    "    parnames = {\n",
    "        'x': x_vals,\n",
    "        'y': spec_1comp,\n",
    "        'err': spec_err\n",
    "    }\n",
    "\n",
    "    # Run mpfit\n",
    "    p0 = np.array([1., 0., 80.] + [0., 0., 100.] + [0., 0., 200.])\n",
    "    fit = mpfit.mpfit(minfunc, p0, functkw=parnames, parinfo=parinfo, quiet=1)\n",
    "    p_fit = fit.params\n",
    "    p_err = fit.perror\n",
    "    spec_fit = F(x_vals, p_fit)\n",
    "\n",
    "    if nn == 0:\n",
    "        # Inspect result\n",
    "        fig, ax = plt.subplots(1, 1)\n",
    "        ax.plot(x_vals, f_1, label=\"Component 1\")\n",
    "        ax.plot(x_vals, f_2, label=\"Component 2\")\n",
    "        ax.plot(x_vals, f_3, label=\"Component 3\")\n",
    "        ax.plot(x_vals, parnames[\"y\"], label=\"Spectrum\")\n",
    "        ax.plot(x_vals, spec_fit, \"k\", label=\"Fit\")\n",
    "        ax.legend()\n",
    "\n",
    "    # Compute S/N in the fitted fluxes\n",
    "    A_1_fit, mu_1_fit, sigma_1_fit, A_2_fit, mu_2_fit, sigma_2_fit, A_3_fit, mu_3_fit, sigma_3_fit = p_fit\n",
    "    A_1_err, mu_1_err, sigma_1_err, A_2_err, mu_2_err, sigma_2_err, A_3_err, mu_3_err, sigma_3_err = p_err\n",
    "    flux_1_fit = np.sqrt(2 * np.pi) * A_1_fit * sigma_1_fit\n",
    "    flux_1_fit_err = np.sqrt(2 * np.pi * (A_1**2 * sigma_1_err**2 + sigma_1**2 * A_1_err**2) )\n",
    "    flux_2_fit = np.sqrt(2 * np.pi) * A_2_fit * sigma_2_fit\n",
    "    flux_2_fit_err = np.sqrt(2 * np.pi * (A_2**2 * sigma_2_err**2 + sigma_2**2 * A_2_err**2) )\n",
    "    flux_3_fit = np.sqrt(2 * np.pi) * A_3_fit * sigma_3_fit\n",
    "    flux_3_fit_err = np.sqrt(2 * np.pi * (A_3**2 * sigma_3_err**2 + sigma_3**2 * A_3_err**2) )\n",
    "\n",
    "    # Save the S/N\n",
    "    SN_comp_1_vals_1comp.append(flux_1_fit / flux_1_fit_err)\n",
    "    SN_comp_2_vals_1comp.append(flux_2_fit / flux_2_fit_err)\n",
    "    SN_comp_3_vals_1comp.append(flux_3_fit / flux_3_fit_err)\n",
    "    "
   ]
  },
  {
   "cell_type": "code",
   "execution_count": 118,
   "metadata": {
    "scrolled": true
   },
   "outputs": [
    {
     "name": "stderr",
     "output_type": "stream",
     "text": [
      "  0%|          | 0/1000 [00:00<?, ?it/s]/pkg/linux/anaconda-20191122/anaconda3/lib/python3.7/site-packages/ipykernel_launcher.py:27: RuntimeWarning: More than 20 figures have been opened. Figures created through the pyplot interface (`matplotlib.pyplot.figure`) are retained until explicitly closed and may consume too much memory. (To control this warning, see the rcParam `figure.max_open_warning`).\n"
     ]
    },
    {
     "data": {
      "application/vnd.jupyter.widget-view+json": {
       "model_id": "fb0c1ecf194a4bf78828928a0a98d377",
       "version_major": 2,
       "version_minor": 0
      },
      "text/plain": [
       "Canvas(toolbar=Toolbar(toolitems=[('Home', 'Reset original view', 'home', 'home'), ('Back', 'Back to previous …"
      ]
     },
     "metadata": {},
     "output_type": "display_data"
    },
    {
     "name": "stderr",
     "output_type": "stream",
     "text": [
      "/pkg/linux/anaconda-20191122/anaconda3/lib/python3.7/site-packages/ipykernel_launcher.py:49: RuntimeWarning: invalid value encountered in double_scalars\n",
      "  2%|▏         | 16/1000 [00:00<01:02, 15.84it/s]/pkg/linux/anaconda-20191122/anaconda3/lib/python3.7/site-packages/ipykernel_launcher.py:49: RuntimeWarning: divide by zero encountered in double_scalars\n",
      "100%|██████████| 1000/1000 [01:07<00:00, 14.77it/s]\n"
     ]
    }
   ],
   "source": [
    "################################################################################\n",
    "# Run the fit: 2 components\n",
    "################################################################################\n",
    "SN_comp_1_vals_2comp = []\n",
    "SN_comp_2_vals_2comp = []\n",
    "SN_comp_3_vals_2comp = []\n",
    "niters = 1000\n",
    "for nn in tqdm(range(niters)):\n",
    "    # Add random noise\n",
    "    noise_stdv = 0.1\n",
    "    spec_err = np.full_like(x_vals, noise_stdv)\n",
    "    spec_2comp = spec_2comp_no_noise + np.random.normal(loc=0, scale=spec_err)\n",
    "    parnames = {\n",
    "        'x': x_vals,\n",
    "        'y': spec_2comp,\n",
    "        'err': spec_err\n",
    "    }\n",
    "\n",
    "    # Run mpfit\n",
    "    p0 = np.array([1., 0., 80.] + [0., 0., 100.] + [0., 0., 200.])\n",
    "    fit = mpfit.mpfit(minfunc, p0, functkw=parnames, parinfo=parinfo, quiet=1)\n",
    "    p_fit = fit.params\n",
    "    p_err = fit.perror\n",
    "\n",
    "    if nn == 0:\n",
    "        # Inspect result\n",
    "        fig, ax = plt.subplots(1, 1)\n",
    "        spec_fit = F(x_vals, p_fit)\n",
    "        ax.plot(x_vals, f_1, label=\"Component 1\")\n",
    "        ax.plot(x_vals, f_2, label=\"Component 2\")\n",
    "        ax.plot(x_vals, f_3, label=\"Component 3\")\n",
    "        ax.plot(x_vals, parnames[\"y\"], label=\"Spectrum\")\n",
    "        ax.plot(x_vals, spec_fit, \"k\", label=\"Fit\")\n",
    "        ax.legend()\n",
    "\n",
    "    # Compute S/N in the fitted fluxes\n",
    "    A_1_fit, mu_1_fit, sigma_1_fit, A_2_fit, mu_2_fit, sigma_2_fit, A_3_fit, mu_3_fit, sigma_3_fit = p_fit\n",
    "    A_1_err, mu_1_err, sigma_1_err, A_2_err, mu_2_err, sigma_2_err, A_3_err, mu_3_err, sigma_3_err = p_err\n",
    "    flux_1_fit = np.sqrt(2 * np.pi) * A_1_fit * sigma_1_fit\n",
    "    flux_1_fit_err = np.sqrt(2 * np.pi * (A_1**2 * sigma_1_err**2 + sigma_1**2 * A_1_err**2) )\n",
    "    flux_2_fit = np.sqrt(2 * np.pi) * A_2_fit * sigma_2_fit\n",
    "    flux_2_fit_err = np.sqrt(2 * np.pi * (A_2**2 * sigma_2_err**2 + sigma_2**2 * A_2_err**2) )\n",
    "    flux_3_fit = np.sqrt(2 * np.pi) * A_3_fit * sigma_3_fit\n",
    "    flux_3_fit_err = np.sqrt(2 * np.pi * (A_3**2 * sigma_3_err**2 + sigma_3**2 * A_3_err**2) )\n",
    "\n",
    "    # Save the S/N\n",
    "    SN_comp_1_vals_2comp.append(flux_1_fit / flux_1_fit_err)\n",
    "    SN_comp_2_vals_2comp.append(flux_2_fit / flux_2_fit_err)\n",
    "    SN_comp_3_vals_2comp.append(flux_3_fit / flux_3_fit_err)"
   ]
  },
  {
   "cell_type": "code",
   "execution_count": 122,
   "metadata": {},
   "outputs": [
    {
     "name": "stderr",
     "output_type": "stream",
     "text": [
      "  0%|          | 0/1000 [00:00<?, ?it/s]/pkg/linux/anaconda-20191122/anaconda3/lib/python3.7/site-packages/ipykernel_launcher.py:27: RuntimeWarning: More than 20 figures have been opened. Figures created through the pyplot interface (`matplotlib.pyplot.figure`) are retained until explicitly closed and may consume too much memory. (To control this warning, see the rcParam `figure.max_open_warning`).\n"
     ]
    },
    {
     "data": {
      "application/vnd.jupyter.widget-view+json": {
       "model_id": "bdba78c0b7844d39988f121bbf2f4d9f",
       "version_major": 2,
       "version_minor": 0
      },
      "text/plain": [
       "Canvas(toolbar=Toolbar(toolitems=[('Home', 'Reset original view', 'home', 'home'), ('Back', 'Back to previous …"
      ]
     },
     "metadata": {},
     "output_type": "display_data"
    },
    {
     "name": "stderr",
     "output_type": "stream",
     "text": [
      "100%|██████████| 1000/1000 [01:05<00:00, 15.18it/s]\n"
     ]
    }
   ],
   "source": [
    "################################################################################\n",
    "# Run the fit: 3 components\n",
    "################################################################################\n",
    "SN_comp_1_vals_2comp = []\n",
    "SN_comp_2_vals_2comp = []\n",
    "SN_comp_3_vals_2comp = []\n",
    "niters = 1000\n",
    "for nn in tqdm(range(niters)):\n",
    "    # Add random noise\n",
    "    noise_stdv = 0.1\n",
    "    spec_err = np.full_like(x_vals, noise_stdv)\n",
    "    spec_3comp = spec_3comp_no_noise + np.random.normal(loc=0, scale=spec_err)\n",
    "    parnames = {\n",
    "        'x': x_vals,\n",
    "        'y': spec_3comp,\n",
    "        'err': spec_err\n",
    "    }\n",
    "\n",
    "    # Run mpfit\n",
    "    p0 = np.array([1., 0., 80.] + [0., 0., 100.] + [0., 0., 200.])\n",
    "    fit = mpfit.mpfit(minfunc, p0, functkw=parnames, parinfo=parinfo, quiet=1)\n",
    "    p_fit = fit.params\n",
    "    p_err = fit.perror\n",
    "\n",
    "    if nn == 0:\n",
    "        # Inspect result\n",
    "        fig, ax = plt.subplots(1, 1)\n",
    "        spec_fit = F(x_vals, p_fit)\n",
    "        ax.plot(x_vals, f_1, label=\"Component 1\")\n",
    "        ax.plot(x_vals, f_2, label=\"Component 2\")\n",
    "        ax.plot(x_vals, f_3, label=\"Component 3\")\n",
    "        ax.plot(x_vals, parnames[\"y\"], label=\"Spectrum\")\n",
    "        ax.plot(x_vals, spec_fit, \"k\", label=\"Fit\")\n",
    "        ax.legend()\n",
    "\n",
    "    # Compute S/N in the fitted fluxes\n",
    "    A_1_fit, mu_1_fit, sigma_1_fit, A_2_fit, mu_2_fit, sigma_2_fit, A_3_fit, mu_3_fit, sigma_3_fit = p_fit\n",
    "    A_1_err, mu_1_err, sigma_1_err, A_2_err, mu_2_err, sigma_2_err, A_3_err, mu_3_err, sigma_3_err = p_err\n",
    "    flux_1_fit = np.sqrt(2 * np.pi) * A_1_fit * sigma_1_fit\n",
    "    flux_1_fit_err = np.sqrt(2 * np.pi * (A_1**2 * sigma_1_err**2 + sigma_1**2 * A_1_err**2) )\n",
    "    flux_2_fit = np.sqrt(2 * np.pi) * A_2_fit * sigma_2_fit\n",
    "    flux_2_fit_err = np.sqrt(2 * np.pi * (A_2**2 * sigma_2_err**2 + sigma_2**2 * A_2_err**2) )\n",
    "    flux_3_fit = np.sqrt(2 * np.pi) * A_3_fit * sigma_3_fit\n",
    "    flux_3_fit_err = np.sqrt(2 * np.pi * (A_3**2 * sigma_3_err**2 + sigma_3**2 * A_3_err**2) )\n",
    "\n",
    "    # Save the S/N\n",
    "    SN_comp_1_vals_2comp.append(flux_1_fit / flux_1_fit_err)\n",
    "    SN_comp_2_vals_2comp.append(flux_2_fit / flux_2_fit_err)\n",
    "    SN_comp_3_vals_2comp.append(flux_3_fit / flux_3_fit_err)"
   ]
  },
  {
   "cell_type": "code",
   "execution_count": 123,
   "metadata": {},
   "outputs": [
    {
     "name": "stderr",
     "output_type": "stream",
     "text": [
      "/pkg/linux/anaconda-20191122/anaconda3/lib/python3.7/site-packages/ipykernel_launcher.py:2: RuntimeWarning: More than 20 figures have been opened. Figures created through the pyplot interface (`matplotlib.pyplot.figure`) are retained until explicitly closed and may consume too much memory. (To control this warning, see the rcParam `figure.max_open_warning`).\n",
      "  \n"
     ]
    },
    {
     "data": {
      "application/vnd.jupyter.widget-view+json": {
       "model_id": "3cc39ac627e047fd8a01c59dc081f52c",
       "version_major": 2,
       "version_minor": 0
      },
      "text/plain": [
       "Canvas(toolbar=Toolbar(toolitems=[('Home', 'Reset original view', 'home', 'home'), ('Back', 'Back to previous …"
      ]
     },
     "metadata": {},
     "output_type": "display_data"
    },
    {
     "ename": "NameError",
     "evalue": "name 'SN_comp_1_vals_3comp' is not defined",
     "output_type": "error",
     "traceback": [
      "\u001b[0;31m---------------------------------------------------------------------------\u001b[0m",
      "\u001b[0;31mNameError\u001b[0m                                 Traceback (most recent call last)",
      "\u001b[0;32m<ipython-input-123-e81e94b38fd0>\u001b[0m in \u001b[0;36m<module>\u001b[0;34m\u001b[0m\n\u001b[1;32m      3\u001b[0m \u001b[0mhist\u001b[0m\u001b[0;34m(\u001b[0m\u001b[0mnp\u001b[0m\u001b[0;34m.\u001b[0m\u001b[0marray\u001b[0m\u001b[0;34m(\u001b[0m\u001b[0mSN_comp_1_vals_1comp\u001b[0m\u001b[0;34m)\u001b[0m\u001b[0;34m,\u001b[0m \u001b[0mbins\u001b[0m\u001b[0;34m=\u001b[0m\u001b[0;36m50\u001b[0m\u001b[0;34m,\u001b[0m \u001b[0mrange\u001b[0m\u001b[0;34m=\u001b[0m\u001b[0;34m(\u001b[0m\u001b[0;36m0\u001b[0m\u001b[0;34m,\u001b[0m \u001b[0;36m300\u001b[0m\u001b[0;34m)\u001b[0m\u001b[0;34m,\u001b[0m \u001b[0mlabel\u001b[0m\u001b[0;34m=\u001b[0m\u001b[0;34m\"1-component spectrum\"\u001b[0m\u001b[0;34m,\u001b[0m \u001b[0mhisttype\u001b[0m\u001b[0;34m=\u001b[0m\u001b[0;34m\"step\"\u001b[0m\u001b[0;34m)\u001b[0m\u001b[0;34m\u001b[0m\u001b[0;34m\u001b[0m\u001b[0m\n\u001b[1;32m      4\u001b[0m \u001b[0mhist\u001b[0m\u001b[0;34m(\u001b[0m\u001b[0mnp\u001b[0m\u001b[0;34m.\u001b[0m\u001b[0marray\u001b[0m\u001b[0;34m(\u001b[0m\u001b[0mSN_comp_1_vals_2comp\u001b[0m\u001b[0;34m)\u001b[0m\u001b[0;34m,\u001b[0m \u001b[0mbins\u001b[0m\u001b[0;34m=\u001b[0m\u001b[0;36m50\u001b[0m\u001b[0;34m,\u001b[0m \u001b[0mrange\u001b[0m\u001b[0;34m=\u001b[0m\u001b[0;34m(\u001b[0m\u001b[0;36m0\u001b[0m\u001b[0;34m,\u001b[0m \u001b[0;36m300\u001b[0m\u001b[0;34m)\u001b[0m\u001b[0;34m,\u001b[0m \u001b[0mlabel\u001b[0m\u001b[0;34m=\u001b[0m\u001b[0;34m\"2-component spectrum\"\u001b[0m\u001b[0;34m,\u001b[0m \u001b[0mhisttype\u001b[0m\u001b[0;34m=\u001b[0m\u001b[0;34m\"step\"\u001b[0m\u001b[0;34m)\u001b[0m\u001b[0;34m\u001b[0m\u001b[0;34m\u001b[0m\u001b[0m\n\u001b[0;32m----> 5\u001b[0;31m \u001b[0mhist\u001b[0m\u001b[0;34m(\u001b[0m\u001b[0mnp\u001b[0m\u001b[0;34m.\u001b[0m\u001b[0marray\u001b[0m\u001b[0;34m(\u001b[0m\u001b[0mSN_comp_1_vals_3comp\u001b[0m\u001b[0;34m)\u001b[0m\u001b[0;34m,\u001b[0m \u001b[0mbins\u001b[0m\u001b[0;34m=\u001b[0m\u001b[0;36m50\u001b[0m\u001b[0;34m,\u001b[0m \u001b[0mrange\u001b[0m\u001b[0;34m=\u001b[0m\u001b[0;34m(\u001b[0m\u001b[0;36m0\u001b[0m\u001b[0;34m,\u001b[0m \u001b[0;36m300\u001b[0m\u001b[0;34m)\u001b[0m\u001b[0;34m,\u001b[0m \u001b[0mlabel\u001b[0m\u001b[0;34m=\u001b[0m\u001b[0;34m\"3-component spectrum\"\u001b[0m\u001b[0;34m,\u001b[0m \u001b[0mhisttype\u001b[0m\u001b[0;34m=\u001b[0m\u001b[0;34m\"step\"\u001b[0m\u001b[0;34m)\u001b[0m\u001b[0;34m\u001b[0m\u001b[0;34m\u001b[0m\u001b[0m\n\u001b[0m\u001b[1;32m      6\u001b[0m \u001b[0max\u001b[0m\u001b[0;34m.\u001b[0m\u001b[0mlegend\u001b[0m\u001b[0;34m(\u001b[0m\u001b[0;34m)\u001b[0m\u001b[0;34m\u001b[0m\u001b[0;34m\u001b[0m\u001b[0m\n\u001b[1;32m      7\u001b[0m \u001b[0max\u001b[0m\u001b[0;34m.\u001b[0m\u001b[0mset_xlabel\u001b[0m\u001b[0;34m(\u001b[0m\u001b[0;34m\"S/N in component 1\"\u001b[0m\u001b[0;34m)\u001b[0m\u001b[0;34m\u001b[0m\u001b[0;34m\u001b[0m\u001b[0m\n",
      "\u001b[0;31mNameError\u001b[0m: name 'SN_comp_1_vals_3comp' is not defined"
     ]
    }
   ],
   "source": [
    "# Plot histograms showing the S/N in component 1 for the 1-component spectrum and the 2-component spectrum\n",
    "fig, ax = plt.subplots(1, 1)\n",
    "hist(np.array(SN_comp_1_vals_1comp), bins=50, range=(0, 300), label=\"1-component spectrum\", histtype=\"step\")\n",
    "hist(np.array(SN_comp_1_vals_2comp), bins=50, range=(0, 300), label=\"2-component spectrum\", histtype=\"step\")\n",
    "hist(np.array(SN_comp_1_vals_3comp), bins=50, range=(0, 300), label=\"3-component spectrum\", histtype=\"step\")\n",
    "ax.legend()\n",
    "ax.set_xlabel(\"S/N in component 1\")"
   ]
  },
  {
   "cell_type": "markdown",
   "metadata": {},
   "source": [
    "# SAMI dataset \n",
    "---"
   ]
  },
  {
   "cell_type": "code",
   "execution_count": 52,
   "metadata": {},
   "outputs": [
    {
     "name": "stderr",
     "output_type": "stream",
     "text": [
      "/pkg/linux/anaconda-20191122/anaconda3/lib/python3.7/site-packages/pandas/core/indexing.py:376: SettingWithCopyWarning: \n",
      "A value is trying to be set on a copy of a slice from a DataFrame.\n",
      "Try using .loc[row_indexer,col_indexer] = value instead\n",
      "\n",
      "See the caveats in the documentation: http://pandas.pydata.org/pandas-docs/stable/user_guide/indexing.html#returning-a-view-versus-a-copy\n",
      "  self.obj[key] = _infer_fill_value(value)\n",
      "/pkg/linux/anaconda-20191122/anaconda3/lib/python3.7/site-packages/pandas/core/indexing.py:494: SettingWithCopyWarning: \n",
      "A value is trying to be set on a copy of a slice from a DataFrame.\n",
      "Try using .loc[row_indexer,col_indexer] = value instead\n",
      "\n",
      "See the caveats in the documentation: http://pandas.pydata.org/pandas-docs/stable/user_guide/indexing.html#returning-a-view-versus-a-copy\n",
      "  self.obj[item] = s\n",
      "/pkg/linux/anaconda-20191122/anaconda3/lib/python3.7/site-packages/pandas/core/series.py:853: RuntimeWarning: invalid value encountered in log10\n",
      "  result = getattr(ufunc, method)(*inputs, **kwargs)\n",
      "/pkg/linux/anaconda-20191122/anaconda3/lib/python3.7/site-packages/pandas/core/series.py:853: RuntimeWarning: divide by zero encountered in log10\n",
      "  result = getattr(ufunc, method)(*inputs, **kwargs)\n"
     ]
    },
    {
     "name": "stdout",
     "output_type": "stream",
     "text": [
      "WARNING: in load_sami_galaxies: NOT correcting Halpha and HALPHA EW for extinction!\n"
     ]
    }
   ],
   "source": [
    "# Load the sample\n",
    "df = load_sami_galaxies(ncomponents=ncomponents,\n",
    "                        bin_type=bin_type,\n",
    "                        eline_SNR_min=eline_SNR_min, \n",
    "                        vgrad_cut=False,\n",
    "                        correct_extinction=False,\n",
    "                        sigma_gas_SNR_cut=True)"
   ]
  },
  {
   "cell_type": "code",
   "execution_count": 81,
   "metadata": {},
   "outputs": [
    {
     "name": "stdout",
     "output_type": "stream",
     "text": [
      "WARNING: not computing WHAV* categories because ncomponents is not 3\n",
      "WARNING: in load_sami_galaxies: NOT correcting Halpha and HALPHA EW for extinction!\n"
     ]
    }
   ],
   "source": [
    "# Load the sample\n",
    "df_1comp = load_sami_galaxies(ncomponents='1',\n",
    "                              bin_type=bin_type,\n",
    "                              eline_SNR_min=eline_SNR_min, \n",
    "                              vgrad_cut=False,\n",
    "                              correct_extinction=False,\n",
    "                              sigma_gas_SNR_cut=True)"
   ]
  },
  {
   "cell_type": "code",
   "execution_count": 82,
   "metadata": {},
   "outputs": [
    {
     "data": {
      "application/vnd.jupyter.widget-view+json": {
       "model_id": "f3ce2c95bc254bf8b06bcab16abff887",
       "version_major": 2,
       "version_minor": 0
      },
      "text/plain": [
       "Canvas(toolbar=Toolbar(toolitems=[('Home', 'Reset original view', 'home', 'home'), ('Back', 'Back to previous …"
      ]
     },
     "metadata": {},
     "output_type": "display_data"
    },
    {
     "data": {
      "application/vnd.jupyter.widget-view+json": {
       "model_id": "0587f71688f54688b13f28675839ef64",
       "version_major": 2,
       "version_minor": 0
      },
      "text/plain": [
       "Canvas(toolbar=Toolbar(toolitems=[('Home', 'Reset original view', 'home', 'home'), ('Back', 'Back to previous …"
      ]
     },
     "metadata": {},
     "output_type": "display_data"
    },
    {
     "data": {
      "application/vnd.jupyter.widget-view+json": {
       "model_id": "bd357db6643c4e4b914d855f28b28b6f",
       "version_major": 2,
       "version_minor": 0
      },
      "text/plain": [
       "Canvas(toolbar=Toolbar(toolitems=[('Home', 'Reset original view', 'home', 'home'), ('Back', 'Back to previous …"
      ]
     },
     "metadata": {},
     "output_type": "display_data"
    }
   ],
   "source": [
    "for col_z in [\"count\", \"Number of components\", \"BPT (numeric) (total)\"]:\n",
    "    fig, axs, cax = plot_empty_BPT_diagram(colorbar=True, nrows=1, include_Law2021=True)\n",
    "    \n",
    "    # Plot 2D histograms of the subset\n",
    "    plot2dhistcontours(df_1comp, col_x=\"log N2 (total)\", col_y=\"log O3 (total)\", col_z=col_z, log_z=True if col_z == \"count\" else False, vmin=1 if col_z == \"count\" else None, vmax=1e3 if col_z == \"count\" else None, ax=axs[0], nbins=100, contours=True, colors=\"white\", plot_colorbar=False)\n",
    "    plot2dhistcontours(df_1comp, col_x=\"log S2 (total)\", col_y=\"log O3 (total)\", col_z=col_z, log_z=True if col_z == \"count\" else False, vmin=1 if col_z == \"count\" else None, vmax=1e3 if col_z == \"count\" else None, ax=axs[1], nbins=100, contours=True, colors=\"white\", plot_colorbar=False)\n",
    "    plot2dhistcontours(df_1comp, col_x=\"log O1 (total)\", col_y=\"log O3 (total)\", col_z=col_z, log_z=True if col_z == \"count\" else False, vmin=1 if col_z == \"count\" else None, vmax=1e3 if col_z == \"count\" else None, ax=axs[2], nbins=100, contours=True, colors=\"white\", cax=cax, plot_colorbar=True)\n",
    "\n",
    "    # Decorations\n",
    "    [ax.set_ylabel(\"\") for ax in axs[1:]]\n",
    "\n",
    "    # Grid on\n",
    "    [ax.grid() for ax in axs]\n",
    "    \n",
    "    # Save\n",
    "    if savefigs:\n",
    "        fname = os.path.join(fig_path, f\"BPT_SAMI_{fname_fn(col_z)}_1comp.pdf\")\n",
    "        fig.savefig(fname, bbox_inches=\"tight\", format=\"pdf\")\n",
    "        print(f\"File saved at: {fname}\")\n"
   ]
  },
  {
   "cell_type": "markdown",
   "metadata": {},
   "source": [
    "## We know that the fraction of spaxels with multiple/KD components increases as a function of SFR/SFR surface density. But at a fixed SFR/SFR surface density, only *some* spaxels have KD/multiple kinematic components. **Why is this?** What makes the spaxels with KD/multiple components *different* from those without?\n",
    "---"
   ]
  },
  {
   "cell_type": "code",
   "execution_count": 53,
   "metadata": {},
   "outputs": [],
   "source": [
    "# Make a separate DataFrame only containing star-forming spaxels\n",
    "df_SF = df.copy()\n",
    "df_SF = df_SF[df_SF[\"BPT (total)\"] == \"SF\"]\n",
    "\n",
    "# New columns: total number of kinematically disturbed components\n",
    "df_SF[\"Number of kinematically disturbed components\"] = df_SF[\"Kinematically disturbed (component 0)\"].astype(int) + df_SF[\"Kinematically disturbed (component 1)\"].astype(int) + df_SF[\"Kinematically disturbed (component 2)\"].astype(int)\n"
   ]
  },
  {
   "cell_type": "code",
   "execution_count": 54,
   "metadata": {
    "scrolled": true
   },
   "outputs": [
    {
     "name": "stdout",
     "output_type": "stream",
     "text": [
      "N = 11833\n"
     ]
    }
   ],
   "source": [
    "# Pick spaxels within a narrow range of SFR surface density\n",
    "SFR_lower = -1.5\n",
    "SFR_upper = -1.25\n",
    "df_SF_subset = df_SF[(df_SF[\"log SFR surface density (component 0)\"] > SFR_lower) & (df_SF[\"log SFR surface density (component 0)\"] <= SFR_upper)]\n",
    "print(f\"N = {df_SF_subset.shape[0]}\")"
   ]
  },
  {
   "cell_type": "code",
   "execution_count": 77,
   "metadata": {
    "scrolled": false
   },
   "outputs": [
    {
     "data": {
      "application/vnd.jupyter.widget-view+json": {
       "model_id": "5457828c32384188ab94df2812a1339f",
       "version_major": 2,
       "version_minor": 0
      },
      "text/plain": [
       "Canvas(toolbar=Toolbar(toolitems=[('Home', 'Reset original view', 'home', 'home'), ('Back', 'Back to previous …"
      ]
     },
     "metadata": {},
     "output_type": "display_data"
    },
    {
     "data": {
      "application/vnd.jupyter.widget-view+json": {
       "model_id": "ad50d172b8a44a81a8783d21fd46b1a8",
       "version_major": 2,
       "version_minor": 0
      },
      "text/plain": [
       "Canvas(toolbar=Toolbar(toolitems=[('Home', 'Reset original view', 'home', 'home'), ('Back', 'Back to previous …"
      ]
     },
     "metadata": {},
     "output_type": "display_data"
    },
    {
     "data": {
      "application/vnd.jupyter.widget-view+json": {
       "model_id": "d1158cd63e864f6ab3cb872afa138f29",
       "version_major": 2,
       "version_minor": 0
      },
      "text/plain": [
       "Canvas(toolbar=Toolbar(toolitems=[('Home', 'Reset original view', 'home', 'home'), ('Back', 'Back to previous …"
      ]
     },
     "metadata": {},
     "output_type": "display_data"
    },
    {
     "name": "stderr",
     "output_type": "stream",
     "text": [
      "/pkg/linux/anaconda-20191122/anaconda3/lib/python3.7/site-packages/matplotlib/axes/_axes.py:6735: RuntimeWarning: All-NaN slice encountered\n",
      "  xmin = min(xmin, np.nanmin(xi))\n",
      "/pkg/linux/anaconda-20191122/anaconda3/lib/python3.7/site-packages/matplotlib/axes/_axes.py:6736: RuntimeWarning: All-NaN slice encountered\n",
      "  xmax = max(xmax, np.nanmax(xi))\n"
     ]
    },
    {
     "data": {
      "application/vnd.jupyter.widget-view+json": {
       "model_id": "411c20ef205240ceb5df5eb0e4274f41",
       "version_major": 2,
       "version_minor": 0
      },
      "text/plain": [
       "Canvas(toolbar=Toolbar(toolitems=[('Home', 'Reset original view', 'home', 'home'), ('Back', 'Back to previous …"
      ]
     },
     "metadata": {},
     "output_type": "display_data"
    },
    {
     "data": {
      "application/vnd.jupyter.widget-view+json": {
       "model_id": "9e967c9b630447d384f712dd92212822",
       "version_major": 2,
       "version_minor": 0
      },
      "text/plain": [
       "Canvas(toolbar=Toolbar(toolitems=[('Home', 'Reset original view', 'home', 'home'), ('Back', 'Back to previous …"
      ]
     },
     "metadata": {},
     "output_type": "display_data"
    },
    {
     "data": {
      "application/vnd.jupyter.widget-view+json": {
       "model_id": "13059677fda24c93ac84d824c2323aaf",
       "version_major": 2,
       "version_minor": 0
      },
      "text/plain": [
       "Canvas(toolbar=Toolbar(toolitems=[('Home', 'Reset original view', 'home', 'home'), ('Back', 'Back to previous …"
      ]
     },
     "metadata": {},
     "output_type": "display_data"
    },
    {
     "data": {
      "application/vnd.jupyter.widget-view+json": {
       "model_id": "628438cb0b824705ac3826258a098256",
       "version_major": 2,
       "version_minor": 0
      },
      "text/plain": [
       "Canvas(toolbar=Toolbar(toolitems=[('Home', 'Reset original view', 'home', 'home'), ('Back', 'Back to previous …"
      ]
     },
     "metadata": {},
     "output_type": "display_data"
    },
    {
     "data": {
      "application/vnd.jupyter.widget-view+json": {
       "model_id": "2f44c895dad04df8a129202fc1e0fe58",
       "version_major": 2,
       "version_minor": 0
      },
      "text/plain": [
       "Canvas(toolbar=Toolbar(toolitems=[('Home', 'Reset original view', 'home', 'home'), ('Back', 'Back to previous …"
      ]
     },
     "metadata": {},
     "output_type": "display_data"
    }
   ],
   "source": [
    "# Halpha EW, SFR, SFR surface density\n",
    "fig, axs = plt.subplots(nrows=1, ncols=3, figsize=(15, 4))\n",
    "fig.subplots_adjust(wspace=0)\n",
    "\n",
    "for cc, col_x in enumerate([\"log HALPHA EW (total)\", \"log SFR (component 0)\", \"log SFR surface density (component 0)\"]):\n",
    "    for ii in range(3):\n",
    "        cond = df_SF_subset[\"Number of components\"] == ii + 1\n",
    "        hist(df_SF_subset.loc[cond, col_x], density=True, histtype=\"step\",\n",
    "             ax=axs[cc], range=(vmin_fn(col_x), 100 if col_x.startswith(\"sigma\") else vmax_fn(col_x)),\n",
    "             bins=\"scott\",\n",
    "             label=f\"{ncomponents_labels[ii]} KD component{'s' if ii  > 1 else ''}\" + r\" ($N = %d$)\" % (df_SF_subset.loc[cond, col_x].shape[0]),\n",
    "             color=ncomponents_colours[ii + 1])\n",
    "    axs[cc].set_xlabel(label_fn(col_x))\n",
    "    axs[cc].set_yticklabels([]) if ii > 0 else None\n",
    "axs[0].axvline(np.log10(3), linestyle=\"--\", color=\"k\")\n",
    "axs[0].legend(fontsize=\"x-small\", loc=\"upper left\")\n",
    "axs[0].set_ylabel(r\"$N$ (normalised)\")\n",
    "fig.suptitle(r\"H$\\alpha$-derived quantities (SF spaxels only)\", y=0.94)\n",
    "\n",
    "if savefigs:\n",
    "    fname = os.path.join(fig_path, f\"hist_KDcomponents_HaEW_and_sigma_and_SFR_SF_only\")\n",
    "    print(f\"Saving to {fname}\")\n",
    "    fig.savefig(fname, bbox_inches=\"tight\")\n",
    "\n",
    "# Systematic quantities\n",
    "fig, axs = plt.subplots(nrows=1, ncols=3, figsize=(15, 4))\n",
    "fig.subplots_adjust(wspace=0)\n",
    "for cc, col_x in enumerate([\"Bin size (square kpc)\", \"z_spec\", \"Inclination i (degrees)\"]):\n",
    "    for ii in range(3):\n",
    "        cond = df_SF_subset[\"Number of components\"] == ii + 1\n",
    "        hist(df_SF_subset.loc[cond, col_x], density=True, histtype=\"step\",\n",
    "             ax=axs[cc],\n",
    "             bins=\"scott\", \n",
    "             range=(0, 90) if col_x == \"Inclination i (degrees)\" else None,\n",
    "             label=f\"{ncomponents_labels[ii]} KD component{'s' if ii > 1 else ''}\" + r\" ($N = %d$)\" % (df_SF_subset.loc[cond].shape[0]),\n",
    "             color=ncomponents_colours[ii + 1])\n",
    "    axs[cc].set_xlabel(label_fn(col_x))\n",
    "    axs[cc].set_yticklabels([]) if cc > 0 else None\n",
    "# axs[0].legend(fontsize=\"x-small\", loc=\"upper right\")\n",
    "axs[0].set_ylabel(r\"$N$ (normalised)\")\n",
    "fig.suptitle(\"Systematics (SF spaxels only)\", y=0.94)\n",
    "\n",
    "if savefigs:\n",
    "    fname = os.path.join(fig_path, f\"hist_KDcomponents_systematic_SF_only.pdf\")\n",
    "    print(f\"Saving to {fname}\")\n",
    "    fig.savefig(fname, bbox_inches=\"tight\", format=\"pdf\")\n",
    "\n",
    "# Systematic quantities\n",
    "fig, axs = plt.subplots(nrows=1, ncols=4, figsize=(20, 4))\n",
    "fig.subplots_adjust(wspace=0)\n",
    "for cc, col_x in enumerate([\"HALPHA S/N (total)\", \"HALPHA S/N (component 0)\", \"HALPHA S/N (component 1)\", \"HALPHA S/N (component 2)\"]):\n",
    "    for ii in range(3):\n",
    "        cond = df_SF_subset[\"Number of components\"] == ii + 1\n",
    "        hist(df_SF_subset.loc[cond, col_x], density=True, histtype=\"step\",\n",
    "             ax=axs[cc],\n",
    "             bins=\"scott\", \n",
    "             range=(0, 90) if col_x == \"Inclination i (degrees)\" else None,\n",
    "             label=f\"{ncomponents_labels[ii]} KD component{'s' if ii > 1 else ''}\" + r\" ($N = %d$)\" % (df_SF_subset.loc[cond].shape[0]),\n",
    "             color=ncomponents_colours[ii + 1])\n",
    "    axs[cc].set_xlabel(label_fn(col_x))\n",
    "    axs[cc].set_yticklabels([]) if cc > 0 else None\n",
    "# axs[0].legend(fontsize=\"x-small\", loc=\"upper right\")\n",
    "axs[0].set_ylabel(r\"$N$ (normalised)\")\n",
    "fig.suptitle(\"Systematics (SF spaxels only)\", y=0.94)\n",
    "\n",
    "if savefigs:\n",
    "    fname = os.path.join(fig_path, f\"hist_KDcomponents_systematic_SF_only.pdf\")\n",
    "    print(f\"Saving to {fname}\")\n",
    "    fig.savefig(fname, bbox_inches=\"tight\", format=\"pdf\")\n",
    "\n",
    "    \n",
    "# Specifically looking at v_grad\n",
    "fig, axs = plt.subplots(nrows=1, ncols=3, figsize=(15, 4))\n",
    "fig.subplots_adjust(wspace=0)\n",
    "for cc, col_x in enumerate([\"v_grad (component 0)\", \"v_grad (component 1)\", \"v_grad (component 2)\"]):\n",
    "    for ii in range(3):\n",
    "        cond = df_SF_subset[\"Number of components\"] == ii + 1\n",
    "        if all(df_SF_subset.loc[cond, col_x].isna()):\n",
    "            continue\n",
    "        hist(df_SF_subset.loc[cond, col_x], density=True, histtype=\"step\",\n",
    "             ax=axs[cc],\n",
    "             bins=\"scott\", range=(0, 150),\n",
    "             label=f\"{ncomponents_labels[ii]} KD component{'s' if ii > 1 else ''}\" + r\" ($N = %d$)\" % (df_SF_subset.loc[cond].shape[0]),\n",
    "             color=ncomponents_colours[ii + 1])\n",
    "    axs[cc].set_xlabel(label_fn(col_x) + f\" (component {cc + 1})\")\n",
    "    axs[cc].set_yticklabels([]) if cc > 0 else None\n",
    "    axs[cc].autoscale(enable=True, axis=\"x\", tight=True)\n",
    "# axs[0].legend(fontsize=\"x-small\", loc=\"upper left\")\n",
    "axs[0].set_ylabel(r\"$N$ (normalised)\")\n",
    "fig.suptitle(r\"$v_{\\rm grad}$ (SF spaxels only)\", y=0.94)\n",
    "\n",
    "if savefigs:\n",
    "    fname = os.path.join(fig_path, f\"hist_KDcomponents_vgrad_SF_only.pdf\")\n",
    "    print(f\"Saving to {fname}\")\n",
    "    fig.savefig(fname, bbox_inches=\"tight\", format=\"pdf\")\n",
    "\n",
    "# Local quantities\n",
    "fig, axs = plt.subplots(nrows=1, ncols=3, figsize=(15, 4))\n",
    "fig.subplots_adjust(wspace=0)\n",
    "for cc, col_x in enumerate([\"D4000\", \"r/R_e\", \"sigma_*\"]):\n",
    "    for ii in range(3):\n",
    "        cond = df_SF_subset[\"Number of components\"] == ii + 1\n",
    "        hist(df_SF_subset.loc[cond, col_x], density=True, histtype=\"step\",\n",
    "             ax=axs[cc], \n",
    "             range=(vmin_fn(col_x), 100 if col_x.startswith(\"sigma_gas\") else vmax_fn(col_x)),\n",
    "             bins=\"scott\",\n",
    "             label=f\"{ncomponents_labels[ii]} KD component{'s' if ii > 1 else ''}\" + r\" ($N = %d$)\" % (df_SF_subset.loc[cond].shape[0]),\n",
    "             color=ncomponents_colours[ii + 1])\n",
    "    axs[cc].set_xlabel(label_fn(col_x))\n",
    "    axs[cc].set_yticklabels([]) if cc > 0 else None\n",
    "    axs[cc].autoscale(enable=True, axis=\"x\", tight=True)\n",
    "# axs[-1].legend(fontsize=\"x-small\", loc=\"upper right\")\n",
    "axs[0].set_ylabel(r\"$N$ (normalised)\")\n",
    "fig.suptitle(\"Local properties (SF spaxels only)\", y=0.94)\n",
    "\n",
    "# Emission line ratios\n",
    "fig, axs = plt.subplots(nrows=1, ncols=3, figsize=(15, 4))\n",
    "fig.subplots_adjust(wspace=0)\n",
    "for cc, col_x in enumerate([\"log O3 (total)\", \"log N2 (total)\", \"log S2 (total)\"]):\n",
    "    for ii in range(3):\n",
    "        cond = df_SF_subset[\"Number of components\"] == ii + 1\n",
    "        hist(df_SF_subset.loc[cond, col_x], density=True, histtype=\"step\",\n",
    "             ax=axs[cc], \n",
    "             range=(vmin_fn(col_x), 100 if col_x.startswith(\"sigma_gas\") else vmax_fn(col_x)),\n",
    "             bins=\"scott\",\n",
    "             label=f\"{ncomponents_labels[ii]} KD component{'s' if ii > 1 else ''}\" + r\" ($N = %d$)\" % (df_SF_subset.loc[cond].shape[0]),\n",
    "             color=ncomponents_colours[ii + 1])\n",
    "    axs[cc].set_xlabel(label_fn(col_x))\n",
    "    axs[cc].set_yticklabels([]) if cc > 0 else None\n",
    "    axs[cc].autoscale(enable=True, axis=\"x\", tight=True)\n",
    "# axs[-1].legend(fontsize=\"x-small\", loc=\"upper right\")\n",
    "axs[0].set_ylabel(r\"$N$ (normalised)\")\n",
    "fig.suptitle(\"Emission line ratios (SF spaxels only)\", y=0.94)\n",
    "\n",
    "# Emission line ratios (metallicity)\n",
    "fig, axs = plt.subplots(nrows=1, ncols=3, figsize=(15, 4))\n",
    "fig.subplots_adjust(wspace=0)\n",
    "for cc, col_x in enumerate([\"N2O2 (total)\", \"N2S2 (total)\", \"R23 (total)\"]):\n",
    "    for ii in range(3):\n",
    "        cond = df_SF_subset[\"Number of components\"] == ii + 1\n",
    "        hist(df_SF_subset.loc[cond, col_x], density=True, histtype=\"step\",\n",
    "             ax=axs[cc], \n",
    "             range=(vmin_fn(col_x), 100 if col_x.startswith(\"sigma_gas\") else vmax_fn(col_x)),\n",
    "             bins=\"scott\",\n",
    "             label=f\"{ncomponents_labels[ii]} KD component{'s' if ii > 1 else ''}\" + r\" ($N = %d$)\" % (df_SF_subset.loc[cond].shape[0]),\n",
    "             color=ncomponents_colours[ii + 1])\n",
    "    axs[cc].set_xlabel(label_fn(col_x))\n",
    "    axs[cc].set_yticklabels([]) if cc > 0 else None\n",
    "    axs[cc].autoscale(enable=True, axis=\"x\", tight=True)\n",
    "# axs[-1].legend(fontsize=\"x-small\", loc=\"upper right\")\n",
    "axs[0].set_ylabel(r\"$N$ (normalised)\")\n",
    "fig.suptitle(\"Metallicity-sensitive ratios (SF spaxels only)\", y=0.94)\n",
    "\n",
    "if savefigs:\n",
    "    fname = os.path.join(fig_path, f\"hist_KDcomponents_local_SF_only.pdf\")\n",
    "    print(f\"Saving to {fname}\")\n",
    "    fig.savefig(fname, bbox_inches=\"tight\", format=\"pdf\")\n",
    "\n",
    "# Global quantities\n",
    "fig, axs = plt.subplots(nrows=1, ncols=3, figsize=(15, 4))\n",
    "fig.subplots_adjust(wspace=0)\n",
    "for cc, col_x in enumerate([\"R_e (kpc)\", \"mstar\", \"log(M/R_e)\"]):\n",
    "    for ii in range(3):\n",
    "        cond = df_SF_subset[\"Number of components\"] == ii + 1\n",
    "        hist(df_SF_subset.loc[cond, col_x], density=True, histtype=\"step\",\n",
    "             ax=axs[cc], range=(vmin_fn(col_x), 100 if col_x.startswith(\"sigma\") else vmax_fn(col_x)),\n",
    "             bins=\"scott\",\n",
    "             label=f\"{ncomponents_labels[ii]} KD component{'s' if ii  > 1 else ''}\" + r\" ($N = %d$)\" % (df_SF_subset.loc[cond].shape[0]),\n",
    "             color=ncomponents_colours[ii + 1])\n",
    "    axs[cc].set_xlabel(label_fn(col_x))\n",
    "    axs[cc].set_yticklabels([]) if cc > 0 else None\n",
    "    axs[cc].autoscale(enable=True, axis=\"x\", tight=True)\n",
    "# axs[0].legend(fontsize=\"x-small\", loc=\"upper left\")\n",
    "axs[0].set_ylabel(r\"$N$ (normalised)\")\n",
    "fig.suptitle(\"Global properties (SF spaxels only)\", y=0.94)\n",
    "\n",
    "if savefigs:\n",
    "    fname = os.path.join(fig_path, f\"hist_KDcomponents_global_SF_only.pdf\")\n",
    "    print(f\"Saving to {fname}\")\n",
    "    fig.savefig(fname, bbox_inches=\"tight\", format=\"pdf\")"
   ]
  },
  {
   "cell_type": "code",
   "execution_count": 58,
   "metadata": {},
   "outputs": [
    {
     "data": {
      "application/vnd.jupyter.widget-view+json": {
       "model_id": "74690f95f36341c2851a5bec07fb28f2",
       "version_major": 2,
       "version_minor": 0
      },
      "text/plain": [
       "Canvas(toolbar=Toolbar(toolitems=[('Home', 'Reset original view', 'home', 'home'), ('Back', 'Back to previous …"
      ]
     },
     "metadata": {},
     "output_type": "display_data"
    },
    {
     "data": {
      "text/plain": [
       "Text(0.5, 0.94, 'Metallicity-sensitive ratios (SF spaxels only)')"
      ]
     },
     "execution_count": 58,
     "metadata": {},
     "output_type": "execute_result"
    }
   ],
   "source": [
    "# Emission line ratios (metallicity)\n",
    "fig, axs = plt.subplots(nrows=1, ncols=4, figsize=(20, 4))\n",
    "fig.subplots_adjust(wspace=0)\n",
    "for cc, col_x in enumerate([\"N2O2 (total)\", \"N2S2 (total)\", \"R23 (total)\", \"O3O2 (total)\"]):\n",
    "    for ii in range(3):\n",
    "        cond = df_SF_subset[\"Number of components\"] == ii + 1\n",
    "        hist(df_SF_subset.loc[cond, col_x], density=True, histtype=\"step\",\n",
    "             ax=axs[cc], \n",
    "             range=(vmin_fn(col_x), vmax_fn(col_x)),\n",
    "             bins=\"scott\",\n",
    "             label=f\"{ncomponents_labels[ii]} KD component{'s' if ii > 1 else ''}\" + r\" ($N = %d$)\" % (df_SF_subset.loc[cond].shape[0]),\n",
    "             color=ncomponents_colours[ii + 1])\n",
    "    axs[cc].set_xlabel(label_fn(col_x))\n",
    "    axs[cc].set_yticklabels([]) if cc > 0 else None\n",
    "    axs[cc].autoscale(enable=True, axis=\"x\", tight=True)\n",
    "# axs[-1].legend(fontsize=\"x-small\", loc=\"upper right\")\n",
    "axs[0].set_ylabel(r\"$N$ (normalised)\")\n",
    "fig.suptitle(\"Metallicity-sensitive ratios (SF spaxels only)\", y=0.94)"
   ]
  },
  {
   "cell_type": "code",
   "execution_count": 60,
   "metadata": {},
   "outputs": [
    {
     "data": {
      "text/plain": [
       "0               NaN\n",
       "1               NaN\n",
       "2               NaN\n",
       "3               NaN\n",
       "4               NaN\n",
       "             ...   \n",
       "2817601    5.797336\n",
       "2817627    1.717270\n",
       "2823893    2.320312\n",
       "2826330    1.000000\n",
       "2826616    2.119703\n",
       "Name: HALPHA extinction correction, Length: 1840155, dtype: float64"
      ]
     },
     "execution_count": 60,
     "metadata": {},
     "output_type": "execute_result"
    }
   ],
   "source": [
    "df[\"HALPHA extinction correction\"]"
   ]
  },
  {
   "cell_type": "markdown",
   "metadata": {},
   "source": [
    "## Hypothesis: low-metallicity regions are more likely to exhibit winds\n",
    "---"
   ]
  },
  {
   "cell_type": "code",
   "execution_count": 67,
   "metadata": {
    "scrolled": false
   },
   "outputs": [
    {
     "data": {
      "application/vnd.jupyter.widget-view+json": {
       "model_id": "481c59ad4616446fa54236c9eda4521c",
       "version_major": 2,
       "version_minor": 0
      },
      "text/plain": [
       "Canvas(toolbar=Toolbar(toolitems=[('Home', 'Reset original view', 'home', 'home'), ('Back', 'Back to previous …"
      ]
     },
     "metadata": {},
     "output_type": "display_data"
    },
    {
     "name": "stderr",
     "output_type": "stream",
     "text": [
      "/pkg/linux/anaconda-20191122/anaconda3/lib/python3.7/site-packages/ipykernel_launcher.py:40: RuntimeWarning: invalid value encountered in true_divide\n",
      "/pkg/linux/anaconda-20191122/anaconda3/lib/python3.7/site-packages/ipykernel_launcher.py:42: RuntimeWarning: invalid value encountered in true_divide\n",
      "/pkg/linux/anaconda-20191122/anaconda3/lib/python3.7/site-packages/ipykernel_launcher.py:44: RuntimeWarning: invalid value encountered in true_divide\n"
     ]
    },
    {
     "data": {
      "application/vnd.jupyter.widget-view+json": {
       "model_id": "b26f926a5c434c0d836cd7002ae8003a",
       "version_major": 2,
       "version_minor": 0
      },
      "text/plain": [
       "Canvas(toolbar=Toolbar(toolitems=[('Home', 'Reset original view', 'home', 'home'), ('Back', 'Back to previous …"
      ]
     },
     "metadata": {},
     "output_type": "display_data"
    },
    {
     "data": {
      "application/vnd.jupyter.widget-view+json": {
       "model_id": "d51609bcc5bb4490bb5d6916682f1258",
       "version_major": 2,
       "version_minor": 0
      },
      "text/plain": [
       "Canvas(toolbar=Toolbar(toolitems=[('Home', 'Reset original view', 'home', 'home'), ('Back', 'Back to previous …"
      ]
     },
     "metadata": {},
     "output_type": "display_data"
    },
    {
     "data": {
      "application/vnd.jupyter.widget-view+json": {
       "model_id": "58541d251eb747d89379e1ccfb55866a",
       "version_major": 2,
       "version_minor": 0
      },
      "text/plain": [
       "Canvas(toolbar=Toolbar(toolitems=[('Home', 'Reset original view', 'home', 'home'), ('Back', 'Back to previous …"
      ]
     },
     "metadata": {},
     "output_type": "display_data"
    },
    {
     "data": {
      "application/vnd.jupyter.widget-view+json": {
       "model_id": "261e9ce2d1534162800bc165558ee63d",
       "version_major": 2,
       "version_minor": 0
      },
      "text/plain": [
       "Canvas(toolbar=Toolbar(toolitems=[('Home', 'Reset original view', 'home', 'home'), ('Back', 'Back to previous …"
      ]
     },
     "metadata": {},
     "output_type": "display_data"
    },
    {
     "data": {
      "application/vnd.jupyter.widget-view+json": {
       "model_id": "fd35a36814bd4576b36852ffa8f1f29e",
       "version_major": 2,
       "version_minor": 0
      },
      "text/plain": [
       "Canvas(toolbar=Toolbar(toolitems=[('Home', 'Reset original view', 'home', 'home'), ('Back', 'Back to previous …"
      ]
     },
     "metadata": {},
     "output_type": "display_data"
    }
   ],
   "source": [
    "# Compute how many 1, 2, 3 component spaxels there are in bins of SFR surface density (and SFR)\n",
    "for col_x in [\"log N2 (total)\", \"log O3 (total)\", \"N2O2 (total)\", \"O3O2 (total)\", \"HALPHA extinction correction\", \"D4000\"]:\n",
    "    sfr_vals = np.linspace(vmin_fn(col_x), vmax_fn(col_x), 11)\n",
    "    counts_1 = np.zeros(len(sfr_vals) - 1)\n",
    "    counts_2 = np.zeros(len(sfr_vals) - 1)\n",
    "    counts_3 = np.zeros(len(sfr_vals) - 1)\n",
    "    counts_tot = np.zeros(len(sfr_vals) - 1)\n",
    "\n",
    "    for ll in range(len(sfr_vals) - 1):\n",
    "        cond = df_SF[col_x] > sfr_vals[ll]\n",
    "        cond &= df_SF[col_x] <= sfr_vals[ll + 1]\n",
    "        df_subset = df_SF[cond]\n",
    "        counts_tot[ll] = df_subset.shape[0]\n",
    "        counts_1[ll] = df_subset[df_subset[\"Number of components\"] == 1].shape[0]\n",
    "        counts_2[ll] = df_subset[df_subset[\"Number of components\"] == 2].shape[0]\n",
    "        counts_3[ll] = df_subset[df_subset[\"Number of components\"] == 3].shape[0]\n",
    "\n",
    "    # Plot\n",
    "    fig, axs = plt.subplots(nrows=2, ncols=1, sharex=True, figsize=(7, 8))\n",
    "    fig.subplots_adjust(hspace=0)\n",
    "\n",
    "    # Plot\n",
    "    axs[0].bar(sfr_vals[:-1], counts_1,\n",
    "               align=\"edge\", width=np.diff(sfr_vals)[0], color=ncomponents_colours[1],\n",
    "               label=\"1 components\")\n",
    "    axs[0].bar(sfr_vals[:-1], counts_2, bottom=counts_1,\n",
    "               align=\"edge\", width=np.diff(sfr_vals)[0], color=ncomponents_colours[2],\n",
    "               label=\"2 components\")\n",
    "    axs[0].bar(sfr_vals[:-1], counts_3, bottom=counts_1 + counts_2,\n",
    "               align=\"edge\", width=np.diff(sfr_vals)[0], color=ncomponents_colours[3],\n",
    "               label=\"3 components\")\n",
    "    axs[0].grid()\n",
    "    axs[0].set_ylabel(r\"$N$\")\n",
    "    axs[0].set_yscale(\"log\")\n",
    "    axs[0].autoscale(axis=\"x\", enable=True, tight=True)\n",
    "    axs[0].legend(loc=\"upper right\", fontsize=\"small\")\n",
    "    axs[0].set_ylim([0.5, None])\n",
    "    \n",
    "    axs[1].bar(sfr_vals[:-1], counts_1 / counts_tot  * 100,\n",
    "           align=\"edge\", width=np.diff(sfr_vals)[0], color=ncomponents_colours[1])\n",
    "    axs[1].bar(sfr_vals[:-1], counts_2 / counts_tot  * 100, bottom=counts_1 / counts_tot * 100,\n",
    "           align=\"edge\", width=np.diff(sfr_vals)[0], color=ncomponents_colours[2])\n",
    "    axs[1].bar(sfr_vals[:-1], counts_3 / counts_tot * 100, bottom=counts_1 / counts_tot * 100 + counts_2 / counts_tot * 100,\n",
    "           align=\"edge\", width=np.diff(sfr_vals)[0], color=ncomponents_colours[3])\n",
    "    axs[1].grid()\n",
    "    axs[1].set_ylabel(\"Percentage\")\n",
    "    axs[1].autoscale(axis=\"x\", enable=True, tight=True)\n",
    "    axs[1].autoscale(axis=\"y\", enable=True, tight=True)\n",
    "    axs[1].set_xlabel(label_fn(col_x))\n",
    "\n",
    "    # Heckman+2002 line\n",
    "    if col_x == \"log SFR surface density\":\n",
    "        axs[0].axvline(-1, color=\"k\", linestyle=\"--\")\n",
    "        axs[1].axvline(-1, color=\"k\", linestyle=\"--\")\n",
    "        \n",
    "    if savefigs:\n",
    "        fname = os.path.join(fig_path, f\"hist_SF_only_{col_x.replace(' ', '_')}_ncomponents.pdf\")\n",
    "        print(f\"Saving to {fname}\")\n",
    "        fig.savefig(fname, bbox_inches=\"tight\")\n"
   ]
  },
  {
   "cell_type": "code",
   "execution_count": 76,
   "metadata": {},
   "outputs": [
    {
     "data": {
      "application/vnd.jupyter.widget-view+json": {
       "model_id": "a8308d23f3e54ebd929701ddf9527c28",
       "version_major": 2,
       "version_minor": 0
      },
      "text/plain": [
       "Canvas(toolbar=Toolbar(toolitems=[('Home', 'Reset original view', 'home', 'home'), ('Back', 'Back to previous …"
      ]
     },
     "metadata": {},
     "output_type": "display_data"
    },
    {
     "data": {
      "application/vnd.jupyter.widget-view+json": {
       "model_id": "373496464db242068c094f71b76b133b",
       "version_major": 2,
       "version_minor": 0
      },
      "text/plain": [
       "Canvas(toolbar=Toolbar(toolitems=[('Home', 'Reset original view', 'home', 'home'), ('Back', 'Back to previous …"
      ]
     },
     "metadata": {},
     "output_type": "display_data"
    },
    {
     "data": {
      "application/vnd.jupyter.widget-view+json": {
       "model_id": "eb6fd13576d94456a074dcfd18125a0e",
       "version_major": 2,
       "version_minor": 0
      },
      "text/plain": [
       "Canvas(toolbar=Toolbar(toolitems=[('Home', 'Reset original view', 'home', 'home'), ('Back', 'Back to previous …"
      ]
     },
     "metadata": {},
     "output_type": "display_data"
    },
    {
     "data": {
      "application/vnd.jupyter.widget-view+json": {
       "model_id": "e696a9df65dc4f328b2ca0cc554dabe0",
       "version_major": 2,
       "version_minor": 0
      },
      "text/plain": [
       "Canvas(toolbar=Toolbar(toolitems=[('Home', 'Reset original view', 'home', 'home'), ('Back', 'Back to previous …"
      ]
     },
     "metadata": {},
     "output_type": "display_data"
    }
   ],
   "source": [
    "# Compute how many 1, 2, 3 component spaxels there are in bins of SFR surface density (and SFR)\n",
    "for col_x in [\"HALPHA S/N (component 0)\", \"HALPHA S/N (component 1)\", \"HALPHA S/N (component 2)\", \"HALPHA S/N (total)\"]:\n",
    "    sfr_vals = np.linspace(vmin_fn(col_x), vmax_fn(col_x), 11)\n",
    "    counts_1 = np.zeros(len(sfr_vals) - 1)\n",
    "    counts_2 = np.zeros(len(sfr_vals) - 1)\n",
    "    counts_3 = np.zeros(len(sfr_vals) - 1)\n",
    "    counts_tot = np.zeros(len(sfr_vals) - 1)\n",
    "\n",
    "    for ll in range(len(sfr_vals) - 1):\n",
    "        cond = df_SF[col_x] > sfr_vals[ll]\n",
    "        cond &= df_SF[col_x] <= sfr_vals[ll + 1]\n",
    "        df_subset = df_SF[cond]\n",
    "        counts_tot[ll] = df_subset.shape[0]\n",
    "        counts_1[ll] = df_subset[df_subset[\"Number of components\"] == 1].shape[0]\n",
    "        counts_2[ll] = df_subset[df_subset[\"Number of components\"] == 2].shape[0]\n",
    "        counts_3[ll] = df_subset[df_subset[\"Number of components\"] == 3].shape[0]\n",
    "\n",
    "    # Plot\n",
    "    fig, axs = plt.subplots(nrows=2, ncols=1, sharex=True, figsize=(7, 8))\n",
    "    fig.subplots_adjust(hspace=0)\n",
    "\n",
    "    # Plot\n",
    "    axs[0].bar(sfr_vals[:-1], counts_1,\n",
    "               align=\"edge\", width=np.diff(sfr_vals)[0], color=ncomponents_colours[1],\n",
    "               label=\"1 components\")\n",
    "    axs[0].bar(sfr_vals[:-1], counts_2, bottom=counts_1,\n",
    "               align=\"edge\", width=np.diff(sfr_vals)[0], color=ncomponents_colours[2],\n",
    "               label=\"2 components\")\n",
    "    axs[0].bar(sfr_vals[:-1], counts_3, bottom=counts_1 + counts_2,\n",
    "               align=\"edge\", width=np.diff(sfr_vals)[0], color=ncomponents_colours[3],\n",
    "               label=\"3 components\")\n",
    "    axs[0].grid()\n",
    "    axs[0].set_ylabel(r\"$N$\")\n",
    "    axs[0].set_yscale(\"log\")\n",
    "    axs[0].autoscale(axis=\"x\", enable=True, tight=True)\n",
    "    axs[0].legend(loc=\"upper right\", fontsize=\"small\")\n",
    "    axs[0].set_ylim([0.5, None])\n",
    "    \n",
    "    axs[1].bar(sfr_vals[:-1], counts_1 / counts_tot  * 100,\n",
    "           align=\"edge\", width=np.diff(sfr_vals)[0], color=ncomponents_colours[1])\n",
    "    axs[1].bar(sfr_vals[:-1], counts_2 / counts_tot  * 100, bottom=counts_1 / counts_tot * 100,\n",
    "           align=\"edge\", width=np.diff(sfr_vals)[0], color=ncomponents_colours[2])\n",
    "    axs[1].bar(sfr_vals[:-1], counts_3 / counts_tot * 100, bottom=counts_1 / counts_tot * 100 + counts_2 / counts_tot * 100,\n",
    "           align=\"edge\", width=np.diff(sfr_vals)[0], color=ncomponents_colours[3])\n",
    "    axs[1].grid()\n",
    "    axs[1].set_ylabel(\"Percentage\")\n",
    "    axs[1].autoscale(axis=\"x\", enable=True, tight=True)\n",
    "    axs[1].autoscale(axis=\"y\", enable=True, tight=True)\n",
    "    axs[1].set_xlabel(label_fn(col_x))\n",
    "\n",
    "    # Heckman+2002 line\n",
    "    if col_x == \"log SFR surface density\":\n",
    "        axs[0].axvline(-1, color=\"k\", linestyle=\"--\")\n",
    "        axs[1].axvline(-1, color=\"k\", linestyle=\"--\")\n",
    "        \n",
    "    if savefigs:\n",
    "        fname = os.path.join(fig_path, f\"hist_SF_only_{col_x.replace(' ', '_')}_ncomponents.pdf\")\n",
    "        print(f\"Saving to {fname}\")\n",
    "        fig.savefig(fname, bbox_inches=\"tight\")\n"
   ]
  },
  {
   "cell_type": "markdown",
   "metadata": {},
   "source": [
    "## What drives the drop in EW as a function of delta sigma in SF galaxies?\n",
    "---"
   ]
  },
  {
   "cell_type": "code",
   "execution_count": 73,
   "metadata": {
    "scrolled": false
   },
   "outputs": [
    {
     "name": "stderr",
     "output_type": "stream",
     "text": [
      "/pkg/linux/anaconda-20191122/anaconda3/lib/python3.7/site-packages/ipykernel_launcher.py:3: RuntimeWarning: More than 20 figures have been opened. Figures created through the pyplot interface (`matplotlib.pyplot.figure`) are retained until explicitly closed and may consume too much memory. (To control this warning, see the rcParam `figure.max_open_warning`).\n",
      "  This is separate from the ipykernel package so we can avoid doing imports until\n"
     ]
    },
    {
     "data": {
      "application/vnd.jupyter.widget-view+json": {
       "model_id": "76c41de491734458bbe1df24715cd6d2",
       "version_major": 2,
       "version_minor": 0
      },
      "text/plain": [
       "Canvas(toolbar=Toolbar(toolitems=[('Home', 'Reset original view', 'home', 'home'), ('Back', 'Back to previous …"
      ]
     },
     "metadata": {},
     "output_type": "display_data"
    },
    {
     "name": "stderr",
     "output_type": "stream",
     "text": [
      "/pkg/linux/anaconda-20191122/anaconda3/lib/python3.7/site-packages/ipykernel_launcher.py:27: RuntimeWarning: More than 20 figures have been opened. Figures created through the pyplot interface (`matplotlib.pyplot.figure`) are retained until explicitly closed and may consume too much memory. (To control this warning, see the rcParam `figure.max_open_warning`).\n"
     ]
    },
    {
     "data": {
      "application/vnd.jupyter.widget-view+json": {
       "model_id": "722399f500c143e8807a85f06f1894f8",
       "version_major": 2,
       "version_minor": 0
      },
      "text/plain": [
       "Canvas(toolbar=Toolbar(toolitems=[('Home', 'Reset original view', 'home', 'home'), ('Back', 'Back to previous …"
      ]
     },
     "metadata": {},
     "output_type": "display_data"
    }
   ],
   "source": [
    "col_z_list = [\"count\"]\n",
    "for col_z in col_z_list:\n",
    "    fig, axs = plt.subplots(nrows=1, ncols=3, figsize=(5 * 3, 5))\n",
    "    fig.subplots_adjust(wspace=0)\n",
    "    bbox = axs[-1].get_position()\n",
    "    cax = fig.add_axes([bbox.x0 + bbox.width, bbox.y0, bbox.width * 0.1, bbox.height])\n",
    "\n",
    "    for ii in range(3):\n",
    "        plot2dhistcontours(df_SF, col_x=f\"log HALPHA continuum luminosity\",\n",
    "                           col_y=f\"log HALPHA EW (component {ii})\",\n",
    "                           col_z=f\"{col_z} (component {ii})\" if f\"{col_z} (component {ii})\" in df_SF else col_z, \n",
    "                           log_z=True if col_z == \"count\" else False,\n",
    "                           alpha=1.0, ax=axs[ii], cax=cax, nbins=100,\n",
    "                           linewidths=0.5,\n",
    "                           contours=True, hist=True, colors=\"white\",\n",
    "                           vmin=1 if col_z == \"count\" else None, \n",
    "                           vmax=1e3 if col_z == \"count\" else None,\n",
    "                           plot_colorbar=True if ii == 3 - 1 else False)\n",
    "        # Decorations\n",
    "        axs[ii].grid()\n",
    "        axs[ii].set_ylabel(\"\") if ii > 0 else None\n",
    "        axs[ii].set_yticklabels([]) if ii > 0 else None\n",
    "        axs[ii].text(s=f\"Component {ii + 1}\", x=0.05, y=0.95, transform=axs[ii].transAxes, verticalalignment=\"top\")\n",
    "   \n",
    "col_z_list = [\"log HALPHA continuum luminosity\"]\n",
    "for col_z in col_z_list:\n",
    "    fig, axs = plt.subplots(nrows=1, ncols=3, figsize=(5 * 3, 5))\n",
    "    fig.subplots_adjust(wspace=0)\n",
    "    bbox = axs[-1].get_position()\n",
    "    cax = fig.add_axes([bbox.x0 + bbox.width, bbox.y0, bbox.width * 0.1, bbox.height])\n",
    "\n",
    "    for ii in range(3):\n",
    "        plot2dhistcontours(df=df, \n",
    "                           col_x=f\"log HALPHA luminosity (component {ii})\",\n",
    "                           col_y=f\"log HALPHA EW (component {ii})\",\n",
    "                           col_z=\"count\", log_z=True,\n",
    "                           alpha=0.5, cmap=\"gray_r\",\n",
    "                           ax=axs[ii], plot_colorbar=False)\n",
    "\n",
    "        plot2dhistcontours(df_SF, col_x=f\"log HALPHA luminosity (component {ii})\",\n",
    "                           col_y=f\"log HALPHA EW (component {ii})\",\n",
    "                           col_z=f\"{col_z} (component {ii})\" if f\"{col_z} (component {ii})\" in df_SF else col_z, \n",
    "                           log_z=True if col_z == \"count\" else False,\n",
    "                           alpha=1.0, ax=axs[ii], cax=cax, nbins=100,\n",
    "                           linewidths=0.5,\n",
    "                           contours=True, hist=True, colors=\"white\",\n",
    "                           vmin=1 if col_z == \"count\" else None, \n",
    "                           vmax=1e3 if col_z == \"count\" else None,\n",
    "                           plot_colorbar=True if ii == 3 - 1 else False)\n",
    "        # Decorations\n",
    "        axs[ii].grid()\n",
    "        axs[ii].set_ylabel(\"\") if ii > 0 else None\n",
    "        axs[ii].set_yticklabels([]) if ii > 0 else None\n",
    "        axs[ii].text(s=f\"Component {ii + 1}\", x=0.05, y=0.95, transform=axs[ii].transAxes, verticalalignment=\"top\")\n",
    "   \n",
    "       "
   ]
  },
  {
   "cell_type": "code",
   "execution_count": 74,
   "metadata": {},
   "outputs": [],
   "source": [
    "plt.close(\"all\")"
   ]
  },
  {
   "cell_type": "code",
   "execution_count": null,
   "metadata": {},
   "outputs": [],
   "source": []
  }
 ],
 "metadata": {
  "kernelspec": {
   "display_name": "Python 3",
   "language": "python",
   "name": "python3"
  },
  "language_info": {
   "codemirror_mode": {
    "name": "ipython",
    "version": 3
   },
   "file_extension": ".py",
   "mimetype": "text/x-python",
   "name": "python",
   "nbconvert_exporter": "python",
   "pygments_lexer": "ipython3",
   "version": "3.7.4"
  }
 },
 "nbformat": 4,
 "nbformat_minor": 2
}
