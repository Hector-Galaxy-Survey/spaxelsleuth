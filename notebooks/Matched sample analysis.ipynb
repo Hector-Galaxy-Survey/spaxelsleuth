{
 "cells": [
  {
   "cell_type": "markdown",
   "metadata": {},
   "source": [
    "# Determining the origin of the broad component in \"normal\" star-forming galaxies using a matched-sample analysis\n",
    "---\n",
    "From Kaasisnen et al. (2017):\n",
    "> *We select three ‘matched’ samples from the full local sample by matching **an ensemble of local counterparts to each galaxy in our z ∼ 1.5 [O II]-Hα sample**. Our first local comparison sample is matched solely on stellar mass, without applying any constraints to the SFR. We refer to this sample as the $M_∗$-matched sample...  To create the $M_∗$-matched sample, **we require the stellar mass of the local counterparts to be within 0.2 dex of each high-z galaxy.** Conversely, for our second local comparison sample we require the SFRs of the high-z galaxies and local counterparts to be consistent within 0.2 dex but impose no constraints on $M_∗$...*\n",
    "\n",
    "> *To ensure that the statistical properties of the matched, local and high-z samples are equivalent, **we select the same number of local counterparts for each high-z galaxy**. Although there were more than 50 local galaxies with equivalent $M_∗$ for each high-z galaxy, a greater sample size did not result in a change in the electron-density distribution. **We therefore limit the size of our $M_∗$-matched sample, by randomly selecting 50 local galaxies for each high-z galaxy**. In contrast, the number of local counterparts in both the SFR-matched and the $M_∗$-and-SFR-matched samples is limited by the rarity of high SFR galaxies in the local SDSS sample. We only find seven local counterparts for our highest SFR high-z galaxy and thus select seven local galaxies at random for the remainder of our sample. Because we impose further constraints to select the $M_∗$-and-SFR- matched sample we are limited to five local counterparts for each high-z galaxy.*\n",
    "\n",
    "To summarise, we should\n",
    "* Determine how to quantify our independent variable (i.e. how to classify galaxies into having >1 component)\n",
    "* Determine which properties on which to match our sample - e.g. stellar mass, SFR, morphology, etc. \n",
    "* After this, look at the sample sizes: how many 1-comp galaxies should we match to each 2-comp galaxy?"
   ]
  },
  {
   "cell_type": "code",
   "execution_count": 2,
   "metadata": {},
   "outputs": [],
   "source": [
    "%matplotlib widget"
   ]
  },
  {
   "cell_type": "code",
   "execution_count": 3,
   "metadata": {},
   "outputs": [],
   "source": [
    "import os\n",
    "import numpy as np\n",
    "import pandas as pd\n",
    "from tqdm import tqdm\n",
    "\n",
    "from astropy.visualization import hist\n",
    "\n",
    "from spaxelsleuth.loaddata.sami import load_sami_df\n",
    "from spaxelsleuth.plotting.sdssimg import plot_sdss_image\n",
    "from spaxelsleuth.plotting.plot2dmap import plot2dmap\n",
    "from spaxelsleuth.plotting.plottools import vmin_fn, vmax_fn, label_fn\n",
    "\n",
    "import matplotlib.pyplot as plt \n",
    "plt.ion()\n",
    "plt.close(\"all\")\n",
    "\n",
    "from IPython.core.debugger import Tracer"
   ]
  },
  {
   "cell_type": "code",
   "execution_count": 4,
   "metadata": {},
   "outputs": [],
   "source": [
    "ncomponents = \"recom\"\n",
    "bin_type = \"default\"\n",
    "eline_SNR_min = 5"
   ]
  },
  {
   "cell_type": "code",
   "execution_count": 5,
   "metadata": {},
   "outputs": [],
   "source": [
    "# Load the metadata\n",
    "df_metadata = pd.read_hdf(os.path.join(os.environ[\"SAMI_DIR\"], \"sami_dr3_metadata.hd5\"))\n",
    "df_metadata_extended = pd.read_hdf(os.path.join(os.environ[\"SAMI_DIR\"], \"sami_dr3_metadata_extended.hd5\"))\n",
    "\n",
    "# Mask out the cell with the extremely high R_e (which is almost certainly incorrect!)\n",
    "cond_bad_Re = df_metadata_extended[\"R_e (kpc)\"] > 500\n",
    "df_metadata_extended.loc[cond_bad_Re, \"R_e (kpc)\"] = np.nan\n",
    "assert not any(df_metadata_extended.index.duplicated())\n",
    "\n",
    "# Add data from the EmissionLine1compDR3 table\n",
    "df_ap1comp = pd.read_hdf(os.path.join(os.environ[\"SAMI_DIR\"], f\"sami_apertures_extcorr_minSNR=5.hd5\"))\n",
    "# data_path = os.path.join(spaxelsleuth.loaddata.__file__.split(\"loaddata\")[0], \"data\")\n",
    "# df_ap1comp = pd.read_csv(os.path.join(data_path, \"sami_EmissionLine1compDR3.csv\"))\n",
    "# df_ap1comp = df_ap1comp.set_index(\"catid\").drop([\"Unnamed: 0\"], axis=1)\n",
    "# df_ap1comp = df_ap1comp[~df_ap1comp.index.duplicated(keep='first')]  # Remove duplicate indices\n",
    "assert not any(df_ap1comp.index.duplicated())\n",
    "\n",
    "# Merge onto df_metadata_extended\n",
    "df_metadata_extended = df_metadata_extended.merge(df_ap1comp[[c for c in df_ap1comp.columns if c not in df_metadata_extended.columns]], how=\"inner\", left_index=True, right_index=True)\n",
    "\n",
    "# Compute the mean SFR surface density within a 3kpc aperture \n",
    "df_metadata_extended[\"sigma_SFR (3kpc round)\"] = df_metadata_extended[\"SFR (3kpc round)\"] / (np.pi * 3**2)\n",
    "df_metadata_extended[\"sigma_SFR (3kpc round) (error)\"] = df_metadata_extended[\"SFR error (3kpc round)\"] / (np.pi * 3**2)\n",
    "df_metadata_extended[\"log sigma_SFR (3kpc round)\"] = np.log10(df_metadata_extended[\"sigma_SFR (3kpc round)\"])  # not bothering with computing log errors\n",
    "\n",
    "# Specific SFR in 3kpc\n",
    "df_metadata_extended[\"log sSFR (3kpc round)\"] = np.log10(df_metadata_extended[\"SFR (3kpc round)\"]) - df_metadata_extended[\"mstar\"]\n",
    "\n",
    "# Compute the mean SFR surface density within a 3kpc aperture \n",
    "df_metadata_extended[\"sigma_SFR (R_e)\"] = df_metadata_extended[\"SFR (R_e)\"] / (np.pi * df_metadata_extended[\"R_e (kpc)\"]**2)\n",
    "df_metadata_extended[\"sigma_SFR (R_e) (error)\"] = df_metadata_extended[\"SFR error (R_e)\"] / (np.pi * df_metadata_extended[\"R_e (kpc)\"]**2)\n",
    "df_metadata_extended[\"log sigma_SFR (R_e)\"] = np.log10(df_metadata_extended[\"sigma_SFR (R_e)\"])  # not bothering with computing log errors\n",
    "\n",
    "# Specific SFR in 3kpc\n",
    "df_metadata_extended[\"log sSFR (R_e)\"] = np.log10(df_metadata_extended[\"SFR (R_e)\"]) - df_metadata_extended[\"mstar\"]\n",
    "\n",
    "\n",
    "assert not any(df_ap1comp.index.duplicated())\n"
   ]
  },
  {
   "cell_type": "code",
   "execution_count": 6,
   "metadata": {},
   "outputs": [
    {
     "name": "stdout",
     "output_type": "stream",
     "text": [
      "In load_sami_df(): Loading DataFrame...\n",
      "In load_sami_df(): Finished!\n"
     ]
    }
   ],
   "source": [
    "df = load_sami_df(ncomponents=ncomponents, bin_type=bin_type, eline_SNR_min=eline_SNR_min, correct_extinction=True)"
   ]
  },
  {
   "cell_type": "markdown",
   "metadata": {},
   "source": [
    "### STEP 1: quantifying the variable of interest\n",
    "--- \n",
    "Classify \"2-component galaxies\" as being galaxies in which >30% of spaxels have 2 components, and >90% of spaxels are star-forming. Maybe also remove Seyfert galaxies. \n",
    "\n",
    "Note that we should only use the spaxels in which the final number of components matches the original number of components.\n",
    "\n",
    "Then, we should do a couple of checks before proceeding:\n",
    "* how many galaxies are there that meet these criteria?\n",
    "* plot the sSFR of these galaxies vs. stellar mass in comparison with the whole sample "
   ]
  },
  {
   "cell_type": "code",
   "execution_count": 7,
   "metadata": {},
   "outputs": [
    {
     "name": "stdout",
     "output_type": "stream",
     "text": [
      "61.04448405265259% of spaxels have high-quality components only\n"
     ]
    }
   ],
   "source": [
    "# Limit sample to having high-quality multi-component fits\n",
    "df_hq = df[df[\"Number of components\"] == df[\"Number of components (original)\"]]\n",
    "print(f\"{df_hq.shape[0] / df.shape[0] * 100}% of spaxels have high-quality components only\")"
   ]
  },
  {
   "cell_type": "code",
   "execution_count": 9,
   "metadata": {},
   "outputs": [
    {
     "name": "stderr",
     "output_type": "stream",
     "text": [
      "100%|██████████| 2997/2997 [00:36<00:00, 82.16it/s]"
     ]
    },
    {
     "name": "stdout",
     "output_type": "stream",
     "text": [
      "102/2997 meet our 2-component criteria\n",
      "590/2997 meet our 1-component criteria\n"
     ]
    },
    {
     "name": "stderr",
     "output_type": "stream",
     "text": [
      "\n"
     ]
    }
   ],
   "source": [
    "# Select 2-component galaxies\n",
    "gals = df_hq.catid.unique()\n",
    "gals_2comp = []\n",
    "gals_1comp = []\n",
    "for gal in tqdm(gals):\n",
    "    df_gal = df_hq[df_hq.catid == gal]\n",
    "    \n",
    "    # Criterion: >20% of spaxels must have >1 component \n",
    "    cond_anycomp = df_gal[\"Number of components\"] >= 1\n",
    "    n_anycomp = df_gal[cond_anycomp].shape[0]\n",
    "    cond_2comp = df_gal[\"Number of components\"] >= 2\n",
    "    n_2comp = df_gal[cond_2comp].shape[0]\n",
    "    \n",
    "    # Criterion: of those spaxels that can be classified, >80% must be SF \n",
    "    cond_SF = df_gal[\"BPT (total)\"] == \"SF\"\n",
    "    cond_Seyfert = df_gal[\"BPT (total)\"] == \"Seyfert\"\n",
    "    cond_LINER = df_gal[\"BPT (total)\"] == \"LINER\"\n",
    "    cond_any = df_gal[\"BPT (total)\"] != \"Not classified\"\n",
    "    n_SF = df_gal[cond_SF].shape[0]\n",
    "    n_Seyfert = df_gal[cond_Seyfert].shape[0]\n",
    "    n_LINER = df_gal[cond_LINER].shape[0]\n",
    "    n_anycat = df_gal[cond_any].shape[0]\n",
    "    \n",
    "    if n_anycomp > 0 and n_anycat > 50 and n_Seyfert == 0 and n_LINER == 0:\n",
    "        if (n_SF / n_anycat) > 0.8:\n",
    "            if ((n_2comp / n_anycomp) > 0.2):\n",
    "                gals_2comp.append(gal)\n",
    "            elif ((n_2comp / n_anycomp) < 0.05):\n",
    "                gals_1comp.append(gal)\n",
    "\n",
    "print(f\"{len(gals_2comp)}/{len(gals)} meet our 2-component criteria\")\n",
    "print(f\"{len(gals_1comp)}/{len(gals)} meet our 1-component criteria\")"
   ]
  },
  {
   "cell_type": "code",
   "execution_count": 18,
   "metadata": {
    "scrolled": true
   },
   "outputs": [
    {
     "data": {
      "application/vnd.jupyter.widget-view+json": {
       "model_id": "e56bfb4557904b02b616b7c4008c72fc",
       "version_major": 2,
       "version_minor": 0
      },
      "text/plain": [
       "Canvas(toolbar=Toolbar(toolitems=[('Home', 'Reset original view', 'home', 'home'), ('Back', 'Back to previous …"
      ]
     },
     "metadata": {},
     "output_type": "display_data"
    }
   ],
   "source": [
    "# Look at the 2-component galaxies \n",
    "N = 20\n",
    "fig, axs = plt.subplots(nrows=len(gals_2comp[:N]), ncols=4, figsize=(18, 4 * len(gals_2comp[:N])))\n",
    "for gg, gal in enumerate(gals_2comp[:N]):\n",
    "    df_gal = df_hq[df_hq.catid == gal]\n",
    "    plot_sdss_image(df_gal, ax=axs[gg][0])\n",
    "    plot2dmap(df_gal, \"Number of components\", bin_type=\"default\", survey=\"sami\", ax=axs[gg][1], show_title=False)\n",
    "    plot2dmap(df_gal, \"BPT (numeric) (total)\", bin_type=\"default\", survey=\"sami\", ax=axs[gg][2], show_title=False)\n",
    "    plot2dmap(df_gal, \"delta v_gas (2/1)\", bin_type=\"default\", survey=\"sami\", ax=axs[gg][3], show_title=False)"
   ]
  },
  {
   "cell_type": "code",
   "execution_count": 23,
   "metadata": {
    "scrolled": true
   },
   "outputs": [
    {
     "data": {
      "application/vnd.jupyter.widget-view+json": {
       "model_id": "cb00c4dc9ff5498a93a24a577832470d",
       "version_major": 2,
       "version_minor": 0
      },
      "text/plain": [
       "Canvas(toolbar=Toolbar(toolitems=[('Home', 'Reset original view', 'home', 'home'), ('Back', 'Back to previous …"
      ]
     },
     "metadata": {},
     "output_type": "display_data"
    }
   ],
   "source": [
    "# Look at the 1-component galaxies \n",
    "N = 3\n",
    "fig, axs = plt.subplots(nrows=len(gals_1comp[:N]), ncols=3, figsize=(12, 4 * len(gals_1comp[:N])))\n",
    "for gg, gal in enumerate(gals_1comp[:N]):\n",
    "    df_gal = df_hq[df_hq.catid == gal]\n",
    "    plot_sdss_image(df_gal, ax=axs[gg][0])\n",
    "    plot2dmap(df_gal, \"Number of components\", bin_type=\"default\", survey=\"sami\", ax=axs[gg][1], show_title=False)\n",
    "    plot2dmap(df_gal, \"BPT (numeric) (total)\", bin_type=\"default\", survey=\"sami\", ax=axs[gg][2], show_title=False)"
   ]
  },
  {
   "cell_type": "markdown",
   "metadata": {},
   "source": [
    "### STEP 2: select a matched sample \n",
    "---\n",
    "For each galaxy, count how many other galaxies there are in SAMI with \n",
    "* $M_*$ within 0.2 dex,\n",
    "* Total $\\rm SFR$ within 0.2 dex, \n",
    "* $M_*$ AND total $\\rm SFR$ within 0.3 dex.\n",
    "\n",
    "Other things we might also want to match on:\n",
    "* number of spaxels with high enough S/N to measure BPT categories \n",
    "* angular size, i.e. redshift \n",
    "* inclination\n",
    "* morphology \n",
    "* fraction of galaxy light in the SAMI aperture: try SFR surface density rather than total SFR? Compute total SFR within 1R_e"
   ]
  },
  {
   "cell_type": "code",
   "execution_count": 10,
   "metadata": {},
   "outputs": [],
   "source": [
    "plt.close(\"all\")"
   ]
  },
  {
   "cell_type": "code",
   "execution_count": 11,
   "metadata": {},
   "outputs": [],
   "source": [
    "# Plot other variables to see what could be driving the number of components present\n",
    "cols = [\"mstar\", \"SFR (R_e)\", \"log sigma_SFR (R_e)\", \"log sSFR (R_e)\",\n",
    "        \"R_e (kpc)\", \"log(M/R_e)\", \"Morphology (numeric)\", \"g_i\", \"m_r\", \"mu_within_1re\",\n",
    "        \"A_V (R_e)\", \"v_gas (R_e)\", \"sigma_gas (R_e)\",\n",
    "        \"log N2 (R_e)\", \"log S2 (R_e)\", \"log O1 (R_e)\", \"log O3 (R_e)\", \"S2 ratio (R_e)\", \n",
    "        \"N2S2 (R_e)\", \"N2O2 (R_e)\", \"Dopita+2016 (R_e)\",\n",
    "        \"Inclination i (degrees)\", \"z_spec\", \"kpc per arcsec\", \"ellip\", \"pa\",\n",
    "        \"Median SNR (B, 1R_e)\", \"Median SNR (B, 1.5R_e)\", \"Median SNR (B, 2R_e)\", \"Median SNR (B, full field)\",\n",
    "        \"Median SNR (R, 1R_e)\", \"Median SNR (R, 1.5R_e)\", \"Median SNR (R, 2R_e)\", \"Median SNR (R, full field)\"]"
   ]
  },
  {
   "cell_type": "code",
   "execution_count": 12,
   "metadata": {
    "scrolled": true
   },
   "outputs": [
    {
     "data": {
      "text/plain": [
       "34"
      ]
     },
     "execution_count": 12,
     "metadata": {},
     "output_type": "execute_result"
    }
   ],
   "source": [
    "len(cols)"
   ]
  },
  {
   "cell_type": "code",
   "execution_count": 14,
   "metadata": {
    "scrolled": false
   },
   "outputs": [
    {
     "name": "stdout",
     "output_type": "stream",
     "text": [
      "460374 only has 0 1-component counterparts\n",
      "70114 only has 0 1-component counterparts\n",
      "751043 only has 0 1-component counterparts\n",
      "3630097 only has 0 1-component counterparts\n",
      "3630239 only has 0 1-component counterparts\n",
      "3895257 only has 0 1-component counterparts\n",
      "3896912 only has 0 1-component counterparts\n",
      "9403800283 only has 0 1-component counterparts\n",
      "418737 only has 0 1-component counterparts\n",
      "9239901557 only has 0 1-component counterparts\n"
     ]
    },
    {
     "data": {
      "application/vnd.jupyter.widget-view+json": {
       "model_id": "c547e4114f2a4f72bd7d7281d51e5265",
       "version_major": 2,
       "version_minor": 0
      },
      "text/plain": [
       "Canvas(toolbar=Toolbar(toolitems=[('Home', 'Reset original view', 'home', 'home'), ('Back', 'Back to previous …"
      ]
     },
     "metadata": {},
     "output_type": "display_data"
    },
    {
     "name": "stderr",
     "output_type": "stream",
     "text": [
      "/pkg/linux/anaconda-20191122/anaconda3/lib/python3.7/site-packages/astropy/visualization/hist.py:72: MatplotlibDeprecationWarning: \n",
      "The 'normed' kwarg was deprecated in Matplotlib 2.1 and will be removed in 3.1. Use 'density' instead.\n",
      "  return ax.hist(x, bins, **kwargs)\n"
     ]
    },
    {
     "name": "stdout",
     "output_type": "stream",
     "text": [
      "WARNING: in vmin_fn(): undefined column\n",
      "WARNING: in label_fn(): undefined column\n",
      "WARNING: in vmin_fn(): undefined column\n",
      "WARNING: in label_fn(): undefined column\n",
      "WARNING: in vmin_fn(): undefined column\n",
      "WARNING: in label_fn(): undefined column\n",
      "WARNING: in vmin_fn(): undefined column\n",
      "WARNING: in label_fn(): undefined column\n",
      "WARNING: in vmin_fn(): undefined column\n",
      "WARNING: in label_fn(): undefined column\n",
      "WARNING: in vmin_fn(): undefined column\n",
      "WARNING: in label_fn(): undefined column\n",
      "WARNING: in vmin_fn(): undefined column\n",
      "WARNING: in label_fn(): undefined column\n",
      "WARNING: in vmin_fn(): undefined column\n",
      "WARNING: in label_fn(): undefined column\n",
      "WARNING: in vmin_fn(): undefined column\n",
      "WARNING: in label_fn(): undefined column\n",
      "WARNING: in vmin_fn(): undefined column\n",
      "WARNING: in label_fn(): undefined column\n",
      "WARNING: in vmin_fn(): undefined column\n",
      "WARNING: in label_fn(): undefined column\n",
      "WARNING: in vmin_fn(): undefined column\n",
      "WARNING: in label_fn(): undefined column\n",
      "WARNING: in vmin_fn(): undefined column\n",
      "WARNING: in label_fn(): undefined column\n",
      "WARNING: in vmin_fn(): undefined column\n",
      "WARNING: in label_fn(): undefined column\n",
      "WARNING: in vmin_fn(): undefined column\n",
      "WARNING: in label_fn(): undefined column\n",
      "WARNING: in vmin_fn(): undefined column\n",
      "WARNING: in label_fn(): undefined column\n",
      "WARNING: in vmin_fn(): undefined column\n",
      "WARNING: in label_fn(): undefined column\n",
      "WARNING: in vmin_fn(): undefined column\n",
      "WARNING: in label_fn(): undefined column\n",
      "WARNING: in vmin_fn(): undefined column\n",
      "WARNING: in label_fn(): undefined column\n",
      "WARNING: in vmin_fn(): undefined column\n",
      "WARNING: in label_fn(): undefined column\n",
      "WARNING: in vmin_fn(): undefined column\n",
      "WARNING: in label_fn(): undefined column\n",
      "WARNING: in vmin_fn(): undefined column\n",
      "WARNING: in label_fn(): undefined column\n",
      "WARNING: in vmin_fn(): undefined column\n",
      "WARNING: in label_fn(): undefined column\n",
      "WARNING: in vmin_fn(): undefined column\n",
      "WARNING: in label_fn(): undefined column\n",
      "WARNING: in vmin_fn(): undefined column\n",
      "WARNING: in label_fn(): undefined column\n"
     ]
    }
   ],
   "source": [
    "#///////////////////////////////////////////////////////////////////////////\n",
    "# PARAMETERS\n",
    "fig_path = os.path.join(os.environ[\"SAMI_DIR\"], \"matched_samples\")\n",
    "N = 1  # How many galaxies to match to each\n",
    "\n",
    "#///////////////////////////////////////////////////////////////////////////\n",
    "# OBTAIN MATCHED SAMPLE\n",
    "# for match_condition in [\"mstar\", \"sfr\", \"mstar+sfr\", \"sfrdens\", \"mstar+sfrdens\", \"ssfr\", \"mstar+ssfr\", \"inc\", \"re\", \"snr\", \"kpc_per_as\", \"mstar+sfrdens+kpc_per_as\", \"morph\", \"mu_within_1re\"]:\n",
    "for match_condition in [\"N2O2\"]:\n",
    "\n",
    "    gals_1comp_unmatched = gals_1comp.copy()  # List of 1-component galaxies that haven't been matched yet\n",
    "    gals_2comp_unmatched = []  # 2-component galaxies that have < N counterparts (and are excluded from analysis)\n",
    "    gals_1comp_matched = []    # Final list of 1-component galaxies that are counterparts to the 2-component galaxies \n",
    "    gals_2comp_matched = []    # Final list of 2-component galaxies that have N counterparts in our sample\n",
    "\n",
    "    # Split the metadata DataFrame into that containing the 2-component galaxies, and all the others\n",
    "    df_metadata_2comp = df_metadata_extended.loc[gals_2comp]\n",
    "    df_metadata_unmatched = df_metadata_extended.loc[gals_1comp_unmatched]\n",
    "    gals_matched_dict = {}\n",
    "\n",
    "    # For each 2-comp galaxy,\n",
    "    for gal in gals_2comp:\n",
    "        \n",
    "        # Match conditions\n",
    "        # Match in mstar\n",
    "        if match_condition == \"mstar\":\n",
    "            mstar = df_metadata_2comp.loc[gal, \"mstar\"]\n",
    "            cond_matched = np.abs(df_metadata_unmatched[\"mstar\"] - mstar) < 0.2\n",
    "\n",
    "        # Match in SFR \n",
    "        elif match_condition == \"sfr\":\n",
    "            sfr = df_metadata_2comp.loc[gal, \"SFR (R_e)\"]\n",
    "            cond_matched = np.abs(np.log10(df_metadata_unmatched[\"SFR (R_e)\"]) - np.log10(sfr)) < 0.2\n",
    "\n",
    "        # Match in mstar & SFR\n",
    "        elif match_condition == \"mstar+sfr\":\n",
    "            mstar = df_metadata_2comp.loc[gal, \"mstar\"]\n",
    "            sfr = df_metadata_2comp.loc[gal, \"SFR (R_e)\"]\n",
    "            cond_matched = np.abs(df_metadata_unmatched[\"mstar\"] - mstar) < 0.3\n",
    "            cond_matched &= np.abs(np.log10(df_metadata_unmatched[\"SFR (R_e)\"]) - np.log10(sfr)) < 0.3\n",
    "\n",
    "        # Match in SFR surface density \n",
    "        elif match_condition == \"sfrdens\":\n",
    "            sfrdens = df_metadata_2comp.loc[gal, \"log sigma_SFR (R_e)\"]\n",
    "            cond_matched = np.abs(df_metadata_unmatched[\"log sigma_SFR (R_e)\"] - sfrdens) < 0.2\n",
    "\n",
    "        # Match in mstar & SFR surface density\n",
    "        elif match_condition == \"mstar+sfrdens\":\n",
    "            mstar = df_metadata_2comp.loc[gal, \"mstar\"]\n",
    "            sfrdens = df_metadata_2comp.loc[gal, \"log sigma_SFR (R_e)\"]\n",
    "            cond_matched = np.abs(df_metadata_unmatched[\"mstar\"] - mstar) < 0.3        \n",
    "            cond_matched &= np.abs(df_metadata_unmatched[\"log sigma_SFR (R_e)\"] - sfrdens) < 0.3\n",
    "\n",
    "        # Match in sSFR \n",
    "        elif match_condition == \"ssfr\":\n",
    "            ssfr = df_metadata_2comp.loc[gal, \"log sSFR (R_e)\"]\n",
    "            cond_matched = np.abs(df_metadata_unmatched[\"log sSFR (R_e)\"] - ssfr) < 0.2\n",
    "\n",
    "        # Match in mstar & sSFR\n",
    "        elif match_condition == \"mstar+ssfr\":\n",
    "            mstar = df_metadata_2comp.loc[gal, \"mstar\"]\n",
    "            ssfr = df_metadata_2comp.loc[gal, \"log sSFR (R_e)\"]\n",
    "            cond_matched = np.abs(df_metadata_unmatched[\"mstar\"] - mstar) < 0.3         \n",
    "            cond_matched &= np.abs(df_metadata_unmatched[\"log sSFR (R_e)\"] - ssfr) < 0.3\n",
    "\n",
    "        # Match in inclination\n",
    "        elif match_condition == \"inc\":\n",
    "            i = df_metadata_2comp.loc[gal, \"Inclination i (degrees)\"]\n",
    "            cond_matched = np.abs(df_metadata_unmatched[\"Inclination i (degrees)\"] - i) < 10\n",
    "\n",
    "        # Match in R_e \n",
    "        elif match_condition == \"re\":\n",
    "            re = df_metadata_2comp.loc[gal, \"R_e (kpc)\"]\n",
    "            cond_matched = np.abs(df_metadata_unmatched[\"R_e (kpc)\"] - re) < 1.0\n",
    "        \n",
    "        # Match in mstar & Re\n",
    "        elif match_condition == \"mstar+re\":\n",
    "            mstar = df_metadata_2comp.loc[gal, \"mstar\"]\n",
    "            re = df_metadata_2comp.loc[gal, \"R_e (kpc)\"]\n",
    "            cond_matched = np.abs(df_metadata_unmatched[\"mstar\"] - mstar) < 0.3         \n",
    "            cond_matched &= np.abs(df_metadata_unmatched[\"R_e (kpc)\"] - re) < 1.0\n",
    "\n",
    "        # Match in S/N\n",
    "        elif match_condition == \"snr\":\n",
    "            snr = df_metadata_2comp.loc[gal, \"Median SNR (B, 1R_e)\"]\n",
    "            cond_matched = np.abs(df_metadata_unmatched[\"Median SNR (B, 1R_e)\"] - snr) < 2\n",
    "\n",
    "        # Match in kpc per arcsec\n",
    "        elif match_condition == \"kpc_per_as\":\n",
    "            kpc_per_as = df_metadata_2comp.loc[gal, \"kpc per arcsec\"]\n",
    "            cond_matched = np.abs(df_metadata_unmatched[\"kpc per arcsec\"] - kpc_per_as) < 0.3\n",
    "\n",
    "        # Match in mstar & SFR\n",
    "        elif match_condition == \"mstar+sfrdens+kpc_per_as\":\n",
    "            mstar = df_metadata_2comp.loc[gal, \"mstar\"]\n",
    "            sfrdens = df_metadata_2comp.loc[gal, \"log sigma_SFR (R_e)\"]\n",
    "            kpc_per_as = df_metadata_2comp.loc[gal, \"kpc per arcsec\"]\n",
    "            cond_matched = np.abs(df_metadata_unmatched[\"mstar\"] - mstar) < 0.3\n",
    "            cond_matched &= np.abs(df_metadata_unmatched[\"log sigma_SFR (R_e)\"] - sfrdens) < 0.3\n",
    "            cond_matched &= np.abs(df_metadata_unmatched[\"kpc per arcsec\"] - kpc_per_as) < 0.3\n",
    "\n",
    "        # Match in surface brightness\n",
    "        elif match_condition == \"mu_1re\":\n",
    "            mu_1re = df_metadata_2comp.loc[gal, \"mu_1re\"]\n",
    "            cond_matched = np.abs(df_metadata_unmatched[\"mu_1re\"] - mu_1re) < 0.2\n",
    "        \n",
    "        # Match in surface brightness\n",
    "        elif match_condition == \"mu_within_1re\":\n",
    "            mu_1re = df_metadata_2comp.loc[gal, \"mu_1re\"]\n",
    "            cond_matched = np.abs(df_metadata_unmatched[\"mu_1re\"] - mu_1re) < 0.2\n",
    "\n",
    "        # Match in surface brightness\n",
    "        elif match_condition == \"morph\":\n",
    "            morph = df_metadata_2comp.loc[gal, \"Morphology (numeric)\"]\n",
    "            cond_matched = np.abs(df_metadata_unmatched[\"Morphology (numeric)\"] - morph) == 0\n",
    "            \n",
    "        # Match in N2O2\n",
    "        elif match_condition == \"N2O2\":\n",
    "            N2O2 = df_metadata_2comp.loc[gal, \"N2O2 (R_e)\"]\n",
    "            cond_matched = np.abs(df_metadata_unmatched[\"N2O2 (R_e)\"] - N2O2) < 0.2\n",
    "\n",
    "        # Get ALL of the galaxies satifying these criteria.\n",
    "        gals_matched = list(df_metadata_unmatched[cond_matched].index)\n",
    "        if len(gals_matched) >= N:\n",
    "            # Select a random subset of these, so that individual galaxies don't \"hog\" them all\n",
    "            gals_matched_subset = list(np.random.choice(gals_matched, size=min(N, len(gals_matched)), replace=False))\n",
    "\n",
    "            # Add the 1-comp galaxies to the list of galaxies that have been matched \n",
    "            gals_1comp_matched += gals_matched_subset\n",
    "            gals_matched_dict[str(gal)] = gals_matched_subset\n",
    "\n",
    "            # Add the 2-comp galaxy to the list of galaxies that have been matched \n",
    "            gals_2comp_matched.append(gal)\n",
    "\n",
    "            # Remove the newley matched galaxies from the unmatched 1-comp galaxy list \n",
    "            df_metadata_unmatched = df_metadata_unmatched.drop(gals_matched_subset, axis=0)\n",
    "            for gal in gals_matched_subset:\n",
    "                gals_1comp_unmatched.remove(gal)\n",
    "        else:\n",
    "            # Drop this galaxy, because it doesn't have enough counterparts \n",
    "            gals_2comp_unmatched.append(gal)\n",
    "            print(f\"{gal} only has {len(gals_matched)} 1-component counterparts\")\n",
    "\n",
    "    # Check that this list is unique so that we aren't accidentally including galaxies twice\n",
    "    assert len(np.unique(gals_1comp_matched)) == len(gals_1comp_matched)\n",
    "\n",
    "    #///////////////////////////////////////////////////////////////////////////\n",
    "    # PLOT \n",
    "    fig, axs = plt.subplots(nrows=5, ncols=7, figsize=(7 * 4, 5 * 4))    \n",
    "    for cc, col in enumerate(cols):\n",
    "        # Plot \n",
    "        r = (vmin_fn(col), vmax_fn(col)) if vmin_fn(col) is not None else (df_metadata_extended.loc[gals_2comp_matched + gals_1comp_matched, col].min(), df_metadata_extended.loc[gals_2comp_matched + gals_1comp_matched, col].max())\n",
    "        hist(df_metadata_extended.loc[gals_2comp_matched, col], histtype=\"step\", ax=axs.flat[cc], range=r, bins=20, label=f\"2-component sample (N = {len(gals_2comp_matched)})\", normed=False, color=\"red\")\n",
    "        hist(df_metadata_extended.loc[gals_1comp_matched, col], histtype=\"stepfilled\", alpha=0.3, ax=axs.flat[cc], range=r, bins=20, label=f\"Matched sample (N = {len(gals_1comp_matched)})\", normed=False, color=\"orange\")\n",
    "\n",
    "        # Compute mean & std. dev.\n",
    "        y_2comp = 0.1 * axs.flat[cc].get_ylim()[1]\n",
    "        y_matched = 0.15 * axs.flat[cc].get_ylim()[1]\n",
    "        y_whole = 0.2 * axs.flat[cc].get_ylim()[1]\n",
    "        axs.flat[cc].errorbar(x=df_metadata_extended.loc[gals_2comp_matched, col].mean(), \n",
    "                         xerr=[[df_metadata_extended.loc[gals_2comp_matched, col].mean() - np.quantile(df_metadata_extended.loc[gals_2comp_matched, col].dropna().values, 0.16)], \n",
    "                               [np.quantile(df_metadata_extended.loc[gals_2comp_matched, col].dropna().values, 0.84) - df_metadata_extended.loc[gals_2comp_matched, col].mean()]],\n",
    "                         y=y_2comp, marker=\"o\", label=\"Mean (2-component sample)\", color=\"red\")\n",
    "        axs.flat[cc].errorbar(x=df_metadata_extended.loc[gals_1comp_matched, col].mean(), \n",
    "                         xerr=[[df_metadata_extended.loc[gals_1comp_matched, col].mean() - np.quantile(df_metadata_extended.loc[gals_1comp_matched, col].dropna().values, 0.16)], \n",
    "                               [np.quantile(df_metadata_extended.loc[gals_1comp_matched, col].dropna().values, 0.84) - df_metadata_extended.loc[gals_1comp_matched, col].mean()]],\n",
    "                         y=y_matched, marker=\"o\", label=\"Mean (matched sample)\", color=\"orange\")\n",
    "\n",
    "        axs.flat[cc].set_xlabel(label_fn(col))\n",
    "    axs[0][-1].legend(loc=\"center left\", bbox_to_anchor=[1.1, 0.5])\n",
    "    axs[0][0].set_title(f\"Match condition: {match_condition}\")\n",
    "\n",
    "    # Save \n",
    "    fig.savefig(os.path.join(fig_path, f\"matched_sample_{match_condition}.pdf\"), bbox_inches=\"tight\", format=\"pdf\")\n"
   ]
  },
  {
   "cell_type": "markdown",
   "metadata": {},
   "source": [
    "### STEP 3: make scatter plots showing the distribution of 2comp and 1comp galaxies in different planes\n",
    "---"
   ]
  },
  {
   "cell_type": "code",
   "execution_count": 73,
   "metadata": {
    "scrolled": true
   },
   "outputs": [
    {
     "data": {
      "application/vnd.jupyter.widget-view+json": {
       "model_id": "8155474e915c4756ba906e40e6adbbbc",
       "version_major": 2,
       "version_minor": 0
      },
      "text/plain": [
       "Canvas(toolbar=Toolbar(toolitems=[('Home', 'Reset original view', 'home', 'home'), ('Back', 'Back to previous …"
      ]
     },
     "metadata": {},
     "output_type": "display_data"
    },
    {
     "data": {
      "text/plain": [
       "Text(0, 0.5, '$\\\\log_{\\\\rm 10} \\\\rm (SFR \\\\, [M_\\\\odot \\\\, yr^{-1}])$')"
      ]
     },
     "execution_count": 73,
     "metadata": {},
     "output_type": "execute_result"
    }
   ],
   "source": [
    "fig, axs = plt.subplots(nrows=1, ncols=1, squeeze=False)\n",
    "df_metadata_extended[\"log SFR (3kpc round)\"] = np.log10(df_metadata_extended[\"SFR (3kpc round)\"])\n",
    "df_metadata_extended[\"log SFR (total)\"] = np.log10(df_metadata_extended[\"SFR (total)\"])\n",
    "\n",
    "col_x = \"mstar\"\n",
    "col_y = \"log SFR (3kpc round)\"\n",
    "\n",
    "axs[0][0].scatter(df_metadata_extended.loc[gals_1comp, col_x], df_metadata_extended.loc[gals_1comp, col_y], c=\"orange\", alpha=0.4, s=20)\n",
    "axs[0][0].scatter(df_metadata_extended.loc[gals_2comp, col_x], df_metadata_extended.loc[gals_2comp, col_y], c=\"w\", edgecolors=\"r\", s=20)\n",
    "axs[0][0].set_xlabel(label_fn(col_x))\n",
    "axs[0][0].set_ylabel(label_fn(col_y))"
   ]
  },
  {
   "cell_type": "code",
   "execution_count": 71,
   "metadata": {},
   "outputs": [
    {
     "data": {
      "text/plain": [
       "104"
      ]
     },
     "execution_count": 71,
     "metadata": {},
     "output_type": "execute_result"
    }
   ],
   "source": [
    "len(gals_2comp)"
   ]
  },
  {
   "cell_type": "code",
   "execution_count": null,
   "metadata": {},
   "outputs": [],
   "source": []
  }
 ],
 "metadata": {
  "kernelspec": {
   "display_name": "Python 3",
   "language": "python",
   "name": "python3"
  }
 },
 "nbformat": 4,
 "nbformat_minor": 2
}
