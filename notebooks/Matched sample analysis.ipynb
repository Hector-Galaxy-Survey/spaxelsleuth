{
 "cells": [
  {
   "cell_type": "markdown",
   "metadata": {},
   "source": [
    "# Determining the origin of the broad component in \"normal\" star-forming galaxies using a matched-sample analysis\n",
    "---\n",
    "From Kaasisnen et al. (2017):\n",
    "> *We select three ‘matched’ samples from the full local sample by matching **an ensemble of local counterparts to each galaxy in our z ∼ 1.5 [O II]-Hα sample**. Our first local comparison sample is matched solely on stellar mass, without applying any constraints to the SFR. We refer to this sample as the $M_∗$-matched sample...  To create the $M_∗$-matched sample, **we require the stellar mass of the local counterparts to be within 0.2 dex of each high-z galaxy.** Conversely, for our second local comparison sample we require the SFRs of the high-z galaxies and local counterparts to be consistent within 0.2 dex but impose no constraints on $M_∗$...*\n",
    "\n",
    "> *To ensure that the statistical properties of the matched, local and high-z samples are equivalent, **we select the same number of local counterparts for each high-z galaxy**. Although there were more than 50 local galaxies with equivalent $M_∗$ for each high-z galaxy, a greater sample size did not result in a change in the electron-density distribution. **We therefore limit the size of our $M_∗$-matched sample, by randomly selecting 50 local galaxies for each high-z galaxy**. In contrast, the number of local counterparts in both the SFR-matched and the $M_∗$-and-SFR-matched samples is limited by the rarity of high SFR galaxies in the local SDSS sample. We only find seven local counterparts for our highest SFR high-z galaxy and thus select seven local galaxies at random for the remainder of our sample. Because we impose further constraints to select the $M_∗$-and-SFR- matched sample we are limited to five local counterparts for each high-z galaxy.*\n",
    "\n",
    "To summarise, we should\n",
    "* Determine how to quantify our independent variable (i.e. how to classify galaxies into having >1 component)\n",
    "* Determine which properties on which to match our sample - e.g. stellar mass, SFR, morphology, etc. \n",
    "* After this, look at the sample sizes: how many 1-comp galaxies should we match to each 2-comp galaxy?"
   ]
  },
  {
   "cell_type": "code",
   "execution_count": 1,
   "metadata": {},
   "outputs": [],
   "source": [
    "%matplotlib widget"
   ]
  },
  {
   "cell_type": "code",
   "execution_count": 2,
   "metadata": {},
   "outputs": [],
   "source": [
    "import os\n",
    "import numpy as np\n",
    "import pandas as pd\n",
    "from tqdm import tqdm\n",
    "\n",
    "from astropy.visualization import hist\n",
    "\n",
    "from spaxelsleuth.loaddata.sami import load_sami_df\n",
    "from spaxelsleuth.plotting.sdssimg import plot_sdss_image\n",
    "from spaxelsleuth.plotting.plot2dmap import plot2dmap\n",
    "from spaxelsleuth.plotting.plotgalaxies import plot2dhistcontours\n",
    "from spaxelsleuth.plotting.plottools import vmin_fn, vmax_fn, label_fn, ncomponents_colours\n",
    "\n",
    "import matplotlib.pyplot as plt \n",
    "plt.ion()\n",
    "plt.close(\"all\")\n",
    "\n",
    "from IPython.core.debugger import Tracer"
   ]
  },
  {
   "cell_type": "code",
   "execution_count": 3,
   "metadata": {},
   "outputs": [],
   "source": [
    "savefigs = True\n",
    "fig_path = os.path.join(os.environ[\"SAMI_FIG_DIR\"], \"presentations\")\n",
    "# fig_path = os.path.join(os.environ[\"SAMI_DIR\"], \"matched_samples\")"
   ]
  },
  {
   "cell_type": "code",
   "execution_count": 4,
   "metadata": {},
   "outputs": [],
   "source": [
    "ncomponents = \"recom\"\n",
    "bin_type = \"default\"\n",
    "eline_SNR_min = 5"
   ]
  },
  {
   "cell_type": "code",
   "execution_count": 5,
   "metadata": {},
   "outputs": [],
   "source": [
    "# Load the metadata\n",
    "df_metadata = pd.read_hdf(os.path.join(os.environ[\"SAMI_DIR\"], \"sami_dr3_metadata.hd5\"))\n",
    "df_metadata_extended = pd.read_hdf(os.path.join(os.environ[\"SAMI_DIR\"], \"sami_dr3_metadata_extended.hd5\"))\n",
    "\n",
    "# Mask out the cell with the extremely high R_e (which is almost certainly incorrect!)\n",
    "cond_bad_Re = df_metadata_extended[\"R_e (kpc)\"] > 500\n",
    "df_metadata_extended.loc[cond_bad_Re, \"R_e (kpc)\"] = np.nan\n",
    "assert not any(df_metadata_extended.index.duplicated())\n",
    "\n",
    "# Add data from the EmissionLine1compDR3 table\n",
    "df_ap1comp = pd.read_hdf(os.path.join(os.environ[\"SAMI_DIR\"], f\"sami_apertures_extcorr_minSNR=5.hd5\"))\n",
    "# data_path = os.path.join(spaxelsleuth.loaddata.__file__.split(\"loaddata\")[0], \"data\")\n",
    "# df_ap1comp = pd.read_csv(os.path.join(data_path, \"sami_EmissionLine1compDR3.csv\"))\n",
    "# df_ap1comp = df_ap1comp.set_index(\"catid\").drop([\"Unnamed: 0\"], axis=1)\n",
    "# df_ap1comp = df_ap1comp[~df_ap1comp.index.duplicated(keep='first')]  # Remove duplicate indices\n",
    "assert not any(df_ap1comp.index.duplicated())\n",
    "\n",
    "# Merge onto df_metadata_extended\n",
    "df_metadata_extended = df_metadata_extended.merge(df_ap1comp[[c for c in df_ap1comp.columns if c not in df_metadata_extended.columns]], how=\"inner\", left_index=True, right_index=True)\n",
    "\n",
    "# Compute the mean SFR surface density within a 3kpc aperture \n",
    "df_metadata_extended[\"sigma_SFR (3kpc round)\"] = df_metadata_extended[\"SFR (3kpc round)\"] / (np.pi * 3**2)\n",
    "df_metadata_extended[\"sigma_SFR (3kpc round) (error)\"] = df_metadata_extended[\"SFR error (3kpc round)\"] / (np.pi * 3**2)\n",
    "df_metadata_extended[\"log sigma_SFR (3kpc round)\"] = np.log10(df_metadata_extended[\"sigma_SFR (3kpc round)\"])  # not bothering with computing log errors\n",
    "\n",
    "# Specific SFR in 3kpc\n",
    "df_metadata_extended[\"log sSFR (3kpc round)\"] = np.log10(df_metadata_extended[\"SFR (3kpc round)\"]) - df_metadata_extended[\"mstar\"]\n",
    "\n",
    "# Compute the mean SFR surface density within a 3kpc aperture \n",
    "df_metadata_extended[\"sigma_SFR (R_e)\"] = df_metadata_extended[\"SFR (R_e)\"] / (np.pi * df_metadata_extended[\"R_e (kpc)\"]**2)\n",
    "df_metadata_extended[\"sigma_SFR (R_e) (error)\"] = df_metadata_extended[\"SFR error (R_e)\"] / (np.pi * df_metadata_extended[\"R_e (kpc)\"]**2)\n",
    "df_metadata_extended[\"log sigma_SFR (R_e)\"] = np.log10(df_metadata_extended[\"sigma_SFR (R_e)\"])  # not bothering with computing log errors\n",
    "\n",
    "# Specific SFR in 3kpc\n",
    "df_metadata_extended[\"log sSFR (R_e)\"] = np.log10(df_metadata_extended[\"SFR (R_e)\"]) - df_metadata_extended[\"mstar\"]\n",
    "\n",
    "\n",
    "assert not any(df_ap1comp.index.duplicated())\n"
   ]
  },
  {
   "cell_type": "code",
   "execution_count": 6,
   "metadata": {},
   "outputs": [
    {
     "name": "stdout",
     "output_type": "stream",
     "text": [
      "In load_sami_df(): Loading DataFrame...\n",
      "In load_sami_df(): Finished!\n"
     ]
    }
   ],
   "source": [
    "df = load_sami_df(ncomponents=ncomponents, bin_type=bin_type, eline_SNR_min=eline_SNR_min, correct_extinction=True)"
   ]
  },
  {
   "cell_type": "markdown",
   "metadata": {},
   "source": [
    "### STEP 1: quantifying the variable of interest\n",
    "--- \n",
    "Classify \"2-component galaxies\" as being galaxies in which >30% of spaxels have 2 components, and >90% of spaxels are star-forming. Maybe also remove Seyfert galaxies. \n",
    "\n",
    "Note that we should only use the spaxels in which the final number of components matches the original number of components.\n",
    "\n",
    "Then, we should do a couple of checks before proceeding:\n",
    "* how many galaxies are there that meet these criteria?\n",
    "* plot the sSFR of these galaxies vs. stellar mass in comparison with the whole sample "
   ]
  },
  {
   "cell_type": "code",
   "execution_count": 7,
   "metadata": {},
   "outputs": [
    {
     "name": "stdout",
     "output_type": "stream",
     "text": [
      "61.04448405265259% of spaxels have high-quality components only\n"
     ]
    }
   ],
   "source": [
    "# Limit sample to having high-quality multi-component fits\n",
    "df_hq = df[df[\"Number of components\"] == df[\"Number of components (original)\"]]\n",
    "print(f\"{df_hq.shape[0] / df.shape[0] * 100}% of spaxels have high-quality components only\")"
   ]
  },
  {
   "cell_type": "code",
   "execution_count": 8,
   "metadata": {},
   "outputs": [
    {
     "name": "stderr",
     "output_type": "stream",
     "text": [
      "100%|██████████| 2997/2997 [00:33<00:00, 90.73it/s]"
     ]
    },
    {
     "name": "stdout",
     "output_type": "stream",
     "text": [
      "102/2997 meet our 2-component criteria\n",
      "442/2997 meet our 1-component criteria\n"
     ]
    },
    {
     "name": "stderr",
     "output_type": "stream",
     "text": [
      "\n"
     ]
    }
   ],
   "source": [
    "# Select 1/2-component galaxies\n",
    "gals = df_hq.catid.unique()\n",
    "gals_2comp = []\n",
    "gals_1comp = []\n",
    "for gal in tqdm(gals):\n",
    "    df_gal = df_hq[df_hq.catid == gal]\n",
    "    \n",
    "    # Criterion: >20% of spaxels must have >1 component \n",
    "    cond_anycomp = df_gal[\"Number of components\"] >= 1\n",
    "    n_anycomp = df_gal[cond_anycomp].shape[0]\n",
    "    cond_2comp = df_gal[\"Number of components\"] >= 2\n",
    "    n_2comp = df_gal[cond_2comp].shape[0]\n",
    "    \n",
    "    # Criterion: of those spaxels that can be classified, >80% must be SF \n",
    "    cond_SF = df_gal[\"BPT (total)\"] == \"SF\"\n",
    "    cond_Seyfert = df_gal[\"BPT (total)\"] == \"Seyfert\"\n",
    "    cond_LINER = df_gal[\"BPT (total)\"] == \"LINER\"\n",
    "    cond_any = df_gal[\"BPT (total)\"] != \"Not classified\"\n",
    "    n_SF = df_gal[cond_SF].shape[0]\n",
    "    n_Seyfert = df_gal[cond_Seyfert].shape[0]\n",
    "    n_LINER = df_gal[cond_LINER].shape[0]\n",
    "    n_anycat = df_gal[cond_any].shape[0]\n",
    "    \n",
    "    if n_anycomp > 0 and n_anycat > 50 and n_Seyfert == 0 and n_LINER == 0:\n",
    "        if (n_SF / n_anycat) > 0.8:\n",
    "            if ((n_2comp / n_anycomp) > 0.2):\n",
    "                gals_2comp.append(gal)\n",
    "            elif ((n_2comp / n_anycomp) < 0.01):\n",
    "                gals_1comp.append(gal)\n",
    "\n",
    "print(f\"{len(gals_2comp)}/{len(gals)} meet our 2-component criteria\")\n",
    "print(f\"{len(gals_1comp)}/{len(gals)} meet our 1-component criteria\")"
   ]
  },
  {
   "cell_type": "markdown",
   "metadata": {},
   "source": [
    "## Step 0a: is there a correlation between $\\Sigma_{\\rm SFR}$ and the *number* of 2-component spaxels?"
   ]
  },
  {
   "cell_type": "code",
   "execution_count": 14,
   "metadata": {
    "scrolled": true
   },
   "outputs": [
    {
     "name": "stderr",
     "output_type": "stream",
     "text": [
      "100%|██████████| 2997/2997 [00:58<00:00, 50.85it/s]"
     ]
    },
    {
     "name": "stdout",
     "output_type": "stream",
     "text": [
      "855/2997 are classified as star-forming\n"
     ]
    },
    {
     "name": "stderr",
     "output_type": "stream",
     "text": [
      "\n"
     ]
    }
   ],
   "source": [
    "# Select 1/2-component galaxies\n",
    "gals = df_hq.catid.unique()\n",
    "gals_SF = []\n",
    "for gal in tqdm(gals):\n",
    "    df_gal = df_hq[df_hq.catid == gal]\n",
    "    \n",
    "    # Count the number of spaxels in each galaxy with 1, 2 or 3 components\n",
    "    cond_anycomp = df_gal[\"Number of components\"] >= 1\n",
    "    n_anycomp = df_gal[cond_anycomp].shape[0]\n",
    "    cond_1comp = df_gal[\"Number of components\"] == 1\n",
    "    n_1comp = df_gal[cond_1comp].shape[0]\n",
    "    cond_2comp = df_gal[\"Number of components\"] == 2\n",
    "    n_2comp = df_gal[cond_2comp].shape[0]\n",
    "    cond_3comp = df_gal[\"Number of components\"] == 3\n",
    "    n_3comp = df_gal[cond_3comp].shape[0]\n",
    "    cond_23comp = cond_2comp | cond_3comp\n",
    "    n_23comp = df_gal[cond_23comp].shape[0]\n",
    "    df_metadata_extended.loc[gal, \"Number of any-component spaxels\"] = n_anycomp\n",
    "    df_metadata_extended.loc[gal, \"Number of 1-component spaxels\"] = n_1comp\n",
    "    df_metadata_extended.loc[gal, \"Number of 2-component spaxels\"] = n_2comp\n",
    "    df_metadata_extended.loc[gal, \"Number of 3-component spaxels\"] = n_3comp\n",
    "    df_metadata_extended.loc[gal, \"Number of >1-component spaxels\"] = n_23comp\n",
    "    \n",
    "    # Compute the mean SFR surface density in spaxels with 1, 2 or 3 components \n",
    "    df_metadata_extended.loc[gal, \"Mean log SFR surface density in 1-component spaxels\"] = df_gal.loc[cond_1comp, \"log SFR surface density (total)\"].mean()\n",
    "    df_metadata_extended.loc[gal, \"Mean log SFR surface density in 2-component spaxels\"] = df_gal.loc[cond_2comp, \"log SFR surface density (total)\"].mean()\n",
    "    df_metadata_extended.loc[gal, \"Mean log SFR surface density in 3-component spaxels\"] = df_gal.loc[cond_3comp, \"log SFR surface density (total)\"].mean()\n",
    "    df_metadata_extended.loc[gal, \"Mean log SFR surface density in >1-component spaxels\"] = df_gal.loc[cond_23comp, \"log SFR surface density (total)\"].mean()\n",
    "    \n",
    "    # Criterion: of those spaxels that can be classified, >80% must be SF \n",
    "    cond_SF = df_gal[\"BPT (total)\"] == \"SF\"\n",
    "    cond_Seyfert = df_gal[\"BPT (total)\"] == \"Seyfert\"\n",
    "    cond_LINER = df_gal[\"BPT (total)\"] == \"LINER\"\n",
    "    cond_any = df_gal[\"BPT (total)\"] != \"Not classified\"\n",
    "    n_SF = df_gal[cond_SF].shape[0]\n",
    "    n_Seyfert = df_gal[cond_Seyfert].shape[0]\n",
    "    n_LINER = df_gal[cond_LINER].shape[0]\n",
    "    n_anycat = df_gal[cond_any].shape[0]\n",
    "    \n",
    "    if n_anycat > 50 and n_Seyfert == 0 and n_LINER == 0:\n",
    "        if (n_SF / n_anycat) > 0.8:\n",
    "            gals_SF.append(gal)\n",
    "\n",
    "print(f\"{len(gals_SF)}/{len(gals)} are classified as star-forming\")"
   ]
  },
  {
   "cell_type": "code",
   "execution_count": 16,
   "metadata": {},
   "outputs": [
    {
     "data": {
      "application/vnd.jupyter.widget-view+json": {
       "model_id": "b3d0502e77e044f893e3fe99dc64e879",
       "version_major": 2,
       "version_minor": 0
      },
      "text/plain": [
       "Canvas(toolbar=Toolbar(toolitems=[('Home', 'Reset original view', 'home', 'home'), ('Back', 'Back to previous …"
      ]
     },
     "metadata": {},
     "output_type": "display_data"
    },
    {
     "name": "stderr",
     "output_type": "stream",
     "text": [
      "/pkg/linux/anaconda-20191122/anaconda3/lib/python3.7/site-packages/ipykernel_launcher.py:21: RuntimeWarning: invalid value encountered in true_divide\n"
     ]
    },
    {
     "name": "stdout",
     "output_type": "stream",
     "text": [
      "Saving to /priv/meggs3/u5708159/SAMI/figs/presentations/avg_sfrdense_2ndcomp_vs_2comp_frac_sf_gals.pdf\n"
     ]
    }
   ],
   "source": [
    "# Scatter plot: SFR surface density in 2-component spaxels as a function of % of 2-component spaxels \n",
    "nn = \">1\"\n",
    "fig, ax = plt.subplots(nrows=1, ncols=1)\n",
    "ax.scatter(x=df_metadata_extended.loc[gals, \"Number of >1-component spaxels\"] / df_metadata_extended.loc[gals, \"Number of any-component spaxels\"], \n",
    "           y=df_metadata_extended.loc[gals, f\"Mean log SFR surface density in {nn}-component spaxels\"], \n",
    "           color=\"lightgrey\", label=\"Full sample\", s=2)\n",
    "m = ax.scatter(x=df_metadata_extended.loc[gals_SF, \"Number of >1-component spaxels\"] / df_metadata_extended.loc[gals_SF, \"Number of any-component spaxels\"], \n",
    "           y=df_metadata_extended.loc[gals_SF, f\"Mean log SFR surface density in {nn}-component spaxels\"], \n",
    "           color=\"blue\",\n",
    "           label=\"Star-forming galaxies\", s=10)\n",
    "ax.set_ylabel(r\"Average $\\Sigma_{\\rm SFR}$ in \" + f\"{nn}\" + r\"-component spaxels ($\\log [\\rm M_\\odot \\, yr^{-1} \\, kpc^{-2}]$)\")\n",
    "ax.set_xlabel(\"Fraction of spaxels with >1 components\")\n",
    "ax.set_xscale(\"log\")\n",
    "ax.set_ylim([-3.75, -0.0])\n",
    "ax.set_xlim([1e-3, 2])\n",
    "ax.legend(loc=\"lower right\", fontsize=10)\n",
    "ax.grid()\n",
    "\n",
    "# Spearman's rank correlation coefficient\n",
    "from scipy.stats import ks_2samp, anderson_ksamp, spearmanr\n",
    "x = df_metadata_extended.loc[gals, \"Number of >1-component spaxels\"].values / df_metadata_extended.loc[gals, \"Number of any-component spaxels\"].values\n",
    "y = df_metadata_extended.loc[gals, f\"Mean log SFR surface density in {nn}-component spaxels\"]\n",
    "good_pts = ~np.isnan(x) & ~np.isnan(y)\n",
    "res = spearmanr(x[good_pts], y[good_pts])\n",
    "\n",
    "corr = res.correlation\n",
    "pval = res.pvalue\n",
    "ax.text(s=f\"Spearman correlation coefficient: {corr:.3f}\" + \"\\n\" + f\"($p = ${pval:.4g})\", x=0.02, y=0.98, verticalalignment=\"top\", transform=ax.transAxes) \n",
    "\n",
    "if savefigs:\n",
    "    fname = os.path.join(fig_path, f\"avg_sfrdense_2ndcomp_vs_2comp_frac_sf_gals.pdf\")\n",
    "    print(f\"Saving to {fname}\")\n",
    "    fig.savefig(fname, bbox_inches=\"tight\", format=\"pdf\")\n"
   ]
  },
  {
   "cell_type": "code",
   "execution_count": 20,
   "metadata": {},
   "outputs": [
    {
     "data": {
      "application/vnd.jupyter.widget-view+json": {
       "model_id": "bc1547a3799b4a3daa59db66fae01eb4",
       "version_major": 2,
       "version_minor": 0
      },
      "text/plain": [
       "Canvas(toolbar=Toolbar(toolitems=[('Home', 'Reset original view', 'home', 'home'), ('Back', 'Back to previous …"
      ]
     },
     "metadata": {},
     "output_type": "display_data"
    },
    {
     "name": "stderr",
     "output_type": "stream",
     "text": [
      "/pkg/linux/anaconda-20191122/anaconda3/lib/python3.7/site-packages/ipykernel_launcher.py:27: RuntimeWarning: invalid value encountered in true_divide\n"
     ]
    },
    {
     "name": "stdout",
     "output_type": "stream",
     "text": [
      "Saving to /priv/meggs3/u5708159/SAMI/figs/presentations/avg_sfrdense_2ndcomp_vs_2comp_frac_sf_gals_coloured.pdf\n"
     ]
    }
   ],
   "source": [
    "# Scatter plot: SFR surface density in 2-component spaxels as a function of % of 2-component spaxels \n",
    "nn = \">1\"\n",
    "fig, ax = plt.subplots(nrows=1, ncols=1)\n",
    "bbox = ax.get_position()\n",
    "cax = fig.add_axes([bbox.x0 + bbox.width, bbox.y0, 0.05, bbox.height])\n",
    "ax.scatter(x=df_metadata_extended.loc[gals, \"Number of >1-component spaxels\"] / df_metadata_extended.loc[gals, \"Number of any-component spaxels\"], \n",
    "           y=df_metadata_extended.loc[gals, f\"Mean log SFR surface density in {nn}-component spaxels\"], \n",
    "           color=\"lightgrey\", label=\"Full sample\", s=2)\n",
    "m = ax.scatter(x=df_metadata_extended.loc[gals_SF, \"Number of >1-component spaxels\"] / df_metadata_extended.loc[gals_SF, \"Number of any-component spaxels\"], \n",
    "           y=df_metadata_extended.loc[gals_SF, f\"Mean log SFR surface density in {nn}-component spaxels\"], \n",
    "           # color=\"blue\",\n",
    "           c=df_metadata_extended.loc[gals_SF, f\"Mean log SFR surface density in {nn}-component spaxels\"] - df_metadata_extended.loc[gals_SF, \"log sigma_SFR (R_e)\"],\n",
    "           cmap=\"coolwarm_r\", vmin=-0.5, vmax=0.5,\n",
    "           label=\"Star-forming galaxies\", s=10)\n",
    "plt.colorbar(mappable=m, cax=cax)\n",
    "cax.set_ylabel(r\"$\\langle \\Sigma_{\\rm SFR,\\,>1-comp} \\rangle - \\langle \\Sigma_{{\\rm SFR},\\,1R_e} \\rangle$\")\n",
    "ax.set_ylabel(r\"Average $\\Sigma_{\\rm SFR}$ in \" + f\"{nn}\" + r\"-component spaxels ($\\log [\\rm M_\\odot \\, yr^{-1} \\, kpc^{-2}]$)\")\n",
    "ax.set_xlabel(\"Fraction of spaxels with >1 components\")\n",
    "ax.set_xscale(\"log\")\n",
    "ax.set_ylim([-3.75, -0.0])\n",
    "ax.set_xlim([1e-3, 2])\n",
    "ax.legend(loc=\"lower right\", fontsize=10)\n",
    "ax.grid()\n",
    "\n",
    "# Spearman's rank correlation coefficient\n",
    "from scipy.stats import ks_2samp, anderson_ksamp, spearmanr\n",
    "x = df_metadata_extended.loc[gals, \"Number of >1-component spaxels\"].values / df_metadata_extended.loc[gals, \"Number of any-component spaxels\"].values\n",
    "y = df_metadata_extended.loc[gals, f\"Mean log SFR surface density in {nn}-component spaxels\"]\n",
    "good_pts = ~np.isnan(x) & ~np.isnan(y)\n",
    "res = spearmanr(x[good_pts], y[good_pts])\n",
    "\n",
    "corr = res.correlation\n",
    "pval = res.pvalue\n",
    "ax.text(s=f\"Spearman correlation coefficient: {corr:.3f}\" + \"\\n\" + f\"($p = ${pval:.4g})\", x=0.02, y=0.98, verticalalignment=\"top\", transform=ax.transAxes) \n",
    "\n",
    "if savefigs:\n",
    "    fname = os.path.join(fig_path, f\"avg_sfrdense_2ndcomp_vs_2comp_frac_sf_gals_coloured.pdf\")\n",
    "    print(f\"Saving to {fname}\")\n",
    "    fig.savefig(fname, bbox_inches=\"tight\", format=\"pdf\")\n"
   ]
  },
  {
   "cell_type": "code",
   "execution_count": 22,
   "metadata": {},
   "outputs": [
    {
     "data": {
      "application/vnd.jupyter.widget-view+json": {
       "model_id": "07106e7c8043473caf31924ae7af831f",
       "version_major": 2,
       "version_minor": 0
      },
      "text/plain": [
       "Canvas(toolbar=Toolbar(toolitems=[('Home', 'Reset original view', 'home', 'home'), ('Back', 'Back to previous …"
      ]
     },
     "metadata": {},
     "output_type": "display_data"
    },
    {
     "name": "stdout",
     "output_type": "stream",
     "text": [
      "Saving to /priv/meggs3/u5708159/SAMI/figs/presentations/sfrdense_1re_vs_2comp_frac_sf_gals.pdf\n"
     ]
    }
   ],
   "source": [
    "# Scatter plot: fraction of 2-component spaxels vs. SFR surface density \n",
    "fig, ax = plt.subplots(nrows=1, ncols=1)\n",
    "ax.scatter(y=df_metadata_extended.loc[gals, \"log sigma_SFR (R_e)\"], \n",
    "           x=df_metadata_extended.loc[gals, \"Number of >1-component spaxels\"] / df_metadata_extended.loc[gals, \"Number of any-component spaxels\"], \n",
    "           color=\"lightgrey\", label=\"Full sample\", s=2)\n",
    "ax.scatter(y=df_metadata_extended.loc[gals_SF, \"log sigma_SFR (R_e)\"], \n",
    "           x=df_metadata_extended.loc[gals_SF, \"Number of >1-component spaxels\"] / df_metadata_extended.loc[gals_SF, \"Number of any-component spaxels\"], \n",
    "           color=\"blue\", label=\"Star-forming galaxies\", s=10)\n",
    "ax.set_ylabel(label_fn(\"SFR surface density\"))\n",
    "ax.set_xlabel(\"Fraction of spaxels with >1 components\")\n",
    "ax.set_xscale(\"log\")\n",
    "ax.set_ylim([-3.75, -0.0])\n",
    "ax.set_xlim([1e-3, 2])\n",
    "ax.legend(loc=\"lower right\", fontsize=10)\n",
    "ax.grid()\n",
    "\n",
    "# Spearman's rank correlation coefficient\n",
    "from scipy.stats import ks_2samp, anderson_ksamp, spearmanr\n",
    "y = df_metadata_extended.loc[gals_SF, \"log sigma_SFR (R_e)\"].values\n",
    "x = df_metadata_extended.loc[gals_SF, \"Number of >1-component spaxels\"].values / df_metadata_extended.loc[gals_SF, \"Number of any-component spaxels\"].values\n",
    "good_pts = ~np.isnan(x) & ~np.isnan(y)\n",
    "res = spearmanr(x[good_pts], y[good_pts])\n",
    "\n",
    "corr = res.correlation\n",
    "pval = res.pvalue\n",
    "ax.text(s=f\"Spearman correlation coefficient: {corr:.3f}\" + \"\\n\" + f\"($p = ${pval:.4g})\", x=0.02, y=0.98, verticalalignment=\"top\", transform=ax.transAxes) \n",
    "\n",
    "if savefigs:\n",
    "    fname = os.path.join(fig_path, f\"sfrdense_1re_vs_2comp_frac_sf_gals.pdf\")\n",
    "    print(f\"Saving to {fname}\")\n",
    "    fig.savefig(fname, bbox_inches=\"tight\", format=\"pdf\")"
   ]
  },
  {
   "cell_type": "markdown",
   "metadata": {},
   "source": [
    "### Step 0b: what is the fraction of 2-component spaxels in bins of $\\Sigma_{\\rm SFR}$?"
   ]
  },
  {
   "cell_type": "code",
   "execution_count": null,
   "metadata": {},
   "outputs": [],
   "source": [
    "sigma_sfr_vals = np.linspace(-5.5, 0.0, 12)\n",
    "sigma_sfr_midpts = [0.5 * (sigma_sfr_vals[ii] + sigma_sfr_vals[ii + 1]) for ii in range(len(sigma_sfr_vals) - 1)]\n",
    "mean_3comp_frac_vals = np.zeros(len(sigma_sfr_vals) - 1)\n",
    "mean_2comp_frac_vals = np.zeros(len(sigma_sfr_vals) - 1)\n",
    "mean_1comp_frac_vals = np.zeros(len(sigma_sfr_vals) - 1)\n",
    "for ii in range(len(sigma_sfr_vals) - 1):\n",
    "    cond = df_hq[\"BPT (total)\"] == \"SF\"\n",
    "    cond &= (df_hq[\"log SFR surface density (total)\"] >= sigma_sfr_vals[ii]) & (df_hq[\"log SFR surface density (total)\"] < sigma_sfr_vals[ii + 1])\n",
    "    if any(cond):\n",
    "        cond_3comp = cond & (df_hq[\"Number of components\"] == 3)\n",
    "        cond_2comp = cond & (df_hq[\"Number of components\"] == 2)\n",
    "        cond_1comp = cond & (df_hq[\"Number of components\"] == 1)\n",
    "        mean_3comp_frac_vals[ii] = df_hq.loc[cond_3comp].shape[0] / df_hq.loc[cond].shape[0]\n",
    "        mean_2comp_frac_vals[ii] = df_hq.loc[cond_2comp].shape[0] / df_hq.loc[cond].shape[0]\n",
    "        mean_1comp_frac_vals[ii] = df_hq.loc[cond_1comp].shape[0] / df_hq.loc[cond].shape[0]\n",
    "    else:\n",
    "        mean_3comp_frac_vals[ii] = np.nan\n",
    "        mean_2comp_frac_vals[ii] = np.nan\n",
    "        mean_1comp_frac_vals[ii] = np.nan\n"
   ]
  },
  {
   "cell_type": "code",
   "execution_count": null,
   "metadata": {
    "scrolled": true
   },
   "outputs": [],
   "source": [
    "fig, ax = plt.subplots()\n",
    "ax.plot(sigma_sfr_midpts, mean_1comp_frac_vals, \"d-\", label=\"1 component\", lw=0.5, color=ncomponents_colours[1])\n",
    "ax.plot(sigma_sfr_midpts, mean_2comp_frac_vals, \"d-\", label=\"2 components\", color=ncomponents_colours[2])\n",
    "ax.plot(sigma_sfr_midpts, mean_3comp_frac_vals, \"d-\", label=\"3 components\", lw=0.5, color=ncomponents_colours[3])\n",
    "ax.set_xlabel(label_fn(\"SFR surface density\"))\n",
    "ax.set_ylabel(\"Fraction of spaxels with 2 components\")\n",
    "ax.set_yscale(\"log\")\n",
    "ax.set_xlim([-3.75, -0.0])\n",
    "ax.set_ylim([1e-4, 2])\n",
    "ax.legend(loc=\"lower right\", fontsize=10)\n",
    "ax.grid()\n",
    "\n",
    "if savefigs:\n",
    "    fname = os.path.join(fig_path, f\"2comp_spaxel_fraction_sf_spaxels.pdf\")\n",
    "    print(f\"Saving to {fname}\")\n",
    "    fig.savefig(fname, bbox_inches=\"tight\", format=\"pdf\")"
   ]
  },
  {
   "cell_type": "markdown",
   "metadata": {},
   "source": [
    "### Step 0c: *within individual galaxies*, do 2-component spaxels have higher SFR surface densities? & are these blue/redshifted?"
   ]
  },
  {
   "cell_type": "code",
   "execution_count": null,
   "metadata": {},
   "outputs": [],
   "source": [
    "plt.close(\"all\")"
   ]
  },
  {
   "cell_type": "code",
   "execution_count": null,
   "metadata": {
    "scrolled": true
   },
   "outputs": [],
   "source": [
    "from matplotlib.backends.backend_pdf import PdfPages\n",
    "pp = PdfPages(os.path.join(fig_path, f\"2comp_spaxel_fraction_sf_galaxies.pdf\"))\n",
    "\n",
    "for gal in gals_SF:\n",
    "    df_gal = df_hq[df_hq.catid == gal]\n",
    "\n",
    "    # Limit to star-forming spaxels \n",
    "    cond_1comp = (df_gal[\"BPT (total)\"] == \"SF\") & (df_gal[\"Number of components\"] == 1)\n",
    "    cond_2comp = (df_gal[\"BPT (total)\"] == \"SF\") & (df_gal[\"Number of components\"] == 2)\n",
    "    cond_3comp = (df_gal[\"BPT (total)\"] == \"SF\") & (df_gal[\"Number of components\"] == 3)\n",
    "    \n",
    "    # Plot \n",
    "    fig, axs = plt.subplots(nrows=1, ncols=3, figsize=(15, 4))\n",
    "    plot_sdss_image(df_gal=df_gal, ax=axs[0])\n",
    "    plot2dmap(df_gal=df_gal, bin_type=\"default\", survey=\"sami\", col_z=\"Number of components\", ax=axs[1], plot_colorbar=True, cax_orientation=\"horizontal\")\n",
    "    hist(df_gal.loc[cond_1comp, \"log SFR surface density (total)\"], range=(-4.0, 0.0), ax=axs[2], bins=20, histtype=\"stepfilled\", alpha=0.3, color=ncomponents_colours[1])\n",
    "    hist(df_gal.loc[cond_1comp, \"log SFR surface density (total)\"], range=(-4.0, 0.0), ax=axs[2], bins=20, histtype=\"step\", color=ncomponents_colours[1], label=\"1 component\")\n",
    "    hist(df_gal.loc[cond_2comp, \"log SFR surface density (total)\"], range=(-4.0, 0.0), ax=axs[2], bins=20, histtype=\"stepfilled\", alpha=0.3, color=ncomponents_colours[2])\n",
    "    hist(df_gal.loc[cond_2comp, \"log SFR surface density (total)\"], range=(-4.0, 0.0), ax=axs[2], bins=20, histtype=\"step\", color=ncomponents_colours[2], label=\"2 components\")\n",
    "    hist(df_gal.loc[cond_3comp, \"log SFR surface density (total)\"], range=(-4.0, 0.0), ax=axs[2], bins=20, histtype=\"stepfilled\", alpha=0.3, color=ncomponents_colours[3])\n",
    "    hist(df_gal.loc[cond_3comp, \"log SFR surface density (total)\"], range=(-4.0, 0.0), ax=axs[2], bins=20, histtype=\"step\", color=ncomponents_colours[3], label=\"3 components\")\n",
    "    axs[2].set_xlabel(label_fn(\"log SFR surface density\"))\n",
    "    axs[2].set_ylabel(r\"$N$\")\n",
    "    axs[2].legend(loc=\"lower center\", fontsize=10, bbox_to_anchor=[0.5, 1.01])\n",
    "    axs[2].grid(alpha=0.4)\n",
    "    \n",
    "    if savefigs:\n",
    "       pp.savefig(fig, bbox_inches=\"tight\")\n",
    "        \n",
    "    plt.close(\"all\")\n",
    "pp.close()\n"
   ]
  },
  {
   "cell_type": "markdown",
   "metadata": {},
   "source": [
    "### Step 0d: are the SFR surface densitites in 2-component galaxies *always* high, or is this only the case in galaxies with lots of 2-component spaxels? "
   ]
  },
  {
   "cell_type": "code",
   "execution_count": null,
   "metadata": {},
   "outputs": [],
   "source": [
    "for gal in gals_SF:\n",
    "    df_gal = df_hq[df_hq[\"catid\"] == gal]\n",
    "    \n",
    "    # Compute the mean SFR surface density in the 2-component spaxels \n",
    "    \n",
    "    \n",
    "    "
   ]
  },
  {
   "cell_type": "markdown",
   "metadata": {},
   "source": [
    "### Step 1a: what are the general properties of the 1- and 2-comp. galaxies?\n",
    "---"
   ]
  },
  {
   "cell_type": "code",
   "execution_count": 10,
   "metadata": {
    "scrolled": false
   },
   "outputs": [
    {
     "data": {
      "application/vnd.jupyter.widget-view+json": {
       "model_id": "2f82e05187c142b1b96d05d741d67ca5",
       "version_major": 2,
       "version_minor": 0
      },
      "text/plain": [
       "Canvas(toolbar=Toolbar(toolitems=[('Home', 'Reset original view', 'home', 'home'), ('Back', 'Back to previous …"
      ]
     },
     "metadata": {},
     "output_type": "display_data"
    },
    {
     "name": "stdout",
     "output_type": "stream",
     "text": [
      "Saving to /priv/meggs3/u5708159/SAMI/figs/presentations/matched_sample_hist.pdf\n"
     ]
    }
   ],
   "source": [
    "fig, ax = plt.subplots()\n",
    "hist(df_metadata_extended[\"log sigma_SFR (R_e)\"], range=(-5, 0), bins=30, ax=ax, histtype=\"step\", color=\"grey\", label=\"Full sample\")\n",
    "hist(df_metadata_extended.loc[gals_1comp, \"log sigma_SFR (R_e)\"], range=(-5, 0), histtype=\"stepfilled\", color=\"orange\", alpha=0.3, bins=30, ax=ax, label=\"1-component galaxies\")\n",
    "hist(df_metadata_extended.loc[gals_2comp, \"log sigma_SFR (R_e)\"], range=(-5, 0), histtype=\"step\", color=\"red\", bins=30,  ax=ax, label=\"2-component galaxies\")\n",
    "ax.legend()\n",
    "ax.set_ylabel(r\"$N$\")\n",
    "ax.set_xlabel(r\"$\\log \\left(\\Sigma_{\\rm SFR,\\,1R_e}\\,[\\rm M_\\odot\\,yr^{-1}\\,kpc^{-2}]\\right)$\")\n",
    "ax.grid()\n",
    "\n",
    "if savefigs:\n",
    "    fname = os.path.join(fig_path, f\"matched_sample_hist.pdf\")\n",
    "    print(f\"Saving to {fname}\")\n",
    "    fig.savefig(fname, bbox_inches=\"tight\", format=\"pdf\")"
   ]
  },
  {
   "cell_type": "code",
   "execution_count": 38,
   "metadata": {
    "scrolled": false
   },
   "outputs": [
    {
     "name": "stderr",
     "output_type": "stream",
     "text": [
      "/pkg/linux/anaconda-20191122/anaconda3/lib/python3.7/site-packages/ipykernel_launcher.py:1: RuntimeWarning: More than 20 figures have been opened. Figures created through the pyplot interface (`matplotlib.pyplot.figure`) are retained until explicitly closed and may consume too much memory. (To control this warning, see the rcParam `figure.max_open_warning`).\n",
      "  \"\"\"Entry point for launching an IPython kernel.\n"
     ]
    },
    {
     "data": {
      "application/vnd.jupyter.widget-view+json": {
       "model_id": "bf99152c34b9428b9615ff2f24128d5a",
       "version_major": 2,
       "version_minor": 0
      },
      "text/plain": [
       "Canvas(toolbar=Toolbar(toolitems=[('Home', 'Reset original view', 'home', 'home'), ('Back', 'Back to previous …"
      ]
     },
     "metadata": {},
     "output_type": "display_data"
    },
    {
     "name": "stdout",
     "output_type": "stream",
     "text": [
      "Saving to /priv/meggs3/u5708159/SAMI/figs/presentations/matched_sample_scatter_plots.pdf\n"
     ]
    }
   ],
   "source": [
    "fig, axs = plt.subplots(nrows=3, ncols=2, squeeze=False, sharex=\"col\", sharey=\"row\", figsize=(12, 12))\n",
    "fig.subplots_adjust(hspace=0, wspace=0)\n",
    "axs[0][1].set_visible(False)\n",
    "ap = \"R_e\"\n",
    "df_metadata_extended[f\"log SFR ({ap})\"] = np.log10(df_metadata_extended[f\"SFR ({ap})\"])\n",
    "df_metadata_extended[\"log SFR (total)\"] = np.log10(df_metadata_extended[\"SFR (total)\"])\n",
    "\n",
    "# Resize axes \n",
    "bbox = axs[0][0].get_position()\n",
    "axs[0][0].set_position([bbox.x0, bbox.y0, bbox.width, 0.5 * bbox.height])\n",
    "bbox = axs[1][1].get_position()\n",
    "axs[1][1].set_position([bbox.x0, bbox.y0, bbox.width * 0.3, bbox.height])\n",
    "bbox = axs[2][1].get_position()\n",
    "axs[2][1].set_position([bbox.x0, bbox.y0, bbox.width * 0.3, bbox.height])\n",
    "\n",
    "\n",
    "col_x = \"mstar\"\n",
    "hist(df_metadata_extended[col_x], range=(7, 12), bins=30, ax=axs[0][0], histtype=\"step\", color=\"grey\", label=\"Full sample\")\n",
    "hist(df_metadata_extended.loc[gals_1comp, col_x], range=(7, 12), histtype=\"stepfilled\", color=\"orange\", alpha=0.3, bins=30, ax=axs[0][0], label=\"1-component galaxies\")\n",
    "hist(df_metadata_extended.loc[gals_2comp, col_x], range=(7, 12), histtype=\"step\", color=\"red\", bins=30,  ax=axs[0][0], label=\"2-component galaxies\")\n",
    "axs[0][0].set_ylabel(r\"$N$\")\n",
    "\n",
    "col_y = f\"log SFR ({ap})\"\n",
    "axs[1][0].scatter(df_metadata_extended[col_x], df_metadata_extended[col_y], c=\"lightgrey\", s=5, label=\"Full sample\")\n",
    "axs[1][0].scatter(df_metadata_extended.loc[gals_1comp, col_x], df_metadata_extended.loc[gals_1comp, col_y], c=\"orange\", alpha=0.4, s=20, label=\"1-component galaxies\")\n",
    "axs[1][0].scatter(df_metadata_extended.loc[gals_2comp, col_x], df_metadata_extended.loc[gals_2comp, col_y], c=\"w\", edgecolors=\"r\", s=20, label=\"2-component galaxies\")\n",
    "axs[1][0].set_xlabel(label_fn(col_x))\n",
    "axs[1][0].set_ylabel(r\"$\\log {\\rm SFR}\\,(1\\,R_e)$\")\n",
    "hist(df_metadata_extended[col_y], range=axs[1][1].get_ylim(), bins=30, ax=axs[1][1], histtype=\"step\", color=\"grey\", label=\"Full sample\", orientation=\"horizontal\")\n",
    "hist(df_metadata_extended.loc[gals_1comp, col_y], range=axs[1][1].get_ylim(), histtype=\"stepfilled\", color=\"orange\", alpha=0.3, bins=30, ax=axs[1][1], label=\"1-component galaxies\", orientation=\"horizontal\")\n",
    "hist(df_metadata_extended.loc[gals_2comp, col_y], range=axs[1][1].get_ylim(), histtype=\"step\", color=\"red\", bins=30,  ax=axs[1][1], label=\"2-component galaxies\", orientation=\"horizontal\")\n",
    "\n",
    "\n",
    "col_y = f\"log sigma_SFR ({ap})\"\n",
    "axs[2][0].scatter(df_metadata_extended[col_x], df_metadata_extended[col_y], c=\"lightgrey\", s=5, label=\"Full sample\")\n",
    "axs[2][0].scatter(df_metadata_extended.loc[gals_1comp, col_x], df_metadata_extended.loc[gals_1comp, col_y], c=\"orange\", alpha=0.4, s=20, label=\"1-component galaxies\")\n",
    "axs[2][0].scatter(df_metadata_extended.loc[gals_2comp, col_x], df_metadata_extended.loc[gals_2comp, col_y], c=\"w\", edgecolors=\"r\", s=20, label=\"2-component galaxies\")\n",
    "axs[2][0].set_xlabel(label_fn(col_x))\n",
    "axs[2][0].set_ylabel(r\"$\\log \\Sigma_{\\rm SFR}\\,(1\\,R_e)$\")\n",
    "hist(df_metadata_extended[col_y], range=axs[2][0].get_ylim(), bins=30, ax=axs[2][1], histtype=\"step\", color=\"grey\", label=\"Full sample\", orientation=\"horizontal\")\n",
    "hist(df_metadata_extended.loc[gals_1comp, col_y], range=axs[2][0].get_ylim(), histtype=\"stepfilled\", color=\"orange\", alpha=0.3, bins=30, ax=axs[2][1], label=\"1-component galaxies\", orientation=\"horizontal\")\n",
    "hist(df_metadata_extended.loc[gals_2comp, col_y], range=axs[2][0].get_ylim(), histtype=\"step\", color=\"red\", bins=30,  ax=axs[2][1], label=\"2-component galaxies\", orientation=\"horizontal\")\n",
    "axs[2][1].set_xlabel(r\"$N$\")\n",
    "\n",
    "axs[1][0].legend(loc=\"lower right\")\n",
    "for ax in axs.flat:\n",
    "    ax.grid()\n",
    "\n",
    "# col_y = f\"log sSFR ({ap})\"\n",
    "# axs[0][2].scatter(df_metadata_extended.loc[gals_1comp, col_x], df_metadata_extended.loc[gals_1comp, col_y], c=\"orange\", alpha=0.4, s=20)\n",
    "# axs[0][2].scatter(df_metadata_extended.loc[gals_2comp, col_x], df_metadata_extended.loc[gals_2comp, col_y], c=\"w\", edgecolors=\"r\", s=20)\n",
    "# axs[0][2].set_xlabel(label_fn(col_x))\n",
    "# axs[0][2].set_ylabel(label_fn(col_y))\n",
    "\n",
    "if savefigs:\n",
    "    fname = os.path.join(fig_path, f\"matched_sample_scatter_plots.pdf\")\n",
    "    print(f\"Saving to {fname}\")\n",
    "    fig.savefig(fname, bbox_inches=\"tight\", format=\"pdf\")"
   ]
  },
  {
   "cell_type": "code",
   "execution_count": 42,
   "metadata": {},
   "outputs": [],
   "source": [
    "plt.close(\"all\")"
   ]
  },
  {
   "cell_type": "code",
   "execution_count": 41,
   "metadata": {},
   "outputs": [
    {
     "name": "stderr",
     "output_type": "stream",
     "text": [
      "/pkg/linux/anaconda-20191122/anaconda3/lib/python3.7/site-packages/ipykernel_launcher.py:4: RuntimeWarning: More than 20 figures have been opened. Figures created through the pyplot interface (`matplotlib.pyplot.figure`) are retained until explicitly closed and may consume too much memory. (To control this warning, see the rcParam `figure.max_open_warning`).\n",
      "  after removing the cwd from sys.path.\n"
     ]
    },
    {
     "data": {
      "application/vnd.jupyter.widget-view+json": {
       "model_id": "d727a8129f50402aba79ff595216d81f",
       "version_major": 2,
       "version_minor": 0
      },
      "text/plain": [
       "Canvas(toolbar=Toolbar(toolitems=[('Home', 'Reset original view', 'home', 'home'), ('Back', 'Back to previous …"
      ]
     },
     "metadata": {},
     "output_type": "display_data"
    },
    {
     "name": "stdout",
     "output_type": "stream",
     "text": [
      "Saving to /priv/meggs3/u5708159/SAMI/figs/presentations/matched_sample_2comp_491956.pdf\n"
     ]
    }
   ],
   "source": [
    "# Look at the 2-component galaxies \n",
    "N = 1\n",
    "for gal in gals_2comp[:N]:\n",
    "    fig, axs = plt.subplots(nrows=1, ncols=3, figsize=(16, 4))\n",
    "    bbox = axs[-2].get_position()\n",
    "    axs[-1].set_position([bbox.x0 + bbox.width, bbox.y0, bbox.width, bbox.height])\n",
    "    df_gal = df_hq[df_hq.catid == gal]\n",
    "    ax_sdss = plot_sdss_image(df_gal, ax=axs[0])\n",
    "    _, ax = plot2dmap(df_gal, \"Number of components\", bin_type=\"default\", survey=\"sami\", ax=axs[1], show_title=False, cax_orientation=\"horizontal\")\n",
    "    _, ax = plot2dmap(df_gal, \"BPT (numeric) (total)\", bin_type=\"default\", survey=\"sami\", ax=axs[2], show_title=False, cax_orientation=\"horizontal\")\n",
    "    lat, lon = ax.coords\n",
    "    lon.set_ticklabel_visible(False)\n",
    "    ax_sdss.text(s=f\"GAMA{gal}\", color=\"white\", x=0.1, y=0.9, transform=ax_sdss.transAxes)\n",
    "    \n",
    "    if savefigs:\n",
    "        fname = os.path.join(fig_path, f\"matched_sample_2comp_{gal}.pdf\")\n",
    "        print(f\"Saving to {fname}\")\n",
    "        fig.savefig(fname, bbox_inches=\"tight\", format=\"pdf\")"
   ]
  },
  {
   "cell_type": "code",
   "execution_count": 64,
   "metadata": {
    "scrolled": false
   },
   "outputs": [
    {
     "name": "stderr",
     "output_type": "stream",
     "text": [
      "/pkg/linux/anaconda-20191122/anaconda3/lib/python3.7/site-packages/ipykernel_launcher.py:4: RuntimeWarning: More than 20 figures have been opened. Figures created through the pyplot interface (`matplotlib.pyplot.figure`) are retained until explicitly closed and may consume too much memory. (To control this warning, see the rcParam `figure.max_open_warning`).\n",
      "  after removing the cwd from sys.path.\n"
     ]
    },
    {
     "data": {
      "application/vnd.jupyter.widget-view+json": {
       "model_id": "0727e1d4fd614c7b955f458750782d3a",
       "version_major": 2,
       "version_minor": 0
      },
      "text/plain": [
       "Canvas(toolbar=Toolbar(toolitems=[('Home', 'Reset original view', 'home', 'home'), ('Back', 'Back to previous …"
      ]
     },
     "metadata": {},
     "output_type": "display_data"
    },
    {
     "name": "stdout",
     "output_type": "stream",
     "text": [
      "Saving to /priv/meggs3/u5708159/SAMI/figs/presentations/matched_sample_1comp_32295.pdf\n"
     ]
    },
    {
     "name": "stderr",
     "output_type": "stream",
     "text": [
      "/pkg/linux/anaconda-20191122/anaconda3/lib/python3.7/site-packages/ipykernel_launcher.py:4: RuntimeWarning: More than 20 figures have been opened. Figures created through the pyplot interface (`matplotlib.pyplot.figure`) are retained until explicitly closed and may consume too much memory. (To control this warning, see the rcParam `figure.max_open_warning`).\n",
      "  after removing the cwd from sys.path.\n"
     ]
    },
    {
     "data": {
      "application/vnd.jupyter.widget-view+json": {
       "model_id": "977d7f3d743d4316a6413a0da0e1b08c",
       "version_major": 2,
       "version_minor": 0
      },
      "text/plain": [
       "Canvas(toolbar=Toolbar(toolitems=[('Home', 'Reset original view', 'home', 'home'), ('Back', 'Back to previous …"
      ]
     },
     "metadata": {},
     "output_type": "display_data"
    },
    {
     "name": "stdout",
     "output_type": "stream",
     "text": [
      "Saving to /priv/meggs3/u5708159/SAMI/figs/presentations/matched_sample_1comp_23669.pdf\n"
     ]
    },
    {
     "name": "stderr",
     "output_type": "stream",
     "text": [
      "/pkg/linux/anaconda-20191122/anaconda3/lib/python3.7/site-packages/ipykernel_launcher.py:4: RuntimeWarning: More than 20 figures have been opened. Figures created through the pyplot interface (`matplotlib.pyplot.figure`) are retained until explicitly closed and may consume too much memory. (To control this warning, see the rcParam `figure.max_open_warning`).\n",
      "  after removing the cwd from sys.path.\n"
     ]
    },
    {
     "data": {
      "application/vnd.jupyter.widget-view+json": {
       "model_id": "9c01c300f70c4cc8806ee153bca818a8",
       "version_major": 2,
       "version_minor": 0
      },
      "text/plain": [
       "Canvas(toolbar=Toolbar(toolitems=[('Home', 'Reset original view', 'home', 'home'), ('Back', 'Back to previous …"
      ]
     },
     "metadata": {},
     "output_type": "display_data"
    },
    {
     "name": "stdout",
     "output_type": "stream",
     "text": [
      "Saving to /priv/meggs3/u5708159/SAMI/figs/presentations/matched_sample_1comp_594964.pdf\n"
     ]
    },
    {
     "name": "stderr",
     "output_type": "stream",
     "text": [
      "/pkg/linux/anaconda-20191122/anaconda3/lib/python3.7/site-packages/ipykernel_launcher.py:4: RuntimeWarning: More than 20 figures have been opened. Figures created through the pyplot interface (`matplotlib.pyplot.figure`) are retained until explicitly closed and may consume too much memory. (To control this warning, see the rcParam `figure.max_open_warning`).\n",
      "  after removing the cwd from sys.path.\n"
     ]
    },
    {
     "data": {
      "application/vnd.jupyter.widget-view+json": {
       "model_id": "07d9d88004b54ba1a1baa303e4b03967",
       "version_major": 2,
       "version_minor": 0
      },
      "text/plain": [
       "Canvas(toolbar=Toolbar(toolitems=[('Home', 'Reset original view', 'home', 'home'), ('Back', 'Back to previous …"
      ]
     },
     "metadata": {},
     "output_type": "display_data"
    },
    {
     "name": "stdout",
     "output_type": "stream",
     "text": [
      "Saving to /priv/meggs3/u5708159/SAMI/figs/presentations/matched_sample_1comp_239249.pdf\n"
     ]
    }
   ],
   "source": [
    "# Look at the 1-component galaxies \n",
    "N = 4\n",
    "for gal in gals_1comp[:N]:\n",
    "    fig, axs = plt.subplots(nrows=1, ncols=3, figsize=(16, 4))\n",
    "    bbox = axs[-2].get_position()\n",
    "    axs[-1].set_position([bbox.x0 + bbox.width, bbox.y0, bbox.width, bbox.height])\n",
    "    df_gal = df_hq[df_hq.catid == gal]\n",
    "    ax_sdss = plot_sdss_image(df_gal, ax=axs[0])\n",
    "    _, ax = plot2dmap(df_gal, \"Number of components\", bin_type=\"default\", survey=\"sami\", ax=axs[1], show_title=False, cax_orientation=\"horizontal\")\n",
    "    _, ax = plot2dmap(df_gal, \"BPT (numeric) (total)\", bin_type=\"default\", survey=\"sami\", ax=axs[2], show_title=False, cax_orientation=\"horizontal\")\n",
    "    lat, lon = ax.coords\n",
    "    lon.set_ticklabel_visible(False)\n",
    "    ax_sdss.text(s=f\"GAMA{gal}\", color=\"white\", x=0.1, y=0.9, transform=ax_sdss.transAxes)\n",
    "    \n",
    "    if savefigs:\n",
    "        fname = os.path.join(fig_path, f\"matched_sample_1comp_{gal}.pdf\")\n",
    "        print(f\"Saving to {fname}\")\n",
    "        fig.savefig(fname, bbox_inches=\"tight\", format=\"pdf\")"
   ]
  },
  {
   "cell_type": "markdown",
   "metadata": {},
   "source": [
    "### STEP 2: select a matched sample \n",
    "---\n",
    "For each galaxy, count how many other galaxies there are in SAMI with \n",
    "* $M_*$ within 0.2 dex,\n",
    "* Total $\\rm SFR$ within 0.2 dex, \n",
    "* $M_*$ AND total $\\rm SFR$ within 0.3 dex.\n",
    "\n",
    "Other things we might also want to match on:\n",
    "* number of spaxels with high enough S/N to measure BPT categories \n",
    "* angular size, i.e. redshift \n",
    "* inclination\n",
    "* morphology \n",
    "* fraction of galaxy light in the SAMI aperture: try SFR surface density rather than total SFR? Compute total SFR within 1R_e"
   ]
  },
  {
   "cell_type": "code",
   "execution_count": 10,
   "metadata": {},
   "outputs": [],
   "source": [
    "plt.close(\"all\")"
   ]
  },
  {
   "cell_type": "code",
   "execution_count": 66,
   "metadata": {},
   "outputs": [],
   "source": [
    "# Plot other variables to see what could be driving the number of components present\n",
    "cols = [\"mstar\", \"SFR (R_e)\", \"log sigma_SFR (R_e)\", \"log sSFR (R_e)\",\n",
    "        \"R_e (kpc)\", \"log(M/R_e)\", \"Morphology (numeric)\", \"g_i\", \"m_r\", \"mu_within_1re\",\n",
    "        \"A_V (R_e)\", \"v_gas (R_e)\", \"sigma_gas (R_e)\",\n",
    "        \"log N2 (R_e)\", \"log S2 (R_e)\", \"log O1 (R_e)\", \"log O3 (R_e)\", \"S2 ratio (R_e)\", \n",
    "        \"N2S2 (R_e)\", \"N2O2 (R_e)\", \"Dopita+2016 (R_e)\",\n",
    "        \"Inclination i (degrees)\", \"z_spec\", \"kpc per arcsec\", \"ellip\", \"pa\",\n",
    "        \"Median SNR (B, 1R_e)\", \"Median SNR (B, 1.5R_e)\", \"Median SNR (B, 2R_e)\", \"Median SNR (B, full field)\",\n",
    "        \"Median SNR (R, 1R_e)\", \"Median SNR (R, 1.5R_e)\", \"Median SNR (R, 2R_e)\", \"Median SNR (R, full field)\"]"
   ]
  },
  {
   "cell_type": "code",
   "execution_count": 32,
   "metadata": {},
   "outputs": [],
   "source": [
    "# Reduced set of columns for presentation... \n",
    "cols = [\"mstar\", \"SFR (R_e)\", \"log sigma_SFR (R_e)\", \"log sSFR (R_e)\",\n",
    "        \"R_e (kpc)\", \"log(M/R_e)\", \"mu_within_1re\", \"A_V (R_e)\", \n",
    "        \"Inclination i (degrees)\", \"z_spec\", \"Median SNR (B, 1R_e)\", \"Median SNR (R, 1R_e)\"]"
   ]
  },
  {
   "cell_type": "code",
   "execution_count": 33,
   "metadata": {
    "scrolled": false
   },
   "outputs": [
    {
     "data": {
      "text/plain": [
       "12"
      ]
     },
     "execution_count": 33,
     "metadata": {},
     "output_type": "execute_result"
    }
   ],
   "source": [
    "len(cols)"
   ]
  },
  {
   "cell_type": "code",
   "execution_count": 40,
   "metadata": {
    "scrolled": true
   },
   "outputs": [
    {
     "name": "stdout",
     "output_type": "stream",
     "text": [
      "584013 only has 0 1-component counterparts\n",
      "460374 only has 0 1-component counterparts\n",
      "572402 only has 0 1-component counterparts\n",
      "84677 only has 0 1-component counterparts\n",
      "383259 only has 0 1-component counterparts\n",
      "3895257 only has 0 1-component counterparts\n",
      "9011900166 only has 0 1-component counterparts\n",
      "9016800167 only has 0 1-component counterparts\n",
      "9016800318 only has 0 1-component counterparts\n",
      "9239900063 only has 0 1-component counterparts\n",
      "9239900237 only has 0 1-component counterparts\n",
      "9239900416 only has 0 1-component counterparts\n",
      "9388000219 only has 0 1-component counterparts\n",
      "9388000716 only has 0 1-component counterparts\n",
      "9008500646 only has 0 1-component counterparts\n",
      "9403800283 only has 0 1-component counterparts\n",
      "9403800881 only has 0 1-component counterparts\n",
      "418737 only has 0 1-component counterparts\n",
      "9239901557 only has 0 1-component counterparts\n"
     ]
    },
    {
     "name": "stderr",
     "output_type": "stream",
     "text": [
      "/pkg/linux/anaconda-20191122/anaconda3/lib/python3.7/site-packages/ipykernel_launcher.py:152: RuntimeWarning: More than 20 figures have been opened. Figures created through the pyplot interface (`matplotlib.pyplot.figure`) are retained until explicitly closed and may consume too much memory. (To control this warning, see the rcParam `figure.max_open_warning`).\n"
     ]
    },
    {
     "data": {
      "application/vnd.jupyter.widget-view+json": {
       "model_id": "6874f88474134be8aba76fa3ec66ae69",
       "version_major": 2,
       "version_minor": 0
      },
      "text/plain": [
       "Canvas(toolbar=Toolbar(toolitems=[('Home', 'Reset original view', 'home', 'home'), ('Back', 'Back to previous …"
      ]
     },
     "metadata": {},
     "output_type": "display_data"
    },
    {
     "name": "stderr",
     "output_type": "stream",
     "text": [
      "/pkg/linux/anaconda-20191122/anaconda3/lib/python3.7/site-packages/astropy/visualization/hist.py:72: MatplotlibDeprecationWarning: \n",
      "The 'normed' kwarg was deprecated in Matplotlib 2.1 and will be removed in 3.1. Use 'density' instead.\n",
      "  return ax.hist(x, bins, **kwargs)\n"
     ]
    },
    {
     "name": "stdout",
     "output_type": "stream",
     "text": [
      "WARNING: in vmin_fn(): undefined column\n",
      "WARNING: in label_fn(): undefined column\n",
      "WARNING: in vmin_fn(): undefined column\n",
      "WARNING: in label_fn(): undefined column\n",
      "WARNING: in vmin_fn(): undefined column\n",
      "WARNING: in label_fn(): undefined column\n",
      "WARNING: in vmin_fn(): undefined column\n",
      "WARNING: in label_fn(): undefined column\n",
      "WARNING: in vmin_fn(): undefined column\n",
      "WARNING: in label_fn(): undefined column\n",
      "WARNING: in vmin_fn(): undefined column\n",
      "WARNING: in label_fn(): undefined column\n",
      "Saving to /priv/meggs3/u5708159/SAMI/figs/presentations/matched_sample_hists_mstar.pdf\n",
      "511867 only has 0 1-component counterparts\n",
      "64087 only has 0 1-component counterparts\n",
      "106376 only has 0 1-component counterparts\n",
      "619095 only has 0 1-component counterparts\n",
      "543860 only has 0 1-component counterparts\n",
      "504713 only has 0 1-component counterparts\n",
      "569555 only has 0 1-component counterparts\n",
      "485834 only has 0 1-component counterparts\n",
      "41144 only has 0 1-component counterparts\n",
      "301382 only has 0 1-component counterparts\n",
      "136688 only has 0 1-component counterparts\n",
      "22633 only has 0 1-component counterparts\n",
      "463288 only has 0 1-component counterparts\n",
      "298666 only has 0 1-component counterparts\n",
      "600030 only has 0 1-component counterparts\n",
      "287824 only has 0 1-component counterparts\n",
      "491457 only has 0 1-component counterparts\n",
      "77754 only has 0 1-component counterparts\n",
      "574029 only has 0 1-component counterparts\n",
      "584013 only has 0 1-component counterparts\n",
      "78425 only has 0 1-component counterparts\n",
      "485833 only has 0 1-component counterparts\n",
      "460374 only has 0 1-component counterparts\n",
      "572402 only has 0 1-component counterparts\n",
      "84677 only has 0 1-component counterparts\n",
      "106042 only has 0 1-component counterparts\n",
      "93062 only has 0 1-component counterparts\n",
      "250277 only has 0 1-component counterparts\n",
      "521736 only has 0 1-component counterparts\n",
      "383259 only has 0 1-component counterparts\n",
      "64646 only has 0 1-component counterparts\n",
      "296934 only has 0 1-component counterparts\n",
      "620092 only has 0 1-component counterparts\n",
      "751043 only has 0 1-component counterparts\n",
      "3630097 only has 0 1-component counterparts\n",
      "3630239 only has 0 1-component counterparts\n",
      "3895257 only has 0 1-component counterparts\n",
      "3896912 only has 0 1-component counterparts\n",
      "9011900166 only has 0 1-component counterparts\n",
      "9011900772 only has 0 1-component counterparts\n",
      "9011900774 only has 0 1-component counterparts\n",
      "9011900859 only has 0 1-component counterparts\n",
      "9016800167 only has 0 1-component counterparts\n",
      "9016800318 only has 0 1-component counterparts\n",
      "9239900063 only has 0 1-component counterparts\n",
      "9239900237 only has 0 1-component counterparts\n",
      "9239900416 only has 0 1-component counterparts\n",
      "9388000219 only has 0 1-component counterparts\n",
      "9388000716 only has 0 1-component counterparts\n",
      "9008500205 only has 0 1-component counterparts\n",
      "9008500646 only has 0 1-component counterparts\n",
      "9403800272 only has 0 1-component counterparts\n",
      "9403800283 only has 0 1-component counterparts\n",
      "9403800881 only has 0 1-component counterparts\n",
      "418737 only has 0 1-component counterparts\n",
      "9239901557 only has 0 1-component counterparts\n"
     ]
    },
    {
     "name": "stderr",
     "output_type": "stream",
     "text": [
      "/pkg/linux/anaconda-20191122/anaconda3/lib/python3.7/site-packages/ipykernel_launcher.py:152: RuntimeWarning: More than 20 figures have been opened. Figures created through the pyplot interface (`matplotlib.pyplot.figure`) are retained until explicitly closed and may consume too much memory. (To control this warning, see the rcParam `figure.max_open_warning`).\n"
     ]
    },
    {
     "data": {
      "application/vnd.jupyter.widget-view+json": {
       "model_id": "2f8cf6aa370c491a9b64ad4ee8edb1b4",
       "version_major": 2,
       "version_minor": 0
      },
      "text/plain": [
       "Canvas(toolbar=Toolbar(toolitems=[('Home', 'Reset original view', 'home', 'home'), ('Back', 'Back to previous …"
      ]
     },
     "metadata": {},
     "output_type": "display_data"
    },
    {
     "name": "stdout",
     "output_type": "stream",
     "text": [
      "WARNING: in vmin_fn(): undefined column\n",
      "WARNING: in label_fn(): undefined column\n",
      "WARNING: in vmin_fn(): undefined column\n",
      "WARNING: in label_fn(): undefined column\n",
      "WARNING: in vmin_fn(): undefined column\n",
      "WARNING: in label_fn(): undefined column\n"
     ]
    },
    {
     "name": "stderr",
     "output_type": "stream",
     "text": [
      "/pkg/linux/anaconda-20191122/anaconda3/lib/python3.7/site-packages/astropy/visualization/hist.py:72: MatplotlibDeprecationWarning: \n",
      "The 'normed' kwarg was deprecated in Matplotlib 2.1 and will be removed in 3.1. Use 'density' instead.\n",
      "  return ax.hist(x, bins, **kwargs)\n"
     ]
    },
    {
     "name": "stdout",
     "output_type": "stream",
     "text": [
      "WARNING: in vmin_fn(): undefined column\n",
      "WARNING: in label_fn(): undefined column\n",
      "WARNING: in vmin_fn(): undefined column\n",
      "WARNING: in label_fn(): undefined column\n",
      "WARNING: in vmin_fn(): undefined column\n",
      "WARNING: in label_fn(): undefined column\n",
      "Saving to /priv/meggs3/u5708159/SAMI/figs/presentations/matched_sample_hists_SFR.pdf\n",
      "511867 only has 0 1-component counterparts\n",
      "543860 only has 0 1-component counterparts\n",
      "504713 only has 0 1-component counterparts\n",
      "569555 only has 0 1-component counterparts\n",
      "485834 only has 0 1-component counterparts\n",
      "41144 only has 0 1-component counterparts\n",
      "301382 only has 0 1-component counterparts\n",
      "136688 only has 0 1-component counterparts\n",
      "22633 only has 0 1-component counterparts\n",
      "463288 only has 0 1-component counterparts\n",
      "600030 only has 0 1-component counterparts\n",
      "287824 only has 0 1-component counterparts\n",
      "491457 only has 0 1-component counterparts\n",
      "77754 only has 0 1-component counterparts\n",
      "574029 only has 0 1-component counterparts\n",
      "584013 only has 0 1-component counterparts\n",
      "78425 only has 0 1-component counterparts\n",
      "485833 only has 0 1-component counterparts\n",
      "47493 only has 0 1-component counterparts\n",
      "460374 only has 0 1-component counterparts\n",
      "84677 only has 0 1-component counterparts\n",
      "106042 only has 0 1-component counterparts\n",
      "93062 only has 0 1-component counterparts\n",
      "53770 only has 0 1-component counterparts\n",
      "521736 only has 0 1-component counterparts\n",
      "383259 only has 0 1-component counterparts\n",
      "64646 only has 0 1-component counterparts\n",
      "296934 only has 0 1-component counterparts\n",
      "620092 only has 0 1-component counterparts\n",
      "751043 only has 0 1-component counterparts\n",
      "3630097 only has 0 1-component counterparts\n",
      "3630239 only has 0 1-component counterparts\n",
      "3895257 only has 0 1-component counterparts\n",
      "3896912 only has 0 1-component counterparts\n",
      "9011900166 only has 0 1-component counterparts\n",
      "9011900772 only has 0 1-component counterparts\n",
      "9011900774 only has 0 1-component counterparts\n",
      "9011900859 only has 0 1-component counterparts\n",
      "9016800167 only has 0 1-component counterparts\n",
      "9016800318 only has 0 1-component counterparts\n",
      "9239900063 only has 0 1-component counterparts\n",
      "9239900416 only has 0 1-component counterparts\n",
      "9388000219 only has 0 1-component counterparts\n",
      "9388000716 only has 0 1-component counterparts\n",
      "9008500205 only has 0 1-component counterparts\n",
      "9008500646 only has 0 1-component counterparts\n",
      "9403800283 only has 0 1-component counterparts\n",
      "9403800881 only has 0 1-component counterparts\n",
      "418737 only has 0 1-component counterparts\n",
      "9239901557 only has 0 1-component counterparts\n"
     ]
    },
    {
     "name": "stderr",
     "output_type": "stream",
     "text": [
      "/pkg/linux/anaconda-20191122/anaconda3/lib/python3.7/site-packages/ipykernel_launcher.py:152: RuntimeWarning: More than 20 figures have been opened. Figures created through the pyplot interface (`matplotlib.pyplot.figure`) are retained until explicitly closed and may consume too much memory. (To control this warning, see the rcParam `figure.max_open_warning`).\n"
     ]
    },
    {
     "data": {
      "application/vnd.jupyter.widget-view+json": {
       "model_id": "e09508dc30024a1f913612527d41e4fe",
       "version_major": 2,
       "version_minor": 0
      },
      "text/plain": [
       "Canvas(toolbar=Toolbar(toolitems=[('Home', 'Reset original view', 'home', 'home'), ('Back', 'Back to previous …"
      ]
     },
     "metadata": {},
     "output_type": "display_data"
    },
    {
     "name": "stderr",
     "output_type": "stream",
     "text": [
      "/pkg/linux/anaconda-20191122/anaconda3/lib/python3.7/site-packages/astropy/visualization/hist.py:72: MatplotlibDeprecationWarning: \n",
      "The 'normed' kwarg was deprecated in Matplotlib 2.1 and will be removed in 3.1. Use 'density' instead.\n",
      "  return ax.hist(x, bins, **kwargs)\n"
     ]
    },
    {
     "name": "stdout",
     "output_type": "stream",
     "text": [
      "WARNING: in vmin_fn(): undefined column\n",
      "WARNING: in label_fn(): undefined column\n",
      "WARNING: in vmin_fn(): undefined column\n",
      "WARNING: in label_fn(): undefined column\n",
      "WARNING: in vmin_fn(): undefined column\n",
      "WARNING: in label_fn(): undefined column\n",
      "WARNING: in vmin_fn(): undefined column\n",
      "WARNING: in label_fn(): undefined column\n",
      "WARNING: in vmin_fn(): undefined column\n",
      "WARNING: in label_fn(): undefined column\n",
      "WARNING: in vmin_fn(): undefined column\n",
      "WARNING: in label_fn(): undefined column\n",
      "Saving to /priv/meggs3/u5708159/SAMI/figs/presentations/matched_sample_hists_mstar+SFR.pdf\n",
      "491956 only has 0 1-component counterparts\n",
      "55150 only has 0 1-component counterparts\n",
      "85416 only has 0 1-component counterparts\n",
      "487027 only has 0 1-component counterparts\n",
      "106717 only has 0 1-component counterparts\n",
      "594906 only has 0 1-component counterparts\n",
      "64087 only has 0 1-component counterparts\n",
      "84107 only has 0 1-component counterparts\n",
      "619095 only has 0 1-component counterparts\n",
      "514212 only has 0 1-component counterparts\n",
      "543860 only has 0 1-component counterparts\n",
      "16026 only has 0 1-component counterparts\n",
      "144402 only has 0 1-component counterparts\n",
      "623272 only has 0 1-component counterparts\n",
      "570197 only has 0 1-component counterparts\n",
      "569555 only has 0 1-component counterparts\n",
      "485834 only has 0 1-component counterparts\n",
      "238395 only has 0 1-component counterparts\n",
      "69462 only has 0 1-component counterparts\n",
      "41144 only has 0 1-component counterparts\n",
      "301382 only has 0 1-component counterparts\n",
      "136688 only has 0 1-component counterparts\n",
      "22633 only has 0 1-component counterparts\n",
      "144320 only has 0 1-component counterparts\n",
      "463288 only has 0 1-component counterparts\n",
      "600030 only has 0 1-component counterparts\n",
      "287824 only has 0 1-component counterparts\n",
      "491457 only has 0 1-component counterparts\n",
      "77754 only has 0 1-component counterparts\n",
      "534753 only has 0 1-component counterparts\n",
      "574029 only has 0 1-component counterparts\n",
      "584013 only has 0 1-component counterparts\n",
      "8703 only has 0 1-component counterparts\n",
      "78425 only has 0 1-component counterparts\n",
      "485833 only has 0 1-component counterparts\n",
      "64553 only has 0 1-component counterparts\n",
      "47493 only has 0 1-component counterparts\n",
      "65410 only has 0 1-component counterparts\n",
      "460374 only has 0 1-component counterparts\n",
      "572402 only has 0 1-component counterparts\n",
      "84677 only has 0 1-component counterparts\n",
      "106042 only has 0 1-component counterparts\n",
      "610474 only has 0 1-component counterparts\n",
      "93062 only has 0 1-component counterparts\n",
      "288364 only has 0 1-component counterparts\n",
      "298980 only has 0 1-component counterparts\n",
      "53770 only has 0 1-component counterparts\n",
      "186803 only has 0 1-component counterparts\n",
      "521736 only has 0 1-component counterparts\n",
      "383259 only has 0 1-component counterparts\n",
      "549313 only has 0 1-component counterparts\n",
      "296934 only has 0 1-component counterparts\n",
      "70114 only has 0 1-component counterparts\n",
      "620092 only has 0 1-component counterparts\n",
      "751043 only has 0 1-component counterparts\n",
      "3630097 only has 0 1-component counterparts\n",
      "3630239 only has 0 1-component counterparts\n",
      "3895257 only has 0 1-component counterparts\n",
      "3896912 only has 0 1-component counterparts\n",
      "9011900166 only has 0 1-component counterparts\n",
      "9011900772 only has 0 1-component counterparts\n",
      "9011900774 only has 0 1-component counterparts\n",
      "9011900859 only has 0 1-component counterparts\n",
      "9016800167 only has 0 1-component counterparts\n",
      "9016800318 only has 0 1-component counterparts\n",
      "9239900063 only has 0 1-component counterparts\n",
      "9239900237 only has 0 1-component counterparts\n",
      "9239900416 only has 0 1-component counterparts\n",
      "9388000716 only has 0 1-component counterparts\n",
      "9008500205 only has 0 1-component counterparts\n",
      "9008500646 only has 0 1-component counterparts\n",
      "9091700123 only has 0 1-component counterparts\n",
      "9044200121 only has 0 1-component counterparts\n",
      "9044200188 only has 0 1-component counterparts\n",
      "9403800283 only has 0 1-component counterparts\n",
      "9403800881 only has 0 1-component counterparts\n",
      "418737 only has 0 1-component counterparts\n",
      "9239901557 only has 0 1-component counterparts\n"
     ]
    },
    {
     "name": "stderr",
     "output_type": "stream",
     "text": [
      "/pkg/linux/anaconda-20191122/anaconda3/lib/python3.7/site-packages/ipykernel_launcher.py:152: RuntimeWarning: More than 20 figures have been opened. Figures created through the pyplot interface (`matplotlib.pyplot.figure`) are retained until explicitly closed and may consume too much memory. (To control this warning, see the rcParam `figure.max_open_warning`).\n"
     ]
    },
    {
     "data": {
      "application/vnd.jupyter.widget-view+json": {
       "model_id": "69b92cf8ffd5490eaa1a79ea60944e78",
       "version_major": 2,
       "version_minor": 0
      },
      "text/plain": [
       "Canvas(toolbar=Toolbar(toolitems=[('Home', 'Reset original view', 'home', 'home'), ('Back', 'Back to previous …"
      ]
     },
     "metadata": {},
     "output_type": "display_data"
    },
    {
     "name": "stderr",
     "output_type": "stream",
     "text": [
      "/pkg/linux/anaconda-20191122/anaconda3/lib/python3.7/site-packages/astropy/visualization/hist.py:72: MatplotlibDeprecationWarning: \n",
      "The 'normed' kwarg was deprecated in Matplotlib 2.1 and will be removed in 3.1. Use 'density' instead.\n",
      "  return ax.hist(x, bins, **kwargs)\n"
     ]
    },
    {
     "name": "stdout",
     "output_type": "stream",
     "text": [
      "WARNING: in vmin_fn(): undefined column\n",
      "WARNING: in label_fn(): undefined column\n",
      "WARNING: in vmin_fn(): undefined column\n",
      "WARNING: in label_fn(): undefined column\n",
      "WARNING: in vmin_fn(): undefined column\n",
      "WARNING: in label_fn(): undefined column\n",
      "WARNING: in vmin_fn(): undefined column\n",
      "WARNING: in label_fn(): undefined column\n",
      "WARNING: in vmin_fn(): undefined column\n",
      "WARNING: in label_fn(): undefined column\n",
      "WARNING: in vmin_fn(): undefined column\n",
      "WARNING: in label_fn(): undefined column\n",
      "Saving to /priv/meggs3/u5708159/SAMI/figs/presentations/matched_sample_hists_SFR_surface_density.pdf\n",
      "491956 only has 0 1-component counterparts\n",
      "48740 only has 0 1-component counterparts\n",
      "508938 only has 0 1-component counterparts\n",
      "511867 only has 0 1-component counterparts\n",
      "53977 only has 0 1-component counterparts\n",
      "55150 only has 0 1-component counterparts\n",
      "85416 only has 0 1-component counterparts\n",
      "487027 only has 0 1-component counterparts\n",
      "278760 only has 0 1-component counterparts\n",
      "106717 only has 0 1-component counterparts\n",
      "594906 only has 0 1-component counterparts\n",
      "64087 only has 0 1-component counterparts\n",
      "84107 only has 0 1-component counterparts\n",
      "619095 only has 0 1-component counterparts\n",
      "514212 only has 0 1-component counterparts\n",
      "543860 only has 0 1-component counterparts\n",
      "504713 only has 0 1-component counterparts\n",
      "16026 only has 0 1-component counterparts\n",
      "144402 only has 0 1-component counterparts\n",
      "623272 only has 0 1-component counterparts\n",
      "570197 only has 0 1-component counterparts\n",
      "569555 only has 0 1-component counterparts\n",
      "485834 only has 0 1-component counterparts\n",
      "238395 only has 0 1-component counterparts\n",
      "69462 only has 0 1-component counterparts\n",
      "41144 only has 0 1-component counterparts\n",
      "301382 only has 0 1-component counterparts\n",
      "136688 only has 0 1-component counterparts\n",
      "144320 only has 0 1-component counterparts\n",
      "600030 only has 0 1-component counterparts\n",
      "287824 only has 0 1-component counterparts\n",
      "491457 only has 0 1-component counterparts\n",
      "77754 only has 0 1-component counterparts\n",
      "534753 only has 0 1-component counterparts\n",
      "574029 only has 0 1-component counterparts\n",
      "584013 only has 0 1-component counterparts\n",
      "78425 only has 0 1-component counterparts\n",
      "485833 only has 0 1-component counterparts\n",
      "64553 only has 0 1-component counterparts\n",
      "47493 only has 0 1-component counterparts\n",
      "65410 only has 0 1-component counterparts\n",
      "460374 only has 0 1-component counterparts\n",
      "572402 only has 0 1-component counterparts\n",
      "84677 only has 0 1-component counterparts\n",
      "106042 only has 0 1-component counterparts\n",
      "610474 only has 0 1-component counterparts\n",
      "93062 only has 0 1-component counterparts\n",
      "288364 only has 0 1-component counterparts\n",
      "298980 only has 0 1-component counterparts\n",
      "53770 only has 0 1-component counterparts\n",
      "186803 only has 0 1-component counterparts\n",
      "521736 only has 0 1-component counterparts\n",
      "383259 only has 0 1-component counterparts\n",
      "64646 only has 0 1-component counterparts\n",
      "296934 only has 0 1-component counterparts\n",
      "70114 only has 0 1-component counterparts\n",
      "620092 only has 0 1-component counterparts\n",
      "751043 only has 0 1-component counterparts\n",
      "3630097 only has 0 1-component counterparts\n",
      "3630239 only has 0 1-component counterparts\n",
      "3895257 only has 0 1-component counterparts\n",
      "3896912 only has 0 1-component counterparts\n",
      "9011900166 only has 0 1-component counterparts\n",
      "9011900772 only has 0 1-component counterparts\n",
      "9011900774 only has 0 1-component counterparts\n",
      "9011900859 only has 0 1-component counterparts\n",
      "9016800167 only has 0 1-component counterparts\n",
      "9016800318 only has 0 1-component counterparts\n",
      "9239900063 only has 0 1-component counterparts\n",
      "9239900237 only has 0 1-component counterparts\n",
      "9239900416 only has 0 1-component counterparts\n",
      "9388000219 only has 0 1-component counterparts\n",
      "9388000716 only has 0 1-component counterparts\n",
      "9008500205 only has 0 1-component counterparts\n",
      "9008500646 only has 0 1-component counterparts\n",
      "9091700123 only has 0 1-component counterparts\n",
      "9044200121 only has 0 1-component counterparts\n",
      "9044200188 only has 0 1-component counterparts\n",
      "9403800283 only has 0 1-component counterparts\n",
      "9403800881 only has 0 1-component counterparts\n",
      "418737 only has 0 1-component counterparts\n",
      "9239901557 only has 0 1-component counterparts\n"
     ]
    },
    {
     "name": "stderr",
     "output_type": "stream",
     "text": [
      "/pkg/linux/anaconda-20191122/anaconda3/lib/python3.7/site-packages/ipykernel_launcher.py:152: RuntimeWarning: More than 20 figures have been opened. Figures created through the pyplot interface (`matplotlib.pyplot.figure`) are retained until explicitly closed and may consume too much memory. (To control this warning, see the rcParam `figure.max_open_warning`).\n"
     ]
    },
    {
     "data": {
      "application/vnd.jupyter.widget-view+json": {
       "model_id": "213de425bdec42dda62466cd0e5c2db7",
       "version_major": 2,
       "version_minor": 0
      },
      "text/plain": [
       "Canvas(toolbar=Toolbar(toolitems=[('Home', 'Reset original view', 'home', 'home'), ('Back', 'Back to previous …"
      ]
     },
     "metadata": {},
     "output_type": "display_data"
    },
    {
     "name": "stdout",
     "output_type": "stream",
     "text": [
      "WARNING: in vmin_fn(): undefined column\n",
      "WARNING: in label_fn(): undefined column\n",
      "WARNING: in vmin_fn(): undefined column\n",
      "WARNING: in label_fn(): undefined column\n",
      "WARNING: in vmin_fn(): undefined column\n"
     ]
    },
    {
     "name": "stderr",
     "output_type": "stream",
     "text": [
      "/pkg/linux/anaconda-20191122/anaconda3/lib/python3.7/site-packages/astropy/visualization/hist.py:72: MatplotlibDeprecationWarning: \n",
      "The 'normed' kwarg was deprecated in Matplotlib 2.1 and will be removed in 3.1. Use 'density' instead.\n",
      "  return ax.hist(x, bins, **kwargs)\n"
     ]
    },
    {
     "name": "stdout",
     "output_type": "stream",
     "text": [
      "WARNING: in label_fn(): undefined column\n",
      "WARNING: in vmin_fn(): undefined column\n",
      "WARNING: in label_fn(): undefined column\n",
      "WARNING: in vmin_fn(): undefined column\n",
      "WARNING: in label_fn(): undefined column\n",
      "WARNING: in vmin_fn(): undefined column\n",
      "WARNING: in label_fn(): undefined column\n",
      "Saving to /priv/meggs3/u5708159/SAMI/figs/presentations/matched_sample_hists_mstar+SFR_surface_density.pdf\n",
      "106042 only has 0 1-component counterparts\n",
      "53770 only has 0 1-component counterparts\n",
      "620092 only has 0 1-component counterparts\n",
      "751043 only has 0 1-component counterparts\n",
      "3630097 only has 0 1-component counterparts\n",
      "3630239 only has 0 1-component counterparts\n",
      "3895257 only has 0 1-component counterparts\n",
      "3896912 only has 0 1-component counterparts\n",
      "9403800283 only has 0 1-component counterparts\n",
      "418737 only has 0 1-component counterparts\n",
      "9239901557 only has 0 1-component counterparts\n"
     ]
    },
    {
     "name": "stderr",
     "output_type": "stream",
     "text": [
      "/pkg/linux/anaconda-20191122/anaconda3/lib/python3.7/site-packages/ipykernel_launcher.py:152: RuntimeWarning: More than 20 figures have been opened. Figures created through the pyplot interface (`matplotlib.pyplot.figure`) are retained until explicitly closed and may consume too much memory. (To control this warning, see the rcParam `figure.max_open_warning`).\n"
     ]
    },
    {
     "data": {
      "application/vnd.jupyter.widget-view+json": {
       "model_id": "002d3dc8e4f94ab48b457d0c2951f620",
       "version_major": 2,
       "version_minor": 0
      },
      "text/plain": [
       "Canvas(toolbar=Toolbar(toolitems=[('Home', 'Reset original view', 'home', 'home'), ('Back', 'Back to previous …"
      ]
     },
     "metadata": {},
     "output_type": "display_data"
    },
    {
     "name": "stderr",
     "output_type": "stream",
     "text": [
      "/pkg/linux/anaconda-20191122/anaconda3/lib/python3.7/site-packages/astropy/visualization/hist.py:72: MatplotlibDeprecationWarning: \n",
      "The 'normed' kwarg was deprecated in Matplotlib 2.1 and will be removed in 3.1. Use 'density' instead.\n",
      "  return ax.hist(x, bins, **kwargs)\n"
     ]
    },
    {
     "name": "stdout",
     "output_type": "stream",
     "text": [
      "WARNING: in vmin_fn(): undefined column\n",
      "WARNING: in label_fn(): undefined column\n",
      "WARNING: in vmin_fn(): undefined column\n",
      "WARNING: in label_fn(): undefined column\n",
      "WARNING: in vmin_fn(): undefined column\n",
      "WARNING: in label_fn(): undefined column\n",
      "WARNING: in vmin_fn(): undefined column\n",
      "WARNING: in label_fn(): undefined column\n",
      "WARNING: in vmin_fn(): undefined column\n",
      "WARNING: in label_fn(): undefined column\n",
      "WARNING: in vmin_fn(): undefined column\n",
      "WARNING: in label_fn(): undefined column\n",
      "WARNING: in label_fn(): undefined column\n",
      "Saving to /priv/meggs3/u5708159/SAMI/figs/presentations/matched_sample_hists_sSFR.pdf\n",
      "543860 only has 0 1-component counterparts\n",
      "301382 only has 0 1-component counterparts\n",
      "136688 only has 0 1-component counterparts\n",
      "22633 only has 0 1-component counterparts\n",
      "600030 only has 0 1-component counterparts\n",
      "287824 only has 0 1-component counterparts\n",
      "491457 only has 0 1-component counterparts\n",
      "77754 only has 0 1-component counterparts\n",
      "584013 only has 0 1-component counterparts\n",
      "78425 only has 0 1-component counterparts\n",
      "485833 only has 0 1-component counterparts\n",
      "84677 only has 0 1-component counterparts\n",
      "106042 only has 0 1-component counterparts\n",
      "53770 only has 0 1-component counterparts\n",
      "383259 only has 0 1-component counterparts\n",
      "296934 only has 0 1-component counterparts\n",
      "620092 only has 0 1-component counterparts\n",
      "751043 only has 0 1-component counterparts\n",
      "3630097 only has 0 1-component counterparts\n",
      "3630239 only has 0 1-component counterparts\n",
      "3895257 only has 0 1-component counterparts\n",
      "3896912 only has 0 1-component counterparts\n",
      "9011900166 only has 0 1-component counterparts\n",
      "9011900772 only has 0 1-component counterparts\n",
      "9011900774 only has 0 1-component counterparts\n",
      "9011900859 only has 0 1-component counterparts\n",
      "9016800167 only has 0 1-component counterparts\n",
      "9239900063 only has 0 1-component counterparts\n",
      "9239900416 only has 0 1-component counterparts\n",
      "9388000219 only has 0 1-component counterparts\n",
      "9388000716 only has 0 1-component counterparts\n",
      "9008500205 only has 0 1-component counterparts\n",
      "9008500646 only has 0 1-component counterparts\n",
      "9403800283 only has 0 1-component counterparts\n",
      "9403800881 only has 0 1-component counterparts\n",
      "418737 only has 0 1-component counterparts\n",
      "9239901557 only has 0 1-component counterparts\n"
     ]
    },
    {
     "name": "stderr",
     "output_type": "stream",
     "text": [
      "/pkg/linux/anaconda-20191122/anaconda3/lib/python3.7/site-packages/ipykernel_launcher.py:152: RuntimeWarning: More than 20 figures have been opened. Figures created through the pyplot interface (`matplotlib.pyplot.figure`) are retained until explicitly closed and may consume too much memory. (To control this warning, see the rcParam `figure.max_open_warning`).\n"
     ]
    },
    {
     "data": {
      "application/vnd.jupyter.widget-view+json": {
       "model_id": "c8b2b1e09ad246eb9580fc2bfd5d89b7",
       "version_major": 2,
       "version_minor": 0
      },
      "text/plain": [
       "Canvas(toolbar=Toolbar(toolitems=[('Home', 'Reset original view', 'home', 'home'), ('Back', 'Back to previous …"
      ]
     },
     "metadata": {},
     "output_type": "display_data"
    },
    {
     "name": "stdout",
     "output_type": "stream",
     "text": [
      "WARNING: in vmin_fn(): undefined column\n",
      "WARNING: in label_fn(): undefined column\n",
      "WARNING: in vmin_fn(): undefined column\n",
      "WARNING: in label_fn(): undefined column\n",
      "WARNING: in vmin_fn(): undefined column\n"
     ]
    },
    {
     "name": "stderr",
     "output_type": "stream",
     "text": [
      "/pkg/linux/anaconda-20191122/anaconda3/lib/python3.7/site-packages/astropy/visualization/hist.py:72: MatplotlibDeprecationWarning: \n",
      "The 'normed' kwarg was deprecated in Matplotlib 2.1 and will be removed in 3.1. Use 'density' instead.\n",
      "  return ax.hist(x, bins, **kwargs)\n"
     ]
    },
    {
     "name": "stdout",
     "output_type": "stream",
     "text": [
      "WARNING: in label_fn(): undefined column\n",
      "WARNING: in vmin_fn(): undefined column\n",
      "WARNING: in label_fn(): undefined column\n",
      "WARNING: in vmin_fn(): undefined column\n",
      "WARNING: in label_fn(): undefined column\n",
      "WARNING: in vmin_fn(): undefined column\n",
      "WARNING: in label_fn(): undefined column\n",
      "WARNING: in label_fn(): undefined column\n",
      "Saving to /priv/meggs3/u5708159/SAMI/figs/presentations/matched_sample_hists_mstar+sSFR.pdf\n",
      "417678 only has 0 1-component counterparts\n",
      "751043 only has 0 1-component counterparts\n",
      "3630097 only has 0 1-component counterparts\n",
      "3630239 only has 0 1-component counterparts\n",
      "3895257 only has 0 1-component counterparts\n",
      "3896912 only has 0 1-component counterparts\n",
      "9403800283 only has 0 1-component counterparts\n",
      "418737 only has 0 1-component counterparts\n",
      "9239901557 only has 0 1-component counterparts\n"
     ]
    },
    {
     "name": "stderr",
     "output_type": "stream",
     "text": [
      "/pkg/linux/anaconda-20191122/anaconda3/lib/python3.7/site-packages/ipykernel_launcher.py:152: RuntimeWarning: More than 20 figures have been opened. Figures created through the pyplot interface (`matplotlib.pyplot.figure`) are retained until explicitly closed and may consume too much memory. (To control this warning, see the rcParam `figure.max_open_warning`).\n"
     ]
    },
    {
     "data": {
      "application/vnd.jupyter.widget-view+json": {
       "model_id": "138310c9eaed4c4b8e8210dc241b57cb",
       "version_major": 2,
       "version_minor": 0
      },
      "text/plain": [
       "Canvas(toolbar=Toolbar(toolitems=[('Home', 'Reset original view', 'home', 'home'), ('Back', 'Back to previous …"
      ]
     },
     "metadata": {},
     "output_type": "display_data"
    },
    {
     "name": "stderr",
     "output_type": "stream",
     "text": [
      "/pkg/linux/anaconda-20191122/anaconda3/lib/python3.7/site-packages/astropy/visualization/hist.py:72: MatplotlibDeprecationWarning: \n",
      "The 'normed' kwarg was deprecated in Matplotlib 2.1 and will be removed in 3.1. Use 'density' instead.\n",
      "  return ax.hist(x, bins, **kwargs)\n"
     ]
    },
    {
     "name": "stdout",
     "output_type": "stream",
     "text": [
      "WARNING: in vmin_fn(): undefined column\n",
      "WARNING: in label_fn(): undefined column\n",
      "WARNING: in vmin_fn(): undefined column\n",
      "WARNING: in label_fn(): undefined column\n",
      "WARNING: in vmin_fn(): undefined column\n",
      "WARNING: in label_fn(): undefined column\n",
      "WARNING: in vmin_fn(): undefined column\n",
      "WARNING: in label_fn(): undefined column\n",
      "WARNING: in vmin_fn(): undefined column\n",
      "WARNING: in label_fn(): undefined column\n",
      "WARNING: in vmin_fn(): undefined column\n",
      "WARNING: in label_fn(): undefined column\n",
      "Saving to /priv/meggs3/u5708159/SAMI/figs/presentations/matched_sample_hists_Inclination_i_(degrees).pdf\n",
      "620092 only has 0 1-component counterparts\n",
      "751043 only has 0 1-component counterparts\n",
      "3630097 only has 0 1-component counterparts\n",
      "3630239 only has 0 1-component counterparts\n",
      "3895257 only has 0 1-component counterparts\n",
      "3896912 only has 0 1-component counterparts\n",
      "9403800283 only has 0 1-component counterparts\n",
      "418737 only has 0 1-component counterparts\n",
      "9239901557 only has 0 1-component counterparts\n"
     ]
    },
    {
     "name": "stderr",
     "output_type": "stream",
     "text": [
      "/pkg/linux/anaconda-20191122/anaconda3/lib/python3.7/site-packages/ipykernel_launcher.py:152: RuntimeWarning: More than 20 figures have been opened. Figures created through the pyplot interface (`matplotlib.pyplot.figure`) are retained until explicitly closed and may consume too much memory. (To control this warning, see the rcParam `figure.max_open_warning`).\n"
     ]
    },
    {
     "data": {
      "application/vnd.jupyter.widget-view+json": {
       "model_id": "53c1263c7f604464b91cec38dc151623",
       "version_major": 2,
       "version_minor": 0
      },
      "text/plain": [
       "Canvas(toolbar=Toolbar(toolitems=[('Home', 'Reset original view', 'home', 'home'), ('Back', 'Back to previous …"
      ]
     },
     "metadata": {},
     "output_type": "display_data"
    },
    {
     "name": "stderr",
     "output_type": "stream",
     "text": [
      "/pkg/linux/anaconda-20191122/anaconda3/lib/python3.7/site-packages/astropy/visualization/hist.py:72: MatplotlibDeprecationWarning: \n",
      "The 'normed' kwarg was deprecated in Matplotlib 2.1 and will be removed in 3.1. Use 'density' instead.\n",
      "  return ax.hist(x, bins, **kwargs)\n"
     ]
    },
    {
     "name": "stdout",
     "output_type": "stream",
     "text": [
      "WARNING: in vmin_fn(): undefined column\n",
      "WARNING: in label_fn(): undefined column\n",
      "WARNING: in vmin_fn(): undefined column\n",
      "WARNING: in label_fn(): undefined column\n",
      "WARNING: in vmin_fn(): undefined column\n",
      "WARNING: in label_fn(): undefined column\n",
      "WARNING: in vmin_fn(): undefined column\n",
      "WARNING: in label_fn(): undefined column\n",
      "WARNING: in vmin_fn(): undefined column\n",
      "WARNING: in label_fn(): undefined column\n",
      "WARNING: in vmin_fn(): undefined column\n",
      "WARNING: in label_fn(): undefined column\n",
      "Saving to /priv/meggs3/u5708159/SAMI/figs/presentations/matched_sample_hists_R_e_(kpc).pdf\n",
      "31452 only has 0 1-component counterparts\n",
      "85416 only has 0 1-component counterparts\n",
      "106717 only has 0 1-component counterparts\n",
      "594906 only has 0 1-component counterparts\n",
      "30346 only has 0 1-component counterparts\n",
      "619095 only has 0 1-component counterparts\n",
      "514212 only has 0 1-component counterparts\n",
      "504713 only has 0 1-component counterparts\n",
      "16026 only has 0 1-component counterparts\n",
      "144402 only has 0 1-component counterparts\n",
      "623272 only has 0 1-component counterparts\n",
      "570197 only has 0 1-component counterparts\n",
      "569555 only has 0 1-component counterparts\n",
      "485834 only has 0 1-component counterparts\n",
      "238395 only has 0 1-component counterparts\n",
      "69462 only has 0 1-component counterparts\n",
      "41144 only has 0 1-component counterparts\n",
      "136688 only has 0 1-component counterparts\n",
      "144320 only has 0 1-component counterparts\n",
      "492384 only has 0 1-component counterparts\n",
      "287824 only has 0 1-component counterparts\n",
      "491457 only has 0 1-component counterparts\n",
      "534753 only has 0 1-component counterparts\n",
      "574029 only has 0 1-component counterparts\n",
      "584013 only has 0 1-component counterparts\n",
      "8703 only has 0 1-component counterparts\n",
      "64553 only has 0 1-component counterparts\n",
      "47493 only has 0 1-component counterparts\n",
      "65410 only has 0 1-component counterparts\n",
      "572402 only has 0 1-component counterparts\n",
      "84677 only has 0 1-component counterparts\n",
      "610474 only has 0 1-component counterparts\n",
      "93062 only has 0 1-component counterparts\n",
      "288364 only has 0 1-component counterparts\n",
      "298980 only has 0 1-component counterparts\n",
      "53770 only has 0 1-component counterparts\n",
      "186803 only has 0 1-component counterparts\n",
      "521736 only has 0 1-component counterparts\n",
      "383259 only has 0 1-component counterparts\n",
      "70114 only has 0 1-component counterparts\n",
      "751043 only has 0 1-component counterparts\n",
      "3630097 only has 0 1-component counterparts\n",
      "3630239 only has 0 1-component counterparts\n",
      "3895257 only has 0 1-component counterparts\n",
      "3896912 only has 0 1-component counterparts\n",
      "9011900772 only has 0 1-component counterparts\n",
      "9011900774 only has 0 1-component counterparts\n",
      "9011900859 only has 0 1-component counterparts\n",
      "9016800318 only has 0 1-component counterparts\n",
      "9239900237 only has 0 1-component counterparts\n",
      "9388000219 only has 0 1-component counterparts\n",
      "9388000716 only has 0 1-component counterparts\n",
      "9008500205 only has 0 1-component counterparts\n",
      "9008500646 only has 0 1-component counterparts\n",
      "9091700123 only has 0 1-component counterparts\n",
      "9044200121 only has 0 1-component counterparts\n",
      "9044200188 only has 0 1-component counterparts\n",
      "9403800283 only has 0 1-component counterparts\n",
      "9403800881 only has 0 1-component counterparts\n",
      "418737 only has 0 1-component counterparts\n",
      "9239901557 only has 0 1-component counterparts\n"
     ]
    },
    {
     "name": "stderr",
     "output_type": "stream",
     "text": [
      "/pkg/linux/anaconda-20191122/anaconda3/lib/python3.7/site-packages/ipykernel_launcher.py:152: RuntimeWarning: More than 20 figures have been opened. Figures created through the pyplot interface (`matplotlib.pyplot.figure`) are retained until explicitly closed and may consume too much memory. (To control this warning, see the rcParam `figure.max_open_warning`).\n"
     ]
    },
    {
     "data": {
      "application/vnd.jupyter.widget-view+json": {
       "model_id": "af1006fa8df24df39f663f48a147200b",
       "version_major": 2,
       "version_minor": 0
      },
      "text/plain": [
       "Canvas(toolbar=Toolbar(toolitems=[('Home', 'Reset original view', 'home', 'home'), ('Back', 'Back to previous …"
      ]
     },
     "metadata": {},
     "output_type": "display_data"
    },
    {
     "name": "stdout",
     "output_type": "stream",
     "text": [
      "WARNING: in vmin_fn(): undefined column\n",
      "WARNING: in label_fn(): undefined column\n",
      "WARNING: in vmin_fn(): undefined column\n",
      "WARNING: in label_fn(): undefined column\n",
      "WARNING: in vmin_fn(): undefined column\n",
      "WARNING: in label_fn(): undefined column\n"
     ]
    },
    {
     "name": "stderr",
     "output_type": "stream",
     "text": [
      "/pkg/linux/anaconda-20191122/anaconda3/lib/python3.7/site-packages/astropy/visualization/hist.py:72: MatplotlibDeprecationWarning: \n",
      "The 'normed' kwarg was deprecated in Matplotlib 2.1 and will be removed in 3.1. Use 'density' instead.\n",
      "  return ax.hist(x, bins, **kwargs)\n"
     ]
    },
    {
     "name": "stdout",
     "output_type": "stream",
     "text": [
      "WARNING: in vmin_fn(): undefined column\n",
      "WARNING: in label_fn(): undefined column\n",
      "WARNING: in vmin_fn(): undefined column\n",
      "WARNING: in label_fn(): undefined column\n",
      "WARNING: in vmin_fn(): undefined column\n",
      "WARNING: in label_fn(): undefined column\n",
      "WARNING: in label_fn(): undefined column\n",
      "Saving to /priv/meggs3/u5708159/SAMI/figs/presentations/matched_sample_hists_snr.pdf\n"
     ]
    },
    {
     "name": "stderr",
     "output_type": "stream",
     "text": [
      "/pkg/linux/anaconda-20191122/anaconda3/lib/python3.7/site-packages/ipykernel_launcher.py:152: RuntimeWarning: More than 20 figures have been opened. Figures created through the pyplot interface (`matplotlib.pyplot.figure`) are retained until explicitly closed and may consume too much memory. (To control this warning, see the rcParam `figure.max_open_warning`).\n"
     ]
    },
    {
     "data": {
      "application/vnd.jupyter.widget-view+json": {
       "model_id": "fdcb6601a5c84d7faf3bddf3262e6496",
       "version_major": 2,
       "version_minor": 0
      },
      "text/plain": [
       "Canvas(toolbar=Toolbar(toolitems=[('Home', 'Reset original view', 'home', 'home'), ('Back', 'Back to previous …"
      ]
     },
     "metadata": {},
     "output_type": "display_data"
    },
    {
     "name": "stderr",
     "output_type": "stream",
     "text": [
      "/pkg/linux/anaconda-20191122/anaconda3/lib/python3.7/site-packages/astropy/visualization/hist.py:72: MatplotlibDeprecationWarning: \n",
      "The 'normed' kwarg was deprecated in Matplotlib 2.1 and will be removed in 3.1. Use 'density' instead.\n",
      "  return ax.hist(x, bins, **kwargs)\n"
     ]
    },
    {
     "name": "stdout",
     "output_type": "stream",
     "text": [
      "WARNING: in vmin_fn(): undefined column\n",
      "WARNING: in label_fn(): undefined column\n",
      "WARNING: in vmin_fn(): undefined column\n",
      "WARNING: in label_fn(): undefined column\n",
      "WARNING: in vmin_fn(): undefined column\n",
      "WARNING: in label_fn(): undefined column\n",
      "WARNING: in vmin_fn(): undefined column\n",
      "WARNING: in label_fn(): undefined column\n",
      "WARNING: in vmin_fn(): undefined column\n",
      "WARNING: in label_fn(): undefined column\n",
      "WARNING: in vmin_fn(): undefined column\n",
      "WARNING: in label_fn(): undefined column\n",
      "Saving to /priv/meggs3/u5708159/SAMI/figs/presentations/matched_sample_hists_kpc_per_arcsec.pdf\n",
      "491956 only has 0 1-component counterparts\n",
      "48740 only has 0 1-component counterparts\n",
      "508938 only has 0 1-component counterparts\n",
      "511867 only has 0 1-component counterparts\n",
      "53977 only has 0 1-component counterparts\n",
      "55150 only has 0 1-component counterparts\n",
      "85416 only has 0 1-component counterparts\n",
      "487027 only has 0 1-component counterparts\n",
      "278760 only has 0 1-component counterparts\n",
      "106717 only has 0 1-component counterparts\n",
      "594906 only has 0 1-component counterparts\n",
      "144073 only has 0 1-component counterparts\n",
      "64087 only has 0 1-component counterparts\n",
      "84107 only has 0 1-component counterparts\n",
      "30346 only has 0 1-component counterparts\n",
      "574692 only has 0 1-component counterparts\n",
      "619095 only has 0 1-component counterparts\n",
      "514212 only has 0 1-component counterparts\n",
      "543860 only has 0 1-component counterparts\n",
      "504713 only has 0 1-component counterparts\n",
      "16026 only has 0 1-component counterparts\n",
      "144402 only has 0 1-component counterparts\n",
      "623272 only has 0 1-component counterparts\n",
      "570197 only has 0 1-component counterparts\n",
      "569555 only has 0 1-component counterparts\n",
      "485834 only has 0 1-component counterparts\n",
      "238395 only has 0 1-component counterparts\n",
      "69462 only has 0 1-component counterparts\n",
      "41144 only has 0 1-component counterparts\n",
      "301382 only has 0 1-component counterparts\n",
      "136688 only has 0 1-component counterparts\n",
      "144320 only has 0 1-component counterparts\n",
      "600030 only has 0 1-component counterparts\n",
      "287824 only has 0 1-component counterparts\n",
      "491457 only has 0 1-component counterparts\n",
      "77754 only has 0 1-component counterparts\n",
      "534753 only has 0 1-component counterparts\n",
      "574029 only has 0 1-component counterparts\n",
      "584013 only has 0 1-component counterparts\n",
      "8703 only has 0 1-component counterparts\n",
      "78425 only has 0 1-component counterparts\n",
      "485833 only has 0 1-component counterparts\n",
      "64553 only has 0 1-component counterparts\n",
      "47493 only has 0 1-component counterparts\n",
      "65410 only has 0 1-component counterparts\n",
      "460374 only has 0 1-component counterparts\n",
      "572402 only has 0 1-component counterparts\n",
      "84677 only has 0 1-component counterparts\n",
      "106042 only has 0 1-component counterparts\n",
      "610474 only has 0 1-component counterparts\n",
      "93062 only has 0 1-component counterparts\n",
      "288364 only has 0 1-component counterparts\n",
      "298980 only has 0 1-component counterparts\n",
      "53770 only has 0 1-component counterparts\n",
      "186803 only has 0 1-component counterparts\n",
      "521736 only has 0 1-component counterparts\n",
      "383259 only has 0 1-component counterparts\n",
      "64646 only has 0 1-component counterparts\n",
      "296934 only has 0 1-component counterparts\n",
      "70114 only has 0 1-component counterparts\n",
      "620092 only has 0 1-component counterparts\n",
      "751043 only has 0 1-component counterparts\n",
      "3630097 only has 0 1-component counterparts\n",
      "3630239 only has 0 1-component counterparts\n",
      "3895257 only has 0 1-component counterparts\n",
      "3896912 only has 0 1-component counterparts\n",
      "9011900166 only has 0 1-component counterparts\n",
      "9011900772 only has 0 1-component counterparts\n",
      "9011900774 only has 0 1-component counterparts\n",
      "9011900859 only has 0 1-component counterparts\n",
      "9016800167 only has 0 1-component counterparts\n",
      "9016800318 only has 0 1-component counterparts\n",
      "9239900063 only has 0 1-component counterparts\n",
      "9239900237 only has 0 1-component counterparts\n",
      "9388000219 only has 0 1-component counterparts\n",
      "9388000716 only has 0 1-component counterparts\n",
      "9008500205 only has 0 1-component counterparts\n",
      "9008500646 only has 0 1-component counterparts\n",
      "9091700123 only has 0 1-component counterparts\n",
      "9044200121 only has 0 1-component counterparts\n",
      "9044200188 only has 0 1-component counterparts\n",
      "9403800272 only has 0 1-component counterparts\n",
      "9403800283 only has 0 1-component counterparts\n",
      "9403800881 only has 0 1-component counterparts\n",
      "418737 only has 0 1-component counterparts\n",
      "9239901557 only has 0 1-component counterparts\n"
     ]
    },
    {
     "name": "stderr",
     "output_type": "stream",
     "text": [
      "/pkg/linux/anaconda-20191122/anaconda3/lib/python3.7/site-packages/ipykernel_launcher.py:152: RuntimeWarning: More than 20 figures have been opened. Figures created through the pyplot interface (`matplotlib.pyplot.figure`) are retained until explicitly closed and may consume too much memory. (To control this warning, see the rcParam `figure.max_open_warning`).\n"
     ]
    },
    {
     "data": {
      "application/vnd.jupyter.widget-view+json": {
       "model_id": "00b8265a9b1a4ef98965faeb203d80a7",
       "version_major": 2,
       "version_minor": 0
      },
      "text/plain": [
       "Canvas(toolbar=Toolbar(toolitems=[('Home', 'Reset original view', 'home', 'home'), ('Back', 'Back to previous …"
      ]
     },
     "metadata": {},
     "output_type": "display_data"
    },
    {
     "name": "stderr",
     "output_type": "stream",
     "text": [
      "/pkg/linux/anaconda-20191122/anaconda3/lib/python3.7/site-packages/astropy/visualization/hist.py:72: MatplotlibDeprecationWarning: \n",
      "The 'normed' kwarg was deprecated in Matplotlib 2.1 and will be removed in 3.1. Use 'density' instead.\n",
      "  return ax.hist(x, bins, **kwargs)\n"
     ]
    },
    {
     "name": "stdout",
     "output_type": "stream",
     "text": [
      "WARNING: in vmin_fn(): undefined column\n",
      "WARNING: in label_fn(): undefined column\n",
      "WARNING: in vmin_fn(): undefined column\n",
      "WARNING: in label_fn(): undefined column\n",
      "WARNING: in vmin_fn(): undefined column\n",
      "WARNING: in label_fn(): undefined column\n",
      "WARNING: in vmin_fn(): undefined column\n",
      "WARNING: in label_fn(): undefined column\n",
      "WARNING: in vmin_fn(): undefined column\n",
      "WARNING: in label_fn(): undefined column\n",
      "WARNING: in vmin_fn(): undefined column\n",
      "WARNING: in label_fn(): undefined column\n",
      "Saving to /priv/meggs3/u5708159/SAMI/figs/presentations/matched_sample_hists_mstar+SFR_surface_density+kpc_per_arcsec.pdf\n",
      "491457 only has 0 1-component counterparts\n",
      "77754 only has 0 1-component counterparts\n",
      "584013 only has 0 1-component counterparts\n",
      "8703 only has 0 1-component counterparts\n",
      "485833 only has 0 1-component counterparts\n",
      "460374 only has 0 1-component counterparts\n",
      "84677 only has 0 1-component counterparts\n",
      "610474 only has 0 1-component counterparts\n",
      "93062 only has 0 1-component counterparts\n",
      "383259 only has 0 1-component counterparts\n",
      "70114 only has 0 1-component counterparts\n",
      "3630097 only has 0 1-component counterparts\n",
      "9011900859 only has 0 1-component counterparts\n",
      "9016800167 only has 0 1-component counterparts\n",
      "9008500646 only has 0 1-component counterparts\n",
      "9403800272 only has 0 1-component counterparts\n",
      "9403800881 only has 0 1-component counterparts\n",
      "9239901557 only has 0 1-component counterparts\n"
     ]
    },
    {
     "name": "stderr",
     "output_type": "stream",
     "text": [
      "/pkg/linux/anaconda-20191122/anaconda3/lib/python3.7/site-packages/ipykernel_launcher.py:152: RuntimeWarning: More than 20 figures have been opened. Figures created through the pyplot interface (`matplotlib.pyplot.figure`) are retained until explicitly closed and may consume too much memory. (To control this warning, see the rcParam `figure.max_open_warning`).\n"
     ]
    },
    {
     "data": {
      "application/vnd.jupyter.widget-view+json": {
       "model_id": "4a8db9848c9442a3aae725f31bffa646",
       "version_major": 2,
       "version_minor": 0
      },
      "text/plain": [
       "Canvas(toolbar=Toolbar(toolitems=[('Home', 'Reset original view', 'home', 'home'), ('Back', 'Back to previous …"
      ]
     },
     "metadata": {},
     "output_type": "display_data"
    },
    {
     "name": "stderr",
     "output_type": "stream",
     "text": [
      "/pkg/linux/anaconda-20191122/anaconda3/lib/python3.7/site-packages/astropy/visualization/hist.py:72: MatplotlibDeprecationWarning: \n",
      "The 'normed' kwarg was deprecated in Matplotlib 2.1 and will be removed in 3.1. Use 'density' instead.\n",
      "  return ax.hist(x, bins, **kwargs)\n"
     ]
    },
    {
     "name": "stdout",
     "output_type": "stream",
     "text": [
      "WARNING: in vmin_fn(): undefined column\n",
      "WARNING: in label_fn(): undefined column\n",
      "WARNING: in vmin_fn(): undefined column\n",
      "WARNING: in label_fn(): undefined column\n",
      "WARNING: in vmin_fn(): undefined column\n",
      "WARNING: in label_fn(): undefined column\n",
      "WARNING: in vmin_fn(): undefined column\n",
      "WARNING: in label_fn(): undefined column\n",
      "WARNING: in vmin_fn(): undefined column\n",
      "WARNING: in label_fn(): undefined column\n",
      "WARNING: in vmin_fn(): undefined column\n",
      "WARNING: in label_fn(): undefined column\n",
      "WARNING: in label_fn(): undefined column\n",
      "Saving to /priv/meggs3/u5708159/SAMI/figs/presentations/matched_sample_hists_Morphology.pdf\n",
      "491956 only has 0 1-component counterparts\n",
      "417678 only has 0 1-component counterparts\n",
      "48740 only has 0 1-component counterparts\n",
      "85416 only has 0 1-component counterparts\n",
      "106717 only has 0 1-component counterparts\n",
      "594906 only has 0 1-component counterparts\n",
      "514212 only has 0 1-component counterparts\n",
      "16026 only has 0 1-component counterparts\n",
      "623272 only has 0 1-component counterparts\n",
      "570197 only has 0 1-component counterparts\n",
      "569555 only has 0 1-component counterparts\n",
      "69462 only has 0 1-component counterparts\n",
      "136688 only has 0 1-component counterparts\n",
      "144320 only has 0 1-component counterparts\n",
      "287824 only has 0 1-component counterparts\n",
      "491457 only has 0 1-component counterparts\n",
      "534753 only has 0 1-component counterparts\n",
      "584013 only has 0 1-component counterparts\n",
      "47493 only has 0 1-component counterparts\n",
      "65410 only has 0 1-component counterparts\n",
      "610474 only has 0 1-component counterparts\n",
      "93062 only has 0 1-component counterparts\n",
      "288364 only has 0 1-component counterparts\n",
      "53770 only has 0 1-component counterparts\n",
      "521736 only has 0 1-component counterparts\n",
      "620092 only has 0 1-component counterparts\n",
      "751043 only has 0 1-component counterparts\n",
      "3630097 only has 0 1-component counterparts\n",
      "3630239 only has 0 1-component counterparts\n",
      "3895257 only has 0 1-component counterparts\n",
      "3896912 only has 0 1-component counterparts\n",
      "9011900772 only has 0 1-component counterparts\n",
      "9011900774 only has 0 1-component counterparts\n",
      "9011900859 only has 0 1-component counterparts\n",
      "9239900237 only has 0 1-component counterparts\n",
      "9388000219 only has 0 1-component counterparts\n",
      "9388000716 only has 0 1-component counterparts\n",
      "9008500646 only has 0 1-component counterparts\n",
      "9044200121 only has 0 1-component counterparts\n",
      "9044200188 only has 0 1-component counterparts\n",
      "9403800283 only has 0 1-component counterparts\n",
      "9403800881 only has 0 1-component counterparts\n",
      "418737 only has 0 1-component counterparts\n",
      "9239901557 only has 0 1-component counterparts\n"
     ]
    },
    {
     "name": "stderr",
     "output_type": "stream",
     "text": [
      "/pkg/linux/anaconda-20191122/anaconda3/lib/python3.7/site-packages/ipykernel_launcher.py:152: RuntimeWarning: More than 20 figures have been opened. Figures created through the pyplot interface (`matplotlib.pyplot.figure`) are retained until explicitly closed and may consume too much memory. (To control this warning, see the rcParam `figure.max_open_warning`).\n"
     ]
    },
    {
     "data": {
      "application/vnd.jupyter.widget-view+json": {
       "model_id": "adc76917065b4b51b03da083102af963",
       "version_major": 2,
       "version_minor": 0
      },
      "text/plain": [
       "Canvas(toolbar=Toolbar(toolitems=[('Home', 'Reset original view', 'home', 'home'), ('Back', 'Back to previous …"
      ]
     },
     "metadata": {},
     "output_type": "display_data"
    },
    {
     "name": "stdout",
     "output_type": "stream",
     "text": [
      "WARNING: in vmin_fn(): undefined column\n",
      "WARNING: in label_fn(): undefined column\n",
      "WARNING: in vmin_fn(): undefined column\n",
      "WARNING: in label_fn(): undefined column\n",
      "WARNING: in vmin_fn(): undefined column\n",
      "WARNING: in label_fn(): undefined column\n"
     ]
    },
    {
     "name": "stderr",
     "output_type": "stream",
     "text": [
      "/pkg/linux/anaconda-20191122/anaconda3/lib/python3.7/site-packages/astropy/visualization/hist.py:72: MatplotlibDeprecationWarning: \n",
      "The 'normed' kwarg was deprecated in Matplotlib 2.1 and will be removed in 3.1. Use 'density' instead.\n",
      "  return ax.hist(x, bins, **kwargs)\n"
     ]
    },
    {
     "name": "stdout",
     "output_type": "stream",
     "text": [
      "WARNING: in vmin_fn(): undefined column\n",
      "WARNING: in label_fn(): undefined column\n",
      "WARNING: in vmin_fn(): undefined column\n",
      "WARNING: in label_fn(): undefined column\n",
      "WARNING: in vmin_fn(): undefined column\n",
      "WARNING: in label_fn(): undefined column\n",
      "Saving to /priv/meggs3/u5708159/SAMI/figs/presentations/matched_sample_hists_mu_within_1re.pdf\n"
     ]
    }
   ],
   "source": [
    "#///////////////////////////////////////////////////////////////////////////\n",
    "# PARAMETERS\n",
    "N = 1  # How many galaxies to match to each\n",
    "\n",
    "#///////////////////////////////////////////////////////////////////////////\n",
    "# OBTAIN MATCHED SAMPLE\n",
    "for match_condition in [\"mstar\", \"SFR\", \"mstar+SFR\", \"SFR surface density\", \"mstar+SFR surface density\", \"sSFR\", \"mstar+sSFR\", \"Inclination i (degrees)\", \"R_e (kpc)\", \"snr\", \"kpc per arcsec\", \"mstar+SFR surface density+kpc per arcsec\", \"Morphology\", \"mu_within_1re\"]:\n",
    "# for match_condition in [\"kpc per arcsec\"]:\n",
    "\n",
    "    gals_1comp_unmatched = gals_1comp.copy()  # List of 1-component galaxies that haven't been matched yet\n",
    "    gals_2comp_unmatched = []  # 2-component galaxies that have < N counterparts (and are excluded from analysis)\n",
    "    gals_1comp_matched = []    # Final list of 1-component galaxies that are counterparts to the 2-component galaxies \n",
    "    gals_2comp_matched = []    # Final list of 2-component galaxies that have N counterparts in our sample\n",
    "\n",
    "    # Split the metadata DataFrame into that containing the 2-component galaxies, and all the others\n",
    "    df_metadata_2comp = df_metadata_extended.loc[gals_2comp]\n",
    "    df_metadata_unmatched = df_metadata_extended.loc[gals_1comp_unmatched]\n",
    "    gals_matched_dict = {}\n",
    "\n",
    "    # For each 2-comp galaxy,\n",
    "    for gal in gals_2comp:\n",
    "        \n",
    "        # Match conditions\n",
    "        # Match in mstar\n",
    "        if match_condition == \"mstar\":\n",
    "            mstar = df_metadata_2comp.loc[gal, \"mstar\"]\n",
    "            cond_matched = np.abs(df_metadata_unmatched[\"mstar\"] - mstar) < 0.2\n",
    "\n",
    "        # Match in SFR \n",
    "        elif match_condition == \"SFR\":\n",
    "            sfr = df_metadata_2comp.loc[gal, \"SFR (R_e)\"]\n",
    "            cond_matched = np.abs(np.log10(df_metadata_unmatched[\"SFR (R_e)\"]) - np.log10(sfr)) < 0.2\n",
    "\n",
    "        # Match in mstar & SFR\n",
    "        elif match_condition == \"mstar+SFR\":\n",
    "            mstar = df_metadata_2comp.loc[gal, \"mstar\"]\n",
    "            sfr = df_metadata_2comp.loc[gal, \"SFR (R_e)\"]\n",
    "            cond_matched = np.abs(df_metadata_unmatched[\"mstar\"] - mstar) < 0.3\n",
    "            cond_matched &= np.abs(np.log10(df_metadata_unmatched[\"SFR (R_e)\"]) - np.log10(sfr)) < 0.3\n",
    "\n",
    "        # Match in SFR surface density \n",
    "        elif match_condition == \"SFR surface density\":\n",
    "            sfrdens = df_metadata_2comp.loc[gal, \"log sigma_SFR (R_e)\"]\n",
    "            cond_matched = np.abs(df_metadata_unmatched[\"log sigma_SFR (R_e)\"] - sfrdens) < 0.2\n",
    "\n",
    "        # Match in mstar & SFR surface density\n",
    "        elif match_condition == \"mstar+SFR surface density\":\n",
    "            mstar = df_metadata_2comp.loc[gal, \"mstar\"]\n",
    "            sfrdens = df_metadata_2comp.loc[gal, \"log sigma_SFR (R_e)\"]\n",
    "            cond_matched = np.abs(df_metadata_unmatched[\"mstar\"] - mstar) < 0.3        \n",
    "            cond_matched &= np.abs(df_metadata_unmatched[\"log sigma_SFR (R_e)\"] - sfrdens) < 0.3\n",
    "\n",
    "        # Match in sSFR \n",
    "        elif match_condition == \"sSFR\":\n",
    "            ssfr = df_metadata_2comp.loc[gal, \"log sSFR (R_e)\"]\n",
    "            cond_matched = np.abs(df_metadata_unmatched[\"log sSFR (R_e)\"] - ssfr) < 0.2\n",
    "\n",
    "        # Match in mstar & sSFR\n",
    "        elif match_condition == \"mstar+sSFR\":\n",
    "            mstar = df_metadata_2comp.loc[gal, \"mstar\"]\n",
    "            ssfr = df_metadata_2comp.loc[gal, \"log sSFR (R_e)\"]\n",
    "            cond_matched = np.abs(df_metadata_unmatched[\"mstar\"] - mstar) < 0.3         \n",
    "            cond_matched &= np.abs(df_metadata_unmatched[\"log sSFR (R_e)\"] - ssfr) < 0.3\n",
    "\n",
    "        # Match in inclination\n",
    "        elif match_condition == \"Inclination i (degrees)\":\n",
    "            i = df_metadata_2comp.loc[gal, \"Inclination i (degrees)\"]\n",
    "            cond_matched = np.abs(df_metadata_unmatched[\"Inclination i (degrees)\"] - i) < 10\n",
    "\n",
    "        # Match in R_e \n",
    "        elif match_condition == \"R_e (kpc)\":\n",
    "            re = df_metadata_2comp.loc[gal, \"R_e (kpc)\"]\n",
    "            cond_matched = np.abs(df_metadata_unmatched[\"R_e (kpc)\"] - re) < 1.0\n",
    "        \n",
    "        # Match in mstar & Re\n",
    "        elif match_condition == \"mstar+R_e (kpc)\":\n",
    "            mstar = df_metadata_2comp.loc[gal, \"mstar\"]\n",
    "            re = df_metadata_2comp.loc[gal, \"R_e (kpc)\"]\n",
    "            cond_matched = np.abs(df_metadata_unmatched[\"mstar\"] - mstar) < 0.3         \n",
    "            cond_matched &= np.abs(df_metadata_unmatched[\"R_e (kpc)\"] - re) < 1.0\n",
    "\n",
    "        # Match in S/N\n",
    "        elif match_condition == \"snr\":\n",
    "            snr = df_metadata_2comp.loc[gal, \"Median SNR (B, 1R_e)\"]\n",
    "            cond_matched = np.abs(df_metadata_unmatched[\"Median SNR (B, 1R_e)\"] - snr) < 2\n",
    "\n",
    "        # Match in kpc per arcsec\n",
    "        elif match_condition == \"kpc per arcsec\":\n",
    "            kpc_per_as = df_metadata_2comp.loc[gal, \"kpc per arcsec\"]\n",
    "            cond_matched = np.abs(df_metadata_unmatched[\"kpc per arcsec\"] - kpc_per_as) < 0.3\n",
    "\n",
    "        # Match in mstar & SFR\n",
    "        elif match_condition == \"mstar+SFR surface density+kpc per arcsec\":\n",
    "            mstar = df_metadata_2comp.loc[gal, \"mstar\"]\n",
    "            sfrdens = df_metadata_2comp.loc[gal, \"log sigma_SFR (R_e)\"]\n",
    "            kpc_per_as = df_metadata_2comp.loc[gal, \"kpc per arcsec\"]\n",
    "            cond_matched = np.abs(df_metadata_unmatched[\"mstar\"] - mstar) < 0.3\n",
    "            cond_matched &= np.abs(df_metadata_unmatched[\"log sigma_SFR (R_e)\"] - sfrdens) < 0.3\n",
    "            cond_matched &= np.abs(df_metadata_unmatched[\"kpc per arcsec\"] - kpc_per_as) < 0.3\n",
    "\n",
    "        # Match in surface brightness\n",
    "        elif match_condition == \"mu_1re\":\n",
    "            mu_1re = df_metadata_2comp.loc[gal, \"mu_1re\"]\n",
    "            cond_matched = np.abs(df_metadata_unmatched[\"mu_1re\"] - mu_1re) < 0.2\n",
    "        \n",
    "        # Match in surface brightness\n",
    "        elif match_condition == \"mu_within_1re\":\n",
    "            mu_1re = df_metadata_2comp.loc[gal, \"mu_1re\"]\n",
    "            cond_matched = np.abs(df_metadata_unmatched[\"mu_1re\"] - mu_1re) < 0.2\n",
    "\n",
    "        # Match in surface brightness\n",
    "        elif match_condition == \"Morphology\":\n",
    "            morph = df_metadata_2comp.loc[gal, \"Morphology (numeric)\"]\n",
    "            cond_matched = np.abs(df_metadata_unmatched[\"Morphology (numeric)\"] - morph) == 0\n",
    "            \n",
    "        # Match in N2O2\n",
    "        elif match_condition == \"N2O2\":\n",
    "            N2O2 = df_metadata_2comp.loc[gal, \"N2O2 (R_e)\"]\n",
    "            cond_matched = np.abs(df_metadata_unmatched[\"N2O2 (R_e)\"] - N2O2) < 0.2\n",
    "            \n",
    "        else:\n",
    "            raise ValueError(f\"{match_condition} not found!\")\n",
    "\n",
    "        # Get ALL of the galaxies satifying these criteria.\n",
    "        gals_matched = list(df_metadata_unmatched[cond_matched].index)\n",
    "        if len(gals_matched) >= N:\n",
    "            # Select a random subset of these, so that individual galaxies don't \"hog\" them all\n",
    "            gals_matched_subset = list(np.random.choice(gals_matched, size=min(N, len(gals_matched)), replace=False))\n",
    "\n",
    "            # Add the 1-comp galaxies to the list of galaxies that have been matched \n",
    "            gals_1comp_matched += gals_matched_subset\n",
    "            gals_matched_dict[str(gal)] = gals_matched_subset\n",
    "\n",
    "            # Add the 2-comp galaxy to the list of galaxies that have been matched \n",
    "            gals_2comp_matched.append(gal)\n",
    "\n",
    "            # Remove the newley matched galaxies from the unmatched 1-comp galaxy list \n",
    "            df_metadata_unmatched = df_metadata_unmatched.drop(gals_matched_subset, axis=0)\n",
    "            for gal in gals_matched_subset:\n",
    "                gals_1comp_unmatched.remove(gal)\n",
    "        else:\n",
    "            # Drop this galaxy, because it doesn't have enough counterparts \n",
    "            gals_2comp_unmatched.append(gal)\n",
    "            print(f\"{gal} only has {len(gals_matched)} 1-component counterparts\")\n",
    "\n",
    "    # Check that this list is unique so that we aren't accidentally including galaxies twice\n",
    "    assert len(np.unique(gals_1comp_matched)) == len(gals_1comp_matched)\n",
    "\n",
    "    #///////////////////////////////////////////////////////////////////////////\n",
    "    # PLOT \n",
    "    # fig, axs = plt.subplots(nrows=5, ncols=7, figsize=(7 * 4, 5 * 4))    \n",
    "    fig, axs = plt.subplots(nrows=3, ncols=4, figsize=(15, 11))\n",
    "    for cc, col in enumerate(cols):\n",
    "        # Plot \n",
    "        r = (vmin_fn(col), vmax_fn(col)) if vmin_fn(col) is not None else (df_metadata_extended.loc[gals_2comp_matched + gals_1comp_matched, col].min(), df_metadata_extended.loc[gals_2comp_matched + gals_1comp_matched, col].max())\n",
    "        hist(df_metadata_extended.loc[gals_2comp_matched, col], histtype=\"step\", ax=axs.flat[cc], range=r, bins=20, label=f\"2-component sample (N = {len(gals_2comp_matched)})\", normed=False, color=\"red\")\n",
    "        hist(df_metadata_extended.loc[gals_1comp_matched, col], histtype=\"stepfilled\", alpha=0.3, ax=axs.flat[cc], range=r, bins=20, label=f\"Matched sample (N = {len(gals_1comp_matched)})\", normed=False, color=\"orange\")\n",
    "\n",
    "        # Compute mean & std. dev.\n",
    "        y_2comp = 0.1 * axs.flat[cc].get_ylim()[1]\n",
    "        y_matched = 0.15 * axs.flat[cc].get_ylim()[1]\n",
    "        y_whole = 0.2 * axs.flat[cc].get_ylim()[1]\n",
    "        mean_2comp = df_metadata_extended.loc[gals_2comp_matched, col].mean()\n",
    "        err_upper_2comp = np.quantile(df_metadata_extended.loc[gals_2comp_matched, col].dropna().values, 0.84) - mean_2comp\n",
    "        err_lower_2comp = mean_2comp - np.quantile(df_metadata_extended.loc[gals_2comp_matched, col].dropna().values, 0.16)\n",
    "        axs.flat[cc].errorbar(x=mean_2comp, xerr=[[err_lower_2comp], [err_upper_2comp]], y=y_2comp, marker=\"o\", label=\"Mean (2-component sample)\", color=\"red\")\n",
    "        \n",
    "        mean_1comp = df_metadata_extended.loc[gals_1comp_matched, col].mean()\n",
    "        err_upper_1comp = np.quantile(df_metadata_extended.loc[gals_1comp_matched, col].dropna().values, 0.84) - mean_1comp\n",
    "        err_lower_1comp = mean_1comp - np.quantile(df_metadata_extended.loc[gals_1comp_matched, col].dropna().values, 0.16)\n",
    "        axs.flat[cc].errorbar(x=mean_1comp, xerr=[[err_lower_1comp], [err_upper_1comp]], y=y_matched, marker=\"o\", label=\"Mean (1-component sample)\", color=\"orange\")\n",
    "\n",
    "        axs.flat[cc].set_xlabel(label_fn(col))\n",
    "        axs.flat[cc].set_axisbelow(True)\n",
    "        axs.flat[cc].grid(zorder=-1)\n",
    "        axs.flat[cc].text(x=0.05, y=0.95, transform=axs.flat[cc].transAxes, verticalalignment=\"top\", \n",
    "                          s=r\"1-comp.: $%.2f ^ {+%.2f} _ {-%.2f}$\" % (mean_1comp, err_upper_1comp, err_lower_1comp), color=\"k\")\n",
    "        axs.flat[cc].text(x=0.05, y=0.87, transform=axs.flat[cc].transAxes, verticalalignment=\"top\", \n",
    "                          s=r\"2-comp.: $%.2f ^ {%.2f} _ {%.2f}$\" % (mean_2comp, err_upper_2comp, err_lower_2comp), color=\"k\")\n",
    "    axs[0][-1].legend(loc=\"center left\", bbox_to_anchor=[1.1, 0.5])\n",
    "    title = \"Match condition: \"\n",
    "    for s in match_condition.split(\"+\"):\n",
    "        title += label_fn(s) + \", \"\n",
    "    fig.suptitle(f\"{title[:-2]}\", y=0.92, fontsize=20)\n",
    "\n",
    "    # Save \n",
    "    if savefigs:\n",
    "        fname = os.path.join(fig_path, f\"matched_sample_hists_{match_condition.replace(' ', '_')}.pdf\")\n",
    "        print(f\"Saving to {fname}\")\n",
    "        fig.savefig(fname, bbox_inches=\"tight\", format=\"pdf\")"
   ]
  },
  {
   "cell_type": "markdown",
   "metadata": {},
   "source": [
    "## STEP 4: look at the properties of individual 2-component galaxies\n",
    "---\n",
    "The goal here is to visually inspect each of our 2-component galaxies in order to check whether they exhibit this \"lagging\" component. \n",
    "Using the LZIFU fits (to check the fluxes in non-Balmer emission lines), make \"summary\" plots for each galaxy, including maps of emission line fluxes in each component, kinematics and the \"lag\" diagram."
   ]
  },
  {
   "cell_type": "code",
   "execution_count": 49,
   "metadata": {},
   "outputs": [
    {
     "data": {
      "application/vnd.jupyter.widget-view+json": {
       "model_id": "b9dcbf7290c74631818727d5b284d327",
       "version_major": 2,
       "version_minor": 0
      },
      "text/plain": [
       "Canvas(toolbar=Toolbar(toolitems=[('Home', 'Reset original view', 'home', 'home'), ('Back', 'Back to previous …"
      ]
     },
     "metadata": {},
     "output_type": "display_data"
    },
    {
     "name": "stdout",
     "output_type": "stream",
     "text": [
      "Saving to /priv/meggs3/u5708159/SAMI/figs/presentations/matched_sample_2comp_106717_vel.pdf\n"
     ]
    },
    {
     "data": {
      "application/vnd.jupyter.widget-view+json": {
       "model_id": "ac860e7ce4154e049a9d33d384a4eaf2",
       "version_major": 2,
       "version_minor": 0
      },
      "text/plain": [
       "Canvas(toolbar=Toolbar(toolitems=[('Home', 'Reset original view', 'home', 'home'), ('Back', 'Back to previous …"
      ]
     },
     "metadata": {},
     "output_type": "display_data"
    },
    {
     "name": "stdout",
     "output_type": "stream",
     "text": [
      "Saving to /priv/meggs3/u5708159/SAMI/figs/presentations/matched_sample_2comp_9011900166_vel.pdf\n"
     ]
    }
   ],
   "source": [
    "# For the presentation: SDSS image | v_gas (component 1) | v_gas (component 2) to demonstrate winds/outflows vs. rotation-dominated systems\n",
    "for gal in [106717, 9011900166]:\n",
    "    fig, axs = plt.subplots(nrows=1, ncols=3, figsize=(13, 4))\n",
    "    bbox = axs[-2].get_position()\n",
    "    axs[-1].set_position([bbox.x0 + bbox.width, bbox.y0, bbox.width, bbox.height])\n",
    "    df_gal = df_hq[df_hq.catid == gal]\n",
    "    ax_sdss = plot_sdss_image(df_gal, ax=axs[0])\n",
    "    _, ax = plot2dmap(df_gal, \"v_gas (component 1)\", bin_type=\"default\", survey=\"sami\", ax=axs[1], show_title=False, plot_colorbar=False)\n",
    "    ax.text(s=r\"$v_{\\rm gas}$ (component 1)\", fontsize=15, x=0.05, y=0.95, verticalalignment=\"top\", transform=ax.transAxes)\n",
    "    _, ax = plot2dmap(df_gal, \"v_gas (component 2)\", bin_type=\"default\", survey=\"sami\", ax=axs[2], show_title=False, plot_colorbar=True)\n",
    "    ax.text(s=r\"$v_{\\rm gas}$ (component 2)\", fontsize=15, x=0.05, y=0.95, verticalalignment=\"top\", transform=ax.transAxes)\n",
    "    lat, lon = ax.coords\n",
    "    lon.set_ticklabel_visible(False)\n",
    "    ax_sdss.text(s=f\"GAMA{gal}\", color=\"white\", x=0.1, y=0.9, transform=ax_sdss.transAxes)\n",
    "    \n",
    "    if savefigs:\n",
    "        fname = os.path.join(fig_path, f\"matched_sample_2comp_{gal}_vel.pdf\")\n",
    "        print(f\"Saving to {fname}\")\n",
    "        fig.savefig(fname, bbox_inches=\"tight\", format=\"pdf\")"
   ]
  },
  {
   "cell_type": "code",
   "execution_count": null,
   "metadata": {},
   "outputs": [],
   "source": [
    "from spaxelsleuth.loaddata.lzifu import load_lzifu_df\n",
    "from spaxelsleuth.plotting.plotgalaxies import plot2dhistcontours, plot2dscatter\n",
    "\n",
    "fig_path = \"/priv/meggs3/u5708159/SAMI/sami_dr3/matched_samples/summary_plots\""
   ]
  },
  {
   "cell_type": "code",
   "execution_count": null,
   "metadata": {},
   "outputs": [],
   "source": [
    "[g for g in gals_2comp if f\"{g}_lag_summary.pdf\" not in os.listdir(fig_path)]"
   ]
  },
  {
   "cell_type": "code",
   "execution_count": null,
   "metadata": {
    "scrolled": false
   },
   "outputs": [],
   "source": [
    "###########################################################################\n",
    "# Create a collage figure displaying various quantities of interest for \n",
    "# this galaxy\n",
    "###########################################################################\n",
    "for gal in [g for g in gals_2comp if f\"{g}_lag_summary.pdf\" not in os.listdir(fig_path)]:\n",
    "    ###########################################################################\n",
    "    # Load the LZIFU DataFrame\n",
    "    # NOTE: NOT using the DF with extinction correction, because it may be a bit dodgy for individual line components. \n",
    "    # For the purposes of just checking the fluxes in the emission lines, it doens't really matter anyway.\n",
    "    ###########################################################################\n",
    "    try:\n",
    "        df_gal = load_lzifu_df(gal=gal, \n",
    "                               bin_type=bin_type, \n",
    "                               ncomponents=ncomponents,\n",
    "                               eline_SNR_min=eline_SNR_min,\n",
    "                               correct_extinction=False)  \n",
    "    except:\n",
    "        continue\n",
    "\n",
    "    # layout:\n",
    "    # SDSS image | number of components | BT classifications\n",
    "    # delta sigma: 1 | 2 | 3\n",
    "    # EW: 1 | 2 | 3\n",
    "    # BPT\n",
    "    # Emission lines \n",
    "    # WHAN | WHAV\n",
    "\n",
    "    fig, axs = plt.subplots(nrows=10, ncols=3, figsize=(13, 40))\n",
    "    fig.subplots_adjust(wspace=0.05, hspace=0.05)\n",
    "    axs[-1][-1].set_visible(False)\n",
    "\n",
    "    #///////////////////////////////////////////////////////////////////////////////////////////////////////\n",
    "    # SDSS image \n",
    "    ax = plot_sdss_image(df_gal, ax=axs[0][0])\n",
    "    if ax is not None:\n",
    "        ax.set_title(f\"GAMA{gal}\")\n",
    "        lon = ax.coords[0]\n",
    "        lon.set_ticklabel_visible(False)\n",
    "\n",
    "    #///////////////////////////////////////////////////////////////////////////////////////////////////////\n",
    "    # Number of components\n",
    "    _, ax = plot2dmap(df_gal=df_gal, bin_type=\"default\", survey=\"sami\",\n",
    "              PA_deg=0,\n",
    "              col_z=\"Number of components\",\n",
    "              ax=axs[0][1], \n",
    "              plot_colorbar=True, cax=None, cax_orientation=\"horizontal\", \n",
    "              show_title=False)\n",
    "    lon = ax.coords[0]\n",
    "    lon.set_ticklabel_visible(False)\n",
    "    lat = ax.coords[1]\n",
    "    lat.set_ticklabel_visible(False)\n",
    "\n",
    "    #///////////////////////////////////////////////////////////////////////////////////////////////////////\n",
    "    # BPT classifications \n",
    "    _, ax = plot2dmap(df_gal=df_gal, bin_type=\"default\", survey=\"sami\",\n",
    "              PA_deg=0,\n",
    "              col_z=\"BPT (numeric) (total)\",\n",
    "              ax=axs[0][2], \n",
    "              plot_colorbar=True, cax=None, cax_orientation=\"vertical\", \n",
    "              show_title=False)\n",
    "    lon = ax.coords[0]\n",
    "    lon.set_ticklabel_visible(False)\n",
    "    lat = ax.coords[1]\n",
    "    lat.set_ticklabel_visible(False)\n",
    "\n",
    "    #///////////////////////////////////////////////////////////////////////////////////////////////////////\n",
    "    # v_gas\n",
    "    for nn in range(3):\n",
    "        _, ax = plot2dmap(df_gal=df_gal, bin_type=\"default\", survey=\"sami\",\n",
    "                  PA_deg=0,\n",
    "                  col_z=f\"v_gas (component {nn + 1})\",\n",
    "                  ax=axs[1][nn], \n",
    "                  plot_colorbar=True if nn == 2 else False, cax=None, cax_orientation=\"vertical\", \n",
    "                  vmin=-200, vmax=+200,\n",
    "                  show_title=False)\n",
    "        ax.text(s=f\"Component {nn + 1}\", x=0.1, y=0.95, transform=axs[1][nn].transAxes, verticalalignment=\"top\")\n",
    "        if nn > 0:\n",
    "            lat = ax.coords[1]\n",
    "            lat.set_ticklabel_visible(False)\n",
    "        lon = ax.coords[0]\n",
    "        lon.set_ticklabel_visible(False)\n",
    "\n",
    "    #///////////////////////////////////////////////////////////////////////////////////////////////////////\n",
    "    # sigma_gas\n",
    "    for nn in range(3):\n",
    "        _, ax = plot2dmap(df_gal=df_gal, bin_type=\"default\", survey=\"sami\",\n",
    "                  PA_deg=0,\n",
    "                  col_z=f\"sigma_gas (component {nn + 1})\",\n",
    "                  ax=axs[2][nn], \n",
    "                  plot_colorbar=True if nn == 2 else False, cax=None, cax_orientation=\"vertical\", \n",
    "                  show_title=False)\n",
    "        ax.text(s=f\"Component {nn + 1}\", x=0.1, y=0.95, transform=axs[2][nn].transAxes, verticalalignment=\"top\")\n",
    "        if nn > 0:\n",
    "            lat = ax.coords[1]\n",
    "            lat.set_ticklabel_visible(False)\n",
    "        lon = ax.coords[0]\n",
    "        lon.set_ticklabel_visible(False)\n",
    "\n",
    "    #///////////////////////////////////////////////////////////////////////////////////////////////////////\n",
    "    # HALPHA\n",
    "    for nn in range(3):\n",
    "        _, ax = plot2dmap(df_gal=df_gal, bin_type=\"default\", survey=\"sami\",\n",
    "                  PA_deg=0,\n",
    "                  col_z=f\"HALPHA (component {nn + 1})\",\n",
    "                  ax=axs[3][nn], \n",
    "                  plot_colorbar=True if nn == 2 else False, cax=None, cax_orientation=\"vertical\", \n",
    "                  vmin=0, vmax=2.0,\n",
    "                  show_title=False)\n",
    "        ax.text(s=f\"Component {nn + 1}\", x=0.1, y=0.95, transform=axs[3][nn].transAxes, verticalalignment=\"top\")\n",
    "        if nn > 0:\n",
    "            lat = ax.coords[1]\n",
    "            lat.set_ticklabel_visible(False)\n",
    "        lon = ax.coords[0]\n",
    "        lon.set_ticklabel_visible(False)\n",
    "    #///////////////////////////////////////////////////////////////////////////////////////////////////////\n",
    "    # [NII]\n",
    "    for nn in range(3):\n",
    "        _, ax = plot2dmap(df_gal=df_gal, bin_type=\"default\", survey=\"sami\",\n",
    "                  PA_deg=0,\n",
    "                  col_z=f\"NII6583 (component {nn + 1})\",\n",
    "                  ax=axs[4][nn], \n",
    "                  plot_colorbar=True if nn == 2 else False, cax=None, cax_orientation=\"vertical\", \n",
    "                  vmin=0, vmax=0.75, cmap=\"viridis\",\n",
    "                  show_title=False)\n",
    "        ax.text(s=f\"Component {nn + 1}\", x=0.1, y=0.95, transform=axs[4][nn].transAxes, verticalalignment=\"top\")\n",
    "        if nn > 0:\n",
    "            lat = ax.coords[1]\n",
    "            lat.set_ticklabel_visible(False)\n",
    "        lon = ax.coords[0]\n",
    "        lon.set_ticklabel_visible(False)\n",
    "\n",
    "    #///////////////////////////////////////////////////////////////////////////////////////////////////////\n",
    "    # [SII]\n",
    "    for nn in range(3):\n",
    "        _, ax = plot2dmap(df_gal=df_gal, bin_type=\"default\", survey=\"sami\",\n",
    "                  PA_deg=0,\n",
    "                  col_z=f\"SII6716 (component {nn + 1})\",\n",
    "                  ax=axs[5][nn], \n",
    "                  plot_colorbar=True if nn == 2 else False, cax=None, cax_orientation=\"vertical\", \n",
    "                  vmin=0, vmax=0.75, cmap=\"viridis\",\n",
    "                  show_title=False)\n",
    "        ax.text(s=f\"Component {nn + 1}\", x=0.1, y=0.95, transform=axs[5][nn].transAxes, verticalalignment=\"top\")\n",
    "        if nn > 0:\n",
    "            lat = ax.coords[1]\n",
    "            lat.set_ticklabel_visible(False)\n",
    "        lon = ax.coords[0]\n",
    "        lon.set_ticklabel_visible(False)\n",
    "\n",
    "    #///////////////////////////////////////////////////////////////////////////////////////////////////////\n",
    "    # HBETA\n",
    "    for nn in range(3):\n",
    "        _, ax = plot2dmap(df_gal=df_gal, bin_type=\"default\", survey=\"sami\",\n",
    "                  PA_deg=0,\n",
    "                  col_z=f\"HBETA (component {nn + 1})\",\n",
    "                  ax=axs[6][nn], \n",
    "                  plot_colorbar=True if nn == 2 else False, cax=None, cax_orientation=\"vertical\", \n",
    "                  vmin=0, vmax=0.75, cmap=\"viridis\",\n",
    "                  show_title=False)\n",
    "        ax.text(s=f\"Component {nn + 1}\", x=0.1, y=0.95, transform=axs[6][nn].transAxes, verticalalignment=\"top\")\n",
    "        if nn > 0:\n",
    "            lat = ax.coords[1]\n",
    "            lat.set_ticklabel_visible(False)\n",
    "        lon = ax.coords[0]\n",
    "        lon.set_ticklabel_visible(False)\n",
    "\n",
    "    #///////////////////////////////////////////////////////////////////////////////////////////////////////\n",
    "    # [OIII]\n",
    "    for nn in range(3):\n",
    "        _, ax = plot2dmap(df_gal=df_gal, bin_type=\"default\", survey=\"sami\",\n",
    "                  PA_deg=0,\n",
    "                  col_z=f\"OIII5007 (component {nn + 1})\",\n",
    "                  ax=axs[7][nn], \n",
    "                  plot_colorbar=True if nn == 2 else False, cax=None, cax_orientation=\"vertical\", \n",
    "                  vmin=0, vmax=0.75, cmap=\"viridis\",\n",
    "                  show_title=False)\n",
    "        ax.text(s=f\"Component {nn + 1}\", x=0.1, y=0.95, transform=axs[7][nn].transAxes, verticalalignment=\"top\")\n",
    "        if nn > 0:\n",
    "            lat = ax.coords[1]\n",
    "            lat.set_ticklabel_visible(False)\n",
    "        lon = ax.coords[0]\n",
    "        lon.set_ticklabel_visible(False)\n",
    "\n",
    "    #///////////////////////////////////////////////////////////////////////////////////////////////////////\n",
    "    # EW \n",
    "    for nn in range(3):\n",
    "        _, ax = plot2dmap(df_gal=df_gal, bin_type=\"default\", survey=\"sami\",\n",
    "                  PA_deg=0,\n",
    "                  col_z=f\"HALPHA EW (component {nn + 1})\",\n",
    "                  ax=axs[8][nn], \n",
    "                  plot_colorbar=True if nn == 2 else False, cax=None, cax_orientation=\"vertical\", \n",
    "                  show_title=False)\n",
    "        ax.text(s=f\"Component {nn + 1}\", x=0.1, y=0.95, transform=axs[8][nn].transAxes, verticalalignment=\"top\")\n",
    "        if nn > 0:\n",
    "            lat = ax.coords[1]\n",
    "            lat.set_ticklabel_visible(False)\n",
    "\n",
    "    ###########################################################################\n",
    "    # \"Lag\" plot\n",
    "    ###########################################################################\n",
    "    bbox = axs[-1][0].get_position()\n",
    "    axs[-1][0].set_position([bbox.x0, bbox.y0 - 0.025, bbox.width, bbox.height])\n",
    "    bbox = axs[-1][1].get_position()\n",
    "    axs[-1][1].set_position([bbox.x0 + 0.025, bbox.y0 - 0.025, bbox.width, bbox.height])\n",
    "\n",
    "    fig = plot2dhistcontours(df_hq,\n",
    "                             col_x=\"v_gas (component 1)\",\n",
    "                             col_y=\"v_gas (component 2)\",\n",
    "                             col_z=\"count\", log_z=False, cmap=\"gray_r\", alpha=0.4,\n",
    "                             xmin=-300, xmax=300, \n",
    "                             ymin=-300, ymax=300, \n",
    "                             ax=axs[-1][0],\n",
    "                             plot_colorbar=False,\n",
    "                             nbins=100)\n",
    "    fig = plot2dhistcontours(df_hq,\n",
    "                             col_x=\"v_*\",\n",
    "                             col_y=\"v_gas (component 2)\",\n",
    "                             col_z=\"count\", log_z=False, cmap=\"gray_r\", alpha=0.4,\n",
    "                             xmin=-300, xmax=300, \n",
    "                             ymin=-300, ymax=300,\n",
    "                             ax=axs[-1][1],\n",
    "                             plot_colorbar=False,\n",
    "                             nbins=100)\n",
    "\n",
    "    _ = plot2dscatter(df_gal, col_x=\"v_gas (component 1)\", col_y=\"v_gas (component 2)\", col_z=\"sigma_gas (component 2)\",\n",
    "                      xmin=-300, xmax=300, ymin=-300, ymax=300, \n",
    "                      vmax=150,\n",
    "                      plot_colorbar=False,\n",
    "                      ax=axs[-1][0])\n",
    "\n",
    "    _ = plot2dscatter(df_gal, col_x=\"v_*\", col_y=\"v_gas (component 2)\", col_z=\"sigma_gas (component 2)\",\n",
    "                      xmin=-300, xmax=300, ymin=-300, ymax=300, \n",
    "                      vmax=150,\n",
    "                      plot_colorbar=True,\n",
    "                      ax=axs[-1][1])\n",
    "    cax = fig.get_axes()[-1]\n",
    "\n",
    "    # Decorations \n",
    "    [ax.grid() for ax in axs[-1]]\n",
    "    [ax.set_xlabel(ax.get_xlabel() + \" (component 1)\") for ax in axs[-1]]\n",
    "    axs[-1][0].set_ylabel(axs[-1][0].get_ylabel() + \" (component 2)\")\n",
    "    axs[-1][1].set_ylabel(\"\")\n",
    "    cax.set_ylabel(cax.get_ylabel() + \" (component 2)\")\n",
    "    # axs[-1][1].set_yticklabels([])\n",
    "    [ax.plot([-300, 300], [-300, 300], color=\"k\", lw=2, ls=\"--\") for ax in axs[-1]]\n",
    "    [ax.plot([-300, 300], [0, 0], color=\"k\") for ax in axs[-1]]\n",
    "    [ax.plot([0, 0], [-300, 300], color=\"k\") for ax in axs[-1]]\n",
    "    axs[-1][0].axvline(df_gal.loc[(df_gal[\"x (projected, arcsec)\"] == 12.5) & (df_gal[\"y (projected, arcsec)\"] == 12.5), \"v_gas (component 1)\"].values[0], ls=\"--\", label=r\"$v_{\\rm gas\\, (centre)}$\")\n",
    "    axs[-1][0].axhline(df_gal.loc[(df_gal[\"x (projected, arcsec)\"] == 12.5) & (df_gal[\"y (projected, arcsec)\"] == 12.5), \"v_gas (component 2)\"].values[0], ls=\"--\")\n",
    "    axs[-1][0].legend()\n",
    "    axs[-1][1].axhline(df_gal.loc[(df_gal[\"x (projected, arcsec)\"] == 12.5) & (df_gal[\"y (projected, arcsec)\"] == 12.5), \"v_gas (component 2)\"].values[0], ls=\"--\", label=r\"$v_{\\rm gas\\, (centre)}$\")\n",
    "    axs[-1][1].axvline(df_gal.loc[(df_gal[\"x (projected, arcsec)\"] == 12.5) & (df_gal[\"y (projected, arcsec)\"] == 12.5), \"v_*\"].values[0], ls=\":\", label=r\"$v_{\\rm *\\, (centre)}$\")\n",
    "    axs[-1][1].legend()\n",
    "\n",
    "    # Save \n",
    "    fig.savefig(os.path.join(fig_path, f\"{gal}_lag_summary.pdf\"), format=\"pdf\", bbox_inches=\"tight\")\n",
    "    plt.close(\"all\")\n",
    "        "
   ]
  },
  {
   "cell_type": "markdown",
   "metadata": {},
   "source": [
    "## Step 5: \"lag\" plots \n",
    "---\n",
    "First: make the lag plot for the *whole* SAMI sample and then just for the 2comp sample. Do they look similar?"
   ]
  },
  {
   "cell_type": "code",
   "execution_count": 9,
   "metadata": {},
   "outputs": [],
   "source": [
    "plt.rcParams.update({'font.size': 14})"
   ]
  },
  {
   "cell_type": "code",
   "execution_count": 10,
   "metadata": {},
   "outputs": [],
   "source": [
    "cond = np.zeros(df_hq.shape[0], dtype=\"bool\")\n",
    "for gal in gals_2comp:\n",
    "    cond |= (df_hq[\"BPT (total)\"] == \"SF\") & (df_hq[\"catid\"] == gal)\n",
    "df_SF_2comp = df_hq[cond]\n",
    "df_SF = df_hq[df_hq[\"BPT (total)\"] == \"SF\"]"
   ]
  },
  {
   "cell_type": "code",
   "execution_count": 12,
   "metadata": {
    "scrolled": false
   },
   "outputs": [
    {
     "data": {
      "application/vnd.jupyter.widget-view+json": {
       "model_id": "63aa12b3423a4c7ba3e0490274380da6",
       "version_major": 2,
       "version_minor": 0
      },
      "text/plain": [
       "Canvas(toolbar=Toolbar(toolitems=[('Home', 'Reset original view', 'home', 'home'), ('Back', 'Back to previous …"
      ]
     },
     "metadata": {},
     "output_type": "display_data"
    },
    {
     "name": "stdout",
     "output_type": "stream",
     "text": [
      "Saving to /priv/meggs3/u5708159/SAMI/figs/presentations/lag_2comp_vgas_2_vs_1_blank.pdf\n"
     ]
    }
   ],
   "source": [
    "fig = plot2dhistcontours(df_SF_2comp,\n",
    "                         col_x=\"v_gas (component 1)\",\n",
    "                         col_y=\"v_gas (component 2)\",\n",
    "                         col_z=\"count\", log_z=True, \n",
    "                         xmin=-300, xmax=300, \n",
    "                         ymin=-300, ymax=300, \n",
    "                         nbins=50)\n",
    "ax = fig.get_axes()[0]\n",
    "ax.grid()\n",
    "ax.set_xlabel(ax.get_xlabel() + \" (component 1)\")\n",
    "ax.set_ylabel(ax.get_ylabel() + \" (component 2)\")\n",
    "ax.plot([-300, 300], [-300, 300], color=\"k\", lw=2, ls=\"--\")\n",
    "ax.plot([-300, 300], [-300 + 50, 300 + 50], color=\"k\", lw=1, ls=\"--\")\n",
    "ax.plot([-300, 300], [-300 - 50, 300 - 50], color=\"k\", lw=1, ls=\"--\")\n",
    "\n",
    "# Save \n",
    "if savefigs:\n",
    "    fname = os.path.join(fig_path, f\"lag_2comp_vgas_2_vs_1.pdf\")\n",
    "    print(f\"Saving to {fname}\")\n",
    "    fig.savefig(fname, bbox_inches=\"tight\", format=\"pdf\")"
   ]
  },
  {
   "cell_type": "code",
   "execution_count": 75,
   "metadata": {},
   "outputs": [
    {
     "name": "stderr",
     "output_type": "stream",
     "text": [
      "/home/u5708159/python/Modules/spaxelsleuth/plotting/plotgalaxies.py:472: RuntimeWarning: More than 20 figures have been opened. Figures created through the pyplot interface (`matplotlib.pyplot.figure`) are retained until explicitly closed and may consume too much memory. (To control this warning, see the rcParam `figure.max_open_warning`).\n",
      "  fig = plt.figure(figsize=figsize)\n"
     ]
    },
    {
     "data": {
      "application/vnd.jupyter.widget-view+json": {
       "model_id": "9048eb01cf52421496d63a69d96ec13b",
       "version_major": 2,
       "version_minor": 0
      },
      "text/plain": [
       "Canvas(toolbar=Toolbar(toolitems=[('Home', 'Reset original view', 'home', 'home'), ('Back', 'Back to previous …"
      ]
     },
     "metadata": {},
     "output_type": "display_data"
    },
    {
     "name": "stdout",
     "output_type": "stream",
     "text": [
      "Saving to /priv/meggs3/u5708159/SAMI/figs/presentations/lag_2comp_vgas_2_vs_vstar.pdf\n"
     ]
    },
    {
     "name": "stderr",
     "output_type": "stream",
     "text": [
      "/pkg/linux/anaconda-20191122/anaconda3/lib/python3.7/site-packages/matplotlib/colors.py:1110: RuntimeWarning: invalid value encountered in less_equal\n",
      "  mask |= resdat <= 0\n"
     ]
    }
   ],
   "source": [
    "fig = plot2dhistcontours(df_SF_2comp,\n",
    "                         col_x=\"v_*\",\n",
    "                         col_y=\"v_gas (component 2)\",\n",
    "                         col_z=\"count\", log_z=True, \n",
    "                         xmin=-300, xmax=300, \n",
    "                         ymin=-300, ymax=300, \n",
    "                         nbins=50)\n",
    "ax = fig.get_axes()[0]\n",
    "ax.grid()\n",
    "ax.set_ylabel(ax.get_ylabel() + \" (component 2)\")\n",
    "ax.plot([-300, 300], [-300, 300], color=\"k\", lw=2, ls=\"--\")\n",
    "ax.plot([-300, 300], [-300 + 50, 300 + 50], color=\"k\", lw=1, ls=\"--\")\n",
    "ax.plot([-300, 300], [-300 - 50, 300 - 50], color=\"k\", lw=1, ls=\"--\")\n",
    "\n",
    "# Save \n",
    "if savefigs:\n",
    "    fname = os.path.join(fig_path, f\"lag_2comp_vgas_2_vs_vstar.pdf\")\n",
    "    print(f\"Saving to {fname}\")\n",
    "    fig.savefig(fname, bbox_inches=\"tight\", format=\"pdf\")"
   ]
  },
  {
   "cell_type": "code",
   "execution_count": 77,
   "metadata": {},
   "outputs": [
    {
     "name": "stderr",
     "output_type": "stream",
     "text": [
      "/home/u5708159/python/Modules/spaxelsleuth/plotting/plotgalaxies.py:472: RuntimeWarning: More than 20 figures have been opened. Figures created through the pyplot interface (`matplotlib.pyplot.figure`) are retained until explicitly closed and may consume too much memory. (To control this warning, see the rcParam `figure.max_open_warning`).\n",
      "  fig = plt.figure(figsize=figsize)\n"
     ]
    },
    {
     "data": {
      "application/vnd.jupyter.widget-view+json": {
       "model_id": "99b4cb6dd3f944ecae0f45b78f817684",
       "version_major": 2,
       "version_minor": 0
      },
      "text/plain": [
       "Canvas(toolbar=Toolbar(toolitems=[('Home', 'Reset original view', 'home', 'home'), ('Back', 'Back to previous …"
      ]
     },
     "metadata": {},
     "output_type": "display_data"
    },
    {
     "name": "stdout",
     "output_type": "stream",
     "text": [
      "Saving to /priv/meggs3/u5708159/SAMI/figs/presentations/lag_2comp_vgas_1_vs_vstar.pdf\n"
     ]
    },
    {
     "name": "stderr",
     "output_type": "stream",
     "text": [
      "/pkg/linux/anaconda-20191122/anaconda3/lib/python3.7/site-packages/matplotlib/colors.py:1110: RuntimeWarning: invalid value encountered in less_equal\n",
      "  mask |= resdat <= 0\n"
     ]
    }
   ],
   "source": [
    "fig = plot2dhistcontours(df_SF_2comp,\n",
    "                         col_y=\"v_*\",\n",
    "                         col_x=\"v_gas (component 1)\",\n",
    "                         col_z=\"count\", log_z=True, \n",
    "                         xmin=-300, xmax=300, \n",
    "                         ymin=-300, ymax=300, \n",
    "                         nbins=50)\n",
    "ax = fig.get_axes()[0]\n",
    "ax.grid()\n",
    "ax.set_xlabel(ax.get_xlabel() + \" (component 1)\")\n",
    "ax.plot([-300, 300], [-300, 300], color=\"k\", lw=2, ls=\"--\")\n",
    "ax.plot([-300, 300], [-300 + 50, 300 + 50], color=\"k\", lw=1, ls=\"--\")\n",
    "ax.plot([-300, 300], [-300 - 50, 300 - 50], color=\"k\", lw=1, ls=\"--\")\n",
    "\n",
    "# Save \n",
    "if savefigs:\n",
    "    fname = os.path.join(fig_path, f\"lag_2comp_vgas_1_vs_vstar.pdf\")\n",
    "    print(f\"Saving to {fname}\")\n",
    "    fig.savefig(fname, bbox_inches=\"tight\", format=\"pdf\")"
   ]
  },
  {
   "cell_type": "code",
   "execution_count": 13,
   "metadata": {
    "scrolled": false
   },
   "outputs": [
    {
     "data": {
      "application/vnd.jupyter.widget-view+json": {
       "model_id": "23123aa4d4de48c0b6ed9ccca2f70709",
       "version_major": 2,
       "version_minor": 0
      },
      "text/plain": [
       "Canvas(toolbar=Toolbar(toolitems=[('Home', 'Reset original view', 'home', 'home'), ('Back', 'Back to previous …"
      ]
     },
     "metadata": {},
     "output_type": "display_data"
    },
    {
     "name": "stderr",
     "output_type": "stream",
     "text": [
      "/pkg/linux/anaconda-20191122/anaconda3/lib/python3.7/site-packages/astropy/visualization/hist.py:72: MatplotlibDeprecationWarning: \n",
      "The 'normed' kwarg was deprecated in Matplotlib 2.1 and will be removed in 3.1. Use 'density' instead.\n",
      "  return ax.hist(x, bins, **kwargs)\n"
     ]
    },
    {
     "name": "stdout",
     "output_type": "stream",
     "text": [
      "File saved at: /priv/meggs3/u5708159/SAMI/figs/presentations/hist_sigma_gas_2comp.pdf\n"
     ]
    },
    {
     "data": {
      "application/vnd.jupyter.widget-view+json": {
       "model_id": "4f7e71b7ad0a4996a872cb9964189c0a",
       "version_major": 2,
       "version_minor": 0
      },
      "text/plain": [
       "Canvas(toolbar=Toolbar(toolitems=[('Home', 'Reset original view', 'home', 'home'), ('Back', 'Back to previous …"
      ]
     },
     "metadata": {},
     "output_type": "display_data"
    },
    {
     "name": "stderr",
     "output_type": "stream",
     "text": [
      "/pkg/linux/anaconda-20191122/anaconda3/lib/python3.7/site-packages/astropy/visualization/hist.py:72: MatplotlibDeprecationWarning: \n",
      "The 'normed' kwarg was deprecated in Matplotlib 2.1 and will be removed in 3.1. Use 'density' instead.\n",
      "  return ax.hist(x, bins, **kwargs)\n"
     ]
    },
    {
     "name": "stdout",
     "output_type": "stream",
     "text": [
      "File saved at: /priv/meggs3/u5708159/SAMI/figs/presentations/hist_v_gas_2comp.pdf\n"
     ]
    },
    {
     "data": {
      "application/vnd.jupyter.widget-view+json": {
       "model_id": "b95638dc7e944aa3a3fcd0eaf96006e3",
       "version_major": 2,
       "version_minor": 0
      },
      "text/plain": [
       "Canvas(toolbar=Toolbar(toolitems=[('Home', 'Reset original view', 'home', 'home'), ('Back', 'Back to previous …"
      ]
     },
     "metadata": {},
     "output_type": "display_data"
    },
    {
     "name": "stderr",
     "output_type": "stream",
     "text": [
      "/pkg/linux/anaconda-20191122/anaconda3/lib/python3.7/site-packages/astropy/visualization/hist.py:72: MatplotlibDeprecationWarning: \n",
      "The 'normed' kwarg was deprecated in Matplotlib 2.1 and will be removed in 3.1. Use 'density' instead.\n",
      "  return ax.hist(x, bins, **kwargs)\n"
     ]
    },
    {
     "name": "stdout",
     "output_type": "stream",
     "text": [
      "File saved at: /priv/meggs3/u5708159/SAMI/figs/presentations/hist_logHaEW_2comp.pdf\n"
     ]
    }
   ],
   "source": [
    "from spaxelsleuth.plotting.plottools import plot_empty_BPT_diagram, vmin_fn, vmax_fn, cmap_fn, label_fn, fname_fn, bpt_labels, bpt_colours, ncomponents_colours, ncomponents_labels, component_colours, component_labels\n",
    "plt.rcParams.update({'font.size': 12})\n",
    "for col in [\"sigma_gas\", \"v_gas\", \"log HALPHA EW\"]:\n",
    "    fig, ax = plt.subplots(nrows=1, ncols=1, figsize=(5, 4))\n",
    "    for nn in range(1, 4):\n",
    "        cond = ~df_SF_2comp[f\"{col} (component {nn})\"].isna()\n",
    "        n_comp = df_SF_2comp[cond].shape[0]\n",
    "        hist(df_SF_2comp[f\"{col} (component {nn})\"], range=(vmin_fn(col), vmax_fn(col)), bins=\"scott\", histtype=\"step\", color=component_colours[nn - 1], ax=ax, normed=True, label=f\"Component {nn} ($N$ = {n_comp})\")\n",
    "    ax.set_xlabel(label_fn(col))\n",
    "    ax.set_ylabel(\"N (normalised)\")\n",
    "    ax.legend(fontsize=10, loc=\"lower center\", bbox_to_anchor=[0.5, 1.05])\n",
    "    ax.grid()\n",
    "    \n",
    "    if savefigs:\n",
    "        fname = os.path.join(fig_path, f\"hist_{fname_fn(col)}_2comp.pdf\")\n",
    "        fig.savefig(fname, bbox_inches=\"tight\", format=\"pdf\")\n",
    "        print(f\"File saved at: {fname}\")\n",
    "\n"
   ]
  },
  {
   "cell_type": "code",
   "execution_count": 16,
   "metadata": {},
   "outputs": [
    {
     "data": {
      "application/vnd.jupyter.widget-view+json": {
       "model_id": "c55228cd495042ea9d8d268efedb9e5f",
       "version_major": 2,
       "version_minor": 0
      },
      "text/plain": [
       "Canvas(toolbar=Toolbar(toolitems=[('Home', 'Reset original view', 'home', 'home'), ('Back', 'Back to previous …"
      ]
     },
     "metadata": {},
     "output_type": "display_data"
    },
    {
     "data": {
      "application/vnd.jupyter.widget-view+json": {
       "model_id": "9396de4eafd14c6d82f27c07dfcb04f2",
       "version_major": 2,
       "version_minor": 0
      },
      "text/plain": [
       "Canvas(toolbar=Toolbar(toolitems=[('Home', 'Reset original view', 'home', 'home'), ('Back', 'Back to previous …"
      ]
     },
     "metadata": {},
     "output_type": "display_data"
    },
    {
     "data": {
      "text/plain": [
       "<matplotlib.axes._subplots.WCSAxesSubplot at 0x7f64a637f950>"
      ]
     },
     "execution_count": 16,
     "metadata": {},
     "output_type": "execute_result"
    }
   ],
   "source": [
    "# Re-make the above plots but overlaid with points from individual galaxies \n",
    "from spaxelsleuth.plotting.plotgalaxies import plot2dscatter\n",
    "fig = plot2dhistcontours(df_SF,\n",
    "                         col_x=\"v_gas (component 1)\",\n",
    "                         col_y=\"v_gas (component 2)\",\n",
    "                         col_z=\"count\", log_z=False, cmap=\"gray_r\", alpha=0.4,\n",
    "                         xmin=-300, xmax=300, \n",
    "                         ymin=-300, ymax=300, \n",
    "                         plot_colorbar=False,\n",
    "                         nbins=50)\n",
    "ax = fig.get_axes()[0]\n",
    " \n",
    "gal = 460374\n",
    "df_gal = df_hq[df_hq[\"catid\"] == gal]\n",
    "_ = plot2dscatter(df_gal, col_x=\"v_gas (component 1)\", col_y=\"v_gas (component 2)\", col_z=\"sigma_gas (component 2)\",\n",
    "                  xmin=-300, xmax=300, ymin=-300, ymax=300, vmax=150,\n",
    "                  plot_colorbar=True,\n",
    "                  ax=ax)\n",
    "\n",
    "# Decorations \n",
    "ax.grid()\n",
    "ax.set_xlabel(ax.get_xlabel() + \" (component 1)\")\n",
    "ax.set_ylabel(ax.get_ylabel() + \" (component 2)\")\n",
    "ax.plot([-300, 300], [-300, 300], color=\"k\", lw=2, ls=\"--\")\n",
    "ax.plot([-300, 300], [0, 0], color=\"k\")\n",
    "ax.plot([0, 0], [-300, 300], color=\"k\")\n",
    "\n",
    "# SDSS image\n",
    "from spaxelsleuth.plotting.sdssimg import plot_sdss_image\n",
    "plot_sdss_image(df_gal)"
   ]
  },
  {
   "cell_type": "code",
   "execution_count": null,
   "metadata": {},
   "outputs": [],
   "source": []
  }
 ],
 "metadata": {
  "kernelspec": {
   "display_name": "Python 3",
   "language": "python",
   "name": "python3"
  },
  "language_info": {
   "codemirror_mode": {
    "name": "ipython",
    "version": 3
   },
   "file_extension": ".py",
   "mimetype": "text/x-python",
   "name": "python",
   "nbconvert_exporter": "python",
   "pygments_lexer": "ipython3",
   "version": "3.7.4"
  }
 },
 "nbformat": 4,
 "nbformat_minor": 2
}
