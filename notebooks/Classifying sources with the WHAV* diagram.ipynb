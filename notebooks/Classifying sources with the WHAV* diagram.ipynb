{
 "cells": [
  {
   "cell_type": "markdown",
   "metadata": {},
   "source": [
    "# How cleanly are different spectral categories separated in the WHAV* diagram? Can we come up with clean dividing lines that can be used for reliable spectral classification based only on the H$\\alpha$ EW and $\\sigma_{\\rm gas} - \\sigma_*$?\n",
    "---\n",
    "Like Lisa suggested: given a set of boundaries in the WHAV* diagram, what % of BPT-classified star-forming spaxels lie within those boundaries, etc.? \n",
    "\n",
    "In here:\n",
    "1. Recreate Fig. 15 from the paper draft, but with each spectral classification shown separately (classification based on *total* emission line fluxes)\n",
    "2. Repeat the above, but with the emission line fluxes from *individual components*. Idea: put all 3 components in 1 diagram to make larger samples. "
   ]
  },
  {
   "cell_type": "code",
   "execution_count": 127,
   "metadata": {},
   "outputs": [],
   "source": [
    "%matplotlib widget"
   ]
  },
  {
   "cell_type": "code",
   "execution_count": 128,
   "metadata": {},
   "outputs": [],
   "source": [
    "# Imports\n",
    "import sys\n",
    "import os \n",
    "import numpy as np\n",
    "import pandas as pd\n",
    "from astropy.visualization import hist\n",
    "\n",
    "from spaxelsleuth.loaddata.lzifu import load_lzifu_galaxies\n",
    "from spaxelsleuth.loaddata.sami import load_sami_galaxies\n",
    "from spaxelsleuth.plotting.plottools import plot_empty_BPT_diagram\n",
    "from spaxelsleuth.plotting.plottools import vmin_fn, vmax_fn, label_fn, cmap_fn\n",
    "from spaxelsleuth.plotting.plottools import bpt_colours, bpt_labels, bpt_ticks\n",
    "from spaxelsleuth.plotting.plottools import morph_labels, morph_ticks\n",
    "from spaxelsleuth.plotting.plottools import ncomponents_labels, ncomponents_colours\n",
    "from spaxelsleuth.plotting.plottools import component_labels, component_colours\n",
    "from spaxelsleuth.plotting.plotgalaxies import plot2dhistcontours, plot2dscatter, plot2dcontours\n",
    "\n",
    "import matplotlib\n",
    "from matplotlib import rc, rcParams\n",
    "import matplotlib.pyplot as plt\n",
    "from matplotlib.backends.backend_pdf import PdfPages\n",
    "\n",
    "rc(\"text\", usetex=False)\n",
    "rc(\"font\",**{\"family\": \"serif\", \"size\": 14})\n",
    "rcParams[\"savefig.bbox\"] = \"tight\"\n",
    "rcParams[\"savefig.format\"] = \"pdf\"\n",
    "plt.ion()\n",
    "plt.close(\"all\")\n"
   ]
  },
  {
   "cell_type": "code",
   "execution_count": 129,
   "metadata": {},
   "outputs": [],
   "source": [
    "# Options\n",
    "fig_path = \"/priv/meggs3/u5708159/SAMI/figs/full_sample/\"\n",
    "savefigs = False\n",
    "bin_type = \"default\"    # Options: \"default\" or \"adaptive\" for Voronoi binning\n",
    "ncomponents = \"recom\"   # Options: \"1\" or \"recom\"\n",
    "eline_SNR_min = 3       # Minimum S/N of emission lines to accept\n"
   ]
  },
  {
   "cell_type": "code",
   "execution_count": 130,
   "metadata": {},
   "outputs": [
    {
     "name": "stderr",
     "output_type": "stream",
     "text": [
      "/pkg/linux/anaconda-20191122/anaconda3/lib/python3.7/site-packages/pandas/core/indexing.py:376: SettingWithCopyWarning: \n",
      "A value is trying to be set on a copy of a slice from a DataFrame.\n",
      "Try using .loc[row_indexer,col_indexer] = value instead\n",
      "\n",
      "See the caveats in the documentation: http://pandas.pydata.org/pandas-docs/stable/user_guide/indexing.html#returning-a-view-versus-a-copy\n",
      "  self.obj[key] = _infer_fill_value(value)\n",
      "/pkg/linux/anaconda-20191122/anaconda3/lib/python3.7/site-packages/pandas/core/indexing.py:494: SettingWithCopyWarning: \n",
      "A value is trying to be set on a copy of a slice from a DataFrame.\n",
      "Try using .loc[row_indexer,col_indexer] = value instead\n",
      "\n",
      "See the caveats in the documentation: http://pandas.pydata.org/pandas-docs/stable/user_guide/indexing.html#returning-a-view-versus-a-copy\n",
      "  self.obj[item] = s\n",
      "/pkg/linux/anaconda-20191122/anaconda3/lib/python3.7/site-packages/pandas/core/series.py:853: RuntimeWarning: invalid value encountered in log10\n",
      "  result = getattr(ufunc, method)(*inputs, **kwargs)\n"
     ]
    },
    {
     "name": "stdout",
     "output_type": "stream",
     "text": [
      "WARNING: in load_sami_galaxies: NOT correcting Halpha and HALPHA EW for extinction!\n"
     ]
    }
   ],
   "source": [
    "# Load the sample\n",
    "df = load_sami_galaxies(ncomponents=ncomponents,\n",
    "                        bin_type=bin_type,\n",
    "                        eline_SNR_min=eline_SNR_min, \n",
    "                        vgrad_cut=False,\n",
    "                        correct_extinction=False,\n",
    "                        sigma_gas_SNR_cut=True)"
   ]
  },
  {
   "cell_type": "code",
   "execution_count": 131,
   "metadata": {},
   "outputs": [
    {
     "name": "stdout",
     "output_type": "stream",
     "text": [
      "Loading LZIFU DataFrame for all galaxies in the LZIFU subsample...\n"
     ]
    },
    {
     "name": "stderr",
     "output_type": "stream",
     "text": [
      "/pkg/linux/anaconda-20191122/anaconda3/lib/python3.7/site-packages/pandas/core/series.py:853: RuntimeWarning: divide by zero encountered in log10\n",
      "  result = getattr(ufunc, method)(*inputs, **kwargs)\n",
      "/home/u5708159/python/Modules/spaxelsleuth/loaddata/linefns.py:78: RuntimeWarning: invalid value encountered in add\n",
      "  return -0.943 * ratio_y_vals**4 - 0.450 * ratio_y_vals**3 + 0.408 * ratio_y_vals**2 - 0.610 * ratio_y_vals - 0.025\n"
     ]
    },
    {
     "name": "stdout",
     "output_type": "stream",
     "text": [
      "WARNING: in load_lzifu_galaxy: NOT correcting Halpha and HALPHA EW for extinction!\n"
     ]
    }
   ],
   "source": [
    "# Load the LZIFU galaxies\n",
    "df_lzifu = load_lzifu_galaxies(ncomponents=ncomponents,\n",
    "                              bin_type=bin_type,\n",
    "                              eline_SNR_min=eline_SNR_min, \n",
    "                              vgrad_cut=False,\n",
    "                              correct_extinction=False,\n",
    "                              sigma_gas_SNR_cut=True)        \n"
   ]
  },
  {
   "cell_type": "code",
   "execution_count": 132,
   "metadata": {},
   "outputs": [],
   "source": [
    "# Plot settings\n",
    "col_x = \"sigma_gas - sigma_*\"\n",
    "col_y = \"log HALPHA EW\"\n",
    "nbins = 100\n",
    "\n",
    "# Spectral categories\n",
    "cats = [\"SF\", \"Composite\", \"Ambiguous\", \"Seyfert\", \"LINER\", \"Not classified\"]\n"
   ]
  },
  {
   "cell_type": "markdown",
   "metadata": {},
   "source": [
    "## Classification based on *total* fluxes: WHAV* diagrams\n",
    "---"
   ]
  },
  {
   "cell_type": "code",
   "execution_count": 133,
   "metadata": {
    "scrolled": true
   },
   "outputs": [
    {
     "data": {
      "application/vnd.jupyter.widget-view+json": {
       "model_id": "320209caf91a4984bfebf98356ff7ba7",
       "version_major": 2,
       "version_minor": 0
      },
      "text/plain": [
       "Canvas(toolbar=Toolbar(toolitems=[('Home', 'Reset original view', 'home', 'home'), ('Back', 'Back to previous …"
      ]
     },
     "metadata": {},
     "output_type": "display_data"
    }
   ],
   "source": [
    "###############################################################################\n",
    "# WHAV diagram (hist) - spectral classification (all together)\n",
    "###############################################################################\n",
    "col_z = \"BPT (numeric) (total)\"\n",
    "\n",
    "# Create figure\n",
    "fig, axs = plt.subplots(nrows=1, ncols=3, figsize=(5 * 3, 5))\n",
    "fig.subplots_adjust(wspace=0)\n",
    "bbox = axs[-1].get_position()\n",
    "cax = fig.add_axes([bbox.x0 + bbox.width, bbox.y0, 0.03, bbox.height])\n",
    "\n",
    "# recom components\n",
    "for ii in range(3):\n",
    "    plot2dhistcontours(df, col_x=f\"{col_x} (component {ii})\",\n",
    "                          col_y=f\"{col_y} (component {ii})\",\n",
    "                          col_z=f\"{col_z} (component {ii})\" if f\"{col_z} (component {ii})\" in df else col_z,\n",
    "                          alpha=1.0, ax=axs[ii], cax=cax, nbins=nbins,\n",
    "                          linewidths=0.5,\n",
    "                          contours=True, hist=True, colors=\"white\",\n",
    "                          plot_colorbar=True if ii == 3 - 1 else False)\n",
    "    # Decorations\n",
    "    axs[ii].grid()\n",
    "    axs[ii].set_ylabel(\"\") if ii > 0 else None\n",
    "    axs[ii].set_yticklabels([]) if ii > 0 else None\n",
    "    axs[ii].set_title(component_labels[ii])\n",
    "        "
   ]
  },
  {
   "cell_type": "code",
   "execution_count": 134,
   "metadata": {
    "scrolled": false
   },
   "outputs": [
    {
     "data": {
      "application/vnd.jupyter.widget-view+json": {
       "model_id": "60ed113080ea4d2698b223e7d5256bde",
       "version_major": 2,
       "version_minor": 0
      },
      "text/plain": [
       "Canvas(toolbar=Toolbar(toolitems=[('Home', 'Reset original view', 'home', 'home'), ('Back', 'Back to previous …"
      ]
     },
     "metadata": {},
     "output_type": "display_data"
    },
    {
     "data": {
      "application/vnd.jupyter.widget-view+json": {
       "model_id": "c26ecd00120342bdaf6b8fd1d49da93e",
       "version_major": 2,
       "version_minor": 0
      },
      "text/plain": [
       "Canvas(toolbar=Toolbar(toolitems=[('Home', 'Reset original view', 'home', 'home'), ('Back', 'Back to previous …"
      ]
     },
     "metadata": {},
     "output_type": "display_data"
    },
    {
     "data": {
      "application/vnd.jupyter.widget-view+json": {
       "model_id": "ef33661fbd074af085a4db3c0fd301f5",
       "version_major": 2,
       "version_minor": 0
      },
      "text/plain": [
       "Canvas(toolbar=Toolbar(toolitems=[('Home', 'Reset original view', 'home', 'home'), ('Back', 'Back to previous …"
      ]
     },
     "metadata": {},
     "output_type": "display_data"
    },
    {
     "data": {
      "application/vnd.jupyter.widget-view+json": {
       "model_id": "88c22a73f8824515992254f95b7c5ac9",
       "version_major": 2,
       "version_minor": 0
      },
      "text/plain": [
       "Canvas(toolbar=Toolbar(toolitems=[('Home', 'Reset original view', 'home', 'home'), ('Back', 'Back to previous …"
      ]
     },
     "metadata": {},
     "output_type": "display_data"
    },
    {
     "data": {
      "application/vnd.jupyter.widget-view+json": {
       "model_id": "484c9cff1f8c45f6bc9c443ae695d69c",
       "version_major": 2,
       "version_minor": 0
      },
      "text/plain": [
       "Canvas(toolbar=Toolbar(toolitems=[('Home', 'Reset original view', 'home', 'home'), ('Back', 'Back to previous …"
      ]
     },
     "metadata": {},
     "output_type": "display_data"
    },
    {
     "data": {
      "application/vnd.jupyter.widget-view+json": {
       "model_id": "27487fc46fc348c69586634ccc9c00d7",
       "version_major": 2,
       "version_minor": 0
      },
      "text/plain": [
       "Canvas(toolbar=Toolbar(toolitems=[('Home', 'Reset original view', 'home', 'home'), ('Back', 'Back to previous …"
      ]
     },
     "metadata": {},
     "output_type": "display_data"
    }
   ],
   "source": [
    "###############################################################################\n",
    "# WHAV diagram (hist) - spectral classification (individually)\n",
    "###############################################################################\n",
    "for cat in cats:\n",
    "    df_subset = df.loc[df[\"BPT (total)\"] == cat]\n",
    "    \n",
    "    # Create figure\n",
    "    fig, axs = plt.subplots(nrows=1, ncols=3, figsize=(5 * 3, 5))\n",
    "    fig.subplots_adjust(wspace=0)\n",
    "    bbox = axs[-1].get_position()\n",
    "    cax = fig.add_axes([bbox.x0 + bbox.width, bbox.y0, 0.03, bbox.height])\n",
    "\n",
    "    # recom components\n",
    "    for ii in range(3):\n",
    "        plot2dhistcontours(df_subset, \n",
    "                           col_x=f\"{col_x} (component {ii})\",\n",
    "                           col_y=f\"{col_y} (component {ii})\",\n",
    "                           col_z=\"count\", log_z=True,\n",
    "                           alpha=1.0, ax=axs[ii], cax=cax, nbins=nbins,\n",
    "                           linewidths=0.5,\n",
    "                           contours=True, hist=True, colors=\"white\",\n",
    "                           plot_colorbar=True if ii == 3 - 1 else False)\n",
    "        # Decorations\n",
    "        axs[ii].grid()\n",
    "        axs[ii].set_ylabel(\"\") if ii > 0 else None\n",
    "        axs[ii].set_yticklabels([]) if ii > 0 else None\n",
    "        axs[ii].set_title(component_labels[ii])\n",
    "        fig.suptitle(cat)\n"
   ]
  },
  {
   "cell_type": "markdown",
   "metadata": {},
   "source": [
    "## Classification based on *individual* fluxes: WHAV* diagrams\n",
    "---"
   ]
  },
  {
   "cell_type": "code",
   "execution_count": 135,
   "metadata": {
    "scrolled": false
   },
   "outputs": [
    {
     "data": {
      "application/vnd.jupyter.widget-view+json": {
       "model_id": "51d9adc645ca4b9ea5c84886a195db8f",
       "version_major": 2,
       "version_minor": 0
      },
      "text/plain": [
       "Canvas(toolbar=Toolbar(toolitems=[('Home', 'Reset original view', 'home', 'home'), ('Back', 'Back to previous …"
      ]
     },
     "metadata": {},
     "output_type": "display_data"
    }
   ],
   "source": [
    "###############################################################################\n",
    "# WHAV diagram (hist) - LZIFU - spectral classification\n",
    "###############################################################################\n",
    "col_z = \"BPT (numeric)\"\n",
    "\n",
    "# Create figure\n",
    "fig, axs = plt.subplots(nrows=1, ncols=3, figsize=(5 * 3, 5))\n",
    "fig.subplots_adjust(wspace=0)\n",
    "bbox = axs[-1].get_position()\n",
    "cax = fig.add_axes([bbox.x0 + bbox.width, bbox.y0, 0.03, bbox.height])\n",
    "\n",
    "# recom components\n",
    "for ii in range(3):\n",
    "    plot2dhistcontours(df_lzifu, col_x=f\"{col_x} (component {ii})\",\n",
    "                          col_y=f\"{col_y} (component {ii})\",\n",
    "                          col_z=f\"{col_z} (component {ii})\" if f\"{col_z} (component {ii})\" in df_lzifu else col_z,\n",
    "                          alpha=1.0, ax=axs[ii], cax=cax, nbins=nbins,\n",
    "                          linewidths=0.5,\n",
    "                          contours=True, hist=True, colors=\"white\",\n",
    "                          plot_colorbar=True if ii == 3 - 1 else False)\n",
    "    \n",
    "    # Decorations\n",
    "    axs[ii].grid()\n",
    "    axs[ii].set_ylabel(\"\") if ii > 0 else None\n",
    "    axs[ii].set_yticklabels([]) if ii > 0 else None\n",
    "    axs[ii].set_title(component_labels[ii])\n",
    "        "
   ]
  },
  {
   "cell_type": "code",
   "execution_count": 136,
   "metadata": {
    "scrolled": true
   },
   "outputs": [
    {
     "data": {
      "application/vnd.jupyter.widget-view+json": {
       "model_id": "7682caace2fb4da88778fea416266169",
       "version_major": 2,
       "version_minor": 0
      },
      "text/plain": [
       "Canvas(toolbar=Toolbar(toolitems=[('Home', 'Reset original view', 'home', 'home'), ('Back', 'Back to previous …"
      ]
     },
     "metadata": {},
     "output_type": "display_data"
    },
    {
     "data": {
      "application/vnd.jupyter.widget-view+json": {
       "model_id": "199febaedbfa4a308c32f987a63f3adf",
       "version_major": 2,
       "version_minor": 0
      },
      "text/plain": [
       "Canvas(toolbar=Toolbar(toolitems=[('Home', 'Reset original view', 'home', 'home'), ('Back', 'Back to previous …"
      ]
     },
     "metadata": {},
     "output_type": "display_data"
    },
    {
     "data": {
      "application/vnd.jupyter.widget-view+json": {
       "model_id": "190427686e22401eb2c89184a5ac0b48",
       "version_major": 2,
       "version_minor": 0
      },
      "text/plain": [
       "Canvas(toolbar=Toolbar(toolitems=[('Home', 'Reset original view', 'home', 'home'), ('Back', 'Back to previous …"
      ]
     },
     "metadata": {},
     "output_type": "display_data"
    },
    {
     "data": {
      "application/vnd.jupyter.widget-view+json": {
       "model_id": "4d6181bbb87e4e099dcaa92327df00fb",
       "version_major": 2,
       "version_minor": 0
      },
      "text/plain": [
       "Canvas(toolbar=Toolbar(toolitems=[('Home', 'Reset original view', 'home', 'home'), ('Back', 'Back to previous …"
      ]
     },
     "metadata": {},
     "output_type": "display_data"
    },
    {
     "data": {
      "application/vnd.jupyter.widget-view+json": {
       "model_id": "48355f8fc6de4881b3dfa88846f8982d",
       "version_major": 2,
       "version_minor": 0
      },
      "text/plain": [
       "Canvas(toolbar=Toolbar(toolitems=[('Home', 'Reset original view', 'home', 'home'), ('Back', 'Back to previous …"
      ]
     },
     "metadata": {},
     "output_type": "display_data"
    },
    {
     "data": {
      "application/vnd.jupyter.widget-view+json": {
       "model_id": "b149bb735b2b4d83b5f0f5eb1aeaedc1",
       "version_major": 2,
       "version_minor": 0
      },
      "text/plain": [
       "Canvas(toolbar=Toolbar(toolitems=[('Home', 'Reset original view', 'home', 'home'), ('Back', 'Back to previous …"
      ]
     },
     "metadata": {},
     "output_type": "display_data"
    }
   ],
   "source": [
    "###############################################################################\n",
    "# WHAV diagram (hist) - LZIFU - spectral classification (individually)\n",
    "###############################################################################\n",
    "\n",
    "for cat in cats:\n",
    "    \n",
    "    # Create figure\n",
    "    fig, axs = plt.subplots(nrows=1, ncols=3, figsize=(5 * 3, 5))\n",
    "    fig.subplots_adjust(wspace=0)\n",
    "    bbox = axs[-1].get_position()\n",
    "    cax = fig.add_axes([bbox.x0 + bbox.width, bbox.y0, 0.03, bbox.height])\n",
    "\n",
    "    # recom components\n",
    "    for ii in range(3):\n",
    "        df_subset = df_lzifu.loc[df_lzifu[f\"BPT (component {ii})\"] == cat]\n",
    "        if df_subset.shape[0] > 0:\n",
    "            plot2dhistcontours(df_subset, \n",
    "                               col_x=f\"{col_x} (component {ii})\",\n",
    "                               col_y=f\"{col_y} (component {ii})\",\n",
    "                               col_z=\"count\", log_z=True,\n",
    "                               alpha=1.0, ax=axs[ii], cax=cax, nbins=nbins,\n",
    "                               linewidths=0.5,\n",
    "                               contours=True, hist=True, colors=\"white\",\n",
    "                               plot_colorbar=True if ii == 3 - 1 else False)\n",
    "            # Decorations\n",
    "            axs[ii].grid()\n",
    "            axs[ii].set_ylabel(\"\") if ii > 0 else None\n",
    "            axs[ii].set_yticklabels([]) if ii > 0 else None\n",
    "            axs[ii].set_title(component_labels[ii])\n",
    "            fig.suptitle(cat)\n"
   ]
  },
  {
   "cell_type": "markdown",
   "metadata": {},
   "source": [
    "## Making a monster DataFrame containing the *individual* fluxes from our LZIFU fits plus the single-component spaxels from SAMI \n",
    "---"
   ]
  },
  {
   "cell_type": "code",
   "execution_count": 137,
   "metadata": {},
   "outputs": [],
   "source": [
    "#//////////////////////////////////////////////////////////////////////////////\n",
    "# 1-component spaxels from SAMI\n",
    "df_1comp = df[df[\"Number of components\"] == 1]\n",
    "\n",
    "# Need to rename the BPT classifcation from \"total\" to \"component 0\" to be consistent with the labelling in the LZIFU DataFrame\n",
    "df_1comp = df_1comp.rename(columns={\n",
    "    \"BPT (total)\": \"BPT (component 0)\",\n",
    "    \"BPT (numeric) (total)\": \"BPT (numeric) (component 0)\"\n",
    "})\n",
    "\n",
    "# Drop bad rows\n",
    "df_1comp.loc[:, \"Good?\"] = ~df_1comp[f\"{col_x} (component 0)\"].isna() & ~df_1comp[f\"{col_y} (component 0)\"].isna()\n",
    "cond = df_1comp[\"Good?\"] == 1.0\n",
    "df_1comp = df_1comp[cond]\n"
   ]
  },
  {
   "cell_type": "code",
   "execution_count": 138,
   "metadata": {},
   "outputs": [
    {
     "name": "stdout",
     "output_type": "stream",
     "text": [
      "        sigma_gas - sigma_* (component 0)  sigma_gas - sigma_* (component 1)  \\\n",
      "141                            -39.987221                                NaN   \n",
      "169                            -51.355183                          92.029160   \n",
      "1081                           -93.161389                                NaN   \n",
      "1171                           -39.273698                                NaN   \n",
      "1522                           -56.981917                                NaN   \n",
      "...                                   ...                                ...   \n",
      "100562                        -124.450676                         -59.869867   \n",
      "100609                        -115.587561                         -54.413210   \n",
      "100708                         -95.485535                         -39.113602   \n",
      "100506                         -77.352871                         -22.403125   \n",
      "100952                        -123.300015                        -111.607713   \n",
      "\n",
      "        sigma_gas - sigma_* (component 2)  \n",
      "141                                   NaN  \n",
      "169                                   NaN  \n",
      "1081                                  NaN  \n",
      "1171                                  NaN  \n",
      "1522                                  NaN  \n",
      "...                                   ...  \n",
      "100562                         159.349249  \n",
      "100609                         178.208913  \n",
      "100708                         212.162910  \n",
      "100506                         296.309544  \n",
      "100952                          26.502418  \n",
      "\n",
      "[109654 rows x 3 columns]\n",
      "---------------------------------------------------\n",
      "141       -39.987221\n",
      "169       -51.355183\n",
      "1081      -93.161389\n",
      "1171      -39.273698\n",
      "1522      -56.981917\n",
      "             ...    \n",
      "100562   -124.450676\n",
      "100609   -115.587561\n",
      "100708    -95.485535\n",
      "100506    -77.352871\n",
      "100952   -123.300015\n",
      "Name: sigma_gas - sigma_* (component 0), Length: 109654, dtype: float64\n",
      "---------------------------------------------------\n",
      "141       -39.987221\n",
      "169       -51.355183\n",
      "1081      -93.161389\n",
      "1171      -39.273698\n",
      "1522      -56.981917\n",
      "             ...    \n",
      "100562   -124.450676\n",
      "100609   -115.587561\n",
      "100708    -95.485535\n",
      "100506    -77.352871\n",
      "100952   -123.300015\n",
      "Name: sigma_gas - sigma_* (component 0), Length: 109654, dtype: float64\n",
      "---------------------------------------------------\n",
      "141       -39.987221\n",
      "169       -51.355183\n",
      "1081      -93.161389\n",
      "1171      -39.273698\n",
      "1522      -56.981917\n",
      "             ...    \n",
      "100562   -124.450676\n",
      "100609   -115.587561\n",
      "100708    -95.485535\n",
      "100506    -77.352871\n",
      "100952   -123.300015\n",
      "Name: sigma_gas - sigma_* (component 0), Length: 109654, dtype: float64\n",
      "        sigma_gas - sigma_* (component 0)  sigma_gas - sigma_* (component 1)  \\\n",
      "169                            -51.355183                          92.029160   \n",
      "2135                           -32.347584                          -6.172378   \n",
      "2164                           -17.819646                          -2.509878   \n",
      "2351                           -66.675044                         -41.102333   \n",
      "2821                           -31.018482                           6.336304   \n",
      "...                                   ...                                ...   \n",
      "100562                        -124.450676                         -59.869867   \n",
      "100609                        -115.587561                         -54.413210   \n",
      "100708                         -95.485535                         -39.113602   \n",
      "100506                         -77.352871                         -22.403125   \n",
      "100952                        -123.300015                        -111.607713   \n",
      "\n",
      "        sigma_gas - sigma_* (component 2)  \n",
      "169                                   NaN  \n",
      "2135                                  NaN  \n",
      "2164                                  NaN  \n",
      "2351                                  NaN  \n",
      "2821                                  NaN  \n",
      "...                                   ...  \n",
      "100562                         159.349249  \n",
      "100609                         178.208913  \n",
      "100708                         212.162910  \n",
      "100506                         296.309544  \n",
      "100952                          26.502418  \n",
      "\n",
      "[20394 rows x 3 columns]\n",
      "---------------------------------------------------\n",
      "169        92.029160\n",
      "2135       -6.172378\n",
      "2164       -2.509878\n",
      "2351      -41.102333\n",
      "2821        6.336304\n",
      "             ...    \n",
      "100562    -59.869867\n",
      "100609    -54.413210\n",
      "100708    -39.113602\n",
      "100506    -22.403125\n",
      "100952   -111.607713\n",
      "Name: sigma_gas - sigma_* (component 1), Length: 20394, dtype: float64\n",
      "---------------------------------------------------\n",
      "169        92.029160\n",
      "2135       -6.172378\n",
      "2164       -2.509878\n",
      "2351      -41.102333\n",
      "2821        6.336304\n",
      "             ...    \n",
      "100562    -59.869867\n",
      "100609    -54.413210\n",
      "100708    -39.113602\n",
      "100506    -22.403125\n",
      "100952   -111.607713\n",
      "Name: sigma_gas - sigma_* (component 0), Length: 20394, dtype: float64\n",
      "---------------------------------------------------\n",
      "141       -39.987221\n",
      "169       -51.355183\n",
      "1081      -93.161389\n",
      "1171      -39.273698\n",
      "1522      -56.981917\n",
      "             ...    \n",
      "100562    -59.869867\n",
      "100609    -54.413210\n",
      "100708    -39.113602\n",
      "100506    -22.403125\n",
      "100952   -111.607713\n",
      "Name: sigma_gas - sigma_* (component 0), Length: 130048, dtype: float64\n",
      "        sigma_gas - sigma_* (component 0)  sigma_gas - sigma_* (component 1)  \\\n",
      "2977                           -38.937409                          -7.603815   \n",
      "3482                           -46.626058                         -37.756908   \n",
      "3528                           -40.002999                         -23.007065   \n",
      "3530                           -33.556576                         -27.050518   \n",
      "3582                           -65.509948                         -65.028697   \n",
      "...                                   ...                                ...   \n",
      "100562                        -124.450676                         -59.869867   \n",
      "100609                        -115.587561                         -54.413210   \n",
      "100708                         -95.485535                         -39.113602   \n",
      "100506                         -77.352871                         -22.403125   \n",
      "100952                        -123.300015                        -111.607713   \n",
      "\n",
      "        sigma_gas - sigma_* (component 2)  \n",
      "2977                            58.876383  \n",
      "3482                            17.498658  \n",
      "3528                            12.418621  \n",
      "3530                            23.455108  \n",
      "3582                           -22.431918  \n",
      "...                                   ...  \n",
      "100562                         159.349249  \n",
      "100609                         178.208913  \n",
      "100708                         212.162910  \n",
      "100506                         296.309544  \n",
      "100952                          26.502418  \n",
      "\n",
      "[2184 rows x 3 columns]\n",
      "---------------------------------------------------\n",
      "2977       58.876383\n",
      "3482       17.498658\n",
      "3528       12.418621\n",
      "3530       23.455108\n",
      "3582      -22.431918\n",
      "             ...    \n",
      "100562    159.349249\n",
      "100609    178.208913\n",
      "100708    212.162910\n",
      "100506    296.309544\n",
      "100952     26.502418\n",
      "Name: sigma_gas - sigma_* (component 2), Length: 2184, dtype: float64\n",
      "---------------------------------------------------\n",
      "2977       58.876383\n",
      "3482       17.498658\n",
      "3528       12.418621\n",
      "3530       23.455108\n",
      "3582      -22.431918\n",
      "             ...    \n",
      "100562    159.349249\n",
      "100609    178.208913\n",
      "100708    212.162910\n",
      "100506    296.309544\n",
      "100952     26.502418\n",
      "Name: sigma_gas - sigma_* (component 0), Length: 2184, dtype: float64\n",
      "---------------------------------------------------\n",
      "141       -39.987221\n",
      "169       -51.355183\n",
      "1081      -93.161389\n",
      "1171      -39.273698\n",
      "1522      -56.981917\n",
      "             ...    \n",
      "100562    159.349249\n",
      "100609    178.208913\n",
      "100708    212.162910\n",
      "100506    296.309544\n",
      "100952     26.502418\n",
      "Name: sigma_gas - sigma_* (component 0), Length: 132232, dtype: float64\n"
     ]
    }
   ],
   "source": [
    "#//////////////////////////////////////////////////////////////////////////////\n",
    "# Make a copy of the LZIFU data frame where the fluxes/classifications for \n",
    "# all components are stored in \"component 0\"\n",
    "df_lzifu_comp0 = None\n",
    "for ii in [0, 1, 2]:\n",
    "    df_this_component = df_lzifu[~df_lzifu[f\"sigma_gas - sigma_* (component {ii})\"].isna()]\n",
    "    print(df_this_component[print_cols])\n",
    "    \n",
    "    # Drop all columns that are NOT this component\n",
    "    other_components = [cc for cc in [0, 1, 2] if cc != ii]\n",
    "    cols_to_drop = [c for c in df_this_component.columns if f\"(total)\" in c]\n",
    "    for cc in other_components:\n",
    "        cols_to_drop += [c for c in df_this_component.columns if f\"(component {cc})\" in c]\n",
    "    df_this_component = df_this_component.drop(columns=cols_to_drop)\n",
    "    print(\"---------------------------------------------------\")\n",
    "    print(df_this_component[f\"sigma_gas - sigma_* (component {ii})\"])\n",
    "\n",
    "    # Rename columns to have suffix \"component 0\"\n",
    "    if ii != 0:\n",
    "        cols_to_rename = [c for c in df_this_component.columns if c.endswith(f\"(component {ii})\")]\n",
    "        new_col_names = [c.split(f\"(component {ii})\")[0] + \"(component 0)\" for c in cols_to_rename]\n",
    "        rename_dict = dict(zip(cols_to_rename, new_col_names))\n",
    "        df_this_component = df_this_component.rename(columns=rename_dict)\n",
    "    print(\"---------------------------------------------------\")\n",
    "    print(df_this_component[f\"sigma_gas - sigma_* (component 0)\"])\n",
    "\n",
    "    # Merge \n",
    "    if df_lzifu_comp0 is None:\n",
    "        df_lzifu_comp0 = df_this_component.copy()\n",
    "    else:\n",
    "        df_lzifu_comp0 = df_lzifu_comp0.append(df_this_component)\n",
    "    print(\"---------------------------------------------------\")\n",
    "    print(df_lzifu_comp0[f\"sigma_gas - sigma_* (component 0)\"])\n",
    "\n",
    "# Drop bad rows\n",
    "df_lzifu_comp0.loc[:, \"Good?\"] = ~df_lzifu_comp0[f\"{col_x} (component 0)\"].isna() & ~df_lzifu_comp0[f\"{col_y} (component 0)\"].isna()\n",
    "cond = df_lzifu_comp0[\"Good?\"] == 1.0\n",
    "df_lzifu_comp0 = df_lzifu_comp0[cond]"
   ]
  },
  {
   "cell_type": "code",
   "execution_count": 139,
   "metadata": {},
   "outputs": [],
   "source": [
    "#//////////////////////////////////////////////////////////////////////////////\n",
    "# Merge \n",
    "# Need to avoid double-counting spaxels... \n",
    "# Find common galaxies and remove these from the SAMI 1-comp data frame \n",
    "lzifu_galaxies = df_lzifu_comp0.catid.unique()\n",
    "sami_galaxies = df_1comp.catid.unique()\n",
    "common_galaxies = [g for g in lzifu_galaxies if g in sami_galaxies]\n",
    "lzifu_only_galaxies = [g for g in lzifu_galaxies if g not in sami_galaxies]\n",
    "\n",
    "# Remove the common galaxies from the SAMI data frame\n",
    "rows_to_drop = df_1comp.catid.isin(common_galaxies)\n",
    "df_1comp_dropped = df_1comp.drop(rows_to_drop[rows_to_drop].index)\n",
    "\n",
    "# Check\n",
    "assert len([g for g in gals_1comp_only if g in lzifu_galaxies]) == 0,\\\n",
    "    \"ERROR: there are galaxies in the 1-component SAMI data set that are also in the LZIFU data set!\"\n",
    "assert np.all(df_lzifu_comp0[\"Good?\"].values),\\\n",
    "    \"ERROR: there are 'bad' rows in df_lzifu_comp0!\"\n",
    "assert np.all(df_1comp_dropped[\"Good?\"].values),\\\n",
    "    \"ERROR: there are 'bad' rows in df_lzifu_comp0!\"\n",
    "\n",
    "# Now, merge \n",
    "df_1comp_dropped[\"Source\"] = \"SAMI data set (1-comp only)\"\n",
    "df_lzifu_comp0[\"Source\"] = \"LZIFU fits (multi-comp)\"\n",
    "df_merged = df_lzifu_comp0.append(df_1comp_dropped)\n"
   ]
  },
  {
   "cell_type": "code",
   "execution_count": 140,
   "metadata": {
    "scrolled": true
   },
   "outputs": [
    {
     "data": {
      "text/plain": [
       "417     27.698055\n",
       "417     38.059116\n",
       "417    137.994431\n",
       "Name: sigma_gas (component 0), dtype: float64"
      ]
     },
     "execution_count": 140,
     "metadata": {},
     "output_type": "execute_result"
    }
   ],
   "source": [
    "# Check! \n",
    "cond = df_merged[\"catid\"] == 491956\n",
    "cond &= df_merged[\"x (projected, arcsec)\"] == 12\n",
    "cond &= df_merged[\"y (projected, arcsec)\"] == 12\n",
    "df_merged[cond][\"sigma_gas (component 0)\"]"
   ]
  },
  {
   "cell_type": "code",
   "execution_count": 141,
   "metadata": {},
   "outputs": [
    {
     "data": {
      "text/html": [
       "<div>\n",
       "<style scoped>\n",
       "    .dataframe tbody tr th:only-of-type {\n",
       "        vertical-align: middle;\n",
       "    }\n",
       "\n",
       "    .dataframe tbody tr th {\n",
       "        vertical-align: top;\n",
       "    }\n",
       "\n",
       "    .dataframe thead th {\n",
       "        text-align: right;\n",
       "    }\n",
       "</style>\n",
       "<table border=\"1\" class=\"dataframe\">\n",
       "  <thead>\n",
       "    <tr style=\"text-align: right;\">\n",
       "      <th></th>\n",
       "      <th>sigma_gas (component 0)</th>\n",
       "      <th>sigma_gas (component 1)</th>\n",
       "      <th>sigma_gas (component 2)</th>\n",
       "    </tr>\n",
       "  </thead>\n",
       "  <tbody>\n",
       "    <tr>\n",
       "      <td>417</td>\n",
       "      <td>27.698055</td>\n",
       "      <td>38.059116</td>\n",
       "      <td>137.994431</td>\n",
       "    </tr>\n",
       "  </tbody>\n",
       "</table>\n",
       "</div>"
      ],
      "text/plain": [
       "     sigma_gas (component 0)  sigma_gas (component 1)  sigma_gas (component 2)\n",
       "417                27.698055                38.059116               137.994431"
      ]
     },
     "execution_count": 141,
     "metadata": {},
     "output_type": "execute_result"
    }
   ],
   "source": [
    "cond = df_lzifu[\"catid\"] == 491956\n",
    "cond &= df_lzifu[\"x (projected, arcsec)\"] == 12\n",
    "cond &= df_lzifu[\"y (projected, arcsec)\"] == 12\n",
    "df_lzifu[cond][[\"sigma_gas (component 0)\",\"sigma_gas (component 1)\",\"sigma_gas (component 2)\"]]"
   ]
  },
  {
   "cell_type": "code",
   "execution_count": 142,
   "metadata": {
    "scrolled": false
   },
   "outputs": [
    {
     "data": {
      "application/vnd.jupyter.widget-view+json": {
       "model_id": "586a155b098a49eaa8b86b0b0f355354",
       "version_major": 2,
       "version_minor": 0
      },
      "text/plain": [
       "Canvas(toolbar=Toolbar(toolitems=[('Home', 'Reset original view', 'home', 'home'), ('Back', 'Back to previous …"
      ]
     },
     "metadata": {},
     "output_type": "display_data"
    }
   ],
   "source": [
    "###############################################################################\n",
    "# WHAV diagram (hist) - spectral classification (individually), all shown on \n",
    "# the SAME diagram\n",
    "###############################################################################\n",
    "nbins = 100\n",
    "fig, axs = plt.subplots(nrows=3, ncols=len(cats), figsize=(5.5 * len(cats), 7 * 3))\n",
    "fig.subplots_adjust(wspace=0.2)\n",
    "for cc, cat in enumerate(cats):\n",
    "    for rr, (df_this, name) in enumerate(zip([df_1comp_dropped, df_lzifu_comp0, df_merged,],\n",
    "                                 [\"SAMI 1-component spaxels only\", \"LZIFU indivudual components\", \"SAMI 1-comp. spaxels + LZIFU ind. components\"])):\n",
    "        # Create figure\n",
    "        ax = axs[rr][cc]\n",
    "        bbox = ax.get_position()\n",
    "        cax = fig.add_axes([bbox.x0 + bbox.width, bbox.y0, bbox.width / 10, bbox.height])\n",
    "       \n",
    "        # Plot: \n",
    "        df_subset = df_this.loc[df_this[f\"BPT (component 0)\"] == cat]\n",
    "        N = df_subset.shape[0]\n",
    "        if N > 0:\n",
    "            plot2dhistcontours(df_subset, \n",
    "                               col_x=f\"{col_x} (component 0)\",\n",
    "                               col_y=f\"{col_y} (component 0)\",\n",
    "                               col_z=\"count\", log_z=False,\n",
    "                               alpha=1.0, ax=ax, cax=cax, nbins=nbins,\n",
    "                               linewidths=0.5, \n",
    "                               contours=True, hist=True, colors=\"white\",\n",
    "                               plot_colorbar=True)\n",
    "            \n",
    "        # Decorations\n",
    "        ax.grid()\n",
    "        ax.text(s=f\"{cat} (N = {N:d})\", x=0.1, y=0.9, verticalalignment=\"top\", transform=ax.transAxes)\n",
    "        axs[rr][0].set_title(name)\n",
    "        "
   ]
  },
  {
   "cell_type": "markdown",
   "metadata": {},
   "source": [
    "## Try creating classification rules\n",
    "---"
   ]
  },
  {
   "cell_type": "code",
   "execution_count": 162,
   "metadata": {},
   "outputs": [],
   "source": [
    "delta_sigma_bound = 0\n",
    "halpha_ew_upper_bound = 14\n",
    "halpha_ew_lower_bound = 3\n",
    "\n",
    "# Only include classified spaxels for now\n",
    "df_classified = df_merged[df_merged[\"BPT (component 0)\"] != \"Not classified\"]"
   ]
  },
  {
   "cell_type": "code",
   "execution_count": 173,
   "metadata": {
    "scrolled": true
   },
   "outputs": [
    {
     "name": "stdout",
     "output_type": "stream",
     "text": [
      "-------------------------------------------------------\n",
      "STAR-FORMING BOUNDARY\n",
      "sigma_gas - sigma_* > 50 km s^-1\n",
      "EW(Ha) > 14 Å\n",
      "-------------------------------------------------------\n",
      "74.82% of all SF components are within these bounds\n",
      "15.11% of all Composite components are within these bounds\n",
      "24.33% of all Ambiguous components are within these bounds\n",
      "13.76% of all Seyfert components are within these bounds\n",
      "0.31% of all LINER components are within these bounds\n",
      "8.37% of all Not classified components are within these bounds\n",
      "-------------------------------------------------------\n"
     ]
    }
   ],
   "source": [
    "print(\"-------------------------------------------------------\")\n",
    "print(\"STAR-FORMING BOUNDARY\")\n",
    "print(f\"sigma_gas - sigma_* > {delta_sigma_bound:.0f} km s^-1\")\n",
    "print(f\"EW(Ha) > {halpha_ew_upper_bound:.0f} Å\")\n",
    "print(\"-------------------------------------------------------\")\n",
    "\n",
    "# What % of SF-components are within these bounds?\n",
    "for cat in cats:\n",
    "    cond_cat = df_merged[\"BPT (component 0)\"] == cat\n",
    "    cond_cat_in_bounds = cond_cat & (df_merged[\"sigma_gas - sigma_* (component 0)\"] <= delta_sigma_bound)\n",
    "    cond_cat_in_bounds &= df_merged[\"HALPHA EW (component 0)\"] >= halpha_ew_upper_bound\n",
    "    frac_in_bounds = df_merged[cond_cat_in_bounds].shape[0] / df_merged[cond_cat].shape[0] * 100\n",
    "    print(f\"{frac_in_bounds:.2f}% of all {cat} components are within these bounds\")\n",
    "print(\"-------------------------------------------------------\")\n",
    "\n",
    "# # Of all the points within these bounds, what % are SF and what % are other categories?\n",
    "# cond_in_bounds = df_marged[\"sigma_gas - sigma_* (component 0)\"] <= 0\n",
    "# cond_in_bounds &= df_classified[\"HALPHA EW (component 0)\"] >= 14\n",
    "# print(f\"Within these bounds:\")\n",
    "# for cat in cats:\n",
    "#     cond_cat_in_bounds = cond_in_bounds & (df_classified[\"BPT (component 0)\"] == cat)\n",
    "#     frac_this_cat = df_classified[cond_cat_in_bounds].shape[0] / df_classified[cond_in_bounds].shape[0] * 100\n",
    "#     print(f\"{frac_this_cat:.2f}% are {cat}\")\n",
    "# print(\"-------------------------------------------------------\")"
   ]
  },
  {
   "cell_type": "code",
   "execution_count": 164,
   "metadata": {},
   "outputs": [
    {
     "name": "stdout",
     "output_type": "stream",
     "text": [
      "-------------------------------------------------------\n",
      "COMPOSITE BOUNDARY\n",
      "sigma_gas - sigma_* > 0 km s^-1\n",
      "3 Å < EW(Ha) < 14 Å\n",
      "-------------------------------------------------------\n",
      "70.83% of all composite-like components are within these bounds\n",
      "-------------------------------------------------------\n",
      "Within these bounds:\n",
      "55.84% are SF\n",
      "32.62% are Composite\n",
      "9.07% are Ambiguous\n",
      "1.18% are Seyfert\n",
      "1.29% are LINER\n",
      "0.00% are Not classified\n",
      "-------------------------------------------------------\n"
     ]
    }
   ],
   "source": [
    "print(\"-------------------------------------------------------\")\n",
    "print(\"COMPOSITE BOUNDARY\")\n",
    "print(f\"sigma_gas - sigma_* > {delta_sigma_bound:.0f} km s^-1\")\n",
    "print(f\"{halpha_ew_lower_bound:.0f} Å < EW(Ha) < {halpha_ew_upper_bound:.0f} Å\")\n",
    "print(\"-------------------------------------------------------\")\n",
    "\n",
    "# What % of SF-components are within these bounds?\n",
    "cond_comp = df_classified[\"BPT (component 0)\"] == \"Composite\"\n",
    "\n",
    "cond_comp_in_bounds = cond_comp & (df_classified[\"sigma_gas - sigma_* (component 0)\"] <= delta_sigma_bound)\n",
    "cond_comp_in_bounds &= df_classified[\"HALPHA EW (component 0)\"] < halpha_ew_upper_bound\n",
    "cond_comp_in_bounds &= df_classified[\"HALPHA EW (component 0)\"] >= halpha_ew_lower_bound\n",
    "\n",
    "frac_comp_in_bounds = df_classified[cond_comp_in_bounds].shape[0] / df_classified[cond_comp].shape[0] * 100\n",
    "print(f\"{frac_comp_in_bounds:.2f}% of all composite-like components are within these bounds\")\n",
    "print(\"-------------------------------------------------------\")\n",
    "\n",
    "# Of all the points within these bounds, what % are SF and what % are other categories?\n",
    "cond_in_bounds = df_classified[\"sigma_gas - sigma_* (component 0)\"] <= delta_sigma_bound\n",
    "cond_in_bounds &= df_classified[\"HALPHA EW (component 0)\"] < halpha_ew_upper_bound\n",
    "cond_in_bounds &= df_classified[\"HALPHA EW (component 0)\"] >= halpha_ew_lower_bound\n",
    "print(f\"Within these bounds:\")\n",
    "for cat in cats:\n",
    "    cond_cat_in_bounds = cond_in_bounds & (df_classified[\"BPT (component 0)\"] == cat)\n",
    "    frac_this_cat = df_classified[cond_cat_in_bounds].shape[0] / df_classified[cond_in_bounds].shape[0] * 100\n",
    "    print(f\"{frac_this_cat:.2f}% are {cat}\")\n",
    "print(\"-------------------------------------------------------\")"
   ]
  },
  {
   "cell_type": "code",
   "execution_count": 165,
   "metadata": {},
   "outputs": [
    {
     "name": "stdout",
     "output_type": "stream",
     "text": [
      "-------------------------------------------------------\n",
      "LINER BOUNDARY\n",
      "sigma_gas - sigma_* < 0 km s^-1\n",
      "EW(Ha) < 3 Å\n",
      "-------------------------------------------------------\n",
      "65.78% of all LINER-like components are within these bounds\n",
      "-------------------------------------------------------\n",
      "Within these bounds:\n",
      "0.60% are SF\n",
      "20.67% are Composite\n",
      "21.36% are Ambiguous\n",
      "4.78% are Seyfert\n",
      "52.59% are LINER\n",
      "0.00% are Not classified\n",
      "-------------------------------------------------------\n"
     ]
    }
   ],
   "source": [
    "print(\"-------------------------------------------------------\")\n",
    "print(\"LINER BOUNDARY\")\n",
    "print(f\"sigma_gas - sigma_* < {delta_sigma_bound:.0f} km s^-1\")\n",
    "print(f\"EW(Ha) < {halpha_ew_lower_bound:.0f} Å\")\n",
    "print(\"-------------------------------------------------------\")\n",
    "\n",
    "# What % of SF-components are within these bounds?\n",
    "cond_LINER = df_classified[\"BPT (component 0)\"] == \"LINER\"\n",
    "\n",
    "cond_LINER_in_bounds = cond_LINER & (df_classified[\"sigma_gas - sigma_* (component 0)\"] <= delta_sigma_bound)\n",
    "cond_LINER_in_bounds &= df_classified[\"HALPHA EW (component 0)\"] < halpha_ew_lower_bound\n",
    "\n",
    "frac_LINER_in_bounds = df_classified[cond_LINER_in_bounds].shape[0] / df_classified[cond_LINER].shape[0] * 100\n",
    "print(f\"{frac_LINER_in_bounds:.2f}% of all LINER-like components are within these bounds\")\n",
    "print(\"-------------------------------------------------------\")\n",
    "\n",
    "# Of all the points within these bounds, what % are SF and what % are other categories?\n",
    "cond_in_bounds = df_classified[\"sigma_gas - sigma_* (component 0)\"] <= delta_sigma_bound\n",
    "cond_in_bounds &= df_classified[\"HALPHA EW (component 0)\"] < halpha_ew_lower_bound\n",
    "print(f\"Within these bounds:\")\n",
    "for cat in cats:\n",
    "    cond_cat_in_bounds = cond_in_bounds & (df_classified[\"BPT (component 0)\"] == cat)\n",
    "    frac_this_cat = df_classified[cond_cat_in_bounds].shape[0] / df_classified[cond_in_bounds].shape[0] * 100\n",
    "    print(f\"{frac_this_cat:.2f}% are {cat}\")\n",
    "print(\"-------------------------------------------------------\")"
   ]
  },
  {
   "cell_type": "code",
   "execution_count": 168,
   "metadata": {},
   "outputs": [
    {
     "name": "stdout",
     "output_type": "stream",
     "text": [
      "-------------------------------------------------------\n",
      "SEYFERT/SHOCK BOUNDARY\n",
      "sigma_gas - sigma_* > 50 km s^-1\n",
      "Any EW\n",
      "-------------------------------------------------------\n",
      "20.44% of all Seyfert-like components are within these bounds\n",
      "-------------------------------------------------------\n",
      "Within these bounds:\n",
      "17.21% are SF\n",
      "16.61% are Composite\n",
      "16.48% are Ambiguous\n",
      "30.35% are Seyfert\n",
      "19.34% are LINER\n",
      "0.00% are Not classified\n",
      "-------------------------------------------------------\n"
     ]
    }
   ],
   "source": [
    "delta_sigma_bound = 50\n",
    "print(\"-------------------------------------------------------\")\n",
    "print(\"SEYFERT/SHOCK BOUNDARY\")\n",
    "print(f\"sigma_gas - sigma_* > {delta_sigma_bound:.0f} km s^-1\")\n",
    "print(f\"Any EW\")\n",
    "print(\"-------------------------------------------------------\")\n",
    "\n",
    "# What % of SF-components are within these bounds?\n",
    "cond_Seyfert = df_classified[\"BPT (component 0)\"] == \"Seyfert\"\n",
    "\n",
    "cond_Seyfert_in_bounds = cond_Seyfert & (df_classified[\"sigma_gas - sigma_* (component 0)\"] > delta_sigma_bound)\n",
    "\n",
    "frac_Seyfert_in_bounds = df_classified[cond_Seyfert_in_bounds].shape[0] / df_classified[cond_Seyfert].shape[0] * 100\n",
    "print(f\"{frac_Seyfert_in_bounds:.2f}% of all Seyfert-like components are within these bounds\")\n",
    "print(\"-------------------------------------------------------\")\n",
    "\n",
    "# Of all the points within these bounds, what % are SF and what % are other categories?\n",
    "cond_in_bounds = df_classified[\"sigma_gas - sigma_* (component 0)\"] > delta_sigma_bound\n",
    "print(f\"Within these bounds:\")\n",
    "for cat in cats:\n",
    "    cond_cat_in_bounds = cond_in_bounds & (df_classified[\"BPT (component 0)\"] == cat)\n",
    "    frac_this_cat = df_classified[cond_cat_in_bounds].shape[0] / df_classified[cond_in_bounds].shape[0] * 100\n",
    "    print(f\"{frac_this_cat:.2f}% are {cat}\")\n",
    "print(\"-------------------------------------------------------\")"
   ]
  },
  {
   "cell_type": "code",
   "execution_count": null,
   "metadata": {},
   "outputs": [],
   "source": []
  }
 ],
 "metadata": {
  "kernelspec": {
   "display_name": "Python 3",
   "language": "python",
   "name": "python3"
  },
  "language_info": {
   "codemirror_mode": {
    "name": "ipython",
    "version": 3
   },
   "file_extension": ".py",
   "mimetype": "text/x-python",
   "name": "python",
   "nbconvert_exporter": "python",
   "pygments_lexer": "ipython3",
   "version": "3.7.4"
  }
 },
 "nbformat": 4,
 "nbformat_minor": 2
}
