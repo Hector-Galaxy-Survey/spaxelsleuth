{
 "cells": [
  {
   "cell_type": "markdown",
   "metadata": {},
   "source": [
    "# How cleanly are different spectral categories separated in the WHAV* diagram? Can we come up with clean dividing lines that can be used for reliable spectral classification based only on the H$\\alpha$ EW and $\\sigma_{\\rm gas} - \\sigma_*$?\n",
    "---\n",
    "Like Lisa suggested: given a set of boundaries in the WHAV* diagram, what % of BPT-classified star-forming spaxels lie within those boundaries, etc.? \n",
    "\n",
    "In here:\n",
    "1. Recreate Fig. 15 from the paper draft, but with each spectral classification shown separately (classification based on *total* emission line fluxes)\n",
    "2. Repeat the above, but with the emission line fluxes from *individual components*. Idea: put all 3 components in 1 diagram to make larger samples. "
   ]
  },
  {
   "cell_type": "code",
   "execution_count": 1,
   "metadata": {},
   "outputs": [],
   "source": [
    "%matplotlib widget"
   ]
  },
  {
   "cell_type": "code",
   "execution_count": 2,
   "metadata": {},
   "outputs": [],
   "source": [
    "# Imports\n",
    "import sys\n",
    "import os \n",
    "import numpy as np\n",
    "import pandas as pd\n",
    "from astropy.visualization import hist\n",
    "\n",
    "from spaxelsleuth.loaddata.lzifu import load_lzifu_galaxies\n",
    "from spaxelsleuth.loaddata.sami import load_sami_galaxies\n",
    "from spaxelsleuth.plotting.plottools import plot_empty_BPT_diagram\n",
    "from spaxelsleuth.plotting.plottools import vmin_fn, vmax_fn, label_fn, cmap_fn\n",
    "from spaxelsleuth.plotting.plottools import bpt_colours, bpt_labels, bpt_ticks\n",
    "from spaxelsleuth.plotting.plottools import morph_labels, morph_ticks\n",
    "from spaxelsleuth.plotting.plottools import ncomponents_labels, ncomponents_colours\n",
    "from spaxelsleuth.plotting.plottools import component_labels, component_colours\n",
    "from spaxelsleuth.plotting.plotgalaxies import plot2dhistcontours, plot2dscatter, plot2dcontours\n",
    "\n",
    "import matplotlib\n",
    "from matplotlib import rc, rcParams\n",
    "import matplotlib.pyplot as plt\n",
    "from matplotlib.backends.backend_pdf import PdfPages\n",
    "\n",
    "rc(\"text\", usetex=False)\n",
    "rc(\"font\",**{\"family\": \"serif\", \"size\": 14})\n",
    "rcParams[\"savefig.bbox\"] = \"tight\"\n",
    "rcParams[\"savefig.format\"] = \"pdf\"\n",
    "plt.ion()\n",
    "plt.close(\"all\")\n"
   ]
  },
  {
   "cell_type": "code",
   "execution_count": 3,
   "metadata": {},
   "outputs": [],
   "source": [
    "# Options\n",
    "fig_path = \"/priv/meggs3/u5708159/SAMI/figs/full_sample/\"\n",
    "savefigs = False\n",
    "bin_type = \"default\"    # Options: \"default\" or \"adaptive\" for Voronoi binning\n",
    "ncomponents = \"recom\"   # Options: \"1\" or \"recom\"\n",
    "eline_SNR_min = 3       # Minimum S/N of emission lines to accept\n"
   ]
  },
  {
   "cell_type": "code",
   "execution_count": 4,
   "metadata": {},
   "outputs": [
    {
     "name": "stderr",
     "output_type": "stream",
     "text": [
      "/pkg/linux/anaconda-20191122/anaconda3/lib/python3.7/site-packages/pandas/core/indexing.py:376: SettingWithCopyWarning: \n",
      "A value is trying to be set on a copy of a slice from a DataFrame.\n",
      "Try using .loc[row_indexer,col_indexer] = value instead\n",
      "\n",
      "See the caveats in the documentation: http://pandas.pydata.org/pandas-docs/stable/user_guide/indexing.html#returning-a-view-versus-a-copy\n",
      "  self.obj[key] = _infer_fill_value(value)\n",
      "/pkg/linux/anaconda-20191122/anaconda3/lib/python3.7/site-packages/pandas/core/indexing.py:494: SettingWithCopyWarning: \n",
      "A value is trying to be set on a copy of a slice from a DataFrame.\n",
      "Try using .loc[row_indexer,col_indexer] = value instead\n",
      "\n",
      "See the caveats in the documentation: http://pandas.pydata.org/pandas-docs/stable/user_guide/indexing.html#returning-a-view-versus-a-copy\n",
      "  self.obj[item] = s\n",
      "/pkg/linux/anaconda-20191122/anaconda3/lib/python3.7/site-packages/pandas/core/series.py:853: RuntimeWarning: invalid value encountered in log10\n",
      "  result = getattr(ufunc, method)(*inputs, **kwargs)\n"
     ]
    },
    {
     "name": "stdout",
     "output_type": "stream",
     "text": [
      "WARNING: in load_sami_galaxies: NOT correcting Halpha and HALPHA EW for extinction!\n"
     ]
    }
   ],
   "source": [
    "# Load the sample\n",
    "df = load_sami_galaxies(ncomponents=ncomponents,\n",
    "                        bin_type=bin_type,\n",
    "                        eline_SNR_min=eline_SNR_min, \n",
    "                        vgrad_cut=False,\n",
    "                        correct_extinction=False,\n",
    "                        sigma_gas_SNR_cut=True)"
   ]
  },
  {
   "cell_type": "code",
   "execution_count": 5,
   "metadata": {},
   "outputs": [
    {
     "name": "stdout",
     "output_type": "stream",
     "text": [
      "Loading LZIFU DataFrame for all galaxies in the LZIFU subsample...\n"
     ]
    },
    {
     "name": "stderr",
     "output_type": "stream",
     "text": [
      "/pkg/linux/anaconda-20191122/anaconda3/lib/python3.7/site-packages/pandas/core/series.py:853: RuntimeWarning: divide by zero encountered in log10\n",
      "  result = getattr(ufunc, method)(*inputs, **kwargs)\n",
      "/home/u5708159/python/Modules/spaxelsleuth/loaddata/linefns.py:78: RuntimeWarning: invalid value encountered in add\n",
      "  return -0.943 * ratio_y_vals**4 - 0.450 * ratio_y_vals**3 + 0.408 * ratio_y_vals**2 - 0.610 * ratio_y_vals - 0.025\n"
     ]
    },
    {
     "name": "stdout",
     "output_type": "stream",
     "text": [
      "WARNING: in load_lzifu_galaxy: NOT correcting Halpha and HALPHA EW for extinction!\n"
     ]
    }
   ],
   "source": [
    "# Load the LZIFU galaxies\n",
    "df_lzifu = load_lzifu_galaxies(ncomponents=ncomponents,\n",
    "                              bin_type=bin_type,\n",
    "                              eline_SNR_min=eline_SNR_min, \n",
    "                              vgrad_cut=False,\n",
    "                              correct_extinction=False,\n",
    "                              sigma_gas_SNR_cut=True)        \n"
   ]
  },
  {
   "cell_type": "code",
   "execution_count": 6,
   "metadata": {},
   "outputs": [],
   "source": [
    "# Plot settings\n",
    "col_x = \"sigma_gas - sigma_*\"\n",
    "col_y = \"log HALPHA EW\"\n",
    "nbins = 100\n",
    "\n",
    "# Spectral categories\n",
    "cats = [\"SF\", \"Composite\", \"Ambiguous\", \"Seyfert\", \"LINER\", \"Not classified\"]\n"
   ]
  },
  {
   "cell_type": "markdown",
   "metadata": {},
   "source": [
    "## Classification based on *total* fluxes: WHAV* diagrams\n",
    "---"
   ]
  },
  {
   "cell_type": "code",
   "execution_count": 7,
   "metadata": {
    "scrolled": false
   },
   "outputs": [
    {
     "data": {
      "application/vnd.jupyter.widget-view+json": {
       "model_id": "62b34f44400b432d84dddd7685f2b768",
       "version_major": 2,
       "version_minor": 0
      },
      "text/plain": [
       "Canvas(toolbar=Toolbar(toolitems=[('Home', 'Reset original view', 'home', 'home'), ('Back', 'Back to previous …"
      ]
     },
     "metadata": {},
     "output_type": "display_data"
    }
   ],
   "source": [
    "###############################################################################\n",
    "# WHAV diagram (hist) - spectral classification (all together)\n",
    "###############################################################################\n",
    "col_z = \"BPT (numeric) (total)\"\n",
    "\n",
    "# Create figure\n",
    "fig, axs = plt.subplots(nrows=1, ncols=3, figsize=(5 * 3, 5))\n",
    "fig.subplots_adjust(wspace=0)\n",
    "bbox = axs[-1].get_position()\n",
    "cax = fig.add_axes([bbox.x0 + bbox.width, bbox.y0, 0.03, bbox.height])\n",
    "\n",
    "# recom components\n",
    "for ii in range(3):\n",
    "    plot2dhistcontours(df, col_x=f\"{col_x} (component {ii})\",\n",
    "                          col_y=f\"{col_y} (component {ii})\",\n",
    "                          col_z=f\"{col_z} (component {ii})\" if f\"{col_z} (component {ii})\" in df else col_z,\n",
    "                          alpha=1.0, ax=axs[ii], cax=cax, nbins=nbins,\n",
    "                          linewidths=0.5,\n",
    "                          contours=True, hist=True, colors=\"white\",\n",
    "                          plot_colorbar=True if ii == 3 - 1 else False)\n",
    "    # Decorations\n",
    "    axs[ii].grid()\n",
    "    axs[ii].set_ylabel(\"\") if ii > 0 else None\n",
    "    axs[ii].set_yticklabels([]) if ii > 0 else None\n",
    "    axs[ii].set_title(component_labels[ii])\n",
    "        "
   ]
  },
  {
   "cell_type": "code",
   "execution_count": null,
   "metadata": {
    "scrolled": false
   },
   "outputs": [
    {
     "data": {
      "application/vnd.jupyter.widget-view+json": {
       "model_id": "d9ce561d2a784d3ba4b009cadb7c6efc",
       "version_major": 2,
       "version_minor": 0
      },
      "text/plain": [
       "Canvas(toolbar=Toolbar(toolitems=[('Home', 'Reset original view', 'home', 'home'), ('Back', 'Back to previous …"
      ]
     },
     "metadata": {},
     "output_type": "display_data"
    },
    {
     "data": {
      "application/vnd.jupyter.widget-view+json": {
       "model_id": "d3b768223b8d4a07b7a834b6de9273af",
       "version_major": 2,
       "version_minor": 0
      },
      "text/plain": [
       "Canvas(toolbar=Toolbar(toolitems=[('Home', 'Reset original view', 'home', 'home'), ('Back', 'Back to previous …"
      ]
     },
     "metadata": {},
     "output_type": "display_data"
    },
    {
     "name": "stderr",
     "output_type": "stream",
     "text": [
      "/home/u5708159/python/Modules/spaxelsleuth/plotting/plotgalaxies.py:177: UserWarning: No contour levels were found within the data range.\n",
      "  linewidths=linewidths)\n"
     ]
    },
    {
     "data": {
      "application/vnd.jupyter.widget-view+json": {
       "model_id": "3acd9d6b1fb845aebe78c1637f15c8a6",
       "version_major": 2,
       "version_minor": 0
      },
      "text/plain": [
       "Canvas(toolbar=Toolbar(toolitems=[('Home', 'Reset original view', 'home', 'home'), ('Back', 'Back to previous …"
      ]
     },
     "metadata": {},
     "output_type": "display_data"
    },
    {
     "data": {
      "application/vnd.jupyter.widget-view+json": {
       "model_id": "092ab75a71c2478d999bf8b1ccf6d6f1",
       "version_major": 2,
       "version_minor": 0
      },
      "text/plain": [
       "Canvas(toolbar=Toolbar(toolitems=[('Home', 'Reset original view', 'home', 'home'), ('Back', 'Back to previous …"
      ]
     },
     "metadata": {},
     "output_type": "display_data"
    }
   ],
   "source": [
    "###############################################################################\n",
    "# WHAV diagram (hist) - spectral classification (individually)\n",
    "###############################################################################\n",
    "for cat in cats:\n",
    "    df_subset = df.loc[df[\"BPT (total)\"] == cat]\n",
    "    \n",
    "    # Create figure\n",
    "    fig, axs = plt.subplots(nrows=1, ncols=3, figsize=(5 * 3, 5))\n",
    "    fig.subplots_adjust(wspace=0)\n",
    "    bbox = axs[-1].get_position()\n",
    "    cax = fig.add_axes([bbox.x0 + bbox.width, bbox.y0, 0.03, bbox.height])\n",
    "\n",
    "    # recom components\n",
    "    for ii in range(3):\n",
    "        plot2dhistcontours(df_subset, \n",
    "                           col_x=f\"{col_x} (component {ii})\",\n",
    "                           col_y=f\"{col_y} (component {ii})\",\n",
    "                           # col_z=\"log SFR surface density (component 0)\", log_z=False,\n",
    "                           # col_z=\"log N2 (total)\", log_z=False,\n",
    "                           # vmin=-0.4 - 0.6, vmax=-0.4 + 0.6, cmap=\"coolwarm\",\n",
    "                           col_z=\"count\", log_z=True,\n",
    "                           alpha=1.0, ax=axs[ii], cax=cax, nbins=nbins,\n",
    "                           linewidths=0.5,\n",
    "                           contours=True, hist=True, colors=\"white\",\n",
    "                           plot_colorbar=True if ii == 3 - 1 else False)\n",
    "        # Decorations\n",
    "        axs[ii].grid()\n",
    "        axs[ii].set_ylabel(\"\") if ii > 0 else None\n",
    "        axs[ii].set_yticklabels([]) if ii > 0 else None\n",
    "        axs[ii].set_title(component_labels[ii])\n",
    "        fig.suptitle(cat)\n"
   ]
  },
  {
   "cell_type": "markdown",
   "metadata": {},
   "source": [
    "## Classification based on *individual* fluxes: WHAV* diagrams\n",
    "---"
   ]
  },
  {
   "cell_type": "code",
   "execution_count": null,
   "metadata": {
    "scrolled": false
   },
   "outputs": [],
   "source": [
    "###############################################################################\n",
    "# WHAV diagram (hist) - LZIFU - spectral classification\n",
    "###############################################################################\n",
    "col_z = \"BPT (numeric)\"\n",
    "\n",
    "# Create figure\n",
    "fig, axs = plt.subplots(nrows=1, ncols=3, figsize=(5 * 3, 5))\n",
    "fig.subplots_adjust(wspace=0)\n",
    "bbox = axs[-1].get_position()\n",
    "cax = fig.add_axes([bbox.x0 + bbox.width, bbox.y0, 0.03, bbox.height])\n",
    "\n",
    "# recom components\n",
    "for ii in range(3):\n",
    "    plot2dhistcontours(df_lzifu, col_x=f\"{col_x} (component {ii})\",\n",
    "                          col_y=f\"{col_y} (component {ii})\",\n",
    "                          col_z=f\"{col_z} (component {ii})\" if f\"{col_z} (component {ii})\" in df_lzifu else col_z,\n",
    "                          alpha=1.0, ax=axs[ii], cax=cax, nbins=nbins,\n",
    "                          linewidths=0.5,\n",
    "                          contours=True, hist=True, colors=\"white\",\n",
    "                          plot_colorbar=True if ii == 3 - 1 else False)\n",
    "    \n",
    "    # Decorations\n",
    "    axs[ii].grid()\n",
    "    axs[ii].set_ylabel(\"\") if ii > 0 else None\n",
    "    axs[ii].set_yticklabels([]) if ii > 0 else None\n",
    "    axs[ii].set_title(component_labels[ii])\n",
    "        "
   ]
  },
  {
   "cell_type": "code",
   "execution_count": null,
   "metadata": {
    "scrolled": false
   },
   "outputs": [],
   "source": [
    "###############################################################################\n",
    "# WHAV diagram (hist) - LZIFU - spectral classification (individually)\n",
    "###############################################################################\n",
    "\n",
    "for cat in cats:\n",
    "    \n",
    "    # Create figure\n",
    "    fig, axs = plt.subplots(nrows=1, ncols=3, figsize=(5 * 3, 5))\n",
    "    fig.subplots_adjust(wspace=0)\n",
    "    bbox = axs[-1].get_position()\n",
    "    cax = fig.add_axes([bbox.x0 + bbox.width, bbox.y0, 0.03, bbox.height])\n",
    "\n",
    "    # recom components\n",
    "    for ii in range(3):\n",
    "        df_subset = df_lzifu.loc[df_lzifu[f\"BPT (component {ii})\"] == cat]\n",
    "        if df_subset.shape[0] > 0:\n",
    "            plot2dhistcontours(df_subset, \n",
    "                               col_x=f\"{col_x} (component {ii})\",\n",
    "                               col_y=f\"{col_y} (component {ii})\",\n",
    "                               col_z=\"count\", log_z=True,\n",
    "                               alpha=1.0, ax=axs[ii], cax=cax, nbins=nbins,\n",
    "                               linewidths=0.5,\n",
    "                               contours=True, hist=True, colors=\"white\",\n",
    "                               plot_colorbar=True if ii == 3 - 1 else False)\n",
    "            # Decorations\n",
    "            axs[ii].grid()\n",
    "            axs[ii].set_ylabel(\"\") if ii > 0 else None\n",
    "            axs[ii].set_yticklabels([]) if ii > 0 else None\n",
    "            axs[ii].set_title(component_labels[ii])\n",
    "            fig.suptitle(cat)\n"
   ]
  },
  {
   "cell_type": "markdown",
   "metadata": {},
   "source": [
    "## Making a monster DataFrame containing the *individual* fluxes from our LZIFU fits plus the single-component spaxels from SAMI \n",
    "---"
   ]
  },
  {
   "cell_type": "code",
   "execution_count": null,
   "metadata": {},
   "outputs": [],
   "source": [
    "#//////////////////////////////////////////////////////////////////////////////\n",
    "# 1-component spaxels from SAMI\n",
    "df_1comp = df[df[\"Number of components\"] == 1]\n",
    "\n",
    "# Need to rename the BPT classifcation from \"total\" to \"component 0\" to be consistent with the labelling in the LZIFU DataFrame\n",
    "df_1comp = df_1comp.rename(columns={\n",
    "    \"BPT (total)\": \"BPT (component 0)\",\n",
    "    \"BPT (numeric) (total)\": \"BPT (numeric) (component 0)\",\n",
    "    \"log N2 (total)\": \"log N2 (component 0)\"\n",
    "})\n",
    "\n",
    "# Drop bad rows\n",
    "df_1comp.loc[:, \"Good?\"] = ~df_1comp[f\"{col_x} (component 0)\"].isna() & ~df_1comp[f\"{col_y} (component 0)\"].isna()\n",
    "cond = df_1comp[\"Good?\"] == 1.0\n",
    "df_1comp = df_1comp[cond]\n"
   ]
  },
  {
   "cell_type": "code",
   "execution_count": null,
   "metadata": {},
   "outputs": [],
   "source": [
    "#//////////////////////////////////////////////////////////////////////////////\n",
    "# Make a copy of the LZIFU data frame where the fluxes/classifications for \n",
    "# all components are stored in \"component 0\"\n",
    "df_lzifu_comp0 = None\n",
    "for ii in [0, 1, 2]:\n",
    "    df_this_component = df_lzifu[~df_lzifu[f\"sigma_gas - sigma_* (component {ii})\"].isna()]\n",
    "    # print(df_this_component[print_cols])\n",
    "    \n",
    "    # Drop all columns that are NOT this component\n",
    "    other_components = [cc for cc in [0, 1, 2] if cc != ii]\n",
    "    cols_to_drop = [c for c in df_this_component.columns if f\"(total)\" in c]\n",
    "    for cc in other_components:\n",
    "        cols_to_drop += [c for c in df_this_component.columns if f\"(component {cc})\" in c]\n",
    "    df_this_component = df_this_component.drop(columns=cols_to_drop)\n",
    "    print(\"---------------------------------------------------\")\n",
    "    print(df_this_component[f\"sigma_gas - sigma_* (component {ii})\"])\n",
    "\n",
    "    # Rename columns to have suffix \"component 0\"\n",
    "    if ii != 0:\n",
    "        cols_to_rename = [c for c in df_this_component.columns if c.endswith(f\"(component {ii})\")]\n",
    "        new_col_names = [c.split(f\"(component {ii})\")[0] + \"(component 0)\" for c in cols_to_rename]\n",
    "        rename_dict = dict(zip(cols_to_rename, new_col_names))\n",
    "        df_this_component = df_this_component.rename(columns=rename_dict)\n",
    "    print(\"---------------------------------------------------\")\n",
    "    print(df_this_component[f\"sigma_gas - sigma_* (component 0)\"])\n",
    "\n",
    "    # Merge \n",
    "    if df_lzifu_comp0 is None:\n",
    "        df_lzifu_comp0 = df_this_component.copy()\n",
    "    else:\n",
    "        df_lzifu_comp0 = df_lzifu_comp0.append(df_this_component)\n",
    "    print(\"---------------------------------------------------\")\n",
    "    print(df_lzifu_comp0[f\"sigma_gas - sigma_* (component 0)\"])\n",
    "\n",
    "# Drop bad rows\n",
    "df_lzifu_comp0.loc[:, \"Good?\"] = ~df_lzifu_comp0[f\"{col_x} (component 0)\"].isna() & ~df_lzifu_comp0[f\"{col_y} (component 0)\"].isna()\n",
    "cond = df_lzifu_comp0[\"Good?\"] == 1.0\n",
    "df_lzifu_comp0 = df_lzifu_comp0[cond]"
   ]
  },
  {
   "cell_type": "code",
   "execution_count": null,
   "metadata": {},
   "outputs": [],
   "source": [
    "#//////////////////////////////////////////////////////////////////////////////\n",
    "# Merge \n",
    "# Need to avoid double-counting spaxels... \n",
    "# Find common galaxies and remove these from the SAMI 1-comp data frame \n",
    "lzifu_galaxies = df_lzifu_comp0.catid.unique()\n",
    "sami_galaxies = df_1comp.catid.unique()\n",
    "common_galaxies = [g for g in lzifu_galaxies if g in sami_galaxies]\n",
    "lzifu_only_galaxies = [g for g in lzifu_galaxies if g not in sami_galaxies]\n",
    "\n",
    "# Remove the common galaxies from the SAMI data frame\n",
    "rows_to_drop = df_1comp.catid.isin(common_galaxies)\n",
    "df_1comp_dropped = df_1comp.drop(rows_to_drop[rows_to_drop].index)\n",
    "\n",
    "# Check\n",
    "# assert len([g for g in gals_1comp_only if g in lzifu_galaxies]) == 0,\\\n",
    "#     \"ERROR: there are galaxies in the 1-component SAMI data set that are also in the LZIFU data set!\"\n",
    "assert np.all(df_lzifu_comp0[\"Good?\"].values),\\\n",
    "    \"ERROR: there are 'bad' rows in df_lzifu_comp0!\"\n",
    "assert np.all(df_1comp_dropped[\"Good?\"].values),\\\n",
    "    \"ERROR: there are 'bad' rows in df_lzifu_comp0!\"\n",
    "\n",
    "# Now, merge \n",
    "df_1comp_dropped[\"Source\"] = \"SAMI data set (1-comp only)\"\n",
    "df_lzifu_comp0[\"Source\"] = \"LZIFU fits (multi-comp)\"\n",
    "df_merged = df_lzifu_comp0.append(df_1comp_dropped)\n"
   ]
  },
  {
   "cell_type": "code",
   "execution_count": null,
   "metadata": {
    "scrolled": true
   },
   "outputs": [],
   "source": [
    "# Check! \n",
    "cond = df_merged[\"catid\"] == 491956\n",
    "cond &= df_merged[\"x (projected, arcsec)\"] == 12\n",
    "cond &= df_merged[\"y (projected, arcsec)\"] == 12\n",
    "df_merged[cond][\"sigma_gas (component 0)\"]"
   ]
  },
  {
   "cell_type": "code",
   "execution_count": null,
   "metadata": {},
   "outputs": [],
   "source": [
    "cond = df_lzifu[\"catid\"] == 491956\n",
    "cond &= df_lzifu[\"x (projected, arcsec)\"] == 12\n",
    "cond &= df_lzifu[\"y (projected, arcsec)\"] == 12\n",
    "df_lzifu[cond][[\"sigma_gas (component 0)\",\"sigma_gas (component 1)\",\"sigma_gas (component 2)\"]]"
   ]
  },
  {
   "cell_type": "code",
   "execution_count": null,
   "metadata": {},
   "outputs": [],
   "source": [
    "df_1comp_dropped[\"log N2 (component 0)\"]"
   ]
  },
  {
   "cell_type": "code",
   "execution_count": null,
   "metadata": {
    "scrolled": true
   },
   "outputs": [],
   "source": [
    "###############################################################################\n",
    "# WHAV diagram (hist) - spectral classification (individually), all shown on \n",
    "# the SAME diagram\n",
    "###############################################################################\n",
    "nbins = 100\n",
    "fig, axs = plt.subplots(nrows=3, ncols=len(cats), figsize=(3 * len(cats), 3 * 3))\n",
    "plt.tight_layout()\n",
    "fig.subplots_adjust(wspace=0.3)\n",
    "\n",
    "for cc, cat in enumerate(cats):\n",
    "    for rr, (df_this, name) in enumerate(zip([df_1comp_dropped, df_lzifu_comp0, df_merged,],\n",
    "                                 [\"SAMI 1-component spaxels only\", \"LZIFU indivudual components\", \"SAMI 1-comp. spaxels + LZIFU ind. components\"])):\n",
    "        # Create figure\n",
    "        ax = axs[rr][cc]\n",
    "        bbox = ax.get_position()\n",
    "        cax = fig.add_axes([bbox.x0 + bbox.width, bbox.y0, bbox.width / 10, bbox.height])\n",
    "       \n",
    "        # Plot: \n",
    "        df_subset = df_this.loc[df_this[f\"BPT (component 0)\"] == cat]\n",
    "        N = df_subset.shape[0]\n",
    "        if N > 0:\n",
    "            plot2dhistcontours(df_subset, \n",
    "                               col_x=f\"{col_x} (component 0)\",\n",
    "                               col_y=f\"{col_y} (component 0)\",\n",
    "                               # col_z=\"r/R_e\", log_z=False,\n",
    "                               col_z=\"log N2 (component 0)\", log_z=False,\n",
    "                               vmin=-0.4 - 0.6, vmax=-0.4 + 0.6, cmap=\"coolwarm\",\n",
    "                               alpha=1.0, ax=ax, cax=cax, nbins=nbins,\n",
    "                               linewidths=0.5, \n",
    "                               contours=True, hist=True, colors=\"white\",\n",
    "                               plot_colorbar=True)\n",
    "            \n",
    "        # Decorations\n",
    "        ax.grid()\n",
    "        ax.text(s=f\"{cat} (N = {N:d})\", x=0.1, y=0.9, verticalalignment=\"top\", transform=ax.transAxes)\n",
    "        axs[rr][0].set_title(name)\n",
    "        \n",
    "# plt.tight_layout()\n",
    "        "
   ]
  },
  {
   "cell_type": "markdown",
   "metadata": {},
   "source": [
    "### Picking out the weirdos\n",
    "--- \n",
    "* What are the galaxies with the highest EWs in the LINER subset? **There are a couple that are bona-fide LLAGN with only minimal evidence for outflows (9388000001 and 9008500002), one with bona-fide merger-induced shocks (517278) and one that appears to be SF-bulge mixing but with LINER ratios for some reason.**\n",
    "* What are the Seyferts? "
   ]
  },
  {
   "cell_type": "code",
   "execution_count": null,
   "metadata": {},
   "outputs": [],
   "source": [
    "# Moderate-high EWs but with delta_sigma < 0\n",
    "df_liners = df_lzifu_comp0[(df_lzifu_comp0[\"HALPHA EW (component 0)\"] > 3) & (df_lzifu_comp0[\"BPT (component 0)\"] == \"LINER\") & (df_lzifu_comp0[\"sigma_gas - sigma_* (component 0)\"] < -100)]\n",
    "df_liners[\"catid\"].unique()"
   ]
  },
  {
   "cell_type": "code",
   "execution_count": null,
   "metadata": {},
   "outputs": [],
   "source": [
    "# Moderate-high EWs but with delta_sigma > 0\n",
    "df_liners = df_1comp_dropped[(df_1comp_dropped[\"HALPHA EW (component 0)\"] > 14) & (df_1comp_dropped[\"BPT (component 0)\"] == \"LINER\") & (df_1comp_dropped[\"sigma_gas - sigma_* (component 0)\"] > 0)]\n",
    "df_liners[\"catid\"].unique()"
   ]
  },
  {
   "cell_type": "code",
   "execution_count": null,
   "metadata": {},
   "outputs": [],
   "source": [
    "# seyferts: pick those with >3 Seyfert-like components\n",
    "df_seyferts = df_lzifu_comp0[df_lzifu_comp0[\"BPT (component 0)\"] == \"Seyfert\"]\n",
    "seyfert_gals = df_seyferts.catid.unique()\n",
    "good_gals = []\n",
    "for gal in seyfert_gals:\n",
    "    df_gal = df_seyferts[df_seyferts[\"catid\"] == gal]\n",
    "    if df_gal[df_gal[\"BPT (component 0)\"] == \"Seyfert\"].shape[0] > 10:\n",
    "        good_gals.append(gal)\n",
    "good_gals"
   ]
  },
  {
   "cell_type": "markdown",
   "metadata": {},
   "source": [
    "## Try creating classification rules\n",
    "---"
   ]
  },
  {
   "cell_type": "code",
   "execution_count": null,
   "metadata": {},
   "outputs": [],
   "source": [
    "delta_sigma_bound = 0\n",
    "halpha_ew_upper_bound = 14\n",
    "halpha_ew_lower_bound = 3\n",
    "\n",
    "# Only include classified spaxels for now\n",
    "df_classified = df_merged[df_merged[\"BPT (component 0)\"] != \"Not classified\"]\n",
    "\n",
    "# Which DataFrame to use for these calculations\n",
    "df_to_use = df_lzifu_comp0"
   ]
  },
  {
   "cell_type": "code",
   "execution_count": null,
   "metadata": {
    "scrolled": true
   },
   "outputs": [],
   "source": [
    "print(\"-------------------------------------------------------\")\n",
    "print(\"STAR-FORMING BOUNDARY\")\n",
    "print(f\"sigma_gas - sigma_* < {delta_sigma_bound:.0f} km s^-1\")\n",
    "print(f\"EW(Ha) > {halpha_ew_upper_bound:.0f} Å\")\n",
    "print(\"-------------------------------------------------------\")\n",
    "\n",
    "# What % of SF-components are within these bounds?\n",
    "for cat in cats:\n",
    "    cond_cat = df_to_use[\"BPT (component 0)\"] == cat\n",
    "    cond_cat_in_bounds = cond_cat & (df_to_use[\"sigma_gas - sigma_* (component 0)\"] <= delta_sigma_bound)\n",
    "    cond_cat_in_bounds &= df_to_use[\"HALPHA EW (component 0)\"] >= halpha_ew_upper_bound\n",
    "    frac_in_bounds = df_to_use[cond_cat_in_bounds].shape[0] / df_to_use[cond_cat].shape[0] * 100\n",
    "    print(f\"{frac_in_bounds:.2f}% of all {cat} components are within these bounds\")\n",
    "print(\"-------------------------------------------------------\")\n"
   ]
  },
  {
   "cell_type": "code",
   "execution_count": null,
   "metadata": {},
   "outputs": [],
   "source": [
    "print(\"-------------------------------------------------------\")\n",
    "print(\"COMPOSITE BOUNDARY\")\n",
    "print(f\"sigma_gas - sigma_* < {delta_sigma_bound:.0f} km s^-1\")\n",
    "print(f\"{halpha_ew_lower_bound:.0f} Å < EW(Ha) < {halpha_ew_upper_bound:.0f} Å\")\n",
    "print(\"-------------------------------------------------------\")\n",
    "\n",
    "# What % of components in different categories are within these bounds?\n",
    "for cat in cats:\n",
    "    cond_cat = df_to_use[\"BPT (component 0)\"] == cat\n",
    "    cond_cat_in_bounds = cond_cat & (df_to_use[\"sigma_gas - sigma_* (component 0)\"] <= delta_sigma_bound)\n",
    "    cond_cat_in_bounds &= df_to_use[\"HALPHA EW (component 0)\"] < halpha_ew_upper_bound\n",
    "    cond_cat_in_bounds &= df_to_use[\"HALPHA EW (component 0)\"] >= halpha_ew_lower_bound\n",
    "    frac_in_bounds = df_to_use[cond_cat_in_bounds].shape[0] / df_to_use[cond_cat].shape[0] * 100\n",
    "    print(f\"{frac_in_bounds:.2f}% of all {cat} components are within these bounds\")\n",
    "print(\"-------------------------------------------------------\")\n"
   ]
  },
  {
   "cell_type": "code",
   "execution_count": null,
   "metadata": {},
   "outputs": [],
   "source": [
    "print(\"-------------------------------------------------------\")\n",
    "print(\"LINER BOUNDARY\")\n",
    "print(f\"sigma_gas - sigma_* < {delta_sigma_bound:.0f} km s^-1\")\n",
    "print(f\"EW(Ha) < {halpha_ew_lower_bound:.0f} Å\")\n",
    "print(\"-------------------------------------------------------\")\n",
    "\n",
    "# What % of components in different categories are within these bounds?\n",
    "for cat in cats:\n",
    "    cond_cat = df_to_use[\"BPT (component 0)\"] == cat\n",
    "    cond_cat_in_bounds = cond_cat & (df_to_use[\"sigma_gas - sigma_* (component 0)\"] <= delta_sigma_bound)\n",
    "    cond_cat_in_bounds &= df_to_use[\"HALPHA EW (component 0)\"] < halpha_ew_lower_bound\n",
    "    frac_in_bounds = df_to_use[cond_cat_in_bounds].shape[0] / df_to_use[cond_cat].shape[0] * 100\n",
    "    print(f\"{frac_in_bounds:.2f}% of all {cat} components are within these bounds\")\n",
    "print(\"-------------------------------------------------------\")\n"
   ]
  },
  {
   "cell_type": "code",
   "execution_count": null,
   "metadata": {
    "scrolled": false
   },
   "outputs": [],
   "source": [
    "print(\"-------------------------------------------------------\")\n",
    "print(\"SEYFERT/SHOCK BOUNDARY\")\n",
    "print(f\"sigma_gas - sigma_* > {delta_sigma_bound:.0f} km s^-1\")\n",
    "print(f\"EW(Ha) > {halpha_ew_lower_bound:.0f} Å\")\n",
    "print(\"-------------------------------------------------------\")\n",
    "\n",
    "# What % of components in different categories are within these bounds?\n",
    "for cat in cats:\n",
    "    cond_cat = df_to_use[\"BPT (component 0)\"] == cat\n",
    "    cond_cat_in_bounds = cond_cat & (df_to_use[\"sigma_gas - sigma_* (component 0)\"] > delta_sigma_bound)\n",
    "    cond_cat_in_bounds &= df_to_use[\"HALPHA EW (component 0)\"] > halpha_ew_lower_bound\n",
    "    frac_in_bounds = df_to_use[cond_cat_in_bounds].shape[0] / df_to_use[cond_cat].shape[0] * 100\n",
    "    print(f\"{frac_in_bounds:.2f}% of all {cat} components are within these bounds\")\n",
    "print(\"-------------------------------------------------------\")\n"
   ]
  },
  {
   "cell_type": "code",
   "execution_count": null,
   "metadata": {},
   "outputs": [],
   "source": [
    "print(\"-------------------------------------------------------\")\n",
    "print(\"??? BOUNDARY\")\n",
    "print(f\"sigma_gas - sigma_* > {delta_sigma_bound:.0f} km s^-1\")\n",
    "print(f\"EW(Ha) < {halpha_ew_lower_bound:.0f} Å\")\n",
    "print(\"-------------------------------------------------------\")\n",
    "\n",
    "# What % of components in different categories are within these bounds?\n",
    "for cat in cats:\n",
    "    cond_cat = df_to_use[\"BPT (component 0)\"] == cat\n",
    "    cond_cat_in_bounds = cond_cat & (df_to_use[\"sigma_gas - sigma_* (component 0)\"] > delta_sigma_bound)\n",
    "    cond_cat_in_bounds &= df_to_use[\"HALPHA EW (component 0)\"] < halpha_ew_lower_bound\n",
    "    frac_in_bounds = df_to_use[cond_cat_in_bounds].shape[0] / df_to_use[cond_cat].shape[0] * 100\n",
    "    print(f\"{frac_in_bounds:.2f}% of all {cat} components are within these bounds\")\n",
    "print(\"-------------------------------------------------------\")\n"
   ]
  },
  {
   "cell_type": "code",
   "execution_count": null,
   "metadata": {},
   "outputs": [],
   "source": []
  }
 ],
 "metadata": {
  "kernelspec": {
   "display_name": "Python 3",
   "language": "python",
   "name": "python3"
  },
  "language_info": {
   "codemirror_mode": {
    "name": "ipython",
    "version": 3
   },
   "file_extension": ".py",
   "mimetype": "text/x-python",
   "name": "python",
   "nbconvert_exporter": "python",
   "pygments_lexer": "ipython3",
   "version": "3.7.4"
  }
 },
 "nbformat": 4,
 "nbformat_minor": 2
}
