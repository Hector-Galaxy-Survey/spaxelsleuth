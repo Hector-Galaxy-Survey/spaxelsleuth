{
 "cells": [
  {
   "cell_type": "markdown",
   "metadata": {},
   "source": [
    "# How cleanly are different spectral categories separated in the WHAV* diagram? Can we come up with clean dividing lines that can be used for reliable spectral classification based only on the H$\\alpha$ EW and $\\sigma_{\\rm gas} - \\sigma_*$?\n",
    "---\n",
    "Like Lisa suggested: given a set of boundaries in the WHAV* diagram, what % of BPT-classified star-forming spaxels lie within those boundaries, etc.? \n",
    "\n",
    "In here:\n",
    "1. Recreate Fig. 15 from the paper draft, but with each spectral classification shown separately (classification based on *total* emission line fluxes)\n",
    "2. Repeat the above, but with the emission line fluxes from *individual components*. Idea: put all 3 components in 1 diagram to make larger samples. "
   ]
  },
  {
   "cell_type": "code",
   "execution_count": 1,
   "metadata": {},
   "outputs": [],
   "source": [
    "%matplotlib widget"
   ]
  },
  {
   "cell_type": "code",
   "execution_count": 227,
   "metadata": {},
   "outputs": [],
   "source": [
    "# Imports\n",
    "import sys\n",
    "import os \n",
    "import numpy as np\n",
    "import pandas as pd\n",
    "from astropy.visualization import hist\n",
    "\n",
    "from spaxelsleuth.loaddata.lzifu import load_lzifu_galaxies\n",
    "from spaxelsleuth.loaddata.sami import load_sami_galaxies\n",
    "from spaxelsleuth.plotting.plottools import plot_empty_BPT_diagram\n",
    "from spaxelsleuth.plotting.plottools import vmin_fn, vmax_fn, label_fn, cmap_fn\n",
    "from spaxelsleuth.plotting.plottools import bpt_colours, bpt_labels, bpt_ticks\n",
    "from spaxelsleuth.plotting.plottools import morph_labels, morph_ticks\n",
    "from spaxelsleuth.plotting.plottools import ncomponents_labels, ncomponents_colours\n",
    "from spaxelsleuth.plotting.plottools import component_labels, component_colours\n",
    "from spaxelsleuth.plotting.plotgalaxies import plot2dhistcontours, plot2dscatter, plot2dcontours\n",
    "\n",
    "import matplotlib\n",
    "from matplotlib import rc, rcParams\n",
    "import matplotlib.pyplot as plt\n",
    "from matplotlib.backends.backend_pdf import PdfPages\n",
    "\n",
    "rc(\"text\", usetex=False)\n",
    "rc(\"font\",**{\"family\": \"serif\", \"size\": 14})\n",
    "rcParams[\"savefig.bbox\"] = \"tight\"\n",
    "rcParams[\"savefig.format\"] = \"pdf\"\n",
    "plt.ion()\n",
    "plt.close(\"all\")\n"
   ]
  },
  {
   "cell_type": "code",
   "execution_count": 228,
   "metadata": {},
   "outputs": [],
   "source": [
    "# Options\n",
    "fig_path = \"/priv/meggs3/u5708159/SAMI/figs/full_sample/\"\n",
    "savefigs = False\n",
    "bin_type = \"default\"    # Options: \"default\" or \"adaptive\" for Voronoi binning\n",
    "ncomponents = \"recom\"   # Options: \"1\" or \"recom\"\n",
    "eline_SNR_min = 3       # Minimum S/N of emission lines to accept\n"
   ]
  },
  {
   "cell_type": "code",
   "execution_count": 4,
   "metadata": {},
   "outputs": [
    {
     "name": "stderr",
     "output_type": "stream",
     "text": [
      "/pkg/linux/anaconda-20191122/anaconda3/lib/python3.7/site-packages/pandas/core/indexing.py:376: SettingWithCopyWarning: \n",
      "A value is trying to be set on a copy of a slice from a DataFrame.\n",
      "Try using .loc[row_indexer,col_indexer] = value instead\n",
      "\n",
      "See the caveats in the documentation: http://pandas.pydata.org/pandas-docs/stable/user_guide/indexing.html#returning-a-view-versus-a-copy\n",
      "  self.obj[key] = _infer_fill_value(value)\n",
      "/pkg/linux/anaconda-20191122/anaconda3/lib/python3.7/site-packages/pandas/core/indexing.py:494: SettingWithCopyWarning: \n",
      "A value is trying to be set on a copy of a slice from a DataFrame.\n",
      "Try using .loc[row_indexer,col_indexer] = value instead\n",
      "\n",
      "See the caveats in the documentation: http://pandas.pydata.org/pandas-docs/stable/user_guide/indexing.html#returning-a-view-versus-a-copy\n",
      "  self.obj[item] = s\n",
      "/pkg/linux/anaconda-20191122/anaconda3/lib/python3.7/site-packages/pandas/core/series.py:853: RuntimeWarning: invalid value encountered in log10\n",
      "  result = getattr(ufunc, method)(*inputs, **kwargs)\n",
      "/pkg/linux/anaconda-20191122/anaconda3/lib/python3.7/site-packages/pandas/core/series.py:853: RuntimeWarning: divide by zero encountered in log10\n",
      "  result = getattr(ufunc, method)(*inputs, **kwargs)\n"
     ]
    },
    {
     "name": "stdout",
     "output_type": "stream",
     "text": [
      "WARNING: in load_sami_galaxies: NOT correcting Halpha and HALPHA EW for extinction!\n"
     ]
    }
   ],
   "source": [
    "# Load the sample\n",
    "df = load_sami_galaxies(ncomponents=ncomponents,\n",
    "                        bin_type=bin_type,\n",
    "                        eline_SNR_min=eline_SNR_min, \n",
    "                        vgrad_cut=False,\n",
    "                        correct_extinction=False,\n",
    "                        sigma_gas_SNR_cut=True)"
   ]
  },
  {
   "cell_type": "code",
   "execution_count": 229,
   "metadata": {
    "scrolled": true
   },
   "outputs": [
    {
     "name": "stdout",
     "output_type": "stream",
     "text": [
      "Loading LZIFU DataFrame for all galaxies in the LZIFU subsample...\n"
     ]
    },
    {
     "name": "stderr",
     "output_type": "stream",
     "text": [
      "/pkg/linux/anaconda-20191122/anaconda3/lib/python3.7/site-packages/pandas/core/series.py:853: RuntimeWarning: divide by zero encountered in log10\n",
      "  result = getattr(ufunc, method)(*inputs, **kwargs)\n",
      "/pkg/linux/anaconda-20191122/anaconda3/lib/python3.7/site-packages/pandas/core/indexing.py:376: SettingWithCopyWarning: \n",
      "A value is trying to be set on a copy of a slice from a DataFrame.\n",
      "Try using .loc[row_indexer,col_indexer] = value instead\n",
      "\n",
      "See the caveats in the documentation: http://pandas.pydata.org/pandas-docs/stable/user_guide/indexing.html#returning-a-view-versus-a-copy\n",
      "  self.obj[key] = _infer_fill_value(value)\n",
      "/pkg/linux/anaconda-20191122/anaconda3/lib/python3.7/site-packages/pandas/core/indexing.py:494: SettingWithCopyWarning: \n",
      "A value is trying to be set on a copy of a slice from a DataFrame.\n",
      "Try using .loc[row_indexer,col_indexer] = value instead\n",
      "\n",
      "See the caveats in the documentation: http://pandas.pydata.org/pandas-docs/stable/user_guide/indexing.html#returning-a-view-versus-a-copy\n",
      "  self.obj[item] = s\n",
      "/home/u5708159/python/Modules/spaxelsleuth/loaddata/linefns.py:78: RuntimeWarning: invalid value encountered in add\n",
      "  return -0.943 * ratio_y_vals**4 - 0.450 * ratio_y_vals**3 + 0.408 * ratio_y_vals**2 - 0.610 * ratio_y_vals - 0.025\n",
      "/pkg/linux/anaconda-20191122/anaconda3/lib/python3.7/site-packages/pandas/core/series.py:853: RuntimeWarning: invalid value encountered in log10\n",
      "  result = getattr(ufunc, method)(*inputs, **kwargs)\n"
     ]
    },
    {
     "name": "stdout",
     "output_type": "stream",
     "text": [
      "WARNING: in load_lzifu_galaxy: NOT correcting Halpha and HALPHA EW for extinction!\n"
     ]
    }
   ],
   "source": [
    "# Load the LZIFU galaxies\n",
    "df_lzifu = load_lzifu_galaxies(ncomponents=ncomponents,\n",
    "                              bin_type=bin_type,\n",
    "                              eline_SNR_min=eline_SNR_min, \n",
    "                              vgrad_cut=False,\n",
    "                              correct_extinction=False,\n",
    "                              sigma_gas_SNR_cut=True)        \n"
   ]
  },
  {
   "cell_type": "code",
   "execution_count": 6,
   "metadata": {
    "scrolled": true
   },
   "outputs": [
    {
     "data": {
      "text/plain": [
       "0.0"
      ]
     },
     "execution_count": 6,
     "metadata": {},
     "output_type": "execute_result"
    }
   ],
   "source": [
    "df_lzifu[\"HALPHA continuum luminosity\"].min()"
   ]
  },
  {
   "cell_type": "code",
   "execution_count": 7,
   "metadata": {},
   "outputs": [],
   "source": [
    "# Plot settings\n",
    "col_x = \"sigma_gas - sigma_*\"\n",
    "col_y = \"log HALPHA EW\"\n",
    "nbins = 100\n",
    "\n",
    "# Spectral categories\n",
    "cats = [\"SF\", \"Composite\", \"Seyfert\", \"LINER\", \"Ambiguous\", \"Not classified\"]\n"
   ]
  },
  {
   "cell_type": "markdown",
   "metadata": {},
   "source": [
    "## Classification based on *total* fluxes: WHAV* diagrams\n",
    "---"
   ]
  },
  {
   "cell_type": "code",
   "execution_count": 8,
   "metadata": {
    "scrolled": false
   },
   "outputs": [
    {
     "data": {
      "application/vnd.jupyter.widget-view+json": {
       "model_id": "b5209a47786a40559d9c4149fb144f0f",
       "version_major": 2,
       "version_minor": 0
      },
      "text/plain": [
       "Canvas(toolbar=Toolbar(toolitems=[('Home', 'Reset original view', 'home', 'home'), ('Back', 'Back to previous …"
      ]
     },
     "metadata": {},
     "output_type": "display_data"
    }
   ],
   "source": [
    "###############################################################################\n",
    "# WHAV diagram (hist) - spectral classification (all together)\n",
    "###############################################################################\n",
    "col_z = \"BPT (numeric) (total)\"\n",
    "\n",
    "# Create figure\n",
    "fig, axs = plt.subplots(nrows=1, ncols=3, figsize=(5 * 3, 5))\n",
    "fig.subplots_adjust(wspace=0)\n",
    "bbox = axs[-1].get_position()\n",
    "cax = fig.add_axes([bbox.x0 + bbox.width, bbox.y0, 0.03, bbox.height])\n",
    "\n",
    "# recom components\n",
    "for ii in range(3):\n",
    "    plot2dhistcontours(df, col_x=f\"{col_x} (component {ii})\",\n",
    "                          col_y=f\"{col_y} (component {ii})\",\n",
    "                          col_z=f\"{col_z} (component {ii})\" if f\"{col_z} (component {ii})\" in df else col_z,\n",
    "                          alpha=1.0, ax=axs[ii], cax=cax, nbins=nbins,\n",
    "                          linewidths=0.5,\n",
    "                          contours=True, hist=True, colors=\"white\",\n",
    "                          plot_colorbar=True if ii == 3 - 1 else False)\n",
    "    # Decorations\n",
    "    axs[ii].grid()\n",
    "    axs[ii].set_ylabel(\"\") if ii > 0 else None\n",
    "    axs[ii].set_yticklabels([]) if ii > 0 else None\n",
    "    axs[ii].set_title(component_labels[ii])\n",
    "        "
   ]
  },
  {
   "cell_type": "code",
   "execution_count": 9,
   "metadata": {
    "scrolled": false
   },
   "outputs": [
    {
     "data": {
      "application/vnd.jupyter.widget-view+json": {
       "model_id": "a94825b65a30490b8c316aa6c4fc3715",
       "version_major": 2,
       "version_minor": 0
      },
      "text/plain": [
       "Canvas(toolbar=Toolbar(toolitems=[('Home', 'Reset original view', 'home', 'home'), ('Back', 'Back to previous …"
      ]
     },
     "metadata": {},
     "output_type": "display_data"
    },
    {
     "data": {
      "application/vnd.jupyter.widget-view+json": {
       "model_id": "44047e32fe474a2395359e9020a32104",
       "version_major": 2,
       "version_minor": 0
      },
      "text/plain": [
       "Canvas(toolbar=Toolbar(toolitems=[('Home', 'Reset original view', 'home', 'home'), ('Back', 'Back to previous …"
      ]
     },
     "metadata": {},
     "output_type": "display_data"
    },
    {
     "name": "stderr",
     "output_type": "stream",
     "text": [
      "/home/u5708159/python/Modules/spaxelsleuth/plotting/plotgalaxies.py:177: UserWarning: No contour levels were found within the data range.\n",
      "  linewidths=linewidths)\n"
     ]
    },
    {
     "data": {
      "application/vnd.jupyter.widget-view+json": {
       "model_id": "7f7f68b942ae40d49188e25ee1278c33",
       "version_major": 2,
       "version_minor": 0
      },
      "text/plain": [
       "Canvas(toolbar=Toolbar(toolitems=[('Home', 'Reset original view', 'home', 'home'), ('Back', 'Back to previous …"
      ]
     },
     "metadata": {},
     "output_type": "display_data"
    },
    {
     "data": {
      "application/vnd.jupyter.widget-view+json": {
       "model_id": "6d57d13b5afd403ba0d62b557e5b7f93",
       "version_major": 2,
       "version_minor": 0
      },
      "text/plain": [
       "Canvas(toolbar=Toolbar(toolitems=[('Home', 'Reset original view', 'home', 'home'), ('Back', 'Back to previous …"
      ]
     },
     "metadata": {},
     "output_type": "display_data"
    },
    {
     "data": {
      "application/vnd.jupyter.widget-view+json": {
       "model_id": "3ecaf564cc6540bba06f6aacf7f2b438",
       "version_major": 2,
       "version_minor": 0
      },
      "text/plain": [
       "Canvas(toolbar=Toolbar(toolitems=[('Home', 'Reset original view', 'home', 'home'), ('Back', 'Back to previous …"
      ]
     },
     "metadata": {},
     "output_type": "display_data"
    },
    {
     "data": {
      "application/vnd.jupyter.widget-view+json": {
       "model_id": "5f65777610774a7ead3adb5bb02a3880",
       "version_major": 2,
       "version_minor": 0
      },
      "text/plain": [
       "Canvas(toolbar=Toolbar(toolitems=[('Home', 'Reset original view', 'home', 'home'), ('Back', 'Back to previous …"
      ]
     },
     "metadata": {},
     "output_type": "display_data"
    }
   ],
   "source": [
    "###############################################################################\n",
    "# WHAV diagram (hist) - spectral classification (individually)\n",
    "###############################################################################\n",
    "for cat in cats:\n",
    "    df_subset = df.loc[df[\"BPT (total)\"] == cat]\n",
    "    \n",
    "    # Create figure\n",
    "    fig, axs = plt.subplots(nrows=1, ncols=3, figsize=(5 * 3, 5))\n",
    "    fig.subplots_adjust(wspace=0)\n",
    "    bbox = axs[-1].get_position()\n",
    "    cax = fig.add_axes([bbox.x0 + bbox.width, bbox.y0, 0.03, bbox.height])\n",
    "\n",
    "    # recom components\n",
    "    for ii in range(3):\n",
    "        plot2dhistcontours(df_subset, \n",
    "                           col_x=f\"{col_x} (component {ii})\",\n",
    "                           col_y=f\"{col_y} (component {ii})\",\n",
    "                           # col_z=\"log SFR surface density (component 0)\", log_z=False,\n",
    "                           # col_z=\"log N2 (total)\", log_z=False,\n",
    "                           # vmin=-0.4 - 0.6, vmax=-0.4 + 0.6, cmap=\"coolwarm\",\n",
    "                           # col_z=\"count\", log_z=True,\n",
    "                           col_z=f\"log HALPHA luminosity (component {ii})\", vmax=40,\n",
    "                           # col_z=f\"log HALPHA continuum luminosity\", vmax=39,\n",
    "                           alpha=1.0, ax=axs[ii], cax=cax, nbins=nbins,\n",
    "                           linewidths=0.5,\n",
    "                           contours=True, hist=True, colors=\"white\",\n",
    "                           plot_colorbar=True if ii == 3 - 1 else False)\n",
    "        # Decorations\n",
    "        axs[ii].grid()\n",
    "        axs[ii].set_ylabel(\"\") if ii > 0 else None\n",
    "        axs[ii].set_yticklabels([]) if ii > 0 else None\n",
    "        axs[ii].set_title(component_labels[ii])\n",
    "        fig.suptitle(cat)\n"
   ]
  },
  {
   "cell_type": "markdown",
   "metadata": {},
   "source": [
    "## Classification based on *individual* fluxes: WHAV* diagrams\n",
    "---"
   ]
  },
  {
   "cell_type": "code",
   "execution_count": 10,
   "metadata": {
    "scrolled": false
   },
   "outputs": [
    {
     "data": {
      "application/vnd.jupyter.widget-view+json": {
       "model_id": "ab3e92d54ecc4d2dbf80554a58ee7a06",
       "version_major": 2,
       "version_minor": 0
      },
      "text/plain": [
       "Canvas(toolbar=Toolbar(toolitems=[('Home', 'Reset original view', 'home', 'home'), ('Back', 'Back to previous …"
      ]
     },
     "metadata": {},
     "output_type": "display_data"
    }
   ],
   "source": [
    "###############################################################################\n",
    "# WHAV diagram (hist) - LZIFU - spectral classification\n",
    "###############################################################################\n",
    "col_z = \"BPT (numeric)\"\n",
    "\n",
    "# Create figure\n",
    "fig, axs = plt.subplots(nrows=1, ncols=3, figsize=(5 * 3, 5))\n",
    "fig.subplots_adjust(wspace=0)\n",
    "bbox = axs[-1].get_position()\n",
    "cax = fig.add_axes([bbox.x0 + bbox.width, bbox.y0, 0.03, bbox.height])\n",
    "\n",
    "# recom components\n",
    "for ii in range(3):\n",
    "    plot2dhistcontours(df_lzifu, col_x=f\"{col_x} (component {ii})\",\n",
    "                          col_y=f\"{col_y} (component {ii})\",\n",
    "                          col_z=f\"{col_z} (component {ii})\" if f\"{col_z} (component {ii})\" in df_lzifu else col_z,\n",
    "                          alpha=1.0, ax=axs[ii], cax=cax, nbins=nbins,\n",
    "                          linewidths=0.5,\n",
    "                          contours=True, hist=True, colors=\"white\",\n",
    "                          plot_colorbar=True if ii == 3 - 1 else False)\n",
    "    \n",
    "    # Decorations\n",
    "    axs[ii].grid()\n",
    "    axs[ii].set_ylabel(\"\") if ii > 0 else None\n",
    "    axs[ii].set_yticklabels([]) if ii > 0 else None\n",
    "    axs[ii].set_title(component_labels[ii])\n",
    "        "
   ]
  },
  {
   "cell_type": "code",
   "execution_count": 11,
   "metadata": {
    "scrolled": false
   },
   "outputs": [
    {
     "data": {
      "application/vnd.jupyter.widget-view+json": {
       "model_id": "427858bec7de4de6a7a06ead20a009a2",
       "version_major": 2,
       "version_minor": 0
      },
      "text/plain": [
       "Canvas(toolbar=Toolbar(toolitems=[('Home', 'Reset original view', 'home', 'home'), ('Back', 'Back to previous …"
      ]
     },
     "metadata": {},
     "output_type": "display_data"
    },
    {
     "data": {
      "application/vnd.jupyter.widget-view+json": {
       "model_id": "f8cd698853c648acb48907e79f06fa72",
       "version_major": 2,
       "version_minor": 0
      },
      "text/plain": [
       "Canvas(toolbar=Toolbar(toolitems=[('Home', 'Reset original view', 'home', 'home'), ('Back', 'Back to previous …"
      ]
     },
     "metadata": {},
     "output_type": "display_data"
    },
    {
     "data": {
      "application/vnd.jupyter.widget-view+json": {
       "model_id": "a8c3b0e12cdc4147a46800ef5f14ba09",
       "version_major": 2,
       "version_minor": 0
      },
      "text/plain": [
       "Canvas(toolbar=Toolbar(toolitems=[('Home', 'Reset original view', 'home', 'home'), ('Back', 'Back to previous …"
      ]
     },
     "metadata": {},
     "output_type": "display_data"
    },
    {
     "data": {
      "application/vnd.jupyter.widget-view+json": {
       "model_id": "e0678b396f344e4a9a80b6f9225395f6",
       "version_major": 2,
       "version_minor": 0
      },
      "text/plain": [
       "Canvas(toolbar=Toolbar(toolitems=[('Home', 'Reset original view', 'home', 'home'), ('Back', 'Back to previous …"
      ]
     },
     "metadata": {},
     "output_type": "display_data"
    },
    {
     "data": {
      "application/vnd.jupyter.widget-view+json": {
       "model_id": "4ff5cd49305c472093982c3309a8e2a7",
       "version_major": 2,
       "version_minor": 0
      },
      "text/plain": [
       "Canvas(toolbar=Toolbar(toolitems=[('Home', 'Reset original view', 'home', 'home'), ('Back', 'Back to previous …"
      ]
     },
     "metadata": {},
     "output_type": "display_data"
    },
    {
     "data": {
      "application/vnd.jupyter.widget-view+json": {
       "model_id": "d1b4f91452754a558026f7d404413239",
       "version_major": 2,
       "version_minor": 0
      },
      "text/plain": [
       "Canvas(toolbar=Toolbar(toolitems=[('Home', 'Reset original view', 'home', 'home'), ('Back', 'Back to previous …"
      ]
     },
     "metadata": {},
     "output_type": "display_data"
    }
   ],
   "source": [
    "###############################################################################\n",
    "# WHAV diagram (hist) - LZIFU - spectral classification (individually)\n",
    "###############################################################################\n",
    "\n",
    "for cat in cats:\n",
    "    \n",
    "    # Create figure\n",
    "    fig, axs = plt.subplots(nrows=1, ncols=3, figsize=(5 * 3, 5))\n",
    "    fig.subplots_adjust(wspace=0)\n",
    "    bbox = axs[-1].get_position()\n",
    "    cax = fig.add_axes([bbox.x0 + bbox.width, bbox.y0, 0.03, bbox.height])\n",
    "\n",
    "    # recom components\n",
    "    for ii in range(3):\n",
    "        df_subset = df_lzifu.loc[df_lzifu[f\"BPT (component {ii})\"] == cat]\n",
    "        if df_subset.shape[0] > 0:\n",
    "            plot2dhistcontours(df_subset, \n",
    "                               col_x=f\"{col_x} (component {ii})\",\n",
    "                               col_y=f\"{col_y} (component {ii})\",\n",
    "                               col_z=\"count\", log_z=True,\n",
    "                               alpha=1.0, ax=axs[ii], cax=cax, nbins=nbins,\n",
    "                               linewidths=0.5,\n",
    "                               contours=True, hist=True, colors=\"white\",\n",
    "                               plot_colorbar=True if ii == 3 - 1 else False)\n",
    "            # Decorations\n",
    "            axs[ii].grid()\n",
    "            axs[ii].set_ylabel(\"\") if ii > 0 else None\n",
    "            axs[ii].set_yticklabels([]) if ii > 0 else None\n",
    "            axs[ii].set_title(component_labels[ii])\n",
    "            fig.suptitle(cat)\n"
   ]
  },
  {
   "cell_type": "markdown",
   "metadata": {},
   "source": [
    "## Making a monster DataFrame containing the *individual* fluxes from our LZIFU fits plus the single-component spaxels from SAMI \n",
    "---"
   ]
  },
  {
   "cell_type": "code",
   "execution_count": 12,
   "metadata": {},
   "outputs": [],
   "source": [
    "#//////////////////////////////////////////////////////////////////////////////\n",
    "# 1-component spaxels from SAMI\n",
    "df_1comp = df[df[\"Number of components\"] == 1]\n",
    "\n",
    "# Need to rename the BPT classifcation from \"total\" to \"component 0\" to be consistent with the labelling in the LZIFU DataFrame\n",
    "df_1comp = df_1comp.rename(columns={\n",
    "    \"BPT (total)\": \"BPT (component 0)\",\n",
    "    \"BPT (numeric) (total)\": \"BPT (numeric) (component 0)\",\n",
    "    \"log N2 (total)\": \"log N2 (component 0)\"\n",
    "})\n",
    "\n",
    "# Drop bad rows\n",
    "df_1comp.loc[:, \"Good?\"] = ~df_1comp[f\"{col_x} (component 0)\"].isna() & ~df_1comp[f\"{col_y} (component 0)\"].isna()\n",
    "cond = df_1comp[\"Good?\"] == 1.0\n",
    "df_1comp = df_1comp[cond]\n"
   ]
  },
  {
   "cell_type": "code",
   "execution_count": 13,
   "metadata": {},
   "outputs": [
    {
     "name": "stdout",
     "output_type": "stream",
     "text": [
      "---------------------------------------------------\n",
      "141       -39.987221\n",
      "169       -51.355183\n",
      "1081      -93.161389\n",
      "1171      -39.273698\n",
      "1522      -56.981917\n",
      "             ...    \n",
      "100562   -124.450676\n",
      "100609   -115.587561\n",
      "100708    -95.485535\n",
      "100506    -77.352871\n",
      "100952   -123.300015\n",
      "Name: sigma_gas - sigma_* (component 0), Length: 109654, dtype: float64\n",
      "---------------------------------------------------\n",
      "141       -39.987221\n",
      "169       -51.355183\n",
      "1081      -93.161389\n",
      "1171      -39.273698\n",
      "1522      -56.981917\n",
      "             ...    \n",
      "100562   -124.450676\n",
      "100609   -115.587561\n",
      "100708    -95.485535\n",
      "100506    -77.352871\n",
      "100952   -123.300015\n",
      "Name: sigma_gas - sigma_* (component 0), Length: 109654, dtype: float64\n",
      "---------------------------------------------------\n",
      "141       -39.987221\n",
      "169       -51.355183\n",
      "1081      -93.161389\n",
      "1171      -39.273698\n",
      "1522      -56.981917\n",
      "             ...    \n",
      "100562   -124.450676\n",
      "100609   -115.587561\n",
      "100708    -95.485535\n",
      "100506    -77.352871\n",
      "100952   -123.300015\n",
      "Name: sigma_gas - sigma_* (component 0), Length: 109654, dtype: float64\n",
      "---------------------------------------------------\n",
      "169        92.029160\n",
      "2135       -6.172378\n",
      "2164       -2.509878\n",
      "2351      -41.102333\n",
      "2821        6.336304\n",
      "             ...    \n",
      "100562    -59.869867\n",
      "100609    -54.413210\n",
      "100708    -39.113602\n",
      "100506    -22.403125\n",
      "100952   -111.607713\n",
      "Name: sigma_gas - sigma_* (component 1), Length: 20394, dtype: float64\n",
      "---------------------------------------------------\n",
      "169        92.029160\n",
      "2135       -6.172378\n",
      "2164       -2.509878\n",
      "2351      -41.102333\n",
      "2821        6.336304\n",
      "             ...    \n",
      "100562    -59.869867\n",
      "100609    -54.413210\n",
      "100708    -39.113602\n",
      "100506    -22.403125\n",
      "100952   -111.607713\n",
      "Name: sigma_gas - sigma_* (component 0), Length: 20394, dtype: float64\n",
      "---------------------------------------------------\n",
      "141       -39.987221\n",
      "169       -51.355183\n",
      "1081      -93.161389\n",
      "1171      -39.273698\n",
      "1522      -56.981917\n",
      "             ...    \n",
      "100562    -59.869867\n",
      "100609    -54.413210\n",
      "100708    -39.113602\n",
      "100506    -22.403125\n",
      "100952   -111.607713\n",
      "Name: sigma_gas - sigma_* (component 0), Length: 130048, dtype: float64\n"
     ]
    },
    {
     "name": "stderr",
     "output_type": "stream",
     "text": [
      "/pkg/linux/anaconda-20191122/anaconda3/lib/python3.7/site-packages/pandas/core/frame.py:7123: FutureWarning: Sorting because non-concatenation axis is not aligned. A future version\n",
      "of pandas will change to not sort by default.\n",
      "\n",
      "To accept the future behavior, pass 'sort=False'.\n",
      "\n",
      "To retain the current behavior and silence the warning, pass 'sort=True'.\n",
      "\n",
      "  sort=sort,\n"
     ]
    },
    {
     "name": "stdout",
     "output_type": "stream",
     "text": [
      "---------------------------------------------------\n",
      "2977       58.876383\n",
      "3482       17.498658\n",
      "3528       12.418621\n",
      "3530       23.455108\n",
      "3582      -22.431918\n",
      "             ...    \n",
      "100562    159.349249\n",
      "100609    178.208913\n",
      "100708    212.162910\n",
      "100506    296.309544\n",
      "100952     26.502418\n",
      "Name: sigma_gas - sigma_* (component 2), Length: 2184, dtype: float64\n",
      "---------------------------------------------------\n",
      "2977       58.876383\n",
      "3482       17.498658\n",
      "3528       12.418621\n",
      "3530       23.455108\n",
      "3582      -22.431918\n",
      "             ...    \n",
      "100562    159.349249\n",
      "100609    178.208913\n",
      "100708    212.162910\n",
      "100506    296.309544\n",
      "100952     26.502418\n",
      "Name: sigma_gas - sigma_* (component 0), Length: 2184, dtype: float64\n",
      "---------------------------------------------------\n",
      "141       -39.987221\n",
      "169       -51.355183\n",
      "1081      -93.161389\n",
      "1171      -39.273698\n",
      "1522      -56.981917\n",
      "             ...    \n",
      "100562    159.349249\n",
      "100609    178.208913\n",
      "100708    212.162910\n",
      "100506    296.309544\n",
      "100952     26.502418\n",
      "Name: sigma_gas - sigma_* (component 0), Length: 132232, dtype: float64\n"
     ]
    }
   ],
   "source": [
    "#//////////////////////////////////////////////////////////////////////////////\n",
    "# Make a copy of the LZIFU data frame where the fluxes/classifications for \n",
    "# all components are stored in \"component 0\"\n",
    "df_lzifu_comp0 = None\n",
    "for ii in [0, 1, 2]:\n",
    "    df_this_component = df_lzifu[~df_lzifu[f\"sigma_gas - sigma_* (component {ii})\"].isna()]\n",
    "    # print(df_this_component[print_cols])\n",
    "    \n",
    "    # Drop all columns that are NOT this component\n",
    "    other_components = [cc for cc in [0, 1, 2] if cc != ii]\n",
    "    cols_to_drop = [c for c in df_this_component.columns if f\"(total)\" in c]\n",
    "    for cc in other_components:\n",
    "        cols_to_drop += [c for c in df_this_component.columns if f\"(component {cc})\" in c]\n",
    "    df_this_component = df_this_component.drop(columns=cols_to_drop)\n",
    "    print(\"---------------------------------------------------\")\n",
    "    print(df_this_component[f\"sigma_gas - sigma_* (component {ii})\"])\n",
    "\n",
    "    # Rename columns to have suffix \"component 0\"\n",
    "    if ii != 0:\n",
    "        cols_to_rename = [c for c in df_this_component.columns if c.endswith(f\"(component {ii})\")]\n",
    "        new_col_names = [c.split(f\"(component {ii})\")[0] + \"(component 0)\" for c in cols_to_rename]\n",
    "        rename_dict = dict(zip(cols_to_rename, new_col_names))\n",
    "        df_this_component = df_this_component.rename(columns=rename_dict)\n",
    "    print(\"---------------------------------------------------\")\n",
    "    print(df_this_component[f\"sigma_gas - sigma_* (component 0)\"])\n",
    "\n",
    "    # Merge \n",
    "    if df_lzifu_comp0 is None:\n",
    "        df_lzifu_comp0 = df_this_component.copy()\n",
    "    else:\n",
    "        df_lzifu_comp0 = df_lzifu_comp0.append(df_this_component)\n",
    "    print(\"---------------------------------------------------\")\n",
    "    print(df_lzifu_comp0[f\"sigma_gas - sigma_* (component 0)\"])\n",
    "\n",
    "# Drop bad rows\n",
    "df_lzifu_comp0.loc[:, \"Good?\"] = ~df_lzifu_comp0[f\"{col_x} (component 0)\"].isna() & ~df_lzifu_comp0[f\"{col_y} (component 0)\"].isna()\n",
    "cond = df_lzifu_comp0[\"Good?\"] == 1.0\n",
    "df_lzifu_comp0 = df_lzifu_comp0[cond]"
   ]
  },
  {
   "cell_type": "code",
   "execution_count": 14,
   "metadata": {},
   "outputs": [],
   "source": [
    "#//////////////////////////////////////////////////////////////////////////////\n",
    "# Merge \n",
    "# Need to avoid double-counting spaxels... \n",
    "# Find common galaxies and remove these from the SAMI 1-comp data frame \n",
    "lzifu_galaxies = df_lzifu_comp0.catid.unique()\n",
    "sami_galaxies = df_1comp.catid.unique()\n",
    "common_galaxies = [g for g in lzifu_galaxies if g in sami_galaxies]\n",
    "lzifu_only_galaxies = [g for g in lzifu_galaxies if g not in sami_galaxies]\n",
    "\n",
    "# Remove the common galaxies from the SAMI data frame\n",
    "rows_to_drop = df_1comp.catid.isin(common_galaxies)\n",
    "df_1comp_dropped = df_1comp.drop(rows_to_drop[rows_to_drop].index)\n",
    "\n",
    "# Check\n",
    "# assert len([g for g in gals_1comp_only if g in lzifu_galaxies]) == 0,\\\n",
    "#     \"ERROR: there are galaxies in the 1-component SAMI data set that are also in the LZIFU data set!\"\n",
    "assert np.all(df_lzifu_comp0[\"Good?\"].values),\\\n",
    "    \"ERROR: there are 'bad' rows in df_lzifu_comp0!\"\n",
    "assert np.all(df_1comp_dropped[\"Good?\"].values),\\\n",
    "    \"ERROR: there are 'bad' rows in df_lzifu_comp0!\"\n",
    "\n",
    "# Now, merge \n",
    "df_1comp_dropped[\"Source\"] = \"SAMI data set (1-comp only)\"\n",
    "df_lzifu_comp0[\"Source\"] = \"LZIFU fits (multi-comp)\"\n",
    "df_merged = df_lzifu_comp0.append(df_1comp_dropped)\n"
   ]
  },
  {
   "cell_type": "code",
   "execution_count": 15,
   "metadata": {
    "scrolled": true
   },
   "outputs": [
    {
     "data": {
      "text/plain": [
       "417     27.698055\n",
       "417     38.059116\n",
       "417    137.994431\n",
       "Name: sigma_gas (component 0), dtype: float64"
      ]
     },
     "execution_count": 15,
     "metadata": {},
     "output_type": "execute_result"
    }
   ],
   "source": [
    "# Check! \n",
    "cond = df_merged[\"catid\"] == 491956\n",
    "cond &= df_merged[\"x (projected, arcsec)\"] == 12\n",
    "cond &= df_merged[\"y (projected, arcsec)\"] == 12\n",
    "df_merged[cond][\"sigma_gas (component 0)\"]"
   ]
  },
  {
   "cell_type": "code",
   "execution_count": 16,
   "metadata": {},
   "outputs": [
    {
     "data": {
      "text/html": [
       "<div>\n",
       "<style scoped>\n",
       "    .dataframe tbody tr th:only-of-type {\n",
       "        vertical-align: middle;\n",
       "    }\n",
       "\n",
       "    .dataframe tbody tr th {\n",
       "        vertical-align: top;\n",
       "    }\n",
       "\n",
       "    .dataframe thead th {\n",
       "        text-align: right;\n",
       "    }\n",
       "</style>\n",
       "<table border=\"1\" class=\"dataframe\">\n",
       "  <thead>\n",
       "    <tr style=\"text-align: right;\">\n",
       "      <th></th>\n",
       "      <th>sigma_gas (component 0)</th>\n",
       "      <th>sigma_gas (component 1)</th>\n",
       "      <th>sigma_gas (component 2)</th>\n",
       "    </tr>\n",
       "  </thead>\n",
       "  <tbody>\n",
       "    <tr>\n",
       "      <td>417</td>\n",
       "      <td>27.698055</td>\n",
       "      <td>38.059116</td>\n",
       "      <td>137.994431</td>\n",
       "    </tr>\n",
       "  </tbody>\n",
       "</table>\n",
       "</div>"
      ],
      "text/plain": [
       "     sigma_gas (component 0)  sigma_gas (component 1)  sigma_gas (component 2)\n",
       "417                27.698055                38.059116               137.994431"
      ]
     },
     "execution_count": 16,
     "metadata": {},
     "output_type": "execute_result"
    }
   ],
   "source": [
    "cond = df_lzifu[\"catid\"] == 491956\n",
    "cond &= df_lzifu[\"x (projected, arcsec)\"] == 12\n",
    "cond &= df_lzifu[\"y (projected, arcsec)\"] == 12\n",
    "df_lzifu[cond][[\"sigma_gas (component 0)\",\"sigma_gas (component 1)\",\"sigma_gas (component 2)\"]]"
   ]
  },
  {
   "cell_type": "code",
   "execution_count": 18,
   "metadata": {},
   "outputs": [],
   "source": [
    "plt.close(\"all\")"
   ]
  },
  {
   "cell_type": "code",
   "execution_count": 187,
   "metadata": {
    "scrolled": false
   },
   "outputs": [
    {
     "data": {
      "application/vnd.jupyter.widget-view+json": {
       "model_id": "6c63c3055d7f4437969654d2b3816cb0",
       "version_major": 2,
       "version_minor": 0
      },
      "text/plain": [
       "Canvas(toolbar=Toolbar(toolitems=[('Home', 'Reset original view', 'home', 'home'), ('Back', 'Back to previous …"
      ]
     },
     "metadata": {},
     "output_type": "display_data"
    }
   ],
   "source": [
    "###############################################################################\n",
    "# WHAV diagram (hist) - spectral classification (individually), all shown on \n",
    "# the SAME diagram\n",
    "###############################################################################\n",
    "col_x = \"sigma_gas - sigma_*\"\n",
    "col_y = \"log HALPHA EW\"\n",
    "\n",
    "rc(\"font\",**{\"family\": \"serif\", \"size\": 8})\n",
    "nbins = 100\n",
    "fig, axs = plt.subplots(nrows=1, ncols=len(cats), figsize=(3 * len(cats), 3))\n",
    "# plt.tight_layout()\n",
    "fig.subplots_adjust(wspace=0.3)\n",
    "\n",
    "axs = [axs]\n",
    "for cc, cat in enumerate(cats):\n",
    "    # for rr, (df_this, name) in enumerate(zip([df_1comp_dropped, df_lzifu_comp0, df_merged,],\n",
    "                                 # [\"SAMI 1-component spaxels only\", \"LZIFU indivudual components\", \"SAMI 1-comp. spaxels + LZIFU ind. components\"])):\n",
    "    for rr, (df_this, name) in enumerate(zip([df_lzifu_comp0], [\"LZIFU indivudual components\"])):\n",
    "        # Create figure\n",
    "        ax = axs[rr][cc]\n",
    "        bbox = ax.get_position()\n",
    "        cax = fig.add_axes([bbox.x0 + bbox.width, bbox.y0, bbox.width / 10, bbox.height])\n",
    "       \n",
    "        # Plot: \n",
    "        df_subset = df_this.loc[df_this[f\"BPT (component 0)\"] == cat]\n",
    "        N = df_subset.shape[0]\n",
    "        if N > 0:\n",
    "            plot2dhistcontours(df_subset, \n",
    "                               col_x=f\"{col_x} (component 0)\",\n",
    "                               col_y=f\"{col_y} (component 0)\",\n",
    "                               # col_z=\"r/R_e\", log_z=False,\n",
    "                               # col_z=\"log HALPHA luminosity (component 0)\", vmax=39,\n",
    "                               col_z=f\"log N2 (component 0)\", vmin=-0.3 - 0.6, vmax=-0.3 + 0.6, cmap=\"coolwarm\",\n",
    "                               # col_z=\"log HALPHA EW (total)\",\n",
    "                               alpha=1.0, ax=ax, cax=cax, nbins=nbins,\n",
    "                               linewidths=0.5, \n",
    "                               contours=True, hist=True, colors=\"white\",\n",
    "                               plot_colorbar=True)\n",
    "            \n",
    "        # Decorations\n",
    "        ax.grid()\n",
    "        ax.text(s=f\"{cat} (N = {N:d})\", x=0.1, y=0.9, verticalalignment=\"top\", transform=ax.transAxes)\n",
    "        axs[rr][0].set_title(name)\n",
    "        \n",
    "# plt.tight_layout()\n",
    "\n",
    "# revert font size\n",
    "rc(\"font\",**{\"family\": \"serif\", \"size\": 14})"
   ]
  },
  {
   "cell_type": "code",
   "execution_count": 123,
   "metadata": {},
   "outputs": [],
   "source": [
    "plt.close(\"all\")"
   ]
  },
  {
   "cell_type": "code",
   "execution_count": 23,
   "metadata": {
    "scrolled": true
   },
   "outputs": [
    {
     "data": {
      "application/vnd.jupyter.widget-view+json": {
       "model_id": "64fc791eef9d47e294e4247cacbdc0d8",
       "version_major": 2,
       "version_minor": 0
      },
      "text/plain": [
       "Canvas(toolbar=Toolbar(toolitems=[('Home', 'Reset original view', 'home', 'home'), ('Back', 'Back to previous …"
      ]
     },
     "metadata": {},
     "output_type": "display_data"
    },
    {
     "name": "stderr",
     "output_type": "stream",
     "text": [
      "/pkg/linux/anaconda-20191122/anaconda3/lib/python3.7/site-packages/ipykernel_launcher.py:15: MatplotlibDeprecationWarning: \n",
      "The 'normed' kwarg was deprecated in Matplotlib 2.1 and will be removed in 3.1. Use 'density' instead.\n",
      "  from ipykernel import kernelapp as app\n"
     ]
    },
    {
     "data": {
      "application/vnd.jupyter.widget-view+json": {
       "model_id": "4a86104f434d4629870e4744d73a54a6",
       "version_major": 2,
       "version_minor": 0
      },
      "text/plain": [
       "Canvas(toolbar=Toolbar(toolitems=[('Home', 'Reset original view', 'home', 'home'), ('Back', 'Back to previous …"
      ]
     },
     "metadata": {},
     "output_type": "display_data"
    }
   ],
   "source": [
    "# Histograms showing Halpha EW as a function of spectral category\n",
    "cat_colours = {\n",
    "    \"Not classified\":  np.array([128/256, 128/256, 128/256, 1]),\n",
    "    \"SF\":  np.array([0/256, 0/256, 256/256,1]),\n",
    "    \"Composite\":  np.array([0/256, 255/256,188/256, 1]),\n",
    "    \"LINER\":  np.array([256/256, 100/256, 0/256, 1])  ,\n",
    "    \"Seyfert\":  np.array([256/256, 239/256, 0/256, 1])  ,\n",
    "    \"Ambiguous\": np.array([256/256, 100/256, 256/256, 1])\n",
    "}\n",
    "\n",
    "for col in [\"log HALPHA EW\", \"sigma_gas - sigma_*\"]:\n",
    "    fig, ax = plt.subplots(nrows=1, ncols=1, figsize=(10, 5))\n",
    "    for cat in cats:\n",
    "        df_cat = df_lzifu_comp0[df_lzifu_comp0[\"BPT (component 0)\"] == cat]\n",
    "        ax.hist(df_cat[f\"{col} (component 0)\"], range=(vmin_fn(col), vmax_fn(col)), bins=100, histtype=\"step\", color=cat_colours[cat], label=cat, normed=True)\n",
    "    ax.set_xlabel(label_fn(col))\n",
    "    ax.set_ylabel(r\"$N$ (normalised)\")\n",
    "    ax.grid()\n",
    "    ax.legend()\n"
   ]
  },
  {
   "cell_type": "markdown",
   "metadata": {},
   "source": [
    "### Picking out the weirdos\n",
    "--- \n",
    "* What are the galaxies with the highest EWs in the LINER subset? **There are a couple that are bona-fide LLAGN with only minimal evidence for outflows (9388000001 and 9008500002), one with bona-fide merger-induced shocks (517278) and one that appears to be SF-bulge mixing but with LINER ratios for some reason.**\n",
    "* What are the Seyferts? "
   ]
  },
  {
   "cell_type": "code",
   "execution_count": 24,
   "metadata": {},
   "outputs": [
    {
     "data": {
      "text/plain": [
       "array([    618992,     517278, 9388000001, 9008500002])"
      ]
     },
     "execution_count": 24,
     "metadata": {},
     "output_type": "execute_result"
    }
   ],
   "source": [
    "# Moderate-high EWs but with delta_sigma < 0\n",
    "df_liners = df_lzifu_comp0[(df_lzifu_comp0[\"HALPHA EW (component 0)\"] > 3) & (df_lzifu_comp0[\"BPT (component 0)\"] == \"LINER\") & (df_lzifu_comp0[\"sigma_gas - sigma_* (component 0)\"] < -100)]\n",
    "df_liners[\"catid\"].unique()"
   ]
  },
  {
   "cell_type": "code",
   "execution_count": 25,
   "metadata": {},
   "outputs": [
    {
     "data": {
      "text/plain": [
       "array([    209698,     560407,     422446,      91926,     567445,\n",
       "            47460,     492883,      56181,     618992,     106549,\n",
       "            65406,     550781,     663440,     491887,     105738,\n",
       "           396833, 9011900147, 9239900178, 9388000197, 9388000200,\n",
       "       9403800881, 9016800216,      16926,     460378,     185365,\n",
       "       9016800276, 9388000046, 9008500107, 9008500074, 9011900166,\n",
       "           548946,      30346,     396607,     323329,     209807])"
      ]
     },
     "execution_count": 25,
     "metadata": {},
     "output_type": "execute_result"
    }
   ],
   "source": [
    "### Moderate-high EWs but with delta_sigma > 0\n",
    "df_liners = df_lzifu_comp0[(df_lzifu_comp0[\"HALPHA EW (component 0)\"] > 3) & (df_lzifu_comp0[\"BPT (component 0)\"] == \"LINER\") & (df_lzifu_comp0[\"sigma_gas - sigma_* (component 0)\"] > 0)]\n",
    "df_liners[\"catid\"].unique()"
   ]
  },
  {
   "cell_type": "code",
   "execution_count": 26,
   "metadata": {},
   "outputs": [
    {
     "data": {
      "application/vnd.jupyter.widget-view+json": {
       "model_id": "1b08167577e54e82b7c908e8164cdf9e",
       "version_major": 2,
       "version_minor": 0
      },
      "text/plain": [
       "Canvas(toolbar=Toolbar(toolitems=[('Home', 'Reset original view', 'home', 'home'), ('Back', 'Back to previous …"
      ]
     },
     "metadata": {},
     "output_type": "display_data"
    },
    {
     "data": {
      "image/png": "[encoded data removed]",
      "text/plain": [
       "<Figure size 900x700 with 2 Axes>"
      ]
     },
     "execution_count": 26,
     "metadata": {},
     "output_type": "execute_result"
    }
   ],
   "source": [
    "# seyferts: pick those with >3 Seyfert-like components\n",
    "df_seyferts = df_lzifu_comp0[df_lzifu_comp0[\"BPT (component 0)\"] == \"Seyfert\"]\n",
    "seyfert_gals = df_seyferts.catid.unique()\n",
    "good_gals = []\n",
    "for gal in seyfert_gals:\n",
    "    df_gal = df_seyferts[df_seyferts[\"catid\"] == gal]\n",
    "    if df_gal[df_gal[\"BPT (component 0)\"] == \"Seyfert\"].shape[0] > 5:\n",
    "        good_gals.append(gal)\n",
    "df_gals_with_seyfert_spaxels = df_lzifu_comp0[df_lzifu_comp0.catid.isin(good_gals)]\n",
    "\n",
    "# WHAV* diagram made only of galaxies with >5 Seyfert components\n",
    "col_x = \"sigma_gas - sigma_*\"\n",
    "col_y = \"log HALPHA EW\"\n",
    "plot2dhistcontours(df_gals_with_seyfert_spaxels, \n",
    "                   col_x=f\"{col_x} (component 0)\",\n",
    "                   col_y=f\"{col_y} (component 0)\",\n",
    "                   col_z=\"count\",\n",
    "                   alpha=1.0, nbins=1000,\n",
    "                   linewidths=0.5, \n",
    "                   contours=True, hist=True, colors=\"white\",\n",
    "                   plot_colorbar=True)\n",
    "\n"
   ]
  },
  {
   "cell_type": "code",
   "execution_count": 27,
   "metadata": {
    "collapsed": true
   },
   "outputs": [
    {
     "data": {
      "text/plain": [
       "[7841,\n",
       " 8703,\n",
       " 9062,\n",
       " 14552,\n",
       " 16317,\n",
       " 30346,\n",
       " 30916,\n",
       " 31620,\n",
       " 31912,\n",
       " 32362,\n",
       " 39057,\n",
       " 47674,\n",
       " 63305,\n",
       " 64553,\n",
       " 69740,\n",
       " 70532,\n",
       " 77452,\n",
       " 84900,\n",
       " 91545,\n",
       " 93803,\n",
       " 98097,\n",
       " 99349,\n",
       " 106549,\n",
       " 106638,\n",
       " 106717,\n",
       " 107137,\n",
       " 136232,\n",
       " 137838,\n",
       " 144402,\n",
       " 178190,\n",
       " 184648,\n",
       " 204799,\n",
       " 209698,\n",
       " 209807,\n",
       " 210660,\n",
       " 220396,\n",
       " 227264,\n",
       " 229163,\n",
       " 229167,\n",
       " 252021,\n",
       " 273336,\n",
       " 279905,\n",
       " 279932,\n",
       " 287824,\n",
       " 288982,\n",
       " 289089,\n",
       " 289096,\n",
       " 289097,\n",
       " 289197,\n",
       " 296677,\n",
       " 298591,\n",
       " 298666,\n",
       " 319070,\n",
       " 321059,\n",
       " 346894,\n",
       " 371633,\n",
       " 377666,\n",
       " 396833,\n",
       " 418725,\n",
       " 422443,\n",
       " 423784,\n",
       " 460378,\n",
       " 487027,\n",
       " 491887,\n",
       " 492690,\n",
       " 508132,\n",
       " 517278,\n",
       " 537365,\n",
       " 544749,\n",
       " 544958,\n",
       " 545903,\n",
       " 549070,\n",
       " 560238,\n",
       " 561020,\n",
       " 572402,\n",
       " 594049,\n",
       " 599838,\n",
       " 622787,\n",
       " 663440,\n",
       " 9008500062,\n",
       " 9008500120,\n",
       " 9011900001,\n",
       " 9011900002,\n",
       " 9011900006,\n",
       " 9011900024,\n",
       " 9011900030,\n",
       " 9011900051,\n",
       " 9011900057,\n",
       " 9011900073,\n",
       " 9011900074,\n",
       " 9011900084,\n",
       " 9011900125,\n",
       " 9011900137,\n",
       " 9011900138,\n",
       " 9011900166,\n",
       " 9011900247,\n",
       " 9011900413,\n",
       " 9011900492,\n",
       " 9011900500,\n",
       " 9016800001,\n",
       " 9016800014,\n",
       " 9016800024,\n",
       " 9016800039,\n",
       " 9016800047,\n",
       " 9016800087,\n",
       " 9016800197,\n",
       " 9016800216,\n",
       " 9016800236,\n",
       " 9016800275,\n",
       " 9016800393,\n",
       " 9044200001,\n",
       " 9044200158,\n",
       " 9091700001,\n",
       " 9239900004,\n",
       " 9239900009,\n",
       " 9388000003,\n",
       " 9388000041,\n",
       " 9388000062,\n",
       " 9388000391,\n",
       " 9403800001,\n",
       " 9403800002,\n",
       " 9403800003,\n",
       " 9403800008,\n",
       " 9403800021,\n",
       " 9403800025,\n",
       " 9403800029,\n",
       " 9403800035,\n",
       " 9403800101,\n",
       " 9403800114,\n",
       " 9403800117,\n",
       " 9403800119,\n",
       " 9403800120,\n",
       " 9403800123,\n",
       " 9403800140,\n",
       " 9403800148,\n",
       " 9403800159,\n",
       " 9403800167,\n",
       " 9403800168,\n",
       " 9403800184,\n",
       " 9403800295,\n",
       " 9403800349,\n",
       " 9403800371,\n",
       " 9403800586,\n",
       " 9403800636,\n",
       " 9403800637,\n",
       " 9403800757,\n",
       " 9403800763,\n",
       " 9403800813,\n",
       " 9403801010]"
      ]
     },
     "execution_count": 27,
     "metadata": {},
     "output_type": "execute_result"
    }
   ],
   "source": [
    "# Galaxies with large numbers of components in the ??? region\n",
    "df_unknown = df_lzifu_comp0[(df_lzifu_comp0[\"sigma_gas - sigma_* (component 0)\"] > 100) & (df_lzifu_comp0[\"HALPHA EW (component 0)\"] < 3)]\n",
    "unknown_gals = df_unknown.catid.unique()\n",
    "good_gals = []\n",
    "for gal in unknown_gals:\n",
    "    df_gal = df_unknown[df_unknown[\"catid\"] == gal]\n",
    "    if df_gal[(df_gal[\"sigma_gas - sigma_* (component 0)\"] > 100) & (df_gal[\"HALPHA EW (component 0)\"] < 3)].shape[0] > 10:\n",
    "        good_gals.append(gal)\n",
    "good_gals.sort()\n",
    "good_gals\n"
   ]
  },
  {
   "cell_type": "markdown",
   "metadata": {},
   "source": [
    "## Try creating classification rules\n",
    "---"
   ]
  },
  {
   "cell_type": "code",
   "execution_count": 28,
   "metadata": {},
   "outputs": [],
   "source": [
    "delta_sigma_bound = 0\n",
    "halpha_ew_upper_bound = 14\n",
    "halpha_ew_lower_bound = 3\n",
    "\n",
    "# Only include classified spaxels for now\n",
    "df_classified = df_merged[df_merged[\"BPT (component 0)\"] != \"Not classified\"]\n",
    "\n",
    "# Which DataFrame to use for these calculations\n",
    "df_to_use = df_lzifu_comp0"
   ]
  },
  {
   "cell_type": "code",
   "execution_count": 29,
   "metadata": {},
   "outputs": [
    {
     "name": "stdout",
     "output_type": "stream",
     "text": [
      "-------------------------------------------------------\n",
      "KINEMATICALLY COLD BOUNDARY\n",
      "sigma_gas - sigma_* < 0 km s^-1\n",
      "-------------------------------------------------------\n",
      "95.11% of all SF components are within these bounds\n",
      "89.39% of all Composite components are within these bounds\n",
      "44.16% of all Seyfert components are within these bounds\n",
      "78.36% of all LINER components are within these bounds\n",
      "83.65% of all Ambiguous components are within these bounds\n",
      "64.53% of all Not classified components are within these bounds\n",
      "-------------------------------------------------------\n"
     ]
    }
   ],
   "source": [
    "print(\"-------------------------------------------------------\")\n",
    "print(\"KINEMATICALLY COLD BOUNDARY\")\n",
    "print(f\"sigma_gas - sigma_* < {delta_sigma_bound:.0f} km s^-1\")\n",
    "print(\"-------------------------------------------------------\")\n",
    "\n",
    "# What % of SF-components are within these bounds?\n",
    "for cat in cats:\n",
    "    cond_cat = df_to_use[\"BPT (component 0)\"] == cat\n",
    "    cond_cat_in_bounds = cond_cat & (df_to_use[\"sigma_gas - sigma_* (component 0)\"] <= delta_sigma_bound)\n",
    "    frac_in_bounds = df_to_use[cond_cat_in_bounds].shape[0] / df_to_use[cond_cat].shape[0] * 100\n",
    "    print(f\"{frac_in_bounds:.2f}% of all {cat} components are within these bounds\")\n",
    "print(\"-------------------------------------------------------\")\n"
   ]
  },
  {
   "cell_type": "code",
   "execution_count": 30,
   "metadata": {},
   "outputs": [
    {
     "name": "stdout",
     "output_type": "stream",
     "text": [
      "-------------------------------------------------------\n",
      "KINEMATICALLY HOT BOUNDARY\n",
      "sigma_gas - sigma_* > 0 km s^-1\n",
      "-------------------------------------------------------\n",
      "4.89% of all SF components are within these bounds\n",
      "10.61% of all Composite components are within these bounds\n",
      "55.84% of all Seyfert components are within these bounds\n",
      "21.64% of all LINER components are within these bounds\n",
      "16.35% of all Ambiguous components are within these bounds\n",
      "35.47% of all Not classified components are within these bounds\n",
      "-------------------------------------------------------\n"
     ]
    }
   ],
   "source": [
    "print(\"-------------------------------------------------------\")\n",
    "print(\"KINEMATICALLY HOT BOUNDARY\")\n",
    "print(f\"sigma_gas - sigma_* > {delta_sigma_bound:.0f} km s^-1\")\n",
    "print(\"-------------------------------------------------------\")\n",
    "\n",
    "# What % of SF-components are within these bounds?\n",
    "for cat in cats:\n",
    "    cond_cat = df_to_use[\"BPT (component 0)\"] == cat\n",
    "    cond_cat_in_bounds = cond_cat & (df_to_use[\"sigma_gas - sigma_* (component 0)\"] > delta_sigma_bound)\n",
    "    frac_in_bounds = df_to_use[cond_cat_in_bounds].shape[0] / df_to_use[cond_cat].shape[0] * 100\n",
    "    print(f\"{frac_in_bounds:.2f}% of all {cat} components are within these bounds\")\n",
    "print(\"-------------------------------------------------------\")\n"
   ]
  },
  {
   "cell_type": "code",
   "execution_count": 31,
   "metadata": {
    "scrolled": true
   },
   "outputs": [
    {
     "name": "stdout",
     "output_type": "stream",
     "text": [
      "-------------------------------------------------------\n",
      "STAR-FORMING BOUNDARY\n",
      "sigma_gas - sigma_* < 0 km s^-1\n",
      "EW(Ha) > 14 Å\n",
      "-------------------------------------------------------\n",
      "69.72% of all SF components are within these bounds\n",
      "15.88% of all Composite components are within these bounds\n",
      "7.86% of all Seyfert components are within these bounds\n",
      "0.00% of all LINER components are within these bounds\n",
      "15.11% of all Ambiguous components are within these bounds\n",
      "6.78% of all Not classified components are within these bounds\n",
      "-------------------------------------------------------\n"
     ]
    }
   ],
   "source": [
    "print(\"-------------------------------------------------------\")\n",
    "print(\"STAR-FORMING BOUNDARY\")\n",
    "print(f\"sigma_gas - sigma_* < {delta_sigma_bound:.0f} km s^-1\")\n",
    "print(f\"EW(Ha) > {halpha_ew_upper_bound:.0f} Å\")\n",
    "print(\"-------------------------------------------------------\")\n",
    "\n",
    "# What % of SF-components are within these bounds?\n",
    "for cat in cats:\n",
    "    cond_cat = df_to_use[\"BPT (component 0)\"] == cat\n",
    "    cond_cat_in_bounds = cond_cat & (df_to_use[\"sigma_gas - sigma_* (component 0)\"] <= delta_sigma_bound)\n",
    "    cond_cat_in_bounds &= df_to_use[\"HALPHA EW (component 0)\"] >= halpha_ew_upper_bound\n",
    "    frac_in_bounds = df_to_use[cond_cat_in_bounds].shape[0] / df_to_use[cond_cat].shape[0] * 100\n",
    "    print(f\"{frac_in_bounds:.2f}% of all {cat} components are within these bounds\")\n",
    "print(\"-------------------------------------------------------\")\n"
   ]
  },
  {
   "cell_type": "code",
   "execution_count": 32,
   "metadata": {},
   "outputs": [
    {
     "name": "stdout",
     "output_type": "stream",
     "text": [
      "-------------------------------------------------------\n",
      "COMPOSITE BOUNDARY\n",
      "sigma_gas - sigma_* < 0 km s^-1\n",
      "3 Å < EW(Ha) < 14 Å\n",
      "-------------------------------------------------------\n",
      "25.31% of all SF components are within these bounds\n",
      "67.62% of all Composite components are within these bounds\n",
      "26.23% of all Seyfert components are within these bounds\n",
      "16.29% of all LINER components are within these bounds\n",
      "47.76% of all Ambiguous components are within these bounds\n",
      "26.72% of all Not classified components are within these bounds\n",
      "-------------------------------------------------------\n"
     ]
    }
   ],
   "source": [
    "print(\"-------------------------------------------------------\")\n",
    "print(\"COMPOSITE BOUNDARY\")\n",
    "print(f\"sigma_gas - sigma_* < {delta_sigma_bound:.0f} km s^-1\")\n",
    "print(f\"{halpha_ew_lower_bound:.0f} Å < EW(Ha) < {halpha_ew_upper_bound:.0f} Å\")\n",
    "print(\"-------------------------------------------------------\")\n",
    "\n",
    "# What % of components in different categories are within these bounds?\n",
    "for cat in cats:\n",
    "    cond_cat = df_to_use[\"BPT (component 0)\"] == cat\n",
    "    cond_cat_in_bounds = cond_cat & (df_to_use[\"sigma_gas - sigma_* (component 0)\"] <= delta_sigma_bound)\n",
    "    cond_cat_in_bounds &= df_to_use[\"HALPHA EW (component 0)\"] < halpha_ew_upper_bound\n",
    "    cond_cat_in_bounds &= df_to_use[\"HALPHA EW (component 0)\"] >= halpha_ew_lower_bound\n",
    "    frac_in_bounds = df_to_use[cond_cat_in_bounds].shape[0] / df_to_use[cond_cat].shape[0] * 100\n",
    "    print(f\"{frac_in_bounds:.2f}% of all {cat} components are within these bounds\")\n",
    "print(\"-------------------------------------------------------\")\n"
   ]
  },
  {
   "cell_type": "code",
   "execution_count": 33,
   "metadata": {},
   "outputs": [
    {
     "name": "stdout",
     "output_type": "stream",
     "text": [
      "-------------------------------------------------------\n",
      "LINER BOUNDARY\n",
      "sigma_gas - sigma_* < 0 km s^-1\n",
      "EW(Ha) < 3 Å\n",
      "-------------------------------------------------------\n",
      "0.08% of all SF components are within these bounds\n",
      "5.89% of all Composite components are within these bounds\n",
      "10.07% of all Seyfert components are within these bounds\n",
      "62.07% of all LINER components are within these bounds\n",
      "20.78% of all Ambiguous components are within these bounds\n",
      "31.04% of all Not classified components are within these bounds\n",
      "-------------------------------------------------------\n"
     ]
    }
   ],
   "source": [
    "print(\"-------------------------------------------------------\")\n",
    "print(\"LINER BOUNDARY\")\n",
    "print(f\"sigma_gas - sigma_* < {delta_sigma_bound:.0f} km s^-1\")\n",
    "print(f\"EW(Ha) < {halpha_ew_lower_bound:.0f} Å\")\n",
    "print(\"-------------------------------------------------------\")\n",
    "\n",
    "# What % of components in different categories are within these bounds?\n",
    "for cat in cats:\n",
    "    cond_cat = df_to_use[\"BPT (component 0)\"] == cat\n",
    "    cond_cat_in_bounds = cond_cat & (df_to_use[\"sigma_gas - sigma_* (component 0)\"] <= delta_sigma_bound)\n",
    "    cond_cat_in_bounds &= df_to_use[\"HALPHA EW (component 0)\"] < halpha_ew_lower_bound\n",
    "    frac_in_bounds = df_to_use[cond_cat_in_bounds].shape[0] / df_to_use[cond_cat].shape[0] * 100\n",
    "    print(f\"{frac_in_bounds:.2f}% of all {cat} components are within these bounds\")\n",
    "print(\"-------------------------------------------------------\")\n"
   ]
  },
  {
   "cell_type": "code",
   "execution_count": 34,
   "metadata": {
    "scrolled": true
   },
   "outputs": [
    {
     "name": "stdout",
     "output_type": "stream",
     "text": [
      "-------------------------------------------------------\n",
      "SEYFERT/SHOCK BOUNDARY\n",
      "sigma_gas - sigma_* > 0 km s^-1\n",
      "EW(Ha) > 14 Å\n",
      "-------------------------------------------------------\n",
      "3.46% of all SF components are within these bounds\n",
      "2.81% of all Composite components are within these bounds\n",
      "13.45% of all Seyfert components are within these bounds\n",
      "0.03% of all LINER components are within these bounds\n",
      "4.13% of all Ambiguous components are within these bounds\n",
      "0.99% of all Not classified components are within these bounds\n",
      "-------------------------------------------------------\n"
     ]
    }
   ],
   "source": [
    "print(\"-------------------------------------------------------\")\n",
    "print(\"SEYFERT/SHOCK BOUNDARY\")\n",
    "print(f\"sigma_gas - sigma_* > {delta_sigma_bound:.0f} km s^-1\")\n",
    "print(f\"EW(Ha) > {halpha_ew_upper_bound:.0f} Å\")\n",
    "print(\"-------------------------------------------------------\")\n",
    "\n",
    "# What % of components in different categories are within these bounds?\n",
    "for cat in cats:\n",
    "    cond_cat = df_to_use[\"BPT (component 0)\"] == cat\n",
    "    cond_cat_in_bounds = cond_cat & (df_to_use[\"sigma_gas - sigma_* (component 0)\"] > delta_sigma_bound)\n",
    "    cond_cat_in_bounds &= df_to_use[\"HALPHA EW (component 0)\"] > halpha_ew_upper_bound\n",
    "    frac_in_bounds = df_to_use[cond_cat_in_bounds].shape[0] / df_to_use[cond_cat].shape[0] * 100\n",
    "    print(f\"{frac_in_bounds:.2f}% of all {cat} components are within these bounds\")\n",
    "print(\"-------------------------------------------------------\")\n"
   ]
  },
  {
   "cell_type": "code",
   "execution_count": 35,
   "metadata": {
    "scrolled": false
   },
   "outputs": [
    {
     "name": "stdout",
     "output_type": "stream",
     "text": [
      "-------------------------------------------------------\n",
      "SEYFERT/SHOCK BOUNDARY\n",
      "sigma_gas - sigma_* > 0 km s^-1\n",
      "EW(Ha) > 3 Å\n",
      "-------------------------------------------------------\n",
      "4.89% of all SF components are within these bounds\n",
      "10.30% of all Composite components are within these bounds\n",
      "52.52% of all Seyfert components are within these bounds\n",
      "6.70% of all LINER components are within these bounds\n",
      "13.60% of all Ambiguous components are within these bounds\n",
      "13.89% of all Not classified components are within these bounds\n",
      "-------------------------------------------------------\n"
     ]
    }
   ],
   "source": [
    "print(\"-------------------------------------------------------\")\n",
    "print(\"SEYFERT/SHOCK BOUNDARY\")\n",
    "print(f\"sigma_gas - sigma_* > {delta_sigma_bound:.0f} km s^-1\")\n",
    "print(f\"EW(Ha) > {halpha_ew_lower_bound:.0f} Å\")\n",
    "print(\"-------------------------------------------------------\")\n",
    "\n",
    "# What % of components in different categories are within these bounds?\n",
    "for cat in cats:\n",
    "    cond_cat = df_to_use[\"BPT (component 0)\"] == cat\n",
    "    cond_cat_in_bounds = cond_cat & (df_to_use[\"sigma_gas - sigma_* (component 0)\"] > delta_sigma_bound)\n",
    "    cond_cat_in_bounds &= df_to_use[\"HALPHA EW (component 0)\"] > halpha_ew_lower_bound\n",
    "    frac_in_bounds = df_to_use[cond_cat_in_bounds].shape[0] / df_to_use[cond_cat].shape[0] * 100\n",
    "    print(f\"{frac_in_bounds:.2f}% of all {cat} components are within these bounds\")\n",
    "print(\"-------------------------------------------------------\")\n"
   ]
  },
  {
   "cell_type": "code",
   "execution_count": 36,
   "metadata": {},
   "outputs": [
    {
     "name": "stdout",
     "output_type": "stream",
     "text": [
      "-------------------------------------------------------\n",
      "??? BOUNDARY\n",
      "sigma_gas - sigma_* > 0 km s^-1\n",
      "EW(Ha) < 3 Å\n",
      "-------------------------------------------------------\n",
      "0.00% of all SF components are within these bounds\n",
      "0.32% of all Composite components are within these bounds\n",
      "3.32% of all Seyfert components are within these bounds\n",
      "14.94% of all LINER components are within these bounds\n",
      "2.75% of all Ambiguous components are within these bounds\n",
      "21.58% of all Not classified components are within these bounds\n",
      "-------------------------------------------------------\n"
     ]
    }
   ],
   "source": [
    "print(\"-------------------------------------------------------\")\n",
    "print(\"??? BOUNDARY\")\n",
    "print(f\"sigma_gas - sigma_* > {delta_sigma_bound:.0f} km s^-1\")\n",
    "print(f\"EW(Ha) < {halpha_ew_lower_bound:.0f} Å\")\n",
    "print(\"-------------------------------------------------------\")\n",
    "\n",
    "# What % of components in different categories are within these bounds?\n",
    "for cat in cats:\n",
    "    cond_cat = df_to_use[\"BPT (component 0)\"] == cat\n",
    "    cond_cat_in_bounds = cond_cat & (df_to_use[\"sigma_gas - sigma_* (component 0)\"] > delta_sigma_bound)\n",
    "    cond_cat_in_bounds &= df_to_use[\"HALPHA EW (component 0)\"] < halpha_ew_lower_bound\n",
    "    frac_in_bounds = df_to_use[cond_cat_in_bounds].shape[0] / df_to_use[cond_cat].shape[0] * 100\n",
    "    print(f\"{frac_in_bounds:.2f}% of all {cat} components are within these bounds\")\n",
    "print(\"-------------------------------------------------------\")\n"
   ]
  },
  {
   "cell_type": "markdown",
   "metadata": {},
   "source": [
    "# What drives changes in EW? \n",
    "---\n",
    "* If EW is constant as a function of L(Ha), then that implies that L(Ha)/F(C) ~ const., which implies that the ionisation source is stellar. If not, then there is something else going on!"
   ]
  },
  {
   "cell_type": "code",
   "execution_count": 37,
   "metadata": {},
   "outputs": [],
   "source": [
    "# Pick a galaxy dominated by HOLMES. If we plot EW vs. L(Ha) then the relationship should be roughly constant.\n",
    "gal = 185224"
   ]
  },
  {
   "cell_type": "code",
   "execution_count": 38,
   "metadata": {},
   "outputs": [],
   "source": [
    "# Pick a galaxy dominated by SF. If we plot EW vs. L(Ha) then the relationship should be roughly constant.\n",
    "gal = 92676\n"
   ]
  },
  {
   "cell_type": "code",
   "execution_count": 39,
   "metadata": {},
   "outputs": [],
   "source": [
    "# Pick a galaxy with a SF-induced wind. How does the EW behave as a function of L(Ha)? Are the 2nd, 3rd components tied to the stellar continuum or not?\n",
    "gal = 106717\n"
   ]
  },
  {
   "cell_type": "code",
   "execution_count": 40,
   "metadata": {},
   "outputs": [],
   "source": [
    "# Pick a Seyfert galaxy. How does the EW behave as a function of L(Ha)? Are the 2nd, 3rd components tied to the stellar continuum or not?\n",
    "gal = 209698\n"
   ]
  },
  {
   "cell_type": "code",
   "execution_count": 41,
   "metadata": {},
   "outputs": [],
   "source": [
    "# Merger\n",
    "gal = 618992\n"
   ]
  },
  {
   "cell_type": "code",
   "execution_count": 49,
   "metadata": {
    "scrolled": false
   },
   "outputs": [
    {
     "data": {
      "application/vnd.jupyter.widget-view+json": {
       "model_id": "1e41f87a90b94502984e5fef0e19f9cf",
       "version_major": 2,
       "version_minor": 0
      },
      "text/plain": [
       "Canvas(toolbar=Toolbar(toolitems=[('Home', 'Reset original view', 'home', 'home'), ('Back', 'Back to previous …"
      ]
     },
     "metadata": {},
     "output_type": "display_data"
    },
    {
     "name": "stdout",
     "output_type": "stream",
     "text": [
      "WARNING: not plotting colourbar because col_z is not specified!\n",
      "WARNING: not plotting colourbar because col_z is not specified!\n"
     ]
    }
   ],
   "source": [
    "df_gal = df_lzifu[df_lzifu[\"catid\"] == gal]\n",
    "col_y = \"log HALPHA EW\"\n",
    "col_z = \"Number of components\"\n",
    "markers = [\"o\", \">\", \"D\"]\n",
    "from matplotlib.lines import Line2D\n",
    "\n",
    "\n",
    "fig, axs = plt.subplots(nrows=1, ncols=2, figsize=(14, 5))\n",
    "fig.subplots_adjust(wspace=0.5)\n",
    "\n",
    "for cc, col_x in enumerate([\"log HALPHA luminosity\", \"log HALPHA continuum luminosity\"]):\n",
    "    ax = axs[cc]\n",
    "    bbox = ax.get_position()\n",
    "    cax = fig.add_axes([bbox.x0 + bbox.width, bbox.y0, 0.025, bbox.height])\n",
    "\n",
    "    # Plot full SAMI sample\n",
    "    plot2dhistcontours(df=df, \n",
    "                       col_x=col_x,\n",
    "                       col_y=col_y,\n",
    "                       col_z=\"count\", log_z=True,\n",
    "                       alpha=0.5, cmap=\"gray_r\", ax=ax,\n",
    "                       plot_colorbar=False)\n",
    "\n",
    "    # Plot the S7 data\n",
    "    for ii in range(3):\n",
    "        plot2dscatter(df=df_gal,\n",
    "                      col_x=f\"{col_x} (component {ii})\" if f\"{col_x} (component {ii})\" in df_gal else col_x,\n",
    "                      col_y=f\"{col_y} (component {ii})\",\n",
    "                      col_z=None if col_z == \"Number of components\" else col_z,\n",
    "                      marker=markers[ii], ax=ax, cax=cax,\n",
    "                      markersize=20, markerfacecolor=component_colours[ii] if col_z == \"Number of components\" else None, \n",
    "                      markeredgecolor=\"black\",\n",
    "                      plot_colorbar=True if ii == 2 else False)\n",
    "\n",
    "    # Decorations\n",
    "    ax.grid()\n",
    "\n",
    "    # # Axis limits\n",
    "    # ax.set_xlim(\n",
    "    #     [np.nanmin([vmin_fn(f\"{col_x}\"),\n",
    "    #                 df_gal[f\"{col_x} (component 0)\"].min(), \n",
    "    #                 df_gal[f\"{col_x} (component 1)\"].min(), \n",
    "    #                 df_gal[f\"{col_x} (component 2)\"].min()]) - 0.1,\n",
    "    #      np.nanmax([vmax_fn(f\"{col_x}\"), \n",
    "    #                 df_gal[f\"{col_x} (component 0)\"].max(),\n",
    "    #                 df_gal[f\"{col_x} (component 1)\"].max(),\n",
    "    #                 df_gal[f\"{col_x} (component 2)\"].max()]) + 0.1])\n",
    "    # ax.set_ylim(\n",
    "    #     [np.nanmin([vmin_fn(f\"{col_y}\"),\n",
    "    #                 df_gal[f\"{col_y} (component 0)\"].min(), \n",
    "    #                 df_gal[f\"{col_y} (component 1)\"].min(), \n",
    "    #                 df_gal[f\"{col_y} (component 2)\"].min()]) - 0.1,\n",
    "    #      np.nanmax([vmax_fn(f\"{col_y}\"), \n",
    "    #                 df_gal[f\"{col_y} (component 0)\"].max(),\n",
    "    #                 df_gal[f\"{col_y} (component 1)\"].max(),\n",
    "    #                 df_gal[f\"{col_y} (component 2)\"].max()]) + 0.1])\n",
    "\n",
    "    # Legend\n",
    "    legend_elements = [Line2D([0], [0], marker=markers[ii], \n",
    "                       color=\"none\", markeredgecolor=\"black\",\n",
    "                       label=f\"Component {ii + 1}\",\n",
    "                       markerfacecolor=component_colours[ii] if col_z == \"Number of components\" else \"white\", markersize=5) for ii in range(3)]\n",
    "    ax.legend(handles=legend_elements, fontsize=\"x-small\", loc=\"upper right\")\n",
    "    ax.set_title(f\"GAMA{gal}\")"
   ]
  },
  {
   "cell_type": "code",
   "execution_count": 43,
   "metadata": {},
   "outputs": [],
   "source": [
    "plt.close(\"all\")"
   ]
  },
  {
   "cell_type": "code",
   "execution_count": 44,
   "metadata": {},
   "outputs": [
    {
     "data": {
      "application/vnd.jupyter.widget-view+json": {
       "model_id": "310ce3ada7b44c22b95a04faca930a48",
       "version_major": 2,
       "version_minor": 0
      },
      "text/plain": [
       "Canvas(toolbar=Toolbar(toolitems=[('Home', 'Reset original view', 'home', 'home'), ('Back', 'Back to previous …"
      ]
     },
     "metadata": {},
     "output_type": "display_data"
    }
   ],
   "source": [
    "###############################################################################\n",
    "# WHAV diagram (hist) - spectral classification (individually), all shown on \n",
    "# the SAME diagram\n",
    "###############################################################################\n",
    "col_x = \"log HALPHA luminosity\"\n",
    "col_y = \"log HALPHA EW\"\n",
    "rc(\"font\",**{\"family\": \"serif\", \"size\": 8})\n",
    "nbins = 100\n",
    "fig, axs = plt.subplots(nrows=3, ncols=len(cats), figsize=(3 * len(cats), 3 * 3))\n",
    "# plt.tight_layout()\n",
    "fig.subplots_adjust(wspace=0.3)\n",
    "\n",
    "for cc, cat in enumerate(cats):\n",
    "    for rr, (df_this, name) in enumerate(zip([df_1comp_dropped, df_lzifu_comp0, df_merged,],\n",
    "                                 [\"SAMI 1-component spaxels only\", \"LZIFU indivudual components\", \"SAMI 1-comp. spaxels + LZIFU ind. components\"])):\n",
    "        # Create figure\n",
    "        ax = axs[rr][cc]\n",
    "        bbox = ax.get_position()\n",
    "        cax = fig.add_axes([bbox.x0 + bbox.width, bbox.y0, bbox.width / 10, bbox.height])\n",
    "       \n",
    "        # Plot: \n",
    "        df_subset = df_this.loc[df_this[f\"BPT (component 0)\"] == cat]\n",
    "        N = df_subset.shape[0]\n",
    "        if N > 0:\n",
    "            plot2dhistcontours(df_subset, \n",
    "                               col_x=f\"{col_x} (component 0)\",\n",
    "                               col_y=f\"{col_y} (component 0)\",\n",
    "                               col_z=\"log HALPHA continuum luminosity\", log_z=False,\n",
    "#                                col_z=\"log HALPHA luminosity (component 0)\", vmax=39,\n",
    "                               # vmin=-0.4 - 0.6, vmax=-0.4 + 0.6, cmap=\"coolwarm\",\n",
    "                               alpha=1.0, ax=ax, cax=cax, nbins=nbins,\n",
    "                               linewidths=0.5, \n",
    "                               contours=True, hist=True, colors=\"white\",\n",
    "                               plot_colorbar=True)\n",
    "            \n",
    "        # Decorations\n",
    "        ax.grid()\n",
    "        ax.text(s=f\"{cat} (N = {N:d})\", x=0.1, y=0.9, verticalalignment=\"top\", transform=ax.transAxes)\n",
    "        axs[rr][0].set_title(name)\n",
    "        \n",
    "# plt.tight_layout()\n",
    "\n",
    "# revert font size\n",
    "rc(\"font\",**{\"family\": \"serif\", \"size\": 14})"
   ]
  },
  {
   "cell_type": "markdown",
   "metadata": {},
   "source": [
    "## Ho+2016: winds in edge-on galaxies\n",
    "---\n",
    "What do the wind components look like in the WHAV* diagram?\n",
    "\n",
    "Wind-dominated galaxies: 543769 93167 24433 567624 574200 228432 239249 31452 238125 106616 486834 417678 106389 593680 618906\n",
    "\n",
    "Non wind-dominated galaxies: 31509 558861 302994 16294 511789 517594 289429 204876 376379 184237 185510 595027 218681 85474 381159 301201 594986 623679 297667 228066 325536 496966 348116 376293 543859\n",
    "\n",
    "Of the 4 wind galaxies in the sample of Ho+2016, we detect a significant (i.e. more than a few components' worth) low-EW, high-$\\Delta\\sigma$ tail in 2/4 of these galaxies, whereas in the non-wind sample we do not detect a significant tail in any. \n",
    "This further suggests that this region of the diagram may be used to identify winds driven by star formation. However, as our diagram requires a reliable measurement of $\\sigma_*$, it is often not possible to measure $\\Delta\\sigma$ off the plane in edge-on systems. "
   ]
  },
  {
   "cell_type": "code",
   "execution_count": 45,
   "metadata": {},
   "outputs": [
    {
     "name": "stdout",
     "output_type": "stream",
     "text": [
      "[239249, 31452, 106616, 618906]\n",
      "[185510, 218681, 85474, 325536]\n"
     ]
    }
   ],
   "source": [
    "gals_wind = [543769, 93167, 24433, 567624, 574200, 228432, 239249, 31452, 238125, 106616, 486834, 417678, 106389, 593680, 618906]\n",
    "gals_nowind = [31509, 558861, 302994, 16294, 511789, 517594, 289429, 204876, 376379, 184237, 185510, 595027, 218681, 85474, 381159, 301201, 594986, 623679, 297667, 228066, 325536, 496966, 348116, 376293, 543859]\n",
    "\n",
    "lzifu_gals_wind = [g for g in gals_wind if g in df_lzifu_comp0.catid.unique()]\n",
    "lzifu_gals_nowind = [g for g in gals_nowind if g in df_lzifu_comp0.catid.unique()]\n",
    "\n",
    "print(lzifu_gals_wind)\n",
    "print(lzifu_gals_nowind)"
   ]
  },
  {
   "cell_type": "markdown",
   "metadata": {},
   "source": [
    "## What are the differences between spaxels located in star-forming regions w/ winds and spaxels powered by AGN?\n",
    "---\n",
    "* What are the EW ratios between successive componets like?\n"
   ]
  },
  {
   "cell_type": "code",
   "execution_count": 78,
   "metadata": {},
   "outputs": [],
   "source": [
    "# Spaxels where the 1st component is SF-like \n",
    "df_seyfert_comp1 = df_lzifu[df_lzifu[\"BPT (component 0)\"] == \"Seyfert\"]\n",
    "\n",
    "# Spaxels where the 1st component is Seyfert-like \n",
    "df_SF_comp1 = df_lzifu[df_lzifu[\"BPT (component 0)\"] == \"SF\"]\n",
    "\n",
    "# Spaxels where the 1st component is Composite-like \n",
    "df_comp_comp1 = df_lzifu[df_lzifu[\"BPT (component 0)\"] == \"Composite\"]\n"
   ]
  },
  {
   "cell_type": "code",
   "execution_count": 79,
   "metadata": {},
   "outputs": [
    {
     "name": "stderr",
     "output_type": "stream",
     "text": [
      "/pkg/linux/anaconda-20191122/anaconda3/lib/python3.7/site-packages/ipykernel_launcher.py:8: RuntimeWarning: More than 20 figures have been opened. Figures created through the pyplot interface (`matplotlib.pyplot.figure`) are retained until explicitly closed and may consume too much memory. (To control this warning, see the rcParam `figure.max_open_warning`).\n",
      "  \n"
     ]
    },
    {
     "data": {
      "application/vnd.jupyter.widget-view+json": {
       "model_id": "7419696392ae4e7c9872d169fdabc117",
       "version_major": 2,
       "version_minor": 0
      },
      "text/plain": [
       "Canvas(toolbar=Toolbar(toolitems=[('Home', 'Reset original view', 'home', 'home'), ('Back', 'Back to previous …"
      ]
     },
     "metadata": {},
     "output_type": "display_data"
    }
   ],
   "source": [
    "# WHAV* diagrams for the 2 subsets\n",
    "col_x = \"sigma_gas - sigma_*\"\n",
    "col_y = \"log HALPHA EW\"\n",
    "col_z = \"Number of components\"\n",
    "markers = [\"o\", \">\", \"D\"]\n",
    "from matplotlib.lines import Line2D\n",
    "\n",
    "fig, axs = plt.subplots(nrows=1, ncols=2, figsize=(14, 5))\n",
    "fig.subplots_adjust(wspace=0.5)\n",
    "\n",
    "for cc, df_this in enumerate([df_SF_comp1, df_seyfert_comp1]):\n",
    "    ax = axs[cc]\n",
    "    bbox = ax.get_position()\n",
    "    cax = fig.add_axes([bbox.x0 + bbox.width, bbox.y0, 0.025, bbox.height])\n",
    "\n",
    "    # Plot full SAMI sample\n",
    "    plot2dhistcontours(df=df, \n",
    "                       col_x=col_x,\n",
    "                       col_y=col_y,\n",
    "                       col_z=\"count\", log_z=True,\n",
    "                       alpha=0.5, cmap=\"gray_r\", ax=ax,\n",
    "                       plot_colorbar=False)\n",
    "\n",
    "    # Plot the S7 data\n",
    "    for ii in range(1):\n",
    "        plot2dscatter(df=df_this,\n",
    "                      col_x=f\"{col_x} (component {ii})\" if f\"{col_x} (component {ii})\" in df_gal else col_x,\n",
    "                      col_y=f\"{col_y} (component {ii})\",\n",
    "                      col_z=\"Number of components\",\n",
    "                      marker=markers[ii], ax=ax, cax=cax,\n",
    "                      markersize=20, markerfacecolor=component_colours[ii] if col_z == \"Number of components\" else None, \n",
    "                      markeredgecolor=\"black\",\n",
    "                      plot_colorbar=True if ii == 2 else False)\n"
   ]
  },
  {
   "cell_type": "code",
   "execution_count": null,
   "metadata": {},
   "outputs": [],
   "source": [
    "df_seyfert_comp1[\"Delta HALPHA EW (0/1)\"]"
   ]
  },
  {
   "cell_type": "markdown",
   "metadata": {},
   "source": [
    "## Incorporating the *total* N2 ratio into our classification system\n",
    "---\n",
    "In Fig. x, we show the distributions in the N2 ratio of individual emission line components taken from our high-S/N LZIFU subset, shown separately for different spectral categories. \n",
    "Interestingly, the distributions in the SF, Seyfert and LINER categories are very cleanly separated in log N2, with essentially all SF-like components having log N2 < -0.3 and all Seyfert and LINER components having log N2 > -0.3. \n",
    "This value is markedly higher than the optimal SF/AGN dividing criterion of Cid Fernandes et al. (2011), who found the optimal value to be -0.4 using fluxes from aperture spectra taken from SDSS. Indeed, by plotting the different spectral categories on the WHAN diagram separately, we see that a significant fraction of SF-like components have log N2 > -0.4, which would classify them as AGN using the demarcation lines on the original WHAN diagram. "
   ]
  },
  {
   "cell_type": "code",
   "execution_count": 90,
   "metadata": {},
   "outputs": [],
   "source": [
    "plt.close(\"all\")"
   ]
  },
  {
   "cell_type": "code",
   "execution_count": 128,
   "metadata": {
    "scrolled": false
   },
   "outputs": [
    {
     "data": {
      "application/vnd.jupyter.widget-view+json": {
       "model_id": "f59c8a58614746259af0d0894afa8e78",
       "version_major": 2,
       "version_minor": 0
      },
      "text/plain": [
       "Canvas(toolbar=Toolbar(toolitems=[('Home', 'Reset original view', 'home', 'home'), ('Back', 'Back to previous …"
      ]
     },
     "metadata": {},
     "output_type": "display_data"
    },
    {
     "name": "stderr",
     "output_type": "stream",
     "text": [
      "/pkg/linux/anaconda-20191122/anaconda3/lib/python3.7/site-packages/astropy/visualization/hist.py:72: MatplotlibDeprecationWarning: \n",
      "The 'normed' kwarg was deprecated in Matplotlib 2.1 and will be removed in 3.1. Use 'density' instead.\n",
      "  return ax.hist(x, bins, **kwargs)\n"
     ]
    },
    {
     "data": {
      "application/vnd.jupyter.widget-view+json": {
       "model_id": "caed09f0b0f147f28a08ee253fbc8568",
       "version_major": 2,
       "version_minor": 0
      },
      "text/plain": [
       "Canvas(toolbar=Toolbar(toolitems=[('Home', 'Reset original view', 'home', 'home'), ('Back', 'Back to previous …"
      ]
     },
     "metadata": {},
     "output_type": "display_data"
    },
    {
     "data": {
      "text/plain": [
       "[Text(0, 0.5, '$N$ (normalised)')]"
      ]
     },
     "execution_count": 128,
     "metadata": {},
     "output_type": "execute_result"
    }
   ],
   "source": [
    "# Histogram: EW of 1st component - EW of 2nd component \n",
    "from astropy.visualization import hist\n",
    "\n",
    "col = \"log N2 (component 0)\"\n",
    "# First, plot the N2 ratios of individual components \n",
    "fig, ax = plt.subplots(nrows=1, ncols=1, figsize=(7.5, 5))\n",
    "for cat in cats:\n",
    "    df_cat_ind = df_lzifu_comp0[df_lzifu_comp0[\"BPT (component 0)\"] == cat]\n",
    "    hist(df_cat_ind[f\"{col}\"], ax=ax, range=(vmin_fn(col), vmax_fn(col)), bins=\"scott\", histtype=\"step\", color=cat_colours[cat], label=cat, normed=True)\n",
    "    ax.set_xlabel(label_fn(col))\n",
    "    ax.set_ylabel(r\"$N$ (normalised)\")\n",
    "    ax.grid()\n",
    "    ax.legend()\n",
    "ax.set_title(\"Classification of individual emission line components\")\n",
    "ax.set_xlabel(\"log N2 (individual components)\")\n",
    "ax.grid()\n",
    "ax.set_ylabel(r\"$N$ (normalised)\")\n",
    "\n",
    "\n",
    "# Then, plot the *total* N2 ratios to show that we can cleanly separate the categories even if we don't have N2 for every individual component\n",
    "col = \"log N2 (total)\"\n",
    "fig, axs = plt.subplots(nrows=1, ncols=2, figsize=(15, 5))\n",
    "for cat in cats:\n",
    "    df_cat_comp1 = df_lzifu[df_lzifu[\"BPT (component 0)\"] == cat]\n",
    "    df_cat_tot = df_lzifu[df_lzifu[\"BPT (total)\"] == cat]\n",
    "    hist(df_cat_comp1[f\"{col}\"], ax=axs[0], range=(vmin_fn(col), vmax_fn(col)), bins=\"scott\", histtype=\"step\", color=cat_colours[cat], label=cat, normed=True)\n",
    "    hist(df_cat_tot[f\"{col}\"], ax=axs[1], range=(vmin_fn(col), vmax_fn(col)), bins=\"scott\", histtype=\"step\", color=cat_colours[cat], label=cat, normed=True)\n",
    "    ax.set_xlabel(label_fn(col))\n",
    "    ax.set_ylabel(r\"$N$ (normalised)\")\n",
    "    ax.grid()\n",
    "    ax.legend()\n",
    "axs[0].set_title(\"Classification based on component 1 flux only\")\n",
    "axs[1].set_title(\"Classification based on total flux\")\n",
    "[ax.set_xlabel(\"log N2 (total)\") for ax in axs]\n",
    "[ax.grid() for ax in axs]\n",
    "[ax.set_ylabel(r\"$N$ (normalised)\")]\n",
    "\n",
    "\n",
    "\n",
    "\n"
   ]
  },
  {
   "cell_type": "markdown",
   "metadata": {},
   "source": [
    "A classification system for spaxels and components:\n",
    "* If the total EW in the spaxels is less than 3\\,Å: then evolved stars are the only plausible ionisation mechanism. Otherwise, for each component,\n",
    "* If $EW > 14\\,\\rm Å$ and $\\Delta\\sigma < 0$ and $\\rm N2 < -0.3$: star-forming region.\n",
    "* If $EW > 14\\,\\rm Å$ and $\\Delta\\sigma > 0$ and $\\rm N2 > -0.3$: AGN\n",
    "* If $3\\,\\rm Å < EW < 14\\,\\rm Å$ and $\\Delta\\sigma < 0$ and $\\rm N2 < -0.4$: \"mixing\" region between star formation and evolved stars.\n",
    "* If $EW < 3\\,\\rm Å$ and $\\Delta \\sigma < 0$: evolved stars or LLAGN.\n",
    "* If $EW < 3\\,\\rm Å$ and $\\Delta \\sigma > 0$: evolved stars, shocks or LLAGN."
   ]
  },
  {
   "cell_type": "code",
   "execution_count": 160,
   "metadata": {},
   "outputs": [
    {
     "name": "stdout",
     "output_type": "stream",
     "text": [
      "SF individual components: 90.47500311681836% (N = 29028 of 32084) have log N2 < -0.35\n",
      "Composite individual components: 13.963317384370017% (N = 1751 of 12540) have log N2 < -0.35\n",
      "Seyfert individual components: 6.388206388206388% (N = 104 of 1628) have log N2 < -0.35\n",
      "LINER individual components: 0.0% (N = 0 of 3193) have log N2 < -0.35\n",
      "Ambiguous individual components: 46.84295736643281% (N = 1736 of 3706) have log N2 < -0.35\n",
      "Not classified individual components: 22.219552599299437% (N = 17571 of 79079) have log N2 < -0.35\n",
      "-------------------------------------------------------------------------------------------\n",
      "SF individual components: 9.524996883181648% (N = 3056 of 32084) have -0.35 < log N2 < -0.15\n",
      "Composite individual components: 79.50558213716108% (N = 9970 of 12540) have -0.35 < log N2 < -0.15\n",
      "Seyfert individual components: 15.294840294840295% (N = 249 of 1628) have -0.35 < log N2 < -0.15\n",
      "LINER individual components: 2.5994362668336986% (N = 83 of 3193) have -0.35 < log N2 < -0.15\n",
      "Ambiguous individual components: 31.27361036157582% (N = 1159 of 3706) have -0.35 < log N2 < -0.15\n",
      "Not classified individual components: 22.848038037911454% (N = 18068 of 79079) have -0.35 < log N2 < -0.15\n",
      "-------------------------------------------------------------------------------------------\n",
      "SF individual components: 0.0% (N = 0 of 32084) have log N2 > -0.15\n",
      "Composite individual components: 6.5311004784689% (N = 819 of 12540) have log N2 > -0.15\n",
      "Seyfert individual components: 78.31695331695332% (N = 1275 of 1628) have log N2 > -0.15\n",
      "LINER individual components: 97.40056373316631% (N = 3110 of 3193) have log N2 > -0.15\n",
      "Ambiguous individual components: 21.883432271991367% (N = 811 of 3706) have log N2 > -0.15\n",
      "Not classified individual components: 23.179352293276345% (N = 18330 of 79079) have log N2 > -0.15\n"
     ]
    }
   ],
   "source": [
    "##########################################################################\n",
    "# Based on individual components\n",
    "##########################################################################\n",
    "# SF: Any spaxels with log N2 (in any component) < -0.35: what are the classificaionts of these?\n",
    "cond = df_lzifu_comp0[\"log N2 (component 0)\"] < -0.35\n",
    "for cat in cats:\n",
    "    # Total number of 1-component spaxels in this spectral category\n",
    "    N_cat_tot = df_lzifu_comp0[(df_lzifu_comp0[\"BPT (component 0)\"] == cat)].shape[0]\n",
    "    \n",
    "    # Total number of 1-component spaxels with both W > 14Å and delta_sigma < 0 in this spectral category\n",
    "    cond_cat = cond & (df_lzifu_comp0[\"BPT (component 0)\"] == cat)\n",
    "    N = df_lzifu_comp0[cond_cat].shape[0]\n",
    "    \n",
    "    print(f\"{cat} individual components: {N / N_cat_tot * 100}% (N = {N} of {N_cat_tot}) have log N2 < -0.35\")\n",
    "\n",
    "print(\"-------------------------------------------------------------------------------------------\")\n",
    "# Mixing: Any spaxels with -0.35 < log N2 (in any component) < -0.15: what are the classificaionts of these?\n",
    "cond = df_lzifu_comp0[\"log N2 (component 0)\"] >= -0.35\n",
    "cond &= df_lzifu_comp0[\"log N2 (component 0)\"] < -0.15\n",
    "for cat in cats:\n",
    "    # Total number of 1-component spaxels in this spectral category\n",
    "    N_cat_tot = df_lzifu_comp0[(df_lzifu_comp0[\"BPT (component 0)\"] == cat)].shape[0]\n",
    "    \n",
    "    # Total number of 1-component spaxels with both W > 14Å and delta_sigma < 0 in this spectral category\n",
    "    cond_cat = cond & (df_lzifu_comp0[\"BPT (component 0)\"] == cat)\n",
    "    N = df_lzifu_comp0[cond_cat].shape[0]\n",
    "    \n",
    "    print(f\"{cat} individual components: {N / N_cat_tot * 100}% (N = {N} of {N_cat_tot}) have -0.35 < log N2 < -0.15\")\n",
    "    \n",
    "print(\"-------------------------------------------------------------------------------------------\")\n",
    "# AGN/shocks/HOLMES: Any spaxels with log N2 (in any component) > -0.15: what are the classificaionts of these?\n",
    "cond = df_lzifu_comp0[\"log N2 (component 0)\"] >= -0.15\n",
    "for cat in cats:\n",
    "    # Total number of 1-component spaxels in this spectral category\n",
    "    N_cat_tot = df_lzifu_comp0[(df_lzifu_comp0[\"BPT (component 0)\"] == cat)].shape[0]\n",
    "    \n",
    "    # Total number of 1-component spaxels with both W > 14Å and delta_sigma < 0 in this spectral category\n",
    "    cond_cat = cond & (df_lzifu_comp0[\"BPT (component 0)\"] == cat)\n",
    "    N = df_lzifu_comp0[cond_cat].shape[0]\n",
    "    \n",
    "    print(f\"{cat} individual components: {N / N_cat_tot * 100}% (N = {N} of {N_cat_tot}) have log N2 > -0.15\")"
   ]
  },
  {
   "cell_type": "code",
   "execution_count": 161,
   "metadata": {},
   "outputs": [
    {
     "name": "stdout",
     "output_type": "stream",
     "text": [
      "SF total fluxes: 91.59617181384309% (N = 36273 of 39601) have log N2 < -0.35\n",
      "Composite total fluxes: 16.171639748152202% (N = 2363 of 14612) have log N2 < -0.35\n",
      "Seyfert total fluxes: 3.90625% (N = 90 of 2304) have log N2 < -0.35\n",
      "LINER total fluxes: 0.0% (N = 0 of 3938) have log N2 < -0.35\n",
      "Ambiguous total fluxes: 60.20126602824217% (N = 3709 of 6161) have log N2 < -0.35\n",
      "Not classified total fluxes: 4.0321732249610065% (N = 17631 of 437258) have log N2 < -0.35\n",
      "-------------------------------------------------------------------------------------------\n",
      "SF total fluxes: 8.358374788515443% (N = 3310 of 39601) have -0.35 < log N2 < -0.15\n",
      "Composite total fluxes: 77.42266630166986% (N = 11313 of 14612) have -0.35 < log N2 < -0.15\n",
      "Seyfert total fluxes: 13.49826388888889% (N = 311 of 2304) have -0.35 < log N2 < -0.15\n",
      "LINER total fluxes: 3.072625698324022% (N = 121 of 3938) have -0.35 < log N2 < -0.15\n",
      "Ambiguous total fluxes: 22.60996591462425% (N = 1393 of 6161) have -0.35 < log N2 < -0.15\n",
      "Not classified total fluxes: 4.933700469745551% (N = 21573 of 437258) have -0.35 < log N2 < -0.15\n",
      "-------------------------------------------------------------------------------------------\n",
      "SF total fluxes: 0.0454533976414737% (N = 18 of 39601) have log N2 > -0.15\n",
      "Composite total fluxes: 6.405693950177936% (N = 936 of 14612) have log N2 > -0.15\n",
      "Seyfert total fluxes: 82.59548611111111% (N = 1903 of 2304) have log N2 > -0.15\n",
      "LINER total fluxes: 96.92737430167597% (N = 3817 of 3938) have log N2 > -0.15\n",
      "Ambiguous total fluxes: 17.188768057133583% (N = 1059 of 6161) have log N2 > -0.15\n",
      "Not classified total fluxes: 6.5405321343463125% (N = 28599 of 437258) have log N2 > -0.15\n"
     ]
    }
   ],
   "source": [
    "##########################################################################\n",
    "# Based on total fluxes\n",
    "##########################################################################\n",
    "# SF: Any spaxels with log N2 (in any component) < -0.35: what are the classificaionts of these?\n",
    "cond = df_lzifu[\"log N2 (total)\"] < -0.35\n",
    "for cat in cats:\n",
    "    # Total number of 1-component spaxels in this spectral category\n",
    "    N_cat_tot = df_lzifu[(df_lzifu[\"BPT (total)\"] == cat)].shape[0]\n",
    "    \n",
    "    # Total number of 1-component spaxels with both W > 14Å and delta_sigma < 0 in this spectral category\n",
    "    cond_cat = cond & (df_lzifu[\"BPT (total)\"] == cat)\n",
    "    N = df_lzifu[cond_cat].shape[0]\n",
    "    \n",
    "    print(f\"{cat} total fluxes: {N / N_cat_tot * 100}% (N = {N} of {N_cat_tot}) have log N2 < -0.35\")\n",
    "\n",
    "print(\"-------------------------------------------------------------------------------------------\")\n",
    "# Mixing: Any spaxels with -0.35 < log N2 (in any component) < -0.15: what are the classificaionts of these?\n",
    "cond = df_lzifu[\"log N2 (total)\"] >= -0.35\n",
    "cond &= df_lzifu[\"log N2 (total)\"] < -0.15\n",
    "for cat in cats:\n",
    "    # Total number of 1-component spaxels in this spectral category\n",
    "    N_cat_tot = df_lzifu[(df_lzifu[\"BPT (total)\"] == cat)].shape[0]\n",
    "    \n",
    "    # Total number of 1-component spaxels with both W > 14Å and delta_sigma < 0 in this spectral category\n",
    "    cond_cat = cond & (df_lzifu[\"BPT (total)\"] == cat)\n",
    "    N = df_lzifu[cond_cat].shape[0]\n",
    "    \n",
    "    print(f\"{cat} total fluxes: {N / N_cat_tot * 100}% (N = {N} of {N_cat_tot}) have -0.35 < log N2 < -0.15\")\n",
    "    \n",
    "print(\"-------------------------------------------------------------------------------------------\")\n",
    "# AGN/shocks/HOLMES: Any spaxels with log N2 (in any component) > -0.15: what are the classificaionts of these?\n",
    "cond = df_lzifu[\"log N2 (total)\"] >= -0.15\n",
    "for cat in cats:\n",
    "    # Total number of 1-component spaxels in this spectral category\n",
    "    N_cat_tot = df_lzifu[(df_lzifu[\"BPT (total)\"] == cat)].shape[0]\n",
    "    \n",
    "    # Total number of 1-component spaxels with both W > 14Å and delta_sigma < 0 in this spectral category\n",
    "    cond_cat = cond & (df_lzifu[\"BPT (total)\"] == cat)\n",
    "    N = df_lzifu[cond_cat].shape[0]\n",
    "    \n",
    "    print(f\"{cat} total fluxes: {N / N_cat_tot * 100}% (N = {N} of {N_cat_tot}) have log N2 > -0.15\")"
   ]
  },
  {
   "cell_type": "code",
   "execution_count": 150,
   "metadata": {},
   "outputs": [
    {
     "name": "stdout",
     "output_type": "stream",
     "text": [
      "SF spaxels: 90.47500311681836% (N = 29028 of 32084) have log N2 (total) < -0.35\n",
      "Composite spaxels: 13.963317384370017% (N = 1751 of 12540) have log N2 (total) < -0.35\n",
      "Seyfert spaxels: 6.388206388206388% (N = 104 of 1628) have log N2 (total) < -0.35\n",
      "LINER spaxels: 0.0% (N = 0 of 3193) have log N2 (total) < -0.35\n",
      "Ambiguous spaxels: 46.84295736643281% (N = 1736 of 3706) have log N2 (total) < -0.35\n",
      "Not classified spaxels: 22.219552599299437% (N = 17571 of 79079) have log N2 (total) < -0.35\n"
     ]
    }
   ],
   "source": [
    "# SF: Any spaxels with log N2 (in any component) < -0.35: what are the classificaionts of these?\n",
    "cond = df_lzifu_comp0[\"log N2 (component 0)\"] < -0.35\n",
    "for cat in cats:\n",
    "    # Total number of 1-component spaxels in this spectral category\n",
    "    N_cat_tot = df_lzifu_comp0[(df_lzifu_comp0[\"BPT (component 0)\"] == cat)].shape[0]\n",
    "    \n",
    "    # Total number of 1-component spaxels with both W > 14Å and delta_sigma < 0 in this spectral category\n",
    "    cond_cat = cond & (df_lzifu_comp0[\"BPT (component 0)\"] == cat)\n",
    "    N = df_lzifu_comp0[cond_cat].shape[0]\n",
    "    \n",
    "    print(f\"{cat} individual components: {N / N_cat_tot * 100}% (N = {N} of {N_cat_tot}) have log N2 < -0.35\")"
   ]
  },
  {
   "cell_type": "code",
   "execution_count": 154,
   "metadata": {
    "scrolled": true
   },
   "outputs": [
    {
     "name": "stdout",
     "output_type": "stream",
     "text": [
      "SF individual components: 0.0% (N = 0 of 32084) have log N2 > -0.15\n",
      "Composite individual components: 6.5311004784689% (N = 819 of 12540) have log N2 > -0.15\n",
      "Seyfert individual components: 78.31695331695332% (N = 1275 of 1628) have log N2 > -0.15\n",
      "LINER individual components: 97.40056373316631% (N = 3110 of 3193) have log N2 > -0.15\n",
      "Ambiguous individual components: 21.883432271991367% (N = 811 of 3706) have log N2 > -0.15\n",
      "Not classified individual components: 23.179352293276345% (N = 18330 of 79079) have log N2 > -0.15\n"
     ]
    }
   ],
   "source": [
    "# SF: Any spaxels with log N2 (in any component) > -0.15: what are the classificaionts of these?\n",
    "cond = df_lzifu_comp0[\"log N2 (component 0)\"] >= -0.15\n",
    "for cat in cats:\n",
    "    # Total number of 1-component spaxels in this spectral category\n",
    "    N_cat_tot = df_lzifu_comp0[(df_lzifu_comp0[\"BPT (component 0)\"] == cat)].shape[0]\n",
    "    \n",
    "    # Total number of 1-component spaxels with both W > 14Å and delta_sigma < 0 in this spectral category\n",
    "    cond_cat = cond & (df_lzifu_comp0[\"BPT (component 0)\"] == cat)\n",
    "    N = df_lzifu_comp0[cond_cat].shape[0]\n",
    "    \n",
    "    print(f\"{cat} individual components: {N / N_cat_tot * 100}% (N = {N} of {N_cat_tot}) have log N2 > -0.15\")"
   ]
  },
  {
   "cell_type": "code",
   "execution_count": null,
   "metadata": {},
   "outputs": [],
   "source": [
    "IDEA: use the N2 to classify "
   ]
  },
  {
   "cell_type": "code",
   "execution_count": 138,
   "metadata": {},
   "outputs": [
    {
     "name": "stdout",
     "output_type": "stream",
     "text": [
      "1-component SF spaxels: 47.16518768796644% (N = 12703 of 26933) are in the upper-left corner with log N2 (total) < -0.35\n",
      "1-component Composite spaxels: 4.816868126874488% (N = 530 of 11003) are in the upper-left corner with log N2 (total) < -0.35\n",
      "1-component Seyfert spaxels: 0.0% (N = 0 of 646) are in the upper-left corner with log N2 (total) < -0.35\n",
      "1-component LINER spaxels: 0.0% (N = 0 of 2821) are in the upper-left corner with log N2 (total) < -0.35\n",
      "1-component Ambiguous spaxels: 6.992187499999999% (N = 358 of 5120) are in the upper-left corner with log N2 (total) < -0.35\n",
      "1-component Not classified spaxels: 1.161120279238742% (N = 978 of 84229) are in the upper-left corner with log N2 (total) < -0.35\n"
     ]
    }
   ],
   "source": [
    "# SF: 1-component spaxels with EW > 14Å AND delta_sigma < 0 AND log N2 (total) < -0.35: what are the classificaionts of these?\n",
    "cond = df_lzifu[\"Number of components\"] == 1\n",
    "cond &= df_lzifu[\"HALPHA EW (component 0)\"] > 14\n",
    "cond &= df_lzifu[\"sigma_gas - sigma_* (component 0)\"] < 0\n",
    "cond &= df_lzifu[\"log N2 (total)\"] < -0.35\n",
    "for cat in cats:\n",
    "    # Total number of 1-component spaxels in this spectral category\n",
    "    N_cat_tot = df_lzifu[(df_lzifu[\"Number of components\"] == 1) & (df_lzifu[\"BPT (component 0)\"] == cat)].shape[0]\n",
    "    \n",
    "    # Total number of 1-component spaxels with both W > 14Å and delta_sigma < 0 in this spectral category\n",
    "    cond_cat = cond & (df_lzifu[\"BPT (component 0)\"] == cat)\n",
    "    N = df_lzifu[cond_cat].shape[0]\n",
    "    \n",
    "    print(f\"1-component {cat} spaxels: {N / N_cat_tot * 100}% (N = {N} of {N_cat_tot}) are in the upper-left corner with log N2 (total) < -0.35\")"
   ]
  },
  {
   "cell_type": "code",
   "execution_count": 141,
   "metadata": {},
   "outputs": [
    {
     "name": "stdout",
     "output_type": "stream",
     "text": [
      "1-component SF spaxels: 3.4010321909924626% (N = 916 of 26933) are in the upper-left corner with -0.35 < log N2 (total) < -0.15\n",
      "1-component Composite spaxels: 7.725165863855313% (N = 850 of 11003) are in the upper-left corner with -0.35 < log N2 (total) < -0.15\n",
      "1-component Seyfert spaxels: 0.30959752321981426% (N = 2 of 646) are in the upper-left corner with -0.35 < log N2 (total) < -0.15\n",
      "1-component LINER spaxels: 0.0% (N = 0 of 2821) are in the upper-left corner with -0.35 < log N2 (total) < -0.15\n",
      "1-component Ambiguous spaxels: 0.078125% (N = 4 of 5120) are in the upper-left corner with -0.35 < log N2 (total) < -0.15\n",
      "1-component Not classified spaxels: 0.28137577318975654% (N = 237 of 84229) are in the upper-left corner with -0.35 < log N2 (total) < -0.15\n"
     ]
    }
   ],
   "source": [
    "# Composite: 1-component spaxels with EW > 14Å AND delta_sigma < 0 AND -0.35 < log N2 (total) < -0.15: what are the classificaionts of these?\n",
    "cond = df_lzifu[\"Number of components\"] == 1\n",
    "cond &= df_lzifu[\"HALPHA EW (component 0)\"] > 14\n",
    "cond &= df_lzifu[\"sigma_gas - sigma_* (component 0)\"] < 0\n",
    "cond &= df_lzifu[\"log N2 (total)\"] >= -0.35\n",
    "cond &= df_lzifu[\"log N2 (total)\"] < -0.15\n",
    "for cat in cats:\n",
    "    # Total number of 1-component spaxels in this spectral category\n",
    "    N_cat_tot = df_lzifu[(df_lzifu[\"Number of components\"] == 1) & (df_lzifu[\"BPT (component 0)\"] == cat)].shape[0]\n",
    "    \n",
    "    # Total number of 1-component spaxels with both W > 14Å and delta_sigma < 0 in this spectral category\n",
    "    cond_cat = cond & (df_lzifu[\"BPT (component 0)\"] == cat)\n",
    "    N = df_lzifu[cond_cat].shape[0]\n",
    "    \n",
    "    print(f\"1-component {cat} spaxels: {N / N_cat_tot * 100}% (N = {N} of {N_cat_tot}) are in the upper-left corner with -0.35 < log N2 (total) < -0.15\")"
   ]
  },
  {
   "cell_type": "code",
   "execution_count": 142,
   "metadata": {},
   "outputs": [
    {
     "name": "stdout",
     "output_type": "stream",
     "text": [
      "1-component SF spaxels: 0.0% (N = 0 of 26933) are in the upper-left corner with log N2 (total) > -0.15\n",
      "1-component Composite spaxels: 0.0999727347087158% (N = 11 of 11003) are in the upper-left corner with log N2 (total) > -0.15\n",
      "1-component Seyfert spaxels: 1.08359133126935% (N = 7 of 646) are in the upper-left corner with log N2 (total) > -0.15\n",
      "1-component LINER spaxels: 0.0% (N = 0 of 2821) are in the upper-left corner with log N2 (total) > -0.15\n",
      "1-component Ambiguous spaxels: 0.0390625% (N = 2 of 5120) are in the upper-left corner with log N2 (total) > -0.15\n",
      "1-component Not classified spaxels: 0.0035617186479716015% (N = 3 of 84229) are in the upper-left corner with log N2 (total) > -0.15\n"
     ]
    }
   ],
   "source": [
    "# AGN/shock: 1-component spaxels with EW > 14Å AND delta_sigma < 0 AND log N2 (total) > -0.15: what are the classificaionts of these?\n",
    "cond = df_lzifu[\"Number of components\"] == 1\n",
    "cond &= df_lzifu[\"HALPHA EW (component 0)\"] > 14\n",
    "cond &= df_lzifu[\"sigma_gas - sigma_* (component 0)\"] < 0\n",
    "cond &= df_lzifu[\"log N2 (total)\"] >= -0.15\n",
    "for cat in cats:\n",
    "    # Total number of 1-component spaxels in this spectral category\n",
    "    N_cat_tot = df_lzifu[(df_lzifu[\"Number of components\"] == 1) & (df_lzifu[\"BPT (component 0)\"] == cat)].shape[0]\n",
    "    \n",
    "    # Total number of 1-component spaxels with both W > 14Å and delta_sigma < 0 in this spectral category\n",
    "    cond_cat = cond & (df_lzifu[\"BPT (component 0)\"] == cat)\n",
    "    N = df_lzifu[cond_cat].shape[0]\n",
    "    \n",
    "    print(f\"1-component {cat} spaxels: {N / N_cat_tot * 100}% (N = {N} of {N_cat_tot}) are in the upper-left corner with log N2 (total) > -0.15\")"
   ]
  },
  {
   "cell_type": "code",
   "execution_count": 134,
   "metadata": {},
   "outputs": [
    {
     "name": "stdout",
     "output_type": "stream",
     "text": [
      "1-component SF spaxels: 22.596814317008874% (N = 6086 of 26933) are in the middle-left quadrant\n",
      "1-component Composite spaxels: 62.31027901481414% (N = 6856 of 11003) are in the middle-left quadrant\n",
      "1-component Seyfert spaxels: 24.613003095975234% (N = 159 of 646) are in the middle-left quadrant\n",
      "1-component LINER spaxels: 14.711095356256646% (N = 415 of 2821) are in the middle-left quadrant\n",
      "1-component Ambiguous spaxels: 31.25% (N = 1600 of 5120) are in the middle-left quadrant\n",
      "1-component Not classified spaxels: 14.708710776573389% (N = 12389 of 84229) are in the middle-left quadrant\n"
     ]
    }
   ],
   "source": [
    "# 1-component spaxels with 3Å < EW < 14Å and delta_sigma < 0: what are the classificaionts of these?\n",
    "cond = df_lzifu[\"Number of components\"] == 1\n",
    "cond &= df_lzifu[\"HALPHA EW (component 0)\"] <= 14\n",
    "cond &= df_lzifu[\"HALPHA EW (component 0)\"] > 3\n",
    "cond &= df_lzifu[\"sigma_gas - sigma_* (component 0)\"] < 0\n",
    "for cat in cats:\n",
    "    # Total number of 1-component spaxels in this spectral category\n",
    "    N_cat_tot = df_lzifu[(df_lzifu[\"Number of components\"] == 1) & (df_lzifu[\"BPT (component 0)\"] == cat)].shape[0]\n",
    "    \n",
    "    # Total number of 1-component spaxels with both W > 14Å and delta_sigma < 0 in this spectral category\n",
    "    cond_cat = cond & (df_lzifu[\"BPT (component 0)\"] == cat)\n",
    "    N = df_lzifu[cond_cat].shape[0]\n",
    "    \n",
    "    print(f\"1-component {cat} spaxels: {N / N_cat_tot * 100}% (N = {N} of {N_cat_tot}) are in the middle-left quadrant\")"
   ]
  },
  {
   "cell_type": "code",
   "execution_count": 135,
   "metadata": {
    "scrolled": false
   },
   "outputs": [
    {
     "name": "stdout",
     "output_type": "stream",
     "text": [
      "1-component SF spaxels: 27.345635465785467% (N = 7365 of 26933) are in the middle-left quadrant\n",
      "1-component Composite spaxels: 2.8355902935563027% (N = 312 of 11003) are in the middle-left quadrant\n",
      "1-component Seyfert spaxels: 11.30030959752322% (N = 73 of 646) are in the middle-left quadrant\n",
      "1-component LINER spaxels: 0.0% (N = 0 of 2821) are in the middle-left quadrant\n",
      "1-component Ambiguous spaxels: 2.40234375% (N = 123 of 5120) are in the middle-left quadrant\n",
      "1-component Not classified spaxels: 3.9273884291633525% (N = 3308 of 84229) are in the middle-left quadrant\n"
     ]
    }
   ],
   "source": [
    "# >1-component spaxels with EW(1) > 14Å and delta_sigma(1) < 0: what are the classificaionts of these?\n",
    "cond = df_lzifu[\"Number of components\"] > 1\n",
    "cond &= df_lzifu[\"HALPHA EW (component 0)\"] > 14\n",
    "cond &= df_lzifu[\"sigma_gas - sigma_* (component 0)\"] < 0\n",
    "for cat in cats:\n",
    "    # Total number of 1-component spaxels in this spectral category\n",
    "    N_cat_tot = df_lzifu[(df_lzifu[\"Number of components\"] == 1) & (df_lzifu[\"BPT (component 0)\"] == cat)].shape[0]\n",
    "    \n",
    "    # Total number of 1-component spaxels with both W > 14Å and delta_sigma < 0 in this spectral category\n",
    "    cond_cat = cond & (df_lzifu[\"BPT (component 0)\"] == cat)\n",
    "    N = df_lzifu[cond_cat].shape[0]\n",
    "    \n",
    "    print(f\"1-component {cat} spaxels: {N / N_cat_tot * 100}% (N = {N} of {N_cat_tot}) are in the middle-left quadrant\")"
   ]
  },
  {
   "cell_type": "code",
   "execution_count": 184,
   "metadata": {
    "scrolled": true
   },
   "outputs": [
    {
     "data": {
      "text/plain": [
       "0.6888597967707749"
      ]
     },
     "execution_count": 184,
     "metadata": {},
     "output_type": "execute_result"
    }
   ],
   "source": [
    "df_lzifu[(df_lzifu[\"WHAV* classification\"] == \"Mixing\") & (df_lzifu[\"Number of components\"] == 1) & (df_lzifu[\"sigma_gas - sigma_* (component 0)\"] - 3 * df_lzifu[\"sigma_gas - sigma_* error (component 0)\"] > 0)].shape[0] / df_lzifu[(df_lzifu[\"WHAV* classification\"] == \"Mixing\")].shape[0] * 100\n"
   ]
  },
  {
   "cell_type": "code",
   "execution_count": 192,
   "metadata": {},
   "outputs": [
    {
     "data": {
      "text/plain": [
       "17.346938775510203"
      ]
     },
     "execution_count": 192,
     "metadata": {},
     "output_type": "execute_result"
    }
   ],
   "source": [
    "df_lzifu[(df_lzifu[\"BPT (component 0)\"] == \"Seyfert\") & (df_lzifu[\"Number of components\"] == 1) & (df_lzifu[\"sigma_gas - sigma_* (component 0)\"] - 3 * df_lzifu[\"sigma_gas - sigma_* error (component 0)\"] > 0)].shape[0] / df_lzifu[(df_lzifu[\"BPT (component 0)\"] == \"Seyfert\")].shape[0] * 100\n"
   ]
  },
  {
   "cell_type": "code",
   "execution_count": 196,
   "metadata": {},
   "outputs": [
    {
     "data": {
      "text/html": [
       "<div>\n",
       "<style scoped>\n",
       "    .dataframe tbody tr th:only-of-type {\n",
       "        vertical-align: middle;\n",
       "    }\n",
       "\n",
       "    .dataframe tbody tr th {\n",
       "        vertical-align: top;\n",
       "    }\n",
       "\n",
       "    .dataframe thead th {\n",
       "        text-align: right;\n",
       "    }\n",
       "</style>\n",
       "<table border=\"1\" class=\"dataframe\">\n",
       "  <thead>\n",
       "    <tr style=\"text-align: right;\">\n",
       "      <th></th>\n",
       "      <th>Bin size (pixels)</th>\n",
       "      <th>Bin size (square arcsec)</th>\n",
       "      <th>Bin size (square kpc)</th>\n",
       "      <th>D4000</th>\n",
       "      <th>D4000 error</th>\n",
       "      <th>D_A (Mpc)</th>\n",
       "      <th>D_L (Mpc)</th>\n",
       "      <th>Galaxy centre x0_px (projected, arcsec)</th>\n",
       "      <th>Galaxy centre y0_px (projected, arcsec)</th>\n",
       "      <th>Good?</th>\n",
       "      <th>...</th>\n",
       "      <th>delta log N2 (2/1) error</th>\n",
       "      <th>delta log S2 (1/0)</th>\n",
       "      <th>delta log S2 (1/0) error</th>\n",
       "      <th>delta log S2 (2/1)</th>\n",
       "      <th>delta log S2 (2/1) error</th>\n",
       "      <th>delta log O1 (1/0)</th>\n",
       "      <th>delta log O1 (1/0) error</th>\n",
       "      <th>delta log O1 (2/1)</th>\n",
       "      <th>delta log O1 (2/1) error</th>\n",
       "      <th>WHAV* classification</th>\n",
       "    </tr>\n",
       "  </thead>\n",
       "  <tbody>\n",
       "    <tr>\n",
       "      <td>8128</td>\n",
       "      <td>1.0</td>\n",
       "      <td>0.25</td>\n",
       "      <td>0.188203</td>\n",
       "      <td>1.147716</td>\n",
       "      <td>0.085446</td>\n",
       "      <td>178.964961</td>\n",
       "      <td>195.086512</td>\n",
       "      <td>12.75</td>\n",
       "      <td>12.75</td>\n",
       "      <td>1.0</td>\n",
       "      <td>...</td>\n",
       "      <td>NaN</td>\n",
       "      <td>NaN</td>\n",
       "      <td>NaN</td>\n",
       "      <td>NaN</td>\n",
       "      <td>NaN</td>\n",
       "      <td>NaN</td>\n",
       "      <td>NaN</td>\n",
       "      <td>NaN</td>\n",
       "      <td>NaN</td>\n",
       "      <td>AGN/HOLMES/shocks</td>\n",
       "    </tr>\n",
       "    <tr>\n",
       "      <td>10912</td>\n",
       "      <td>1.0</td>\n",
       "      <td>0.25</td>\n",
       "      <td>0.038810</td>\n",
       "      <td>1.389176</td>\n",
       "      <td>0.109565</td>\n",
       "      <td>81.269400</td>\n",
       "      <td>84.458210</td>\n",
       "      <td>12.75</td>\n",
       "      <td>12.75</td>\n",
       "      <td>1.0</td>\n",
       "      <td>...</td>\n",
       "      <td>NaN</td>\n",
       "      <td>NaN</td>\n",
       "      <td>NaN</td>\n",
       "      <td>NaN</td>\n",
       "      <td>NaN</td>\n",
       "      <td>NaN</td>\n",
       "      <td>NaN</td>\n",
       "      <td>NaN</td>\n",
       "      <td>NaN</td>\n",
       "      <td>AGN/HOLMES/shocks</td>\n",
       "    </tr>\n",
       "    <tr>\n",
       "      <td>26808</td>\n",
       "      <td>1.0</td>\n",
       "      <td>0.25</td>\n",
       "      <td>0.114163</td>\n",
       "      <td>-1.928340</td>\n",
       "      <td>-4.965268</td>\n",
       "      <td>139.385387</td>\n",
       "      <td>148.998782</td>\n",
       "      <td>12.75</td>\n",
       "      <td>12.75</td>\n",
       "      <td>1.0</td>\n",
       "      <td>...</td>\n",
       "      <td>NaN</td>\n",
       "      <td>NaN</td>\n",
       "      <td>NaN</td>\n",
       "      <td>NaN</td>\n",
       "      <td>NaN</td>\n",
       "      <td>NaN</td>\n",
       "      <td>NaN</td>\n",
       "      <td>NaN</td>\n",
       "      <td>NaN</td>\n",
       "      <td>AGN/HOLMES/shocks</td>\n",
       "    </tr>\n",
       "    <tr>\n",
       "      <td>36909</td>\n",
       "      <td>1.0</td>\n",
       "      <td>0.25</td>\n",
       "      <td>0.142682</td>\n",
       "      <td>1.451728</td>\n",
       "      <td>0.083397</td>\n",
       "      <td>155.825691</td>\n",
       "      <td>167.925807</td>\n",
       "      <td>12.75</td>\n",
       "      <td>12.75</td>\n",
       "      <td>1.0</td>\n",
       "      <td>...</td>\n",
       "      <td>NaN</td>\n",
       "      <td>NaN</td>\n",
       "      <td>NaN</td>\n",
       "      <td>NaN</td>\n",
       "      <td>NaN</td>\n",
       "      <td>NaN</td>\n",
       "      <td>NaN</td>\n",
       "      <td>NaN</td>\n",
       "      <td>NaN</td>\n",
       "      <td>AGN/HOLMES/shocks</td>\n",
       "    </tr>\n",
       "    <tr>\n",
       "      <td>44272</td>\n",
       "      <td>1.0</td>\n",
       "      <td>0.25</td>\n",
       "      <td>0.608312</td>\n",
       "      <td>1.431883</td>\n",
       "      <td>0.055507</td>\n",
       "      <td>321.749700</td>\n",
       "      <td>377.327902</td>\n",
       "      <td>12.75</td>\n",
       "      <td>12.75</td>\n",
       "      <td>1.0</td>\n",
       "      <td>...</td>\n",
       "      <td>NaN</td>\n",
       "      <td>NaN</td>\n",
       "      <td>NaN</td>\n",
       "      <td>NaN</td>\n",
       "      <td>NaN</td>\n",
       "      <td>NaN</td>\n",
       "      <td>NaN</td>\n",
       "      <td>NaN</td>\n",
       "      <td>NaN</td>\n",
       "      <td>AGN/HOLMES/shocks</td>\n",
       "    </tr>\n",
       "    <tr>\n",
       "      <td>...</td>\n",
       "      <td>...</td>\n",
       "      <td>...</td>\n",
       "      <td>...</td>\n",
       "      <td>...</td>\n",
       "      <td>...</td>\n",
       "      <td>...</td>\n",
       "      <td>...</td>\n",
       "      <td>...</td>\n",
       "      <td>...</td>\n",
       "      <td>...</td>\n",
       "      <td>...</td>\n",
       "      <td>...</td>\n",
       "      <td>...</td>\n",
       "      <td>...</td>\n",
       "      <td>...</td>\n",
       "      <td>...</td>\n",
       "      <td>...</td>\n",
       "      <td>...</td>\n",
       "      <td>...</td>\n",
       "      <td>...</td>\n",
       "      <td>...</td>\n",
       "    </tr>\n",
       "    <tr>\n",
       "      <td>311727</td>\n",
       "      <td>1.0</td>\n",
       "      <td>0.25</td>\n",
       "      <td>0.194831</td>\n",
       "      <td>1.411847</td>\n",
       "      <td>0.026345</td>\n",
       "      <td>182.089036</td>\n",
       "      <td>198.801119</td>\n",
       "      <td>12.75</td>\n",
       "      <td>12.75</td>\n",
       "      <td>1.0</td>\n",
       "      <td>...</td>\n",
       "      <td>0.078335</td>\n",
       "      <td>0.034357</td>\n",
       "      <td>0.323551</td>\n",
       "      <td>-0.121342</td>\n",
       "      <td>0.393611</td>\n",
       "      <td>-0.372948</td>\n",
       "      <td>1.356458</td>\n",
       "      <td>NaN</td>\n",
       "      <td>NaN</td>\n",
       "      <td>AGN/HOLMES/shocks</td>\n",
       "    </tr>\n",
       "    <tr>\n",
       "      <td>185812</td>\n",
       "      <td>1.0</td>\n",
       "      <td>0.25</td>\n",
       "      <td>0.081972</td>\n",
       "      <td>1.392890</td>\n",
       "      <td>0.013522</td>\n",
       "      <td>118.110154</td>\n",
       "      <td>124.950516</td>\n",
       "      <td>12.75</td>\n",
       "      <td>12.75</td>\n",
       "      <td>1.0</td>\n",
       "      <td>...</td>\n",
       "      <td>0.251451</td>\n",
       "      <td>0.342489</td>\n",
       "      <td>0.354978</td>\n",
       "      <td>-0.088139</td>\n",
       "      <td>0.101164</td>\n",
       "      <td>NaN</td>\n",
       "      <td>NaN</td>\n",
       "      <td>NaN</td>\n",
       "      <td>NaN</td>\n",
       "      <td>AGN/HOLMES/shocks</td>\n",
       "    </tr>\n",
       "    <tr>\n",
       "      <td>259278</td>\n",
       "      <td>1.0</td>\n",
       "      <td>0.25</td>\n",
       "      <td>0.033751</td>\n",
       "      <td>1.340754</td>\n",
       "      <td>0.013524</td>\n",
       "      <td>75.787331</td>\n",
       "      <td>78.554118</td>\n",
       "      <td>12.75</td>\n",
       "      <td>12.75</td>\n",
       "      <td>1.0</td>\n",
       "      <td>...</td>\n",
       "      <td>0.242773</td>\n",
       "      <td>0.103041</td>\n",
       "      <td>0.530638</td>\n",
       "      <td>0.236050</td>\n",
       "      <td>0.331003</td>\n",
       "      <td>0.421845</td>\n",
       "      <td>1.815677</td>\n",
       "      <td>0.457057</td>\n",
       "      <td>1.213364</td>\n",
       "      <td>AGN/HOLMES/shocks</td>\n",
       "    </tr>\n",
       "    <tr>\n",
       "      <td>185914</td>\n",
       "      <td>1.0</td>\n",
       "      <td>0.25</td>\n",
       "      <td>0.081972</td>\n",
       "      <td>1.404005</td>\n",
       "      <td>0.011212</td>\n",
       "      <td>118.110154</td>\n",
       "      <td>124.950516</td>\n",
       "      <td>12.75</td>\n",
       "      <td>12.75</td>\n",
       "      <td>1.0</td>\n",
       "      <td>...</td>\n",
       "      <td>0.197098</td>\n",
       "      <td>-0.129776</td>\n",
       "      <td>0.326939</td>\n",
       "      <td>0.227865</td>\n",
       "      <td>0.292764</td>\n",
       "      <td>NaN</td>\n",
       "      <td>NaN</td>\n",
       "      <td>NaN</td>\n",
       "      <td>NaN</td>\n",
       "      <td>AGN/HOLMES/shocks</td>\n",
       "    </tr>\n",
       "    <tr>\n",
       "      <td>259326</td>\n",
       "      <td>1.0</td>\n",
       "      <td>0.25</td>\n",
       "      <td>0.033751</td>\n",
       "      <td>1.179586</td>\n",
       "      <td>0.020811</td>\n",
       "      <td>75.787331</td>\n",
       "      <td>78.554118</td>\n",
       "      <td>12.75</td>\n",
       "      <td>12.75</td>\n",
       "      <td>1.0</td>\n",
       "      <td>...</td>\n",
       "      <td>0.196502</td>\n",
       "      <td>0.078679</td>\n",
       "      <td>0.440163</td>\n",
       "      <td>-0.134864</td>\n",
       "      <td>0.485813</td>\n",
       "      <td>0.249371</td>\n",
       "      <td>1.650823</td>\n",
       "      <td>NaN</td>\n",
       "      <td>NaN</td>\n",
       "      <td>AGN/HOLMES/shocks</td>\n",
       "    </tr>\n",
       "  </tbody>\n",
       "</table>\n",
       "<p>1573 rows × 475 columns</p>\n",
       "</div>"
      ],
      "text/plain": [
       "        Bin size (pixels)  Bin size (square arcsec)  Bin size (square kpc)  \\\n",
       "8128                  1.0                      0.25               0.188203   \n",
       "10912                 1.0                      0.25               0.038810   \n",
       "26808                 1.0                      0.25               0.114163   \n",
       "36909                 1.0                      0.25               0.142682   \n",
       "44272                 1.0                      0.25               0.608312   \n",
       "...                   ...                       ...                    ...   \n",
       "311727                1.0                      0.25               0.194831   \n",
       "185812                1.0                      0.25               0.081972   \n",
       "259278                1.0                      0.25               0.033751   \n",
       "185914                1.0                      0.25               0.081972   \n",
       "259326                1.0                      0.25               0.033751   \n",
       "\n",
       "           D4000  D4000 error   D_A (Mpc)   D_L (Mpc)  \\\n",
       "8128    1.147716     0.085446  178.964961  195.086512   \n",
       "10912   1.389176     0.109565   81.269400   84.458210   \n",
       "26808  -1.928340    -4.965268  139.385387  148.998782   \n",
       "36909   1.451728     0.083397  155.825691  167.925807   \n",
       "44272   1.431883     0.055507  321.749700  377.327902   \n",
       "...          ...          ...         ...         ...   \n",
       "311727  1.411847     0.026345  182.089036  198.801119   \n",
       "185812  1.392890     0.013522  118.110154  124.950516   \n",
       "259278  1.340754     0.013524   75.787331   78.554118   \n",
       "185914  1.404005     0.011212  118.110154  124.950516   \n",
       "259326  1.179586     0.020811   75.787331   78.554118   \n",
       "\n",
       "        Galaxy centre x0_px (projected, arcsec)  \\\n",
       "8128                                      12.75   \n",
       "10912                                     12.75   \n",
       "26808                                     12.75   \n",
       "36909                                     12.75   \n",
       "44272                                     12.75   \n",
       "...                                         ...   \n",
       "311727                                    12.75   \n",
       "185812                                    12.75   \n",
       "259278                                    12.75   \n",
       "185914                                    12.75   \n",
       "259326                                    12.75   \n",
       "\n",
       "        Galaxy centre y0_px (projected, arcsec)  Good?  ...  \\\n",
       "8128                                      12.75    1.0  ...   \n",
       "10912                                     12.75    1.0  ...   \n",
       "26808                                     12.75    1.0  ...   \n",
       "36909                                     12.75    1.0  ...   \n",
       "44272                                     12.75    1.0  ...   \n",
       "...                                         ...    ...  ...   \n",
       "311727                                    12.75    1.0  ...   \n",
       "185812                                    12.75    1.0  ...   \n",
       "259278                                    12.75    1.0  ...   \n",
       "185914                                    12.75    1.0  ...   \n",
       "259326                                    12.75    1.0  ...   \n",
       "\n",
       "        delta log N2 (2/1) error  delta log S2 (1/0)  \\\n",
       "8128                         NaN                 NaN   \n",
       "10912                        NaN                 NaN   \n",
       "26808                        NaN                 NaN   \n",
       "36909                        NaN                 NaN   \n",
       "44272                        NaN                 NaN   \n",
       "...                          ...                 ...   \n",
       "311727                  0.078335            0.034357   \n",
       "185812                  0.251451            0.342489   \n",
       "259278                  0.242773            0.103041   \n",
       "185914                  0.197098           -0.129776   \n",
       "259326                  0.196502            0.078679   \n",
       "\n",
       "        delta log S2 (1/0) error  delta log S2 (2/1)  \\\n",
       "8128                         NaN                 NaN   \n",
       "10912                        NaN                 NaN   \n",
       "26808                        NaN                 NaN   \n",
       "36909                        NaN                 NaN   \n",
       "44272                        NaN                 NaN   \n",
       "...                          ...                 ...   \n",
       "311727                  0.323551           -0.121342   \n",
       "185812                  0.354978           -0.088139   \n",
       "259278                  0.530638            0.236050   \n",
       "185914                  0.326939            0.227865   \n",
       "259326                  0.440163           -0.134864   \n",
       "\n",
       "        delta log S2 (2/1) error  delta log O1 (1/0)  \\\n",
       "8128                         NaN                 NaN   \n",
       "10912                        NaN                 NaN   \n",
       "26808                        NaN                 NaN   \n",
       "36909                        NaN                 NaN   \n",
       "44272                        NaN                 NaN   \n",
       "...                          ...                 ...   \n",
       "311727                  0.393611           -0.372948   \n",
       "185812                  0.101164                 NaN   \n",
       "259278                  0.331003            0.421845   \n",
       "185914                  0.292764                 NaN   \n",
       "259326                  0.485813            0.249371   \n",
       "\n",
       "        delta log O1 (1/0) error  delta log O1 (2/1)  \\\n",
       "8128                         NaN                 NaN   \n",
       "10912                        NaN                 NaN   \n",
       "26808                        NaN                 NaN   \n",
       "36909                        NaN                 NaN   \n",
       "44272                        NaN                 NaN   \n",
       "...                          ...                 ...   \n",
       "311727                  1.356458                 NaN   \n",
       "185812                       NaN                 NaN   \n",
       "259278                  1.815677            0.457057   \n",
       "185914                       NaN                 NaN   \n",
       "259326                  1.650823                 NaN   \n",
       "\n",
       "        delta log O1 (2/1) error  WHAV* classification  \n",
       "8128                         NaN     AGN/HOLMES/shocks  \n",
       "10912                        NaN     AGN/HOLMES/shocks  \n",
       "26808                        NaN     AGN/HOLMES/shocks  \n",
       "36909                        NaN     AGN/HOLMES/shocks  \n",
       "44272                        NaN     AGN/HOLMES/shocks  \n",
       "...                          ...                   ...  \n",
       "311727                       NaN     AGN/HOLMES/shocks  \n",
       "185812                       NaN     AGN/HOLMES/shocks  \n",
       "259278                  1.213364     AGN/HOLMES/shocks  \n",
       "185914                       NaN     AGN/HOLMES/shocks  \n",
       "259326                       NaN     AGN/HOLMES/shocks  \n",
       "\n",
       "[1573 rows x 475 columns]"
      ]
     },
     "execution_count": 196,
     "metadata": {},
     "output_type": "execute_result"
    }
   ],
   "source": [
    "df_mystery_agn"
   ]
  },
  {
   "cell_type": "code",
   "execution_count": 199,
   "metadata": {},
   "outputs": [
    {
     "data": {
      "application/vnd.jupyter.widget-view+json": {
       "model_id": "17da07c6c45a45c4b62958293218383d",
       "version_major": 2,
       "version_minor": 0
      },
      "text/plain": [
       "Canvas(toolbar=Toolbar(toolitems=[('Home', 'Reset original view', 'home', 'home'), ('Back', 'Back to previous …"
      ]
     },
     "metadata": {},
     "output_type": "display_data"
    }
   ],
   "source": [
    "# Find AGN-like spaxels where the 1st component is in the lower-left quadrant \n",
    "df_mystery_agn = df_lzifu[(df_lzifu[\"WHAV* classification\"] == \"AGN/HOLMES/shocks\") & (df_lzifu[\"Number of components\"] > 1) & (df_lzifu[\"HALPHA EW (component 0)\"] < 3)]\n",
    "col_x = \"sigma_gas - sigma_*\"\n",
    "col_y = \"log HALPHA EW\"\n",
    "col_z = \"count\"\n",
    "\n",
    "# Figure\n",
    "fig, axs = plt.subplots(nrows=1, ncols=3, figsize=(14, 5))\n",
    "fig.subplots_adjust(wspace=0.5)\n",
    "ax = axs[-1]\n",
    "bbox = ax.get_position()\n",
    "cax = fig.add_axes([bbox.x0 + bbox.width, bbox.y0, 0.025, bbox.height])\n",
    "\n",
    "# Plot full SAMI sample\n",
    "for ii in range(3):\n",
    "    plot2dhistcontours(df=df, \n",
    "                       col_x=col_x,\n",
    "                       col_y=col_y,\n",
    "                       col_z=\"count\", log_z=True,\n",
    "                       alpha=0.5, cmap=\"gray_r\", ax=axs[ii],\n",
    "                       plot_colorbar=False)\n",
    "\n",
    "    # Plot the LZIFU data\n",
    "    plot2dhistcontours(df=df_mystery_agn,\n",
    "                  col_x=f\"{col_x} (component {ii})\" if f\"{col_x} (component {ii})\" in df_gal else col_x,\n",
    "                  col_y=f\"{col_y} (component {ii})\",\n",
    "                  col_z=\"count\", log_z=True, ax=axs[ii], cax=cax,\n",
    "                  plot_colorbar=True)\n"
   ]
  },
  {
   "cell_type": "code",
   "execution_count": 218,
   "metadata": {},
   "outputs": [],
   "source": [
    "################################################################################\n",
    "# Testing our classifiction system\n",
    "################################################################################\n",
    "df_lzifu[\"WHAV* classification\"] = \"Unknown\"  # Initialise everything to \"unknown\"\n",
    "\n",
    "#///////////////////////////////////////////////////////////////////////////////\n",
    "# Step 1: filter out evolved stars\n",
    "cond = df_lzifu[\"HALPHA EW (total)\"] <= 3\n",
    "df_lzifu.loc[cond, \"WHAV* classification\"] = \"HOLMES\"\n",
    "cond_remainder = df_lzifu[\"WHAV* classification\"] == \"Unknown\"\n",
    "\n",
    "#///////////////////////////////////////////////////////////////////////////////\n",
    "# Step 2: use the N2 ratio to divide into SF, mixed and AGN/evolved stars/shocks\n",
    "# Because we used the TOTAL N2 ratio in each spaxel to determine these boundaries, these categories are representative of the DOMINANT ionisation mechanism in each spaxel.\n",
    "cond_SF = cond_remainder & (df_lzifu[\"log N2 (total)\"] < -0.35)\n",
    "cond_Mixing = cond_remainder & (df_lzifu[\"log N2 (total)\"] >= -0.35) & (df_lzifu[\"log N2 (total)\"] < -0.15)\n",
    "cond_AGN = cond_remainder & (df_lzifu[\"log N2 (total)\"] >= -0.15)\n",
    "\n",
    "df_lzifu.loc[cond_SF, \"WHAV* classification\"] = \"SF\" \n",
    "df_lzifu.loc[cond_Mixing, \"WHAV* classification\"] = \"Mixing\"\n",
    "df_lzifu.loc[cond_AGN, \"WHAV* classification\"] = \"AGN/HOLMES/shocks\"\n",
    "\n",
    "#///////////////////////////////////////////////////////////////////////////////\n",
    "# For convenience: mark components as possible HOLMES \n",
    "# Question: how confident can we be that these are ALWAYS HOLMES? how common are components from e.g. LLAGN?\n",
    "for ii in range(3):\n",
    "    cond_possible_HOLMES = cond_AGN & (df_lzifu[f\"HALPHA EW (component {ii})\"] < 3) & (df_lzifu[f\"sigma_gas - sigma_* (component {ii})\"] < 0)\n",
    "    df_lzifu.loc[cond_possible_HOLMES, f\"Possible HOLMES (component {ii})\"] = True\n",
    "    df_lzifu.loc[~cond_possible_HOLMES, f\"Possible HOLMES (component {ii})\"] = False\n",
    "    \n",
    "#///////////////////////////////////////////////////////////////////////////////\n",
    "# For convenience: mark components as being kinematically disturbed (by 3sigma)\n",
    "for ii in range(3):\n",
    "    cond_kinematically_disturbed = df_lzifu[f\"sigma_gas - sigma_* (component {ii})\"] - 3 * df_lzifu[f\"sigma_gas - sigma_* error (component {ii})\"] > 0\n",
    "    df_lzifu.loc[cond_kinematically_disturbed, f\"Kinematically disturbed (component {ii})\"] = True\n",
    "    df_lzifu.loc[~cond_kinematically_disturbed, f\"Kinematically disturbed (component {ii})\"] = False\n",
    "    "
   ]
  },
  {
   "cell_type": "code",
   "execution_count": 214,
   "metadata": {
    "collapsed": true
   },
   "outputs": [
    {
     "data": {
      "application/vnd.jupyter.widget-view+json": {
       "model_id": "fbf113f118f94e4899bb4f60a1c7af93",
       "version_major": 2,
       "version_minor": 0
      },
      "text/plain": [
       "Canvas(toolbar=Toolbar(toolitems=[('Home', 'Reset original view', 'home', 'home'), ('Back', 'Back to previous …"
      ]
     },
     "metadata": {},
     "output_type": "display_data"
    },
    {
     "name": "stderr",
     "output_type": "stream",
     "text": [
      "/home/u5708159/python/Modules/spaxelsleuth/plotting/plotgalaxies.py:177: UserWarning: No contour levels were found within the data range.\n",
      "  linewidths=linewidths)\n"
     ]
    },
    {
     "data": {
      "application/vnd.jupyter.widget-view+json": {
       "model_id": "f05201a9ff07429bb7d195107f3f0128",
       "version_major": 2,
       "version_minor": 0
      },
      "text/plain": [
       "Canvas(toolbar=Toolbar(toolitems=[('Home', 'Reset original view', 'home', 'home'), ('Back', 'Back to previous …"
      ]
     },
     "metadata": {},
     "output_type": "display_data"
    }
   ],
   "source": [
    "# Check: how many \"possible HOLMES\" are there in each component?\n",
    "for cc in [0, 1]:\n",
    "    df_possible_holmes = df_lzifu.loc[df_lzifu[f\"Possible HOLMES (component {cc})\"]]\n",
    "\n",
    "    # Figure\n",
    "    fig, axs = plt.subplots(nrows=1, ncols=3, figsize=(14, 5))\n",
    "    fig.subplots_adjust(wspace=0.5)\n",
    "    ax = axs[-1]\n",
    "    bbox = ax.get_position()\n",
    "    cax = fig.add_axes([bbox.x0 + bbox.width, bbox.y0, 0.025, bbox.height])\n",
    "\n",
    "    # Plot full SAMI sample\n",
    "    for ii in range(3):\n",
    "        plot2dhistcontours(df=df, \n",
    "                           col_x=col_x,\n",
    "                           col_y=col_y,\n",
    "                           col_z=\"count\", log_z=True,\n",
    "                           alpha=0.5, cmap=\"gray_r\", ax=axs[ii],\n",
    "                           plot_colorbar=False)\n",
    "\n",
    "        # Plot the LZIFU data\n",
    "        plot2dhistcontours(df=df_possible_holmes,\n",
    "                      col_x=f\"{col_x} (component {ii})\" if f\"{col_x} (component {ii})\" in df_gal else col_x,\n",
    "                      col_y=f\"{col_y} (component {ii})\",\n",
    "                      col_z=\"count\", log_z=True, ax=axs[ii],\n",
    "                      plot_colorbar=True)\n"
   ]
  },
  {
   "cell_type": "code",
   "execution_count": 219,
   "metadata": {},
   "outputs": [
    {
     "ename": "TypeError",
     "evalue": "'>' not supported between instances of 'str' and 'int'",
     "output_type": "error",
     "traceback": [
      "\u001b[0;31m---------------------------------------------------------------------------\u001b[0m",
      "\u001b[0;31mTypeError\u001b[0m                                 Traceback (most recent call last)",
      "\u001b[0;32m<ipython-input-219-6db47667a138>\u001b[0m in \u001b[0;36m<module>\u001b[0;34m\u001b[0m\n\u001b[1;32m     37\u001b[0m \u001b[0;34m\u001b[0m\u001b[0m\n\u001b[1;32m     38\u001b[0m \u001b[0;31m# AGN + wind\u001b[0m\u001b[0;34m\u001b[0m\u001b[0;34m\u001b[0m\u001b[0;34m\u001b[0m\u001b[0m\n\u001b[0;32m---> 39\u001b[0;31m \u001b[0mcond_AGN_wind\u001b[0m \u001b[0;34m=\u001b[0m \u001b[0mcond_AGN\u001b[0m \u001b[0;34m&\u001b[0m \u001b[0;34m(\u001b[0m\u001b[0mdf_lzifu\u001b[0m\u001b[0;34m[\u001b[0m\u001b[0;34m\"Number of components\"\u001b[0m\u001b[0;34m]\u001b[0m \u001b[0;34m>\u001b[0m \u001b[0;36m1\u001b[0m\u001b[0;34m)\u001b[0m \u001b[0;34m&\u001b[0m \u001b[0;34m(\u001b[0m\u001b[0mdf_lzifu\u001b[0m\u001b[0;34m[\u001b[0m\u001b[0;34m\"Kinematically disturbed (component 0)\"\u001b[0m\u001b[0;34m]\u001b[0m \u001b[0;34m|\u001b[0m \u001b[0mdf_lzifu\u001b[0m\u001b[0;34m[\u001b[0m\u001b[0;34m\"Kinematically disturbed (component 1)\"\u001b[0m\u001b[0;34m]\u001b[0m \u001b[0;34m|\u001b[0m \u001b[0;34m(\u001b[0m\u001b[0mdf_lzifu\u001b[0m\u001b[0;34m[\u001b[0m\u001b[0;34m\"Kinematically disturbed (component 2)\"\u001b[0m\u001b[0;34m]\u001b[0m \u001b[0;34m)\u001b[0m\u001b[0;34m)\u001b[0m\u001b[0;34m\u001b[0m\u001b[0;34m\u001b[0m\u001b[0m\n\u001b[0m\u001b[1;32m     40\u001b[0m \u001b[0mcond_AGN_wind\u001b[0m \u001b[0;34m|=\u001b[0m \u001b[0;34m(\u001b[0m\u001b[0mdf_lzifu\u001b[0m\u001b[0;34m[\u001b[0m\u001b[0;34m\"Number of components\"\u001b[0m\u001b[0;34m]\u001b[0m \u001b[0;34m==\u001b[0m \u001b[0;36m1\u001b[0m\u001b[0;34m)\u001b[0m \u001b[0;34m&\u001b[0m \u001b[0;34m(\u001b[0m\u001b[0mdf_lzifu\u001b[0m\u001b[0;34m[\u001b[0m\u001b[0;34m\"HALPHA EW (component 0)\"\u001b[0m\u001b[0;34m]\u001b[0m \u001b[0;34m>\u001b[0m \u001b[0;36m3\u001b[0m\u001b[0;34m)\u001b[0m \u001b[0;34m&\u001b[0m \u001b[0mdf_lzifu\u001b[0m\u001b[0;34m[\u001b[0m\u001b[0;34m\"Kinematically disturbed (component 0)\"\u001b[0m\u001b[0;34m]\u001b[0m\u001b[0;34m\u001b[0m\u001b[0;34m\u001b[0m\u001b[0m\n\u001b[1;32m     41\u001b[0m \u001b[0mdf_lzifu\u001b[0m\u001b[0;34m.\u001b[0m\u001b[0mloc\u001b[0m\u001b[0;34m[\u001b[0m\u001b[0mcond_AGN_wind\u001b[0m\u001b[0;34m,\u001b[0m \u001b[0;34m\"WHAV* classification\"\u001b[0m\u001b[0;34m]\u001b[0m \u001b[0;34m=\u001b[0m \u001b[0;34m\"AGN + wind\"\u001b[0m\u001b[0;34m\u001b[0m\u001b[0;34m\u001b[0m\u001b[0m\n",
      "\u001b[0;32m/pkg/linux/anaconda-20191122/anaconda3/lib/python3.7/site-packages/pandas/core/ops/__init__.py\u001b[0m in \u001b[0;36mwrapper\u001b[0;34m(self, other, axis)\u001b[0m\n\u001b[1;32m   1227\u001b[0m \u001b[0;34m\u001b[0m\u001b[0m\n\u001b[1;32m   1228\u001b[0m             \u001b[0;32mwith\u001b[0m \u001b[0mnp\u001b[0m\u001b[0;34m.\u001b[0m\u001b[0merrstate\u001b[0m\u001b[0;34m(\u001b[0m\u001b[0mall\u001b[0m\u001b[0;34m=\u001b[0m\u001b[0;34m\"ignore\"\u001b[0m\u001b[0;34m)\u001b[0m\u001b[0;34m:\u001b[0m\u001b[0;34m\u001b[0m\u001b[0;34m\u001b[0m\u001b[0m\n\u001b[0;32m-> 1229\u001b[0;31m                 \u001b[0mres\u001b[0m \u001b[0;34m=\u001b[0m \u001b[0mna_op\u001b[0m\u001b[0;34m(\u001b[0m\u001b[0mvalues\u001b[0m\u001b[0;34m,\u001b[0m \u001b[0mother\u001b[0m\u001b[0;34m)\u001b[0m\u001b[0;34m\u001b[0m\u001b[0;34m\u001b[0m\u001b[0m\n\u001b[0m\u001b[1;32m   1230\u001b[0m             \u001b[0;32mif\u001b[0m \u001b[0mis_scalar\u001b[0m\u001b[0;34m(\u001b[0m\u001b[0mres\u001b[0m\u001b[0;34m)\u001b[0m\u001b[0;34m:\u001b[0m\u001b[0;34m\u001b[0m\u001b[0;34m\u001b[0m\u001b[0m\n\u001b[1;32m   1231\u001b[0m                 raise TypeError(\n",
      "\u001b[0;32m/pkg/linux/anaconda-20191122/anaconda3/lib/python3.7/site-packages/pandas/core/ops/__init__.py\u001b[0m in \u001b[0;36mna_op\u001b[0;34m(x, y)\u001b[0m\n\u001b[1;32m   1089\u001b[0m \u001b[0;34m\u001b[0m\u001b[0m\n\u001b[1;32m   1090\u001b[0m         \u001b[0;32mif\u001b[0m \u001b[0mis_object_dtype\u001b[0m\u001b[0;34m(\u001b[0m\u001b[0mx\u001b[0m\u001b[0;34m.\u001b[0m\u001b[0mdtype\u001b[0m\u001b[0;34m)\u001b[0m\u001b[0;34m:\u001b[0m\u001b[0;34m\u001b[0m\u001b[0;34m\u001b[0m\u001b[0m\n\u001b[0;32m-> 1091\u001b[0;31m             \u001b[0mresult\u001b[0m \u001b[0;34m=\u001b[0m \u001b[0m_comp_method_OBJECT_ARRAY\u001b[0m\u001b[0;34m(\u001b[0m\u001b[0mop\u001b[0m\u001b[0;34m,\u001b[0m \u001b[0mx\u001b[0m\u001b[0;34m,\u001b[0m \u001b[0my\u001b[0m\u001b[0;34m)\u001b[0m\u001b[0;34m\u001b[0m\u001b[0;34m\u001b[0m\u001b[0m\n\u001b[0m\u001b[1;32m   1092\u001b[0m \u001b[0;34m\u001b[0m\u001b[0m\n\u001b[1;32m   1093\u001b[0m         \u001b[0;32melif\u001b[0m \u001b[0mis_datetimelike_v_numeric\u001b[0m\u001b[0;34m(\u001b[0m\u001b[0mx\u001b[0m\u001b[0;34m,\u001b[0m \u001b[0my\u001b[0m\u001b[0;34m)\u001b[0m\u001b[0;34m:\u001b[0m\u001b[0;34m\u001b[0m\u001b[0;34m\u001b[0m\u001b[0m\n",
      "\u001b[0;32m/pkg/linux/anaconda-20191122/anaconda3/lib/python3.7/site-packages/pandas/core/ops/__init__.py\u001b[0m in \u001b[0;36m_comp_method_OBJECT_ARRAY\u001b[0;34m(op, x, y)\u001b[0m\n\u001b[1;32m   1067\u001b[0m         \u001b[0mresult\u001b[0m \u001b[0;34m=\u001b[0m \u001b[0mlibops\u001b[0m\u001b[0;34m.\u001b[0m\u001b[0mvec_compare\u001b[0m\u001b[0;34m(\u001b[0m\u001b[0mx\u001b[0m\u001b[0;34m,\u001b[0m \u001b[0my\u001b[0m\u001b[0;34m,\u001b[0m \u001b[0mop\u001b[0m\u001b[0;34m)\u001b[0m\u001b[0;34m\u001b[0m\u001b[0;34m\u001b[0m\u001b[0m\n\u001b[1;32m   1068\u001b[0m     \u001b[0;32melse\u001b[0m\u001b[0;34m:\u001b[0m\u001b[0;34m\u001b[0m\u001b[0;34m\u001b[0m\u001b[0m\n\u001b[0;32m-> 1069\u001b[0;31m         \u001b[0mresult\u001b[0m \u001b[0;34m=\u001b[0m \u001b[0mlibops\u001b[0m\u001b[0;34m.\u001b[0m\u001b[0mscalar_compare\u001b[0m\u001b[0;34m(\u001b[0m\u001b[0mx\u001b[0m\u001b[0;34m,\u001b[0m \u001b[0my\u001b[0m\u001b[0;34m,\u001b[0m \u001b[0mop\u001b[0m\u001b[0;34m)\u001b[0m\u001b[0;34m\u001b[0m\u001b[0;34m\u001b[0m\u001b[0m\n\u001b[0m\u001b[1;32m   1070\u001b[0m     \u001b[0;32mreturn\u001b[0m \u001b[0mresult\u001b[0m\u001b[0;34m\u001b[0m\u001b[0;34m\u001b[0m\u001b[0m\n\u001b[1;32m   1071\u001b[0m \u001b[0;34m\u001b[0m\u001b[0m\n",
      "\u001b[0;32mpandas/_libs/ops.pyx\u001b[0m in \u001b[0;36mpandas._libs.ops.scalar_compare\u001b[0;34m()\u001b[0m\n",
      "\u001b[0;31mTypeError\u001b[0m: '>' not supported between instances of 'str' and 'int'"
     ]
    }
   ],
   "source": [
    "#///////////////////////////////////////////////////////////////////////////////\n",
    "# SF-like spaxels\n",
    "#///////////////////////////////////////////////////////////////////////////////\n",
    "# Wind: number of components > 1, AND EITHER delta sigma of 1 or 2 is > 0\n",
    "# Note: may want to also add if ncomponents == 1 but delta_sigma >> 0. \n",
    "# How many SF (either classified via BPT or N2) spaxels are there like this, though? Just checked - only ~0.1% have dsigma > 0 by 3sigma, so probably don't worry \n",
    "cond_SF_wind = cond_SF & (df_lzifu[\"Number of components\"] > 1) & (df_lzifu[\"Kinematically disturbed (component 1)\"] | df_lzifu[\"Kinematically disturbed (component 2)\"])\n",
    "cond_SF_wind |= cond_SF & (df_lzifu[\"Number of components\"] == 1) & df_lzifu[\"Kinematically disturbed (component 0)\"]   # Note: some spaxels in this category may have ambiguous-like line ratios - need to figure out what these are \n",
    "df_lzifu.loc[cond_SF_wind, \"WHAV* classification\"] = \"SF + wind\"\n",
    "\n",
    "# SF + HOLMES \n",
    "cond_SF_no_wind_HOLMES = cond_SF & (df_lzifu[\"Number of components\"] == 2) & (df_lzifu[\"Possible HOLMES (component 0)\"] | df_lzifu[\"Possible HOLMES (component 1)\"])\n",
    "cond_SF_no_wind_HOLMES |= cond_SF & (df_lzifu[\"Number of components\"] == 3) & (df_lzifu[\"Possible HOLMES (component 0)\"] | df_lzifu[\"Possible HOLMES (component 1)\"] | df_lzifu[\"Possible HOLMES (component 2)\"])\n",
    "df_lzifu.loc[cond_SF_no_wind_HOLMES, \"WHAV* classification\"] = \"SF + HOLMES\"\n",
    "\n",
    "# Note: what to do about low-metallicity AGN? e.g., ones that are classified as ambiguous that have log N2 < -0.35 so get lumped in with SF?\n",
    "\n",
    "#///////////////////////////////////////////////////////////////////////////////\n",
    "# Mixing-like spaxels\n",
    "#///////////////////////////////////////////////////////////////////////////////\n",
    "# wind/no wind\n",
    "# Note: <1% of composite/mixing-like spaxels have ncomponents == 1 but delta_sigma >> 0 by 3sigma\n",
    "cond_Mixing_wind = cond_Mixing & (df_lzifu[\"Number of components\"] > 1) & (df_lzifu[\"Kinematically disturbed (component 1)\"] | (df_lzifu[\"Kinematically disturbed (component 2)\"] ))\n",
    "df_lzifu.loc[cond_Mixing_wind, \"WHAV* classification\"] = \"Mixing + wind\"\n",
    "\n",
    "# Mixing + HOLMES \n",
    "cond_Mixing_no_wind_HOLMES = cond_Mixing & (df_lzifu[\"Number of components\"] == 2) & (df_lzifu[\"Possible HOLMES (component 0)\"] | df_lzifu[\"Possible HOLMES (component 1)\"])\n",
    "cond_Mixing_no_wind_HOLMES |= cond_Mixing & (df_lzifu[\"Number of components\"] == 3) & (df_lzifu[\"Possible HOLMES (component 0)\"] | df_lzifu[\"Possible HOLMES (component 1)\"] | df_lzifu[\"Possible HOLMES (component 2)\"])\n",
    "df_lzifu.loc[cond_Mixing_no_wind_HOLMES, \"WHAV* classification\"] = \"Mixing + HOLMES\"\n",
    "\n",
    "#///////////////////////////////////////////////////////////////////////////////\n",
    "# AGN-like spaxels\n",
    "#///////////////////////////////////////////////////////////////////////////////\n",
    "# If there is 1 component and its EW is > 0, then it's an AGN. Note that Seyfert-like components have a range of EWs, so we can't really split between LLAGN and Seyferts here - really need [OIII] for that.\n",
    "cond_AGN_no_wind = cond_AGN & (df_lzifu[\"Number of components\"] == 1) & (df_lzifu[\"HALPHA EW (component 0)\"] > 3) & ~df_lzifu[\"Kinematically disturbed (component 0)\"]\n",
    "df_lzifu.loc[cond_AGN_no_wind, \"WHAV* classification\"] = \"AGN only\"\n",
    "\n",
    "# AGN + wind\n",
    "cond_AGN_wind = cond_AGN & (df_lzifu[\"Number of components\"] > 1) & (df_lzifu[\"Kinematically disturbed (component 0)\"] | df_lzifu[\"Kinematically disturbed (component 1)\"] | (df_lzifu[\"Kinematically disturbed (component 2)\"] ))\n",
    "cond_AGN_wind |= (df_lzifu[\"Number of components\"] == 1) & (df_lzifu[\"HALPHA EW (component 0)\"] > 3) & df_lzifu[\"Kinematically disturbed (component 0)\"]\n",
    "df_lzifu.loc[cond_AGN_wind, \"WHAV* classification\"] = \"AGN + wind\"\n",
    "\n",
    "# If there are multiple components and at least one of them is in the HOLMES regime, then classify it as HOLMES + AGN. \n",
    "cond_AGN_HOLMES = cond_AGN & (df_lzifu[\"Number of components\"] == 2) & (df_lzifu[\"Possible HOLMES (component 0)\"] | df_lzifu[\"Possible HOLMES (component 1)\"])\n",
    "cond_AGN_HOLMES |= cond_AGN & (df_lzifu[\"Number of components\"] == 3) & (df_lzifu[\"Possible HOLMES (component 0)\"] | df_lzifu[\"Possible HOLMES (component 1)\"] | df_lzifu[\"Possible HOLMES (component 2)\"])\n",
    "df_lzifu.loc[cond_AGN_HOLMES, \"WHAV* classification\"] = \"AGN + HOLMES\"\n",
    "\n",
    "# AGN + wind + HOLMES\n",
    "cond_AGN_wind_HOLMES = cond_AGN_HOLMES & (df_lzifu[\"Kinematically disturbed (component 0)\"] | df_lzifu[\"Kinematically disturbed (component 1)\"] | df_lzifu[\"Kinematically disturbed (component 2)\"] )\n",
    "df_lzifu.loc[cond_AGN_wind_HOLMES, \"WHAV* classification\"] = \"AGN + wind + HOLMES\"\n"
   ]
  },
  {
   "cell_type": "code",
   "execution_count": 226,
   "metadata": {},
   "outputs": [
    {
     "data": {
      "text/plain": [
       "array([0.0, 1.0, 2.0, 'AGN only', 3.0], dtype=object)"
      ]
     },
     "execution_count": 226,
     "metadata": {},
     "output_type": "execute_result"
    }
   ],
   "source": [
    "df_lzifu[\"Number of components\"].unique()"
   ]
  },
  {
   "cell_type": "code",
   "execution_count": 169,
   "metadata": {},
   "outputs": [
    {
     "name": "stderr",
     "output_type": "stream",
     "text": [
      "/pkg/linux/anaconda-20191122/anaconda3/lib/python3.7/site-packages/ipykernel_launcher.py:11: RuntimeWarning: More than 20 figures have been opened. Figures created through the pyplot interface (`matplotlib.pyplot.figure`) are retained until explicitly closed and may consume too much memory. (To control this warning, see the rcParam `figure.max_open_warning`).\n",
      "  # This is added back by InteractiveShellApp.init_path()\n"
     ]
    },
    {
     "data": {
      "application/vnd.jupyter.widget-view+json": {
       "model_id": "5e564b53aab440b4a38b01bf173db8ee",
       "version_major": 2,
       "version_minor": 0
      },
      "text/plain": [
       "Canvas(toolbar=Toolbar(toolitems=[('Home', 'Reset original view', 'home', 'home'), ('Back', 'Back to previous …"
      ]
     },
     "metadata": {},
     "output_type": "display_data"
    },
    {
     "data": {
      "application/vnd.jupyter.widget-view+json": {
       "model_id": "96098b36999e4ce2838b16868e51a7e6",
       "version_major": 2,
       "version_minor": 0
      },
      "text/plain": [
       "Canvas(toolbar=Toolbar(toolitems=[('Home', 'Reset original view', 'home', 'home'), ('Back', 'Back to previous …"
      ]
     },
     "metadata": {},
     "output_type": "display_data"
    },
    {
     "data": {
      "application/vnd.jupyter.widget-view+json": {
       "model_id": "80a628a4f9c844369ee23cd6226dbc92",
       "version_major": 2,
       "version_minor": 0
      },
      "text/plain": [
       "Canvas(toolbar=Toolbar(toolitems=[('Home', 'Reset original view', 'home', 'home'), ('Back', 'Back to previous …"
      ]
     },
     "metadata": {},
     "output_type": "display_data"
    },
    {
     "data": {
      "application/vnd.jupyter.widget-view+json": {
       "model_id": "2eac92fda5ce4d6d9b89dbee9ea7d98a",
       "version_major": 2,
       "version_minor": 0
      },
      "text/plain": [
       "Canvas(toolbar=Toolbar(toolitems=[('Home', 'Reset original view', 'home', 'home'), ('Back', 'Back to previous …"
      ]
     },
     "metadata": {},
     "output_type": "display_data"
    }
   ],
   "source": [
    "# Check: what do these categories look like on the WHAV* diagram?\n",
    "# For each category, show each component separately\n",
    "col_x = \"sigma_gas - sigma_*\"\n",
    "col_y = \"log HALPHA EW\"\n",
    "col_z = \"count\"\n",
    "\n",
    "for cat in [\"SF\", \"Mixing\", \"AGN/HOLMES/shocks\", \"HOLMES\"]:\n",
    "    df_whav_cat = df_lzifu[df_lzifu[\"WHAV* classification\"] == cat]\n",
    "    \n",
    "    # Figure\n",
    "    fig, axs = plt.subplots(nrows=1, ncols=3, figsize=(14, 5))\n",
    "    fig.subplots_adjust(wspace=0.5)\n",
    "    ax = axs[-1]\n",
    "    bbox = ax.get_position()\n",
    "    cax = fig.add_axes([bbox.x0 + bbox.width, bbox.y0, 0.025, bbox.height])\n",
    "\n",
    "    # Plot full SAMI sample\n",
    "    for ii in range(3):\n",
    "        plot2dhistcontours(df=df, \n",
    "                           col_x=col_x,\n",
    "                           col_y=col_y,\n",
    "                           col_z=\"count\", log_z=True,\n",
    "                           alpha=0.5, cmap=\"gray_r\", ax=axs[ii],\n",
    "                           plot_colorbar=False)\n",
    "\n",
    "        # Plot the LZIFU data\n",
    "        plot2dhistcontours(df=df_whav_cat,\n",
    "                      col_x=f\"{col_x} (component {ii})\" if f\"{col_x} (component {ii})\" in df_gal else col_x,\n",
    "                      col_y=f\"{col_y} (component {ii})\",\n",
    "                      col_z=\"count\", log_z=True, ax=axs[ii], cax=cax,\n",
    "                      plot_colorbar=True if ii == 2 else False)\n",
    "    \n",
    "    fig.suptitle(cat)\n",
    "\n",
    "# Also look at # of components per spaxel\n",
    "\n",
    "\n",
    "\n"
   ]
  },
  {
   "cell_type": "code",
   "execution_count": 120,
   "metadata": {},
   "outputs": [
    {
     "name": "stderr",
     "output_type": "stream",
     "text": [
      "/pkg/linux/anaconda-20191122/anaconda3/lib/python3.7/site-packages/ipykernel_launcher.py:5: RuntimeWarning: More than 20 figures have been opened. Figures created through the pyplot interface (`matplotlib.pyplot.figure`) are retained until explicitly closed and may consume too much memory. (To control this warning, see the rcParam `figure.max_open_warning`).\n",
      "  \"\"\"\n"
     ]
    },
    {
     "data": {
      "application/vnd.jupyter.widget-view+json": {
       "model_id": "4523a3683bbb4bfa95a4b9bdc6530b6f",
       "version_major": 2,
       "version_minor": 0
      },
      "text/plain": [
       "Canvas(toolbar=Toolbar(toolitems=[('Home', 'Reset original view', 'home', 'home'), ('Back', 'Back to previous …"
      ]
     },
     "metadata": {},
     "output_type": "display_data"
    },
    {
     "data": {
      "text/plain": [
       "Text(0, 0.5, '$N$ (normalised)')"
      ]
     },
     "execution_count": 120,
     "metadata": {},
     "output_type": "execute_result"
    }
   ],
   "source": [
    "# TEST: checking if Dn4000 is useful\n",
    "# Are there ANY SF-like components with high Dn4000 values?\n",
    "col = \"D4000\"\n",
    "# First, plot the N2 ratios of individual components \n",
    "fig, ax = plt.subplots(nrows=1, ncols=1, figsize=(7.5, 5))\n",
    "for cat in cats:\n",
    "    df_cat_ind = df_lzifu[(df_lzifu[\"BPT (component 0)\"] == cat) & (df_lzifu[\"WHAV* classification\"] != \"HOLMES\")]\n",
    "    hist(df_cat_ind[f\"{col}\"], ax=ax, range=(vmin_fn(col), vmax_fn(col)), bins=\"scott\", histtype=\"step\", color=cat_colours[cat], label=cat, normed=True)\n",
    "    ax.set_xlabel(label_fn(col))\n",
    "    ax.set_ylabel(r\"$N$ (normalised)\")\n",
    "    ax.grid()\n",
    "    ax.legend()\n",
    "ax.set_title(\"Classification of individual emission line components\")\n",
    "ax.set_xlabel(label_fn(col))\n",
    "ax.grid()\n",
    "ax.set_ylabel(r\"$N$ (normalised)\")\n",
    "\n",
    "# OK, so it's not a really clean separation - all we can really say is that there are barely any SF-like components with Dn4000 > 1.6. \n",
    "\n",
    "\n"
   ]
  },
  {
   "cell_type": "code",
   "execution_count": 111,
   "metadata": {},
   "outputs": [
    {
     "ename": "ValueError",
     "evalue": "cannot reshape array of size 0 into shape (100,100)",
     "output_type": "error",
     "traceback": [
      "\u001b[0;31m---------------------------------------------------------------------------\u001b[0m",
      "\u001b[0;31mValueError\u001b[0m                                Traceback (most recent call last)",
      "\u001b[0;32m<ipython-input-111-2e72c1b8d5cc>\u001b[0m in \u001b[0;36m<module>\u001b[0;34m\u001b[0m\n\u001b[1;32m      3\u001b[0m               \u001b[0mcol_y\u001b[0m\u001b[0;34m=\u001b[0m\u001b[0;34mf\"{col_y} (component {ii})\"\u001b[0m\u001b[0;34m,\u001b[0m\u001b[0;34m\u001b[0m\u001b[0;34m\u001b[0m\u001b[0m\n\u001b[1;32m      4\u001b[0m               \u001b[0mcol_z\u001b[0m\u001b[0;34m=\u001b[0m\u001b[0;34m\"count\"\u001b[0m\u001b[0;34m,\u001b[0m \u001b[0mlog_z\u001b[0m\u001b[0;34m=\u001b[0m\u001b[0;32mTrue\u001b[0m\u001b[0;34m,\u001b[0m \u001b[0max\u001b[0m\u001b[0;34m=\u001b[0m\u001b[0maxs\u001b[0m\u001b[0;34m[\u001b[0m\u001b[0mii\u001b[0m\u001b[0;34m]\u001b[0m\u001b[0;34m,\u001b[0m \u001b[0mcax\u001b[0m\u001b[0;34m=\u001b[0m\u001b[0mcax\u001b[0m\u001b[0;34m,\u001b[0m\u001b[0;34m\u001b[0m\u001b[0;34m\u001b[0m\u001b[0m\n\u001b[0;32m----> 5\u001b[0;31m               plot_colorbar=True if ii == 2 else False)\n\u001b[0m",
      "\u001b[0;32m~/python/Modules/spaxelsleuth/plotting/plotgalaxies.py\u001b[0m in \u001b[0;36mplot2dhistcontours\u001b[0;34m(df, col_x, col_y, col_z, log_z, vmin, vmax, xmin, xmax, ymin, ymax, nbins, ax, axis_labels, plot_colorbar, cax, cax_orientation, alpha, hist, contours, levels, linewidths, colors, cmap, figsize)\u001b[0m\n\u001b[1;32m    219\u001b[0m     \u001b[0;32mif\u001b[0m \u001b[0mhist\u001b[0m\u001b[0;34m:\u001b[0m\u001b[0;34m\u001b[0m\u001b[0;34m\u001b[0m\u001b[0m\n\u001b[1;32m    220\u001b[0m         m = plot2dhist(df=df, col_x=col_x, col_y=col_y, col_z=col_z, log_z=log_z, nbins=nbins, ax=ax, alpha=alpha, cmap=cmap,\n\u001b[0;32m--> 221\u001b[0;31m                        vmin=vmin, vmax=vmax, xmin=xmin, xmax=xmax, ymin=ymin, ymax=ymax)\n\u001b[0m\u001b[1;32m    222\u001b[0m     \u001b[0;32mif\u001b[0m \u001b[0mcontours\u001b[0m\u001b[0;34m:\u001b[0m\u001b[0;34m\u001b[0m\u001b[0;34m\u001b[0m\u001b[0m\n\u001b[1;32m    223\u001b[0m         plot2dcontours(df=df, col_x=col_x, col_y=col_y, ax=ax, alpha=alpha, nbins=nbins, linewidths=linewidths, colors=colors,\n",
      "\u001b[0;32m~/python/Modules/spaxelsleuth/plotting/plotgalaxies.py\u001b[0m in \u001b[0;36mplot2dhist\u001b[0;34m(df, col_x, col_y, col_z, ax, log_z, vmin, vmax, xmin, xmax, ymin, ymax, nbins, alpha, cmap)\u001b[0m\n\u001b[1;32m     96\u001b[0m             \u001b[0mymin\u001b[0m\u001b[0;34m=\u001b[0m\u001b[0mymin\u001b[0m\u001b[0;34m,\u001b[0m \u001b[0mymax\u001b[0m\u001b[0;34m=\u001b[0m\u001b[0mymax\u001b[0m\u001b[0;34m,\u001b[0m\u001b[0;34m\u001b[0m\u001b[0;34m\u001b[0m\u001b[0m\n\u001b[1;32m     97\u001b[0m             \u001b[0mvmin\u001b[0m\u001b[0;34m=\u001b[0m\u001b[0mvmin\u001b[0m\u001b[0;34m,\u001b[0m \u001b[0mvmax\u001b[0m\u001b[0;34m=\u001b[0m\u001b[0mvmax\u001b[0m\u001b[0;34m,\u001b[0m\u001b[0;34m\u001b[0m\u001b[0;34m\u001b[0m\u001b[0m\n\u001b[0;32m---> 98\u001b[0;31m             alpha=alpha)\n\u001b[0m\u001b[1;32m     99\u001b[0m \u001b[0;34m\u001b[0m\u001b[0m\n\u001b[1;32m    100\u001b[0m     \u001b[0;32mreturn\u001b[0m \u001b[0mm\u001b[0m\u001b[0;34m\u001b[0m\u001b[0;34m\u001b[0m\u001b[0m\n",
      "\u001b[0;32m~/python/Modules/spaxelsleuth/plotting/plottools.py\u001b[0m in \u001b[0;36mhisthelper\u001b[0;34m(df, col_x, col_y, col_z, nbins, ax, cmap, xmin, xmax, ymin, ymax, vmin, vmax, log_z, alpha)\u001b[0m\n\u001b[1;32m    546\u001b[0m \u001b[0;34m\u001b[0m\u001b[0m\n\u001b[1;32m    547\u001b[0m     \u001b[0;31m# Pull out arrays to plot\u001b[0m\u001b[0;34m\u001b[0m\u001b[0;34m\u001b[0m\u001b[0;34m\u001b[0m\u001b[0m\n\u001b[0;32m--> 548\u001b[0;31m     \u001b[0mcount_map\u001b[0m \u001b[0;34m=\u001b[0m \u001b[0mdf_binned\u001b[0m\u001b[0;34m[\u001b[0m\u001b[0mcol_z\u001b[0m\u001b[0;34m]\u001b[0m\u001b[0;34m.\u001b[0m\u001b[0mvalues\u001b[0m\u001b[0;34m.\u001b[0m\u001b[0mreshape\u001b[0m\u001b[0;34m(\u001b[0m\u001b[0;34m(\u001b[0m\u001b[0mnbins\u001b[0m\u001b[0;34m,\u001b[0m \u001b[0mnbins\u001b[0m\u001b[0;34m)\u001b[0m\u001b[0;34m)\u001b[0m\u001b[0;34m\u001b[0m\u001b[0;34m\u001b[0m\u001b[0m\n\u001b[0m\u001b[1;32m    549\u001b[0m \u001b[0;34m\u001b[0m\u001b[0m\n\u001b[1;32m    550\u001b[0m     \u001b[0;31m# Plot.\u001b[0m\u001b[0;34m\u001b[0m\u001b[0;34m\u001b[0m\u001b[0;34m\u001b[0m\u001b[0m\n",
      "\u001b[0;31mValueError\u001b[0m: cannot reshape array of size 0 into shape (100,100)"
     ]
    }
   ],
   "source": [
    "        plot2dhistcontours(df=df_whav_cat,\n",
    "                      col_x=f\"{col_x} (component {ii})\" if f\"{col_x} (component {ii})\" in df_gal else col_x,\n",
    "                      col_y=f\"{col_y} (component {ii})\",\n",
    "                      col_z=\"count\", log_z=True, ax=axs[ii], cax=cax,\n",
    "                      plot_colorbar=True if ii == 2 else False)\n"
   ]
  },
  {
   "cell_type": "code",
   "execution_count": 115,
   "metadata": {},
   "outputs": [
    {
     "data": {
      "text/plain": [
       "'sigma_gas - sigma_*'"
      ]
     },
     "execution_count": 115,
     "metadata": {},
     "output_type": "execute_result"
    }
   ],
   "source": [
    "col_x"
   ]
  },
  {
   "cell_type": "code",
   "execution_count": null,
   "metadata": {},
   "outputs": [],
   "source": []
  }
 ],
 "metadata": {
  "kernelspec": {
   "display_name": "Python 3",
   "language": "python",
   "name": "python3"
  },
  "language_info": {
   "codemirror_mode": {
    "name": "ipython",
    "version": 3
   },
   "file_extension": ".py",
   "mimetype": "text/x-python",
   "name": "python",
   "nbconvert_exporter": "python",
   "pygments_lexer": "ipython3",
   "version": "3.7.4"
  }
 },
 "nbformat": 4,
 "nbformat_minor": 2
}
