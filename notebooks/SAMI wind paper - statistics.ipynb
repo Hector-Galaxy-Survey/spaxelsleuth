{
 "cells": [
  {
   "cell_type": "code",
   "execution_count": 1,
   "metadata": {},
   "outputs": [],
   "source": [
    "%matplotlib widget"
   ]
  },
  {
   "cell_type": "code",
   "execution_count": 2,
   "metadata": {},
   "outputs": [],
   "source": [
    "# Imports\n",
    "import sys\n",
    "import os \n",
    "import numpy as np\n",
    "import pandas as pd\n",
    "from astropy.visualization import hist\n",
    "from tqdm import tqdm\n",
    "from scipy import constants\n",
    "from scipy.stats import ks_2samp, anderson_ksamp, spearmanr\n",
    "\n",
    "from spaxelsleuth.loaddata.lzifu import load_lzifu_galaxies\n",
    "from spaxelsleuth.loaddata.sami import load_sami_galaxies\n",
    "from spaxelsleuth.plotting.plottools import plot_empty_BPT_diagram\n",
    "from spaxelsleuth.plotting.plottools import vmin_fn, vmax_fn, label_fn, cmap_fn, fname_fn\n",
    "from spaxelsleuth.plotting.plottools import bpt_colours, bpt_labels, whav_colors, whav_labels\n",
    "from spaxelsleuth.plotting.plottools import morph_labels, morph_ticks\n",
    "from spaxelsleuth.plotting.plottools import ncomponents_labels, ncomponents_colours\n",
    "from spaxelsleuth.plotting.plottools import component_labels, component_colours\n",
    "from spaxelsleuth.plotting.plotgalaxies import plot2dhistcontours, plot2dscatter, plot2dcontours\n",
    "from spaxelsleuth.plotting.plot2dmap import plot2dmap\n",
    "from spaxelsleuth.plotting.sdssimg import plot_sdss_image\n",
    "\n",
    "import matplotlib\n",
    "from matplotlib import rc, rcParams\n",
    "import matplotlib.pyplot as plt\n",
    "from matplotlib.lines import Line2D\n",
    "\n",
    "from IPython.core.debugger import Tracer\n",
    "\n",
    "rc(\"text\", usetex=False)\n",
    "rc(\"font\",**{\"family\": \"serif\", \"size\": 11})\n",
    "rcParams[\"savefig.bbox\"] = \"tight\"\n",
    "rcParams[\"savefig.format\"] = \"pdf\"\n",
    "plt.ion()\n",
    "plt.close(\"all\")\n"
   ]
  },
  {
   "cell_type": "code",
   "execution_count": 3,
   "metadata": {},
   "outputs": [],
   "source": [
    "# Options\n",
    "fig_path = \"/priv/meggs3/u5708159/SAMI/figs/paper/\"\n",
    "savefigs = True\n",
    "bin_type = \"default\"    # Options: \"default\" or \"adaptive\" for Voronoi binning\n",
    "ncomponents = \"recom\"   # Options: \"1\" or \"recom\"\n",
    "eline_SNR_min = 5       # Minimum S/N of emission lines to accept\n",
    "plt.close(\"all\")\n"
   ]
  },
  {
   "cell_type": "code",
   "execution_count": 4,
   "metadata": {
    "scrolled": true
   },
   "outputs": [
    {
     "name": "stderr",
     "output_type": "stream",
     "text": [
      "/pkg/linux/anaconda/lib/python3.8/site-packages/pandas/core/indexing.py:1597: SettingWithCopyWarning: \n",
      "A value is trying to be set on a copy of a slice from a DataFrame.\n",
      "Try using .loc[row_indexer,col_indexer] = value instead\n",
      "\n",
      "See the caveats in the documentation: https://pandas.pydata.org/pandas-docs/stable/user_guide/indexing.html#returning-a-view-versus-a-copy\n",
      "  self.obj[key] = value\n",
      "/pkg/linux/anaconda/lib/python3.8/site-packages/pandas/core/indexing.py:1720: SettingWithCopyWarning: \n",
      "A value is trying to be set on a copy of a slice from a DataFrame.\n",
      "Try using .loc[row_indexer,col_indexer] = value instead\n",
      "\n",
      "See the caveats in the documentation: https://pandas.pydata.org/pandas-docs/stable/user_guide/indexing.html#returning-a-view-versus-a-copy\n",
      "  self._setitem_single_column(loc, value, pi)\n",
      "/pkg/linux/anaconda/lib/python3.8/site-packages/pandas/core/indexing.py:1720: SettingWithCopyWarning: \n",
      "A value is trying to be set on a copy of a slice from a DataFrame.\n",
      "Try using .loc[row_indexer,col_indexer] = value instead\n",
      "\n",
      "See the caveats in the documentation: https://pandas.pydata.org/pandas-docs/stable/user_guide/indexing.html#returning-a-view-versus-a-copy\n",
      "  self._setitem_single_column(loc, value, pi)\n",
      "/pkg/linux/anaconda/lib/python3.8/site-packages/pandas/core/indexing.py:1597: SettingWithCopyWarning: \n",
      "A value is trying to be set on a copy of a slice from a DataFrame.\n",
      "Try using .loc[row_indexer,col_indexer] = value instead\n",
      "\n",
      "See the caveats in the documentation: https://pandas.pydata.org/pandas-docs/stable/user_guide/indexing.html#returning-a-view-versus-a-copy\n",
      "  self.obj[key] = value\n",
      "/pkg/linux/anaconda/lib/python3.8/site-packages/pandas/core/indexing.py:1720: SettingWithCopyWarning: \n",
      "A value is trying to be set on a copy of a slice from a DataFrame.\n",
      "Try using .loc[row_indexer,col_indexer] = value instead\n",
      "\n",
      "See the caveats in the documentation: https://pandas.pydata.org/pandas-docs/stable/user_guide/indexing.html#returning-a-view-versus-a-copy\n",
      "  self._setitem_single_column(loc, value, pi)\n",
      "/pkg/linux/anaconda/lib/python3.8/site-packages/pandas/core/indexing.py:1597: SettingWithCopyWarning: \n",
      "A value is trying to be set on a copy of a slice from a DataFrame.\n",
      "Try using .loc[row_indexer,col_indexer] = value instead\n",
      "\n",
      "See the caveats in the documentation: https://pandas.pydata.org/pandas-docs/stable/user_guide/indexing.html#returning-a-view-versus-a-copy\n",
      "  self.obj[key] = value\n",
      "/pkg/linux/anaconda/lib/python3.8/site-packages/pandas/core/indexing.py:1720: SettingWithCopyWarning: \n",
      "A value is trying to be set on a copy of a slice from a DataFrame.\n",
      "Try using .loc[row_indexer,col_indexer] = value instead\n",
      "\n",
      "See the caveats in the documentation: https://pandas.pydata.org/pandas-docs/stable/user_guide/indexing.html#returning-a-view-versus-a-copy\n",
      "  self._setitem_single_column(loc, value, pi)\n",
      "/pkg/linux/anaconda/lib/python3.8/site-packages/pandas/core/indexing.py:1597: SettingWithCopyWarning: \n",
      "A value is trying to be set on a copy of a slice from a DataFrame.\n",
      "Try using .loc[row_indexer,col_indexer] = value instead\n",
      "\n",
      "See the caveats in the documentation: https://pandas.pydata.org/pandas-docs/stable/user_guide/indexing.html#returning-a-view-versus-a-copy\n",
      "  self.obj[key] = value\n",
      "/pkg/linux/anaconda/lib/python3.8/site-packages/pandas/core/indexing.py:1720: SettingWithCopyWarning: \n",
      "A value is trying to be set on a copy of a slice from a DataFrame.\n",
      "Try using .loc[row_indexer,col_indexer] = value instead\n",
      "\n",
      "See the caveats in the documentation: https://pandas.pydata.org/pandas-docs/stable/user_guide/indexing.html#returning-a-view-versus-a-copy\n",
      "  self._setitem_single_column(loc, value, pi)\n",
      "/pkg/linux/anaconda/lib/python3.8/site-packages/pandas/core/indexing.py:1597: SettingWithCopyWarning: \n",
      "A value is trying to be set on a copy of a slice from a DataFrame.\n",
      "Try using .loc[row_indexer,col_indexer] = value instead\n",
      "\n",
      "See the caveats in the documentation: https://pandas.pydata.org/pandas-docs/stable/user_guide/indexing.html#returning-a-view-versus-a-copy\n",
      "  self.obj[key] = value\n",
      "/pkg/linux/anaconda/lib/python3.8/site-packages/pandas/core/indexing.py:1597: SettingWithCopyWarning: \n",
      "A value is trying to be set on a copy of a slice from a DataFrame.\n",
      "Try using .loc[row_indexer,col_indexer] = value instead\n",
      "\n",
      "See the caveats in the documentation: https://pandas.pydata.org/pandas-docs/stable/user_guide/indexing.html#returning-a-view-versus-a-copy\n",
      "  self.obj[key] = value\n",
      "/pkg/linux/anaconda/lib/python3.8/site-packages/pandas/core/indexing.py:1720: SettingWithCopyWarning: \n",
      "A value is trying to be set on a copy of a slice from a DataFrame.\n",
      "Try using .loc[row_indexer,col_indexer] = value instead\n",
      "\n",
      "See the caveats in the documentation: https://pandas.pydata.org/pandas-docs/stable/user_guide/indexing.html#returning-a-view-versus-a-copy\n",
      "  self._setitem_single_column(loc, value, pi)\n",
      "/pkg/linux/anaconda/lib/python3.8/site-packages/pandas/core/indexing.py:1597: SettingWithCopyWarning: \n",
      "A value is trying to be set on a copy of a slice from a DataFrame.\n",
      "Try using .loc[row_indexer,col_indexer] = value instead\n",
      "\n",
      "See the caveats in the documentation: https://pandas.pydata.org/pandas-docs/stable/user_guide/indexing.html#returning-a-view-versus-a-copy\n",
      "  self.obj[key] = value\n",
      "/pkg/linux/anaconda/lib/python3.8/site-packages/pandas/core/indexing.py:1720: SettingWithCopyWarning: \n",
      "A value is trying to be set on a copy of a slice from a DataFrame.\n",
      "Try using .loc[row_indexer,col_indexer] = value instead\n",
      "\n",
      "See the caveats in the documentation: https://pandas.pydata.org/pandas-docs/stable/user_guide/indexing.html#returning-a-view-versus-a-copy\n",
      "  self._setitem_single_column(loc, value, pi)\n",
      "/pkg/linux/anaconda/lib/python3.8/site-packages/pandas/core/indexing.py:1597: SettingWithCopyWarning: \n",
      "A value is trying to be set on a copy of a slice from a DataFrame.\n",
      "Try using .loc[row_indexer,col_indexer] = value instead\n",
      "\n",
      "See the caveats in the documentation: https://pandas.pydata.org/pandas-docs/stable/user_guide/indexing.html#returning-a-view-versus-a-copy\n",
      "  self.obj[key] = value\n",
      "/pkg/linux/anaconda/lib/python3.8/site-packages/pandas/core/indexing.py:1720: SettingWithCopyWarning: \n",
      "A value is trying to be set on a copy of a slice from a DataFrame.\n",
      "Try using .loc[row_indexer,col_indexer] = value instead\n",
      "\n",
      "See the caveats in the documentation: https://pandas.pydata.org/pandas-docs/stable/user_guide/indexing.html#returning-a-view-versus-a-copy\n",
      "  self._setitem_single_column(loc, value, pi)\n",
      "/pkg/linux/anaconda/lib/python3.8/site-packages/pandas/core/arraylike.py:358: RuntimeWarning: invalid value encountered in log10\n",
      "  result = getattr(ufunc, method)(*inputs, **kwargs)\n",
      "/pkg/linux/anaconda/lib/python3.8/site-packages/pandas/core/arraylike.py:358: RuntimeWarning: divide by zero encountered in log10\n",
      "  result = getattr(ufunc, method)(*inputs, **kwargs)\n",
      "/pkg/linux/anaconda/lib/python3.8/site-packages/pandas/core/arraylike.py:358: RuntimeWarning: invalid value encountered in log10\n",
      "  result = getattr(ufunc, method)(*inputs, **kwargs)\n",
      "/pkg/linux/anaconda/lib/python3.8/site-packages/pandas/core/arraylike.py:358: RuntimeWarning: invalid value encountered in log10\n",
      "  result = getattr(ufunc, method)(*inputs, **kwargs)\n",
      "/pkg/linux/anaconda/lib/python3.8/site-packages/pandas/core/arraylike.py:358: RuntimeWarning: invalid value encountered in log10\n",
      "  result = getattr(ufunc, method)(*inputs, **kwargs)\n",
      "/pkg/linux/anaconda/lib/python3.8/site-packages/pandas/core/arraylike.py:358: RuntimeWarning: invalid value encountered in log10\n",
      "  result = getattr(ufunc, method)(*inputs, **kwargs)\n"
     ]
    },
    {
     "name": "stdout",
     "output_type": "stream",
     "text": [
      "WARNING: in load_sami_galaxies: NOT correcting Halpha and HALPHA EW for extinction!\n"
     ]
    }
   ],
   "source": [
    "# Load the sample\n",
    "df = load_sami_galaxies(ncomponents=ncomponents,\n",
    "                        bin_type=bin_type,\n",
    "                        eline_SNR_min=eline_SNR_min, \n",
    "                        vgrad_cut=False,\n",
    "                        line_amplitude_SNR_cut=True,\n",
    "                        correct_extinction=False,\n",
    "                        sigma_gas_SNR_cut=True)\n"
   ]
  },
  {
   "cell_type": "markdown",
   "metadata": {},
   "source": [
    "# Using the KS and AD 2-sample tests to investigate the drivers of the number of components measured in each spaxel\n",
    "---\n",
    "\n",
    "See [here](https://stats.stackexchange.com/questions/465196/kolmogorov-smirnov-test-statistic-interpretation-with-large-samples) for a good discussion.\n",
    "\n",
    "Interpreting the statistic values: in both the KS and AD tests, larger values imply greater deviation between the underlying distributions of the two samples."
   ]
  },
  {
   "cell_type": "markdown",
   "metadata": {},
   "source": [
    "### Select subsample"
   ]
  },
  {
   "cell_type": "code",
   "execution_count": 70,
   "metadata": {
    "scrolled": true
   },
   "outputs": [],
   "source": [
    "# Full sample\n",
    "df_1comp = df[df[\"Number of components\"] == 1]\n",
    "df_2comp = df[df[\"Number of components\"] == 2]\n",
    "df_3comp = df[df[\"Number of components\"] == 3]\n",
    "\n",
    "fname = \"hist_statistics_whole_sample\"\n",
    "fig_title = \"All spaxels\""
   ]
  },
  {
   "cell_type": "code",
   "execution_count": 61,
   "metadata": {},
   "outputs": [],
   "source": [
    "# AGN-only\n",
    "df_AGN = df.copy()\n",
    "df_AGN = df_AGN[(df_AGN[\"BPT (total)\"] == \"Seyfert\") | ((df_AGN[\"BPT (total)\"] == \"LINER\") & (df_AGN[\"HALPHA EW (total)\"] > 3))]\n",
    "\n",
    "# Split by number of components\n",
    "df_1comp = df_AGN[df_AGN[\"Number of components\"] == 1]\n",
    "df_2comp = df_AGN[df_AGN[\"Number of components\"] == 2]\n",
    "df_3comp = df_AGN[df_AGN[\"Number of components\"] == 3]\n",
    "\n",
    "fname = \"hist_statistics_AGN-like_only\"\n",
    "fig_title = \"AGN-like spaxels only\""
   ]
  },
  {
   "cell_type": "code",
   "execution_count": 6,
   "metadata": {},
   "outputs": [],
   "source": [
    "# SF-only\n",
    "df_SF = df.copy()\n",
    "df_SF = df_SF[df_SF[\"BPT (total)\"] == \"SF\"]\n",
    "\n",
    "# Split by number of components\n",
    "df_1comp = df_SF[df_SF[\"Number of components\"] == 1]\n",
    "df_2comp = df_SF[df_SF[\"Number of components\"] == 2]\n",
    "df_3comp = df_SF[df_SF[\"Number of components\"] == 3]\n",
    "\n",
    "fname = \"hist_statistics_SF_only\"\n",
    "fig_title = \"SF spaxels only\""
   ]
  },
  {
   "cell_type": "code",
   "execution_count": 22,
   "metadata": {},
   "outputs": [],
   "source": [
    "# SF-only, with beam smearing cut\n",
    "df_SF_beam_smearing_cut = df_SF.copy()\n",
    "for ii in range(3):\n",
    "    cond_beam_smearing = df_SF_beam_smearing_cut[f\"Beam smearing flag (component {ii})\"] == True\n",
    "\n",
    "    # NaN out offending cells\n",
    "    df_SF_beam_smearing_cut.loc[cond_beam_smearing, \n",
    "           [f\"v_gas (component {ii})\",\n",
    "            f\"sigma_gas (component {ii})\", \n",
    "            f\"v_gas error (component {ii})\",\n",
    "            f\"sigma_gas error (component {ii})\",]] = np.nan\n",
    "\n",
    "# Split by number of components\n",
    "df_1comp = df_SF_beam_smearing_cut[df_SF_beam_smearing_cut[\"Number of components\"] == 1]\n",
    "df_2comp = df_SF_beam_smearing_cut[df_SF_beam_smearing_cut[\"Number of components\"] == 2]\n",
    "df_3comp = df_SF_beam_smearing_cut[df_SF_beam_smearing_cut[\"Number of components\"] == 3]\n",
    "\n",
    "fname = \"hist_statistics_SF_only_BScut\"\n",
    "fig_title = \"SF spaxels only, beam smearing cut\""
   ]
  },
  {
   "cell_type": "code",
   "execution_count": 24,
   "metadata": {},
   "outputs": [],
   "source": [
    "# SF-only, with beam smearing cut, with spaxels at small radii removed\n",
    "df_SF_large_radii = df_SF_beam_smearing_cut.copy()\n",
    "df_SF_large_radii = df_SF_large_radii[df_SF_large_radii[\"r/R_e\"] > 1.0]\n",
    "\n",
    "# Split by number of components\n",
    "df_1comp = df_SF_large_radii[df_SF_large_radii[\"Number of components\"] == 1]\n",
    "df_2comp = df_SF_large_radii[df_SF_large_radii[\"Number of components\"] == 2]\n",
    "df_3comp = df_SF_large_radii[df_SF_large_radii[\"Number of components\"] == 3]\n",
    "\n",
    "fname = \"hist_statistics_SF_only_BScut_large_radii\"\n",
    "fig_title = r\"SF spaxels only, beam smearing cut, $r/R_e > 1$\""
   ]
  },
  {
   "cell_type": "code",
   "execution_count": 26,
   "metadata": {},
   "outputs": [],
   "source": [
    "# SF-only, with beam smearing cut, with spaxels at small radii removed, at low inclination\n",
    "df_SF_large_radii = df_SF_beam_smearing_cut.copy()\n",
    "df_SF_large_radii = df_SF_large_radii[df_SF_large_radii[\"r/R_e\"] > 1.0]\n",
    "df_SF_large_radii = df_SF_large_radii[df_SF_large_radii[\"Inclination i (degrees)\"] < 30]\n",
    "# df_SF_large_radii = df_SF_large_radii[df_SF_large_radii[\"z_spec\"] < 0.04]\n",
    "\n",
    "# Split by number of components\n",
    "df_1comp = df_SF_large_radii[df_SF_large_radii[\"Number of components\"] == 1]\n",
    "df_2comp = df_SF_large_radii[df_SF_large_radii[\"Number of components\"] == 2]\n",
    "df_3comp = df_SF_large_radii[df_SF_large_radii[\"Number of components\"] == 3]\n",
    "\n",
    "fname = \"hist_statistics_SF_only_BScut_large_radii_low_inclination\"\n",
    "fig_title = r\"SF spaxels only, beam smearing cut, $r/R_e > 1$, $i < 30^\\circ$\""
   ]
  },
  {
   "cell_type": "code",
   "execution_count": 22,
   "metadata": {},
   "outputs": [],
   "source": [
    "# SF only, low inclination only, cut\n",
    "df_cut = df.copy()\n",
    "for ii in [1, 2]:\n",
    "    df_cut[f\"Low flux component (component {ii})\"] = False\n",
    "    cond_low_flux = df_cut[f\"HALPHA A (component {ii})\"] < 0.05 * df_cut[\"HALPHA A (component 0)\"]\n",
    "    df_cut.loc[cond_low_flux, f\"Low flux component (component {ii})\"] = True\n",
    "\n",
    "    # NaN out entire rows\n",
    "    df_cut.loc[df_cut[f\"Low flux component (component {ii})\"]] = np.nan\n",
    "\n",
    "df_SF_cut = df_cut.copy()\n",
    "df_SF_cut = df_SF_cut[df_SF_cut[\"BPT (total)\"] == \"SF\"]\n",
    "df_SF_low_inc = df_SF_cut[df_SF_cut[\"Inclination i (degrees)\"] < 30]\n",
    "\n",
    "# Split by number of components\n",
    "df_1comp = df_SF_low_inc[df_SF_low_inc[\"Number of components\"] == 1]\n",
    "df_2comp = df_SF_low_inc[df_SF_low_inc[\"Number of components\"] == 2]\n",
    "df_3comp = df_SF_low_inc[df_SF_low_inc[\"Number of components\"] == 3]\n",
    "\n",
    "fname = \"hist_statistics_SF_only_low_inclination\"\n",
    "fig_title = r\"SF spaxels only, $i < 30^\\circ$\""
   ]
  },
  {
   "cell_type": "markdown",
   "metadata": {},
   "source": [
    "## Run KS, AD tests"
   ]
  },
  {
   "cell_type": "code",
   "execution_count": 23,
   "metadata": {
    "scrolled": true
   },
   "outputs": [
    {
     "name": "stdout",
     "output_type": "stream",
     "text": [
      "Number of spaxels with emission lines: 13836\n",
      "Number of 1-component spaxels: 12645 (91.39202081526453%)\n",
      "Number of 2-component spaxels: 1023 (7.393755420641804%)\n",
      "Number of 3-component spaxels: 168 (1.2142237640936688%)\n"
     ]
    }
   ],
   "source": [
    "# Print statistics\n",
    "n_tot = df_1comp.shape[0] + df_2comp.shape[0] + df_3comp.shape[0]\n",
    "print(f\"Number of spaxels with emission lines: {n_tot}\")\n",
    "for ii, df_comp in enumerate([df_1comp, df_2comp, df_3comp]):\n",
    "    print(f\"Number of {ii + 1}-component spaxels: {df_comp.shape[0]} ({df_comp.shape[0] / n_tot * 100}%)\")\n"
   ]
  },
  {
   "cell_type": "code",
   "execution_count": 12,
   "metadata": {},
   "outputs": [],
   "source": [
    "print_test_scores = False\n",
    "individual_figs = False"
   ]
  },
  {
   "cell_type": "code",
   "execution_count": 16,
   "metadata": {},
   "outputs": [
    {
     "data": {
      "text/plain": [
       "0         NaN\n",
       "1         NaN\n",
       "2         NaN\n",
       "3         NaN\n",
       "4         NaN\n",
       "           ..\n",
       "2804639   NaN\n",
       "2805539   NaN\n",
       "2806730   NaN\n",
       "2810176   NaN\n",
       "2815127   NaN\n",
       "Name: delta v_gas (2/1), Length: 2826785, dtype: float64"
      ]
     },
     "execution_count": 16,
     "metadata": {},
     "output_type": "execute_result"
    }
   ],
   "source": [
    "df[\"delta v_gas (2/1)\"]"
   ]
  },
  {
   "cell_type": "code",
   "execution_count": 24,
   "metadata": {
    "scrolled": false
   },
   "outputs": [
    {
     "data": {
      "application/vnd.jupyter.widget-view+json": {
       "model_id": "cdd8f490844b4fb79c7daf749a4787b0",
       "version_major": 2,
       "version_minor": 0
      },
      "text/plain": [
       "Canvas(toolbar=Toolbar(toolitems=[('Home', 'Reset original view', 'home', 'home'), ('Back', 'Back to previous …"
      ]
     },
     "metadata": {},
     "output_type": "display_data"
    },
    {
     "name": "stdout",
     "output_type": "stream",
     "text": [
      "Saving file to /priv/meggs3/u5708159/SAMI/figs/paper/hist_statistics_SF_only_low_inclination.pdf\n"
     ]
    }
   ],
   "source": [
    "alpha = 0.01  # p-value below which we reject the null hypothesis\n",
    "cols = [\"log HALPHA EW (total)\", \"log HALPHA EW (component 0)\", \"log SFR (component 0)\", \"log SFR surface density (component 0)\", \n",
    "        \"sigma_gas (component 0)\", \"v_gas (component 0)\", \"sigma_gas - sigma_* (component 0)\", \"delta v_gas (1/0)\", \n",
    "        \"sigma_gas (component 1)\", \"v_gas (component 1)\", \"sigma_gas - sigma_* (component 1)\", \"delta v_gas (2/1)\", \n",
    "        \"r/R_e\", \"HALPHA extinction correction\",  \"v_*\", \"sigma_*\",\n",
    "        \"D4000\", \"log M_*\", \"R_e (kpc)\", \"log(M/R_e)\", \n",
    "        \"Inclination i (degrees)\", \"Bin size (square kpc)\", \"z_spec\", \"v_grad (component 0)\",\n",
    "        \"log O3 (total)\", \"log N2 (total)\", \"log S2 (total)\", \"log O1 (total)\"]\n",
    "\n",
    "if not individual_figs:\n",
    "    fig, axs = plt.subplots(nrows=len(cols) // 4, ncols=4, figsize=(20, 20))\n",
    "    fig.subplots_adjust(wspace=0.35, hspace=0.4)\n",
    "for cc, col_x in enumerate(cols):\n",
    "    if not individual_figs:\n",
    "        ax = axs.flat[cc]\n",
    "    else:\n",
    "        fig, ax = plt.subplots(1, 1, figsize=(4, 4))\n",
    "    \n",
    "    # Extract values\n",
    "    d1 = np.array([d for d in df_1comp[col_x].values if ~np.isnan(d)])\n",
    "    d2 = np.array([d for d in df_2comp[col_x].values if ~np.isnan(d)])\n",
    "    d3 = np.array([d for d in df_3comp[col_x].values if ~np.isnan(d)])\n",
    "    \n",
    "    # Run KS test \n",
    "    if print_test_scores:\n",
    "        r_KS = ks_2samp(d1, d2)\n",
    "        if r_KS.pvalue < alpha:\n",
    "            # print(f\"KS test: {col_x}: the two distributions are different at a {alpha * 100:.3f}% level (p-value = {r_KS.pvalue * 100:.10f}%)\")\n",
    "            ax.text(s=r\"KS: $%.2f$ ($p = %.3f$)\" % (r_KS.statistic, r_KS.pvalue), x=0.05, y=0.95, verticalalignment=\"top\", fontsize=\"small\", transform=ax.transAxes, color=\"red\")\n",
    "        else:\n",
    "            # print(f\"KS test: {col_x}: the two distributions are the same at a {alpha * 100:.3f}% level (p-value = {r_KS.pvalue * 100:.10f}%)\")\n",
    "            ax.text(s=r\"KS: $%.2f$ ($p = %.3f$)\" % (r_KS.statistic, r_KS.pvalue), x=0.05, y=0.95, verticalalignment=\"top\", fontsize=\"small\", transform=ax.transAxes)\n",
    "        \n",
    "        # Run the 2-sample KS test \n",
    "        r_AD = anderson_ksamp([d1, d2])\n",
    "        if r_AD.significance_level < alpha:\n",
    "            # print(f\"AD test: {col_x}: the two distributions are different at a {alpha * 100:.3f}% level (p-value = {r_AD.significance_level * 100:.5f}%)\")\n",
    "            ax.text(s=r\"AD: $%.2f$ ($p \\leq %.3f$)\" % (r_AD.statistic, r_AD.significance_level), x=0.05, y=0.88, verticalalignment=\"top\", fontsize=\"small\", transform=ax.transAxes, color=\"red\")\n",
    "        else:\n",
    "            # print(f\"AD test: {col_x}: the two distributions are the same at a {alpha * 100:.3f}% level (p-value = {r_AD.significance_level * 100:.5f}%)\")\n",
    "            ax.text(s=r\"AD: $%.2f$ ($p = %.3f$)\" % (r_AD.statistic, r_AD.significance_level), x=0.05, y=0.88, verticalalignment=\"top\", fontsize=\"small\", transform=ax.transAxes)\n",
    "        \n",
    "    # Plot the distributions of the quantity in 1, 2 and 3-component spaxels\n",
    "    for ii, d in enumerate([d1, d2, d3]):\n",
    "        if len(d) > 0:\n",
    "            hist(d, density=True, histtype=\"step\",\n",
    "                 ax=ax, \n",
    "                 range=(vmin_fn(col_x), vmax_fn(col_x)),\n",
    "                 bins=\"scott\",\n",
    "                 label=f\"{ncomponents_labels[ii + 1]} comp.\",\n",
    "                 color=ncomponents_colours[ii + 1])\n",
    "    \n",
    "    # Decorations\n",
    "    ax.set_xlabel(label_fn(col_x) + \" (component 1)\" if \"(component 0)\" in col_x else label_fn(col_x))\n",
    "    ax.autoscale(enable=True, axis=\"x\", tight=True)\n",
    "    ax.set_ylabel(r\"$N$ (normalised)\")\n",
    "    if individual_figs:\n",
    "        ax.legend(loc=\"upper right\", fontsize=\"x-small\")\n",
    "        if savefigs:\n",
    "            fname_ind = os.path.join(fig_path, \"individual_hist_plots\", fname) + \"_\" + fname_fn(col_x) + \".pdf\"\n",
    "            print(f\"Saving file to {fname_ind}\")\n",
    "            fig.savefig(fname_ind, bbox_inches=\"tight\", format=\"pdf\")\n",
    "\n",
    "if not individual_figs:       \n",
    "    axs[0][0].legend(loc=\"lower center\", bbox_to_anchor=[0.5, 1.1], fontsize=\"small\")\n",
    "    fig.suptitle(fig_title, y=0.9)\n",
    "\n",
    "    # Save\n",
    "    if savefigs:\n",
    "        print(f\"Saving file to {os.path.join(fig_path, fname)}.pdf\")\n",
    "        fig.savefig(os.path.join(fig_path, fname) + \".pdf\", bbox_inches=\"tight\", format=\"pdf\")\n",
    "\n",
    "    "
   ]
  },
  {
   "cell_type": "markdown",
   "metadata": {},
   "source": [
    "# Using the KS and AD 2-sample tests to investigate the drivers of the number of *kinematically disturbed* components measured in each spaxel\n",
    "---"
   ]
  },
  {
   "cell_type": "code",
   "execution_count": 168,
   "metadata": {},
   "outputs": [],
   "source": [
    "plt.close(\"all\")"
   ]
  },
  {
   "cell_type": "markdown",
   "metadata": {},
   "source": [
    "### Select subsample"
   ]
  },
  {
   "cell_type": "code",
   "execution_count": 33,
   "metadata": {},
   "outputs": [],
   "source": [
    "# Test: what is the difference between 2-component spaxels with NO KD components, and 2-component spaxels with at least 1 KD component?\n",
    "df_1comp = df[(df[\"Number of kinematically disturbed components\"] == 0) & (df[\"Number of components\"] == 2)]\n",
    "df_2comp = df[(df[\"Number of kinematically disturbed components\"] >= 1) & (df[\"Number of components\"] == 2)]\n",
    "df_3comp = df[(df[\"Number of kinematically disturbed components\"] >= 2) & (df[\"Number of components\"] == 2)]\n",
    "\n",
    "fname = os.path.join(fig_path, \"hist_2comp_KDvsNoKD_statistics_whole_sample.pdf\")\n",
    "fig_title = \"2-component spaxels only\""
   ]
  },
  {
   "cell_type": "code",
   "execution_count": 35,
   "metadata": {},
   "outputs": [],
   "source": [
    "# Same as above, but SF spaxels only\n",
    "df_SF = df.copy()\n",
    "df_SF = df_SF[df_SF[\"BPT (total)\"] == \"SF\"]\n",
    "\n",
    "df_1comp = df_SF[(df_SF[\"Number of kinematically disturbed components\"] == 0) & (df_SF[\"Number of components\"] == 2)]\n",
    "df_2comp = df_SF[(df_SF[\"Number of kinematically disturbed components\"] >= 1) & (df_SF[\"Number of components\"] == 2)]\n",
    "df_3comp = df_SF[(df_SF[\"Number of kinematically disturbed components\"] >= 2) & (df_SF[\"Number of components\"] == 2)]\n",
    "\n",
    "fname = os.path.join(fig_path, \"hist_2comp_KDvsNoKD_statistics_SF_only.pdf\")\n",
    "fig_title = \"SF, 2-component spaxels only\""
   ]
  },
  {
   "cell_type": "code",
   "execution_count": 37,
   "metadata": {
    "scrolled": true
   },
   "outputs": [],
   "source": [
    "# Full sample\n",
    "df_1comp = df[(df[\"Number of kinematically disturbed components\"] == 0) & (df[\"Number of components\"] >= 1)]\n",
    "df_2comp = df[(df[\"Number of kinematically disturbed components\"] == 1) & (df[\"Number of components\"] >= 1)]\n",
    "df_3comp = df[(df[\"Number of kinematically disturbed components\"] == 2) & (df[\"Number of components\"] >= 1)]\n",
    "\n",
    "fname = os.path.join(fig_path, \"hist_KDcomponents_statistics_whole_sample.pdf\")\n",
    "fig_title = \"All spaxels\""
   ]
  },
  {
   "cell_type": "code",
   "execution_count": 50,
   "metadata": {},
   "outputs": [],
   "source": [
    "# SF-only\n",
    "df_SF = df.copy()\n",
    "df_SF = df_SF[df_SF[\"BPT (total)\"] == \"SF\"]\n",
    "\n",
    "# Split by number of components\n",
    "df_1comp = df_SF[(df_SF[\"Number of kinematically disturbed components\"] == 0) & (df_SF[\"Number of components\"] >= 1)]\n",
    "df_2comp = df_SF[(df_SF[\"Number of kinematically disturbed components\"] == 1) & (df_SF[\"Number of components\"] >= 1)]\n",
    "df_3comp = df_SF[(df_SF[\"Number of kinematically disturbed components\"] == 2) & (df_SF[\"Number of components\"] >= 1)]\n",
    "\n",
    "fname = os.path.join(fig_path, \"hist_KDcomponents_statistics_SF_only.pdf\")\n",
    "fig_title = \"SF spaxels only\""
   ]
  },
  {
   "cell_type": "code",
   "execution_count": 53,
   "metadata": {},
   "outputs": [],
   "source": [
    "# SF-only, with beam smearing cut\n",
    "df_SF_beam_smearing_cut = df_SF.copy()\n",
    "for ii in range(3):\n",
    "    cond_beam_smearing = df_SF_beam_smearing_cut[f\"Beam smearing flag (component {ii})\"] == True\n",
    "\n",
    "    # NaN out offending cells\n",
    "    df_SF_beam_smearing_cut.loc[cond_beam_smearing, \n",
    "           [f\"v_gas (component {ii})\",\n",
    "            f\"sigma_gas (component {ii})\", \n",
    "            f\"v_gas error (component {ii})\",\n",
    "            f\"sigma_gas error (component {ii})\",]] = np.nan\n",
    "\n",
    "# Split by number of components\n",
    "df_1comp = df_SF_beam_smearing_cut[(df_SF_beam_smearing_cut[\"Number of kinematically disturbed components\"] == 0) & (df_SF_beam_smearing_cut[\"Number of components\"] >= 1)]\n",
    "df_2comp = df_SF_beam_smearing_cut[(df_SF_beam_smearing_cut[\"Number of kinematically disturbed components\"] == 1) & (df_SF_beam_smearing_cut[\"Number of components\"] >= 1)]\n",
    "df_3comp = df_SF_beam_smearing_cut[(df_SF_beam_smearing_cut[\"Number of kinematically disturbed components\"] == 2) & (df_SF_beam_smearing_cut[\"Number of components\"] >= 1)]\n",
    "\n",
    "fname = os.path.join(fig_path, \"hist_KDcomponents_statistics_SF_only_BScut.pdf\")\n",
    "fig_title = \"SF spaxels only, beam smearing cut\""
   ]
  },
  {
   "cell_type": "code",
   "execution_count": 55,
   "metadata": {},
   "outputs": [],
   "source": [
    "# SF-only, with beam smearing cut, with spaxels at small radii removed\n",
    "df_SF_large_radii = df_SF_beam_smearing_cut.copy()\n",
    "df_SF_large_radii = df_SF_large_radii[df_SF_large_radii[\"r/R_e\"] > 1.0]\n",
    "\n",
    "# Split by number of components\n",
    "df_1comp = df_SF_large_radii[(df_SF_large_radii[\"Number of kinematically disturbed components\"] == 0) & (df_SF_large_radii[\"Number of components\"] >= 1)]\n",
    "df_2comp = df_SF_large_radii[(df_SF_large_radii[\"Number of kinematically disturbed components\"] == 1) & (df_SF_large_radii[\"Number of components\"] >= 1)]\n",
    "df_3comp = df_SF_large_radii[(df_SF_large_radii[\"Number of kinematically disturbed components\"] == 2) & (df_SF_large_radii[\"Number of components\"] >= 1)]\n",
    "\n",
    "fname = os.path.join(fig_path, \"hist_KDcomponents_statistics_SF_only_BScut_large_radii.pdf\")\n",
    "fig_title = r\"SF spaxels only, beam smearing cut, $r/R_e > 1$\""
   ]
  },
  {
   "cell_type": "code",
   "execution_count": 57,
   "metadata": {},
   "outputs": [],
   "source": [
    "# SF-only, with beam smearing cut, with spaxels at small radii removed, at low inclination\n",
    "df_SF_large_radii = df_SF_beam_smearing_cut.copy()\n",
    "df_SF_large_radii = df_SF_large_radii[df_SF_large_radii[\"r/R_e\"] > 1.0]\n",
    "df_SF_large_radii = df_SF_large_radii[df_SF_large_radii[\"Inclination i (degrees)\"] < 30]\n",
    "# df_SF_large_radii = df_SF_large_radii[df_SF_large_radii[\"z_spec\"] < 0.04]\n",
    "\n",
    "# Split by number of components\n",
    "df_1comp = df_SF_large_radii[(df_SF_large_radii[\"Number of kinematically disturbed components\"] == 0) & (df_SF_large_radii[\"Number of components\"] >= 1)]\n",
    "df_2comp = df_SF_large_radii[(df_SF_large_radii[\"Number of kinematically disturbed components\"] == 1) & (df_SF_large_radii[\"Number of components\"] >= 1)]\n",
    "df_3comp = df_SF_large_radii[(df_SF_large_radii[\"Number of kinematically disturbed components\"] == 2) & (df_SF_large_radii[\"Number of components\"] >= 1)]\n",
    "\n",
    "fname = os.path.join(fig_path, \"hist_KDcomponents_statistics_SF_only_BScut_large_radii_low_inclination.pdf\")\n",
    "fig_title = r\"SF spaxels only, beam smearing cut, $r/R_e > 1$, $i < 30^\\circ$\""
   ]
  },
  {
   "cell_type": "markdown",
   "metadata": {},
   "source": [
    "## Run KS, AD tests"
   ]
  },
  {
   "cell_type": "code",
   "execution_count": 31,
   "metadata": {},
   "outputs": [
    {
     "name": "stdout",
     "output_type": "stream",
     "text": [
      "Number of 1-component spaxels: 643111\n",
      "Number of 2-component spaxels: 15217\n",
      "Number of 3-component spaxels: 348\n"
     ]
    }
   ],
   "source": [
    "# Print statistics\n",
    "for ii, df_comp in enumerate([df_1comp, df_2comp, df_3comp]):\n",
    "    print(f\"Number of {ii + 1}-component spaxels: {df_comp.shape[0]}\")\n"
   ]
  },
  {
   "cell_type": "code",
   "execution_count": 58,
   "metadata": {
    "scrolled": false
   },
   "outputs": [
    {
     "data": {
      "application/vnd.jupyter.widget-view+json": {
       "model_id": "8c51172da725470fbcfd6a7a90868d83",
       "version_major": 2,
       "version_minor": 0
      },
      "text/plain": [
       "Canvas(toolbar=Toolbar(toolitems=[('Home', 'Reset original view', 'home', 'home'), ('Back', 'Back to previous …"
      ]
     },
     "metadata": {},
     "output_type": "display_data"
    },
    {
     "name": "stderr",
     "output_type": "stream",
     "text": [
      "/pkg/linux/anaconda/lib/python3.8/site-packages/astropy/stats/histogram.py:193: RuntimeWarning: invalid value encountered in double_scalars\n",
      "  Nbins = np.ceil((data.max() - data.min()) / dx)\n",
      "/pkg/linux/anaconda/lib/python3.8/site-packages/astropy/stats/histogram.py:193: RuntimeWarning: invalid value encountered in double_scalars\n",
      "  Nbins = np.ceil((data.max() - data.min()) / dx)\n",
      "/pkg/linux/anaconda/lib/python3.8/site-packages/astropy/stats/histogram.py:193: RuntimeWarning: invalid value encountered in double_scalars\n",
      "  Nbins = np.ceil((data.max() - data.min()) / dx)\n",
      "/pkg/linux/anaconda/lib/python3.8/site-packages/astropy/stats/histogram.py:193: RuntimeWarning: invalid value encountered in double_scalars\n",
      "  Nbins = np.ceil((data.max() - data.min()) / dx)\n",
      "/pkg/linux/anaconda/lib/python3.8/site-packages/astropy/stats/histogram.py:193: RuntimeWarning: invalid value encountered in double_scalars\n",
      "  Nbins = np.ceil((data.max() - data.min()) / dx)\n",
      "/pkg/linux/anaconda/lib/python3.8/site-packages/astropy/stats/histogram.py:193: RuntimeWarning: invalid value encountered in double_scalars\n",
      "  Nbins = np.ceil((data.max() - data.min()) / dx)\n"
     ]
    },
    {
     "name": "stdout",
     "output_type": "stream",
     "text": [
      "Saving file to /priv/meggs3/u5708159/SAMI/figs/paper/hist_KDcomponents_statistics_SF_only_BScut_large_radii_low_inclination.pdf\n"
     ]
    }
   ],
   "source": [
    "alpha = 0.01  # p-value below which we reject the null hypothesis\n",
    "cols = [\"log HALPHA EW (total)\", \"log HALPHA EW (component 0)\", \"log SFR (component 0)\", \"log SFR surface density (component 0)\", \n",
    "        \"sigma_gas (component 0)\", \"v_gas (component 0)\", \"sigma_gas - sigma_* (component 0)\", \"v_gas - v_* (component 0)\", \n",
    "        \"r/R_e\", \"HALPHA extinction correction\",  \"v_*\", \"sigma_*\",\n",
    "        \"D4000\", \"log M_*\", \"R_e (kpc)\", \"log(M/R_e)\", \n",
    "        \"Inclination i (degrees)\", \"Bin size (square kpc)\", \"z_spec\", \"v_grad (component 0)\",\n",
    "        \"log O3 (total)\", \"log N2 (total)\", \"log S2 (total)\", \"log O1 (total)\"]\n",
    "\n",
    "fig, axs = plt.subplots(nrows=len(cols) // 4, ncols=4, figsize=(16, 20))\n",
    "fig.subplots_adjust(wspace=0.35, hspace=0.4)\n",
    "for col_x, ax in zip(cols, axs.flat):\n",
    "    # Extract values\n",
    "    d1 = np.array([d for d in df_1comp[col_x].values if ~np.isnan(d)])\n",
    "    d2 = np.array([d for d in df_2comp[col_x].values if ~np.isnan(d)])\n",
    "    d3 = np.array([d for d in df_3comp[col_x].values if ~np.isnan(d)])\n",
    "   \n",
    "    # Run KS test \n",
    "    if print_test_scores:\n",
    "        r_KS = ks_2samp(d1, d2)\n",
    "        if r_KS.pvalue < alpha:\n",
    "            # print(f\"KS test: {col_x}: the two distributions are different at a {alpha * 100:.3f}% level (p-value = {r_KS.pvalue * 100:.10f}%)\")\n",
    "            ax.text(s=r\"KS: $%.2f$ ($p = %.3f$)\" % (r_KS.statistic, r_KS.pvalue), x=0.05, y=0.95, verticalalignment=\"top\", fontsize=\"small\", transform=ax.transAxes, color=\"red\")\n",
    "        else:\n",
    "            # print(f\"KS test: {col_x}: the two distributions are the same at a {alpha * 100:.3f}% level (p-value = {r_KS.pvalue * 100:.10f}%)\")\n",
    "            ax.text(s=r\"KS: $%.2f$ ($p = %.3f$)\" % (r_KS.statistic, r_KS.pvalue), x=0.05, y=0.95, verticalalignment=\"top\", fontsize=\"small\", transform=ax.transAxes)\n",
    "\n",
    "        # Run the 2-sample KS test \n",
    "        r_AD = anderson_ksamp([d1, d2])\n",
    "        if r_AD.significance_level < alpha:\n",
    "            # print(f\"AD test: {col_x}: the two distributions are different at a {alpha * 100:.3f}% level (p-value = {r_AD.significance_level * 100:.5f}%)\")\n",
    "            ax.text(s=r\"AD: $%.2f$ ($p \\leq %.3f$)\" % (r_AD.statistic, r_AD.significance_level), x=0.05, y=0.88, verticalalignment=\"top\", fontsize=\"small\", transform=ax.transAxes, color=\"red\")\n",
    "        else:\n",
    "            # print(f\"AD test: {col_x}: the two distributions are the same at a {alpha * 100:.3f}% level (p-value = {r_AD.significance_level * 100:.5f}%)\")\n",
    "            ax.text(s=r\"AD: $%.2f$ ($p = %.3f$)\" % (r_AD.statistic, r_AD.significance_level), x=0.05, y=0.88, verticalalignment=\"top\", fontsize=\"small\", transform=ax.transAxes)\n",
    "\n",
    "    # Plot the distributions of the quantity in 1, 2 and 3-component spaxels\n",
    "    for ii, d in enumerate([d1, d2, d3]):\n",
    "        if len(d) > 0:\n",
    "            hist(d, density=True, histtype=\"step\",\n",
    "                 ax=ax, \n",
    "                 range=(vmin_fn(col_x), vmax_fn(col_x)),\n",
    "                 bins=\"scott\",\n",
    "                 label=f\"{ii} KD component{'s' if ii >= 1 else ''}\" + r\" ($N = %d$)\" % len(d),\n",
    "                 color=ncomponents_colours[ii + 1])\n",
    "    \n",
    "    # Decorations\n",
    "    ax.set_xlabel(label_fn(col_x) + \" (component 1)\" if \"(component 0)\" in col_x else label_fn(col_x))\n",
    "    ax.autoscale(enable=True, axis=\"x\", tight=True)\n",
    "    ax.set_ylabel(r\"$N$ (normalised)\")\n",
    "axs[0][0].legend(loc=\"lower center\", bbox_to_anchor=[0.5, 1.1], fontsize=\"small\")\n",
    "fig.suptitle(fig_title, y=0.9)\n",
    "\n",
    "# Save\n",
    "if savefigs:\n",
    "    print(f\"Saving file to {fname}\")\n",
    "    fig.savefig(fname, bbox_inches=\"tight\", format=\"pdf\")\n",
    "    \n",
    "    "
   ]
  },
  {
   "cell_type": "markdown",
   "metadata": {},
   "source": [
    "## Searching for correlations between emission line variables and local/global galaxy properties using Spearman's rank correlation coefficient\n",
    "---"
   ]
  },
  {
   "cell_type": "code",
   "execution_count": 19,
   "metadata": {},
   "outputs": [
    {
     "data": {
      "application/vnd.jupyter.widget-view+json": {
       "model_id": "6e14e49310114f3788f5aa8b9af16051",
       "version_major": 2,
       "version_minor": 0
      },
      "text/plain": [
       "Canvas(toolbar=Toolbar(toolitems=[('Home', 'Reset original view', 'home', 'home'), ('Back', 'Back to previous …"
      ]
     },
     "metadata": {},
     "output_type": "display_data"
    },
    {
     "data": {
      "text/plain": [
       "SpearmanrResult(correlation=0.09716171617161716, pvalue=0.3362107398754076)"
      ]
     },
     "execution_count": 19,
     "metadata": {},
     "output_type": "execute_result"
    }
   ],
   "source": [
    "x = np.random.uniform(low=0, high=100, size=100)\n",
    "y = 10 + np.random.normal(loc=0, scale=500, size=100)\n",
    "\n",
    "fig, ax = plt.subplots()\n",
    "ax.scatter(x, y)\n",
    "\n",
    "spearmanr(x, y)"
   ]
  },
  {
   "cell_type": "code",
   "execution_count": 18,
   "metadata": {
    "scrolled": true
   },
   "outputs": [
    {
     "data": {
      "application/vnd.jupyter.widget-view+json": {
       "model_id": "470e5639f50e49009d43594d0589d94b",
       "version_major": 2,
       "version_minor": 0
      },
      "text/plain": [
       "Canvas(toolbar=Toolbar(toolitems=[('Home', 'Reset original view', 'home', 'home'), ('Back', 'Back to previous …"
      ]
     },
     "metadata": {},
     "output_type": "display_data"
    },
    {
     "data": {
      "text/plain": [
       "(array([   0.,    0.,    0.,    0.,    0.,    0.,    0.,    0.,    0.,\n",
       "           0., 2274., 2417., 2569., 3871., 4918., 5502., 5452., 5202.,\n",
       "        4400., 3140.]),\n",
       " array([-200., -180., -160., -140., -120., -100.,  -80.,  -60.,  -40.,\n",
       "         -20.,    0.,   20.,   40.,   60.,   80.,  100.,  120.,  140.,\n",
       "         160.,  180.,  200.]),\n",
       " <BarContainer object of 20 artists>)"
      ]
     },
     "execution_count": 18,
     "metadata": {},
     "output_type": "execute_result"
    }
   ],
   "source": [
    "fig, ax = plt.subplots(); ax.hist(df[\"v_out (component 1)\"].values, range=(-200, 200), bins=20)"
   ]
  },
  {
   "cell_type": "code",
   "execution_count": 5,
   "metadata": {},
   "outputs": [],
   "source": [
    "# Compute outflow velocity\n",
    "for ii in [1, 2]:\n",
    "    df[f\"v_out (component {ii})\"] = np.abs(np.abs(df[f\"v_gas (component {ii})\"] - df[f\"v_gas (component {ii - 1})\"]) - 2 * df[f\"sigma_gas (component {ii})\"])"
   ]
  },
  {
   "cell_type": "code",
   "execution_count": 9,
   "metadata": {},
   "outputs": [],
   "source": [
    "col_z = \"r/R_e\""
   ]
  },
  {
   "cell_type": "code",
   "execution_count": 46,
   "metadata": {},
   "outputs": [],
   "source": [
    "col_x_list = [\"sigma_gas (component 1)\", \"sigma_gas (component 2)\"]\n",
    "col_y_list = [\"sigma_gas (component 0)\"]"
   ]
  },
  {
   "cell_type": "code",
   "execution_count": 13,
   "metadata": {},
   "outputs": [],
   "source": [
    "col_x_list = [\"log SFR surface density (component 0)\", \"log SFR (component 0)\",]\n",
    "col_y_list = [\"HALPHA EW (component 0)\", \"HALPHA EW (component 1)\", \"HALPHA EW ratio (1/0)\", \"HALPHA EW ratio (2/1)\"]"
   ]
  },
  {
   "cell_type": "code",
   "execution_count": 108,
   "metadata": {},
   "outputs": [],
   "source": [
    "# col_x_list = [\"log SFR surface density (component 0)\", \"log SFR (component 0)\"]\n",
    "col_x_list = [\"log M_*\", \"log(M/R_e)\", \"z_spec\", \"Bin size (square kpc)\", \"Inclination i (degrees)\"]\n"
   ]
  },
  {
   "cell_type": "code",
   "execution_count": 6,
   "metadata": {},
   "outputs": [],
   "source": [
    "col_x_list = [\"log SFR surface density (component 0)\", \"log SFR (component 0)\", \"r/R_e\", \"HALPHA extinction correction\", \"D4000\", \"sigma_*\", ]"
   ]
  },
  {
   "cell_type": "code",
   "execution_count": 7,
   "metadata": {},
   "outputs": [],
   "source": [
    "# Measured properties \n",
    "col_y_list = [\"sigma_gas (component 0)\", \"sigma_gas (component 1)\", \"sigma_gas (component 2)\",\n",
    "              \"sigma_gas - sigma_* (component 0)\", \"sigma_gas - sigma_* (component 1)\", \"sigma_gas - sigma_* (component 2)\",\n",
    "              \"v_out (component 1)\", \"v_out (component 2)\",\n",
    "              \"delta v_gas (1/0)\", \"delta v_gas (2/1)\",\n",
    "              \"delta sigma_gas (1/0)\", \"delta sigma_gas (2/1)\",\n",
    "              \"HALPHA EW ratio (1/0)\", \"HALPHA EW ratio (2/1)\",]"
   ]
  },
  {
   "cell_type": "code",
   "execution_count": 15,
   "metadata": {},
   "outputs": [
    {
     "data": {
      "application/vnd.jupyter.widget-view+json": {
       "model_id": "6867fcf33b5d4ebcbf0ce71b95eb441c",
       "version_major": 2,
       "version_minor": 0
      },
      "text/plain": [
       "Canvas(toolbar=Toolbar(toolitems=[('Home', 'Reset original view', 'home', 'home'), ('Back', 'Back to previous …"
      ]
     },
     "metadata": {},
     "output_type": "display_data"
    }
   ],
   "source": [
    "alpha = 0.05\n",
    "fig, axs = plt.subplots(nrows=len(col_y_list), ncols=len(col_x_list), figsize=(5 * len(col_x_list), 5 * len(col_y_list)), squeeze=False)\n",
    "fig.subplots_adjust(wspace=0.6, hspace=0.4)\n",
    "for xx, col_x in enumerate(col_x_list):\n",
    "    for yy, col_y in enumerate(col_y_list):\n",
    "        x_all = df.loc[(df[\"BPT (total)\"] == \"SF\"), col_x].values\n",
    "        y_all = df.loc[(df[\"BPT (total)\"] == \"SF\"), col_y].values\n",
    "        good_idxs = [ii for ii in range(len(x_all)) if ~np.isnan(x_all[ii]) and ~np.isnan(y_all[ii])]\n",
    "        x = x_all[good_idxs]\n",
    "        y = y_all[good_idxs]\n",
    "\n",
    "        # Plot \n",
    "        ax = axs[yy][xx]\n",
    "        bbox = ax.get_position()\n",
    "        cax = fig.add_axes([bbox.x0 + bbox.width, bbox.y0, 0.05 * bbox.width, bbox.height])\n",
    "        m = ax.scatter(x, y, s=0.5, c=df.loc[(df[\"BPT (total)\"] == \"SF\"), col_z].values[good_idxs], vmin=vmin_fn(col_z), vmax=vmax_fn(col_z)) \n",
    "        plt.colorbar(mappable=m, cax=cax)\n",
    "        ax.set_xlabel(label_fn(col_x) + \"(component \" + col_x.split(\"(component \")[1] if \"(component \" in col_x else label_fn(col_x))\n",
    "        ax.set_ylabel(label_fn(col_y) + \"(component \" + col_y.split(\"(component \")[1] if \"(component \" in col_y else label_fn(col_y))\n",
    "        cax.set_ylabel(label_fn(col_z))\n",
    "        ax.set_yscale(\"log\")\n",
    "    \n",
    "        # Compute the Spearman's rank coefficient\n",
    "        r_s = spearmanr(x, y)\n",
    "        if r_s.pvalue < alpha:\n",
    "            ax.text(s=r\"SR: %.3f ($p = %.5f$)\" % (r_s.correlation, r_s.pvalue), color=\"green\", x=0.05, y=0.95, verticalalignment=\"top\", transform=ax.transAxes)\n",
    "        else:\n",
    "            ax.text(s=r\"SR: %.3f ($p = %.5f$)\" % (r_s.correlation, r_s.pvalue), color=\"red\", x=0.05, y=0.95, verticalalignment=\"top\", transform=ax.transAxes)"
   ]
  },
  {
   "cell_type": "code",
   "execution_count": 25,
   "metadata": {},
   "outputs": [],
   "source": [
    "plt.close(\"all\")"
   ]
  },
  {
   "cell_type": "code",
   "execution_count": 33,
   "metadata": {},
   "outputs": [],
   "source": [
    "df_cut = df.copy()\n",
    "\n",
    "for ii in [1, 2]:\n",
    "    df_cut[f\"Low flux component (component {ii})\"] = False\n",
    "    cond_low_flux = df_cut[f\"HALPHA A (component {ii})\"] < 0.05 * df_cut[\"HALPHA A (component 0)\"]\n",
    "    df_cut.loc[cond_low_flux, f\"Low flux component (component {ii})\"] = True\n",
    "\n",
    "    # NaN out rows \n",
    "    cols = [f\"HALPHA (component {ii})\", f\"HALPHA error (component {ii})\"]\n",
    "    cols += [f\"HALPHA EW (component {ii})\", f\"HALPHA EW error (component {ii})\"]\n",
    "    cols += [f\"v_gas (component {ii})\",\n",
    "             f\"sigma_gas (component {ii})\",\n",
    "             f\"v_gas error (component {ii})\",\n",
    "             f\"sigma_gas error (component {ii})\",]\n",
    "    df_cut.loc[df_cut[f\"Low flux component (component {ii})\"], :] = np.nan\n"
   ]
  },
  {
   "cell_type": "code",
   "execution_count": 40,
   "metadata": {},
   "outputs": [
    {
     "data": {
      "text/plain": [
       "array([         nan, -17.96395302,  43.17044449, ..., -52.6231575 ,\n",
       "        76.2046814 ,  94.96213531])"
      ]
     },
     "execution_count": 40,
     "metadata": {},
     "output_type": "execute_result"
    }
   ],
   "source": [
    "df[\"delta v_gas (1/0)\"].unique()"
   ]
  },
  {
   "cell_type": "code",
   "execution_count": 35,
   "metadata": {},
   "outputs": [],
   "source": [
    "# Split into 2 categories: spaxels where dv ~ 0 and dv > 0\n",
    "df_SF = df_cut.copy()\n",
    "df_SF = df_SF[df_SF[\"BPT (total)\"] == \"SF\"]\n",
    "df_SF = df_SF[df_SF[\"Number of components\"] == 2]\n",
    "\n",
    "df_SF_no_outflow = df_SF[np.abs(df_SF[\"v_gas (component 1)\"] - df_SF[\"v_gas (component 0)\"]) <= 50]\n",
    "df_SF_outflow = df_SF[np.abs(df_SF[\"v_gas (component 1)\"] - df_SF[\"v_gas (component 0)\"]) > 50]\n"
   ]
  },
  {
   "cell_type": "code",
   "execution_count": 41,
   "metadata": {},
   "outputs": [],
   "source": [
    "col_x_list = [\"log SFR surface density (component 0)\", \"log SFR (component 0)\",]\n",
    "col_y_list = [\"delta v_gas (1/0)\", \"HALPHA EW (component 0)\", \"HALPHA EW (component 1)\", \"HALPHA EW ratio (1/0)\", \"HALPHA EW ratio (2/1)\"]"
   ]
  },
  {
   "cell_type": "code",
   "execution_count": 44,
   "metadata": {},
   "outputs": [
    {
     "data": {
      "application/vnd.jupyter.widget-view+json": {
       "model_id": "9562a3f12f534b35906c61732633d8ef",
       "version_major": 2,
       "version_minor": 0
      },
      "text/plain": [
       "Canvas(toolbar=Toolbar(toolitems=[('Home', 'Reset original view', 'home', 'home'), ('Back', 'Back to previous …"
      ]
     },
     "metadata": {},
     "output_type": "display_data"
    }
   ],
   "source": [
    "alpha = 0.05\n",
    "fig, axs = plt.subplots(nrows=len(col_y_list), ncols=len(col_x_list), figsize=(5 * len(col_x_list), 5 * len(col_y_list)), squeeze=False)\n",
    "fig.subplots_adjust(wspace=0.6, hspace=0.4)\n",
    "for xx, col_x in enumerate(col_x_list):\n",
    "    for yy, col_y in enumerate(col_y_list):\n",
    "        for df_this, colour, label in zip([df_SF_no_outflow, df_SF_outflow], [\"red\", \"blue\"], [\"No outflow\", \"Outflow\"]):\n",
    "            x_all = df_this.loc[col_x].values\n",
    "            y_all = df_this.loc[col_y].values\n",
    "            good_idxs = [ii for ii in range(len(x_all)) if ~np.isnan(x_all[ii]) and ~np.isnan(y_all[ii])]\n",
    "            x = x_all[good_idxs]\n",
    "            y = y_all[good_idxs]\n",
    "\n",
    "            # Plot \n",
    "            ax = axs[yy][xx]\n",
    "            ax.scatter(x, y, s=0.5, c=colour, vmin=vmin_fn(col_z), vmax=vmax_fn(col_z), label=label) \n",
    "            ax.set_xlabel(label_fn(col_x) + \"(component \" + col_x.split(\"(component \")[1] if \"(component \" in col_x else label_fn(col_x))\n",
    "            ax.set_ylabel(label_fn(col_y) + \"(component \" + col_y.split(\"(component \")[1] if \"(component \" in col_y else label_fn(col_y))\n",
    "            ax.legend()\n",
    "#             ax.set_yscale(\"log\")\n",
    "\n",
    "#             # Compute the Spearman's rank coefficient\n",
    "#             r_s = spearmanr(x, y)\n",
    "#             if r_s.pvalue < alpha:\n",
    "#                 ax.text(s=r\"SR: %.3f ($p = %.5f$)\" % (r_s.correlation, r_s.pvalue), color=\"green\", x=0.05, y=0.95, verticalalignment=\"top\", transform=ax.transAxes)\n",
    "#             else:\n",
    "#                 ax.text(s=r\"SR: %.3f ($p = %.5f$)\" % (r_s.correlation, r_s.pvalue), color=\"red\", x=0.05, y=0.95, verticalalignment=\"top\", transform=ax.transAxes)"
   ]
  },
  {
   "cell_type": "code",
   "execution_count": null,
   "metadata": {},
   "outputs": [],
   "source": []
  }
 ],
 "metadata": {
  "kernelspec": {
   "display_name": "'Python Interactive'",
   "language": "python",
   "name": "03ce6b8f-572d-43e6-9588-606e98bdab3a"
  },
  "language_info": {
   "codemirror_mode": {
    "name": "ipython",
    "version": 3
   },
   "file_extension": ".py",
   "mimetype": "text/x-python",
   "name": "python",
   "nbconvert_exporter": "python",
   "pygments_lexer": "ipython3",
   "version": "3.8.2"
  }
 },
 "nbformat": 4,
 "nbformat_minor": 2
}
