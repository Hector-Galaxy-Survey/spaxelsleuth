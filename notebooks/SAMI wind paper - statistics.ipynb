{
 "cells": [
  {
   "cell_type": "code",
   "execution_count": 1,
   "metadata": {},
   "outputs": [],
   "source": [
    "%matplotlib widget"
   ]
  },
  {
   "cell_type": "code",
   "execution_count": 130,
   "metadata": {},
   "outputs": [],
   "source": [
    "# Imports\n",
    "import sys\n",
    "import os \n",
    "import numpy as np\n",
    "import pandas as pd\n",
    "from astropy.visualization import hist\n",
    "from tqdm import tqdm\n",
    "from scipy import constants\n",
    "from scipy.stats import ks_2samp, anderson_ksamp\n",
    "\n",
    "from spaxelsleuth.loaddata.lzifu import load_lzifu_galaxies\n",
    "from spaxelsleuth.loaddata.sami import load_sami_galaxies\n",
    "from spaxelsleuth.plotting.plottools import plot_empty_BPT_diagram\n",
    "from spaxelsleuth.plotting.plottools import vmin_fn, vmax_fn, label_fn, cmap_fn, fname_fn\n",
    "from spaxelsleuth.plotting.plottools import bpt_colours, bpt_labels, whav_colors, whav_labels\n",
    "from spaxelsleuth.plotting.plottools import morph_labels, morph_ticks\n",
    "from spaxelsleuth.plotting.plottools import ncomponents_labels, ncomponents_colours\n",
    "from spaxelsleuth.plotting.plottools import component_labels, component_colours\n",
    "from spaxelsleuth.plotting.plotgalaxies import plot2dhistcontours, plot2dscatter, plot2dcontours\n",
    "from spaxelsleuth.plotting.plot2dmap import plot2dmap\n",
    "from spaxelsleuth.plotting.sdssimg import plot_sdss_image\n",
    "\n",
    "import matplotlib\n",
    "from matplotlib import rc, rcParams\n",
    "import matplotlib.pyplot as plt\n",
    "from matplotlib.lines import Line2D\n",
    "\n",
    "from IPython.core.debugger import Tracer\n",
    "\n",
    "rc(\"text\", usetex=False)\n",
    "rc(\"font\",**{\"family\": \"serif\", \"size\": 11})\n",
    "rcParams[\"savefig.bbox\"] = \"tight\"\n",
    "rcParams[\"savefig.format\"] = \"pdf\"\n",
    "plt.ion()\n",
    "plt.close(\"all\")\n"
   ]
  },
  {
   "cell_type": "code",
   "execution_count": 131,
   "metadata": {},
   "outputs": [],
   "source": [
    "# Options\n",
    "fig_path = \"/priv/meggs3/u5708159/SAMI/figs/paper/\"\n",
    "savefigs = True\n",
    "bin_type = \"default\"    # Options: \"default\" or \"adaptive\" for Voronoi binning\n",
    "ncomponents = \"recom\"   # Options: \"1\" or \"recom\"\n",
    "eline_SNR_min = 5       # Minimum S/N of emission lines to accept\n",
    "plt.close(\"all\")\n"
   ]
  },
  {
   "cell_type": "code",
   "execution_count": 4,
   "metadata": {},
   "outputs": [
    {
     "name": "stderr",
     "output_type": "stream",
     "text": [
      "/pkg/linux/anaconda/lib/python3.8/site-packages/pandas/core/indexing.py:1597: SettingWithCopyWarning: \n",
      "A value is trying to be set on a copy of a slice from a DataFrame.\n",
      "Try using .loc[row_indexer,col_indexer] = value instead\n",
      "\n",
      "See the caveats in the documentation: https://pandas.pydata.org/pandas-docs/stable/user_guide/indexing.html#returning-a-view-versus-a-copy\n",
      "  self.obj[key] = value\n",
      "/pkg/linux/anaconda/lib/python3.8/site-packages/pandas/core/indexing.py:1720: SettingWithCopyWarning: \n",
      "A value is trying to be set on a copy of a slice from a DataFrame.\n",
      "Try using .loc[row_indexer,col_indexer] = value instead\n",
      "\n",
      "See the caveats in the documentation: https://pandas.pydata.org/pandas-docs/stable/user_guide/indexing.html#returning-a-view-versus-a-copy\n",
      "  self._setitem_single_column(loc, value, pi)\n",
      "/pkg/linux/anaconda/lib/python3.8/site-packages/pandas/core/indexing.py:1720: SettingWithCopyWarning: \n",
      "A value is trying to be set on a copy of a slice from a DataFrame.\n",
      "Try using .loc[row_indexer,col_indexer] = value instead\n",
      "\n",
      "See the caveats in the documentation: https://pandas.pydata.org/pandas-docs/stable/user_guide/indexing.html#returning-a-view-versus-a-copy\n",
      "  self._setitem_single_column(loc, value, pi)\n",
      "/pkg/linux/anaconda/lib/python3.8/site-packages/pandas/core/indexing.py:1597: SettingWithCopyWarning: \n",
      "A value is trying to be set on a copy of a slice from a DataFrame.\n",
      "Try using .loc[row_indexer,col_indexer] = value instead\n",
      "\n",
      "See the caveats in the documentation: https://pandas.pydata.org/pandas-docs/stable/user_guide/indexing.html#returning-a-view-versus-a-copy\n",
      "  self.obj[key] = value\n",
      "/pkg/linux/anaconda/lib/python3.8/site-packages/pandas/core/indexing.py:1720: SettingWithCopyWarning: \n",
      "A value is trying to be set on a copy of a slice from a DataFrame.\n",
      "Try using .loc[row_indexer,col_indexer] = value instead\n",
      "\n",
      "See the caveats in the documentation: https://pandas.pydata.org/pandas-docs/stable/user_guide/indexing.html#returning-a-view-versus-a-copy\n",
      "  self._setitem_single_column(loc, value, pi)\n",
      "/pkg/linux/anaconda/lib/python3.8/site-packages/pandas/core/indexing.py:1597: SettingWithCopyWarning: \n",
      "A value is trying to be set on a copy of a slice from a DataFrame.\n",
      "Try using .loc[row_indexer,col_indexer] = value instead\n",
      "\n",
      "See the caveats in the documentation: https://pandas.pydata.org/pandas-docs/stable/user_guide/indexing.html#returning-a-view-versus-a-copy\n",
      "  self.obj[key] = value\n",
      "/pkg/linux/anaconda/lib/python3.8/site-packages/pandas/core/indexing.py:1720: SettingWithCopyWarning: \n",
      "A value is trying to be set on a copy of a slice from a DataFrame.\n",
      "Try using .loc[row_indexer,col_indexer] = value instead\n",
      "\n",
      "See the caveats in the documentation: https://pandas.pydata.org/pandas-docs/stable/user_guide/indexing.html#returning-a-view-versus-a-copy\n",
      "  self._setitem_single_column(loc, value, pi)\n",
      "/pkg/linux/anaconda/lib/python3.8/site-packages/pandas/core/indexing.py:1597: SettingWithCopyWarning: \n",
      "A value is trying to be set on a copy of a slice from a DataFrame.\n",
      "Try using .loc[row_indexer,col_indexer] = value instead\n",
      "\n",
      "See the caveats in the documentation: https://pandas.pydata.org/pandas-docs/stable/user_guide/indexing.html#returning-a-view-versus-a-copy\n",
      "  self.obj[key] = value\n",
      "/pkg/linux/anaconda/lib/python3.8/site-packages/pandas/core/indexing.py:1720: SettingWithCopyWarning: \n",
      "A value is trying to be set on a copy of a slice from a DataFrame.\n",
      "Try using .loc[row_indexer,col_indexer] = value instead\n",
      "\n",
      "See the caveats in the documentation: https://pandas.pydata.org/pandas-docs/stable/user_guide/indexing.html#returning-a-view-versus-a-copy\n",
      "  self._setitem_single_column(loc, value, pi)\n",
      "/pkg/linux/anaconda/lib/python3.8/site-packages/pandas/core/indexing.py:1597: SettingWithCopyWarning: \n",
      "A value is trying to be set on a copy of a slice from a DataFrame.\n",
      "Try using .loc[row_indexer,col_indexer] = value instead\n",
      "\n",
      "See the caveats in the documentation: https://pandas.pydata.org/pandas-docs/stable/user_guide/indexing.html#returning-a-view-versus-a-copy\n",
      "  self.obj[key] = value\n",
      "/pkg/linux/anaconda/lib/python3.8/site-packages/pandas/core/indexing.py:1597: SettingWithCopyWarning: \n",
      "A value is trying to be set on a copy of a slice from a DataFrame.\n",
      "Try using .loc[row_indexer,col_indexer] = value instead\n",
      "\n",
      "See the caveats in the documentation: https://pandas.pydata.org/pandas-docs/stable/user_guide/indexing.html#returning-a-view-versus-a-copy\n",
      "  self.obj[key] = value\n",
      "/pkg/linux/anaconda/lib/python3.8/site-packages/pandas/core/indexing.py:1720: SettingWithCopyWarning: \n",
      "A value is trying to be set on a copy of a slice from a DataFrame.\n",
      "Try using .loc[row_indexer,col_indexer] = value instead\n",
      "\n",
      "See the caveats in the documentation: https://pandas.pydata.org/pandas-docs/stable/user_guide/indexing.html#returning-a-view-versus-a-copy\n",
      "  self._setitem_single_column(loc, value, pi)\n",
      "/pkg/linux/anaconda/lib/python3.8/site-packages/pandas/core/indexing.py:1597: SettingWithCopyWarning: \n",
      "A value is trying to be set on a copy of a slice from a DataFrame.\n",
      "Try using .loc[row_indexer,col_indexer] = value instead\n",
      "\n",
      "See the caveats in the documentation: https://pandas.pydata.org/pandas-docs/stable/user_guide/indexing.html#returning-a-view-versus-a-copy\n",
      "  self.obj[key] = value\n",
      "/pkg/linux/anaconda/lib/python3.8/site-packages/pandas/core/indexing.py:1720: SettingWithCopyWarning: \n",
      "A value is trying to be set on a copy of a slice from a DataFrame.\n",
      "Try using .loc[row_indexer,col_indexer] = value instead\n",
      "\n",
      "See the caveats in the documentation: https://pandas.pydata.org/pandas-docs/stable/user_guide/indexing.html#returning-a-view-versus-a-copy\n",
      "  self._setitem_single_column(loc, value, pi)\n",
      "/pkg/linux/anaconda/lib/python3.8/site-packages/pandas/core/indexing.py:1597: SettingWithCopyWarning: \n",
      "A value is trying to be set on a copy of a slice from a DataFrame.\n",
      "Try using .loc[row_indexer,col_indexer] = value instead\n",
      "\n",
      "See the caveats in the documentation: https://pandas.pydata.org/pandas-docs/stable/user_guide/indexing.html#returning-a-view-versus-a-copy\n",
      "  self.obj[key] = value\n",
      "/pkg/linux/anaconda/lib/python3.8/site-packages/pandas/core/indexing.py:1720: SettingWithCopyWarning: \n",
      "A value is trying to be set on a copy of a slice from a DataFrame.\n",
      "Try using .loc[row_indexer,col_indexer] = value instead\n",
      "\n",
      "See the caveats in the documentation: https://pandas.pydata.org/pandas-docs/stable/user_guide/indexing.html#returning-a-view-versus-a-copy\n",
      "  self._setitem_single_column(loc, value, pi)\n",
      "/pkg/linux/anaconda/lib/python3.8/site-packages/pandas/core/arraylike.py:358: RuntimeWarning: invalid value encountered in log10\n",
      "  result = getattr(ufunc, method)(*inputs, **kwargs)\n",
      "/pkg/linux/anaconda/lib/python3.8/site-packages/pandas/core/arraylike.py:358: RuntimeWarning: divide by zero encountered in log10\n",
      "  result = getattr(ufunc, method)(*inputs, **kwargs)\n",
      "/pkg/linux/anaconda/lib/python3.8/site-packages/pandas/core/arraylike.py:358: RuntimeWarning: invalid value encountered in log10\n",
      "  result = getattr(ufunc, method)(*inputs, **kwargs)\n",
      "/pkg/linux/anaconda/lib/python3.8/site-packages/pandas/core/arraylike.py:358: RuntimeWarning: invalid value encountered in log10\n",
      "  result = getattr(ufunc, method)(*inputs, **kwargs)\n",
      "/pkg/linux/anaconda/lib/python3.8/site-packages/pandas/core/arraylike.py:358: RuntimeWarning: invalid value encountered in log10\n",
      "  result = getattr(ufunc, method)(*inputs, **kwargs)\n",
      "/pkg/linux/anaconda/lib/python3.8/site-packages/pandas/core/arraylike.py:358: RuntimeWarning: invalid value encountered in log10\n",
      "  result = getattr(ufunc, method)(*inputs, **kwargs)\n"
     ]
    },
    {
     "name": "stdout",
     "output_type": "stream",
     "text": [
      "WARNING: in load_sami_galaxies: NOT correcting Halpha and HALPHA EW for extinction!\n"
     ]
    }
   ],
   "source": [
    "# Load the sample\n",
    "df = load_sami_galaxies(ncomponents=ncomponents,\n",
    "                        bin_type=bin_type,\n",
    "                        eline_SNR_min=eline_SNR_min, \n",
    "                        vgrad_cut=False,\n",
    "                        line_amplitude_SNR_cut=True,\n",
    "                        correct_extinction=False,\n",
    "                        sigma_gas_SNR_cut=True)\n"
   ]
  },
  {
   "cell_type": "markdown",
   "metadata": {},
   "source": [
    "# Using the KS and AD 2-sample tests to investigate the drivers of the number of components measured in each spaxel\n",
    "---\n",
    "\n",
    "See [here](https://stats.stackexchange.com/questions/465196/kolmogorov-smirnov-test-statistic-interpretation-with-large-samples) for a good discussion.\n",
    "\n",
    "Interpreting the statistic values: in both the KS and AD tests, larger values imply greater deviation between the underlying distributions of the two samples."
   ]
  },
  {
   "cell_type": "markdown",
   "metadata": {},
   "source": [
    "### Select subsample"
   ]
  },
  {
   "cell_type": "code",
   "execution_count": 125,
   "metadata": {
    "scrolled": true
   },
   "outputs": [
    {
     "name": "stdout",
     "output_type": "stream",
     "text": [
      "Number of 1-component spaxels: 608641\n",
      "Number of 2-component spaxels: 44943\n",
      "Number of 3-component spaxels: 4744\n"
     ]
    }
   ],
   "source": [
    "# Full sample\n",
    "df_1comp = df[df[\"Number of components\"] == 1]\n",
    "df_2comp = df[df[\"Number of components\"] == 2]\n",
    "df_3comp = df[df[\"Number of components\"] == 3]\n",
    "    \n",
    "fname = os.path.join(fig_path, \"hist_statistics_whole_sample.pdf\")\n",
    "fig_title = \"All spaxels\""
   ]
  },
  {
   "cell_type": "code",
   "execution_count": null,
   "metadata": {},
   "outputs": [],
   "source": [
    "# SF-only\n",
    "df_SF = df.copy()\n",
    "df_SF = df_SF[df_SF[\"BPT (total)\"] == \"SF\"]\n",
    "\n",
    "# Split by number of components\n",
    "df_1comp = df_SF[df_SF[\"Number of components\"] == 1]\n",
    "df_2comp = df_SF[df_SF[\"Number of components\"] == 2]\n",
    "df_3comp = df_SF[df_SF[\"Number of components\"] == 3]\n",
    "\n",
    "fname = os.path.join(fig_path, \"hist_statistics_SF_only.pdf\")\n",
    "fig_title = \"SF spaxels only\""
   ]
  },
  {
   "cell_type": "code",
   "execution_count": 149,
   "metadata": {},
   "outputs": [],
   "source": [
    "# SF-only, with beam smearing cut\n",
    "df_SF_beam_smearing_cut = df_SF.copy()\n",
    "for ii in range(3):\n",
    "    cond_beam_smearing = df_SF_beam_smearing_cut[f\"Beam smearing flag (component {ii})\"] == True\n",
    "\n",
    "    # NaN out offending cells\n",
    "    df_SF_beam_smearing_cut.loc[cond_beam_smearing, \n",
    "           [f\"v_gas (component {ii})\",\n",
    "            f\"sigma_gas (component {ii})\", \n",
    "            f\"v_gas error (component {ii})\",\n",
    "            f\"sigma_gas error (component {ii})\",]] = np.nan\n",
    "\n",
    "# Split by number of components\n",
    "df_1comp = df_SF_beam_smearing_cut[df_SF_beam_smearing_cut[\"Number of components\"] == 1]\n",
    "df_2comp = df_SF_beam_smearing_cut[df_SF_beam_smearing_cut[\"Number of components\"] == 2]\n",
    "df_3comp = df_SF_beam_smearing_cut[df_SF_beam_smearing_cut[\"Number of components\"] == 3]\n",
    "\n",
    "fname = os.path.join(fig_path, \"hist_statistics_SF_only_BScut.pdf\")\n",
    "fig_title = \"SF spaxels only, beam smearing cut\""
   ]
  },
  {
   "cell_type": "code",
   "execution_count": null,
   "metadata": {},
   "outputs": [],
   "source": [
    "# SF-only, with beam smearing cut, with spaxels at small radii removed\n",
    "df_SF_large_radii = df_SF_beam_smearing_cut.copy()\n",
    "df_SF_large_radii = df_SF_large_radii[df_SF_large_radii[\"r/R_e\"] > 1.0]\n",
    "\n",
    "# Split by number of components\n",
    "df_1comp = df_SF_large_radii[df_SF_large_radii[\"Number of components\"] == 1]\n",
    "df_2comp = df_SF_large_radii[df_SF_large_radii[\"Number of components\"] == 2]\n",
    "df_3comp = df_SF_large_radii[df_SF_large_radii[\"Number of components\"] == 3]\n",
    "\n",
    "fname = os.path.join(fig_path, \"hist_statistics_SF_only_BScut_large_radii.pdf\")\n",
    "fig_title = r\"SF spaxels only, beam smearing cut, $r/R_e > 1$\""
   ]
  },
  {
   "cell_type": "code",
   "execution_count": null,
   "metadata": {},
   "outputs": [],
   "source": [
    "# SF-only, with beam smearing cut, with spaxels at small radii removed, at low inclination\n",
    "df_SF_large_radii = df_SF_beam_smearing_cut.copy()\n",
    "df_SF_large_radii = df_SF_large_radii[df_SF_large_radii[\"r/R_e\"] > 1.0]\n",
    "df_SF_large_radii = df_SF_large_radii[df_SF_large_radii[\"Inclination i (degrees)\"] < 30]\n",
    "# df_SF_large_radii = df_SF_large_radii[df_SF_large_radii[\"z_spec\"] < 0.04]\n",
    "\n",
    "# Split by number of components\n",
    "df_1comp = df_SF_large_radii[df_SF_large_radii[\"Number of components\"] == 1]\n",
    "df_2comp = df_SF_large_radii[df_SF_large_radii[\"Number of components\"] == 2]\n",
    "df_3comp = df_SF_large_radii[df_SF_large_radii[\"Number of components\"] == 3]\n",
    "\n",
    "fname = os.path.join(fig_path, \"hist_statistics_SF_only_BScut_large_radii_low_inclination.pdf\")\n",
    "fig_title = r\"SF spaxels only, beam smearing cut, $r/R_e > 1$, $i < 30^\\circ$\""
   ]
  },
  {
   "cell_type": "markdown",
   "metadata": {},
   "source": [
    "## Run KS, AD tests"
   ]
  },
  {
   "cell_type": "code",
   "execution_count": null,
   "metadata": {},
   "outputs": [],
   "source": [
    "# Print statistics\n",
    "for ii, df_comp in enumerate([df_1comp, df_2comp, df_3comp]):\n",
    "    print(f\"Number of {ii + 1}-component spaxels: {df_comp.shape[0]}\")\n"
   ]
  },
  {
   "cell_type": "code",
   "execution_count": 135,
   "metadata": {
    "scrolled": false
   },
   "outputs": [
    {
     "data": {
      "application/vnd.jupyter.widget-view+json": {
       "model_id": "f0167c9c04484e97bea097efa827fa1a",
       "version_major": 2,
       "version_minor": 0
      },
      "text/plain": [
       "Canvas(toolbar=Toolbar(toolitems=[('Home', 'Reset original view', 'home', 'home'), ('Back', 'Back to previous …"
      ]
     },
     "metadata": {},
     "output_type": "display_data"
    },
    {
     "name": "stdout",
     "output_type": "stream",
     "text": [
      "KS test: log HALPHA EW (total): the two distributions are different at a 1.000% level (p-value = 0.0000000000%)\n",
      "AD test: log HALPHA EW (total): the two distributions are different at a 1.000% level (p-value = 0.10000%)\n",
      "KS test: log SFR (component 0): the two distributions are different at a 1.000% level (p-value = 0.0000000000%)\n",
      "AD test: log SFR (component 0): the two distributions are different at a 1.000% level (p-value = 0.10000%)\n"
     ]
    },
    {
     "name": "stderr",
     "output_type": "stream",
     "text": [
      "<ipython-input-135-275af09cda96>:25: UserWarning: p-value floored: true value smaller than 0.001\n",
      "  r_AD = anderson_ksamp([d1, d2])\n",
      "<ipython-input-135-275af09cda96>:25: UserWarning: p-value floored: true value smaller than 0.001\n",
      "  r_AD = anderson_ksamp([d1, d2])\n"
     ]
    },
    {
     "name": "stdout",
     "output_type": "stream",
     "text": [
      "KS test: log SFR surface density (component 0): the two distributions are different at a 1.000% level (p-value = 0.0000000000%)\n",
      "AD test: log SFR surface density (component 0): the two distributions are different at a 1.000% level (p-value = 0.10000%)\n",
      "KS test: HALPHA extinction correction: the two distributions are different at a 1.000% level (p-value = 0.0000000000%)\n",
      "AD test: HALPHA extinction correction: the two distributions are different at a 1.000% level (p-value = 0.10000%)\n"
     ]
    },
    {
     "name": "stderr",
     "output_type": "stream",
     "text": [
      "<ipython-input-135-275af09cda96>:25: UserWarning: p-value floored: true value smaller than 0.001\n",
      "  r_AD = anderson_ksamp([d1, d2])\n",
      "<ipython-input-135-275af09cda96>:25: UserWarning: p-value floored: true value smaller than 0.001\n",
      "  r_AD = anderson_ksamp([d1, d2])\n"
     ]
    },
    {
     "name": "stdout",
     "output_type": "stream",
     "text": [
      "KS test: sigma_gas (component 0): the two distributions are different at a 1.000% level (p-value = 0.0000000000%)\n",
      "AD test: sigma_gas (component 0): the two distributions are different at a 1.000% level (p-value = 0.10000%)\n",
      "KS test: v_gas (component 0): the two distributions are different at a 1.000% level (p-value = 0.0000000000%)\n",
      "AD test: v_gas (component 0): the two distributions are different at a 1.000% level (p-value = 0.10000%)\n"
     ]
    },
    {
     "name": "stderr",
     "output_type": "stream",
     "text": [
      "<ipython-input-135-275af09cda96>:25: UserWarning: p-value floored: true value smaller than 0.001\n",
      "  r_AD = anderson_ksamp([d1, d2])\n",
      "<ipython-input-135-275af09cda96>:25: UserWarning: p-value floored: true value smaller than 0.001\n",
      "  r_AD = anderson_ksamp([d1, d2])\n",
      "<ipython-input-135-275af09cda96>:25: UserWarning: p-value floored: true value smaller than 0.001\n",
      "  r_AD = anderson_ksamp([d1, d2])\n"
     ]
    },
    {
     "name": "stdout",
     "output_type": "stream",
     "text": [
      "KS test: sigma_gas - sigma_* (component 0): the two distributions are different at a 1.000% level (p-value = 0.0000000000%)\n",
      "AD test: sigma_gas - sigma_* (component 0): the two distributions are different at a 1.000% level (p-value = 0.10000%)\n",
      "KS test: v_gas - v_* (component 0): the two distributions are different at a 1.000% level (p-value = 0.0000000000%)\n",
      "AD test: v_gas - v_* (component 0): the two distributions are different at a 1.000% level (p-value = 0.10000%)\n",
      "KS test: r/R_e: the two distributions are different at a 1.000% level (p-value = 0.0000000000%)\n",
      "AD test: r/R_e: the two distributions are different at a 1.000% level (p-value = 0.10000%)\n"
     ]
    },
    {
     "name": "stderr",
     "output_type": "stream",
     "text": [
      "<ipython-input-135-275af09cda96>:25: UserWarning: p-value floored: true value smaller than 0.001\n",
      "  r_AD = anderson_ksamp([d1, d2])\n",
      "<ipython-input-135-275af09cda96>:25: UserWarning: p-value floored: true value smaller than 0.001\n",
      "  r_AD = anderson_ksamp([d1, d2])\n",
      "<ipython-input-135-275af09cda96>:25: UserWarning: p-value floored: true value smaller than 0.001\n",
      "  r_AD = anderson_ksamp([d1, d2])\n"
     ]
    },
    {
     "name": "stdout",
     "output_type": "stream",
     "text": [
      "KS test: log HALPHA EW (component 0): the two distributions are different at a 1.000% level (p-value = 0.0000000000%)\n",
      "AD test: log HALPHA EW (component 0): the two distributions are different at a 1.000% level (p-value = 0.10000%)\n",
      "KS test: v_*: the two distributions are different at a 1.000% level (p-value = 0.0000000000%)\n",
      "AD test: v_*: the two distributions are different at a 1.000% level (p-value = 0.10000%)\n",
      "KS test: sigma_*: the two distributions are different at a 1.000% level (p-value = 0.0000000000%)\n"
     ]
    },
    {
     "name": "stderr",
     "output_type": "stream",
     "text": [
      "<ipython-input-135-275af09cda96>:25: UserWarning: p-value floored: true value smaller than 0.001\n",
      "  r_AD = anderson_ksamp([d1, d2])\n",
      "<ipython-input-135-275af09cda96>:25: UserWarning: p-value floored: true value smaller than 0.001\n",
      "  r_AD = anderson_ksamp([d1, d2])\n",
      "<ipython-input-135-275af09cda96>:25: UserWarning: p-value floored: true value smaller than 0.001\n",
      "  r_AD = anderson_ksamp([d1, d2])\n"
     ]
    },
    {
     "name": "stdout",
     "output_type": "stream",
     "text": [
      "AD test: sigma_*: the two distributions are different at a 1.000% level (p-value = 0.10000%)\n",
      "KS test: D4000: the two distributions are different at a 1.000% level (p-value = 0.0000000000%)\n",
      "AD test: D4000: the two distributions are different at a 1.000% level (p-value = 0.10000%)\n",
      "KS test: mstar: the two distributions are different at a 1.000% level (p-value = 0.0000000000%)\n",
      "AD test: mstar: the two distributions are different at a 1.000% level (p-value = 0.10000%)\n"
     ]
    },
    {
     "name": "stderr",
     "output_type": "stream",
     "text": [
      "<ipython-input-135-275af09cda96>:25: UserWarning: p-value floored: true value smaller than 0.001\n",
      "  r_AD = anderson_ksamp([d1, d2])\n",
      "<ipython-input-135-275af09cda96>:25: UserWarning: p-value floored: true value smaller than 0.001\n",
      "  r_AD = anderson_ksamp([d1, d2])\n",
      "<ipython-input-135-275af09cda96>:25: UserWarning: p-value floored: true value smaller than 0.001\n",
      "  r_AD = anderson_ksamp([d1, d2])\n",
      "<ipython-input-135-275af09cda96>:25: UserWarning: p-value floored: true value smaller than 0.001\n",
      "  r_AD = anderson_ksamp([d1, d2])\n",
      "<ipython-input-135-275af09cda96>:25: UserWarning: p-value floored: true value smaller than 0.001\n",
      "  r_AD = anderson_ksamp([d1, d2])\n"
     ]
    },
    {
     "name": "stdout",
     "output_type": "stream",
     "text": [
      "KS test: R_e (kpc): the two distributions are different at a 1.000% level (p-value = 0.0000000000%)\n",
      "AD test: R_e (kpc): the two distributions are different at a 1.000% level (p-value = 0.10000%)\n",
      "KS test: log(M/R_e): the two distributions are different at a 1.000% level (p-value = 0.0000000000%)\n",
      "AD test: log(M/R_e): the two distributions are different at a 1.000% level (p-value = 0.10000%)\n",
      "KS test: Inclination i (degrees): the two distributions are different at a 1.000% level (p-value = 0.0000000000%)\n",
      "AD test: Inclination i (degrees): the two distributions are different at a 1.000% level (p-value = 0.10000%)\n",
      "KS test: Bin size (square kpc): the two distributions are different at a 1.000% level (p-value = 0.0000000000%)\n",
      "AD test: Bin size (square kpc): the two distributions are different at a 1.000% level (p-value = 0.10000%)\n",
      "KS test: z_spec: the two distributions are different at a 1.000% level (p-value = 0.0000000000%)\n",
      "AD test: z_spec: the two distributions are different at a 1.000% level (p-value = 0.10000%)\n"
     ]
    },
    {
     "name": "stderr",
     "output_type": "stream",
     "text": [
      "<ipython-input-135-275af09cda96>:25: UserWarning: p-value floored: true value smaller than 0.001\n",
      "  r_AD = anderson_ksamp([d1, d2])\n",
      "<ipython-input-135-275af09cda96>:25: UserWarning: p-value floored: true value smaller than 0.001\n",
      "  r_AD = anderson_ksamp([d1, d2])\n"
     ]
    },
    {
     "name": "stdout",
     "output_type": "stream",
     "text": [
      "KS test: v_grad (component 0): the two distributions are different at a 1.000% level (p-value = 0.0000000000%)\n",
      "AD test: v_grad (component 0): the two distributions are different at a 1.000% level (p-value = 0.10000%)\n",
      "Saving file to /priv/meggs3/u5708159/SAMI/figs/paper/hist_statistics_whole_sample.pdf\n"
     ]
    }
   ],
   "source": [
    "alpha = 0.01  # p-value below which we reject the null hypothesis\n",
    "cols = [\"log HALPHA EW (total)\", \"log SFR (component 0)\", \"log SFR surface density (component 0)\", \"HALPHA extinction correction\", \n",
    "        \"sigma_gas (component 0)\", \"v_gas (component 0)\", \"sigma_gas - sigma_* (component 0)\", \"v_gas - v_* (component 0)\", \n",
    "        \"r/R_e\", \"log HALPHA EW (component 0)\", \"v_*\", \"sigma_*\",\n",
    "        \"D4000\", \"mstar\", \"R_e (kpc)\", \"log(M/R_e)\", \n",
    "        \"Inclination i (degrees)\", \"Bin size (square kpc)\", \"z_spec\", \"v_grad (component 0)\",]\n",
    "\n",
    "fig, axs = plt.subplots(nrows=len(cols) // 4, ncols=4, figsize=(16, 20))\n",
    "fig.subplots_adjust(wspace=0.35, hspace=0.4)\n",
    "for col_x, ax in zip(cols, axs.flat):\n",
    "    # Extract values\n",
    "    d1 = df_1comp[col_x].dropna().values\n",
    "    d2 = df_2comp[col_x].dropna().values\n",
    "    \n",
    "    # Run KS test \n",
    "    r_KS = ks_2samp(d1, d2)\n",
    "    if r_KS.pvalue < alpha:\n",
    "        print(f\"KS test: {col_x}: the two distributions are different at a {alpha * 100:.3f}% level (p-value = {r_KS.pvalue * 100:.10f}%)\")\n",
    "        ax.text(s=r\"KS: $%.2f$ ($p = %.3f$)\" % (r_KS.statistic, r_KS.pvalue), x=0.05, y=0.95, verticalalignment=\"top\", fontsize=\"small\", transform=ax.transAxes, color=\"red\")\n",
    "    else:\n",
    "        print(f\"KS test: {col_x}: the two distributions are the same at a {alpha * 100:.3f}% level (p-value = {r_KS.pvalue * 100:.10f}%)\")\n",
    "        ax.text(s=r\"KS: $%.2f$ ($p = %.3f$)\" % (r_KS.statistic, r_KS.pvalue), x=0.05, y=0.95, verticalalignment=\"top\", fontsize=\"small\", transform=ax.transAxes)\n",
    "\n",
    "    # Run the 2-sample KS test \n",
    "    r_AD = anderson_ksamp([d1, d2])\n",
    "    if r_AD.significance_level < alpha:\n",
    "        print(f\"AD test: {col_x}: the two distributions are different at a {alpha * 100:.3f}% level (p-value = {r_AD.significance_level * 100:.5f}%)\")\n",
    "        ax.text(s=r\"AD: $%.2f$ ($p \\leq %.3f$)\" % (r_AD.statistic, r_AD.significance_level), x=0.05, y=0.88, verticalalignment=\"top\", fontsize=\"small\", transform=ax.transAxes, color=\"red\")\n",
    "    else:\n",
    "        print(f\"AD test: {col_x}: the two distributions are the same at a {alpha * 100:.3f}% level (p-value = {r_AD.significance_level * 100:.5f}%)\")\n",
    "        ax.text(s=r\"AD: $%.2f$ ($p = %.3f$)\" % (r_AD.statistic, r_AD.significance_level), x=0.05, y=0.88, verticalalignment=\"top\", fontsize=\"small\", transform=ax.transAxes)\n",
    "        \n",
    "    # Plot the distributions of the quantity in 1, 2 and 3-component spaxels\n",
    "    for ii, d in enumerate([d1, d2]):\n",
    "        hist(d, density=True, histtype=\"step\",\n",
    "             ax=ax, \n",
    "             range=(vmin_fn(col_x), vmax_fn(col_x)),\n",
    "             bins=\"scott\",\n",
    "             label=f\"{ncomponents_labels[ii + 1]} component{'s' if ii >= 1 else ''}\" + r\" ($N = %d$)\" % len(d),\n",
    "             color=ncomponents_colours[ii + 1])\n",
    "    \n",
    "    # Decorations\n",
    "    ax.set_xlabel(label_fn(col_x) + \" (component 1)\" if \"(component 0)\" in col_x else label_fn(col_x))\n",
    "    ax.autoscale(enable=True, axis=\"x\", tight=True)\n",
    "    ax.set_ylabel(r\"$N$ (normalised)\")\n",
    "axs[0][0].legend(loc=\"lower center\", bbox_to_anchor=[0.5, 1.1], fontsize=\"small\")\n",
    "fig.suptitle(fig_title)\n",
    "\n",
    "# Save\n",
    "if savefigs:\n",
    "    print(f\"Saving file to {fname}\")\n",
    "    fig.savefig(fname, bbox_inches=\"tight\", format=\"pdf\")\n",
    "    \n",
    "    "
   ]
  },
  {
   "cell_type": "markdown",
   "metadata": {},
   "source": []
  }
 ],
 "metadata": {
  "kernelspec": {
   "display_name": "'Python Interactive'",
   "language": "python",
   "name": "03ce6b8f-572d-43e6-9588-606e98bdab3a"
  },
  "language_info": {
   "codemirror_mode": {
    "name": "ipython",
    "version": 3
   },
   "file_extension": ".py",
   "mimetype": "text/x-python",
   "name": "python",
   "nbconvert_exporter": "python",
   "pygments_lexer": "ipython3",
   "version": "3.8.2"
  }
 },
 "nbformat": 4,
 "nbformat_minor": 2
}
