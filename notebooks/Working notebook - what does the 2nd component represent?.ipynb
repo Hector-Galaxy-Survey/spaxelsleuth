{
 "cells": [
  {
   "cell_type": "markdown",
   "metadata": {},
   "source": [
    "# What is this \"mystery\" 2nd component?\n",
    "---\n",
    "What we want to do here:\n",
    "* Recreate the BPT and WHAV* diagrams\n",
    "* Interrogate the properties of the \"mystery\" 2nd component\n",
    "* Look for correlations between the properties of the \"mystery\" 2nd component and other quantities \n",
    "\n",
    "Random ideas:\n",
    "* is the 2nd component tied to stellar rotation at all?"
   ]
  },
  {
   "cell_type": "code",
   "execution_count": 1,
   "metadata": {},
   "outputs": [],
   "source": [
    "%matplotlib widget "
   ]
  },
  {
   "cell_type": "code",
   "execution_count": 2,
   "metadata": {},
   "outputs": [],
   "source": [
    "import os, sys \n",
    "import numpy as np\n",
    "import pandas as pd \n",
    "from astropy.visualization import hist\n",
    "\n",
    "from spaxelsleuth.loaddata.sami import load_sami_df\n",
    "from spaxelsleuth.plotting.plot2dmap import plot2dmap\n",
    "from spaxelsleuth.plotting.plotgalaxies import plot2dhistcontours, plot2dscatter\n",
    "from spaxelsleuth.plotting.plottools import plot_empty_BPT_diagram, vmin_fn, vmax_fn, cmap_fn, label_fn, fname_fn, bpt_labels, bpt_colours, ncomponents_colours, ncomponents_labels, component_colours, component_labels\n",
    "\n",
    "import matplotlib.pyplot as plt \n",
    "plt.ion()\n",
    "plt.close(\"all\")"
   ]
  },
  {
   "cell_type": "code",
   "execution_count": 3,
   "metadata": {},
   "outputs": [],
   "source": [
    "savefigs = False"
   ]
  },
  {
   "cell_type": "code",
   "execution_count": 4,
   "metadata": {},
   "outputs": [
    {
     "name": "stdout",
     "output_type": "stream",
     "text": [
      "In load_sami_df(): Loading DataFrame...\n",
      "In load_sami_df(): Finished!\n"
     ]
    }
   ],
   "source": [
    "# Load the entire SAMI sample\n",
    "df_all = load_sami_df(ncomponents=\"recom\",\n",
    "                  bin_type=\"default\",\n",
    "                  eline_SNR_min=5,\n",
    "                  correct_extinction=True,\n",
    "                  debug=False)"
   ]
  },
  {
   "cell_type": "code",
   "execution_count": 5,
   "metadata": {
    "scrolled": true
   },
   "outputs": [
    {
     "name": "stdout",
     "output_type": "stream",
     "text": [
      "61.04448405265259% of spaxels have high-quality components only\n"
     ]
    }
   ],
   "source": [
    "# Limit sample to having high-quality multi-component fits\n",
    "df = df_all[df_all[\"Number of components\"] == df_all[\"Number of components (original)\"]]\n",
    "print(f\"{df.shape[0] / df_all.shape[0] * 100}% of spaxels have high-quality components only\")"
   ]
  },
  {
   "cell_type": "code",
   "execution_count": 6,
   "metadata": {},
   "outputs": [],
   "source": [
    "# Make a copy containing only SF-like spaxels\n",
    "df_SF = df.copy()\n",
    "df_SF = df_SF[df_SF[\"BPT (total)\"] == \"SF\"]"
   ]
  },
  {
   "cell_type": "markdown",
   "metadata": {},
   "source": [
    "## Stacked bar chart: # of fitted components by spectral classification"
   ]
  },
  {
   "cell_type": "code",
   "execution_count": 28,
   "metadata": {
    "collapsed": true
   },
   "outputs": [
    {
     "data": {
      "application/vnd.jupyter.widget-view+json": {
       "model_id": "9a6f6bf888d34565b95b216150855733",
       "version_major": 2,
       "version_minor": 0
      },
      "text/plain": [
       "Canvas(toolbar=Toolbar(toolitems=[('Home', 'Reset original view', 'home', 'home'), ('Back', 'Back to previous …"
      ]
     },
     "metadata": {},
     "output_type": "display_data"
    }
   ],
   "source": [
    "counts_0 = []\n",
    "counts_1 = []\n",
    "counts_2 = []\n",
    "counts_3 = []\n",
    "for bpt in bpt_labels:\n",
    "    cond = df[\"BPT (total)\"] == bpt\n",
    "    cond_0 = cond & (df[\"Number of components\"] == 0)\n",
    "    cond_1 = cond & (df[\"Number of components\"] == 1)\n",
    "    cond_2 = cond & (df[\"Number of components\"] == 2)\n",
    "    cond_3 = cond & (df[\"Number of components\"] == 3)\n",
    "    counts_0.append(df[cond_0].shape[0] / df[cond].shape[0] * 100)\n",
    "    counts_1.append(df[cond_1].shape[0] / df[cond].shape[0] * 100)\n",
    "    counts_2.append(df[cond_2].shape[0] / df[cond].shape[0] * 100)\n",
    "    counts_3.append(df[cond_3].shape[0] / df[cond].shape[0] * 100)\n",
    "\n",
    "fig, ax = plt.subplots(nrows=1, ncols=1, figsize=(7, 5))\n",
    "ax.bar(bpt_labels, counts_0, width=0.6, label=ncomponents_labels[0] + \" components\", color=ncomponents_colours[0])\n",
    "ax.bar(bpt_labels, counts_1, width=0.6, bottom=counts_0, label=ncomponents_labels[1] + \" component\", color=ncomponents_colours[1])\n",
    "ax.bar(bpt_labels, counts_2, width=0.6, bottom=np.array(counts_0) + np.array(counts_1), label=ncomponents_labels[2] + \" components\", color=ncomponents_colours[2])\n",
    "ax.bar(bpt_labels, counts_3, width=0.6, bottom=np.array(counts_0) + np.array(counts_1) + np.array(counts_2), label=ncomponents_labels[3] + \" components\", color=ncomponents_colours[3])\n",
    "ax.grid()\n",
    "ax.set_ylim([0, 105])\n",
    "ax.set_ylabel(\"Percentage\")\n",
    "ax.set_xlabel(\"Spectral classification\")\n",
    "ax.legend(loc=\"lower center\", bbox_to_anchor=(0.5, 1.02), ncol=2, fontsize=\"small\")\n",
    "plt.xticks(rotation=90)\n",
    "\n",
    "if savefigs:\n",
    "    fname = os.path.join(fig_path, f\"bar_ncomponents_by_spectral_class.pdf\")\n",
    "    fig.savefig(fname, bbox_inches=\"tight\", format=\"pdf\")\n",
    "    print(f\"File saved at: {fname}\")"
   ]
  },
  {
   "cell_type": "markdown",
   "metadata": {},
   "source": [
    "## Histograms showing the distribution in various quantities in components 1, 2 and 3"
   ]
  },
  {
   "cell_type": "code",
   "execution_count": 11,
   "metadata": {
    "scrolled": false
   },
   "outputs": [
    {
     "data": {
      "application/vnd.jupyter.widget-view+json": {
       "model_id": "36fe188d85c24d3fb435eb27abd0d03e",
       "version_major": 2,
       "version_minor": 0
      },
      "text/plain": [
       "Canvas(toolbar=Toolbar(toolitems=[('Home', 'Reset original view', 'home', 'home'), ('Back', 'Back to previous …"
      ]
     },
     "metadata": {},
     "output_type": "display_data"
    },
    {
     "name": "stderr",
     "output_type": "stream",
     "text": [
      "/pkg/linux/anaconda-20191122/anaconda3/lib/python3.7/site-packages/astropy/visualization/hist.py:72: MatplotlibDeprecationWarning: \n",
      "The 'normed' kwarg was deprecated in Matplotlib 2.1 and will be removed in 3.1. Use 'density' instead.\n",
      "  return ax.hist(x, bins, **kwargs)\n"
     ]
    },
    {
     "data": {
      "application/vnd.jupyter.widget-view+json": {
       "model_id": "2059f0e7824d48dfa2ff1239bb8ff138",
       "version_major": 2,
       "version_minor": 0
      },
      "text/plain": [
       "Canvas(toolbar=Toolbar(toolitems=[('Home', 'Reset original view', 'home', 'home'), ('Back', 'Back to previous …"
      ]
     },
     "metadata": {},
     "output_type": "display_data"
    },
    {
     "data": {
      "application/vnd.jupyter.widget-view+json": {
       "model_id": "068726cd700646c19adbd6d4a273a84b",
       "version_major": 2,
       "version_minor": 0
      },
      "text/plain": [
       "Canvas(toolbar=Toolbar(toolitems=[('Home', 'Reset original view', 'home', 'home'), ('Back', 'Back to previous …"
      ]
     },
     "metadata": {},
     "output_type": "display_data"
    }
   ],
   "source": [
    "for col in [\"sigma_gas\", \"v_gas\", \"log HALPHA EW\"]:\n",
    "    fig, axs = plt.subplots(nrows=1, ncols=2, figsize=(10, 5))\n",
    "    for nn in range(1, 4):\n",
    "        hist(df[f\"{col} (component {nn})\"], range=(vmin_fn(col), vmax_fn(col)), bins=\"scott\", histtype=\"step\", color=component_colours[nn - 1], ax=axs[0], normed=True, label=f\"Component {nn}\")\n",
    "        hist(df_SF[f\"{col} (component {nn})\"], range=(vmin_fn(col), vmax_fn(col)), bins=\"scott\", histtype=\"step\", color=component_colours[nn - 1], ax=axs[1], normed=True, label=f\"Component {nn}\")\n",
    "    axs[0].set_xlabel(label_fn(col))\n",
    "    axs[1].set_xlabel(label_fn(col))\n",
    "    axs[0].set_ylabel(\"N (normalised)\")\n",
    "    axs[1].legend()\n",
    "    axs[0].set_title(\"All spaxels\")\n",
    "    axs[1].set_title(\"Star-forming spaxels only\")\n",
    "    axs[0].grid()\n",
    "    axs[1].grid()\n"
   ]
  },
  {
   "cell_type": "code",
   "execution_count": 24,
   "metadata": {},
   "outputs": [],
   "source": [
    "plt.close(\"all\")"
   ]
  },
  {
   "cell_type": "code",
   "execution_count": 26,
   "metadata": {
    "scrolled": false
   },
   "outputs": [
    {
     "data": {
      "application/vnd.jupyter.widget-view+json": {
       "model_id": "14dc287621bc4d6987c70483f8d4ccee",
       "version_major": 2,
       "version_minor": 0
      },
      "text/plain": [
       "Canvas(toolbar=Toolbar(toolitems=[('Home', 'Reset original view', 'home', 'home'), ('Back', 'Back to previous …"
      ]
     },
     "metadata": {},
     "output_type": "display_data"
    },
    {
     "data": {
      "text/plain": [
       "<matplotlib.legend.Legend at 0x7efe478a6f90>"
      ]
     },
     "execution_count": 26,
     "metadata": {},
     "output_type": "execute_result"
    }
   ],
   "source": [
    "# Histogram showing the offset in velocity from component 1 of components 2 and 3\n",
    "col = \"delta v_gas\"\n",
    "fig, ax = plt.subplots(nrows=1, ncols=1, figsize=(5, 4))\n",
    "hist(df[f\"{col} (2/1)\"], range=(-300, +300), bins=\"scott\", histtype=\"step\", color=\"black\", ax=ax, normed=False, alpha=0.5, label=\"Full sample\")\n",
    "hist(df_SF[f\"{col} (2/1)\"], range=(-300, +300), bins=\"scott\", histtype=\"step\", color=\"blue\", ax=ax, normed=False, label=\"Star-forming spaxels\")\n",
    "ax.grid()\n",
    "ax.set_ylabel(\"N\")\n",
    "ax.set_xlabel(r\"$\\Delta v_{\\rm gas}$ (2/1)\")\n",
    "ax.legend()"
   ]
  },
  {
   "cell_type": "markdown",
   "metadata": {},
   "source": [
    "## What happens if we plot the gas velocity of component 2 against that of component 1?"
   ]
  },
  {
   "cell_type": "code",
   "execution_count": 7,
   "metadata": {
    "scrolled": false
   },
   "outputs": [
    {
     "data": {
      "application/vnd.jupyter.widget-view+json": {
       "model_id": "8d1ffc75b0c944bc94c2baaa62ce9e93",
       "version_major": 2,
       "version_minor": 0
      },
      "text/plain": [
       "Canvas(toolbar=Toolbar(toolitems=[('Home', 'Reset original view', 'home', 'home'), ('Back', 'Back to previous …"
      ]
     },
     "metadata": {},
     "output_type": "display_data"
    },
    {
     "data": {
      "text/plain": [
       "[<matplotlib.lines.Line2D at 0x7efe50c7cdd0>]"
      ]
     },
     "execution_count": 7,
     "metadata": {},
     "output_type": "execute_result"
    }
   ],
   "source": [
    "# Experimenting: 2D histogram \n",
    "fig = plot2dhistcontours(df_SF,\n",
    "                         col_x=\"v_gas (component 1)\",\n",
    "                         col_y=\"v_gas (component 2)\",\n",
    "                         col_z=\"count\", log_z=True, \n",
    "                         xmin=-300, xmax=300, \n",
    "                         ymin=-300, ymax=300, \n",
    "                         nbins=50)\n",
    "ax = fig.get_axes()[0]\n",
    "ax.grid()\n",
    "ax.set_xlabel(ax.get_xlabel() + \" (component 1)\")\n",
    "ax.set_ylabel(ax.get_ylabel() + \" (component 2)\")\n",
    "ax.plot([-300, 300], [-300, 300], color=\"k\", lw=2, ls=\"--\")"
   ]
  },
  {
   "cell_type": "code",
   "execution_count": 8,
   "metadata": {},
   "outputs": [
    {
     "data": {
      "application/vnd.jupyter.widget-view+json": {
       "model_id": "6fc764e9e149432aa2e8ebbb8102eea7",
       "version_major": 2,
       "version_minor": 0
      },
      "text/plain": [
       "Canvas(toolbar=Toolbar(toolitems=[('Home', 'Reset original view', 'home', 'home'), ('Back', 'Back to previous …"
      ]
     },
     "metadata": {},
     "output_type": "display_data"
    },
    {
     "data": {
      "text/plain": [
       "[<matplotlib.lines.Line2D at 0x7efe501ea910>]"
      ]
     },
     "execution_count": 8,
     "metadata": {},
     "output_type": "execute_result"
    }
   ],
   "source": [
    "# Experimenting: 2D histogram \n",
    "fig = plot2dhistcontours(df_SF,\n",
    "                         col_x=\"v_gas (component 1)\",\n",
    "                         col_y=\"v_gas (component 2)\",\n",
    "                         col_z=\"v_gas - v_* (component 2)\",\n",
    "                         xmin=-300, xmax=300, \n",
    "                         ymin=-300, ymax=300, \n",
    "                         vmin=-100, vmax=+100,\n",
    "                         nbins=50)\n",
    "ax = fig.get_axes()[0]\n",
    "ax.grid()\n",
    "ax.set_xlabel(ax.get_xlabel() + \" (component 1)\")\n",
    "ax.set_ylabel(ax.get_ylabel() + \" (component 2)\")\n",
    "ax.plot([-300, 300], [-300, 300], color=\"k\", lw=2, ls=\"--\")"
   ]
  },
  {
   "cell_type": "code",
   "execution_count": 20,
   "metadata": {
    "scrolled": false
   },
   "outputs": [
    {
     "name": "stderr",
     "output_type": "stream",
     "text": [
      "/home/u5708159/python/Modules/spaxelsleuth/plotting/plotgalaxies.py:472: RuntimeWarning: More than 20 figures have been opened. Figures created through the pyplot interface (`matplotlib.pyplot.figure`) are retained until explicitly closed and may consume too much memory. (To control this warning, see the rcParam `figure.max_open_warning`).\n",
      "  fig = plt.figure(figsize=figsize)\n"
     ]
    },
    {
     "data": {
      "application/vnd.jupyter.widget-view+json": {
       "model_id": "27c53a57c1d145e8a465d67d0e2cbd90",
       "version_major": 2,
       "version_minor": 0
      },
      "text/plain": [
       "Canvas(toolbar=Toolbar(toolitems=[('Home', 'Reset original view', 'home', 'home'), ('Back', 'Back to previous …"
      ]
     },
     "metadata": {},
     "output_type": "display_data"
    },
    {
     "data": {
      "application/vnd.jupyter.widget-view+json": {
       "model_id": "be97b73af85f4b63be7adbc53955fc0c",
       "version_major": 2,
       "version_minor": 0
      },
      "text/plain": [
       "Canvas(toolbar=Toolbar(toolitems=[('Home', 'Reset original view', 'home', 'home'), ('Back', 'Back to previous …"
      ]
     },
     "metadata": {},
     "output_type": "display_data"
    },
    {
     "data": {
      "application/vnd.jupyter.widget-view+json": {
       "model_id": "687b6ad94f2944538abcfe47202d6b78",
       "version_major": 2,
       "version_minor": 0
      },
      "text/plain": [
       "Canvas(toolbar=Toolbar(toolitems=[('Home', 'Reset original view', 'home', 'home'), ('Back', 'Back to previous …"
      ]
     },
     "metadata": {},
     "output_type": "display_data"
    }
   ],
   "source": [
    "for nn in range(1, 4):\n",
    "    fig = plot2dhistcontours(df_SF,\n",
    "                             col_x=\"v_*\",\n",
    "                             col_y=f\"v_gas (component {nn})\",\n",
    "                             col_z=\"count\", log_z=True, \n",
    "                             # col_z=f\"sigma_*\",\n",
    "                             xmin=-300, xmax=300, \n",
    "                             ymin=-300, ymax=300, \n",
    "                             nbins=50)\n",
    "    ax = fig.get_axes()[0]\n",
    "    ax.grid()\n",
    "    ax.set_ylabel(ax.get_ylabel() + f\" (component {nn})\")\n",
    "    ax.plot([-300, 300], [-300, 300], color=\"k\", lw=2, ls=\"--\")"
   ]
  },
  {
   "cell_type": "markdown",
   "metadata": {},
   "source": [
    "### Nice examples of galaxies with \"hysteresis\" \n",
    "* 301346\n",
    "* 619095\n",
    "* 41144\n",
    "* 460374\n",
    "* 84107 (not hysteresis, but rather no velocity offset from component 1 at all)\n",
    "* 272990\n"
   ]
  },
  {
   "cell_type": "code",
   "execution_count": 26,
   "metadata": {},
   "outputs": [
    {
     "name": "stderr",
     "output_type": "stream",
     "text": [
      "/home/u5708159/python/Modules/spaxelsleuth/plotting/plotgalaxies.py:472: RuntimeWarning: More than 20 figures have been opened. Figures created through the pyplot interface (`matplotlib.pyplot.figure`) are retained until explicitly closed and may consume too much memory. (To control this warning, see the rcParam `figure.max_open_warning`).\n",
      "  fig = plt.figure(figsize=figsize)\n"
     ]
    },
    {
     "data": {
      "application/vnd.jupyter.widget-view+json": {
       "model_id": "367b3c01d0b64b918c1c62856cea236c",
       "version_major": 2,
       "version_minor": 0
      },
      "text/plain": [
       "Canvas(toolbar=Toolbar(toolitems=[('Home', 'Reset original view', 'home', 'home'), ('Back', 'Back to previous …"
      ]
     },
     "metadata": {},
     "output_type": "display_data"
    },
    {
     "name": "stderr",
     "output_type": "stream",
     "text": [
      "/home/u5708159/python/Modules/spaxelsleuth/plotting/sdssimg.py:164: RuntimeWarning: More than 20 figures have been opened. Figures created through the pyplot interface (`matplotlib.pyplot.figure`) are retained until explicitly closed and may consume too much memory. (To control this warning, see the rcParam `figure.max_open_warning`).\n",
      "  fig, ax = plt.subplots(nrows=1, ncols=1, figsize=figsize, subplot_kw={\"projection\": wcs})\n"
     ]
    },
    {
     "data": {
      "application/vnd.jupyter.widget-view+json": {
       "model_id": "ab2b153f0b2c4c469cd7d37884e828f5",
       "version_major": 2,
       "version_minor": 0
      },
      "text/plain": [
       "Canvas(toolbar=Toolbar(toolitems=[('Home', 'Reset original view', 'home', 'home'), ('Back', 'Back to previous …"
      ]
     },
     "metadata": {},
     "output_type": "display_data"
    },
    {
     "data": {
      "text/plain": [
       "<matplotlib.axes._subplots.WCSAxesSubplot at 0x7f8e13488f50>"
      ]
     },
     "execution_count": 26,
     "metadata": {},
     "output_type": "execute_result"
    }
   ],
   "source": [
    "# Re-make the above plots but overlaid with points from individual galaxies \n",
    "fig = plot2dhistcontours(df_SF,\n",
    "                         col_x=\"v_gas (component 1)\",\n",
    "                         col_y=\"v_gas (component 2)\",\n",
    "                         col_z=\"count\", log_z=False, cmap=\"gray_r\", alpha=0.4,\n",
    "                         xmin=-300, xmax=300, \n",
    "                         ymin=-300, ymax=300, \n",
    "                         plot_colorbar=False,\n",
    "                         nbins=50)\n",
    "ax = fig.get_axes()[0]\n",
    " \n",
    "gal = 460374\n",
    "df_gal = df_all[df_all[\"catid\"] == gal]\n",
    "_ = plot2dscatter(df_gal, col_x=\"v_gas (component 1)\", col_y=\"v_gas (component 2)\", col_z=\"sigma_gas (component 2)\",\n",
    "                  xmin=-300, xmax=300, ymin=-300, ymax=300, vmax=150,\n",
    "                  plot_colorbar=True,\n",
    "                  ax=ax)\n",
    "\n",
    "# Decorations \n",
    "ax.grid()\n",
    "ax.set_xlabel(ax.get_xlabel() + \" (component 1)\")\n",
    "ax.set_ylabel(ax.get_ylabel() + \" (component 2)\")\n",
    "ax.plot([-300, 300], [-300, 300], color=\"k\", lw=2, ls=\"--\")\n",
    "ax.plot([-300, 300], [0, 0], color=\"k\")\n",
    "ax.plot([0, 0], [-300, 300], color=\"k\")\n",
    "\n",
    "# SDSS image\n",
    "from spaxelsleuth.plotting.sdssimg import plot_sdss_image\n",
    "plot_sdss_image(df_gal)"
   ]
  },
  {
   "cell_type": "markdown",
   "metadata": {},
   "source": [
    "## How to tell whether the 2nd component is due to residuals in the stellar template fitting?"
   ]
  },
  {
   "cell_type": "code",
   "execution_count": 10,
   "metadata": {},
   "outputs": [
    {
     "data": {
      "application/vnd.jupyter.widget-view+json": {
       "model_id": "aecfcaf71f954fc983d7bdc50a98882b",
       "version_major": 2,
       "version_minor": 0
      },
      "text/plain": [
       "Canvas(toolbar=Toolbar(toolitems=[('Home', 'Reset original view', 'home', 'home'), ('Back', 'Back to previous …"
      ]
     },
     "metadata": {},
     "output_type": "display_data"
    },
    {
     "data": {
      "text/plain": [
       "[<matplotlib.lines.Line2D at 0x7f4592da0290>]"
      ]
     },
     "execution_count": 10,
     "metadata": {},
     "output_type": "execute_result"
    }
   ],
   "source": [
    "# Experimenting: 2D histogram \n",
    "fig = plot2dhistcontours(df_SF,\n",
    "                         col_x=\"v_gas - v_* (component 2)\",\n",
    "                         col_y=\"sigma_gas - sigma_* (component 2)\",\n",
    "                         col_z=\"count\", log_z=True,\n",
    "                         xmin=-300, xmax=300, \n",
    "                         ymin=-300, ymax=300, \n",
    "                         nbins=100)\n",
    "ax = fig.get_axes()[0]\n",
    "ax.grid()\n",
    "ax.set_xlabel(ax.get_xlabel() + \" (component 2)\")\n",
    "ax.set_ylabel(ax.get_ylabel() + \" (component 2)\")\n",
    "ax.plot([-300, 300], [-300, 300], color=\"k\", lw=2, ls=\"--\")"
   ]
  },
  {
   "cell_type": "markdown",
   "metadata": {},
   "source": [
    "## BPT diagrams\n",
    "---"
   ]
  },
  {
   "cell_type": "code",
   "execution_count": 20,
   "metadata": {},
   "outputs": [
    {
     "data": {
      "application/vnd.jupyter.widget-view+json": {
       "model_id": "5988e477d15f4ea0abbfd25f7c0a33bb",
       "version_major": 2,
       "version_minor": 0
      },
      "text/plain": [
       "Canvas(toolbar=Toolbar(toolitems=[('Home', 'Reset original view', 'home', 'home'), ('Back', 'Back to previous …"
      ]
     },
     "metadata": {},
     "output_type": "display_data"
    },
    {
     "data": {
      "application/vnd.jupyter.widget-view+json": {
       "model_id": "ef8ba147780f4448b0e733024b490b65",
       "version_major": 2,
       "version_minor": 0
      },
      "text/plain": [
       "Canvas(toolbar=Toolbar(toolitems=[('Home', 'Reset original view', 'home', 'home'), ('Back', 'Back to previous …"
      ]
     },
     "metadata": {},
     "output_type": "display_data"
    },
    {
     "data": {
      "application/vnd.jupyter.widget-view+json": {
       "model_id": "25900eb8ac00452d8eb2d6bb2f2831ce",
       "version_major": 2,
       "version_minor": 0
      },
      "text/plain": [
       "Canvas(toolbar=Toolbar(toolitems=[('Home', 'Reset original view', 'home', 'home'), ('Back', 'Back to previous …"
      ]
     },
     "metadata": {},
     "output_type": "display_data"
    },
    {
     "data": {
      "application/vnd.jupyter.widget-view+json": {
       "model_id": "765172319c8f4aecb46ee0f2a4effd7c",
       "version_major": 2,
       "version_minor": 0
      },
      "text/plain": [
       "Canvas(toolbar=Toolbar(toolitems=[('Home', 'Reset original view', 'home', 'home'), ('Back', 'Back to previous …"
      ]
     },
     "metadata": {},
     "output_type": "display_data"
    },
    {
     "data": {
      "application/vnd.jupyter.widget-view+json": {
       "model_id": "f9d6cff94fc4471fa73e3c16f12dc551",
       "version_major": 2,
       "version_minor": 0
      },
      "text/plain": [
       "Canvas(toolbar=Toolbar(toolitems=[('Home', 'Reset original view', 'home', 'home'), ('Back', 'Back to previous …"
      ]
     },
     "metadata": {},
     "output_type": "display_data"
    },
    {
     "data": {
      "application/vnd.jupyter.widget-view+json": {
       "model_id": "1f8bb23f5ca843d0a682d6168e9ea7c6",
       "version_major": 2,
       "version_minor": 0
      },
      "text/plain": [
       "Canvas(toolbar=Toolbar(toolitems=[('Home', 'Reset original view', 'home', 'home'), ('Back', 'Back to previous …"
      ]
     },
     "metadata": {},
     "output_type": "display_data"
    }
   ],
   "source": [
    "col_z = \"log sigma_gas\"\n",
    "for nn in range(1, 4):\n",
    "    fig, axs, cax = plot_empty_BPT_diagram(colorbar=True, nrows=1, include_Law2021=True)\n",
    "\n",
    "    # Plot 2D histograms of the subset\n",
    "    plot2dhistcontours(df, col_x=\"log N2 (total)\", col_y=\"log O3 (total)\", col_z=f\"{col_z} (component {nn})\", log_z=False, vmin=np.log10(20), vmax=np.log10(150), cmap=\"Spectral_r\", ax=axs[0], nbins=100, contours=True, colors=\"white\", plot_colorbar=False)\n",
    "    plot2dhistcontours(df, col_x=\"log S2 (total)\", col_y=\"log O3 (total)\", col_z=f\"{col_z} (component {nn})\", log_z=False, vmin=np.log10(20), vmax=np.log10(150), cmap=\"Spectral_r\", ax=axs[1], nbins=100, contours=True, colors=\"white\", plot_colorbar=False)\n",
    "    plot2dhistcontours(df, col_x=\"log O1 (total)\", col_y=\"log O3 (total)\", col_z=f\"{col_z} (component {nn})\", log_z=False, vmin=np.log10(20), vmax=np.log10(150), cmap=\"Spectral_r\", ax=axs[2], nbins=100, contours=True, colors=\"white\", cax=cax, plot_colorbar=True)\n",
    "\n",
    "    # Decorations\n",
    "    [ax.set_ylabel(\"\") for ax in axs[1:]]\n",
    "\n",
    "    # Grid on\n",
    "    [ax.grid() for ax in axs]\n",
    "\n",
    "    # Save\n",
    "    if savefigs:\n",
    "        fname = os.path.join(fig_path, f\"BPT_SAMI_{fname_fn(col_z)}_component{nn}.pdf\")\n",
    "        fig.savefig(fname, bbox_inches=\"tight\", format=\"pdf\")\n",
    "        print(f\"File saved at: {fname}\")\n",
    "\n",
    "col_z = \"sigma_gas - sigma_*\"\n",
    "for nn in range(1, 4):\n",
    "    fig, axs, cax = plot_empty_BPT_diagram(colorbar=True, nrows=1, include_Law2021=True)\n",
    "\n",
    "    # Plot 2D histograms of the subset\n",
    "    plot2dhistcontours(df, col_x=\"log N2 (total)\", col_y=\"log O3 (total)\", col_z=f\"{col_z} (component {nn})\", log_z=False, vmin=-200, vmax=+200, ax=axs[0], nbins=100, contours=True, colors=\"white\", plot_colorbar=False)\n",
    "    plot2dhistcontours(df, col_x=\"log S2 (total)\", col_y=\"log O3 (total)\", col_z=f\"{col_z} (component {nn})\", log_z=False, vmin=-200, vmax=+200, ax=axs[1], nbins=100, contours=True, colors=\"white\", plot_colorbar=False)\n",
    "    plot2dhistcontours(df, col_x=\"log O1 (total)\", col_y=\"log O3 (total)\", col_z=f\"{col_z} (component {nn})\", log_z=False, vmin=-200, vmax=+200, ax=axs[2], nbins=100, contours=True, colors=\"white\", cax=cax, plot_colorbar=True)\n",
    "\n",
    "    # Decorations\n",
    "    [ax.set_ylabel(\"\") for ax in axs[1:]]\n",
    "\n",
    "    # Grid on\n",
    "    [ax.grid() for ax in axs]\n",
    "\n",
    "    # Save\n",
    "    if savefigs:\n",
    "        fname = os.path.join(fig_path, f\"BPT_SAMI_{fname_fn(col_z)}_component{nn}.pdf\")\n",
    "        fig.savefig(fname, bbox_inches=\"tight\", format=\"pdf\")\n",
    "        print(f\"File saved at: {fname}\")\n",
    "\n"
   ]
  },
  {
   "cell_type": "markdown",
   "metadata": {},
   "source": [
    "## WHAV* diagram\n",
    "---"
   ]
  },
  {
   "cell_type": "code",
   "execution_count": 15,
   "metadata": {},
   "outputs": [
    {
     "data": {
      "application/vnd.jupyter.widget-view+json": {
       "model_id": "4877b0cbc0684e4e9b9afdbfb2e70e7a",
       "version_major": 2,
       "version_minor": 0
      },
      "text/plain": [
       "Canvas(toolbar=Toolbar(toolitems=[('Home', 'Reset original view', 'home', 'home'), ('Back', 'Back to previous …"
      ]
     },
     "metadata": {},
     "output_type": "display_data"
    },
    {
     "data": {
      "application/vnd.jupyter.widget-view+json": {
       "model_id": "a9fd09d2aa964ac4bcdc83d33da1a7e0",
       "version_major": 2,
       "version_minor": 0
      },
      "text/plain": [
       "Canvas(toolbar=Toolbar(toolitems=[('Home', 'Reset original view', 'home', 'home'), ('Back', 'Back to previous …"
      ]
     },
     "metadata": {},
     "output_type": "display_data"
    },
    {
     "data": {
      "application/vnd.jupyter.widget-view+json": {
       "model_id": "5abc18709e374912a7fab046ac407305",
       "version_major": 2,
       "version_minor": 0
      },
      "text/plain": [
       "Canvas(toolbar=Toolbar(toolitems=[('Home', 'Reset original view', 'home', 'home'), ('Back', 'Back to previous …"
      ]
     },
     "metadata": {},
     "output_type": "display_data"
    },
    {
     "data": {
      "application/vnd.jupyter.widget-view+json": {
       "model_id": "14ba40954cc5425d945c23806053a080",
       "version_major": 2,
       "version_minor": 0
      },
      "text/plain": [
       "Canvas(toolbar=Toolbar(toolitems=[('Home', 'Reset original view', 'home', 'home'), ('Back', 'Back to previous …"
      ]
     },
     "metadata": {},
     "output_type": "display_data"
    }
   ],
   "source": [
    "col_z_list = [\"count\", \"BPT (numeric) (total)\", \"v_grad\", \"r/R_e\"]\n",
    "for col_z in col_z_list:\n",
    "    fig, axs = plt.subplots(nrows=1, ncols=3, figsize=(5 * 3, 5))\n",
    "    fig.subplots_adjust(wspace=0)\n",
    "    bbox = axs[-1].get_position()\n",
    "    cax = fig.add_axes([bbox.x0 + bbox.width, bbox.y0, bbox.width * 0.1, bbox.height])\n",
    "\n",
    "    for nn in range(1, 4):\n",
    "        plot2dhistcontours(df, col_x=f\"sigma_gas - sigma_* (component {nn})\",\n",
    "                           col_y=f\"log HALPHA EW (component {nn})\",\n",
    "                           col_z=f\"{col_z} (component {nn})\" if f\"{col_z} (component {nn})\" in df else col_z, \n",
    "                           log_z=True if col_z == \"count\" else False,\n",
    "                           alpha=1.0, ax=axs[nn - 1], cax=cax, nbins=100,\n",
    "                           linewidths=0.5,\n",
    "                           contours=True, hist=True, colors=\"white\",\n",
    "                           vmin=1 if col_z == \"count\" else None, \n",
    "                           vmax=1e3 if col_z == \"count\" else None,\n",
    "                           plot_colorbar=True if nn == 3 - 1 else False)\n",
    "        # Decorations\n",
    "        axs[nn - 1].grid()\n",
    "        axs[nn - 1].set_ylabel(\"\") if nn > 0 else None\n",
    "        axs[nn - 1].set_yticklabels([]) if nn > 0 else None\n",
    "        axs[nn - 1].text(s=f\"Component {nn}\", x=0.05, y=0.95, transform=axs[nn - 1].transAxes, verticalalignment=\"top\")\n",
    "\n",
    "    # Save\n",
    "    if savefigs:\n",
    "        fname = os.path.join(fig_path, f\"WHAV_nostar_SAMI_{fname_fn(col_z)}.pdf\")\n",
    "        fig.savefig(fname, bbox_inches=\"tight\", format=\"pdf\")\n",
    "        print(f\"File saved at: {fname}\")        \n",
    "        "
   ]
  },
  {
   "cell_type": "code",
   "execution_count": null,
   "metadata": {},
   "outputs": [],
   "source": []
  }
 ],
 "metadata": {
  "kernelspec": {
   "display_name": "Python 3",
   "language": "python",
   "name": "python3"
  },
  "language_info": {
   "codemirror_mode": {
    "name": "ipython",
    "version": 3
   },
   "file_extension": ".py",
   "mimetype": "text/x-python",
   "name": "python",
   "nbconvert_exporter": "python",
   "pygments_lexer": "ipython3",
   "version": "3.7.4"
  }
 },
 "nbformat": 4,
 "nbformat_minor": 2
}
