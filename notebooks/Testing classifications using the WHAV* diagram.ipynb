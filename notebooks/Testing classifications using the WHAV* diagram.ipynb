{
 "cells": [
  {
   "cell_type": "markdown",
   "metadata": {},
   "source": [
    "# Using the method developed in the other notebook \"*Classifying sources with the WHAV\\* diagram*\" can we successfully classify spaxels in SAMI galaxies? \n",
    "---"
   ]
  },
  {
   "cell_type": "code",
   "execution_count": 2,
   "metadata": {},
   "outputs": [],
   "source": [
    "%matplotlib widget"
   ]
  },
  {
   "cell_type": "code",
   "execution_count": 3,
   "metadata": {},
   "outputs": [],
   "source": [
    "# Imports\n",
    "import sys\n",
    "import os \n",
    "import numpy as np\n",
    "import pandas as pd\n",
    "from astropy.visualization import hist\n",
    "\n",
    "from spaxelsleuth.loaddata.lzifu import load_lzifu_galaxies\n",
    "from spaxelsleuth.loaddata.sami import load_sami_galaxies\n",
    "from spaxelsleuth.plotting.plottools import plot_empty_BPT_diagram\n",
    "from spaxelsleuth.plotting.plottools import vmin_fn, vmax_fn, label_fn, cmap_fn\n",
    "from spaxelsleuth.plotting.plottools import bpt_colours, bpt_labels, bpt_ticks\n",
    "from spaxelsleuth.plotting.plottools import morph_labels, morph_ticks\n",
    "from spaxelsleuth.plotting.plottools import ncomponents_labels, ncomponents_colours\n",
    "from spaxelsleuth.plotting.plottools import component_labels, component_colours\n",
    "from spaxelsleuth.plotting.plotgalaxies import plot2dhistcontours, plot2dscatter, plot2dcontours\n",
    "\n",
    "import matplotlib\n",
    "from matplotlib import rc, rcParams\n",
    "import matplotlib.pyplot as plt\n",
    "from matplotlib.backends.backend_pdf import PdfPages\n",
    "\n",
    "rc(\"text\", usetex=False)\n",
    "rc(\"font\",**{\"family\": \"serif\", \"size\": 14})\n",
    "rcParams[\"savefig.bbox\"] = \"tight\"\n",
    "rcParams[\"savefig.format\"] = \"pdf\"\n",
    "plt.ion()\n",
    "plt.close(\"all\")\n"
   ]
  },
  {
   "cell_type": "code",
   "execution_count": 6,
   "metadata": {},
   "outputs": [],
   "source": [
    "# Options\n",
    "fig_path = \"/priv/meggs3/u5708159/SAMI/figs/full_sample/\"\n",
    "savefigs = False\n",
    "bin_type = \"default\"    # Options: \"default\" or \"adaptive\" for Voronoi binning\n",
    "ncomponents = \"recom\"   # Options: \"1\" or \"recom\"\n",
    "eline_SNR_min = 3       # Minimum S/N of emission lines to accept\n",
    "plt.close(\"all\")\n"
   ]
  },
  {
   "cell_type": "code",
   "execution_count": 7,
   "metadata": {},
   "outputs": [
    {
     "name": "stderr",
     "output_type": "stream",
     "text": [
      "/pkg/linux/anaconda-20191122/anaconda3/lib/python3.7/site-packages/pandas/core/indexing.py:376: SettingWithCopyWarning: \n",
      "A value is trying to be set on a copy of a slice from a DataFrame.\n",
      "Try using .loc[row_indexer,col_indexer] = value instead\n",
      "\n",
      "See the caveats in the documentation: http://pandas.pydata.org/pandas-docs/stable/user_guide/indexing.html#returning-a-view-versus-a-copy\n",
      "  self.obj[key] = _infer_fill_value(value)\n",
      "/pkg/linux/anaconda-20191122/anaconda3/lib/python3.7/site-packages/pandas/core/indexing.py:494: SettingWithCopyWarning: \n",
      "A value is trying to be set on a copy of a slice from a DataFrame.\n",
      "Try using .loc[row_indexer,col_indexer] = value instead\n",
      "\n",
      "See the caveats in the documentation: http://pandas.pydata.org/pandas-docs/stable/user_guide/indexing.html#returning-a-view-versus-a-copy\n",
      "  self.obj[item] = s\n",
      "/pkg/linux/anaconda-20191122/anaconda3/lib/python3.7/site-packages/pandas/core/series.py:853: RuntimeWarning: invalid value encountered in log10\n",
      "  result = getattr(ufunc, method)(*inputs, **kwargs)\n",
      "/pkg/linux/anaconda-20191122/anaconda3/lib/python3.7/site-packages/pandas/core/series.py:853: RuntimeWarning: divide by zero encountered in log10\n",
      "  result = getattr(ufunc, method)(*inputs, **kwargs)\n"
     ]
    },
    {
     "name": "stdout",
     "output_type": "stream",
     "text": [
      "WARNING: in load_sami_galaxies: NOT correcting Halpha and HALPHA EW for extinction!\n"
     ]
    }
   ],
   "source": [
    "# Load the sample\n",
    "df = load_sami_galaxies(ncomponents=ncomponents,\n",
    "                        bin_type=bin_type,\n",
    "                        eline_SNR_min=eline_SNR_min, \n",
    "                        vgrad_cut=False,\n",
    "                        correct_extinction=False,\n",
    "                        sigma_gas_SNR_cut=True)"
   ]
  },
  {
   "cell_type": "code",
   "execution_count": 119,
   "metadata": {},
   "outputs": [
    {
     "name": "stdout",
     "output_type": "stream",
     "text": [
      "Loading LZIFU DataFrame for all galaxies in the LZIFU subsample...\n"
     ]
    },
    {
     "name": "stderr",
     "output_type": "stream",
     "text": [
      "/pkg/linux/anaconda-20191122/anaconda3/lib/python3.7/site-packages/pandas/core/series.py:853: RuntimeWarning: divide by zero encountered in log10\n",
      "  result = getattr(ufunc, method)(*inputs, **kwargs)\n",
      "/pkg/linux/anaconda-20191122/anaconda3/lib/python3.7/site-packages/pandas/core/indexing.py:376: SettingWithCopyWarning: \n",
      "A value is trying to be set on a copy of a slice from a DataFrame.\n",
      "Try using .loc[row_indexer,col_indexer] = value instead\n",
      "\n",
      "See the caveats in the documentation: http://pandas.pydata.org/pandas-docs/stable/user_guide/indexing.html#returning-a-view-versus-a-copy\n",
      "  self.obj[key] = _infer_fill_value(value)\n",
      "/pkg/linux/anaconda-20191122/anaconda3/lib/python3.7/site-packages/pandas/core/indexing.py:494: SettingWithCopyWarning: \n",
      "A value is trying to be set on a copy of a slice from a DataFrame.\n",
      "Try using .loc[row_indexer,col_indexer] = value instead\n",
      "\n",
      "See the caveats in the documentation: http://pandas.pydata.org/pandas-docs/stable/user_guide/indexing.html#returning-a-view-versus-a-copy\n",
      "  self.obj[item] = s\n",
      "/home/u5708159/python/Modules/spaxelsleuth/loaddata/linefns.py:78: RuntimeWarning: invalid value encountered in add\n",
      "  return -0.943 * ratio_y_vals**4 - 0.450 * ratio_y_vals**3 + 0.408 * ratio_y_vals**2 - 0.610 * ratio_y_vals - 0.025\n",
      "/pkg/linux/anaconda-20191122/anaconda3/lib/python3.7/site-packages/pandas/core/series.py:853: RuntimeWarning: invalid value encountered in log10\n",
      "  result = getattr(ufunc, method)(*inputs, **kwargs)\n"
     ]
    },
    {
     "name": "stdout",
     "output_type": "stream",
     "text": [
      "WARNING: in load_lzifu_galaxy: NOT correcting Halpha and HALPHA EW for extinction!\n"
     ]
    }
   ],
   "source": [
    "# Load the LZIFU galaxies\n",
    "df_lzifu = load_lzifu_galaxies(ncomponents=ncomponents,\n",
    "                              bin_type=bin_type,\n",
    "                              eline_SNR_min=5, \n",
    "                              vgrad_cut=False,\n",
    "                              correct_extinction=False,\n",
    "                              sigma_gas_SNR_cut=True)        \n"
   ]
  },
  {
   "cell_type": "markdown",
   "metadata": {},
   "source": [
    "## Classify spaxels\n",
    "--- "
   ]
  },
  {
   "cell_type": "code",
   "execution_count": 120,
   "metadata": {},
   "outputs": [],
   "source": [
    "################################################################################\n",
    "# Testing our classifiction system\n",
    "################################################################################\n",
    "df_lzifu[\"WHAV*\"] = \"Unknown\"  # Initialise everything to \"unknown\"\n",
    "\n",
    "#///////////////////////////////////////////////////////////////////////////////\n",
    "# Step 1: filter out evolved stars\n",
    "cond = df_lzifu[\"HALPHA EW (total)\"] <= 3\n",
    "df_lzifu.loc[cond, \"WHAV*\"] = \"HOLMES\"\n",
    "cond_remainder = df_lzifu[\"WHAV*\"] == \"Unknown\"\n",
    "\n",
    "#///////////////////////////////////////////////////////////////////////////////\n",
    "# Step 2: use the N2 ratio to divide into SF, mixed and AGN/evolved stars/shocks\n",
    "# Because we used the TOTAL N2 ratio in each spaxel to determine these boundaries, these categories are representative of the DOMINANT ionisation mechanism in each spaxel.\n",
    "cond_SF = cond_remainder & (df_lzifu[\"log N2 (total)\"] < -0.35)\n",
    "cond_Mixing = cond_remainder & (df_lzifu[\"log N2 (total)\"] >= -0.35) & (df_lzifu[\"log N2 (total)\"] < -0.15)\n",
    "cond_AGN = cond_remainder & (df_lzifu[\"log N2 (total)\"] >= -0.15)\n",
    "\n",
    "df_lzifu.loc[cond_SF, \"WHAV*\"] = \"SF\" \n",
    "df_lzifu.loc[cond_Mixing, \"WHAV*\"] = \"Mixing\"\n",
    "df_lzifu.loc[cond_AGN, \"WHAV*\"] = \"AGN/HOLMES/shocks\"\n",
    "\n",
    "#///////////////////////////////////////////////////////////////////////////////\n",
    "# For convenience: mark components as possible HOLMES \n",
    "# Question: how confident can we be that these are ALWAYS HOLMES? how common are components from e.g. LLAGN?\n",
    "for ii in range(3):\n",
    "    cond_possible_HOLMES = cond_AGN & (df_lzifu[f\"HALPHA EW (component {ii})\"] < 3) & (df_lzifu[f\"sigma_gas - sigma_* (component {ii})\"] < 0)\n",
    "    df_lzifu.loc[cond_possible_HOLMES, f\"Possible HOLMES (component {ii})\"] = True\n",
    "    df_lzifu.loc[~cond_possible_HOLMES, f\"Possible HOLMES (component {ii})\"] = False\n",
    "    \n",
    "#///////////////////////////////////////////////////////////////////////////////\n",
    "# For convenience: mark components as being kinematically disturbed (by 3sigma)\n",
    "for ii in range(3):\n",
    "    cond_kinematically_disturbed = df_lzifu[f\"sigma_gas - sigma_* (component {ii})\"] - 3 * df_lzifu[f\"sigma_gas - sigma_* error (component {ii})\"] > 0\n",
    "    df_lzifu.loc[cond_kinematically_disturbed, f\"Kinematically disturbed (component {ii})\"] = True\n",
    "    df_lzifu.loc[~cond_kinematically_disturbed, f\"Kinematically disturbed (component {ii})\"] = False\n",
    "    "
   ]
  },
  {
   "cell_type": "code",
   "execution_count": 121,
   "metadata": {},
   "outputs": [],
   "source": [
    "# Test \n",
    "for ii in range(3):\n",
    "    assert not df_lzifu.loc[np.isnan(df_lzifu[f\"sigma_gas - sigma_* (component {ii})\"]), f\"Kinematically disturbed (component {ii})\"].any(),\\\n",
    "        f\"There are rows where sigma_gas - sigma_* (component {ii}) == NaN but 'Kinematically disturbed (component {ii})' == True!\"\n",
    "\n",
    "for ii in range(3):\n",
    "    assert not df_lzifu.loc[np.isnan(df_lzifu[f\"log HALPHA EW (component {ii})\"]), f\"Possible HOLMES (component {ii})\"].any(),\\\n",
    "        f\"There are rows where log HALPHA EW (component {ii}) == NaN but 'Possible HOLMES (component {ii})' == True!\"\n",
    "    assert not df_lzifu.loc[np.isnan(df_lzifu[f\"sigma_gas - sigma_* (component {ii})\"]), f\"Possible HOLMES (component {ii})\"].any(),\\\n",
    "        f\"There are rows where sigma_gas - sigma_* (component {ii}) == NaN but 'Possible HOLMES (component {ii})' == True!\"\n",
    "    assert not df_lzifu.loc[df_lzifu[f\"log HALPHA EW (component {ii})\"] > 3, f\"Possible HOLMES (component {ii})\"].any(),\\\n",
    "        f\"There are rows where log HALPHA EW (component {ii}) > 3 but 'Possible HOLMES (component {ii})' == True!\"\n",
    "    \n",
    "    assert df_lzifu[df_lzifu[f\"Possible HOLMES (component {ii})\"] & df_lzifu[f\"Kinematically disturbed (component {ii})\"]].shape[0] == 0,\\\n",
    "        f\"There are rows where both 'Possible HOLMES (component {ii})' and 'Kinematically disturbed (component {ii})' are true!\""
   ]
  },
  {
   "cell_type": "code",
   "execution_count": 23,
   "metadata": {
    "scrolled": true
   },
   "outputs": [
    {
     "data": {
      "application/vnd.jupyter.widget-view+json": {
       "model_id": "2c3e0a8db54344819b542da1275c4864",
       "version_major": 2,
       "version_minor": 0
      },
      "text/plain": [
       "Canvas(toolbar=Toolbar(toolitems=[('Home', 'Reset original view', 'home', 'home'), ('Back', 'Back to previous …"
      ]
     },
     "metadata": {},
     "output_type": "display_data"
    },
    {
     "data": {
      "application/vnd.jupyter.widget-view+json": {
       "model_id": "2b5b43ae4bc447f5bf9aecdd77454cdb",
       "version_major": 2,
       "version_minor": 0
      },
      "text/plain": [
       "Canvas(toolbar=Toolbar(toolitems=[('Home', 'Reset original view', 'home', 'home'), ('Back', 'Back to previous …"
      ]
     },
     "metadata": {},
     "output_type": "display_data"
    },
    {
     "data": {
      "application/vnd.jupyter.widget-view+json": {
       "model_id": "4d494d1c5747414dae201847776571a9",
       "version_major": 2,
       "version_minor": 0
      },
      "text/plain": [
       "Canvas(toolbar=Toolbar(toolitems=[('Home', 'Reset original view', 'home', 'home'), ('Back', 'Back to previous …"
      ]
     },
     "metadata": {},
     "output_type": "display_data"
    }
   ],
   "source": [
    "################################################################################\n",
    "# CHECK: plot BPT, WHAN, WHAV* for each category\n",
    "################################################################################\n",
    "col_z = \"count\"\n",
    "\n",
    "#///////////////////////////////////////////////////////////////////////////////\n",
    "# BPT - based on TOTAL fluxes\n",
    "for cat in [\"SF\", \"Mixing\", \"AGN/HOLMES/shocks\"]:\n",
    "    df_cat = df_lzifu[df_lzifu[\"WHAV*\"] == cat]\n",
    "    if df_cat.shape[0] == 0:\n",
    "        continue\n",
    "    col_y = \"log O3 (total)\"\n",
    "    fig, axs, cax = plot_empty_BPT_diagram(colorbar=True, nrows=1, include_Law2021=True)\n",
    "    \n",
    "    # Plot 2D histograms of the subset\n",
    "    plot2dhistcontours(df_cat, col_x=\"log N2 (total)\", col_y=col_y, col_z=col_z, log_z=True if col_z == \"count\" else False, vmin=1, vmax=1e3, ax=axs[0], nbins=100, contours=True, colors=\"white\", plot_colorbar=False)\n",
    "    plot2dhistcontours(df_cat, col_x=\"log S2 (total)\", col_y=col_y, col_z=col_z, log_z=True if col_z == \"count\" else False, vmin=1, vmax=1e3, ax=axs[1], nbins=100, contours=True, colors=\"white\", plot_colorbar=False)\n",
    "    plot2dhistcontours(df_cat, col_x=\"log O1 (total)\", col_y=col_y, col_z=col_z, log_z=True if col_z == \"count\" else False, vmin=1, vmax=1e3, ax=axs[2], nbins=100, contours=True, colors=\"white\", cax=cax, plot_colorbar=True)\n",
    "\n",
    "    # Decorations\n",
    "    axs[1].set_title(cat)\n",
    "    [ax.set_ylabel(\"\") for ax in axs[1:]]\n",
    "\n",
    "    # Grid on\n",
    "    [ax.grid() for ax in axs]"
   ]
  },
  {
   "cell_type": "code",
   "execution_count": 24,
   "metadata": {
    "collapsed": true
   },
   "outputs": [
    {
     "data": {
      "application/vnd.jupyter.widget-view+json": {
       "model_id": "3e52a2a8aa9d4323b04fdaf1ffd7ec42",
       "version_major": 2,
       "version_minor": 0
      },
      "text/plain": [
       "Canvas(toolbar=Toolbar(toolitems=[('Home', 'Reset original view', 'home', 'home'), ('Back', 'Back to previous …"
      ]
     },
     "metadata": {},
     "output_type": "display_data"
    },
    {
     "data": {
      "application/vnd.jupyter.widget-view+json": {
       "model_id": "6283d7d12abf4eb1a9ec0f745b3c2ebd",
       "version_major": 2,
       "version_minor": 0
      },
      "text/plain": [
       "Canvas(toolbar=Toolbar(toolitems=[('Home', 'Reset original view', 'home', 'home'), ('Back', 'Back to previous …"
      ]
     },
     "metadata": {},
     "output_type": "display_data"
    },
    {
     "data": {
      "application/vnd.jupyter.widget-view+json": {
       "model_id": "4f02639959a24b009aaeb652bdfdd23a",
       "version_major": 2,
       "version_minor": 0
      },
      "text/plain": [
       "Canvas(toolbar=Toolbar(toolitems=[('Home', 'Reset original view', 'home', 'home'), ('Back', 'Back to previous …"
      ]
     },
     "metadata": {},
     "output_type": "display_data"
    },
    {
     "data": {
      "application/vnd.jupyter.widget-view+json": {
       "model_id": "83ad6f6205464f8f9a8cda78422a9886",
       "version_major": 2,
       "version_minor": 0
      },
      "text/plain": [
       "Canvas(toolbar=Toolbar(toolitems=[('Home', 'Reset original view', 'home', 'home'), ('Back', 'Back to previous …"
      ]
     },
     "metadata": {},
     "output_type": "display_data"
    }
   ],
   "source": [
    "#///////////////////////////////////////////////////////////////////////////////\n",
    "# WHAN - each component shown separately\n",
    "col_x = \"log N2\"\n",
    "col_y = \"log HALPHA EW\"\n",
    "col_z = \"count\"\n",
    "\n",
    "for cat in [\"HOLMES\", \"SF\", \"Mixing\", \"AGN/HOLMES/shocks\"]:\n",
    "    df_cat = df_lzifu[df_lzifu[\"WHAV*\"] == cat]\n",
    "    if df_cat.shape[0] == 0:\n",
    "        continue\n",
    "        \n",
    "    fig, axs = plt.subplots(nrows=1, ncols=3, figsize=(15, 4))\n",
    "    fig.subplots_adjust(wspace=0)\n",
    "    bbox = axs[-1].get_position()\n",
    "    fig.add_axes([bbox.x0 + bbox.width, bbox.y0, bbox.width * 0.1, bbox.height])\n",
    "    \n",
    "    for ii in range(3):\n",
    "        if all(df_cat[f\"{col_x} (component {ii})\"].isna()) or all(df_cat[f\"{col_y} (component {ii})\"].isna()):\n",
    "            continue\n",
    "        plot2dhistcontours(df_cat, \n",
    "                           col_x=f\"{col_x} (component {ii})\", \n",
    "                           col_y=f\"{col_y} (component {ii})\",\n",
    "                           col_z=col_z, log_z=True if col_z == \"count\" else False, \n",
    "                           ax=axs[ii], nbins=100, vmin=1, vmax=1e3, contours=True, colors=\"white\", \n",
    "                           plot_colorbar=True if ii == 2 else False)\n",
    "\n",
    "    # Decorations\n",
    "    axs[1].set_title(cat)\n",
    "    [ax.set_ylabel(\"\") for ax in axs[1:]]\n",
    "    [ax.set_yticklabels([]) for ax in axs[1:]]\n",
    "\n",
    "    # Grid on\n",
    "    [ax.grid() for ax in axs]"
   ]
  },
  {
   "cell_type": "code",
   "execution_count": 25,
   "metadata": {
    "collapsed": true
   },
   "outputs": [
    {
     "name": "stderr",
     "output_type": "stream",
     "text": [
      "/pkg/linux/anaconda-20191122/anaconda3/lib/python3.7/site-packages/ipykernel_launcher.py:12: RuntimeWarning: More than 20 figures have been opened. Figures created through the pyplot interface (`matplotlib.pyplot.figure`) are retained until explicitly closed and may consume too much memory. (To control this warning, see the rcParam `figure.max_open_warning`).\n",
      "  if sys.path[0] == '':\n"
     ]
    },
    {
     "data": {
      "application/vnd.jupyter.widget-view+json": {
       "model_id": "adc7874000a24de3a5c97b81e4d53819",
       "version_major": 2,
       "version_minor": 0
      },
      "text/plain": [
       "Canvas(toolbar=Toolbar(toolitems=[('Home', 'Reset original view', 'home', 'home'), ('Back', 'Back to previous …"
      ]
     },
     "metadata": {},
     "output_type": "display_data"
    },
    {
     "data": {
      "application/vnd.jupyter.widget-view+json": {
       "model_id": "29898e34615e4185af28ebd362720980",
       "version_major": 2,
       "version_minor": 0
      },
      "text/plain": [
       "Canvas(toolbar=Toolbar(toolitems=[('Home', 'Reset original view', 'home', 'home'), ('Back', 'Back to previous …"
      ]
     },
     "metadata": {},
     "output_type": "display_data"
    },
    {
     "data": {
      "application/vnd.jupyter.widget-view+json": {
       "model_id": "f5c43b9190a142b081e3184e4b492b7e",
       "version_major": 2,
       "version_minor": 0
      },
      "text/plain": [
       "Canvas(toolbar=Toolbar(toolitems=[('Home', 'Reset original view', 'home', 'home'), ('Back', 'Back to previous …"
      ]
     },
     "metadata": {},
     "output_type": "display_data"
    },
    {
     "data": {
      "application/vnd.jupyter.widget-view+json": {
       "model_id": "367feb8ae7444f209bb84bbd648623a6",
       "version_major": 2,
       "version_minor": 0
      },
      "text/plain": [
       "Canvas(toolbar=Toolbar(toolitems=[('Home', 'Reset original view', 'home', 'home'), ('Back', 'Back to previous …"
      ]
     },
     "metadata": {},
     "output_type": "display_data"
    }
   ],
   "source": [
    "#///////////////////////////////////////////////////////////////////////////////\n",
    "# WHAV* - each component shown separately\n",
    "col_x = \"sigma_gas - sigma_*\"\n",
    "col_y = \"log HALPHA EW\"\n",
    "col_z = \"count\"\n",
    "\n",
    "for cat in [\"HOLMES\", \"SF\", \"Mixing\", \"AGN/HOLMES/shocks\"]:\n",
    "    df_cat = df_lzifu[df_lzifu[\"WHAV*\"] == cat]\n",
    "    if df_cat.shape[0] == 0:\n",
    "        continue\n",
    "        \n",
    "    fig, axs = plt.subplots(nrows=1, ncols=3, figsize=(15, 4))\n",
    "    fig.subplots_adjust(wspace=0)\n",
    "    bbox = axs[-1].get_position()\n",
    "    fig.add_axes([bbox.x0 + bbox.width, bbox.y0, bbox.width * 0.1, bbox.height])\n",
    "    \n",
    "    for ii in range(3):\n",
    "        if all(df_cat[f\"{col_x} (component {ii})\"].isna()) or all(df_cat[f\"{col_y} (component {ii})\"].isna()):\n",
    "            continue\n",
    "        plot2dhistcontours(df_cat, \n",
    "                           col_x=f\"{col_x} (component {ii})\", \n",
    "                           col_y=f\"{col_y} (component {ii})\",\n",
    "                           col_z=col_z, log_z=True if col_z == \"count\" else False, \n",
    "                           ax=axs[ii], nbins=100, vmin=1, vmax=1e3, contours=True, colors=\"white\", \n",
    "                           plot_colorbar=True if ii == 2 else False)\n",
    "\n",
    "    # Decorations\n",
    "    axs[1].set_title(cat)\n",
    "    [ax.set_ylabel(\"\") for ax in axs[1:]]\n",
    "    [ax.set_yticklabels([]) for ax in axs[1:]]\n",
    "\n",
    "    # Grid on\n",
    "    [ax.grid() for ax in axs]"
   ]
  },
  {
   "cell_type": "code",
   "execution_count": 125,
   "metadata": {
    "scrolled": true
   },
   "outputs": [],
   "source": [
    "# ///////////////////////////////////////////////////////////////////////////////\n",
    "# SF-like spaxels\n",
    "#///////////////////////////////////////////////////////////////////////////////\n",
    "# Wind: number of components > 1, AND EITHER delta sigma of 1 or 2 is > 0\n",
    "# Note: may want to also add if ncomponents == 1 but delta_sigma >> 0. \n",
    "# How many SF (either classified via BPT or N2) spaxels are there like this, though? Just checked - only ~0.1% have dsigma > 0 by 3sigma, so probably don't worry \n",
    "cond_SF_no_wind = cond_SF & ~(df_lzifu[\"Kinematically disturbed (component 0)\"] | df_lzifu[\"Kinematically disturbed (component 1)\"] | df_lzifu[\"Kinematically disturbed (component 2)\"])\n",
    "df_lzifu.loc[cond_SF_no_wind, \"WHAV*\"] = \"SF + no wind\"\n",
    "\n",
    "cond_SF_wind = cond_SF & (df_lzifu[\"Kinematically disturbed (component 0)\"] | df_lzifu[\"Kinematically disturbed (component 1)\"] | df_lzifu[\"Kinematically disturbed (component 2)\"])\n",
    "df_lzifu.loc[cond_SF_wind, \"WHAV*\"] = \"SF + wind\"\n",
    "\n",
    "# SF + HOLMES \n",
    "cond_SF_no_wind_HOLMES = cond_SF_no_wind & (df_lzifu[\"Number of components\"] >= 2) & (df_lzifu[\"Possible HOLMES (component 0)\"] | df_lzifu[\"Possible HOLMES (component 1)\"] | df_lzifu[\"Possible HOLMES (component 2)\"])\n",
    "df_lzifu.loc[cond_SF_no_wind_HOLMES, \"WHAV*\"] = \"SF + HOLMES + no wind\"\n",
    "\n",
    "cond_SF_wind_HOLMES = cond_SF_wind & (df_lzifu[\"Number of components\"] >= 2) & (df_lzifu[\"Possible HOLMES (component 0)\"] | df_lzifu[\"Possible HOLMES (component 1)\"] | df_lzifu[\"Possible HOLMES (component 2)\"])\n",
    "df_lzifu.loc[cond_SF_wind_HOLMES, \"WHAV*\"] = \"SF + HOLMES + wind\"\n",
    "\n",
    "\n",
    "# Note: what to do about low-metallicity AGN? e.g., ones that are classified as ambiguous that have log N2 < -0.35 so get lumped in with SF?\n",
    "\n",
    "#///////////////////////////////////////////////////////////////////////////////\n",
    "# Mixing-like spaxels\n",
    "#///////////////////////////////////////////////////////////////////////////////\n",
    "# wind/no wind\n",
    "# Note: <1% of composite/mixing-like spaxels have ncomponents == 1 but delta_sigma >> 0 by 3sigma\n",
    "cond_Mixing_no_wind = cond_Mixing & ~(df_lzifu[\"Kinematically disturbed (component 0)\"] | df_lzifu[\"Kinematically disturbed (component 1)\"] | df_lzifu[\"Kinematically disturbed (component 2)\"])\n",
    "df_lzifu.loc[cond_Mixing_no_wind, \"WHAV*\"] = \"Mixing + no wind\"\n",
    "\n",
    "cond_Mixing_wind = cond_Mixing & (df_lzifu[\"Kinematically disturbed (component 0)\"] | df_lzifu[\"Kinematically disturbed (component 1)\"] | df_lzifu[\"Kinematically disturbed (component 2)\"])\n",
    "df_lzifu.loc[cond_Mixing_wind, \"WHAV*\"] = \"Mixing + wind\"\n",
    "\n",
    "# Mixing + HOLMES \n",
    "cond_Mixing_no_wind_HOLMES = cond_Mixing_no_wind & (df_lzifu[\"Number of components\"] >= 2) & (df_lzifu[\"Possible HOLMES (component 0)\"] | df_lzifu[\"Possible HOLMES (component 1)\"] | df_lzifu[\"Possible HOLMES (component 2)\"])\n",
    "df_lzifu.loc[cond_Mixing_no_wind_HOLMES, \"WHAV*\"] = \"Mixing + HOLMES + no wind\"\n",
    "\n",
    "# Mixing + HOLMES + wind\n",
    "cond_Mixing_wind_HOLMES = cond_Mixing_wind & (df_lzifu[\"Number of components\"] >= 2) & (df_lzifu[\"Possible HOLMES (component 0)\"] | df_lzifu[\"Possible HOLMES (component 1)\"] | df_lzifu[\"Possible HOLMES (component 2)\"])\n",
    "df_lzifu.loc[cond_Mixing_wind_HOLMES, \"WHAV*\"] = \"Mixing + HOLMES + wind\"\n",
    "\n",
    "#///////////////////////////////////////////////////////////////////////////////\n",
    "# AGN-like spaxels\n",
    "#///////////////////////////////////////////////////////////////////////////////\n",
    "# If there is 1 component and its EW is > 0, then it's an AGN. Note that Seyfert-like components have a range of EWs, so we can't really split between LLAGN and Seyferts here - really need [OIII] for that.\n",
    "cond_AGN_no_wind = cond_AGN & (df_lzifu[\"Number of components\"] == 1) & (df_lzifu[\"HALPHA EW (component 0)\"] > 3) & ~df_lzifu[\"Kinematically disturbed (component 0)\"]\n",
    "df_lzifu.loc[cond_AGN_no_wind, \"WHAV*\"] = \"AGN only\"\n",
    "\n",
    "# AGN + wind\n",
    "cond_AGN_nowind = cond_AGN & ~(df_lzifu[\"Kinematically disturbed (component 0)\"] | df_lzifu[\"Kinematically disturbed (component 1)\"] | (df_lzifu[\"Kinematically disturbed (component 2)\"] ))\n",
    "df_lzifu.loc[cond_AGN_nowind, \"WHAV*\"] = \"AGN + no wind\"\n",
    "\n",
    "cond_AGN_wind = cond_AGN & (df_lzifu[\"Kinematically disturbed (component 0)\"] | df_lzifu[\"Kinematically disturbed (component 1)\"] | (df_lzifu[\"Kinematically disturbed (component 2)\"] ))\n",
    "df_lzifu.loc[cond_AGN_wind, \"WHAV*\"] = \"AGN + wind\"\n",
    "\n",
    "# If there are multiple components and at least one of them is in the HOLMES regime, then classify it as HOLMES + AGN. \n",
    "cond_AGN_nowind_HOLMES = cond_AGN_nowind & (df_lzifu[\"Number of components\"] >= 2) & (df_lzifu[\"Possible HOLMES (component 0)\"] | df_lzifu[\"Possible HOLMES (component 1)\"] | df_lzifu[\"Possible HOLMES (component 2)\"])\n",
    "df_lzifu.loc[cond_AGN_nowind_HOLMES, \"WHAV*\"] = \"AGN + HOLMES + no wind\"\n",
    "\n",
    "cond_AGN_wind_HOLMES = cond_AGN_wind & (df_lzifu[\"Number of components\"] >= 2) & (df_lzifu[\"Possible HOLMES (component 0)\"] | df_lzifu[\"Possible HOLMES (component 1)\"] | df_lzifu[\"Possible HOLMES (component 2)\"])\n",
    "df_lzifu.loc[cond_AGN_wind_HOLMES, \"WHAV*\"] = \"AGN + HOLMES + wind\"\n",
    "\n",
    "#///////////////////////////////////////////////////////////////////////////////\n",
    "# Numerical labels\n",
    "#///////////////////////////////////////////////////////////////////////////////\n",
    "ww = -1\n",
    "for whav in df_lzifu[\"WHAV*\"].unique():\n",
    "    df_lzifu.loc[df_lzifu[\"WHAV*\"] == whav, \"WHAV* (numeric)\"] = ww\n",
    "    ww += 1\n"
   ]
  },
  {
   "cell_type": "code",
   "execution_count": 126,
   "metadata": {},
   "outputs": [
    {
     "data": {
      "text/plain": [
       "0        -1.0\n",
       "1        -1.0\n",
       "2        -1.0\n",
       "3        -1.0\n",
       "4        -1.0\n",
       "         ... \n",
       "100509    3.0\n",
       "100512    3.0\n",
       "100559    3.0\n",
       "100562    3.0\n",
       "100708    3.0\n",
       "Name: WHAV* (numeric), Length: 503874, dtype: float64"
      ]
     },
     "execution_count": 126,
     "metadata": {},
     "output_type": "execute_result"
    }
   ],
   "source": [
    "df_lzifu[\"WHAV* (numeric)\"]\n"
   ]
  },
  {
   "cell_type": "code",
   "execution_count": 116,
   "metadata": {
    "scrolled": true
   },
   "outputs": [
    {
     "data": {
      "text/plain": [
       "array([nan])"
      ]
     },
     "execution_count": 116,
     "metadata": {},
     "output_type": "execute_result"
    }
   ],
   "source": [
    "df_lzifu.loc[df_lzifu[\"WHAV*\"] == \"Unknown\", \"log N2 (total)\"].unique()\n"
   ]
  },
  {
   "cell_type": "code",
   "execution_count": 129,
   "metadata": {
    "scrolled": false
   },
   "outputs": [
    {
     "data": {
      "application/vnd.jupyter.widget-view+json": {
       "model_id": "5383c76ab6bb4685b71f653717dc1f59",
       "version_major": 2,
       "version_minor": 0
      },
      "text/plain": [
       "Canvas(toolbar=Toolbar(toolitems=[('Home', 'Reset original view', 'home', 'home'), ('Back', 'Back to previous …"
      ]
     },
     "metadata": {},
     "output_type": "display_data"
    },
    {
     "ename": "ValueError",
     "evalue": "cannot reshape array of size 0 into shape (100,100)",
     "output_type": "error",
     "traceback": [
      "\u001b[0;31m---------------------------------------------------------------------------\u001b[0m",
      "\u001b[0;31mValueError\u001b[0m                                Traceback (most recent call last)",
      "\u001b[0;32m<ipython-input-129-271dd49a4775>\u001b[0m in \u001b[0;36m<module>\u001b[0;34m\u001b[0m\n\u001b[1;32m     14\u001b[0m \u001b[0;34m\u001b[0m\u001b[0m\n\u001b[1;32m     15\u001b[0m     \u001b[0;31m# Plot 2D histograms of the subset\u001b[0m\u001b[0;34m\u001b[0m\u001b[0;34m\u001b[0m\u001b[0;34m\u001b[0m\u001b[0m\n\u001b[0;32m---> 16\u001b[0;31m     \u001b[0mplot2dhistcontours\u001b[0m\u001b[0;34m(\u001b[0m\u001b[0mdf_cat\u001b[0m\u001b[0;34m,\u001b[0m \u001b[0mcol_x\u001b[0m\u001b[0;34m=\u001b[0m\u001b[0;34m\"log N2 (total)\"\u001b[0m\u001b[0;34m,\u001b[0m \u001b[0mcol_y\u001b[0m\u001b[0;34m=\u001b[0m\u001b[0mcol_y\u001b[0m\u001b[0;34m,\u001b[0m \u001b[0mcol_z\u001b[0m\u001b[0;34m=\u001b[0m\u001b[0mcol_z\u001b[0m\u001b[0;34m,\u001b[0m \u001b[0mlog_z\u001b[0m\u001b[0;34m=\u001b[0m\u001b[0;32mTrue\u001b[0m \u001b[0;32mif\u001b[0m \u001b[0mcol_z\u001b[0m \u001b[0;34m==\u001b[0m \u001b[0;34m\"count\"\u001b[0m \u001b[0;32melse\u001b[0m \u001b[0;32mFalse\u001b[0m\u001b[0;34m,\u001b[0m \u001b[0mvmin\u001b[0m\u001b[0;34m=\u001b[0m\u001b[0;36m1\u001b[0m\u001b[0;34m,\u001b[0m \u001b[0mvmax\u001b[0m\u001b[0;34m=\u001b[0m\u001b[0;36m1e3\u001b[0m\u001b[0;34m,\u001b[0m \u001b[0max\u001b[0m\u001b[0;34m=\u001b[0m\u001b[0maxs\u001b[0m\u001b[0;34m[\u001b[0m\u001b[0;36m0\u001b[0m\u001b[0;34m]\u001b[0m\u001b[0;34m,\u001b[0m \u001b[0mnbins\u001b[0m\u001b[0;34m=\u001b[0m\u001b[0;36m100\u001b[0m\u001b[0;34m,\u001b[0m \u001b[0mcontours\u001b[0m\u001b[0;34m=\u001b[0m\u001b[0;32mTrue\u001b[0m\u001b[0;34m,\u001b[0m \u001b[0mcolors\u001b[0m\u001b[0;34m=\u001b[0m\u001b[0;34m\"white\"\u001b[0m\u001b[0;34m,\u001b[0m \u001b[0mplot_colorbar\u001b[0m\u001b[0;34m=\u001b[0m\u001b[0;32mFalse\u001b[0m\u001b[0;34m)\u001b[0m\u001b[0;34m\u001b[0m\u001b[0;34m\u001b[0m\u001b[0m\n\u001b[0m\u001b[1;32m     17\u001b[0m     \u001b[0mplot2dhistcontours\u001b[0m\u001b[0;34m(\u001b[0m\u001b[0mdf_cat\u001b[0m\u001b[0;34m,\u001b[0m \u001b[0mcol_x\u001b[0m\u001b[0;34m=\u001b[0m\u001b[0;34m\"log S2 (total)\"\u001b[0m\u001b[0;34m,\u001b[0m \u001b[0mcol_y\u001b[0m\u001b[0;34m=\u001b[0m\u001b[0mcol_y\u001b[0m\u001b[0;34m,\u001b[0m \u001b[0mcol_z\u001b[0m\u001b[0;34m=\u001b[0m\u001b[0mcol_z\u001b[0m\u001b[0;34m,\u001b[0m \u001b[0mlog_z\u001b[0m\u001b[0;34m=\u001b[0m\u001b[0;32mTrue\u001b[0m \u001b[0;32mif\u001b[0m \u001b[0mcol_z\u001b[0m \u001b[0;34m==\u001b[0m \u001b[0;34m\"count\"\u001b[0m \u001b[0;32melse\u001b[0m \u001b[0;32mFalse\u001b[0m\u001b[0;34m,\u001b[0m \u001b[0mvmin\u001b[0m\u001b[0;34m=\u001b[0m\u001b[0;36m1\u001b[0m\u001b[0;34m,\u001b[0m \u001b[0mvmax\u001b[0m\u001b[0;34m=\u001b[0m\u001b[0;36m1e3\u001b[0m\u001b[0;34m,\u001b[0m \u001b[0max\u001b[0m\u001b[0;34m=\u001b[0m\u001b[0maxs\u001b[0m\u001b[0;34m[\u001b[0m\u001b[0;36m1\u001b[0m\u001b[0;34m]\u001b[0m\u001b[0;34m,\u001b[0m \u001b[0mnbins\u001b[0m\u001b[0;34m=\u001b[0m\u001b[0;36m100\u001b[0m\u001b[0;34m,\u001b[0m \u001b[0mcontours\u001b[0m\u001b[0;34m=\u001b[0m\u001b[0;32mTrue\u001b[0m\u001b[0;34m,\u001b[0m \u001b[0mcolors\u001b[0m\u001b[0;34m=\u001b[0m\u001b[0;34m\"white\"\u001b[0m\u001b[0;34m,\u001b[0m \u001b[0mplot_colorbar\u001b[0m\u001b[0;34m=\u001b[0m\u001b[0;32mFalse\u001b[0m\u001b[0;34m)\u001b[0m\u001b[0;34m\u001b[0m\u001b[0;34m\u001b[0m\u001b[0m\n\u001b[1;32m     18\u001b[0m     \u001b[0mplot2dhistcontours\u001b[0m\u001b[0;34m(\u001b[0m\u001b[0mdf_cat\u001b[0m\u001b[0;34m,\u001b[0m \u001b[0mcol_x\u001b[0m\u001b[0;34m=\u001b[0m\u001b[0;34m\"log O1 (total)\"\u001b[0m\u001b[0;34m,\u001b[0m \u001b[0mcol_y\u001b[0m\u001b[0;34m=\u001b[0m\u001b[0mcol_y\u001b[0m\u001b[0;34m,\u001b[0m \u001b[0mcol_z\u001b[0m\u001b[0;34m=\u001b[0m\u001b[0mcol_z\u001b[0m\u001b[0;34m,\u001b[0m \u001b[0mlog_z\u001b[0m\u001b[0;34m=\u001b[0m\u001b[0;32mTrue\u001b[0m \u001b[0;32mif\u001b[0m \u001b[0mcol_z\u001b[0m \u001b[0;34m==\u001b[0m \u001b[0;34m\"count\"\u001b[0m \u001b[0;32melse\u001b[0m \u001b[0;32mFalse\u001b[0m\u001b[0;34m,\u001b[0m \u001b[0mvmin\u001b[0m\u001b[0;34m=\u001b[0m\u001b[0;36m1\u001b[0m\u001b[0;34m,\u001b[0m \u001b[0mvmax\u001b[0m\u001b[0;34m=\u001b[0m\u001b[0;36m1e3\u001b[0m\u001b[0;34m,\u001b[0m \u001b[0max\u001b[0m\u001b[0;34m=\u001b[0m\u001b[0maxs\u001b[0m\u001b[0;34m[\u001b[0m\u001b[0;36m2\u001b[0m\u001b[0;34m]\u001b[0m\u001b[0;34m,\u001b[0m \u001b[0mnbins\u001b[0m\u001b[0;34m=\u001b[0m\u001b[0;36m100\u001b[0m\u001b[0;34m,\u001b[0m \u001b[0mcontours\u001b[0m\u001b[0;34m=\u001b[0m\u001b[0;32mTrue\u001b[0m\u001b[0;34m,\u001b[0m \u001b[0mcolors\u001b[0m\u001b[0;34m=\u001b[0m\u001b[0;34m\"white\"\u001b[0m\u001b[0;34m,\u001b[0m \u001b[0mcax\u001b[0m\u001b[0;34m=\u001b[0m\u001b[0mcax\u001b[0m\u001b[0;34m,\u001b[0m \u001b[0mplot_colorbar\u001b[0m\u001b[0;34m=\u001b[0m\u001b[0;32mTrue\u001b[0m\u001b[0;34m)\u001b[0m\u001b[0;34m\u001b[0m\u001b[0;34m\u001b[0m\u001b[0m\n",
      "\u001b[0;32m~/python/Modules/spaxelsleuth/plotting/plotgalaxies.py\u001b[0m in \u001b[0;36mplot2dhistcontours\u001b[0;34m(df, col_x, col_y, col_z, log_z, vmin, vmax, xmin, xmax, ymin, ymax, nbins, ax, axis_labels, plot_colorbar, cax, cax_orientation, alpha, hist, contours, levels, linewidths, colors, cmap, figsize)\u001b[0m\n\u001b[1;32m    219\u001b[0m     \u001b[0;32mif\u001b[0m \u001b[0mhist\u001b[0m\u001b[0;34m:\u001b[0m\u001b[0;34m\u001b[0m\u001b[0;34m\u001b[0m\u001b[0m\n\u001b[1;32m    220\u001b[0m         m = plot2dhist(df=df, col_x=col_x, col_y=col_y, col_z=col_z, log_z=log_z, nbins=nbins, ax=ax, alpha=alpha, cmap=cmap,\n\u001b[0;32m--> 221\u001b[0;31m                        vmin=vmin, vmax=vmax, xmin=xmin, xmax=xmax, ymin=ymin, ymax=ymax)\n\u001b[0m\u001b[1;32m    222\u001b[0m     \u001b[0;32mif\u001b[0m \u001b[0mcontours\u001b[0m\u001b[0;34m:\u001b[0m\u001b[0;34m\u001b[0m\u001b[0;34m\u001b[0m\u001b[0m\n\u001b[1;32m    223\u001b[0m         plot2dcontours(df=df, col_x=col_x, col_y=col_y, ax=ax, alpha=alpha, nbins=nbins, linewidths=linewidths, colors=colors,\n",
      "\u001b[0;32m~/python/Modules/spaxelsleuth/plotting/plotgalaxies.py\u001b[0m in \u001b[0;36mplot2dhist\u001b[0;34m(df, col_x, col_y, col_z, ax, log_z, vmin, vmax, xmin, xmax, ymin, ymax, nbins, alpha, cmap)\u001b[0m\n\u001b[1;32m     83\u001b[0m                     \u001b[0mymin\u001b[0m\u001b[0;34m=\u001b[0m\u001b[0mymin\u001b[0m\u001b[0;34m,\u001b[0m \u001b[0mymax\u001b[0m\u001b[0;34m=\u001b[0m\u001b[0mymax\u001b[0m\u001b[0;34m,\u001b[0m\u001b[0;34m\u001b[0m\u001b[0;34m\u001b[0m\u001b[0m\n\u001b[1;32m     84\u001b[0m                     \u001b[0mvmin\u001b[0m\u001b[0;34m=\u001b[0m\u001b[0mvmin\u001b[0m\u001b[0;34m,\u001b[0m \u001b[0mvmax\u001b[0m\u001b[0;34m=\u001b[0m\u001b[0mvmax\u001b[0m\u001b[0;34m,\u001b[0m\u001b[0;34m\u001b[0m\u001b[0;34m\u001b[0m\u001b[0m\n\u001b[0;32m---> 85\u001b[0;31m                     alpha=alpha)\n\u001b[0m\u001b[1;32m     86\u001b[0m         m = histhelper(df=df_classified, col_x=col_x, col_y=col_y, col_z=col_z,\n\u001b[1;32m     87\u001b[0m                     \u001b[0mlog_z\u001b[0m\u001b[0;34m=\u001b[0m\u001b[0mlog_z\u001b[0m\u001b[0;34m,\u001b[0m \u001b[0mnbins\u001b[0m\u001b[0;34m=\u001b[0m\u001b[0mnbins\u001b[0m\u001b[0;34m,\u001b[0m \u001b[0max\u001b[0m\u001b[0;34m=\u001b[0m\u001b[0max\u001b[0m\u001b[0;34m,\u001b[0m \u001b[0mcmap\u001b[0m\u001b[0;34m=\u001b[0m\u001b[0mcmap\u001b[0m\u001b[0;34m,\u001b[0m\u001b[0;34m\u001b[0m\u001b[0;34m\u001b[0m\u001b[0m\n",
      "\u001b[0;32m~/python/Modules/spaxelsleuth/plotting/plottools.py\u001b[0m in \u001b[0;36mhisthelper\u001b[0;34m(df, col_x, col_y, col_z, nbins, ax, cmap, xmin, xmax, ymin, ymax, vmin, vmax, log_z, alpha)\u001b[0m\n\u001b[1;32m    566\u001b[0m     \u001b[0;31m# Pull out arrays to plot\u001b[0m\u001b[0;34m\u001b[0m\u001b[0;34m\u001b[0m\u001b[0;34m\u001b[0m\u001b[0m\n\u001b[1;32m    567\u001b[0m     \u001b[0;31m# try:\u001b[0m\u001b[0;34m\u001b[0m\u001b[0;34m\u001b[0m\u001b[0;34m\u001b[0m\u001b[0m\n\u001b[0;32m--> 568\u001b[0;31m     \u001b[0mcount_map\u001b[0m \u001b[0;34m=\u001b[0m \u001b[0mdf_binned\u001b[0m\u001b[0;34m[\u001b[0m\u001b[0mcol_z\u001b[0m\u001b[0;34m]\u001b[0m\u001b[0;34m.\u001b[0m\u001b[0mvalues\u001b[0m\u001b[0;34m.\u001b[0m\u001b[0mreshape\u001b[0m\u001b[0;34m(\u001b[0m\u001b[0;34m(\u001b[0m\u001b[0mnbins\u001b[0m\u001b[0;34m,\u001b[0m \u001b[0mnbins\u001b[0m\u001b[0;34m)\u001b[0m\u001b[0;34m)\u001b[0m\u001b[0;34m\u001b[0m\u001b[0;34m\u001b[0m\u001b[0m\n\u001b[0m\u001b[1;32m    569\u001b[0m     \u001b[0;31m# except ValueError as e:\u001b[0m\u001b[0;34m\u001b[0m\u001b[0;34m\u001b[0m\u001b[0;34m\u001b[0m\u001b[0m\n\u001b[1;32m    570\u001b[0m         \u001b[0;31m# print(f\"ERROR: df_binned[col_z] cannot be reshaped as it has size {df_binned[col_z].shape[0]:d}\")\u001b[0m\u001b[0;34m\u001b[0m\u001b[0;34m\u001b[0m\u001b[0;34m\u001b[0m\u001b[0m\n",
      "\u001b[0;31mValueError\u001b[0m: cannot reshape array of size 0 into shape (100,100)"
     ]
    }
   ],
   "source": [
    "################################################################################\n",
    "# CHECK: plot BPT, WHAN, WHAV* for each category\n",
    "################################################################################\n",
    "col_z = \"WHAV* (numeric)\"\n",
    "\n",
    "#///////////////////////////////////////////////////////////////////////////////\n",
    "# BPT - based on TOTAL fluxes\n",
    "for cat in df_lzifu[\"WHAV*\"].unique()[1:]:\n",
    "    df_cat = df_lzifu[df_lzifu[\"WHAV*\"] == cat]\n",
    "    if df_cat.shape[0] == 0:\n",
    "        continue\n",
    "    col_y = \"log O3 (total)\"\n",
    "    fig, axs, cax = plot_empty_BPT_diagram(colorbar=True, nrows=1, include_Law2021=True)\n",
    "    \n",
    "    # Plot 2D histograms of the subset\n",
    "    plot2dhistcontours(df_cat, col_x=\"log N2 (total)\", col_y=col_y, col_z=col_z, log_z=True if col_z == \"count\" else False, vmin=1, vmax=1e3, ax=axs[0], nbins=100, contours=True, colors=\"white\", plot_colorbar=False)\n",
    "    plot2dhistcontours(df_cat, col_x=\"log S2 (total)\", col_y=col_y, col_z=col_z, log_z=True if col_z == \"count\" else False, vmin=1, vmax=1e3, ax=axs[1], nbins=100, contours=True, colors=\"white\", plot_colorbar=False)\n",
    "    plot2dhistcontours(df_cat, col_x=\"log O1 (total)\", col_y=col_y, col_z=col_z, log_z=True if col_z == \"count\" else False, vmin=1, vmax=1e3, ax=axs[2], nbins=100, contours=True, colors=\"white\", cax=cax, plot_colorbar=True)\n",
    "\n",
    "    # Decorations\n",
    "    axs[1].set_title(cat)\n",
    "    [ax.set_ylabel(\"\") for ax in axs[1:]]\n",
    "\n",
    "    # Grid on\n",
    "    [ax.grid() for ax in axs]"
   ]
  },
  {
   "cell_type": "code",
   "execution_count": 109,
   "metadata": {
    "scrolled": false
   },
   "outputs": [
    {
     "name": "stderr",
     "output_type": "stream",
     "text": [
      "/pkg/linux/anaconda-20191122/anaconda3/lib/python3.7/site-packages/ipykernel_launcher.py:12: RuntimeWarning: More than 20 figures have been opened. Figures created through the pyplot interface (`matplotlib.pyplot.figure`) are retained until explicitly closed and may consume too much memory. (To control this warning, see the rcParam `figure.max_open_warning`).\n",
      "  if sys.path[0] == '':\n"
     ]
    },
    {
     "data": {
      "application/vnd.jupyter.widget-view+json": {
       "model_id": "29df43478f5a45d2a69300080b51a3c0",
       "version_major": 2,
       "version_minor": 0
      },
      "text/plain": [
       "Canvas(toolbar=Toolbar(toolitems=[('Home', 'Reset original view', 'home', 'home'), ('Back', 'Back to previous …"
      ]
     },
     "metadata": {},
     "output_type": "display_data"
    },
    {
     "name": "stderr",
     "output_type": "stream",
     "text": [
      "/home/u5708159/python/Modules/spaxelsleuth/plotting/plotgalaxies.py:213: MatplotlibDeprecationWarning: Adding an axes using the same arguments as a previous axes currently reuses the earlier instance.  In a future version, a new instance will always be created and returned.  Meanwhile, this warning can be suppressed, and the future behavior ensured, by passing a unique label to each axes instance.\n",
      "  cax = fig.add_axes([bbox.x0 + bbox.width, bbox.y0, bbox.width * 0.1, bbox.height])\n"
     ]
    },
    {
     "data": {
      "application/vnd.jupyter.widget-view+json": {
       "model_id": "b213cf48eeb34e51b8f50e63ab388bdc",
       "version_major": 2,
       "version_minor": 0
      },
      "text/plain": [
       "Canvas(toolbar=Toolbar(toolitems=[('Home', 'Reset original view', 'home', 'home'), ('Back', 'Back to previous …"
      ]
     },
     "metadata": {},
     "output_type": "display_data"
    },
    {
     "data": {
      "application/vnd.jupyter.widget-view+json": {
       "model_id": "b708b29b7c27449a973ba8fff8414c1f",
       "version_major": 2,
       "version_minor": 0
      },
      "text/plain": [
       "Canvas(toolbar=Toolbar(toolitems=[('Home', 'Reset original view', 'home', 'home'), ('Back', 'Back to previous …"
      ]
     },
     "metadata": {},
     "output_type": "display_data"
    },
    {
     "data": {
      "application/vnd.jupyter.widget-view+json": {
       "model_id": "09513f2686c54b4dbf24f38f35d18b09",
       "version_major": 2,
       "version_minor": 0
      },
      "text/plain": [
       "Canvas(toolbar=Toolbar(toolitems=[('Home', 'Reset original view', 'home', 'home'), ('Back', 'Back to previous …"
      ]
     },
     "metadata": {},
     "output_type": "display_data"
    },
    {
     "data": {
      "application/vnd.jupyter.widget-view+json": {
       "model_id": "84c1b5d2796b4ecea649148301d3f74b",
       "version_major": 2,
       "version_minor": 0
      },
      "text/plain": [
       "Canvas(toolbar=Toolbar(toolitems=[('Home', 'Reset original view', 'home', 'home'), ('Back', 'Back to previous …"
      ]
     },
     "metadata": {},
     "output_type": "display_data"
    },
    {
     "data": {
      "application/vnd.jupyter.widget-view+json": {
       "model_id": "8e1e381e6ea74cd59f524310cd20ac66",
       "version_major": 2,
       "version_minor": 0
      },
      "text/plain": [
       "Canvas(toolbar=Toolbar(toolitems=[('Home', 'Reset original view', 'home', 'home'), ('Back', 'Back to previous …"
      ]
     },
     "metadata": {},
     "output_type": "display_data"
    },
    {
     "data": {
      "application/vnd.jupyter.widget-view+json": {
       "model_id": "a75a9fa633324b8d90060783869531f8",
       "version_major": 2,
       "version_minor": 0
      },
      "text/plain": [
       "Canvas(toolbar=Toolbar(toolitems=[('Home', 'Reset original view', 'home', 'home'), ('Back', 'Back to previous …"
      ]
     },
     "metadata": {},
     "output_type": "display_data"
    },
    {
     "data": {
      "application/vnd.jupyter.widget-view+json": {
       "model_id": "6031ad51e4f948cb8fa6d795c36dd358",
       "version_major": 2,
       "version_minor": 0
      },
      "text/plain": [
       "Canvas(toolbar=Toolbar(toolitems=[('Home', 'Reset original view', 'home', 'home'), ('Back', 'Back to previous …"
      ]
     },
     "metadata": {},
     "output_type": "display_data"
    },
    {
     "data": {
      "application/vnd.jupyter.widget-view+json": {
       "model_id": "8e686e2999b0437f99ed2089a7bb1386",
       "version_major": 2,
       "version_minor": 0
      },
      "text/plain": [
       "Canvas(toolbar=Toolbar(toolitems=[('Home', 'Reset original view', 'home', 'home'), ('Back', 'Back to previous …"
      ]
     },
     "metadata": {},
     "output_type": "display_data"
    }
   ],
   "source": [
    "#///////////////////////////////////////////////////////////////////////////////\n",
    "# WHAN - each component shown separately\n",
    "col_x = \"log N2\"\n",
    "col_y = \"log HALPHA EW\"\n",
    "col_z = \"count\"\n",
    "\n",
    "for cat in df_lzifu[\"WHAV* classification\"].unique()[1:]:\n",
    "    df_cat = df_lzifu[df_lzifu[\"WHAV* classification\"] == cat]\n",
    "    if df_cat.shape[0] == 0:\n",
    "        continue\n",
    "        \n",
    "    fig, axs = plt.subplots(nrows=1, ncols=3, figsize=(15, 4))\n",
    "    fig.subplots_adjust(wspace=0)\n",
    "    bbox = axs[-1].get_position()\n",
    "    fig.add_axes([bbox.x0 + bbox.width, bbox.y0, bbox.width * 0.1, bbox.height])\n",
    "    \n",
    "    for ii in range(3):\n",
    "        if all(df_cat[f\"{col_x} (component {ii})\"].isna()) or all(df_cat[f\"{col_y} (component {ii})\"].isna()):\n",
    "            continue\n",
    "        plot2dhistcontours(df_cat, \n",
    "                           col_x=f\"{col_x} (component {ii})\", \n",
    "                           col_y=f\"{col_y} (component {ii})\",\n",
    "                           col_z=col_z, log_z=True if col_z == \"count\" else False, \n",
    "                           ax=axs[ii], nbins=100, vmin=1, vmax=1e3, contours=True, colors=\"white\", \n",
    "                           plot_colorbar=True if ii == 2 else False)\n",
    "\n",
    "    # Decorations\n",
    "    axs[1].set_title(cat)\n",
    "    [ax.set_ylabel(\"\") for ax in axs[1:]]\n",
    "    [ax.set_yticklabels([]) for ax in axs[1:]]\n",
    "\n",
    "    # Grid on\n",
    "    [ax.grid() for ax in axs]"
   ]
  },
  {
   "cell_type": "code",
   "execution_count": 110,
   "metadata": {
    "scrolled": false
   },
   "outputs": [
    {
     "name": "stderr",
     "output_type": "stream",
     "text": [
      "/pkg/linux/anaconda-20191122/anaconda3/lib/python3.7/site-packages/ipykernel_launcher.py:12: RuntimeWarning: More than 20 figures have been opened. Figures created through the pyplot interface (`matplotlib.pyplot.figure`) are retained until explicitly closed and may consume too much memory. (To control this warning, see the rcParam `figure.max_open_warning`).\n",
      "  if sys.path[0] == '':\n"
     ]
    },
    {
     "data": {
      "application/vnd.jupyter.widget-view+json": {
       "model_id": "164d6f7a22764fa78ede852339e86f40",
       "version_major": 2,
       "version_minor": 0
      },
      "text/plain": [
       "Canvas(toolbar=Toolbar(toolitems=[('Home', 'Reset original view', 'home', 'home'), ('Back', 'Back to previous …"
      ]
     },
     "metadata": {},
     "output_type": "display_data"
    },
    {
     "data": {
      "application/vnd.jupyter.widget-view+json": {
       "model_id": "9433a49247e544539cb5045637532fff",
       "version_major": 2,
       "version_minor": 0
      },
      "text/plain": [
       "Canvas(toolbar=Toolbar(toolitems=[('Home', 'Reset original view', 'home', 'home'), ('Back', 'Back to previous …"
      ]
     },
     "metadata": {},
     "output_type": "display_data"
    },
    {
     "data": {
      "application/vnd.jupyter.widget-view+json": {
       "model_id": "97c9812d7aae4c0fb471b87c9a4917fc",
       "version_major": 2,
       "version_minor": 0
      },
      "text/plain": [
       "Canvas(toolbar=Toolbar(toolitems=[('Home', 'Reset original view', 'home', 'home'), ('Back', 'Back to previous …"
      ]
     },
     "metadata": {},
     "output_type": "display_data"
    },
    {
     "data": {
      "application/vnd.jupyter.widget-view+json": {
       "model_id": "9b558466f84c45a6aad1bdced7e02640",
       "version_major": 2,
       "version_minor": 0
      },
      "text/plain": [
       "Canvas(toolbar=Toolbar(toolitems=[('Home', 'Reset original view', 'home', 'home'), ('Back', 'Back to previous …"
      ]
     },
     "metadata": {},
     "output_type": "display_data"
    },
    {
     "data": {
      "application/vnd.jupyter.widget-view+json": {
       "model_id": "39d17bc0eccf4f8e8c2017a2cad5b939",
       "version_major": 2,
       "version_minor": 0
      },
      "text/plain": [
       "Canvas(toolbar=Toolbar(toolitems=[('Home', 'Reset original view', 'home', 'home'), ('Back', 'Back to previous …"
      ]
     },
     "metadata": {},
     "output_type": "display_data"
    },
    {
     "data": {
      "application/vnd.jupyter.widget-view+json": {
       "model_id": "9ae68882a20440d99301aa29b5577fbe",
       "version_major": 2,
       "version_minor": 0
      },
      "text/plain": [
       "Canvas(toolbar=Toolbar(toolitems=[('Home', 'Reset original view', 'home', 'home'), ('Back', 'Back to previous …"
      ]
     },
     "metadata": {},
     "output_type": "display_data"
    },
    {
     "data": {
      "application/vnd.jupyter.widget-view+json": {
       "model_id": "fdd9c14b12954384ba49e81500f7baa0",
       "version_major": 2,
       "version_minor": 0
      },
      "text/plain": [
       "Canvas(toolbar=Toolbar(toolitems=[('Home', 'Reset original view', 'home', 'home'), ('Back', 'Back to previous …"
      ]
     },
     "metadata": {},
     "output_type": "display_data"
    },
    {
     "data": {
      "application/vnd.jupyter.widget-view+json": {
       "model_id": "aed05393ed8247f192052f37a3fa79a1",
       "version_major": 2,
       "version_minor": 0
      },
      "text/plain": [
       "Canvas(toolbar=Toolbar(toolitems=[('Home', 'Reset original view', 'home', 'home'), ('Back', 'Back to previous …"
      ]
     },
     "metadata": {},
     "output_type": "display_data"
    },
    {
     "data": {
      "application/vnd.jupyter.widget-view+json": {
       "model_id": "eabfb46a83af4f7c8d0177611aa230ec",
       "version_major": 2,
       "version_minor": 0
      },
      "text/plain": [
       "Canvas(toolbar=Toolbar(toolitems=[('Home', 'Reset original view', 'home', 'home'), ('Back', 'Back to previous …"
      ]
     },
     "metadata": {},
     "output_type": "display_data"
    }
   ],
   "source": [
    "#///////////////////////////////////////////////////////////////////////////////\n",
    "# WHAV* - each component shown separately\n",
    "col_x = \"sigma_gas - sigma_*\"\n",
    "col_y = \"log HALPHA EW\"\n",
    "col_z = \"count\"\n",
    "\n",
    "for cat in df_lzifu[\"WHAV* classification\"].unique()[1:]:\n",
    "    df_cat = df_lzifu[df_lzifu[\"WHAV* classification\"] == cat]\n",
    "    if df_cat.shape[0] == 0:\n",
    "        continue\n",
    "        \n",
    "    fig, axs = plt.subplots(nrows=1, ncols=3, figsize=(15, 4))\n",
    "    fig.subplots_adjust(wspace=0)\n",
    "    bbox = axs[-1].get_position()\n",
    "    fig.add_axes([bbox.x0 + bbox.width, bbox.y0, bbox.width * 0.1, bbox.height])\n",
    "    \n",
    "    for ii in range(3):\n",
    "        if all(df_cat[f\"{col_x} (component {ii})\"].isna()) or all(df_cat[f\"{col_y} (component {ii})\"].isna()):\n",
    "            continue\n",
    "        plot2dhistcontours(df_cat, \n",
    "                           col_x=f\"{col_x} (component {ii})\", \n",
    "                           col_y=f\"{col_y} (component {ii})\",\n",
    "                           col_z=col_z, log_z=True if col_z == \"count\" else False, \n",
    "                           ax=axs[ii], nbins=100, vmin=1, vmax=1e3, contours=True, colors=\"white\", \n",
    "                           plot_colorbar=True if ii == 2 else False)\n",
    "\n",
    "    # Decorations\n",
    "    axs[1].set_title(cat)\n",
    "    [ax.set_ylabel(\"\") for ax in axs[1:]]\n",
    "    [ax.set_yticklabels([]) for ax in axs[1:]]\n",
    "\n",
    "    # Grid on\n",
    "    [ax.grid() for ax in axs]"
   ]
  },
  {
   "cell_type": "code",
   "execution_count": null,
   "metadata": {},
   "outputs": [],
   "source": []
  }
 ],
 "metadata": {
  "kernelspec": {
   "display_name": "Python 3",
   "language": "python",
   "name": "python3"
  },
  "language_info": {
   "codemirror_mode": {
    "name": "ipython",
    "version": 3
   },
   "file_extension": ".py",
   "mimetype": "text/x-python",
   "name": "python",
   "nbconvert_exporter": "python",
   "pygments_lexer": "ipython3",
   "version": "3.7.4"
  }
 },
 "nbformat": 4,
 "nbformat_minor": 2
}
