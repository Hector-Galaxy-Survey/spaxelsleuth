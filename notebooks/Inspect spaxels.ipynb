{
 "cells": [
  {
   "cell_type": "code",
   "execution_count": 1,
   "metadata": {},
   "outputs": [],
   "source": [
    "%matplotlib widget"
   ]
  },
  {
   "cell_type": "code",
   "execution_count": 2,
   "metadata": {},
   "outputs": [],
   "source": [
    "# Imports\n",
    "import sys\n",
    "import os \n",
    "import numpy as np\n",
    "import pandas as pd\n",
    "from astropy.visualization import hist\n",
    "from tqdm import tqdm\n",
    "from scipy import constants\n",
    "\n",
    "from spaxelsleuth.loaddata.lzifu import load_lzifu_galaxies\n",
    "from spaxelsleuth.loaddata.sami import load_sami_galaxies\n",
    "from spaxelsleuth.plotting.plottools import plot_empty_BPT_diagram\n",
    "from spaxelsleuth.plotting.plottools import vmin_fn, vmax_fn, label_fn, cmap_fn, fname_fn\n",
    "from spaxelsleuth.plotting.plottools import bpt_colours, bpt_labels, whav_colors, whav_labels\n",
    "from spaxelsleuth.plotting.plottools import morph_labels, morph_ticks\n",
    "from spaxelsleuth.plotting.plottools import ncomponents_labels, ncomponents_colours\n",
    "from spaxelsleuth.plotting.plottools import component_labels, component_colours\n",
    "from spaxelsleuth.plotting.plotgalaxies import plot2dhistcontours, plot2dscatter, plot2dcontours\n",
    "from spaxelsleuth.plotting.plot2dmap import plot2dmap\n",
    "from spaxelsleuth.plotting.sdssimg import plot_sdss_image\n",
    "\n",
    "import matplotlib\n",
    "from matplotlib import rc, rcParams\n",
    "import matplotlib.pyplot as plt\n",
    "from matplotlib.lines import Line2D\n",
    "\n",
    "from IPython.core.debugger import Tracer\n",
    "\n",
    "rc(\"text\", usetex=False)\n",
    "rc(\"font\",**{\"family\": \"serif\", \"size\": 14})\n",
    "rcParams[\"savefig.bbox\"] = \"tight\"\n",
    "rcParams[\"savefig.format\"] = \"pdf\"\n",
    "plt.ion()\n",
    "plt.close(\"all\")\n"
   ]
  },
  {
   "cell_type": "code",
   "execution_count": 3,
   "metadata": {},
   "outputs": [],
   "source": [
    "# Options\n",
    "fig_path = \"/priv/meggs3/u5708159/SAMI/figs/paper/\"\n",
    "savefigs = False\n",
    "bin_type = \"default\"    # Options: \"default\" or \"adaptive\" for Voronoi binning\n",
    "ncomponents = \"recom\"   # Options: \"1\" or \"recom\"\n",
    "eline_SNR_min = 5       # Minimum S/N of emission lines to accept\n",
    "plt.close(\"all\")\n"
   ]
  },
  {
   "cell_type": "code",
   "execution_count": 4,
   "metadata": {
    "scrolled": true
   },
   "outputs": [
    {
     "name": "stderr",
     "output_type": "stream",
     "text": [
      "/pkg/linux/anaconda-20191122/anaconda3/lib/python3.7/site-packages/pandas/core/indexing.py:376: SettingWithCopyWarning: \n",
      "A value is trying to be set on a copy of a slice from a DataFrame.\n",
      "Try using .loc[row_indexer,col_indexer] = value instead\n",
      "\n",
      "See the caveats in the documentation: http://pandas.pydata.org/pandas-docs/stable/user_guide/indexing.html#returning-a-view-versus-a-copy\n",
      "  self.obj[key] = _infer_fill_value(value)\n",
      "/pkg/linux/anaconda-20191122/anaconda3/lib/python3.7/site-packages/pandas/core/indexing.py:494: SettingWithCopyWarning: \n",
      "A value is trying to be set on a copy of a slice from a DataFrame.\n",
      "Try using .loc[row_indexer,col_indexer] = value instead\n",
      "\n",
      "See the caveats in the documentation: http://pandas.pydata.org/pandas-docs/stable/user_guide/indexing.html#returning-a-view-versus-a-copy\n",
      "  self.obj[item] = s\n",
      "/pkg/linux/anaconda-20191122/anaconda3/lib/python3.7/site-packages/pandas/core/series.py:853: RuntimeWarning: invalid value encountered in log10\n",
      "  result = getattr(ufunc, method)(*inputs, **kwargs)\n",
      "/pkg/linux/anaconda-20191122/anaconda3/lib/python3.7/site-packages/pandas/core/series.py:853: RuntimeWarning: divide by zero encountered in log10\n",
      "  result = getattr(ufunc, method)(*inputs, **kwargs)\n"
     ]
    },
    {
     "name": "stdout",
     "output_type": "stream",
     "text": [
      "WARNING: in load_sami_galaxies: NOT correcting Halpha and HALPHA EW for extinction!\n"
     ]
    }
   ],
   "source": [
    "# Load the sample\n",
    "df = load_sami_galaxies(ncomponents=ncomponents,\n",
    "                        bin_type=bin_type,\n",
    "                        eline_SNR_min=eline_SNR_min, \n",
    "                        vgrad_cut=False,\n",
    "                        line_amplitude_SNR_cut=True,\n",
    "                        correct_extinction=False,\n",
    "                        sigma_gas_SNR_cut=True)"
   ]
  },
  {
   "cell_type": "code",
   "execution_count": 100,
   "metadata": {},
   "outputs": [
    {
     "data": {
      "text/plain": [
       "array([    289176,     227223,     203148,      49730,      79601,\n",
       "           278554,     521898,     386402,     185532,     240449,\n",
       "           492414,     543498,     106343,      63777,     388603,\n",
       "           203998,     376165,     422761,     381502,     623712,\n",
       "           229335,     574572,     536363,     323874,      99513,\n",
       "           230829,     346440,     209664,     323224,      31725,\n",
       "            93354,     227673,     388424,     535429,     463660,\n",
       "            22932,     583637,      77445,      36923,     545986,\n",
       "            84106,     220217,     230774,     100192,      69462,\n",
       "           402988,     273309,     204836,     623144,     623366,\n",
       "           534654,      99795,     373248,     144846,     289085,\n",
       "           323577,      79689,     545925,     184230,     512524,\n",
       "           418725,      62145,     323504,     220372,      32249,\n",
       "           203037,     228104,     177297,      99326,     230560,\n",
       "           345646,     227290,      30914,     543499,     325441,\n",
       "           422355,     546073,     228570,     376001,     573915,\n",
       "           227289,     204832,     220275,      31353,     572402,\n",
       "           549070,      56181,     220394,     216184,     543895,\n",
       "           289200,     568817,     559490,     585561,     230683,\n",
       "           418831,     230797,     210070,     595060,     230796,\n",
       "            63780,     106549,     143735,      91691,      47254,\n",
       "           184234,      79706,     287827,      55143,     486957,\n",
       "            85205,     521823,      39057,     230556,     485924,\n",
       "           422291,     422389,     417486,     107454,     376802,\n",
       "           215289,     216401,      99428,     507721,     417440,\n",
       "           599689,     301519,     551368,     345848,      70808,\n",
       "            84209,      39671,     273845,     380578,      65408,\n",
       "           492486,     220112,     504879,      79810,     220437,\n",
       "           208652,     303099,     621988,     238453,      92773,\n",
       "           623017,     250183,     228708,     279878,     346837,\n",
       "           599834,     382505,      23265,      70114,     227266,\n",
       "           618929,       8488,     509075,     492411,     380734,\n",
       "            41059,      54270,      85667,     618151,     272820,\n",
       "           549296,      16022,     372123,     575339,      15481,\n",
       "           136605,      15165,      62239,     485921,      97915,\n",
       "           543489,      91545,     619258,     214211,     204877,\n",
       "           346887,     388513,     220218,     387553,      85559,\n",
       "           551619,     288803,     272190,      48470,      70022,\n",
       "           622350,     287692,     508593,     144497,      93807,\n",
       "           214250,     238458,     184042,      23082,     559250,\n",
       "           583723,       8865,     229164,     178580, 9011900002,\n",
       "       9011900006, 9011900054, 9011900073, 9011900074, 9011900087,\n",
       "       9011900156, 9011900161, 9011900168, 9011900189, 9011900196,\n",
       "       9011900216, 9011900233, 9011900241, 9011900309, 9011900312,\n",
       "       9011900325, 9011900340, 9011900430, 9011900438, 9011900476,\n",
       "       9011900519, 9011900711, 9011900874, 9016800001, 9016800002,\n",
       "       9016800010, 9016800037, 9016800038, 9016800041, 9016800063,\n",
       "       9016800065, 9016800089, 9016800113, 9016800197, 9016800303,\n",
       "       9016800356, 9016800425, 9016800559, 9239900011, 9239900012,\n",
       "       9239900019, 9239900020, 9239900054, 9239900056, 9239900067,\n",
       "       9239900106, 9239900119, 9239900122, 9239900142, 9239900147,\n",
       "       9239900202, 9239900205, 9239900242, 9239900256, 9239900277,\n",
       "       9239900540, 9239900579, 9239900970, 9239901179, 9388000001,\n",
       "       9388000007, 9388000032, 9388000035, 9388000055, 9388000195,\n",
       "       9388000416, 9388000571, 9388000597, 9388000949, 9008500020,\n",
       "       9008500022, 9008500042, 9008500059, 9008500064, 9008500068,\n",
       "       9008500077, 9008500103, 9008500118, 9008500120, 9008500138,\n",
       "       9008500139, 9008500141, 9008500145, 9008500161, 9008500205,\n",
       "       9008500225, 9008500303, 9008500347, 9008500365, 9008500516,\n",
       "       9008500688, 9008500748, 9008500829, 9008500907, 9008500968,\n",
       "       9091700152, 9091700733, 9044200047, 9044200061, 9044200148,\n",
       "       9044200446, 9403800028, 9403800077, 9403800086, 9403800099,\n",
       "       9403800135, 9403800318, 9403800507, 9403800798, 9403800833,\n",
       "       9403800968, 9403801062, 9403801368])"
      ]
     },
     "execution_count": 100,
     "metadata": {},
     "output_type": "execute_result"
    }
   ],
   "source": [
    "# How many galaxies are there with inclination < 30 degrees?\n"
   ]
  },
  {
   "cell_type": "code",
   "execution_count": 11,
   "metadata": {},
   "outputs": [],
   "source": [
    "df_cut = df.copy()\n",
    "\n",
    "for ii in [1, 2]:\n",
    "    df_cut[f\"Low flux component (component {ii})\"] = False\n",
    "    cond_low_flux = df_cut[f\"HALPHA A (component {ii})\"] < 0.05 * df_cut[\"HALPHA A (component 0)\"]\n",
    "    df_cut.loc[cond_low_flux, f\"Low flux component (component {ii})\"] = True\n",
    "\n",
    "    # NaN out rows \n",
    "    cols = [f\"HALPHA (component {ii})\", f\"HALPHA error (component {ii})\"]\n",
    "    cols += [f\"HALPHA EW (component {ii})\", f\"HALPHA EW error (component {ii})\"]\n",
    "    cols += [f\"v_gas (component {ii})\",\n",
    "             f\"sigma_gas (component {ii})\",\n",
    "             f\"v_gas error (component {ii})\",\n",
    "             f\"sigma_gas error (component {ii})\",]\n",
    "    df_cut.loc[df_cut[f\"Low flux component (component {ii})\"], cols] = np.nan\n"
   ]
  },
  {
   "cell_type": "code",
   "execution_count": 13,
   "metadata": {},
   "outputs": [
    {
     "data": {
      "application/vnd.jupyter.widget-view+json": {
       "model_id": "3b55a664985741fc9a6e84c509123eef",
       "version_major": 2,
       "version_minor": 0
      },
      "text/plain": [
       "Canvas(toolbar=Toolbar(toolitems=[('Home', 'Reset original view', 'home', 'home'), ('Back', 'Back to previous …"
      ]
     },
     "metadata": {},
     "output_type": "display_data"
    }
   ],
   "source": [
    "# Is the widespread 2nd component in star-forming galaxies due to inclination effects?\n",
    "# Bar plot showing fraction of multi-component spaxels as a function of inclination\n",
    "# Compute how many 1, 2, 3 component spaxels there are in bins of SFR surface density (and SFR)\n",
    "df_SF = df_cut.copy()\n",
    "df_SF = df_SF[df_SF[\"BPT (total)\"] == \"SF\"]\n",
    "\n",
    "for col_x in [\"Inclination i (degrees)\"]:\n",
    "    sfr_vals = np.linspace(vmin_fn(col_x), vmax_fn(col_x), 20)\n",
    "    counts_1 = np.zeros(len(sfr_vals) - 1)\n",
    "    counts_2 = np.zeros(len(sfr_vals) - 1)\n",
    "    counts_3 = np.zeros(len(sfr_vals) - 1)\n",
    "    counts_tot = np.zeros(len(sfr_vals) - 1)\n",
    "\n",
    "    for ll in range(len(sfr_vals) - 1):\n",
    "        cond = df_SF[f\"{col_x}\"] > sfr_vals[ll]\n",
    "        cond &= df_SF[f\"{col_x}\"] <= sfr_vals[ll + 1]\n",
    "        df_subset = df_SF[cond]\n",
    "        counts_tot[ll] = df_subset.shape[0]\n",
    "        counts_1[ll] = df_subset[df_subset[\"Number of components\"] == 1].shape[0]\n",
    "        counts_2[ll] = df_subset[df_subset[\"Number of components\"] == 2].shape[0]\n",
    "        counts_3[ll] = df_subset[df_subset[\"Number of components\"] == 3].shape[0]\n",
    "\n",
    "    # Plot\n",
    "    fig, axs = plt.subplots(nrows=2, ncols=1, sharex=True, figsize=(7, 8))\n",
    "    fig.subplots_adjust(hspace=0)\n",
    "\n",
    "    # Plot\n",
    "    axs[0].bar(sfr_vals[:-1], counts_1,\n",
    "               align=\"edge\", width=np.diff(sfr_vals)[0], color=ncomponents_colours[1],\n",
    "               label=\"1 component\")\n",
    "    axs[0].bar(sfr_vals[:-1], counts_2, bottom=counts_1,\n",
    "               align=\"edge\", width=np.diff(sfr_vals)[0], color=ncomponents_colours[2],\n",
    "               label=\"2 components\")\n",
    "    axs[0].bar(sfr_vals[:-1], counts_3, bottom=counts_1 + counts_2,\n",
    "               align=\"edge\", width=np.diff(sfr_vals)[0], color=ncomponents_colours[3],\n",
    "               label=\"3 components\")\n",
    "    axs[0].grid()\n",
    "    axs[0].set_ylabel(r\"$N$\")\n",
    "    axs[0].set_yscale(\"log\")\n",
    "    axs[0].autoscale(axis=\"x\", enable=True, tight=True)\n",
    "    axs[0].set_ylim([0.5, None])\n",
    "    \n",
    "    axs[1].bar(sfr_vals[:-1], counts_1 / counts_tot  * 100,\n",
    "           align=\"edge\", width=np.diff(sfr_vals)[0], color=ncomponents_colours[1],\n",
    "              label=\"1 component\")\n",
    "    axs[1].bar(sfr_vals[:-1], counts_2 / counts_tot  * 100, bottom=counts_1 / counts_tot * 100,\n",
    "           align=\"edge\", width=np.diff(sfr_vals)[0], color=ncomponents_colours[2],\n",
    "              label=\"2 components\")\n",
    "    axs[1].bar(sfr_vals[:-1], counts_3 / counts_tot * 100, bottom=counts_1 / counts_tot * 100 + counts_2 / counts_tot * 100,\n",
    "           align=\"edge\", width=np.diff(sfr_vals)[0], color=ncomponents_colours[3],\n",
    "              label=\"3 components\")\n",
    "    axs[1].grid()\n",
    "    axs[1].set_ylabel(\"Percentage\")\n",
    "    axs[1].autoscale(axis=\"x\", enable=True, tight=True)\n",
    "    axs[1].autoscale(axis=\"y\", enable=True, tight=True)\n",
    "    axs[1].set_xlabel(label_fn(col_x))\n",
    "\n",
    "    axs[1].legend(loc=\"center left\", fontsize=\"small\", bbox_to_anchor=[1.0, 1.0])\n",
    "        \n",
    "    if savefigs:\n",
    "        fname = os.path.join(fig_path, f\"hist_SF_only_{col_x.replace(' ', '_')}_ncomponents.pdf\")\n",
    "        print(f\"Saving to {fname}\")\n",
    "        fig.savefig(fname, bbox_inches=\"tight\")\n",
    "\n"
   ]
  },
  {
   "cell_type": "markdown",
   "metadata": {},
   "source": [
    "# Compare: maps of galaxies before & after flux ratio cut\n",
    "\n",
    "---\n",
    "69462\n",
    "402988\n",
    "545925\n",
    "\n",
    "outflow:\n",
    "623366\n",
    "418831 (bar)"
   ]
  },
  {
   "cell_type": "code",
   "execution_count": 140,
   "metadata": {},
   "outputs": [],
   "source": [
    "# Low-inclination galaxies\n",
    "gals = df.loc[df[\"Inclination i (degrees)\"] <= 30, \"ID\"].unique()\n",
    "\n",
    "# Galaxies with a large portion of 2-component spaxels\n",
    "gals_good = []\n",
    "for gal in gals:\n",
    "    df_gal = df[df[\"ID\"] == gal]\n",
    "    if df_gal[df_gal[\"Number of components\"] > 1].shape[0] > 20:\n",
    "        gals_good.append(gal)\n",
    "    "
   ]
  },
  {
   "cell_type": "code",
   "execution_count": 141,
   "metadata": {
    "scrolled": true
   },
   "outputs": [],
   "source": [
    "gg = 0"
   ]
  },
  {
   "cell_type": "code",
   "execution_count": 162,
   "metadata": {},
   "outputs": [
    {
     "data": {
      "application/vnd.jupyter.widget-view+json": {
       "model_id": "8566503e059b48a4aecbff9f83a24962",
       "version_major": 2,
       "version_minor": 0
      },
      "text/plain": [
       "Canvas(toolbar=Toolbar(toolitems=[('Home', 'Reset original view', 'home', 'home'), ('Back', 'Back to previous …"
      ]
     },
     "metadata": {},
     "output_type": "display_data"
    },
    {
     "name": "stdout",
     "output_type": "stream",
     "text": [
      "WARNING: file /priv/meggs3/u5708159/SAMI/sami_dr3/sdss/216401_500x500.jpg not found. Retrieving image from SDSS...\n"
     ]
    },
    {
     "name": "stderr",
     "output_type": "stream",
     "text": [
      "/home/u5708159/python/Modules/spaxelsleuth/plotting/plot2dmap.py:98: SettingWithCopyWarning: \n",
      "A value is trying to be set on a copy of a slice from a DataFrame.\n",
      "Try using .loc[row_indexer,col_indexer] = value instead\n",
      "\n",
      "See the caveats in the documentation: http://pandas.pydata.org/pandas-docs/stable/user_guide/indexing.html#returning-a-view-versus-a-copy\n",
      "  df_gal[\"x, y (pixels)\"] = list(zip(df_gal[\"x (projected, arcsec)\"] / as_per_px, df_gal[\"y (projected, arcsec)\"] / as_per_px))\n"
     ]
    }
   ],
   "source": [
    "plt.close(\"all\")\n",
    "gal = gals_good[gg]\n",
    "df_gal = df[df[\"ID\"] == gal]\n",
    "df_gal_cut = df_cut[df_cut[\"ID\"] == gal]\n",
    "\n",
    "fig, axs = plt.subplots(nrows=4, ncols=3, figsize=(13, 17))\n",
    "fig.subplots_adjust(wspace=0.05, hspace=0.05)\n",
    "\n",
    "# SDSS image \n",
    "ax = plot_sdss_image(df_gal, ax=axs[0][0])\n",
    "if ax is not None:\n",
    "    ax.set_title(f\"GAMA{gal}\")\n",
    "    lon = ax.coords[0]\n",
    "    lon.set_ticklabel_visible(False)\n",
    "\n",
    "# Number of components\n",
    "_, ax = plot2dmap(df_gal=df_gal, bin_type=\"default\", survey=\"sami\",\n",
    "          PA_deg=0,\n",
    "          col_z=\"Number of components\",\n",
    "          ax=axs[0][1], \n",
    "          plot_colorbar=True, cax=None, cax_orientation=\"horizontal\", \n",
    "          show_title=False)\n",
    "lon = ax.coords[0]\n",
    "lon.set_ticklabel_visible(False)\n",
    "lat = ax.coords[1]\n",
    "lat.set_ticklabel_visible(False)\n",
    "\n",
    "\n",
    "# BPT classifications \n",
    "_, ax = plot2dmap(df_gal=df_gal, bin_type=\"default\", survey=\"sami\",\n",
    "          PA_deg=0,\n",
    "          col_z=\"BPT (numeric) (total)\",\n",
    "          ax=axs[0][2], \n",
    "          plot_colorbar=True, cax=None, cax_orientation=\"vertical\", \n",
    "          show_title=False)\n",
    "lon = ax.coords[0]\n",
    "lon.set_ticklabel_visible(False)\n",
    "lat = ax.coords[1]\n",
    "lat.set_ticklabel_visible(False)\n",
    "\n",
    "# v_gas\n",
    "for ii in range(3):\n",
    "    _, ax = plot2dmap(df_gal=df_gal, bin_type=\"default\", survey=\"sami\",\n",
    "              PA_deg=0,\n",
    "              col_z=f\"v_gas (component {ii})\",\n",
    "              ax=axs[1][ii], \n",
    "              plot_colorbar=True if ii == 2 else False, cax=None, cax_orientation=\"vertical\", \n",
    "              vmin=-200, vmax=+200,\n",
    "              show_title=False)\n",
    "    ax.text(s=f\"Component {ii + 1}\", x=0.05, y=0.95, transform=axs[1][ii].transAxes, verticalalignment=\"top\")\n",
    "    if ii > 0:\n",
    "        lat = ax.coords[1]\n",
    "        lat.set_ticklabel_visible(False)\n",
    "    lon = ax.coords[0]\n",
    "    lon.set_ticklabel_visible(False)\n",
    "\n",
    "\n",
    "# delta sigma \n",
    "for ii in range(3):\n",
    "    _, ax = plot2dmap(df_gal=df_gal, bin_type=\"default\", survey=\"sami\",\n",
    "              PA_deg=0,\n",
    "              col_z=f\"sigma_gas (component {ii})\",\n",
    "              ax=axs[2][ii], \n",
    "              plot_colorbar=True if ii == 2 else False, cax=None, cax_orientation=\"vertical\", \n",
    "              vmin=0, vmax=+200,\n",
    "              show_title=False)\n",
    "    ax.text(s=f\"Component {ii + 1}\", x=0.05, y=0.95, transform=axs[1][ii].transAxes, verticalalignment=\"top\")\n",
    "    if ii > 0:\n",
    "        lat = ax.coords[1]\n",
    "        lat.set_ticklabel_visible(False)\n",
    "    lon = ax.coords[0]\n",
    "    lon.set_ticklabel_visible(False)\n",
    "\n",
    "# EW \n",
    "for ii in range(3):\n",
    "    _, ax = plot2dmap(df_gal=df_gal, bin_type=\"default\", survey=\"sami\",\n",
    "              PA_deg=0,\n",
    "              col_z=f\"HALPHA EW (component {ii})\",\n",
    "              ax=axs[3][ii], \n",
    "              plot_colorbar=True if ii == 2 else False, cax=None, cax_orientation=\"vertical\", \n",
    "              show_title=False)\n",
    "    ax.text(s=f\"Component {ii + 1}\", x=0.05, y=0.95, transform=axs[2][ii].transAxes, verticalalignment=\"top\")\n",
    "    if ii > 0:\n",
    "        lat = ax.coords[1]\n",
    "        lat.set_ticklabel_visible(False)\n",
    "\n",
    "gg += 1\n"
   ]
  },
  {
   "cell_type": "code",
   "execution_count": 97,
   "metadata": {},
   "outputs": [
    {
     "data": {
      "application/vnd.jupyter.widget-view+json": {
       "model_id": "cd53f1fa2dd1491aa4f2aad4ebf47897",
       "version_major": 2,
       "version_minor": 0
      },
      "text/plain": [
       "Canvas(toolbar=Toolbar(toolitems=[('Home', 'Reset original view', 'home', 'home'), ('Back', 'Back to previous …"
      ]
     },
     "metadata": {},
     "output_type": "display_data"
    },
    {
     "name": "stderr",
     "output_type": "stream",
     "text": [
      "/home/u5708159/python/Modules/spaxelsleuth/plotting/plot2dmap.py:98: SettingWithCopyWarning: \n",
      "A value is trying to be set on a copy of a slice from a DataFrame.\n",
      "Try using .loc[row_indexer,col_indexer] = value instead\n",
      "\n",
      "See the caveats in the documentation: http://pandas.pydata.org/pandas-docs/stable/user_guide/indexing.html#returning-a-view-versus-a-copy\n",
      "  df_gal[\"x, y (pixels)\"] = list(zip(df_gal[\"x (projected, arcsec)\"] / as_per_px, df_gal[\"y (projected, arcsec)\"] / as_per_px))\n"
     ]
    }
   ],
   "source": [
    "fig, axs = plt.subplots(nrows=4, ncols=3, figsize=(13, 17))\n",
    "fig.subplots_adjust(wspace=0.05, hspace=0.05)\n",
    "\n",
    "# SDSS image \n",
    "ax = plot_sdss_image(df_gal_cut, ax=axs[0][0])\n",
    "if ax is not None:\n",
    "    ax.set_title(f\"GAMA{gal}\")\n",
    "    lon = ax.coords[0]\n",
    "    lon.set_ticklabel_visible(False)\n",
    "\n",
    "# Number of components\n",
    "_, ax = plot2dmap(df_gal=df_gal_cut, bin_type=\"default\", survey=\"sami\",\n",
    "          PA_deg=0,\n",
    "          col_z=\"Number of components\",\n",
    "          ax=axs[0][1], \n",
    "          plot_colorbar=True, cax=None, cax_orientation=\"horizontal\", \n",
    "          show_title=False)\n",
    "lon = ax.coords[0]\n",
    "lon.set_ticklabel_visible(False)\n",
    "lat = ax.coords[1]\n",
    "lat.set_ticklabel_visible(False)\n",
    "\n",
    "\n",
    "# BPT classifications \n",
    "_, ax = plot2dmap(df_gal=df_gal_cut, bin_type=\"default\", survey=\"sami\",\n",
    "          PA_deg=0,\n",
    "          col_z=\"BPT (numeric) (total)\",\n",
    "          ax=axs[0][2], \n",
    "          plot_colorbar=True, cax=None, cax_orientation=\"vertical\", \n",
    "          show_title=False)\n",
    "lon = ax.coords[0]\n",
    "lon.set_ticklabel_visible(False)\n",
    "lat = ax.coords[1]\n",
    "lat.set_ticklabel_visible(False)\n",
    "\n",
    "# v_gas\n",
    "for ii in range(3):\n",
    "    _, ax = plot2dmap(df_gal=df_gal_cut, bin_type=\"default\", survey=\"sami\",\n",
    "              PA_deg=0,\n",
    "              col_z=f\"v_gas (component {ii})\",\n",
    "              ax=axs[1][ii], \n",
    "              plot_colorbar=True if ii == 2 else False, cax=None, cax_orientation=\"vertical\", \n",
    "              vmin=-200, vmax=+200,\n",
    "              show_title=False)\n",
    "    ax.text(s=f\"Component {ii + 1}\", x=0.05, y=0.95, transform=axs[1][ii].transAxes, verticalalignment=\"top\")\n",
    "    if ii > 0:\n",
    "        lat = ax.coords[1]\n",
    "        lat.set_ticklabel_visible(False)\n",
    "    lon = ax.coords[0]\n",
    "    lon.set_ticklabel_visible(False)\n",
    "\n",
    "\n",
    "# delta sigma \n",
    "for ii in range(3):\n",
    "    _, ax = plot2dmap(df_gal=df_gal_cut, bin_type=\"default\", survey=\"sami\",\n",
    "              PA_deg=0,\n",
    "              col_z=f\"sigma_gas (component {ii})\",\n",
    "              ax=axs[2][ii], \n",
    "              plot_colorbar=True if ii == 2 else False, cax=None, cax_orientation=\"vertical\", \n",
    "              vmin=0, vmax=+200,\n",
    "              show_title=False)\n",
    "    ax.text(s=f\"Component {ii + 1}\", x=0.05, y=0.95, transform=axs[1][ii].transAxes, verticalalignment=\"top\")\n",
    "    if ii > 0:\n",
    "        lat = ax.coords[1]\n",
    "        lat.set_ticklabel_visible(False)\n",
    "    lon = ax.coords[0]\n",
    "    lon.set_ticklabel_visible(False)\n",
    "\n",
    "# EW \n",
    "for ii in range(3):\n",
    "    _, ax = plot2dmap(df_gal=df_gal_cut, bin_type=\"default\", survey=\"sami\",\n",
    "              PA_deg=0,\n",
    "              col_z=f\"HALPHA EW (component {ii})\",\n",
    "              ax=axs[3][ii], \n",
    "              plot_colorbar=True if ii == 2 else False, cax=None, cax_orientation=\"vertical\", \n",
    "              show_title=False)\n",
    "    ax.text(s=f\"Component {ii + 1}\", x=0.05, y=0.95, transform=axs[2][ii].transAxes, verticalalignment=\"top\")\n",
    "    if ii > 0:\n",
    "        lat = ax.coords[1]\n",
    "        lat.set_ticklabel_visible(False)\n",
    "        \n"
   ]
  },
  {
   "cell_type": "code",
   "execution_count": null,
   "metadata": {},
   "outputs": [],
   "source": []
  },
  {
   "cell_type": "code",
   "execution_count": 101,
   "metadata": {
    "scrolled": false
   },
   "outputs": [
    {
     "data": {
      "application/vnd.jupyter.widget-view+json": {
       "model_id": "b93a87e4cf9b4ab3b4d91ed977104c29",
       "version_major": 2,
       "version_minor": 0
      },
      "text/plain": [
       "Canvas(toolbar=Toolbar(toolitems=[('Home', 'Reset original view', 'home', 'home'), ('Back', 'Back to previous …"
      ]
     },
     "metadata": {},
     "output_type": "display_data"
    },
    {
     "data": {
      "application/vnd.jupyter.widget-view+json": {
       "model_id": "2b388ad39c644aedaf5e8e4843b065e3",
       "version_major": 2,
       "version_minor": 0
      },
      "text/plain": [
       "Canvas(toolbar=Toolbar(toolitems=[('Home', 'Reset original view', 'home', 'home'), ('Back', 'Back to previous …"
      ]
     },
     "metadata": {},
     "output_type": "display_data"
    },
    {
     "data": {
      "text/plain": [
       "[<matplotlib.lines.Line2D at 0x7fd514ba9650>]"
      ]
     },
     "execution_count": 101,
     "metadata": {},
     "output_type": "execute_result"
    }
   ],
   "source": [
    "gal = 227223\n",
    "df_gal = df_cut[df_cut[\"ID\"] == gal]\n",
    "z = df_gal[\"z_spec\"].values[0]\n",
    "\n",
    "# Load data cube \n",
    "\n",
    "# Get wavelength information from header\n",
    "\n",
    "\n",
    "# Get emission line flux, kinematics from data frame \n",
    "x = 25 * 0.5\n",
    "y = 25 * 0.5\n",
    "\n",
    "# Generate emission line spectrum based on the best-fit kinematics\n",
    "df_spaxel = df_gal[(df_gal[\"x (projected, arcsec)\"] == x) & (df_gal[\"y (projected, arcsec)\"] == y)]\n",
    "\n",
    "# Line amplitude\n",
    "A_1 = df_spaxel[\"HALPHA A (component 0)\"].values[0]\n",
    "A_2 = df_spaxel[\"HALPHA A (component 1)\"].values[0]\n",
    "\n",
    "# Velocity space\n",
    "v_kms_1 = df_spaxel[\"v_gas (component 0)\"].values[0]\n",
    "v_kms_2 = df_spaxel[\"v_gas (component 1)\"].values[0]\n",
    "sigma_kms_1 = df_spaxel[\"sigma_gas (component 0)\"].values[0]\n",
    "sigma_kms_2 = df_spaxel[\"sigma_gas (component 1)\"].values[0]\n",
    "\n",
    "# Wavelength space \n",
    "lambda_A_1 = df_spaxel[\"HALPHA lambda_obs (component 0) (Å)\"].values[0]\n",
    "lambda_A_2 = df_spaxel[\"HALPHA lambda_obs (component 1) (Å)\"].values[0]\n",
    "sigma_A_1 = df_spaxel[\"HALPHA sigma_gas (component 0) (Å)\"].values[0]\n",
    "sigma_A_2 = df_spaxel[\"HALPHA sigma_gas (component 1) (Å)\"].values[0]\n",
    "\n",
    "\n",
    "# Plot \n",
    "v_vals_kms = np.linspace(-500, 500, 500)\n",
    "line_1 = A_1 * np.exp( -(v_vals_kms - v_kms_1)**2 / (2 * sigma_kms_1**2))\n",
    "line_2 = A_2 * np.exp( -(v_vals_kms - v_kms_2)**2 / (2 * sigma_kms_2**2))\n",
    "line_tot = line_1 + line_2\n",
    "\n",
    "fig, ax = plt.subplots()\n",
    "ax.plot(v_vals_kms, line_1)\n",
    "ax.plot(v_vals_kms, line_2)\n",
    "ax.plot(v_vals_kms, line_tot)\n",
    "\n",
    "\n",
    "lambda_vals_A = np.linspace(6562.8 - 50, 6562.8 + 50, 500)\n",
    "line_1 = A_1 * np.exp( -(lambda_vals_A - lambda_A_1)**2 / (2 * sigma_A_1**2))\n",
    "line_2 = A_2 * np.exp( -(lambda_vals_A - lambda_A_2)**2 / (2 * sigma_A_2**2))\n",
    "line_tot = line_1 + line_2\n",
    "\n",
    "fig, ax = plt.subplots()\n",
    "ax.plot(lambda_vals_A * (1 + z), line_1)\n",
    "ax.plot(lambda_vals_A * (1 + z), line_2)\n",
    "ax.plot(lambda_vals_A * (1 + z), line_tot)"
   ]
  }
 ],
 "metadata": {
  "kernelspec": {
   "display_name": "Python 3",
   "language": "python",
   "name": "python3"
  },
  "language_info": {
   "codemirror_mode": {
    "name": "ipython",
    "version": 3
   },
   "file_extension": ".py",
   "mimetype": "text/x-python",
   "name": "python",
   "nbconvert_exporter": "python",
   "pygments_lexer": "ipython3",
   "version": "3.7.4"
  }
 },
 "nbformat": 4,
 "nbformat_minor": 2
}
