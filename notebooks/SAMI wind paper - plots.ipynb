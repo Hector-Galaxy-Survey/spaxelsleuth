{
 "cells": [
  {
   "cell_type": "markdown",
   "metadata": {},
   "source": [
    "# SAMI wind paper plots (multi-component fits)\n",
    "---"
   ]
  },
  {
   "cell_type": "code",
   "execution_count": 1,
   "metadata": {},
   "outputs": [],
   "source": [
    "%matplotlib widget"
   ]
  },
  {
   "cell_type": "code",
   "execution_count": 2,
   "metadata": {},
   "outputs": [],
   "source": [
    "# Imports\n",
    "import sys\n",
    "import os \n",
    "import numpy as np\n",
    "import pandas as pd\n",
    "from astropy.visualization import hist\n",
    "from tqdm import tqdm\n",
    "from scipy import constants\n",
    "\n",
    "from spaxelsleuth.loaddata.lzifu import load_lzifu_galaxies\n",
    "from spaxelsleuth.loaddata.sami import load_sami_galaxies\n",
    "from spaxelsleuth.plotting.plottools import plot_empty_BPT_diagram\n",
    "from spaxelsleuth.plotting.plottools import vmin_fn, vmax_fn, label_fn, cmap_fn, fname_fn\n",
    "from spaxelsleuth.plotting.plottools import bpt_colours, bpt_labels, whav_colors, whav_labels\n",
    "from spaxelsleuth.plotting.plottools import morph_labels, morph_ticks\n",
    "from spaxelsleuth.plotting.plottools import ncomponents_labels, ncomponents_colours\n",
    "from spaxelsleuth.plotting.plottools import component_labels, component_colours\n",
    "from spaxelsleuth.plotting.plotgalaxies import plot2dhistcontours, plot2dscatter, plot2dcontours\n",
    "from spaxelsleuth.plotting.plot2dmap import plot2dmap\n",
    "from spaxelsleuth.plotting.sdssimg import plot_sdss_image\n",
    "\n",
    "import matplotlib\n",
    "from matplotlib import rc, rcParams\n",
    "import matplotlib.pyplot as plt\n",
    "from matplotlib.lines import Line2D\n",
    "\n",
    "from IPython.core.debugger import Tracer\n",
    "\n",
    "rc(\"text\", usetex=False)\n",
    "rc(\"font\",**{\"family\": \"serif\", \"size\": 14})\n",
    "rcParams[\"savefig.bbox\"] = \"tight\"\n",
    "rcParams[\"savefig.format\"] = \"pdf\"\n",
    "plt.ion()\n",
    "plt.close(\"all\")\n"
   ]
  },
  {
   "cell_type": "code",
   "execution_count": 3,
   "metadata": {},
   "outputs": [],
   "source": [
    "# Options\n",
    "fig_path = \"/priv/meggs3/u5708159/SAMI/figs/paper/\"\n",
    "savefigs = True\n",
    "bin_type = \"default\"    # Options: \"default\" or \"adaptive\" for Voronoi binning\n",
    "ncomponents = \"recom\"   # Options: \"1\" or \"recom\"\n",
    "eline_SNR_min = 5       # Minimum S/N of emission lines to accept\n",
    "plt.close(\"all\")\n"
   ]
  },
  {
   "cell_type": "code",
   "execution_count": 4,
   "metadata": {},
   "outputs": [
    {
     "name": "stderr",
     "output_type": "stream",
     "text": [
      "/pkg/linux/anaconda-20191122/anaconda3/lib/python3.7/site-packages/pandas/core/indexing.py:376: SettingWithCopyWarning: \n",
      "A value is trying to be set on a copy of a slice from a DataFrame.\n",
      "Try using .loc[row_indexer,col_indexer] = value instead\n",
      "\n",
      "See the caveats in the documentation: http://pandas.pydata.org/pandas-docs/stable/user_guide/indexing.html#returning-a-view-versus-a-copy\n",
      "  self.obj[key] = _infer_fill_value(value)\n",
      "/pkg/linux/anaconda-20191122/anaconda3/lib/python3.7/site-packages/pandas/core/indexing.py:494: SettingWithCopyWarning: \n",
      "A value is trying to be set on a copy of a slice from a DataFrame.\n",
      "Try using .loc[row_indexer,col_indexer] = value instead\n",
      "\n",
      "See the caveats in the documentation: http://pandas.pydata.org/pandas-docs/stable/user_guide/indexing.html#returning-a-view-versus-a-copy\n",
      "  self.obj[item] = s\n",
      "/pkg/linux/anaconda-20191122/anaconda3/lib/python3.7/site-packages/pandas/core/series.py:853: RuntimeWarning: invalid value encountered in log10\n",
      "  result = getattr(ufunc, method)(*inputs, **kwargs)\n",
      "/pkg/linux/anaconda-20191122/anaconda3/lib/python3.7/site-packages/pandas/core/series.py:853: RuntimeWarning: divide by zero encountered in log10\n",
      "  result = getattr(ufunc, method)(*inputs, **kwargs)\n"
     ]
    },
    {
     "name": "stdout",
     "output_type": "stream",
     "text": [
      "WARNING: in load_sami_galaxies: NOT correcting Halpha and HALPHA EW for extinction!\n"
     ]
    }
   ],
   "source": [
    "# Load the sample\n",
    "df = load_sami_galaxies(ncomponents=ncomponents,\n",
    "                        bin_type=bin_type,\n",
    "                        eline_SNR_min=eline_SNR_min, \n",
    "                        vgrad_cut=False,\n",
    "                        line_amplitude_SNR_cut=True,\n",
    "                        correct_extinction=False,\n",
    "                        sigma_gas_SNR_cut=True)"
   ]
  },
  {
   "cell_type": "markdown",
   "metadata": {},
   "source": [
    "## PLOT: BPT diagram coloured by count, median number of components, BPT classification\n",
    "---"
   ]
  },
  {
   "cell_type": "code",
   "execution_count": 7,
   "metadata": {},
   "outputs": [
    {
     "data": {
      "application/vnd.jupyter.widget-view+json": {
       "model_id": "19111ae71945469da07e5939b236c8bb",
       "version_major": 2,
       "version_minor": 0
      },
      "text/plain": [
       "Canvas(toolbar=Toolbar(toolitems=[('Home', 'Reset original view', 'home', 'home'), ('Back', 'Back to previous …"
      ]
     },
     "metadata": {},
     "output_type": "display_data"
    },
    {
     "name": "stderr",
     "output_type": "stream",
     "text": [
      "/pkg/linux/anaconda-20191122/anaconda3/lib/python3.7/site-packages/matplotlib/colors.py:1110: RuntimeWarning: invalid value encountered in less_equal\n",
      "  mask |= resdat <= 0\n"
     ]
    },
    {
     "name": "stdout",
     "output_type": "stream",
     "text": [
      "File saved at: /priv/meggs3/u5708159/SAMI/figs/paper/BPT_SAMI_count.pdf\n"
     ]
    }
   ],
   "source": [
    "for col_z in [\"count\"]: #, \"Number of components\", \"BPT (numeric) (total)\"]:\n",
    "    fig, axs, cax = plot_empty_BPT_diagram(colorbar=True, nrows=1, include_Law2021=True)\n",
    "    \n",
    "    # Plot 2D histograms of the subset\n",
    "    plot2dhistcontours(df, col_x=\"log N2 (total)\", col_y=\"log O3 (total)\", col_z=col_z, log_z=True if col_z == \"count\" else False, vmin=1 if col_z == \"count\" else None, vmax=1e3 if col_z == \"count\" else None, ymin=-1.2, ymax=1.6, ax=axs[0], nbins=100, contours=True, colors=\"white\", plot_colorbar=False)\n",
    "    plot2dhistcontours(df, col_x=\"log S2 (total)\", col_y=\"log O3 (total)\", col_z=col_z, log_z=True if col_z == \"count\" else False, vmin=1 if col_z == \"count\" else None, vmax=1e3 if col_z == \"count\" else None, ymin=-1.2, ymax=1.6, ax=axs[1], nbins=100, contours=True, colors=\"white\", plot_colorbar=False)\n",
    "    plot2dhistcontours(df, col_x=\"log O1 (total)\", col_y=\"log O3 (total)\", col_z=col_z, log_z=True if col_z == \"count\" else False, vmin=1 if col_z == \"count\" else None, vmax=1e3 if col_z == \"count\" else None, ymin=-1.2, ymax=1.6, ax=axs[2], nbins=100, contours=True, colors=\"white\", cax=cax, plot_colorbar=True)\n",
    "\n",
    "    # Decorations\n",
    "    [ax.set_ylabel(\"\") for ax in axs[1:]]\n",
    "\n",
    "    # Grid on\n",
    "    [ax.grid() for ax in axs]\n",
    "    \n",
    "    # Save\n",
    "    if savefigs:\n",
    "        fname = os.path.join(fig_path, f\"BPT_SAMI_{fname_fn(col_z)}.pdf\")\n",
    "        fig.savefig(fname, bbox_inches=\"tight\", format=\"pdf\")\n",
    "        print(f\"File saved at: {fname}\")\n"
   ]
  },
  {
   "cell_type": "markdown",
   "metadata": {},
   "source": [
    "## PLOT: BPT diagram coloured by $\\sigma_{\\rm gas}$ and by $\\Delta \\sigma$ for each component\n",
    "---"
   ]
  },
  {
   "cell_type": "code",
   "execution_count": 118,
   "metadata": {},
   "outputs": [],
   "source": [
    "plt.close(\"all\")"
   ]
  },
  {
   "cell_type": "code",
   "execution_count": 119,
   "metadata": {
    "scrolled": false
   },
   "outputs": [
    {
     "data": {
      "application/vnd.jupyter.widget-view+json": {
       "model_id": "d1d08cb617614d629847e1fd0c919e66",
       "version_major": 2,
       "version_minor": 0
      },
      "text/plain": [
       "Canvas(toolbar=Toolbar(toolitems=[('Home', 'Reset original view', 'home', 'home'), ('Back', 'Back to previous …"
      ]
     },
     "metadata": {},
     "output_type": "display_data"
    },
    {
     "name": "stdout",
     "output_type": "stream",
     "text": [
      "File saved at: /priv/meggs3/u5708159/SAMI/figs/paper/BPT_SAMI_log_sigma_gas_component1.pdf\n"
     ]
    },
    {
     "data": {
      "application/vnd.jupyter.widget-view+json": {
       "model_id": "08df51036edd4a2fad94734d9bba10cc",
       "version_major": 2,
       "version_minor": 0
      },
      "text/plain": [
       "Canvas(toolbar=Toolbar(toolitems=[('Home', 'Reset original view', 'home', 'home'), ('Back', 'Back to previous …"
      ]
     },
     "metadata": {},
     "output_type": "display_data"
    },
    {
     "name": "stdout",
     "output_type": "stream",
     "text": [
      "File saved at: /priv/meggs3/u5708159/SAMI/figs/paper/BPT_SAMI_log_sigma_gas_component2.pdf\n"
     ]
    },
    {
     "data": {
      "application/vnd.jupyter.widget-view+json": {
       "model_id": "dbc96996727f4f7a9a4dfa0fdbcd99da",
       "version_major": 2,
       "version_minor": 0
      },
      "text/plain": [
       "Canvas(toolbar=Toolbar(toolitems=[('Home', 'Reset original view', 'home', 'home'), ('Back', 'Back to previous …"
      ]
     },
     "metadata": {},
     "output_type": "display_data"
    },
    {
     "name": "stdout",
     "output_type": "stream",
     "text": [
      "File saved at: /priv/meggs3/u5708159/SAMI/figs/paper/BPT_SAMI_log_sigma_gas_component3.pdf\n"
     ]
    },
    {
     "data": {
      "application/vnd.jupyter.widget-view+json": {
       "model_id": "7fc15738c446448499ed49df4af76bf7",
       "version_major": 2,
       "version_minor": 0
      },
      "text/plain": [
       "Canvas(toolbar=Toolbar(toolitems=[('Home', 'Reset original view', 'home', 'home'), ('Back', 'Back to previous …"
      ]
     },
     "metadata": {},
     "output_type": "display_data"
    },
    {
     "name": "stdout",
     "output_type": "stream",
     "text": [
      "File saved at: /priv/meggs3/u5708159/SAMI/figs/paper/BPT_SAMI_sigma_gas-sigma_star_component1.pdf\n"
     ]
    },
    {
     "data": {
      "application/vnd.jupyter.widget-view+json": {
       "model_id": "fd6d27da512e412fbfdce555813a0c7c",
       "version_major": 2,
       "version_minor": 0
      },
      "text/plain": [
       "Canvas(toolbar=Toolbar(toolitems=[('Home', 'Reset original view', 'home', 'home'), ('Back', 'Back to previous …"
      ]
     },
     "metadata": {},
     "output_type": "display_data"
    },
    {
     "name": "stdout",
     "output_type": "stream",
     "text": [
      "File saved at: /priv/meggs3/u5708159/SAMI/figs/paper/BPT_SAMI_sigma_gas-sigma_star_component2.pdf\n"
     ]
    },
    {
     "data": {
      "application/vnd.jupyter.widget-view+json": {
       "model_id": "2ddd306778ee48fcad8b58fedb413c28",
       "version_major": 2,
       "version_minor": 0
      },
      "text/plain": [
       "Canvas(toolbar=Toolbar(toolitems=[('Home', 'Reset original view', 'home', 'home'), ('Back', 'Back to previous …"
      ]
     },
     "metadata": {},
     "output_type": "display_data"
    },
    {
     "name": "stdout",
     "output_type": "stream",
     "text": [
      "File saved at: /priv/meggs3/u5708159/SAMI/figs/paper/BPT_SAMI_sigma_gas-sigma_star_component3.pdf\n"
     ]
    }
   ],
   "source": [
    "col_z = \"log sigma_gas\"\n",
    "for ii in range(3):\n",
    "    fig, axs, cax = plot_empty_BPT_diagram(colorbar=True, nrows=1, include_Law2021=True)\n",
    "\n",
    "    # Plot 2D histograms of the subset\n",
    "    plot2dhistcontours(df, col_x=\"log N2 (total)\", col_y=\"log O3 (total)\", col_z=f\"{col_z} (component {ii})\", log_z=False, vmin=np.log10(20), vmax=np.log10(150), cmap=\"Spectral_r\", ax=axs[0], nbins=100, contours=True, colors=\"white\", plot_colorbar=False)\n",
    "    plot2dhistcontours(df, col_x=\"log S2 (total)\", col_y=\"log O3 (total)\", col_z=f\"{col_z} (component {ii})\", log_z=False, vmin=np.log10(20), vmax=np.log10(150), cmap=\"Spectral_r\", ax=axs[1], nbins=100, contours=True, colors=\"white\", plot_colorbar=False)\n",
    "    plot2dhistcontours(df, col_x=\"log O1 (total)\", col_y=\"log O3 (total)\", col_z=f\"{col_z} (component {ii})\", log_z=False, vmin=np.log10(20), vmax=np.log10(150), cmap=\"Spectral_r\", ax=axs[2], nbins=100, contours=True, colors=\"white\", cax=cax, plot_colorbar=True)\n",
    "\n",
    "    # Decorations\n",
    "    [ax.set_ylabel(\"\") for ax in axs[1:]]\n",
    "\n",
    "    # Grid on\n",
    "    [ax.grid() for ax in axs]\n",
    "\n",
    "    # Save\n",
    "    if savefigs:\n",
    "        fname = os.path.join(fig_path, f\"BPT_SAMI_{fname_fn(col_z)}_component{ii + 1}.pdf\")\n",
    "        fig.savefig(fname, bbox_inches=\"tight\", format=\"pdf\")\n",
    "        print(f\"File saved at: {fname}\")\n",
    "\n",
    "col_z = \"sigma_gas - sigma_*\"\n",
    "for ii in range(3):\n",
    "    fig, axs, cax = plot_empty_BPT_diagram(colorbar=True, nrows=1, include_Law2021=True)\n",
    "\n",
    "    # Plot 2D histograms of the subset\n",
    "    plot2dhistcontours(df, col_x=\"log N2 (total)\", col_y=\"log O3 (total)\", col_z=f\"{col_z} (component {ii})\", log_z=False, vmin=-200, vmax=+200, ax=axs[0], nbins=100, contours=True, colors=\"white\", plot_colorbar=False)\n",
    "    plot2dhistcontours(df, col_x=\"log S2 (total)\", col_y=\"log O3 (total)\", col_z=f\"{col_z} (component {ii})\", log_z=False, vmin=-200, vmax=+200, ax=axs[1], nbins=100, contours=True, colors=\"white\", plot_colorbar=False)\n",
    "    plot2dhistcontours(df, col_x=\"log O1 (total)\", col_y=\"log O3 (total)\", col_z=f\"{col_z} (component {ii})\", log_z=False, vmin=-200, vmax=+200, ax=axs[2], nbins=100, contours=True, colors=\"white\", cax=cax, plot_colorbar=True)\n",
    "\n",
    "    # Decorations\n",
    "    [ax.set_ylabel(\"\") for ax in axs[1:]]\n",
    "\n",
    "    # Grid on\n",
    "    [ax.grid() for ax in axs]\n",
    "\n",
    "    # Save\n",
    "    if savefigs:\n",
    "        fname = os.path.join(fig_path, f\"BPT_SAMI_{fname_fn(col_z)}_component{ii + 1}.pdf\")\n",
    "        fig.savefig(fname, bbox_inches=\"tight\", format=\"pdf\")\n",
    "        print(f\"File saved at: {fname}\")\n",
    "\n"
   ]
  },
  {
   "cell_type": "markdown",
   "metadata": {},
   "source": [
    "## PLOT: bar chart showing the fraction of spaxels w/ 1,2,3 components in each spectral category\n",
    "---"
   ]
  },
  {
   "cell_type": "code",
   "execution_count": 8,
   "metadata": {
    "scrolled": true
   },
   "outputs": [
    {
     "data": {
      "application/vnd.jupyter.widget-view+json": {
       "model_id": "f2c8ab90b9f04d4ca01397cd98054b8a",
       "version_major": 2,
       "version_minor": 0
      },
      "text/plain": [
       "Canvas(toolbar=Toolbar(toolitems=[('Home', 'Reset original view', 'home', 'home'), ('Back', 'Back to previous …"
      ]
     },
     "metadata": {},
     "output_type": "display_data"
    },
    {
     "name": "stdout",
     "output_type": "stream",
     "text": [
      "File saved at: /priv/meggs3/u5708159/SAMI/figs/paper/bar_ncomponents_by_spectral_class.pdf\n"
     ]
    }
   ],
   "source": [
    "###############################################################################\n",
    "# Stacked bar chart: # of fitted components by spectral classification\n",
    "###############################################################################\n",
    "counts_0 = []\n",
    "counts_1 = []\n",
    "counts_2 = []\n",
    "counts_3 = []\n",
    "for bpt in bpt_labels:\n",
    "    cond = df[\"BPT (total)\"] == bpt\n",
    "    cond_0 = cond & (df[\"Number of components\"] == 0)\n",
    "    cond_1 = cond & (df[\"Number of components\"] == 1) & ~df[\"Low S/N component - HALPHA (component 0)\"]\n",
    "    cond_2 = cond & (df[\"Number of components\"] == 2) & ~df[\"Low S/N component - HALPHA (component 0)\"] & ~df[\"Low S/N component - HALPHA (component 1)\"]\n",
    "    cond_3 = cond & (df[\"Number of components\"] == 3) & ~df[\"Low S/N component - HALPHA (component 0)\"] & ~df[\"Low S/N component - HALPHA (component 1)\"] & ~df[\"Low S/N component - HALPHA (component 2)\"]\n",
    "    counts_0.append(df[cond_0].shape[0] / df[cond].shape[0] * 100)\n",
    "    counts_1.append(df[cond_1].shape[0] / df[cond].shape[0] * 100)\n",
    "    counts_2.append(df[cond_2].shape[0] / df[cond].shape[0] * 100)\n",
    "    counts_3.append(df[cond_3].shape[0] / df[cond].shape[0] * 100)\n",
    "\n",
    "fig, ax = plt.subplots(nrows=1, ncols=1, figsize=(7, 5))\n",
    "ax.bar(bpt_labels, counts_0, width=0.6, label=ncomponents_labels[0] + \" components\", color=ncomponents_colours[0])\n",
    "ax.bar(bpt_labels, counts_1, width=0.6, bottom=counts_0, label=ncomponents_labels[1] + \" component\", color=ncomponents_colours[1])\n",
    "ax.bar(bpt_labels, counts_2, width=0.6, bottom=np.array(counts_0) + np.array(counts_1), label=ncomponents_labels[2] + \" components\", color=ncomponents_colours[2])\n",
    "ax.bar(bpt_labels, counts_3, width=0.6, bottom=np.array(counts_0) + np.array(counts_1) + np.array(counts_2), label=ncomponents_labels[3] + \" components\", color=ncomponents_colours[3])\n",
    "ax.grid()\n",
    "ax.set_ylim([0, 105])\n",
    "ax.set_ylabel(\"Percentage\")\n",
    "ax.set_xlabel(\"Spectral classification\")\n",
    "ax.legend(loc=\"lower center\", bbox_to_anchor=(0.5, 1.02), ncol=2, fontsize=\"small\")\n",
    "plt.xticks(rotation=90)\n",
    "\n",
    "if savefigs:\n",
    "    fname = os.path.join(fig_path, f\"bar_ncomponents_by_spectral_class.pdf\")\n",
    "    fig.savefig(fname, bbox_inches=\"tight\", format=\"pdf\")\n",
    "    print(f\"File saved at: {fname}\")"
   ]
  },
  {
   "cell_type": "markdown",
   "metadata": {},
   "source": [
    "## PLOT: WHAV diagram for the whole sample coloured by count, BPT category, $v_{\\rm grad}$, $r/R_e$\n",
    "---"
   ]
  },
  {
   "cell_type": "code",
   "execution_count": 9,
   "metadata": {},
   "outputs": [
    {
     "data": {
      "application/vnd.jupyter.widget-view+json": {
       "model_id": "5663591701e043a69231c2badeb211a4",
       "version_major": 2,
       "version_minor": 0
      },
      "text/plain": [
       "Canvas(toolbar=Toolbar(toolitems=[('Home', 'Reset original view', 'home', 'home'), ('Back', 'Back to previous …"
      ]
     },
     "metadata": {},
     "output_type": "display_data"
    },
    {
     "name": "stderr",
     "output_type": "stream",
     "text": [
      "/pkg/linux/anaconda-20191122/anaconda3/lib/python3.7/site-packages/matplotlib/colors.py:1110: RuntimeWarning: invalid value encountered in less_equal\n",
      "  mask |= resdat <= 0\n"
     ]
    },
    {
     "name": "stdout",
     "output_type": "stream",
     "text": [
      "File saved at: /priv/meggs3/u5708159/SAMI/figs/paper/WHAV_nostar_SAMI_count.pdf\n"
     ]
    },
    {
     "data": {
      "application/vnd.jupyter.widget-view+json": {
       "model_id": "5a8a5526a63f49dfa7c070ad91f6937e",
       "version_major": 2,
       "version_minor": 0
      },
      "text/plain": [
       "Canvas(toolbar=Toolbar(toolitems=[('Home', 'Reset original view', 'home', 'home'), ('Back', 'Back to previous …"
      ]
     },
     "metadata": {},
     "output_type": "display_data"
    },
    {
     "name": "stdout",
     "output_type": "stream",
     "text": [
      "File saved at: /priv/meggs3/u5708159/SAMI/figs/paper/WHAV_nostar_SAMI_BPT.pdf\n"
     ]
    },
    {
     "data": {
      "application/vnd.jupyter.widget-view+json": {
       "model_id": "c93edf7fa6664135abe8e35321247078",
       "version_major": 2,
       "version_minor": 0
      },
      "text/plain": [
       "Canvas(toolbar=Toolbar(toolitems=[('Home', 'Reset original view', 'home', 'home'), ('Back', 'Back to previous …"
      ]
     },
     "metadata": {},
     "output_type": "display_data"
    },
    {
     "name": "stdout",
     "output_type": "stream",
     "text": [
      "File saved at: /priv/meggs3/u5708159/SAMI/figs/paper/WHAV_nostar_SAMI_v_grad.pdf\n"
     ]
    },
    {
     "data": {
      "application/vnd.jupyter.widget-view+json": {
       "model_id": "5a8e02252cd94ac1978fea757b2a299e",
       "version_major": 2,
       "version_minor": 0
      },
      "text/plain": [
       "Canvas(toolbar=Toolbar(toolitems=[('Home', 'Reset original view', 'home', 'home'), ('Back', 'Back to previous …"
      ]
     },
     "metadata": {},
     "output_type": "display_data"
    },
    {
     "name": "stdout",
     "output_type": "stream",
     "text": [
      "File saved at: /priv/meggs3/u5708159/SAMI/figs/paper/WHAV_nostar_SAMI_r_over_Re.pdf\n"
     ]
    }
   ],
   "source": [
    "col_z_list = [\"count\", \"BPT (numeric) (total)\", \"v_grad\", \"r/R_e\"]\n",
    "for col_z in col_z_list:\n",
    "    fig, axs = plt.subplots(nrows=1, ncols=3, figsize=(5 * 3, 5))\n",
    "    fig.subplots_adjust(wspace=0)\n",
    "    bbox = axs[-1].get_position()\n",
    "    cax = fig.add_axes([bbox.x0 + bbox.width, bbox.y0, bbox.width * 0.1, bbox.height])\n",
    "\n",
    "    for ii in range(3):\n",
    "        plot2dhistcontours(df, col_x=f\"log sigma_gas (component {ii})\",\n",
    "                           col_y=f\"log HALPHA EW (component {ii})\",\n",
    "                           col_z=f\"{col_z} (component {ii})\" if f\"{col_z} (component {ii})\" in df else col_z, \n",
    "                           log_z=True if col_z == \"count\" else False,\n",
    "                           alpha=1.0, ax=axs[ii], cax=cax, nbins=100,\n",
    "                           linewidths=0.5,\n",
    "                           contours=True, hist=True, colors=\"white\",\n",
    "                           vmin=1 if col_z == \"count\" else None, \n",
    "                           vmax=1e3 if col_z == \"count\" else None,\n",
    "                           plot_colorbar=True if ii == 3 - 1 else False)\n",
    "        # Decorations\n",
    "        axs[ii].grid()\n",
    "        axs[ii].set_ylabel(\"\") if ii > 0 else None\n",
    "        axs[ii].set_yticklabels([]) if ii > 0 else None\n",
    "        axs[ii].text(s=f\"Component {ii + 1}\", x=0.05, y=0.95, transform=axs[ii].transAxes, verticalalignment=\"top\")\n",
    "\n",
    "    # Save\n",
    "    if savefigs:\n",
    "        fname = os.path.join(fig_path, f\"WHAV_nostar_SAMI_{fname_fn(col_z)}.pdf\")\n",
    "        fig.savefig(fname, bbox_inches=\"tight\", format=\"pdf\")\n",
    "        print(f\"File saved at: {fname}\")        \n",
    "        "
   ]
  },
  {
   "cell_type": "markdown",
   "metadata": {},
   "source": [
    "## PLOT: WHAV* diagram for the whole sample coloured by count, BPT category\n",
    "---"
   ]
  },
  {
   "cell_type": "code",
   "execution_count": 10,
   "metadata": {
    "scrolled": true
   },
   "outputs": [
    {
     "data": {
      "application/vnd.jupyter.widget-view+json": {
       "model_id": "82e3a5b1b06f4292affa8a062a7b50cc",
       "version_major": 2,
       "version_minor": 0
      },
      "text/plain": [
       "Canvas(toolbar=Toolbar(toolitems=[('Home', 'Reset original view', 'home', 'home'), ('Back', 'Back to previous …"
      ]
     },
     "metadata": {},
     "output_type": "display_data"
    },
    {
     "name": "stderr",
     "output_type": "stream",
     "text": [
      "/pkg/linux/anaconda-20191122/anaconda3/lib/python3.7/site-packages/matplotlib/colors.py:1110: RuntimeWarning: invalid value encountered in less_equal\n",
      "  mask |= resdat <= 0\n"
     ]
    },
    {
     "name": "stdout",
     "output_type": "stream",
     "text": [
      "File saved at: /priv/meggs3/u5708159/SAMI/figs/paper/WHAV_SAMI_count.pdf\n"
     ]
    },
    {
     "data": {
      "application/vnd.jupyter.widget-view+json": {
       "model_id": "82e713c797f841f7b68f47890e7450bd",
       "version_major": 2,
       "version_minor": 0
      },
      "text/plain": [
       "Canvas(toolbar=Toolbar(toolitems=[('Home', 'Reset original view', 'home', 'home'), ('Back', 'Back to previous …"
      ]
     },
     "metadata": {},
     "output_type": "display_data"
    },
    {
     "name": "stdout",
     "output_type": "stream",
     "text": [
      "File saved at: /priv/meggs3/u5708159/SAMI/figs/paper/WHAV_SAMI_BPT.pdf\n"
     ]
    },
    {
     "data": {
      "application/vnd.jupyter.widget-view+json": {
       "model_id": "f47b7deebb0047d29824a56cb1962c65",
       "version_major": 2,
       "version_minor": 0
      },
      "text/plain": [
       "Canvas(toolbar=Toolbar(toolitems=[('Home', 'Reset original view', 'home', 'home'), ('Back', 'Back to previous …"
      ]
     },
     "metadata": {},
     "output_type": "display_data"
    },
    {
     "name": "stdout",
     "output_type": "stream",
     "text": [
      "File saved at: /priv/meggs3/u5708159/SAMI/figs/paper/WHAV_SAMI_v_grad.pdf\n"
     ]
    },
    {
     "data": {
      "application/vnd.jupyter.widget-view+json": {
       "model_id": "b5e5e09db7df40b3a1644f17d59cb5fc",
       "version_major": 2,
       "version_minor": 0
      },
      "text/plain": [
       "Canvas(toolbar=Toolbar(toolitems=[('Home', 'Reset original view', 'home', 'home'), ('Back', 'Back to previous …"
      ]
     },
     "metadata": {},
     "output_type": "display_data"
    },
    {
     "name": "stdout",
     "output_type": "stream",
     "text": [
      "File saved at: /priv/meggs3/u5708159/SAMI/figs/paper/WHAV_SAMI_r_over_Re.pdf\n"
     ]
    }
   ],
   "source": [
    "col_z_list = [\"count\", \"BPT (numeric) (total)\", \"v_grad\", \"r/R_e\"]\n",
    "for col_z in col_z_list:\n",
    "    fig, axs = plt.subplots(nrows=1, ncols=3, figsize=(5 * 3, 5))\n",
    "    fig.subplots_adjust(wspace=0)\n",
    "    bbox = axs[-1].get_position()\n",
    "    cax = fig.add_axes([bbox.x0 + bbox.width, bbox.y0, bbox.width * 0.1, bbox.height])\n",
    "\n",
    "    for ii in range(3):\n",
    "        plot2dhistcontours(df, col_x=f\"sigma_gas - sigma_* (component {ii})\",\n",
    "                           col_y=f\"log HALPHA EW (component {ii})\",\n",
    "                           col_z=f\"{col_z} (component {ii})\" if f\"{col_z} (component {ii})\" in df else col_z, \n",
    "                           log_z=True if col_z == \"count\" else False,\n",
    "                           alpha=1.0, ax=axs[ii], cax=cax, nbins=100,\n",
    "                           linewidths=0.5,\n",
    "                           contours=True, hist=True, colors=\"white\",\n",
    "                           vmin=1 if col_z == \"count\" else None, \n",
    "                           vmax=1e3 if col_z == \"count\" else None,\n",
    "                           plot_colorbar=True if ii == 3 - 1 else False)\n",
    "        # Decorations\n",
    "        axs[ii].grid()\n",
    "        axs[ii].set_ylabel(\"\") if ii > 0 else None\n",
    "        axs[ii].set_yticklabels([]) if ii > 0 else None\n",
    "        axs[ii].text(s=f\"Component {ii + 1}\", x=0.05, y=0.95, transform=axs[ii].transAxes, verticalalignment=\"top\")\n",
    "\n",
    "    # Save\n",
    "    if savefigs:\n",
    "        fname = os.path.join(fig_path, f\"WHAV_SAMI_{fname_fn(col_z)}.pdf\")\n",
    "        fig.savefig(fname, bbox_inches=\"tight\", format=\"pdf\")\n",
    "        print(f\"File saved at: {fname}\")        \n",
    "        "
   ]
  },
  {
   "cell_type": "markdown",
   "metadata": {},
   "source": [
    "## PLOT: WHAV* diagram for each spectral classification separately\n",
    "---"
   ]
  },
  {
   "cell_type": "code",
   "execution_count": null,
   "metadata": {},
   "outputs": [],
   "source": [
    "col_z = \"count\"\n",
    "col_x = \"sigma_gas - sigma_*\"\n",
    "col_y = \"log HALPHA EW\"\n",
    "\n",
    "fig, axs_all = plt.subplots(nrows=len(bpt_labels[1:]), ncols=3, figsize=(5 * 3, 5 * len(bpt_labels[1:])), sharex=True)\n",
    "fig.subplots_adjust(wspace=0, hspace=0)\n",
    "\n",
    "for rr, (axs, bpt) in enumerate(zip(axs_all, bpt_labels[1:])): \n",
    "    bbox = axs[-1].get_position()\n",
    "    cax = fig.add_axes([bbox.x0 + bbox.width, bbox.y0, 0.03, bbox.height])\n",
    "\n",
    "    df_subset = df[df[\"BPT (total)\"] == bpt]\n",
    "    # recom components\n",
    "    for ii in range(3):\n",
    "        plot2dhistcontours(df_subset, col_x=f\"{col_x} (component {ii})\",\n",
    "                           col_y=f\"{col_y} (component {ii})\",\n",
    "                           col_z=f\"{col_z} (component {ii})\" if f\"{col_z} (component {ii})\" in df else col_z, \n",
    "                           log_z=True if col_z == \"count\" else False,\n",
    "                           alpha=1.0, ax=axs[ii], cax=cax, nbins=100,\n",
    "                           linewidths=0.5,\n",
    "                           contours=True, hist=True, colors=\"white\",\n",
    "                           vmin=1 if col_z == \"count\" else None, \n",
    "                           vmax=1e3 if col_z == \"count\" else None,\n",
    "                           plot_colorbar=True if ii == 3 - 1 else False)\n",
    "        # Decorations\n",
    "        axs[ii].get_children()[0].set_clim([1, 1e3]) if col_z == \"count\" else None\n",
    "        axs[ii].grid()\n",
    "        axs[ii].axvline(0, linestyle=\"--\", color=\"k\") if col_x == \"sigma_gas - sigma_*\" else None\n",
    "        axs[ii].set_ylabel(\"\") if ii > 0 else None\n",
    "        axs[ii].set_yticklabels([]) if ii > 0 else None\n",
    "        axs[ii].set_xlabel(\"\") if rr < len(bpt_labels[1:]) - 2 else None\n",
    "        axs[ii].set_xticklabels([]) if rr < len(bpt_labels[1:]) - 2 else None\n",
    "        axs[ii].set_title(component_labels[ii]) if rr == 0 else None\n",
    "    axs[0].text(s=bpt, x=0.1, y=0.9, horizontalalignment=\"left\", transform=axs[0].transAxes)\n"
   ]
  },
  {
   "cell_type": "markdown",
   "metadata": {},
   "source": [
    "## PLOT: BPT, WHAN, WHAV* for individual galaxies\n",
    "---"
   ]
  },
  {
   "cell_type": "code",
   "execution_count": 134,
   "metadata": {},
   "outputs": [],
   "source": [
    "plt.close(\"all\")"
   ]
  },
  {
   "cell_type": "code",
   "execution_count": 135,
   "metadata": {},
   "outputs": [],
   "source": [
    "# gal = 9011900521  # cool barred galaxy\n",
    "gal = 209807\n",
    "df_gal = df[df[\"ID\"] == gal]\n",
    "savefigs = True"
   ]
  },
  {
   "cell_type": "code",
   "execution_count": 136,
   "metadata": {},
   "outputs": [],
   "source": [
    "# layout:\n",
    "# SDSS image | number of components | BT classifications\n",
    "# delta sigma: 1 | 2 | 3\n",
    "# EW: 1 | 2 | 3\n",
    "# BPT\n",
    "# WHAN | WHAV"
   ]
  },
  {
   "cell_type": "code",
   "execution_count": 137,
   "metadata": {
    "scrolled": false
   },
   "outputs": [
    {
     "data": {
      "application/vnd.jupyter.widget-view+json": {
       "model_id": "1833154ce4cb4ad39dbb67ec91910d3e",
       "version_major": 2,
       "version_minor": 0
      },
      "text/plain": [
       "Canvas(toolbar=Toolbar(toolitems=[('Home', 'Reset original view', 'home', 'home'), ('Back', 'Back to previous …"
      ]
     },
     "metadata": {},
     "output_type": "display_data"
    },
    {
     "name": "stderr",
     "output_type": "stream",
     "text": [
      "/home/u5708159/python/Modules/spaxelsleuth/plotting/plot2dmap.py:98: SettingWithCopyWarning: \n",
      "A value is trying to be set on a copy of a slice from a DataFrame.\n",
      "Try using .loc[row_indexer,col_indexer] = value instead\n",
      "\n",
      "See the caveats in the documentation: http://pandas.pydata.org/pandas-docs/stable/user_guide/indexing.html#returning-a-view-versus-a-copy\n",
      "  df_gal[\"x, y (pixels)\"] = list(zip(df_gal[\"x (projected, arcsec)\"] / as_per_px, df_gal[\"y (projected, arcsec)\"] / as_per_px))\n"
     ]
    },
    {
     "name": "stdout",
     "output_type": "stream",
     "text": [
      "Saving to /priv/meggs3/u5708159/SAMI/figs/paper/GAMA209807_maps.pdf\n"
     ]
    }
   ],
   "source": [
    "fig, axs = plt.subplots(nrows=4, ncols=3, figsize=(13, 17))\n",
    "fig.subplots_adjust(wspace=0.05, hspace=0.05)\n",
    "\n",
    "# SDSS image \n",
    "ax = plot_sdss_image(df_gal, ax=axs[0][0])\n",
    "if ax is not None:\n",
    "    ax.set_title(f\"GAMA{gal}\")\n",
    "    lon = ax.coords[0]\n",
    "    lon.set_ticklabel_visible(False)\n",
    "\n",
    "# Number of components\n",
    "_, ax = plot2dmap(df_gal=df_gal, bin_type=\"default\", survey=\"sami\",\n",
    "          PA_deg=0,\n",
    "          col_z=\"Number of components\",\n",
    "          ax=axs[0][1], \n",
    "          plot_colorbar=True, cax=None, cax_orientation=\"horizontal\", \n",
    "          show_title=False)\n",
    "lon = ax.coords[0]\n",
    "lon.set_ticklabel_visible(False)\n",
    "lat = ax.coords[1]\n",
    "lat.set_ticklabel_visible(False)\n",
    "\n",
    "\n",
    "# BPT classifications \n",
    "_, ax = plot2dmap(df_gal=df_gal, bin_type=\"default\", survey=\"sami\",\n",
    "          PA_deg=0,\n",
    "          col_z=\"BPT (numeric) (total)\",\n",
    "          ax=axs[0][2], \n",
    "          plot_colorbar=True, cax=None, cax_orientation=\"vertical\", \n",
    "          show_title=False)\n",
    "lon = ax.coords[0]\n",
    "lon.set_ticklabel_visible(False)\n",
    "lat = ax.coords[1]\n",
    "lat.set_ticklabel_visible(False)\n",
    "\n",
    "# v_gas\n",
    "for ii in range(3):\n",
    "    _, ax = plot2dmap(df_gal=df_gal, bin_type=\"default\", survey=\"sami\",\n",
    "              PA_deg=0,\n",
    "              col_z=f\"v_gas (component {ii})\",\n",
    "              ax=axs[1][ii], \n",
    "              plot_colorbar=True if ii == 2 else False, cax=None, cax_orientation=\"vertical\", \n",
    "              vmin=-200, vmax=+200,\n",
    "              show_title=False)\n",
    "    ax.text(s=f\"Component {ii + 1}\", x=0.05, y=0.95, transform=axs[1][ii].transAxes, verticalalignment=\"top\")\n",
    "    if ii > 0:\n",
    "        lat = ax.coords[1]\n",
    "        lat.set_ticklabel_visible(False)\n",
    "    lon = ax.coords[0]\n",
    "    lon.set_ticklabel_visible(False)\n",
    "\n",
    "\n",
    "# delta sigma \n",
    "for ii in range(3):\n",
    "    _, ax = plot2dmap(df_gal=df_gal, bin_type=\"default\", survey=\"sami\",\n",
    "              PA_deg=0,\n",
    "              col_z=f\"sigma_gas - sigma_* (component {ii})\",\n",
    "              ax=axs[2][ii], \n",
    "              plot_colorbar=True if ii == 2 else False, cax=None, cax_orientation=\"vertical\", \n",
    "              vmin=-200, vmax=+200,\n",
    "              show_title=False)\n",
    "    ax.text(s=f\"Component {ii + 1}\", x=0.05, y=0.95, transform=axs[1][ii].transAxes, verticalalignment=\"top\")\n",
    "    if ii > 0:\n",
    "        lat = ax.coords[1]\n",
    "        lat.set_ticklabel_visible(False)\n",
    "    lon = ax.coords[0]\n",
    "    lon.set_ticklabel_visible(False)\n",
    "\n",
    "# EW \n",
    "for ii in range(3):\n",
    "    _, ax = plot2dmap(df_gal=df_gal, bin_type=\"default\", survey=\"sami\",\n",
    "              PA_deg=0,\n",
    "              col_z=f\"HALPHA EW (component {ii})\",\n",
    "              ax=axs[3][ii], \n",
    "              plot_colorbar=True if ii == 2 else False, cax=None, cax_orientation=\"vertical\", \n",
    "              show_title=False)\n",
    "    ax.text(s=f\"Component {ii + 1}\", x=0.05, y=0.95, transform=axs[2][ii].transAxes, verticalalignment=\"top\")\n",
    "    if ii > 0:\n",
    "        lat = ax.coords[1]\n",
    "        lat.set_ticklabel_visible(False)\n",
    "        \n",
    "# Save\n",
    "if savefigs:\n",
    "    fname = os.path.join(fig_path, f\"GAMA{gal}_maps.pdf\")\n",
    "    fig.savefig(fname, bbox_inches=\"tight\", format=\"pdf\")\n",
    "    print(f\"Saving to {fname}\")"
   ]
  },
  {
   "cell_type": "code",
   "execution_count": 138,
   "metadata": {
    "scrolled": true
   },
   "outputs": [
    {
     "data": {
      "application/vnd.jupyter.widget-view+json": {
       "model_id": "85c510e4133c4a5d8ce926544b5e5f2c",
       "version_major": 2,
       "version_minor": 0
      },
      "text/plain": [
       "Canvas(toolbar=Toolbar(toolitems=[('Home', 'Reset original view', 'home', 'home'), ('Back', 'Back to previous …"
      ]
     },
     "metadata": {},
     "output_type": "display_data"
    },
    {
     "name": "stderr",
     "output_type": "stream",
     "text": [
      "/pkg/linux/anaconda-20191122/anaconda3/lib/python3.7/site-packages/matplotlib/colors.py:1110: RuntimeWarning: invalid value encountered in less_equal\n",
      "  mask |= resdat <= 0\n"
     ]
    },
    {
     "name": "stdout",
     "output_type": "stream",
     "text": [
      "Saving to /priv/meggs3/u5708159/SAMI/figs/paper/GAMA209807_BPT.pdf\n"
     ]
    }
   ],
   "source": [
    "fig, axs, cax = plot_empty_BPT_diagram(colorbar=True, nrows=1, include_Law2021=True, figsize=(12, 4))\n",
    "markers = [\"o\", \">\", \"D\"]\n",
    "col_z = \"r/R_e\"\n",
    "for cc, col_x in enumerate([\"log N2\", \"log S2\", \"log O1\"]):\n",
    "    # Plot full SAMI sample\n",
    "    plot2dhistcontours(df=df, \n",
    "                       col_x=f\"{col_x} (total)\",\n",
    "                       col_y=f\"log O3 (total)\", col_z=\"count\", log_z=True,\n",
    "                       alpha=0.5, cmap=\"gray_r\",\n",
    "                       ax=axs[cc], plot_colorbar=False)\n",
    "\n",
    "    # Plot measurements for this galaxy\n",
    "    plot2dscatter(df=df_gal,\n",
    "                  col_x=f\"{col_x} (total)\",\n",
    "                  col_y=f\"log O3 (total)\",\n",
    "                  col_z=col_z,\n",
    "                  cax=cax,\n",
    "                  marker=\"o\", ax=axs[cc], \n",
    "                  markersize=20, \n",
    "                  markerfacecolor=component_colours[ii],\n",
    "                  markeredgecolor=\"black\",\n",
    "                  plot_colorbar=True if cc == 2 else False)\n",
    "\n",
    "    # axis limits\n",
    "    axs[cc].set_xlim([np.nanmin([vmin_fn(col_x), df_gal[f\"{col_x} (total)\"].min() - 0.1]),\n",
    "                      np.nanmax([vmax_fn(col_x), df_gal[f\"{col_x} (total)\"].max() + 0.1])])\n",
    "    # axis limits\n",
    "    axs[cc].set_ylim([np.nanmin([vmin_fn(\"log O3\"), df_gal[f\"log O3 (total)\"].min() - 0.1]),\n",
    "                      np.nanmax([vmax_fn(\"log O3\"), df_gal[f\"log O3 (total)\"].max() + 0.1])])\n",
    "\n",
    "# Decorations\n",
    "[ax.grid() for ax in axs]\n",
    "[ax.set_ylabel(\"\") for ax in axs[1:]]\n",
    "[ax.set_yticklabels([]) for ax in axs[1:]]\n",
    "[ax.set_xticks(ax.get_xticks()[:-1]) for ax in axs[:-1]]\n",
    "[ax.collections[0].set_rasterized(True) for ax in axs]\n",
    "\n",
    "# Save\n",
    "if savefigs:\n",
    "    fname = os.path.join(fig_path, f\"GAMA{gal}_BPT.pdf\")\n",
    "    fig.savefig(fname, bbox_inches=\"tight\", format=\"pdf\")\n",
    "    print(f\"Saving to {fname}\")"
   ]
  },
  {
   "cell_type": "code",
   "execution_count": 139,
   "metadata": {
    "scrolled": false
   },
   "outputs": [
    {
     "data": {
      "application/vnd.jupyter.widget-view+json": {
       "model_id": "08d331e3817d476e87633705351f2cda",
       "version_major": 2,
       "version_minor": 0
      },
      "text/plain": [
       "Canvas(toolbar=Toolbar(toolitems=[('Home', 'Reset original view', 'home', 'home'), ('Back', 'Back to previous …"
      ]
     },
     "metadata": {},
     "output_type": "display_data"
    },
    {
     "name": "stderr",
     "output_type": "stream",
     "text": [
      "/pkg/linux/anaconda-20191122/anaconda3/lib/python3.7/site-packages/matplotlib/colors.py:1110: RuntimeWarning: invalid value encountered in less_equal\n",
      "  mask |= resdat <= 0\n"
     ]
    },
    {
     "name": "stdout",
     "output_type": "stream",
     "text": [
      "Saving to /priv/meggs3/u5708159/SAMI/figs/paper/GAMA209807_WHAN_WHAV.pdf\n"
     ]
    }
   ],
   "source": [
    "fig, axs = plt.subplots(nrows=1, ncols=2, figsize=(10, 4))\n",
    "fig.subplots_adjust(wspace=0.3)\n",
    "col_z = \"r/R_e\"\n",
    "col_y = \"log HALPHA EW\"\n",
    "\n",
    "\n",
    "# WHAN diagram\n",
    "ax = axs[0]\n",
    "\n",
    "# Plot full SAMI sample\n",
    "plot2dhistcontours(df=df, col_x=f\"log N2 (total)\",\n",
    "                   col_y=f\"log HALPHA EW (total)\",\n",
    "                   col_z=\"count\", log_z=True,\n",
    "                   alpha=0.5, cmap=\"gray_r\", ax=ax,\n",
    "                   plot_colorbar=False)\n",
    "\n",
    "# Plot measurements for this galaxy\n",
    "plot2dscatter(df=df_gal,\n",
    "              col_x=f\"log N2 (total)\",\n",
    "              col_y=f\"log HALPHA EW (total)\",\n",
    "              col_z=col_z,\n",
    "              cax=cax,\n",
    "              marker=\"o\", ax=ax, \n",
    "              markersize=20, \n",
    "              markeredgecolor=\"black\",\n",
    "              plot_colorbar=True, )\n",
    "\n",
    "# axis limits\n",
    "ax.set_xlim([np.nanmin([vmin_fn(f\"log N2 (total)\"), df_gal[f\"log N2 (total)\"].min() - 0.1]),\n",
    "             np.nanmax([vmax_fn(f\"log N2 (total)\"), df_gal[f\"log N2 (total)\"].max() + 0.1])])\n",
    "# axis limits\n",
    "ax.set_ylim([np.nanmin([vmin_fn(\"log HALPHA EW\"), df_gal[f\"log HALPHA EW (total)\"].min() - 0.1]),\n",
    "             np.nanmax([vmax_fn(\"log HALPHA EW\"), df_gal[f\"log HALPHA EW (total)\"].max() + 0.1])])\n",
    "\n",
    "# Decorations\n",
    "ax.grid()\n",
    "\n",
    "# WHAV* diagram\n",
    "ax = axs[1]\n",
    "\n",
    "# Plot full SAMI sample\n",
    "plot2dhistcontours(df=df, col_x=f\"sigma_gas - sigma_*\",\n",
    "                   col_y=f\"log HALPHA EW\",\n",
    "                   col_z=\"count\", log_z=True,\n",
    "                   alpha=0.5, cmap=\"gray_r\", ax=ax,\n",
    "                   plot_colorbar=False)\n",
    "\n",
    "# Plot measurements for this galaxy\n",
    "markers = [\"o\", \">\", \"D\"]\n",
    "for ii in range(3):\n",
    "    plot2dscatter(df=df_gal,\n",
    "                  col_x=f\"sigma_gas - sigma_* (component {ii})\",\n",
    "                  col_y=f\"log HALPHA EW (component {ii})\",\n",
    "                  marker=markers[ii], ax=ax, \n",
    "                  cax=None,\n",
    "                  markersize=20, \n",
    "                  markerfacecolor=component_colours[ii], \n",
    "                  markeredgecolor=\"black\",\n",
    "                  plot_colorbar=False)\n",
    "\n",
    "ax.set_xlim(\n",
    "    [np.nanmin([vmin_fn(\"sigma_gas - sigma_*\"), \n",
    "                df_gal[\"sigma_gas - sigma_* (component 0)\"].min(), \n",
    "                df_gal[\"sigma_gas - sigma_* (component 1)\"].min(), \n",
    "                df_gal[\"sigma_gas - sigma_* (component 2)\"].min()]) - 50,\n",
    "     np.nanmax([vmax_fn(\"sigma_gas - sigma_*\"),\n",
    "                df_gal[\"sigma_gas - sigma_* (component 0)\"].max(),\n",
    "                df_gal[\"sigma_gas - sigma_* (component 1)\"].max(),\n",
    "                df_gal[\"sigma_gas - sigma_* (component 2)\"].max()]) + 50])\n",
    "\n",
    "# Decorations\n",
    "ax.grid()\n",
    "\n",
    "# Legend\n",
    "legend_elements = [Line2D([0], [0], marker=markers[ii], \n",
    "                          color=\"none\", markeredgecolor=\"black\",\n",
    "                          label=f\"Component {ii + 1}\",\n",
    "                          markerfacecolor=component_colours[ii], markersize=5) for ii in range(3)]\n",
    "ax.legend(handles=legend_elements, fontsize=\"x-small\", loc=\"upper right\")\n",
    "\n",
    "# Save\n",
    "if savefigs:\n",
    "    fname = os.path.join(fig_path, f\"GAMA{gal}_WHAN_WHAV.pdf\")\n",
    "    fig.savefig(fname, bbox_inches=\"tight\", format=\"pdf\")\n",
    "    print(f\"Saving to {fname}\")"
   ]
  },
  {
   "cell_type": "markdown",
   "metadata": {},
   "source": [
    "# **Analysis of star-forming spaxels**\n",
    "---\n",
    "---"
   ]
  },
  {
   "cell_type": "code",
   "execution_count": 13,
   "metadata": {},
   "outputs": [],
   "source": [
    "plt.close(\"all\")"
   ]
  },
  {
   "cell_type": "code",
   "execution_count": 5,
   "metadata": {},
   "outputs": [],
   "source": [
    "# Make a separate DataFrame only containing star-forming spaxels\n",
    "df_SF = df.copy()\n",
    "df_SF = df_SF[df_SF[\"BPT (total)\"] == \"SF\"]\n",
    "\n",
    "# Inclination cut?\n",
    "# df_SF = df_SF[df_SF[\"Inclination i (degrees)\"] < 30]\n",
    "\n",
    "# Remove spaxels at small radii?\n",
    "\n",
    "# # Remove spaxels with v_grad > some cutoff?\n",
    "# df_SF = df_SF[(df_SF[\"v_grad (component 0)\"] < 10) &\n",
    "#               ((df_SF[\"v_grad (component 1)\"] < 10) | (df_SF[\"v_grad (component 1)\"].isna())) & \n",
    "#               ((df_SF[\"v_grad (component 2)\"] < 10) | (df_SF[\"v_grad (component 2)\"].isna()))]\n",
    "\n",
    "# df_SF = df_SF[df_SF[\"log N2 (total)\"] <= -0.35]"
   ]
  },
  {
   "cell_type": "markdown",
   "metadata": {},
   "source": [
    "### PLOT: histograms showing local/global/systematic quantities for 1,2,3-component spaxels: what drives the number of components per spaxel?\n",
    "---"
   ]
  },
  {
   "cell_type": "code",
   "execution_count": 141,
   "metadata": {
    "scrolled": false
   },
   "outputs": [
    {
     "data": {
      "application/vnd.jupyter.widget-view+json": {
       "model_id": "0ee6dc3763f641979821b204293e17a0",
       "version_major": 2,
       "version_minor": 0
      },
      "text/plain": [
       "Canvas(toolbar=Toolbar(toolitems=[('Home', 'Reset original view', 'home', 'home'), ('Back', 'Back to previous …"
      ]
     },
     "metadata": {},
     "output_type": "display_data"
    },
    {
     "name": "stdout",
     "output_type": "stream",
     "text": [
      "Saving to /priv/meggs3/u5708159/SAMI/figs/paper/hist_1vs2vs3components_HaEW_and_sigma_and_SFR_SF_only\n"
     ]
    },
    {
     "data": {
      "application/vnd.jupyter.widget-view+json": {
       "model_id": "ee7d89b051ea472ea9baa4158051067e",
       "version_major": 2,
       "version_minor": 0
      },
      "text/plain": [
       "Canvas(toolbar=Toolbar(toolitems=[('Home', 'Reset original view', 'home', 'home'), ('Back', 'Back to previous …"
      ]
     },
     "metadata": {},
     "output_type": "display_data"
    },
    {
     "name": "stdout",
     "output_type": "stream",
     "text": [
      "Saving to /priv/meggs3/u5708159/SAMI/figs/paper/hist_1vs2vs3components_systematic_SF_only.pdf\n"
     ]
    },
    {
     "data": {
      "application/vnd.jupyter.widget-view+json": {
       "model_id": "09c0b25dd6e041a3873c750349e6c825",
       "version_major": 2,
       "version_minor": 0
      },
      "text/plain": [
       "Canvas(toolbar=Toolbar(toolitems=[('Home', 'Reset original view', 'home', 'home'), ('Back', 'Back to previous …"
      ]
     },
     "metadata": {},
     "output_type": "display_data"
    },
    {
     "name": "stderr",
     "output_type": "stream",
     "text": [
      "/pkg/linux/anaconda-20191122/anaconda3/lib/python3.7/site-packages/matplotlib/axes/_axes.py:6735: RuntimeWarning: All-NaN slice encountered\n",
      "  xmin = min(xmin, np.nanmin(xi))\n",
      "/pkg/linux/anaconda-20191122/anaconda3/lib/python3.7/site-packages/matplotlib/axes/_axes.py:6736: RuntimeWarning: All-NaN slice encountered\n",
      "  xmax = max(xmax, np.nanmax(xi))\n"
     ]
    },
    {
     "name": "stdout",
     "output_type": "stream",
     "text": [
      "Saving to /priv/meggs3/u5708159/SAMI/figs/paper/hist_1vs2vs3components_HALPHA_SNR_SF_only.pdf\n"
     ]
    },
    {
     "data": {
      "application/vnd.jupyter.widget-view+json": {
       "model_id": "f59f1b3bf42145feb9a99d6bbf0d65bc",
       "version_major": 2,
       "version_minor": 0
      },
      "text/plain": [
       "Canvas(toolbar=Toolbar(toolitems=[('Home', 'Reset original view', 'home', 'home'), ('Back', 'Back to previous …"
      ]
     },
     "metadata": {},
     "output_type": "display_data"
    },
    {
     "name": "stdout",
     "output_type": "stream",
     "text": [
      "Saving to /priv/meggs3/u5708159/SAMI/figs/paper/hist_1vs2vs3components_vgrad_SF_only.pdf\n"
     ]
    },
    {
     "data": {
      "application/vnd.jupyter.widget-view+json": {
       "model_id": "0b0b3803b564411cbd2fd25c7b81784e",
       "version_major": 2,
       "version_minor": 0
      },
      "text/plain": [
       "Canvas(toolbar=Toolbar(toolitems=[('Home', 'Reset original view', 'home', 'home'), ('Back', 'Back to previous …"
      ]
     },
     "metadata": {},
     "output_type": "display_data"
    },
    {
     "name": "stdout",
     "output_type": "stream",
     "text": [
      "Saving to /priv/meggs3/u5708159/SAMI/figs/paper/hist_1vs2vs3components_local_SF_only.pdf\n"
     ]
    },
    {
     "data": {
      "application/vnd.jupyter.widget-view+json": {
       "model_id": "4074d369f6a14f58bc8876e6d9d84876",
       "version_major": 2,
       "version_minor": 0
      },
      "text/plain": [
       "Canvas(toolbar=Toolbar(toolitems=[('Home', 'Reset original view', 'home', 'home'), ('Back', 'Back to previous …"
      ]
     },
     "metadata": {},
     "output_type": "display_data"
    },
    {
     "name": "stdout",
     "output_type": "stream",
     "text": [
      "Saving to /priv/meggs3/u5708159/SAMI/figs/paper/hist_1vs2vs3components_global_SF_only.pdf\n"
     ]
    }
   ],
   "source": [
    "# Halpha EW, SFR, SFR surface density\n",
    "fig, axs = plt.subplots(nrows=1, ncols=3, figsize=(15, 4))\n",
    "fig.subplots_adjust(wspace=0)\n",
    "\n",
    "for cc, col_x in enumerate([\"log HALPHA EW (total)\", \"log SFR (component 0)\", \"log SFR surface density (component 0)\"]):\n",
    "    for ii in range(3):\n",
    "        cond = df_SF[\"Number of components\"] == ii + 1\n",
    "        hist(df_SF.loc[cond, col_x], density=True, histtype=\"step\",\n",
    "             ax=axs[cc], range=(vmin_fn(col_x), 100 if col_x.startswith(\"sigma\") else vmax_fn(col_x)),\n",
    "             bins=\"scott\",\n",
    "             label=f\"{ncomponents_labels[ii + 1]} component{'s' if ii > 1 else ''}\" + r\" ($N = %d$)\" % (df_SF.loc[cond, col_x].shape[0]),\n",
    "             color=ncomponents_colours[ii + 1])\n",
    "    axs[cc].set_xlabel(label_fn(col_x))\n",
    "    axs[cc].set_yticklabels([]) if ii > 0 else None\n",
    "axs[0].axvline(np.log10(3), linestyle=\"--\", color=\"k\")\n",
    "axs[0].legend(fontsize=\"x-small\", loc=\"upper left\")\n",
    "axs[0].set_ylabel(r\"$N$ (normalised)\")\n",
    "fig.suptitle(r\"H$\\alpha$-derived quantities (SF spaxels only)\", y=0.94)\n",
    "\n",
    "if savefigs:\n",
    "    fname = os.path.join(fig_path, f\"hist_1vs2vs3components_HaEW_and_sigma_and_SFR_SF_only\")\n",
    "    print(f\"Saving to {fname}\")\n",
    "    fig.savefig(fname, bbox_inches=\"tight\")\n",
    "\n",
    "fig, axs = plt.subplots(nrows=1, ncols=3, figsize=(15, 4))\n",
    "fig.subplots_adjust(wspace=0)\n",
    "\n",
    "# Systematic quantities\n",
    "for cc, col_x in enumerate([\"Bin size (square kpc)\", \"z_spec\", \"Inclination i (degrees)\"]):\n",
    "    for ii in range(3):\n",
    "        cond = df_SF[\"Number of components\"] == ii + 1\n",
    "        hist(df_SF.loc[cond, col_x], density=True, histtype=\"step\",\n",
    "             ax=axs[cc],\n",
    "             bins=\"scott\", \n",
    "             range=(0, 90) if col_x == \"Inclination i (degrees)\" else None,\n",
    "             label=f\"{ncomponents_labels[ii + 1]} component{'s' if ii > 1 else ''}\" + r\" ($N = %d$)\" % (df_SF.loc[cond].shape[0]),\n",
    "             color=ncomponents_colours[ii + 1])\n",
    "    axs[cc].set_xlabel(label_fn(col_x))\n",
    "    axs[cc].set_yticklabels([]) if cc > 0 else None\n",
    "# axs[0].legend(fontsize=\"x-small\", loc=\"upper right\")\n",
    "axs[0].set_ylabel(r\"$N$ (normalised)\")\n",
    "fig.suptitle(\"Systematics (SF spaxels only)\", y=0.94)\n",
    "\n",
    "if savefigs:\n",
    "    fname = os.path.join(fig_path, f\"hist_1vs2vs3components_systematic_SF_only.pdf\")\n",
    "    print(f\"Saving to {fname}\")\n",
    "    fig.savefig(fname, bbox_inches=\"tight\", format=\"pdf\")\n",
    "    \n",
    "fig, axs = plt.subplots(nrows=1, ncols=3, figsize=(15, 4))\n",
    "fig.subplots_adjust(wspace=0)\n",
    "\n",
    "# HALPHA S/N\n",
    "for cc, col_x in enumerate([\"HALPHA S/N (component 0)\", \"HALPHA S/N (component 1)\", \"HALPHA S/N (component 2)\"]):\n",
    "    for ii in range(3):\n",
    "        cond = df_SF[\"Number of components\"] == ii + 1\n",
    "        hist(df_SF.loc[cond, col_x], density=True, histtype=\"step\",\n",
    "             ax=axs[cc],\n",
    "             bins=\"scott\", \n",
    "             range=(0, 90) if col_x == \"Inclination i (degrees)\" else None,\n",
    "             label=f\"{ncomponents_labels[ii + 1]} component{'s' if ii > 1 else ''}\" + r\" ($N = %d$)\" % (df_SF.loc[cond].shape[0]),\n",
    "             color=ncomponents_colours[ii + 1])\n",
    "    axs[cc].set_xlabel(label_fn(col_x))\n",
    "    axs[cc].set_yticklabels([]) if cc > 0 else None\n",
    "# axs[0].legend(fontsize=\"x-small\", loc=\"upper right\")\n",
    "axs[0].set_ylabel(r\"$N$ (normalised)\")\n",
    "fig.suptitle(\"Systematics (SF spaxels only)\", y=0.94)\n",
    "\n",
    "if savefigs:\n",
    "    fname = os.path.join(fig_path, f\"hist_1vs2vs3components_HALPHA_SNR_SF_only.pdf\")\n",
    "    print(f\"Saving to {fname}\")\n",
    "    fig.savefig(fname, bbox_inches=\"tight\", format=\"pdf\")\n",
    "    \n",
    "# Specifically looking at v_grad\n",
    "fig, axs = plt.subplots(nrows=1, ncols=3, figsize=(15, 4))\n",
    "fig.subplots_adjust(wspace=0)\n",
    "\n",
    "for cc, col_x in enumerate([\"v_grad (component 0)\", \"v_grad (component 1)\", \"v_grad (component 2)\"]):\n",
    "    for ii in range(3):\n",
    "        cond = df_SF[\"Number of components\"] == ii + 1\n",
    "        if all(df_SF.loc[cond, col_x].isna()):\n",
    "            continue\n",
    "        hist(df_SF.loc[cond, col_x], density=True, histtype=\"step\",\n",
    "             ax=axs[cc],\n",
    "             bins=\"scott\", range=(0, 150),\n",
    "             label=f\"{ncomponents_labels[ii + 1]} component{'s' if ii > 1 else ''}\" + r\" ($N = %d$)\" % (df_SF.loc[cond].shape[0]),\n",
    "             color=ncomponents_colours[ii + 1])\n",
    "    axs[cc].set_xlabel(label_fn(col_x) + f\" (component {cc + 1})\")\n",
    "    axs[cc].set_yticklabels([]) if cc > 0 else None\n",
    "    axs[cc].autoscale(enable=True, axis=\"x\", tight=True)\n",
    "# axs[0].legend(fontsize=\"x-small\", loc=\"upper left\")\n",
    "axs[0].set_ylabel(r\"$N$ (normalised)\")\n",
    "fig.suptitle(r\"$v_{\\rm grad}$ (SF spaxels only)\", y=0.94)\n",
    "\n",
    "if savefigs:\n",
    "    fname = os.path.join(fig_path, f\"hist_1vs2vs3components_vgrad_SF_only.pdf\")\n",
    "    print(f\"Saving to {fname}\")\n",
    "    fig.savefig(fname, bbox_inches=\"tight\", format=\"pdf\")\n",
    "\n",
    "# Local quantities\n",
    "fig, axs = plt.subplots(nrows=1, ncols=3, figsize=(15, 4))\n",
    "fig.subplots_adjust(wspace=0)\n",
    "\n",
    "for cc, col_x in enumerate([\"D4000\", \"r/R_e\", \"sigma_*\"]):\n",
    "    for ii in range(3):\n",
    "        cond = df_SF[\"Number of components\"] == ii + 1\n",
    "        hist(df_SF.loc[cond, col_x], density=True, histtype=\"step\",\n",
    "             ax=axs[cc], \n",
    "             range=(vmin_fn(col_x), 100 if col_x.startswith(\"sigma_gas\") else vmax_fn(col_x)),\n",
    "             bins=\"scott\",\n",
    "             label=f\"{ncomponents_labels[ii + 1]} component{'s' if ii > 1 else ''}\" + r\" ($N = %d$)\" % (df_SF.loc[cond].shape[0]),\n",
    "             color=ncomponents_colours[ii + 1])\n",
    "    axs[cc].set_xlabel(label_fn(col_x))\n",
    "    axs[cc].set_yticklabels([]) if cc > 0 else None\n",
    "    axs[cc].autoscale(enable=True, axis=\"x\", tight=True)\n",
    "# axs[-1].legend(fontsize=\"x-small\", loc=\"upper right\")\n",
    "axs[0].set_ylabel(r\"$N$ (normalised)\")\n",
    "fig.suptitle(\"Local properties (SF spaxels only)\", y=0.94)\n",
    "\n",
    "if savefigs:\n",
    "    fname = os.path.join(fig_path, f\"hist_1vs2vs3components_local_SF_only.pdf\")\n",
    "    print(f\"Saving to {fname}\")\n",
    "    fig.savefig(fname, bbox_inches=\"tight\", format=\"pdf\")\n",
    "\n",
    "# Global quantities\n",
    "fig, axs = plt.subplots(nrows=1, ncols=3, figsize=(15, 4))\n",
    "fig.subplots_adjust(wspace=0)\n",
    "\n",
    "for cc, col_x in enumerate([\"R_e (kpc)\", \"log M_*\", \"log(M/R_e)\"]):\n",
    "    for ii in range(3):\n",
    "        cond = df_SF[\"Number of components\"] == ii + 1\n",
    "        hist(df_SF.loc[cond, col_x], density=True, histtype=\"step\",\n",
    "             ax=axs[cc], range=(vmin_fn(col_x), 100 if col_x.startswith(\"sigma\") else vmax_fn(col_x)),\n",
    "             bins=\"scott\",\n",
    "             label=f\"{ncomponents_labels[ii + 1]} component{'s' if ii > 1 else ''}\" + r\" ($N = %d$)\" % (df_SF.loc[cond].shape[0]),\n",
    "             color=ncomponents_colours[ii + 1])\n",
    "    axs[cc].set_xlabel(label_fn(col_x))\n",
    "    axs[cc].set_yticklabels([]) if cc > 0 else None\n",
    "    axs[cc].autoscale(enable=True, axis=\"x\", tight=True)\n",
    "# axs[0].legend(fontsize=\"x-small\", loc=\"upper left\")\n",
    "axs[0].set_ylabel(r\"$N$ (normalised)\")\n",
    "fig.suptitle(\"Global properties (SF spaxels only)\", y=0.94)\n",
    "\n",
    "if savefigs:\n",
    "    fname = os.path.join(fig_path, f\"hist_1vs2vs3components_global_SF_only.pdf\")\n",
    "    print(f\"Saving to {fname}\")\n",
    "    fig.savefig(fname, bbox_inches=\"tight\", format=\"pdf\")"
   ]
  },
  {
   "cell_type": "markdown",
   "metadata": {},
   "source": [
    "### PLOT: histogram showing % of 1,2,3 component spaxels as a function of SFR surface density\n",
    "---"
   ]
  },
  {
   "cell_type": "code",
   "execution_count": 11,
   "metadata": {},
   "outputs": [
    {
     "ename": "NameError",
     "evalue": "name 'df_SF' is not defined",
     "output_type": "error",
     "traceback": [
      "\u001b[0;31m---------------------------------------------------------------------------\u001b[0m",
      "\u001b[0;31mNameError\u001b[0m                                 Traceback (most recent call last)",
      "\u001b[0;32m<ipython-input-11-7aef9f3ac84e>\u001b[0m in \u001b[0;36m<module>\u001b[0;34m\u001b[0m\n\u001b[1;32m      1\u001b[0m \u001b[0;31m# Compute: what is the mean SFR surface density in spaxels with 1, 2, 3 components?\u001b[0m\u001b[0;34m\u001b[0m\u001b[0;34m\u001b[0m\u001b[0;34m\u001b[0m\u001b[0m\n\u001b[0;32m----> 2\u001b[0;31m \u001b[0mprint\u001b[0m\u001b[0;34m(\u001b[0m\u001b[0;34mf\"1-component SF spaxels: mean log SFR surface density = {df_SF.loc[df_SF['Number of components'] == 1, 'log SFR surface density (total)'].mean():.4f} ± {df_SF.loc[df_SF['Number of components'] == 1, 'log SFR surface density (total)'].std():.4f}\"\u001b[0m\u001b[0;34m)\u001b[0m\u001b[0;34m\u001b[0m\u001b[0;34m\u001b[0m\u001b[0m\n\u001b[0m\u001b[1;32m      3\u001b[0m \u001b[0mprint\u001b[0m\u001b[0;34m(\u001b[0m\u001b[0;34mf\"2-component SF spaxels: mean log SFR surface density = {df_SF.loc[df_SF['Number of components'] == 2, 'log SFR surface density (total)'].mean():.4f} ± {df_SF.loc[df_SF['Number of components'] == 2, 'log SFR surface density (total)'].std():.4f}\"\u001b[0m\u001b[0;34m)\u001b[0m\u001b[0;34m\u001b[0m\u001b[0;34m\u001b[0m\u001b[0m\n\u001b[1;32m      4\u001b[0m \u001b[0mprint\u001b[0m\u001b[0;34m(\u001b[0m\u001b[0;34mf\"3-component SF spaxels: mean log SFR surface density = {df_SF.loc[df_SF['Number of components'] == 3, 'log SFR surface density (total)'].mean():.4f} ± {df_SF.loc[df_SF['Number of components'] == 3, 'log SFR surface density (total)'].std():.4f}\"\u001b[0m\u001b[0;34m)\u001b[0m\u001b[0;34m\u001b[0m\u001b[0;34m\u001b[0m\u001b[0m\n\u001b[1;32m      5\u001b[0m \u001b[0;34m\u001b[0m\u001b[0m\n",
      "\u001b[0;31mNameError\u001b[0m: name 'df_SF' is not defined"
     ]
    }
   ],
   "source": [
    "# Compute: what is the mean SFR surface density in spaxels with 1, 2, 3 components?\n",
    "print(f\"1-component SF spaxels: mean log SFR surface density = {df_SF.loc[df_SF['Number of components'] == 1, 'log SFR surface density (total)'].mean():.4f} ± {df_SF.loc[df_SF['Number of components'] == 1, 'log SFR surface density (total)'].std():.4f}\")\n",
    "print(f\"2-component SF spaxels: mean log SFR surface density = {df_SF.loc[df_SF['Number of components'] == 2, 'log SFR surface density (total)'].mean():.4f} ± {df_SF.loc[df_SF['Number of components'] == 2, 'log SFR surface density (total)'].std():.4f}\")\n",
    "print(f\"3-component SF spaxels: mean log SFR surface density = {df_SF.loc[df_SF['Number of components'] == 3, 'log SFR surface density (total)'].mean():.4f} ± {df_SF.loc[df_SF['Number of components'] == 3, 'log SFR surface density (total)'].std():.4f}\")\n",
    "\n",
    "print(\"\\n\")\n",
    "print(f\"1-component SF spaxels: mean log SFR surface density = {df_SF.loc[df_SF['Number of components'] == 1, 'log SFR surface density (component 0)'].mean():.4f} ± {df_SF.loc[df_SF['Number of components'] == 1, 'log SFR surface density (component 0)'].std():.4f}\")\n",
    "print(f\"2-component SF spaxels: mean log SFR surface density = {df_SF.loc[df_SF['Number of components'] == 2, 'log SFR surface density (component 0)'].mean():.4f} ± {df_SF.loc[df_SF['Number of components'] == 2, 'log SFR surface density (component 0)'].std():.4f}\")\n",
    "print(f\"3-component SF spaxels: mean log SFR surface density = {df_SF.loc[df_SF['Number of components'] == 3, 'log SFR surface density (component 0)'].mean():.4f} ± {df_SF.loc[df_SF['Number of components'] == 3, 'log SFR surface density (component 0)'].std():.4f}\")"
   ]
  },
  {
   "cell_type": "code",
   "execution_count": 14,
   "metadata": {},
   "outputs": [
    {
     "data": {
      "application/vnd.jupyter.widget-view+json": {
       "model_id": "9942fc6e527b47b297b047de0e221cc9",
       "version_major": 2,
       "version_minor": 0
      },
      "text/plain": [
       "Canvas(toolbar=Toolbar(toolitems=[('Home', 'Reset original view', 'home', 'home'), ('Back', 'Back to previous …"
      ]
     },
     "metadata": {},
     "output_type": "display_data"
    },
    {
     "name": "stdout",
     "output_type": "stream",
     "text": [
      "Saving to /priv/meggs3/u5708159/SAMI/figs/paper/hist_SF_only_log_SFR_surface_density_ncomponents.pdf\n"
     ]
    }
   ],
   "source": [
    "# Compute how many 1, 2, 3 component spaxels there are in bins of SFR surface density (and SFR)\n",
    "for col_x in [\"log SFR surface density\"]:\n",
    "    sfr_vals = np.linspace(vmin_fn(col_x), vmax_fn(col_x), 10)\n",
    "    counts_1 = np.zeros(len(sfr_vals) - 1)\n",
    "    counts_2 = np.zeros(len(sfr_vals) - 1)\n",
    "    counts_3 = np.zeros(len(sfr_vals) - 1)\n",
    "    counts_tot = np.zeros(len(sfr_vals) - 1)\n",
    "\n",
    "    for ll in range(len(sfr_vals) - 1):\n",
    "        cond = df_SF[f\"{col_x} (component 0)\"] > sfr_vals[ll]\n",
    "        cond &= df_SF[f\"{col_x} (component 0)\"] <= sfr_vals[ll + 1]\n",
    "        df_subset = df_SF[cond]\n",
    "        counts_tot[ll] = df_subset.shape[0]\n",
    "        counts_1[ll] = df_subset[df_subset[\"Number of components\"] == 1].shape[0]\n",
    "        counts_2[ll] = df_subset[df_subset[\"Number of components\"] == 2].shape[0]\n",
    "        counts_3[ll] = df_subset[df_subset[\"Number of components\"] == 3].shape[0]\n",
    "\n",
    "    # Plot\n",
    "    fig, axs = plt.subplots(nrows=2, ncols=1, sharex=True, figsize=(7, 8))\n",
    "    fig.subplots_adjust(hspace=0)\n",
    "\n",
    "    # Plot\n",
    "    axs[0].bar(sfr_vals[:-1], counts_1,\n",
    "               align=\"edge\", width=np.diff(sfr_vals)[0], color=ncomponents_colours[1],\n",
    "               label=\"1 component\")\n",
    "    axs[0].bar(sfr_vals[:-1], counts_2, bottom=counts_1,\n",
    "               align=\"edge\", width=np.diff(sfr_vals)[0], color=ncomponents_colours[2],\n",
    "               label=\"2 components\")\n",
    "    axs[0].bar(sfr_vals[:-1], counts_3, bottom=counts_1 + counts_2,\n",
    "               align=\"edge\", width=np.diff(sfr_vals)[0], color=ncomponents_colours[3],\n",
    "               label=\"3 components\")\n",
    "    axs[0].grid()\n",
    "    axs[0].set_ylabel(r\"$N$\")\n",
    "    axs[0].set_yscale(\"log\")\n",
    "    axs[0].autoscale(axis=\"x\", enable=True, tight=True)\n",
    "    axs[0].set_ylim([0.5, None])\n",
    "    \n",
    "    axs[1].bar(sfr_vals[:-1], counts_1 / counts_tot  * 100,\n",
    "           align=\"edge\", width=np.diff(sfr_vals)[0], color=ncomponents_colours[1],\n",
    "              label=\"1 component\")\n",
    "    axs[1].bar(sfr_vals[:-1], counts_2 / counts_tot  * 100, bottom=counts_1 / counts_tot * 100,\n",
    "           align=\"edge\", width=np.diff(sfr_vals)[0], color=ncomponents_colours[2],\n",
    "              label=\"2 components\")\n",
    "    axs[1].bar(sfr_vals[:-1], counts_3 / counts_tot * 100, bottom=counts_1 / counts_tot * 100 + counts_2 / counts_tot * 100,\n",
    "           align=\"edge\", width=np.diff(sfr_vals)[0], color=ncomponents_colours[3],\n",
    "              label=\"3 components\")\n",
    "    axs[1].grid()\n",
    "    axs[1].set_ylabel(\"Percentage\")\n",
    "    axs[1].autoscale(axis=\"x\", enable=True, tight=True)\n",
    "    axs[1].autoscale(axis=\"y\", enable=True, tight=True)\n",
    "    axs[1].set_xlabel(label_fn(col_x))\n",
    "\n",
    "    # Heckman+2002 line\n",
    "    axs[1].axvline(-1, color=\"k\", linestyle=\"--\", label=\"Heckman+2002\")\n",
    "    axs[1].axvline(-2, color=\"k\", linestyle=\":\", label=\"Roberts-Borsani+2020a\")\n",
    "    axs[1].legend(loc=\"center left\", fontsize=\"small\", bbox_to_anchor=[1.0, 1.0])\n",
    "        \n",
    "    if savefigs:\n",
    "        fname = os.path.join(fig_path, f\"hist_SF_only_{col_x.replace(' ', '_')}_ncomponents.pdf\")\n",
    "        print(f\"Saving to {fname}\")\n",
    "        fig.savefig(fname, bbox_inches=\"tight\")\n"
   ]
  },
  {
   "cell_type": "markdown",
   "metadata": {},
   "source": [
    "### PLOT: histograms showing local/global/systematic quantities for spaxels with and without at least 1 kinematically disturbed copmonent: what determines the presence of kinematic components with $\\Delta \\sigma >> 0$?\n",
    "---"
   ]
  },
  {
   "cell_type": "code",
   "execution_count": 15,
   "metadata": {
    "scrolled": false
   },
   "outputs": [
    {
     "data": {
      "application/vnd.jupyter.widget-view+json": {
       "model_id": "25c005fd75794b70b32d536ed9712609",
       "version_major": 2,
       "version_minor": 0
      },
      "text/plain": [
       "Canvas(toolbar=Toolbar(toolitems=[('Home', 'Reset original view', 'home', 'home'), ('Back', 'Back to previous …"
      ]
     },
     "metadata": {},
     "output_type": "display_data"
    },
    {
     "name": "stdout",
     "output_type": "stream",
     "text": [
      "Saving to /priv/meggs3/u5708159/SAMI/figs/paper/hist_KDcomponents_HaEW_and_sigma_and_SFR_SF_only\n"
     ]
    },
    {
     "data": {
      "application/vnd.jupyter.widget-view+json": {
       "model_id": "747ad3c0611143a6a9731bf1caaa7198",
       "version_major": 2,
       "version_minor": 0
      },
      "text/plain": [
       "Canvas(toolbar=Toolbar(toolitems=[('Home', 'Reset original view', 'home', 'home'), ('Back', 'Back to previous …"
      ]
     },
     "metadata": {},
     "output_type": "display_data"
    },
    {
     "name": "stdout",
     "output_type": "stream",
     "text": [
      "Saving to /priv/meggs3/u5708159/SAMI/figs/paper/hist_KDcomponents_systematic_SF_only.pdf\n"
     ]
    },
    {
     "data": {
      "application/vnd.jupyter.widget-view+json": {
       "model_id": "d1e88c957cc44d6cb138f66ca2e7e05c",
       "version_major": 2,
       "version_minor": 0
      },
      "text/plain": [
       "Canvas(toolbar=Toolbar(toolitems=[('Home', 'Reset original view', 'home', 'home'), ('Back', 'Back to previous …"
      ]
     },
     "metadata": {},
     "output_type": "display_data"
    },
    {
     "name": "stdout",
     "output_type": "stream",
     "text": [
      "Saving to /priv/meggs3/u5708159/SAMI/figs/paper/hist_KDcomponents_vgrad_SF_only.pdf\n"
     ]
    },
    {
     "data": {
      "application/vnd.jupyter.widget-view+json": {
       "model_id": "2c3157c72991496997fecd82f3256d2e",
       "version_major": 2,
       "version_minor": 0
      },
      "text/plain": [
       "Canvas(toolbar=Toolbar(toolitems=[('Home', 'Reset original view', 'home', 'home'), ('Back', 'Back to previous …"
      ]
     },
     "metadata": {},
     "output_type": "display_data"
    },
    {
     "name": "stdout",
     "output_type": "stream",
     "text": [
      "Saving to /priv/meggs3/u5708159/SAMI/figs/paper/hist_KDcomponents_local_SF_only.pdf\n"
     ]
    },
    {
     "data": {
      "application/vnd.jupyter.widget-view+json": {
       "model_id": "245f64a70d4f43c7afa9695a2a28ea72",
       "version_major": 2,
       "version_minor": 0
      },
      "text/plain": [
       "Canvas(toolbar=Toolbar(toolitems=[('Home', 'Reset original view', 'home', 'home'), ('Back', 'Back to previous …"
      ]
     },
     "metadata": {},
     "output_type": "display_data"
    },
    {
     "name": "stdout",
     "output_type": "stream",
     "text": [
      "Saving to /priv/meggs3/u5708159/SAMI/figs/paper/hist_KDcomponents_global_SF_only.pdf\n"
     ]
    }
   ],
   "source": [
    "# Halpha EW, SFR, SFR surface density\n",
    "fig, axs = plt.subplots(nrows=1, ncols=3, figsize=(15, 4))\n",
    "fig.subplots_adjust(wspace=0)\n",
    "\n",
    "for cc, col_x in enumerate([\"log HALPHA EW (total)\", \"log SFR (component 0)\", \"log SFR surface density (component 0)\"]):\n",
    "    for ii in range(3):\n",
    "        cond = df_SF[\"Number of kinematically disturbed components\"] == ii\n",
    "        if not df_SF.loc[cond, col_x].any() or all(df_SF.loc[cond, col_x].isna()):\n",
    "            continue\n",
    "        hist(df_SF.loc[cond, col_x], density=True, histtype=\"step\",\n",
    "             ax=axs[cc], range=(vmin_fn(col_x), 100 if col_x.startswith(\"sigma\") else vmax_fn(col_x)),\n",
    "             bins=\"scott\",\n",
    "             label=f\"{ncomponents_labels[ii]} KD component{'s' if ii  > 1 else ''}\" + r\" ($N = %d$)\" % (df_SF.loc[cond, col_x].shape[0]),\n",
    "             color=ncomponents_colours[ii + 1])\n",
    "    axs[cc].set_xlabel(label_fn(col_x))\n",
    "    axs[cc].set_yticklabels([]) if ii > 0 else None\n",
    "axs[0].axvline(np.log10(3), linestyle=\"--\", color=\"k\")\n",
    "axs[0].legend(fontsize=\"x-small\", loc=\"upper left\")\n",
    "axs[0].set_ylabel(r\"$N$ (normalised)\")\n",
    "fig.suptitle(r\"H$\\alpha$-derived quantities (SF spaxels only)\", y=0.94)\n",
    "\n",
    "if savefigs:\n",
    "    fname = os.path.join(fig_path, f\"hist_KDcomponents_HaEW_and_sigma_and_SFR_SF_only\")\n",
    "    print(f\"Saving to {fname}\")\n",
    "    fig.savefig(fname, bbox_inches=\"tight\")\n",
    "\n",
    "fig, axs = plt.subplots(nrows=1, ncols=3, figsize=(15, 4))\n",
    "fig.subplots_adjust(wspace=0)\n",
    "\n",
    "# Systematic quantities\n",
    "for cc, col_x in enumerate([\"Bin size (square kpc)\", \"z_spec\", \"Inclination i (degrees)\"]):\n",
    "    for ii in range(3):\n",
    "        cond = df_SF[\"Number of kinematically disturbed components\"] == ii\n",
    "        if not df_SF.loc[cond, col_x].any() or all(df_SF.loc[cond, col_x].isna()):\n",
    "            continue\n",
    "        hist(df_SF.loc[cond, col_x], density=True, histtype=\"step\",\n",
    "             ax=axs[cc],\n",
    "             bins=\"scott\", \n",
    "             range=(0, 90) if col_x == \"Inclination i (degrees)\" else None,\n",
    "             label=f\"{ncomponents_labels[ii]} KD component{'s' if ii > 1 else ''}\" + r\" ($N = %d$)\" % (df_SF.loc[cond].shape[0]),\n",
    "             color=ncomponents_colours[ii + 1])\n",
    "    axs[cc].set_xlabel(label_fn(col_x))\n",
    "    axs[cc].set_yticklabels([]) if cc > 0 else None\n",
    "# axs[0].legend(fontsize=\"x-small\", loc=\"upper right\")\n",
    "axs[0].set_ylabel(r\"$N$ (normalised)\")\n",
    "fig.suptitle(\"Systematics (SF spaxels only)\", y=0.94)\n",
    "\n",
    "if savefigs:\n",
    "    fname = os.path.join(fig_path, f\"hist_KDcomponents_systematic_SF_only.pdf\")\n",
    "    print(f\"Saving to {fname}\")\n",
    "    fig.savefig(fname, bbox_inches=\"tight\", format=\"pdf\")\n",
    "    \n",
    "# Specifically looking at v_grad\n",
    "fig, axs = plt.subplots(nrows=1, ncols=3, figsize=(15, 4))\n",
    "fig.subplots_adjust(wspace=0)\n",
    "\n",
    "for cc, col_x in enumerate([\"v_grad (component 0)\", \"v_grad (component 1)\", \"v_grad (component 2)\"]):\n",
    "    for ii in range(3):\n",
    "        cond = df_SF[\"Number of kinematically disturbed components\"] == ii\n",
    "        if not df_SF.loc[cond, col_x].any() or all(df_SF.loc[cond, col_x].isna()):\n",
    "            continue\n",
    "        hist(df_SF.loc[cond, col_x], density=True, histtype=\"step\",\n",
    "             ax=axs[cc],\n",
    "             bins=\"scott\", range=(0, 150),\n",
    "             label=f\"{ncomponents_labels[ii]} KD component{'s' if ii > 1 else ''}\" + r\" ($N = %d$)\" % (df_SF.loc[cond].shape[0]),\n",
    "             color=ncomponents_colours[ii + 1])\n",
    "    axs[cc].set_xlabel(label_fn(col_x) + f\" (component {cc + 1})\")\n",
    "    axs[cc].set_yticklabels([]) if cc > 0 else None\n",
    "    axs[cc].autoscale(enable=True, axis=\"x\", tight=True)\n",
    "# axs[0].legend(fontsize=\"x-small\", loc=\"upper left\")\n",
    "axs[0].set_ylabel(r\"$N$ (normalised)\")\n",
    "fig.suptitle(r\"$v_{\\rm grad}$ (SF spaxels only)\", y=0.94)\n",
    "\n",
    "if savefigs:\n",
    "    fname = os.path.join(fig_path, f\"hist_KDcomponents_vgrad_SF_only.pdf\")\n",
    "    print(f\"Saving to {fname}\")\n",
    "    fig.savefig(fname, bbox_inches=\"tight\", format=\"pdf\")\n",
    "\n",
    "# Local quantities\n",
    "fig, axs = plt.subplots(nrows=1, ncols=3, figsize=(15, 4))\n",
    "fig.subplots_adjust(wspace=0)\n",
    "\n",
    "for cc, col_x in enumerate([\"D4000\", \"r/R_e\", \"sigma_*\"]):\n",
    "    for ii in range(3):\n",
    "        cond = df_SF[\"Number of kinematically disturbed components\"] == ii\n",
    "        if not df_SF.loc[cond, col_x].any() or all(df_SF.loc[cond, col_x].isna()):\n",
    "            continue\n",
    "        hist(df_SF.loc[cond, col_x], density=True, histtype=\"step\",\n",
    "             ax=axs[cc], \n",
    "             range=(vmin_fn(col_x), 100 if col_x.startswith(\"sigma_gas\") else vmax_fn(col_x)),\n",
    "             bins=\"scott\",\n",
    "             label=f\"{ncomponents_labels[ii]} KD component{'s' if ii > 1 else ''}\" + r\" ($N = %d$)\" % (df_SF.loc[cond].shape[0]),\n",
    "             color=ncomponents_colours[ii + 1])\n",
    "    axs[cc].set_xlabel(label_fn(col_x))\n",
    "    axs[cc].set_yticklabels([]) if cc > 0 else None\n",
    "    axs[cc].autoscale(enable=True, axis=\"x\", tight=True)\n",
    "# axs[-1].legend(fontsize=\"x-small\", loc=\"upper right\")\n",
    "axs[0].set_ylabel(r\"$N$ (normalised)\")\n",
    "fig.suptitle(\"Local properties (SF spaxels only)\", y=0.94)\n",
    "\n",
    "if savefigs:\n",
    "    fname = os.path.join(fig_path, f\"hist_KDcomponents_local_SF_only.pdf\")\n",
    "    print(f\"Saving to {fname}\")\n",
    "    fig.savefig(fname, bbox_inches=\"tight\", format=\"pdf\")\n",
    "\n",
    "# Global quantities\n",
    "fig, axs = plt.subplots(nrows=1, ncols=3, figsize=(15, 4))\n",
    "fig.subplots_adjust(wspace=0)\n",
    "\n",
    "for cc, col_x in enumerate([\"R_e (kpc)\", \"log M_*\", \"log(M/R_e)\"]):\n",
    "    for ii in range(3):\n",
    "        cond = df_SF[\"Number of kinematically disturbed components\"] == ii\n",
    "        if not df_SF.loc[cond, col_x].any() or all(df_SF.loc[cond, col_x].isna()):\n",
    "            continue\n",
    "        hist(df_SF.loc[cond, col_x], density=True, histtype=\"step\",\n",
    "             ax=axs[cc], range=(vmin_fn(col_x), 100 if col_x.startswith(\"sigma\") else vmax_fn(col_x)),\n",
    "             bins=\"scott\",\n",
    "             label=f\"{ncomponents_labels[ii]} KD component{'s' if ii  > 1 else ''}\" + r\" ($N = %d$)\" % (df_SF.loc[cond].shape[0]),\n",
    "             color=ncomponents_colours[ii + 1])\n",
    "    axs[cc].set_xlabel(label_fn(col_x))\n",
    "    axs[cc].set_yticklabels([]) if cc > 0 else None\n",
    "    axs[cc].autoscale(enable=True, axis=\"x\", tight=True)\n",
    "# axs[0].legend(fontsize=\"x-small\", loc=\"upper left\")\n",
    "axs[0].set_ylabel(r\"$N$ (normalised)\")\n",
    "fig.suptitle(\"Global properties (SF spaxels only)\", y=0.94)\n",
    "\n",
    "if savefigs:\n",
    "    fname = os.path.join(fig_path, f\"hist_KDcomponents_global_SF_only.pdf\")\n",
    "    print(f\"Saving to {fname}\")\n",
    "    fig.savefig(fname, bbox_inches=\"tight\", format=\"pdf\")"
   ]
  },
  {
   "cell_type": "code",
   "execution_count": 16,
   "metadata": {},
   "outputs": [
    {
     "data": {
      "application/vnd.jupyter.widget-view+json": {
       "model_id": "de1a03d6666b495fad4c37243f507451",
       "version_major": 2,
       "version_minor": 0
      },
      "text/plain": [
       "Canvas(toolbar=Toolbar(toolitems=[('Home', 'Reset original view', 'home', 'home'), ('Back', 'Back to previous …"
      ]
     },
     "metadata": {},
     "output_type": "display_data"
    },
    {
     "name": "stdout",
     "output_type": "stream",
     "text": [
      "Saving to /priv/meggs3/u5708159/SAMI/figs/paper/hist_SF_only_log_SFR_surface_density_KDcomponents.pdf\n"
     ]
    }
   ],
   "source": [
    "# Compute how many spaxels w/ KD components there are in bins of SFR surface density (and SFR)\n",
    "for col_x in [\"log SFR surface density\"]:\n",
    "    sfr_vals = np.linspace(vmin_fn(col_x), vmax_fn(col_x), 10)\n",
    "    counts_1 = np.zeros(len(sfr_vals) - 1)\n",
    "    counts_2 = np.zeros(len(sfr_vals) - 1)\n",
    "    counts_3 = np.zeros(len(sfr_vals) - 1)\n",
    "    counts_tot = np.zeros(len(sfr_vals) - 1)\n",
    "\n",
    "    for ll in range(len(sfr_vals) - 1):\n",
    "        cond = df_SF[f\"{col_x} (component 0)\"] > sfr_vals[ll]\n",
    "        cond &= df_SF[f\"{col_x} (component 0)\"] <= sfr_vals[ll + 1]\n",
    "        df_subset = df_SF[cond]\n",
    "        counts_tot[ll] = df_subset.shape[0]\n",
    "        counts_1[ll] = df_subset[df_subset[\"Number of kinematically disturbed components\"] == 0].shape[0]\n",
    "        counts_2[ll] = df_subset[df_subset[\"Number of kinematically disturbed components\"] == 1].shape[0]\n",
    "        counts_3[ll] = df_subset[df_subset[\"Number of kinematically disturbed components\"] == 2].shape[0]\n",
    "\n",
    "    # Plot\n",
    "    fig, axs = plt.subplots(nrows=2, ncols=1, sharex=True, figsize=(7, 8))\n",
    "    fig.subplots_adjust(hspace=0)\n",
    "\n",
    "    # Plot\n",
    "    axs[0].bar(sfr_vals[:-1], counts_1,\n",
    "               align=\"edge\", width=np.diff(sfr_vals)[0], color=ncomponents_colours[1])\n",
    "    axs[0].bar(sfr_vals[:-1], counts_2, bottom=counts_1,\n",
    "               align=\"edge\", width=np.diff(sfr_vals)[0], color=ncomponents_colours[2])\n",
    "    axs[0].bar(sfr_vals[:-1], counts_3, bottom=counts_1 + counts_2,\n",
    "               align=\"edge\", width=np.diff(sfr_vals)[0], color=ncomponents_colours[3])\n",
    "    axs[0].grid()\n",
    "    axs[0].set_ylabel(r\"$N$\")\n",
    "    axs[0].set_yscale(\"log\")\n",
    "    axs[0].autoscale(axis=\"x\", enable=True, tight=True)\n",
    "    axs[0].set_ylim([0.5, None])\n",
    "    \n",
    "    axs[1].bar(sfr_vals[:-1], counts_1 / counts_tot  * 100,\n",
    "           align=\"edge\", width=np.diff(sfr_vals)[0], color=ncomponents_colours[1],\n",
    "               label=\"0 KD components\")\n",
    "    axs[1].bar(sfr_vals[:-1], counts_2 / counts_tot  * 100, bottom=counts_1 / counts_tot * 100,\n",
    "           align=\"edge\", width=np.diff(sfr_vals)[0], color=ncomponents_colours[2],\n",
    "               label=\"1 KD component\")\n",
    "    axs[1].bar(sfr_vals[:-1], counts_3 / counts_tot * 100, bottom=counts_1 / counts_tot * 100 + counts_2 / counts_tot * 100,\n",
    "           align=\"edge\", width=np.diff(sfr_vals)[0], color=ncomponents_colours[3],\n",
    "               label=\"2 KD components\")\n",
    "    axs[1].grid()\n",
    "    axs[1].set_ylabel(\"Percentage\")\n",
    "    axs[1].autoscale(axis=\"x\", enable=True, tight=True)\n",
    "    axs[1].autoscale(axis=\"y\", enable=True, tight=True)\n",
    "    axs[1].set_xlabel(label_fn(col_x))\n",
    "\n",
    "    # Heckman+2002 line\n",
    "    axs[1].axvline(-1, color=\"k\", linestyle=\"--\", label=\"Heckman+2002\")\n",
    "    axs[1].axvline(-2, color=\"k\", linestyle=\":\", label=\"Roberts-Borsani+2020a\")\n",
    "    axs[1].legend(loc=\"center left\", fontsize=\"small\", bbox_to_anchor=[1.0, 1.0])\n",
    "        \n",
    "    if savefigs:\n",
    "        fname = os.path.join(fig_path, f\"hist_SF_only_{col_x.replace(' ', '_')}_KDcomponents.pdf\")\n",
    "        print(f\"Saving to {fname}\")\n",
    "        fig.savefig(fname, bbox_inches=\"tight\")\n"
   ]
  },
  {
   "cell_type": "markdown",
   "metadata": {},
   "source": [
    "### ~PLOT: WHAV* diagrams for SF spaxels in slices of SFR surface density and SFR~\n",
    "---"
   ]
  },
  {
   "cell_type": "code",
   "execution_count": 25,
   "metadata": {},
   "outputs": [
    {
     "data": {
      "application/vnd.jupyter.widget-view+json": {
       "model_id": "920f2f3a5b854459bd56fac963be6ab5",
       "version_major": 2,
       "version_minor": 0
      },
      "text/plain": [
       "Canvas(toolbar=Toolbar(toolitems=[('Home', 'Reset original view', 'home', 'home'), ('Back', 'Back to previous …"
      ]
     },
     "metadata": {},
     "output_type": "display_data"
    },
    {
     "name": "stderr",
     "output_type": "stream",
     "text": [
      "/home/u5708159/python/Modules/spaxelsleuth/plotting/plotgalaxies.py:178: UserWarning: No contour levels were found within the data range.\n",
      "  linewidths=linewidths)\n"
     ]
    },
    {
     "data": {
      "application/vnd.jupyter.widget-view+json": {
       "model_id": "cd31dcf3b3f14a6f962de99319226b1e",
       "version_major": 2,
       "version_minor": 0
      },
      "text/plain": [
       "Canvas(toolbar=Toolbar(toolitems=[('Home', 'Reset original view', 'home', 'home'), ('Back', 'Back to previous …"
      ]
     },
     "metadata": {},
     "output_type": "display_data"
    },
    {
     "data": {
      "application/vnd.jupyter.widget-view+json": {
       "model_id": "7a1f68f773c54ec2959ee147466bcd7b",
       "version_major": 2,
       "version_minor": 0
      },
      "text/plain": [
       "Canvas(toolbar=Toolbar(toolitems=[('Home', 'Reset original view', 'home', 'home'), ('Back', 'Back to previous …"
      ]
     },
     "metadata": {},
     "output_type": "display_data"
    },
    {
     "data": {
      "application/vnd.jupyter.widget-view+json": {
       "model_id": "a43c48aa15ef41e18dfe3e98015ee6cc",
       "version_major": 2,
       "version_minor": 0
      },
      "text/plain": [
       "Canvas(toolbar=Toolbar(toolitems=[('Home', 'Reset original view', 'home', 'home'), ('Back', 'Back to previous …"
      ]
     },
     "metadata": {},
     "output_type": "display_data"
    }
   ],
   "source": [
    "col_z = \"count\"\n",
    "sfr_bounds = [\n",
    "    (-4, -3),\n",
    "    (-3, -2),\n",
    "    (-2, -1),\n",
    "    (-1, 0)\n",
    "]\n",
    "for sfr_min, sfr_max in sfr_bounds:\n",
    "    fig, axs = plt.subplots(nrows=1, ncols=3, figsize=(5 * 3, 5))\n",
    "    fig.subplots_adjust(wspace=0)\n",
    "    bbox = axs[-1].get_position()\n",
    "    cax = fig.add_axes([bbox.x0 + bbox.width, bbox.y0, bbox.width * 0.1, bbox.height])\n",
    "\n",
    "    df_slice = df[(df[\"log SFR surface density (component 0)\"] > sfr_min) & (df[\"log SFR surface density (component 0)\"] <= sfr_max)]\n",
    "    \n",
    "    for ii in range(3):\n",
    "        plot2dhistcontours(df_slice, col_x=f\"sigma_gas - sigma_* (component {ii})\",\n",
    "                           col_y=f\"log HALPHA EW (component {ii})\",\n",
    "                           col_z=f\"{col_z} (component {ii})\" if f\"{col_z} (component {ii})\" in df else col_z, \n",
    "                           log_z=True if col_z == \"count\" else False,\n",
    "                           alpha=1.0, ax=axs[ii], cax=cax, nbins=100,\n",
    "                           linewidths=0.5,\n",
    "                           contours=True, hist=True, colors=\"white\",\n",
    "                           vmin=1 if col_z == \"count\" else None, \n",
    "                           vmax=1e3 if col_z == \"count\" else None,\n",
    "                           plot_colorbar=True if ii == 3 - 1 else False)\n",
    "        # Decorations\n",
    "        axs[ii].grid()\n",
    "        axs[ii].set_ylabel(\"\") if ii > 0 else None\n",
    "        axs[ii].set_yticklabels([]) if ii > 0 else None\n",
    "        axs[ii].text(s=f\"Component {ii + 1}\", x=0.05, y=0.95, transform=axs[ii].transAxes, verticalalignment=\"top\")\n",
    "        axs[1].set_title(r\"$%.1f < \\log_{10} \\Sigma_{\\rm SFR} \\leq %.1f$\" % (sfr_min, sfr_max))\n",
    "\n",
    "    # Save\n",
    "#     if savefigs:\n",
    "#         fname = os.path.join(fig_path, f\"WHAV_SAMI_{fname_fn(col_z)}.pdf\")\n",
    "#         fig.savefig(fname, bbox_inches=\"tight\", format=\"pdf\")\n",
    "#         print(f\"File saved at: {fname}\")      \n"
   ]
  },
  {
   "cell_type": "markdown",
   "metadata": {},
   "source": [
    "### PLOT: WHAV* diagrams for SF spaxels in slices of *total* galaxy SFR\n",
    "---"
   ]
  },
  {
   "cell_type": "code",
   "execution_count": 26,
   "metadata": {},
   "outputs": [
    {
     "name": "stderr",
     "output_type": "stream",
     "text": [
      "/pkg/linux/anaconda-20191122/anaconda3/lib/python3.7/site-packages/pandas/core/series.py:853: RuntimeWarning: divide by zero encountered in log10\n",
      "  result = getattr(ufunc, method)(*inputs, **kwargs)\n"
     ]
    }
   ],
   "source": [
    "# Compute total galaxy SFR \n",
    "for gal in df[\"ID\"].unique():\n",
    "    df_gal = df[df[\"ID\"] == gal]\n",
    "    SFR_tot_comp0 = df_gal[\"SFR (component 0)\"].sum()\n",
    "    SFR_tot = df_gal[\"SFR (total)\"].sum()\n",
    "    mstar = df_gal[\"log M_*\"].unique()[0]\n",
    "    df.loc[df[\"ID\"] == gal, \"SFR (whole galaxy, component 0)\"] = SFR_tot_comp0\n",
    "    df.loc[df[\"ID\"] == gal, \"SFR (whole galaxy, total)\"] = SFR_tot\n",
    "    df.loc[df[\"ID\"] == gal, \"sSFR (whole galaxy, component 0)\"] = SFR_tot_comp0 / 10**mstar\n",
    "    df.loc[df[\"ID\"] == gal, \"sSFR (whole galaxy, total)\"] = SFR_tot / 10**mstar\n",
    "    \n",
    "df[\"log SFR (whole galaxy, component 0)\"] = np.log10(df[\"SFR (whole galaxy, component 0)\"])\n",
    "df[\"log SFR (whole galaxy, total)\"] = np.log10(df[\"SFR (whole galaxy, total)\"])\n",
    "df[\"log sSFR (whole galaxy, component 0)\"] = np.log10(df[\"sSFR (whole galaxy, component 0)\"])\n",
    "df[\"log sSFR (whole galaxy, total)\"] = np.log10(df[\"sSFR (whole galaxy, total)\"])"
   ]
  },
  {
   "cell_type": "code",
   "execution_count": 27,
   "metadata": {},
   "outputs": [
    {
     "data": {
      "application/vnd.jupyter.widget-view+json": {
       "model_id": "e0f002b2fd4445e28cbde6195c143c07",
       "version_major": 2,
       "version_minor": 0
      },
      "text/plain": [
       "Canvas(toolbar=Toolbar(toolitems=[('Home', 'Reset original view', 'home', 'home'), ('Back', 'Back to previous …"
      ]
     },
     "metadata": {},
     "output_type": "display_data"
    },
    {
     "name": "stderr",
     "output_type": "stream",
     "text": [
      "/pkg/linux/anaconda-20191122/anaconda3/lib/python3.7/site-packages/numpy/lib/histograms.py:829: RuntimeWarning: invalid value encountered in greater_equal\n",
      "  keep = (tmp_a >= first_edge)\n",
      "/pkg/linux/anaconda-20191122/anaconda3/lib/python3.7/site-packages/numpy/lib/histograms.py:830: RuntimeWarning: invalid value encountered in less_equal\n",
      "  keep &= (tmp_a <= last_edge)\n"
     ]
    },
    {
     "data": {
      "text/plain": [
       "(array([     0.,      0.,  41084., 171651., 183161., 149773., 474796.,\n",
       "        440680.,   5456.,      0.]),\n",
       " array([-18. , -16.9, -15.8, -14.7, -13.6, -12.5, -11.4, -10.3,  -9.2,\n",
       "         -8.1,  -7. ]),\n",
       " <a list of 10 Patch objects>)"
      ]
     },
     "execution_count": 27,
     "metadata": {},
     "output_type": "execute_result"
    }
   ],
   "source": [
    "plt.figure(); plt.hist(df[\"log sSFR (whole galaxy, total)\"].values, range=(-18, -7))"
   ]
  },
  {
   "cell_type": "code",
   "execution_count": 28,
   "metadata": {},
   "outputs": [
    {
     "data": {
      "application/vnd.jupyter.widget-view+json": {
       "model_id": "8c512bc3c53449399fb2ee9bfd583077",
       "version_major": 2,
       "version_minor": 0
      },
      "text/plain": [
       "Canvas(toolbar=Toolbar(toolitems=[('Home', 'Reset original view', 'home', 'home'), ('Back', 'Back to previous …"
      ]
     },
     "metadata": {},
     "output_type": "display_data"
    },
    {
     "data": {
      "application/vnd.jupyter.widget-view+json": {
       "model_id": "f5f2f51027854e1aa1e5905cef822a0a",
       "version_major": 2,
       "version_minor": 0
      },
      "text/plain": [
       "Canvas(toolbar=Toolbar(toolitems=[('Home', 'Reset original view', 'home', 'home'), ('Back', 'Back to previous …"
      ]
     },
     "metadata": {},
     "output_type": "display_data"
    },
    {
     "name": "stderr",
     "output_type": "stream",
     "text": [
      "/pkg/linux/anaconda-20191122/anaconda3/lib/python3.7/site-packages/ipykernel_launcher.py:12: RuntimeWarning: More than 20 figures have been opened. Figures created through the pyplot interface (`matplotlib.pyplot.figure`) are retained until explicitly closed and may consume too much memory. (To control this warning, see the rcParam `figure.max_open_warning`).\n",
      "  if sys.path[0] == '':\n"
     ]
    },
    {
     "data": {
      "application/vnd.jupyter.widget-view+json": {
       "model_id": "23afec25b8474afb9a56a7a4f0d2c6fc",
       "version_major": 2,
       "version_minor": 0
      },
      "text/plain": [
       "Canvas(toolbar=Toolbar(toolitems=[('Home', 'Reset original view', 'home', 'home'), ('Back', 'Back to previous …"
      ]
     },
     "metadata": {},
     "output_type": "display_data"
    },
    {
     "data": {
      "application/vnd.jupyter.widget-view+json": {
       "model_id": "e0d85a6b0da34a67b5bdda96d44009de",
       "version_major": 2,
       "version_minor": 0
      },
      "text/plain": [
       "Canvas(toolbar=Toolbar(toolitems=[('Home', 'Reset original view', 'home', 'home'), ('Back', 'Back to previous …"
      ]
     },
     "metadata": {},
     "output_type": "display_data"
    },
    {
     "data": {
      "application/vnd.jupyter.widget-view+json": {
       "model_id": "682622d5af264adbba4db7cc032d9508",
       "version_major": 2,
       "version_minor": 0
      },
      "text/plain": [
       "Canvas(toolbar=Toolbar(toolitems=[('Home', 'Reset original view', 'home', 'home'), ('Back', 'Back to previous …"
      ]
     },
     "metadata": {},
     "output_type": "display_data"
    },
    {
     "data": {
      "application/vnd.jupyter.widget-view+json": {
       "model_id": "f7cc19be39da4cb48b913f76340fab58",
       "version_major": 2,
       "version_minor": 0
      },
      "text/plain": [
       "Canvas(toolbar=Toolbar(toolitems=[('Home', 'Reset original view', 'home', 'home'), ('Back', 'Back to previous …"
      ]
     },
     "metadata": {},
     "output_type": "display_data"
    }
   ],
   "source": [
    "# Slices of overall SFR \n",
    "col_z = \"count\"\n",
    "sfr_bounds = [\n",
    "    (-5, -4),\n",
    "    (-4, -3),\n",
    "    (-3, -2),\n",
    "    (-2, -1),\n",
    "    (-1, 0),\n",
    "    (0, 1)\n",
    "]\n",
    "for sfr_min, sfr_max in sfr_bounds:\n",
    "    fig, axs = plt.subplots(nrows=1, ncols=3, figsize=(5 * 3, 5))\n",
    "    fig.subplots_adjust(wspace=0)\n",
    "    bbox = axs[-1].get_position()\n",
    "    cax = fig.add_axes([bbox.x0 + bbox.width, bbox.y0, bbox.width * 0.1, bbox.height])\n",
    "\n",
    "    df_slice = df[(df[\"log SFR (whole galaxy, component 0)\"] > sfr_min) & (df[\"log SFR (whole galaxy, component 0)\"] <= sfr_max)]\n",
    "    \n",
    "    for ii in range(3):\n",
    "        plot2dhistcontours(df_slice, col_x=f\"sigma_gas - sigma_* (component {ii})\",\n",
    "                           col_y=f\"log HALPHA EW (component {ii})\",\n",
    "                           col_z=f\"{col_z} (component {ii})\" if f\"{col_z} (component {ii})\" in df else col_z, \n",
    "                           log_z=True if col_z == \"count\" else False,\n",
    "                           alpha=1.0, ax=axs[ii], cax=cax, nbins=100,\n",
    "                           linewidths=0.5,\n",
    "                           contours=True, hist=True, colors=\"white\",\n",
    "                           vmin=1 if col_z == \"count\" else None, \n",
    "                           vmax=1e3 if col_z == \"count\" else None,\n",
    "                           plot_colorbar=True if ii == 3 - 1 else False)\n",
    "        # Decorations\n",
    "        axs[ii].grid()\n",
    "        axs[ii].set_ylabel(\"\") if ii > 0 else None\n",
    "        axs[ii].set_yticklabels([]) if ii > 0 else None\n",
    "        axs[ii].text(s=f\"Component {ii + 1}\", x=0.05, y=0.95, transform=axs[ii].transAxes, verticalalignment=\"top\")\n",
    "        axs[1].set_title(r\"$%.1f < \\log_{10} {\\rm SFR_{tot}} \\leq %.1f$\" % (sfr_min, sfr_max))\n",
    "\n",
    "    # Save\n",
    "#     if savefigs:\n",
    "#         fname = os.path.join(fig_path, f\"WHAV_SAMI_{fname_fn(col_z)}.pdf\")\n",
    "#         fig.savefig(fname, bbox_inches=\"tight\", format=\"pdf\")\n",
    "#         print(f\"File saved at: {fname}\")      \n"
   ]
  },
  {
   "cell_type": "code",
   "execution_count": 29,
   "metadata": {},
   "outputs": [
    {
     "name": "stderr",
     "output_type": "stream",
     "text": [
      "/pkg/linux/anaconda-20191122/anaconda3/lib/python3.7/site-packages/ipykernel_launcher.py:10: RuntimeWarning: More than 20 figures have been opened. Figures created through the pyplot interface (`matplotlib.pyplot.figure`) are retained until explicitly closed and may consume too much memory. (To control this warning, see the rcParam `figure.max_open_warning`).\n",
      "  # Remove the CWD from sys.path while we load stuff.\n"
     ]
    },
    {
     "data": {
      "application/vnd.jupyter.widget-view+json": {
       "model_id": "6ea9dc01e1dd452188b078dc314cfba4",
       "version_major": 2,
       "version_minor": 0
      },
      "text/plain": [
       "Canvas(toolbar=Toolbar(toolitems=[('Home', 'Reset original view', 'home', 'home'), ('Back', 'Back to previous …"
      ]
     },
     "metadata": {},
     "output_type": "display_data"
    },
    {
     "data": {
      "application/vnd.jupyter.widget-view+json": {
       "model_id": "f8d89290616140e8a3802cc93fc6ef85",
       "version_major": 2,
       "version_minor": 0
      },
      "text/plain": [
       "Canvas(toolbar=Toolbar(toolitems=[('Home', 'Reset original view', 'home', 'home'), ('Back', 'Back to previous …"
      ]
     },
     "metadata": {},
     "output_type": "display_data"
    },
    {
     "data": {
      "application/vnd.jupyter.widget-view+json": {
       "model_id": "8e5ab2d20a1a49aea69650e4ed00f8a7",
       "version_major": 2,
       "version_minor": 0
      },
      "text/plain": [
       "Canvas(toolbar=Toolbar(toolitems=[('Home', 'Reset original view', 'home', 'home'), ('Back', 'Back to previous …"
      ]
     },
     "metadata": {},
     "output_type": "display_data"
    },
    {
     "data": {
      "application/vnd.jupyter.widget-view+json": {
       "model_id": "bedc6bc1d2864c5cac50cbb026f0de8f",
       "version_major": 2,
       "version_minor": 0
      },
      "text/plain": [
       "Canvas(toolbar=Toolbar(toolitems=[('Home', 'Reset original view', 'home', 'home'), ('Back', 'Back to previous …"
      ]
     },
     "metadata": {},
     "output_type": "display_data"
    }
   ],
   "source": [
    "# Slices of specific SFR \n",
    "col_z = \"count\"\n",
    "ssfr_bounds = [\n",
    "    (-16, -14),\n",
    "    (-14, -12),\n",
    "    (-12, -10),\n",
    "    (-10, -8),\n",
    "]\n",
    "for ssfr_min, ssfr_max in ssfr_bounds:\n",
    "    fig, axs = plt.subplots(nrows=1, ncols=3, figsize=(5 * 3, 5))\n",
    "    fig.subplots_adjust(wspace=0)\n",
    "    bbox = axs[-1].get_position()\n",
    "    cax = fig.add_axes([bbox.x0 + bbox.width, bbox.y0, bbox.width * 0.1, bbox.height])\n",
    "\n",
    "    df_slice = df[(df[\"log sSFR (whole galaxy, component 0)\"] > ssfr_min) & (df[\"log sSFR (whole galaxy, component 0)\"] <= ssfr_max)]\n",
    "    \n",
    "    for ii in range(3):\n",
    "        plot2dhistcontours(df_slice, col_x=f\"sigma_gas - sigma_* (component {ii})\",\n",
    "                           col_y=f\"log HALPHA EW (component {ii})\",\n",
    "                           col_z=f\"{col_z} (component {ii})\" if f\"{col_z} (component {ii})\" in df else col_z, \n",
    "                           log_z=True if col_z == \"count\" else False,\n",
    "                           alpha=1.0, ax=axs[ii], cax=cax, nbins=100,\n",
    "                           linewidths=0.5,\n",
    "                           contours=True, hist=True, colors=\"white\",\n",
    "                           vmin=1 if col_z == \"count\" else None, \n",
    "                           vmax=1e3 if col_z == \"count\" else None,\n",
    "                           plot_colorbar=True if ii == 3 - 1 else False)\n",
    "        # Decorations\n",
    "        axs[ii].grid()\n",
    "        axs[ii].set_ylabel(\"\") if ii > 0 else None\n",
    "        axs[ii].set_yticklabels([]) if ii > 0 else None\n",
    "        axs[ii].text(s=f\"Component {ii + 1}\", x=0.05, y=0.95, transform=axs[ii].transAxes, verticalalignment=\"top\")\n",
    "        axs[1].set_title(r\"$%.1f < \\log_{10} {\\rm sSFR_{tot}} \\leq %.1f$\" % (ssfr_min, ssfr_max))\n",
    "\n",
    "    # Save\n",
    "#     if savefigs:\n",
    "#         fname = os.path.join(fig_path, f\"WHAV_SAMI_{fname_fn(col_z)}.pdf\")\n",
    "#         fig.savefig(fname, bbox_inches=\"tight\", format=\"pdf\")\n",
    "#         print(f\"File saved at: {fname}\")      \n"
   ]
  },
  {
   "cell_type": "markdown",
   "metadata": {},
   "source": [
    "### Compute: fraction of spaxels with $\\Delta\\sigma < 0$ in the multi-component fits and in the single-component fits\n",
    "---"
   ]
  },
  {
   "cell_type": "code",
   "execution_count": 30,
   "metadata": {},
   "outputs": [
    {
     "name": "stdout",
     "output_type": "stream",
     "text": [
      "\n",
      "97.8871396280287% of 1-component SF-like spaxels have component 0 with dsigma < 0\n",
      "2.1128603719712893% of 1-component SF-like spaxels have component 0 with dsigma > 0\n",
      "The median value of dsigma in these spaxels is -38.41897190193553 km/s\n",
      "The standard deviation in dsigma in these spaxels is 26.5349240691652 km/s\n",
      "\n",
      "99.48364888123923% of 2-component SF-like spaxels have component 0 with dsigma < 0\n",
      "0.5163511187607573% of 2-component SF-like spaxels have component 0 with dsigma > 0\n",
      "The median value of dsigma in these spaxels is -48.353959925477085 km/s\n",
      "The standard deviation in dsigma in these spaxels is 26.76919846461757 km/s\n",
      "\n",
      "99.64945080626315% of 3-component SF-like spaxels have component 0 with dsigma < 0\n",
      "0.35054919373685445% of 3-component SF-like spaxels have component 0 with dsigma > 0\n",
      "The median value of dsigma in these spaxels is -47.72063281115906 km/s\n",
      "The standard deviation in dsigma in these spaxels is 27.222795238463696 km/s\n",
      "\n",
      "The median value of dsigma in all SF-like spaxels is -40.507696156793706 km/s\n",
      "The standard deviation in dsigma in all SF-like spaxels is 26.900298151401795 km/s\n",
      "\n",
      "The median value of sigma_gas in all SF-like spaxels is 29.831586394878585 km/s\n",
      "The standard deviation in sigma_gas in all SF-like spaxels is 11.79726333840793 km/s\n"
     ]
    }
   ],
   "source": [
    "# How many SF-like spaxels have dsigma < 0?\n",
    "Ntot = df_SF[(df_SF[\"Number of components\"] == 1) & (~df_SF[\"sigma_gas - sigma_* (component 0)\"].isna())].shape[0]\n",
    "N = df_SF[(df_SF[\"Number of components\"] == 1) & (df_SF[\"sigma_gas - sigma_* (component 0)\"] < 0)].shape[0]\n",
    "N2 = df_SF[(df_SF[\"Number of components\"] == 1) & (df_SF[\"sigma_gas - sigma_* (component 0)\"] > 0)].shape[0]\n",
    "\n",
    "print(f\"\\n{N / Ntot * 100}% of 1-component SF-like spaxels have component 0 with dsigma < 0\")\n",
    "print(f\"{N2 / Ntot * 100}% of 1-component SF-like spaxels have component 0 with dsigma > 0\")\n",
    "print(f\"The median value of dsigma in these spaxels is {df_SF.loc[(df_SF['Number of components'] == 1), 'sigma_gas - sigma_* (component 0)'].mean()} km/s\")\n",
    "print(f\"The standard deviation in dsigma in these spaxels is {df_SF.loc[(df_SF['Number of components'] == 1), 'sigma_gas - sigma_* (component 0)'].std()} km/s\")\n",
    "\n",
    "Ntot = df_SF[(df_SF[\"Number of components\"] == 2) & (~df_SF[\"sigma_gas - sigma_* (component 0)\"].isna())].shape[0]\n",
    "N = df_SF[(df_SF[\"Number of components\"] == 2) & (df_SF[\"sigma_gas - sigma_* (component 0)\"] < 0)].shape[0]\n",
    "N2 = df_SF[(df_SF[\"Number of components\"] == 2) & (df_SF[\"sigma_gas - sigma_* (component 0)\"] > 0)].shape[0]\n",
    "\n",
    "print(f\"\\n{N / Ntot * 100}% of 2-component SF-like spaxels have component 0 with dsigma < 0\")\n",
    "print(f\"{N2 / Ntot * 100}% of 2-component SF-like spaxels have component 0 with dsigma > 0\")\n",
    "print(f\"The median value of dsigma in these spaxels is {df_SF.loc[(df_SF['Number of components'] == 2), 'sigma_gas - sigma_* (component 0)'].mean()} km/s\")\n",
    "print(f\"The standard deviation in dsigma in these spaxels is {df_SF.loc[(df_SF['Number of components'] == 2), 'sigma_gas - sigma_* (component 0)'].std()} km/s\")\n",
    "\n",
    "Ntot = df_SF[(df_SF[\"Number of components\"] == 3) & (~df_SF[\"sigma_gas - sigma_* (component 0)\"].isna())].shape[0]\n",
    "N = df_SF[(df_SF[\"Number of components\"] == 3) & (df_SF[\"sigma_gas - sigma_* (component 0)\"] < 0)].shape[0]\n",
    "N2 = df_SF[(df_SF[\"Number of components\"] == 3) & (df_SF[\"sigma_gas - sigma_* (component 0)\"] > 0)].shape[0]\n",
    "\n",
    "print(f\"\\n{N / Ntot * 100}% of 3-component SF-like spaxels have component 0 with dsigma < 0\")\n",
    "print(f\"{N2 / Ntot * 100}% of 3-component SF-like spaxels have component 0 with dsigma > 0\")\n",
    "print(f\"The median value of dsigma in these spaxels is {df_SF.loc[(df_SF['Number of components'] == 3), 'sigma_gas - sigma_* (component 0)'].mean()} km/s\")\n",
    "print(f\"The standard deviation in dsigma in these spaxels is {df_SF.loc[(df_SF['Number of components'] == 3), 'sigma_gas - sigma_* (component 0)'].std()} km/s\")\n",
    "\n",
    "print(f\"\\nThe median value of dsigma in all SF-like spaxels is {df_SF['sigma_gas - sigma_* (component 0)'].mean()} km/s\")\n",
    "print(f\"The standard deviation in dsigma in all SF-like spaxels is {df_SF['sigma_gas - sigma_* (component 0)'].std()} km/s\")\n",
    "print(f\"\\nThe median value of sigma_gas in all SF-like spaxels is {df_SF['sigma_gas (component 0)'].mean()} km/s\")\n",
    "print(f\"The standard deviation in sigma_gas in all SF-like spaxels is {df_SF['sigma_gas (component 0)'].std()} km/s\")\n"
   ]
  },
  {
   "cell_type": "markdown",
   "metadata": {},
   "source": [
    "### PLOT: WHAV* diagrams for SF spaxels coloured by SFR and SFR surface density\n",
    "---"
   ]
  },
  {
   "cell_type": "code",
   "execution_count": 17,
   "metadata": {},
   "outputs": [
    {
     "data": {
      "application/vnd.jupyter.widget-view+json": {
       "model_id": "35fd74df6e1a40599b14dbef64c91970",
       "version_major": 2,
       "version_minor": 0
      },
      "text/plain": [
       "Canvas(toolbar=Toolbar(toolitems=[('Home', 'Reset original view', 'home', 'home'), ('Back', 'Back to previous …"
      ]
     },
     "metadata": {},
     "output_type": "display_data"
    },
    {
     "name": "stdout",
     "output_type": "stream",
     "text": [
      "Saving to /priv/meggs3/u5708159/SAMI/figs/paper/WHAV_SAMI_SF_only_logSFR_surface_density.pdf\n"
     ]
    },
    {
     "data": {
      "application/vnd.jupyter.widget-view+json": {
       "model_id": "e268baee848e4521b7cb9aaca9499aa3",
       "version_major": 2,
       "version_minor": 0
      },
      "text/plain": [
       "Canvas(toolbar=Toolbar(toolitems=[('Home', 'Reset original view', 'home', 'home'), ('Back', 'Back to previous …"
      ]
     },
     "metadata": {},
     "output_type": "display_data"
    },
    {
     "name": "stdout",
     "output_type": "stream",
     "text": [
      "Saving to /priv/meggs3/u5708159/SAMI/figs/paper/WHAV_SAMI_SF_only_logSFR.pdf\n"
     ]
    }
   ],
   "source": [
    "col_z_list = [\"log SFR surface density (component 0)\"]\n",
    "for col_z in col_z_list:\n",
    "    fig, axs = plt.subplots(nrows=1, ncols=3, figsize=(5 * 3, 5))\n",
    "    fig.subplots_adjust(wspace=0)\n",
    "    bbox = axs[-1].get_position()\n",
    "    cax = fig.add_axes([bbox.x0 + bbox.width, bbox.y0, bbox.width * 0.1, bbox.height])\n",
    "\n",
    "    for ii in range(3):\n",
    "        plot2dhistcontours(df_SF, col_x=f\"sigma_gas - sigma_* (component {ii})\",\n",
    "                           col_y=f\"log HALPHA EW (component {ii})\",\n",
    "                           col_z=f\"{col_z} (component {ii})\" if f\"{col_z} (component {ii})\" in df_SF else col_z, \n",
    "                           log_z=True if col_z == \"count\" else False,\n",
    "                           alpha=1.0, ax=axs[ii], cax=cax, nbins=100,\n",
    "                           linewidths=0.5,\n",
    "                           contours=True, hist=True, colors=\"white\",\n",
    "                           cmap=\"coolwarm_r\", vmin=-3, vmax=-1,\n",
    "                           plot_colorbar=True if ii == 3 - 1 else False)\n",
    "        # Decorations\n",
    "        axs[ii].grid()\n",
    "        axs[ii].set_ylabel(\"\") if ii > 0 else None\n",
    "        axs[ii].set_yticklabels([]) if ii > 0 else None\n",
    "        axs[ii].text(s=f\"Component {ii + 1}\", x=0.05, y=0.95, transform=axs[ii].transAxes, verticalalignment=\"top\")\n",
    "        axs[1].set_title(\"SF spaxels only\")\n",
    "\n",
    "    # Save\n",
    "    if savefigs:\n",
    "        fname = os.path.join(fig_path, f\"WHAV_SAMI_SF_only_{fname_fn(col_z)}.pdf\")\n",
    "        print(f\"Saving to {fname}\")\n",
    "        fig.savefig(fname, bbox_inches=\"tight\", format=\"pdf\")\n",
    "        \n",
    "col_z_list = [\"log SFR (component 0)\"]\n",
    "for col_z in col_z_list:\n",
    "    fig, axs = plt.subplots(nrows=1, ncols=3, figsize=(5 * 3, 5))\n",
    "    fig.subplots_adjust(wspace=0)\n",
    "    bbox = axs[-1].get_position()\n",
    "    cax = fig.add_axes([bbox.x0 + bbox.width, bbox.y0, bbox.width * 0.1, bbox.height])\n",
    "\n",
    "    for ii in range(3):\n",
    "        plot2dhistcontours(df_SF, col_x=f\"sigma_gas - sigma_* (component {ii})\",\n",
    "                           col_y=f\"log HALPHA EW (component {ii})\",\n",
    "                           col_z=f\"{col_z} (component {ii})\" if f\"{col_z} (component {ii})\" in df_SF else col_z, \n",
    "                           log_z=True if col_z == \"count\" else False,\n",
    "                           alpha=1.0, ax=axs[ii], cax=cax, nbins=100,\n",
    "                           linewidths=0.5,\n",
    "                           contours=True, hist=True, colors=\"white\",\n",
    "                           vmin=-4, vmax=-2,\n",
    "                           plot_colorbar=True if ii == 3 - 1 else False)\n",
    "        # Decorations\n",
    "        axs[ii].grid()\n",
    "        axs[ii].set_ylabel(\"\") if ii > 0 else None\n",
    "        axs[ii].set_yticklabels([]) if ii > 0 else None\n",
    "        axs[ii].text(s=f\"Component {ii + 1}\", x=0.05, y=0.95, transform=axs[ii].transAxes, verticalalignment=\"top\")\n",
    "        axs[1].set_title(\"SF spaxels only\")\n",
    "\n",
    "    # Save\n",
    "    if savefigs:\n",
    "        fname = os.path.join(fig_path, f\"WHAV_SAMI_SF_only_{fname_fn(col_z)}.pdf\")\n",
    "        print(f\"Saving to {fname}\")\n",
    "        fig.savefig(fname, bbox_inches=\"tight\", format=\"pdf\")\n",
    "      "
   ]
  },
  {
   "cell_type": "code",
   "execution_count": 32,
   "metadata": {},
   "outputs": [
    {
     "name": "stderr",
     "output_type": "stream",
     "text": [
      "/pkg/linux/anaconda-20191122/anaconda3/lib/python3.7/site-packages/ipykernel_launcher.py:4: RuntimeWarning: More than 20 figures have been opened. Figures created through the pyplot interface (`matplotlib.pyplot.figure`) are retained until explicitly closed and may consume too much memory. (To control this warning, see the rcParam `figure.max_open_warning`).\n",
      "  after removing the cwd from sys.path.\n"
     ]
    },
    {
     "data": {
      "application/vnd.jupyter.widget-view+json": {
       "model_id": "ad2a706a8a7f4ec980b7e9cfba8c7498",
       "version_major": 2,
       "version_minor": 0
      },
      "text/plain": [
       "Canvas(toolbar=Toolbar(toolitems=[('Home', 'Reset original view', 'home', 'home'), ('Back', 'Back to previous …"
      ]
     },
     "metadata": {},
     "output_type": "display_data"
    },
    {
     "name": "stdout",
     "output_type": "stream",
     "text": [
      "Saving to /priv/meggs3/u5708159/SAMI/figs/paper/WHAV_SAMI_SF_only_sigma_gas.pdf\n"
     ]
    },
    {
     "name": "stderr",
     "output_type": "stream",
     "text": [
      "/pkg/linux/anaconda-20191122/anaconda3/lib/python3.7/site-packages/ipykernel_launcher.py:4: RuntimeWarning: More than 20 figures have been opened. Figures created through the pyplot interface (`matplotlib.pyplot.figure`) are retained until explicitly closed and may consume too much memory. (To control this warning, see the rcParam `figure.max_open_warning`).\n",
      "  after removing the cwd from sys.path.\n"
     ]
    },
    {
     "data": {
      "application/vnd.jupyter.widget-view+json": {
       "model_id": "afd02bfc91584524a74264891a92969b",
       "version_major": 2,
       "version_minor": 0
      },
      "text/plain": [
       "Canvas(toolbar=Toolbar(toolitems=[('Home', 'Reset original view', 'home', 'home'), ('Back', 'Back to previous …"
      ]
     },
     "metadata": {},
     "output_type": "display_data"
    },
    {
     "name": "stdout",
     "output_type": "stream",
     "text": [
      "Saving to /priv/meggs3/u5708159/SAMI/figs/paper/WHAV_SAMI_SF_only_sigma_star.pdf\n"
     ]
    }
   ],
   "source": [
    "# Coloured by sigma_gas, sigma_*\n",
    "col_z_list = [\"sigma_gas\", \"sigma_*\"]\n",
    "for col_z in col_z_list:\n",
    "    fig, axs = plt.subplots(nrows=1, ncols=3, figsize=(5 * 3, 5))\n",
    "    fig.subplots_adjust(wspace=0)\n",
    "    bbox = axs[-1].get_position()\n",
    "    cax = fig.add_axes([bbox.x0 + bbox.width, bbox.y0, bbox.width * 0.1, bbox.height])\n",
    "\n",
    "    for ii in range(3):\n",
    "        plot2dhistcontours(df_SF, col_x=f\"sigma_gas - sigma_* (component {ii})\",\n",
    "                           col_y=f\"log HALPHA EW (component {ii})\",\n",
    "                           col_z=f\"{col_z} (component {ii})\" if f\"{col_z} (component {ii})\" in df_SF else col_z, \n",
    "                           log_z=True if col_z == \"count\" else False,\n",
    "                           alpha=1.0, ax=axs[ii], cax=cax, nbins=100,\n",
    "                           linewidths=0.5, \n",
    "                           vmax=200, cmap=\"Spectral_r\",\n",
    "                           contours=True, hist=True, colors=\"white\",\n",
    "                           plot_colorbar=True if ii == 3 - 1 else False)\n",
    "        # Decorations\n",
    "        axs[ii].grid()\n",
    "        axs[ii].set_ylabel(\"\") if ii > 0 else None\n",
    "        axs[ii].set_yticklabels([]) if ii > 0 else None\n",
    "        axs[ii].text(s=f\"Component {ii + 1}\", x=0.05, y=0.95, transform=axs[ii].transAxes, verticalalignment=\"top\")\n",
    "        axs[1].set_title(\"SF spaxels only\")\n",
    "\n",
    "    # Save\n",
    "    if savefigs:\n",
    "        fname = os.path.join(fig_path, f\"WHAV_SAMI_SF_only_{fname_fn(col_z)}.pdf\")\n",
    "        print(f\"Saving to {fname}\")\n",
    "        fig.savefig(fname, bbox_inches=\"tight\", format=\"pdf\")"
   ]
  },
  {
   "cell_type": "markdown",
   "metadata": {},
   "source": [
    "### PLOT: EW vs. $v_{\\rm gas}$: is the second component blueshifted at all?\n",
    "---"
   ]
  },
  {
   "cell_type": "code",
   "execution_count": 33,
   "metadata": {
    "scrolled": true
   },
   "outputs": [
    {
     "data": {
      "text/plain": [
       "-16.70810163215178"
      ]
     },
     "execution_count": 33,
     "metadata": {},
     "output_type": "execute_result"
    }
   ],
   "source": [
    "df_SF[\"delta v_gas (2/0)\"] = df_SF[\"v_gas (component 2)\"] - df_SF[\"v_gas (component 0)\"]\n",
    "df_SF[\"delta v_gas (2/0)\"].mean()"
   ]
  },
  {
   "cell_type": "code",
   "execution_count": 34,
   "metadata": {
    "scrolled": true
   },
   "outputs": [
    {
     "name": "stderr",
     "output_type": "stream",
     "text": [
      "/pkg/linux/anaconda-20191122/anaconda3/lib/python3.7/site-packages/ipykernel_launcher.py:2: RuntimeWarning: More than 20 figures have been opened. Figures created through the pyplot interface (`matplotlib.pyplot.figure`) are retained until explicitly closed and may consume too much memory. (To control this warning, see the rcParam `figure.max_open_warning`).\n",
      "  \n"
     ]
    },
    {
     "data": {
      "application/vnd.jupyter.widget-view+json": {
       "model_id": "a5be7b1fd8d848b6aa164c6ca381186b",
       "version_major": 2,
       "version_minor": 0
      },
      "text/plain": [
       "Canvas(toolbar=Toolbar(toolitems=[('Home', 'Reset original view', 'home', 'home'), ('Back', 'Back to previous …"
      ]
     },
     "metadata": {},
     "output_type": "display_data"
    },
    {
     "name": "stdout",
     "output_type": "stream",
     "text": [
      "Saving file to /priv/meggs3/u5708159/SAMI/figs/paper/hist_delta_v_gas.pdf\n"
     ]
    }
   ],
   "source": [
    "# Histogram showing distribution in v_gas (component 2) - v_gas (component 1)\n",
    "fig, ax = plt.subplots(nrows=1, ncols=1, figsize=(7, 5))\n",
    "hist(df_SF[\"delta v_gas (1/0)\"], range=(-250, +250), bins=\"scott\", histtype=\"step\", ax=ax, label=label_fn(\"delta v_gas (1/0)\"))\n",
    "hist(df_SF[\"delta v_gas (2/1)\"], range=(-250, +250), bins=\"scott\", histtype=\"step\", ax=ax, label=label_fn(\"delta v_gas (2/1)\"))\n",
    "hist(df_SF[\"delta v_gas (2/0)\"], range=(-250, +250), bins=\"scott\", histtype=\"step\", ax=ax, label=label_fn(\"delta v_gas (2/0)\"))\n",
    "ax.axvline(0, color=\"k\")\n",
    "ax.set_xlabel(r\"$\\Delta v_{\\rm gas}$\")\n",
    "ax.set_ylabel(r\"$N$\")\n",
    "ax.legend(loc=\"upper right\")\n",
    "ax.grid()\n",
    "\n",
    "if savefigs:\n",
    "    fname = os.path.join(fig_path, \"hist_delta_v_gas.pdf\")\n",
    "    print(f\"Saving file to {fname}\")\n",
    "    fig.savefig(fname, bbox_inches=\"tight\", format=\"pdf\")"
   ]
  },
  {
   "cell_type": "code",
   "execution_count": 35,
   "metadata": {},
   "outputs": [
    {
     "data": {
      "text/plain": [
       "49.12195238618891"
      ]
     },
     "execution_count": 35,
     "metadata": {},
     "output_type": "execute_result"
    }
   ],
   "source": [
    "df_SF[\"delta sigma_gas (1/0)\"].std()"
   ]
  },
  {
   "cell_type": "code",
   "execution_count": 36,
   "metadata": {},
   "outputs": [
    {
     "name": "stderr",
     "output_type": "stream",
     "text": [
      "/pkg/linux/anaconda-20191122/anaconda3/lib/python3.7/site-packages/ipykernel_launcher.py:5: RuntimeWarning: More than 20 figures have been opened. Figures created through the pyplot interface (`matplotlib.pyplot.figure`) are retained until explicitly closed and may consume too much memory. (To control this warning, see the rcParam `figure.max_open_warning`).\n",
      "  \"\"\"\n"
     ]
    },
    {
     "data": {
      "application/vnd.jupyter.widget-view+json": {
       "model_id": "8d3fa3f474b140e099ad42440cc57739",
       "version_major": 2,
       "version_minor": 0
      },
      "text/plain": [
       "Canvas(toolbar=Toolbar(toolitems=[('Home', 'Reset original view', 'home', 'home'), ('Back', 'Back to previous …"
      ]
     },
     "metadata": {},
     "output_type": "display_data"
    },
    {
     "name": "stdout",
     "output_type": "stream",
     "text": [
      "Saving file to /priv/meggs3/u5708159/SAMI/figs/paper/hist_delta_sigma_gas.pdf\n"
     ]
    }
   ],
   "source": [
    "df_SF[\"delta sigma_gas (2/0)\"] = df_SF[\"sigma_gas (component 2)\"] - df_SF[\"sigma_gas (component 0)\"]\n",
    "df_SF[\"delta sigma_gas (2/0)\"].mean()\n",
    "\n",
    "# Histogram showing distribution in sigma_gas (component 2) - sigma_gas (component 1)\n",
    "fig, ax = plt.subplots(nrows=1, ncols=1, figsize=(7, 5))\n",
    "hist(df_SF[\"delta sigma_gas (1/0)\"], range=(0, +400), bins=\"scott\", histtype=\"step\", ax=ax, label=label_fn(\"delta sigma_gas (1/0)\"))\n",
    "hist(df_SF[\"delta sigma_gas (2/1)\"], range=(0, +400), bins=\"scott\", histtype=\"step\", ax=ax, label=label_fn(\"delta sigma_gas (2/1)\"))\n",
    "hist(df_SF[\"delta sigma_gas (2/0)\"], range=(0, +400), bins=\"scott\", histtype=\"step\", ax=ax, label=label_fn(\"delta sigma_gas (2/0)\"))\n",
    "ax.set_xlabel(r\"$\\Delta \\sigma_{\\rm gas}$\")\n",
    "ax.set_ylabel(r\"$N$\")\n",
    "ax.legend(loc=\"upper right\")\n",
    "ax.grid()\n",
    "ax.autoscale(enable=True, axis=\"x\", tight=True)\n",
    "\n",
    "if savefigs:\n",
    "    fname = os.path.join(fig_path, \"hist_delta_sigma_gas.pdf\")\n",
    "    print(f\"Saving file to {fname}\")\n",
    "    fig.savefig(fname, bbox_inches=\"tight\", format=\"pdf\")"
   ]
  },
  {
   "cell_type": "code",
   "execution_count": 37,
   "metadata": {},
   "outputs": [],
   "source": [
    "# Histogram showing distribution in v_gas - v_* in slices of SFR surface density \n"
   ]
  },
  {
   "cell_type": "code",
   "execution_count": 38,
   "metadata": {},
   "outputs": [
    {
     "name": "stderr",
     "output_type": "stream",
     "text": [
      "/pkg/linux/anaconda-20191122/anaconda3/lib/python3.7/site-packages/ipykernel_launcher.py:2: RuntimeWarning: More than 20 figures have been opened. Figures created through the pyplot interface (`matplotlib.pyplot.figure`) are retained until explicitly closed and may consume too much memory. (To control this warning, see the rcParam `figure.max_open_warning`).\n",
      "  \n"
     ]
    },
    {
     "data": {
      "application/vnd.jupyter.widget-view+json": {
       "model_id": "16b73106c3e349f29fb0970b8adb56eb",
       "version_major": 2,
       "version_minor": 0
      },
      "text/plain": [
       "Canvas(toolbar=Toolbar(toolitems=[('Home', 'Reset original view', 'home', 'home'), ('Back', 'Back to previous …"
      ]
     },
     "metadata": {},
     "output_type": "display_data"
    },
    {
     "data": {
      "text/plain": [
       "<matplotlib.lines.Line2D at 0x7f8b4bfda790>"
      ]
     },
     "execution_count": 38,
     "metadata": {},
     "output_type": "execute_result"
    }
   ],
   "source": [
    "# Plot showing SFR surface density vs. v_gas (component 2) - v_gas (component 1)\n",
    "fig, ax = plt.subplots(nrows=1, ncols=1, figsize=(5, 5))\n",
    "plot2dhistcontours(df_SF, \n",
    "                   col_x=\"delta v_gas (1/0)\",\n",
    "                   col_y=\"log SFR surface density (component 0)\",\n",
    "                   col_z=\"count\", log_z=True,\n",
    "                   alpha=1.0, ax=ax, nbins=100,\n",
    "                   linewidths=0.5, \n",
    "                   xmin=-400, xmax=+400,\n",
    "                   contours=True, hist=True, colors=\"white\",\n",
    "                   plot_colorbar=True)\n",
    "ax.grid()\n",
    "ax.axvline(0, color=\"k\")"
   ]
  },
  {
   "cell_type": "code",
   "execution_count": 39,
   "metadata": {},
   "outputs": [
    {
     "name": "stderr",
     "output_type": "stream",
     "text": [
      "/pkg/linux/anaconda-20191122/anaconda3/lib/python3.7/site-packages/ipykernel_launcher.py:4: RuntimeWarning: More than 20 figures have been opened. Figures created through the pyplot interface (`matplotlib.pyplot.figure`) are retained until explicitly closed and may consume too much memory. (To control this warning, see the rcParam `figure.max_open_warning`).\n",
      "  after removing the cwd from sys.path.\n"
     ]
    },
    {
     "data": {
      "application/vnd.jupyter.widget-view+json": {
       "model_id": "f00bc02340c64e6aa665a0b23fdc7763",
       "version_major": 2,
       "version_minor": 0
      },
      "text/plain": [
       "Canvas(toolbar=Toolbar(toolitems=[('Home', 'Reset original view', 'home', 'home'), ('Back', 'Back to previous …"
      ]
     },
     "metadata": {},
     "output_type": "display_data"
    },
    {
     "name": "stdout",
     "output_type": "stream",
     "text": [
      "Saving to /priv/meggs3/u5708159/SAMI/figs/paper/WHAV_SAMI_SF_only_v_gas-v_star.pdf\n"
     ]
    }
   ],
   "source": [
    "# Coloured by sigma_gas, sigma_*\n",
    "col_z_list = [\"v_gas - v_*\"]\n",
    "for col_z in col_z_list:\n",
    "    fig, axs = plt.subplots(nrows=1, ncols=3, figsize=(5 * 3, 5))\n",
    "    fig.subplots_adjust(wspace=0)\n",
    "    bbox = axs[-1].get_position()\n",
    "    cax = fig.add_axes([bbox.x0 + bbox.width, bbox.y0, bbox.width * 0.1, bbox.height])\n",
    "\n",
    "    for ii in range(3):\n",
    "        plot2dhistcontours(df_SF, \n",
    "                           col_x=f\"v_gas - v_* (component {ii})\",\n",
    "                           col_y=f\"log HALPHA EW (component {ii})\",\n",
    "                           col_z=f\"{col_z} (component {ii})\" if f\"{col_z} (component {ii})\" in df_SF else col_z, \n",
    "                           log_z=True if col_z == \"count\" else False,\n",
    "                           alpha=1.0, ax=axs[ii], cax=cax, nbins=100,\n",
    "                           linewidths=0.5, \n",
    "                           xmin=-400, xmax=+400,\n",
    "                           vmin=-200, vmax=+200,\n",
    "                           cmap=\"Spectral_r\",\n",
    "                           contours=True, hist=True, colors=\"white\",\n",
    "                           plot_colorbar=True if ii == 3 - 1 else False)\n",
    "        # Decorations\n",
    "        axs[ii].grid()\n",
    "        axs[ii].axvline(0, color=\"k\")\n",
    "        axs[ii].set_ylabel(\"\") if ii > 0 else None\n",
    "        axs[ii].set_yticklabels([]) if ii > 0 else None\n",
    "        axs[ii].text(s=f\"Component {ii + 1}\", x=0.05, y=0.95, transform=axs[ii].transAxes, verticalalignment=\"top\")\n",
    "        axs[1].set_title(\"SF spaxels only\")\n",
    "\n",
    "    # Save\n",
    "    if savefigs:\n",
    "        fname = os.path.join(fig_path, f\"WHAV_SAMI_SF_only_{fname_fn(col_z)}.pdf\")\n",
    "        print(f\"Saving to {fname}\")\n",
    "        fig.savefig(fname, bbox_inches=\"tight\", format=\"pdf\")"
   ]
  },
  {
   "cell_type": "code",
   "execution_count": 40,
   "metadata": {},
   "outputs": [],
   "source": [
    "plt.close(\"all\")"
   ]
  },
  {
   "cell_type": "markdown",
   "metadata": {},
   "source": [
    "## PLOT: histogram showing $\\sigma_{\\rm gas}$ and $\\sigma_*$ vs. $\\Delta\\sigma$\n",
    "---"
   ]
  },
  {
   "cell_type": "code",
   "execution_count": 41,
   "metadata": {},
   "outputs": [
    {
     "data": {
      "application/vnd.jupyter.widget-view+json": {
       "model_id": "de60a85f1b534f6b8831f979a8451c6a",
       "version_major": 2,
       "version_minor": 0
      },
      "text/plain": [
       "Canvas(toolbar=Toolbar(toolitems=[('Home', 'Reset original view', 'home', 'home'), ('Back', 'Back to previous …"
      ]
     },
     "metadata": {},
     "output_type": "display_data"
    },
    {
     "name": "stdout",
     "output_type": "stream",
     "text": [
      "Saving to /priv/meggs3/u5708159/SAMI/figs/paper/sigma_gas_vs_dsigma_SAMI_SF_only_count.pdf\n"
     ]
    },
    {
     "name": "stderr",
     "output_type": "stream",
     "text": [
      "/pkg/linux/anaconda-20191122/anaconda3/lib/python3.7/site-packages/matplotlib/colors.py:1110: RuntimeWarning: invalid value encountered in less_equal\n",
      "  mask |= resdat <= 0\n"
     ]
    },
    {
     "data": {
      "application/vnd.jupyter.widget-view+json": {
       "model_id": "393be4887349409a963c9660fd47efdb",
       "version_major": 2,
       "version_minor": 0
      },
      "text/plain": [
       "Canvas(toolbar=Toolbar(toolitems=[('Home', 'Reset original view', 'home', 'home'), ('Back', 'Back to previous …"
      ]
     },
     "metadata": {},
     "output_type": "display_data"
    },
    {
     "name": "stdout",
     "output_type": "stream",
     "text": [
      "Saving to /priv/meggs3/u5708159/SAMI/figs/paper/sigma_star_vs_dsigma_SAMI_SF_only_count.pdf\n"
     ]
    },
    {
     "name": "stderr",
     "output_type": "stream",
     "text": [
      "/pkg/linux/anaconda-20191122/anaconda3/lib/python3.7/site-packages/matplotlib/colors.py:1110: RuntimeWarning: invalid value encountered in less_equal\n",
      "  mask |= resdat <= 0\n"
     ]
    }
   ],
   "source": [
    "# Coloured by sigma_gas, sigma_*\n",
    "col_z_list = [\"count\"]\n",
    "for col_z in col_z_list:\n",
    "    fig, axs = plt.subplots(nrows=1, ncols=3, figsize=(5 * 3, 5))\n",
    "    fig.subplots_adjust(wspace=0)\n",
    "    bbox = axs[-1].get_position()\n",
    "    cax = fig.add_axes([bbox.x0 + bbox.width, bbox.y0, bbox.width * 0.1, bbox.height])\n",
    "\n",
    "    for ii in range(3):\n",
    "        plot2dhistcontours(df_SF, \n",
    "                           col_x=f\"sigma_gas - sigma_* (component {ii})\",\n",
    "                           col_y=f\"sigma_gas (component {ii})\",\n",
    "                           col_z=f\"{col_z} (component {ii})\" if f\"{col_z} (component {ii})\" in df_SF else col_z, \n",
    "                           log_z=True if col_z == \"count\" else False,\n",
    "                           alpha=1.0, ax=axs[ii], cax=cax, nbins=100,\n",
    "                           linewidths=0.5, ymax=500,\n",
    "                           contours=True, hist=True, colors=\"white\",\n",
    "                           plot_colorbar=True if ii == 3 - 1 else False)\n",
    "        # Decorations\n",
    "        axs[ii].grid()\n",
    "        axs[ii].set_ylabel(\"\") if ii > 0 else None\n",
    "        axs[ii].set_yticklabels([]) if ii > 0 else None\n",
    "        axs[ii].text(s=f\"Component {ii + 1}\", x=0.05, y=0.95, transform=axs[ii].transAxes, verticalalignment=\"top\")\n",
    "        axs[1].set_title(\"SF spaxels only\")\n",
    "\n",
    "    # Save\n",
    "    if savefigs:\n",
    "        fname = os.path.join(fig_path, f\"sigma_gas_vs_dsigma_SAMI_SF_only_{fname_fn(col_z)}.pdf\")\n",
    "        print(f\"Saving to {fname}\")\n",
    "        fig.savefig(fname, bbox_inches=\"tight\", format=\"pdf\")\n",
    "        \n",
    "for col_z in col_z_list:\n",
    "    fig, axs = plt.subplots(nrows=1, ncols=3, figsize=(5 * 3, 5))\n",
    "    fig.subplots_adjust(wspace=0)\n",
    "    bbox = axs[-1].get_position()\n",
    "    cax = fig.add_axes([bbox.x0 + bbox.width, bbox.y0, bbox.width * 0.1, bbox.height])\n",
    "\n",
    "    for ii in range(3):\n",
    "        plot2dhistcontours(df_SF, \n",
    "                           col_x=f\"sigma_gas - sigma_* (component {ii})\",\n",
    "                           col_y=f\"sigma_*\",\n",
    "                           col_z=f\"{col_z} (component {ii})\" if f\"{col_z} (component {ii})\" in df_SF else col_z, \n",
    "                           log_z=True if col_z == \"count\" else False,\n",
    "                           alpha=1.0, ax=axs[ii], cax=cax, nbins=100,\n",
    "                           linewidths=0.5, \n",
    "                           contours=True, hist=True, colors=\"white\",\n",
    "                           plot_colorbar=True if ii == 3 - 1 else False)\n",
    "        # Decorations\n",
    "        axs[ii].grid()\n",
    "        axs[ii].set_ylabel(\"\") if ii > 0 else None\n",
    "        axs[ii].set_yticklabels([]) if ii > 0 else None\n",
    "        axs[ii].text(s=f\"Component {ii + 1}\", x=0.05, y=0.95, transform=axs[ii].transAxes, verticalalignment=\"top\")\n",
    "        axs[1].set_title(\"SF spaxels only\")\n",
    "\n",
    "    # Save\n",
    "    if savefigs:\n",
    "        fname = os.path.join(fig_path, f\"sigma_star_vs_dsigma_SAMI_SF_only_{fname_fn(col_z)}.pdf\")\n",
    "        print(f\"Saving to {fname}\")\n",
    "        fig.savefig(fname, bbox_inches=\"tight\", format=\"pdf\")"
   ]
  },
  {
   "cell_type": "markdown",
   "metadata": {},
   "source": [
    "## PLOT: WHAV* diagram for the whole sample coloured by count, BPT category\n",
    "---"
   ]
  },
  {
   "cell_type": "code",
   "execution_count": 42,
   "metadata": {},
   "outputs": [
    {
     "data": {
      "application/vnd.jupyter.widget-view+json": {
       "model_id": "c3dab06100ed433ca348d7cf04324f69",
       "version_major": 2,
       "version_minor": 0
      },
      "text/plain": [
       "Canvas(toolbar=Toolbar(toolitems=[('Home', 'Reset original view', 'home', 'home'), ('Back', 'Back to previous …"
      ]
     },
     "metadata": {},
     "output_type": "display_data"
    },
    {
     "name": "stderr",
     "output_type": "stream",
     "text": [
      "/pkg/linux/anaconda-20191122/anaconda3/lib/python3.7/site-packages/matplotlib/colors.py:1110: RuntimeWarning: invalid value encountered in less_equal\n",
      "  mask |= resdat <= 0\n"
     ]
    },
    {
     "name": "stdout",
     "output_type": "stream",
     "text": [
      "File saved at: /priv/meggs3/u5708159/SAMI/figs/paper/WHAV_SAMI_count.pdf\n"
     ]
    },
    {
     "data": {
      "application/vnd.jupyter.widget-view+json": {
       "model_id": "e378b927c0bb43deb4f0719145bfb598",
       "version_major": 2,
       "version_minor": 0
      },
      "text/plain": [
       "Canvas(toolbar=Toolbar(toolitems=[('Home', 'Reset original view', 'home', 'home'), ('Back', 'Back to previous …"
      ]
     },
     "metadata": {},
     "output_type": "display_data"
    },
    {
     "name": "stdout",
     "output_type": "stream",
     "text": [
      "File saved at: /priv/meggs3/u5708159/SAMI/figs/paper/WHAV_SAMI_BPT.pdf\n"
     ]
    }
   ],
   "source": [
    "col_z_list = [\"count\", \"BPT (numeric) (total)\"]\n",
    "for col_z in col_z_list:\n",
    "    fig, axs = plt.subplots(nrows=1, ncols=3, figsize=(5 * 3, 5))\n",
    "    fig.subplots_adjust(wspace=0)\n",
    "    bbox = axs[-1].get_position()\n",
    "    cax = fig.add_axes([bbox.x0 + bbox.width, bbox.y0, bbox.width * 0.1, bbox.height])\n",
    "\n",
    "    for ii in range(3):\n",
    "        plot2dhistcontours(df, col_x=f\"sigma_gas - sigma_* (component {ii})\",\n",
    "                           col_y=f\"log HALPHA EW (component {ii})\",\n",
    "                           col_z=f\"{col_z} (component {ii})\" if f\"{col_z} (component {ii})\" in df else col_z, \n",
    "                           log_z=True if col_z == \"count\" else False,\n",
    "                           alpha=1.0, ax=axs[ii], cax=cax, nbins=100,\n",
    "                           linewidths=0.5,\n",
    "                           contours=True, hist=True, colors=\"white\",\n",
    "                           vmin=1 if col_z == \"count\" else None, \n",
    "                           vmax=1e3 if col_z == \"count\" else None,\n",
    "                           plot_colorbar=True if ii == 3 - 1 else False)\n",
    "        # Decorations\n",
    "        axs[ii].grid()\n",
    "        axs[ii].set_ylabel(\"\") if ii > 0 else None\n",
    "        axs[ii].set_yticklabels([]) if ii > 0 else None\n",
    "        axs[ii].text(s=f\"Component {ii + 1}\", x=0.05, y=0.95, transform=axs[ii].transAxes, verticalalignment=\"top\")\n",
    "\n",
    "    # Save\n",
    "    if savefigs:\n",
    "        fname = os.path.join(fig_path, f\"WHAV_SAMI_{fname_fn(col_z)}.pdf\")\n",
    "        fig.savefig(fname, bbox_inches=\"tight\", format=\"pdf\")\n",
    "        print(f\"File saved at: {fname}\")        \n",
    "        "
   ]
  },
  {
   "cell_type": "markdown",
   "metadata": {},
   "source": [
    "### ~PLOT: histograms of $\\Delta \\sigma$ in slices of SFR surface density to see if there is a correlation~\n",
    "---"
   ]
  },
  {
   "cell_type": "code",
   "execution_count": 43,
   "metadata": {},
   "outputs": [
    {
     "data": {
      "application/vnd.jupyter.widget-view+json": {
       "model_id": "e0bcc8ab37c040fab586f0eb5fbf7981",
       "version_major": 2,
       "version_minor": 0
      },
      "text/plain": [
       "Canvas(toolbar=Toolbar(toolitems=[('Home', 'Reset original view', 'home', 'home'), ('Back', 'Back to previous …"
      ]
     },
     "metadata": {},
     "output_type": "display_data"
    },
    {
     "name": "stderr",
     "output_type": "stream",
     "text": [
      "/pkg/linux/anaconda-20191122/anaconda3/lib/python3.7/site-packages/astropy/visualization/hist.py:72: MatplotlibDeprecationWarning: \n",
      "The 'normed' kwarg was deprecated in Matplotlib 2.1 and will be removed in 3.1. Use 'density' instead.\n",
      "  return ax.hist(x, bins, **kwargs)\n"
     ]
    }
   ],
   "source": [
    "fig, axs = plt.subplots(nrows=1, ncols=3, figsize=(5 * 3, 5))\n",
    "fig.subplots_adjust(wspace=0)\n",
    "\n",
    "sfr_bounds = [\n",
    "    (-5, -3),\n",
    "    (-3, -1),\n",
    "    (-1, 1)\n",
    "]\n",
    "sfr_colours = [\n",
    "    \"darkred\", \"red\", \"orange\"\n",
    "]\n",
    "for (sfr_min, sfr_max), colour in zip(sfr_bounds, sfr_colours):\n",
    "    df_slice = df[(df[\"log SFR surface density (component 0)\"] > sfr_min) & (df[\"log SFR surface density (component 0)\"] <= sfr_max)]\n",
    "    \n",
    "    for ii in range(3):\n",
    "        hist(df_slice[f\"sigma_gas - sigma_* (component {ii})\"], ax=axs[ii], \n",
    "             color=colour,\n",
    "             range=(vmin_fn(\"sigma_gas - sigma_*\"), vmax_fn(\"sigma_gas - sigma_*\")), \n",
    "             bins=\"scott\", histtype=\"step\", normed=True)\n",
    "        "
   ]
  },
  {
   "cell_type": "markdown",
   "metadata": {},
   "source": [
    "### PLOT: WHAV* diagrams for SF-only spaxels coloured by various properties to see what drives the spread in the diagram\n",
    "---"
   ]
  },
  {
   "cell_type": "code",
   "execution_count": 44,
   "metadata": {},
   "outputs": [],
   "source": [
    "plt.close(\"all\")"
   ]
  },
  {
   "cell_type": "code",
   "execution_count": 8,
   "metadata": {
    "scrolled": false
   },
   "outputs": [
    {
     "data": {
      "application/vnd.jupyter.widget-view+json": {
       "model_id": "dc515ee3451b4cb3a40fdecb8c469cee",
       "version_major": 2,
       "version_minor": 0
      },
      "text/plain": [
       "Canvas(toolbar=Toolbar(toolitems=[('Home', 'Reset original view', 'home', 'home'), ('Back', 'Back to previous …"
      ]
     },
     "metadata": {},
     "output_type": "display_data"
    },
    {
     "name": "stdout",
     "output_type": "stream",
     "text": [
      "Saving to /priv/meggs3/u5708159/SAMI/figs/paper/WHAV_SAMI_SF_only_count.pdf\n"
     ]
    },
    {
     "name": "stderr",
     "output_type": "stream",
     "text": [
      "/pkg/linux/anaconda-20191122/anaconda3/lib/python3.7/site-packages/matplotlib/colors.py:1110: RuntimeWarning: invalid value encountered in less_equal\n",
      "  mask |= resdat <= 0\n"
     ]
    },
    {
     "data": {
      "application/vnd.jupyter.widget-view+json": {
       "model_id": "0a150fa994564f5c93b3341f77f9e8a1",
       "version_major": 2,
       "version_minor": 0
      },
      "text/plain": [
       "Canvas(toolbar=Toolbar(toolitems=[('Home', 'Reset original view', 'home', 'home'), ('Back', 'Back to previous …"
      ]
     },
     "metadata": {},
     "output_type": "display_data"
    },
    {
     "name": "stdout",
     "output_type": "stream",
     "text": [
      "Saving to /priv/meggs3/u5708159/SAMI/figs/paper/WHAV_SAMI_SF_only_mstar.pdf\n"
     ]
    },
    {
     "data": {
      "application/vnd.jupyter.widget-view+json": {
       "model_id": "c30401a1a11d4de7b7e9ca9b25e6da9d",
       "version_major": 2,
       "version_minor": 0
      },
      "text/plain": [
       "Canvas(toolbar=Toolbar(toolitems=[('Home', 'Reset original view', 'home', 'home'), ('Back', 'Back to previous …"
      ]
     },
     "metadata": {},
     "output_type": "display_data"
    },
    {
     "name": "stdout",
     "output_type": "stream",
     "text": [
      "Saving to /priv/meggs3/u5708159/SAMI/figs/paper/WHAV_SAMI_SF_only_r_over_Re.pdf\n"
     ]
    },
    {
     "data": {
      "application/vnd.jupyter.widget-view+json": {
       "model_id": "eb7799c2116d4534a0cde0f85dce8d40",
       "version_major": 2,
       "version_minor": 0
      },
      "text/plain": [
       "Canvas(toolbar=Toolbar(toolitems=[('Home', 'Reset original view', 'home', 'home'), ('Back', 'Back to previous …"
      ]
     },
     "metadata": {},
     "output_type": "display_data"
    },
    {
     "name": "stdout",
     "output_type": "stream",
     "text": [
      "Saving to /priv/meggs3/u5708159/SAMI/figs/paper/WHAV_SAMI_SF_only_sigma_star.pdf\n"
     ]
    },
    {
     "data": {
      "application/vnd.jupyter.widget-view+json": {
       "model_id": "3b59ae6cb3754bdcacbb03c4f13cf8a2",
       "version_major": 2,
       "version_minor": 0
      },
      "text/plain": [
       "Canvas(toolbar=Toolbar(toolitems=[('Home', 'Reset original view', 'home', 'home'), ('Back', 'Back to previous …"
      ]
     },
     "metadata": {},
     "output_type": "display_data"
    },
    {
     "name": "stdout",
     "output_type": "stream",
     "text": [
      "Saving to /priv/meggs3/u5708159/SAMI/figs/paper/WHAV_SAMI_SF_only_log_HALPHA_cont_lum_per_kpc2.pdf\n"
     ]
    },
    {
     "data": {
      "application/vnd.jupyter.widget-view+json": {
       "model_id": "5531ddc57fc24440b6e86d2d5ac0d0a1",
       "version_major": 2,
       "version_minor": 0
      },
      "text/plain": [
       "Canvas(toolbar=Toolbar(toolitems=[('Home', 'Reset original view', 'home', 'home'), ('Back', 'Back to previous …"
      ]
     },
     "metadata": {},
     "output_type": "display_data"
    },
    {
     "name": "stdout",
     "output_type": "stream",
     "text": [
      "Saving to /priv/meggs3/u5708159/SAMI/figs/paper/WHAV_SAMI_SF_only_log_HALPHA_lum_per_kpc2.pdf\n"
     ]
    }
   ],
   "source": [
    "col_z_list = [\"count\", \"log M_*\", \"r/R_e\", \"sigma_*\", \"log HALPHA continuum luminosity\", \"log HALPHA luminosity\"]\n",
    "for col_z in col_z_list:\n",
    "    fig, axs = plt.subplots(nrows=1, ncols=3, figsize=(5 * 3, 5))\n",
    "    fig.subplots_adjust(wspace=0)\n",
    "    bbox = axs[-1].get_position()\n",
    "    cax = fig.add_axes([bbox.x0 + bbox.width, bbox.y0, bbox.width * 0.1, bbox.height])\n",
    "\n",
    "    for ii in range(3):\n",
    "        plot2dhistcontours(df_SF, col_x=f\"sigma_gas - sigma_* (component {ii})\",\n",
    "                           col_y=f\"log HALPHA EW (component {ii})\",\n",
    "                           col_z=f\"{col_z} (component {ii})\" if f\"{col_z} (component {ii})\" in df_SF else col_z, \n",
    "                           log_z=True if col_z == \"count\" else False,\n",
    "                           alpha=1.0, ax=axs[ii], cax=cax, nbins=100,\n",
    "                           linewidths=0.5,\n",
    "                           xmax=600,\n",
    "                           contours=True, hist=True, colors=\"white\",\n",
    "                           plot_colorbar=True if ii == 3 - 1 else False)\n",
    "        # Decorations\n",
    "        axs[ii].grid()\n",
    "        axs[ii].set_ylabel(\"\") if ii > 0 else None\n",
    "        axs[ii].set_yticklabels([]) if ii > 0 else None\n",
    "        axs[ii].text(s=f\"Component {ii + 1}\", x=0.05, y=0.95, transform=axs[ii].transAxes, verticalalignment=\"top\")\n",
    "        axs[1].set_title(\"SF spaxels only\")\n",
    "\n",
    "    # Save\n",
    "    if savefigs:\n",
    "        fname = os.path.join(fig_path, f\"WHAV_SAMI_SF_only_{fname_fn(col_z)}.pdf\")\n",
    "        print(f\"Saving to {fname}\")\n",
    "        fig.savefig(fname, bbox_inches=\"tight\", format=\"pdf\")"
   ]
  },
  {
   "cell_type": "markdown",
   "metadata": {},
   "source": [
    "# **Analysis of AGN-like spaxels**\n",
    "---\n",
    "---"
   ]
  },
  {
   "cell_type": "code",
   "execution_count": 46,
   "metadata": {},
   "outputs": [],
   "source": [
    "# Need to correct [OIII] for extinction because it's such a blue line\n",
    "import extinction\n",
    "\n",
    "def get_A_V(ratio):\n",
    "    \n",
    "    # Calculate A(Ha), A(Hb) from emission lines\n",
    "    intrinsic_ratio = 2.85\n",
    "    E_ba = 2.5 * (np.log10(ratio)) - 2.5 * np.log10(intrinsic_ratio)\n",
    "\n",
    "    # Calculate ( A(Ha) - A(Hb) ) / E(B-V) from extinction curve\n",
    "    R_V = 3.1\n",
    "    wave_1_A = np.array([6562.800])\n",
    "    wave_2_A = np.array([4861.325])\n",
    "\n",
    "    # A_V is a multiplicative scale factor for the extinction curve. So the below calculation is the same regardless of A_V because we normalise by it.\n",
    "    E_ba_over_E_BV = (extinction.fm07(wave_2_A,a_v=1.0)[0] - extinction.fm07(wave_1_A,a_v=1.0)[0] ) /  1.0 * R_V\n",
    "\n",
    "    # Calculate E(B-V)\n",
    "    E_BV = 1 / E_ba_over_E_BV * E_ba\n",
    "\n",
    "    # Calculate A(V)\n",
    "    A_V = R_V * E_BV\n",
    "\n",
    "    return A_V\n",
    "\n",
    "def ext_corr_factors(A_V_vals, lambda_A):\n",
    "    A_line_vals = []\n",
    "    for A_V in A_V_vals:\n",
    "        A_line = extinction.fm07(np.array([lambda_A]), a_v=A_V)[0]\n",
    "        A_line_vals.append(A_line)\n",
    "    return 10**(0.4 * np.array(A_line_vals))\n"
   ]
  },
  {
   "cell_type": "code",
   "execution_count": 47,
   "metadata": {
    "scrolled": false
   },
   "outputs": [
    {
     "name": "stderr",
     "output_type": "stream",
     "text": [
      "100%|██████████| 3005/3005 [00:14<00:00, 205.12it/s]\n"
     ]
    }
   ],
   "source": [
    "# Compute the total [OIII] luminosity for each galaxy\n",
    "gals = df[\"ID\"].unique()\n",
    "for gal in tqdm(gals):\n",
    "\n",
    "    df_gal = df[df[\"ID\"] == gal]\n",
    "    agn_cond = ((df_gal[\"BPT (total)\"] == \"Seyfert\") | (df_gal[\"BPT (total)\"] == \"LINER\")) & (df_gal[\"HALPHA EW (total)\"] > 3)\n",
    "    if any(agn_cond):\n",
    "        \n",
    "        # Determine the extinction correction factor for [OIII] for these spaxels only\n",
    "        LOIII_vals = df_gal.loc[agn_cond, \"OIII5007 (total)\"].values * 1e-16 * 4 * np.pi * (df_gal[\"D_L (Mpc)\"].unique()[0] * 1e6 * 3.086e18)**2  # erg s^-1\n",
    "        Ha_Hb_ratio_vals = df_gal.loc[agn_cond, \"HALPHA (total)\"].values / df_gal.loc[agn_cond, \"HBETA (total)\"].values\n",
    "        Ha_Hb_ratio_err_vals = Ha_Hb_ratio_vals * np.sqrt((df_gal.loc[agn_cond, \"HALPHA error (total)\"].values / df_gal.loc[agn_cond, \"HALPHA (total)\"].values)**2 +\\\n",
    "                                                          (df_gal.loc[agn_cond, \"HBETA error (total)\"].values / df_gal.loc[agn_cond, \"HBETA (total)\"].values)**2)\n",
    "        Ha_Hb_SNR_vals = Ha_Hb_ratio_vals / Ha_Hb_ratio_err_vals\n",
    "        Ha_Hb_ratio_vals[Ha_Hb_SNR_vals < 3] = 2.85  # Do not perform extinction correction if the S/N in the ratio is poor\n",
    "        A_V_vals = get_A_V(Ha_Hb_ratio_vals)\n",
    "        OIII_ext_corr_vals = ext_corr_factors(A_V_vals, 5007)\n",
    "        LOIII_ext_corr_vals = LOIII_vals * OIII_ext_corr_vals\n",
    "        LOIII_ext_corr_tot = np.nansum(LOIII_ext_corr_vals)\n",
    "        LOIII_tot = np.nansum(LOIII_vals)\n",
    "        \n",
    "        # Store in DataFrame\n",
    "        df.loc[df[\"ID\"] == gal, \"log [OIII] luminosity (AGN, total)\"] = np.log10(LOIII_tot)\n",
    "        df.loc[df[\"ID\"] == gal, \"log [OIII] luminosity (AGN, ext. corr., total)\"] = np.log10(LOIII_ext_corr_tot)\n"
   ]
  },
  {
   "cell_type": "code",
   "execution_count": 55,
   "metadata": {},
   "outputs": [
    {
     "data": {
      "application/vnd.jupyter.widget-view+json": {
       "model_id": "705647ec6ca74d7cac83ce6b92d874f6",
       "version_major": 2,
       "version_minor": 0
      },
      "text/plain": [
       "Canvas(toolbar=Toolbar(toolitems=[('Home', 'Reset original view', 'home', 'home'), ('Back', 'Back to previous …"
      ]
     },
     "metadata": {},
     "output_type": "display_data"
    },
    {
     "name": "stderr",
     "output_type": "stream",
     "text": [
      "/pkg/linux/anaconda-20191122/anaconda3/lib/python3.7/site-packages/numpy/lib/histograms.py:829: RuntimeWarning: invalid value encountered in greater_equal\n",
      "  keep = (tmp_a >= first_edge)\n",
      "/pkg/linux/anaconda-20191122/anaconda3/lib/python3.7/site-packages/numpy/lib/histograms.py:830: RuntimeWarning: invalid value encountered in less_equal\n",
      "  keep &= (tmp_a <= last_edge)\n"
     ]
    },
    {
     "data": {
      "text/plain": [
       "(array([ 4344.,  2644.,  3837.,  2640., 12556.,  3592.,  3410.,  5473.,\n",
       "         2875.,  3527., 13227.,  4188.,  4785.,  4246.,  7005.,  5848.,\n",
       "         6785.,  2305.,  3787.,  4594.,   667.,  2488.,  2788.,   648.,\n",
       "         2114.]),\n",
       " array([38.  , 38.16, 38.32, 38.48, 38.64, 38.8 , 38.96, 39.12, 39.28,\n",
       "        39.44, 39.6 , 39.76, 39.92, 40.08, 40.24, 40.4 , 40.56, 40.72,\n",
       "        40.88, 41.04, 41.2 , 41.36, 41.52, 41.68, 41.84, 42.  ]),\n",
       " <a list of 1 Patch objects>)"
      ]
     },
     "execution_count": 55,
     "metadata": {},
     "output_type": "execute_result"
    }
   ],
   "source": [
    "plt.figure()\n",
    "plt.hist(df[\"log [OIII] luminosity (AGN, total)\"], range=(38, 42), histtype=\"step\", bins=25)\n",
    "plt.hist(df[\"log [OIII] luminosity (AGN, ext. corr., total)\"], range=(38, 42), histtype=\"step\", bins=25)"
   ]
  },
  {
   "cell_type": "code",
   "execution_count": 56,
   "metadata": {},
   "outputs": [],
   "source": [
    "# Make a separate DataFrame only containing star-forming spaxels\n",
    "df_AGN = df.copy()\n",
    "df_AGN = df_AGN[((df_AGN[\"BPT (total)\"] == \"Seyfert\") | (df_AGN[\"BPT (total)\"] == \"LINER\")) & (df_AGN[\"HALPHA EW (total)\"] > 3)]\n"
   ]
  },
  {
   "cell_type": "code",
   "execution_count": 57,
   "metadata": {},
   "outputs": [
    {
     "data": {
      "text/plain": [
       "array([39.75695599, 40.99042072, 40.99042072, ..., 40.57058546,\n",
       "       40.57058546, 40.57058546])"
      ]
     },
     "execution_count": 57,
     "metadata": {},
     "output_type": "execute_result"
    }
   ],
   "source": [
    "df_AGN[\"log [OIII] luminosity (AGN, ext. corr., total)\"].values"
   ]
  },
  {
   "cell_type": "markdown",
   "metadata": {},
   "source": [
    "### PLOT: histogram for AGN-only spaxels showing % of 1,2,3 component spaxels as a function of local, global and systematic properties\n",
    "---"
   ]
  },
  {
   "cell_type": "code",
   "execution_count": 58,
   "metadata": {
    "scrolled": false
   },
   "outputs": [
    {
     "data": {
      "application/vnd.jupyter.widget-view+json": {
       "model_id": "f30732e16a2942939b2945d7c2abf884",
       "version_major": 2,
       "version_minor": 0
      },
      "text/plain": [
       "Canvas(toolbar=Toolbar(toolitems=[('Home', 'Reset original view', 'home', 'home'), ('Back', 'Back to previous …"
      ]
     },
     "metadata": {},
     "output_type": "display_data"
    },
    {
     "name": "stdout",
     "output_type": "stream",
     "text": [
      "Saving to /priv/meggs3/u5708159/SAMI/figs/paper/hist_1vs2vs3components_HaEW_and_sigma_and_SFR_AGN_only\n"
     ]
    },
    {
     "data": {
      "application/vnd.jupyter.widget-view+json": {
       "model_id": "8aac84df2c1a4300a5dcd2cdea4b2ae4",
       "version_major": 2,
       "version_minor": 0
      },
      "text/plain": [
       "Canvas(toolbar=Toolbar(toolitems=[('Home', 'Reset original view', 'home', 'home'), ('Back', 'Back to previous …"
      ]
     },
     "metadata": {},
     "output_type": "display_data"
    },
    {
     "name": "stdout",
     "output_type": "stream",
     "text": [
      "Saving to /priv/meggs3/u5708159/SAMI/figs/paper/hist_1vs2vs3components_systematic_AGN_only.pdf\n"
     ]
    },
    {
     "data": {
      "application/vnd.jupyter.widget-view+json": {
       "model_id": "947dbbee79d047ff9f001e92d2da9224",
       "version_major": 2,
       "version_minor": 0
      },
      "text/plain": [
       "Canvas(toolbar=Toolbar(toolitems=[('Home', 'Reset original view', 'home', 'home'), ('Back', 'Back to previous …"
      ]
     },
     "metadata": {},
     "output_type": "display_data"
    },
    {
     "name": "stderr",
     "output_type": "stream",
     "text": [
      "/pkg/linux/anaconda-20191122/anaconda3/lib/python3.7/site-packages/astropy/stats/histogram.py:206: RuntimeWarning: invalid value encountered in double_scalars\n",
      "  Nbins = np.ceil((data.max() - data.min()) / dx)\n"
     ]
    },
    {
     "name": "stdout",
     "output_type": "stream",
     "text": [
      "Saving to /priv/meggs3/u5708159/SAMI/figs/paper/hist_1vs2vs3components_vgrad_AGN_only.pdf\n"
     ]
    },
    {
     "data": {
      "application/vnd.jupyter.widget-view+json": {
       "model_id": "e6ccbcbf74fa42d093b17a8bafab47b3",
       "version_major": 2,
       "version_minor": 0
      },
      "text/plain": [
       "Canvas(toolbar=Toolbar(toolitems=[('Home', 'Reset original view', 'home', 'home'), ('Back', 'Back to previous …"
      ]
     },
     "metadata": {},
     "output_type": "display_data"
    },
    {
     "name": "stdout",
     "output_type": "stream",
     "text": [
      "Saving to /priv/meggs3/u5708159/SAMI/figs/paper/hist_1vs2vs3components_local_AGN_only.pdf\n"
     ]
    },
    {
     "data": {
      "application/vnd.jupyter.widget-view+json": {
       "model_id": "11cd236578214d0793d573a3379ba893",
       "version_major": 2,
       "version_minor": 0
      },
      "text/plain": [
       "Canvas(toolbar=Toolbar(toolitems=[('Home', 'Reset original view', 'home', 'home'), ('Back', 'Back to previous …"
      ]
     },
     "metadata": {},
     "output_type": "display_data"
    },
    {
     "name": "stdout",
     "output_type": "stream",
     "text": [
      "Saving to /priv/meggs3/u5708159/SAMI/figs/paper/hist_1vs2vs3components_global_AGN_only.pdf\n"
     ]
    },
    {
     "data": {
      "application/vnd.jupyter.widget-view+json": {
       "model_id": "d74e0006c5774bcaa30c7f5efdd8870a",
       "version_major": 2,
       "version_minor": 0
      },
      "text/plain": [
       "Canvas(toolbar=Toolbar(toolitems=[('Home', 'Reset original view', 'home', 'home'), ('Back', 'Back to previous …"
      ]
     },
     "metadata": {},
     "output_type": "display_data"
    },
    {
     "name": "stdout",
     "output_type": "stream",
     "text": [
      "Saving to /priv/meggs3/u5708159/SAMI/figs/paper/hist_1vs2vs3components_LOIII_AGN_only.pdf\n"
     ]
    }
   ],
   "source": [
    "# Halpha EW, SFR, SFR surface density\n",
    "fig, axs = plt.subplots(nrows=1, ncols=2, figsize=(10, 4))\n",
    "fig.subplots_adjust(wspace=0)\n",
    "\n",
    "for cc, col_x in enumerate([\"log HALPHA EW (total)\", \"log HALPHA luminosity (total)\"]):\n",
    "    for ii in range(3):\n",
    "        cond = df_AGN[\"Number of components\"] == ii + 1\n",
    "        hist(df_AGN.loc[cond, col_x], density=True, histtype=\"step\",\n",
    "             ax=axs[cc], range=(vmin_fn(col_x), vmax_fn(col_x)),\n",
    "             bins=\"scott\",\n",
    "             label=f\"{ncomponents_labels[ii + 1]} component{'s' if ii > 1 else ''}\" + r\" ($N = %d$)\" % (df_AGN.loc[cond, col_x].shape[0]),\n",
    "             color=ncomponents_colours[ii + 1])\n",
    "    axs[cc].set_xlabel(label_fn(col_x))\n",
    "    axs[cc].set_yticklabels([]) if ii > 0 else None\n",
    "axs[0].axvline(np.log10(3), linestyle=\"--\", color=\"k\")\n",
    "axs[0].legend(fontsize=\"x-small\", loc=\"upper left\")\n",
    "axs[0].set_ylabel(r\"$N$ (normalised)\")\n",
    "fig.suptitle(r\"H$\\alpha$-derived quantities (AGN spaxels only)\", y=0.94)\n",
    "\n",
    "if savefigs:\n",
    "    fname = os.path.join(fig_path, f\"hist_1vs2vs3components_HaEW_and_sigma_and_SFR_AGN_only\")\n",
    "    print(f\"Saving to {fname}\")\n",
    "    fig.savefig(fname, bbox_inches=\"tight\")\n",
    "\n",
    "fig, axs = plt.subplots(nrows=1, ncols=3, figsize=(15, 4))\n",
    "fig.subplots_adjust(wspace=0)\n",
    "\n",
    "# Systematic quantities\n",
    "for cc, col_x in enumerate([\"Bin size (square kpc)\", \"z_spec\", \"Inclination i (degrees)\"]):\n",
    "    for ii in range(3):\n",
    "        cond = df_AGN[\"Number of components\"] == ii + 1\n",
    "        hist(df_AGN.loc[cond, col_x], density=True, histtype=\"step\",\n",
    "             ax=axs[cc],\n",
    "             bins=\"scott\", \n",
    "             range=(0, 90) if col_x == \"Inclination i (degrees)\" else None,\n",
    "             label=f\"{ncomponents_labels[ii + 1]} component{'s' if ii > 1 else ''}\" + r\" ($N = %d$)\" % (df_AGN.loc[cond].shape[0]),\n",
    "             color=ncomponents_colours[ii + 1])\n",
    "    axs[cc].set_xlabel(label_fn(col_x))\n",
    "    axs[cc].set_yticklabels([]) if cc > 0 else None\n",
    "axs[0].legend(fontsize=\"x-small\", loc=\"upper right\")\n",
    "axs[0].set_ylabel(r\"$N$ (normalised)\")\n",
    "fig.suptitle(\"Systematics (AGN spaxels only)\", y=0.94)\n",
    "\n",
    "if savefigs:\n",
    "    fname = os.path.join(fig_path, f\"hist_1vs2vs3components_systematic_AGN_only.pdf\")\n",
    "    print(f\"Saving to {fname}\")\n",
    "    fig.savefig(fname, bbox_inches=\"tight\", format=\"pdf\")\n",
    "    \n",
    "# Specifically looking at v_grad\n",
    "fig, axs = plt.subplots(nrows=1, ncols=3, figsize=(15, 4))\n",
    "fig.subplots_adjust(wspace=0)\n",
    "\n",
    "for cc, col_x in enumerate([\"v_grad (component 0)\", \"v_grad (component 1)\", \"v_grad (component 2)\"]):\n",
    "    for ii in range(3):\n",
    "        cond = df_AGN[\"Number of components\"] == ii + 1\n",
    "        if all(df_AGN.loc[cond, col_x].isna()):\n",
    "            continue\n",
    "        hist(df_AGN.loc[cond, col_x], density=True, histtype=\"step\",\n",
    "             ax=axs[cc],\n",
    "             bins=\"scott\", range=(0, 150),\n",
    "             label=f\"{ncomponents_labels[ii + 1]} component{'s' if ii > 1 else ''}\" + r\" ($N = %d$)\" % (df_AGN.loc[cond].shape[0]),\n",
    "             color=ncomponents_colours[ii + 1])\n",
    "    axs[cc].set_xlabel(label_fn(col_x) + f\" (component {cc + 1})\")\n",
    "    axs[cc].set_yticklabels([]) if cc > 0 else None\n",
    "    axs[cc].autoscale(enable=True, axis=\"x\", tight=True)\n",
    "# axs[0].legend(fontsize=\"x-small\", loc=\"upper left\")\n",
    "axs[0].set_ylabel(r\"$N$ (normalised)\")\n",
    "fig.suptitle(r\"$v_{\\rm grad}$ (AGN spaxels only)\", y=0.94)\n",
    "\n",
    "if savefigs:\n",
    "    fname = os.path.join(fig_path, f\"hist_1vs2vs3components_vgrad_AGN_only.pdf\")\n",
    "    print(f\"Saving to {fname}\")\n",
    "    fig.savefig(fname, bbox_inches=\"tight\", format=\"pdf\")\n",
    "\n",
    "# Local quantities\n",
    "fig, axs = plt.subplots(nrows=1, ncols=3, figsize=(15, 4))\n",
    "fig.subplots_adjust(wspace=0)\n",
    "\n",
    "for cc, col_x in enumerate([\"D4000\", \"r/R_e\", \"sigma_*\"]):\n",
    "    for ii in range(3):\n",
    "        cond = df_AGN[\"Number of components\"] == ii + 1\n",
    "        hist(df_AGN.loc[cond, col_x], density=True, histtype=\"step\",\n",
    "             ax=axs[cc], \n",
    "             range=(vmin_fn(col_x), vmax_fn(col_x)),\n",
    "             bins=\"scott\",\n",
    "             label=f\"{ncomponents_labels[ii + 1]} component{'s' if ii > 1 else ''}\" + r\" ($N = %d$)\" % (df_AGN.loc[cond].shape[0]),\n",
    "             color=ncomponents_colours[ii + 1])\n",
    "    axs[cc].set_xlabel(label_fn(col_x))\n",
    "    axs[cc].set_yticklabels([]) if cc > 0 else None\n",
    "    axs[cc].autoscale(enable=True, axis=\"x\", tight=True)\n",
    "# axs[-1].legend(fontsize=\"x-small\", loc=\"upper right\")\n",
    "axs[0].set_ylabel(r\"$N$ (normalised)\")\n",
    "fig.suptitle(\"Local properties (AGN spaxels only)\", y=0.94)\n",
    "\n",
    "if savefigs:\n",
    "    fname = os.path.join(fig_path, f\"hist_1vs2vs3components_local_AGN_only.pdf\")\n",
    "    print(f\"Saving to {fname}\")\n",
    "    fig.savefig(fname, bbox_inches=\"tight\", format=\"pdf\")\n",
    "\n",
    "# Global quantities\n",
    "fig, axs = plt.subplots(nrows=1, ncols=3, figsize=(15, 4))\n",
    "fig.subplots_adjust(wspace=0)\n",
    "\n",
    "for cc, col_x in enumerate([\"R_e (kpc)\", \"log M_*\", \"log(M/R_e)\"]):\n",
    "    for ii in range(3):\n",
    "        cond = df_AGN[\"Number of components\"] == ii + 1\n",
    "        hist(df_AGN.loc[cond, col_x], density=True, histtype=\"step\",\n",
    "             ax=axs[cc],\n",
    "             range=(vmin_fn(col_x), vmax_fn(col_x)),\n",
    "             bins=\"scott\",\n",
    "             label=f\"{ncomponents_labels[ii + 1]} component{'s' if ii > 1 else ''}\" + r\" ($N = %d$)\" % (df_AGN.loc[cond].shape[0]),\n",
    "             color=ncomponents_colours[ii + 1])\n",
    "    axs[cc].set_xlabel(label_fn(col_x))\n",
    "    axs[cc].set_yticklabels([]) if cc > 0 else None\n",
    "    axs[cc].autoscale(enable=True, axis=\"x\", tight=True)\n",
    "# axs[0].legend(fontsize=\"x-small\", loc=\"upper left\")\n",
    "axs[0].set_ylabel(r\"$N$ (normalised)\")\n",
    "fig.suptitle(\"Global properties (AGN spaxels only)\", y=0.94)\n",
    "\n",
    "if savefigs:\n",
    "    fname = os.path.join(fig_path, f\"hist_1vs2vs3components_global_AGN_only.pdf\")\n",
    "    print(f\"Saving to {fname}\")\n",
    "    fig.savefig(fname, bbox_inches=\"tight\", format=\"pdf\")\n",
    "    \n",
    "# Total OIII luminosity\n",
    "fig, ax = plt.subplots(nrows=1, ncols=1, figsize=(5, 4))\n",
    "fig.subplots_adjust(wspace=0)\n",
    "axs = [ax]\n",
    "for cc, col_x in enumerate([\"log [OIII] luminosity (AGN, ext. corr., total)\"]):\n",
    "    for ii in range(3):\n",
    "        cond = df_AGN[\"Number of components\"] == ii + 1\n",
    "        hist(df_AGN.loc[cond, col_x] + np.log10(3500), density=True, histtype=\"step\",\n",
    "             ax=axs[cc],\n",
    "             bins=\"scott\",\n",
    "             label=f\"{ncomponents_labels[ii + 1]} component{'s' if ii > 1 else ''}\" + r\" ($N = %d$)\" % (df_AGN.loc[cond].shape[0]),\n",
    "             color=ncomponents_colours[ii + 1])\n",
    "    axs[cc].set_xlabel(r\"$\\log_{10} (3500 L(\\rm [O\\,III]) \\, [\\rm erg\\,s{^-1}])$\")\n",
    "    axs[cc].set_yticklabels([]) if cc > 0 else None\n",
    "    axs[cc].autoscale(enable=True, axis=\"x\", tight=True)\n",
    "# axs[0].legend(fontsize=\"x-small\", loc=\"upper left\")\n",
    "axs[0].set_ylabel(r\"$N$ (normalised)\")\n",
    "fig.suptitle(r\"$L_{\\rm Edd}$ (AGN spaxels only)\", y=0.94)\n",
    "\n",
    "if savefigs:\n",
    "    fname = os.path.join(fig_path, f\"hist_1vs2vs3components_LOIII_AGN_only.pdf\")\n",
    "    print(f\"Saving to {fname}\")\n",
    "    fig.savefig(fname, bbox_inches=\"tight\", format=\"pdf\")"
   ]
  },
  {
   "cell_type": "markdown",
   "metadata": {},
   "source": [
    "### PLOT: histograms showing local/global/systematic quantities for spaxels with and without at least 1 kinematically disturbed copmonent: what determines the presence of kinematic components with $\\Delta \\sigma >> 0$?\n",
    "---"
   ]
  },
  {
   "cell_type": "code",
   "execution_count": 59,
   "metadata": {},
   "outputs": [],
   "source": [
    "# New columns: total number of kinematically disturbed components\n",
    "df_AGN[\"Number of kinematically disturbed components\"] = df_AGN[\"Kinematically disturbed (component 0)\"].astype(int) + df_AGN[\"Kinematically disturbed (component 1)\"].astype(int) + df_AGN[\"Kinematically disturbed (component 2)\"].astype(int)\n"
   ]
  },
  {
   "cell_type": "code",
   "execution_count": 60,
   "metadata": {
    "scrolled": false
   },
   "outputs": [
    {
     "data": {
      "application/vnd.jupyter.widget-view+json": {
       "model_id": "00441fca098840408c1b8f9c63d7202c",
       "version_major": 2,
       "version_minor": 0
      },
      "text/plain": [
       "Canvas(toolbar=Toolbar(toolitems=[('Home', 'Reset original view', 'home', 'home'), ('Back', 'Back to previous …"
      ]
     },
     "metadata": {},
     "output_type": "display_data"
    },
    {
     "name": "stdout",
     "output_type": "stream",
     "text": [
      "Saving to /priv/meggs3/u5708159/SAMI/figs/paper/hist_KDcomponents_HaEW_and_sigma_and_SFR_AGN_only\n"
     ]
    },
    {
     "data": {
      "application/vnd.jupyter.widget-view+json": {
       "model_id": "96d92c8c3d744484814e95a2de8590e6",
       "version_major": 2,
       "version_minor": 0
      },
      "text/plain": [
       "Canvas(toolbar=Toolbar(toolitems=[('Home', 'Reset original view', 'home', 'home'), ('Back', 'Back to previous …"
      ]
     },
     "metadata": {},
     "output_type": "display_data"
    },
    {
     "name": "stdout",
     "output_type": "stream",
     "text": [
      "Saving to /priv/meggs3/u5708159/SAMI/figs/paper/hist_KDcomponents_systematic_AGN_only.pdf\n"
     ]
    },
    {
     "data": {
      "application/vnd.jupyter.widget-view+json": {
       "model_id": "d90a9eebd47e4ff8bef21b22fcda1988",
       "version_major": 2,
       "version_minor": 0
      },
      "text/plain": [
       "Canvas(toolbar=Toolbar(toolitems=[('Home', 'Reset original view', 'home', 'home'), ('Back', 'Back to previous …"
      ]
     },
     "metadata": {},
     "output_type": "display_data"
    },
    {
     "name": "stdout",
     "output_type": "stream",
     "text": [
      "Saving to /priv/meggs3/u5708159/SAMI/figs/paper/hist_KDcomponents_vgrad_AGN_only.pdf\n"
     ]
    },
    {
     "data": {
      "application/vnd.jupyter.widget-view+json": {
       "model_id": "d4d76310053c43d9b223b8eefc8b4900",
       "version_major": 2,
       "version_minor": 0
      },
      "text/plain": [
       "Canvas(toolbar=Toolbar(toolitems=[('Home', 'Reset original view', 'home', 'home'), ('Back', 'Back to previous …"
      ]
     },
     "metadata": {},
     "output_type": "display_data"
    },
    {
     "name": "stdout",
     "output_type": "stream",
     "text": [
      "Saving to /priv/meggs3/u5708159/SAMI/figs/paper/hist_KDcomponents_local_AGN_only.pdf\n"
     ]
    },
    {
     "data": {
      "application/vnd.jupyter.widget-view+json": {
       "model_id": "034b73f0d721407b97a9cd92a8bec6e8",
       "version_major": 2,
       "version_minor": 0
      },
      "text/plain": [
       "Canvas(toolbar=Toolbar(toolitems=[('Home', 'Reset original view', 'home', 'home'), ('Back', 'Back to previous …"
      ]
     },
     "metadata": {},
     "output_type": "display_data"
    },
    {
     "name": "stdout",
     "output_type": "stream",
     "text": [
      "Saving to /priv/meggs3/u5708159/SAMI/figs/paper/hist_KDcomponents_global_AGN_only.pdf\n"
     ]
    },
    {
     "data": {
      "application/vnd.jupyter.widget-view+json": {
       "model_id": "6a10c8b8bbc84c418a8cd62db1f901a2",
       "version_major": 2,
       "version_minor": 0
      },
      "text/plain": [
       "Canvas(toolbar=Toolbar(toolitems=[('Home', 'Reset original view', 'home', 'home'), ('Back', 'Back to previous …"
      ]
     },
     "metadata": {},
     "output_type": "display_data"
    },
    {
     "name": "stdout",
     "output_type": "stream",
     "text": [
      "Saving to /priv/meggs3/u5708159/SAMI/figs/paper/hist_KD_LOIII_AGN_only.pdf\n"
     ]
    }
   ],
   "source": [
    "# Halpha EW, SFR, SFR surface density\n",
    "fig, axs = plt.subplots(nrows=1, ncols=2, figsize=(10, 4))\n",
    "fig.subplots_adjust(wspace=0)\n",
    "\n",
    "for cc, col_x in enumerate([\"log HALPHA EW (total)\", \"log HALPHA luminosity (total)\"]):\n",
    "    for ii in range(3):\n",
    "        cond = df_AGN[\"Number of kinematically disturbed components\"] == ii\n",
    "        hist(df_AGN.loc[cond, col_x], density=True, histtype=\"step\",\n",
    "             ax=axs[cc], range=(vmin_fn(col_x), 100 if col_x.startswith(\"sigma\") else vmax_fn(col_x)),\n",
    "             bins=\"scott\",\n",
    "             label=f\"{ncomponents_labels[ii]} KD component{'s' if ii  > 1 else ''}\" + r\" ($N = %d$)\" % (df_AGN.loc[cond, col_x].shape[0]),\n",
    "             color=ncomponents_colours[ii + 1])\n",
    "    axs[cc].set_xlabel(label_fn(col_x))\n",
    "    axs[cc].set_yticklabels([]) if ii > 0 else None\n",
    "axs[0].axvline(np.log10(3), linestyle=\"--\", color=\"k\")\n",
    "axs[0].legend(fontsize=\"x-small\", loc=\"upper left\")\n",
    "axs[0].set_ylabel(r\"$N$ (normalised)\")\n",
    "fig.suptitle(r\"H$\\alpha$-derived quantities (AGN spaxels only)\", y=0.94)\n",
    "\n",
    "if savefigs:\n",
    "    fname = os.path.join(fig_path, f\"hist_KDcomponents_HaEW_and_sigma_and_SFR_AGN_only\")\n",
    "    print(f\"Saving to {fname}\")\n",
    "    fig.savefig(fname, bbox_inches=\"tight\")\n",
    "\n",
    "fig, axs = plt.subplots(nrows=1, ncols=3, figsize=(15, 4))\n",
    "fig.subplots_adjust(wspace=0)\n",
    "\n",
    "# Systematic quantities\n",
    "for cc, col_x in enumerate([\"Bin size (square kpc)\", \"z_spec\", \"Inclination i (degrees)\"]):\n",
    "    for ii in range(3):\n",
    "        cond = df_AGN[\"Number of kinematically disturbed components\"] == ii\n",
    "        hist(df_AGN.loc[cond, col_x], density=True, histtype=\"step\",\n",
    "             ax=axs[cc],\n",
    "             bins=\"scott\", \n",
    "             range=(0, 90) if col_x == \"Inclination i (degrees)\" else None,\n",
    "             label=f\"{ncomponents_labels[ii]} KD component{'s' if ii > 1 else ''}\" + r\" ($N = %d$)\" % (df_AGN.loc[cond].shape[0]),\n",
    "             color=ncomponents_colours[ii + 1])\n",
    "    axs[cc].set_xlabel(label_fn(col_x))\n",
    "    axs[cc].set_yticklabels([]) if cc > 0 else None\n",
    "# axs[0].legend(fontsize=\"x-small\", loc=\"upper right\")\n",
    "axs[0].set_ylabel(r\"$N$ (normalised)\")\n",
    "fig.suptitle(\"Systematics (AGN spaxels only)\", y=0.94)\n",
    "\n",
    "if savefigs:\n",
    "    fname = os.path.join(fig_path, f\"hist_KDcomponents_systematic_AGN_only.pdf\")\n",
    "    print(f\"Saving to {fname}\")\n",
    "    fig.savefig(fname, bbox_inches=\"tight\", format=\"pdf\")\n",
    "    \n",
    "# Specifically looking at v_grad\n",
    "fig, axs = plt.subplots(nrows=1, ncols=3, figsize=(15, 4))\n",
    "fig.subplots_adjust(wspace=0)\n",
    "\n",
    "for cc, col_x in enumerate([\"v_grad (component 0)\", \"v_grad (component 1)\", \"v_grad (component 2)\"]):\n",
    "    for ii in range(3):\n",
    "        cond = df_AGN[\"Number of kinematically disturbed components\"] == ii\n",
    "        if all(df_AGN.loc[cond, col_x].isna()):\n",
    "            continue\n",
    "        hist(df_AGN.loc[cond, col_x], density=True, histtype=\"step\",\n",
    "             ax=axs[cc],\n",
    "             bins=\"scott\", range=(0, 150),\n",
    "             label=f\"{ncomponents_labels[ii]} KD component{'s' if ii > 1 else ''}\" + r\" ($N = %d$)\" % (df_AGN.loc[cond].shape[0]),\n",
    "             color=ncomponents_colours[ii + 1])\n",
    "    axs[cc].set_xlabel(label_fn(col_x) + f\" (component {cc + 1})\")\n",
    "    axs[cc].set_yticklabels([]) if cc > 0 else None\n",
    "    axs[cc].autoscale(enable=True, axis=\"x\", tight=True)\n",
    "# axs[0].legend(fontsize=\"x-small\", loc=\"upper left\")\n",
    "axs[0].set_ylabel(r\"$N$ (normalised)\")\n",
    "fig.suptitle(r\"$v_{\\rm grad}$ (AGN spaxels only)\", y=0.94)\n",
    "\n",
    "if savefigs:\n",
    "    fname = os.path.join(fig_path, f\"hist_KDcomponents_vgrad_AGN_only.pdf\")\n",
    "    print(f\"Saving to {fname}\")\n",
    "    fig.savefig(fname, bbox_inches=\"tight\", format=\"pdf\")\n",
    "\n",
    "# Local quantities\n",
    "fig, axs = plt.subplots(nrows=1, ncols=3, figsize=(15, 4))\n",
    "fig.subplots_adjust(wspace=0)\n",
    "\n",
    "for cc, col_x in enumerate([\"D4000\", \"r/R_e\", \"sigma_*\"]):\n",
    "    for ii in range(3):\n",
    "        cond = df_AGN[\"Number of kinematically disturbed components\"] == ii\n",
    "        hist(df_AGN.loc[cond, col_x], density=True, histtype=\"step\",\n",
    "             ax=axs[cc], \n",
    "             range=(vmin_fn(col_x), 100 if col_x.startswith(\"sigma_gas\") else vmax_fn(col_x)),\n",
    "             bins=\"scott\",\n",
    "             label=f\"{ncomponents_labels[ii]} KD component{'s' if ii > 1 else ''}\" + r\" ($N = %d$)\" % (df_AGN.loc[cond].shape[0]),\n",
    "             color=ncomponents_colours[ii + 1])\n",
    "    axs[cc].set_xlabel(label_fn(col_x))\n",
    "    axs[cc].set_yticklabels([]) if cc > 0 else None\n",
    "    axs[cc].autoscale(enable=True, axis=\"x\", tight=True)\n",
    "# axs[-1].legend(fontsize=\"x-small\", loc=\"upper right\")\n",
    "axs[0].set_ylabel(r\"$N$ (normalised)\")\n",
    "fig.suptitle(\"Local properties (AGN spaxels only)\", y=0.94)\n",
    "\n",
    "if savefigs:\n",
    "    fname = os.path.join(fig_path, f\"hist_KDcomponents_local_AGN_only.pdf\")\n",
    "    print(f\"Saving to {fname}\")\n",
    "    fig.savefig(fname, bbox_inches=\"tight\", format=\"pdf\")\n",
    "\n",
    "# Global quantities\n",
    "fig, axs = plt.subplots(nrows=1, ncols=3, figsize=(15, 4))\n",
    "fig.subplots_adjust(wspace=0)\n",
    "\n",
    "for cc, col_x in enumerate([\"R_e (kpc)\", \"log M_*\", \"log(M/R_e)\"]):\n",
    "    for ii in range(3):\n",
    "        cond = df_AGN[\"Number of kinematically disturbed components\"] == ii\n",
    "        hist(df_AGN.loc[cond, col_x], density=True, histtype=\"step\",\n",
    "             ax=axs[cc], range=(vmin_fn(col_x), 100 if col_x.startswith(\"sigma\") else vmax_fn(col_x)),\n",
    "             bins=\"scott\",\n",
    "             label=f\"{ncomponents_labels[ii]} KD component{'s' if ii  > 1 else ''}\" + r\" ($N = %d$)\" % (df_AGN.loc[cond].shape[0]),\n",
    "             color=ncomponents_colours[ii + 1])\n",
    "    axs[cc].set_xlabel(label_fn(col_x))\n",
    "    axs[cc].set_yticklabels([]) if cc > 0 else None\n",
    "    axs[cc].autoscale(enable=True, axis=\"x\", tight=True)\n",
    "# axs[0].legend(fontsize=\"x-small\", loc=\"upper left\")\n",
    "axs[0].set_ylabel(r\"$N$ (normalised)\")\n",
    "fig.suptitle(\"Global properties (AGN spaxels only)\", y=0.94)\n",
    "\n",
    "if savefigs:\n",
    "    fname = os.path.join(fig_path, f\"hist_KDcomponents_global_AGN_only.pdf\")\n",
    "    print(f\"Saving to {fname}\")\n",
    "    fig.savefig(fname, bbox_inches=\"tight\", format=\"pdf\")\n",
    "    \n",
    "# Total OIII luminosity\n",
    "fig, ax = plt.subplots(nrows=1, ncols=1, figsize=(5, 4))\n",
    "fig.subplots_adjust(wspace=0)\n",
    "axs = [ax]\n",
    "for cc, col_x in enumerate([\"log [OIII] luminosity (AGN, ext. corr., total)\"]):\n",
    "    for ii in range(3):\n",
    "        cond = df_AGN[\"Number of kinematically disturbed components\"] == ii\n",
    "        hist(df_AGN.loc[cond, col_x] + np.log10(3500), density=True, histtype=\"step\",\n",
    "             ax=axs[cc],\n",
    "             bins=\"scott\",\n",
    "             label=f\"{ncomponents_labels[ii + 1]} component{'s' if ii > 1 else ''}\" + r\" ($N = %d$)\" % (df_AGN.loc[cond].shape[0]),\n",
    "             color=ncomponents_colours[ii + 1])\n",
    "    axs[cc].set_xlabel(r\"$\\log_{10} (3500 L(\\rm [O\\,III]) \\, [\\rm erg\\,s{^-1}])$\")\n",
    "    axs[cc].set_yticklabels([]) if cc > 0 else None\n",
    "    axs[cc].autoscale(enable=True, axis=\"x\", tight=True)\n",
    "# axs[0].legend(fontsize=\"x-small\", loc=\"upper left\")\n",
    "axs[0].set_ylabel(r\"$N$ (normalised)\")\n",
    "fig.suptitle(r\"$L_{\\rm Edd}$ (AGN spaxels only)\", y=0.94)\n",
    "\n",
    "if savefigs:\n",
    "    fname = os.path.join(fig_path, f\"hist_KD_LOIII_AGN_only.pdf\")\n",
    "    print(f\"Saving to {fname}\")\n",
    "    fig.savefig(fname, bbox_inches=\"tight\", format=\"pdf\")\n"
   ]
  },
  {
   "cell_type": "markdown",
   "metadata": {},
   "source": [
    "### PLOT: WHAV* diagrams for AGN spaxels in slices of total galaxy [O III] luminosity\n",
    "---"
   ]
  },
  {
   "cell_type": "code",
   "execution_count": 61,
   "metadata": {},
   "outputs": [
    {
     "data": {
      "text/plain": [
       "2093098    9011900521\n",
       "350204         593680\n",
       "350604         593680\n",
       "657029          48016\n",
       "825363         592421\n",
       "825364         592421\n",
       "1179185        618992\n",
       "1252418        537426\n",
       "1252419        537426\n",
       "1252468        537426\n",
       "1252469        537426\n",
       "2092859    9011900521\n",
       "2093056    9011900521\n",
       "2093066    9011900521\n",
       "2093089    9011900521\n",
       "2093093    9011900521\n",
       "2093094    9011900521\n",
       "2093124    9011900521\n",
       "2093126    9011900521\n",
       "2093128    9011900521\n",
       "2093157    9011900521\n",
       "588151         348116\n",
       "667729         202531\n",
       "667757         202531\n",
       "2192399    9016800276\n",
       "2192460    9016800276\n",
       "2192629    9016800276\n",
       "2192660    9016800276\n",
       "2192689    9016800276\n",
       "2192690    9016800276\n",
       "Name: catid, dtype: int64"
      ]
     },
     "execution_count": 61,
     "metadata": {},
     "output_type": "execute_result"
    }
   ],
   "source": [
    "# What are these galaxies that have multiple AGN-like kinematic components but low [OIII] luminosities?\n",
    "cond = df_AGN[\"log [OIII] luminosity (AGN, ext. corr., total)\"] <= 40\n",
    "cond &= df_AGN[\"sigma_gas - sigma_* (component 1)\"] > 0\n",
    "cond &= df_AGN[\"log HALPHA EW (component 1)\"] > 0.5\n",
    "df_AGN[cond][\"ID\"]"
   ]
  },
  {
   "cell_type": "code",
   "execution_count": 62,
   "metadata": {},
   "outputs": [
    {
     "data": {
      "application/vnd.jupyter.widget-view+json": {
       "model_id": "a2688e569c4b45c1bf95369363c593cb",
       "version_major": 2,
       "version_minor": 0
      },
      "text/plain": [
       "Canvas(toolbar=Toolbar(toolitems=[('Home', 'Reset original view', 'home', 'home'), ('Back', 'Back to previous …"
      ]
     },
     "metadata": {},
     "output_type": "display_data"
    },
    {
     "name": "stderr",
     "output_type": "stream",
     "text": [
      "/home/u5708159/python/Modules/spaxelsleuth/plotting/plotgalaxies.py:178: UserWarning: No contour levels were found within the data range.\n",
      "  linewidths=linewidths)\n"
     ]
    },
    {
     "data": {
      "application/vnd.jupyter.widget-view+json": {
       "model_id": "0a01be6c9b6f4cddac8aa7970182c503",
       "version_major": 2,
       "version_minor": 0
      },
      "text/plain": [
       "Canvas(toolbar=Toolbar(toolitems=[('Home', 'Reset original view', 'home', 'home'), ('Back', 'Back to previous …"
      ]
     },
     "metadata": {},
     "output_type": "display_data"
    },
    {
     "name": "stderr",
     "output_type": "stream",
     "text": [
      "/pkg/linux/anaconda-20191122/anaconda3/lib/python3.7/site-packages/ipykernel_launcher.py:9: RuntimeWarning: More than 20 figures have been opened. Figures created through the pyplot interface (`matplotlib.pyplot.figure`) are retained until explicitly closed and may consume too much memory. (To control this warning, see the rcParam `figure.max_open_warning`).\n",
      "  if __name__ == '__main__':\n"
     ]
    },
    {
     "data": {
      "application/vnd.jupyter.widget-view+json": {
       "model_id": "e8981675bb00494db94e8180475f0bbd",
       "version_major": 2,
       "version_minor": 0
      },
      "text/plain": [
       "Canvas(toolbar=Toolbar(toolitems=[('Home', 'Reset original view', 'home', 'home'), ('Back', 'Back to previous …"
      ]
     },
     "metadata": {},
     "output_type": "display_data"
    },
    {
     "data": {
      "application/vnd.jupyter.widget-view+json": {
       "model_id": "ca2f93fd9bf24bc4a230756a5dafde87",
       "version_major": 2,
       "version_minor": 0
      },
      "text/plain": [
       "Canvas(toolbar=Toolbar(toolitems=[('Home', 'Reset original view', 'home', 'home'), ('Back', 'Back to previous …"
      ]
     },
     "metadata": {},
     "output_type": "display_data"
    }
   ],
   "source": [
    "col_z = \"BPT (numeric) (total)\"\n",
    "LOIII_bounds = [\n",
    "    (39, 40),\n",
    "    (40, 41),\n",
    "    (41, 42),\n",
    "    (42, np.inf)\n",
    "]\n",
    "for LOIII_min, LOIII_max in LOIII_bounds:\n",
    "    fig, axs = plt.subplots(nrows=1, ncols=3, figsize=(5 * 3, 5))\n",
    "    fig.subplots_adjust(wspace=0)\n",
    "    bbox = axs[-1].get_position()\n",
    "    cax = fig.add_axes([bbox.x0 + bbox.width, bbox.y0, bbox.width * 0.1, bbox.height])\n",
    "\n",
    "    df_slice = df_AGN[(df_AGN[\"log [OIII] luminosity (AGN, ext. corr., total)\"] > LOIII_min) & (df_AGN[\"log [OIII] luminosity (AGN, ext. corr., total)\"] <= LOIII_max)]\n",
    "    \n",
    "    for ii in range(3):\n",
    "        plot2dhistcontours(df_slice, col_x=f\"sigma_gas - sigma_* (component {ii})\",\n",
    "                           col_y=f\"log HALPHA EW (component {ii})\",\n",
    "                           col_z=f\"{col_z} (component {ii})\" if f\"{col_z} (component {ii})\" in df_AGN else col_z, \n",
    "                           log_z=True if col_z == \"count\" else False,\n",
    "                           alpha=1.0, ax=axs[ii], cax=cax, nbins=100,\n",
    "                           linewidths=0.5,\n",
    "                           contours=True, hist=True, colors=\"white\",\n",
    "                           vmin=1 if col_z == \"count\" else None, \n",
    "                           vmax=1e3 if col_z == \"count\" else None,\n",
    "                           plot_colorbar=True if ii == 3 - 1 else False)\n",
    "        # Decorations\n",
    "        axs[ii].grid()\n",
    "        axs[ii].set_ylabel(\"\") if ii > 0 else None\n",
    "        axs[ii].set_yticklabels([]) if ii > 0 else None\n",
    "        axs[ii].text(s=f\"Component {ii + 1}\", x=0.05, y=0.95, transform=axs[ii].transAxes, verticalalignment=\"top\")\n",
    "        axs[1].set_title(r\"$%.1f < \\log_{10} L(\\rm [O\\,III]) \\leq %.1f$\" % (LOIII_min, LOIII_max))\n",
    "\n",
    "    # Save\n",
    "#     if savefigs:\n",
    "#         fname = os.path.join(fig_path, f\"WHAV_SAMI_{fname_fn(col_z)}.pdf\")\n",
    "#         fig.savefig(fname, bbox_inches=\"tight\", format=\"pdf\")\n",
    "#         print(f\"File saved at: {fname}\")      \n"
   ]
  },
  {
   "cell_type": "markdown",
   "metadata": {},
   "source": [
    "### PLOT: WHAV* diagrams for AGN-only spaxels coloured by various properties to see what drives the spread in the diagram\n",
    "---"
   ]
  },
  {
   "cell_type": "code",
   "execution_count": 63,
   "metadata": {},
   "outputs": [
    {
     "name": "stderr",
     "output_type": "stream",
     "text": [
      "/pkg/linux/anaconda-20191122/anaconda3/lib/python3.7/site-packages/ipykernel_launcher.py:3: RuntimeWarning: More than 20 figures have been opened. Figures created through the pyplot interface (`matplotlib.pyplot.figure`) are retained until explicitly closed and may consume too much memory. (To control this warning, see the rcParam `figure.max_open_warning`).\n",
      "  This is separate from the ipykernel package so we can avoid doing imports until\n"
     ]
    },
    {
     "data": {
      "application/vnd.jupyter.widget-view+json": {
       "model_id": "34e5704c2da74ac8b9522cc5723bee96",
       "version_major": 2,
       "version_minor": 0
      },
      "text/plain": [
       "Canvas(toolbar=Toolbar(toolitems=[('Home', 'Reset original view', 'home', 'home'), ('Back', 'Back to previous …"
      ]
     },
     "metadata": {},
     "output_type": "display_data"
    },
    {
     "name": "stdout",
     "output_type": "stream",
     "text": [
      "WARNING: in label_fn(): undefined column\n",
      "Saving to /priv/meggs3/u5708159/SAMI/figs/paper/WHAV_SAMI_AGN_only_LOIII.pdf\n"
     ]
    }
   ],
   "source": [
    "col_z_list = [\"log [OIII] luminosity (AGN, ext. corr., total)\"]\n",
    "for col_z in col_z_list:\n",
    "    fig, axs = plt.subplots(nrows=1, ncols=3, figsize=(5 * 3, 5))\n",
    "    fig.subplots_adjust(wspace=0)\n",
    "    bbox = axs[-1].get_position()\n",
    "    cax = fig.add_axes([bbox.x0 + bbox.width, bbox.y0, bbox.width * 0.1, bbox.height])\n",
    "\n",
    "    for ii in range(3):\n",
    "        plot2dhistcontours(df_AGN, col_x=f\"sigma_gas - sigma_* (component {ii})\",\n",
    "                           col_y=f\"log HALPHA EW (component {ii})\",\n",
    "                           col_z=f\"{col_z} (component {ii})\" if f\"{col_z} (component {ii})\" in df_AGN else col_z, \n",
    "                           log_z=True if col_z == \"count\" else False,\n",
    "                           alpha=1.0, ax=axs[ii], cax=cax, nbins=100,\n",
    "                           linewidths=0.5,\n",
    "                           vmin=39, vmax=42, cmap=\"inferno\",\n",
    "                           contours=True, hist=True, colors=\"white\",\n",
    "                           plot_colorbar=True if ii == 3 - 1 else False)\n",
    "        # Decorations\n",
    "        axs[ii].grid()\n",
    "        axs[ii].set_ylabel(\"\") if ii > 0 else None\n",
    "        axs[ii].set_yticklabels([]) if ii > 0 else None\n",
    "        axs[ii].text(s=f\"Component {ii + 1}\", x=0.05, y=0.95, transform=axs[ii].transAxes, verticalalignment=\"top\")\n",
    "        axs[1].set_title(\"SF spaxels only\")\n",
    "\n",
    "    # Save\n",
    "    if savefigs:\n",
    "        fname = os.path.join(fig_path, f\"WHAV_SAMI_AGN_only_LOIII.pdf\")\n",
    "        print(f\"Saving to {fname}\")\n",
    "        fig.savefig(fname, bbox_inches=\"tight\", format=\"pdf\")\n",
    "        \n"
   ]
  },
  {
   "cell_type": "code",
   "execution_count": null,
   "metadata": {},
   "outputs": [],
   "source": []
  }
 ],
 "metadata": {
  "kernelspec": {
   "display_name": "Python 3",
   "language": "python",
   "name": "python3"
  },
  "language_info": {
   "codemirror_mode": {
    "name": "ipython",
    "version": 3
   },
   "file_extension": ".py",
   "mimetype": "text/x-python",
   "name": "python",
   "nbconvert_exporter": "python",
   "pygments_lexer": "ipython3",
   "version": "3.7.4"
  }
 },
 "nbformat": 4,
 "nbformat_minor": 2
}
