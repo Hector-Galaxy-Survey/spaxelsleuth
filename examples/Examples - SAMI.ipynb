{
 "cells": [
  {
   "attachments": {},
   "cell_type": "markdown",
   "metadata": {},
   "source": [
    "# `spaxelsleuth` examples (SAMI)\n",
    "---\n",
    "In this notebook, you will learn how to use `spaxelsleuth` to \n",
    "1. create a `pandas` DataFrame containing global information for all SAMI galaxies, e.g. stellar masses, redshifts and effective radii;\n",
    "2. create a `pandas` DataFrame containing spaxel-by-spaxel information for all SAMI galaxies;\n",
    "3. use the included plotting tools to analyse the SAMI data set as a whole;\n",
    "4. create plots that you can use to analyse specific galaxies. "
   ]
  },
  {
   "cell_type": "code",
   "execution_count": null,
   "metadata": {},
   "outputs": [],
   "source": [
    "from spaxelsleuth import load_user_config\n",
    "try:\n",
    "    load_user_config(\"/home/u5708159/.spaxelsleuthconfig.json\")\n",
    "except FileNotFoundError:\n",
    "    load_user_config(\"/Users/u5708159/Desktop/spaxelsleuth_test/.myconfig.json\")\n",
    "from spaxelsleuth.config import settings"
   ]
  },
  {
   "attachments": {},
   "cell_type": "markdown",
   "metadata": {},
   "source": [
    "## Create the DataFrames\n",
    "---\n",
    "### Creating the \"metadata\" DataFrame\n",
    "After you have installed `spaxelsleuth` and have downloaded the necessary files from [DataCentral](http://datacentral.org.au) (see the README), the first step is to create the \"metadata\" DataFrame containing basic information about each SAMI galaxy, such as redshifts, morphologies, and stellar masses."
   ]
  },
  {
   "cell_type": "code",
   "execution_count": null,
   "metadata": {
    "scrolled": false
   },
   "outputs": [],
   "source": [
    "from spaxelsleuth.io.io import make_metadata_df\n",
    "make_metadata_df(survey=\"sami\")"
   ]
  },
  {
   "cell_type": "code",
   "execution_count": null,
   "metadata": {},
   "outputs": [],
   "source": [
    "from spaxelsleuth.io.io import load_metadata_df\n",
    "df_metadata = load_metadata_df(survey=\"sami\")"
   ]
  },
  {
   "cell_type": "code",
   "execution_count": null,
   "metadata": {},
   "outputs": [],
   "source": [
    "df_metadata[df_metadata[\"Good?\"].astype(bool)]"
   ]
  },
  {
   "cell_type": "code",
   "execution_count": null,
   "metadata": {
    "scrolled": false
   },
   "outputs": [],
   "source": [
    "df_metadata.loc[100162]"
   ]
  },
  {
   "cell_type": "code",
   "execution_count": null,
   "metadata": {},
   "outputs": [],
   "source": [
    "import matplotlib.pyplot as plt\n",
    "from spaxelsleuth.plotting.plottools import get_label\n",
    "fig, ax = plt.subplots()\n",
    "ax.scatter(df_metadata[\"z (spectroscopic)\"], df_metadata[\"log M_*\"], s=2, c=\"k\")\n",
    "ax.grid()\n",
    "ax.set_xlabel(get_label(\"z (spectroscopic)\"))\n",
    "ax.set_ylabel(get_label(\"log M_*\"))"
   ]
  },
  {
   "cell_type": "code",
   "execution_count": null,
   "metadata": {},
   "outputs": [],
   "source": [
    "fig, ax = plt.subplots()\n",
    "ax.scatter(df_metadata[\"R_e (MGE) (kpc)\"], df_metadata[\"log M_*\"], s=2, c=\"k\")\n",
    "ax.grid()\n",
    "ax.set_xlabel(get_label(\"R_e (MGE) (kpc)\"))\n",
    "ax.set_ylabel(get_label(\"log M_*\"))\n",
    "ax.set_xscale(\"log\")"
   ]
  },
  {
   "attachments": {},
   "cell_type": "markdown",
   "metadata": {},
   "source": [
    "### Creating the SAMI DataFrame\n",
    "The next step is to create the DataFrame containing all measured quantities, such as emission line fluxes, stellar and gas kinematics, and extinction, for each individual spaxel in every SAMI galaxy. The resulting DataFrames are saved to file and can be accessed using `load_df()`.\n",
    "\n",
    "The input arguments are as follows:\n",
    "* `ncomponents` determines which data set the function is run on. \n",
    "    * `ncomponents = \"recom\"` will use the data products produced using the multi-component Gaussian emission line fits, in which the `LZCOMP` neutral network was used to determine the optimal number of components in each spaxel.\n",
    "    * `ncomponents = \"1\"` will use the data products produced using the single-component Gaussian emission line fits.\n",
    "* `bin_type` refers to the spatial binning scheme used.\n",
    "    * `bin_type = \"default\"` will use the data products produced using the unbinned data. \n",
    "    * `bin_type = \"adaptive\"` will use the data products produced using the Voronoi-binned data. \n",
    "    * `bin_type = \"sectors\"` will use the data products produced using the sector-binned data. \n",
    "* `eline_SNR_min` gives the minimum S/N for which a fitted emission line component will be accepted. All quantities associated with emission line components that fall below this S/N threshold (e.g. kinematics, fluxes, etc.) will be set to `np.nan`.\n",
    "* `correct_extinction` controls whether extinction correction is appled to the emission line fluxes or not.\n",
    "* * `metallicity_diagnostics` controls which strong-line metallicity diagnostics are evaluated.\n",
    "\n",
    "Note that running `make_sami_df()` for all ~3,000 SAMI galaxies takes some time - for a quick demo, set `DEBUG` here to `True`; this will create the DataFrame for a subset of 10 galaxies and is much quicker."
   ]
  },
  {
   "cell_type": "code",
   "execution_count": null,
   "metadata": {},
   "outputs": [],
   "source": [
    "DEBUG = False"
   ]
  },
  {
   "cell_type": "code",
   "execution_count": null,
   "metadata": {},
   "outputs": [],
   "source": [
    "from spaxelsleuth.io.io import make_df"
   ]
  },
  {
   "cell_type": "code",
   "execution_count": null,
   "metadata": {
    "scrolled": true
   },
   "outputs": [],
   "source": [
    "make_df(survey=\"sami\", ncomponents=\"recom\", bin_type=\"default\", eline_SNR_min=5, eline_ANR_min=3, correct_extinction=True, debug=DEBUG)"
   ]
  },
  {
   "attachments": {},
   "cell_type": "markdown",
   "metadata": {},
   "source": [
    "### Load the SAMI DataFrame we just created\n",
    "Note that if `DEBUG == False`, loading the sample takes about 20 seconds - patience is a virtue!"
   ]
  },
  {
   "cell_type": "code",
   "execution_count": null,
   "metadata": {
    "scrolled": false
   },
   "outputs": [],
   "source": [
    "from spaxelsleuth.io.io import load_df\n",
    "df = load_df(survey=\"sami\",\n",
    "             ncomponents=\"recom\",\n",
    "             bin_type=\"default\",\n",
    "             eline_SNR_min=5,\n",
    "             eline_ANR_min=3,\n",
    "             correct_extinction=True,\n",
    "             debug=DEBUG)\n"
   ]
  },
  {
   "attachments": {},
   "cell_type": "markdown",
   "metadata": {},
   "source": [
    "In addition to the measured quantities released in DR3, the DataFrame also contains various other measurements, such as line ratios, spectral categories, equivalent widths, and the like:"
   ]
  },
  {
   "cell_type": "code",
   "execution_count": null,
   "metadata": {
    "scrolled": true
   },
   "outputs": [],
   "source": [
    "df"
   ]
  },
  {
   "cell_type": "code",
   "execution_count": null,
   "metadata": {
    "scrolled": true
   },
   "outputs": [],
   "source": [
    "for col in df.columns:\n",
    "    print(col)"
   ]
  },
  {
   "attachments": {},
   "cell_type": "markdown",
   "metadata": {},
   "source": [
    "If we like, we can limit our DataFrame to spaxels in which *all* Gaussian emission line components meet our S/N and DQ requirements:"
   ]
  },
  {
   "cell_type": "code",
   "execution_count": null,
   "metadata": {},
   "outputs": [],
   "source": [
    "cond_bad_components = df[\"Missing components flag\"]\n",
    "df = df[~cond_bad_components]"
   ]
  },
  {
   "attachments": {},
   "cell_type": "markdown",
   "metadata": {},
   "source": [
    "Let's have a look at some statistics:"
   ]
  },
  {
   "cell_type": "code",
   "execution_count": null,
   "metadata": {},
   "outputs": [],
   "source": [
    "# Calculate the fraction of spaxels with different numbers of emission line components\n",
    "n_spaxels_tot = df.shape[0]\n",
    "for nn in range(4):\n",
    "    cond = df[\"Number of components (original)\"] == nn\n",
    "    n_spaxels = df[cond].shape[0]\n",
    "    print(f\"There are {n_spaxels} spaxels ({n_spaxels / n_spaxels_tot * 100:.2f}%) with {nn} components as determined by LZCOMP\")"
   ]
  },
  {
   "cell_type": "code",
   "execution_count": null,
   "metadata": {
    "scrolled": true
   },
   "outputs": [],
   "source": [
    "# Calculate the number of spaxels with different spectral classifications \n",
    "n_spaxels_tot = df.shape[0]\n",
    "spec_cats = df[\"BPT (total)\"].unique()  # List of spectral categories in the data set\n",
    "for spec_cat in spec_cats:\n",
    "    cond = df[\"BPT (total)\"] == spec_cat\n",
    "    n_spaxels = df[cond].shape[0]\n",
    "    print(f\"There are {n_spaxels} spaxels ({n_spaxels / n_spaxels_tot * 100:.2f}%) classified as {spec_cat}\")"
   ]
  },
  {
   "cell_type": "code",
   "execution_count": null,
   "metadata": {
    "scrolled": true
   },
   "outputs": [],
   "source": [
    "# Histograms showing the distribution in velocity dispersion\n",
    "import matplotlib.pyplot as plt\n",
    "from astropy.visualization import hist\n",
    "fig, ax = plt.subplots(nrows=1, ncols=1)\n",
    "for nn in range(1, 4):\n",
    "    hist(df[f\"sigma_gas (component {nn})\"].values, bins=\"scott\", ax=ax, range=(0, 500), density=True, histtype=\"step\", label=f\"Component {nn}\")\n",
    "ax.legend()\n",
    "ax.set_xlabel(r\"$\\sigma_{\\rm gas}$\")\n",
    "ax.set_ylabel(r\"$N$ (normalised)\")"
   ]
  },
  {
   "attachments": {},
   "cell_type": "markdown",
   "metadata": {},
   "source": [
    "You can also select a subset of the full data sample as follows:"
   ]
  },
  {
   "cell_type": "code",
   "execution_count": null,
   "metadata": {},
   "outputs": [],
   "source": [
    "df_SF = df[df[\"BPT (total)\"] == \"SF\"]\n",
    "fig, ax = plt.subplots(nrows=1, ncols=1)\n",
    "for nn in range(1, 3):\n",
    "    hist(df_SF[f\"sigma_gas (component {nn})\"].values, bins=\"scott\", ax=ax, range=(0, 200), density=True, histtype=\"step\", label=f\"Component {nn}\")\n",
    "ax.legend()\n",
    "ax.set_xlabel(r\"$\\sigma_{\\rm gas}$\")\n",
    "ax.set_ylabel(r\"$N$ (normalised)\")\n",
    "ax.set_title(\"Star-forming spaxels only\")"
   ]
  },
  {
   "attachments": {},
   "cell_type": "markdown",
   "metadata": {},
   "source": [
    "## Using `spaxelsleuth.plotting` to plot the whole SAMI sample \n",
    "--- \n",
    "In the below cells, we will demonstrate how to use various functions in `spaxelsleuth.plotting` to make different kinds of plots useful for analysing the entire SAMI data set."
   ]
  },
  {
   "cell_type": "code",
   "execution_count": null,
   "metadata": {},
   "outputs": [],
   "source": [
    "from spaxelsleuth.plotting.plottools import plot_empty_BPT_diagram, plot_BPT_lines\n",
    "from spaxelsleuth.plotting.plotgalaxies import plot2dhistcontours, plot2dscatter"
   ]
  },
  {
   "attachments": {},
   "cell_type": "markdown",
   "metadata": {},
   "source": [
    "#### Plot the distribution of spaxels in the WHAN diagram\n",
    "The WHAN diagram, developed by Cid Fernandes et al. (2010, 2011), plots the H$\\alpha$ equivalent width (EW) against the [NII]6583Å/H$\\alpha$ line ratio, and can be used to distinguish between emission by star formation, AGN and hot, low-mass evolved stars."
   ]
  },
  {
   "cell_type": "code",
   "execution_count": null,
   "metadata": {
    "scrolled": false
   },
   "outputs": [],
   "source": [
    "# Plot a 2D histogram showing the distribution of SAMI spaxels in the WHAN diagram\n",
    "_ = plot2dhistcontours(df=df,\n",
    "              col_x=f\"log N2 (total)\",\n",
    "              col_y=f\"log HALPHA EW (total)\",\n",
    "              col_z=\"count\", log_z=True,\n",
    "              plot_colorbar=True)"
   ]
  },
  {
   "cell_type": "code",
   "execution_count": null,
   "metadata": {
    "scrolled": false
   },
   "outputs": [],
   "source": [
    "# Repeat the above, but colour by the median BPT classification\n",
    "_ = plot2dhistcontours(df=df,\n",
    "              col_x=f\"log N2 (total)\",\n",
    "              col_y=f\"log HALPHA EW (total)\",\n",
    "              col_z=\"BPT (total)\", \n",
    "              plot_colorbar=True)"
   ]
  },
  {
   "cell_type": "code",
   "execution_count": null,
   "metadata": {},
   "outputs": [],
   "source": [
    "# Repeat the above, but colour by the D4000Å break strength\n",
    "_ = plot2dhistcontours(df=df,\n",
    "              col_x=f\"log N2 (total)\",\n",
    "              col_y=f\"log HALPHA EW (total)\",\n",
    "              col_z=\"D4000\", \n",
    "              plot_colorbar=True)"
   ]
  },
  {
   "cell_type": "code",
   "execution_count": null,
   "metadata": {},
   "outputs": [],
   "source": [
    "# If we like, we can use a different colourmap using the \"cmap\" keyword.\n",
    "# The contour colours can also be changed using the \"colors\" keyword, and the levels can be changed using \"levels\".\n",
    "# The axis limits can also be changed using the \"xmin\", \"xmax\", \"ymin\", \"ymax\" and \"vmin\", \"vmax\" keyword.\n",
    "# We can also change the number of histogram bins using the \"nbins\" keyword.\n",
    "import numpy as np\n",
    "_ = plot2dhistcontours(df=df,\n",
    "              col_x=f\"log N2 (total)\", xmin=-0.6, xmax=0.0,\n",
    "              col_y=f\"log HALPHA EW (total)\", \n",
    "              col_z=\"D4000\", vmin=1.1, vmax=2.0,\n",
    "              nbins=50, \n",
    "              cmap=\"cubehelix\", colors=\"yellow\", levels=np.logspace(0, 4, 5),\n",
    "              plot_colorbar=True)"
   ]
  },
  {
   "attachments": {},
   "cell_type": "markdown",
   "metadata": {},
   "source": [
    "#### Plot optical diagnostic (\"BPT\") diagrams for the full sample, showing the distribution of spaxels in all SAMI galaxies"
   ]
  },
  {
   "cell_type": "code",
   "execution_count": null,
   "metadata": {
    "scrolled": true
   },
   "outputs": [],
   "source": [
    "# Plot an empty BPT diagram\n",
    "fig, axs_bpt = plot_empty_BPT_diagram(nrows=1)\n",
    "\n",
    "# Plot 2D histograms showing the distribution of the entire sample\n",
    "for cc, col_x in enumerate([\"log N2\", \"log S2\", \"log O1\"]):\n",
    "    # Add BPT demarcation lines\n",
    "    plot_BPT_lines(ax=axs_bpt[cc], col_x=col_x)    \n",
    "\n",
    "    # Plot histograms showing distribution for whole sample\n",
    "    _ = plot2dhistcontours(df=df,\n",
    "                  col_x=f\"{col_x} (total)\",\n",
    "                  col_y=f\"log O3 (total)\",\n",
    "                  col_z=\"count\", log_z=True,\n",
    "                  ax=axs_bpt[cc],\n",
    "                  cax=None,\n",
    "                  plot_colorbar=True if cc==2 else False)\n",
    "\n",
    "    if cc > 0:\n",
    "        axs_bpt[cc].set_ylabel(\"\")\n",
    "    axs_bpt[cc].grid()"
   ]
  },
  {
   "attachments": {},
   "cell_type": "markdown",
   "metadata": {},
   "source": [
    "#### Repeat the above, but colour the histograms by $\\sigma_{\\rm gas}$ for the narrowest component (component 1)"
   ]
  },
  {
   "cell_type": "code",
   "execution_count": null,
   "metadata": {},
   "outputs": [],
   "source": [
    "# Plot an empty BPT diagram\n",
    "fig, axs_bpt = plot_empty_BPT_diagram(nrows=1)\n",
    "\n",
    "# Plot 2D histograms showing the distribution of the entire sample\n",
    "for cc, col_x in enumerate([\"log N2\", \"log S2\", \"log O1\"]):\n",
    "    # Add BPT demarcation lines\n",
    "    plot_BPT_lines(ax=axs_bpt[cc], col_x=col_x)    \n",
    "\n",
    "    # Plot histograms showing distribution for whole sample\n",
    "    _ = plot2dhistcontours(df=df,\n",
    "                  col_x=f\"{col_x} (total)\",\n",
    "                  col_y=f\"log O3 (total)\",\n",
    "                  col_z=\"sigma_gas (component 1)\", \n",
    "                  vmax=150,  # Tweak the z-axis scaling to bring out details \n",
    "                  ax=axs_bpt[cc],\n",
    "                  cax=None, colors=\"white\",\n",
    "                  plot_colorbar=True if cc==2 else False)\n",
    "    \n",
    "    if cc > 0:\n",
    "        axs_bpt[cc].set_ylabel(\"\")\n",
    "    axs_bpt[cc].grid()"
   ]
  },
  {
   "attachments": {},
   "cell_type": "markdown",
   "metadata": {},
   "source": [
    "## Using `spaxelsleuth.plotting` to plot individual galaxies\n",
    "--- \n",
    "In the below cells, we will demonstrate how create plots based on individual SAMI galaxies using functions in `spaxelsleuth.plotting`.\n"
   ]
  },
  {
   "cell_type": "code",
   "execution_count": null,
   "metadata": {},
   "outputs": [],
   "source": [
    "# Pick a galaxy, based on its GAMA ID. \n",
    "gal = 572402  # This one is my favourite."
   ]
  },
  {
   "attachments": {},
   "cell_type": "markdown",
   "metadata": {},
   "source": [
    "#### Plot the SDSS image \n",
    "----\n",
    "`plot_sdss_image()` retrieves an RGB SDSS image using the DR16 Image Cutout service and plots it, overlaid with the SAMI field-of-view plus a scale bar to show the physical scale at the galaxy's redshift. If the galaxy lies outside the SDSS footprint (which is the case for some cluster targets) then no image is displayed. "
   ]
  },
  {
   "cell_type": "code",
   "execution_count": null,
   "metadata": {
    "scrolled": true
   },
   "outputs": [],
   "source": [
    "from spaxelsleuth.plotting.sdssimg import plot_sdss_image\n",
    "ax = plot_sdss_image(df=df, gal=gal)\n",
    "ax.set_title(f\"{gal}\")\n"
   ]
  },
  {
   "attachments": {},
   "cell_type": "markdown",
   "metadata": {},
   "source": [
    "#### Plot 2D maps showing various quantities in this galaxy\n",
    "Given a DataFrame corresponding to a single galaxy, `plot2dmap()` reconstructs a 2D image of a specified column (e.g., velocity dispersion) from the rows and plots it. "
   ]
  },
  {
   "cell_type": "code",
   "execution_count": null,
   "metadata": {
    "scrolled": false
   },
   "outputs": [],
   "source": [
    "from spaxelsleuth.plotting.plot2dmap import plot2dmap\n",
    "fig, ax = plot2dmap(df=df, gal=gal, col_z=\"BPT (total)\")\n"
   ]
  },
  {
   "cell_type": "code",
   "execution_count": null,
   "metadata": {},
   "outputs": [],
   "source": [
    "# Playing with input arguments \n",
    "# As in plot2dhistcontours, the maximum colour scaling can be set using \"vmin\" and \"vmax\" and the colourmap can be changed using \"cmap\". \n",
    "# The quantity that is used to plot contours can be set to any column in the DataFrame using \"col_z_contours\" and the colours and linewidths can be configured using \"colours\" and \"linewidths\".\n",
    "_ = plot2dmap(df=df, gal=gal, col_z=\"v_gas (component 1)\",\n",
    "              cmap=\"jet\", vmin=-50, vmax=+50,\n",
    "              col_z_contours=\"v_gas (component 1)\", levels=[-40, -20, 0, 20, 40], colors=\"pink\", linewidths=2.5)\n"
   ]
  },
  {
   "cell_type": "code",
   "execution_count": null,
   "metadata": {},
   "outputs": [],
   "source": [
    "# Slightly more advanced example: plot the gas velocity for each individual component.\n",
    "fig, axs = plt.subplots(nrows=1, ncols=3, figsize=(10, 4))\n",
    "fig.subplots_adjust(wspace=0)\n",
    "\n",
    "for nn in range(3):\n",
    "    # Pass the axis to plot_2dmap()\n",
    "    fig, ax = plot2dmap(df=df, gal=gal, col_z=f\"v_gas (component {nn + 1})\",\n",
    "                        vmin=-100, vmax=+100,\n",
    "                        ax=axs[nn], plot_colorbar=True if nn == 2 else False, show_title=True if nn == 1 else False)\n",
    "\n",
    "# In plot2dmap, the existing axis has to be destroyed and replaced with an identical axis with the correct WCS. Therefore, we need to update our list of axes.\n",
    "axs_new = fig.get_axes()[:-1]\n",
    "\n",
    "# Turn off the y-axis ticks on axes 2 and 3\n",
    "for ax in axs_new[1:]:\n",
    "    lon = ax.coords[0]\n",
    "    lat = ax.coords[1]\n",
    "    lat.set_ticks_visible(False)\n",
    "    lat.set_ticklabel_visible(False)\n"
   ]
  },
  {
   "attachments": {},
   "cell_type": "markdown",
   "metadata": {},
   "source": [
    "#### Scatter plots \n",
    "Create a BPT diagram with 2D histograms and contours showing the distribution in the full sample, with the data points from this galaxy overlaid on top using a scatter plot."
   ]
  },
  {
   "cell_type": "code",
   "execution_count": null,
   "metadata": {},
   "outputs": [],
   "source": [
    "# Plot an empty BPT diagram\n",
    "fig, axs_bpt = plot_empty_BPT_diagram(nrows=1)\n",
    "\n",
    "# Plot 2D histograms showing the distribution of the entire sample\n",
    "for cc, col_x in enumerate([\"log N2\", \"log S2\", \"log O1\"]):\n",
    "    # Add BPT demarcation lines\n",
    "    plot_BPT_lines(ax=axs_bpt[cc], col_x=col_x)    \n",
    "\n",
    "    # Plot histograms showing distribution for whole sample\n",
    "    _ = plot2dhistcontours(df=df,\n",
    "                  col_x=f\"{col_x} (total)\",\n",
    "                  col_y=f\"log O3 (total)\",\n",
    "                  col_z=\"count\", log_z=True,\n",
    "                  cmap=\"bone_r\", alpha=0.4,\n",
    "                  ax=axs_bpt[cc],\n",
    "                  plot_colorbar=False)\n",
    "    \n",
    "    # Scatter plot for this galaxy\n",
    "    _ = plot2dscatter(df=df, gal=gal, \n",
    "                      col_x=f\"{col_x} (total)\",\n",
    "                      col_y=f\"log O3 (total)\",\n",
    "                      col_z=f\"v_gas (component 2)\",\n",
    "                      ax=axs_bpt[cc],\n",
    "                      vmin=-100, vmax=+100,\n",
    "                      plot_colorbar=True if cc==2 else False)\n",
    "    \n",
    "# Turn of y-axis labels \n",
    "[ax.set_ylabel(\"\") for ax in axs_bpt[1:]]"
   ]
  }
 ],
 "metadata": {
  "kernelspec": {
   "display_name": "py37",
   "language": "python",
   "name": "python3"
  },
  "language_info": {
   "codemirror_mode": {
    "name": "ipython",
    "version": 3
   },
   "file_extension": ".py",
   "mimetype": "text/x-python",
   "name": "python",
   "nbconvert_exporter": "python",
   "pygments_lexer": "ipython3",
   "version": "3.10.12"
  },
  "vscode": {
   "interpreter": {
    "hash": "f4fec93325f50ebba2f8ccff2d43fa137f943e5da2ec5ed795e172506ecf899e"
   }
  }
 },
 "nbformat": 4,
 "nbformat_minor": 2
}
