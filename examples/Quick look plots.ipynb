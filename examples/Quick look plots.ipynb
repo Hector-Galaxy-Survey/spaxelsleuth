{
 "cells": [
  {
   "cell_type": "markdown",
   "metadata": {},
   "source": [
    "# \"Quick look\" plots\n",
    "---\n",
    "Use `spaxelsleuth` to make nice summary plots for a given galaxy. "
   ]
  },
  {
   "cell_type": "code",
   "execution_count": 1,
   "metadata": {},
   "outputs": [],
   "source": [
    "%matplotlib widget"
   ]
  },
  {
   "cell_type": "code",
   "execution_count": 2,
   "metadata": {},
   "outputs": [],
   "source": [
    "# Imports\n",
    "import sys\n",
    "import os \n",
    "import numpy as np\n",
    "import pandas as pd\n",
    "from astropy.visualization import hist\n",
    "from astropy.io import fits\n",
    "\n",
    "from spaxelsleuth.loaddata.sami import load_sami_df\n",
    "from spaxelsleuth.plotting.plot2dmap import plot2dmap\n",
    "from spaxelsleuth.plotting.sdssimg import plot_sdss_image\n",
    "from spaxelsleuth.plotting.plottools import plot_empty_BPT_diagram, plot_BPT_lines\n",
    "from spaxelsleuth.plotting.plottools import vmin_fn, vmax_fn, label_fn, cmap_fn, component_colours\n",
    "from spaxelsleuth.plotting.plotgalaxies import plot2dscatter, plot2dhistcontours\n",
    "\n",
    "import matplotlib\n",
    "from matplotlib import rc, rcParams\n",
    "from matplotlib.backends.backend_pdf import PdfPages\n",
    "import matplotlib.pyplot as plt\n",
    "from matplotlib.lines import Line2D\n",
    "\n",
    "from IPython.core.debugger import Tracer\n",
    "\n",
    "rc(\"text\", usetex=False)\n",
    "rc(\"font\",**{\"family\": \"serif\", \"size\": 12})\n",
    "rcParams[\"savefig.bbox\"] = \"tight\"\n",
    "rcParams[\"savefig.format\"] = \"pdf\"\n",
    "plt.ion()\n",
    "plt.close(\"all\")\n"
   ]
  },
  {
   "cell_type": "code",
   "execution_count": 3,
   "metadata": {},
   "outputs": [],
   "source": [
    "###########################################################################\n",
    "# Paths\n",
    "###########################################################################\n",
    "assert \"SAMI_DIR\" in os.environ, \"Environment variable SAMI_DIR is not defined!\"\n",
    "sami_data_path = os.environ[\"SAMI_DIR\"]\n",
    "assert \"SAMI_DATACUBE_DIR\" in os.environ, \"Environment variable SAMI_DATACUBE_DIR is not defined!\"\n",
    "sami_datacube_path = os.environ[\"SAMI_DATACUBE_DIR\"]"
   ]
  },
  {
   "cell_type": "code",
   "execution_count": 4,
   "metadata": {},
   "outputs": [],
   "source": [
    "###########################################################################\n",
    "# Options\n",
    "###########################################################################\n",
    "savefigs = True\n",
    "bin_type = \"default\"    # Options: \"default\" or \"adaptive\" for Voronoi binning\n",
    "ncomponents = \"recom\"   # Options: \"1\" or \"recom\"\n",
    "eline_SNR_min = 5       # Minimum S/N of emission lines to accept"
   ]
  },
  {
   "cell_type": "code",
   "execution_count": 5,
   "metadata": {},
   "outputs": [
    {
     "name": "stdout",
     "output_type": "stream",
     "text": [
      "In load_sami_df(): Loading DataFrame...\n",
      "In load_sami_df(): Finished!\n"
     ]
    }
   ],
   "source": [
    "###########################################################################\n",
    "# Load the SAMI sample\n",
    "###########################################################################\n",
    "df = load_sami_df(ncomponents=ncomponents,\n",
    "                  bin_type=bin_type,\n",
    "                  eline_SNR_min=eline_SNR_min,\n",
    "                  correct_extinction=True)"
   ]
  },
  {
   "cell_type": "code",
   "execution_count": 6,
   "metadata": {},
   "outputs": [],
   "source": [
    "###########################################################################\n",
    "# Select a galaxy\n",
    "###########################################################################\n",
    "gal = 460374\n",
    "assert gal in df.catid.values, f\"{gal} not found in DataFrame!\"\n",
    "df_gal = df[df.catid == gal]"
   ]
  },
  {
   "cell_type": "code",
   "execution_count": 7,
   "metadata": {},
   "outputs": [
    {
     "data": {
      "application/vnd.jupyter.widget-view+json": {
       "model_id": "032846eb44b64a81a7b9ea96d4ec4c3f",
       "version_major": 2,
       "version_minor": 0
      },
      "text/plain": [
       "Canvas(toolbar=Toolbar(toolitems=[('Home', 'Reset original view', 'home', 'home'), ('Back', 'Back to previous …"
      ]
     },
     "metadata": {},
     "output_type": "display_data"
    }
   ],
   "source": [
    "###########################################################################\n",
    "# Create a collage figure displaying various quantities of interest for \n",
    "# this galaxy\n",
    "###########################################################################\n",
    "# layout:\n",
    "# SDSS image | number of components | BT classifications\n",
    "# delta sigma: 1 | 2 | 3\n",
    "# EW: 1 | 2 | 3\n",
    "# BPT\n",
    "# WHAN | WHAV\n",
    "\n",
    "fig, axs = plt.subplots(nrows=4, ncols=3, figsize=(13, 17))\n",
    "fig.subplots_adjust(wspace=0.05, hspace=0.05)\n",
    "\n",
    "#///////////////////////////////////////////////////////////////////////////////////////////////////////\n",
    "# SDSS image \n",
    "ax = plot_sdss_image(df_gal, ax=axs[0][0])\n",
    "if ax is not None:\n",
    "    ax.set_title(f\"GAMA{gal}\")\n",
    "    lon = ax.coords[0]\n",
    "    lon.set_ticklabel_visible(False)\n",
    "\n",
    "#///////////////////////////////////////////////////////////////////////////////////////////////////////\n",
    "# Number of components\n",
    "_, ax = plot2dmap(df_gal=df_gal, bin_type=\"default\", survey=\"sami\",\n",
    "          PA_deg=0,\n",
    "          col_z=\"Number of components\",\n",
    "          ax=axs[0][1], \n",
    "          plot_colorbar=True, cax=None, cax_orientation=\"horizontal\", \n",
    "          show_title=False)\n",
    "lon = ax.coords[0]\n",
    "lon.set_ticklabel_visible(False)\n",
    "lat = ax.coords[1]\n",
    "lat.set_ticklabel_visible(False)\n",
    "\n",
    "#///////////////////////////////////////////////////////////////////////////////////////////////////////\n",
    "# BPT classifications \n",
    "_, ax = plot2dmap(df_gal=df_gal, bin_type=\"default\", survey=\"sami\",\n",
    "          PA_deg=0,\n",
    "          col_z=\"BPT (numeric) (total)\",\n",
    "          ax=axs[0][2], \n",
    "          plot_colorbar=True, cax=None, cax_orientation=\"vertical\", \n",
    "          show_title=False)\n",
    "lon = ax.coords[0]\n",
    "lon.set_ticklabel_visible(False)\n",
    "lat = ax.coords[1]\n",
    "lat.set_ticklabel_visible(False)\n",
    "\n",
    "#///////////////////////////////////////////////////////////////////////////////////////////////////////\n",
    "# v_gas\n",
    "for nn in range(3):\n",
    "    _, ax = plot2dmap(df_gal=df_gal, bin_type=\"default\", survey=\"sami\",\n",
    "              PA_deg=0,\n",
    "              col_z=f\"v_gas (component {nn + 1})\",\n",
    "              ax=axs[1][nn], \n",
    "              plot_colorbar=True if nn == 2 else False, cax=None, cax_orientation=\"vertical\", \n",
    "              vmin=-200, vmax=+200,\n",
    "              show_title=False)\n",
    "    ax.text(s=f\"Component {nn + 1}\", x=0.05, y=0.95, transform=axs[1][nn].transAxes, verticalalignment=\"top\")\n",
    "    if nn > 0:\n",
    "        lat = ax.coords[1]\n",
    "        lat.set_ticklabel_visible(False)\n",
    "    lon = ax.coords[0]\n",
    "    lon.set_ticklabel_visible(False)\n",
    "\n",
    "#///////////////////////////////////////////////////////////////////////////////////////////////////////\n",
    "# sigma_gas\n",
    "for nn in range(3):\n",
    "    _, ax = plot2dmap(df_gal=df_gal, bin_type=\"default\", survey=\"sami\",\n",
    "              PA_deg=0,\n",
    "              col_z=f\"sigma_gas (component {nn + 1})\",\n",
    "              ax=axs[2][nn], \n",
    "              plot_colorbar=True if nn == 2 else False, cax=None, cax_orientation=\"vertical\", \n",
    "              vmin=10, vmax=300,\n",
    "              show_title=False)\n",
    "    ax.text(s=f\"Component {nn + 1}\", x=0.05, y=0.95, transform=axs[2][nn].transAxes, verticalalignment=\"top\")\n",
    "    if nn > 0:\n",
    "        lat = ax.coords[1]\n",
    "        lat.set_ticklabel_visible(False)\n",
    "    lon = ax.coords[0]\n",
    "    lon.set_ticklabel_visible(False)\n",
    "\n",
    "#///////////////////////////////////////////////////////////////////////////////////////////////////////\n",
    "# EW \n",
    "for nn in range(3):\n",
    "    _, ax = plot2dmap(df_gal=df_gal, bin_type=\"default\", survey=\"sami\",\n",
    "              PA_deg=0,\n",
    "              col_z=f\"HALPHA EW (component {nn + 1})\",\n",
    "              ax=axs[3][nn], \n",
    "              plot_colorbar=True if nn == 2 else False, cax=None, cax_orientation=\"vertical\", \n",
    "              show_title=False)\n",
    "    ax.text(s=f\"Component {nn + 1}\", x=0.05, y=0.95, transform=axs[3][nn].transAxes, verticalalignment=\"top\")\n",
    "    if nn > 0:\n",
    "        lat = ax.coords[1]\n",
    "        lat.set_ticklabel_visible(False)\n",
    "        "
   ]
  },
  {
   "cell_type": "code",
   "execution_count": 8,
   "metadata": {},
   "outputs": [
    {
     "data": {
      "application/vnd.jupyter.widget-view+json": {
       "model_id": "e5add7fc6ea243e38b17590ad7a59c5d",
       "version_major": 2,
       "version_minor": 0
      },
      "text/plain": [
       "Canvas(toolbar=Toolbar(toolitems=[('Home', 'Reset original view', 'home', 'home'), ('Back', 'Back to previous …"
      ]
     },
     "metadata": {},
     "output_type": "display_data"
    },
    {
     "data": {
      "text/plain": [
       "[None, None, None]"
      ]
     },
     "execution_count": 8,
     "metadata": {},
     "output_type": "execute_result"
    }
   ],
   "source": [
    "###########################################################################\n",
    "# Optical diagnostic (i.e. BPT) diagram\n",
    "###########################################################################\n",
    "fig, axs, cax = plot_empty_BPT_diagram(colorbar=True, nrows=1, include_Law2021=True, figsize=(12, 4))\n",
    "markers = [\"o\", \">\", \"D\"]\n",
    "col_z = \"r/R_e\"\n",
    "for cc, col_x in enumerate([\"log N2\", \"log S2\", \"log O1\"]):\n",
    "    # Plot full SAMI sample\n",
    "    plot2dhistcontours(df=df, \n",
    "                       col_x=f\"{col_x} (total)\",\n",
    "                       col_y=f\"log O3 (total)\", col_z=\"count\", log_z=True,\n",
    "                       alpha=0.5, cmap=\"gray_r\",\n",
    "                       ax=axs[cc], plot_colorbar=False)\n",
    "\n",
    "    # Plot measurements for this galaxy\n",
    "    plot2dscatter(df=df_gal,\n",
    "                  col_x=f\"{col_x} (total)\",\n",
    "                  col_y=f\"log O3 (total)\",\n",
    "                  col_z=col_z,\n",
    "                  cax=cax,\n",
    "                  marker=\"o\", ax=axs[cc], \n",
    "                  markersize=20, \n",
    "                  markeredgecolor=\"black\",\n",
    "                  plot_colorbar=True if cc == 2 else False)\n",
    "\n",
    "    # axis limits\n",
    "    axs[cc].set_xlim([np.nanmin([vmin_fn(col_x), df_gal[f\"{col_x} (total)\"].min() - 0.1]),\n",
    "                      np.nanmax([vmax_fn(col_x), df_gal[f\"{col_x} (total)\"].max() + 0.1])])\n",
    "    # axis limits\n",
    "    axs[cc].set_ylim([np.nanmin([vmin_fn(\"log O3\"), df_gal[f\"log O3 (total)\"].min() - 0.1]),\n",
    "                      np.nanmax([vmax_fn(\"log O3\"), df_gal[f\"log O3 (total)\"].max() + 0.1])])\n",
    "\n",
    "# Decorations\n",
    "[ax.grid() for ax in axs]\n",
    "[ax.set_ylabel(\"\") for ax in axs[1:]]\n",
    "[ax.set_yticklabels([]) for ax in axs[1:]]\n",
    "[ax.set_xticks(ax.get_xticks()[:-1]) for ax in axs[:-1]]\n",
    "[ax.collections[0].set_rasterized(True) for ax in axs]\n"
   ]
  },
  {
   "cell_type": "code",
   "execution_count": null,
   "metadata": {},
   "outputs": [],
   "source": []
  },
  {
   "cell_type": "code",
   "execution_count": null,
   "metadata": {},
   "outputs": [],
   "source": []
  }
 ],
 "metadata": {
  "kernelspec": {
   "display_name": "Python 3",
   "language": "python",
   "name": "python3"
  },
  "language_info": {
   "codemirror_mode": {
    "name": "ipython",
    "version": 3
   },
   "file_extension": ".py",
   "mimetype": "text/x-python",
   "name": "python",
   "nbconvert_exporter": "python",
   "pygments_lexer": "ipython3",
   "version": "3.7.4"
  }
 },
 "nbformat": 4,
 "nbformat_minor": 2
}
