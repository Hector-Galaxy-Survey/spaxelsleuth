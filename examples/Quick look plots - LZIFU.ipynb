{
 "cells": [
  {
   "attachments": {},
   "cell_type": "markdown",
   "metadata": {},
   "source": [
    "# \"Quick look\" plots (LZIFU)\n",
    "---\n",
    "Use `spaxelsleuth` to make nice summary plots for a given galaxy. "
   ]
  },
  {
   "cell_type": "code",
   "execution_count": null,
   "metadata": {},
   "outputs": [],
   "source": [
    "from spaxelsleuth import load_user_config\n",
    "load_user_config(\"/home/u5708159/.spaxelsleuthconfig.json\")"
   ]
  },
  {
   "cell_type": "code",
   "execution_count": null,
   "metadata": {},
   "outputs": [],
   "source": [
    "# Imports\n",
    "from spaxelsleuth.io.io import load_df\n",
    "from spaxelsleuth.plotting.plot2dmap import plot2dmap\n",
    "from spaxelsleuth.plotting.plottools import plot_empty_BPT_diagram\n",
    "from spaxelsleuth.plotting.plotgalaxies import plot2dscatter, plot2dhistcontours\n",
    "\n",
    "from matplotlib import rc, rcParams\n",
    "import matplotlib.pyplot as plt\n",
    "\n",
    "rc(\"text\", usetex=False)\n",
    "rc(\"font\",**{\"family\": \"serif\", \"size\": 12})\n",
    "rcParams[\"savefig.bbox\"] = \"tight\"\n",
    "rcParams[\"savefig.format\"] = \"pdf\"\n",
    "plt.ion()\n",
    "plt.close(\"all\")\n"
   ]
  },
  {
   "cell_type": "code",
   "execution_count": null,
   "metadata": {},
   "outputs": [],
   "source": [
    "# Options\n",
    "savefigs = True\n",
    "bin_type = \"default\"    \n",
    "ncomponents = \"1\"   \n",
    "eline_SNR_min = 3       \n",
    "eline_ANR_min = 3"
   ]
  },
  {
   "cell_type": "code",
   "execution_count": null,
   "metadata": {},
   "outputs": [],
   "source": [
    "# Load the SAMI sample\n",
    "df = load_df(survey=\"lzifu\",\n",
    "             ncomponents=ncomponents,\n",
    "             eline_SNR_min=eline_SNR_min,\n",
    "             eline_ANR_min=eline_ANR_min,\n",
    "             correct_extinction=False)"
   ]
  },
  {
   "cell_type": "code",
   "execution_count": null,
   "metadata": {},
   "outputs": [],
   "source": [
    "# Select a galaxy\n",
    "gal = df[\"ID\"].unique()[0]"
   ]
  },
  {
   "cell_type": "code",
   "execution_count": null,
   "metadata": {},
   "outputs": [],
   "source": [
    "# Create a collage figure displaying various quantities of interest for \n",
    "# this galaxy\n",
    "fig, axs = plt.subplots(nrows=3, ncols=2, figsize=(12, 15))\n",
    "fig.subplots_adjust(wspace=0.7, hspace=0.2)\n",
    "ii = 0\n",
    "\n",
    "#///////////////////////////////////////////////////////////////////////////////////////////////////////\n",
    "# Number of components\n",
    "_, ax = plot2dmap(df=df, gal=gal,\n",
    "          col_z=\"Number of components\",\n",
    "          ax=axs.flat[ii],\n",
    "          plot_colorbar=True, cax=None, cax_orientation=\"vertical\", \n",
    "          show_title=False)\n",
    "lon = ax.coords[0]\n",
    "lon.set_ticklabel_visible(False)\n",
    "lat = ax.coords[1]\n",
    "lat.set_ticklabel_visible(False)\n",
    "ii += 1\n",
    "\n",
    "#///////////////////////////////////////////////////////////////////////////////////////////////////////\n",
    "# BPT classifications \n",
    "_, ax = plot2dmap(df=df, gal=gal,\n",
    "          col_z=\"BPT (numeric) (total)\",\n",
    "          ax=axs.flat[ii],\n",
    "          plot_colorbar=True, cax=None, cax_orientation=\"vertical\", \n",
    "          show_title=False)\n",
    "lon = ax.coords[0]\n",
    "lon.set_ticklabel_visible(False)\n",
    "lat = ax.coords[1]\n",
    "lat.set_ticklabel_visible(False)\n",
    "ii += 1\n",
    "\n",
    "#///////////////////////////////////////////////////////////////////////////////////////////////////////\n",
    "# v_gas\n",
    "_, ax = plot2dmap(df=df, gal=gal,\n",
    "            col_z=f\"v_gas (component 1)\",\n",
    "            ax=axs.flat[ii],\n",
    "            plot_colorbar=True, cax=None, cax_orientation=\"vertical\", \n",
    "            vmin=-200, vmax=+200,\n",
    "            show_title=False)\n",
    "ax.text(s=f\"Component 1\", x=0.15, y=0.95, transform=axs.flat[ii].transAxes, verticalalignment=\"top\")\n",
    "lat = ax.coords[1]\n",
    "lat.set_ticklabel_visible(False)\n",
    "lon = ax.coords[0]\n",
    "lon.set_ticklabel_visible(False)\n",
    "ii += 1\n",
    "\n",
    "#///////////////////////////////////////////////////////////////////////////////////////////////////////\n",
    "# sigma_gas\n",
    "_, ax = plot2dmap(df=df, gal=gal,\n",
    "            col_z=f\"sigma_gas (component 1)\",\n",
    "            ax=axs.flat[ii],\n",
    "            plot_colorbar=True, cax=None, cax_orientation=\"vertical\", \n",
    "            vmin=10, vmax=300,\n",
    "            show_title=False)\n",
    "ax.text(s=f\"Component 1\", x=0.15, y=0.95, transform=axs.flat[ii].transAxes, verticalalignment=\"top\")\n",
    "lat = ax.coords[1]\n",
    "lat.set_ticklabel_visible(False)\n",
    "lon = ax.coords[0]\n",
    "lon.set_ticklabel_visible(False)\n",
    "ii += 1\n",
    "\n",
    "#///////////////////////////////////////////////////////////////////////////////////////////////////////\n",
    "# EW \n",
    "_, ax = plot2dmap(df=df, gal=gal,\n",
    "            col_z=f\"HALPHA EW (component 1)\",\n",
    "            ax=axs.flat[ii],\n",
    "            plot_colorbar=True, cax=None, cax_orientation=\"vertical\", \n",
    "            show_title=False)\n",
    "ax.text(s=f\"Component 1\", x=0.15, y=0.95, transform=axs.flat[ii].transAxes, verticalalignment=\"top\")\n",
    "lat = ax.coords[1]\n",
    "lat.set_ticklabel_visible(False)\n",
    "lon = ax.coords[0]\n",
    "lon.set_ticklabel_visible(False)\n",
    "ii += 1\n",
    "\n",
    "#///////////////////////////////////////////////////////////////////////////////////////////////////////\n",
    "# Metallicity\n",
    "_, ax = plot2dmap(df=df, gal=gal,\n",
    "          col_z=\"log(O/H) + 12 (N2Ha_PP04) (total)\",\n",
    "          vmin=8, vmax=9,\n",
    "          ax=axs.flat[ii],\n",
    "          plot_colorbar=True, cax=None, cax_orientation=\"vertical\", \n",
    "          show_title=False)\n",
    "ii += 1\n",
    "\n",
    "        "
   ]
  },
  {
   "cell_type": "code",
   "execution_count": null,
   "metadata": {},
   "outputs": [],
   "source": [
    "# Optical diagnostic (i.e. BPT) diagram\n",
    "fig, axs, cax = plot_empty_BPT_diagram(colorbar=True, nrows=1, include_Law2021=True, figsize=(12, 4))\n",
    "markers = [\"o\", \">\", \"D\"]\n",
    "col_z = \"sigma_gas (component 1)\"\n",
    "for cc, col_x in enumerate([\"log N2\", \"log S2\", \"log O1\"]):\n",
    "    # Plot full SAMI sample\n",
    "    plot2dhistcontours(df=df,\n",
    "                       col_x=f\"{col_x} (total)\",\n",
    "                       col_y=f\"log O3 (total)\", col_z=\"count\", log_z=True,\n",
    "                       alpha=0.5, cmap=\"gray_r\",\n",
    "                       ax=axs[cc], plot_colorbar=False)\n",
    "\n",
    "    # Plot measurements for this galaxy\n",
    "    plot2dscatter(df=df, gal=gal,\n",
    "                  col_x=f\"{col_x} (total)\",\n",
    "                  col_y=f\"log O3 (total)\",\n",
    "                  col_z=col_z,\n",
    "                  cax=cax,\n",
    "                  marker=\"o\", ax=axs[cc], \n",
    "                  markersize=20, \n",
    "                  markeredgecolor=\"black\",\n",
    "                  plot_colorbar=True if cc == 2 else False)\n",
    "\n",
    "# Decorations\n",
    "[ax.grid() for ax in axs]\n",
    "[ax.set_ylabel(\"\") for ax in axs[1:]]\n",
    "[ax.set_yticklabels([]) for ax in axs[1:]]\n",
    "[ax.set_xticks(ax.get_xticks()[:-1]) for ax in axs[:-1]]\n",
    "[ax.collections[0].set_rasterized(True) for ax in axs]\n"
   ]
  },
  {
   "cell_type": "code",
   "execution_count": null,
   "metadata": {},
   "outputs": [],
   "source": []
  }
 ],
 "metadata": {
  "kernelspec": {
   "display_name": "py37",
   "language": "python",
   "name": "python3"
  },
  "language_info": {
   "codemirror_mode": {
    "name": "ipython",
    "version": 3
   },
   "file_extension": ".py",
   "mimetype": "text/x-python",
   "name": "python",
   "nbconvert_exporter": "python",
   "pygments_lexer": "ipython3",
   "version": "3.10.12"
  },
  "vscode": {
   "interpreter": {
    "hash": "f4fec93325f50ebba2f8ccff2d43fa137f943e5da2ec5ed795e172506ecf899e"
   }
  }
 },
 "nbformat": 4,
 "nbformat_minor": 2
}
