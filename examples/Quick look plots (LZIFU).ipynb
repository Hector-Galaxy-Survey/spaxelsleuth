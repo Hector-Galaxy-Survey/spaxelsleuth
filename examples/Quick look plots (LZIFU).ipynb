{
 "cells": [
  {
   "cell_type": "markdown",
   "metadata": {},
   "source": [
    "# \"Quick look\" plots - LZIFU\n",
    "---\n",
    "Use `spaxelsleuth` to make nice summary plots for a given galaxy. "
   ]
  },
  {
   "cell_type": "code",
   "execution_count": 3,
   "metadata": {},
   "outputs": [],
   "source": [
    "%matplotlib widget"
   ]
  },
  {
   "cell_type": "code",
   "execution_count": 4,
   "metadata": {},
   "outputs": [],
   "source": [
    "# Imports\n",
    "import sys\n",
    "import os \n",
    "import numpy as np\n",
    "import pandas as pd\n",
    "from astropy.visualization import hist\n",
    "from astropy.io import fits\n",
    "\n",
    "from spaxelsleuth.loaddata.sami import load_sami_df\n",
    "from spaxelsleuth.loaddata.lzifu import load_lzifu_df\n",
    "from spaxelsleuth.plotting.plot2dmap import plot2dmap\n",
    "from spaxelsleuth.plotting.sdssimg import plot_sdss_image\n",
    "from spaxelsleuth.plotting.plottools import plot_empty_BPT_diagram, plot_BPT_lines\n",
    "from spaxelsleuth.plotting.plottools import vmin_fn, vmax_fn, label_fn, cmap_fn, component_colours\n",
    "from spaxelsleuth.plotting.plotgalaxies import plot2dscatter, plot2dhistcontours\n",
    "\n",
    "import matplotlib\n",
    "from matplotlib import rc, rcParams\n",
    "from matplotlib.backends.backend_pdf import PdfPages\n",
    "import matplotlib.pyplot as plt\n",
    "from matplotlib.lines import Line2D\n",
    "\n",
    "from IPython.core.debugger import Tracer\n",
    "\n",
    "rc(\"text\", usetex=False)\n",
    "rc(\"font\",**{\"family\": \"serif\", \"size\": 12})\n",
    "rcParams[\"savefig.bbox\"] = \"tight\"\n",
    "rcParams[\"savefig.format\"] = \"pdf\"\n",
    "plt.ion()\n",
    "plt.close(\"all\")\n"
   ]
  },
  {
   "cell_type": "code",
   "execution_count": 5,
   "metadata": {},
   "outputs": [],
   "source": [
    "###########################################################################\n",
    "# Paths\n",
    "###########################################################################\n",
    "assert \"SAMI_DIR\" in os.environ, \"Environment variable SAMI_DIR is not defined!\"\n",
    "sami_data_path = os.environ[\"SAMI_DIR\"]\n",
    "assert \"SAMI_DATACUBE_DIR\" in os.environ, \"Environment variable SAMI_DATACUBE_DIR is not defined!\"\n",
    "sami_datacube_path = os.environ[\"SAMI_DATACUBE_DIR\"]"
   ]
  },
  {
   "cell_type": "code",
   "execution_count": 6,
   "metadata": {},
   "outputs": [],
   "source": [
    "###########################################################################\n",
    "# Options\n",
    "###########################################################################\n",
    "savefigs = True\n",
    "bin_type = \"default\"    # Options: \"default\" or \"adaptive\" for Voronoi binning\n",
    "ncomponents = \"recom\"   # Options: \"1\" or \"recom\"\n",
    "eline_SNR_min = 5       # Minimum S/N of emission lines to accept"
   ]
  },
  {
   "cell_type": "code",
   "execution_count": 7,
   "metadata": {},
   "outputs": [
    {
     "name": "stdout",
     "output_type": "stream",
     "text": [
      "In load_sami_df(): Loading DataFrame...\n",
      "In load_sami_df(): Finished!\n"
     ]
    }
   ],
   "source": [
    "###########################################################################\n",
    "# Load the SAMI sample\n",
    "###########################################################################\n",
    "df = load_sami_df(ncomponents=ncomponents,\n",
    "                  bin_type=bin_type,\n",
    "                  eline_SNR_min=eline_SNR_min,\n",
    "                  correct_extinction=True)"
   ]
  },
  {
   "cell_type": "code",
   "execution_count": 63,
   "metadata": {},
   "outputs": [
    {
     "name": "stdout",
     "output_type": "stream",
     "text": [
      "In load_lzifu_df(): Loading LZIFU DataFrame for galaxy 272990...\n",
      "In load_lzifu_df(): Finished!\n"
     ]
    }
   ],
   "source": [
    "###########################################################################\n",
    "# Select a galaxy\n",
    "###########################################################################\n",
    "gal = 272990\n",
    "assert gal in df[\"ID\"].values, f\"{gal} not found in DataFrame!\"\n",
    "\n",
    "###########################################################################\n",
    "# Load the LZIFU DataFrame\n",
    "# NOTE: NOT using the DF with extinction correction, because it may be a bit dodgy for individual line components. \n",
    "# For the purposes of just checking the fluxes in the emission lines, it doens't really matter anyway.\n",
    "###########################################################################\n",
    "df_gal = load_lzifu_df(gal=gal, \n",
    "                       bin_type=bin_type, \n",
    "                       ncomponents=ncomponents,\n",
    "                       eline_SNR_min=eline_SNR_min,\n",
    "                       correct_extinction=False)    \n"
   ]
  },
  {
   "cell_type": "code",
   "execution_count": 66,
   "metadata": {},
   "outputs": [
    {
     "data": {
      "application/vnd.jupyter.widget-view+json": {
       "model_id": "4e59471e6e604eacb98cd002dad1457c",
       "version_major": 2,
       "version_minor": 0
      },
      "text/plain": [
       "Canvas(toolbar=Toolbar(toolitems=[('Home', 'Reset original view', 'home', 'home'), ('Back', 'Back to previous …"
      ]
     },
     "metadata": {},
     "output_type": "display_data"
    },
    {
     "name": "stdout",
     "output_type": "stream",
     "text": [
      "WARNING: in label_fn(): undefined column\n",
      "WARNING: in label_fn(): undefined column\n",
      "WARNING: in label_fn(): undefined column\n",
      "WARNING: in label_fn(): undefined column\n"
     ]
    }
   ],
   "source": [
    "###########################################################################\n",
    "# Create a collage figure displaying various quantities of interest for \n",
    "# this galaxy\n",
    "###########################################################################\n",
    "# layout:\n",
    "# SDSS image | number of components | BT classifications\n",
    "# delta sigma: 1 | 2 | 3\n",
    "# EW: 1 | 2 | 3\n",
    "# BPT\n",
    "# Emission lines \n",
    "# WHAN | WHAV\n",
    "\n",
    "fig, axs = plt.subplots(nrows=9, ncols=3, figsize=(13, 35))\n",
    "fig.subplots_adjust(wspace=0.05, hspace=0.05)\n",
    "\n",
    "#///////////////////////////////////////////////////////////////////////////////////////////////////////\n",
    "# SDSS image \n",
    "ax = plot_sdss_image(df_gal, ax=axs[0][0])\n",
    "if ax is not None:\n",
    "    ax.set_title(f\"GAMA{gal}\")\n",
    "    lon = ax.coords[0]\n",
    "    lon.set_ticklabel_visible(False)\n",
    "\n",
    "#///////////////////////////////////////////////////////////////////////////////////////////////////////\n",
    "# Number of components\n",
    "_, ax = plot2dmap(df_gal=df_gal, bin_type=\"default\", survey=\"sami\",\n",
    "          PA_deg=0,\n",
    "          col_z=\"Number of components\",\n",
    "          ax=axs[0][1], \n",
    "          plot_colorbar=True, cax=None, cax_orientation=\"horizontal\", \n",
    "          show_title=False)\n",
    "lon = ax.coords[0]\n",
    "lon.set_ticklabel_visible(False)\n",
    "lat = ax.coords[1]\n",
    "lat.set_ticklabel_visible(False)\n",
    "\n",
    "#///////////////////////////////////////////////////////////////////////////////////////////////////////\n",
    "# BPT classifications \n",
    "_, ax = plot2dmap(df_gal=df_gal, bin_type=\"default\", survey=\"sami\",\n",
    "          PA_deg=0,\n",
    "          col_z=\"BPT (numeric) (total)\",\n",
    "          ax=axs[0][2], \n",
    "          plot_colorbar=True, cax=None, cax_orientation=\"vertical\", \n",
    "          show_title=False)\n",
    "lon = ax.coords[0]\n",
    "lon.set_ticklabel_visible(False)\n",
    "lat = ax.coords[1]\n",
    "lat.set_ticklabel_visible(False)\n",
    "\n",
    "#///////////////////////////////////////////////////////////////////////////////////////////////////////\n",
    "# v_gas\n",
    "for nn in range(3):\n",
    "    _, ax = plot2dmap(df_gal=df_gal, bin_type=\"default\", survey=\"sami\",\n",
    "              PA_deg=0,\n",
    "              col_z=f\"v_gas (component {nn + 1})\",\n",
    "              ax=axs[1][nn], \n",
    "              plot_colorbar=True if nn == 2 else False, cax=None, cax_orientation=\"vertical\", \n",
    "              vmin=-200, vmax=+200,\n",
    "              show_title=False)\n",
    "    ax.text(s=f\"Component {nn + 1}\", x=0.1, y=0.95, transform=axs[1][nn].transAxes, verticalalignment=\"top\")\n",
    "    if nn > 0:\n",
    "        lat = ax.coords[1]\n",
    "        lat.set_ticklabel_visible(False)\n",
    "    lon = ax.coords[0]\n",
    "    lon.set_ticklabel_visible(False)\n",
    "\n",
    "#///////////////////////////////////////////////////////////////////////////////////////////////////////\n",
    "# sigma_gas\n",
    "for nn in range(3):\n",
    "    _, ax = plot2dmap(df_gal=df_gal, bin_type=\"default\", survey=\"sami\",\n",
    "              PA_deg=0,\n",
    "              col_z=f\"sigma_gas (component {nn + 1})\",\n",
    "              ax=axs[2][nn], \n",
    "              plot_colorbar=True if nn == 2 else False, cax=None, cax_orientation=\"vertical\", \n",
    "              show_title=False)\n",
    "    ax.text(s=f\"Component {nn + 1}\", x=0.1, y=0.95, transform=axs[2][nn].transAxes, verticalalignment=\"top\")\n",
    "    if nn > 0:\n",
    "        lat = ax.coords[1]\n",
    "        lat.set_ticklabel_visible(False)\n",
    "    lon = ax.coords[0]\n",
    "    lon.set_ticklabel_visible(False)\n",
    "    \n",
    "#///////////////////////////////////////////////////////////////////////////////////////////////////////\n",
    "# HALPHA\n",
    "for nn in range(3):\n",
    "    _, ax = plot2dmap(df_gal=df_gal, bin_type=\"default\", survey=\"sami\",\n",
    "              PA_deg=0,\n",
    "              col_z=f\"HALPHA (component {nn + 1})\",\n",
    "              ax=axs[3][nn], \n",
    "              plot_colorbar=True if nn == 2 else False, cax=None, cax_orientation=\"vertical\", \n",
    "              vmin=0, vmax=2.0,\n",
    "              show_title=False)\n",
    "    ax.text(s=f\"Component {nn + 1}\", x=0.1, y=0.95, transform=axs[3][nn].transAxes, verticalalignment=\"top\")\n",
    "    if nn > 0:\n",
    "        lat = ax.coords[1]\n",
    "        lat.set_ticklabel_visible(False)\n",
    "    lon = ax.coords[0]\n",
    "    lon.set_ticklabel_visible(False)\n",
    "#///////////////////////////////////////////////////////////////////////////////////////////////////////\n",
    "# [NII]\n",
    "for nn in range(3):\n",
    "    _, ax = plot2dmap(df_gal=df_gal, bin_type=\"default\", survey=\"sami\",\n",
    "              PA_deg=0,\n",
    "              col_z=f\"NII6583 (component {nn + 1})\",\n",
    "              ax=axs[4][nn], \n",
    "              plot_colorbar=True if nn == 2 else False, cax=None, cax_orientation=\"vertical\", \n",
    "              vmin=0, vmax=0.75, cmap=\"viridis\",\n",
    "              show_title=False)\n",
    "    ax.text(s=f\"Component {nn + 1}\", x=0.1, y=0.95, transform=axs[4][nn].transAxes, verticalalignment=\"top\")\n",
    "    if nn > 0:\n",
    "        lat = ax.coords[1]\n",
    "        lat.set_ticklabel_visible(False)\n",
    "    lon = ax.coords[0]\n",
    "    lon.set_ticklabel_visible(False)\n",
    "\n",
    "#///////////////////////////////////////////////////////////////////////////////////////////////////////\n",
    "# [SII]\n",
    "for nn in range(3):\n",
    "    _, ax = plot2dmap(df_gal=df_gal, bin_type=\"default\", survey=\"sami\",\n",
    "              PA_deg=0,\n",
    "              col_z=f\"SII6716 (component {nn + 1})\",\n",
    "              ax=axs[5][nn], \n",
    "              plot_colorbar=True if nn == 2 else False, cax=None, cax_orientation=\"vertical\", \n",
    "              vmin=0, vmax=0.75, cmap=\"viridis\",\n",
    "              show_title=False)\n",
    "    ax.text(s=f\"Component {nn + 1}\", x=0.1, y=0.95, transform=axs[5][nn].transAxes, verticalalignment=\"top\")\n",
    "    if nn > 0:\n",
    "        lat = ax.coords[1]\n",
    "        lat.set_ticklabel_visible(False)\n",
    "    lon = ax.coords[0]\n",
    "    lon.set_ticklabel_visible(False)\n",
    "    \n",
    "#///////////////////////////////////////////////////////////////////////////////////////////////////////\n",
    "# HBETA\n",
    "for nn in range(3):\n",
    "    _, ax = plot2dmap(df_gal=df_gal, bin_type=\"default\", survey=\"sami\",\n",
    "              PA_deg=0,\n",
    "              col_z=f\"HBETA (component {nn + 1})\",\n",
    "              ax=axs[6][nn], \n",
    "              plot_colorbar=True if nn == 2 else False, cax=None, cax_orientation=\"vertical\", \n",
    "              vmin=0, vmax=0.75, cmap=\"viridis\",\n",
    "              show_title=False)\n",
    "    ax.text(s=f\"Component {nn + 1}\", x=0.1, y=0.95, transform=axs[6][nn].transAxes, verticalalignment=\"top\")\n",
    "    if nn > 0:\n",
    "        lat = ax.coords[1]\n",
    "        lat.set_ticklabel_visible(False)\n",
    "    lon = ax.coords[0]\n",
    "    lon.set_ticklabel_visible(False)\n",
    "    \n",
    "#///////////////////////////////////////////////////////////////////////////////////////////////////////\n",
    "# [OIII]\n",
    "for nn in range(3):\n",
    "    _, ax = plot2dmap(df_gal=df_gal, bin_type=\"default\", survey=\"sami\",\n",
    "              PA_deg=0,\n",
    "              col_z=f\"OIII5007 (component {nn + 1})\",\n",
    "              ax=axs[7][nn], \n",
    "              plot_colorbar=True if nn == 2 else False, cax=None, cax_orientation=\"vertical\", \n",
    "              vmin=0, vmax=0.75, cmap=\"viridis\",\n",
    "              show_title=False)\n",
    "    ax.text(s=f\"Component {nn + 1}\", x=0.1, y=0.95, transform=axs[7][nn].transAxes, verticalalignment=\"top\")\n",
    "    if nn > 0:\n",
    "        lat = ax.coords[1]\n",
    "        lat.set_ticklabel_visible(False)\n",
    "    lon = ax.coords[0]\n",
    "    lon.set_ticklabel_visible(False)\n",
    "    \n",
    "#///////////////////////////////////////////////////////////////////////////////////////////////////////\n",
    "# EW \n",
    "for nn in range(3):\n",
    "    _, ax = plot2dmap(df_gal=df_gal, bin_type=\"default\", survey=\"sami\",\n",
    "              PA_deg=0,\n",
    "              col_z=f\"HALPHA EW (component {nn + 1})\",\n",
    "              ax=axs[8][nn], \n",
    "              plot_colorbar=True if nn == 2 else False, cax=None, cax_orientation=\"vertical\", \n",
    "              show_title=False)\n",
    "    ax.text(s=f\"Component {nn + 1}\", x=0.1, y=0.95, transform=axs[8][nn].transAxes, verticalalignment=\"top\")\n",
    "    if nn > 0:\n",
    "        lat = ax.coords[1]\n",
    "        lat.set_ticklabel_visible(False)\n",
    "        "
   ]
  },
  {
   "cell_type": "code",
   "execution_count": 65,
   "metadata": {},
   "outputs": [
    {
     "data": {
      "application/vnd.jupyter.widget-view+json": {
       "model_id": "9aacde4bdec1432789b87ff9b1eec278",
       "version_major": 2,
       "version_minor": 0
      },
      "text/plain": [
       "Canvas(toolbar=Toolbar(toolitems=[('Home', 'Reset original view', 'home', 'home'), ('Back', 'Back to previous …"
      ]
     },
     "metadata": {},
     "output_type": "display_data"
    },
    {
     "data": {
      "text/plain": [
       "<matplotlib.legend.Legend at 0x7fb2172998d0>"
      ]
     },
     "execution_count": 65,
     "metadata": {},
     "output_type": "execute_result"
    }
   ],
   "source": [
    "###########################################################################\n",
    "# \"Lag\" plot\n",
    "###########################################################################\n",
    "fig, axs = plt.subplots(nrows=1, ncols=2, figsize=(12, 5))\n",
    "fig = plot2dhistcontours(df,\n",
    "                         col_x=\"v_gas (component 1)\",\n",
    "                         col_y=\"v_gas (component 2)\",\n",
    "                         col_z=\"count\", log_z=False, cmap=\"gray_r\", alpha=0.4,\n",
    "                         xmin=-300, xmax=300, \n",
    "                         ymin=-300, ymax=300, \n",
    "                         ax=axs[0],\n",
    "                         plot_colorbar=False,\n",
    "                         nbins=100)\n",
    "fig = plot2dhistcontours(df,\n",
    "                         col_x=\"v_*\",\n",
    "                         col_y=\"v_gas (component 2)\",\n",
    "                         col_z=\"count\", log_z=False, cmap=\"gray_r\", alpha=0.4,\n",
    "                         xmin=-300, xmax=300, \n",
    "                         ymin=-300, ymax=300,\n",
    "                         ax=axs[1],\n",
    "                         plot_colorbar=False,\n",
    "                         nbins=100)\n",
    "axs = fig.get_axes()\n",
    " \n",
    "_ = plot2dscatter(df_gal, col_x=\"v_gas (component 1)\", col_y=\"v_gas (component 2)\", col_z=\"sigma_gas (component 2)\",\n",
    "                  xmin=-300, xmax=300, ymin=-300, ymax=300, \n",
    "                  vmax=150,\n",
    "                  plot_colorbar=False,\n",
    "                  ax=axs[0])\n",
    "\n",
    "_ = plot2dscatter(df_gal, col_x=\"v_*\", col_y=\"v_gas (component 2)\", col_z=\"sigma_gas (component 2)\",\n",
    "                  xmin=-300, xmax=300, ymin=-300, ymax=300, \n",
    "                  vmax=150,\n",
    "                  plot_colorbar=True,\n",
    "                  ax=axs[1])\n",
    "cax = fig.get_axes()[-1]\n",
    "\n",
    "# Decorations \n",
    "[ax.grid() for ax in axs]\n",
    "[ax.set_xlabel(ax.get_xlabel() + \" (component 1)\") for ax in axs]\n",
    "axs[0].set_ylabel(axs[0].get_ylabel() + \" (component 2)\")\n",
    "axs[1].set_ylabel(\"\")\n",
    "cax.set_ylabel(cax.get_ylabel() + \" (component 2)\")\n",
    "# axs[1].set_yticklabels([])\n",
    "[ax.plot([-300, 300], [-300, 300], color=\"k\", lw=2, ls=\"--\") for ax in axs]\n",
    "[ax.plot([-300, 300], [0, 0], color=\"k\") for ax in axs]\n",
    "[ax.plot([0, 0], [-300, 300], color=\"k\") for ax in axs]\n",
    "axs[0].axvline(df_gal.loc[df_gal[\"x, y (pixels)\"] == (25, 25), \"v_gas (component 1)\"].values[0], ls=\"--\", label=r\"$v_{\\rm gas\\, (25,25)}$\")\n",
    "axs[0].axhline(df_gal.loc[df_gal[\"x, y (pixels)\"] == (25, 25), \"v_gas (component 2)\"].values[0], ls=\"--\")\n",
    "axs[0].legend()\n",
    "axs[1].axhline(df_gal.loc[df_gal[\"x, y (pixels)\"] == (25, 25), \"v_gas (component 2)\"].values[0], ls=\"--\", label=r\"$v_{\\rm gas\\, (25,25)}$\")\n",
    "axs[1].axvline(df_gal.loc[df_gal[\"x, y (pixels)\"] == (25, 25), \"v_*\"].values[0], ls=\":\", label=r\"$v_{\\rm *\\, (25,25)}$\")\n",
    "axs[1].legend()\n"
   ]
  },
  {
   "cell_type": "code",
   "execution_count": 37,
   "metadata": {},
   "outputs": [
    {
     "name": "stderr",
     "output_type": "stream",
     "text": [
      "/home/u5708159/python/Modules/spaxelsleuth/plotting/plottools.py:707: RuntimeWarning: More than 20 figures have been opened. Figures created through the pyplot interface (`matplotlib.pyplot.figure`) are retained until explicitly closed and may consume too much memory. (To control this warning, see the rcParam `figure.max_open_warning`).\n",
      "  fig = plt.figure(figsize=figsize)\n"
     ]
    },
    {
     "data": {
      "application/vnd.jupyter.widget-view+json": {
       "model_id": "c95a9b9f46b54f57a70d8cbf3dbfdfb9",
       "version_major": 2,
       "version_minor": 0
      },
      "text/plain": [
       "Canvas(toolbar=Toolbar(toolitems=[('Home', 'Reset original view', 'home', 'home'), ('Back', 'Back to previous …"
      ]
     },
     "metadata": {},
     "output_type": "display_data"
    },
    {
     "ename": "AssertionError",
     "evalue": "log N2 (component 1) is not a valid column!",
     "output_type": "error",
     "traceback": [
      "\u001b[0;31m---------------------------------------------------------------------------\u001b[0m",
      "\u001b[0;31mAssertionError\u001b[0m                            Traceback (most recent call last)",
      "\u001b[0;32m<ipython-input-37-bf09593990ed>\u001b[0m in \u001b[0;36m<module>\u001b[0;34m\u001b[0m\n\u001b[1;32m     23\u001b[0m                       \u001b[0mmarkersize\u001b[0m\u001b[0;34m=\u001b[0m\u001b[0;36m20\u001b[0m\u001b[0;34m,\u001b[0m\u001b[0;34m\u001b[0m\u001b[0;34m\u001b[0m\u001b[0m\n\u001b[1;32m     24\u001b[0m                       \u001b[0mmarkeredgecolor\u001b[0m\u001b[0;34m=\u001b[0m\u001b[0;34m\"black\"\u001b[0m\u001b[0;34m,\u001b[0m\u001b[0;34m\u001b[0m\u001b[0;34m\u001b[0m\u001b[0m\n\u001b[0;32m---> 25\u001b[0;31m                       plot_colorbar=True if cc == 2 else False)\n\u001b[0m\u001b[1;32m     26\u001b[0m \u001b[0;34m\u001b[0m\u001b[0m\n\u001b[1;32m     27\u001b[0m     \u001b[0;31m# axis limits\u001b[0m\u001b[0;34m\u001b[0m\u001b[0;34m\u001b[0m\u001b[0;34m\u001b[0m\u001b[0m\n",
      "\u001b[0;32m~/python/Modules/spaxelsleuth/plotting/plotgalaxies.py\u001b[0m in \u001b[0;36mplot2dscatter\u001b[0;34m(df, col_x, col_y, col_z, vmin, vmax, xmin, xmax, ymin, ymax, ax, axis_labels, cmap, plot_colorbar, cax, cax_orientation, alpha, zorder, errorbars, markeredgecolor, markerfacecolor, marker, markersize, figsize)\u001b[0m\n\u001b[1;32m    694\u001b[0m     \u001b[0;32mif\u001b[0m \u001b[0mcol_z\u001b[0m \u001b[0;32mis\u001b[0m \u001b[0;32mnot\u001b[0m \u001b[0;32mNone\u001b[0m\u001b[0;34m:\u001b[0m\u001b[0;34m\u001b[0m\u001b[0;34m\u001b[0m\u001b[0m\n\u001b[1;32m    695\u001b[0m         \u001b[0;32mfor\u001b[0m \u001b[0mcol\u001b[0m \u001b[0;32min\u001b[0m \u001b[0;34m[\u001b[0m\u001b[0mcol_x\u001b[0m\u001b[0;34m,\u001b[0m \u001b[0mcol_y\u001b[0m\u001b[0;34m,\u001b[0m \u001b[0mcol_z\u001b[0m\u001b[0;34m]\u001b[0m\u001b[0;34m:\u001b[0m\u001b[0;34m\u001b[0m\u001b[0;34m\u001b[0m\u001b[0m\n\u001b[0;32m--> 696\u001b[0;31m             \u001b[0;32massert\u001b[0m \u001b[0;34m(\u001b[0m\u001b[0mcol\u001b[0m \u001b[0;32min\u001b[0m \u001b[0mdf\u001b[0m\u001b[0;34m.\u001b[0m\u001b[0mcolumns\u001b[0m\u001b[0;34m)\u001b[0m \u001b[0;32mor\u001b[0m \u001b[0;34m(\u001b[0m\u001b[0;34mf\"{col} (component 1)\"\u001b[0m \u001b[0;32min\u001b[0m \u001b[0mdf\u001b[0m\u001b[0;34m.\u001b[0m\u001b[0mcolumns\u001b[0m\u001b[0;34m)\u001b[0m \u001b[0;32mor\u001b[0m \u001b[0;34m(\u001b[0m\u001b[0;34mf\"{col} (total)\"\u001b[0m \u001b[0;32min\u001b[0m \u001b[0mdf\u001b[0m\u001b[0;34m.\u001b[0m\u001b[0mcolumns\u001b[0m\u001b[0;34m)\u001b[0m\u001b[0;34m,\u001b[0m \u001b[0;34mf\"{col} is not a valid column!\"\u001b[0m\u001b[0;34m\u001b[0m\u001b[0;34m\u001b[0m\u001b[0m\n\u001b[0m\u001b[1;32m    697\u001b[0m         \u001b[0;32massert\u001b[0m \u001b[0mdf\u001b[0m\u001b[0;34m[\u001b[0m\u001b[0mcol_z\u001b[0m\u001b[0;34m]\u001b[0m\u001b[0;34m.\u001b[0m\u001b[0mdtype\u001b[0m \u001b[0;34m!=\u001b[0m \u001b[0;34m\"O\"\u001b[0m\u001b[0;34m,\u001b[0m\u001b[0;31m\\\u001b[0m\u001b[0;34m\u001b[0m\u001b[0;34m\u001b[0m\u001b[0m\n\u001b[1;32m    698\u001b[0m             \u001b[0;34mf\"{col_z} has an object data type - if you want to use discrete quantities, you must use the 'numeric' version of this column instead!\"\u001b[0m\u001b[0;34m\u001b[0m\u001b[0;34m\u001b[0m\u001b[0m\n",
      "\u001b[0;31mAssertionError\u001b[0m: log N2 (component 1) is not a valid column!"
     ]
    }
   ],
   "source": [
    "###########################################################################\n",
    "# Optical diagnostic (i.e. BPT) diagram\n",
    "###########################################################################\n",
    "fig, axs, cax = plot_empty_BPT_diagram(colorbar=True, nrows=1, include_Law2021=True, figsize=(12, 4))\n",
    "markers = [\"o\", \">\", \"D\"]\n",
    "col_z = \"r/R_e\"\n",
    "for cc, col_x in enumerate([\"log N2\", \"log S2\", \"log O1\"]):\n",
    "    # Plot full SAMI sample\n",
    "    plot2dhistcontours(df=df, \n",
    "                       col_x=f\"{col_x} (total)\",\n",
    "                       col_y=f\"log O3 (total)\", col_z=\"count\", log_z=True,\n",
    "                       alpha=0.5, cmap=\"gray_r\",\n",
    "                       ax=axs[cc], plot_colorbar=False)\n",
    "\n",
    "    # Plot measurements for this galaxy\n",
    "    for nn in range(3):\n",
    "        plot2dscatter(df=df_gal,\n",
    "                      col_x=f\"{col_x} (component {nn + 1})\",\n",
    "                      col_y=f\"log O3 (component {nn + 1})\",\n",
    "                      col_z=col_z,\n",
    "                      cax=cax,\n",
    "                      marker=markers[nn], ax=axs[cc], \n",
    "                      markersize=20, \n",
    "                      markeredgecolor=\"black\",\n",
    "                      plot_colorbar=True if cc == 2 else False)\n",
    "\n",
    "    # axis limits\n",
    "    axs[cc].set_xlim([np.nanmin([vmin_fn(col_x), df_gal[f\"{col_x} (total)\"].min() - 0.1]),\n",
    "                      np.nanmax([vmax_fn(col_x), df_gal[f\"{col_x} (total)\"].max() + 0.1])])\n",
    "    # axis limits\n",
    "    axs[cc].set_ylim([np.nanmin([vmin_fn(\"log O3\"), df_gal[f\"log O3 (total)\"].min() - 0.1]),\n",
    "                      np.nanmax([vmax_fn(\"log O3\"), df_gal[f\"log O3 (total)\"].max() + 0.1])])\n",
    "\n",
    "# Decorations\n",
    "[ax.grid() for ax in axs]\n",
    "[ax.set_ylabel(\"\") for ax in axs[1:]]\n",
    "[ax.set_yticklabels([]) for ax in axs[1:]]\n",
    "[ax.set_xticks(ax.get_xticks()[:-1]) for ax in axs[:-1]]\n",
    "[ax.collections[0].set_rasterized(True) for ax in axs]\n"
   ]
  },
  {
   "cell_type": "code",
   "execution_count": 42,
   "metadata": {},
   "outputs": [],
   "source": [
    "plt.close(\"all\")"
   ]
  },
  {
   "cell_type": "code",
   "execution_count": null,
   "metadata": {},
   "outputs": [],
   "source": []
  }
 ],
 "metadata": {
  "kernelspec": {
   "display_name": "Python 3",
   "language": "python",
   "name": "python3"
  },
  "language_info": {
   "codemirror_mode": {
    "name": "ipython",
    "version": 3
   },
   "file_extension": ".py",
   "mimetype": "text/x-python",
   "name": "python",
   "nbconvert_exporter": "python",
   "pygments_lexer": "ipython3",
   "version": "3.7.4"
  }
 },
 "nbformat": 4,
 "nbformat_minor": 2
}
