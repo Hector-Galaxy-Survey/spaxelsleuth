{
 "cells": [
  {
   "attachments": {},
   "cell_type": "markdown",
   "metadata": {},
   "source": [
    "# `spaxelsleuth` examples (LZIFU)\n",
    "---\n",
    "In this notebook, you will learn how to use `spaxelsleuth` to \n",
    "1. create a `pandas` DataFrame containing spaxel-by-spaxel information for a galaxies that was fitted with LZIFU;\n",
    "2. use the included plotting tools to analyse the LZIFU data;\n",
    "3. create plots that you can use to analyse specific galaxies. "
   ]
  },
  {
   "cell_type": "code",
   "execution_count": null,
   "metadata": {},
   "outputs": [],
   "source": [
    "from spaxelsleuth import load_user_config\n",
    "load_user_config(\"/home/u5708159/.spaxelsleuthconfig.json\")\n",
    "from spaxelsleuth.config import settings"
   ]
  },
  {
   "attachments": {},
   "cell_type": "markdown",
   "metadata": {},
   "source": [
    "## Create the DataFrames\n",
    "---"
   ]
  },
  {
   "attachments": {},
   "cell_type": "markdown",
   "metadata": {},
   "source": [
    "### Creating the LZIFU DataFrame\n",
    "The first step is to create the DataFrame containing all measured quantities, such as emission line fluxes, stellar and gas kinematics, and extinction, for each individual spaxel in galaxies that have been fitted with LZIFU. Each time this is run, it saves one copy of the DataFrame where the extinction correction has been applied, and one without. The resulting DataFrames are saved to file and can be accessed using `load_lzifu_df()`.\n",
    "\n",
    "The input arguments are as follows:\n",
    "* `ncomponents` determines which data set the function is run on. \n",
    "    * `ncomponents = \"merge\"` will use the data products produced using the multi-component Gaussian emission line fits, where the optimum number of components in each spaxel is determined via the likelihood ratio test as per Ho et al. (2016);\n",
    "    * `ncomponents = \"1\"`, `\"2\"` or `\"3\"` will use the data products produced using the 1, 2 or 3-component Gaussian emission line fits.\n",
    "* `bin_type` refers to the spatial binning scheme used. For now, only unbinned data (`\"default\"`) is accepted.\n",
    "* `eline_SNR_min` gives the minimum S/N for which a fitted emission line component will be accepted. All quantities associated with emission line components that fall below this S/N threshold (e.g. kinematics, fluxes, etc.) will be set to `np.nan`."
   ]
  },
  {
   "cell_type": "code",
   "execution_count": null,
   "metadata": {},
   "outputs": [],
   "source": [
    "from spaxelsleuth.loaddata.lzifu import make_lzifu_df"
   ]
  },
  {
   "cell_type": "code",
   "execution_count": null,
   "metadata": {},
   "outputs": [],
   "source": [
    "# First, check which galaxies we have fitted with LZIFU.\n",
    "import os\n",
    "gals = [int(f.split(\"_\")[0]) for f in os.listdir(settings[\"lzifu\"][\"input_path\"]) if f.endswith(\"1_comp.fits\") and not f.startswith(\".\")]\n",
    "print(gals)"
   ]
  },
  {
   "cell_type": "code",
   "execution_count": null,
   "metadata": {
    "scrolled": true
   },
   "outputs": [],
   "source": [
    "make_lzifu_df(gals=gals,\n",
    "              ncomponents=1,\n",
    "              eline_SNR_min=3,\n",
    "              eline_ANR_min=3,\n",
    "              sigma_gas_SNR_min=1,\n",
    "              line_flux_SNR_cut=False,\n",
    "              missing_fluxes_cut=False,\n",
    "              line_amplitude_SNR_cut=False,\n",
    "              flux_fraction_cut=False,\n",
    "              sigma_gas_SNR_cut=False,\n",
    "              vgrad_cut=False,\n",
    "              correct_extinction=False,\n",
    "              metallicity_diagnostics=[\n",
    "                  \"N2Ha_PP04\",\n",
    "              ],\n",
    "              sigma_inst_kms=29.6,\n",
    "              nthreads=1)\n"
   ]
  },
  {
   "attachments": {},
   "cell_type": "markdown",
   "metadata": {},
   "source": [
    "### Load the LZIFU DataFrame we just created"
   ]
  },
  {
   "cell_type": "code",
   "execution_count": null,
   "metadata": {
    "scrolled": false
   },
   "outputs": [],
   "source": [
    "from spaxelsleuth.loaddata.lzifu import load_lzifu_df\n",
    "\n",
    "df = load_lzifu_df(\n",
    "    ncomponents=1,\n",
    "    correct_extinction=False,\n",
    "    eline_SNR_min=3,\n",
    "    eline_ANR_min=3,\n",
    ")"
   ]
  },
  {
   "attachments": {},
   "cell_type": "markdown",
   "metadata": {},
   "source": [
    "In addition to the measured quantities released in DR3, the DataFrame also contains various other measurements, such as line ratios, spectral categories, equivalent widths, and the like:"
   ]
  },
  {
   "cell_type": "code",
   "execution_count": null,
   "metadata": {
    "scrolled": true
   },
   "outputs": [],
   "source": [
    "df"
   ]
  },
  {
   "cell_type": "code",
   "execution_count": null,
   "metadata": {
    "scrolled": true
   },
   "outputs": [],
   "source": [
    "for col in df.columns:\n",
    "    print(col)"
   ]
  },
  {
   "cell_type": "code",
   "execution_count": null,
   "metadata": {
    "scrolled": true
   },
   "outputs": [],
   "source": [
    "# Calculate the number of spaxels with different spectral classifications \n",
    "n_spaxels_tot = df.shape[0]\n",
    "spec_cats = df[\"BPT (total)\"].unique()  # List of spectral categories in the data set\n",
    "for spec_cat in spec_cats:\n",
    "    cond = df[\"BPT (total)\"] == spec_cat\n",
    "    n_spaxels = df[cond].shape[0]\n",
    "    print(f\"There are {n_spaxels} spaxels ({n_spaxels / n_spaxels_tot * 100:.2f}%) classified as {spec_cat}\")"
   ]
  },
  {
   "cell_type": "code",
   "execution_count": null,
   "metadata": {
    "scrolled": true
   },
   "outputs": [],
   "source": [
    "# Histograms showing the distribution in velocity dispersion\n",
    "import matplotlib.pyplot as plt\n",
    "from astropy.visualization import hist\n",
    "fig, ax = plt.subplots(nrows=1, ncols=1)\n",
    "hist(df[f\"sigma_gas (component 1)\"].values, bins=\"scott\", ax=ax, range=(0, 500), density=False, histtype=\"step\")\n",
    "ax.set_xlabel(r\"$\\sigma_{\\rm gas}$\")\n",
    "ax.set_ylabel(r\"$N$\")"
   ]
  },
  {
   "attachments": {},
   "cell_type": "markdown",
   "metadata": {},
   "source": [
    "You can also select a subset of the full data sample as follows:"
   ]
  },
  {
   "cell_type": "code",
   "execution_count": null,
   "metadata": {},
   "outputs": [],
   "source": [
    "fig, ax = plt.subplots(nrows=1, ncols=1)\n",
    "for cat in df[\"BPT (total)\"].unique():\n",
    "    df_cat = df[df[\"BPT (total)\"] == cat]\n",
    "    hist(df_cat[f\"sigma_gas (component 1)\"].values, bins=\"scott\", ax=ax, range=(0, 500), density=False, histtype=\"step\", label=cat)\n",
    "ax.set_xlabel(r\"$\\sigma_{\\rm gas}$\")\n",
    "ax.set_ylabel(r\"$N$\")\n",
    "ax.legend()"
   ]
  },
  {
   "attachments": {},
   "cell_type": "markdown",
   "metadata": {},
   "source": [
    "## Using `spaxelsleuth.plotting`\n",
    "--- \n",
    "In the below cells, we will demonstrate how to use various functions in `spaxelsleuth.plotting` to make different kinds of plots useful for analysing the data set."
   ]
  },
  {
   "cell_type": "code",
   "execution_count": null,
   "metadata": {},
   "outputs": [],
   "source": [
    "from spaxelsleuth.plotting.plottools import plot_empty_BPT_diagram, plot_BPT_lines\n",
    "from spaxelsleuth.plotting.plotgalaxies import plot2dhistcontours, plot2dscatter"
   ]
  },
  {
   "attachments": {},
   "cell_type": "markdown",
   "metadata": {},
   "source": [
    "#### Plot the distribution of spaxels in the WHAN diagram\n",
    "The WHAN diagram, developed by Cid Fernandes et al. (2010, 2011), plots the H$\\alpha$ equivalent width (EW) against the [NII]6583Å/H$\\alpha$ line ratio, and can be used to distinguish between emission by star formation, AGN and hot, low-mass evolved stars."
   ]
  },
  {
   "cell_type": "code",
   "execution_count": null,
   "metadata": {
    "scrolled": false
   },
   "outputs": [],
   "source": [
    "# Plot a 2D histogram showing the distribution of SAMI spaxels in the WHAN diagram\n",
    "_ = plot2dhistcontours(df=df,\n",
    "              col_x=f\"log N2 (total)\",\n",
    "              col_y=f\"log HALPHA EW (total)\",\n",
    "              col_z=\"count\", log_z=True,\n",
    "              plot_colorbar=True)"
   ]
  },
  {
   "cell_type": "code",
   "execution_count": null,
   "metadata": {
    "scrolled": false
   },
   "outputs": [],
   "source": [
    "# Repeat the above, but colour by the median BPT classification\n",
    "_ = plot2dhistcontours(df=df,\n",
    "              col_x=f\"log N2 (total)\",\n",
    "              col_y=f\"log HALPHA EW (total)\",\n",
    "              col_z=\"BPT (total)\", \n",
    "              plot_colorbar=True)"
   ]
  },
  {
   "cell_type": "code",
   "execution_count": null,
   "metadata": {},
   "outputs": [],
   "source": [
    "# Repeat the above, but colour by the D4000Å break strength\n",
    "_ = plot2dhistcontours(df=df,\n",
    "              col_x=f\"log N2 (total)\",\n",
    "              col_y=f\"log HALPHA EW (total)\",\n",
    "              col_z=\"D4000\", \n",
    "              plot_colorbar=True)"
   ]
  },
  {
   "cell_type": "code",
   "execution_count": null,
   "metadata": {},
   "outputs": [],
   "source": [
    "# If we like, we can use a different colourmap using the \"cmap\" keyword.\n",
    "# The contour colours can also be changed using the \"colors\" keyword, and the levels can be changed using \"levels\".\n",
    "# The axis limits can also be changed using the \"xmin\", \"xmax\", \"ymin\", \"ymax\" and \"vmin\", \"vmax\" keyword.\n",
    "# We can also change the number of histogram bins using the \"nbins\" keyword.\n",
    "import numpy as np\n",
    "_ = plot2dhistcontours(df=df,\n",
    "              col_x=f\"log N2 (total)\", xmin=-0.6, xmax=0.0,\n",
    "              col_y=f\"log HALPHA EW (total)\", \n",
    "              col_z=\"D4000\", vmin=1.1, vmax=2.0,\n",
    "              nbins=50, \n",
    "              cmap=\"cubehelix\", colors=\"yellow\", levels=np.logspace(0, 4, 5),\n",
    "              plot_colorbar=True)"
   ]
  },
  {
   "attachments": {},
   "cell_type": "markdown",
   "metadata": {},
   "source": [
    "#### Plot optical diagnostic (\"BPT\") diagrams for the full sample, showing the distribution of spaxels in all SAMI galaxies"
   ]
  },
  {
   "cell_type": "code",
   "execution_count": null,
   "metadata": {
    "scrolled": true
   },
   "outputs": [],
   "source": [
    "# Plot an empty BPT diagram\n",
    "fig, axs_bpt = plot_empty_BPT_diagram(nrows=1)\n",
    "\n",
    "# Plot 2D histograms showing the distribution of the entire sample\n",
    "for cc, col_x in enumerate([\"log N2\", \"log S2\", \"log O1\"]):\n",
    "    # Add BPT demarcation lines\n",
    "    plot_BPT_lines(ax=axs_bpt[cc], col_x=col_x)    \n",
    "\n",
    "    # Plot histograms showing distribution for whole sample\n",
    "    _ = plot2dhistcontours(df=df,\n",
    "                  col_x=f\"{col_x} (total)\",\n",
    "                  col_y=f\"log O3 (total)\",\n",
    "                  col_z=\"count\", log_z=True,\n",
    "                  ax=axs_bpt[cc],\n",
    "                  cax=None,\n",
    "                  plot_colorbar=True if cc==2 else False)\n",
    "\n",
    "    if cc > 0:\n",
    "        axs_bpt[cc].set_ylabel(\"\")\n",
    "    axs_bpt[cc].grid()"
   ]
  },
  {
   "attachments": {},
   "cell_type": "markdown",
   "metadata": {},
   "source": [
    "#### Repeat the above, but colour the histograms by $\\sigma_{\\rm gas}$"
   ]
  },
  {
   "cell_type": "code",
   "execution_count": null,
   "metadata": {},
   "outputs": [],
   "source": [
    "# Plot an empty BPT diagram\n",
    "fig, axs_bpt = plot_empty_BPT_diagram(nrows=1)\n",
    "\n",
    "# Plot 2D histograms showing the distribution of the entire sample\n",
    "for cc, col_x in enumerate([\"log N2\", \"log S2\", \"log O1\"]):\n",
    "    # Add BPT demarcation lines\n",
    "    plot_BPT_lines(ax=axs_bpt[cc], col_x=col_x)    \n",
    "\n",
    "    # Plot histograms showing distribution for whole sample\n",
    "    _ = plot2dhistcontours(df=df,\n",
    "                  col_x=f\"{col_x} (total)\",\n",
    "                  col_y=f\"log O3 (total)\",\n",
    "                  col_z=\"sigma_gas (component 1)\", \n",
    "                  vmax=150,  # Tweak the z-axis scaling to bring out details \n",
    "                  ax=axs_bpt[cc],\n",
    "                  cax=None, colors=\"white\",\n",
    "                  plot_colorbar=True if cc==2 else False)\n",
    "    \n",
    "    if cc > 0:\n",
    "        axs_bpt[cc].set_ylabel(\"\")\n",
    "    axs_bpt[cc].grid()"
   ]
  },
  {
   "attachments": {},
   "cell_type": "markdown",
   "metadata": {},
   "source": [
    "## Using `spaxelsleuth.plotting` to plot individual galaxies\n",
    "--- \n",
    "In the below cells, we will demonstrate how create plots based on individual SAMI galaxies using functions in `spaxelsleuth.plotting`.\n"
   ]
  },
  {
   "cell_type": "code",
   "execution_count": null,
   "metadata": {},
   "outputs": [],
   "source": [
    "gal = gals[2]"
   ]
  },
  {
   "attachments": {},
   "cell_type": "markdown",
   "metadata": {},
   "source": [
    "#### Plot 2D maps showing various quantities in this galaxy\n",
    "Given a DataFrame corresponding to a single galaxy, `plot2dmap()` reconstructs a 2D image of a specified column (e.g., velocity dispersion) from the rows and plots it. "
   ]
  },
  {
   "cell_type": "code",
   "execution_count": null,
   "metadata": {
    "scrolled": false
   },
   "outputs": [],
   "source": [
    "from spaxelsleuth.plotting.plot2dmap import plot2dmap\n",
    "fig, ax = plot2dmap(df=df, gal=gal, col_z=\"BPT (total)\")"
   ]
  },
  {
   "cell_type": "code",
   "execution_count": null,
   "metadata": {},
   "outputs": [],
   "source": [
    "# Playing with input arguments \n",
    "# As in plot2dhistcontours, the maximum colour scaling can be set using \"vmin\" and \"vmax\" and the colourmap can be changed using \"cmap\". \n",
    "# The quantity that is used to plot contours can be set to any column in the DataFrame using \"col_z_contours\" and the colours and linewidths can be configured using \"colours\" and \"linewidths\".\n",
    "_ = plot2dmap(df=df, gal=gal, col_z=\"v_gas (component 1)\",\n",
    "              cmap=\"jet\", vmin=-50, vmax=+50,\n",
    "              col_z_contours=\"v_gas (component 1)\", levels=[-40, -20, 0, 20, 40], colors=\"pink\", linewidths=2.5)\n"
   ]
  },
  {
   "attachments": {},
   "cell_type": "markdown",
   "metadata": {},
   "source": [
    "#### Scatter plots \n",
    "Create a BPT diagram with 2D histograms and contours showing the distribution in the full sample, with the data points from this galaxy overlaid on top using a scatter plot."
   ]
  },
  {
   "cell_type": "code",
   "execution_count": null,
   "metadata": {},
   "outputs": [],
   "source": [
    "# Plot an empty BPT diagram\n",
    "fig, axs_bpt = plot_empty_BPT_diagram(nrows=1)\n",
    "\n",
    "# Plot 2D histograms showing the distribution of the entire sample\n",
    "for cc, col_x in enumerate([\"log N2\", \"log S2\", \"log O1\"]):\n",
    "    # Add BPT demarcation lines\n",
    "    plot_BPT_lines(ax=axs_bpt[cc], col_x=col_x)    \n",
    "\n",
    "    # Plot histograms showing distribution for whole sample\n",
    "    _ = plot2dhistcontours(df=df,\n",
    "                  col_x=f\"{col_x} (total)\",\n",
    "                  col_y=f\"log O3 (total)\",\n",
    "                  col_z=\"count\", log_z=True,\n",
    "                  cmap=\"bone_r\", alpha=0.4,\n",
    "                  ax=axs_bpt[cc],\n",
    "                  plot_colorbar=False)\n",
    "    \n",
    "    # Scatter plot for this galaxy\n",
    "    _ = plot2dscatter(df=df, gal=gal, \n",
    "                      col_x=f\"{col_x} (total)\",\n",
    "                      col_y=f\"log O3 (total)\",\n",
    "                      col_z=f\"v_gas (component 1)\",\n",
    "                      ax=axs_bpt[cc],\n",
    "                      vmin=-100, vmax=+100,\n",
    "                      plot_colorbar=True if cc==2 else False)\n",
    "    \n",
    "# Turn of y-axis labels \n",
    "[ax.set_ylabel(\"\") for ax in axs_bpt[1:]]"
   ]
  }
 ],
 "metadata": {
  "kernelspec": {
   "display_name": "py37",
   "language": "python",
   "name": "python3"
  },
  "language_info": {
   "codemirror_mode": {
    "name": "ipython",
    "version": 3
   },
   "file_extension": ".py",
   "mimetype": "text/x-python",
   "name": "python",
   "nbconvert_exporter": "python",
   "pygments_lexer": "ipython3",
   "version": "3.10.12"
  },
  "vscode": {
   "interpreter": {
    "hash": "f4fec93325f50ebba2f8ccff2d43fa137f943e5da2ec5ed795e172506ecf899e"
   }
  }
 },
 "nbformat": 4,
 "nbformat_minor": 2
}
