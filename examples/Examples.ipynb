{
 "cells": [
  {
   "cell_type": "markdown",
   "metadata": {},
   "source": [
    "# `spaxelsleuth` examples\n",
    "---\n",
    "In this notebook, you will learn how to use `spaxelsleuth` to \n",
    "1. create a `pandas` DataFrame containing spaxel-by-spaxel information for all SAMI galaxies;\n",
    "2. use the included plotting tools to analyse the SAMI data set as a whole;\n",
    "3. create plots that you can use to analyse specific galaxies. "
   ]
  },
  {
   "cell_type": "markdown",
   "metadata": {},
   "source": [
    "## Create the DataFrames\n",
    "---\n",
    "### Creating the \"metadata\" DataFrame\n",
    "After you have installed `spaxelsleuth` and have downloaded the necessary files from [DataCentral](http://datacentral.org.au) (see the README), the first step is to create the \"metadata\" DataFrame containing basic information about each SAMI galaxy, such as redshifts, morphologies, and stellar masses."
   ]
  },
  {
   "cell_type": "code",
   "execution_count": 83,
   "metadata": {},
   "outputs": [
    {
     "name": "stdout",
     "output_type": "stream",
     "text": [
      "In make_sami_metadata_df(): Creating metadata DataFrame...\n"
     ]
    },
    {
     "name": "stderr",
     "output_type": "stream",
     "text": [
      "/home/u5708159/python/Modules/spaxelsleuth/loaddata/sami.py:176: FutureWarning: Sorting because non-concatenation axis is not aligned. A future version\n",
      "of pandas will change to not sort by default.\n",
      "\n",
      "To accept the future behavior, pass 'sort=False'.\n",
      "\n",
      "To retain the current behavior and silence the warning, pass 'sort=True'.\n",
      "\n",
      "  df_metadata = pd.concat([df_metadata_gama, df_metadata_cluster, df_metadata_filler]).drop([\"Unnamed: 0\"], axis=1)\n",
      "/home/u5708159/python/Modules/spaxelsleuth/loaddata/sami.py:241: SettingWithCopyWarning: \n",
      "A value is trying to be set on a copy of a slice from a DataFrame.\n",
      "Try using .loc[row_indexer,col_indexer] = value instead\n",
      "\n",
      "See the caveats in the documentation: http://pandas.pydata.org/pandas-docs/stable/user_guide/indexing.html#returning-a-view-versus-a-copy\n",
      "  df_flags_cut[\"catid\"] = df_flags_cut[\"catid\"].astype(int)\n"
     ]
    },
    {
     "name": "stdout",
     "output_type": "stream",
     "text": [
      "In make_sami_metadata_df(): Computing distances...\n",
      "In make_sami_metadata_df(): Saving metadata DataFrame to file /priv/meggs3/u5708159/SAMI/sami_dr3/sami_dr3_metadata.hd5...\n"
     ]
    }
   ],
   "source": [
    "from spaxelsleuth.loaddata.sami import make_sami_metadata_df\n",
    "make_sami_metadata_df()"
   ]
  },
  {
   "cell_type": "markdown",
   "metadata": {},
   "source": [
    "### Creating the SAMI DataFrame\n",
    "The next step is to create the DataFrame containing all measured quantities, such as emission line fluxes, stellar and gas kinematics, and extinction, for each individual spaxel in every SAMI galaxy. \n",
    "\n",
    "The input arguments are as follows:\n",
    "* `ncomponents` determines which data set the function is run on. \n",
    "    * `ncomponents = \"recom\"` will use the data products produced using the multi-component Gaussian emission line fits, in which the `LZCOMP` neutral network was used to determine the optimal number of components in each spaxel.\n",
    "    * `ncomponents = \"1\"` will use the data products produced using the single-component Gaussian emission line fits.\n",
    "* `bin_type` refers to the spatial binning scheme used.\n",
    "    * `bin_type = \"default\"` will use the data products produced using the unbinned data. \n",
    "    * `bin_type = \"adaptive\"` will use the data products produced using the Voronoi-binned data. \n",
    "    * `bin_type = \"sectors\"` will use the data products produced using the sector-binned data. \n",
    "* `eline_SNR_min` gives the minimum S/N for which a fitted emission line component will be accepted. All quantities associated with emission line components that fall below this S/N threshold (e.g. kinematics, fluxes, etc.) will be set to `np.nan`.\n",
    "\n",
    "Note that running `make_sami_df()` for all ~3,000 SAMI galaxies takes some time - for a quick demo, set `DEBUG` here to `True`; this will create the DataFrame for a subset of 10 galaxies and is much quicker."
   ]
  },
  {
   "cell_type": "code",
   "execution_count": 1,
   "metadata": {},
   "outputs": [],
   "source": [
    "DEBUG = False"
   ]
  },
  {
   "cell_type": "code",
   "execution_count": 2,
   "metadata": {
    "scrolled": true
   },
   "outputs": [
    {
     "name": "stdout",
     "output_type": "stream",
     "text": [
      "In sami.make_df_sami() [bin_type=default, ncomponents=recom, debug=False, eline_SNR_min=5]: saving to files sami_default_recom-comp_minSNR=5.hd5 and sami_default_recom-comp_extcorr_minSNR=5.hd5...\n",
      "In sami.make_df_sami() [bin_type=default, ncomponents=recom, debug=False, eline_SNR_min=5]: Beginning pool...\n"
     ]
    },
    {
     "name": "stderr",
     "output_type": "stream",
     "text": [
      "Process ForkPoolWorker-14:\n",
      "Process ForkPoolWorker-6:\n",
      "Process ForkPoolWorker-4:\n",
      "Process ForkPoolWorker-17:\n",
      "Process ForkPoolWorker-2:\n",
      "Process ForkPoolWorker-15:\n",
      "Process ForkPoolWorker-13:\n",
      "Process ForkPoolWorker-11:\n",
      "Process ForkPoolWorker-1:\n",
      "Process ForkPoolWorker-8:\n",
      "  File \"/pkg/linux/anaconda-20191122/anaconda3/lib/python3.7/multiprocessing/pool.py\", line 121, in worker\n",
      "    result = (True, func(*args, **kwds))\n",
      "Traceback (most recent call last):\n",
      "Process ForkPoolWorker-20:\n",
      "  File \"/pkg/linux/anaconda-20191122/anaconda3/lib/python3.7/multiprocessing/process.py\", line 297, in _bootstrap\n",
      "    self.run()\n",
      "Process ForkPoolWorker-7:\n",
      "  File \"/pkg/linux/anaconda-20191122/anaconda3/lib/python3.7/multiprocessing/process.py\", line 99, in run\n",
      "    self._target(*self._args, **self._kwargs)\n",
      "Traceback (most recent call last):\n",
      "Traceback (most recent call last):\n",
      "Traceback (most recent call last):\n",
      "Traceback (most recent call last):\n",
      "Traceback (most recent call last):\n",
      "Traceback (most recent call last):\n",
      "Traceback (most recent call last):\n",
      "Traceback (most recent call last):\n",
      "  File \"/pkg/linux/anaconda-20191122/anaconda3/lib/python3.7/site-packages/astropy/io/fits/hdu/hdulist.py\", line 1096, in _try_while_unread_hdus\n",
      "    return func(*args, **kwargs)\n",
      "  File \"/pkg/linux/anaconda-20191122/anaconda3/lib/python3.7/site-packages/astropy/io/fits/hdu/hdulist.py\", line 1096, in _try_while_unread_hdus\n",
      "    return func(*args, **kwargs)\n",
      "  File \"/pkg/linux/anaconda-20191122/anaconda3/lib/python3.7/site-packages/astropy/io/fits/hdu/hdulist.py\", line 1096, in _try_while_unread_hdus\n",
      "    return func(*args, **kwargs)\n",
      "Process ForkPoolWorker-9:\n",
      "  File \"/pkg/linux/anaconda-20191122/anaconda3/lib/python3.7/site-packages/astropy/io/fits/hdu/hdulist.py\", line 1096, in _try_while_unread_hdus\n",
      "    return func(*args, **kwargs)\n",
      "  File \"/pkg/linux/anaconda-20191122/anaconda3/lib/python3.7/site-packages/astropy/io/fits/hdu/hdulist.py\", line 1096, in _try_while_unread_hdus\n",
      "    return func(*args, **kwargs)\n",
      "  File \"/pkg/linux/anaconda-20191122/anaconda3/lib/python3.7/site-packages/astropy/io/fits/hdu/hdulist.py\", line 1096, in _try_while_unread_hdus\n",
      "    return func(*args, **kwargs)\n",
      "Traceback (most recent call last):\n",
      "  File \"/pkg/linux/anaconda-20191122/anaconda3/lib/python3.7/multiprocessing/pool.py\", line 44, in mapstar\n",
      "    return list(map(*args))\n",
      "IndexError: list index out of range\n",
      "IndexError: list index out of range\n",
      "IndexError: list index out of range\n",
      "  File \"/pkg/linux/anaconda-20191122/anaconda3/lib/python3.7/multiprocessing/process.py\", line 297, in _bootstrap\n",
      "    self.run()\n",
      "Traceback (most recent call last):\n",
      "  File \"/pkg/linux/anaconda-20191122/anaconda3/lib/python3.7/site-packages/astropy/io/fits/hdu/hdulist.py\", line 1096, in _try_while_unread_hdus\n",
      "    return func(*args, **kwargs)\n",
      "IndexError: list index out of range\n",
      "  File \"/pkg/linux/anaconda-20191122/anaconda3/lib/python3.7/multiprocessing/process.py\", line 297, in _bootstrap\n",
      "    self.run()\n",
      "  File \"/pkg/linux/anaconda-20191122/anaconda3/lib/python3.7/multiprocessing/pool.py\", line 121, in worker\n",
      "    result = (True, func(*args, **kwds))\n",
      "  File \"/pkg/linux/anaconda-20191122/anaconda3/lib/python3.7/multiprocessing/pool.py\", line 44, in mapstar\n",
      "    return list(map(*args))\n",
      "IndexError: list index out of range\n",
      "\n",
      "During handling of the above exception, another exception occurred:\n",
      "\n",
      "\n",
      "During handling of the above exception, another exception occurred:\n",
      "\n",
      "Traceback (most recent call last):\n",
      "  File \"/pkg/linux/anaconda-20191122/anaconda3/lib/python3.7/site-packages/astropy/io/fits/hdu/hdulist.py\", line 1096, in _try_while_unread_hdus\n",
      "    return func(*args, **kwargs)\n",
      "\n",
      "During handling of the above exception, another exception occurred:\n",
      "\n",
      "Traceback (most recent call last):\n",
      "\n",
      "During handling of the above exception, another exception occurred:\n",
      "\n",
      "\n",
      "During handling of the above exception, another exception occurred:\n",
      "\n",
      "Traceback (most recent call last):\n",
      "IndexError: list index out of range\n",
      "Traceback (most recent call last):\n",
      "  File \"/pkg/linux/anaconda-20191122/anaconda3/lib/python3.7/multiprocessing/process.py\", line 297, in _bootstrap\n",
      "    self.run()\n",
      "Traceback (most recent call last):\n",
      "  File \"/pkg/linux/anaconda-20191122/anaconda3/lib/python3.7/multiprocessing/process.py\", line 297, in _bootstrap\n",
      "    self.run()\n",
      "  File \"/pkg/linux/anaconda-20191122/anaconda3/lib/python3.7/multiprocessing/process.py\", line 99, in run\n",
      "    self._target(*self._args, **self._kwargs)\n",
      "\n",
      "During handling of the above exception, another exception occurred:\n",
      "\n",
      "  File \"/pkg/linux/anaconda-20191122/anaconda3/lib/python3.7/multiprocessing/process.py\", line 297, in _bootstrap\n",
      "    self.run()\n",
      "  File \"/pkg/linux/anaconda-20191122/anaconda3/lib/python3.7/multiprocessing/pool.py\", line 121, in worker\n",
      "    result = (True, func(*args, **kwds))\n",
      "  File \"/pkg/linux/anaconda-20191122/anaconda3/lib/python3.7/multiprocessing/process.py\", line 99, in run\n",
      "    self._target(*self._args, **self._kwargs)\n",
      "  File \"/pkg/linux/anaconda-20191122/anaconda3/lib/python3.7/multiprocessing/process.py\", line 99, in run\n",
      "    self._target(*self._args, **self._kwargs)\n",
      "Traceback (most recent call last):\n",
      "Traceback (most recent call last):\n",
      "  File \"/pkg/linux/anaconda-20191122/anaconda3/lib/python3.7/multiprocessing/process.py\", line 99, in run\n",
      "    self._target(*self._args, **self._kwargs)\n",
      "\n",
      "During handling of the above exception, another exception occurred:\n",
      "\n",
      "  File \"/pkg/linux/anaconda-20191122/anaconda3/lib/python3.7/multiprocessing/pool.py\", line 44, in mapstar\n",
      "    return list(map(*args))\n",
      "IndexError: list index out of range\n",
      "  File \"/home/u5708159/python/Modules/spaxelsleuth/loaddata/sami.py\", line 377, in _process_gals\n",
      "    var_cube_R = hdulist_R_cube[1].data\n",
      "IndexError: list index out of range\n",
      "  File \"/pkg/linux/anaconda-20191122/anaconda3/lib/python3.7/multiprocessing/process.py\", line 99, in run\n",
      "    self._target(*self._args, **self._kwargs)\n",
      "  File \"/pkg/linux/anaconda-20191122/anaconda3/lib/python3.7/multiprocessing/pool.py\", line 121, in worker\n",
      "    result = (True, func(*args, **kwds))\n",
      "\n",
      "During handling of the above exception, another exception occurred:\n",
      "\n",
      "  File \"/pkg/linux/anaconda-20191122/anaconda3/lib/python3.7/multiprocessing/pool.py\", line 121, in worker\n",
      "    result = (True, func(*args, **kwds))\n",
      "  File \"/home/u5708159/python/Modules/spaxelsleuth/loaddata/sami.py\", line 363, in _process_gals\n",
      "    denom = np.nanmean(data_cube_B_Hz[start_b_idx:stop_b_idx], axis=0)\n",
      "  File \"/home/u5708159/python/Modules/spaxelsleuth/loaddata/sami.py\", line 377, in _process_gals\n",
      "    var_cube_R = hdulist_R_cube[1].data\n",
      "  File \"<__array_function__ internals>\", line 6, in nanmean\n",
      "  File \"/pkg/linux/anaconda-20191122/anaconda3/lib/python3.7/multiprocessing/pool.py\", line 44, in mapstar\n",
      "    return list(map(*args))\n",
      "  File \"/pkg/linux/anaconda-20191122/anaconda3/lib/python3.7/site-packages/astropy/io/fits/hdu/hdulist.py\", line 300, in __getitem__\n",
      "    self._positive_index_of(key))\n",
      "Traceback (most recent call last):\n",
      "Traceback (most recent call last):\n",
      "  File \"/pkg/linux/anaconda-20191122/anaconda3/lib/python3.7/site-packages/astropy/io/fits/hdu/hdulist.py\", line 1098, in _try_while_unread_hdus\n",
      "    if self._read_next_hdu():\n",
      "  File \"/pkg/linux/anaconda-20191122/anaconda3/lib/python3.7/multiprocessing/process.py\", line 297, in _bootstrap\n",
      "    self.run()\n",
      "  File \"/pkg/linux/anaconda-20191122/anaconda3/lib/python3.7/site-packages/astropy/io/fits/hdu/hdulist.py\", line 1096, in _try_while_unread_hdus\n",
      "    return func(*args, **kwargs)\n",
      "  File \"/pkg/linux/anaconda-20191122/anaconda3/lib/python3.7/multiprocessing/process.py\", line 297, in _bootstrap\n",
      "    self.run()\n",
      "  File \"/pkg/linux/anaconda-20191122/anaconda3/lib/python3.7/site-packages/numpy/lib/nanfunctions.py\", line 954, in nanmean\n",
      "    if isbad.any():\n",
      "  File \"/pkg/linux/anaconda-20191122/anaconda3/lib/python3.7/multiprocessing/pool.py\", line 44, in mapstar\n",
      "    return list(map(*args))\n",
      "  File \"/pkg/linux/anaconda-20191122/anaconda3/lib/python3.7/multiprocessing/pool.py\", line 121, in worker\n",
      "    result = (True, func(*args, **kwds))\n",
      "  File \"/pkg/linux/anaconda-20191122/anaconda3/lib/python3.7/site-packages/astropy/io/fits/hdu/hdulist.py\", line 300, in __getitem__\n",
      "    self._positive_index_of(key))\n",
      "  File \"/pkg/linux/anaconda-20191122/anaconda3/lib/python3.7/site-packages/astropy/io/fits/hdu/hdulist.py\", line 1139, in _read_next_hdu\n",
      "    hdu = _BaseHDU.readfrom(fileobj, **kwargs)\n"
     ]
    },
    {
     "name": "stderr",
     "output_type": "stream",
     "text": [
      "Traceback (most recent call last):\n",
      "IndexError: list index out of range\n",
      "  File \"/home/u5708159/python/Modules/spaxelsleuth/loaddata/sami.py\", line 377, in _process_gals\n",
      "    var_cube_R = hdulist_R_cube[1].data\n",
      "  File \"/pkg/linux/anaconda-20191122/anaconda3/lib/python3.7/multiprocessing/process.py\", line 99, in run\n",
      "    self._target(*self._args, **self._kwargs)\n",
      "  File \"/pkg/linux/anaconda-20191122/anaconda3/lib/python3.7/multiprocessing/process.py\", line 99, in run\n",
      "    self._target(*self._args, **self._kwargs)\n",
      "  File \"/pkg/linux/anaconda-20191122/anaconda3/lib/python3.7/site-packages/astropy/io/fits/hdu/hdulist.py\", line 1098, in _try_while_unread_hdus\n",
      "    if self._read_next_hdu():\n",
      "  File \"/pkg/linux/anaconda-20191122/anaconda3/lib/python3.7/site-packages/numpy/core/_methods.py\", line 44, in _any\n",
      "    def _any(a, axis=None, dtype=None, out=None, keepdims=False):\n",
      "  File \"/pkg/linux/anaconda-20191122/anaconda3/lib/python3.7/site-packages/astropy/io/fits/hdu/base.py\", line 332, in readfrom\n",
      "    fileobj.seek(hdu._data_offset + hdu._data_size, os.SEEK_SET)\n",
      "  File \"/pkg/linux/anaconda-20191122/anaconda3/lib/python3.7/multiprocessing/pool.py\", line 121, in worker\n",
      "    result = (True, func(*args, **kwds))\n",
      "  File \"/pkg/linux/anaconda-20191122/anaconda3/lib/python3.7/multiprocessing/pool.py\", line 121, in worker\n",
      "    result = (True, func(*args, **kwds))\n",
      "\n",
      "During handling of the above exception, another exception occurred:\n",
      "\n",
      "  File \"/pkg/linux/anaconda-20191122/anaconda3/lib/python3.7/multiprocessing/pool.py\", line 44, in mapstar\n",
      "    return list(map(*args))\n",
      "  File \"/pkg/linux/anaconda-20191122/anaconda3/lib/python3.7/site-packages/astropy/io/fits/hdu/hdulist.py\", line 1139, in _read_next_hdu\n",
      "    hdu = _BaseHDU.readfrom(fileobj, **kwargs)\n",
      "  File \"/pkg/linux/anaconda-20191122/anaconda3/lib/python3.7/multiprocessing/process.py\", line 297, in _bootstrap\n",
      "    self.run()\n",
      "  File \"/pkg/linux/anaconda-20191122/anaconda3/lib/python3.7/site-packages/astropy/io/fits/hdu/hdulist.py\", line 300, in __getitem__\n",
      "    self._positive_index_of(key))\n",
      "  File \"/pkg/linux/anaconda-20191122/anaconda3/lib/python3.7/multiprocessing/pool.py\", line 44, in mapstar\n",
      "    return list(map(*args))\n",
      "  File \"/pkg/linux/anaconda-20191122/anaconda3/lib/python3.7/site-packages/astropy/io/fits/hdu/hdulist.py\", line 1096, in _try_while_unread_hdus\n",
      "    return func(*args, **kwargs)\n",
      "  File \"/pkg/linux/anaconda-20191122/anaconda3/lib/python3.7/site-packages/astropy/io/fits/file.py\", line 374, in seek\n",
      "    self._file.seek(offset, whence)\n",
      "  File \"/pkg/linux/anaconda-20191122/anaconda3/lib/python3.7/site-packages/astropy/io/fits/hdu/hdulist.py\", line 1096, in _try_while_unread_hdus\n",
      "    return func(*args, **kwargs)\n",
      "  File \"/pkg/linux/anaconda-20191122/anaconda3/lib/python3.7/multiprocessing/pool.py\", line 44, in mapstar\n",
      "    return list(map(*args))\n",
      "Traceback (most recent call last):\n",
      "  File \"/home/u5708159/python/Modules/spaxelsleuth/loaddata/sami.py\", line 377, in _process_gals\n",
      "    var_cube_R = hdulist_R_cube[1].data\n",
      "  File \"/pkg/linux/anaconda-20191122/anaconda3/lib/python3.7/site-packages/astropy/io/fits/hdu/hdulist.py\", line 1098, in _try_while_unread_hdus\n",
      "    if self._read_next_hdu():\n",
      "KeyboardInterrupt\n",
      "  File \"/pkg/linux/anaconda-20191122/anaconda3/lib/python3.7/site-packages/astropy/io/fits/hdu/base.py\", line 332, in readfrom\n",
      "    fileobj.seek(hdu._data_offset + hdu._data_size, os.SEEK_SET)\n",
      "  File \"/pkg/linux/anaconda-20191122/anaconda3/lib/python3.7/multiprocessing/process.py\", line 99, in run\n",
      "    self._target(*self._args, **self._kwargs)\n",
      "  File \"/pkg/linux/anaconda-20191122/anaconda3/lib/python3.7/multiprocessing/process.py\", line 297, in _bootstrap\n",
      "    self.run()\n",
      "  File \"/pkg/linux/anaconda-20191122/anaconda3/lib/python3.7/multiprocessing/pool.py\", line 121, in worker\n",
      "    result = (True, func(*args, **kwds))\n",
      "  File \"/pkg/linux/anaconda-20191122/anaconda3/lib/python3.7/site-packages/astropy/io/fits/hdu/hdulist.py\", line 1139, in _read_next_hdu\n",
      "    hdu = _BaseHDU.readfrom(fileobj, **kwargs)\n",
      "  File \"/home/u5708159/python/Modules/spaxelsleuth/loaddata/sami.py\", line 377, in _process_gals\n",
      "    var_cube_R = hdulist_R_cube[1].data\n",
      "  File \"/pkg/linux/anaconda-20191122/anaconda3/lib/python3.7/gzip.py\", line 368, in seek\n",
      "    return self._buffer.seek(offset, whence)\n",
      "IndexError: list index out of range\n",
      "  File \"/pkg/linux/anaconda-20191122/anaconda3/lib/python3.7/site-packages/astropy/io/fits/file.py\", line 374, in seek\n",
      "    self._file.seek(offset, whence)\n",
      "  File \"/pkg/linux/anaconda-20191122/anaconda3/lib/python3.7/site-packages/astropy/io/fits/hdu/hdulist.py\", line 300, in __getitem__\n",
      "    self._positive_index_of(key))\n",
      "  File \"/pkg/linux/anaconda-20191122/anaconda3/lib/python3.7/site-packages/astropy/io/fits/hdu/base.py\", line 332, in readfrom\n",
      "    fileobj.seek(hdu._data_offset + hdu._data_size, os.SEEK_SET)\n",
      "  File \"/pkg/linux/anaconda-20191122/anaconda3/lib/python3.7/site-packages/astropy/io/fits/hdu/hdulist.py\", line 300, in __getitem__\n",
      "    self._positive_index_of(key))\n",
      "  File \"/pkg/linux/anaconda-20191122/anaconda3/lib/python3.7/multiprocessing/pool.py\", line 44, in mapstar\n",
      "    return list(map(*args))\n",
      "\n",
      "During handling of the above exception, another exception occurred:\n",
      "\n",
      "  File \"/pkg/linux/anaconda-20191122/anaconda3/lib/python3.7/site-packages/astropy/io/fits/hdu/hdulist.py\", line 1098, in _try_while_unread_hdus\n",
      "    if self._read_next_hdu():\n",
      "  File \"/pkg/linux/anaconda-20191122/anaconda3/lib/python3.7/site-packages/astropy/io/fits/hdu/hdulist.py\", line 1098, in _try_while_unread_hdus\n",
      "    if self._read_next_hdu():\n",
      "  File \"/home/u5708159/python/Modules/spaxelsleuth/loaddata/sami.py\", line 377, in _process_gals\n",
      "    var_cube_R = hdulist_R_cube[1].data\n",
      "Traceback (most recent call last):\n",
      "  File \"/pkg/linux/anaconda-20191122/anaconda3/lib/python3.7/site-packages/astropy/io/fits/hdu/base.py\", line 332, in readfrom\n",
      "    fileobj.seek(hdu._data_offset + hdu._data_size, os.SEEK_SET)\n",
      "  File \"/pkg/linux/anaconda-20191122/anaconda3/lib/python3.7/site-packages/astropy/io/fits/file.py\", line 374, in seek\n",
      "    self._file.seek(offset, whence)\n",
      "  File \"/pkg/linux/anaconda-20191122/anaconda3/lib/python3.7/site-packages/astropy/io/fits/hdu/hdulist.py\", line 1139, in _read_next_hdu\n",
      "    hdu = _BaseHDU.readfrom(fileobj, **kwargs)\n",
      "  File \"/pkg/linux/anaconda-20191122/anaconda3/lib/python3.7/multiprocessing/process.py\", line 297, in _bootstrap\n",
      "    self.run()\n",
      "  File \"/pkg/linux/anaconda-20191122/anaconda3/lib/python3.7/gzip.py\", line 368, in seek\n",
      "    return self._buffer.seek(offset, whence)\n",
      "  File \"/home/u5708159/python/Modules/spaxelsleuth/loaddata/sami.py\", line 376, in _process_gals\n",
      "    data_cube_R = hdulist_R_cube[0].data\n",
      "  File \"/pkg/linux/anaconda-20191122/anaconda3/lib/python3.7/site-packages/astropy/io/fits/hdu/hdulist.py\", line 300, in __getitem__\n",
      "    self._positive_index_of(key))\n",
      "  File \"/pkg/linux/anaconda-20191122/anaconda3/lib/python3.7/site-packages/astropy/io/fits/file.py\", line 374, in seek\n",
      "    self._file.seek(offset, whence)\n",
      "  File \"/pkg/linux/anaconda-20191122/anaconda3/lib/python3.7/site-packages/astropy/utils/decorators.py\", line 744, in __get__\n",
      "    val = self.fget(obj)\n",
      "Traceback (most recent call last):\n",
      "  File \"/pkg/linux/anaconda-20191122/anaconda3/lib/python3.7/site-packages/astropy/io/fits/hdu/hdulist.py\", line 300, in __getitem__\n",
      "    self._positive_index_of(key))\n",
      "  File \"/pkg/linux/anaconda-20191122/anaconda3/lib/python3.7/gzip.py\", line 368, in seek\n",
      "    return self._buffer.seek(offset, whence)\n",
      "  File \"/pkg/linux/anaconda-20191122/anaconda3/lib/python3.7/gzip.py\", line 368, in seek\n",
      "    return self._buffer.seek(offset, whence)\n",
      "  File \"/pkg/linux/anaconda-20191122/anaconda3/lib/python3.7/_compression.py\", line 143, in seek\n",
      "    data = self.read(min(io.DEFAULT_BUFFER_SIZE, offset))\n",
      "  File \"/pkg/linux/anaconda-20191122/anaconda3/lib/python3.7/multiprocessing/process.py\", line 297, in _bootstrap\n",
      "    self.run()\n",
      "  File \"/pkg/linux/anaconda-20191122/anaconda3/lib/python3.7/site-packages/astropy/io/fits/hdu/hdulist.py\", line 1098, in _try_while_unread_hdus\n",
      "    if self._read_next_hdu():\n",
      "  File \"/pkg/linux/anaconda-20191122/anaconda3/lib/python3.7/_compression.py\", line 143, in seek\n",
      "    data = self.read(min(io.DEFAULT_BUFFER_SIZE, offset))\n"
     ]
    },
    {
     "name": "stderr",
     "output_type": "stream",
     "text": [
      "  File \"/pkg/linux/anaconda-20191122/anaconda3/lib/python3.7/_compression.py\", line 143, in seek\n",
      "    data = self.read(min(io.DEFAULT_BUFFER_SIZE, offset))\n",
      "IndexError: list index out of range\n",
      "  File \"/pkg/linux/anaconda-20191122/anaconda3/lib/python3.7/site-packages/astropy/io/fits/file.py\", line 374, in seek\n",
      "    self._file.seek(offset, whence)\n",
      "  File \"/pkg/linux/anaconda-20191122/anaconda3/lib/python3.7/multiprocessing/process.py\", line 99, in run\n",
      "    self._target(*self._args, **self._kwargs)\n",
      "  File \"/pkg/linux/anaconda-20191122/anaconda3/lib/python3.7/gzip.py\", line 368, in seek\n",
      "    return self._buffer.seek(offset, whence)\n",
      "  File \"/pkg/linux/anaconda-20191122/anaconda3/lib/python3.7/gzip.py\", line 469, in read\n",
      "    buf = self._fp.read(io.DEFAULT_BUFFER_SIZE)\n",
      "\n",
      "During handling of the above exception, another exception occurred:\n",
      "\n",
      "  File \"/pkg/linux/anaconda-20191122/anaconda3/lib/python3.7/_compression.py\", line 143, in seek\n",
      "    data = self.read(min(io.DEFAULT_BUFFER_SIZE, offset))\n",
      "  File \"/pkg/linux/anaconda-20191122/anaconda3/lib/python3.7/gzip.py\", line 471, in read\n",
      "    uncompress = self._decompressor.decompress(buf, size)\n",
      "  File \"/pkg/linux/anaconda-20191122/anaconda3/lib/python3.7/multiprocessing/process.py\", line 99, in run\n",
      "    self._target(*self._args, **self._kwargs)\n",
      "  File \"/pkg/linux/anaconda-20191122/anaconda3/lib/python3.7/site-packages/astropy/io/fits/hdu/hdulist.py\", line 1139, in _read_next_hdu\n",
      "    hdu = _BaseHDU.readfrom(fileobj, **kwargs)\n",
      "  File \"/pkg/linux/anaconda-20191122/anaconda3/lib/python3.7/_compression.py\", line 143, in seek\n",
      "    data = self.read(min(io.DEFAULT_BUFFER_SIZE, offset))\n",
      "Traceback (most recent call last):\n",
      "KeyboardInterrupt\n",
      "  File \"/pkg/linux/anaconda-20191122/anaconda3/lib/python3.7/gzip.py\", line 485, in read\n",
      "    self._add_read_data( uncompress )\n",
      "  File \"/pkg/linux/anaconda-20191122/anaconda3/lib/python3.7/multiprocessing/pool.py\", line 121, in worker\n",
      "    result = (True, func(*args, **kwds))\n",
      "  File \"/pkg/linux/anaconda-20191122/anaconda3/lib/python3.7/site-packages/astropy/io/fits/hdu/image.py\", line 230, in data\n",
      "    data = self._get_scaled_image_data(self._data_offset, self.shape)\n",
      "  File \"/pkg/linux/anaconda-20191122/anaconda3/lib/python3.7/site-packages/astropy/io/fits/hdu/hdulist.py\", line 1139, in _read_next_hdu\n",
      "    hdu = _BaseHDU.readfrom(fileobj, **kwargs)\n",
      "Process ForkPoolWorker-16:\n",
      "  File \"/pkg/linux/anaconda-20191122/anaconda3/lib/python3.7/gzip.py\", line 471, in read\n",
      "    uncompress = self._decompressor.decompress(buf, size)\n",
      "  File \"/pkg/linux/anaconda-20191122/anaconda3/lib/python3.7/gzip.py\", line 471, in read\n",
      "    uncompress = self._decompressor.decompress(buf, size)\n",
      "KeyboardInterrupt\n",
      "  File \"/pkg/linux/anaconda-20191122/anaconda3/lib/python3.7/gzip.py\", line 490, in _add_read_data\n",
      "    self._crc = zlib.crc32(data, self._crc)\n",
      "  File \"/pkg/linux/anaconda-20191122/anaconda3/lib/python3.7/multiprocessing/pool.py\", line 44, in mapstar\n",
      "    return list(map(*args))\n",
      "  File \"/pkg/linux/anaconda-20191122/anaconda3/lib/python3.7/site-packages/astropy/io/fits/hdu/image.py\", line 696, in _get_scaled_image_data\n",
      "    raw_data = self._get_raw_data(shape, code, offset)\n",
      "  File \"/pkg/linux/anaconda-20191122/anaconda3/lib/python3.7/site-packages/astropy/io/fits/hdu/base.py\", line 332, in readfrom\n",
      "    fileobj.seek(hdu._data_offset + hdu._data_size, os.SEEK_SET)\n",
      "  File \"/pkg/linux/anaconda-20191122/anaconda3/lib/python3.7/site-packages/astropy/io/fits/hdu/base.py\", line 332, in readfrom\n",
      "    fileobj.seek(hdu._data_offset + hdu._data_size, os.SEEK_SET)\n",
      "  File \"/pkg/linux/anaconda-20191122/anaconda3/lib/python3.7/multiprocessing/process.py\", line 297, in _bootstrap\n",
      "    self.run()\n",
      "KeyboardInterrupt\n",
      "KeyboardInterrupt\n",
      "  File \"/home/u5708159/python/Modules/spaxelsleuth/loaddata/sami.py\", line 377, in _process_gals\n",
      "    var_cube_R = hdulist_R_cube[1].data\n",
      "  File \"/pkg/linux/anaconda-20191122/anaconda3/lib/python3.7/gzip.py\", line 91, in read\n",
      "    self.file.read(size-self._length+read)\n",
      "  File \"/pkg/linux/anaconda-20191122/anaconda3/lib/python3.7/site-packages/astropy/io/fits/hdu/hdulist.py\", line 1098, in _try_while_unread_hdus\n",
      "    if self._read_next_hdu():\n",
      "  File \"/home/u5708159/python/Modules/spaxelsleuth/loaddata/sami.py\", line 377, in _process_gals\n",
      "    var_cube_R = hdulist_R_cube[1].data\n",
      "  File \"/pkg/linux/anaconda-20191122/anaconda3/lib/python3.7/multiprocessing/pool.py\", line 121, in worker\n",
      "    result = (True, func(*args, **kwds))\n",
      "  File \"/pkg/linux/anaconda-20191122/anaconda3/lib/python3.7/multiprocessing/process.py\", line 99, in run\n",
      "    self._target(*self._args, **self._kwargs)\n",
      "  File \"/pkg/linux/anaconda-20191122/anaconda3/lib/python3.7/multiprocessing/pool.py\", line 121, in worker\n",
      "    result = (True, func(*args, **kwds))\n",
      "  File \"/pkg/linux/anaconda-20191122/anaconda3/lib/python3.7/multiprocessing/pool.py\", line 44, in mapstar\n",
      "    return list(map(*args))\n",
      "  File \"/pkg/linux/anaconda-20191122/anaconda3/lib/python3.7/multiprocessing/process.py\", line 297, in _bootstrap\n",
      "    self.run()\n",
      "  File \"/pkg/linux/anaconda-20191122/anaconda3/lib/python3.7/site-packages/astropy/io/fits/hdu/hdulist.py\", line 1139, in _read_next_hdu\n",
      "    hdu = _BaseHDU.readfrom(fileobj, **kwargs)\n",
      "  File \"/pkg/linux/anaconda-20191122/anaconda3/lib/python3.7/multiprocessing/pool.py\", line 44, in mapstar\n",
      "    return list(map(*args))\n",
      "  File \"/pkg/linux/anaconda-20191122/anaconda3/lib/python3.7/site-packages/astropy/io/fits/hdu/hdulist.py\", line 300, in __getitem__\n",
      "    self._positive_index_of(key))\n",
      "KeyboardInterrupt\n",
      "  File \"/home/u5708159/python/Modules/spaxelsleuth/loaddata/sami.py\", line 377, in _process_gals\n",
      "    var_cube_R = hdulist_R_cube[1].data\n",
      "  File \"/pkg/linux/anaconda-20191122/anaconda3/lib/python3.7/multiprocessing/process.py\", line 99, in run\n",
      "    self._target(*self._args, **self._kwargs)\n",
      "  File \"/pkg/linux/anaconda-20191122/anaconda3/lib/python3.7/multiprocessing/pool.py\", line 44, in mapstar\n",
      "    return list(map(*args))\n",
      "  File \"/pkg/linux/anaconda-20191122/anaconda3/lib/python3.7/site-packages/astropy/io/fits/hdu/hdulist.py\", line 1098, in _try_while_unread_hdus\n",
      "    if self._read_next_hdu():\n",
      "  File \"/pkg/linux/anaconda-20191122/anaconda3/lib/python3.7/site-packages/astropy/io/fits/hdu/base.py\", line 332, in readfrom\n",
      "    fileobj.seek(hdu._data_offset + hdu._data_size, os.SEEK_SET)\n",
      "  File \"/pkg/linux/anaconda-20191122/anaconda3/lib/python3.7/multiprocessing/pool.py\", line 121, in worker\n",
      "    result = (True, func(*args, **kwds))\n",
      "  File \"/home/u5708159/python/Modules/spaxelsleuth/loaddata/sami.py\", line 377, in _process_gals\n",
      "    var_cube_R = hdulist_R_cube[1].data\n",
      "  File \"/pkg/linux/anaconda-20191122/anaconda3/lib/python3.7/site-packages/astropy/io/fits/file.py\", line 374, in seek\n",
      "    self._file.seek(offset, whence)\n",
      "  File \"/pkg/linux/anaconda-20191122/anaconda3/lib/python3.7/site-packages/astropy/io/fits/hdu/hdulist.py\", line 1139, in _read_next_hdu\n",
      "    hdu = _BaseHDU.readfrom(fileobj, **kwargs)\n",
      "  File \"/pkg/linux/anaconda-20191122/anaconda3/lib/python3.7/multiprocessing/process.py\", line 99, in run\n",
      "    self._target(*self._args, **self._kwargs)\n",
      "  File \"/pkg/linux/anaconda-20191122/anaconda3/lib/python3.7/site-packages/astropy/io/fits/hdu/hdulist.py\", line 300, in __getitem__\n",
      "    self._positive_index_of(key))\n",
      "  File \"/home/u5708159/python/Modules/spaxelsleuth/loaddata/sami.py\", line 360, in _process_gals\n",
      "    var_cube_B_Hz2 = var_cube_B * (lambda_vals_A[:, None, None]**2 / (constants.c * 1e10))**2\n",
      "Process ForkPoolWorker-19:\n",
      "  File \"/pkg/linux/anaconda-20191122/anaconda3/lib/python3.7/multiprocessing/pool.py\", line 121, in worker\n",
      "    result = (True, func(*args, **kwds))\n",
      "  File \"/pkg/linux/anaconda-20191122/anaconda3/lib/python3.7/site-packages/astropy/io/fits/file.py\", line 374, in seek\n",
      "    self._file.seek(offset, whence)\n",
      "  File \"/pkg/linux/anaconda-20191122/anaconda3/lib/python3.7/site-packages/astropy/io/fits/hdu/hdulist.py\", line 1098, in _try_while_unread_hdus\n",
      "    if self._read_next_hdu():\n",
      "Process ForkPoolWorker-5:\n",
      "KeyboardInterrupt\n",
      "  File \"/pkg/linux/anaconda-20191122/anaconda3/lib/python3.7/multiprocessing/pool.py\", line 44, in mapstar\n",
      "    return list(map(*args))\n",
      "  File \"/pkg/linux/anaconda-20191122/anaconda3/lib/python3.7/site-packages/astropy/io/fits/hdu/hdulist.py\", line 1139, in _read_next_hdu\n",
      "    hdu = _BaseHDU.readfrom(fileobj, **kwargs)\n"
     ]
    },
    {
     "name": "stderr",
     "output_type": "stream",
     "text": [
      "  File \"/pkg/linux/anaconda-20191122/anaconda3/lib/python3.7/gzip.py\", line 368, in seek\n",
      "    return self._buffer.seek(offset, whence)\n",
      "  File \"/home/u5708159/python/Modules/spaxelsleuth/loaddata/sami.py\", line 377, in _process_gals\n",
      "    var_cube_R = hdulist_R_cube[1].data\n",
      "  File \"/pkg/linux/anaconda-20191122/anaconda3/lib/python3.7/site-packages/astropy/io/fits/hdu/base.py\", line 332, in readfrom\n",
      "    fileobj.seek(hdu._data_offset + hdu._data_size, os.SEEK_SET)\n",
      "  File \"/pkg/linux/anaconda-20191122/anaconda3/lib/python3.7/site-packages/astropy/io/fits/hdu/base.py\", line 508, in _get_raw_data\n",
      "    return self._file.readarray(offset=offset, dtype=code, shape=shape)\n",
      "  File \"/pkg/linux/anaconda-20191122/anaconda3/lib/python3.7/_compression.py\", line 143, in seek\n",
      "    data = self.read(min(io.DEFAULT_BUFFER_SIZE, offset))\n",
      "  File \"/pkg/linux/anaconda-20191122/anaconda3/lib/python3.7/site-packages/astropy/io/fits/hdu/hdulist.py\", line 300, in __getitem__\n",
      "    self._positive_index_of(key))\n",
      "  File \"/pkg/linux/anaconda-20191122/anaconda3/lib/python3.7/site-packages/astropy/io/fits/file.py\", line 374, in seek\n",
      "    self._file.seek(offset, whence)\n",
      "  File \"/pkg/linux/anaconda-20191122/anaconda3/lib/python3.7/gzip.py\", line 485, in read\n",
      "    self._add_read_data( uncompress )\n",
      "  File \"/pkg/linux/anaconda-20191122/anaconda3/lib/python3.7/site-packages/astropy/io/fits/file.py\", line 338, in readarray\n",
      "    data = _array_from_file(self._file, dtype, count)\n",
      "  File \"/pkg/linux/anaconda-20191122/anaconda3/lib/python3.7/gzip.py\", line 368, in seek\n",
      "    return self._buffer.seek(offset, whence)\n",
      "  File \"/pkg/linux/anaconda-20191122/anaconda3/lib/python3.7/site-packages/astropy/io/fits/hdu/hdulist.py\", line 1098, in _try_while_unread_hdus\n",
      "    if self._read_next_hdu():\n",
      "Traceback (most recent call last):\n",
      "  File \"/pkg/linux/anaconda-20191122/anaconda3/lib/python3.7/site-packages/astropy/io/fits/hdu/base.py\", line 332, in readfrom\n",
      "    fileobj.seek(hdu._data_offset + hdu._data_size, os.SEEK_SET)\n",
      "  File \"/pkg/linux/anaconda-20191122/anaconda3/lib/python3.7/site-packages/astropy/io/fits/hdu/hdulist.py\", line 300, in __getitem__\n",
      "    self._positive_index_of(key))\n",
      "  File \"/pkg/linux/anaconda-20191122/anaconda3/lib/python3.7/gzip.py\", line 490, in _add_read_data\n",
      "    self._crc = zlib.crc32(data, self._crc)\n",
      "Traceback (most recent call last):\n",
      "  File \"/pkg/linux/anaconda-20191122/anaconda3/lib/python3.7/site-packages/astropy/io/fits/util.py\", line 597, in _array_from_file\n",
      "    array = array.copy()\n",
      "  File \"/pkg/linux/anaconda-20191122/anaconda3/lib/python3.7/site-packages/astropy/io/fits/hdu/hdulist.py\", line 1139, in _read_next_hdu\n",
      "    hdu = _BaseHDU.readfrom(fileobj, **kwargs)\n",
      "  File \"/pkg/linux/anaconda-20191122/anaconda3/lib/python3.7/site-packages/astropy/io/fits/hdu/hdulist.py\", line 1098, in _try_while_unread_hdus\n",
      "    if self._read_next_hdu():\n",
      "  File \"/pkg/linux/anaconda-20191122/anaconda3/lib/python3.7/site-packages/astropy/io/fits/file.py\", line 374, in seek\n",
      "    self._file.seek(offset, whence)\n",
      "KeyboardInterrupt\n",
      "  File \"/pkg/linux/anaconda-20191122/anaconda3/lib/python3.7/site-packages/astropy/io/fits/hdu/base.py\", line 332, in readfrom\n",
      "    fileobj.seek(hdu._data_offset + hdu._data_size, os.SEEK_SET)\n",
      "  File \"/pkg/linux/anaconda-20191122/anaconda3/lib/python3.7/multiprocessing/process.py\", line 297, in _bootstrap\n",
      "    self.run()\n",
      "  File \"/pkg/linux/anaconda-20191122/anaconda3/lib/python3.7/gzip.py\", line 368, in seek\n",
      "    return self._buffer.seek(offset, whence)\n",
      "  File \"/pkg/linux/anaconda-20191122/anaconda3/lib/python3.7/site-packages/astropy/io/fits/file.py\", line 374, in seek\n",
      "    self._file.seek(offset, whence)\n",
      "  File \"/pkg/linux/anaconda-20191122/anaconda3/lib/python3.7/multiprocessing/process.py\", line 297, in _bootstrap\n",
      "    self.run()\n"
     ]
    },
    {
     "ename": "KeyboardInterrupt",
     "evalue": "",
     "output_type": "error",
     "traceback": [
      "\u001b[0;31m---------------------------------------------------------------------------\u001b[0m",
      "\u001b[0;31mKeyboardInterrupt\u001b[0m                         Traceback (most recent call last)",
      "\u001b[0;32m<ipython-input-2-dfb734cb86c8>\u001b[0m in \u001b[0;36m<module>\u001b[0;34m\u001b[0m\n\u001b[1;32m      1\u001b[0m \u001b[0;32mfrom\u001b[0m \u001b[0mspaxelsleuth\u001b[0m\u001b[0;34m.\u001b[0m\u001b[0mloaddata\u001b[0m\u001b[0;34m.\u001b[0m\u001b[0msami\u001b[0m \u001b[0;32mimport\u001b[0m \u001b[0mmake_sami_df\u001b[0m\u001b[0;34m\u001b[0m\u001b[0;34m\u001b[0m\u001b[0m\n\u001b[0;32m----> 2\u001b[0;31m \u001b[0mmake_sami_df\u001b[0m\u001b[0;34m(\u001b[0m\u001b[0mncomponents\u001b[0m\u001b[0;34m=\u001b[0m\u001b[0;34m\"recom\"\u001b[0m\u001b[0;34m,\u001b[0m \u001b[0mbin_type\u001b[0m\u001b[0;34m=\u001b[0m\u001b[0;34m\"default\"\u001b[0m\u001b[0;34m,\u001b[0m \u001b[0meline_SNR_min\u001b[0m\u001b[0;34m=\u001b[0m\u001b[0;36m5\u001b[0m\u001b[0;34m,\u001b[0m \u001b[0mdebug\u001b[0m\u001b[0;34m=\u001b[0m\u001b[0mDEBUG\u001b[0m\u001b[0;34m)\u001b[0m\u001b[0;34m\u001b[0m\u001b[0;34m\u001b[0m\u001b[0m\n\u001b[0m",
      "\u001b[0;32m~/python/Modules/spaxelsleuth/loaddata/sami.py\u001b[0m in \u001b[0;36mmake_sami_df\u001b[0;34m(bin_type, ncomponents, line_flux_SNR_cut, eline_SNR_min, vgrad_cut, sigma_gas_SNR_cut, sigma_gas_SNR_min, line_amplitude_SNR_cut, flux_fraction_cut, stekin_cut, met_diagnostic_list, logU, eline_list, nthreads_max, debug)\u001b[0m\n\u001b[1;32m    888\u001b[0m         \u001b[0mprint\u001b[0m\u001b[0;34m(\u001b[0m\u001b[0;34mf\"{status_str}: Beginning pool...\"\u001b[0m\u001b[0;34m)\u001b[0m\u001b[0;34m\u001b[0m\u001b[0;34m\u001b[0m\u001b[0m\n\u001b[1;32m    889\u001b[0m         \u001b[0mpool\u001b[0m \u001b[0;34m=\u001b[0m \u001b[0mmultiprocessing\u001b[0m\u001b[0;34m.\u001b[0m\u001b[0mPool\u001b[0m\u001b[0;34m(\u001b[0m\u001b[0mmin\u001b[0m\u001b[0;34m(\u001b[0m\u001b[0;34m[\u001b[0m\u001b[0mnthreads_max\u001b[0m\u001b[0;34m,\u001b[0m \u001b[0mlen\u001b[0m\u001b[0;34m(\u001b[0m\u001b[0mgal_ids_dq_cut\u001b[0m\u001b[0;34m)\u001b[0m\u001b[0;34m]\u001b[0m\u001b[0;34m)\u001b[0m\u001b[0;34m)\u001b[0m\u001b[0;34m\u001b[0m\u001b[0;34m\u001b[0m\u001b[0m\n\u001b[0;32m--> 890\u001b[0;31m         \u001b[0mres_list\u001b[0m \u001b[0;34m=\u001b[0m \u001b[0mnp\u001b[0m\u001b[0;34m.\u001b[0m\u001b[0marray\u001b[0m\u001b[0;34m(\u001b[0m\u001b[0;34m(\u001b[0m\u001b[0mpool\u001b[0m\u001b[0;34m.\u001b[0m\u001b[0mmap\u001b[0m\u001b[0;34m(\u001b[0m\u001b[0m_process_gals\u001b[0m\u001b[0;34m,\u001b[0m \u001b[0margs_list\u001b[0m\u001b[0;34m)\u001b[0m\u001b[0;34m)\u001b[0m\u001b[0;34m)\u001b[0m\u001b[0;34m\u001b[0m\u001b[0;34m\u001b[0m\u001b[0m\n\u001b[0m\u001b[1;32m    891\u001b[0m         \u001b[0mpool\u001b[0m\u001b[0;34m.\u001b[0m\u001b[0mclose\u001b[0m\u001b[0;34m(\u001b[0m\u001b[0;34m)\u001b[0m\u001b[0;34m\u001b[0m\u001b[0;34m\u001b[0m\u001b[0m\n\u001b[1;32m    892\u001b[0m         \u001b[0mpool\u001b[0m\u001b[0;34m.\u001b[0m\u001b[0mjoin\u001b[0m\u001b[0;34m(\u001b[0m\u001b[0;34m)\u001b[0m\u001b[0;34m\u001b[0m\u001b[0;34m\u001b[0m\u001b[0m\n",
      "\u001b[0;32m/pkg/linux/anaconda-20191122/anaconda3/lib/python3.7/multiprocessing/pool.py\u001b[0m in \u001b[0;36mmap\u001b[0;34m(self, func, iterable, chunksize)\u001b[0m\n\u001b[1;32m    266\u001b[0m         \u001b[0;32min\u001b[0m \u001b[0ma\u001b[0m \u001b[0mlist\u001b[0m \u001b[0mthat\u001b[0m \u001b[0;32mis\u001b[0m \u001b[0mreturned\u001b[0m\u001b[0;34m.\u001b[0m\u001b[0;34m\u001b[0m\u001b[0;34m\u001b[0m\u001b[0m\n\u001b[1;32m    267\u001b[0m         '''\n\u001b[0;32m--> 268\u001b[0;31m         \u001b[0;32mreturn\u001b[0m \u001b[0mself\u001b[0m\u001b[0;34m.\u001b[0m\u001b[0m_map_async\u001b[0m\u001b[0;34m(\u001b[0m\u001b[0mfunc\u001b[0m\u001b[0;34m,\u001b[0m \u001b[0miterable\u001b[0m\u001b[0;34m,\u001b[0m \u001b[0mmapstar\u001b[0m\u001b[0;34m,\u001b[0m \u001b[0mchunksize\u001b[0m\u001b[0;34m)\u001b[0m\u001b[0;34m.\u001b[0m\u001b[0mget\u001b[0m\u001b[0;34m(\u001b[0m\u001b[0;34m)\u001b[0m\u001b[0;34m\u001b[0m\u001b[0;34m\u001b[0m\u001b[0m\n\u001b[0m\u001b[1;32m    269\u001b[0m \u001b[0;34m\u001b[0m\u001b[0m\n\u001b[1;32m    270\u001b[0m     \u001b[0;32mdef\u001b[0m \u001b[0mstarmap\u001b[0m\u001b[0;34m(\u001b[0m\u001b[0mself\u001b[0m\u001b[0;34m,\u001b[0m \u001b[0mfunc\u001b[0m\u001b[0;34m,\u001b[0m \u001b[0miterable\u001b[0m\u001b[0;34m,\u001b[0m \u001b[0mchunksize\u001b[0m\u001b[0;34m=\u001b[0m\u001b[0;32mNone\u001b[0m\u001b[0;34m)\u001b[0m\u001b[0;34m:\u001b[0m\u001b[0;34m\u001b[0m\u001b[0;34m\u001b[0m\u001b[0m\n",
      "\u001b[0;32m/pkg/linux/anaconda-20191122/anaconda3/lib/python3.7/multiprocessing/pool.py\u001b[0m in \u001b[0;36mget\u001b[0;34m(self, timeout)\u001b[0m\n\u001b[1;32m    649\u001b[0m \u001b[0;34m\u001b[0m\u001b[0m\n\u001b[1;32m    650\u001b[0m     \u001b[0;32mdef\u001b[0m \u001b[0mget\u001b[0m\u001b[0;34m(\u001b[0m\u001b[0mself\u001b[0m\u001b[0;34m,\u001b[0m \u001b[0mtimeout\u001b[0m\u001b[0;34m=\u001b[0m\u001b[0;32mNone\u001b[0m\u001b[0;34m)\u001b[0m\u001b[0;34m:\u001b[0m\u001b[0;34m\u001b[0m\u001b[0;34m\u001b[0m\u001b[0m\n\u001b[0;32m--> 651\u001b[0;31m         \u001b[0mself\u001b[0m\u001b[0;34m.\u001b[0m\u001b[0mwait\u001b[0m\u001b[0;34m(\u001b[0m\u001b[0mtimeout\u001b[0m\u001b[0;34m)\u001b[0m\u001b[0;34m\u001b[0m\u001b[0;34m\u001b[0m\u001b[0m\n\u001b[0m\u001b[1;32m    652\u001b[0m         \u001b[0;32mif\u001b[0m \u001b[0;32mnot\u001b[0m \u001b[0mself\u001b[0m\u001b[0;34m.\u001b[0m\u001b[0mready\u001b[0m\u001b[0;34m(\u001b[0m\u001b[0;34m)\u001b[0m\u001b[0;34m:\u001b[0m\u001b[0;34m\u001b[0m\u001b[0;34m\u001b[0m\u001b[0m\n\u001b[1;32m    653\u001b[0m             \u001b[0;32mraise\u001b[0m \u001b[0mTimeoutError\u001b[0m\u001b[0;34m\u001b[0m\u001b[0;34m\u001b[0m\u001b[0m\n",
      "\u001b[0;32m/pkg/linux/anaconda-20191122/anaconda3/lib/python3.7/multiprocessing/pool.py\u001b[0m in \u001b[0;36mwait\u001b[0;34m(self, timeout)\u001b[0m\n\u001b[1;32m    646\u001b[0m \u001b[0;34m\u001b[0m\u001b[0m\n\u001b[1;32m    647\u001b[0m     \u001b[0;32mdef\u001b[0m \u001b[0mwait\u001b[0m\u001b[0;34m(\u001b[0m\u001b[0mself\u001b[0m\u001b[0;34m,\u001b[0m \u001b[0mtimeout\u001b[0m\u001b[0;34m=\u001b[0m\u001b[0;32mNone\u001b[0m\u001b[0;34m)\u001b[0m\u001b[0;34m:\u001b[0m\u001b[0;34m\u001b[0m\u001b[0;34m\u001b[0m\u001b[0m\n\u001b[0;32m--> 648\u001b[0;31m         \u001b[0mself\u001b[0m\u001b[0;34m.\u001b[0m\u001b[0m_event\u001b[0m\u001b[0;34m.\u001b[0m\u001b[0mwait\u001b[0m\u001b[0;34m(\u001b[0m\u001b[0mtimeout\u001b[0m\u001b[0;34m)\u001b[0m\u001b[0;34m\u001b[0m\u001b[0;34m\u001b[0m\u001b[0m\n\u001b[0m\u001b[1;32m    649\u001b[0m \u001b[0;34m\u001b[0m\u001b[0m\n\u001b[1;32m    650\u001b[0m     \u001b[0;32mdef\u001b[0m \u001b[0mget\u001b[0m\u001b[0;34m(\u001b[0m\u001b[0mself\u001b[0m\u001b[0;34m,\u001b[0m \u001b[0mtimeout\u001b[0m\u001b[0;34m=\u001b[0m\u001b[0;32mNone\u001b[0m\u001b[0;34m)\u001b[0m\u001b[0;34m:\u001b[0m\u001b[0;34m\u001b[0m\u001b[0;34m\u001b[0m\u001b[0m\n",
      "\u001b[0;32m/pkg/linux/anaconda-20191122/anaconda3/lib/python3.7/threading.py\u001b[0m in \u001b[0;36mwait\u001b[0;34m(self, timeout)\u001b[0m\n\u001b[1;32m    550\u001b[0m             \u001b[0msignaled\u001b[0m \u001b[0;34m=\u001b[0m \u001b[0mself\u001b[0m\u001b[0;34m.\u001b[0m\u001b[0m_flag\u001b[0m\u001b[0;34m\u001b[0m\u001b[0;34m\u001b[0m\u001b[0m\n\u001b[1;32m    551\u001b[0m             \u001b[0;32mif\u001b[0m \u001b[0;32mnot\u001b[0m \u001b[0msignaled\u001b[0m\u001b[0;34m:\u001b[0m\u001b[0;34m\u001b[0m\u001b[0;34m\u001b[0m\u001b[0m\n\u001b[0;32m--> 552\u001b[0;31m                 \u001b[0msignaled\u001b[0m \u001b[0;34m=\u001b[0m \u001b[0mself\u001b[0m\u001b[0;34m.\u001b[0m\u001b[0m_cond\u001b[0m\u001b[0;34m.\u001b[0m\u001b[0mwait\u001b[0m\u001b[0;34m(\u001b[0m\u001b[0mtimeout\u001b[0m\u001b[0;34m)\u001b[0m\u001b[0;34m\u001b[0m\u001b[0;34m\u001b[0m\u001b[0m\n\u001b[0m\u001b[1;32m    553\u001b[0m             \u001b[0;32mreturn\u001b[0m \u001b[0msignaled\u001b[0m\u001b[0;34m\u001b[0m\u001b[0;34m\u001b[0m\u001b[0m\n\u001b[1;32m    554\u001b[0m \u001b[0;34m\u001b[0m\u001b[0m\n",
      "\u001b[0;32m/pkg/linux/anaconda-20191122/anaconda3/lib/python3.7/threading.py\u001b[0m in \u001b[0;36mwait\u001b[0;34m(self, timeout)\u001b[0m\n\u001b[1;32m    294\u001b[0m         \u001b[0;32mtry\u001b[0m\u001b[0;34m:\u001b[0m    \u001b[0;31m# restore state no matter what (e.g., KeyboardInterrupt)\u001b[0m\u001b[0;34m\u001b[0m\u001b[0;34m\u001b[0m\u001b[0m\n\u001b[1;32m    295\u001b[0m             \u001b[0;32mif\u001b[0m \u001b[0mtimeout\u001b[0m \u001b[0;32mis\u001b[0m \u001b[0;32mNone\u001b[0m\u001b[0;34m:\u001b[0m\u001b[0;34m\u001b[0m\u001b[0;34m\u001b[0m\u001b[0m\n\u001b[0;32m--> 296\u001b[0;31m                 \u001b[0mwaiter\u001b[0m\u001b[0;34m.\u001b[0m\u001b[0macquire\u001b[0m\u001b[0;34m(\u001b[0m\u001b[0;34m)\u001b[0m\u001b[0;34m\u001b[0m\u001b[0;34m\u001b[0m\u001b[0m\n\u001b[0m\u001b[1;32m    297\u001b[0m                 \u001b[0mgotit\u001b[0m \u001b[0;34m=\u001b[0m \u001b[0;32mTrue\u001b[0m\u001b[0;34m\u001b[0m\u001b[0;34m\u001b[0m\u001b[0m\n\u001b[1;32m    298\u001b[0m             \u001b[0;32melse\u001b[0m\u001b[0;34m:\u001b[0m\u001b[0;34m\u001b[0m\u001b[0;34m\u001b[0m\u001b[0m\n",
      "\u001b[0;31mKeyboardInterrupt\u001b[0m: "
     ]
    },
    {
     "name": "stderr",
     "output_type": "stream",
     "text": [
      "  File \"/pkg/linux/anaconda-20191122/anaconda3/lib/python3.7/_compression.py\", line 143, in seek\n",
      "    data = self.read(min(io.DEFAULT_BUFFER_SIZE, offset))\n",
      "KeyboardInterrupt\n",
      "  File \"/pkg/linux/anaconda-20191122/anaconda3/lib/python3.7/multiprocessing/process.py\", line 99, in run\n",
      "    self._target(*self._args, **self._kwargs)\n",
      "  File \"/pkg/linux/anaconda-20191122/anaconda3/lib/python3.7/_compression.py\", line 143, in seek\n",
      "    data = self.read(min(io.DEFAULT_BUFFER_SIZE, offset))\n",
      "  File \"/pkg/linux/anaconda-20191122/anaconda3/lib/python3.7/site-packages/astropy/io/fits/hdu/hdulist.py\", line 1139, in _read_next_hdu\n",
      "    hdu = _BaseHDU.readfrom(fileobj, **kwargs)\n",
      "  File \"/pkg/linux/anaconda-20191122/anaconda3/lib/python3.7/gzip.py\", line 471, in read\n",
      "    uncompress = self._decompressor.decompress(buf, size)\n",
      "  File \"/pkg/linux/anaconda-20191122/anaconda3/lib/python3.7/multiprocessing/pool.py\", line 121, in worker\n",
      "    result = (True, func(*args, **kwds))\n",
      "  File \"/pkg/linux/anaconda-20191122/anaconda3/lib/python3.7/site-packages/astropy/io/fits/hdu/base.py\", line 332, in readfrom\n",
      "    fileobj.seek(hdu._data_offset + hdu._data_size, os.SEEK_SET)\n",
      "  File \"/pkg/linux/anaconda-20191122/anaconda3/lib/python3.7/gzip.py\", line 471, in read\n",
      "    uncompress = self._decompressor.decompress(buf, size)\n",
      "  File \"/pkg/linux/anaconda-20191122/anaconda3/lib/python3.7/multiprocessing/pool.py\", line 44, in mapstar\n",
      "    return list(map(*args))\n",
      "  File \"/pkg/linux/anaconda-20191122/anaconda3/lib/python3.7/site-packages/astropy/io/fits/file.py\", line 374, in seek\n",
      "    self._file.seek(offset, whence)\n",
      "  File \"/pkg/linux/anaconda-20191122/anaconda3/lib/python3.7/gzip.py\", line 368, in seek\n",
      "    return self._buffer.seek(offset, whence)\n",
      "  File \"/pkg/linux/anaconda-20191122/anaconda3/lib/python3.7/multiprocessing/process.py\", line 99, in run\n",
      "    self._target(*self._args, **self._kwargs)\n",
      "  File \"/pkg/linux/anaconda-20191122/anaconda3/lib/python3.7/gzip.py\", line 368, in seek\n",
      "    return self._buffer.seek(offset, whence)\n",
      "KeyboardInterrupt\n",
      "  File \"/home/u5708159/python/Modules/spaxelsleuth/loaddata/sami.py\", line 376, in _process_gals\n",
      "    data_cube_R = hdulist_R_cube[0].data\n",
      "  File \"/pkg/linux/anaconda-20191122/anaconda3/lib/python3.7/gzip.py\", line 368, in seek\n",
      "    return self._buffer.seek(offset, whence)\n",
      "  File \"/pkg/linux/anaconda-20191122/anaconda3/lib/python3.7/multiprocessing/pool.py\", line 121, in worker\n",
      "    result = (True, func(*args, **kwds))\n",
      "  File \"/pkg/linux/anaconda-20191122/anaconda3/lib/python3.7/_compression.py\", line 143, in seek\n",
      "    data = self.read(min(io.DEFAULT_BUFFER_SIZE, offset))\n",
      "  File \"/pkg/linux/anaconda-20191122/anaconda3/lib/python3.7/_compression.py\", line 143, in seek\n",
      "    data = self.read(min(io.DEFAULT_BUFFER_SIZE, offset))\n",
      "KeyboardInterrupt\n",
      "  File \"/pkg/linux/anaconda-20191122/anaconda3/lib/python3.7/_compression.py\", line 143, in seek\n",
      "    data = self.read(min(io.DEFAULT_BUFFER_SIZE, offset))\n",
      "  File \"/pkg/linux/anaconda-20191122/anaconda3/lib/python3.7/multiprocessing/pool.py\", line 44, in mapstar\n",
      "    return list(map(*args))\n",
      "  File \"/pkg/linux/anaconda-20191122/anaconda3/lib/python3.7/site-packages/astropy/utils/decorators.py\", line 744, in __get__\n",
      "    val = self.fget(obj)\n",
      "  File \"/pkg/linux/anaconda-20191122/anaconda3/lib/python3.7/gzip.py\", line 471, in read\n",
      "    uncompress = self._decompressor.decompress(buf, size)\n",
      "  File \"/pkg/linux/anaconda-20191122/anaconda3/lib/python3.7/gzip.py\", line 471, in read\n",
      "    uncompress = self._decompressor.decompress(buf, size)\n",
      "  File \"/pkg/linux/anaconda-20191122/anaconda3/lib/python3.7/gzip.py\", line 471, in read\n",
      "    uncompress = self._decompressor.decompress(buf, size)\n",
      "  File \"/home/u5708159/python/Modules/spaxelsleuth/loaddata/sami.py\", line 376, in _process_gals\n",
      "    data_cube_R = hdulist_R_cube[0].data\n",
      "  File \"/pkg/linux/anaconda-20191122/anaconda3/lib/python3.7/site-packages/astropy/io/fits/hdu/image.py\", line 230, in data\n",
      "    data = self._get_scaled_image_data(self._data_offset, self.shape)\n",
      "KeyboardInterrupt\n",
      "KeyboardInterrupt\n",
      "KeyboardInterrupt\n",
      "  File \"/pkg/linux/anaconda-20191122/anaconda3/lib/python3.7/site-packages/astropy/utils/decorators.py\", line 744, in __get__\n",
      "    val = self.fget(obj)\n",
      "  File \"/pkg/linux/anaconda-20191122/anaconda3/lib/python3.7/site-packages/astropy/io/fits/hdu/image.py\", line 696, in _get_scaled_image_data\n",
      "    raw_data = self._get_raw_data(shape, code, offset)\n",
      "  File \"/pkg/linux/anaconda-20191122/anaconda3/lib/python3.7/site-packages/astropy/io/fits/hdu/image.py\", line 230, in data\n",
      "    data = self._get_scaled_image_data(self._data_offset, self.shape)\n",
      "  File \"/pkg/linux/anaconda-20191122/anaconda3/lib/python3.7/site-packages/astropy/io/fits/hdu/base.py\", line 508, in _get_raw_data\n",
      "    return self._file.readarray(offset=offset, dtype=code, shape=shape)\n",
      "  File \"/pkg/linux/anaconda-20191122/anaconda3/lib/python3.7/site-packages/astropy/io/fits/hdu/image.py\", line 696, in _get_scaled_image_data\n",
      "    raw_data = self._get_raw_data(shape, code, offset)\n",
      "Process ForkPoolWorker-18:\n",
      "  File \"/pkg/linux/anaconda-20191122/anaconda3/lib/python3.7/site-packages/astropy/io/fits/file.py\", line 338, in readarray\n",
      "    data = _array_from_file(self._file, dtype, count)\n",
      "  File \"/pkg/linux/anaconda-20191122/anaconda3/lib/python3.7/site-packages/astropy/io/fits/hdu/base.py\", line 508, in _get_raw_data\n",
      "    return self._file.readarray(offset=offset, dtype=code, shape=shape)\n",
      "  File \"/pkg/linux/anaconda-20191122/anaconda3/lib/python3.7/site-packages/astropy/io/fits/util.py\", line 593, in _array_from_file\n",
      "    s = infile.read(read_size)\n",
      "  File \"/pkg/linux/anaconda-20191122/anaconda3/lib/python3.7/site-packages/astropy/io/fits/file.py\", line 338, in readarray\n",
      "    data = _array_from_file(self._file, dtype, count)\n",
      "  File \"/pkg/linux/anaconda-20191122/anaconda3/lib/python3.7/gzip.py\", line 276, in read\n",
      "    return self._buffer.read(size)\n",
      "  File \"/pkg/linux/anaconda-20191122/anaconda3/lib/python3.7/site-packages/astropy/io/fits/util.py\", line 593, in _array_from_file\n",
      "    s = infile.read(read_size)\n",
      "  File \"/pkg/linux/anaconda-20191122/anaconda3/lib/python3.7/_compression.py\", line 68, in readinto\n",
      "    data = self.read(len(byte_view))\n",
      "  File \"/pkg/linux/anaconda-20191122/anaconda3/lib/python3.7/gzip.py\", line 276, in read\n",
      "    return self._buffer.read(size)\n",
      "  File \"/pkg/linux/anaconda-20191122/anaconda3/lib/python3.7/gzip.py\", line 471, in read\n",
      "    uncompress = self._decompressor.decompress(buf, size)\n",
      "  File \"/pkg/linux/anaconda-20191122/anaconda3/lib/python3.7/_compression.py\", line 68, in readinto\n",
      "    data = self.read(len(byte_view))\n",
      "KeyboardInterrupt\n",
      "  File \"/pkg/linux/anaconda-20191122/anaconda3/lib/python3.7/gzip.py\", line 471, in read\n",
      "    uncompress = self._decompressor.decompress(buf, size)\n",
      "KeyboardInterrupt\n",
      "Traceback (most recent call last):\n",
      "  File \"/pkg/linux/anaconda-20191122/anaconda3/lib/python3.7/multiprocessing/process.py\", line 297, in _bootstrap\n",
      "    self.run()\n",
      "  File \"/pkg/linux/anaconda-20191122/anaconda3/lib/python3.7/multiprocessing/process.py\", line 99, in run\n",
      "    self._target(*self._args, **self._kwargs)\n",
      "  File \"/pkg/linux/anaconda-20191122/anaconda3/lib/python3.7/multiprocessing/pool.py\", line 121, in worker\n",
      "    result = (True, func(*args, **kwds))\n",
      "  File \"/pkg/linux/anaconda-20191122/anaconda3/lib/python3.7/multiprocessing/pool.py\", line 44, in mapstar\n",
      "    return list(map(*args))\n",
      "  File \"/home/u5708159/python/Modules/spaxelsleuth/loaddata/sami.py\", line 376, in _process_gals\n",
      "    data_cube_R = hdulist_R_cube[0].data\n",
      "  File \"/pkg/linux/anaconda-20191122/anaconda3/lib/python3.7/site-packages/astropy/utils/decorators.py\", line 744, in __get__\n",
      "    val = self.fget(obj)\n",
      "  File \"/pkg/linux/anaconda-20191122/anaconda3/lib/python3.7/site-packages/astropy/io/fits/hdu/image.py\", line 230, in data\n",
      "    data = self._get_scaled_image_data(self._data_offset, self.shape)\n",
      "  File \"/pkg/linux/anaconda-20191122/anaconda3/lib/python3.7/site-packages/astropy/io/fits/hdu/image.py\", line 696, in _get_scaled_image_data\n",
      "    raw_data = self._get_raw_data(shape, code, offset)\n",
      "  File \"/pkg/linux/anaconda-20191122/anaconda3/lib/python3.7/site-packages/astropy/io/fits/hdu/base.py\", line 508, in _get_raw_data\n",
      "    return self._file.readarray(offset=offset, dtype=code, shape=shape)\n"
     ]
    },
    {
     "name": "stderr",
     "output_type": "stream",
     "text": [
      "  File \"/pkg/linux/anaconda-20191122/anaconda3/lib/python3.7/site-packages/astropy/io/fits/file.py\", line 338, in readarray\n",
      "    data = _array_from_file(self._file, dtype, count)\n",
      "  File \"/pkg/linux/anaconda-20191122/anaconda3/lib/python3.7/site-packages/astropy/io/fits/util.py\", line 593, in _array_from_file\n",
      "    s = infile.read(read_size)\n",
      "  File \"/pkg/linux/anaconda-20191122/anaconda3/lib/python3.7/gzip.py\", line 276, in read\n",
      "    return self._buffer.read(size)\n",
      "  File \"/pkg/linux/anaconda-20191122/anaconda3/lib/python3.7/_compression.py\", line 69, in readinto\n",
      "    byte_view[:len(data)] = data\n",
      "KeyboardInterrupt\n",
      "Process ForkPoolWorker-12:\n",
      "  File \"/pkg/linux/anaconda-20191122/anaconda3/lib/python3.7/site-packages/astropy/io/fits/hdu/base.py\", line 508, in _get_raw_data\n",
      "    return self._file.readarray(offset=offset, dtype=code, shape=shape)\n",
      "Traceback (most recent call last):\n",
      "  File \"/pkg/linux/anaconda-20191122/anaconda3/lib/python3.7/multiprocessing/process.py\", line 297, in _bootstrap\n",
      "    self.run()\n",
      "  File \"/pkg/linux/anaconda-20191122/anaconda3/lib/python3.7/multiprocessing/process.py\", line 99, in run\n",
      "    self._target(*self._args, **self._kwargs)\n",
      "  File \"/pkg/linux/anaconda-20191122/anaconda3/lib/python3.7/multiprocessing/pool.py\", line 121, in worker\n",
      "    result = (True, func(*args, **kwds))\n",
      "  File \"/pkg/linux/anaconda-20191122/anaconda3/lib/python3.7/multiprocessing/pool.py\", line 44, in mapstar\n",
      "    return list(map(*args))\n",
      "  File \"/home/u5708159/python/Modules/spaxelsleuth/loaddata/sami.py\", line 376, in _process_gals\n",
      "    data_cube_R = hdulist_R_cube[0].data\n",
      "  File \"/pkg/linux/anaconda-20191122/anaconda3/lib/python3.7/site-packages/astropy/utils/decorators.py\", line 744, in __get__\n",
      "    val = self.fget(obj)\n",
      "  File \"/pkg/linux/anaconda-20191122/anaconda3/lib/python3.7/site-packages/astropy/io/fits/hdu/image.py\", line 230, in data\n",
      "    data = self._get_scaled_image_data(self._data_offset, self.shape)\n",
      "  File \"/pkg/linux/anaconda-20191122/anaconda3/lib/python3.7/site-packages/astropy/io/fits/hdu/image.py\", line 696, in _get_scaled_image_data\n",
      "    raw_data = self._get_raw_data(shape, code, offset)\n",
      "  File \"/pkg/linux/anaconda-20191122/anaconda3/lib/python3.7/site-packages/astropy/io/fits/file.py\", line 338, in readarray\n",
      "    data = _array_from_file(self._file, dtype, count)\n",
      "Process ForkPoolWorker-10:\n",
      "  File \"/pkg/linux/anaconda-20191122/anaconda3/lib/python3.7/site-packages/astropy/io/fits/util.py\", line 593, in _array_from_file\n",
      "    s = infile.read(read_size)\n",
      "  File \"/pkg/linux/anaconda-20191122/anaconda3/lib/python3.7/gzip.py\", line 276, in read\n",
      "    return self._buffer.read(size)\n",
      "  File \"/pkg/linux/anaconda-20191122/anaconda3/lib/python3.7/_compression.py\", line 68, in readinto\n",
      "    data = self.read(len(byte_view))\n",
      "  File \"/pkg/linux/anaconda-20191122/anaconda3/lib/python3.7/gzip.py\", line 471, in read\n",
      "    uncompress = self._decompressor.decompress(buf, size)\n",
      "KeyboardInterrupt\n",
      "Traceback (most recent call last):\n",
      "  File \"/pkg/linux/anaconda-20191122/anaconda3/lib/python3.7/multiprocessing/process.py\", line 297, in _bootstrap\n",
      "    self.run()\n",
      "  File \"/pkg/linux/anaconda-20191122/anaconda3/lib/python3.7/multiprocessing/process.py\", line 99, in run\n",
      "    self._target(*self._args, **self._kwargs)\n",
      "  File \"/pkg/linux/anaconda-20191122/anaconda3/lib/python3.7/multiprocessing/pool.py\", line 121, in worker\n",
      "    result = (True, func(*args, **kwds))\n",
      "  File \"/pkg/linux/anaconda-20191122/anaconda3/lib/python3.7/multiprocessing/pool.py\", line 44, in mapstar\n",
      "    return list(map(*args))\n",
      "  File \"/home/u5708159/python/Modules/spaxelsleuth/loaddata/sami.py\", line 376, in _process_gals\n",
      "    data_cube_R = hdulist_R_cube[0].data\n",
      "  File \"/pkg/linux/anaconda-20191122/anaconda3/lib/python3.7/site-packages/astropy/utils/decorators.py\", line 744, in __get__\n",
      "    val = self.fget(obj)\n",
      "  File \"/pkg/linux/anaconda-20191122/anaconda3/lib/python3.7/site-packages/astropy/io/fits/hdu/image.py\", line 230, in data\n",
      "    data = self._get_scaled_image_data(self._data_offset, self.shape)\n",
      "  File \"/pkg/linux/anaconda-20191122/anaconda3/lib/python3.7/site-packages/astropy/io/fits/hdu/image.py\", line 696, in _get_scaled_image_data\n",
      "    raw_data = self._get_raw_data(shape, code, offset)\n",
      "  File \"/pkg/linux/anaconda-20191122/anaconda3/lib/python3.7/site-packages/astropy/io/fits/hdu/base.py\", line 508, in _get_raw_data\n",
      "    return self._file.readarray(offset=offset, dtype=code, shape=shape)\n",
      "  File \"/pkg/linux/anaconda-20191122/anaconda3/lib/python3.7/site-packages/astropy/io/fits/file.py\", line 338, in readarray\n",
      "    data = _array_from_file(self._file, dtype, count)\n",
      "  File \"/pkg/linux/anaconda-20191122/anaconda3/lib/python3.7/site-packages/astropy/io/fits/util.py\", line 593, in _array_from_file\n",
      "    s = infile.read(read_size)\n",
      "  File \"/pkg/linux/anaconda-20191122/anaconda3/lib/python3.7/gzip.py\", line 276, in read\n",
      "    return self._buffer.read(size)\n",
      "  File \"/pkg/linux/anaconda-20191122/anaconda3/lib/python3.7/_compression.py\", line 68, in readinto\n",
      "    data = self.read(len(byte_view))\n",
      "  File \"/pkg/linux/anaconda-20191122/anaconda3/lib/python3.7/gzip.py\", line 471, in read\n",
      "    uncompress = self._decompressor.decompress(buf, size)\n",
      "KeyboardInterrupt\n",
      "Process ForkPoolWorker-3:\n",
      "Traceback (most recent call last):\n",
      "  File \"/pkg/linux/anaconda-20191122/anaconda3/lib/python3.7/multiprocessing/process.py\", line 297, in _bootstrap\n",
      "    self.run()\n",
      "  File \"/pkg/linux/anaconda-20191122/anaconda3/lib/python3.7/multiprocessing/process.py\", line 99, in run\n",
      "    self._target(*self._args, **self._kwargs)\n",
      "  File \"/pkg/linux/anaconda-20191122/anaconda3/lib/python3.7/multiprocessing/pool.py\", line 121, in worker\n",
      "    result = (True, func(*args, **kwds))\n",
      "  File \"/pkg/linux/anaconda-20191122/anaconda3/lib/python3.7/multiprocessing/pool.py\", line 44, in mapstar\n",
      "    return list(map(*args))\n",
      "  File \"/home/u5708159/python/Modules/spaxelsleuth/loaddata/sami.py\", line 377, in _process_gals\n",
      "    var_cube_R = hdulist_R_cube[1].data\n",
      "  File \"/pkg/linux/anaconda-20191122/anaconda3/lib/python3.7/site-packages/astropy/utils/decorators.py\", line 744, in __get__\n",
      "    val = self.fget(obj)\n",
      "  File \"/pkg/linux/anaconda-20191122/anaconda3/lib/python3.7/site-packages/astropy/io/fits/hdu/image.py\", line 230, in data\n",
      "    data = self._get_scaled_image_data(self._data_offset, self.shape)\n",
      "  File \"/pkg/linux/anaconda-20191122/anaconda3/lib/python3.7/site-packages/astropy/io/fits/hdu/image.py\", line 696, in _get_scaled_image_data\n",
      "    raw_data = self._get_raw_data(shape, code, offset)\n",
      "  File \"/pkg/linux/anaconda-20191122/anaconda3/lib/python3.7/site-packages/astropy/io/fits/hdu/base.py\", line 508, in _get_raw_data\n",
      "    return self._file.readarray(offset=offset, dtype=code, shape=shape)\n",
      "  File \"/pkg/linux/anaconda-20191122/anaconda3/lib/python3.7/site-packages/astropy/io/fits/file.py\", line 337, in readarray\n",
      "    self._file.seek(offset)\n",
      "  File \"/pkg/linux/anaconda-20191122/anaconda3/lib/python3.7/gzip.py\", line 368, in seek\n",
      "    return self._buffer.seek(offset, whence)\n",
      "  File \"/pkg/linux/anaconda-20191122/anaconda3/lib/python3.7/_compression.py\", line 143, in seek\n",
      "    data = self.read(min(io.DEFAULT_BUFFER_SIZE, offset))\n",
      "  File \"/pkg/linux/anaconda-20191122/anaconda3/lib/python3.7/gzip.py\", line 471, in read\n",
      "    uncompress = self._decompressor.decompress(buf, size)\n",
      "KeyboardInterrupt\n"
     ]
    }
   ],
   "source": [
    "from spaxelsleuth.loaddata.sami import make_sami_df\n",
    "make_sami_df(ncomponents=\"recom\", bin_type=\"default\", eline_SNR_min=5, debug=DEBUG)\n"
   ]
  },
  {
   "cell_type": "markdown",
   "metadata": {},
   "source": [
    "### Load the SAMI DataFrame we just created\n",
    "Note that if `DEBUG == False`, loading the sample takes a few minutes - patience is a virtue!"
   ]
  },
  {
   "cell_type": "code",
   "execution_count": 3,
   "metadata": {},
   "outputs": [],
   "source": [
    "from spaxelsleuth.loaddata.sami import load_sami_df\n",
    "df = load_sami_df(ncomponents=\"recom\",\n",
    "                  bin_type=\"default\",\n",
    "                  eline_SNR_min=5,\n",
    "                  correct_extinction=True,\n",
    "                  debug=DEBUG)\n"
   ]
  },
  {
   "cell_type": "markdown",
   "metadata": {},
   "source": [
    "Let's have a look at some statistics:"
   ]
  },
  {
   "cell_type": "code",
   "execution_count": 5,
   "metadata": {},
   "outputs": [
    {
     "name": "stdout",
     "output_type": "stream",
     "text": [
      "There are 1066093 spaxels (37.81%) with 0 components as determined by LZCOMP\n",
      "There are 1649504 spaxels (58.50%) with 1 components as determined by LZCOMP\n",
      "There are 51023 spaxels (1.81%) with 2 components as determined by LZCOMP\n",
      "There are 53222 spaxels (1.89%) with 3 components as determined by LZCOMP\n"
     ]
    }
   ],
   "source": [
    "# Calculate the fraction of spaxels with different numbers of emission line components\n",
    "n_spaxels_tot = df.shape[0]\n",
    "for nn in range(4):\n",
    "    cond = df[\"Number of components (original)\"] == nn\n",
    "    n_spaxels = df[cond].shape[0]\n",
    "    print(f\"There are {n_spaxels} spaxels ({n_spaxels / n_spaxels_tot * 100:.2f}%) with {nn} components as determined by LZCOMP\")"
   ]
  },
  {
   "cell_type": "code",
   "execution_count": 7,
   "metadata": {},
   "outputs": [
    {
     "name": "stdout",
     "output_type": "stream",
     "text": [
      "There are 2549696 spaxels (90.42%) classified as Not classified\n",
      "There are 14057 spaxels (0.50%) classified as Ambiguous\n",
      "There are 3521 spaxels (0.12%) classified as LINER\n",
      "There are 231851 spaxels (8.22%) classified as SF\n",
      "There are 18280 spaxels (0.65%) classified as Composite\n",
      "There are 2437 spaxels (0.09%) classified as Seyfert\n"
     ]
    }
   ],
   "source": [
    "# Calculate the number of spaxels with different spectral classifications \n",
    "n_spaxels_tot = df.shape[0]\n",
    "spec_cats = df[\"BPT (total)\"].unique()  # List of spectral categories in the data set\n",
    "for spec_cat in spec_cats:\n",
    "    cond = df[\"BPT (total)\"] == spec_cat\n",
    "    n_spaxels = df[cond].shape[0]\n",
    "    print(f\"There are {n_spaxels} spaxels ({n_spaxels / n_spaxels_tot * 100:.2f}%) classified as {spec_cat}\")"
   ]
  },
  {
   "cell_type": "markdown",
   "metadata": {},
   "source": [
    "## Using `spaxelsleuth.plotting` to plot the whole SAMI sample \n",
    "--- \n",
    "In the below cells, we will demonstrate how to use various functions in `spaxelsleuth.plotting` to make different kinds of plots useful for analysing the entire SAMI data set."
   ]
  },
  {
   "cell_type": "code",
   "execution_count": 9,
   "metadata": {},
   "outputs": [],
   "source": [
    "%matplotlib widget"
   ]
  },
  {
   "cell_type": "code",
   "execution_count": 26,
   "metadata": {},
   "outputs": [],
   "source": [
    "import matplotlib.pyplot as plt\n",
    "\n",
    "from spaxelsleuth.plotting.plottools import plot_empty_BPT_diagram, plot_BPT_lines\n",
    "from spaxelsleuth.plotting.plotgalaxies import plot2dhistcontours, plot2dscatter"
   ]
  },
  {
   "cell_type": "markdown",
   "metadata": {},
   "source": [
    "#### Plot the distribution of spaxels in the WHAN diagram\n",
    "The WHAN diagram, developed by Cid Fernandes et al. (2010, 2011), plots the H$\\alpha$ equivalent width (EW) against the [NII]6583Å/H$\\alpha$ line ratio, and can be used to distinguish between emission by star formation, AGN and hot, low-mass evolved stars."
   ]
  },
  {
   "cell_type": "code",
   "execution_count": 29,
   "metadata": {
    "scrolled": false
   },
   "outputs": [
    {
     "data": {
      "application/vnd.jupyter.widget-view+json": {
       "model_id": "5362c451d1974320a4ce99237d5cac80",
       "version_major": 2,
       "version_minor": 0
      },
      "text/plain": [
       "Canvas(toolbar=Toolbar(toolitems=[('Home', 'Reset original view', 'home', 'home'), ('Back', 'Back to previous …"
      ]
     },
     "metadata": {},
     "output_type": "display_data"
    }
   ],
   "source": [
    "# Plot a 2D histogram showing the distribution of SAMI spaxels in the WHAN diagram\n",
    "_ = plot2dhistcontours(df=df,\n",
    "              col_x=f\"log N2 (total)\",\n",
    "              col_y=f\"log HALPHA EW (total)\",\n",
    "              col_z=\"count\", log_z=True,\n",
    "              plot_colorbar=True)"
   ]
  },
  {
   "cell_type": "code",
   "execution_count": 30,
   "metadata": {
    "scrolled": true
   },
   "outputs": [
    {
     "data": {
      "application/vnd.jupyter.widget-view+json": {
       "model_id": "648885241cdc4a529e8fb91ff16e2a5a",
       "version_major": 2,
       "version_minor": 0
      },
      "text/plain": [
       "Canvas(toolbar=Toolbar(toolitems=[('Home', 'Reset original view', 'home', 'home'), ('Back', 'Back to previous …"
      ]
     },
     "metadata": {},
     "output_type": "display_data"
    }
   ],
   "source": [
    "# Repeat the above, but colour by the median BPT classification\n",
    "_ = plot2dhistcontours(df=df,\n",
    "              col_x=f\"log N2 (total)\",\n",
    "              col_y=f\"log HALPHA EW (total)\",\n",
    "              col_z=\"BPT (numeric) (total)\", \n",
    "              plot_colorbar=True)"
   ]
  },
  {
   "cell_type": "code",
   "execution_count": 17,
   "metadata": {},
   "outputs": [
    {
     "data": {
      "application/vnd.jupyter.widget-view+json": {
       "model_id": "5f306346cb6640bd97bd3e27f7caf700",
       "version_major": 2,
       "version_minor": 0
      },
      "text/plain": [
       "Canvas(toolbar=Toolbar(toolitems=[('Home', 'Reset original view', 'home', 'home'), ('Back', 'Back to previous …"
      ]
     },
     "metadata": {},
     "output_type": "display_data"
    }
   ],
   "source": [
    "# Repeat the above, but colour by the D4000Å break strength\n",
    "_ = plot2dhistcontours(df=df,\n",
    "              col_x=f\"log N2 (total)\",\n",
    "              col_y=f\"log HALPHA EW (total)\",\n",
    "              col_z=\"D4000\", \n",
    "              plot_colorbar=True)"
   ]
  },
  {
   "cell_type": "code",
   "execution_count": 36,
   "metadata": {},
   "outputs": [
    {
     "data": {
      "application/vnd.jupyter.widget-view+json": {
       "model_id": "9b4f0df7f09d495ab5cddc8fbe586966",
       "version_major": 2,
       "version_minor": 0
      },
      "text/plain": [
       "Canvas(toolbar=Toolbar(toolitems=[('Home', 'Reset original view', 'home', 'home'), ('Back', 'Back to previous …"
      ]
     },
     "metadata": {},
     "output_type": "display_data"
    }
   ],
   "source": [
    "# If we like, we can use a different colourmap using the \"cmap\" keyword.\n",
    "# The contour colours can also be changed using the \"colors\" keyword, and the levels can be changed using \"levels\".\n",
    "# The axis limits can also be changed using the \"xmin\", \"xmax\", \"ymin\", \"ymax\" and \"vmin\", \"vmax\" keyword.\n",
    "# We can also change the number of histogram bins using the \"nbins\" keyword.\n",
    "import numpy as np\n",
    "_ = plot2dhistcontours(df=df,\n",
    "              col_x=f\"log N2 (total)\", xmin=-0.6, xmax=0.0,\n",
    "              col_y=f\"log HALPHA EW (total)\", \n",
    "              col_z=\"D4000\", vmin=1.1, vmax=2.0,\n",
    "              nbins=50, \n",
    "              cmap=\"cubehelix\", colors=\"yellow\", levels=np.logspace(0, 4, 5),\n",
    "              plot_colorbar=True)"
   ]
  },
  {
   "cell_type": "markdown",
   "metadata": {},
   "source": [
    "#### Plot optical diagnostic (\"BPT\") diagrams for the full sample, showing the distribution of spaxels in all SAMI galaxies"
   ]
  },
  {
   "cell_type": "code",
   "execution_count": 21,
   "metadata": {
    "scrolled": true
   },
   "outputs": [
    {
     "data": {
      "application/vnd.jupyter.widget-view+json": {
       "model_id": "9d58d8e0b67946478dc6be2c72cbae6f",
       "version_major": 2,
       "version_minor": 0
      },
      "text/plain": [
       "Canvas(toolbar=Toolbar(toolitems=[('Home', 'Reset original view', 'home', 'home'), ('Back', 'Back to previous …"
      ]
     },
     "metadata": {},
     "output_type": "display_data"
    }
   ],
   "source": [
    "# Plot an empty BPT diagram\n",
    "fig, axs_bpt = plot_empty_BPT_diagram(nrows=1)\n",
    "\n",
    "# Plot 2D histograms showing the distribution of the entire sample\n",
    "for cc, col_x in enumerate([\"log N2\", \"log S2\", \"log O1\"]):\n",
    "    # Add BPT demarcation lines\n",
    "    plot_BPT_lines(ax=axs_bpt[cc], col_x=col_x)    \n",
    "\n",
    "    # Plot histograms showing distribution for whole sample\n",
    "    _ = plot2dhistcontours(df=df,\n",
    "                  col_x=f\"{col_x} (total)\",\n",
    "                  col_y=f\"log O3 (total)\",\n",
    "                  col_z=\"count\", log_z=True,\n",
    "                  ax=axs_bpt[cc],\n",
    "                  cax=None,\n",
    "                  plot_colorbar=True if cc==2 else False)"
   ]
  },
  {
   "cell_type": "markdown",
   "metadata": {},
   "source": [
    "#### Repeat the above, but colour the histograms by $\\sigma_{\\rm gas}$ for the narrowest component (component 1)"
   ]
  },
  {
   "cell_type": "code",
   "execution_count": 23,
   "metadata": {},
   "outputs": [
    {
     "data": {
      "application/vnd.jupyter.widget-view+json": {
       "model_id": "8575dc11ced648f0a08bdb0eb37c63e0",
       "version_major": 2,
       "version_minor": 0
      },
      "text/plain": [
       "Canvas(toolbar=Toolbar(toolitems=[('Home', 'Reset original view', 'home', 'home'), ('Back', 'Back to previous …"
      ]
     },
     "metadata": {},
     "output_type": "display_data"
    }
   ],
   "source": [
    "# Plot an empty BPT diagram\n",
    "fig, axs_bpt = plot_empty_BPT_diagram(nrows=1)\n",
    "\n",
    "# Plot 2D histograms showing the distribution of the entire sample\n",
    "for cc, col_x in enumerate([\"log N2\", \"log S2\", \"log O1\"]):\n",
    "    # Add BPT demarcation lines\n",
    "    plot_BPT_lines(ax=axs_bpt[cc], col_x=col_x)    \n",
    "\n",
    "    # Plot histograms showing distribution for whole sample\n",
    "    _ = plot2dhistcontours(df=df,\n",
    "                  col_x=f\"{col_x} (total)\",\n",
    "                  col_y=f\"log O3 (total)\",\n",
    "                  col_z=\"sigma_gas (component 1)\", \n",
    "                  vmax=150,  # Tweak the z-axis scaling to bring out details \n",
    "                  ax=axs_bpt[cc],\n",
    "                  cax=None,\n",
    "                  plot_colorbar=True if cc==2 else False)"
   ]
  },
  {
   "cell_type": "markdown",
   "metadata": {},
   "source": [
    "## Using `spaxelsleuth.plotting` to plot individual galaxies\n",
    "--- \n",
    "In the below cells, we will demonstrate how create plots based on individual SAMI galaxies using functions in `spaxelsleuth.plotting`.\n"
   ]
  },
  {
   "cell_type": "code",
   "execution_count": 38,
   "metadata": {},
   "outputs": [],
   "source": [
    "# Pick a galaxy, based on its GAMA ID. \n",
    "gal = 572402  # This one is my favourite."
   ]
  },
  {
   "cell_type": "code",
   "execution_count": 39,
   "metadata": {},
   "outputs": [],
   "source": [
    "# Select the rows in the DataFrame that belong to this galaxy.\n",
    "df_gal = df[df[\"catid\"] == gal]"
   ]
  },
  {
   "cell_type": "markdown",
   "metadata": {},
   "source": [
    "#### Plot the SDSS image \n",
    "----\n",
    "`plot_sdss_image()` retrieves an RGB SDSS image using the DR16 Image Cutout service and plots it, overlaid with the SAMI field-of-view plus a scale bar to show the physical scale at the galaxy's redshift. If the galaxy lies outside the SDSS footprint (which is the case for some cluster targets) then no image is displayed. "
   ]
  },
  {
   "cell_type": "code",
   "execution_count": 81,
   "metadata": {
    "scrolled": true
   },
   "outputs": [
    {
     "name": "stderr",
     "output_type": "stream",
     "text": [
      "/home/u5708159/python/Modules/spaxelsleuth/plotting/sdssimg.py:164: RuntimeWarning: More than 20 figures have been opened. Figures created through the pyplot interface (`matplotlib.pyplot.figure`) are retained until explicitly closed and may consume too much memory. (To control this warning, see the rcParam `figure.max_open_warning`).\n",
      "  if ax is None:\n"
     ]
    },
    {
     "data": {
      "application/vnd.jupyter.widget-view+json": {
       "model_id": "0c623ae9702844179fa9ab8b776793f6",
       "version_major": 2,
       "version_minor": 0
      },
      "text/plain": [
       "Canvas(toolbar=Toolbar(toolitems=[('Home', 'Reset original view', 'home', 'home'), ('Back', 'Back to previous …"
      ]
     },
     "metadata": {},
     "output_type": "display_data"
    },
    {
     "data": {
      "text/plain": [
       "Text(0.5, 1.0, 'GAMA572402')"
      ]
     },
     "execution_count": 81,
     "metadata": {},
     "output_type": "execute_result"
    }
   ],
   "source": [
    "from spaxelsleuth.plotting.sdssimg import plot_sdss_image\n",
    "ax = plot_sdss_image(df_gal)\n",
    "ax.set_title(f\"GAMA{gal}\")\n"
   ]
  },
  {
   "cell_type": "markdown",
   "metadata": {},
   "source": [
    "#### Plot 2D maps showing various quantities in this galaxy\n",
    "Given a DataFrame corresponding to a single galaxy, `plot2dmap()` reconstructs a 2D image of a specified column (e.g., velocity dispersion) from the rows and plots it. "
   ]
  },
  {
   "cell_type": "code",
   "execution_count": 50,
   "metadata": {
    "scrolled": false
   },
   "outputs": [
    {
     "name": "stderr",
     "output_type": "stream",
     "text": [
      "/home/u5708159/python/Modules/spaxelsleuth/plotting/plot2dmap.py:217: SettingWithCopyWarning: \n",
      "A value is trying to be set on a copy of a slice from a DataFrame.\n",
      "Try using .loc[row_indexer,col_indexer] = value instead\n",
      "\n",
      "See the caveats in the documentation: http://pandas.pydata.org/pandas-docs/stable/user_guide/indexing.html#returning-a-view-versus-a-copy\n",
      "  df_gal[\"x, y (pixels)\"] = list(zip(df_gal[\"x (projected, arcsec)\"] / as_per_px, df_gal[\"y (projected, arcsec)\"] / as_per_px))\n"
     ]
    },
    {
     "data": {
      "application/vnd.jupyter.widget-view+json": {
       "model_id": "cabd5971a081458fa117ad681a5c5939",
       "version_major": 2,
       "version_minor": 0
      },
      "text/plain": [
       "Canvas(toolbar=Toolbar(toolitems=[('Home', 'Reset original view', 'home', 'home'), ('Back', 'Back to previous …"
      ]
     },
     "metadata": {},
     "output_type": "display_data"
    }
   ],
   "source": [
    "from spaxelsleuth.plotting.plot2dmap import plot2dmap\n",
    "fig, ax = plot2dmap(df_gal=df_gal, col_z=\"BPT (numeric) (total)\", bin_type=\"default\", survey=\"sami\")\n"
   ]
  },
  {
   "cell_type": "code",
   "execution_count": 71,
   "metadata": {},
   "outputs": [
    {
     "name": "stderr",
     "output_type": "stream",
     "text": [
      "/home/u5708159/python/Modules/spaxelsleuth/plotting/plot2dmap.py:217: SettingWithCopyWarning: \n",
      "A value is trying to be set on a copy of a slice from a DataFrame.\n",
      "Try using .loc[row_indexer,col_indexer] = value instead\n",
      "\n",
      "See the caveats in the documentation: http://pandas.pydata.org/pandas-docs/stable/user_guide/indexing.html#returning-a-view-versus-a-copy\n",
      "  df_gal[\"x, y (pixels)\"] = list(zip(df_gal[\"x (projected, arcsec)\"] / as_per_px, df_gal[\"y (projected, arcsec)\"] / as_per_px))\n"
     ]
    },
    {
     "data": {
      "application/vnd.jupyter.widget-view+json": {
       "model_id": "513fb2976bf14c608d2483ee07bc5475",
       "version_major": 2,
       "version_minor": 0
      },
      "text/plain": [
       "Canvas(toolbar=Toolbar(toolitems=[('Home', 'Reset original view', 'home', 'home'), ('Back', 'Back to previous …"
      ]
     },
     "metadata": {},
     "output_type": "display_data"
    },
    {
     "name": "stderr",
     "output_type": "stream",
     "text": [
      "/home/u5708159/python/Modules/spaxelsleuth/plotting/plot2dmap.py:269: SettingWithCopyWarning: \n",
      "A value is trying to be set on a copy of a slice from a DataFrame.\n",
      "Try using .loc[row_indexer,col_indexer] = value instead\n",
      "\n",
      "See the caveats in the documentation: http://pandas.pydata.org/pandas-docs/stable/user_guide/indexing.html#returning-a-view-versus-a-copy\n",
      "  col_z_contour_map[yy, xx] = df_gal.iloc[rr][col_z_contours]\n"
     ]
    }
   ],
   "source": [
    "# Playing with input arguments \n",
    "# As in plot2dhistcontours, the maximum colour scaling can be set using \"vmin\" and \"vmax\" and the colourmap can be changed using \"cmap\". \n",
    "# The quantity that is used to plot contours can be set to any column in the DataFrame using \"col_z_contours\" and the colours and linewidths can be configured using \"colours\" and \"linewidths\".\n",
    "_ = plot2dmap(df_gal=df_gal, col_z=\"v_gas (component 1)\", bin_type=\"default\", survey=\"sami\",\n",
    "              cmap=\"jet\", vmin=-50, vmax=+50,\n",
    "              col_z_contours=\"v_gas (component 1)\", levels=[-40, -20, 0, 20, 40], colors=\"pink\", linewidths=2.5)\n"
   ]
  },
  {
   "cell_type": "code",
   "execution_count": 72,
   "metadata": {},
   "outputs": [
    {
     "name": "stderr",
     "output_type": "stream",
     "text": [
      "/pkg/linux/anaconda-20191122/anaconda3/lib/python3.7/site-packages/ipykernel_launcher.py:2: RuntimeWarning: More than 20 figures have been opened. Figures created through the pyplot interface (`matplotlib.pyplot.figure`) are retained until explicitly closed and may consume too much memory. (To control this warning, see the rcParam `figure.max_open_warning`).\n",
      "  \n"
     ]
    },
    {
     "data": {
      "application/vnd.jupyter.widget-view+json": {
       "model_id": "83fca6b6da4b441682b95a25e787a64d",
       "version_major": 2,
       "version_minor": 0
      },
      "text/plain": [
       "Canvas(toolbar=Toolbar(toolitems=[('Home', 'Reset original view', 'home', 'home'), ('Back', 'Back to previous …"
      ]
     },
     "metadata": {},
     "output_type": "display_data"
    },
    {
     "name": "stderr",
     "output_type": "stream",
     "text": [
      "/home/u5708159/python/Modules/spaxelsleuth/plotting/plot2dmap.py:217: SettingWithCopyWarning: \n",
      "A value is trying to be set on a copy of a slice from a DataFrame.\n",
      "Try using .loc[row_indexer,col_indexer] = value instead\n",
      "\n",
      "See the caveats in the documentation: http://pandas.pydata.org/pandas-docs/stable/user_guide/indexing.html#returning-a-view-versus-a-copy\n",
      "  df_gal[\"x, y (pixels)\"] = list(zip(df_gal[\"x (projected, arcsec)\"] / as_per_px, df_gal[\"y (projected, arcsec)\"] / as_per_px))\n"
     ]
    }
   ],
   "source": [
    "# Slightly more advanced example: plot the gas velocity for each individual component.\n",
    "fig, axs = plt.subplots(nrows=1, ncols=3, figsize=(10, 4))\n",
    "fig.subplots_adjust(wspace=0)\n",
    "\n",
    "for nn in range(3):\n",
    "    # Pass the axis to plot_2dmap()\n",
    "    fig, ax = plot2dmap(df_gal=df_gal, col_z=f\"v_gas (component {nn + 1})\", bin_type=\"default\", survey=\"sami\", \n",
    "                        vmin=-50, vmax=+50,\n",
    "                        ax=axs[nn], plot_colorbar=True if nn == 2 else False, show_title=True if nn == 1 else False)\n",
    "\n",
    "# In plot2dmap, the existing axis has to be destroyed and replaced with an identical axis with the correct WCS. Therefore, we need to update our list of axes.\n",
    "axs_new = fig.get_axes()[:-1]\n",
    "\n",
    "# Turn off the y-axis ticks on axes 2 and 3\n",
    "for ax in axs_new[1:]:\n",
    "    lon = ax.coords[0]\n",
    "    lat = ax.coords[1]\n",
    "    lat.set_ticks_visible(False)\n",
    "    lat.set_ticklabel_visible(False)\n"
   ]
  },
  {
   "cell_type": "markdown",
   "metadata": {},
   "source": [
    "#### Scatter plots \n",
    "Create a BPT diagram with 2D histograms and contours showing the distribution in the full sample, with the data points from this galaxy overlaid on top using a scatter plot."
   ]
  },
  {
   "cell_type": "code",
   "execution_count": 77,
   "metadata": {},
   "outputs": [
    {
     "data": {
      "application/vnd.jupyter.widget-view+json": {
       "model_id": "581eedf6c00e4d4eafd358c8f2a1d9c2",
       "version_major": 2,
       "version_minor": 0
      },
      "text/plain": [
       "Canvas(toolbar=Toolbar(toolitems=[('Home', 'Reset original view', 'home', 'home'), ('Back', 'Back to previous …"
      ]
     },
     "metadata": {},
     "output_type": "display_data"
    },
    {
     "data": {
      "text/plain": [
       "[Text(0, 0.5, ''), Text(0, 0.5, '')]"
      ]
     },
     "execution_count": 77,
     "metadata": {},
     "output_type": "execute_result"
    }
   ],
   "source": [
    "# Plot an empty BPT diagram\n",
    "fig, axs_bpt = plot_empty_BPT_diagram(nrows=1)\n",
    "\n",
    "# Plot 2D histograms showing the distribution of the entire sample\n",
    "for cc, col_x in enumerate([\"log N2\", \"log S2\", \"log O1\"]):\n",
    "    # Add BPT demarcation lines\n",
    "    plot_BPT_lines(ax=axs_bpt[cc], col_x=col_x)    \n",
    "\n",
    "    # Plot histograms showing distribution for whole sample\n",
    "    _ = plot2dhistcontours(df=df,\n",
    "                  col_x=f\"{col_x} (total)\",\n",
    "                  col_y=f\"log O3 (total)\",\n",
    "                  col_z=\"count\", log_z=True,\n",
    "                  cmap=\"bone_r\", alpha=0.4,\n",
    "                  ax=axs_bpt[cc],\n",
    "                  plot_colorbar=False)\n",
    "    \n",
    "    # Scatter plot for this galaxy\n",
    "    _ = plot2dscatter(df=df_gal, \n",
    "                      col_x=f\"{col_x} (total)\",\n",
    "                      col_y=f\"log O3 (total)\",\n",
    "                      col_z=f\"v_gas (component 2)\",\n",
    "                      ax=axs_bpt[cc],\n",
    "                      plot_colorbar=True if cc==2 else False)\n",
    "    \n",
    "# Turn of y-axis labels \n",
    "[ax.set_ylabel(\"\") for ax in axs_bpt[1:]]"
   ]
  },
  {
   "cell_type": "code",
   "execution_count": null,
   "metadata": {},
   "outputs": [],
   "source": []
  }
 ],
 "metadata": {
  "kernelspec": {
   "display_name": "Python 3",
   "language": "python",
   "name": "python3"
  },
  "language_info": {
   "codemirror_mode": {
    "name": "ipython",
    "version": 3
   },
   "file_extension": ".py",
   "mimetype": "text/x-python",
   "name": "python",
   "nbconvert_exporter": "python",
   "pygments_lexer": "ipython3",
   "version": "3.7.4"
  }
 },
 "nbformat": 4,
 "nbformat_minor": 2
}
