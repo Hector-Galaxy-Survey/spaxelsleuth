{
 "cells": [
  {
   "cell_type": "markdown",
   "metadata": {},
   "source": [
    "# `spaxelsleuth` examples\n",
    "---\n",
    "In this notebook, you will learn how to use `spaxelsleuth` to \n",
    "1. create a `pandas` DataFrame containing spaxel-by-spaxel information for all SAMI galaxies;\n",
    "2. use the included plotting tools to analyse the SAMI data set as a whole;\n",
    "3. create plots that you can use to analyse specific galaxies. "
   ]
  },
  {
   "cell_type": "markdown",
   "metadata": {},
   "source": [
    "## Create the DataFrames\n",
    "---\n",
    "### Creating the \"metadata\" DataFrame\n",
    "After you have installed `spaxelsleuth` and have downloaded the necessary files from [DataCentral](http://datacentral.org.au) (see the README), the first step is to create the \"metadata\" DataFrame containing basic information about each SAMI galaxy, such as redshifts, morphologies, and stellar masses."
   ]
  },
  {
   "cell_type": "code",
   "execution_count": 3,
   "metadata": {
    "scrolled": false
   },
   "outputs": [
    {
     "name": "stdout",
     "output_type": "stream",
     "text": [
      "In make_sami_metadata_df(): Creating metadata DataFrame...\n"
     ]
    },
    {
     "name": "stderr",
     "output_type": "stream",
     "text": [
      "/home/u5708159/python/Modules/spaxelsleuth/loaddata/sami.py:179: FutureWarning: Sorting because non-concatenation axis is not aligned. A future version\n",
      "of pandas will change to not sort by default.\n",
      "\n",
      "To accept the future behavior, pass 'sort=False'.\n",
      "\n",
      "To retain the current behavior and silence the warning, pass 'sort=True'.\n",
      "\n",
      "  df_metadata = pd.concat([df_metadata_gama, df_metadata_cluster, df_metadata_filler]).drop([\"Unnamed: 0\"], axis=1)\n",
      "/home/u5708159/python/Modules/spaxelsleuth/loaddata/sami.py:243: SettingWithCopyWarning: \n",
      "A value is trying to be set on a copy of a slice from a DataFrame.\n",
      "Try using .loc[row_indexer,col_indexer] = value instead\n",
      "\n",
      "See the caveats in the documentation: http://pandas.pydata.org/pandas-docs/stable/user_guide/indexing.html#returning-a-view-versus-a-copy\n",
      "  df_flags_cut[\"ID\"] = df_flags_cut[\"ID\"].astype(int)\n"
     ]
    },
    {
     "name": "stdout",
     "output_type": "stream",
     "text": [
      "In make_sami_metadata_df(): Computing distances...\n",
      "In make_sami_metadata_df(): Saving metadata DataFrame to file /priv/meggs3/u5708159/SAMI/sami_dr3/sami_dr3_metadata.hd5...\n"
     ]
    },
    {
     "name": "stderr",
     "output_type": "stream",
     "text": [
      "/pkg/linux/anaconda-20191122/anaconda3/lib/python3.7/site-packages/pandas/core/generic.py:2530: PerformanceWarning: \n",
      "your performance may suffer as PyTables will pickle object types that it cannot\n",
      "map directly to c-types [inferred_type->mixed,key->block3_values] [items->['Morphology', 'photometry']]\n",
      "\n",
      "  pytables.to_hdf(path_or_buf, key, self, **kwargs)\n"
     ]
    },
    {
     "name": "stdout",
     "output_type": "stream",
     "text": [
      "In make_sami_metadata_df(): Finished!\n"
     ]
    }
   ],
   "source": [
    "from spaxelsleuth.loaddata.sami import make_sami_metadata_df\n",
    "make_sami_metadata_df()"
   ]
  },
  {
   "cell_type": "code",
   "execution_count": 30,
   "metadata": {},
   "outputs": [],
   "source": [
    "import pandas as pd\n",
    "df_metadata = pd.read_hdf(\"/priv/meggs3/u5708159/SAMI/sami_dr3/sami_dr3_metadata.hd5\")"
   ]
  },
  {
   "cell_type": "code",
   "execution_count": 31,
   "metadata": {
    "scrolled": false
   },
   "outputs": [
    {
     "data": {
      "text/plain": [
       "A_g                           0.096\n",
       "Bad class #                       0\n",
       "ID                           100162\n",
       "Dec (J2000)                0.934893\n",
       "e                            0.4972\n",
       "g - i colour                   0.59\n",
       "Cluster member                  NaN\n",
       "M_r                          -18.67\n",
       "log M_*                        9.15\n",
       "mu_r at 1R_e                  20.84\n",
       "mu_r at 2R_e                  22.75\n",
       "mu_r within 1R_e              20.24\n",
       "PA (degrees)                  47.02\n",
       "R_e (arcsec)                   2.75\n",
       "r/R_200                         NaN\n",
       "RA (J2000)                  185.793\n",
       "v/sigma_cluster                 NaN\n",
       "z                           0.02577\n",
       "z (flow-corrected)          0.02701\n",
       "Morphology (numeric)              3\n",
       "Morphology              Late spiral\n",
       "Good?                          True\n",
       "MGE photometry                 GAMA\n",
       "R_e (MGE) (arcsec)          1.91373\n",
       "m_AB (MGE)                  16.7423\n",
       "PA (MGE) (degrees)          47.0591\n",
       "e at 1R_e (MGE)            0.360967\n",
       "e, LW (MGE)                 0.48292\n",
       "D_A (Mpc)                   106.967\n",
       "D_L (Mpc)                   112.551\n",
       "kpc per arcsec             0.518588\n",
       "R_e (kpc)                   1.42612\n",
       "R_e (MGE) (kpc)            0.992438\n",
       "log(M/R_e)                  8.99584\n",
       "i (degrees)                 61.9122\n",
       "Name: 100162, dtype: object"
      ]
     },
     "execution_count": 31,
     "metadata": {},
     "output_type": "execute_result"
    }
   ],
   "source": [
    "df_metadata.loc[100162]"
   ]
  },
  {
   "cell_type": "markdown",
   "metadata": {},
   "source": [
    "### Creating the SAMI DataFrame\n",
    "The next step is to create the DataFrame containing all measured quantities, such as emission line fluxes, stellar and gas kinematics, and extinction, for each individual spaxel in every SAMI galaxy. Each time this is run, it saves one copy of the DataFrame where the extinction correction has been applied, and one without. The resulting DataFrames are saved to file and can be accessed using `load_sami_df()`.\n",
    "\n",
    "The input arguments are as follows:\n",
    "* `ncomponents` determines which data set the function is run on. \n",
    "    * `ncomponents = \"recom\"` will use the data products produced using the multi-component Gaussian emission line fits, in which the `LZCOMP` neutral network was used to determine the optimal number of components in each spaxel.\n",
    "    * `ncomponents = \"1\"` will use the data products produced using the single-component Gaussian emission line fits.\n",
    "* `bin_type` refers to the spatial binning scheme used.\n",
    "    * `bin_type = \"default\"` will use the data products produced using the unbinned data. \n",
    "    * `bin_type = \"adaptive\"` will use the data products produced using the Voronoi-binned data. \n",
    "    * `bin_type = \"sectors\"` will use the data products produced using the sector-binned data. \n",
    "* `eline_SNR_min` gives the minimum S/N for which a fitted emission line component will be accepted. All quantities associated with emission line components that fall below this S/N threshold (e.g. kinematics, fluxes, etc.) will be set to `np.nan`.\n",
    "\n",
    "Note that running `make_sami_df()` for all ~3,000 SAMI galaxies takes some time - for a quick demo, set `DEBUG` here to `True`; this will create the DataFrame for a subset of 10 galaxies and is much quicker."
   ]
  },
  {
   "cell_type": "code",
   "execution_count": 32,
   "metadata": {},
   "outputs": [],
   "source": [
    "DEBUG = True"
   ]
  },
  {
   "cell_type": "code",
   "execution_count": 33,
   "metadata": {},
   "outputs": [],
   "source": [
    "from spaxelsleuth.loaddata.sami import make_sami_df"
   ]
  },
  {
   "cell_type": "code",
   "execution_count": 34,
   "metadata": {
    "scrolled": true
   },
   "outputs": [
    {
     "name": "stdout",
     "output_type": "stream",
     "text": [
      "In sami.make_df_sami() [bin_type=default, ncomponents=recom, debug=True, eline_SNR_min=5]: saving to files sami_default_recom-comp_extcorr_minSNR=5_DEBUG.hd5...\n",
      "In sami.make_df_sami() [bin_type=default, ncomponents=recom, debug=True, eline_SNR_min=5]: Beginning pool...\n"
     ]
    },
    {
     "name": "stderr",
     "output_type": "stream",
     "text": [
      "Process ForkPoolWorker-5:\n",
      "Process ForkPoolWorker-3:\n",
      "Process ForkPoolWorker-1:\n",
      "Exception ignored in: <function _releaseLock at 0x7f039b972d40>\n",
      "Traceback (most recent call last):\n",
      "  File \"/pkg/linux/anaconda-20191122/anaconda3/lib/python3.7/logging/__init__.py\", line 221, in _releaseLock\n",
      "    def _releaseLock():\n",
      "KeyboardInterrupt\n",
      "Process ForkPoolWorker-2:\n",
      "Process ForkPoolWorker-4:\n",
      "Process ForkPoolWorker-6:\n",
      "Traceback (most recent call last):\n",
      "Traceback (most recent call last):\n",
      "Traceback (most recent call last):\n",
      "Traceback (most recent call last):\n",
      "Traceback (most recent call last):\n",
      "Traceback (most recent call last):\n",
      "  File \"/pkg/linux/anaconda-20191122/anaconda3/lib/python3.7/multiprocessing/process.py\", line 297, in _bootstrap\n",
      "    self.run()\n",
      "  File \"/pkg/linux/anaconda-20191122/anaconda3/lib/python3.7/multiprocessing/process.py\", line 297, in _bootstrap\n",
      "    self.run()\n",
      "  File \"/pkg/linux/anaconda-20191122/anaconda3/lib/python3.7/multiprocessing/process.py\", line 297, in _bootstrap\n",
      "    self.run()\n",
      "  File \"/pkg/linux/anaconda-20191122/anaconda3/lib/python3.7/multiprocessing/process.py\", line 297, in _bootstrap\n",
      "    self.run()\n",
      "  File \"/pkg/linux/anaconda-20191122/anaconda3/lib/python3.7/multiprocessing/process.py\", line 297, in _bootstrap\n",
      "    self.run()\n",
      "  File \"/pkg/linux/anaconda-20191122/anaconda3/lib/python3.7/multiprocessing/process.py\", line 297, in _bootstrap\n",
      "    self.run()\n",
      "  File \"/pkg/linux/anaconda-20191122/anaconda3/lib/python3.7/multiprocessing/process.py\", line 99, in run\n",
      "    self._target(*self._args, **self._kwargs)\n",
      "  File \"/pkg/linux/anaconda-20191122/anaconda3/lib/python3.7/multiprocessing/process.py\", line 99, in run\n",
      "    self._target(*self._args, **self._kwargs)\n",
      "  File \"/pkg/linux/anaconda-20191122/anaconda3/lib/python3.7/multiprocessing/process.py\", line 99, in run\n",
      "    self._target(*self._args, **self._kwargs)\n",
      "  File \"/pkg/linux/anaconda-20191122/anaconda3/lib/python3.7/multiprocessing/process.py\", line 99, in run\n",
      "    self._target(*self._args, **self._kwargs)\n",
      "  File \"/pkg/linux/anaconda-20191122/anaconda3/lib/python3.7/multiprocessing/process.py\", line 99, in run\n",
      "    self._target(*self._args, **self._kwargs)\n",
      "  File \"/pkg/linux/anaconda-20191122/anaconda3/lib/python3.7/multiprocessing/process.py\", line 99, in run\n",
      "    self._target(*self._args, **self._kwargs)\n",
      "  File \"/pkg/linux/anaconda-20191122/anaconda3/lib/python3.7/multiprocessing/pool.py\", line 110, in worker\n",
      "    task = get()\n",
      "  File \"/pkg/linux/anaconda-20191122/anaconda3/lib/python3.7/multiprocessing/pool.py\", line 110, in worker\n",
      "    task = get()\n",
      "  File \"/pkg/linux/anaconda-20191122/anaconda3/lib/python3.7/multiprocessing/pool.py\", line 110, in worker\n",
      "    task = get()\n",
      "  File \"/pkg/linux/anaconda-20191122/anaconda3/lib/python3.7/multiprocessing/pool.py\", line 110, in worker\n",
      "    task = get()\n",
      "  File \"/pkg/linux/anaconda-20191122/anaconda3/lib/python3.7/multiprocessing/queues.py\", line 351, in get\n",
      "    with self._rlock:\n",
      "  File \"/pkg/linux/anaconda-20191122/anaconda3/lib/python3.7/multiprocessing/pool.py\", line 110, in worker\n",
      "    task = get()\n",
      "  File \"/pkg/linux/anaconda-20191122/anaconda3/lib/python3.7/multiprocessing/pool.py\", line 110, in worker\n",
      "    task = get()\n",
      "  File \"/pkg/linux/anaconda-20191122/anaconda3/lib/python3.7/multiprocessing/queues.py\", line 352, in get\n",
      "    res = self._reader.recv_bytes()\n",
      "  File \"/pkg/linux/anaconda-20191122/anaconda3/lib/python3.7/multiprocessing/queues.py\", line 351, in get\n",
      "    with self._rlock:\n",
      "  File \"/pkg/linux/anaconda-20191122/anaconda3/lib/python3.7/multiprocessing/queues.py\", line 351, in get\n",
      "    with self._rlock:\n",
      "  File \"/pkg/linux/anaconda-20191122/anaconda3/lib/python3.7/multiprocessing/synchronize.py\", line 95, in __enter__\n",
      "    return self._semlock.__enter__()\n",
      "  File \"/pkg/linux/anaconda-20191122/anaconda3/lib/python3.7/multiprocessing/queues.py\", line 351, in get\n",
      "    with self._rlock:\n",
      "  File \"/pkg/linux/anaconda-20191122/anaconda3/lib/python3.7/multiprocessing/connection.py\", line 216, in recv_bytes\n",
      "    buf = self._recv_bytes(maxlength)\n",
      "  File \"/pkg/linux/anaconda-20191122/anaconda3/lib/python3.7/multiprocessing/queues.py\", line 351, in get\n",
      "    with self._rlock:\n",
      "  File \"/pkg/linux/anaconda-20191122/anaconda3/lib/python3.7/multiprocessing/synchronize.py\", line 95, in __enter__\n",
      "    return self._semlock.__enter__()\n",
      "KeyboardInterrupt\n",
      "  File \"/pkg/linux/anaconda-20191122/anaconda3/lib/python3.7/multiprocessing/synchronize.py\", line 95, in __enter__\n",
      "    return self._semlock.__enter__()\n",
      "  File \"/pkg/linux/anaconda-20191122/anaconda3/lib/python3.7/multiprocessing/synchronize.py\", line 95, in __enter__\n",
      "    return self._semlock.__enter__()\n",
      "  File \"/pkg/linux/anaconda-20191122/anaconda3/lib/python3.7/multiprocessing/connection.py\", line 407, in _recv_bytes\n",
      "    buf = self._recv(4)\n",
      "  File \"/pkg/linux/anaconda-20191122/anaconda3/lib/python3.7/multiprocessing/synchronize.py\", line 95, in __enter__\n",
      "    return self._semlock.__enter__()\n",
      "KeyboardInterrupt\n",
      "KeyboardInterrupt\n",
      "  File \"/pkg/linux/anaconda-20191122/anaconda3/lib/python3.7/multiprocessing/connection.py\", line 379, in _recv\n",
      "    chunk = read(handle, remaining)\n",
      "KeyboardInterrupt\n",
      "KeyboardInterrupt\n",
      "KeyboardInterrupt\n",
      "Process ForkPoolWorker-7:\n",
      "Process ForkPoolWorker-8:\n",
      "Traceback (most recent call last):\n",
      "Traceback (most recent call last):\n",
      "  File \"/pkg/linux/anaconda-20191122/anaconda3/lib/python3.7/multiprocessing/process.py\", line 297, in _bootstrap\n",
      "    self.run()\n",
      "  File \"/pkg/linux/anaconda-20191122/anaconda3/lib/python3.7/multiprocessing/process.py\", line 297, in _bootstrap\n",
      "    self.run()\n",
      "  File \"/pkg/linux/anaconda-20191122/anaconda3/lib/python3.7/multiprocessing/process.py\", line 99, in run\n",
      "    self._target(*self._args, **self._kwargs)\n",
      "  File \"/pkg/linux/anaconda-20191122/anaconda3/lib/python3.7/multiprocessing/process.py\", line 99, in run\n",
      "    self._target(*self._args, **self._kwargs)\n",
      "  File \"/pkg/linux/anaconda-20191122/anaconda3/lib/python3.7/multiprocessing/pool.py\", line 110, in worker\n",
      "    task = get()\n",
      "  File \"/pkg/linux/anaconda-20191122/anaconda3/lib/python3.7/multiprocessing/pool.py\", line 110, in worker\n",
      "    task = get()\n",
      "  File \"/pkg/linux/anaconda-20191122/anaconda3/lib/python3.7/multiprocessing/queues.py\", line 351, in get\n",
      "    with self._rlock:\n",
      "Process ForkPoolWorker-10:\n",
      "  File \"/pkg/linux/anaconda-20191122/anaconda3/lib/python3.7/multiprocessing/queues.py\", line 351, in get\n",
      "    with self._rlock:\n",
      "  File \"/pkg/linux/anaconda-20191122/anaconda3/lib/python3.7/multiprocessing/synchronize.py\", line 95, in __enter__\n",
      "    return self._semlock.__enter__()\n",
      "  File \"/pkg/linux/anaconda-20191122/anaconda3/lib/python3.7/multiprocessing/synchronize.py\", line 95, in __enter__\n",
      "    return self._semlock.__enter__()\n",
      "Process ForkPoolWorker-9:\n",
      "KeyboardInterrupt\n",
      "KeyboardInterrupt\n",
      "Traceback (most recent call last):\n",
      "  File \"/pkg/linux/anaconda-20191122/anaconda3/lib/python3.7/multiprocessing/process.py\", line 297, in _bootstrap\n",
      "    self.run()\n",
      "Traceback (most recent call last):\n",
      "  File \"/pkg/linux/anaconda-20191122/anaconda3/lib/python3.7/multiprocessing/process.py\", line 99, in run\n",
      "    self._target(*self._args, **self._kwargs)\n",
      "  File \"/pkg/linux/anaconda-20191122/anaconda3/lib/python3.7/multiprocessing/process.py\", line 297, in _bootstrap\n",
      "    self.run()\n",
      "  File \"/pkg/linux/anaconda-20191122/anaconda3/lib/python3.7/multiprocessing/pool.py\", line 110, in worker\n",
      "    task = get()\n",
      "  File \"/pkg/linux/anaconda-20191122/anaconda3/lib/python3.7/multiprocessing/process.py\", line 99, in run\n",
      "    self._target(*self._args, **self._kwargs)\n",
      "  File \"/pkg/linux/anaconda-20191122/anaconda3/lib/python3.7/multiprocessing/queues.py\", line 351, in get\n",
      "    with self._rlock:\n",
      "  File \"/pkg/linux/anaconda-20191122/anaconda3/lib/python3.7/multiprocessing/pool.py\", line 110, in worker\n",
      "    task = get()\n",
      "  File \"/pkg/linux/anaconda-20191122/anaconda3/lib/python3.7/multiprocessing/synchronize.py\", line 95, in __enter__\n",
      "    return self._semlock.__enter__()\n",
      "  File \"/pkg/linux/anaconda-20191122/anaconda3/lib/python3.7/multiprocessing/queues.py\", line 351, in get\n",
      "    with self._rlock:\n",
      "KeyboardInterrupt\n",
      "  File \"/pkg/linux/anaconda-20191122/anaconda3/lib/python3.7/multiprocessing/synchronize.py\", line 95, in __enter__\n",
      "    return self._semlock.__enter__()\n",
      "KeyboardInterrupt\n"
     ]
    },
    {
     "ename": "KeyboardInterrupt",
     "evalue": "",
     "output_type": "error",
     "traceback": [
      "\u001b[0;31m---------------------------------------------------------------------------\u001b[0m",
      "\u001b[0;31mKeyboardInterrupt\u001b[0m                         Traceback (most recent call last)",
      "\u001b[0;32m<ipython-input-34-adb1fb28e158>\u001b[0m in \u001b[0;36m<module>\u001b[0;34m\u001b[0m\n\u001b[0;32m----> 1\u001b[0;31m \u001b[0mmake_sami_df\u001b[0m\u001b[0;34m(\u001b[0m\u001b[0mncomponents\u001b[0m\u001b[0;34m=\u001b[0m\u001b[0;34m\"recom\"\u001b[0m\u001b[0;34m,\u001b[0m \u001b[0mbin_type\u001b[0m\u001b[0;34m=\u001b[0m\u001b[0;34m\"default\"\u001b[0m\u001b[0;34m,\u001b[0m \u001b[0meline_SNR_min\u001b[0m\u001b[0;34m=\u001b[0m\u001b[0;36m5\u001b[0m\u001b[0;34m,\u001b[0m \u001b[0mdebug\u001b[0m\u001b[0;34m=\u001b[0m\u001b[0mDEBUG\u001b[0m\u001b[0;34m)\u001b[0m\u001b[0;34m\u001b[0m\u001b[0;34m\u001b[0m\u001b[0m\n\u001b[0m",
      "\u001b[0;32m~/python/Modules/spaxelsleuth/loaddata/sami.py\u001b[0m in \u001b[0;36mmake_sami_df\u001b[0;34m(bin_type, ncomponents, line_flux_SNR_cut, eline_SNR_min, vgrad_cut, sigma_gas_SNR_cut, sigma_gas_SNR_min, line_amplitude_SNR_cut, flux_fraction_cut, stekin_cut, correct_extinction, eline_list, nthreads_max, debug)\u001b[0m\n\u001b[1;32m   1161\u001b[0m             \u001b[0mprint\u001b[0m\u001b[0;34m(\u001b[0m\u001b[0;34mf\"{status_str}: Beginning pool...\"\u001b[0m\u001b[0;34m)\u001b[0m\u001b[0;34m\u001b[0m\u001b[0;34m\u001b[0m\u001b[0m\n\u001b[1;32m   1162\u001b[0m             \u001b[0mpool\u001b[0m \u001b[0;34m=\u001b[0m \u001b[0mmultiprocessing\u001b[0m\u001b[0;34m.\u001b[0m\u001b[0mPool\u001b[0m\u001b[0;34m(\u001b[0m\u001b[0mmin\u001b[0m\u001b[0;34m(\u001b[0m\u001b[0;34m[\u001b[0m\u001b[0mnthreads_max\u001b[0m\u001b[0;34m,\u001b[0m \u001b[0mlen\u001b[0m\u001b[0;34m(\u001b[0m\u001b[0mgal_ids_dq_cut\u001b[0m\u001b[0;34m)\u001b[0m\u001b[0;34m]\u001b[0m\u001b[0;34m)\u001b[0m\u001b[0;34m)\u001b[0m\u001b[0;34m\u001b[0m\u001b[0;34m\u001b[0m\u001b[0m\n\u001b[0;32m-> 1163\u001b[0;31m             \u001b[0mres_list\u001b[0m \u001b[0;34m=\u001b[0m \u001b[0mnp\u001b[0m\u001b[0;34m.\u001b[0m\u001b[0marray\u001b[0m\u001b[0;34m(\u001b[0m\u001b[0;34m(\u001b[0m\u001b[0mpool\u001b[0m\u001b[0;34m.\u001b[0m\u001b[0mmap\u001b[0m\u001b[0;34m(\u001b[0m\u001b[0m_process_gals\u001b[0m\u001b[0;34m,\u001b[0m \u001b[0margs_list\u001b[0m\u001b[0;34m)\u001b[0m\u001b[0;34m)\u001b[0m\u001b[0;34m)\u001b[0m\u001b[0;34m\u001b[0m\u001b[0;34m\u001b[0m\u001b[0m\n\u001b[0m\u001b[1;32m   1164\u001b[0m             \u001b[0mpool\u001b[0m\u001b[0;34m.\u001b[0m\u001b[0mclose\u001b[0m\u001b[0;34m(\u001b[0m\u001b[0;34m)\u001b[0m\u001b[0;34m\u001b[0m\u001b[0;34m\u001b[0m\u001b[0m\n\u001b[1;32m   1165\u001b[0m             \u001b[0mpool\u001b[0m\u001b[0;34m.\u001b[0m\u001b[0mjoin\u001b[0m\u001b[0;34m(\u001b[0m\u001b[0;34m)\u001b[0m\u001b[0;34m\u001b[0m\u001b[0;34m\u001b[0m\u001b[0m\n",
      "\u001b[0;32m/pkg/linux/anaconda-20191122/anaconda3/lib/python3.7/multiprocessing/pool.py\u001b[0m in \u001b[0;36mmap\u001b[0;34m(self, func, iterable, chunksize)\u001b[0m\n\u001b[1;32m    266\u001b[0m         \u001b[0;32min\u001b[0m \u001b[0ma\u001b[0m \u001b[0mlist\u001b[0m \u001b[0mthat\u001b[0m \u001b[0;32mis\u001b[0m \u001b[0mreturned\u001b[0m\u001b[0;34m.\u001b[0m\u001b[0;34m\u001b[0m\u001b[0;34m\u001b[0m\u001b[0m\n\u001b[1;32m    267\u001b[0m         '''\n\u001b[0;32m--> 268\u001b[0;31m         \u001b[0;32mreturn\u001b[0m \u001b[0mself\u001b[0m\u001b[0;34m.\u001b[0m\u001b[0m_map_async\u001b[0m\u001b[0;34m(\u001b[0m\u001b[0mfunc\u001b[0m\u001b[0;34m,\u001b[0m \u001b[0miterable\u001b[0m\u001b[0;34m,\u001b[0m \u001b[0mmapstar\u001b[0m\u001b[0;34m,\u001b[0m \u001b[0mchunksize\u001b[0m\u001b[0;34m)\u001b[0m\u001b[0;34m.\u001b[0m\u001b[0mget\u001b[0m\u001b[0;34m(\u001b[0m\u001b[0;34m)\u001b[0m\u001b[0;34m\u001b[0m\u001b[0;34m\u001b[0m\u001b[0m\n\u001b[0m\u001b[1;32m    269\u001b[0m \u001b[0;34m\u001b[0m\u001b[0m\n\u001b[1;32m    270\u001b[0m     \u001b[0;32mdef\u001b[0m \u001b[0mstarmap\u001b[0m\u001b[0;34m(\u001b[0m\u001b[0mself\u001b[0m\u001b[0;34m,\u001b[0m \u001b[0mfunc\u001b[0m\u001b[0;34m,\u001b[0m \u001b[0miterable\u001b[0m\u001b[0;34m,\u001b[0m \u001b[0mchunksize\u001b[0m\u001b[0;34m=\u001b[0m\u001b[0;32mNone\u001b[0m\u001b[0;34m)\u001b[0m\u001b[0;34m:\u001b[0m\u001b[0;34m\u001b[0m\u001b[0;34m\u001b[0m\u001b[0m\n",
      "\u001b[0;32m/pkg/linux/anaconda-20191122/anaconda3/lib/python3.7/multiprocessing/pool.py\u001b[0m in \u001b[0;36mget\u001b[0;34m(self, timeout)\u001b[0m\n\u001b[1;32m    649\u001b[0m \u001b[0;34m\u001b[0m\u001b[0m\n\u001b[1;32m    650\u001b[0m     \u001b[0;32mdef\u001b[0m \u001b[0mget\u001b[0m\u001b[0;34m(\u001b[0m\u001b[0mself\u001b[0m\u001b[0;34m,\u001b[0m \u001b[0mtimeout\u001b[0m\u001b[0;34m=\u001b[0m\u001b[0;32mNone\u001b[0m\u001b[0;34m)\u001b[0m\u001b[0;34m:\u001b[0m\u001b[0;34m\u001b[0m\u001b[0;34m\u001b[0m\u001b[0m\n\u001b[0;32m--> 651\u001b[0;31m         \u001b[0mself\u001b[0m\u001b[0;34m.\u001b[0m\u001b[0mwait\u001b[0m\u001b[0;34m(\u001b[0m\u001b[0mtimeout\u001b[0m\u001b[0;34m)\u001b[0m\u001b[0;34m\u001b[0m\u001b[0;34m\u001b[0m\u001b[0m\n\u001b[0m\u001b[1;32m    652\u001b[0m         \u001b[0;32mif\u001b[0m \u001b[0;32mnot\u001b[0m \u001b[0mself\u001b[0m\u001b[0;34m.\u001b[0m\u001b[0mready\u001b[0m\u001b[0;34m(\u001b[0m\u001b[0;34m)\u001b[0m\u001b[0;34m:\u001b[0m\u001b[0;34m\u001b[0m\u001b[0;34m\u001b[0m\u001b[0m\n\u001b[1;32m    653\u001b[0m             \u001b[0;32mraise\u001b[0m \u001b[0mTimeoutError\u001b[0m\u001b[0;34m\u001b[0m\u001b[0;34m\u001b[0m\u001b[0m\n",
      "\u001b[0;32m/pkg/linux/anaconda-20191122/anaconda3/lib/python3.7/multiprocessing/pool.py\u001b[0m in \u001b[0;36mwait\u001b[0;34m(self, timeout)\u001b[0m\n\u001b[1;32m    646\u001b[0m \u001b[0;34m\u001b[0m\u001b[0m\n\u001b[1;32m    647\u001b[0m     \u001b[0;32mdef\u001b[0m \u001b[0mwait\u001b[0m\u001b[0;34m(\u001b[0m\u001b[0mself\u001b[0m\u001b[0;34m,\u001b[0m \u001b[0mtimeout\u001b[0m\u001b[0;34m=\u001b[0m\u001b[0;32mNone\u001b[0m\u001b[0;34m)\u001b[0m\u001b[0;34m:\u001b[0m\u001b[0;34m\u001b[0m\u001b[0;34m\u001b[0m\u001b[0m\n\u001b[0;32m--> 648\u001b[0;31m         \u001b[0mself\u001b[0m\u001b[0;34m.\u001b[0m\u001b[0m_event\u001b[0m\u001b[0;34m.\u001b[0m\u001b[0mwait\u001b[0m\u001b[0;34m(\u001b[0m\u001b[0mtimeout\u001b[0m\u001b[0;34m)\u001b[0m\u001b[0;34m\u001b[0m\u001b[0;34m\u001b[0m\u001b[0m\n\u001b[0m\u001b[1;32m    649\u001b[0m \u001b[0;34m\u001b[0m\u001b[0m\n\u001b[1;32m    650\u001b[0m     \u001b[0;32mdef\u001b[0m \u001b[0mget\u001b[0m\u001b[0;34m(\u001b[0m\u001b[0mself\u001b[0m\u001b[0;34m,\u001b[0m \u001b[0mtimeout\u001b[0m\u001b[0;34m=\u001b[0m\u001b[0;32mNone\u001b[0m\u001b[0;34m)\u001b[0m\u001b[0;34m:\u001b[0m\u001b[0;34m\u001b[0m\u001b[0;34m\u001b[0m\u001b[0m\n",
      "\u001b[0;32m/pkg/linux/anaconda-20191122/anaconda3/lib/python3.7/threading.py\u001b[0m in \u001b[0;36mwait\u001b[0;34m(self, timeout)\u001b[0m\n\u001b[1;32m    550\u001b[0m             \u001b[0msignaled\u001b[0m \u001b[0;34m=\u001b[0m \u001b[0mself\u001b[0m\u001b[0;34m.\u001b[0m\u001b[0m_flag\u001b[0m\u001b[0;34m\u001b[0m\u001b[0;34m\u001b[0m\u001b[0m\n\u001b[1;32m    551\u001b[0m             \u001b[0;32mif\u001b[0m \u001b[0;32mnot\u001b[0m \u001b[0msignaled\u001b[0m\u001b[0;34m:\u001b[0m\u001b[0;34m\u001b[0m\u001b[0;34m\u001b[0m\u001b[0m\n\u001b[0;32m--> 552\u001b[0;31m                 \u001b[0msignaled\u001b[0m \u001b[0;34m=\u001b[0m \u001b[0mself\u001b[0m\u001b[0;34m.\u001b[0m\u001b[0m_cond\u001b[0m\u001b[0;34m.\u001b[0m\u001b[0mwait\u001b[0m\u001b[0;34m(\u001b[0m\u001b[0mtimeout\u001b[0m\u001b[0;34m)\u001b[0m\u001b[0;34m\u001b[0m\u001b[0;34m\u001b[0m\u001b[0m\n\u001b[0m\u001b[1;32m    553\u001b[0m             \u001b[0;32mreturn\u001b[0m \u001b[0msignaled\u001b[0m\u001b[0;34m\u001b[0m\u001b[0;34m\u001b[0m\u001b[0m\n\u001b[1;32m    554\u001b[0m \u001b[0;34m\u001b[0m\u001b[0m\n",
      "\u001b[0;32m/pkg/linux/anaconda-20191122/anaconda3/lib/python3.7/threading.py\u001b[0m in \u001b[0;36mwait\u001b[0;34m(self, timeout)\u001b[0m\n\u001b[1;32m    294\u001b[0m         \u001b[0;32mtry\u001b[0m\u001b[0;34m:\u001b[0m    \u001b[0;31m# restore state no matter what (e.g., KeyboardInterrupt)\u001b[0m\u001b[0;34m\u001b[0m\u001b[0;34m\u001b[0m\u001b[0m\n\u001b[1;32m    295\u001b[0m             \u001b[0;32mif\u001b[0m \u001b[0mtimeout\u001b[0m \u001b[0;32mis\u001b[0m \u001b[0;32mNone\u001b[0m\u001b[0;34m:\u001b[0m\u001b[0;34m\u001b[0m\u001b[0;34m\u001b[0m\u001b[0m\n\u001b[0;32m--> 296\u001b[0;31m                 \u001b[0mwaiter\u001b[0m\u001b[0;34m.\u001b[0m\u001b[0macquire\u001b[0m\u001b[0;34m(\u001b[0m\u001b[0;34m)\u001b[0m\u001b[0;34m\u001b[0m\u001b[0;34m\u001b[0m\u001b[0m\n\u001b[0m\u001b[1;32m    297\u001b[0m                 \u001b[0mgotit\u001b[0m \u001b[0;34m=\u001b[0m \u001b[0;32mTrue\u001b[0m\u001b[0;34m\u001b[0m\u001b[0;34m\u001b[0m\u001b[0m\n\u001b[1;32m    298\u001b[0m             \u001b[0;32melse\u001b[0m\u001b[0;34m:\u001b[0m\u001b[0;34m\u001b[0m\u001b[0;34m\u001b[0m\u001b[0m\n",
      "\u001b[0;31mKeyboardInterrupt\u001b[0m: "
     ]
    }
   ],
   "source": [
    "make_sami_df(ncomponents=\"recom\", bin_type=\"default\", eline_SNR_min=5, debug=DEBUG)"
   ]
  },
  {
   "cell_type": "markdown",
   "metadata": {},
   "source": [
    "### Load the SAMI DataFrame we just created\n",
    "Note that if `DEBUG == False`, loading the sample takes a few minutes - patience is a virtue!"
   ]
  },
  {
   "cell_type": "code",
   "execution_count": 63,
   "metadata": {
    "scrolled": false
   },
   "outputs": [
    {
     "name": "stdout",
     "output_type": "stream",
     "text": [
      "In load_sami_df(): Loading DataFrame...\n",
      "In load_sami_df(): Finished!\n"
     ]
    }
   ],
   "source": [
    "from spaxelsleuth.loaddata.sami import load_sami_df\n",
    "df = load_sami_df(ncomponents=\"recom\",\n",
    "                  bin_type=\"default\",\n",
    "                  eline_SNR_min=5,\n",
    "                  correct_extinction=True,\n",
    "                  debug=DEBUG)\n"
   ]
  },
  {
   "cell_type": "markdown",
   "metadata": {},
   "source": [
    "In addition to the measured quantities released in DR3, the DataFrame also contains various other measurements, such as line ratios, spectral categories, equivalent widths, and the like:"
   ]
  },
  {
   "cell_type": "code",
   "execution_count": 58,
   "metadata": {},
   "outputs": [
    {
     "data": {
      "text/html": [
       "<div>\n",
       "<style scoped>\n",
       "    .dataframe tbody tr th:only-of-type {\n",
       "        vertical-align: middle;\n",
       "    }\n",
       "\n",
       "    .dataframe tbody tr th {\n",
       "        vertical-align: top;\n",
       "    }\n",
       "\n",
       "    .dataframe thead th {\n",
       "        text-align: right;\n",
       "    }\n",
       "</style>\n",
       "<table border=\"1\" class=\"dataframe\">\n",
       "  <thead>\n",
       "    <tr style=\"text-align: right;\">\n",
       "      <th></th>\n",
       "      <th>A_V (total)</th>\n",
       "      <th>A_V error (total)</th>\n",
       "      <th>A_g</th>\n",
       "      <th>B-band continuum</th>\n",
       "      <th>B-band continuum error</th>\n",
       "      <th>B-band continuum std. dev.</th>\n",
       "      <th>BPT (total)</th>\n",
       "      <th>BPT (numeric) (total)</th>\n",
       "      <th>Bad class #</th>\n",
       "      <th>Bad stellar kinematics</th>\n",
       "      <th>...</th>\n",
       "      <th>log(U) (R23_KK04/O3O2_KK04) error (upper) (total)</th>\n",
       "      <th>Extinction correction applied</th>\n",
       "      <th>line_flux_SNR_cut</th>\n",
       "      <th>eline_SNR_min</th>\n",
       "      <th>sigma_gas_SNR_min</th>\n",
       "      <th>vgrad_cut</th>\n",
       "      <th>sigma_gas_SNR_cut</th>\n",
       "      <th>line_amplitude_SNR_cut</th>\n",
       "      <th>flux_fraction_cut</th>\n",
       "      <th>stekin_cut</th>\n",
       "    </tr>\n",
       "  </thead>\n",
       "  <tbody>\n",
       "    <tr>\n",
       "      <td>0</td>\n",
       "      <td>NaN</td>\n",
       "      <td>NaN</td>\n",
       "      <td>0.164</td>\n",
       "      <td>0.000074</td>\n",
       "      <td>0.000046</td>\n",
       "      <td>0.002514</td>\n",
       "      <td>Not classified</td>\n",
       "      <td>-1.0</td>\n",
       "      <td>0.0</td>\n",
       "      <td>True</td>\n",
       "      <td>...</td>\n",
       "      <td>NaN</td>\n",
       "      <td>True</td>\n",
       "      <td>True</td>\n",
       "      <td>5</td>\n",
       "      <td>3</td>\n",
       "      <td>False</td>\n",
       "      <td>True</td>\n",
       "      <td>True</td>\n",
       "      <td>False</td>\n",
       "      <td>True</td>\n",
       "    </tr>\n",
       "    <tr>\n",
       "      <td>1</td>\n",
       "      <td>NaN</td>\n",
       "      <td>NaN</td>\n",
       "      <td>0.164</td>\n",
       "      <td>0.000075</td>\n",
       "      <td>0.000046</td>\n",
       "      <td>0.002512</td>\n",
       "      <td>Not classified</td>\n",
       "      <td>-1.0</td>\n",
       "      <td>0.0</td>\n",
       "      <td>True</td>\n",
       "      <td>...</td>\n",
       "      <td>NaN</td>\n",
       "      <td>True</td>\n",
       "      <td>True</td>\n",
       "      <td>5</td>\n",
       "      <td>3</td>\n",
       "      <td>False</td>\n",
       "      <td>True</td>\n",
       "      <td>True</td>\n",
       "      <td>False</td>\n",
       "      <td>True</td>\n",
       "    </tr>\n",
       "    <tr>\n",
       "      <td>2</td>\n",
       "      <td>NaN</td>\n",
       "      <td>NaN</td>\n",
       "      <td>0.164</td>\n",
       "      <td>0.000768</td>\n",
       "      <td>0.000037</td>\n",
       "      <td>0.002847</td>\n",
       "      <td>Not classified</td>\n",
       "      <td>-1.0</td>\n",
       "      <td>0.0</td>\n",
       "      <td>True</td>\n",
       "      <td>...</td>\n",
       "      <td>NaN</td>\n",
       "      <td>True</td>\n",
       "      <td>True</td>\n",
       "      <td>5</td>\n",
       "      <td>3</td>\n",
       "      <td>False</td>\n",
       "      <td>True</td>\n",
       "      <td>True</td>\n",
       "      <td>False</td>\n",
       "      <td>True</td>\n",
       "    </tr>\n",
       "    <tr>\n",
       "      <td>3</td>\n",
       "      <td>NaN</td>\n",
       "      <td>NaN</td>\n",
       "      <td>0.164</td>\n",
       "      <td>-0.000018</td>\n",
       "      <td>0.000094</td>\n",
       "      <td>0.002899</td>\n",
       "      <td>Not classified</td>\n",
       "      <td>-1.0</td>\n",
       "      <td>0.0</td>\n",
       "      <td>True</td>\n",
       "      <td>...</td>\n",
       "      <td>NaN</td>\n",
       "      <td>True</td>\n",
       "      <td>True</td>\n",
       "      <td>5</td>\n",
       "      <td>3</td>\n",
       "      <td>False</td>\n",
       "      <td>True</td>\n",
       "      <td>True</td>\n",
       "      <td>False</td>\n",
       "      <td>True</td>\n",
       "    </tr>\n",
       "    <tr>\n",
       "      <td>4</td>\n",
       "      <td>NaN</td>\n",
       "      <td>NaN</td>\n",
       "      <td>0.164</td>\n",
       "      <td>-0.000039</td>\n",
       "      <td>0.000096</td>\n",
       "      <td>0.002920</td>\n",
       "      <td>Not classified</td>\n",
       "      <td>-1.0</td>\n",
       "      <td>0.0</td>\n",
       "      <td>True</td>\n",
       "      <td>...</td>\n",
       "      <td>NaN</td>\n",
       "      <td>True</td>\n",
       "      <td>True</td>\n",
       "      <td>5</td>\n",
       "      <td>3</td>\n",
       "      <td>False</td>\n",
       "      <td>True</td>\n",
       "      <td>True</td>\n",
       "      <td>False</td>\n",
       "      <td>True</td>\n",
       "    </tr>\n",
       "    <tr>\n",
       "      <td>...</td>\n",
       "      <td>...</td>\n",
       "      <td>...</td>\n",
       "      <td>...</td>\n",
       "      <td>...</td>\n",
       "      <td>...</td>\n",
       "      <td>...</td>\n",
       "      <td>...</td>\n",
       "      <td>...</td>\n",
       "      <td>...</td>\n",
       "      <td>...</td>\n",
       "      <td>...</td>\n",
       "      <td>...</td>\n",
       "      <td>...</td>\n",
       "      <td>...</td>\n",
       "      <td>...</td>\n",
       "      <td>...</td>\n",
       "      <td>...</td>\n",
       "      <td>...</td>\n",
       "      <td>...</td>\n",
       "      <td>...</td>\n",
       "      <td>...</td>\n",
       "    </tr>\n",
       "    <tr>\n",
       "      <td>7479</td>\n",
       "      <td>NaN</td>\n",
       "      <td>NaN</td>\n",
       "      <td>0.123</td>\n",
       "      <td>-0.000364</td>\n",
       "      <td>0.000119</td>\n",
       "      <td>0.004446</td>\n",
       "      <td>Not classified</td>\n",
       "      <td>-1.0</td>\n",
       "      <td>0.0</td>\n",
       "      <td>True</td>\n",
       "      <td>...</td>\n",
       "      <td>NaN</td>\n",
       "      <td>True</td>\n",
       "      <td>True</td>\n",
       "      <td>5</td>\n",
       "      <td>3</td>\n",
       "      <td>False</td>\n",
       "      <td>True</td>\n",
       "      <td>True</td>\n",
       "      <td>False</td>\n",
       "      <td>True</td>\n",
       "    </tr>\n",
       "    <tr>\n",
       "      <td>7480</td>\n",
       "      <td>NaN</td>\n",
       "      <td>NaN</td>\n",
       "      <td>0.123</td>\n",
       "      <td>-0.000416</td>\n",
       "      <td>0.000110</td>\n",
       "      <td>0.004714</td>\n",
       "      <td>Not classified</td>\n",
       "      <td>-1.0</td>\n",
       "      <td>0.0</td>\n",
       "      <td>True</td>\n",
       "      <td>...</td>\n",
       "      <td>NaN</td>\n",
       "      <td>True</td>\n",
       "      <td>True</td>\n",
       "      <td>5</td>\n",
       "      <td>3</td>\n",
       "      <td>False</td>\n",
       "      <td>True</td>\n",
       "      <td>True</td>\n",
       "      <td>False</td>\n",
       "      <td>True</td>\n",
       "    </tr>\n",
       "    <tr>\n",
       "      <td>7481</td>\n",
       "      <td>NaN</td>\n",
       "      <td>NaN</td>\n",
       "      <td>0.123</td>\n",
       "      <td>0.000638</td>\n",
       "      <td>0.000061</td>\n",
       "      <td>0.006578</td>\n",
       "      <td>Not classified</td>\n",
       "      <td>-1.0</td>\n",
       "      <td>0.0</td>\n",
       "      <td>True</td>\n",
       "      <td>...</td>\n",
       "      <td>NaN</td>\n",
       "      <td>True</td>\n",
       "      <td>True</td>\n",
       "      <td>5</td>\n",
       "      <td>3</td>\n",
       "      <td>False</td>\n",
       "      <td>True</td>\n",
       "      <td>True</td>\n",
       "      <td>False</td>\n",
       "      <td>True</td>\n",
       "    </tr>\n",
       "    <tr>\n",
       "      <td>7482</td>\n",
       "      <td>NaN</td>\n",
       "      <td>NaN</td>\n",
       "      <td>0.123</td>\n",
       "      <td>0.000818</td>\n",
       "      <td>0.000069</td>\n",
       "      <td>0.006827</td>\n",
       "      <td>Not classified</td>\n",
       "      <td>-1.0</td>\n",
       "      <td>0.0</td>\n",
       "      <td>True</td>\n",
       "      <td>...</td>\n",
       "      <td>NaN</td>\n",
       "      <td>True</td>\n",
       "      <td>True</td>\n",
       "      <td>5</td>\n",
       "      <td>3</td>\n",
       "      <td>False</td>\n",
       "      <td>True</td>\n",
       "      <td>True</td>\n",
       "      <td>False</td>\n",
       "      <td>True</td>\n",
       "    </tr>\n",
       "    <tr>\n",
       "      <td>7483</td>\n",
       "      <td>NaN</td>\n",
       "      <td>NaN</td>\n",
       "      <td>0.123</td>\n",
       "      <td>NaN</td>\n",
       "      <td>0.000000</td>\n",
       "      <td>NaN</td>\n",
       "      <td>Not classified</td>\n",
       "      <td>-1.0</td>\n",
       "      <td>0.0</td>\n",
       "      <td>True</td>\n",
       "      <td>...</td>\n",
       "      <td>NaN</td>\n",
       "      <td>True</td>\n",
       "      <td>True</td>\n",
       "      <td>5</td>\n",
       "      <td>3</td>\n",
       "      <td>False</td>\n",
       "      <td>True</td>\n",
       "      <td>True</td>\n",
       "      <td>False</td>\n",
       "      <td>True</td>\n",
       "    </tr>\n",
       "  </tbody>\n",
       "</table>\n",
       "<p>7484 rows × 412 columns</p>\n",
       "</div>"
      ],
      "text/plain": [
       "      A_V (total)  A_V error (total)    A_g  B-band continuum  \\\n",
       "0             NaN                NaN  0.164          0.000074   \n",
       "1             NaN                NaN  0.164          0.000075   \n",
       "2             NaN                NaN  0.164          0.000768   \n",
       "3             NaN                NaN  0.164         -0.000018   \n",
       "4             NaN                NaN  0.164         -0.000039   \n",
       "...           ...                ...    ...               ...   \n",
       "7479          NaN                NaN  0.123         -0.000364   \n",
       "7480          NaN                NaN  0.123         -0.000416   \n",
       "7481          NaN                NaN  0.123          0.000638   \n",
       "7482          NaN                NaN  0.123          0.000818   \n",
       "7483          NaN                NaN  0.123               NaN   \n",
       "\n",
       "      B-band continuum error  B-band continuum std. dev.     BPT (total)  \\\n",
       "0                   0.000046                    0.002514  Not classified   \n",
       "1                   0.000046                    0.002512  Not classified   \n",
       "2                   0.000037                    0.002847  Not classified   \n",
       "3                   0.000094                    0.002899  Not classified   \n",
       "4                   0.000096                    0.002920  Not classified   \n",
       "...                      ...                         ...             ...   \n",
       "7479                0.000119                    0.004446  Not classified   \n",
       "7480                0.000110                    0.004714  Not classified   \n",
       "7481                0.000061                    0.006578  Not classified   \n",
       "7482                0.000069                    0.006827  Not classified   \n",
       "7483                0.000000                         NaN  Not classified   \n",
       "\n",
       "      BPT (numeric) (total)  Bad class #  Bad stellar kinematics  ...  \\\n",
       "0                      -1.0          0.0                    True  ...   \n",
       "1                      -1.0          0.0                    True  ...   \n",
       "2                      -1.0          0.0                    True  ...   \n",
       "3                      -1.0          0.0                    True  ...   \n",
       "4                      -1.0          0.0                    True  ...   \n",
       "...                     ...          ...                     ...  ...   \n",
       "7479                   -1.0          0.0                    True  ...   \n",
       "7480                   -1.0          0.0                    True  ...   \n",
       "7481                   -1.0          0.0                    True  ...   \n",
       "7482                   -1.0          0.0                    True  ...   \n",
       "7483                   -1.0          0.0                    True  ...   \n",
       "\n",
       "      log(U) (R23_KK04/O3O2_KK04) error (upper) (total)  \\\n",
       "0                                                   NaN   \n",
       "1                                                   NaN   \n",
       "2                                                   NaN   \n",
       "3                                                   NaN   \n",
       "4                                                   NaN   \n",
       "...                                                 ...   \n",
       "7479                                                NaN   \n",
       "7480                                                NaN   \n",
       "7481                                                NaN   \n",
       "7482                                                NaN   \n",
       "7483                                                NaN   \n",
       "\n",
       "      Extinction correction applied  line_flux_SNR_cut  eline_SNR_min  \\\n",
       "0                              True               True              5   \n",
       "1                              True               True              5   \n",
       "2                              True               True              5   \n",
       "3                              True               True              5   \n",
       "4                              True               True              5   \n",
       "...                             ...                ...            ...   \n",
       "7479                           True               True              5   \n",
       "7480                           True               True              5   \n",
       "7481                           True               True              5   \n",
       "7482                           True               True              5   \n",
       "7483                           True               True              5   \n",
       "\n",
       "      sigma_gas_SNR_min  vgrad_cut  sigma_gas_SNR_cut  line_amplitude_SNR_cut  \\\n",
       "0                     3      False               True                    True   \n",
       "1                     3      False               True                    True   \n",
       "2                     3      False               True                    True   \n",
       "3                     3      False               True                    True   \n",
       "4                     3      False               True                    True   \n",
       "...                 ...        ...                ...                     ...   \n",
       "7479                  3      False               True                    True   \n",
       "7480                  3      False               True                    True   \n",
       "7481                  3      False               True                    True   \n",
       "7482                  3      False               True                    True   \n",
       "7483                  3      False               True                    True   \n",
       "\n",
       "      flux_fraction_cut  stekin_cut  \n",
       "0                 False        True  \n",
       "1                 False        True  \n",
       "2                 False        True  \n",
       "3                 False        True  \n",
       "4                 False        True  \n",
       "...                 ...         ...  \n",
       "7479              False        True  \n",
       "7480              False        True  \n",
       "7481              False        True  \n",
       "7482              False        True  \n",
       "7483              False        True  \n",
       "\n",
       "[7484 rows x 412 columns]"
      ]
     },
     "execution_count": 58,
     "metadata": {},
     "output_type": "execute_result"
    }
   ],
   "source": [
    "df"
   ]
  },
  {
   "cell_type": "code",
   "execution_count": 37,
   "metadata": {
    "scrolled": true
   },
   "outputs": [
    {
     "name": "stdout",
     "output_type": "stream",
     "text": [
      "A_V (total)\n",
      "A_V error (total)\n",
      "A_g\n",
      "B-band continuum\n",
      "B-band continuum error\n",
      "B-band continuum std. dev.\n",
      "BPT (total)\n",
      "BPT (numeric) (total)\n",
      "Bad class #\n",
      "Bad stellar kinematics\n",
      "Balmer decrement (total)\n",
      "Balmer decrement error (total)\n",
      "Beam smearing flag (component 1)\n",
      "Beam smearing flag (component 2)\n",
      "Beam smearing flag (component 3)\n",
      "Bin number\n",
      "Bin size (pixels)\n",
      "Bin size (square arcsec)\n",
      "Bin size (square kpc)\n",
      "Cluster member\n",
      "Corrected for extinction?\n",
      "D4000\n",
      "D4000 error\n",
      "D_A (Mpc)\n",
      "D_L (Mpc)\n",
      "Dec (J2000)\n",
      "Dopita+2016 (total)\n",
      "Galaxy centre x0_px (projected, arcsec)\n",
      "Galaxy centre y0_px (projected, arcsec)\n",
      "Good?\n",
      "HALPHA (total)\n",
      "HALPHA (component 1)\n",
      "HALPHA (component 2)\n",
      "HALPHA (component 3)\n",
      "HALPHA A (component 1)\n",
      "HALPHA A (component 2)\n",
      "HALPHA A (component 3)\n",
      "HALPHA EW (total)\n",
      "HALPHA EW (component 1)\n",
      "HALPHA EW (component 2)\n",
      "HALPHA EW (component 3)\n",
      "HALPHA EW error (total)\n",
      "HALPHA EW error (component 1)\n",
      "HALPHA EW error (component 2)\n",
      "HALPHA EW error (component 3)\n",
      "HALPHA S/N (total)\n",
      "HALPHA S/N (component 1)\n",
      "HALPHA S/N (component 2)\n",
      "HALPHA S/N (component 3)\n",
      "HALPHA continuum\n",
      "HALPHA continuum error\n",
      "HALPHA continuum std. dev.\n",
      "HALPHA error (total)\n",
      "HALPHA error (component 1)\n",
      "HALPHA error (component 2)\n",
      "HALPHA error (component 3)\n",
      "HALPHA extinction correction\n",
      "HALPHA extinction correction error\n",
      "HALPHA lambda_obs (component 1) (Å)\n",
      "HALPHA lambda_obs (component 2) (Å)\n",
      "HALPHA lambda_obs (component 3) (Å)\n",
      "HALPHA sigma_gas (component 1) (Å)\n",
      "HALPHA sigma_gas (component 2) (Å)\n",
      "HALPHA sigma_gas (component 3) (Å)\n",
      "HBETA (total)\n",
      "HBETA S/N (total)\n",
      "HBETA error (total)\n",
      "ID\n",
      "Low amplitude flag - HALPHA (total)\n",
      "Low amplitude flag - HALPHA (component 1)\n",
      "Low amplitude flag - HALPHA (component 2)\n",
      "Low amplitude flag - HALPHA (component 3)\n",
      "Low amplitude flag - HBETA (total)\n",
      "Low amplitude flag - NII6583 (total)\n",
      "Low amplitude flag - OI6300 (total)\n",
      "Low amplitude flag - OII3726+OII3729 (total)\n",
      "Low amplitude flag - OIII5007 (total)\n",
      "Low amplitude flag - SII6716 (total)\n",
      "Low amplitude flag - SII6731 (total)\n",
      "Low flux S/N flag - HALPHA (total)\n",
      "Low flux S/N flag - HALPHA (component 1)\n",
      "Low flux S/N flag - HALPHA (component 2)\n",
      "Low flux S/N flag - HALPHA (component 3)\n",
      "Low flux S/N flag - HBETA (total)\n",
      "Low flux S/N flag - NII6583 (total)\n",
      "Low flux S/N flag - OI6300 (total)\n",
      "Low flux S/N flag - OII3726+OII3729 (total)\n",
      "Low flux S/N flag - OIII5007 (total)\n",
      "Low flux S/N flag - SII6716 (total)\n",
      "Low flux S/N flag - SII6731 (total)\n",
      "Low flux fraction flag - HALPHA (total)\n",
      "Low flux fraction flag - HALPHA (component 1)\n",
      "Low flux fraction flag - HALPHA (component 2)\n",
      "Low flux fraction flag - HALPHA (component 3)\n",
      "Low flux fraction flag - HBETA (total)\n",
      "Low flux fraction flag - NII6583 (total)\n",
      "Low flux fraction flag - OI6300 (total)\n",
      "Low flux fraction flag - OII3726+OII3729 (total)\n",
      "Low flux fraction flag - OIII5007 (total)\n",
      "Low flux fraction flag - SII6716 (total)\n",
      "Low flux fraction flag - SII6731 (total)\n",
      "Low sigma_gas S/N flag (component 1)\n",
      "Low sigma_gas S/N flag (component 2)\n",
      "Low sigma_gas S/N flag (component 3)\n",
      "M_r\n",
      "Missing components flag\n",
      "Missing flux flag - HALPHA (total)\n",
      "Missing flux flag - HALPHA (component 1)\n",
      "Missing flux flag - HALPHA (component 2)\n",
      "Missing flux flag - HALPHA (component 3)\n",
      "Missing flux flag - HBETA (total)\n",
      "Missing flux flag - NII6583 (total)\n",
      "Missing flux flag - OI6300 (total)\n",
      "Missing flux flag - OII3726+OII3729 (total)\n",
      "Missing flux flag - OIII5007 (total)\n",
      "Missing flux flag - SII6716 (total)\n",
      "Missing flux flag - SII6731 (total)\n",
      "Morphology\n",
      "Morphology (numeric)\n",
      "N2 (total)\n",
      "N2 error (total)\n",
      "N2O2 (total)\n",
      "N2S2 (total)\n",
      "NII6548 (total)\n",
      "NII6548 error (total)\n",
      "NII6548+NII6583 (total)\n",
      "NII6548+NII6583 error (total)\n",
      "NII6583 (total)\n",
      "NII6583 S/N (total)\n",
      "NII6583 error (total)\n",
      "Number of components\n",
      "Number of components (original)\n",
      "O1 (total)\n",
      "O1 error (total)\n",
      "O1O3 (total)\n",
      "O3 (total)\n",
      "O3 error (total)\n",
      "O3N2 (total)\n",
      "O3O2 (total)\n",
      "OI6300 (total)\n",
      "OI6300 S/N (total)\n",
      "OI6300 error (total)\n",
      "OII3726+OII3729 (total)\n",
      "OII3726+OII3729 S/N (total)\n",
      "OII3726+OII3729 error (total)\n",
      "OIII4959 (total)\n",
      "OIII4959 error (total)\n",
      "OIII4959+OIII5007 (total)\n",
      "OIII4959+OIII5007 error (total)\n",
      "OIII5007 (total)\n",
      "OIII5007 S/N (total)\n",
      "OIII5007 error (total)\n",
      "PA (MGE) (degrees)\n",
      "PA (degrees)\n",
      "R23 (total)\n",
      "RA (J2000)\n",
      "R_e (MGE) (arcsec)\n",
      "R_e (MGE) (kpc)\n",
      "R_e (arcsec)\n",
      "R_e (kpc)\n",
      "S2 (total)\n",
      "S2 error (total)\n",
      "S2 ratio (total)\n",
      "S2 ratio error (total)\n",
      "SFR (total)\n",
      "SFR (component 1)\n",
      "SFR error (total)\n",
      "SFR error (component 1)\n",
      "SFR surface density (total)\n",
      "SFR surface density (component 1)\n",
      "SFR surface density error (total)\n",
      "SFR surface density error (component 1)\n",
      "SII6716 (total)\n",
      "SII6716 S/N (total)\n",
      "SII6716 error (total)\n",
      "SII6716+SII6731 (total)\n",
      "SII6716+SII6731 error (total)\n",
      "SII6731 (total)\n",
      "SII6731 S/N (total)\n",
      "SII6731 error (total)\n",
      "e\n",
      "e at 1R_e (MGE)\n",
      "e, LW (MGE)\n",
      "g - i colour\n",
      "i (degrees)\n",
      "kpc per arcsec\n",
      "log M_*\n",
      "log N2 (total)\n",
      "log N2 error (lower) (total)\n",
      "log N2 error (upper) (total)\n",
      "log O1 (total)\n",
      "log O1 error (lower) (total)\n",
      "log O1 error (upper) (total)\n",
      "log O3 (total)\n",
      "log O3 error (lower) (total)\n",
      "log O3 error (upper) (total)\n",
      "log S2 (total)\n",
      "log S2 error (lower) (total)\n",
      "log S2 error (upper) (total)\n",
      "log(M/R_e)\n",
      "m_AB (MGE)\n",
      "mu_r at 1R_e\n",
      "mu_r at 2R_e\n",
      "mu_r within 1R_e\n",
      "r (relative to galaxy centre, deprojected, arcsec)\n",
      "r/R_200\n",
      "r/R_e\n",
      "sigma_*\n",
      "sigma_* error\n",
      "sigma_gas (component 1)\n",
      "sigma_gas (component 2)\n",
      "sigma_gas (component 3)\n",
      "sigma_gas error (component 1)\n",
      "sigma_gas error (component 2)\n",
      "sigma_gas error (component 3)\n",
      "sigma_obs (component 1)\n",
      "sigma_obs (component 2)\n",
      "sigma_obs (component 3)\n",
      "sigma_obs S/N (component 1)\n",
      "sigma_obs S/N (component 2)\n",
      "sigma_obs S/N (component 3)\n",
      "sigma_obs target S/N (component 1)\n",
      "sigma_obs target S/N (component 2)\n",
      "sigma_obs target S/N (component 3)\n",
      "v/sigma_cluster\n",
      "v_*\n",
      "v_* error\n",
      "v_gas (component 1)\n",
      "v_gas (component 2)\n",
      "v_gas (component 3)\n",
      "v_gas error (component 1)\n",
      "v_gas error (component 2)\n",
      "v_gas error (component 3)\n",
      "v_grad (component 1)\n",
      "v_grad (component 2)\n",
      "v_grad (component 3)\n",
      "x (projected, arcsec)\n",
      "x (relative to galaxy centre, deprojected, arcsec)\n",
      "y (projected, arcsec)\n",
      "y (relative to galaxy centre, deprojected, arcsec)\n",
      "z\n",
      "z (flow-corrected)\n",
      "HALPHA continuum luminosity\n",
      "HALPHA continuum luminosity error\n",
      "HALPHA luminosity (total)\n",
      "HALPHA luminosity error (total)\n",
      "HALPHA luminosity (component 1)\n",
      "HALPHA luminosity error (component 1)\n",
      "HALPHA luminosity (component 2)\n",
      "HALPHA luminosity error (component 2)\n",
      "HALPHA luminosity (component 3)\n",
      "HALPHA luminosity error (component 3)\n",
      "FWHM_gas (component 1)\n",
      "FWHM_gas error (component 1)\n",
      "FWHM_gas (component 2)\n",
      "FWHM_gas error (component 2)\n",
      "FWHM_gas (component 3)\n",
      "FWHM_gas error (component 3)\n",
      "sigma_gas - sigma_* (component 1)\n",
      "sigma_gas - sigma_* error (component 1)\n",
      "sigma_gas^2 - sigma_*^2 (component 1)\n",
      "sigma_gas^2 - sigma_*^2 error (component 1)\n",
      "v_gas - v_* (component 1)\n",
      "v_gas - v_* error (component 1)\n",
      "sigma_gas/sigma_* (component 1)\n",
      "sigma_gas/sigma_* error (component 1)\n",
      "sigma_gas - sigma_* (component 2)\n",
      "sigma_gas - sigma_* error (component 2)\n",
      "sigma_gas^2 - sigma_*^2 (component 2)\n",
      "sigma_gas^2 - sigma_*^2 error (component 2)\n",
      "v_gas - v_* (component 2)\n",
      "v_gas - v_* error (component 2)\n",
      "sigma_gas/sigma_* (component 2)\n",
      "sigma_gas/sigma_* error (component 2)\n",
      "sigma_gas - sigma_* (component 3)\n",
      "sigma_gas - sigma_* error (component 3)\n",
      "sigma_gas^2 - sigma_*^2 (component 3)\n",
      "sigma_gas^2 - sigma_*^2 error (component 3)\n",
      "v_gas - v_* (component 3)\n",
      "v_gas - v_* error (component 3)\n",
      "sigma_gas/sigma_* (component 3)\n",
      "sigma_gas/sigma_* error (component 3)\n",
      "log HALPHA luminosity (total)\n",
      "log HALPHA luminosity error (lower) (total)\n",
      "log HALPHA luminosity error (upper) (total)\n",
      "log HALPHA luminosity (component 1)\n",
      "log HALPHA luminosity error (lower) (component 1)\n",
      "log HALPHA luminosity error (upper) (component 1)\n",
      "log HALPHA luminosity (component 2)\n",
      "log HALPHA luminosity error (lower) (component 2)\n",
      "log HALPHA luminosity error (upper) (component 2)\n",
      "log HALPHA luminosity (component 3)\n",
      "log HALPHA luminosity error (lower) (component 3)\n",
      "log HALPHA luminosity error (upper) (component 3)\n",
      "log HALPHA EW (total)\n",
      "log HALPHA EW error (lower) (total)\n",
      "log HALPHA EW error (upper) (total)\n",
      "log HALPHA EW (component 1)\n",
      "log HALPHA EW error (lower) (component 1)\n",
      "log HALPHA EW error (upper) (component 1)\n",
      "log HALPHA EW (component 2)\n",
      "log HALPHA EW error (lower) (component 2)\n",
      "log HALPHA EW error (upper) (component 2)\n",
      "log HALPHA EW (component 3)\n",
      "log HALPHA EW error (lower) (component 3)\n",
      "log HALPHA EW error (upper) (component 3)\n",
      "log sigma_gas (component 1)\n",
      "log sigma_gas error (lower) (component 1)\n",
      "log sigma_gas error (upper) (component 1)\n",
      "log sigma_gas (component 2)\n",
      "log sigma_gas error (lower) (component 2)\n",
      "log sigma_gas error (upper) (component 2)\n",
      "log sigma_gas (component 3)\n",
      "log sigma_gas error (lower) (component 3)\n",
      "log sigma_gas error (upper) (component 3)\n",
      "log S2 ratio (total)\n",
      "log S2 ratio error (lower) (total)\n",
      "log S2 ratio error (upper) (total)\n",
      "log SFR (total)\n",
      "log SFR error (lower) (total)\n",
      "log SFR error (upper) (total)\n",
      "log SFR surface density (total)\n",
      "log SFR surface density error (lower) (total)\n",
      "log SFR surface density error (upper) (total)\n",
      "log SFR (component 1)\n",
      "log SFR error (lower) (component 1)\n",
      "log SFR error (upper) (component 1)\n",
      "log SFR surface density (component 1)\n",
      "log SFR surface density error (lower) (component 1)\n",
      "log SFR surface density error (upper) (component 1)\n",
      "delta sigma_gas (2/1)\n",
      "delta sigma_gas (3/2)\n",
      "delta sigma_gas error (2/1)\n",
      "delta sigma_gas error (3/2)\n",
      "delta v_gas (2/1)\n",
      "delta v_gas (3/2)\n",
      "delta v_gas error (2/1)\n",
      "delta v_gas error (3/2)\n",
      "HALPHA EW ratio (2/1)\n",
      "HALPHA EW ratio (3/2)\n",
      "HALPHA EW ratio error (2/1)\n",
      "HALPHA EW ratio error (3/2)\n",
      "Delta HALPHA EW (1/2)\n",
      "Delta HALPHA EW (2/3)\n",
      "HALPHA EW/HALPHA EW (total) (component 1)\n",
      "HALPHA EW/HALPHA EW (total) (component 2)\n",
      "HALPHA EW/HALPHA EW (total) (component 3)\n",
      "log(O/H) + 12 (N2Ha_PP04) (total)\n",
      "log(O/H) + 12 (N2Ha_PP04) error (lower) (total)\n",
      "log(O/H) + 12 (N2Ha_PP04) error (upper) (total)\n",
      "log(O/H) + 12 (N2Ha_M13) (total)\n",
      "log(O/H) + 12 (N2Ha_M13) error (lower) (total)\n",
      "log(O/H) + 12 (N2Ha_M13) error (upper) (total)\n",
      "log(O/H) + 12 (O3N2_PP04) (total)\n",
      "log(O/H) + 12 (O3N2_PP04) error (lower) (total)\n",
      "log(O/H) + 12 (O3N2_PP04) error (upper) (total)\n",
      "log(O/H) + 12 (O3N2_M13) (total)\n",
      "log(O/H) + 12 (O3N2_M13) error (lower) (total)\n",
      "log(O/H) + 12 (O3N2_M13) error (upper) (total)\n",
      "log(O/H) + 12 (N2S2Ha_D16) (total)\n",
      "log(O/H) + 12 (N2S2Ha_D16) error (lower) (total)\n",
      "log(O/H) + 12 (N2S2Ha_D16) error (upper) (total)\n",
      "log(O/H) + 12 (N2O2_KD02) (total)\n",
      "log(O/H) + 12 (N2O2_KD02) error (lower) (total)\n",
      "log(O/H) + 12 (N2O2_KD02) error (upper) (total)\n",
      "log(O/H) + 12 (Rcal_PG16) (total)\n",
      "log(O/H) + 12 (Rcal_PG16) error (lower) (total)\n",
      "log(O/H) + 12 (Rcal_PG16) error (upper) (total)\n",
      "log(O/H) + 12 (Scal_PG16) (total)\n",
      "log(O/H) + 12 (Scal_PG16) error (lower) (total)\n",
      "log(O/H) + 12 (Scal_PG16) error (upper) (total)\n",
      "log(O/H) + 12 (ON_P10) (total)\n",
      "log(O/H) + 12 (ON_P10) error (lower) (total)\n",
      "log(O/H) + 12 (ON_P10) error (upper) (total)\n",
      "log(O/H) + 12 (ONS_P10) (total)\n",
      "log(O/H) + 12 (ONS_P10) error (lower) (total)\n",
      "log(O/H) + 12 (ONS_P10) error (upper) (total)\n",
      "log(O/H) + 12 (N2Ha_K19/O3O2_K19) (total)\n",
      "log(U) (N2Ha_K19/O3O2_K19) (total)\n",
      "log(O/H) + 12 (N2Ha_K19/O3O2_K19) error (lower) (total)\n",
      "log(O/H) + 12 (N2Ha_K19/O3O2_K19) error (upper) (total)\n",
      "log(U) (N2Ha_K19/O3O2_K19) error (lower) (total)\n",
      "log(U) (N2Ha_K19/O3O2_K19) error (upper) (total)\n",
      "log(O/H) + 12 (O3N2_K19/O3O2_K19) (total)\n",
      "log(U) (O3N2_K19/O3O2_K19) (total)\n",
      "log(O/H) + 12 (O3N2_K19/O3O2_K19) error (lower) (total)\n",
      "log(O/H) + 12 (O3N2_K19/O3O2_K19) error (upper) (total)\n",
      "log(U) (O3N2_K19/O3O2_K19) error (lower) (total)\n",
      "log(U) (O3N2_K19/O3O2_K19) error (upper) (total)\n",
      "log(O/H) + 12 (N2O2_K19/O3O2_K19) (total)\n",
      "log(U) (N2O2_K19/O3O2_K19) (total)\n",
      "log(O/H) + 12 (N2O2_K19/O3O2_K19) error (lower) (total)\n",
      "log(O/H) + 12 (N2O2_K19/O3O2_K19) error (upper) (total)\n",
      "log(U) (N2O2_K19/O3O2_K19) error (lower) (total)\n",
      "log(U) (N2O2_K19/O3O2_K19) error (upper) (total)\n",
      "log(O/H) + 12 (R23_KK04/O3O2_KK04) (total)\n",
      "log(U) (R23_KK04/O3O2_KK04) (total)\n",
      "log(O/H) + 12 (R23_KK04/O3O2_KK04) error (lower) (total)\n",
      "log(O/H) + 12 (R23_KK04/O3O2_KK04) error (upper) (total)\n",
      "log(U) (R23_KK04/O3O2_KK04) error (lower) (total)\n",
      "log(U) (R23_KK04/O3O2_KK04) error (upper) (total)\n",
      "Extinction correction applied\n",
      "line_flux_SNR_cut\n",
      "eline_SNR_min\n",
      "sigma_gas_SNR_min\n",
      "vgrad_cut\n",
      "sigma_gas_SNR_cut\n",
      "line_amplitude_SNR_cut\n",
      "flux_fraction_cut\n",
      "stekin_cut\n"
     ]
    }
   ],
   "source": [
    "for col in df.columns:\n",
    "    print(col)"
   ]
  },
  {
   "cell_type": "markdown",
   "metadata": {},
   "source": [
    "If we like, we can limit our DataFrame to spaxels in which *all* Gaussian emission line components meet our S/N and DQ requirements:"
   ]
  },
  {
   "cell_type": "code",
   "execution_count": 38,
   "metadata": {},
   "outputs": [],
   "source": [
    "cond_bad_components = df[\"Missing components flag\"]\n",
    "df = df[~cond_bad_components]"
   ]
  },
  {
   "cell_type": "markdown",
   "metadata": {},
   "source": [
    "Let's have a look at some statistics:"
   ]
  },
  {
   "cell_type": "code",
   "execution_count": 39,
   "metadata": {},
   "outputs": [
    {
     "name": "stdout",
     "output_type": "stream",
     "text": [
      "There are 1638 spaxels (42.57%) with 0 components as determined by LZCOMP\n",
      "There are 1921 spaxels (49.92%) with 1 components as determined by LZCOMP\n",
      "There are 239 spaxels (6.21%) with 2 components as determined by LZCOMP\n",
      "There are 50 spaxels (1.30%) with 3 components as determined by LZCOMP\n"
     ]
    }
   ],
   "source": [
    "# Calculate the fraction of spaxels with different numbers of emission line components\n",
    "n_spaxels_tot = df.shape[0]\n",
    "for nn in range(4):\n",
    "    cond = df[\"Number of components (original)\"] == nn\n",
    "    n_spaxels = df[cond].shape[0]\n",
    "    print(f\"There are {n_spaxels} spaxels ({n_spaxels / n_spaxels_tot * 100:.2f}%) with {nn} components as determined by LZCOMP\")"
   ]
  },
  {
   "cell_type": "code",
   "execution_count": 40,
   "metadata": {
    "scrolled": true
   },
   "outputs": [
    {
     "name": "stdout",
     "output_type": "stream",
     "text": [
      "There are 2986 spaxels (77.60%) classified as Not classified\n",
      "There are 95 spaxels (2.47%) classified as Ambiguous\n",
      "There are 24 spaxels (0.62%) classified as LINER\n",
      "There are 735 spaxels (19.10%) classified as SF\n",
      "There are 8 spaxels (0.21%) classified as Composite\n"
     ]
    }
   ],
   "source": [
    "# Calculate the number of spaxels with different spectral classifications \n",
    "n_spaxels_tot = df.shape[0]\n",
    "spec_cats = df[\"BPT (total)\"].unique()  # List of spectral categories in the data set\n",
    "for spec_cat in spec_cats:\n",
    "    cond = df[\"BPT (total)\"] == spec_cat\n",
    "    n_spaxels = df[cond].shape[0]\n",
    "    print(f\"There are {n_spaxels} spaxels ({n_spaxels / n_spaxels_tot * 100:.2f}%) classified as {spec_cat}\")"
   ]
  },
  {
   "cell_type": "code",
   "execution_count": 41,
   "metadata": {
    "scrolled": true
   },
   "outputs": [
    {
     "name": "stderr",
     "output_type": "stream",
     "text": [
      "/pkg/linux/anaconda-20191122/anaconda3/lib/python3.7/site-packages/astropy/visualization/hist.py:72: MatplotlibDeprecationWarning: \n",
      "The 'normed' kwarg was deprecated in Matplotlib 2.1 and will be removed in 3.1. Use 'density' instead.\n",
      "  return ax.hist(x, bins, **kwargs)\n"
     ]
    },
    {
     "data": {
      "text/plain": [
       "Text(0, 0.5, '$N$ (normalised)')"
      ]
     },
     "execution_count": 41,
     "metadata": {},
     "output_type": "execute_result"
    },
    {
     "data": {
      "image/png": "[encoded data removed]",
      "text/plain": [
       "<Figure size 432x288 with 1 Axes>"
      ]
     },
     "metadata": {
      "needs_background": "light"
     },
     "output_type": "display_data"
    }
   ],
   "source": [
    "# Histograms showing the distribution in velocity dispersion\n",
    "import matplotlib.pyplot as plt\n",
    "from astropy.visualization import hist\n",
    "fig, ax = plt.subplots(nrows=1, ncols=1)\n",
    "for nn in range(1, 4):\n",
    "    hist(df[f\"sigma_gas (component {nn})\"].values, bins=\"scott\", ax=ax, range=(0, 500), normed=True, histtype=\"step\", label=f\"Component {nn}\")\n",
    "ax.legend()\n",
    "ax.set_xlabel(r\"$\\sigma_{\\rm gas}$\")\n",
    "ax.set_ylabel(r\"$N$ (normalised)\")"
   ]
  },
  {
   "cell_type": "markdown",
   "metadata": {},
   "source": [
    "You can also select a subset of the full data sample as follows:"
   ]
  },
  {
   "cell_type": "code",
   "execution_count": 15,
   "metadata": {
    "collapsed": true
   },
   "outputs": [
    {
     "name": "stderr",
     "output_type": "stream",
     "text": [
      "/pkg/linux/anaconda-20191122/anaconda3/lib/python3.7/site-packages/numpy/core/_methods.py:217: RuntimeWarning: Degrees of freedom <= 0 for slice\n",
      "  keepdims=keepdims)\n",
      "/pkg/linux/anaconda-20191122/anaconda3/lib/python3.7/site-packages/numpy/core/_methods.py:186: RuntimeWarning: invalid value encountered in true_divide\n",
      "  arrmean, rcount, out=arrmean, casting='unsafe', subok=False)\n",
      "/pkg/linux/anaconda-20191122/anaconda3/lib/python3.7/site-packages/numpy/core/_methods.py:209: RuntimeWarning: invalid value encountered in double_scalars\n",
      "  ret = ret.dtype.type(ret / rcount)\n"
     ]
    },
    {
     "ename": "ValueError",
     "evalue": "zero-size array to reduction operation maximum which has no identity",
     "output_type": "error",
     "traceback": [
      "\u001b[0;31m---------------------------------------------------------------------------\u001b[0m",
      "\u001b[0;31mValueError\u001b[0m                                Traceback (most recent call last)",
      "\u001b[0;32m<ipython-input-15-0e26b18661e8>\u001b[0m in \u001b[0;36m<module>\u001b[0;34m\u001b[0m\n\u001b[1;32m      2\u001b[0m \u001b[0mfig\u001b[0m\u001b[0;34m,\u001b[0m \u001b[0max\u001b[0m \u001b[0;34m=\u001b[0m \u001b[0mplt\u001b[0m\u001b[0;34m.\u001b[0m\u001b[0msubplots\u001b[0m\u001b[0;34m(\u001b[0m\u001b[0mnrows\u001b[0m\u001b[0;34m=\u001b[0m\u001b[0;36m1\u001b[0m\u001b[0;34m,\u001b[0m \u001b[0mncols\u001b[0m\u001b[0;34m=\u001b[0m\u001b[0;36m1\u001b[0m\u001b[0;34m)\u001b[0m\u001b[0;34m\u001b[0m\u001b[0;34m\u001b[0m\u001b[0m\n\u001b[1;32m      3\u001b[0m \u001b[0;32mfor\u001b[0m \u001b[0mnn\u001b[0m \u001b[0;32min\u001b[0m \u001b[0mrange\u001b[0m\u001b[0;34m(\u001b[0m\u001b[0;36m1\u001b[0m\u001b[0;34m,\u001b[0m \u001b[0;36m4\u001b[0m\u001b[0;34m)\u001b[0m\u001b[0;34m:\u001b[0m\u001b[0;34m\u001b[0m\u001b[0;34m\u001b[0m\u001b[0m\n\u001b[0;32m----> 4\u001b[0;31m     \u001b[0mhist\u001b[0m\u001b[0;34m(\u001b[0m\u001b[0mdf_agn\u001b[0m\u001b[0;34m[\u001b[0m\u001b[0;34mf\"sigma_gas (component {nn})\"\u001b[0m\u001b[0;34m]\u001b[0m\u001b[0;34m.\u001b[0m\u001b[0mvalues\u001b[0m\u001b[0;34m,\u001b[0m \u001b[0mbins\u001b[0m\u001b[0;34m=\u001b[0m\u001b[0;34m\"scott\"\u001b[0m\u001b[0;34m,\u001b[0m \u001b[0max\u001b[0m\u001b[0;34m=\u001b[0m\u001b[0max\u001b[0m\u001b[0;34m,\u001b[0m \u001b[0mrange\u001b[0m\u001b[0;34m=\u001b[0m\u001b[0;34m(\u001b[0m\u001b[0;36m0\u001b[0m\u001b[0;34m,\u001b[0m \u001b[0;36m500\u001b[0m\u001b[0;34m)\u001b[0m\u001b[0;34m,\u001b[0m \u001b[0mnormed\u001b[0m\u001b[0;34m=\u001b[0m\u001b[0;32mTrue\u001b[0m\u001b[0;34m,\u001b[0m \u001b[0mhisttype\u001b[0m\u001b[0;34m=\u001b[0m\u001b[0;34m\"step\"\u001b[0m\u001b[0;34m,\u001b[0m \u001b[0mlabel\u001b[0m\u001b[0;34m=\u001b[0m\u001b[0;34mf\"Component {nn}\"\u001b[0m\u001b[0;34m)\u001b[0m\u001b[0;34m\u001b[0m\u001b[0;34m\u001b[0m\u001b[0m\n\u001b[0m\u001b[1;32m      5\u001b[0m \u001b[0max\u001b[0m\u001b[0;34m.\u001b[0m\u001b[0mlegend\u001b[0m\u001b[0;34m(\u001b[0m\u001b[0;34m)\u001b[0m\u001b[0;34m\u001b[0m\u001b[0;34m\u001b[0m\u001b[0m\n\u001b[1;32m      6\u001b[0m \u001b[0max\u001b[0m\u001b[0;34m.\u001b[0m\u001b[0mset_xlabel\u001b[0m\u001b[0;34m(\u001b[0m\u001b[0;34mr\"$\\sigma_{\\rm gas}$\"\u001b[0m\u001b[0;34m)\u001b[0m\u001b[0;34m\u001b[0m\u001b[0;34m\u001b[0m\u001b[0m\n",
      "\u001b[0;32m/pkg/linux/anaconda-20191122/anaconda3/lib/python3.7/site-packages/astropy/visualization/hist.py\u001b[0m in \u001b[0;36mhist\u001b[0;34m(x, bins, ax, max_bins, **kwargs)\u001b[0m\n\u001b[1;32m     57\u001b[0m     \u001b[0mrange\u001b[0m \u001b[0;34m=\u001b[0m \u001b[0mkwargs\u001b[0m\u001b[0;34m.\u001b[0m\u001b[0mget\u001b[0m\u001b[0;34m(\u001b[0m\u001b[0;34m'range'\u001b[0m\u001b[0;34m,\u001b[0m \u001b[0;32mNone\u001b[0m\u001b[0;34m)\u001b[0m\u001b[0;34m\u001b[0m\u001b[0;34m\u001b[0m\u001b[0m\n\u001b[1;32m     58\u001b[0m     \u001b[0mweights\u001b[0m \u001b[0;34m=\u001b[0m \u001b[0mkwargs\u001b[0m\u001b[0;34m.\u001b[0m\u001b[0mget\u001b[0m\u001b[0;34m(\u001b[0m\u001b[0;34m'weights'\u001b[0m\u001b[0;34m,\u001b[0m \u001b[0;32mNone\u001b[0m\u001b[0;34m)\u001b[0m\u001b[0;34m\u001b[0m\u001b[0;34m\u001b[0m\u001b[0m\n\u001b[0;32m---> 59\u001b[0;31m     \u001b[0mbins\u001b[0m \u001b[0;34m=\u001b[0m \u001b[0mcalculate_bin_edges\u001b[0m\u001b[0;34m(\u001b[0m\u001b[0mx\u001b[0m\u001b[0;34m,\u001b[0m \u001b[0mbins\u001b[0m\u001b[0;34m,\u001b[0m \u001b[0mrange\u001b[0m\u001b[0;34m=\u001b[0m\u001b[0mrange\u001b[0m\u001b[0;34m,\u001b[0m \u001b[0mweights\u001b[0m\u001b[0;34m=\u001b[0m\u001b[0mweights\u001b[0m\u001b[0;34m)\u001b[0m\u001b[0;34m\u001b[0m\u001b[0;34m\u001b[0m\u001b[0m\n\u001b[0m\u001b[1;32m     60\u001b[0m \u001b[0;34m\u001b[0m\u001b[0m\n\u001b[1;32m     61\u001b[0m     \u001b[0;32mif\u001b[0m \u001b[0mlen\u001b[0m\u001b[0;34m(\u001b[0m\u001b[0mbins\u001b[0m\u001b[0;34m)\u001b[0m \u001b[0;34m>\u001b[0m \u001b[0mmax_bins\u001b[0m\u001b[0;34m:\u001b[0m\u001b[0;34m\u001b[0m\u001b[0;34m\u001b[0m\u001b[0m\n",
      "\u001b[0;32m/pkg/linux/anaconda-20191122/anaconda3/lib/python3.7/site-packages/astropy/stats/histogram.py\u001b[0m in \u001b[0;36mcalculate_bin_edges\u001b[0;34m(a, bins, range, weights)\u001b[0m\n\u001b[1;32m     61\u001b[0m             \u001b[0mda\u001b[0m\u001b[0;34m,\u001b[0m \u001b[0mbins\u001b[0m \u001b[0;34m=\u001b[0m \u001b[0mknuth_bin_width\u001b[0m\u001b[0;34m(\u001b[0m\u001b[0ma\u001b[0m\u001b[0;34m,\u001b[0m \u001b[0;32mTrue\u001b[0m\u001b[0;34m)\u001b[0m\u001b[0;34m\u001b[0m\u001b[0;34m\u001b[0m\u001b[0m\n\u001b[1;32m     62\u001b[0m         \u001b[0;32melif\u001b[0m \u001b[0mbins\u001b[0m \u001b[0;34m==\u001b[0m \u001b[0;34m'scott'\u001b[0m\u001b[0;34m:\u001b[0m\u001b[0;34m\u001b[0m\u001b[0;34m\u001b[0m\u001b[0m\n\u001b[0;32m---> 63\u001b[0;31m             \u001b[0mda\u001b[0m\u001b[0;34m,\u001b[0m \u001b[0mbins\u001b[0m \u001b[0;34m=\u001b[0m \u001b[0mscott_bin_width\u001b[0m\u001b[0;34m(\u001b[0m\u001b[0ma\u001b[0m\u001b[0;34m,\u001b[0m \u001b[0;32mTrue\u001b[0m\u001b[0;34m)\u001b[0m\u001b[0;34m\u001b[0m\u001b[0;34m\u001b[0m\u001b[0m\n\u001b[0m\u001b[1;32m     64\u001b[0m         \u001b[0;32melif\u001b[0m \u001b[0mbins\u001b[0m \u001b[0;34m==\u001b[0m \u001b[0;34m'freedman'\u001b[0m\u001b[0;34m:\u001b[0m\u001b[0;34m\u001b[0m\u001b[0;34m\u001b[0m\u001b[0m\n\u001b[1;32m     65\u001b[0m             \u001b[0mda\u001b[0m\u001b[0;34m,\u001b[0m \u001b[0mbins\u001b[0m \u001b[0;34m=\u001b[0m \u001b[0mfreedman_bin_width\u001b[0m\u001b[0;34m(\u001b[0m\u001b[0ma\u001b[0m\u001b[0;34m,\u001b[0m \u001b[0;32mTrue\u001b[0m\u001b[0;34m)\u001b[0m\u001b[0;34m\u001b[0m\u001b[0;34m\u001b[0m\u001b[0m\n",
      "\u001b[0;32m/pkg/linux/anaconda-20191122/anaconda3/lib/python3.7/site-packages/astropy/stats/histogram.py\u001b[0m in \u001b[0;36mscott_bin_width\u001b[0;34m(data, return_bins)\u001b[0m\n\u001b[1;32m    204\u001b[0m \u001b[0;34m\u001b[0m\u001b[0m\n\u001b[1;32m    205\u001b[0m     \u001b[0;32mif\u001b[0m \u001b[0mreturn_bins\u001b[0m\u001b[0;34m:\u001b[0m\u001b[0;34m\u001b[0m\u001b[0;34m\u001b[0m\u001b[0m\n\u001b[0;32m--> 206\u001b[0;31m         \u001b[0mNbins\u001b[0m \u001b[0;34m=\u001b[0m \u001b[0mnp\u001b[0m\u001b[0;34m.\u001b[0m\u001b[0mceil\u001b[0m\u001b[0;34m(\u001b[0m\u001b[0;34m(\u001b[0m\u001b[0mdata\u001b[0m\u001b[0;34m.\u001b[0m\u001b[0mmax\u001b[0m\u001b[0;34m(\u001b[0m\u001b[0;34m)\u001b[0m \u001b[0;34m-\u001b[0m \u001b[0mdata\u001b[0m\u001b[0;34m.\u001b[0m\u001b[0mmin\u001b[0m\u001b[0;34m(\u001b[0m\u001b[0;34m)\u001b[0m\u001b[0;34m)\u001b[0m \u001b[0;34m/\u001b[0m \u001b[0mdx\u001b[0m\u001b[0;34m)\u001b[0m\u001b[0;34m\u001b[0m\u001b[0;34m\u001b[0m\u001b[0m\n\u001b[0m\u001b[1;32m    207\u001b[0m         \u001b[0mNbins\u001b[0m \u001b[0;34m=\u001b[0m \u001b[0mmax\u001b[0m\u001b[0;34m(\u001b[0m\u001b[0;36m1\u001b[0m\u001b[0;34m,\u001b[0m \u001b[0mNbins\u001b[0m\u001b[0;34m)\u001b[0m\u001b[0;34m\u001b[0m\u001b[0;34m\u001b[0m\u001b[0m\n\u001b[1;32m    208\u001b[0m         \u001b[0mbins\u001b[0m \u001b[0;34m=\u001b[0m \u001b[0mdata\u001b[0m\u001b[0;34m.\u001b[0m\u001b[0mmin\u001b[0m\u001b[0;34m(\u001b[0m\u001b[0;34m)\u001b[0m \u001b[0;34m+\u001b[0m \u001b[0mdx\u001b[0m \u001b[0;34m*\u001b[0m \u001b[0mnp\u001b[0m\u001b[0;34m.\u001b[0m\u001b[0marange\u001b[0m\u001b[0;34m(\u001b[0m\u001b[0mNbins\u001b[0m \u001b[0;34m+\u001b[0m \u001b[0;36m1\u001b[0m\u001b[0;34m)\u001b[0m\u001b[0;34m\u001b[0m\u001b[0;34m\u001b[0m\u001b[0m\n",
      "\u001b[0;32m/pkg/linux/anaconda-20191122/anaconda3/lib/python3.7/site-packages/numpy/core/_methods.py\u001b[0m in \u001b[0;36m_amax\u001b[0;34m(a, axis, out, keepdims, initial, where)\u001b[0m\n\u001b[1;32m     28\u001b[0m def _amax(a, axis=None, out=None, keepdims=False,\n\u001b[1;32m     29\u001b[0m           initial=_NoValue, where=True):\n\u001b[0;32m---> 30\u001b[0;31m     \u001b[0;32mreturn\u001b[0m \u001b[0mumr_maximum\u001b[0m\u001b[0;34m(\u001b[0m\u001b[0ma\u001b[0m\u001b[0;34m,\u001b[0m \u001b[0maxis\u001b[0m\u001b[0;34m,\u001b[0m \u001b[0;32mNone\u001b[0m\u001b[0;34m,\u001b[0m \u001b[0mout\u001b[0m\u001b[0;34m,\u001b[0m \u001b[0mkeepdims\u001b[0m\u001b[0;34m,\u001b[0m \u001b[0minitial\u001b[0m\u001b[0;34m,\u001b[0m \u001b[0mwhere\u001b[0m\u001b[0;34m)\u001b[0m\u001b[0;34m\u001b[0m\u001b[0;34m\u001b[0m\u001b[0m\n\u001b[0m\u001b[1;32m     31\u001b[0m \u001b[0;34m\u001b[0m\u001b[0m\n\u001b[1;32m     32\u001b[0m def _amin(a, axis=None, out=None, keepdims=False,\n",
      "\u001b[0;31mValueError\u001b[0m: zero-size array to reduction operation maximum which has no identity"
     ]
    },
    {
     "data": {
      "image/png": "[encoded data removed]",
      "text/plain": [
       "<Figure size 432x288 with 1 Axes>"
      ]
     },
     "metadata": {
      "needs_background": "light"
     },
     "output_type": "display_data"
    }
   ],
   "source": [
    "df_agn = df[df[\"BPT (total)\"] == \"Seyfert\"]\n",
    "fig, ax = plt.subplots(nrows=1, ncols=1)\n",
    "for nn in range(1, 4):\n",
    "    hist(df_agn[f\"sigma_gas (component {nn})\"].values, bins=\"scott\", ax=ax, range=(0, 500), normed=True, histtype=\"step\", label=f\"Component {nn}\")\n",
    "ax.legend()\n",
    "ax.set_xlabel(r\"$\\sigma_{\\rm gas}$\")\n",
    "ax.set_ylabel(r\"$N$ (normalised)\")\n",
    "ax.set_title(\"Seyfert-like spaxels only\")"
   ]
  },
  {
   "cell_type": "markdown",
   "metadata": {},
   "source": [
    "## Using `spaxelsleuth.plotting` to plot the whole SAMI sample \n",
    "--- \n",
    "In the below cells, we will demonstrate how to use various functions in `spaxelsleuth.plotting` to make different kinds of plots useful for analysing the entire SAMI data set."
   ]
  },
  {
   "cell_type": "code",
   "execution_count": 42,
   "metadata": {},
   "outputs": [],
   "source": [
    "%matplotlib widget"
   ]
  },
  {
   "cell_type": "code",
   "execution_count": 43,
   "metadata": {},
   "outputs": [],
   "source": [
    "from spaxelsleuth.plotting.plottools import plot_empty_BPT_diagram, plot_BPT_lines\n",
    "from spaxelsleuth.plotting.plotgalaxies import plot2dhistcontours, plot2dscatter"
   ]
  },
  {
   "cell_type": "markdown",
   "metadata": {},
   "source": [
    "#### Plot the distribution of spaxels in the WHAN diagram\n",
    "The WHAN diagram, developed by Cid Fernandes et al. (2010, 2011), plots the H$\\alpha$ equivalent width (EW) against the [NII]6583Å/H$\\alpha$ line ratio, and can be used to distinguish between emission by star formation, AGN and hot, low-mass evolved stars."
   ]
  },
  {
   "cell_type": "code",
   "execution_count": 44,
   "metadata": {
    "scrolled": false
   },
   "outputs": [
    {
     "data": {
      "application/vnd.jupyter.widget-view+json": {
       "model_id": "fd778a71c5de47deb67a3a88961e9274",
       "version_major": 2,
       "version_minor": 0
      },
      "text/plain": [
       "Canvas(toolbar=Toolbar(toolitems=[('Home', 'Reset original view', 'home', 'home'), ('Back', 'Back to previous …"
      ]
     },
     "metadata": {},
     "output_type": "display_data"
    }
   ],
   "source": [
    "# Plot a 2D histogram showing the distribution of SAMI spaxels in the WHAN diagram\n",
    "_ = plot2dhistcontours(df=df,\n",
    "              col_x=f\"log N2 (total)\",\n",
    "              col_y=f\"log HALPHA EW (total)\",\n",
    "              col_z=\"count\", log_z=True,\n",
    "              plot_colorbar=True)"
   ]
  },
  {
   "cell_type": "code",
   "execution_count": 45,
   "metadata": {
    "scrolled": false
   },
   "outputs": [
    {
     "data": {
      "application/vnd.jupyter.widget-view+json": {
       "model_id": "6e2002d325764f2a88771ed4157d8413",
       "version_major": 2,
       "version_minor": 0
      },
      "text/plain": [
       "Canvas(toolbar=Toolbar(toolitems=[('Home', 'Reset original view', 'home', 'home'), ('Back', 'Back to previous …"
      ]
     },
     "metadata": {},
     "output_type": "display_data"
    }
   ],
   "source": [
    "# Repeat the above, but colour by the median BPT classification\n",
    "_ = plot2dhistcontours(df=df,\n",
    "              col_x=f\"log N2 (total)\",\n",
    "              col_y=f\"log HALPHA EW (total)\",\n",
    "              col_z=\"BPT (numeric) (total)\", \n",
    "              plot_colorbar=True)"
   ]
  },
  {
   "cell_type": "code",
   "execution_count": 46,
   "metadata": {},
   "outputs": [
    {
     "data": {
      "application/vnd.jupyter.widget-view+json": {
       "model_id": "40591d1f500a4f2b8cbec7c632dec65a",
       "version_major": 2,
       "version_minor": 0
      },
      "text/plain": [
       "Canvas(toolbar=Toolbar(toolitems=[('Home', 'Reset original view', 'home', 'home'), ('Back', 'Back to previous …"
      ]
     },
     "metadata": {},
     "output_type": "display_data"
    }
   ],
   "source": [
    "# Repeat the above, but colour by the D4000Å break strength\n",
    "_ = plot2dhistcontours(df=df,\n",
    "              col_x=f\"log N2 (total)\",\n",
    "              col_y=f\"log HALPHA EW (total)\",\n",
    "              col_z=\"D4000\", \n",
    "              plot_colorbar=True)"
   ]
  },
  {
   "cell_type": "code",
   "execution_count": 47,
   "metadata": {},
   "outputs": [
    {
     "data": {
      "application/vnd.jupyter.widget-view+json": {
       "model_id": "da59174de1cb43339028f6fb7d8c4817",
       "version_major": 2,
       "version_minor": 0
      },
      "text/plain": [
       "Canvas(toolbar=Toolbar(toolitems=[('Home', 'Reset original view', 'home', 'home'), ('Back', 'Back to previous …"
      ]
     },
     "metadata": {},
     "output_type": "display_data"
    },
    {
     "name": "stderr",
     "output_type": "stream",
     "text": [
      "/home/u5708159/python/Modules/spaxelsleuth/plotting/plotgalaxies.py:337: UserWarning: No contour levels were found within the data range.\n",
      "  linewidths=linewidths)\n"
     ]
    }
   ],
   "source": [
    "# If we like, we can use a different colourmap using the \"cmap\" keyword.\n",
    "# The contour colours can also be changed using the \"colors\" keyword, and the levels can be changed using \"levels\".\n",
    "# The axis limits can also be changed using the \"xmin\", \"xmax\", \"ymin\", \"ymax\" and \"vmin\", \"vmax\" keyword.\n",
    "# We can also change the number of histogram bins using the \"nbins\" keyword.\n",
    "import numpy as np\n",
    "_ = plot2dhistcontours(df=df,\n",
    "              col_x=f\"log N2 (total)\", xmin=-0.6, xmax=0.0,\n",
    "              col_y=f\"log HALPHA EW (total)\", \n",
    "              col_z=\"D4000\", vmin=1.1, vmax=2.0,\n",
    "              nbins=50, \n",
    "              cmap=\"cubehelix\", colors=\"yellow\", levels=np.logspace(0, 4, 5),\n",
    "              plot_colorbar=True)"
   ]
  },
  {
   "cell_type": "markdown",
   "metadata": {},
   "source": [
    "#### Plot optical diagnostic (\"BPT\") diagrams for the full sample, showing the distribution of spaxels in all SAMI galaxies"
   ]
  },
  {
   "cell_type": "code",
   "execution_count": 22,
   "metadata": {
    "scrolled": true
   },
   "outputs": [
    {
     "data": {
      "application/vnd.jupyter.widget-view+json": {
       "model_id": "d642b86f054d4d68a5bc5490bf2be5d0",
       "version_major": 2,
       "version_minor": 0
      },
      "text/plain": [
       "Canvas(toolbar=Toolbar(toolitems=[('Home', 'Reset original view', 'home', 'home'), ('Back', 'Back to previous …"
      ]
     },
     "metadata": {},
     "output_type": "display_data"
    }
   ],
   "source": [
    "# Plot an empty BPT diagram\n",
    "fig, axs_bpt = plot_empty_BPT_diagram(nrows=1)\n",
    "\n",
    "# Plot 2D histograms showing the distribution of the entire sample\n",
    "for cc, col_x in enumerate([\"log N2\", \"log S2\", \"log O1\"]):\n",
    "    # Add BPT demarcation lines\n",
    "    plot_BPT_lines(ax=axs_bpt[cc], col_x=col_x)    \n",
    "\n",
    "    # Plot histograms showing distribution for whole sample\n",
    "    _ = plot2dhistcontours(df=df,\n",
    "                  col_x=f\"{col_x} (total)\",\n",
    "                  col_y=f\"log O3 (total)\",\n",
    "                  col_z=\"count\", log_z=True,\n",
    "                  ax=axs_bpt[cc],\n",
    "                  cax=None,\n",
    "                  plot_colorbar=True if cc==2 else False)"
   ]
  },
  {
   "cell_type": "markdown",
   "metadata": {},
   "source": [
    "#### Repeat the above, but colour the histograms by $\\sigma_{\\rm gas}$ for the narrowest component (component 1)"
   ]
  },
  {
   "cell_type": "code",
   "execution_count": 48,
   "metadata": {},
   "outputs": [
    {
     "data": {
      "application/vnd.jupyter.widget-view+json": {
       "model_id": "7ced9becd4d2433ab327b9129fb34178",
       "version_major": 2,
       "version_minor": 0
      },
      "text/plain": [
       "Canvas(toolbar=Toolbar(toolitems=[('Home', 'Reset original view', 'home', 'home'), ('Back', 'Back to previous …"
      ]
     },
     "metadata": {},
     "output_type": "display_data"
    }
   ],
   "source": [
    "# Plot an empty BPT diagram\n",
    "fig, axs_bpt = plot_empty_BPT_diagram(nrows=1)\n",
    "\n",
    "# Plot 2D histograms showing the distribution of the entire sample\n",
    "for cc, col_x in enumerate([\"log N2\", \"log S2\", \"log O1\"]):\n",
    "    # Add BPT demarcation lines\n",
    "    plot_BPT_lines(ax=axs_bpt[cc], col_x=col_x)    \n",
    "\n",
    "    # Plot histograms showing distribution for whole sample\n",
    "    _ = plot2dhistcontours(df=df,\n",
    "                  col_x=f\"{col_x} (total)\",\n",
    "                  col_y=f\"log O3 (total)\",\n",
    "                  col_z=\"sigma_gas (component 1)\", \n",
    "                  vmax=150,  # Tweak the z-axis scaling to bring out details \n",
    "                  ax=axs_bpt[cc],\n",
    "                  cax=None,\n",
    "                  plot_colorbar=True if cc==2 else False)"
   ]
  },
  {
   "cell_type": "markdown",
   "metadata": {},
   "source": [
    "## Using `spaxelsleuth.plotting` to plot individual galaxies\n",
    "--- \n",
    "In the below cells, we will demonstrate how create plots based on individual SAMI galaxies using functions in `spaxelsleuth.plotting`.\n"
   ]
  },
  {
   "cell_type": "code",
   "execution_count": 102,
   "metadata": {},
   "outputs": [],
   "source": [
    "# Pick a galaxy, based on its GAMA ID. \n",
    "gal = 572402  # This one is my favourite."
   ]
  },
  {
   "cell_type": "code",
   "execution_count": 103,
   "metadata": {},
   "outputs": [],
   "source": [
    "# Select the rows in the DataFrame that belong to this galaxy.\n",
    "df_gal = df[df[\"ID\"] == gal]"
   ]
  },
  {
   "cell_type": "markdown",
   "metadata": {},
   "source": [
    "#### Plot the SDSS image \n",
    "----\n",
    "`plot_sdss_image()` retrieves an RGB SDSS image using the DR16 Image Cutout service and plots it, overlaid with the SAMI field-of-view plus a scale bar to show the physical scale at the galaxy's redshift. If the galaxy lies outside the SDSS footprint (which is the case for some cluster targets) then no image is displayed. "
   ]
  },
  {
   "cell_type": "code",
   "execution_count": 104,
   "metadata": {
    "scrolled": true
   },
   "outputs": [
    {
     "data": {
      "application/vnd.jupyter.widget-view+json": {
       "model_id": "c235a5bb1b75495fbdaf557ba1f8e3fb",
       "version_major": 2,
       "version_minor": 0
      },
      "text/plain": [
       "Canvas(toolbar=Toolbar(toolitems=[('Home', 'Reset original view', 'home', 'home'), ('Back', 'Back to previous …"
      ]
     },
     "metadata": {},
     "output_type": "display_data"
    },
    {
     "data": {
      "text/plain": [
       "Text(0.5, 1.0, 'GAMA573736')"
      ]
     },
     "execution_count": 104,
     "metadata": {},
     "output_type": "execute_result"
    }
   ],
   "source": [
    "from spaxelsleuth.plotting.sdssimg import plot_sdss_image\n",
    "ax = plot_sdss_image(df_gal)\n",
    "ax.set_title(f\"GAMA{gal}\")\n"
   ]
  },
  {
   "cell_type": "markdown",
   "metadata": {},
   "source": [
    "#### Plot 2D maps showing various quantities in this galaxy\n",
    "Given a DataFrame corresponding to a single galaxy, `plot2dmap()` reconstructs a 2D image of a specified column (e.g., velocity dispersion) from the rows and plots it. "
   ]
  },
  {
   "cell_type": "code",
   "execution_count": 106,
   "metadata": {
    "scrolled": false
   },
   "outputs": [
    {
     "name": "stderr",
     "output_type": "stream",
     "text": [
      "/home/u5708159/python/Modules/spaxelsleuth/plotting/plot2dmap.py:229: RuntimeWarning: More than 20 figures have been opened. Figures created through the pyplot interface (`matplotlib.pyplot.figure`) are retained until explicitly closed and may consume too much memory. (To control this warning, see the rcParam `figure.max_open_warning`).\n",
      "  fig = plt.figure(figsize=figsize)\n"
     ]
    },
    {
     "data": {
      "application/vnd.jupyter.widget-view+json": {
       "model_id": "f83d70dbf87841708271dc1889bbf7c6",
       "version_major": 2,
       "version_minor": 0
      },
      "text/plain": [
       "Canvas(toolbar=Toolbar(toolitems=[('Home', 'Reset original view', 'home', 'home'), ('Back', 'Back to previous …"
      ]
     },
     "metadata": {},
     "output_type": "display_data"
    },
    {
     "name": "stderr",
     "output_type": "stream",
     "text": [
      "/home/u5708159/python/Modules/spaxelsleuth/plotting/plot2dmap.py:280: SettingWithCopyWarning: \n",
      "A value is trying to be set on a copy of a slice from a DataFrame.\n",
      "Try using .loc[row_indexer,col_indexer] = value instead\n",
      "\n",
      "See the caveats in the documentation: http://pandas.pydata.org/pandas-docs/stable/user_guide/indexing.html#returning-a-view-versus-a-copy\n",
      "  df_gal[\"x, y (pixels)\"] = list(zip(df_gal[\"x (projected, arcsec)\"] / as_per_px, df_gal[\"y (projected, arcsec)\"] / as_per_px))\n"
     ]
    }
   ],
   "source": [
    "from spaxelsleuth.plotting.plot2dmap import plot2dmap\n",
    "fig, ax = plot2dmap(df_gal=df_gal, col_z=\"BPT (numeric) (total)\", bin_type=\"default\", survey=\"sami\")\n"
   ]
  },
  {
   "cell_type": "code",
   "execution_count": 107,
   "metadata": {},
   "outputs": [
    {
     "data": {
      "application/vnd.jupyter.widget-view+json": {
       "model_id": "b59450ce9674465aba63728f751cd7d2",
       "version_major": 2,
       "version_minor": 0
      },
      "text/plain": [
       "Canvas(toolbar=Toolbar(toolitems=[('Home', 'Reset original view', 'home', 'home'), ('Back', 'Back to previous …"
      ]
     },
     "metadata": {},
     "output_type": "display_data"
    }
   ],
   "source": [
    "# Playing with input arguments \n",
    "# As in plot2dhistcontours, the maximum colour scaling can be set using \"vmin\" and \"vmax\" and the colourmap can be changed using \"cmap\". \n",
    "# The quantity that is used to plot contours can be set to any column in the DataFrame using \"col_z_contours\" and the colours and linewidths can be configured using \"colours\" and \"linewidths\".\n",
    "_ = plot2dmap(df_gal=df_gal, col_z=\"v_gas (component 1)\", bin_type=\"default\", survey=\"sami\",\n",
    "              cmap=\"jet\", vmin=-50, vmax=+50,\n",
    "              col_z_contours=\"v_gas (component 1)\", levels=[-40, -20, 0, 20, 40], colors=\"pink\", linewidths=2.5)\n"
   ]
  },
  {
   "cell_type": "code",
   "execution_count": 69,
   "metadata": {},
   "outputs": [
    {
     "data": {
      "application/vnd.jupyter.widget-view+json": {
       "model_id": "ff2d3c967b4a44178e0ef3a341d2985d",
       "version_major": 2,
       "version_minor": 0
      },
      "text/plain": [
       "Canvas(toolbar=Toolbar(toolitems=[('Home', 'Reset original view', 'home', 'home'), ('Back', 'Back to previous …"
      ]
     },
     "metadata": {},
     "output_type": "display_data"
    }
   ],
   "source": [
    "# Slightly more advanced example: plot the gas velocity for each individual component.\n",
    "fig, axs = plt.subplots(nrows=1, ncols=3, figsize=(10, 4))\n",
    "fig.subplots_adjust(wspace=0)\n",
    "\n",
    "for nn in range(3):\n",
    "    # Pass the axis to plot_2dmap()\n",
    "    fig, ax = plot2dmap(df_gal=df_gal, col_z=f\"v_gas (component {nn + 1})\", bin_type=\"default\", survey=\"sami\", \n",
    "                        vmin=-100, vmax=+100,\n",
    "                        ax=axs[nn], plot_colorbar=True if nn == 2 else False, show_title=True if nn == 1 else False)\n",
    "\n",
    "# In plot2dmap, the existing axis has to be destroyed and replaced with an identical axis with the correct WCS. Therefore, we need to update our list of axes.\n",
    "axs_new = fig.get_axes()[:-1]\n",
    "\n",
    "# Turn off the y-axis ticks on axes 2 and 3\n",
    "for ax in axs_new[1:]:\n",
    "    lon = ax.coords[0]\n",
    "    lat = ax.coords[1]\n",
    "    lat.set_ticks_visible(False)\n",
    "    lat.set_ticklabel_visible(False)\n"
   ]
  },
  {
   "cell_type": "markdown",
   "metadata": {},
   "source": [
    "#### Scatter plots \n",
    "Create a BPT diagram with 2D histograms and contours showing the distribution in the full sample, with the data points from this galaxy overlaid on top using a scatter plot."
   ]
  },
  {
   "cell_type": "code",
   "execution_count": 71,
   "metadata": {},
   "outputs": [
    {
     "data": {
      "application/vnd.jupyter.widget-view+json": {
       "model_id": "f539d30b607147688e75c61629fc43be",
       "version_major": 2,
       "version_minor": 0
      },
      "text/plain": [
       "Canvas(toolbar=Toolbar(toolitems=[('Home', 'Reset original view', 'home', 'home'), ('Back', 'Back to previous …"
      ]
     },
     "metadata": {},
     "output_type": "display_data"
    },
    {
     "data": {
      "text/plain": [
       "[Text(0, 0.5, ''), Text(0, 0.5, '')]"
      ]
     },
     "execution_count": 71,
     "metadata": {},
     "output_type": "execute_result"
    }
   ],
   "source": [
    "# Plot an empty BPT diagram\n",
    "fig, axs_bpt = plot_empty_BPT_diagram(nrows=1)\n",
    "\n",
    "# Plot 2D histograms showing the distribution of the entire sample\n",
    "for cc, col_x in enumerate([\"log N2\", \"log S2\", \"log O1\"]):\n",
    "    # Add BPT demarcation lines\n",
    "    plot_BPT_lines(ax=axs_bpt[cc], col_x=col_x)    \n",
    "\n",
    "    # Plot histograms showing distribution for whole sample\n",
    "    _ = plot2dhistcontours(df=df,\n",
    "                  col_x=f\"{col_x} (total)\",\n",
    "                  col_y=f\"log O3 (total)\",\n",
    "                  col_z=\"count\", log_z=True,\n",
    "                  cmap=\"bone_r\", alpha=0.4,\n",
    "                  ax=axs_bpt[cc],\n",
    "                  plot_colorbar=False)\n",
    "    \n",
    "    # Scatter plot for this galaxy\n",
    "    _ = plot2dscatter(df=df_gal, \n",
    "                      col_x=f\"{col_x} (total)\",\n",
    "                      col_y=f\"log O3 (total)\",\n",
    "                      col_z=f\"v_gas (component 2)\",\n",
    "                      ax=axs_bpt[cc],\n",
    "                      vmin=-100, vmax=+100,\n",
    "                      plot_colorbar=True if cc==2 else False)\n",
    "    \n",
    "# Turn of y-axis labels \n",
    "[ax.set_ylabel(\"\") for ax in axs_bpt[1:]]"
   ]
  },
  {
   "cell_type": "code",
   "execution_count": null,
   "metadata": {},
   "outputs": [],
   "source": []
  }
 ],
 "metadata": {
  "kernelspec": {
   "display_name": "Python 3",
   "language": "python",
   "name": "python3"
  },
  "language_info": {
   "codemirror_mode": {
    "name": "ipython",
    "version": 3
   },
   "file_extension": ".py",
   "mimetype": "text/x-python",
   "name": "python",
   "nbconvert_exporter": "python",
   "pygments_lexer": "ipython3",
   "version": "3.7.4"
  }
 },
 "nbformat": 4,
 "nbformat_minor": 2
}
