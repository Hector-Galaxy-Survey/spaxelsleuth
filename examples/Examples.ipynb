{
 "cells": [
  {
   "cell_type": "markdown",
   "metadata": {},
   "source": [
    "# `spaxelsleuth` examples\n",
    "---\n",
    "In this notebook, you will learn how to use `spaxelsleuth` to \n",
    "1. create a `pandas` DataFrame containing spaxel-by-spaxel information for all SAMI galaxies;\n",
    "2. use the included plotting tools to analyse the SAMI data set as a whole;\n",
    "3. create plots that you can use to analyse specific galaxies. "
   ]
  },
  {
   "cell_type": "markdown",
   "metadata": {},
   "source": [
    "## Create the DataFrames\n",
    "---\n",
    "### Creating the \"metadata\" DataFrame\n",
    "After you have installed `spaxelsleuth` and have downloaded the necessary files from [DataCentral](http://datacentral.org.au) (see the README), the first step is to create the \"metadata\" DataFrame containing basic information about each SAMI galaxy, such as redshifts, morphologies, and stellar masses."
   ]
  },
  {
   "cell_type": "code",
   "execution_count": 26,
   "metadata": {
    "scrolled": false
   },
   "outputs": [
    {
     "name": "stdout",
     "output_type": "stream",
     "text": [
      "In make_sami_metadata_df(): Creating metadata DataFrame...\n"
     ]
    },
    {
     "name": "stderr",
     "output_type": "stream",
     "text": [
      "/home/u5708159/python/Modules/spaxelsleuth/loaddata/sami.py:178: FutureWarning: Sorting because non-concatenation axis is not aligned. A future version\n",
      "of pandas will change to not sort by default.\n",
      "\n",
      "To accept the future behavior, pass 'sort=False'.\n",
      "\n",
      "To retain the current behavior and silence the warning, pass 'sort=True'.\n",
      "\n",
      "  df_metadata = pd.concat([df_metadata_gama, df_metadata_cluster, df_metadata_filler]).drop([\"Unnamed: 0\"], axis=1)\n",
      "/home/u5708159/python/Modules/spaxelsleuth/loaddata/sami.py:243: SettingWithCopyWarning: \n",
      "A value is trying to be set on a copy of a slice from a DataFrame.\n",
      "Try using .loc[row_indexer,col_indexer] = value instead\n",
      "\n",
      "See the caveats in the documentation: http://pandas.pydata.org/pandas-docs/stable/user_guide/indexing.html#returning-a-view-versus-a-copy\n",
      "  df_flags_cut[\"catid\"] = df_flags_cut[\"catid\"].astype(int)\n"
     ]
    },
    {
     "name": "stdout",
     "output_type": "stream",
     "text": [
      "In make_sami_metadata_df(): Computing distances...\n",
      "In make_sami_metadata_df(): Saving metadata DataFrame to file /priv/meggs3/u5708159/SAMI/sami_dr3/sami_dr3_metadata.hd5...\n",
      "In make_sami_metadata_df(): Finished!\n"
     ]
    }
   ],
   "source": [
    "from spaxelsleuth.loaddata.sami import make_sami_metadata_df\n",
    "make_sami_metadata_df()"
   ]
  },
  {
   "cell_type": "code",
   "execution_count": 1,
   "metadata": {},
   "outputs": [],
   "source": [
    "import pandas as pd\n",
    "df_metadata = pd.read_hdf(\"/priv/meggs3/u5708159/SAMI/sami_dr3/sami_dr3_metadata.hd5\")"
   ]
  },
  {
   "cell_type": "code",
   "execution_count": 2,
   "metadata": {
    "scrolled": true
   },
   "outputs": [
    {
     "data": {
      "text/plain": [
       "a_g                           0.099\n",
       "bad_class                         0\n",
       "catid                         31129\n",
       "dec_ifu                    -1.13109\n",
       "dec_obj                    -1.13109\n",
       "ellip                        0.3062\n",
       "fillflag                        NaN\n",
       "g_i                            0.57\n",
       "is_mem                          NaN\n",
       "m_r                          -18.04\n",
       "mstar                           8.9\n",
       "mu_1re                        21.76\n",
       "mu_2re                        23.61\n",
       "mu_within_1re                  21.1\n",
       "pa                           119.63\n",
       "r_auto                       15.758\n",
       "r_e                            4.01\n",
       "r_on_rtwo                       NaN\n",
       "r_petro                      15.823\n",
       "ra_ifu                      178.547\n",
       "ra_obj                      178.547\n",
       "surv_sami                         8\n",
       "v_on_sigma                      NaN\n",
       "z_spec                      0.01107\n",
       "z_tonry                     0.01349\n",
       "Morphology (numeric)              3\n",
       "Morphology              Late spiral\n",
       "Good?                          True\n",
       "D_A (Mpc)                   46.7739\n",
       "D_L (Mpc)                   47.8152\n",
       "kpc per arcsec             0.226766\n",
       "R_e (kpc)                  0.909332\n",
       "log(M/R_e)                  8.94128\n",
       "Name: 31129, dtype: object"
      ]
     },
     "execution_count": 2,
     "metadata": {},
     "output_type": "execute_result"
    }
   ],
   "source": [
    "df_metadata.loc[31129]"
   ]
  },
  {
   "cell_type": "markdown",
   "metadata": {},
   "source": [
    "### Creating the SAMI DataFrame\n",
    "The next step is to create the DataFrame containing all measured quantities, such as emission line fluxes, stellar and gas kinematics, and extinction, for each individual spaxel in every SAMI galaxy. Each time this is run, it saves one copy of the DataFrame where the extinction correction has been applied, and one without. The resulting DataFrames are saved to file and can be accessed using `load_sami_df()`.\n",
    "\n",
    "The input arguments are as follows:\n",
    "* `ncomponents` determines which data set the function is run on. \n",
    "    * `ncomponents = \"recom\"` will use the data products produced using the multi-component Gaussian emission line fits, in which the `LZCOMP` neutral network was used to determine the optimal number of components in each spaxel.\n",
    "    * `ncomponents = \"1\"` will use the data products produced using the single-component Gaussian emission line fits.\n",
    "* `bin_type` refers to the spatial binning scheme used.\n",
    "    * `bin_type = \"default\"` will use the data products produced using the unbinned data. \n",
    "    * `bin_type = \"adaptive\"` will use the data products produced using the Voronoi-binned data. \n",
    "    * `bin_type = \"sectors\"` will use the data products produced using the sector-binned data. \n",
    "* `eline_SNR_min` gives the minimum S/N for which a fitted emission line component will be accepted. All quantities associated with emission line components that fall below this S/N threshold (e.g. kinematics, fluxes, etc.) will be set to `np.nan`.\n",
    "\n",
    "Note that running `make_sami_df()` for all ~3,000 SAMI galaxies takes some time - for a quick demo, set `DEBUG` here to `True`; this will create the DataFrame for a subset of 10 galaxies and is much quicker."
   ]
  },
  {
   "cell_type": "code",
   "execution_count": 20,
   "metadata": {},
   "outputs": [],
   "source": [
    "DEBUG = False"
   ]
  },
  {
   "cell_type": "code",
   "execution_count": 25,
   "metadata": {},
   "outputs": [],
   "source": [
    "from spaxelsleuth.loaddata.sami import make_sami_df"
   ]
  },
  {
   "cell_type": "code",
   "execution_count": 2,
   "metadata": {},
   "outputs": [
    {
     "name": "stdout",
     "output_type": "stream",
     "text": [
      "In sami.make_df_sami() [bin_type=default, ncomponents=recom, debug=True, eline_SNR_min=5]: saving to files sami_default_recom-comp_minSNR=5_DEBUG.hd5 and sami_default_recom-comp_extcorr_minSNR=5_DEBUG.hd5...\n",
      "In sami.make_df_sami() [bin_type=default, ncomponents=recom, debug=True, eline_SNR_min=5]: Beginning pool...\n"
     ]
    },
    {
     "name": "stderr",
     "output_type": "stream",
     "text": [
      "/pkg/linux/anaconda-20191122/anaconda3/lib/python3.7/site-packages/numpy/lib/nanfunctions.py:1666: RuntimeWarning: Degrees of freedom <= 0 for slice.\n",
      "  keepdims=keepdims)\n",
      "/pkg/linux/anaconda-20191122/anaconda3/lib/python3.7/site-packages/numpy/lib/nanfunctions.py:1666: RuntimeWarning: Degrees of freedom <= 0 for slice.\n",
      "  keepdims=keepdims)\n",
      "/pkg/linux/anaconda-20191122/anaconda3/lib/python3.7/site-packages/numpy/lib/nanfunctions.py:1666: RuntimeWarning: Degrees of freedom <= 0 for slice.\n",
      "  keepdims=keepdims)\n",
      "/pkg/linux/anaconda-20191122/anaconda3/lib/python3.7/site-packages/numpy/lib/nanfunctions.py:1666: RuntimeWarning: Degrees of freedom <= 0 for slice.\n",
      "  keepdims=keepdims)\n",
      "/pkg/linux/anaconda-20191122/anaconda3/lib/python3.7/site-packages/numpy/lib/nanfunctions.py:1666: RuntimeWarning: Degrees of freedom <= 0 for slice.\n",
      "  keepdims=keepdims)\n",
      "/pkg/linux/anaconda-20191122/anaconda3/lib/python3.7/site-packages/numpy/lib/nanfunctions.py:1666: RuntimeWarning: Degrees of freedom <= 0 for slice.\n",
      "  keepdims=keepdims)\n",
      "/pkg/linux/anaconda-20191122/anaconda3/lib/python3.7/site-packages/numpy/lib/nanfunctions.py:1666: RuntimeWarning: Degrees of freedom <= 0 for slice.\n",
      "  keepdims=keepdims)\n",
      "/pkg/linux/anaconda-20191122/anaconda3/lib/python3.7/site-packages/numpy/lib/nanfunctions.py:1666: RuntimeWarning: Degrees of freedom <= 0 for slice.\n",
      "  keepdims=keepdims)\n",
      "/pkg/linux/anaconda-20191122/anaconda3/lib/python3.7/site-packages/numpy/lib/nanfunctions.py:1666: RuntimeWarning: Degrees of freedom <= 0 for slice.\n",
      "  keepdims=keepdims)\n",
      "/pkg/linux/anaconda-20191122/anaconda3/lib/python3.7/site-packages/numpy/lib/nanfunctions.py:1666: RuntimeWarning: Degrees of freedom <= 0 for slice.\n",
      "  keepdims=keepdims)\n"
     ]
    },
    {
     "name": "stdout",
     "output_type": "stream",
     "text": [
      "In sami.make_df_sami() [bin_type=default, ncomponents=recom, debug=True, eline_SNR_min=5]: Finished processing 760733 (1)\n",
      "In sami.make_df_sami() [bin_type=default, ncomponents=recom, debug=True, eline_SNR_min=5]: Finished processing 177326 (2)\n",
      "In sami.make_df_sami() [bin_type=default, ncomponents=recom, debug=True, eline_SNR_min=5]: Finished processing 619553 (4)\n",
      "In sami.make_df_sami() [bin_type=default, ncomponents=recom, debug=True, eline_SNR_min=5]: Finished processing 143148 (5)\n",
      "In sami.make_df_sami() [bin_type=default, ncomponents=recom, debug=True, eline_SNR_min=5]: Finished processing 491956 (3)\n",
      "In sami.make_df_sami() [bin_type=default, ncomponents=recom, debug=True, eline_SNR_min=5]: Finished processing 513001 (6)\n",
      "In sami.make_df_sami() [bin_type=default, ncomponents=recom, debug=True, eline_SNR_min=5]: Finished processing 417678 (7)\n",
      "In sami.make_df_sami() [bin_type=default, ncomponents=recom, debug=True, eline_SNR_min=5]: Finished processing 573736 (8)\n",
      "In sami.make_df_sami() [bin_type=default, ncomponents=recom, debug=True, eline_SNR_min=5]: Finished processing 387080 (0)\n",
      "In sami.make_df_sami() [bin_type=default, ncomponents=recom, debug=True, eline_SNR_min=5]: Finished processing 324753 (9)\n",
      "In sami.make_df_sami() [bin_type=default, ncomponents=recom, debug=True, eline_SNR_min=5]: Renaming columns...\n",
      "////////////////////////////////////////////////////////////////////\n",
      "In dqcut.dqcut(): Flagging low S/N components and spaxels...\n",
      "In dqcut.dqcut(): Flagging components and spaxels with NaN fluxes and finite errors...\n",
      "HALPHA (component 1): 0 spaxels have missing fluxes in this component\n",
      "HALPHA (component 2): 0 spaxels have missing fluxes in this component\n",
      "HALPHA (component 3): 0 spaxels have missing fluxes in this component\n",
      "HALPHA (total): 0 spaxels have missing total fluxes\n",
      "HBETA (total): 112 spaxels have missing total fluxes\n",
      "NII6583 (total): 80 spaxels have missing total fluxes\n",
      "OI6300 (total): 68 spaxels have missing total fluxes\n",
      "OII3726+OII3729 (total): 214 spaxels have missing total fluxes\n",
      "OIII5007 (total): 93 spaxels have missing total fluxes\n",
      "SII6716 (total): 58 spaxels have missing total fluxes\n",
      "SII6731 (total): 82 spaxels have missing total fluxes\n",
      "In dqcut.dqcut(): Flagging components with amplitude < 3 * rms continuum noise...\n",
      "In dqcut.dqcut(): Flagging spaxels where the flux ratio of the broad:narrow component < 0.05...\n",
      "In dqcut.dqcut(): Flagging components likely to be affected by beam smearing...\n",
      "In dqcut.dqcut(): Flagging components with low sigma_gas S/N...\n",
      "In dqcut.dqcut(): Flagging spaxels with unreliable stellar kinematics...\n",
      "////////////////////////////////////////////////////////////////////\n",
      "In dqcut.dqcut(): Masking components that don't meet the S/N requirements...\n",
      "In dqcut.dqcut(): Masking components with missing fluxes...\n",
      "In dqcut.dqcut(): Masking components that don't meet the amplitude requirements...\n",
      "In dqcut.dqcut(): Masking components with insufficient S/N in sigma_gas...\n",
      "In dqcut.dqcut(): Masking spaxels with unreliable stellar kinematics...\n",
      "////////////////////////////////////////////////////////////////////\n",
      "In dqcut.dqcut(): Flagging spaxels with 'missing components'...\n",
      "STATISTICS: 48.58% of spaxels have individual components that have been masked out\n",
      "In sami.make_df_sami() [bin_type=default, ncomponents=recom, debug=True, eline_SNR_min=5]: Correcting emission line fluxes (but not EWs) for extinction...\n",
      "In extcorr.extinction_corr_fn(): Multithreading A_V computation across 20 threads...\n"
     ]
    },
    {
     "name": "stderr",
     "output_type": "stream",
     "text": [
      "/pkg/linux/anaconda-20191122/anaconda3/lib/python3.7/site-packages/pandas/core/indexing.py:376: SettingWithCopyWarning: \n",
      "A value is trying to be set on a copy of a slice from a DataFrame.\n",
      "Try using .loc[row_indexer,col_indexer] = value instead\n",
      "\n",
      "See the caveats in the documentation: http://pandas.pydata.org/pandas-docs/stable/user_guide/indexing.html#returning-a-view-versus-a-copy\n",
      "  self.obj[key] = _infer_fill_value(value)\n",
      "/pkg/linux/anaconda-20191122/anaconda3/lib/python3.7/site-packages/pandas/core/indexing.py:494: SettingWithCopyWarning: \n",
      "A value is trying to be set on a copy of a slice from a DataFrame.\n",
      "Try using .loc[row_indexer,col_indexer] = value instead\n",
      "\n",
      "See the caveats in the documentation: http://pandas.pydata.org/pandas-docs/stable/user_guide/indexing.html#returning-a-view-versus-a-copy\n",
      "  self.obj[item] = s\n",
      "/pkg/linux/anaconda-20191122/anaconda3/lib/python3.7/site-packages/pandas/core/frame.py:7123: FutureWarning: Sorting because non-concatenation axis is not aligned. A future version\n",
      "of pandas will change to not sort by default.\n",
      "\n",
      "To accept the future behavior, pass 'sort=False'.\n",
      "\n",
      "To retain the current behavior and silence the warning, pass 'sort=True'.\n",
      "\n",
      "  sort=sort,\n",
      "/pkg/linux/anaconda-20191122/anaconda3/lib/python3.7/site-packages/pandas/core/series.py:853: RuntimeWarning: invalid value encountered in log10\n",
      "  result = getattr(ufunc, method)(*inputs, **kwargs)\n",
      "/pkg/linux/anaconda-20191122/anaconda3/lib/python3.7/site-packages/pandas/core/series.py:853: RuntimeWarning: divide by zero encountered in log10\n",
      "  result = getattr(ufunc, method)(*inputs, **kwargs)\n"
     ]
    },
    {
     "name": "stdout",
     "output_type": "stream",
     "text": [
      "In linefns.metallicity.metallicity_fn(): Multithreading metallicity computation across 20 threads...\n",
      "In linefns.metallicity.metallicity_fn(): Multithreading metallicity computation across 20 threads...\n",
      "In linefns.metallicity.iter_metallicity_fn(): Multithreading metallicity computation across 20 threads...\n",
      "In linefns.metallicity.iter_metallicity_fn(): Multithreading metallicity computation across 20 threads...\n",
      "In linefns.metallicity.metallicity_fn(): Multithreading metallicity computation across 20 threads...\n",
      "In linefns.metallicity.metallicity_fn(): Multithreading metallicity computation across 20 threads...\n",
      "In linefns.metallicity.iter_metallicity_fn(): Multithreading metallicity computation across 20 threads...\n"
     ]
    },
    {
     "name": "stderr",
     "output_type": "stream",
     "text": [
      "/home/u5708159/python/Modules/spaxelsleuth/utils/metallicity.py:390: RuntimeWarning: overflow encountered in double_scalars\n",
      "  + ion_coeffs[ion_diagnostic][\"J\"] * y**3  \\\n",
      "/home/u5708159/python/Modules/spaxelsleuth/utils/metallicity.py:390: RuntimeWarning: invalid value encountered in double_scalars\n",
      "  + ion_coeffs[ion_diagnostic][\"J\"] * y**3  \\\n",
      "/home/u5708159/python/Modules/spaxelsleuth/utils/metallicity.py:343: RuntimeWarning: overflow encountered in double_scalars\n",
      "  + met_coeffs[met_diagnostic][\"J\"] * y**3\n",
      "/home/u5708159/python/Modules/spaxelsleuth/utils/metallicity.py:454: RuntimeWarning: invalid value encountered in double_scalars\n",
      "  while np.abs((logOH12 - logOH12_old) / logOH12) > 0.001 and np.abs((logU - logU_old) / logU) > 0.001:\n"
     ]
    },
    {
     "name": "stdout",
     "output_type": "stream",
     "text": [
      "In linefns.metallicity.iter_metallicity_fn(): Multithreading metallicity computation across 20 threads...\n",
      "In sami.make_df_sami() [bin_type=default, ncomponents=recom, debug=True, eline_SNR_min=5]: Saving to file...\n"
     ]
    },
    {
     "name": "stderr",
     "output_type": "stream",
     "text": [
      "/pkg/linux/anaconda-20191122/anaconda3/lib/python3.7/site-packages/tables/path.py:157: NaturalNameWarning: object name is not a valid Python identifier: 'default, recom-comp'; it does not match the pattern ``^[a-zA-Z_][a-zA-Z0-9_]*$``; you will not be able to use natural naming to access this object; using ``getattr()`` will still work, though\n",
      "  check_attribute_name(name)\n"
     ]
    },
    {
     "name": "stdout",
     "output_type": "stream",
     "text": [
      "In sami.make_df_sami() [bin_type=default, ncomponents=recom, debug=True, eline_SNR_min=5]: Finished!\n"
     ]
    }
   ],
   "source": [
    "make_sami_df(ncomponents=\"recom\", bin_type=\"default\", eline_SNR_min=5, debug=DEBUG)"
   ]
  },
  {
   "cell_type": "markdown",
   "metadata": {},
   "source": [
    "### Load the SAMI DataFrame we just created\n",
    "Note that if `DEBUG == False`, loading the sample takes a few minutes - patience is a virtue!"
   ]
  },
  {
   "cell_type": "code",
   "execution_count": 21,
   "metadata": {
    "scrolled": true
   },
   "outputs": [
    {
     "name": "stdout",
     "output_type": "stream",
     "text": [
      "In load_sami_df(): Loading DataFrame...\n",
      "In load_sami_df(): Finished!\n"
     ]
    }
   ],
   "source": [
    "from spaxelsleuth.loaddata.sami import load_sami_df\n",
    "df = load_sami_df(ncomponents=\"recom\",\n",
    "                  bin_type=\"default\",\n",
    "                  eline_SNR_min=5,\n",
    "                  correct_extinction=True,\n",
    "                  debug=DEBUG)\n"
   ]
  },
  {
   "cell_type": "markdown",
   "metadata": {},
   "source": [
    "In addition to the measured quantities released in DR3, the DataFrame also contains various other measurements, such as line ratios, spectral categories, equivalent widths, and the like:"
   ]
  },
  {
   "cell_type": "code",
   "execution_count": 22,
   "metadata": {},
   "outputs": [
    {
     "data": {
      "text/html": [
       "<div>\n",
       "<style scoped>\n",
       "    .dataframe tbody tr th:only-of-type {\n",
       "        vertical-align: middle;\n",
       "    }\n",
       "\n",
       "    .dataframe tbody tr th {\n",
       "        vertical-align: top;\n",
       "    }\n",
       "\n",
       "    .dataframe thead th {\n",
       "        text-align: right;\n",
       "    }\n",
       "</style>\n",
       "<table border=\"1\" class=\"dataframe\">\n",
       "  <thead>\n",
       "    <tr style=\"text-align: right;\">\n",
       "      <th></th>\n",
       "      <th>a_g</th>\n",
       "      <th>bad_class</th>\n",
       "      <th>catid</th>\n",
       "      <th>dec_ifu</th>\n",
       "      <th>dec_obj</th>\n",
       "      <th>ellip</th>\n",
       "      <th>fillflag</th>\n",
       "      <th>g_i</th>\n",
       "      <th>is_mem</th>\n",
       "      <th>m_r</th>\n",
       "      <th>...</th>\n",
       "      <th>log(U) (R23_KK04/O3O2_KK04) error (upper) (total)</th>\n",
       "      <th>Extinction correction applied</th>\n",
       "      <th>line_flux_SNR_cut</th>\n",
       "      <th>eline_SNR_min</th>\n",
       "      <th>sigma_gas_SNR_min</th>\n",
       "      <th>vgrad_cut</th>\n",
       "      <th>sigma_gas_SNR_cut</th>\n",
       "      <th>line_amplitude_SNR_cut</th>\n",
       "      <th>flux_fraction_cut</th>\n",
       "      <th>stekin_cut</th>\n",
       "    </tr>\n",
       "  </thead>\n",
       "  <tbody>\n",
       "    <tr>\n",
       "      <td>0</td>\n",
       "      <td>0.164</td>\n",
       "      <td>0.0</td>\n",
       "      <td>387080</td>\n",
       "      <td>2.245778</td>\n",
       "      <td>2.245778</td>\n",
       "      <td>NaN</td>\n",
       "      <td>NaN</td>\n",
       "      <td>1.35</td>\n",
       "      <td>NaN</td>\n",
       "      <td>-20.57</td>\n",
       "      <td>...</td>\n",
       "      <td>NaN</td>\n",
       "      <td>True</td>\n",
       "      <td>True</td>\n",
       "      <td>5</td>\n",
       "      <td>3</td>\n",
       "      <td>False</td>\n",
       "      <td>True</td>\n",
       "      <td>True</td>\n",
       "      <td>False</td>\n",
       "      <td>True</td>\n",
       "    </tr>\n",
       "    <tr>\n",
       "      <td>1</td>\n",
       "      <td>0.164</td>\n",
       "      <td>0.0</td>\n",
       "      <td>387080</td>\n",
       "      <td>2.245778</td>\n",
       "      <td>2.245778</td>\n",
       "      <td>NaN</td>\n",
       "      <td>NaN</td>\n",
       "      <td>1.35</td>\n",
       "      <td>NaN</td>\n",
       "      <td>-20.57</td>\n",
       "      <td>...</td>\n",
       "      <td>NaN</td>\n",
       "      <td>True</td>\n",
       "      <td>True</td>\n",
       "      <td>5</td>\n",
       "      <td>3</td>\n",
       "      <td>False</td>\n",
       "      <td>True</td>\n",
       "      <td>True</td>\n",
       "      <td>False</td>\n",
       "      <td>True</td>\n",
       "    </tr>\n",
       "    <tr>\n",
       "      <td>2</td>\n",
       "      <td>0.164</td>\n",
       "      <td>0.0</td>\n",
       "      <td>387080</td>\n",
       "      <td>2.245778</td>\n",
       "      <td>2.245778</td>\n",
       "      <td>NaN</td>\n",
       "      <td>NaN</td>\n",
       "      <td>1.35</td>\n",
       "      <td>NaN</td>\n",
       "      <td>-20.57</td>\n",
       "      <td>...</td>\n",
       "      <td>NaN</td>\n",
       "      <td>True</td>\n",
       "      <td>True</td>\n",
       "      <td>5</td>\n",
       "      <td>3</td>\n",
       "      <td>False</td>\n",
       "      <td>True</td>\n",
       "      <td>True</td>\n",
       "      <td>False</td>\n",
       "      <td>True</td>\n",
       "    </tr>\n",
       "    <tr>\n",
       "      <td>3</td>\n",
       "      <td>0.164</td>\n",
       "      <td>0.0</td>\n",
       "      <td>387080</td>\n",
       "      <td>2.245778</td>\n",
       "      <td>2.245778</td>\n",
       "      <td>NaN</td>\n",
       "      <td>NaN</td>\n",
       "      <td>1.35</td>\n",
       "      <td>NaN</td>\n",
       "      <td>-20.57</td>\n",
       "      <td>...</td>\n",
       "      <td>NaN</td>\n",
       "      <td>True</td>\n",
       "      <td>True</td>\n",
       "      <td>5</td>\n",
       "      <td>3</td>\n",
       "      <td>False</td>\n",
       "      <td>True</td>\n",
       "      <td>True</td>\n",
       "      <td>False</td>\n",
       "      <td>True</td>\n",
       "    </tr>\n",
       "    <tr>\n",
       "      <td>4</td>\n",
       "      <td>0.164</td>\n",
       "      <td>0.0</td>\n",
       "      <td>387080</td>\n",
       "      <td>2.245778</td>\n",
       "      <td>2.245778</td>\n",
       "      <td>NaN</td>\n",
       "      <td>NaN</td>\n",
       "      <td>1.35</td>\n",
       "      <td>NaN</td>\n",
       "      <td>-20.57</td>\n",
       "      <td>...</td>\n",
       "      <td>NaN</td>\n",
       "      <td>True</td>\n",
       "      <td>True</td>\n",
       "      <td>5</td>\n",
       "      <td>3</td>\n",
       "      <td>False</td>\n",
       "      <td>True</td>\n",
       "      <td>True</td>\n",
       "      <td>False</td>\n",
       "      <td>True</td>\n",
       "    </tr>\n",
       "    <tr>\n",
       "      <td>...</td>\n",
       "      <td>...</td>\n",
       "      <td>...</td>\n",
       "      <td>...</td>\n",
       "      <td>...</td>\n",
       "      <td>...</td>\n",
       "      <td>...</td>\n",
       "      <td>...</td>\n",
       "      <td>...</td>\n",
       "      <td>...</td>\n",
       "      <td>...</td>\n",
       "      <td>...</td>\n",
       "      <td>...</td>\n",
       "      <td>...</td>\n",
       "      <td>...</td>\n",
       "      <td>...</td>\n",
       "      <td>...</td>\n",
       "      <td>...</td>\n",
       "      <td>...</td>\n",
       "      <td>...</td>\n",
       "      <td>...</td>\n",
       "      <td>...</td>\n",
       "    </tr>\n",
       "    <tr>\n",
       "      <td>2819837</td>\n",
       "      <td>NaN</td>\n",
       "      <td>NaN</td>\n",
       "      <td>9091701454</td>\n",
       "      <td>NaN</td>\n",
       "      <td>-30.165783</td>\n",
       "      <td>NaN</td>\n",
       "      <td>90.0</td>\n",
       "      <td>NaN</td>\n",
       "      <td>NaN</td>\n",
       "      <td>NaN</td>\n",
       "      <td>...</td>\n",
       "      <td>NaN</td>\n",
       "      <td>True</td>\n",
       "      <td>True</td>\n",
       "      <td>5</td>\n",
       "      <td>3</td>\n",
       "      <td>False</td>\n",
       "      <td>True</td>\n",
       "      <td>True</td>\n",
       "      <td>False</td>\n",
       "      <td>True</td>\n",
       "    </tr>\n",
       "    <tr>\n",
       "      <td>2819838</td>\n",
       "      <td>NaN</td>\n",
       "      <td>NaN</td>\n",
       "      <td>9091701454</td>\n",
       "      <td>NaN</td>\n",
       "      <td>-30.165783</td>\n",
       "      <td>NaN</td>\n",
       "      <td>90.0</td>\n",
       "      <td>NaN</td>\n",
       "      <td>NaN</td>\n",
       "      <td>NaN</td>\n",
       "      <td>...</td>\n",
       "      <td>NaN</td>\n",
       "      <td>True</td>\n",
       "      <td>True</td>\n",
       "      <td>5</td>\n",
       "      <td>3</td>\n",
       "      <td>False</td>\n",
       "      <td>True</td>\n",
       "      <td>True</td>\n",
       "      <td>False</td>\n",
       "      <td>True</td>\n",
       "    </tr>\n",
       "    <tr>\n",
       "      <td>2819839</td>\n",
       "      <td>NaN</td>\n",
       "      <td>NaN</td>\n",
       "      <td>9091701454</td>\n",
       "      <td>NaN</td>\n",
       "      <td>-30.165783</td>\n",
       "      <td>NaN</td>\n",
       "      <td>90.0</td>\n",
       "      <td>NaN</td>\n",
       "      <td>NaN</td>\n",
       "      <td>NaN</td>\n",
       "      <td>...</td>\n",
       "      <td>NaN</td>\n",
       "      <td>True</td>\n",
       "      <td>True</td>\n",
       "      <td>5</td>\n",
       "      <td>3</td>\n",
       "      <td>False</td>\n",
       "      <td>True</td>\n",
       "      <td>True</td>\n",
       "      <td>False</td>\n",
       "      <td>True</td>\n",
       "    </tr>\n",
       "    <tr>\n",
       "      <td>2819840</td>\n",
       "      <td>NaN</td>\n",
       "      <td>NaN</td>\n",
       "      <td>9091701454</td>\n",
       "      <td>NaN</td>\n",
       "      <td>-30.165783</td>\n",
       "      <td>NaN</td>\n",
       "      <td>90.0</td>\n",
       "      <td>NaN</td>\n",
       "      <td>NaN</td>\n",
       "      <td>NaN</td>\n",
       "      <td>...</td>\n",
       "      <td>NaN</td>\n",
       "      <td>True</td>\n",
       "      <td>True</td>\n",
       "      <td>5</td>\n",
       "      <td>3</td>\n",
       "      <td>False</td>\n",
       "      <td>True</td>\n",
       "      <td>True</td>\n",
       "      <td>False</td>\n",
       "      <td>True</td>\n",
       "    </tr>\n",
       "    <tr>\n",
       "      <td>2819841</td>\n",
       "      <td>NaN</td>\n",
       "      <td>NaN</td>\n",
       "      <td>9091701454</td>\n",
       "      <td>NaN</td>\n",
       "      <td>-30.165783</td>\n",
       "      <td>NaN</td>\n",
       "      <td>90.0</td>\n",
       "      <td>NaN</td>\n",
       "      <td>NaN</td>\n",
       "      <td>NaN</td>\n",
       "      <td>...</td>\n",
       "      <td>NaN</td>\n",
       "      <td>True</td>\n",
       "      <td>True</td>\n",
       "      <td>5</td>\n",
       "      <td>3</td>\n",
       "      <td>False</td>\n",
       "      <td>True</td>\n",
       "      <td>True</td>\n",
       "      <td>False</td>\n",
       "      <td>True</td>\n",
       "    </tr>\n",
       "  </tbody>\n",
       "</table>\n",
       "<p>2819842 rows × 410 columns</p>\n",
       "</div>"
      ],
      "text/plain": [
       "           a_g  bad_class       catid   dec_ifu    dec_obj  ellip  fillflag  \\\n",
       "0        0.164        0.0      387080  2.245778   2.245778    NaN       NaN   \n",
       "1        0.164        0.0      387080  2.245778   2.245778    NaN       NaN   \n",
       "2        0.164        0.0      387080  2.245778   2.245778    NaN       NaN   \n",
       "3        0.164        0.0      387080  2.245778   2.245778    NaN       NaN   \n",
       "4        0.164        0.0      387080  2.245778   2.245778    NaN       NaN   \n",
       "...        ...        ...         ...       ...        ...    ...       ...   \n",
       "2819837    NaN        NaN  9091701454       NaN -30.165783    NaN      90.0   \n",
       "2819838    NaN        NaN  9091701454       NaN -30.165783    NaN      90.0   \n",
       "2819839    NaN        NaN  9091701454       NaN -30.165783    NaN      90.0   \n",
       "2819840    NaN        NaN  9091701454       NaN -30.165783    NaN      90.0   \n",
       "2819841    NaN        NaN  9091701454       NaN -30.165783    NaN      90.0   \n",
       "\n",
       "          g_i  is_mem    m_r  ...  \\\n",
       "0        1.35     NaN -20.57  ...   \n",
       "1        1.35     NaN -20.57  ...   \n",
       "2        1.35     NaN -20.57  ...   \n",
       "3        1.35     NaN -20.57  ...   \n",
       "4        1.35     NaN -20.57  ...   \n",
       "...       ...     ...    ...  ...   \n",
       "2819837   NaN     NaN    NaN  ...   \n",
       "2819838   NaN     NaN    NaN  ...   \n",
       "2819839   NaN     NaN    NaN  ...   \n",
       "2819840   NaN     NaN    NaN  ...   \n",
       "2819841   NaN     NaN    NaN  ...   \n",
       "\n",
       "         log(U) (R23_KK04/O3O2_KK04) error (upper) (total)  \\\n",
       "0                                                      NaN   \n",
       "1                                                      NaN   \n",
       "2                                                      NaN   \n",
       "3                                                      NaN   \n",
       "4                                                      NaN   \n",
       "...                                                    ...   \n",
       "2819837                                                NaN   \n",
       "2819838                                                NaN   \n",
       "2819839                                                NaN   \n",
       "2819840                                                NaN   \n",
       "2819841                                                NaN   \n",
       "\n",
       "         Extinction correction applied  line_flux_SNR_cut  eline_SNR_min  \\\n",
       "0                                 True               True              5   \n",
       "1                                 True               True              5   \n",
       "2                                 True               True              5   \n",
       "3                                 True               True              5   \n",
       "4                                 True               True              5   \n",
       "...                                ...                ...            ...   \n",
       "2819837                           True               True              5   \n",
       "2819838                           True               True              5   \n",
       "2819839                           True               True              5   \n",
       "2819840                           True               True              5   \n",
       "2819841                           True               True              5   \n",
       "\n",
       "         sigma_gas_SNR_min  vgrad_cut  sigma_gas_SNR_cut  \\\n",
       "0                        3      False               True   \n",
       "1                        3      False               True   \n",
       "2                        3      False               True   \n",
       "3                        3      False               True   \n",
       "4                        3      False               True   \n",
       "...                    ...        ...                ...   \n",
       "2819837                  3      False               True   \n",
       "2819838                  3      False               True   \n",
       "2819839                  3      False               True   \n",
       "2819840                  3      False               True   \n",
       "2819841                  3      False               True   \n",
       "\n",
       "         line_amplitude_SNR_cut  flux_fraction_cut  stekin_cut  \n",
       "0                          True              False        True  \n",
       "1                          True              False        True  \n",
       "2                          True              False        True  \n",
       "3                          True              False        True  \n",
       "4                          True              False        True  \n",
       "...                         ...                ...         ...  \n",
       "2819837                    True              False        True  \n",
       "2819838                    True              False        True  \n",
       "2819839                    True              False        True  \n",
       "2819840                    True              False        True  \n",
       "2819841                    True              False        True  \n",
       "\n",
       "[2819842 rows x 410 columns]"
      ]
     },
     "execution_count": 22,
     "metadata": {},
     "output_type": "execute_result"
    }
   ],
   "source": [
    "df"
   ]
  },
  {
   "cell_type": "code",
   "execution_count": 6,
   "metadata": {
    "scrolled": true
   },
   "outputs": [
    {
     "name": "stdout",
     "output_type": "stream",
     "text": [
      "A_V (total)\n",
      "A_V error (total)\n",
      "BPT (total)\n",
      "BPT (numeric) (total)\n",
      "Bad stellar kinematics\n",
      "Balmer decrement (total)\n",
      "Balmer decrement error (total)\n",
      "Beam smearing flag (component 1)\n",
      "Beam smearing flag (component 2)\n",
      "Beam smearing flag (component 3)\n",
      "Bin number\n",
      "Bin size (pixels)\n",
      "Bin size (square arcsec)\n",
      "Bin size (square kpc)\n",
      "Corrected for extinction?\n",
      "D4000\n",
      "D4000 error\n",
      "D_A (Mpc)\n",
      "D_L (Mpc)\n",
      "Dopita+2016 (total)\n",
      "Galaxy centre x0_px (projected, arcsec)\n",
      "Galaxy centre y0_px (projected, arcsec)\n",
      "Good?\n",
      "HALPHA (total)\n",
      "HALPHA (component 1)\n",
      "HALPHA (component 2)\n",
      "HALPHA (component 3)\n",
      "HALPHA A (component 1)\n",
      "HALPHA A (component 2)\n",
      "HALPHA A (component 3)\n",
      "HALPHA EW (total)\n",
      "HALPHA EW (component 1)\n",
      "HALPHA EW (component 2)\n",
      "HALPHA EW (component 3)\n",
      "HALPHA EW error (total)\n",
      "HALPHA EW error (component 1)\n",
      "HALPHA EW error (component 2)\n",
      "HALPHA EW error (component 3)\n",
      "HALPHA S/N (total)\n",
      "HALPHA S/N (component 1)\n",
      "HALPHA S/N (component 2)\n",
      "HALPHA S/N (component 3)\n",
      "HALPHA continuum\n",
      "HALPHA continuum error\n",
      "HALPHA continuum std. dev.\n",
      "HALPHA error (total)\n",
      "HALPHA error (component 1)\n",
      "HALPHA error (component 2)\n",
      "HALPHA error (component 3)\n",
      "HALPHA extinction correction\n",
      "HALPHA extinction correction error\n",
      "HALPHA lambda_obs (component 1) (Å)\n",
      "HALPHA lambda_obs (component 2) (Å)\n",
      "HALPHA lambda_obs (component 3) (Å)\n",
      "HALPHA sigma_gas (component 1) (Å)\n",
      "HALPHA sigma_gas (component 2) (Å)\n",
      "HALPHA sigma_gas (component 3) (Å)\n",
      "HBETA (total)\n",
      "HBETA S/N (total)\n",
      "HBETA error (total)\n",
      "Inclination i (degrees)\n",
      "Low amplitude flag - HALPHA (total)\n",
      "Low amplitude flag - HALPHA (component 1)\n",
      "Low amplitude flag - HALPHA (component 2)\n",
      "Low amplitude flag - HALPHA (component 3)\n",
      "Low amplitude flag - HBETA (total)\n",
      "Low amplitude flag - NII6583 (total)\n",
      "Low amplitude flag - OI6300 (total)\n",
      "Low amplitude flag - OII3726+OII3729 (total)\n",
      "Low amplitude flag - OIII5007 (total)\n",
      "Low amplitude flag - SII6716 (total)\n",
      "Low amplitude flag - SII6731 (total)\n",
      "Low flux S/N flag - HALPHA (total)\n",
      "Low flux S/N flag - HALPHA (component 1)\n",
      "Low flux S/N flag - HALPHA (component 2)\n",
      "Low flux S/N flag - HALPHA (component 3)\n",
      "Low flux S/N flag - HBETA (total)\n",
      "Low flux S/N flag - NII6583 (total)\n",
      "Low flux S/N flag - OI6300 (total)\n",
      "Low flux S/N flag - OII3726+OII3729 (total)\n",
      "Low flux S/N flag - OIII5007 (total)\n",
      "Low flux S/N flag - SII6716 (total)\n",
      "Low flux S/N flag - SII6731 (total)\n",
      "Low flux fraction flag - HALPHA (total)\n",
      "Low flux fraction flag - HALPHA (component 1)\n",
      "Low flux fraction flag - HALPHA (component 2)\n",
      "Low flux fraction flag - HALPHA (component 3)\n",
      "Low flux fraction flag - HBETA (total)\n",
      "Low flux fraction flag - NII6583 (total)\n",
      "Low flux fraction flag - OI6300 (total)\n",
      "Low flux fraction flag - OII3726+OII3729 (total)\n",
      "Low flux fraction flag - OIII5007 (total)\n",
      "Low flux fraction flag - SII6716 (total)\n",
      "Low flux fraction flag - SII6731 (total)\n",
      "Low sigma_gas S/N flag (component 1)\n",
      "Low sigma_gas S/N flag (component 2)\n",
      "Low sigma_gas S/N flag (component 3)\n",
      "Missing components flag\n",
      "Missing flux flag - HALPHA (total)\n",
      "Missing flux flag - HALPHA (component 1)\n",
      "Missing flux flag - HALPHA (component 2)\n",
      "Missing flux flag - HALPHA (component 3)\n",
      "Missing flux flag - HBETA (total)\n",
      "Missing flux flag - NII6583 (total)\n",
      "Missing flux flag - OI6300 (total)\n",
      "Missing flux flag - OII3726+OII3729 (total)\n",
      "Missing flux flag - OIII5007 (total)\n",
      "Missing flux flag - SII6716 (total)\n",
      "Missing flux flag - SII6731 (total)\n",
      "Morphology\n",
      "Morphology (numeric)\n",
      "N2 (total)\n",
      "N2 error (total)\n",
      "N2O2 (total)\n",
      "N2S2 (total)\n",
      "NII6548 (total)\n",
      "NII6548 error (total)\n",
      "NII6548+NII6583 (total)\n",
      "NII6548+NII6583 error (total)\n",
      "NII6583 (total)\n",
      "NII6583 S/N (total)\n",
      "NII6583 error (total)\n",
      "Number of components\n",
      "Number of components (original)\n",
      "O1 (total)\n",
      "O1 error (total)\n",
      "O1O3 (total)\n",
      "O3 (total)\n",
      "O3 error (total)\n",
      "O3N2 (total)\n",
      "O3O2 (total)\n",
      "OI6300 (total)\n",
      "OI6300 S/N (total)\n",
      "OI6300 error (total)\n",
      "OII3726+OII3729 (total)\n",
      "OII3726+OII3729 S/N (total)\n",
      "OII3726+OII3729 error (total)\n",
      "OIII4959 (total)\n",
      "OIII4959 error (total)\n",
      "OIII4959+OIII5007 (total)\n",
      "OIII4959+OIII5007 error (total)\n",
      "OIII5007 (total)\n",
      "OIII5007 S/N (total)\n",
      "OIII5007 error (total)\n",
      "R23 (total)\n",
      "R_e (arcsec)\n",
      "R_e (kpc)\n",
      "S2 (total)\n",
      "S2 error (total)\n",
      "S2 ratio (total)\n",
      "S2 ratio error (total)\n",
      "SFR (total)\n",
      "SFR (component 1)\n",
      "SFR error (total)\n",
      "SFR error (component 1)\n",
      "SFR surface density (total)\n",
      "SFR surface density (component 1)\n",
      "SFR surface density error (total)\n",
      "SFR surface density error (component 1)\n",
      "SII6716 (total)\n",
      "SII6716 S/N (total)\n",
      "SII6716 error (total)\n",
      "SII6716+SII6731 (total)\n",
      "SII6716+SII6731 error (total)\n",
      "SII6731 (total)\n",
      "SII6731 S/N (total)\n",
      "SII6731 error (total)\n",
      "a_g\n",
      "bad_class\n",
      "catid\n",
      "dec_ifu\n",
      "dec_obj\n",
      "ellip\n",
      "fillflag\n",
      "g_i\n",
      "is_mem\n",
      "kpc per arcsec\n",
      "log N2 (total)\n",
      "log N2 error (lower) (total)\n",
      "log N2 error (upper) (total)\n",
      "log O1 (total)\n",
      "log O1 error (lower) (total)\n",
      "log O1 error (upper) (total)\n",
      "log O3 (total)\n",
      "log O3 error (lower) (total)\n",
      "log O3 error (upper) (total)\n",
      "log S2 (total)\n",
      "log S2 error (lower) (total)\n",
      "log S2 error (upper) (total)\n",
      "log(M/R_e)\n",
      "m_r\n",
      "mstar\n",
      "mu_1re\n",
      "mu_2re\n",
      "mu_within_1re\n",
      "pa\n",
      "r (relative to galaxy centre, deprojected, arcsec)\n",
      "r/R_e\n",
      "r_auto\n",
      "r_on_rtwo\n",
      "r_petro\n",
      "ra_ifu\n",
      "ra_obj\n",
      "sigma_*\n",
      "sigma_* error\n",
      "sigma_gas (component 1)\n",
      "sigma_gas (component 2)\n",
      "sigma_gas (component 3)\n",
      "sigma_gas error (component 1)\n",
      "sigma_gas error (component 2)\n",
      "sigma_gas error (component 3)\n",
      "sigma_obs (component 1)\n",
      "sigma_obs (component 2)\n",
      "sigma_obs (component 3)\n",
      "sigma_obs S/N (component 1)\n",
      "sigma_obs S/N (component 2)\n",
      "sigma_obs S/N (component 3)\n",
      "sigma_obs target S/N (component 1)\n",
      "sigma_obs target S/N (component 2)\n",
      "sigma_obs target S/N (component 3)\n",
      "surv_sami\n",
      "v_*\n",
      "v_* error\n",
      "v_gas (component 1)\n",
      "v_gas (component 2)\n",
      "v_gas (component 3)\n",
      "v_gas error (component 1)\n",
      "v_gas error (component 2)\n",
      "v_gas error (component 3)\n",
      "v_grad (component 1)\n",
      "v_grad (component 2)\n",
      "v_grad (component 3)\n",
      "v_on_sigma\n",
      "x (projected, arcsec)\n",
      "x (relative to galaxy centre, deprojected, arcsec)\n",
      "y (projected, arcsec)\n",
      "y (relative to galaxy centre, deprojected, arcsec)\n",
      "z_spec\n",
      "z_tonry\n",
      "HALPHA continuum luminosity\n",
      "HALPHA continuum luminosity error\n",
      "HALPHA luminosity (total)\n",
      "HALPHA luminosity error (total)\n",
      "HALPHA luminosity (component 1)\n",
      "HALPHA luminosity error (component 1)\n",
      "HALPHA luminosity (component 2)\n",
      "HALPHA luminosity error (component 2)\n",
      "HALPHA luminosity (component 3)\n",
      "HALPHA luminosity error (component 3)\n",
      "FWHM_gas (component 1)\n",
      "FWHM_gas error (component 1)\n",
      "FWHM_gas (component 2)\n",
      "FWHM_gas error (component 2)\n",
      "FWHM_gas (component 3)\n",
      "FWHM_gas error (component 3)\n",
      "sigma_gas - sigma_* (component 1)\n",
      "sigma_gas - sigma_* error (component 1)\n",
      "sigma_gas^2 - sigma_*^2 (component 1)\n",
      "sigma_gas^2 - sigma_*^2 error (component 1)\n",
      "v_gas - v_* (component 1)\n",
      "v_gas - v_* error (component 1)\n",
      "sigma_gas/sigma_* (component 1)\n",
      "sigma_gas/sigma_* error (component 1)\n",
      "sigma_gas - sigma_* (component 2)\n",
      "sigma_gas - sigma_* error (component 2)\n",
      "sigma_gas^2 - sigma_*^2 (component 2)\n",
      "sigma_gas^2 - sigma_*^2 error (component 2)\n",
      "v_gas - v_* (component 2)\n",
      "v_gas - v_* error (component 2)\n",
      "sigma_gas/sigma_* (component 2)\n",
      "sigma_gas/sigma_* error (component 2)\n",
      "sigma_gas - sigma_* (component 3)\n",
      "sigma_gas - sigma_* error (component 3)\n",
      "sigma_gas^2 - sigma_*^2 (component 3)\n",
      "sigma_gas^2 - sigma_*^2 error (component 3)\n",
      "v_gas - v_* (component 3)\n",
      "v_gas - v_* error (component 3)\n",
      "sigma_gas/sigma_* (component 3)\n",
      "sigma_gas/sigma_* error (component 3)\n",
      "log HALPHA luminosity (component 1)\n",
      "log HALPHA EW (component 1)\n",
      "log sigma_gas (component 1)\n",
      "log HALPHA luminosity error (lower) (component 1)\n",
      "log HALPHA luminosity error (upper) (component 1)\n",
      "log HALPHA EW error (lower) (component 1)\n",
      "log HALPHA EW error (upper) (component 1)\n",
      "log sigma_gas error (lower) (component 1)\n",
      "log sigma_gas error (upper) (component 1)\n",
      "log HALPHA luminosity (component 2)\n",
      "log HALPHA EW (component 2)\n",
      "log sigma_gas (component 2)\n",
      "log HALPHA luminosity error (lower) (component 2)\n",
      "log HALPHA luminosity error (upper) (component 2)\n",
      "log HALPHA EW error (lower) (component 2)\n",
      "log HALPHA EW error (upper) (component 2)\n",
      "log sigma_gas error (lower) (component 2)\n",
      "log sigma_gas error (upper) (component 2)\n",
      "log HALPHA luminosity (component 3)\n",
      "log HALPHA EW (component 3)\n",
      "log sigma_gas (component 3)\n",
      "log HALPHA luminosity error (lower) (component 3)\n",
      "log HALPHA luminosity error (upper) (component 3)\n",
      "log HALPHA EW error (lower) (component 3)\n",
      "log HALPHA EW error (upper) (component 3)\n",
      "log sigma_gas error (lower) (component 3)\n",
      "log sigma_gas error (upper) (component 3)\n",
      "log HALPHA luminosity (total)\n",
      "log HALPHA luminosity error (lower) (total)\n",
      "log HALPHA luminosity error (upper) (total)\n",
      "log HALPHA continuum luminosity\n",
      "log HALPHA continuum luminosity error (lower)\n",
      "log HALPHA continuum luminosity error (upper)\n",
      "log HALPHA EW (total)\n",
      "log HALPHA EW error (lower) (total)\n",
      "log HALPHA EW error (upper) (total)\n",
      "log S2 ratio (total)\n",
      "log S2 ratio error (lower) (total)\n",
      "log S2 ratio error (upper) (total)\n",
      "log SFR (total)\n",
      "log SFR error (lower) (total)\n",
      "log SFR error (upper) (total)\n",
      "log SFR surface density (total)\n",
      "log SFR surface density error (lower) (total)\n",
      "log SFR surface density error (upper) (total)\n",
      "log SFR (component 1)\n",
      "log SFR error (lower) (component 1)\n",
      "log SFR error (upper) (component 1)\n",
      "log SFR surface density (component 1)\n",
      "log SFR surface density error (lower) (component 1)\n",
      "log SFR surface density error (upper) (component 1)\n",
      "delta sigma_gas (2/1)\n",
      "delta sigma_gas (3/2)\n",
      "delta sigma_gas error (2/1)\n",
      "delta sigma_gas error (3/2)\n",
      "delta v_gas (2/1)\n",
      "delta v_gas (3/2)\n",
      "delta v_gas error (2/1)\n",
      "delta v_gas error (3/2)\n",
      "HALPHA EW ratio (2/1)\n",
      "HALPHA EW ratio (3/2)\n",
      "HALPHA EW ratio error (2/1)\n",
      "HALPHA EW ratio error (3/2)\n",
      "Delta HALPHA EW (1/2)\n",
      "Delta HALPHA EW (2/3)\n",
      "HALPHA EW/HALPHA EW (total) (component 1)\n",
      "HALPHA EW/HALPHA EW (total) (component 2)\n",
      "HALPHA EW/HALPHA EW (total) (component 3)\n",
      "log(O/H) + 12 (N2Ha_PP04) (total)\n",
      "log(O/H) + 12 (N2Ha_PP04) error (lower) (total)\n",
      "log(O/H) + 12 (N2Ha_PP04) error (upper) (total)\n",
      "log(O/H) + 12 (N2Ha_M13) (total)\n",
      "log(O/H) + 12 (N2Ha_M13) error (lower) (total)\n",
      "log(O/H) + 12 (N2Ha_M13) error (upper) (total)\n",
      "log(O/H) + 12 (O3N2_PP04) (total)\n",
      "log(O/H) + 12 (O3N2_PP04) error (lower) (total)\n",
      "log(O/H) + 12 (O3N2_PP04) error (upper) (total)\n",
      "log(O/H) + 12 (O3N2_M13) (total)\n",
      "log(O/H) + 12 (O3N2_M13) error (lower) (total)\n",
      "log(O/H) + 12 (O3N2_M13) error (upper) (total)\n",
      "log(O/H) + 12 (N2S2Ha_D16) (total)\n",
      "log(O/H) + 12 (N2S2Ha_D16) error (lower) (total)\n",
      "log(O/H) + 12 (N2S2Ha_D16) error (upper) (total)\n",
      "log(O/H) + 12 (N2O2_KD02) (total)\n",
      "log(O/H) + 12 (N2O2_KD02) error (lower) (total)\n",
      "log(O/H) + 12 (N2O2_KD02) error (upper) (total)\n",
      "log(O/H) + 12 (Rcal_PG16) (total)\n",
      "log(O/H) + 12 (Rcal_PG16) error (lower) (total)\n",
      "log(O/H) + 12 (Rcal_PG16) error (upper) (total)\n",
      "log(O/H) + 12 (Scal_PG16) (total)\n",
      "log(O/H) + 12 (Scal_PG16) error (lower) (total)\n",
      "log(O/H) + 12 (Scal_PG16) error (upper) (total)\n",
      "log(O/H) + 12 (ON_P10) (total)\n",
      "log(O/H) + 12 (ON_P10) error (lower) (total)\n",
      "log(O/H) + 12 (ON_P10) error (upper) (total)\n",
      "log(O/H) + 12 (ONS_P10) (total)\n",
      "log(O/H) + 12 (ONS_P10) error (lower) (total)\n",
      "log(O/H) + 12 (ONS_P10) error (upper) (total)\n",
      "log(O/H) + 12 (N2Ha_K19/O3O2_K19) (total)\n",
      "log(U) (N2Ha_K19/O3O2_K19) (total)\n",
      "log(O/H) + 12 (N2Ha_K19/O3O2_K19) error (lower) (total)\n",
      "log(O/H) + 12 (N2Ha_K19/O3O2_K19) error (upper) (total)\n",
      "log(U) (N2Ha_K19/O3O2_K19) error (lower) (total)\n",
      "log(U) (N2Ha_K19/O3O2_K19) error (upper) (total)\n",
      "log(O/H) + 12 (O3N2_K19/O3O2_K19) (total)\n",
      "log(U) (O3N2_K19/O3O2_K19) (total)\n",
      "log(O/H) + 12 (O3N2_K19/O3O2_K19) error (lower) (total)\n",
      "log(O/H) + 12 (O3N2_K19/O3O2_K19) error (upper) (total)\n",
      "log(U) (O3N2_K19/O3O2_K19) error (lower) (total)\n",
      "log(U) (O3N2_K19/O3O2_K19) error (upper) (total)\n",
      "log(O/H) + 12 (N2O2_K19/O3O2_K19) (total)\n",
      "log(U) (N2O2_K19/O3O2_K19) (total)\n",
      "log(O/H) + 12 (N2O2_K19/O3O2_K19) error (lower) (total)\n",
      "log(O/H) + 12 (N2O2_K19/O3O2_K19) error (upper) (total)\n",
      "log(U) (N2O2_K19/O3O2_K19) error (lower) (total)\n",
      "log(U) (N2O2_K19/O3O2_K19) error (upper) (total)\n",
      "log(O/H) + 12 (R23_KK04/O3O2_KK04) (total)\n",
      "log(U) (R23_KK04/O3O2_KK04) (total)\n",
      "log(O/H) + 12 (R23_KK04/O3O2_KK04) error (lower) (total)\n",
      "log(O/H) + 12 (R23_KK04/O3O2_KK04) error (upper) (total)\n",
      "log(U) (R23_KK04/O3O2_KK04) error (lower) (total)\n",
      "log(U) (R23_KK04/O3O2_KK04) error (upper) (total)\n",
      "Extinction correction applied\n",
      "line_flux_SNR_cut\n",
      "eline_SNR_min\n",
      "sigma_gas_SNR_min\n",
      "vgrad_cut\n",
      "sigma_gas_SNR_cut\n",
      "line_amplitude_SNR_cut\n",
      "flux_fraction_cut\n",
      "stekin_cut\n"
     ]
    }
   ],
   "source": [
    "for col in df.columns:\n",
    "    print(col)"
   ]
  },
  {
   "cell_type": "markdown",
   "metadata": {},
   "source": [
    "Let's have a look at some statistics:"
   ]
  },
  {
   "cell_type": "code",
   "execution_count": 23,
   "metadata": {},
   "outputs": [
    {
     "name": "stdout",
     "output_type": "stream",
     "text": [
      "There are 1066093 spaxels (37.81%) with 0 components as determined by LZCOMP\n",
      "There are 1649504 spaxels (58.50%) with 1 components as determined by LZCOMP\n",
      "There are 51023 spaxels (1.81%) with 2 components as determined by LZCOMP\n",
      "There are 53222 spaxels (1.89%) with 3 components as determined by LZCOMP\n"
     ]
    }
   ],
   "source": [
    "# Calculate the fraction of spaxels with different numbers of emission line components\n",
    "n_spaxels_tot = df.shape[0]\n",
    "for nn in range(4):\n",
    "    cond = df[\"Number of components (original)\"] == nn\n",
    "    n_spaxels = df[cond].shape[0]\n",
    "    print(f\"There are {n_spaxels} spaxels ({n_spaxels / n_spaxels_tot * 100:.2f}%) with {nn} components as determined by LZCOMP\")"
   ]
  },
  {
   "cell_type": "code",
   "execution_count": 24,
   "metadata": {
    "scrolled": true
   },
   "outputs": [
    {
     "name": "stdout",
     "output_type": "stream",
     "text": [
      "There are 2549696 spaxels (90.42%) classified as Not classified\n",
      "There are 14057 spaxels (0.50%) classified as Ambiguous\n",
      "There are 3521 spaxels (0.12%) classified as LINER\n",
      "There are 231851 spaxels (8.22%) classified as SF\n",
      "There are 18280 spaxels (0.65%) classified as Composite\n",
      "There are 2437 spaxels (0.09%) classified as Seyfert\n"
     ]
    }
   ],
   "source": [
    "# Calculate the number of spaxels with different spectral classifications \n",
    "n_spaxels_tot = df.shape[0]\n",
    "spec_cats = df[\"BPT (total)\"].unique()  # List of spectral categories in the data set\n",
    "for spec_cat in spec_cats:\n",
    "    cond = df[\"BPT (total)\"] == spec_cat\n",
    "    n_spaxels = df[cond].shape[0]\n",
    "    print(f\"There are {n_spaxels} spaxels ({n_spaxels / n_spaxels_tot * 100:.2f}%) classified as {spec_cat}\")"
   ]
  },
  {
   "cell_type": "code",
   "execution_count": 25,
   "metadata": {
    "scrolled": true
   },
   "outputs": [
    {
     "data": {
      "application/vnd.jupyter.widget-view+json": {
       "model_id": "a4c8b3fe2e5349ef8db8282bd10187ce",
       "version_major": 2,
       "version_minor": 0
      },
      "text/plain": [
       "Canvas(toolbar=Toolbar(toolitems=[('Home', 'Reset original view', 'home', 'home'), ('Back', 'Back to previous …"
      ]
     },
     "metadata": {},
     "output_type": "display_data"
    },
    {
     "data": {
      "text/plain": [
       "Text(0, 0.5, '$N$ (normalised)')"
      ]
     },
     "execution_count": 25,
     "metadata": {},
     "output_type": "execute_result"
    }
   ],
   "source": [
    "# Histograms showing the distribution in velocity dispersion\n",
    "import matplotlib.pyplot as plt\n",
    "from astropy.visualization import hist\n",
    "fig, ax = plt.subplots(nrows=1, ncols=1)\n",
    "for nn in range(1, 4):\n",
    "    hist(df[f\"sigma_gas (component {nn})\"].values, bins=\"scott\", ax=ax, range=(0, 500), normed=True, histtype=\"step\", label=f\"Component {nn}\")\n",
    "ax.legend()\n",
    "ax.set_xlabel(r\"$\\sigma_{\\rm gas}$\")\n",
    "ax.set_ylabel(r\"$N$ (normalised)\")"
   ]
  },
  {
   "cell_type": "markdown",
   "metadata": {},
   "source": [
    "You can also select a subset of the full data sample as follows:"
   ]
  },
  {
   "cell_type": "code",
   "execution_count": 26,
   "metadata": {},
   "outputs": [
    {
     "data": {
      "application/vnd.jupyter.widget-view+json": {
       "model_id": "941979f54fa747cdb3735a9cdb9f9cd6",
       "version_major": 2,
       "version_minor": 0
      },
      "text/plain": [
       "Canvas(toolbar=Toolbar(toolitems=[('Home', 'Reset original view', 'home', 'home'), ('Back', 'Back to previous …"
      ]
     },
     "metadata": {},
     "output_type": "display_data"
    },
    {
     "data": {
      "text/plain": [
       "Text(0.5, 1.0, 'Seyfert-like spaxels only')"
      ]
     },
     "execution_count": 26,
     "metadata": {},
     "output_type": "execute_result"
    }
   ],
   "source": [
    "df_agn = df[df[\"BPT (total)\"] == \"Seyfert\"]\n",
    "fig, ax = plt.subplots(nrows=1, ncols=1)\n",
    "for nn in range(1, 4):\n",
    "    hist(df_agn[f\"sigma_gas (component {nn})\"].values, bins=\"scott\", ax=ax, range=(0, 500), normed=True, histtype=\"step\", label=f\"Component {nn}\")\n",
    "ax.legend()\n",
    "ax.set_xlabel(r\"$\\sigma_{\\rm gas}$\")\n",
    "ax.set_ylabel(r\"$N$ (normalised)\")\n",
    "ax.set_title(\"Seyfert-like spaxels only\")"
   ]
  },
  {
   "cell_type": "markdown",
   "metadata": {},
   "source": [
    "## Using `spaxelsleuth.plotting` to plot the whole SAMI sample \n",
    "--- \n",
    "In the below cells, we will demonstrate how to use various functions in `spaxelsleuth.plotting` to make different kinds of plots useful for analysing the entire SAMI data set."
   ]
  },
  {
   "cell_type": "code",
   "execution_count": 12,
   "metadata": {},
   "outputs": [],
   "source": [
    "%matplotlib widget"
   ]
  },
  {
   "cell_type": "code",
   "execution_count": 27,
   "metadata": {},
   "outputs": [],
   "source": [
    "from spaxelsleuth.plotting.plottools import plot_empty_BPT_diagram, plot_BPT_lines\n",
    "from spaxelsleuth.plotting.plotgalaxies import plot2dhistcontours, plot2dscatter"
   ]
  },
  {
   "cell_type": "markdown",
   "metadata": {},
   "source": [
    "#### Plot the distribution of spaxels in the WHAN diagram\n",
    "The WHAN diagram, developed by Cid Fernandes et al. (2010, 2011), plots the H$\\alpha$ equivalent width (EW) against the [NII]6583Å/H$\\alpha$ line ratio, and can be used to distinguish between emission by star formation, AGN and hot, low-mass evolved stars."
   ]
  },
  {
   "cell_type": "code",
   "execution_count": 28,
   "metadata": {
    "scrolled": false
   },
   "outputs": [
    {
     "data": {
      "application/vnd.jupyter.widget-view+json": {
       "model_id": "b34400cb8c9147d9a7db55863331f29f",
       "version_major": 2,
       "version_minor": 0
      },
      "text/plain": [
       "Canvas(toolbar=Toolbar(toolitems=[('Home', 'Reset original view', 'home', 'home'), ('Back', 'Back to previous …"
      ]
     },
     "metadata": {},
     "output_type": "display_data"
    }
   ],
   "source": [
    "# Plot a 2D histogram showing the distribution of SAMI spaxels in the WHAN diagram\n",
    "_ = plot2dhistcontours(df=df,\n",
    "              col_x=f\"log N2 (total)\",\n",
    "              col_y=f\"log HALPHA EW (total)\",\n",
    "              col_z=\"count\", log_z=True,\n",
    "              plot_colorbar=True)"
   ]
  },
  {
   "cell_type": "code",
   "execution_count": 29,
   "metadata": {
    "scrolled": false
   },
   "outputs": [
    {
     "data": {
      "application/vnd.jupyter.widget-view+json": {
       "model_id": "d074e7a4c9dd491baa148488fba0bbfc",
       "version_major": 2,
       "version_minor": 0
      },
      "text/plain": [
       "Canvas(toolbar=Toolbar(toolitems=[('Home', 'Reset original view', 'home', 'home'), ('Back', 'Back to previous …"
      ]
     },
     "metadata": {},
     "output_type": "display_data"
    }
   ],
   "source": [
    "# Repeat the above, but colour by the median BPT classification\n",
    "_ = plot2dhistcontours(df=df,\n",
    "              col_x=f\"log N2 (total)\",\n",
    "              col_y=f\"log HALPHA EW (total)\",\n",
    "              col_z=\"BPT (numeric) (total)\", \n",
    "              plot_colorbar=True)"
   ]
  },
  {
   "cell_type": "code",
   "execution_count": 30,
   "metadata": {},
   "outputs": [
    {
     "data": {
      "application/vnd.jupyter.widget-view+json": {
       "model_id": "2dda2e317aca4dc88fda6604cabeeafc",
       "version_major": 2,
       "version_minor": 0
      },
      "text/plain": [
       "Canvas(toolbar=Toolbar(toolitems=[('Home', 'Reset original view', 'home', 'home'), ('Back', 'Back to previous …"
      ]
     },
     "metadata": {},
     "output_type": "display_data"
    }
   ],
   "source": [
    "# Repeat the above, but colour by the D4000Å break strength\n",
    "_ = plot2dhistcontours(df=df,\n",
    "              col_x=f\"log N2 (total)\",\n",
    "              col_y=f\"log HALPHA EW (total)\",\n",
    "              col_z=\"D4000\", \n",
    "              plot_colorbar=True)"
   ]
  },
  {
   "cell_type": "code",
   "execution_count": 31,
   "metadata": {},
   "outputs": [
    {
     "data": {
      "application/vnd.jupyter.widget-view+json": {
       "model_id": "f550ef35b1f54d3c9bcee55b2f3b6802",
       "version_major": 2,
       "version_minor": 0
      },
      "text/plain": [
       "Canvas(toolbar=Toolbar(toolitems=[('Home', 'Reset original view', 'home', 'home'), ('Back', 'Back to previous …"
      ]
     },
     "metadata": {},
     "output_type": "display_data"
    }
   ],
   "source": [
    "# If we like, we can use a different colourmap using the \"cmap\" keyword.\n",
    "# The contour colours can also be changed using the \"colors\" keyword, and the levels can be changed using \"levels\".\n",
    "# The axis limits can also be changed using the \"xmin\", \"xmax\", \"ymin\", \"ymax\" and \"vmin\", \"vmax\" keyword.\n",
    "# We can also change the number of histogram bins using the \"nbins\" keyword.\n",
    "import numpy as np\n",
    "_ = plot2dhistcontours(df=df,\n",
    "              col_x=f\"log N2 (total)\", xmin=-0.6, xmax=0.0,\n",
    "              col_y=f\"log HALPHA EW (total)\", \n",
    "              col_z=\"D4000\", vmin=1.1, vmax=2.0,\n",
    "              nbins=50, \n",
    "              cmap=\"cubehelix\", colors=\"yellow\", levels=np.logspace(0, 4, 5),\n",
    "              plot_colorbar=True)"
   ]
  },
  {
   "cell_type": "markdown",
   "metadata": {},
   "source": [
    "#### Plot optical diagnostic (\"BPT\") diagrams for the full sample, showing the distribution of spaxels in all SAMI galaxies"
   ]
  },
  {
   "cell_type": "code",
   "execution_count": 32,
   "metadata": {
    "scrolled": true
   },
   "outputs": [
    {
     "data": {
      "application/vnd.jupyter.widget-view+json": {
       "model_id": "1570827be199406f9d7713f7a8d24952",
       "version_major": 2,
       "version_minor": 0
      },
      "text/plain": [
       "Canvas(toolbar=Toolbar(toolitems=[('Home', 'Reset original view', 'home', 'home'), ('Back', 'Back to previous …"
      ]
     },
     "metadata": {},
     "output_type": "display_data"
    }
   ],
   "source": [
    "# Plot an empty BPT diagram\n",
    "fig, axs_bpt = plot_empty_BPT_diagram(nrows=1)\n",
    "\n",
    "# Plot 2D histograms showing the distribution of the entire sample\n",
    "for cc, col_x in enumerate([\"log N2\", \"log S2\", \"log O1\"]):\n",
    "    # Add BPT demarcation lines\n",
    "    plot_BPT_lines(ax=axs_bpt[cc], col_x=col_x)    \n",
    "\n",
    "    # Plot histograms showing distribution for whole sample\n",
    "    _ = plot2dhistcontours(df=df,\n",
    "                  col_x=f\"{col_x} (total)\",\n",
    "                  col_y=f\"log O3 (total)\",\n",
    "                  col_z=\"count\", log_z=True,\n",
    "                  ax=axs_bpt[cc],\n",
    "                  cax=None,\n",
    "                  plot_colorbar=True if cc==2 else False)"
   ]
  },
  {
   "cell_type": "markdown",
   "metadata": {},
   "source": [
    "#### Repeat the above, but colour the histograms by $\\sigma_{\\rm gas}$ for the narrowest component (component 1)"
   ]
  },
  {
   "cell_type": "code",
   "execution_count": 33,
   "metadata": {},
   "outputs": [
    {
     "data": {
      "application/vnd.jupyter.widget-view+json": {
       "model_id": "af11f29864c1432490e0463a64772f88",
       "version_major": 2,
       "version_minor": 0
      },
      "text/plain": [
       "Canvas(toolbar=Toolbar(toolitems=[('Home', 'Reset original view', 'home', 'home'), ('Back', 'Back to previous …"
      ]
     },
     "metadata": {},
     "output_type": "display_data"
    }
   ],
   "source": [
    "# Plot an empty BPT diagram\n",
    "fig, axs_bpt = plot_empty_BPT_diagram(nrows=1)\n",
    "\n",
    "# Plot 2D histograms showing the distribution of the entire sample\n",
    "for cc, col_x in enumerate([\"log N2\", \"log S2\", \"log O1\"]):\n",
    "    # Add BPT demarcation lines\n",
    "    plot_BPT_lines(ax=axs_bpt[cc], col_x=col_x)    \n",
    "\n",
    "    # Plot histograms showing distribution for whole sample\n",
    "    _ = plot2dhistcontours(df=df,\n",
    "                  col_x=f\"{col_x} (total)\",\n",
    "                  col_y=f\"log O3 (total)\",\n",
    "                  col_z=\"sigma_gas (component 1)\", \n",
    "                  vmax=150,  # Tweak the z-axis scaling to bring out details \n",
    "                  ax=axs_bpt[cc],\n",
    "                  cax=None,\n",
    "                  plot_colorbar=True if cc==2 else False)"
   ]
  },
  {
   "cell_type": "markdown",
   "metadata": {},
   "source": [
    "## Using `spaxelsleuth.plotting` to plot individual galaxies\n",
    "--- \n",
    "In the below cells, we will demonstrate how create plots based on individual SAMI galaxies using functions in `spaxelsleuth.plotting`.\n"
   ]
  },
  {
   "cell_type": "code",
   "execution_count": 34,
   "metadata": {},
   "outputs": [],
   "source": [
    "# Pick a galaxy, based on its GAMA ID. \n",
    "gal = 572402  # This one is my favourite."
   ]
  },
  {
   "cell_type": "code",
   "execution_count": 35,
   "metadata": {},
   "outputs": [],
   "source": [
    "# Select the rows in the DataFrame that belong to this galaxy.\n",
    "df_gal = df[df[\"catid\"] == gal]"
   ]
  },
  {
   "cell_type": "markdown",
   "metadata": {},
   "source": [
    "#### Plot the SDSS image \n",
    "----\n",
    "`plot_sdss_image()` retrieves an RGB SDSS image using the DR16 Image Cutout service and plots it, overlaid with the SAMI field-of-view plus a scale bar to show the physical scale at the galaxy's redshift. If the galaxy lies outside the SDSS footprint (which is the case for some cluster targets) then no image is displayed. "
   ]
  },
  {
   "cell_type": "code",
   "execution_count": 36,
   "metadata": {
    "scrolled": true
   },
   "outputs": [
    {
     "data": {
      "application/vnd.jupyter.widget-view+json": {
       "model_id": "3b3b35bb129b4ca0b212277a447167c0",
       "version_major": 2,
       "version_minor": 0
      },
      "text/plain": [
       "Canvas(toolbar=Toolbar(toolitems=[('Home', 'Reset original view', 'home', 'home'), ('Back', 'Back to previous …"
      ]
     },
     "metadata": {},
     "output_type": "display_data"
    },
    {
     "data": {
      "text/plain": [
       "Text(0.5, 1.0, 'GAMA572402')"
      ]
     },
     "execution_count": 36,
     "metadata": {},
     "output_type": "execute_result"
    }
   ],
   "source": [
    "from spaxelsleuth.plotting.sdssimg import plot_sdss_image\n",
    "ax = plot_sdss_image(df_gal)\n",
    "ax.set_title(f\"GAMA{gal}\")\n"
   ]
  },
  {
   "cell_type": "markdown",
   "metadata": {},
   "source": [
    "#### Plot 2D maps showing various quantities in this galaxy\n",
    "Given a DataFrame corresponding to a single galaxy, `plot2dmap()` reconstructs a 2D image of a specified column (e.g., velocity dispersion) from the rows and plots it. "
   ]
  },
  {
   "cell_type": "code",
   "execution_count": 37,
   "metadata": {
    "scrolled": false
   },
   "outputs": [
    {
     "data": {
      "application/vnd.jupyter.widget-view+json": {
       "model_id": "12c00c02a71343ccbaba3ad624777d40",
       "version_major": 2,
       "version_minor": 0
      },
      "text/plain": [
       "Canvas(toolbar=Toolbar(toolitems=[('Home', 'Reset original view', 'home', 'home'), ('Back', 'Back to previous …"
      ]
     },
     "metadata": {},
     "output_type": "display_data"
    }
   ],
   "source": [
    "from spaxelsleuth.plotting.plot2dmap import plot2dmap\n",
    "fig, ax = plot2dmap(df_gal=df_gal, col_z=\"BPT (numeric) (total)\", bin_type=\"default\", survey=\"sami\")\n"
   ]
  },
  {
   "cell_type": "code",
   "execution_count": 38,
   "metadata": {},
   "outputs": [
    {
     "data": {
      "application/vnd.jupyter.widget-view+json": {
       "model_id": "e705886a68d947fe859e592ea77845af",
       "version_major": 2,
       "version_minor": 0
      },
      "text/plain": [
       "Canvas(toolbar=Toolbar(toolitems=[('Home', 'Reset original view', 'home', 'home'), ('Back', 'Back to previous …"
      ]
     },
     "metadata": {},
     "output_type": "display_data"
    },
    {
     "name": "stderr",
     "output_type": "stream",
     "text": [
      "/home/u5708159/python/Modules/spaxelsleuth/plotting/plot2dmap.py:274: SettingWithCopyWarning: \n",
      "A value is trying to be set on a copy of a slice from a DataFrame.\n",
      "Try using .loc[row_indexer,col_indexer] = value instead\n",
      "\n",
      "See the caveats in the documentation: http://pandas.pydata.org/pandas-docs/stable/user_guide/indexing.html#returning-a-view-versus-a-copy\n",
      "  df_gal[\"x, y (pixels)\"] = list(zip(df_gal[\"x (projected, arcsec)\"] / as_per_px, df_gal[\"y (projected, arcsec)\"] / as_per_px))\n"
     ]
    }
   ],
   "source": [
    "# Playing with input arguments \n",
    "# As in plot2dhistcontours, the maximum colour scaling can be set using \"vmin\" and \"vmax\" and the colourmap can be changed using \"cmap\". \n",
    "# The quantity that is used to plot contours can be set to any column in the DataFrame using \"col_z_contours\" and the colours and linewidths can be configured using \"colours\" and \"linewidths\".\n",
    "_ = plot2dmap(df_gal=df_gal, col_z=\"v_gas (component 1)\", bin_type=\"default\", survey=\"sami\",\n",
    "              cmap=\"jet\", vmin=-50, vmax=+50,\n",
    "              col_z_contours=\"v_gas (component 1)\", levels=[-40, -20, 0, 20, 40], colors=\"pink\", linewidths=2.5)\n"
   ]
  },
  {
   "cell_type": "code",
   "execution_count": 39,
   "metadata": {},
   "outputs": [
    {
     "data": {
      "application/vnd.jupyter.widget-view+json": {
       "model_id": "115e82f434bb4bfcaea712aa1668f0e4",
       "version_major": 2,
       "version_minor": 0
      },
      "text/plain": [
       "Canvas(toolbar=Toolbar(toolitems=[('Home', 'Reset original view', 'home', 'home'), ('Back', 'Back to previous …"
      ]
     },
     "metadata": {},
     "output_type": "display_data"
    }
   ],
   "source": [
    "# Slightly more advanced example: plot the gas velocity for each individual component.\n",
    "fig, axs = plt.subplots(nrows=1, ncols=3, figsize=(10, 4))\n",
    "fig.subplots_adjust(wspace=0)\n",
    "\n",
    "for nn in range(3):\n",
    "    # Pass the axis to plot_2dmap()\n",
    "    fig, ax = plot2dmap(df_gal=df_gal, col_z=f\"v_gas (component {nn + 1})\", bin_type=\"default\", survey=\"sami\", \n",
    "                        vmin=-50, vmax=+50,\n",
    "                        ax=axs[nn], plot_colorbar=True if nn == 2 else False, show_title=True if nn == 1 else False)\n",
    "\n",
    "# In plot2dmap, the existing axis has to be destroyed and replaced with an identical axis with the correct WCS. Therefore, we need to update our list of axes.\n",
    "axs_new = fig.get_axes()[:-1]\n",
    "\n",
    "# Turn off the y-axis ticks on axes 2 and 3\n",
    "for ax in axs_new[1:]:\n",
    "    lon = ax.coords[0]\n",
    "    lat = ax.coords[1]\n",
    "    lat.set_ticks_visible(False)\n",
    "    lat.set_ticklabel_visible(False)\n"
   ]
  },
  {
   "cell_type": "markdown",
   "metadata": {},
   "source": [
    "#### Scatter plots \n",
    "Create a BPT diagram with 2D histograms and contours showing the distribution in the full sample, with the data points from this galaxy overlaid on top using a scatter plot."
   ]
  },
  {
   "cell_type": "code",
   "execution_count": 40,
   "metadata": {},
   "outputs": [
    {
     "data": {
      "application/vnd.jupyter.widget-view+json": {
       "model_id": "fbfacde804dc4df2ad5e26bb85bc2e95",
       "version_major": 2,
       "version_minor": 0
      },
      "text/plain": [
       "Canvas(toolbar=Toolbar(toolitems=[('Home', 'Reset original view', 'home', 'home'), ('Back', 'Back to previous …"
      ]
     },
     "metadata": {},
     "output_type": "display_data"
    },
    {
     "data": {
      "text/plain": [
       "[Text(0, 0.5, ''), Text(0, 0.5, '')]"
      ]
     },
     "execution_count": 40,
     "metadata": {},
     "output_type": "execute_result"
    }
   ],
   "source": [
    "# Plot an empty BPT diagram\n",
    "fig, axs_bpt = plot_empty_BPT_diagram(nrows=1)\n",
    "\n",
    "# Plot 2D histograms showing the distribution of the entire sample\n",
    "for cc, col_x in enumerate([\"log N2\", \"log S2\", \"log O1\"]):\n",
    "    # Add BPT demarcation lines\n",
    "    plot_BPT_lines(ax=axs_bpt[cc], col_x=col_x)    \n",
    "\n",
    "    # Plot histograms showing distribution for whole sample\n",
    "    _ = plot2dhistcontours(df=df,\n",
    "                  col_x=f\"{col_x} (total)\",\n",
    "                  col_y=f\"log O3 (total)\",\n",
    "                  col_z=\"count\", log_z=True,\n",
    "                  cmap=\"bone_r\", alpha=0.4,\n",
    "                  ax=axs_bpt[cc],\n",
    "                  plot_colorbar=False)\n",
    "    \n",
    "    # Scatter plot for this galaxy\n",
    "    _ = plot2dscatter(df=df_gal, \n",
    "                      col_x=f\"{col_x} (total)\",\n",
    "                      col_y=f\"log O3 (total)\",\n",
    "                      col_z=f\"v_gas (component 2)\",\n",
    "                      ax=axs_bpt[cc],\n",
    "                      plot_colorbar=True if cc==2 else False)\n",
    "    \n",
    "# Turn of y-axis labels \n",
    "[ax.set_ylabel(\"\") for ax in axs_bpt[1:]]"
   ]
  },
  {
   "cell_type": "code",
   "execution_count": 41,
   "metadata": {},
   "outputs": [
    {
     "name": "stdout",
     "output_type": "stream",
     "text": [
      "Object `make_sami_df` not found.\n"
     ]
    }
   ],
   "source": [
    "make_sami_df?"
   ]
  },
  {
   "cell_type": "code",
   "execution_count": null,
   "metadata": {},
   "outputs": [],
   "source": []
  }
 ],
 "metadata": {
  "kernelspec": {
   "display_name": "Python 3",
   "language": "python",
   "name": "python3"
  },
  "language_info": {
   "codemirror_mode": {
    "name": "ipython",
    "version": 3
   },
   "file_extension": ".py",
   "mimetype": "text/x-python",
   "name": "python",
   "nbconvert_exporter": "python",
   "pygments_lexer": "ipython3",
   "version": "3.7.4"
  }
 },
 "nbformat": 4,
 "nbformat_minor": 2
}
