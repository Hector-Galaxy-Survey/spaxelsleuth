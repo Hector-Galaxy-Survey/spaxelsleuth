{
 "cells": [
  {
   "attachments": {},
   "cell_type": "markdown",
   "metadata": {},
   "source": [
    "# Test plotting functions\n",
    "---\n",
    "This notebook: testing my changes to all of the files and functions in `spaxelsleuth.plotting`."
   ]
  },
  {
   "cell_type": "code",
   "execution_count": null,
   "metadata": {},
   "outputs": [],
   "source": [
    "DEBUG = True"
   ]
  },
  {
   "attachments": {},
   "cell_type": "markdown",
   "metadata": {},
   "source": [
    "### Load the SAMI DataFrame"
   ]
  },
  {
   "cell_type": "code",
   "execution_count": null,
   "metadata": {
    "scrolled": false
   },
   "outputs": [],
   "source": [
    "from spaxelsleuth.loaddata.sami import load_sami_df\n",
    "df = load_sami_df(ncomponents=\"recom\",\n",
    "                  bin_type=\"default\",\n",
    "                  eline_SNR_min=5,\n",
    "                  correct_extinction=True,\n",
    "                  debug=DEBUG)\n"
   ]
  },
  {
   "cell_type": "markdown",
   "metadata": {},
   "source": [
    "## Using `spaxelsleuth.plotting` to plot the whole SAMI sample \n",
    "--- \n",
    "In the below cells, we will demonstrate how to use various functions in `spaxelsleuth.plotting` to make different kinds of plots useful for analysing the entire SAMI data set."
   ]
  },
  {
   "cell_type": "code",
   "execution_count": null,
   "metadata": {},
   "outputs": [],
   "source": [
    "%matplotlib widget"
   ]
  },
  {
   "cell_type": "code",
   "execution_count": null,
   "metadata": {},
   "outputs": [],
   "source": [
    "from spaxelsleuth.plotting.plottools import plot_empty_BPT_diagram, plot_BPT_lines\n",
    "from spaxelsleuth.plotting.plotgalaxies import plot2dhistcontours, plot2dscatter"
   ]
  },
  {
   "cell_type": "markdown",
   "metadata": {},
   "source": [
    "#### Plot the distribution of spaxels in the WHAN diagram\n",
    "The WHAN diagram, developed by Cid Fernandes et al. (2010, 2011), plots the H$\\alpha$ equivalent width (EW) against the [NII]6583Å/H$\\alpha$ line ratio, and can be used to distinguish between emission by star formation, AGN and hot, low-mass evolved stars."
   ]
  },
  {
   "cell_type": "code",
   "execution_count": 60,
   "metadata": {
    "scrolled": false
   },
   "outputs": [],
   "source": [
    "# Plot a 2D histogram showing the distribution of SAMI spaxels in the WHAN diagram\n",
    "_ = plot2dhistcontours(df=df,\n",
    "              col_x=f\"log N2 (total)\",\n",
    "              col_y=f\"log HALPHA EW (total)\",\n",
    "              col_z=\"count\", log_z=True, vmax=None,\n",
    "              plot_colorbar=True)"
   ]
  },
  {
   "cell_type": "code",
   "execution_count": null,
   "metadata": {
    "scrolled": false
   },
   "outputs": [],
   "source": [
    "# Repeat the above, but \n",
    "# colour by the median BPT classification\n",
    "_ = plot2dhistcontours(df=df,\n",
    "              col_x=f\"log N2 (total)\",\n",
    "              col_y=f\"log HALPHA EW (total)\",\n",
    "              col_z=\"BPT (numeric) (total)\", \n",
    "              plot_colorbar=True)"
   ]
  },
  {
   "cell_type": "code",
   "execution_count": null,
   "metadata": {},
   "outputs": [],
   "source": [
    "# Repeat the above, but colour by the D4000Å break strength\n",
    "_ = plot2dhistcontours(df=df,\n",
    "              col_x=f\"log N2 (total)\",\n",
    "              col_y=f\"log HALPHA EW (total)\",\n",
    "              col_z=\"D4000\", \n",
    "              plot_colorbar=True)"
   ]
  },
  {
   "cell_type": "code",
   "execution_count": null,
   "metadata": {},
   "outputs": [],
   "source": [
    "# If we like, we can use a different colourmap using the \"cmap\" keyword.\n",
    "# The contour colours can also be changed using the \"colors\" keyword, and the levels can be changed using \"levels\".\n",
    "# The axis limits can also be changed using the \"xmin\", \"xmax\", \"ymin\", \"ymax\" and \"vmin\", \"vmax\" keyword.\n",
    "# We can also change the number of histogram bins using the \"nbins\" keyword.\n",
    "import numpy as np\n",
    "_ = plot2dhistcontours(df=df,\n",
    "              col_x=f\"log N2 (total)\", xmin=-0.6, xmax=0.0,\n",
    "              col_y=f\"log HALPHA EW (total)\", \n",
    "              col_z=\"D4000\", vmin=1.1, vmax=2.0,\n",
    "              nbins=50, \n",
    "              cmap=\"cubehelix\", colors=\"yellow\", levels=np.logspace(0, 4, 5),\n",
    "              plot_colorbar=True)"
   ]
  },
  {
   "cell_type": "markdown",
   "metadata": {},
   "source": [
    "#### Plot optical diagnostic (\"BPT\") diagrams for the full sample, showing the distribution of spaxels in all SAMI galaxies"
   ]
  },
  {
   "cell_type": "code",
   "execution_count": null,
   "metadata": {
    "scrolled": true
   },
   "outputs": [],
   "source": [
    "# Plot an empty BPT diagram\n",
    "fig, axs_bpt = plot_empty_BPT_diagram(nrows=1)\n",
    "\n",
    "# Plot 2D histograms showing the distribution of the entire sample\n",
    "for cc, col_x in enumerate([\"log N2\", \"log S2\", \"log O1\"]):\n",
    "    # Add BPT demarcation lines\n",
    "    plot_BPT_lines(ax=axs_bpt[cc], col_x=col_x)    \n",
    "\n",
    "    # Plot histograms showing distribution for whole sample\n",
    "    _ = plot2dhistcontours(df=df,\n",
    "                  col_x=f\"{col_x} (total)\",\n",
    "                  col_y=f\"log O3 (total)\",\n",
    "                  col_z=\"count\", log_z=True,\n",
    "                  ax=axs_bpt[cc],\n",
    "                  cax=None,\n",
    "                  plot_colorbar=True if cc==2 else False)"
   ]
  },
  {
   "cell_type": "markdown",
   "metadata": {},
   "source": [
    "#### Repeat the above, but colour the histograms by $\\sigma_{\\rm gas}$ for the narrowest component (component 1)"
   ]
  },
  {
   "cell_type": "code",
   "execution_count": null,
   "metadata": {},
   "outputs": [],
   "source": [
    "# Plot an empty BPT diagram\n",
    "fig, axs_bpt = plot_empty_BPT_diagram(nrows=1)\n",
    "\n",
    "# Plot 2D histograms showing the distribution of the entire sample\n",
    "for cc, col_x in enumerate([\"log N2\", \"log S2\", \"log O1\"]):\n",
    "    # Add BPT demarcation lines\n",
    "    plot_BPT_lines(ax=axs_bpt[cc], col_x=col_x)    \n",
    "\n",
    "    # Plot histograms showing distribution for whole sample\n",
    "    _ = plot2dhistcontours(df=df,\n",
    "                  col_x=f\"{col_x} (total)\",\n",
    "                  col_y=f\"log O3 (total)\",\n",
    "                  col_z=\"sigma_gas (component 1)\", \n",
    "                  vmax=150,  # Tweak the z-axis scaling to bring out details \n",
    "                  ax=axs_bpt[cc],\n",
    "                  cax=None,\n",
    "                  plot_colorbar=True if cc==2 else False)"
   ]
  },
  {
   "cell_type": "markdown",
   "metadata": {},
   "source": [
    "## Using `spaxelsleuth.plotting` to plot individual galaxies\n",
    "--- \n",
    "In the below cells, we will demonstrate how create plots based on individual SAMI galaxies using functions in `spaxelsleuth.plotting`.\n"
   ]
  },
  {
   "cell_type": "code",
   "execution_count": null,
   "metadata": {},
   "outputs": [],
   "source": [
    "# Pick a galaxy, based on its GAMA ID. \n",
    "gal = 572402  # This one is my favourite."
   ]
  },
  {
   "attachments": {},
   "cell_type": "markdown",
   "metadata": {},
   "source": [
    "#### Test `plot2dhist`"
   ]
  },
  {
   "cell_type": "code",
   "execution_count": null,
   "metadata": {},
   "outputs": [],
   "source": [
    "from spaxelsleuth.plotting.plotgalaxies import plot2dhist\n",
    "import matplotlib.pyplot as plt\n",
    "\n",
    "col_x = \"log N2 (total)\"\n",
    "col_y = \"log HALPHA EW (total)\"\n",
    "col_z = \"count\"\n",
    "fig, ax = plt.subplots()\n",
    "\n",
    "plot2dhistcontours(df, col_x, col_y, col_z, ax, \n",
    "               vmin=None, vmax=None,\n",
    "               xmin=None, xmax=None,\n",
    "               ymin=None, ymax=None,\n",
    "               nbins=100, alpha=1.0, cmap=None)"
   ]
  },
  {
   "attachments": {},
   "cell_type": "markdown",
   "metadata": {},
   "source": [
    "#### Test `plot_sdss_image`"
   ]
  },
  {
   "cell_type": "code",
   "execution_count": null,
   "metadata": {
    "scrolled": true
   },
   "outputs": [],
   "source": [
    "from spaxelsleuth.plotting.sdssimg import plot_sdss_image\n",
    "ax = plot_sdss_image(df, gal)\n",
    "ax.set_title(f\"{gal}\")"
   ]
  },
  {
   "attachments": {},
   "cell_type": "markdown",
   "metadata": {},
   "source": [
    "#### Test `plot2dmap` "
   ]
  },
  {
   "cell_type": "code",
   "execution_count": null,
   "metadata": {
    "scrolled": false
   },
   "outputs": [],
   "source": [
    "from spaxelsleuth.plotting.plot2dmap import plot2dmap\n",
    "fig, ax = plot2dmap(df=df, gal=gal, col_z=\"BPT (numeric) (total)\", bin_type=\"default\", survey=\"sami\")\n"
   ]
  },
  {
   "cell_type": "code",
   "execution_count": null,
   "metadata": {},
   "outputs": [],
   "source": [
    "# Playing with input arguments \n",
    "# As in plot2dhistcontours, the maximum colour scaling can be set using \"vmin\" and \"vmax\" and the colourmap can be changed using \"cmap\". \n",
    "# The quantity that is used to plot contours can be set to any column in the DataFrame using \"col_z_contours\" and the colours and linewidths can be configured using \"colours\" and \"linewidths\".\n",
    "_ = plot2dmap(df=df, gal=gal, col_z=\"v_gas (component 1)\", bin_type=\"default\", survey=\"sami\",\n",
    "              cmap=\"jet\", vmin=-50, vmax=+50,\n",
    "              col_z_contours=\"v_gas (component 1)\", levels=[-40, -20, 0, 20, 40], colors=\"pink\", linewidths=2.5)\n"
   ]
  },
  {
   "cell_type": "code",
   "execution_count": null,
   "metadata": {},
   "outputs": [],
   "source": [
    "# Slightly more advanced example: plot the gas velocity for each individual component.\n",
    "fig, axs = plt.subplots(nrows=1, ncols=3, figsize=(10, 4))\n",
    "fig.subplots_adjust(wspace=0)\n",
    "\n",
    "for nn in range(3):\n",
    "    # Pass the axis to plot_2dmap()\n",
    "    fig, ax = plot2dmap(df_gal=df_gal, col_z=f\"v_gas (component {nn + 1})\", bin_type=\"default\", survey=\"sami\", \n",
    "                        vmin=-100, vmax=+100,\n",
    "                        ax=axs[nn], plot_colorbar=True if nn == 2 else False, show_title=True if nn == 1 else False)\n",
    "\n",
    "# In plot2dmap, the existing axis has to be destroyed and replaced with an identical axis with the correct WCS. Therefore, we need to update our list of axes.\n",
    "axs_new = fig.get_axes()[:-1]\n",
    "\n",
    "# Turn off the y-axis ticks on axes 2 and 3\n",
    "for ax in axs_new[1:]:\n",
    "    lon = ax.coords[0]\n",
    "    lat = ax.coords[1]\n",
    "    lat.set_ticks_visible(False)\n",
    "    lat.set_ticklabel_visible(False)\n"
   ]
  },
  {
   "cell_type": "markdown",
   "metadata": {},
   "source": [
    "#### Scatter plots \n",
    "Create a BPT diagram with 2D histograms and contours showing the distribution in the full sample, with the data points from this galaxy overlaid on top using a scatter plot."
   ]
  },
  {
   "cell_type": "code",
   "execution_count": null,
   "metadata": {},
   "outputs": [],
   "source": [
    "# Plot an empty BPT diagram\n",
    "fig, axs_bpt = plot_empty_BPT_diagram(nrows=1)\n",
    "\n",
    "# Plot 2D histograms showing the distribution of the entire sample\n",
    "for cc, col_x in enumerate([\"log N2\", \"log S2\", \"log O1\"]):\n",
    "    # Add BPT demarcation lines\n",
    "    plot_BPT_lines(ax=axs_bpt[cc], col_x=col_x)    \n",
    "\n",
    "    # Plot histograms showing distribution for whole sample\n",
    "    _ = plot2dhistcontours(df=df,\n",
    "                  col_x=f\"{col_x} (total)\",\n",
    "                  col_y=f\"log O3 (total)\",\n",
    "                  col_z=\"count\", log_z=True,\n",
    "                  cmap=\"bone_r\", alpha=0.4,\n",
    "                  ax=axs_bpt[cc],\n",
    "                  plot_colorbar=False)\n",
    "    \n",
    "    # Scatter plot for this galaxy\n",
    "    _ = plot2dscatter(df=df_gal, \n",
    "                      col_x=f\"{col_x} (total)\",\n",
    "                      col_y=f\"log O3 (total)\",\n",
    "                      col_z=f\"v_gas (component 2)\",\n",
    "                      ax=axs_bpt[cc],\n",
    "                      vmin=-100, vmax=+100,\n",
    "                      plot_colorbar=True if cc==2 else False)\n",
    "    \n",
    "# Turn of y-axis labels \n",
    "[ax.set_ylabel(\"\") for ax in axs_bpt[1:]]"
   ]
  },
  {
   "cell_type": "code",
   "execution_count": null,
   "metadata": {},
   "outputs": [],
   "source": []
  }
 ],
 "metadata": {
  "kernelspec": {
   "display_name": "py37",
   "language": "python",
   "name": "python3"
  },
  "language_info": {
   "codemirror_mode": {
    "name": "ipython",
    "version": 3
   },
   "file_extension": ".py",
   "mimetype": "text/x-python",
   "name": "python",
   "nbconvert_exporter": "python",
   "pygments_lexer": "ipython3",
   "version": "3.7.11"
  },
  "vscode": {
   "interpreter": {
    "hash": "f4fec93325f50ebba2f8ccff2d43fa137f943e5da2ec5ed795e172506ecf899e"
   }
  }
 },
 "nbformat": 4,
 "nbformat_minor": 2
}
